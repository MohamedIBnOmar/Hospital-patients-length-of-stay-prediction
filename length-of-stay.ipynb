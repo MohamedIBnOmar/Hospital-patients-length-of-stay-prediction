{
 "cells": [
  {
   "cell_type": "code",
   "execution_count": 1,
   "id": "6e11dfba",
   "metadata": {
    "_cell_guid": "b1076dfc-b9ad-4769-8c92-a6c4dae69d19",
    "_kg_hide-output": true,
    "_uuid": "8f2839f25d086af736a60e9eeb907d3b93b6e0e5",
    "execution": {
     "iopub.execute_input": "2023-02-21T19:32:19.123854Z",
     "iopub.status.busy": "2023-02-21T19:32:19.122877Z",
     "iopub.status.idle": "2023-02-21T19:32:19.144636Z",
     "shell.execute_reply": "2023-02-21T19:32:19.143063Z"
    },
    "id": "01e7d938",
    "outputId": "0b7ce97c-4981-40f1-f4ca-f785ce490c69",
    "papermill": {
     "duration": 0.100761,
     "end_time": "2023-02-21T19:32:19.147620",
     "exception": false,
     "start_time": "2023-02-21T19:32:19.046859",
     "status": "completed"
    },
    "tags": []
   },
   "outputs": [
    {
     "name": "stdout",
     "output_type": "stream",
     "text": [
      "/kaggle/input/length-of-stay-prediction/Hospital_Inpatient_Discharges__SPARCS_De-Identified___2015.csv\n"
     ]
    }
   ],
   "source": [
    "# This Python 3 environment comes with many helpful analytics libraries installed\n",
    "# It is defined by the kaggle/python Docker image: https://github.com/kaggle/docker-python\n",
    "# For example, here's several helpful packages to load\n",
    "\n",
    "import numpy as np # linear algebra\n",
    "import pandas as pd # data processing, CSV file I/O (e.g. pd.read_csv)\n",
    "\n",
    "# Input data files are available in the read-only \"../input/\" directory\n",
    "# For example, running this (by clicking run or pressing Shift+Enter) will list all files under the input directory\n",
    "\n",
    "import os\n",
    "for dirname, _, filenames in os.walk('/kaggle/input'):\n",
    "    for filename in filenames:\n",
    "        print(os.path.join(dirname, filename))\n",
    "\n",
    "# You can write up to 20GB to the current directory (/kaggle/working/) that gets preserved as output when you create a version using \"Save & Run All\" \n",
    "# You can also write temporary files to /kaggle/temp/, but they won't be saved outside of the current session"
   ]
  },
  {
   "cell_type": "code",
   "execution_count": 2,
   "id": "89183c17",
   "metadata": {
    "execution": {
     "iopub.execute_input": "2023-02-21T19:32:19.285214Z",
     "iopub.status.busy": "2023-02-21T19:32:19.284801Z",
     "iopub.status.idle": "2023-02-21T19:32:20.552705Z",
     "shell.execute_reply": "2023-02-21T19:32:20.551281Z"
    },
    "papermill": {
     "duration": 1.339314,
     "end_time": "2023-02-21T19:32:20.556387",
     "exception": false,
     "start_time": "2023-02-21T19:32:19.217073",
     "status": "completed"
    },
    "tags": []
   },
   "outputs": [],
   "source": [
    "from sklearn.metrics import r2_score\n",
    "from sklearn.metrics import mean_absolute_error\n",
    "from sklearn.metrics import mean_squared_error\n",
    "from sklearn.linear_model import LinearRegression\n",
    "from sklearn import linear_model\n",
    "from sklearn.linear_model import Ridge\n",
    "from sklearn.model_selection import train_test_split"
   ]
  },
  {
   "cell_type": "code",
   "execution_count": 3,
   "id": "cfe5b5c8",
   "metadata": {
    "execution": {
     "iopub.execute_input": "2023-02-21T19:32:20.701557Z",
     "iopub.status.busy": "2023-02-21T19:32:20.700717Z",
     "iopub.status.idle": "2023-02-21T19:32:51.187379Z",
     "shell.execute_reply": "2023-02-21T19:32:51.185948Z"
    },
    "id": "da17e6a0",
    "outputId": "1cca2cbe-77e1-44d4-aade-4c80c19adc10",
    "papermill": {
     "duration": 30.557512,
     "end_time": "2023-02-21T19:32:51.190239",
     "exception": false,
     "start_time": "2023-02-21T19:32:20.632727",
     "status": "completed"
    },
    "tags": []
   },
   "outputs": [
    {
     "name": "stderr",
     "output_type": "stream",
     "text": [
      "/opt/conda/lib/python3.7/site-packages/IPython/core/interactiveshell.py:3552: DtypeWarning: Columns (10) have mixed types.Specify dtype option on import or set low_memory=False.\n",
      "  exec(code_obj, self.user_global_ns, self.user_ns)\n"
     ]
    }
   ],
   "source": [
    "df=pd.read_csv(\"/kaggle/input/length-of-stay-prediction/Hospital_Inpatient_Discharges__SPARCS_De-Identified___2015.csv\")"
   ]
  },
  {
   "cell_type": "code",
   "execution_count": 4,
   "id": "0136c638",
   "metadata": {
    "execution": {
     "iopub.execute_input": "2023-02-21T19:32:51.324925Z",
     "iopub.status.busy": "2023-02-21T19:32:51.324483Z",
     "iopub.status.idle": "2023-02-21T19:32:51.487917Z",
     "shell.execute_reply": "2023-02-21T19:32:51.486568Z"
    },
    "id": "c3fe608a",
    "outputId": "f7d09ecb-ff0b-4f35-9a23-bf5bc25da431",
    "papermill": {
     "duration": 0.234802,
     "end_time": "2023-02-21T19:32:51.490552",
     "exception": false,
     "start_time": "2023-02-21T19:32:51.255750",
     "status": "completed"
    },
    "tags": []
   },
   "outputs": [
    {
     "data": {
      "text/plain": [
       "Mount Sinai Hospital                                              55874\n",
       "North Shore University Hospital                                   47664\n",
       "New York Presbyterian Hospital - Columbia Presbyterian Center     47495\n",
       "New York Presbyterian Hospital - New York Weill Cornell Center    43148\n",
       "Montefiore Medical Center - Henry & Lucy Moses Div                42694\n",
       "                                                                  ...  \n",
       "Cuba Memorial Hospital Inc                                           61\n",
       "Catskill Regional Medical Center - G. Hermann Site                   50\n",
       "Monroe Community Hospital                                            24\n",
       "Westfield Memorial Hospital Inc                                      11\n",
       "Albany Medical Center - South Clinical Campus                         7\n",
       "Name: Facility Name, Length: 224, dtype: int64"
      ]
     },
     "execution_count": 4,
     "metadata": {},
     "output_type": "execute_result"
    }
   ],
   "source": [
    "df[\"Facility Name\"].value_counts()"
   ]
  },
  {
   "cell_type": "code",
   "execution_count": 5,
   "id": "f602cc5b",
   "metadata": {
    "execution": {
     "iopub.execute_input": "2023-02-21T19:32:51.624653Z",
     "iopub.status.busy": "2023-02-21T19:32:51.623958Z",
     "iopub.status.idle": "2023-02-21T19:32:51.659702Z",
     "shell.execute_reply": "2023-02-21T19:32:51.658737Z"
    },
    "id": "d72e4093",
    "outputId": "112104fc-6e95-4c3c-816d-2b89ae0a0bc4",
    "papermill": {
     "duration": 0.104002,
     "end_time": "2023-02-21T19:32:51.661925",
     "exception": false,
     "start_time": "2023-02-21T19:32:51.557923",
     "status": "completed"
    },
    "tags": []
   },
   "outputs": [
    {
     "data": {
      "text/html": [
       "<div>\n",
       "<style scoped>\n",
       "    .dataframe tbody tr th:only-of-type {\n",
       "        vertical-align: middle;\n",
       "    }\n",
       "\n",
       "    .dataframe tbody tr th {\n",
       "        vertical-align: top;\n",
       "    }\n",
       "\n",
       "    .dataframe thead th {\n",
       "        text-align: right;\n",
       "    }\n",
       "</style>\n",
       "<table border=\"1\" class=\"dataframe\">\n",
       "  <thead>\n",
       "    <tr style=\"text-align: right;\">\n",
       "      <th></th>\n",
       "      <th>Health Service Area</th>\n",
       "      <th>Hospital County</th>\n",
       "      <th>Operating Certificate Number</th>\n",
       "      <th>Facility Id</th>\n",
       "      <th>Facility Name</th>\n",
       "      <th>Age Group</th>\n",
       "      <th>Zip Code - 3 digits</th>\n",
       "      <th>Gender</th>\n",
       "      <th>Race</th>\n",
       "      <th>Ethnicity</th>\n",
       "      <th>...</th>\n",
       "      <th>APR Risk of Mortality</th>\n",
       "      <th>APR Medical Surgical Description</th>\n",
       "      <th>Payment Typology 1</th>\n",
       "      <th>Payment Typology 2</th>\n",
       "      <th>Payment Typology 3</th>\n",
       "      <th>Birth Weight</th>\n",
       "      <th>Abortion Edit Indicator</th>\n",
       "      <th>Emergency Department Indicator</th>\n",
       "      <th>Total Charges</th>\n",
       "      <th>Total Costs</th>\n",
       "    </tr>\n",
       "  </thead>\n",
       "  <tbody>\n",
       "    <tr>\n",
       "      <th>0</th>\n",
       "      <td>Western NY</td>\n",
       "      <td>Allegany</td>\n",
       "      <td>226700.0</td>\n",
       "      <td>37.0</td>\n",
       "      <td>Cuba Memorial Hospital Inc</td>\n",
       "      <td>70 or Older</td>\n",
       "      <td>147</td>\n",
       "      <td>F</td>\n",
       "      <td>White</td>\n",
       "      <td>Not Span/Hispanic</td>\n",
       "      <td>...</td>\n",
       "      <td>Minor</td>\n",
       "      <td>Medical</td>\n",
       "      <td>Medicare</td>\n",
       "      <td>Private Health Insurance</td>\n",
       "      <td>NaN</td>\n",
       "      <td>0</td>\n",
       "      <td>N</td>\n",
       "      <td>Y</td>\n",
       "      <td>5333.90</td>\n",
       "      <td>4818.42</td>\n",
       "    </tr>\n",
       "    <tr>\n",
       "      <th>1</th>\n",
       "      <td>Western NY</td>\n",
       "      <td>Allegany</td>\n",
       "      <td>226700.0</td>\n",
       "      <td>37.0</td>\n",
       "      <td>Cuba Memorial Hospital Inc</td>\n",
       "      <td>70 or Older</td>\n",
       "      <td>147</td>\n",
       "      <td>F</td>\n",
       "      <td>White</td>\n",
       "      <td>Not Span/Hispanic</td>\n",
       "      <td>...</td>\n",
       "      <td>Moderate</td>\n",
       "      <td>Medical</td>\n",
       "      <td>Medicare</td>\n",
       "      <td>NaN</td>\n",
       "      <td>NaN</td>\n",
       "      <td>0</td>\n",
       "      <td>N</td>\n",
       "      <td>Y</td>\n",
       "      <td>4865.99</td>\n",
       "      <td>4588.78</td>\n",
       "    </tr>\n",
       "    <tr>\n",
       "      <th>2</th>\n",
       "      <td>Western NY</td>\n",
       "      <td>Allegany</td>\n",
       "      <td>226700.0</td>\n",
       "      <td>37.0</td>\n",
       "      <td>Cuba Memorial Hospital Inc</td>\n",
       "      <td>70 or Older</td>\n",
       "      <td>147</td>\n",
       "      <td>F</td>\n",
       "      <td>White</td>\n",
       "      <td>Not Span/Hispanic</td>\n",
       "      <td>...</td>\n",
       "      <td>Minor</td>\n",
       "      <td>Medical</td>\n",
       "      <td>Medicare</td>\n",
       "      <td>Private Health Insurance</td>\n",
       "      <td>NaN</td>\n",
       "      <td>0</td>\n",
       "      <td>N</td>\n",
       "      <td>Y</td>\n",
       "      <td>5901.54</td>\n",
       "      <td>5559.56</td>\n",
       "    </tr>\n",
       "    <tr>\n",
       "      <th>3</th>\n",
       "      <td>Western NY</td>\n",
       "      <td>Allegany</td>\n",
       "      <td>226700.0</td>\n",
       "      <td>37.0</td>\n",
       "      <td>Cuba Memorial Hospital Inc</td>\n",
       "      <td>50 to 69</td>\n",
       "      <td>147</td>\n",
       "      <td>F</td>\n",
       "      <td>White</td>\n",
       "      <td>Not Span/Hispanic</td>\n",
       "      <td>...</td>\n",
       "      <td>Minor</td>\n",
       "      <td>Medical</td>\n",
       "      <td>Medicare</td>\n",
       "      <td>NaN</td>\n",
       "      <td>NaN</td>\n",
       "      <td>0</td>\n",
       "      <td>N</td>\n",
       "      <td>Y</td>\n",
       "      <td>3619.08</td>\n",
       "      <td>3567.25</td>\n",
       "    </tr>\n",
       "    <tr>\n",
       "      <th>4</th>\n",
       "      <td>Western NY</td>\n",
       "      <td>Allegany</td>\n",
       "      <td>226700.0</td>\n",
       "      <td>37.0</td>\n",
       "      <td>Cuba Memorial Hospital Inc</td>\n",
       "      <td>70 or Older</td>\n",
       "      <td>147</td>\n",
       "      <td>M</td>\n",
       "      <td>White</td>\n",
       "      <td>Not Span/Hispanic</td>\n",
       "      <td>...</td>\n",
       "      <td>Moderate</td>\n",
       "      <td>Medical</td>\n",
       "      <td>Medicare</td>\n",
       "      <td>Blue Cross/Blue Shield</td>\n",
       "      <td>Private Health Insurance</td>\n",
       "      <td>0</td>\n",
       "      <td>N</td>\n",
       "      <td>Y</td>\n",
       "      <td>3185.87</td>\n",
       "      <td>3167.89</td>\n",
       "    </tr>\n",
       "  </tbody>\n",
       "</table>\n",
       "<p>5 rows × 34 columns</p>\n",
       "</div>"
      ],
      "text/plain": [
       "  Health Service Area Hospital County  Operating Certificate Number  \\\n",
       "0          Western NY        Allegany                      226700.0   \n",
       "1          Western NY        Allegany                      226700.0   \n",
       "2          Western NY        Allegany                      226700.0   \n",
       "3          Western NY        Allegany                      226700.0   \n",
       "4          Western NY        Allegany                      226700.0   \n",
       "\n",
       "   Facility Id               Facility Name    Age Group Zip Code - 3 digits  \\\n",
       "0         37.0  Cuba Memorial Hospital Inc  70 or Older                 147   \n",
       "1         37.0  Cuba Memorial Hospital Inc  70 or Older                 147   \n",
       "2         37.0  Cuba Memorial Hospital Inc  70 or Older                 147   \n",
       "3         37.0  Cuba Memorial Hospital Inc     50 to 69                 147   \n",
       "4         37.0  Cuba Memorial Hospital Inc  70 or Older                 147   \n",
       "\n",
       "  Gender   Race          Ethnicity  ... APR Risk of Mortality  \\\n",
       "0      F  White  Not Span/Hispanic  ...                 Minor   \n",
       "1      F  White  Not Span/Hispanic  ...              Moderate   \n",
       "2      F  White  Not Span/Hispanic  ...                 Minor   \n",
       "3      F  White  Not Span/Hispanic  ...                 Minor   \n",
       "4      M  White  Not Span/Hispanic  ...              Moderate   \n",
       "\n",
       "  APR Medical Surgical Description Payment Typology 1  \\\n",
       "0                          Medical           Medicare   \n",
       "1                          Medical           Medicare   \n",
       "2                          Medical           Medicare   \n",
       "3                          Medical           Medicare   \n",
       "4                          Medical           Medicare   \n",
       "\n",
       "         Payment Typology 2        Payment Typology 3 Birth Weight  \\\n",
       "0  Private Health Insurance                       NaN            0   \n",
       "1                       NaN                       NaN            0   \n",
       "2  Private Health Insurance                       NaN            0   \n",
       "3                       NaN                       NaN            0   \n",
       "4    Blue Cross/Blue Shield  Private Health Insurance            0   \n",
       "\n",
       "   Abortion Edit Indicator Emergency Department Indicator  Total Charges  \\\n",
       "0                        N                              Y        5333.90   \n",
       "1                        N                              Y        4865.99   \n",
       "2                        N                              Y        5901.54   \n",
       "3                        N                              Y        3619.08   \n",
       "4                        N                              Y        3185.87   \n",
       "\n",
       "  Total Costs  \n",
       "0     4818.42  \n",
       "1     4588.78  \n",
       "2     5559.56  \n",
       "3     3567.25  \n",
       "4     3167.89  \n",
       "\n",
       "[5 rows x 34 columns]"
      ]
     },
     "execution_count": 5,
     "metadata": {},
     "output_type": "execute_result"
    }
   ],
   "source": [
    "df.head()"
   ]
  },
  {
   "cell_type": "code",
   "execution_count": 6,
   "id": "6fb582b5",
   "metadata": {
    "execution": {
     "iopub.execute_input": "2023-02-21T19:32:51.818128Z",
     "iopub.status.busy": "2023-02-21T19:32:51.817198Z",
     "iopub.status.idle": "2023-02-21T19:32:51.839551Z",
     "shell.execute_reply": "2023-02-21T19:32:51.838347Z"
    },
    "id": "9e18489f",
    "outputId": "043b4fd0-6c46-4674-ccb2-29c08d12897a",
    "papermill": {
     "duration": 0.114671,
     "end_time": "2023-02-21T19:32:51.843532",
     "exception": false,
     "start_time": "2023-02-21T19:32:51.728861",
     "status": "completed"
    },
    "tags": []
   },
   "outputs": [
    {
     "name": "stdout",
     "output_type": "stream",
     "text": [
      "<class 'pandas.core.frame.DataFrame'>\n",
      "RangeIndex: 2346931 entries, 0 to 2346930\n",
      "Data columns (total 34 columns):\n",
      " #   Column                               Dtype  \n",
      "---  ------                               -----  \n",
      " 0   Health Service Area                  object \n",
      " 1   Hospital County                      object \n",
      " 2   Operating Certificate Number         float64\n",
      " 3   Facility Id                          float64\n",
      " 4   Facility Name                        object \n",
      " 5   Age Group                            object \n",
      " 6   Zip Code - 3 digits                  object \n",
      " 7   Gender                               object \n",
      " 8   Race                                 object \n",
      " 9   Ethnicity                            object \n",
      " 10  Length of Stay                       object \n",
      " 11  Type of Admission                    object \n",
      " 12  Patient Disposition                  object \n",
      " 13  Discharge Year                       int64  \n",
      " 14  CCS Diagnosis Code                   int64  \n",
      " 15  CCS Diagnosis Description            object \n",
      " 16  CCS Procedure Code                   int64  \n",
      " 17  CCS Procedure Description            object \n",
      " 18  APR DRG Code                         int64  \n",
      " 19  APR DRG Description                  object \n",
      " 20  APR MDC Code                         int64  \n",
      " 21  APR MDC Description                  object \n",
      " 22  APR Severity of Illness Code         int64  \n",
      " 23  APR Severity of Illness Description  object \n",
      " 24  APR Risk of Mortality                object \n",
      " 25  APR Medical Surgical Description     object \n",
      " 26  Payment Typology 1                   object \n",
      " 27  Payment Typology 2                   object \n",
      " 28  Payment Typology 3                   object \n",
      " 29  Birth Weight                         int64  \n",
      " 30  Abortion Edit Indicator              object \n",
      " 31  Emergency Department Indicator       object \n",
      " 32  Total Charges                        float64\n",
      " 33  Total Costs                          float64\n",
      "dtypes: float64(4), int64(7), object(23)\n",
      "memory usage: 608.8+ MB\n"
     ]
    }
   ],
   "source": [
    "df.info()"
   ]
  },
  {
   "cell_type": "code",
   "execution_count": 7,
   "id": "650976fb",
   "metadata": {
    "execution": {
     "iopub.execute_input": "2023-02-21T19:32:51.999825Z",
     "iopub.status.busy": "2023-02-21T19:32:51.999046Z",
     "iopub.status.idle": "2023-02-21T19:33:06.703230Z",
     "shell.execute_reply": "2023-02-21T19:33:06.702080Z"
    },
    "id": "80569c3f",
    "papermill": {
     "duration": 14.791059,
     "end_time": "2023-02-21T19:33:06.705882",
     "exception": false,
     "start_time": "2023-02-21T19:32:51.914823",
     "status": "completed"
    },
    "tags": []
   },
   "outputs": [],
   "source": [
    "List =[\"Health Service Area\",\"Hospital County\",\"Age Group\",\"Zip Code - 3 digits\",\"Gender\",\"Race\",\"Ethnicity\",\"Length of Stay\",\"Type of Admission\",                    \n",
    "\"Patient Disposition\",\"CCS Diagnosis Description\",\"CCS Procedure Description\",\"APR DRG Description\",\"APR MDC Description\",\"APR Severity of Illness Description\",\"APR Risk of Mortality\",\"APR Medical Surgical Description\",\"Payment Typology 1\"                   \n",
    ",\"Payment Typology 2\",\"Payment Typology 3\",\"Abortion Edit Indicator\",\"Emergency Department Indicator\"]\n",
    "for col in List :\n",
    "    df[col] = df[col].astype('category')\n",
    "\n",
    "#\"Health Service Area\""
   ]
  },
  {
   "cell_type": "code",
   "execution_count": 8,
   "id": "d26c7804",
   "metadata": {
    "execution": {
     "iopub.execute_input": "2023-02-21T19:33:06.845599Z",
     "iopub.status.busy": "2023-02-21T19:33:06.844733Z",
     "iopub.status.idle": "2023-02-21T19:33:06.869951Z",
     "shell.execute_reply": "2023-02-21T19:33:06.867938Z"
    },
    "id": "355c187f",
    "outputId": "3585c426-5010-4097-caf7-8fee2da0336a",
    "papermill": {
     "duration": 0.099897,
     "end_time": "2023-02-21T19:33:06.872582",
     "exception": false,
     "start_time": "2023-02-21T19:33:06.772685",
     "status": "completed"
    },
    "tags": []
   },
   "outputs": [
    {
     "name": "stdout",
     "output_type": "stream",
     "text": [
      "<class 'pandas.core.frame.DataFrame'>\n",
      "RangeIndex: 2346931 entries, 0 to 2346930\n",
      "Data columns (total 34 columns):\n",
      " #   Column                               Dtype   \n",
      "---  ------                               -----   \n",
      " 0   Health Service Area                  category\n",
      " 1   Hospital County                      category\n",
      " 2   Operating Certificate Number         float64 \n",
      " 3   Facility Id                          float64 \n",
      " 4   Facility Name                        object  \n",
      " 5   Age Group                            category\n",
      " 6   Zip Code - 3 digits                  category\n",
      " 7   Gender                               category\n",
      " 8   Race                                 category\n",
      " 9   Ethnicity                            category\n",
      " 10  Length of Stay                       category\n",
      " 11  Type of Admission                    category\n",
      " 12  Patient Disposition                  category\n",
      " 13  Discharge Year                       int64   \n",
      " 14  CCS Diagnosis Code                   int64   \n",
      " 15  CCS Diagnosis Description            category\n",
      " 16  CCS Procedure Code                   int64   \n",
      " 17  CCS Procedure Description            category\n",
      " 18  APR DRG Code                         int64   \n",
      " 19  APR DRG Description                  category\n",
      " 20  APR MDC Code                         int64   \n",
      " 21  APR MDC Description                  category\n",
      " 22  APR Severity of Illness Code         int64   \n",
      " 23  APR Severity of Illness Description  category\n",
      " 24  APR Risk of Mortality                category\n",
      " 25  APR Medical Surgical Description     category\n",
      " 26  Payment Typology 1                   category\n",
      " 27  Payment Typology 2                   category\n",
      " 28  Payment Typology 3                   category\n",
      " 29  Birth Weight                         int64   \n",
      " 30  Abortion Edit Indicator              category\n",
      " 31  Emergency Department Indicator       category\n",
      " 32  Total Charges                        float64 \n",
      " 33  Total Costs                          float64 \n",
      "dtypes: category(22), float64(4), int64(7), object(1)\n",
      "memory usage: 273.1+ MB\n"
     ]
    }
   ],
   "source": [
    "df.info()"
   ]
  },
  {
   "cell_type": "code",
   "execution_count": 9,
   "id": "c44cfc3d",
   "metadata": {
    "execution": {
     "iopub.execute_input": "2023-02-21T19:33:07.084828Z",
     "iopub.status.busy": "2023-02-21T19:33:07.083393Z",
     "iopub.status.idle": "2023-02-21T19:33:07.183550Z",
     "shell.execute_reply": "2023-02-21T19:33:07.182627Z"
    },
    "id": "3be599f8",
    "papermill": {
     "duration": 0.241956,
     "end_time": "2023-02-21T19:33:07.186170",
     "exception": false,
     "start_time": "2023-02-21T19:33:06.944214",
     "status": "completed"
    },
    "tags": []
   },
   "outputs": [],
   "source": [
    "col=[\"Health Service Area\"\n",
    " ,\n",
    " \"CCS Diagnosis Description\",\n",
    " \"CCS Procedure Description\",\n",
    "\"APR DRG Description\",\n",
    "\"APR MDC Description\",\n",
    "\"APR Severity of Illness Description\"]\n",
    "df = df.drop(col, axis=1)"
   ]
  },
  {
   "cell_type": "code",
   "execution_count": 10,
   "id": "a3844fed",
   "metadata": {
    "execution": {
     "iopub.execute_input": "2023-02-21T19:33:07.319236Z",
     "iopub.status.busy": "2023-02-21T19:33:07.318805Z",
     "iopub.status.idle": "2023-02-21T19:33:07.337436Z",
     "shell.execute_reply": "2023-02-21T19:33:07.336148Z"
    },
    "id": "02c81eaf",
    "outputId": "bfaf55af-bc1d-408d-a65f-a524b75b5044",
    "papermill": {
     "duration": 0.088656,
     "end_time": "2023-02-21T19:33:07.340804",
     "exception": false,
     "start_time": "2023-02-21T19:33:07.252148",
     "status": "completed"
    },
    "tags": []
   },
   "outputs": [
    {
     "name": "stdout",
     "output_type": "stream",
     "text": [
      "<class 'pandas.core.frame.DataFrame'>\n",
      "RangeIndex: 2346931 entries, 0 to 2346930\n",
      "Data columns (total 28 columns):\n",
      " #   Column                            Dtype   \n",
      "---  ------                            -----   \n",
      " 0   Hospital County                   category\n",
      " 1   Operating Certificate Number      float64 \n",
      " 2   Facility Id                       float64 \n",
      " 3   Facility Name                     object  \n",
      " 4   Age Group                         category\n",
      " 5   Zip Code - 3 digits               category\n",
      " 6   Gender                            category\n",
      " 7   Race                              category\n",
      " 8   Ethnicity                         category\n",
      " 9   Length of Stay                    category\n",
      " 10  Type of Admission                 category\n",
      " 11  Patient Disposition               category\n",
      " 12  Discharge Year                    int64   \n",
      " 13  CCS Diagnosis Code                int64   \n",
      " 14  CCS Procedure Code                int64   \n",
      " 15  APR DRG Code                      int64   \n",
      " 16  APR MDC Code                      int64   \n",
      " 17  APR Severity of Illness Code      int64   \n",
      " 18  APR Risk of Mortality             category\n",
      " 19  APR Medical Surgical Description  category\n",
      " 20  Payment Typology 1                category\n",
      " 21  Payment Typology 2                category\n",
      " 22  Payment Typology 3                category\n",
      " 23  Birth Weight                      int64   \n",
      " 24  Abortion Edit Indicator           category\n",
      " 25  Emergency Department Indicator    category\n",
      " 26  Total Charges                     float64 \n",
      " 27  Total Costs                       float64 \n",
      "dtypes: category(16), float64(4), int64(7), object(1)\n",
      "memory usage: 252.9+ MB\n"
     ]
    }
   ],
   "source": [
    "df.info()"
   ]
  },
  {
   "cell_type": "code",
   "execution_count": null,
   "id": "124c59e7",
   "metadata": {
    "id": "1R1TnXvDXiAZ",
    "papermill": {
     "duration": 0.066867,
     "end_time": "2023-02-21T19:33:07.473467",
     "exception": false,
     "start_time": "2023-02-21T19:33:07.406600",
     "status": "completed"
    },
    "tags": []
   },
   "outputs": [],
   "source": []
  },
  {
   "cell_type": "markdown",
   "id": "04c7a9f8",
   "metadata": {
    "id": "d6e87062",
    "papermill": {
     "duration": 0.068905,
     "end_time": "2023-02-21T19:33:07.610219",
     "exception": false,
     "start_time": "2023-02-21T19:33:07.541314",
     "status": "completed"
    },
    "tags": []
   },
   "source": [
    "##clint 1: Albany"
   ]
  },
  {
   "cell_type": "code",
   "execution_count": 11,
   "id": "93a690c9",
   "metadata": {
    "execution": {
     "iopub.execute_input": "2023-02-21T19:33:07.749371Z",
     "iopub.status.busy": "2023-02-21T19:33:07.748947Z",
     "iopub.status.idle": "2023-02-21T19:33:07.913214Z",
     "shell.execute_reply": "2023-02-21T19:33:07.912008Z"
    },
    "id": "f012353f",
    "papermill": {
     "duration": 0.236822,
     "end_time": "2023-02-21T19:33:07.916018",
     "exception": false,
     "start_time": "2023-02-21T19:33:07.679196",
     "status": "completed"
    },
    "tags": []
   },
   "outputs": [],
   "source": [
    "Albany_df=df[df[\"Facility Name\"]== 'Albany Medical Center Hospital']\n"
   ]
  },
  {
   "cell_type": "code",
   "execution_count": 12,
   "id": "207c6bc5",
   "metadata": {
    "execution": {
     "iopub.execute_input": "2023-02-21T19:33:08.048305Z",
     "iopub.status.busy": "2023-02-21T19:33:08.047908Z",
     "iopub.status.idle": "2023-02-21T19:33:08.097465Z",
     "shell.execute_reply": "2023-02-21T19:33:08.095875Z"
    },
    "id": "e12a6859",
    "outputId": "05bb8070-2a9d-4e41-94a9-c4780d686dbd",
    "papermill": {
     "duration": 0.118474,
     "end_time": "2023-02-21T19:33:08.100241",
     "exception": false,
     "start_time": "2023-02-21T19:33:07.981767",
     "status": "completed"
    },
    "tags": []
   },
   "outputs": [
    {
     "data": {
      "text/html": [
       "<div>\n",
       "<style scoped>\n",
       "    .dataframe tbody tr th:only-of-type {\n",
       "        vertical-align: middle;\n",
       "    }\n",
       "\n",
       "    .dataframe tbody tr th {\n",
       "        vertical-align: top;\n",
       "    }\n",
       "\n",
       "    .dataframe thead th {\n",
       "        text-align: right;\n",
       "    }\n",
       "</style>\n",
       "<table border=\"1\" class=\"dataframe\">\n",
       "  <thead>\n",
       "    <tr style=\"text-align: right;\">\n",
       "      <th></th>\n",
       "      <th>Hospital County</th>\n",
       "      <th>Operating Certificate Number</th>\n",
       "      <th>Facility Id</th>\n",
       "      <th>Facility Name</th>\n",
       "      <th>Age Group</th>\n",
       "      <th>Zip Code - 3 digits</th>\n",
       "      <th>Gender</th>\n",
       "      <th>Race</th>\n",
       "      <th>Ethnicity</th>\n",
       "      <th>Length of Stay</th>\n",
       "      <th>...</th>\n",
       "      <th>APR Risk of Mortality</th>\n",
       "      <th>APR Medical Surgical Description</th>\n",
       "      <th>Payment Typology 1</th>\n",
       "      <th>Payment Typology 2</th>\n",
       "      <th>Payment Typology 3</th>\n",
       "      <th>Birth Weight</th>\n",
       "      <th>Abortion Edit Indicator</th>\n",
       "      <th>Emergency Department Indicator</th>\n",
       "      <th>Total Charges</th>\n",
       "      <th>Total Costs</th>\n",
       "    </tr>\n",
       "  </thead>\n",
       "  <tbody>\n",
       "    <tr>\n",
       "      <th>490252</th>\n",
       "      <td>Albany</td>\n",
       "      <td>101000.0</td>\n",
       "      <td>1.0</td>\n",
       "      <td>Albany Medical Center Hospital</td>\n",
       "      <td>0 to 17</td>\n",
       "      <td>120</td>\n",
       "      <td>F</td>\n",
       "      <td>White</td>\n",
       "      <td>Not Span/Hispanic</td>\n",
       "      <td>1</td>\n",
       "      <td>...</td>\n",
       "      <td>Minor</td>\n",
       "      <td>Medical</td>\n",
       "      <td>Medicaid</td>\n",
       "      <td>NaN</td>\n",
       "      <td>NaN</td>\n",
       "      <td>0</td>\n",
       "      <td>N</td>\n",
       "      <td>Y</td>\n",
       "      <td>10397.13</td>\n",
       "      <td>3610.96</td>\n",
       "    </tr>\n",
       "    <tr>\n",
       "      <th>491806</th>\n",
       "      <td>Albany</td>\n",
       "      <td>101000.0</td>\n",
       "      <td>1.0</td>\n",
       "      <td>Albany Medical Center Hospital</td>\n",
       "      <td>0 to 17</td>\n",
       "      <td>120</td>\n",
       "      <td>F</td>\n",
       "      <td>White</td>\n",
       "      <td>Not Span/Hispanic</td>\n",
       "      <td>1</td>\n",
       "      <td>...</td>\n",
       "      <td>Minor</td>\n",
       "      <td>Medical</td>\n",
       "      <td>Medicaid</td>\n",
       "      <td>NaN</td>\n",
       "      <td>NaN</td>\n",
       "      <td>0</td>\n",
       "      <td>N</td>\n",
       "      <td>Y</td>\n",
       "      <td>9976.77</td>\n",
       "      <td>2263.12</td>\n",
       "    </tr>\n",
       "    <tr>\n",
       "      <th>492215</th>\n",
       "      <td>Albany</td>\n",
       "      <td>101000.0</td>\n",
       "      <td>1.0</td>\n",
       "      <td>Albany Medical Center Hospital</td>\n",
       "      <td>0 to 17</td>\n",
       "      <td>122</td>\n",
       "      <td>F</td>\n",
       "      <td>Black/African American</td>\n",
       "      <td>Not Span/Hispanic</td>\n",
       "      <td>1</td>\n",
       "      <td>...</td>\n",
       "      <td>Minor</td>\n",
       "      <td>Medical</td>\n",
       "      <td>Medicaid</td>\n",
       "      <td>NaN</td>\n",
       "      <td>NaN</td>\n",
       "      <td>0</td>\n",
       "      <td>N</td>\n",
       "      <td>Y</td>\n",
       "      <td>6042.14</td>\n",
       "      <td>1968.23</td>\n",
       "    </tr>\n",
       "    <tr>\n",
       "      <th>492519</th>\n",
       "      <td>Albany</td>\n",
       "      <td>101000.0</td>\n",
       "      <td>1.0</td>\n",
       "      <td>Albany Medical Center Hospital</td>\n",
       "      <td>50 to 69</td>\n",
       "      <td>120</td>\n",
       "      <td>F</td>\n",
       "      <td>White</td>\n",
       "      <td>Not Span/Hispanic</td>\n",
       "      <td>1</td>\n",
       "      <td>...</td>\n",
       "      <td>Minor</td>\n",
       "      <td>Medical</td>\n",
       "      <td>Medicaid</td>\n",
       "      <td>NaN</td>\n",
       "      <td>NaN</td>\n",
       "      <td>0</td>\n",
       "      <td>N</td>\n",
       "      <td>Y</td>\n",
       "      <td>17876.70</td>\n",
       "      <td>4662.19</td>\n",
       "    </tr>\n",
       "    <tr>\n",
       "      <th>493215</th>\n",
       "      <td>Albany</td>\n",
       "      <td>101000.0</td>\n",
       "      <td>1.0</td>\n",
       "      <td>Albany Medical Center Hospital</td>\n",
       "      <td>0 to 17</td>\n",
       "      <td>124</td>\n",
       "      <td>M</td>\n",
       "      <td>Other Race</td>\n",
       "      <td>Unknown</td>\n",
       "      <td>1</td>\n",
       "      <td>...</td>\n",
       "      <td>Minor</td>\n",
       "      <td>Medical</td>\n",
       "      <td>Private Health Insurance</td>\n",
       "      <td>NaN</td>\n",
       "      <td>NaN</td>\n",
       "      <td>0</td>\n",
       "      <td>N</td>\n",
       "      <td>N</td>\n",
       "      <td>9919.29</td>\n",
       "      <td>3418.02</td>\n",
       "    </tr>\n",
       "    <tr>\n",
       "      <th>...</th>\n",
       "      <td>...</td>\n",
       "      <td>...</td>\n",
       "      <td>...</td>\n",
       "      <td>...</td>\n",
       "      <td>...</td>\n",
       "      <td>...</td>\n",
       "      <td>...</td>\n",
       "      <td>...</td>\n",
       "      <td>...</td>\n",
       "      <td>...</td>\n",
       "      <td>...</td>\n",
       "      <td>...</td>\n",
       "      <td>...</td>\n",
       "      <td>...</td>\n",
       "      <td>...</td>\n",
       "      <td>...</td>\n",
       "      <td>...</td>\n",
       "      <td>...</td>\n",
       "      <td>...</td>\n",
       "      <td>...</td>\n",
       "      <td>...</td>\n",
       "    </tr>\n",
       "    <tr>\n",
       "      <th>536364</th>\n",
       "      <td>Albany</td>\n",
       "      <td>101000.0</td>\n",
       "      <td>1.0</td>\n",
       "      <td>Albany Medical Center Hospital</td>\n",
       "      <td>18 to 29</td>\n",
       "      <td>121</td>\n",
       "      <td>M</td>\n",
       "      <td>White</td>\n",
       "      <td>Not Span/Hispanic</td>\n",
       "      <td>1</td>\n",
       "      <td>...</td>\n",
       "      <td>Minor</td>\n",
       "      <td>Surgical</td>\n",
       "      <td>Blue Cross/Blue Shield</td>\n",
       "      <td>NaN</td>\n",
       "      <td>NaN</td>\n",
       "      <td>0</td>\n",
       "      <td>N</td>\n",
       "      <td>Y</td>\n",
       "      <td>16726.52</td>\n",
       "      <td>5145.79</td>\n",
       "    </tr>\n",
       "    <tr>\n",
       "      <th>536365</th>\n",
       "      <td>Albany</td>\n",
       "      <td>101000.0</td>\n",
       "      <td>1.0</td>\n",
       "      <td>Albany Medical Center Hospital</td>\n",
       "      <td>0 to 17</td>\n",
       "      <td>121</td>\n",
       "      <td>F</td>\n",
       "      <td>Other Race</td>\n",
       "      <td>Unknown</td>\n",
       "      <td>2</td>\n",
       "      <td>...</td>\n",
       "      <td>Minor</td>\n",
       "      <td>Medical</td>\n",
       "      <td>Medicaid</td>\n",
       "      <td>NaN</td>\n",
       "      <td>NaN</td>\n",
       "      <td>4700</td>\n",
       "      <td>N</td>\n",
       "      <td>N</td>\n",
       "      <td>3829.74</td>\n",
       "      <td>947.76</td>\n",
       "    </tr>\n",
       "    <tr>\n",
       "      <th>536366</th>\n",
       "      <td>Albany</td>\n",
       "      <td>101000.0</td>\n",
       "      <td>1.0</td>\n",
       "      <td>Albany Medical Center Hospital</td>\n",
       "      <td>0 to 17</td>\n",
       "      <td>124</td>\n",
       "      <td>M</td>\n",
       "      <td>Other Race</td>\n",
       "      <td>Unknown</td>\n",
       "      <td>3</td>\n",
       "      <td>...</td>\n",
       "      <td>Minor</td>\n",
       "      <td>Medical</td>\n",
       "      <td>Medicaid</td>\n",
       "      <td>NaN</td>\n",
       "      <td>NaN</td>\n",
       "      <td>3200</td>\n",
       "      <td>N</td>\n",
       "      <td>N</td>\n",
       "      <td>7209.25</td>\n",
       "      <td>1661.29</td>\n",
       "    </tr>\n",
       "    <tr>\n",
       "      <th>536367</th>\n",
       "      <td>Albany</td>\n",
       "      <td>101000.0</td>\n",
       "      <td>1.0</td>\n",
       "      <td>Albany Medical Center Hospital</td>\n",
       "      <td>0 to 17</td>\n",
       "      <td>120</td>\n",
       "      <td>F</td>\n",
       "      <td>Other Race</td>\n",
       "      <td>Unknown</td>\n",
       "      <td>83</td>\n",
       "      <td>...</td>\n",
       "      <td>Moderate</td>\n",
       "      <td>Medical</td>\n",
       "      <td>Medicaid</td>\n",
       "      <td>NaN</td>\n",
       "      <td>NaN</td>\n",
       "      <td>900</td>\n",
       "      <td>N</td>\n",
       "      <td>N</td>\n",
       "      <td>665166.90</td>\n",
       "      <td>165272.09</td>\n",
       "    </tr>\n",
       "    <tr>\n",
       "      <th>536368</th>\n",
       "      <td>Albany</td>\n",
       "      <td>101000.0</td>\n",
       "      <td>1.0</td>\n",
       "      <td>Albany Medical Center Hospital</td>\n",
       "      <td>0 to 17</td>\n",
       "      <td>120</td>\n",
       "      <td>M</td>\n",
       "      <td>Other Race</td>\n",
       "      <td>Unknown</td>\n",
       "      <td>2</td>\n",
       "      <td>...</td>\n",
       "      <td>Minor</td>\n",
       "      <td>Medical</td>\n",
       "      <td>Managed Care, Unspecified</td>\n",
       "      <td>NaN</td>\n",
       "      <td>NaN</td>\n",
       "      <td>3500</td>\n",
       "      <td>N</td>\n",
       "      <td>N</td>\n",
       "      <td>4728.77</td>\n",
       "      <td>1135.90</td>\n",
       "    </tr>\n",
       "  </tbody>\n",
       "</table>\n",
       "<p>36281 rows × 28 columns</p>\n",
       "</div>"
      ],
      "text/plain": [
       "       Hospital County  Operating Certificate Number  Facility Id  \\\n",
       "490252          Albany                      101000.0          1.0   \n",
       "491806          Albany                      101000.0          1.0   \n",
       "492215          Albany                      101000.0          1.0   \n",
       "492519          Albany                      101000.0          1.0   \n",
       "493215          Albany                      101000.0          1.0   \n",
       "...                ...                           ...          ...   \n",
       "536364          Albany                      101000.0          1.0   \n",
       "536365          Albany                      101000.0          1.0   \n",
       "536366          Albany                      101000.0          1.0   \n",
       "536367          Albany                      101000.0          1.0   \n",
       "536368          Albany                      101000.0          1.0   \n",
       "\n",
       "                         Facility Name Age Group Zip Code - 3 digits Gender  \\\n",
       "490252  Albany Medical Center Hospital   0 to 17                 120      F   \n",
       "491806  Albany Medical Center Hospital   0 to 17                 120      F   \n",
       "492215  Albany Medical Center Hospital   0 to 17                 122      F   \n",
       "492519  Albany Medical Center Hospital  50 to 69                 120      F   \n",
       "493215  Albany Medical Center Hospital   0 to 17                 124      M   \n",
       "...                                ...       ...                 ...    ...   \n",
       "536364  Albany Medical Center Hospital  18 to 29                 121      M   \n",
       "536365  Albany Medical Center Hospital   0 to 17                 121      F   \n",
       "536366  Albany Medical Center Hospital   0 to 17                 124      M   \n",
       "536367  Albany Medical Center Hospital   0 to 17                 120      F   \n",
       "536368  Albany Medical Center Hospital   0 to 17                 120      M   \n",
       "\n",
       "                          Race          Ethnicity Length of Stay  ...  \\\n",
       "490252                   White  Not Span/Hispanic              1  ...   \n",
       "491806                   White  Not Span/Hispanic              1  ...   \n",
       "492215  Black/African American  Not Span/Hispanic              1  ...   \n",
       "492519                   White  Not Span/Hispanic              1  ...   \n",
       "493215              Other Race            Unknown              1  ...   \n",
       "...                        ...                ...            ...  ...   \n",
       "536364                   White  Not Span/Hispanic              1  ...   \n",
       "536365              Other Race            Unknown              2  ...   \n",
       "536366              Other Race            Unknown              3  ...   \n",
       "536367              Other Race            Unknown             83  ...   \n",
       "536368              Other Race            Unknown              2  ...   \n",
       "\n",
       "       APR Risk of Mortality APR Medical Surgical Description  \\\n",
       "490252                 Minor                          Medical   \n",
       "491806                 Minor                          Medical   \n",
       "492215                 Minor                          Medical   \n",
       "492519                 Minor                          Medical   \n",
       "493215                 Minor                          Medical   \n",
       "...                      ...                              ...   \n",
       "536364                 Minor                         Surgical   \n",
       "536365                 Minor                          Medical   \n",
       "536366                 Minor                          Medical   \n",
       "536367              Moderate                          Medical   \n",
       "536368                 Minor                          Medical   \n",
       "\n",
       "               Payment Typology 1  Payment Typology 2  Payment Typology 3  \\\n",
       "490252                   Medicaid                 NaN                 NaN   \n",
       "491806                   Medicaid                 NaN                 NaN   \n",
       "492215                   Medicaid                 NaN                 NaN   \n",
       "492519                   Medicaid                 NaN                 NaN   \n",
       "493215   Private Health Insurance                 NaN                 NaN   \n",
       "...                           ...                 ...                 ...   \n",
       "536364     Blue Cross/Blue Shield                 NaN                 NaN   \n",
       "536365                   Medicaid                 NaN                 NaN   \n",
       "536366                   Medicaid                 NaN                 NaN   \n",
       "536367                   Medicaid                 NaN                 NaN   \n",
       "536368  Managed Care, Unspecified                 NaN                 NaN   \n",
       "\n",
       "        Birth Weight  Abortion Edit Indicator  Emergency Department Indicator  \\\n",
       "490252             0                        N                               Y   \n",
       "491806             0                        N                               Y   \n",
       "492215             0                        N                               Y   \n",
       "492519             0                        N                               Y   \n",
       "493215             0                        N                               N   \n",
       "...              ...                      ...                             ...   \n",
       "536364             0                        N                               Y   \n",
       "536365          4700                        N                               N   \n",
       "536366          3200                        N                               N   \n",
       "536367           900                        N                               N   \n",
       "536368          3500                        N                               N   \n",
       "\n",
       "       Total Charges Total Costs  \n",
       "490252      10397.13     3610.96  \n",
       "491806       9976.77     2263.12  \n",
       "492215       6042.14     1968.23  \n",
       "492519      17876.70     4662.19  \n",
       "493215       9919.29     3418.02  \n",
       "...              ...         ...  \n",
       "536364      16726.52     5145.79  \n",
       "536365       3829.74      947.76  \n",
       "536366       7209.25     1661.29  \n",
       "536367     665166.90   165272.09  \n",
       "536368       4728.77     1135.90  \n",
       "\n",
       "[36281 rows x 28 columns]"
      ]
     },
     "execution_count": 12,
     "metadata": {},
     "output_type": "execute_result"
    }
   ],
   "source": [
    "Albany_df"
   ]
  },
  {
   "cell_type": "code",
   "execution_count": 13,
   "id": "0a490fa1",
   "metadata": {
    "execution": {
     "iopub.execute_input": "2023-02-21T19:33:08.234160Z",
     "iopub.status.busy": "2023-02-21T19:33:08.233391Z",
     "iopub.status.idle": "2023-02-21T19:33:08.258496Z",
     "shell.execute_reply": "2023-02-21T19:33:08.256870Z"
    },
    "id": "0d6dc80d",
    "outputId": "d3e4ea44-f8d3-4fbe-994f-1f4e79b4485d",
    "papermill": {
     "duration": 0.095283,
     "end_time": "2023-02-21T19:33:08.261123",
     "exception": false,
     "start_time": "2023-02-21T19:33:08.165840",
     "status": "completed"
    },
    "tags": []
   },
   "outputs": [
    {
     "name": "stdout",
     "output_type": "stream",
     "text": [
      "<class 'pandas.core.frame.DataFrame'>\n",
      "Int64Index: 36281 entries, 490252 to 536368\n",
      "Data columns (total 28 columns):\n",
      " #   Column                            Non-Null Count  Dtype   \n",
      "---  ------                            --------------  -----   \n",
      " 0   Hospital County                   36281 non-null  category\n",
      " 1   Operating Certificate Number      36281 non-null  float64 \n",
      " 2   Facility Id                       36281 non-null  float64 \n",
      " 3   Facility Name                     36281 non-null  object  \n",
      " 4   Age Group                         36281 non-null  category\n",
      " 5   Zip Code - 3 digits               35772 non-null  category\n",
      " 6   Gender                            36281 non-null  category\n",
      " 7   Race                              36281 non-null  category\n",
      " 8   Ethnicity                         36281 non-null  category\n",
      " 9   Length of Stay                    36281 non-null  category\n",
      " 10  Type of Admission                 36281 non-null  category\n",
      " 11  Patient Disposition               36281 non-null  category\n",
      " 12  Discharge Year                    36281 non-null  int64   \n",
      " 13  CCS Diagnosis Code                36281 non-null  int64   \n",
      " 14  CCS Procedure Code                36281 non-null  int64   \n",
      " 15  APR DRG Code                      36281 non-null  int64   \n",
      " 16  APR MDC Code                      36281 non-null  int64   \n",
      " 17  APR Severity of Illness Code      36281 non-null  int64   \n",
      " 18  APR Risk of Mortality             36280 non-null  category\n",
      " 19  APR Medical Surgical Description  36281 non-null  category\n",
      " 20  Payment Typology 1                36281 non-null  category\n",
      " 21  Payment Typology 2                11617 non-null  category\n",
      " 22  Payment Typology 3                8960 non-null   category\n",
      " 23  Birth Weight                      36281 non-null  int64   \n",
      " 24  Abortion Edit Indicator           36281 non-null  category\n",
      " 25  Emergency Department Indicator    36281 non-null  category\n",
      " 26  Total Charges                     36281 non-null  float64 \n",
      " 27  Total Costs                       36281 non-null  float64 \n",
      "dtypes: category(16), float64(4), int64(7), object(1)\n",
      "memory usage: 4.2+ MB\n"
     ]
    }
   ],
   "source": [
    "Albany_df.info()"
   ]
  },
  {
   "cell_type": "code",
   "execution_count": 14,
   "id": "94993947",
   "metadata": {
    "execution": {
     "iopub.execute_input": "2023-02-21T19:33:08.397695Z",
     "iopub.status.busy": "2023-02-21T19:33:08.397220Z",
     "iopub.status.idle": "2023-02-21T19:33:08.407704Z",
     "shell.execute_reply": "2023-02-21T19:33:08.405734Z"
    },
    "id": "733f35af",
    "outputId": "e829e044-0cff-44ff-830e-1750af60ba63",
    "papermill": {
     "duration": 0.080723,
     "end_time": "2023-02-21T19:33:08.410219",
     "exception": false,
     "start_time": "2023-02-21T19:33:08.329496",
     "status": "completed"
    },
    "tags": []
   },
   "outputs": [
    {
     "name": "stderr",
     "output_type": "stream",
     "text": [
      "/opt/conda/lib/python3.7/site-packages/ipykernel_launcher.py:3: SettingWithCopyWarning: \n",
      "A value is trying to be set on a copy of a slice from a DataFrame.\n",
      "Try using .loc[row_indexer,col_indexer] = value instead\n",
      "\n",
      "See the caveats in the documentation: https://pandas.pydata.org/pandas-docs/stable/user_guide/indexing.html#returning-a-view-versus-a-copy\n",
      "  This is separate from the ipykernel package so we can avoid doing imports until\n",
      "/opt/conda/lib/python3.7/site-packages/ipykernel_launcher.py:5: SettingWithCopyWarning: \n",
      "A value is trying to be set on a copy of a slice from a DataFrame.\n",
      "Try using .loc[row_indexer,col_indexer] = value instead\n",
      "\n",
      "See the caveats in the documentation: https://pandas.pydata.org/pandas-docs/stable/user_guide/indexing.html#returning-a-view-versus-a-copy\n",
      "  \"\"\"\n"
     ]
    }
   ],
   "source": [
    " #   simple mapping on binary features.\n",
    "Albany_df['Abortion Edit Indicator'] = Albany_df['Abortion Edit Indicator'].apply(\n",
    "     lambda x: 1 if x == 'Y' else (0 if x == 'N' else None))\n",
    "Albany_df['Emergency Department Indicator'] = Albany_df['Emergency Department Indicator'].apply(\n",
    "    lambda x: 1 if x == 'Y' else (0 if x == 'N' else None))"
   ]
  },
  {
   "cell_type": "code",
   "execution_count": 15,
   "id": "793fcdb9",
   "metadata": {
    "execution": {
     "iopub.execute_input": "2023-02-21T19:33:08.550876Z",
     "iopub.status.busy": "2023-02-21T19:33:08.549630Z",
     "iopub.status.idle": "2023-02-21T19:33:08.702658Z",
     "shell.execute_reply": "2023-02-21T19:33:08.701426Z"
    },
    "id": "e132c01e",
    "outputId": "c37f4e72-d0be-43ad-902f-a95df58229e4",
    "papermill": {
     "duration": 0.225201,
     "end_time": "2023-02-21T19:33:08.705743",
     "exception": false,
     "start_time": "2023-02-21T19:33:08.480542",
     "status": "completed"
    },
    "tags": []
   },
   "outputs": [
    {
     "name": "stderr",
     "output_type": "stream",
     "text": [
      "/opt/conda/lib/python3.7/site-packages/ipykernel_launcher.py:29: SettingWithCopyWarning: \n",
      "A value is trying to be set on a copy of a slice from a DataFrame.\n",
      "Try using .loc[row_indexer,col_indexer] = value instead\n",
      "\n",
      "See the caveats in the documentation: https://pandas.pydata.org/pandas-docs/stable/user_guide/indexing.html#returning-a-view-versus-a-copy\n"
     ]
    }
   ],
   "source": [
    "list=  [ \"Hospital County\",\"Age Group\"\n",
    "    ,\"Gender\",   \n",
    " \"Race\" , \n",
    "\"Ethnicity\", \n",
    "\"Gender\" , \n",
    "\"Race\" ,    \n",
    " \"Ethnicity\" ,        \n",
    " \"Type of Admission\"  ,  \n",
    "  \"Patient Disposition\",      \n",
    " \"Type of Admission\" ,  \n",
    " \"Patient Disposition\"  ,\n",
    "  \"APR Risk of Mortality\" ,   \n",
    " \"APR Medical Surgical Description\" ,\n",
    " \"Payment Typology 1\"   ,   \n",
    " \"Abortion Edit Indicator\"     ,  \n",
    " \"Emergency Department Indicator\",\n",
    "       \"Zip Code - 3 digits\",\"Payment Typology 2\"        \n",
    "   ,\"Payment Typology 3\"]  \n",
    "\n",
    "# Import label encoder\n",
    "from sklearn import preprocessing\n",
    "  \n",
    "# label_encoder object knows how to understand word labels.        \n",
    "   \n",
    "label_encoder = preprocessing.LabelEncoder()\n",
    "  \n",
    "# Encode labels in column 'species'. \n",
    "for col in list :\n",
    " Albany_df[col]= label_encoder.fit_transform(Albany_df[col])\n"
   ]
  },
  {
   "cell_type": "code",
   "execution_count": 16,
   "id": "98aac4ae",
   "metadata": {
    "execution": {
     "iopub.execute_input": "2023-02-21T19:33:08.845336Z",
     "iopub.status.busy": "2023-02-21T19:33:08.844918Z",
     "iopub.status.idle": "2023-02-21T19:33:08.856312Z",
     "shell.execute_reply": "2023-02-21T19:33:08.855195Z"
    },
    "id": "b2687de6",
    "papermill": {
     "duration": 0.085122,
     "end_time": "2023-02-21T19:33:08.859095",
     "exception": false,
     "start_time": "2023-02-21T19:33:08.773973",
     "status": "completed"
    },
    "tags": []
   },
   "outputs": [],
   "source": [
    "Albany_df=Albany_df.drop(\"Facility Name\", axis=1)"
   ]
  },
  {
   "cell_type": "code",
   "execution_count": 17,
   "id": "22ddc3cf",
   "metadata": {
    "execution": {
     "iopub.execute_input": "2023-02-21T19:33:09.003757Z",
     "iopub.status.busy": "2023-02-21T19:33:09.003012Z",
     "iopub.status.idle": "2023-02-21T19:33:09.019514Z",
     "shell.execute_reply": "2023-02-21T19:33:09.017609Z"
    },
    "id": "09397e4a",
    "outputId": "f11882e7-ab3f-482f-9127-bab1e7c3b3b3",
    "papermill": {
     "duration": 0.094109,
     "end_time": "2023-02-21T19:33:09.023005",
     "exception": false,
     "start_time": "2023-02-21T19:33:08.928896",
     "status": "completed"
    },
    "tags": []
   },
   "outputs": [
    {
     "name": "stdout",
     "output_type": "stream",
     "text": [
      "<class 'pandas.core.frame.DataFrame'>\n",
      "Int64Index: 36281 entries, 490252 to 536368\n",
      "Data columns (total 27 columns):\n",
      " #   Column                            Non-Null Count  Dtype   \n",
      "---  ------                            --------------  -----   \n",
      " 0   Hospital County                   36281 non-null  int64   \n",
      " 1   Operating Certificate Number      36281 non-null  float64 \n",
      " 2   Facility Id                       36281 non-null  float64 \n",
      " 3   Age Group                         36281 non-null  int64   \n",
      " 4   Zip Code - 3 digits               36281 non-null  int64   \n",
      " 5   Gender                            36281 non-null  int64   \n",
      " 6   Race                              36281 non-null  int64   \n",
      " 7   Ethnicity                         36281 non-null  int64   \n",
      " 8   Length of Stay                    36281 non-null  category\n",
      " 9   Type of Admission                 36281 non-null  int64   \n",
      " 10  Patient Disposition               36281 non-null  int64   \n",
      " 11  Discharge Year                    36281 non-null  int64   \n",
      " 12  CCS Diagnosis Code                36281 non-null  int64   \n",
      " 13  CCS Procedure Code                36281 non-null  int64   \n",
      " 14  APR DRG Code                      36281 non-null  int64   \n",
      " 15  APR MDC Code                      36281 non-null  int64   \n",
      " 16  APR Severity of Illness Code      36281 non-null  int64   \n",
      " 17  APR Risk of Mortality             36281 non-null  int64   \n",
      " 18  APR Medical Surgical Description  36281 non-null  int64   \n",
      " 19  Payment Typology 1                36281 non-null  int64   \n",
      " 20  Payment Typology 2                36281 non-null  int64   \n",
      " 21  Payment Typology 3                36281 non-null  int64   \n",
      " 22  Birth Weight                      36281 non-null  int64   \n",
      " 23  Abortion Edit Indicator           36281 non-null  int64   \n",
      " 24  Emergency Department Indicator    36281 non-null  int64   \n",
      " 25  Total Charges                     36281 non-null  float64 \n",
      " 26  Total Costs                       36281 non-null  float64 \n",
      "dtypes: category(1), float64(4), int64(22)\n",
      "memory usage: 7.6 MB\n"
     ]
    }
   ],
   "source": [
    "Albany_df.info()"
   ]
  },
  {
   "cell_type": "code",
   "execution_count": 18,
   "id": "a497e3d0",
   "metadata": {
    "execution": {
     "iopub.execute_input": "2023-02-21T19:33:09.160191Z",
     "iopub.status.busy": "2023-02-21T19:33:09.159812Z",
     "iopub.status.idle": "2023-02-21T19:33:09.183972Z",
     "shell.execute_reply": "2023-02-21T19:33:09.182808Z"
    },
    "id": "39d4a66f",
    "papermill": {
     "duration": 0.095924,
     "end_time": "2023-02-21T19:33:09.186756",
     "exception": false,
     "start_time": "2023-02-21T19:33:09.090832",
     "status": "completed"
    },
    "tags": []
   },
   "outputs": [],
   "source": [
    "Albany_df[\"Length of Stay\"]=pd.to_numeric(Albany_df[\"Length of Stay\"],errors='coerce')\n"
   ]
  },
  {
   "cell_type": "code",
   "execution_count": 19,
   "id": "a9e24571",
   "metadata": {
    "execution": {
     "iopub.execute_input": "2023-02-21T19:33:09.322137Z",
     "iopub.status.busy": "2023-02-21T19:33:09.321681Z",
     "iopub.status.idle": "2023-02-21T19:33:09.335093Z",
     "shell.execute_reply": "2023-02-21T19:33:09.334075Z"
    },
    "id": "326ce134",
    "papermill": {
     "duration": 0.083752,
     "end_time": "2023-02-21T19:33:09.337669",
     "exception": false,
     "start_time": "2023-02-21T19:33:09.253917",
     "status": "completed"
    },
    "tags": []
   },
   "outputs": [],
   "source": [
    "Albany_df.dropna(inplace=True)"
   ]
  },
  {
   "cell_type": "code",
   "execution_count": 20,
   "id": "dfc6cc19",
   "metadata": {
    "execution": {
     "iopub.execute_input": "2023-02-21T19:33:09.476585Z",
     "iopub.status.busy": "2023-02-21T19:33:09.475846Z",
     "iopub.status.idle": "2023-02-21T19:33:09.483398Z",
     "shell.execute_reply": "2023-02-21T19:33:09.482241Z"
    },
    "id": "fff17985",
    "papermill": {
     "duration": 0.082367,
     "end_time": "2023-02-21T19:33:09.486051",
     "exception": false,
     "start_time": "2023-02-21T19:33:09.403684",
     "status": "completed"
    },
    "tags": []
   },
   "outputs": [],
   "source": [
    "x = Albany_df.drop([\"Length of Stay\"], axis =1)\n",
    "y = Albany_df[\"Length of Stay\"]"
   ]
  },
  {
   "cell_type": "code",
   "execution_count": 21,
   "id": "ac577058",
   "metadata": {
    "execution": {
     "iopub.execute_input": "2023-02-21T19:33:09.632629Z",
     "iopub.status.busy": "2023-02-21T19:33:09.631968Z",
     "iopub.status.idle": "2023-02-21T19:33:09.649193Z",
     "shell.execute_reply": "2023-02-21T19:33:09.647815Z"
    },
    "id": "269016af",
    "papermill": {
     "duration": 0.092311,
     "end_time": "2023-02-21T19:33:09.652038",
     "exception": false,
     "start_time": "2023-02-21T19:33:09.559727",
     "status": "completed"
    },
    "tags": []
   },
   "outputs": [],
   "source": [
    "from sklearn.model_selection import train_test_split\n",
    "x_train, x_test, y_train, y_test = train_test_split(x, y, test_size=0.3, random_state=42)"
   ]
  },
  {
   "cell_type": "code",
   "execution_count": 22,
   "id": "a268b04f",
   "metadata": {
    "execution": {
     "iopub.execute_input": "2023-02-21T19:33:09.788679Z",
     "iopub.status.busy": "2023-02-21T19:33:09.788229Z",
     "iopub.status.idle": "2023-02-21T19:33:09.840949Z",
     "shell.execute_reply": "2023-02-21T19:33:09.839276Z"
    },
    "id": "200a96bc",
    "papermill": {
     "duration": 0.125818,
     "end_time": "2023-02-21T19:33:09.845769",
     "exception": false,
     "start_time": "2023-02-21T19:33:09.719951",
     "status": "completed"
    },
    "tags": []
   },
   "outputs": [],
   "source": [
    "# Linear Regression\n",
    "\n",
    "LR = LinearRegression()\n",
    "LR.fit(x_train, y_train)\n",
    "LR.score(x_train, y_train)\n",
    "y_pred =LR.predict(x_test)\n"
   ]
  },
  {
   "cell_type": "code",
   "execution_count": 23,
   "id": "815cc791",
   "metadata": {
    "execution": {
     "iopub.execute_input": "2023-02-21T19:33:10.052032Z",
     "iopub.status.busy": "2023-02-21T19:33:10.051634Z",
     "iopub.status.idle": "2023-02-21T19:33:10.059033Z",
     "shell.execute_reply": "2023-02-21T19:33:10.057899Z"
    },
    "id": "434cb660",
    "outputId": "334bfca8-8f6e-4ac1-98f7-bd25121a6661",
    "papermill": {
     "duration": 0.077196,
     "end_time": "2023-02-21T19:33:10.061295",
     "exception": false,
     "start_time": "2023-02-21T19:33:09.984099",
     "status": "completed"
    },
    "tags": []
   },
   "outputs": [
    {
     "data": {
      "text/plain": [
       "0.7478105920657923"
      ]
     },
     "execution_count": 23,
     "metadata": {},
     "output_type": "execute_result"
    }
   ],
   "source": [
    "r2 = r2_score(y_test, y_pred)\n",
    "r2 "
   ]
  },
  {
   "cell_type": "code",
   "execution_count": 24,
   "id": "f7c955cb",
   "metadata": {
    "execution": {
     "iopub.execute_input": "2023-02-21T19:33:10.199115Z",
     "iopub.status.busy": "2023-02-21T19:33:10.198692Z",
     "iopub.status.idle": "2023-02-21T19:33:10.206014Z",
     "shell.execute_reply": "2023-02-21T19:33:10.205095Z"
    },
    "id": "fdb59486",
    "outputId": "18810278-6d76-45b6-d4ee-dcb9df7553b5",
    "papermill": {
     "duration": 0.076631,
     "end_time": "2023-02-21T19:33:10.208086",
     "exception": false,
     "start_time": "2023-02-21T19:33:10.131455",
     "status": "completed"
    },
    "tags": []
   },
   "outputs": [
    {
     "data": {
      "text/plain": [
       "2.3205026865513774"
      ]
     },
     "execution_count": 24,
     "metadata": {},
     "output_type": "execute_result"
    }
   ],
   "source": [
    "# calculate the MAE of the model\n",
    "mae = mean_absolute_error(y_test, y_pred)\n",
    "mae"
   ]
  },
  {
   "cell_type": "code",
   "execution_count": 25,
   "id": "d0ec7043",
   "metadata": {
    "execution": {
     "iopub.execute_input": "2023-02-21T19:33:10.343076Z",
     "iopub.status.busy": "2023-02-21T19:33:10.342638Z",
     "iopub.status.idle": "2023-02-21T19:33:10.350689Z",
     "shell.execute_reply": "2023-02-21T19:33:10.349523Z"
    },
    "id": "19ab9509",
    "outputId": "3bf68e5a-d566-4c5b-b099-7cb241a393ae",
    "papermill": {
     "duration": 0.07923,
     "end_time": "2023-02-21T19:33:10.353066",
     "exception": false,
     "start_time": "2023-02-21T19:33:10.273836",
     "status": "completed"
    },
    "tags": []
   },
   "outputs": [
    {
     "data": {
      "text/plain": [
       "16.946608108006014"
      ]
     },
     "execution_count": 25,
     "metadata": {},
     "output_type": "execute_result"
    }
   ],
   "source": [
    "# calculate the MSE of the model\n",
    "mse = mean_squared_error(y_test, y_pred)\n",
    "mse"
   ]
  },
  {
   "cell_type": "code",
   "execution_count": 26,
   "id": "db0cb3ee",
   "metadata": {
    "execution": {
     "iopub.execute_input": "2023-02-21T19:33:10.498107Z",
     "iopub.status.busy": "2023-02-21T19:33:10.497640Z",
     "iopub.status.idle": "2023-02-21T19:33:10.505852Z",
     "shell.execute_reply": "2023-02-21T19:33:10.504456Z"
    },
    "id": "bc7e7803",
    "outputId": "0cfb8ce8-c1d7-4d7e-b159-bff09a033cca",
    "papermill": {
     "duration": 0.080586,
     "end_time": "2023-02-21T19:33:10.508559",
     "exception": false,
     "start_time": "2023-02-21T19:33:10.427973",
     "status": "completed"
    },
    "tags": []
   },
   "outputs": [
    {
     "data": {
      "text/plain": [
       "4.116625815884413"
      ]
     },
     "execution_count": 26,
     "metadata": {},
     "output_type": "execute_result"
    }
   ],
   "source": [
    "# calculate the RMSE of the model\n",
    "rmse = np.sqrt(mse)\n",
    "rmse"
   ]
  },
  {
   "cell_type": "code",
   "execution_count": 27,
   "id": "8a2d9bce",
   "metadata": {
    "execution": {
     "iopub.execute_input": "2023-02-21T19:33:10.655716Z",
     "iopub.status.busy": "2023-02-21T19:33:10.654958Z",
     "iopub.status.idle": "2023-02-21T19:33:10.765930Z",
     "shell.execute_reply": "2023-02-21T19:33:10.764206Z"
    },
    "id": "66a10173",
    "papermill": {
     "duration": 0.190795,
     "end_time": "2023-02-21T19:33:10.770787",
     "exception": false,
     "start_time": "2023-02-21T19:33:10.579992",
     "status": "completed"
    },
    "tags": []
   },
   "outputs": [],
   "source": [
    "# LASSO\n",
    "L1 = linear_model.Lasso()\n",
    "L1.fit(x_train,y_train)\n",
    "y_pred1 = L1.predict(x_test)"
   ]
  },
  {
   "cell_type": "code",
   "execution_count": 28,
   "id": "07ce7c5c",
   "metadata": {
    "execution": {
     "iopub.execute_input": "2023-02-21T19:33:10.985096Z",
     "iopub.status.busy": "2023-02-21T19:33:10.984590Z",
     "iopub.status.idle": "2023-02-21T19:33:10.994195Z",
     "shell.execute_reply": "2023-02-21T19:33:10.993122Z"
    },
    "id": "366fc87f",
    "outputId": "ea62e5ee-c8b8-413e-d227-8e7f52ad6441",
    "papermill": {
     "duration": 0.082667,
     "end_time": "2023-02-21T19:33:10.996428",
     "exception": false,
     "start_time": "2023-02-21T19:33:10.913761",
     "status": "completed"
    },
    "tags": []
   },
   "outputs": [
    {
     "data": {
      "text/plain": [
       "0.730292669976124"
      ]
     },
     "execution_count": 28,
     "metadata": {},
     "output_type": "execute_result"
    }
   ],
   "source": [
    "r2 = r2_score(y_test, y_pred1)\n",
    "r2 \n"
   ]
  },
  {
   "cell_type": "code",
   "execution_count": 29,
   "id": "a2a2a0e0",
   "metadata": {
    "execution": {
     "iopub.execute_input": "2023-02-21T19:33:11.138947Z",
     "iopub.status.busy": "2023-02-21T19:33:11.138228Z",
     "iopub.status.idle": "2023-02-21T19:33:11.147028Z",
     "shell.execute_reply": "2023-02-21T19:33:11.145617Z"
    },
    "id": "ad26f7e2",
    "outputId": "548b1904-9ecd-4c65-d6be-8d2574037767",
    "papermill": {
     "duration": 0.084278,
     "end_time": "2023-02-21T19:33:11.149561",
     "exception": false,
     "start_time": "2023-02-21T19:33:11.065283",
     "status": "completed"
    },
    "tags": []
   },
   "outputs": [
    {
     "data": {
      "text/plain": [
       "2.380819108363997"
      ]
     },
     "execution_count": 29,
     "metadata": {},
     "output_type": "execute_result"
    }
   ],
   "source": [
    "# calculate the MAE of the model\n",
    "mae = mean_absolute_error(y_test, y_pred1)\n",
    "mae"
   ]
  },
  {
   "cell_type": "code",
   "execution_count": 30,
   "id": "5cc766e0",
   "metadata": {
    "execution": {
     "iopub.execute_input": "2023-02-21T19:33:11.288491Z",
     "iopub.status.busy": "2023-02-21T19:33:11.287818Z",
     "iopub.status.idle": "2023-02-21T19:33:11.296713Z",
     "shell.execute_reply": "2023-02-21T19:33:11.295029Z"
    },
    "id": "b8562e4f",
    "outputId": "90461258-a7bf-4901-ce9b-33f13471278a",
    "papermill": {
     "duration": 0.081859,
     "end_time": "2023-02-21T19:33:11.299663",
     "exception": false,
     "start_time": "2023-02-21T19:33:11.217804",
     "status": "completed"
    },
    "tags": []
   },
   "outputs": [
    {
     "data": {
      "text/plain": [
       "18.123776344182055"
      ]
     },
     "execution_count": 30,
     "metadata": {},
     "output_type": "execute_result"
    }
   ],
   "source": [
    "# calculate the MSE of the model\n",
    "mse = mean_squared_error(y_test, y_pred1)\n",
    "mse"
   ]
  },
  {
   "cell_type": "code",
   "execution_count": 31,
   "id": "8ec878f0",
   "metadata": {
    "execution": {
     "iopub.execute_input": "2023-02-21T19:33:11.454928Z",
     "iopub.status.busy": "2023-02-21T19:33:11.454454Z",
     "iopub.status.idle": "2023-02-21T19:33:11.462711Z",
     "shell.execute_reply": "2023-02-21T19:33:11.461272Z"
    },
    "id": "620462d0",
    "outputId": "95ced689-56bb-4149-aad4-8b23239ea555",
    "papermill": {
     "duration": 0.086973,
     "end_time": "2023-02-21T19:33:11.466350",
     "exception": false,
     "start_time": "2023-02-21T19:33:11.379377",
     "status": "completed"
    },
    "tags": []
   },
   "outputs": [
    {
     "data": {
      "text/plain": [
       "4.257202877968356"
      ]
     },
     "execution_count": 31,
     "metadata": {},
     "output_type": "execute_result"
    }
   ],
   "source": [
    "# calculate the RMSE of the model\n",
    "rmse = np.sqrt(mse)\n",
    "rmse"
   ]
  },
  {
   "cell_type": "code",
   "execution_count": 32,
   "id": "7d079643",
   "metadata": {
    "execution": {
     "iopub.execute_input": "2023-02-21T19:33:11.628322Z",
     "iopub.status.busy": "2023-02-21T19:33:11.627762Z",
     "iopub.status.idle": "2023-02-21T19:33:11.664419Z",
     "shell.execute_reply": "2023-02-21T19:33:11.662401Z"
    },
    "id": "52f9efbd",
    "papermill": {
     "duration": 0.128452,
     "end_time": "2023-02-21T19:33:11.670377",
     "exception": false,
     "start_time": "2023-02-21T19:33:11.541925",
     "status": "completed"
    },
    "tags": []
   },
   "outputs": [],
   "source": [
    "# Ridge\n",
    "L2 = Ridge(alpha=1.0)\n",
    "L2.fit(x_train, y_train) \n",
    "y_pred3 = L2.predict(x_test)"
   ]
  },
  {
   "cell_type": "code",
   "execution_count": 33,
   "id": "1ed47eff",
   "metadata": {
    "execution": {
     "iopub.execute_input": "2023-02-21T19:33:11.892274Z",
     "iopub.status.busy": "2023-02-21T19:33:11.891798Z",
     "iopub.status.idle": "2023-02-21T19:33:11.900807Z",
     "shell.execute_reply": "2023-02-21T19:33:11.899866Z"
    },
    "id": "b25662c7",
    "outputId": "aa1b79ba-1fc1-4c24-8836-f09beafe6d1b",
    "papermill": {
     "duration": 0.085752,
     "end_time": "2023-02-21T19:33:11.903132",
     "exception": false,
     "start_time": "2023-02-21T19:33:11.817380",
     "status": "completed"
    },
    "tags": []
   },
   "outputs": [
    {
     "data": {
      "text/plain": [
       "0.7478105537618742"
      ]
     },
     "execution_count": 33,
     "metadata": {},
     "output_type": "execute_result"
    }
   ],
   "source": [
    "r2 = r2_score(y_test, y_pred3)\n",
    "r2 "
   ]
  },
  {
   "cell_type": "code",
   "execution_count": 34,
   "id": "829cdece",
   "metadata": {
    "execution": {
     "iopub.execute_input": "2023-02-21T19:33:12.041801Z",
     "iopub.status.busy": "2023-02-21T19:33:12.040707Z",
     "iopub.status.idle": "2023-02-21T19:33:12.048231Z",
     "shell.execute_reply": "2023-02-21T19:33:12.047331Z"
    },
    "id": "fb5e806d",
    "outputId": "03011f3a-7153-46ba-e8d5-1f8ac04d8a81",
    "papermill": {
     "duration": 0.078895,
     "end_time": "2023-02-21T19:33:12.050510",
     "exception": false,
     "start_time": "2023-02-21T19:33:11.971615",
     "status": "completed"
    },
    "tags": []
   },
   "outputs": [
    {
     "data": {
      "text/plain": [
       "2.3204943412883794"
      ]
     },
     "execution_count": 34,
     "metadata": {},
     "output_type": "execute_result"
    }
   ],
   "source": [
    "# calculate the MAE of the model\n",
    "mae = mean_absolute_error(y_test, y_pred3)\n",
    "mae"
   ]
  },
  {
   "cell_type": "code",
   "execution_count": 35,
   "id": "6a5feeeb",
   "metadata": {
    "execution": {
     "iopub.execute_input": "2023-02-21T19:33:12.187912Z",
     "iopub.status.busy": "2023-02-21T19:33:12.187181Z",
     "iopub.status.idle": "2023-02-21T19:33:12.193705Z",
     "shell.execute_reply": "2023-02-21T19:33:12.192831Z"
    },
    "id": "501e9c60",
    "outputId": "89097be8-dd92-49ad-b915-206be6e65f24",
    "papermill": {
     "duration": 0.077553,
     "end_time": "2023-02-21T19:33:12.195819",
     "exception": false,
     "start_time": "2023-02-21T19:33:12.118266",
     "status": "completed"
    },
    "tags": []
   },
   "outputs": [
    {
     "data": {
      "text/plain": [
       "16.946610681950318"
      ]
     },
     "execution_count": 35,
     "metadata": {},
     "output_type": "execute_result"
    }
   ],
   "source": [
    "# calculate the MSE of the model\n",
    "mse = mean_squared_error(y_test, y_pred3)\n",
    "mse"
   ]
  },
  {
   "cell_type": "code",
   "execution_count": 36,
   "id": "27d2d36e",
   "metadata": {
    "execution": {
     "iopub.execute_input": "2023-02-21T19:33:12.335003Z",
     "iopub.status.busy": "2023-02-21T19:33:12.334546Z",
     "iopub.status.idle": "2023-02-21T19:33:12.342307Z",
     "shell.execute_reply": "2023-02-21T19:33:12.340863Z"
    },
    "id": "5fc21b67",
    "outputId": "fe9ad5fa-aa66-44fd-edb2-0023f7fad9c6",
    "papermill": {
     "duration": 0.081702,
     "end_time": "2023-02-21T19:33:12.344967",
     "exception": false,
     "start_time": "2023-02-21T19:33:12.263265",
     "status": "completed"
    },
    "tags": []
   },
   "outputs": [
    {
     "data": {
      "text/plain": [
       "4.116626128512318"
      ]
     },
     "execution_count": 36,
     "metadata": {},
     "output_type": "execute_result"
    }
   ],
   "source": [
    "# calculate the RMSE of the model\n",
    "rmse = np.sqrt(mse)\n",
    "rmse"
   ]
  },
  {
   "cell_type": "markdown",
   "id": "77e1b946",
   "metadata": {
    "id": "0c26024a",
    "papermill": {
     "duration": 0.06795,
     "end_time": "2023-02-21T19:33:12.485377",
     "exception": false,
     "start_time": "2023-02-21T19:33:12.417427",
     "status": "completed"
    },
    "tags": []
   },
   "source": [
    "##Clent 2 : St Josephs Hospital Health Center"
   ]
  },
  {
   "cell_type": "code",
   "execution_count": 37,
   "id": "48072f11",
   "metadata": {
    "execution": {
     "iopub.execute_input": "2023-02-21T19:33:12.632333Z",
     "iopub.status.busy": "2023-02-21T19:33:12.631553Z",
     "iopub.status.idle": "2023-02-21T19:33:12.792997Z",
     "shell.execute_reply": "2023-02-21T19:33:12.791501Z"
    },
    "id": "76e85433",
    "papermill": {
     "duration": 0.238005,
     "end_time": "2023-02-21T19:33:12.796592",
     "exception": false,
     "start_time": "2023-02-21T19:33:12.558587",
     "status": "completed"
    },
    "tags": []
   },
   "outputs": [],
   "source": [
    "Josephs_df=df[df[\"Facility Name\"]== 'St Josephs Hospital Health Center']"
   ]
  },
  {
   "cell_type": "code",
   "execution_count": 38,
   "id": "ca1851da",
   "metadata": {
    "execution": {
     "iopub.execute_input": "2023-02-21T19:33:12.940742Z",
     "iopub.status.busy": "2023-02-21T19:33:12.940311Z",
     "iopub.status.idle": "2023-02-21T19:33:12.952279Z",
     "shell.execute_reply": "2023-02-21T19:33:12.950952Z"
    },
    "id": "6392eff2",
    "outputId": "e911614e-4217-4d9c-b508-cde50df7353a",
    "papermill": {
     "duration": 0.087044,
     "end_time": "2023-02-21T19:33:12.956129",
     "exception": false,
     "start_time": "2023-02-21T19:33:12.869085",
     "status": "completed"
    },
    "tags": []
   },
   "outputs": [
    {
     "name": "stderr",
     "output_type": "stream",
     "text": [
      "/opt/conda/lib/python3.7/site-packages/ipykernel_launcher.py:3: SettingWithCopyWarning: \n",
      "A value is trying to be set on a copy of a slice from a DataFrame.\n",
      "Try using .loc[row_indexer,col_indexer] = value instead\n",
      "\n",
      "See the caveats in the documentation: https://pandas.pydata.org/pandas-docs/stable/user_guide/indexing.html#returning-a-view-versus-a-copy\n",
      "  This is separate from the ipykernel package so we can avoid doing imports until\n",
      "/opt/conda/lib/python3.7/site-packages/ipykernel_launcher.py:5: SettingWithCopyWarning: \n",
      "A value is trying to be set on a copy of a slice from a DataFrame.\n",
      "Try using .loc[row_indexer,col_indexer] = value instead\n",
      "\n",
      "See the caveats in the documentation: https://pandas.pydata.org/pandas-docs/stable/user_guide/indexing.html#returning-a-view-versus-a-copy\n",
      "  \"\"\"\n"
     ]
    }
   ],
   "source": [
    "#   simple mapping on binary features.\n",
    "Josephs_df['Abortion Edit Indicator'] = Josephs_df['Abortion Edit Indicator'].apply(\n",
    "     lambda x: 1 if x == 'Y' else (0 if x == 'N' else None))\n",
    "Josephs_df['Emergency Department Indicator'] = Josephs_df['Emergency Department Indicator'].apply(\n",
    "    lambda x: 1 if x == 'Y' else (0 if x == 'N' else None))"
   ]
  },
  {
   "cell_type": "code",
   "execution_count": 39,
   "id": "438ba478",
   "metadata": {
    "execution": {
     "iopub.execute_input": "2023-02-21T19:33:13.101451Z",
     "iopub.status.busy": "2023-02-21T19:33:13.101054Z",
     "iopub.status.idle": "2023-02-21T19:33:13.212521Z",
     "shell.execute_reply": "2023-02-21T19:33:13.211355Z"
    },
    "id": "d17d58a7",
    "outputId": "08d02224-72a9-4bf6-cf70-49e262b825dc",
    "papermill": {
     "duration": 0.184254,
     "end_time": "2023-02-21T19:33:13.215233",
     "exception": false,
     "start_time": "2023-02-21T19:33:13.030979",
     "status": "completed"
    },
    "tags": []
   },
   "outputs": [
    {
     "name": "stderr",
     "output_type": "stream",
     "text": [
      "/opt/conda/lib/python3.7/site-packages/ipykernel_launcher.py:29: SettingWithCopyWarning: \n",
      "A value is trying to be set on a copy of a slice from a DataFrame.\n",
      "Try using .loc[row_indexer,col_indexer] = value instead\n",
      "\n",
      "See the caveats in the documentation: https://pandas.pydata.org/pandas-docs/stable/user_guide/indexing.html#returning-a-view-versus-a-copy\n"
     ]
    }
   ],
   "source": [
    "list=  [ \"Hospital County\",\"Age Group\"\n",
    "    ,\"Gender\",   \n",
    " \"Race\" , \n",
    "\"Ethnicity\", \n",
    "\"Gender\" , \n",
    "\"Race\" ,    \n",
    " \"Ethnicity\" ,        \n",
    " \"Type of Admission\"  ,  \n",
    "  \"Patient Disposition\",      \n",
    " \"Type of Admission\" ,  \n",
    " \"Patient Disposition\"  ,\n",
    "  \"APR Risk of Mortality\" ,   \n",
    " \"APR Medical Surgical Description\" ,\n",
    " \"Payment Typology 1\"   ,   \n",
    " \"Abortion Edit Indicator\"     ,  \n",
    " \"Emergency Department Indicator\",\n",
    "       \"Zip Code - 3 digits\",\"Payment Typology 2\"        \n",
    "   ,\"Payment Typology 3\"]  \n",
    "\n",
    "# Import label encoder\n",
    "from sklearn import preprocessing\n",
    "  \n",
    "# label_encoder object knows how to understand word labels.        \n",
    "   \n",
    "label_encoder = preprocessing.LabelEncoder()\n",
    "  \n",
    "# Encode labels in column 'species'. \n",
    "for col in list :\n",
    "    Josephs_df[col]= label_encoder.fit_transform(Josephs_df[col])"
   ]
  },
  {
   "cell_type": "code",
   "execution_count": 40,
   "id": "49f89549",
   "metadata": {
    "execution": {
     "iopub.execute_input": "2023-02-21T19:33:13.352996Z",
     "iopub.status.busy": "2023-02-21T19:33:13.352559Z",
     "iopub.status.idle": "2023-02-21T19:33:13.363120Z",
     "shell.execute_reply": "2023-02-21T19:33:13.361893Z"
    },
    "id": "e397cec4",
    "papermill": {
     "duration": 0.083422,
     "end_time": "2023-02-21T19:33:13.366023",
     "exception": false,
     "start_time": "2023-02-21T19:33:13.282601",
     "status": "completed"
    },
    "tags": []
   },
   "outputs": [],
   "source": [
    "Josephs_df=Josephs_df.drop(\"Facility Name\", axis=1)\n"
   ]
  },
  {
   "cell_type": "code",
   "execution_count": 41,
   "id": "3295589f",
   "metadata": {
    "execution": {
     "iopub.execute_input": "2023-02-21T19:33:13.512611Z",
     "iopub.status.busy": "2023-02-21T19:33:13.512192Z",
     "iopub.status.idle": "2023-02-21T19:33:13.534988Z",
     "shell.execute_reply": "2023-02-21T19:33:13.533658Z"
    },
    "id": "3b791e2b",
    "papermill": {
     "duration": 0.101638,
     "end_time": "2023-02-21T19:33:13.537772",
     "exception": false,
     "start_time": "2023-02-21T19:33:13.436134",
     "status": "completed"
    },
    "tags": []
   },
   "outputs": [],
   "source": [
    "Josephs_df[\"Length of Stay\"]=pd.to_numeric(Josephs_df[\"Length of Stay\"],errors='coerce')\n"
   ]
  },
  {
   "cell_type": "code",
   "execution_count": 42,
   "id": "617209f1",
   "metadata": {
    "execution": {
     "iopub.execute_input": "2023-02-21T19:33:13.682141Z",
     "iopub.status.busy": "2023-02-21T19:33:13.680916Z",
     "iopub.status.idle": "2023-02-21T19:33:13.693260Z",
     "shell.execute_reply": "2023-02-21T19:33:13.692134Z"
    },
    "id": "24c62e93",
    "papermill": {
     "duration": 0.086161,
     "end_time": "2023-02-21T19:33:13.695876",
     "exception": false,
     "start_time": "2023-02-21T19:33:13.609715",
     "status": "completed"
    },
    "tags": []
   },
   "outputs": [],
   "source": [
    "Josephs_df.dropna(inplace=True)"
   ]
  },
  {
   "cell_type": "code",
   "execution_count": 43,
   "id": "bfbdd2b7",
   "metadata": {
    "execution": {
     "iopub.execute_input": "2023-02-21T19:33:13.835213Z",
     "iopub.status.busy": "2023-02-21T19:33:13.834229Z",
     "iopub.status.idle": "2023-02-21T19:33:13.851885Z",
     "shell.execute_reply": "2023-02-21T19:33:13.849912Z"
    },
    "id": "0d05c6ba",
    "outputId": "e3c20b57-65eb-415b-e674-8708ef6e05f8",
    "papermill": {
     "duration": 0.090146,
     "end_time": "2023-02-21T19:33:13.855149",
     "exception": false,
     "start_time": "2023-02-21T19:33:13.765003",
     "status": "completed"
    },
    "tags": []
   },
   "outputs": [
    {
     "name": "stdout",
     "output_type": "stream",
     "text": [
      "<class 'pandas.core.frame.DataFrame'>\n",
      "Int64Index: 25626 entries, 355968 to 433177\n",
      "Data columns (total 27 columns):\n",
      " #   Column                            Non-Null Count  Dtype  \n",
      "---  ------                            --------------  -----  \n",
      " 0   Hospital County                   25626 non-null  int64  \n",
      " 1   Operating Certificate Number      25626 non-null  float64\n",
      " 2   Facility Id                       25626 non-null  float64\n",
      " 3   Age Group                         25626 non-null  int64  \n",
      " 4   Zip Code - 3 digits               25626 non-null  int64  \n",
      " 5   Gender                            25626 non-null  int64  \n",
      " 6   Race                              25626 non-null  int64  \n",
      " 7   Ethnicity                         25626 non-null  int64  \n",
      " 8   Length of Stay                    25626 non-null  float64\n",
      " 9   Type of Admission                 25626 non-null  int64  \n",
      " 10  Patient Disposition               25626 non-null  int64  \n",
      " 11  Discharge Year                    25626 non-null  int64  \n",
      " 12  CCS Diagnosis Code                25626 non-null  int64  \n",
      " 13  CCS Procedure Code                25626 non-null  int64  \n",
      " 14  APR DRG Code                      25626 non-null  int64  \n",
      " 15  APR MDC Code                      25626 non-null  int64  \n",
      " 16  APR Severity of Illness Code      25626 non-null  int64  \n",
      " 17  APR Risk of Mortality             25626 non-null  int64  \n",
      " 18  APR Medical Surgical Description  25626 non-null  int64  \n",
      " 19  Payment Typology 1                25626 non-null  int64  \n",
      " 20  Payment Typology 2                25626 non-null  int64  \n",
      " 21  Payment Typology 3                25626 non-null  int64  \n",
      " 22  Birth Weight                      25626 non-null  int64  \n",
      " 23  Abortion Edit Indicator           25626 non-null  int64  \n",
      " 24  Emergency Department Indicator    25626 non-null  int64  \n",
      " 25  Total Charges                     25626 non-null  float64\n",
      " 26  Total Costs                       25626 non-null  float64\n",
      "dtypes: float64(5), int64(22)\n",
      "memory usage: 5.5 MB\n"
     ]
    }
   ],
   "source": [
    "Josephs_df.info()"
   ]
  },
  {
   "cell_type": "code",
   "execution_count": 44,
   "id": "399d5bd7",
   "metadata": {
    "execution": {
     "iopub.execute_input": "2023-02-21T19:33:13.996833Z",
     "iopub.status.busy": "2023-02-21T19:33:13.995632Z",
     "iopub.status.idle": "2023-02-21T19:33:14.003003Z",
     "shell.execute_reply": "2023-02-21T19:33:14.002090Z"
    },
    "id": "f44619ad",
    "papermill": {
     "duration": 0.079516,
     "end_time": "2023-02-21T19:33:14.005376",
     "exception": false,
     "start_time": "2023-02-21T19:33:13.925860",
     "status": "completed"
    },
    "tags": []
   },
   "outputs": [],
   "source": [
    "x = Josephs_df.drop([\"Length of Stay\"], axis =1)\n",
    "y = Josephs_df[\"Length of Stay\"]"
   ]
  },
  {
   "cell_type": "code",
   "execution_count": 45,
   "id": "cdba06a8",
   "metadata": {
    "execution": {
     "iopub.execute_input": "2023-02-21T19:33:14.145667Z",
     "iopub.status.busy": "2023-02-21T19:33:14.144454Z",
     "iopub.status.idle": "2023-02-21T19:33:14.158171Z",
     "shell.execute_reply": "2023-02-21T19:33:14.157229Z"
    },
    "id": "bcb44609",
    "papermill": {
     "duration": 0.086701,
     "end_time": "2023-02-21T19:33:14.160624",
     "exception": false,
     "start_time": "2023-02-21T19:33:14.073923",
     "status": "completed"
    },
    "tags": []
   },
   "outputs": [],
   "source": [
    "from sklearn.model_selection import train_test_split\n",
    "x_train, x_test, y_train, y_test = train_test_split(x, y, test_size=0.3, random_state=42)"
   ]
  },
  {
   "cell_type": "code",
   "execution_count": 46,
   "id": "52749344",
   "metadata": {
    "execution": {
     "iopub.execute_input": "2023-02-21T19:33:14.301684Z",
     "iopub.status.busy": "2023-02-21T19:33:14.300291Z",
     "iopub.status.idle": "2023-02-21T19:33:14.334815Z",
     "shell.execute_reply": "2023-02-21T19:33:14.333122Z"
    },
    "id": "0df71d89",
    "papermill": {
     "duration": 0.111239,
     "end_time": "2023-02-21T19:33:14.340414",
     "exception": false,
     "start_time": "2023-02-21T19:33:14.229175",
     "status": "completed"
    },
    "tags": []
   },
   "outputs": [],
   "source": [
    "# Linear Regression\n",
    "\n",
    "LR = LinearRegression()\n",
    "LR.fit(x_train, y_train)\n",
    "LR.score(x_train, y_train)\n",
    "y_pred =LR.predict(x_test)"
   ]
  },
  {
   "cell_type": "code",
   "execution_count": 47,
   "id": "f4400b26",
   "metadata": {
    "execution": {
     "iopub.execute_input": "2023-02-21T19:33:14.581647Z",
     "iopub.status.busy": "2023-02-21T19:33:14.581211Z",
     "iopub.status.idle": "2023-02-21T19:33:14.590686Z",
     "shell.execute_reply": "2023-02-21T19:33:14.589669Z"
    },
    "id": "cff5028b",
    "outputId": "2260f110-2124-4821-8ace-0a23b0f6496f",
    "papermill": {
     "duration": 0.105265,
     "end_time": "2023-02-21T19:33:14.593716",
     "exception": false,
     "start_time": "2023-02-21T19:33:14.488451",
     "status": "completed"
    },
    "tags": []
   },
   "outputs": [
    {
     "data": {
      "text/plain": [
       "0.6574754436024834"
      ]
     },
     "execution_count": 47,
     "metadata": {},
     "output_type": "execute_result"
    }
   ],
   "source": [
    "r2 = r2_score(y_test, y_pred)\n",
    "r2"
   ]
  },
  {
   "cell_type": "code",
   "execution_count": 48,
   "id": "7a0bfc6d",
   "metadata": {
    "execution": {
     "iopub.execute_input": "2023-02-21T19:33:14.747228Z",
     "iopub.status.busy": "2023-02-21T19:33:14.746073Z",
     "iopub.status.idle": "2023-02-21T19:33:14.755873Z",
     "shell.execute_reply": "2023-02-21T19:33:14.754838Z"
    },
    "id": "7936b5a9",
    "outputId": "0c016d59-f16b-466e-947b-961b4f33be21",
    "papermill": {
     "duration": 0.085941,
     "end_time": "2023-02-21T19:33:14.758405",
     "exception": false,
     "start_time": "2023-02-21T19:33:14.672464",
     "status": "completed"
    },
    "tags": []
   },
   "outputs": [
    {
     "data": {
      "text/plain": [
       "2.0719697846829397"
      ]
     },
     "execution_count": 48,
     "metadata": {},
     "output_type": "execute_result"
    }
   ],
   "source": [
    "# calculate the MAE of the model\n",
    "mae = mean_absolute_error(y_test, y_pred)\n",
    "mae"
   ]
  },
  {
   "cell_type": "code",
   "execution_count": 49,
   "id": "f096f212",
   "metadata": {
    "execution": {
     "iopub.execute_input": "2023-02-21T19:33:14.901752Z",
     "iopub.status.busy": "2023-02-21T19:33:14.901322Z",
     "iopub.status.idle": "2023-02-21T19:33:14.909646Z",
     "shell.execute_reply": "2023-02-21T19:33:14.908321Z"
    },
    "id": "2f6cd477",
    "outputId": "e3273bdd-c6d2-4940-f559-7f92bf37ba7a",
    "papermill": {
     "duration": 0.082857,
     "end_time": "2023-02-21T19:33:14.912078",
     "exception": false,
     "start_time": "2023-02-21T19:33:14.829221",
     "status": "completed"
    },
    "tags": []
   },
   "outputs": [
    {
     "data": {
      "text/plain": [
       "13.044654985643254"
      ]
     },
     "execution_count": 49,
     "metadata": {},
     "output_type": "execute_result"
    }
   ],
   "source": [
    "# calculate the MSE of the model\n",
    "mse = mean_squared_error(y_test, y_pred)\n",
    "mse"
   ]
  },
  {
   "cell_type": "code",
   "execution_count": 50,
   "id": "611afaf1",
   "metadata": {
    "execution": {
     "iopub.execute_input": "2023-02-21T19:33:15.057171Z",
     "iopub.status.busy": "2023-02-21T19:33:15.056328Z",
     "iopub.status.idle": "2023-02-21T19:33:15.063749Z",
     "shell.execute_reply": "2023-02-21T19:33:15.062676Z"
    },
    "id": "890b97d8",
    "outputId": "ef83b468-bfaa-4d57-ce03-506d06844f82",
    "papermill": {
     "duration": 0.081153,
     "end_time": "2023-02-21T19:33:15.066899",
     "exception": false,
     "start_time": "2023-02-21T19:33:14.985746",
     "status": "completed"
    },
    "tags": []
   },
   "outputs": [
    {
     "data": {
      "text/plain": [
       "3.6117384990670702"
      ]
     },
     "execution_count": 50,
     "metadata": {},
     "output_type": "execute_result"
    }
   ],
   "source": [
    "# calculate the RMSE of the model\n",
    "rmse = np.sqrt(mse)\n",
    "rmse"
   ]
  },
  {
   "cell_type": "code",
   "execution_count": 51,
   "id": "04112373",
   "metadata": {
    "execution": {
     "iopub.execute_input": "2023-02-21T19:33:15.272524Z",
     "iopub.status.busy": "2023-02-21T19:33:15.271411Z",
     "iopub.status.idle": "2023-02-21T19:33:15.312794Z",
     "shell.execute_reply": "2023-02-21T19:33:15.311260Z"
    },
    "id": "f9fa69b5",
    "papermill": {
     "duration": 0.126433,
     "end_time": "2023-02-21T19:33:15.318738",
     "exception": false,
     "start_time": "2023-02-21T19:33:15.192305",
     "status": "completed"
    },
    "tags": []
   },
   "outputs": [],
   "source": [
    "# LASSO\n",
    "L1 = linear_model.Lasso()\n",
    "L1.fit(x_train,y_train)\n",
    "y_pred1 = L1.predict(x_test)"
   ]
  },
  {
   "cell_type": "code",
   "execution_count": 52,
   "id": "d07db192",
   "metadata": {
    "execution": {
     "iopub.execute_input": "2023-02-21T19:33:15.535282Z",
     "iopub.status.busy": "2023-02-21T19:33:15.534836Z",
     "iopub.status.idle": "2023-02-21T19:33:15.543947Z",
     "shell.execute_reply": "2023-02-21T19:33:15.542792Z"
    },
    "id": "a57121cd",
    "outputId": "b7452cb6-3987-4b73-9e1b-f925b07ee722",
    "papermill": {
     "duration": 0.081837,
     "end_time": "2023-02-21T19:33:15.546484",
     "exception": false,
     "start_time": "2023-02-21T19:33:15.464647",
     "status": "completed"
    },
    "tags": []
   },
   "outputs": [
    {
     "data": {
      "text/plain": [
       "0.5810415145070502"
      ]
     },
     "execution_count": 52,
     "metadata": {},
     "output_type": "execute_result"
    }
   ],
   "source": [
    "r2 = r2_score(y_test, y_pred1)\n",
    "r2 "
   ]
  },
  {
   "cell_type": "code",
   "execution_count": 53,
   "id": "bd7d24f9",
   "metadata": {
    "execution": {
     "iopub.execute_input": "2023-02-21T19:33:15.697911Z",
     "iopub.status.busy": "2023-02-21T19:33:15.697413Z",
     "iopub.status.idle": "2023-02-21T19:33:15.706300Z",
     "shell.execute_reply": "2023-02-21T19:33:15.704857Z"
    },
    "id": "17724199",
    "outputId": "1fbe30e5-1818-4d5b-ace4-38a295addb76",
    "papermill": {
     "duration": 0.088293,
     "end_time": "2023-02-21T19:33:15.708612",
     "exception": false,
     "start_time": "2023-02-21T19:33:15.620319",
     "status": "completed"
    },
    "tags": []
   },
   "outputs": [
    {
     "data": {
      "text/plain": [
       "2.455629978876319"
      ]
     },
     "execution_count": 53,
     "metadata": {},
     "output_type": "execute_result"
    }
   ],
   "source": [
    "# calculate the MAE of the model\n",
    "mae = mean_absolute_error(y_test, y_pred1)\n",
    "mae"
   ]
  },
  {
   "cell_type": "code",
   "execution_count": 54,
   "id": "895616aa",
   "metadata": {
    "execution": {
     "iopub.execute_input": "2023-02-21T19:33:15.852070Z",
     "iopub.status.busy": "2023-02-21T19:33:15.850705Z",
     "iopub.status.idle": "2023-02-21T19:33:15.859737Z",
     "shell.execute_reply": "2023-02-21T19:33:15.858552Z"
    },
    "id": "6b672ece",
    "outputId": "553f8ac2-81d2-4ef9-a32f-f2d8be6792c2",
    "papermill": {
     "duration": 0.082329,
     "end_time": "2023-02-21T19:33:15.862090",
     "exception": false,
     "start_time": "2023-02-21T19:33:15.779761",
     "status": "completed"
    },
    "tags": []
   },
   "outputs": [
    {
     "data": {
      "text/plain": [
       "15.95555353473856"
      ]
     },
     "execution_count": 54,
     "metadata": {},
     "output_type": "execute_result"
    }
   ],
   "source": [
    "# calculate the MSE of the model\n",
    "mse = mean_squared_error(y_test, y_pred1)\n",
    "mse"
   ]
  },
  {
   "cell_type": "code",
   "execution_count": 55,
   "id": "bc198c5e",
   "metadata": {
    "execution": {
     "iopub.execute_input": "2023-02-21T19:33:16.006431Z",
     "iopub.status.busy": "2023-02-21T19:33:16.005123Z",
     "iopub.status.idle": "2023-02-21T19:33:16.012251Z",
     "shell.execute_reply": "2023-02-21T19:33:16.011201Z"
    },
    "id": "2ec08407",
    "outputId": "686f8af1-c7cf-45c3-f3ce-d7bf4072a303",
    "papermill": {
     "duration": 0.082047,
     "end_time": "2023-02-21T19:33:16.014629",
     "exception": false,
     "start_time": "2023-02-21T19:33:15.932582",
     "status": "completed"
    },
    "tags": []
   },
   "outputs": [
    {
     "data": {
      "text/plain": [
       "3.994440328098363"
      ]
     },
     "execution_count": 55,
     "metadata": {},
     "output_type": "execute_result"
    }
   ],
   "source": [
    "# calculate the RMSE of the model\n",
    "rmse = np.sqrt(mse)\n",
    "rmse"
   ]
  },
  {
   "cell_type": "code",
   "execution_count": 56,
   "id": "57e76f70",
   "metadata": {
    "execution": {
     "iopub.execute_input": "2023-02-21T19:33:16.155864Z",
     "iopub.status.busy": "2023-02-21T19:33:16.155256Z",
     "iopub.status.idle": "2023-02-21T19:33:16.183393Z",
     "shell.execute_reply": "2023-02-21T19:33:16.181487Z"
    },
    "id": "27329b1e",
    "papermill": {
     "duration": 0.104201,
     "end_time": "2023-02-21T19:33:16.188230",
     "exception": false,
     "start_time": "2023-02-21T19:33:16.084029",
     "status": "completed"
    },
    "tags": []
   },
   "outputs": [],
   "source": [
    "# Ridge\n",
    "L2 = Ridge(alpha=1.0)\n",
    "L2.fit(x_train, y_train) \n",
    "y_pred3 = L2.predict(x_test)"
   ]
  },
  {
   "cell_type": "code",
   "execution_count": 57,
   "id": "05b7da45",
   "metadata": {
    "execution": {
     "iopub.execute_input": "2023-02-21T19:33:16.399380Z",
     "iopub.status.busy": "2023-02-21T19:33:16.398907Z",
     "iopub.status.idle": "2023-02-21T19:33:16.406530Z",
     "shell.execute_reply": "2023-02-21T19:33:16.405588Z"
    },
    "id": "67bf6bf9",
    "outputId": "aed276b4-15d3-4f03-b265-a2343eaabb70",
    "papermill": {
     "duration": 0.080349,
     "end_time": "2023-02-21T19:33:16.408848",
     "exception": false,
     "start_time": "2023-02-21T19:33:16.328499",
     "status": "completed"
    },
    "tags": []
   },
   "outputs": [
    {
     "data": {
      "text/plain": [
       "0.6574730902842871"
      ]
     },
     "execution_count": 57,
     "metadata": {},
     "output_type": "execute_result"
    }
   ],
   "source": [
    "r2 = r2_score(y_test, y_pred3)\n",
    "r2 "
   ]
  },
  {
   "cell_type": "code",
   "execution_count": 58,
   "id": "b7291243",
   "metadata": {
    "execution": {
     "iopub.execute_input": "2023-02-21T19:33:16.553383Z",
     "iopub.status.busy": "2023-02-21T19:33:16.552551Z",
     "iopub.status.idle": "2023-02-21T19:33:16.559963Z",
     "shell.execute_reply": "2023-02-21T19:33:16.559118Z"
    },
    "id": "bbbfc8d2",
    "outputId": "8f1ca3b0-02bd-4383-9946-a81f13ed9e49",
    "papermill": {
     "duration": 0.084321,
     "end_time": "2023-02-21T19:33:16.562223",
     "exception": false,
     "start_time": "2023-02-21T19:33:16.477902",
     "status": "completed"
    },
    "tags": []
   },
   "outputs": [
    {
     "data": {
      "text/plain": [
       "2.071950047482412"
      ]
     },
     "execution_count": 58,
     "metadata": {},
     "output_type": "execute_result"
    }
   ],
   "source": [
    "# calculate the MAE of the model\n",
    "mae = mean_absolute_error(y_test, y_pred3)\n",
    "mae"
   ]
  },
  {
   "cell_type": "code",
   "execution_count": 59,
   "id": "3ef28d77",
   "metadata": {
    "execution": {
     "iopub.execute_input": "2023-02-21T19:33:16.709853Z",
     "iopub.status.busy": "2023-02-21T19:33:16.709155Z",
     "iopub.status.idle": "2023-02-21T19:33:16.717522Z",
     "shell.execute_reply": "2023-02-21T19:33:16.716671Z"
    },
    "id": "f33fc684",
    "outputId": "30f1eeaa-79b5-4dc6-c0ff-c40ba8a0da90",
    "papermill": {
     "duration": 0.081852,
     "end_time": "2023-02-21T19:33:16.719892",
     "exception": false,
     "start_time": "2023-02-21T19:33:16.638040",
     "status": "completed"
    },
    "tags": []
   },
   "outputs": [
    {
     "data": {
      "text/plain": [
       "13.0447446090684"
      ]
     },
     "execution_count": 59,
     "metadata": {},
     "output_type": "execute_result"
    }
   ],
   "source": [
    "# calculate the MSE of the model\n",
    "mse = mean_squared_error(y_test, y_pred3)\n",
    "mse"
   ]
  },
  {
   "cell_type": "code",
   "execution_count": 60,
   "id": "3d4a9708",
   "metadata": {
    "execution": {
     "iopub.execute_input": "2023-02-21T19:33:16.860871Z",
     "iopub.status.busy": "2023-02-21T19:33:16.860461Z",
     "iopub.status.idle": "2023-02-21T19:33:16.867641Z",
     "shell.execute_reply": "2023-02-21T19:33:16.866308Z"
    },
    "id": "0e0e79ce",
    "outputId": "ec61a6b8-7c40-4faa-826a-ff066fe56406",
    "papermill": {
     "duration": 0.080187,
     "end_time": "2023-02-21T19:33:16.870074",
     "exception": false,
     "start_time": "2023-02-21T19:33:16.789887",
     "status": "completed"
    },
    "tags": []
   },
   "outputs": [
    {
     "data": {
      "text/plain": [
       "3.6117509062874755"
      ]
     },
     "execution_count": 60,
     "metadata": {},
     "output_type": "execute_result"
    }
   ],
   "source": [
    "# calculate the RMSE of the model\n",
    "rmse = np.sqrt(mse)\n",
    "rmse"
   ]
  },
  {
   "cell_type": "markdown",
   "id": "830f668c",
   "metadata": {
    "id": "c439bef6",
    "papermill": {
     "duration": 0.070433,
     "end_time": "2023-02-21T19:33:17.011436",
     "exception": false,
     "start_time": "2023-02-21T19:33:16.941003",
     "status": "completed"
    },
    "tags": []
   },
   "source": [
    "##client 3 : Bronx-Lebanon "
   ]
  },
  {
   "cell_type": "code",
   "execution_count": 61,
   "id": "041d48d4",
   "metadata": {
    "execution": {
     "iopub.execute_input": "2023-02-21T19:33:17.152862Z",
     "iopub.status.busy": "2023-02-21T19:33:17.152043Z",
     "iopub.status.idle": "2023-02-21T19:33:17.308308Z",
     "shell.execute_reply": "2023-02-21T19:33:17.307125Z"
    },
    "id": "946a1b04",
    "papermill": {
     "duration": 0.231076,
     "end_time": "2023-02-21T19:33:17.311324",
     "exception": false,
     "start_time": "2023-02-21T19:33:17.080248",
     "status": "completed"
    },
    "tags": []
   },
   "outputs": [],
   "source": [
    "bronx=['Bronx-Lebanon Hospital Center - Fulton Division', 'Bronx-Lebanon Hospital Center - Concourse Division']\n",
    "Bronx_df1=df[df[\"Facility Name\"]== 'Bronx-Lebanon Hospital Center - Fulton Division']"
   ]
  },
  {
   "cell_type": "code",
   "execution_count": 62,
   "id": "7f28111e",
   "metadata": {
    "execution": {
     "iopub.execute_input": "2023-02-21T19:33:17.450872Z",
     "iopub.status.busy": "2023-02-21T19:33:17.449719Z",
     "iopub.status.idle": "2023-02-21T19:33:17.612641Z",
     "shell.execute_reply": "2023-02-21T19:33:17.611327Z"
    },
    "id": "8a2e23cb",
    "papermill": {
     "duration": 0.235789,
     "end_time": "2023-02-21T19:33:17.615659",
     "exception": false,
     "start_time": "2023-02-21T19:33:17.379870",
     "status": "completed"
    },
    "tags": []
   },
   "outputs": [],
   "source": [
    "Bronx_df2=df[df[\"Facility Name\"]== 'Bronx-Lebanon Hospital Center - Concourse Division']"
   ]
  },
  {
   "cell_type": "code",
   "execution_count": 63,
   "id": "8af8e017",
   "metadata": {
    "execution": {
     "iopub.execute_input": "2023-02-21T19:33:17.760287Z",
     "iopub.status.busy": "2023-02-21T19:33:17.759833Z",
     "iopub.status.idle": "2023-02-21T19:33:17.766174Z",
     "shell.execute_reply": "2023-02-21T19:33:17.764078Z"
    },
    "id": "078ccff4",
    "papermill": {
     "duration": 0.082761,
     "end_time": "2023-02-21T19:33:17.768926",
     "exception": false,
     "start_time": "2023-02-21T19:33:17.686165",
     "status": "completed"
    },
    "tags": []
   },
   "outputs": [],
   "source": [
    "l = [Bronx_df1,Bronx_df2]"
   ]
  },
  {
   "cell_type": "code",
   "execution_count": 64,
   "id": "29e894bb",
   "metadata": {
    "execution": {
     "iopub.execute_input": "2023-02-21T19:33:17.914086Z",
     "iopub.status.busy": "2023-02-21T19:33:17.913402Z",
     "iopub.status.idle": "2023-02-21T19:33:17.967968Z",
     "shell.execute_reply": "2023-02-21T19:33:17.966831Z"
    },
    "id": "587541df",
    "outputId": "17c6c08d-00a0-467f-e84e-53c3b77334de",
    "papermill": {
     "duration": 0.128305,
     "end_time": "2023-02-21T19:33:17.970560",
     "exception": false,
     "start_time": "2023-02-21T19:33:17.842255",
     "status": "completed"
    },
    "tags": []
   },
   "outputs": [
    {
     "data": {
      "text/html": [
       "<div>\n",
       "<style scoped>\n",
       "    .dataframe tbody tr th:only-of-type {\n",
       "        vertical-align: middle;\n",
       "    }\n",
       "\n",
       "    .dataframe tbody tr th {\n",
       "        vertical-align: top;\n",
       "    }\n",
       "\n",
       "    .dataframe thead th {\n",
       "        text-align: right;\n",
       "    }\n",
       "</style>\n",
       "<table border=\"1\" class=\"dataframe\">\n",
       "  <thead>\n",
       "    <tr style=\"text-align: right;\">\n",
       "      <th></th>\n",
       "      <th>Hospital County</th>\n",
       "      <th>Operating Certificate Number</th>\n",
       "      <th>Facility Id</th>\n",
       "      <th>Facility Name</th>\n",
       "      <th>Age Group</th>\n",
       "      <th>Zip Code - 3 digits</th>\n",
       "      <th>Gender</th>\n",
       "      <th>Race</th>\n",
       "      <th>Ethnicity</th>\n",
       "      <th>Length of Stay</th>\n",
       "      <th>...</th>\n",
       "      <th>APR Risk of Mortality</th>\n",
       "      <th>APR Medical Surgical Description</th>\n",
       "      <th>Payment Typology 1</th>\n",
       "      <th>Payment Typology 2</th>\n",
       "      <th>Payment Typology 3</th>\n",
       "      <th>Birth Weight</th>\n",
       "      <th>Abortion Edit Indicator</th>\n",
       "      <th>Emergency Department Indicator</th>\n",
       "      <th>Total Charges</th>\n",
       "      <th>Total Costs</th>\n",
       "    </tr>\n",
       "  </thead>\n",
       "  <tbody>\n",
       "    <tr>\n",
       "      <th>905707</th>\n",
       "      <td>Bronx</td>\n",
       "      <td>7000001.0</td>\n",
       "      <td>1164.0</td>\n",
       "      <td>Bronx-Lebanon Hospital Center - Fulton Division</td>\n",
       "      <td>50 to 69</td>\n",
       "      <td>104</td>\n",
       "      <td>M</td>\n",
       "      <td>White</td>\n",
       "      <td>Not Span/Hispanic</td>\n",
       "      <td>3</td>\n",
       "      <td>...</td>\n",
       "      <td>Minor</td>\n",
       "      <td>Medical</td>\n",
       "      <td>Medicaid</td>\n",
       "      <td>NaN</td>\n",
       "      <td>NaN</td>\n",
       "      <td>0</td>\n",
       "      <td>N</td>\n",
       "      <td>Y</td>\n",
       "      <td>9004.46</td>\n",
       "      <td>7831.22</td>\n",
       "    </tr>\n",
       "    <tr>\n",
       "      <th>905777</th>\n",
       "      <td>Bronx</td>\n",
       "      <td>7000001.0</td>\n",
       "      <td>1164.0</td>\n",
       "      <td>Bronx-Lebanon Hospital Center - Fulton Division</td>\n",
       "      <td>18 to 29</td>\n",
       "      <td>104</td>\n",
       "      <td>M</td>\n",
       "      <td>Other Race</td>\n",
       "      <td>Unknown</td>\n",
       "      <td>11</td>\n",
       "      <td>...</td>\n",
       "      <td>Minor</td>\n",
       "      <td>Medical</td>\n",
       "      <td>Medicaid</td>\n",
       "      <td>NaN</td>\n",
       "      <td>NaN</td>\n",
       "      <td>0</td>\n",
       "      <td>N</td>\n",
       "      <td>N</td>\n",
       "      <td>18290.67</td>\n",
       "      <td>16470.61</td>\n",
       "    </tr>\n",
       "    <tr>\n",
       "      <th>911991</th>\n",
       "      <td>Bronx</td>\n",
       "      <td>7000001.0</td>\n",
       "      <td>1164.0</td>\n",
       "      <td>Bronx-Lebanon Hospital Center - Fulton Division</td>\n",
       "      <td>50 to 69</td>\n",
       "      <td>104</td>\n",
       "      <td>F</td>\n",
       "      <td>Other Race</td>\n",
       "      <td>Unknown</td>\n",
       "      <td>6</td>\n",
       "      <td>...</td>\n",
       "      <td>Minor</td>\n",
       "      <td>Medical</td>\n",
       "      <td>Medicaid</td>\n",
       "      <td>NaN</td>\n",
       "      <td>NaN</td>\n",
       "      <td>0</td>\n",
       "      <td>N</td>\n",
       "      <td>N</td>\n",
       "      <td>10959.98</td>\n",
       "      <td>10114.66</td>\n",
       "    </tr>\n",
       "    <tr>\n",
       "      <th>912090</th>\n",
       "      <td>Bronx</td>\n",
       "      <td>7000001.0</td>\n",
       "      <td>1164.0</td>\n",
       "      <td>Bronx-Lebanon Hospital Center - Fulton Division</td>\n",
       "      <td>18 to 29</td>\n",
       "      <td>104</td>\n",
       "      <td>M</td>\n",
       "      <td>Other Race</td>\n",
       "      <td>Unknown</td>\n",
       "      <td>22</td>\n",
       "      <td>...</td>\n",
       "      <td>Minor</td>\n",
       "      <td>Medical</td>\n",
       "      <td>Medicaid</td>\n",
       "      <td>NaN</td>\n",
       "      <td>NaN</td>\n",
       "      <td>0</td>\n",
       "      <td>N</td>\n",
       "      <td>Y</td>\n",
       "      <td>32614.70</td>\n",
       "      <td>29786.31</td>\n",
       "    </tr>\n",
       "    <tr>\n",
       "      <th>912212</th>\n",
       "      <td>Bronx</td>\n",
       "      <td>7000001.0</td>\n",
       "      <td>1164.0</td>\n",
       "      <td>Bronx-Lebanon Hospital Center - Fulton Division</td>\n",
       "      <td>50 to 69</td>\n",
       "      <td>104</td>\n",
       "      <td>M</td>\n",
       "      <td>Other Race</td>\n",
       "      <td>Spanish/Hispanic</td>\n",
       "      <td>3</td>\n",
       "      <td>...</td>\n",
       "      <td>Minor</td>\n",
       "      <td>Medical</td>\n",
       "      <td>Medicaid</td>\n",
       "      <td>NaN</td>\n",
       "      <td>NaN</td>\n",
       "      <td>0</td>\n",
       "      <td>N</td>\n",
       "      <td>Y</td>\n",
       "      <td>7838.81</td>\n",
       "      <td>7002.57</td>\n",
       "    </tr>\n",
       "    <tr>\n",
       "      <th>...</th>\n",
       "      <td>...</td>\n",
       "      <td>...</td>\n",
       "      <td>...</td>\n",
       "      <td>...</td>\n",
       "      <td>...</td>\n",
       "      <td>...</td>\n",
       "      <td>...</td>\n",
       "      <td>...</td>\n",
       "      <td>...</td>\n",
       "      <td>...</td>\n",
       "      <td>...</td>\n",
       "      <td>...</td>\n",
       "      <td>...</td>\n",
       "      <td>...</td>\n",
       "      <td>...</td>\n",
       "      <td>...</td>\n",
       "      <td>...</td>\n",
       "      <td>...</td>\n",
       "      <td>...</td>\n",
       "      <td>...</td>\n",
       "      <td>...</td>\n",
       "    </tr>\n",
       "    <tr>\n",
       "      <th>1065404</th>\n",
       "      <td>Bronx</td>\n",
       "      <td>7000001.0</td>\n",
       "      <td>1178.0</td>\n",
       "      <td>Bronx-Lebanon Hospital Center - Concourse Divi...</td>\n",
       "      <td>18 to 29</td>\n",
       "      <td>104</td>\n",
       "      <td>F</td>\n",
       "      <td>Other Race</td>\n",
       "      <td>Unknown</td>\n",
       "      <td>2</td>\n",
       "      <td>...</td>\n",
       "      <td>Minor</td>\n",
       "      <td>Medical</td>\n",
       "      <td>Medicaid</td>\n",
       "      <td>Medicaid</td>\n",
       "      <td>NaN</td>\n",
       "      <td>0</td>\n",
       "      <td>N</td>\n",
       "      <td>N</td>\n",
       "      <td>7194.54</td>\n",
       "      <td>8400.69</td>\n",
       "    </tr>\n",
       "    <tr>\n",
       "      <th>1065405</th>\n",
       "      <td>Bronx</td>\n",
       "      <td>7000001.0</td>\n",
       "      <td>1178.0</td>\n",
       "      <td>Bronx-Lebanon Hospital Center - Concourse Divi...</td>\n",
       "      <td>30 to 49</td>\n",
       "      <td>104</td>\n",
       "      <td>F</td>\n",
       "      <td>Other Race</td>\n",
       "      <td>Unknown</td>\n",
       "      <td>2</td>\n",
       "      <td>...</td>\n",
       "      <td>Minor</td>\n",
       "      <td>Medical</td>\n",
       "      <td>Medicaid</td>\n",
       "      <td>NaN</td>\n",
       "      <td>NaN</td>\n",
       "      <td>0</td>\n",
       "      <td>N</td>\n",
       "      <td>N</td>\n",
       "      <td>9129.09</td>\n",
       "      <td>9080.43</td>\n",
       "    </tr>\n",
       "    <tr>\n",
       "      <th>1065406</th>\n",
       "      <td>Bronx</td>\n",
       "      <td>7000001.0</td>\n",
       "      <td>1178.0</td>\n",
       "      <td>Bronx-Lebanon Hospital Center - Concourse Divi...</td>\n",
       "      <td>0 to 17</td>\n",
       "      <td>104</td>\n",
       "      <td>F</td>\n",
       "      <td>Other Race</td>\n",
       "      <td>Spanish/Hispanic</td>\n",
       "      <td>3</td>\n",
       "      <td>...</td>\n",
       "      <td>Minor</td>\n",
       "      <td>Medical</td>\n",
       "      <td>Private Health Insurance</td>\n",
       "      <td>Private Health Insurance</td>\n",
       "      <td>Medicaid</td>\n",
       "      <td>0</td>\n",
       "      <td>N</td>\n",
       "      <td>Y</td>\n",
       "      <td>14112.64</td>\n",
       "      <td>10711.62</td>\n",
       "    </tr>\n",
       "    <tr>\n",
       "      <th>1065407</th>\n",
       "      <td>Bronx</td>\n",
       "      <td>7000001.0</td>\n",
       "      <td>1178.0</td>\n",
       "      <td>Bronx-Lebanon Hospital Center - Concourse Divi...</td>\n",
       "      <td>70 or Older</td>\n",
       "      <td>104</td>\n",
       "      <td>F</td>\n",
       "      <td>Black/African American</td>\n",
       "      <td>Not Span/Hispanic</td>\n",
       "      <td>5</td>\n",
       "      <td>...</td>\n",
       "      <td>Major</td>\n",
       "      <td>Medical</td>\n",
       "      <td>Medicare</td>\n",
       "      <td>Medicare</td>\n",
       "      <td>Medicaid</td>\n",
       "      <td>0</td>\n",
       "      <td>N</td>\n",
       "      <td>Y</td>\n",
       "      <td>14171.30</td>\n",
       "      <td>16734.73</td>\n",
       "    </tr>\n",
       "    <tr>\n",
       "      <th>1065408</th>\n",
       "      <td>Bronx</td>\n",
       "      <td>7000001.0</td>\n",
       "      <td>1178.0</td>\n",
       "      <td>Bronx-Lebanon Hospital Center - Concourse Divi...</td>\n",
       "      <td>50 to 69</td>\n",
       "      <td>104</td>\n",
       "      <td>F</td>\n",
       "      <td>Black/African American</td>\n",
       "      <td>Not Span/Hispanic</td>\n",
       "      <td>9</td>\n",
       "      <td>...</td>\n",
       "      <td>Extreme</td>\n",
       "      <td>Medical</td>\n",
       "      <td>Medicare</td>\n",
       "      <td>Medicare</td>\n",
       "      <td>Medicaid</td>\n",
       "      <td>0</td>\n",
       "      <td>N</td>\n",
       "      <td>Y</td>\n",
       "      <td>27666.71</td>\n",
       "      <td>29439.26</td>\n",
       "    </tr>\n",
       "  </tbody>\n",
       "</table>\n",
       "<p>31978 rows × 28 columns</p>\n",
       "</div>"
      ],
      "text/plain": [
       "        Hospital County  Operating Certificate Number  Facility Id  \\\n",
       "905707            Bronx                     7000001.0       1164.0   \n",
       "905777            Bronx                     7000001.0       1164.0   \n",
       "911991            Bronx                     7000001.0       1164.0   \n",
       "912090            Bronx                     7000001.0       1164.0   \n",
       "912212            Bronx                     7000001.0       1164.0   \n",
       "...                 ...                           ...          ...   \n",
       "1065404           Bronx                     7000001.0       1178.0   \n",
       "1065405           Bronx                     7000001.0       1178.0   \n",
       "1065406           Bronx                     7000001.0       1178.0   \n",
       "1065407           Bronx                     7000001.0       1178.0   \n",
       "1065408           Bronx                     7000001.0       1178.0   \n",
       "\n",
       "                                             Facility Name    Age Group  \\\n",
       "905707     Bronx-Lebanon Hospital Center - Fulton Division     50 to 69   \n",
       "905777     Bronx-Lebanon Hospital Center - Fulton Division     18 to 29   \n",
       "911991     Bronx-Lebanon Hospital Center - Fulton Division     50 to 69   \n",
       "912090     Bronx-Lebanon Hospital Center - Fulton Division     18 to 29   \n",
       "912212     Bronx-Lebanon Hospital Center - Fulton Division     50 to 69   \n",
       "...                                                    ...          ...   \n",
       "1065404  Bronx-Lebanon Hospital Center - Concourse Divi...     18 to 29   \n",
       "1065405  Bronx-Lebanon Hospital Center - Concourse Divi...     30 to 49   \n",
       "1065406  Bronx-Lebanon Hospital Center - Concourse Divi...      0 to 17   \n",
       "1065407  Bronx-Lebanon Hospital Center - Concourse Divi...  70 or Older   \n",
       "1065408  Bronx-Lebanon Hospital Center - Concourse Divi...     50 to 69   \n",
       "\n",
       "        Zip Code - 3 digits Gender                    Race          Ethnicity  \\\n",
       "905707                  104      M                   White  Not Span/Hispanic   \n",
       "905777                  104      M              Other Race            Unknown   \n",
       "911991                  104      F              Other Race            Unknown   \n",
       "912090                  104      M              Other Race            Unknown   \n",
       "912212                  104      M              Other Race   Spanish/Hispanic   \n",
       "...                     ...    ...                     ...                ...   \n",
       "1065404                 104      F              Other Race            Unknown   \n",
       "1065405                 104      F              Other Race            Unknown   \n",
       "1065406                 104      F              Other Race   Spanish/Hispanic   \n",
       "1065407                 104      F  Black/African American  Not Span/Hispanic   \n",
       "1065408                 104      F  Black/African American  Not Span/Hispanic   \n",
       "\n",
       "        Length of Stay  ... APR Risk of Mortality  \\\n",
       "905707               3  ...                 Minor   \n",
       "905777              11  ...                 Minor   \n",
       "911991               6  ...                 Minor   \n",
       "912090              22  ...                 Minor   \n",
       "912212               3  ...                 Minor   \n",
       "...                ...  ...                   ...   \n",
       "1065404              2  ...                 Minor   \n",
       "1065405              2  ...                 Minor   \n",
       "1065406              3  ...                 Minor   \n",
       "1065407              5  ...                 Major   \n",
       "1065408              9  ...               Extreme   \n",
       "\n",
       "        APR Medical Surgical Description        Payment Typology 1  \\\n",
       "905707                           Medical                  Medicaid   \n",
       "905777                           Medical                  Medicaid   \n",
       "911991                           Medical                  Medicaid   \n",
       "912090                           Medical                  Medicaid   \n",
       "912212                           Medical                  Medicaid   \n",
       "...                                  ...                       ...   \n",
       "1065404                          Medical                  Medicaid   \n",
       "1065405                          Medical                  Medicaid   \n",
       "1065406                          Medical  Private Health Insurance   \n",
       "1065407                          Medical                  Medicare   \n",
       "1065408                          Medical                  Medicare   \n",
       "\n",
       "               Payment Typology 2  Payment Typology 3  Birth Weight  \\\n",
       "905707                        NaN                 NaN             0   \n",
       "905777                        NaN                 NaN             0   \n",
       "911991                        NaN                 NaN             0   \n",
       "912090                        NaN                 NaN             0   \n",
       "912212                        NaN                 NaN             0   \n",
       "...                           ...                 ...           ...   \n",
       "1065404                  Medicaid                 NaN             0   \n",
       "1065405                       NaN                 NaN             0   \n",
       "1065406  Private Health Insurance            Medicaid             0   \n",
       "1065407                  Medicare            Medicaid             0   \n",
       "1065408                  Medicare            Medicaid             0   \n",
       "\n",
       "         Abortion Edit Indicator  Emergency Department Indicator  \\\n",
       "905707                         N                               Y   \n",
       "905777                         N                               N   \n",
       "911991                         N                               N   \n",
       "912090                         N                               Y   \n",
       "912212                         N                               Y   \n",
       "...                          ...                             ...   \n",
       "1065404                        N                               N   \n",
       "1065405                        N                               N   \n",
       "1065406                        N                               Y   \n",
       "1065407                        N                               Y   \n",
       "1065408                        N                               Y   \n",
       "\n",
       "        Total Charges Total Costs  \n",
       "905707        9004.46     7831.22  \n",
       "905777       18290.67    16470.61  \n",
       "911991       10959.98    10114.66  \n",
       "912090       32614.70    29786.31  \n",
       "912212        7838.81     7002.57  \n",
       "...               ...         ...  \n",
       "1065404       7194.54     8400.69  \n",
       "1065405       9129.09     9080.43  \n",
       "1065406      14112.64    10711.62  \n",
       "1065407      14171.30    16734.73  \n",
       "1065408      27666.71    29439.26  \n",
       "\n",
       "[31978 rows x 28 columns]"
      ]
     },
     "metadata": {},
     "output_type": "display_data"
    }
   ],
   "source": [
    "Bronx_df= pd.concat(l)\n",
    "display(Bronx_df)"
   ]
  },
  {
   "cell_type": "code",
   "execution_count": 65,
   "id": "4b767f01",
   "metadata": {
    "execution": {
     "iopub.execute_input": "2023-02-21T19:33:18.112579Z",
     "iopub.status.busy": "2023-02-21T19:33:18.112184Z",
     "iopub.status.idle": "2023-02-21T19:33:18.137291Z",
     "shell.execute_reply": "2023-02-21T19:33:18.136404Z"
    },
    "id": "baf0c0b4",
    "outputId": "d8b922dc-1561-439c-d5bd-e00fea896e9a",
    "papermill": {
     "duration": 0.099509,
     "end_time": "2023-02-21T19:33:18.140334",
     "exception": false,
     "start_time": "2023-02-21T19:33:18.040825",
     "status": "completed"
    },
    "tags": []
   },
   "outputs": [
    {
     "name": "stdout",
     "output_type": "stream",
     "text": [
      "<class 'pandas.core.frame.DataFrame'>\n",
      "Int64Index: 31978 entries, 905707 to 1065408\n",
      "Data columns (total 28 columns):\n",
      " #   Column                            Non-Null Count  Dtype   \n",
      "---  ------                            --------------  -----   \n",
      " 0   Hospital County                   31978 non-null  category\n",
      " 1   Operating Certificate Number      31978 non-null  float64 \n",
      " 2   Facility Id                       31978 non-null  float64 \n",
      " 3   Facility Name                     31978 non-null  object  \n",
      " 4   Age Group                         31978 non-null  category\n",
      " 5   Zip Code - 3 digits               31061 non-null  category\n",
      " 6   Gender                            31978 non-null  category\n",
      " 7   Race                              31978 non-null  category\n",
      " 8   Ethnicity                         31978 non-null  category\n",
      " 9   Length of Stay                    31978 non-null  category\n",
      " 10  Type of Admission                 31978 non-null  category\n",
      " 11  Patient Disposition               31978 non-null  category\n",
      " 12  Discharge Year                    31978 non-null  int64   \n",
      " 13  CCS Diagnosis Code                31978 non-null  int64   \n",
      " 14  CCS Procedure Code                31978 non-null  int64   \n",
      " 15  APR DRG Code                      31978 non-null  int64   \n",
      " 16  APR MDC Code                      31978 non-null  int64   \n",
      " 17  APR Severity of Illness Code      31978 non-null  int64   \n",
      " 18  APR Risk of Mortality             31966 non-null  category\n",
      " 19  APR Medical Surgical Description  31978 non-null  category\n",
      " 20  Payment Typology 1                31978 non-null  category\n",
      " 21  Payment Typology 2                22458 non-null  category\n",
      " 22  Payment Typology 3                3818 non-null   category\n",
      " 23  Birth Weight                      31978 non-null  int64   \n",
      " 24  Abortion Edit Indicator           31978 non-null  category\n",
      " 25  Emergency Department Indicator    31978 non-null  category\n",
      " 26  Total Charges                     31978 non-null  float64 \n",
      " 27  Total Costs                       31978 non-null  float64 \n",
      "dtypes: category(16), float64(4), int64(7), object(1)\n",
      "memory usage: 3.7+ MB\n"
     ]
    }
   ],
   "source": [
    "Bronx_df.info()"
   ]
  },
  {
   "cell_type": "code",
   "execution_count": 66,
   "id": "335b9552",
   "metadata": {
    "execution": {
     "iopub.execute_input": "2023-02-21T19:33:18.282454Z",
     "iopub.status.busy": "2023-02-21T19:33:18.281702Z",
     "iopub.status.idle": "2023-02-21T19:33:18.291391Z",
     "shell.execute_reply": "2023-02-21T19:33:18.290313Z"
    },
    "id": "3b2298ec",
    "papermill": {
     "duration": 0.084214,
     "end_time": "2023-02-21T19:33:18.294105",
     "exception": false,
     "start_time": "2023-02-21T19:33:18.209891",
     "status": "completed"
    },
    "tags": []
   },
   "outputs": [],
   "source": [
    "Bronx_df = Bronx_df.drop([\"Payment Typology 2\",    \"Payment Typology 3\"], axis=1)"
   ]
  },
  {
   "cell_type": "code",
   "execution_count": 67,
   "id": "8b6aa361",
   "metadata": {
    "execution": {
     "iopub.execute_input": "2023-02-21T19:33:18.437835Z",
     "iopub.status.busy": "2023-02-21T19:33:18.437402Z",
     "iopub.status.idle": "2023-02-21T19:33:18.517013Z",
     "shell.execute_reply": "2023-02-21T19:33:18.515563Z"
    },
    "id": "7ad99e6b",
    "outputId": "c83f06b7-989a-4f10-8e95-14b3d4421995",
    "papermill": {
     "duration": 0.156666,
     "end_time": "2023-02-21T19:33:18.520947",
     "exception": false,
     "start_time": "2023-02-21T19:33:18.364281",
     "status": "completed"
    },
    "tags": []
   },
   "outputs": [
    {
     "name": "stdout",
     "output_type": "stream",
     "text": [
      "Hospital County : 1\n",
      "Bronx          31978\n",
      "Albany             0\n",
      "Schenectady        0\n",
      "Onondaga           0\n",
      "Ontario            0\n",
      "Name: Hospital County, dtype: int64\n",
      "\n",
      "********************\n",
      "\n",
      "Operating Certificate Number : 1\n",
      "7000001.0    31978\n",
      "Name: Operating Certificate Number, dtype: int64\n",
      "\n",
      "********************\n",
      "\n",
      "Facility Id : 2\n",
      "1178.0    27369\n",
      "1164.0     4609\n",
      "Name: Facility Id, dtype: int64\n",
      "\n",
      "********************\n",
      "\n",
      "Facility Name : 2\n",
      "Bronx-Lebanon Hospital Center - Concourse Division    27369\n",
      "Bronx-Lebanon Hospital Center - Fulton Division        4609\n",
      "Name: Facility Name, dtype: int64\n",
      "\n",
      "********************\n",
      "\n",
      "Age Group : 5\n",
      "50 to 69       10654\n",
      "30 to 49        8444\n",
      "0 to 17         4601\n",
      "70 or Older     4206\n",
      "18 to 29        4073\n",
      "Name: Age Group, dtype: int64\n",
      "\n",
      "********************\n",
      "\n",
      "Zip Code - 3 digits : 20\n",
      "104    28864\n",
      "100     1010\n",
      "OOS      480\n",
      "112      358\n",
      "114      101\n",
      "Name: Zip Code - 3 digits, dtype: int64\n",
      "\n",
      "********************\n",
      "\n",
      "Gender : 2\n",
      "F    17142\n",
      "M    14836\n",
      "U        0\n",
      "Name: Gender, dtype: int64\n",
      "\n",
      "********************\n",
      "\n",
      "Race : 3\n",
      "Other Race                19618\n",
      "Black/African American    11211\n",
      "White                      1149\n",
      "Multi-racial                  0\n",
      "Name: Race, dtype: int64\n",
      "\n",
      "********************\n",
      "\n",
      "Ethnicity : 3\n",
      "Not Span/Hispanic    12052\n",
      "Unknown              11700\n",
      "Spanish/Hispanic      8226\n",
      "Multi-ethnic             0\n",
      "Name: Ethnicity, dtype: int64\n",
      "\n",
      "********************\n",
      "\n",
      "Length of Stay : 177\n",
      "2    4312\n",
      "2    3463\n",
      "3    3307\n",
      "3    2985\n",
      "1    2786\n",
      "Name: Length of Stay, dtype: int64\n",
      "\n",
      "********************\n",
      "\n",
      "Type of Admission : 4\n",
      "Emergency        23007\n",
      "Elective          4378\n",
      "Urgent            2356\n",
      "Newborn           2237\n",
      "Not Available        0\n",
      "Name: Type of Admission, dtype: int64\n",
      "\n",
      "********************\n",
      "\n",
      "Patient Disposition : 13\n",
      "Home or Self Care                    24402\n",
      "Home w/ Home Health Services          1905\n",
      "Left Against Medical Advice           1676\n",
      "Skilled Nursing Home                  1653\n",
      "Inpatient Rehabilitation Facility      473\n",
      "Name: Patient Disposition, dtype: int64\n",
      "\n",
      "********************\n",
      "\n",
      "Discharge Year : 1\n",
      "2015    31978\n",
      "Name: Discharge Year, dtype: int64\n",
      "\n",
      "********************\n",
      "\n",
      "CCS Diagnosis Code : 244\n",
      "218    2230\n",
      "660    1382\n",
      "102    1231\n",
      "661    1193\n",
      "659    1171\n",
      "Name: CCS Diagnosis Code, dtype: int64\n",
      "\n",
      "********************\n",
      "\n",
      "CCS Procedure Code : 201\n",
      "0      9904\n",
      "218    2038\n",
      "219    1924\n",
      "228    1570\n",
      "216    1274\n",
      "Name: CCS Procedure Code, dtype: int64\n",
      "\n",
      "********************\n",
      "\n",
      "APR DRG Code : 281\n",
      "640    1831\n",
      "560    1333\n",
      "750    1041\n",
      "203     980\n",
      "540     821\n",
      "Name: APR DRG Code, dtype: int64\n",
      "\n",
      "********************\n",
      "\n",
      "APR MDC Code : 25\n",
      "5     4109\n",
      "4     3395\n",
      "14    2730\n",
      "6     2668\n",
      "19    2529\n",
      "Name: APR MDC Code, dtype: int64\n",
      "\n",
      "********************\n",
      "\n",
      "APR Severity of Illness Code : 5\n",
      "2    15090\n",
      "1     9369\n",
      "3     6214\n",
      "4     1293\n",
      "0       12\n",
      "Name: APR Severity of Illness Code, dtype: int64\n",
      "\n",
      "********************\n",
      "\n",
      "APR Risk of Mortality : 4\n",
      "Minor       21295\n",
      "Moderate     6759\n",
      "Major        2886\n",
      "Extreme      1026\n",
      "Name: APR Risk of Mortality, dtype: int64\n",
      "\n",
      "********************\n",
      "\n",
      "APR Medical Surgical Description : 3\n",
      "Medical           27761\n",
      "Surgical           4205\n",
      "Not Applicable       12\n",
      "Name: APR Medical Surgical Description, dtype: int64\n",
      "\n",
      "********************\n",
      "\n",
      "Payment Typology 1 : 7\n",
      "Medicaid                    21613\n",
      "Medicare                     7283\n",
      "Private Health Insurance     1672\n",
      "Blue Cross/Blue Shield        660\n",
      "Miscellaneous/Other           553\n",
      "Name: Payment Typology 1, dtype: int64\n",
      "\n",
      "********************\n",
      "\n",
      "Birth Weight : 48\n",
      "0       29668\n",
      "3100      217\n",
      "3200      205\n",
      "3300      176\n",
      "3500      175\n",
      "Name: Birth Weight, dtype: int64\n",
      "\n",
      "********************\n",
      "\n",
      "Abortion Edit Indicator : 1\n",
      "N    31978\n",
      "Y        0\n",
      "Name: Abortion Edit Indicator, dtype: int64\n",
      "\n",
      "********************\n",
      "\n",
      "Emergency Department Indicator : 2\n",
      "Y    22195\n",
      "N     9783\n",
      "Name: Emergency Department Indicator, dtype: int64\n",
      "\n",
      "********************\n",
      "\n",
      "Total Charges : 30682\n",
      "4052.71    131\n",
      "4524.17    122\n",
      "4924.17    107\n",
      "4452.71     81\n",
      "4522.88     46\n",
      "Name: Total Charges, dtype: int64\n",
      "\n",
      "********************\n",
      "\n",
      "Total Costs : 30657\n",
      "3598.09    131\n",
      "3771.34    122\n",
      "4072.34    107\n",
      "3899.09     81\n",
      "3770.04     46\n",
      "Name: Total Costs, dtype: int64\n",
      "\n",
      "********************\n",
      "\n"
     ]
    }
   ],
   "source": [
    "for col in Bronx_df.columns:\n",
    "    print( col,':', Bronx_df[col].nunique() )#Num of unique values\n",
    "    print(Bronx_df[col].value_counts().nlargest(5)) #Most 5 frequent values\n",
    "    print('\\n' + '*' * 20 + '\\n')"
   ]
  },
  {
   "cell_type": "code",
   "execution_count": 68,
   "id": "5a2b996e",
   "metadata": {
    "execution": {
     "iopub.execute_input": "2023-02-21T19:33:18.669123Z",
     "iopub.status.busy": "2023-02-21T19:33:18.667753Z",
     "iopub.status.idle": "2023-02-21T19:33:18.676861Z",
     "shell.execute_reply": "2023-02-21T19:33:18.675891Z"
    },
    "id": "0e0178d5",
    "papermill": {
     "duration": 0.087041,
     "end_time": "2023-02-21T19:33:18.679492",
     "exception": false,
     "start_time": "2023-02-21T19:33:18.592451",
     "status": "completed"
    },
    "tags": []
   },
   "outputs": [],
   "source": [
    " #   simple mapping on binary features.\n",
    "Bronx_df['Abortion Edit Indicator'] = Bronx_df['Abortion Edit Indicator'].apply(\n",
    "     lambda x: 1 if x == 'Y' else (0 if x == 'N' else None))\n",
    "Bronx_df['Emergency Department Indicator'] = Bronx_df['Emergency Department Indicator'].apply(\n",
    "    lambda x: 1 if x == 'Y' else (0 if x == 'N' else None))"
   ]
  },
  {
   "cell_type": "code",
   "execution_count": 69,
   "id": "d4587535",
   "metadata": {
    "execution": {
     "iopub.execute_input": "2023-02-21T19:33:18.828990Z",
     "iopub.status.busy": "2023-02-21T19:33:18.827840Z",
     "iopub.status.idle": "2023-02-21T19:33:18.847732Z",
     "shell.execute_reply": "2023-02-21T19:33:18.846398Z"
    },
    "id": "7fc42900",
    "papermill": {
     "duration": 0.100847,
     "end_time": "2023-02-21T19:33:18.850492",
     "exception": false,
     "start_time": "2023-02-21T19:33:18.749645",
     "status": "completed"
    },
    "tags": []
   },
   "outputs": [],
   "source": [
    "Bronx_df[\"Length of Stay\"]=pd.to_numeric(Bronx_df[\"Length of Stay\"],errors='coerce')\n"
   ]
  },
  {
   "cell_type": "code",
   "execution_count": 70,
   "id": "2d03f88d",
   "metadata": {
    "execution": {
     "iopub.execute_input": "2023-02-21T19:33:18.998081Z",
     "iopub.status.busy": "2023-02-21T19:33:18.997454Z",
     "iopub.status.idle": "2023-02-21T19:33:19.120693Z",
     "shell.execute_reply": "2023-02-21T19:33:19.119476Z"
    },
    "id": "031e92a8",
    "papermill": {
     "duration": 0.197808,
     "end_time": "2023-02-21T19:33:19.123544",
     "exception": false,
     "start_time": "2023-02-21T19:33:18.925736",
     "status": "completed"
    },
    "tags": []
   },
   "outputs": [],
   "source": [
    "list=  [ \"Hospital County\",\"Age Group\"\n",
    "    ,\"Gender\",   \n",
    " \"Race\" , \n",
    "\"Ethnicity\", \n",
    "\"Gender\" , \n",
    "\"Race\" ,    \n",
    " \"Ethnicity\" ,        \n",
    " \"Type of Admission\"  ,  \n",
    "  \"Patient Disposition\",      \n",
    " \"Type of Admission\" ,  \n",
    " \"Patient Disposition\"  ,\n",
    "  \"APR Risk of Mortality\" ,   \n",
    " \"APR Medical Surgical Description\" ,\n",
    " \"Payment Typology 1\"   ,   \n",
    " \"Abortion Edit Indicator\"     ,  \n",
    " \"Emergency Department Indicator\",\n",
    "       \"Zip Code - 3 digits\",'Facility Name']  \n",
    "\n",
    "# Import label encoder\n",
    "from sklearn import preprocessing\n",
    "  \n",
    "# label_encoder object knows how to understand word labels.\n",
    "label_encoder = preprocessing.LabelEncoder()\n",
    "  \n",
    "# Encode labels in column 'species'.\n",
    "for col in list :\n",
    "  Bronx_df[col]= label_encoder.fit_transform(Bronx_df[col])"
   ]
  },
  {
   "cell_type": "code",
   "execution_count": 71,
   "id": "b32a28d0",
   "metadata": {
    "execution": {
     "iopub.execute_input": "2023-02-21T19:33:19.270699Z",
     "iopub.status.busy": "2023-02-21T19:33:19.269597Z",
     "iopub.status.idle": "2023-02-21T19:33:19.287134Z",
     "shell.execute_reply": "2023-02-21T19:33:19.286227Z"
    },
    "id": "d717a5f4",
    "outputId": "8a827220-9226-49e7-f1e9-22169856bce9",
    "papermill": {
     "duration": 0.093856,
     "end_time": "2023-02-21T19:33:19.289841",
     "exception": false,
     "start_time": "2023-02-21T19:33:19.195985",
     "status": "completed"
    },
    "tags": []
   },
   "outputs": [
    {
     "name": "stdout",
     "output_type": "stream",
     "text": [
      "<class 'pandas.core.frame.DataFrame'>\n",
      "Int64Index: 31978 entries, 905707 to 1065408\n",
      "Data columns (total 26 columns):\n",
      " #   Column                            Non-Null Count  Dtype  \n",
      "---  ------                            --------------  -----  \n",
      " 0   Hospital County                   31978 non-null  int64  \n",
      " 1   Operating Certificate Number      31978 non-null  float64\n",
      " 2   Facility Id                       31978 non-null  float64\n",
      " 3   Facility Name                     31978 non-null  int64  \n",
      " 4   Age Group                         31978 non-null  int64  \n",
      " 5   Zip Code - 3 digits               31978 non-null  int64  \n",
      " 6   Gender                            31978 non-null  int64  \n",
      " 7   Race                              31978 non-null  int64  \n",
      " 8   Ethnicity                         31978 non-null  int64  \n",
      " 9   Length of Stay                    31951 non-null  float64\n",
      " 10  Type of Admission                 31978 non-null  int64  \n",
      " 11  Patient Disposition               31978 non-null  int64  \n",
      " 12  Discharge Year                    31978 non-null  int64  \n",
      " 13  CCS Diagnosis Code                31978 non-null  int64  \n",
      " 14  CCS Procedure Code                31978 non-null  int64  \n",
      " 15  APR DRG Code                      31978 non-null  int64  \n",
      " 16  APR MDC Code                      31978 non-null  int64  \n",
      " 17  APR Severity of Illness Code      31978 non-null  int64  \n",
      " 18  APR Risk of Mortality             31978 non-null  int64  \n",
      " 19  APR Medical Surgical Description  31978 non-null  int64  \n",
      " 20  Payment Typology 1                31978 non-null  int64  \n",
      " 21  Birth Weight                      31978 non-null  int64  \n",
      " 22  Abortion Edit Indicator           31978 non-null  int64  \n",
      " 23  Emergency Department Indicator    31978 non-null  int64  \n",
      " 24  Total Charges                     31978 non-null  float64\n",
      " 25  Total Costs                       31978 non-null  float64\n",
      "dtypes: float64(5), int64(21)\n",
      "memory usage: 6.6 MB\n"
     ]
    }
   ],
   "source": [
    "Bronx_df.info()\n"
   ]
  },
  {
   "cell_type": "code",
   "execution_count": 72,
   "id": "b5b2a807",
   "metadata": {
    "execution": {
     "iopub.execute_input": "2023-02-21T19:33:19.435544Z",
     "iopub.status.busy": "2023-02-21T19:33:19.435090Z",
     "iopub.status.idle": "2023-02-21T19:33:19.456745Z",
     "shell.execute_reply": "2023-02-21T19:33:19.455061Z"
    },
    "id": "81a81585",
    "papermill": {
     "duration": 0.098578,
     "end_time": "2023-02-21T19:33:19.460091",
     "exception": false,
     "start_time": "2023-02-21T19:33:19.361513",
     "status": "completed"
    },
    "tags": []
   },
   "outputs": [],
   "source": [
    " Bronx_df.dropna(inplace=True)\n"
   ]
  },
  {
   "cell_type": "code",
   "execution_count": 73,
   "id": "2b421681",
   "metadata": {
    "execution": {
     "iopub.execute_input": "2023-02-21T19:33:19.604307Z",
     "iopub.status.busy": "2023-02-21T19:33:19.603878Z",
     "iopub.status.idle": "2023-02-21T19:33:19.612318Z",
     "shell.execute_reply": "2023-02-21T19:33:19.610826Z"
    },
    "id": "492ab982",
    "papermill": {
     "duration": 0.082731,
     "end_time": "2023-02-21T19:33:19.614624",
     "exception": false,
     "start_time": "2023-02-21T19:33:19.531893",
     "status": "completed"
    },
    "tags": []
   },
   "outputs": [],
   "source": [
    "x = Bronx_df.drop([\"Length of Stay\"], axis =1)\n",
    "y = Bronx_df[\"Length of Stay\"]"
   ]
  },
  {
   "cell_type": "code",
   "execution_count": 74,
   "id": "52ce990d",
   "metadata": {
    "execution": {
     "iopub.execute_input": "2023-02-21T19:33:19.758693Z",
     "iopub.status.busy": "2023-02-21T19:33:19.757568Z",
     "iopub.status.idle": "2023-02-21T19:33:19.772152Z",
     "shell.execute_reply": "2023-02-21T19:33:19.771145Z"
    },
    "id": "e2827293",
    "papermill": {
     "duration": 0.089605,
     "end_time": "2023-02-21T19:33:19.774792",
     "exception": false,
     "start_time": "2023-02-21T19:33:19.685187",
     "status": "completed"
    },
    "tags": []
   },
   "outputs": [],
   "source": [
    "from sklearn.model_selection import train_test_split\n",
    "x_train, x_test, y_train, y_test = train_test_split(x, y, test_size=0.3, random_state=42)"
   ]
  },
  {
   "cell_type": "code",
   "execution_count": 75,
   "id": "e420c690",
   "metadata": {
    "execution": {
     "iopub.execute_input": "2023-02-21T19:33:19.916992Z",
     "iopub.status.busy": "2023-02-21T19:33:19.916180Z",
     "iopub.status.idle": "2023-02-21T19:33:19.949647Z",
     "shell.execute_reply": "2023-02-21T19:33:19.948019Z"
    },
    "id": "47ae9183",
    "papermill": {
     "duration": 0.109525,
     "end_time": "2023-02-21T19:33:19.954544",
     "exception": false,
     "start_time": "2023-02-21T19:33:19.845019",
     "status": "completed"
    },
    "tags": []
   },
   "outputs": [],
   "source": [
    "# Linear Regression\n",
    "\n",
    "LR = LinearRegression()\n",
    "LR.fit(x_train, y_train)\n",
    "LR.score(x_train, y_train)\n",
    "y_pred =LR.predict(x_test)"
   ]
  },
  {
   "cell_type": "code",
   "execution_count": 76,
   "id": "ebd9ecfc",
   "metadata": {
    "execution": {
     "iopub.execute_input": "2023-02-21T19:33:20.225246Z",
     "iopub.status.busy": "2023-02-21T19:33:20.224848Z",
     "iopub.status.idle": "2023-02-21T19:33:20.234013Z",
     "shell.execute_reply": "2023-02-21T19:33:20.232848Z"
    },
    "id": "e456fd68",
    "outputId": "3b7d5852-33a0-475e-e539-ae737cd59b8c",
    "papermill": {
     "duration": 0.139512,
     "end_time": "2023-02-21T19:33:20.236882",
     "exception": false,
     "start_time": "2023-02-21T19:33:20.097370",
     "status": "completed"
    },
    "tags": []
   },
   "outputs": [
    {
     "data": {
      "text/plain": [
       "0.8376128349444951"
      ]
     },
     "execution_count": 76,
     "metadata": {},
     "output_type": "execute_result"
    }
   ],
   "source": [
    "r2 = r2_score(y_test, y_pred)\n",
    "r2 "
   ]
  },
  {
   "cell_type": "code",
   "execution_count": 77,
   "id": "0e08424f",
   "metadata": {
    "execution": {
     "iopub.execute_input": "2023-02-21T19:33:20.383845Z",
     "iopub.status.busy": "2023-02-21T19:33:20.383423Z",
     "iopub.status.idle": "2023-02-21T19:33:20.392674Z",
     "shell.execute_reply": "2023-02-21T19:33:20.391462Z"
    },
    "id": "abad97c7",
    "outputId": "b6f56d09-871e-495f-df0a-609879b8ec05",
    "papermill": {
     "duration": 0.084971,
     "end_time": "2023-02-21T19:33:20.394962",
     "exception": false,
     "start_time": "2023-02-21T19:33:20.309991",
     "status": "completed"
    },
    "tags": []
   },
   "outputs": [
    {
     "data": {
      "text/plain": [
       "1.5959481188252358"
      ]
     },
     "execution_count": 77,
     "metadata": {},
     "output_type": "execute_result"
    }
   ],
   "source": [
    "# calculate the MAE of the model\n",
    "mae = mean_absolute_error(y_test, y_pred)\n",
    "mae"
   ]
  },
  {
   "cell_type": "code",
   "execution_count": 78,
   "id": "d20c478b",
   "metadata": {
    "execution": {
     "iopub.execute_input": "2023-02-21T19:33:20.539616Z",
     "iopub.status.busy": "2023-02-21T19:33:20.538378Z",
     "iopub.status.idle": "2023-02-21T19:33:20.547232Z",
     "shell.execute_reply": "2023-02-21T19:33:20.546199Z"
    },
    "id": "c12ff32c",
    "outputId": "0fb7fde0-b235-4149-b099-d92a8900d528",
    "papermill": {
     "duration": 0.083737,
     "end_time": "2023-02-21T19:33:20.549663",
     "exception": false,
     "start_time": "2023-02-21T19:33:20.465926",
     "status": "completed"
    },
    "tags": []
   },
   "outputs": [
    {
     "data": {
      "text/plain": [
       "9.830664824520944"
      ]
     },
     "execution_count": 78,
     "metadata": {},
     "output_type": "execute_result"
    }
   ],
   "source": [
    "# calculate the MSE of the model\n",
    "mse = mean_squared_error(y_test, y_pred)\n",
    "mse"
   ]
  },
  {
   "cell_type": "code",
   "execution_count": 79,
   "id": "f4a76b9b",
   "metadata": {
    "execution": {
     "iopub.execute_input": "2023-02-21T19:33:20.695124Z",
     "iopub.status.busy": "2023-02-21T19:33:20.694671Z",
     "iopub.status.idle": "2023-02-21T19:33:20.702201Z",
     "shell.execute_reply": "2023-02-21T19:33:20.701001Z"
    },
    "id": "21ed57e0",
    "outputId": "b3b7d3ab-be56-4a81-c02f-d9f98f59d313",
    "papermill": {
     "duration": 0.084449,
     "end_time": "2023-02-21T19:33:20.704528",
     "exception": false,
     "start_time": "2023-02-21T19:33:20.620079",
     "status": "completed"
    },
    "tags": []
   },
   "outputs": [
    {
     "data": {
      "text/plain": [
       "3.1353891025709943"
      ]
     },
     "execution_count": 79,
     "metadata": {},
     "output_type": "execute_result"
    }
   ],
   "source": [
    "# calculate the RMSE of the model\n",
    "rmse = np.sqrt(mse)\n",
    "rmse"
   ]
  },
  {
   "cell_type": "code",
   "execution_count": 80,
   "id": "75a0867d",
   "metadata": {
    "execution": {
     "iopub.execute_input": "2023-02-21T19:33:20.846990Z",
     "iopub.status.busy": "2023-02-21T19:33:20.846597Z",
     "iopub.status.idle": "2023-02-21T19:33:20.935407Z",
     "shell.execute_reply": "2023-02-21T19:33:20.933756Z"
    },
    "id": "55b8a83d",
    "papermill": {
     "duration": 0.164892,
     "end_time": "2023-02-21T19:33:20.940023",
     "exception": false,
     "start_time": "2023-02-21T19:33:20.775131",
     "status": "completed"
    },
    "tags": []
   },
   "outputs": [],
   "source": [
    "# LASSO\n",
    "L1 = linear_model.Lasso()\n",
    "L1.fit(x_train,y_train)\n",
    "y_pred1 = L1.predict(x_test)"
   ]
  },
  {
   "cell_type": "code",
   "execution_count": 81,
   "id": "2290124c",
   "metadata": {
    "execution": {
     "iopub.execute_input": "2023-02-21T19:33:21.156983Z",
     "iopub.status.busy": "2023-02-21T19:33:21.156572Z",
     "iopub.status.idle": "2023-02-21T19:33:21.164711Z",
     "shell.execute_reply": "2023-02-21T19:33:21.163543Z"
    },
    "id": "1ca6d14d",
    "outputId": "a47d7b24-60ea-4cb5-bd80-f529b8f9c374",
    "papermill": {
     "duration": 0.082806,
     "end_time": "2023-02-21T19:33:21.166889",
     "exception": false,
     "start_time": "2023-02-21T19:33:21.084083",
     "status": "completed"
    },
    "tags": []
   },
   "outputs": [
    {
     "data": {
      "text/plain": [
       "0.8157805173305335"
      ]
     },
     "execution_count": 81,
     "metadata": {},
     "output_type": "execute_result"
    }
   ],
   "source": [
    "r2 = r2_score(y_test, y_pred1)\n",
    "r2 "
   ]
  },
  {
   "cell_type": "code",
   "execution_count": 82,
   "id": "096a9210",
   "metadata": {
    "execution": {
     "iopub.execute_input": "2023-02-21T19:33:21.309923Z",
     "iopub.status.busy": "2023-02-21T19:33:21.309252Z",
     "iopub.status.idle": "2023-02-21T19:33:21.316671Z",
     "shell.execute_reply": "2023-02-21T19:33:21.315799Z"
    },
    "id": "550a78e3",
    "outputId": "3b25c433-0c34-4b17-b46e-6a57267e9c5e",
    "papermill": {
     "duration": 0.081006,
     "end_time": "2023-02-21T19:33:21.318920",
     "exception": false,
     "start_time": "2023-02-21T19:33:21.237914",
     "status": "completed"
    },
    "tags": []
   },
   "outputs": [
    {
     "data": {
      "text/plain": [
       "1.739528477025208"
      ]
     },
     "execution_count": 82,
     "metadata": {},
     "output_type": "execute_result"
    }
   ],
   "source": [
    "# calculate the MAE of the model\n",
    "mae = mean_absolute_error(y_test, y_pred1)\n",
    "mae"
   ]
  },
  {
   "cell_type": "code",
   "execution_count": 83,
   "id": "29894927",
   "metadata": {
    "execution": {
     "iopub.execute_input": "2023-02-21T19:33:21.462079Z",
     "iopub.status.busy": "2023-02-21T19:33:21.461645Z",
     "iopub.status.idle": "2023-02-21T19:33:21.470532Z",
     "shell.execute_reply": "2023-02-21T19:33:21.469201Z"
    },
    "id": "eae733fe",
    "outputId": "3674d470-608d-400f-f773-2c6bc3d45134",
    "papermill": {
     "duration": 0.083578,
     "end_time": "2023-02-21T19:33:21.473121",
     "exception": false,
     "start_time": "2023-02-21T19:33:21.389543",
     "status": "completed"
    },
    "tags": []
   },
   "outputs": [
    {
     "data": {
      "text/plain": [
       "11.152359163676266"
      ]
     },
     "execution_count": 83,
     "metadata": {},
     "output_type": "execute_result"
    }
   ],
   "source": [
    "# calculate the MSE of the model\n",
    "mse = mean_squared_error(y_test, y_pred1)\n",
    "mse"
   ]
  },
  {
   "cell_type": "code",
   "execution_count": 84,
   "id": "76d6162f",
   "metadata": {
    "execution": {
     "iopub.execute_input": "2023-02-21T19:33:21.619033Z",
     "iopub.status.busy": "2023-02-21T19:33:21.617976Z",
     "iopub.status.idle": "2023-02-21T19:33:21.625271Z",
     "shell.execute_reply": "2023-02-21T19:33:21.624120Z"
    },
    "id": "bbf1651c",
    "outputId": "f8055938-e580-4af0-e6ab-9c3bd64c070c",
    "papermill": {
     "duration": 0.082936,
     "end_time": "2023-02-21T19:33:21.627761",
     "exception": false,
     "start_time": "2023-02-21T19:33:21.544825",
     "status": "completed"
    },
    "tags": []
   },
   "outputs": [
    {
     "data": {
      "text/plain": [
       "3.3395148096207428"
      ]
     },
     "execution_count": 84,
     "metadata": {},
     "output_type": "execute_result"
    }
   ],
   "source": [
    "# calculate the RMSE of the model\n",
    "rmse = np.sqrt(mse)\n",
    "rmse"
   ]
  },
  {
   "cell_type": "code",
   "execution_count": 85,
   "id": "6a3af5c8",
   "metadata": {
    "execution": {
     "iopub.execute_input": "2023-02-21T19:33:21.773385Z",
     "iopub.status.busy": "2023-02-21T19:33:21.772407Z",
     "iopub.status.idle": "2023-02-21T19:33:21.796524Z",
     "shell.execute_reply": "2023-02-21T19:33:21.794868Z"
    },
    "id": "4e00d392",
    "papermill": {
     "duration": 0.101936,
     "end_time": "2023-02-21T19:33:21.801513",
     "exception": false,
     "start_time": "2023-02-21T19:33:21.699577",
     "status": "completed"
    },
    "tags": []
   },
   "outputs": [],
   "source": [
    "# Ridge\n",
    "L2 = Ridge(alpha=1.0)\n",
    "L2.fit(x_train, y_train) \n",
    "y_pred3 = L2.predict(x_test)"
   ]
  },
  {
   "cell_type": "code",
   "execution_count": 86,
   "id": "ee195fb8",
   "metadata": {
    "execution": {
     "iopub.execute_input": "2023-02-21T19:33:22.020608Z",
     "iopub.status.busy": "2023-02-21T19:33:22.019315Z",
     "iopub.status.idle": "2023-02-21T19:33:22.027902Z",
     "shell.execute_reply": "2023-02-21T19:33:22.026708Z"
    },
    "id": "3138396d",
    "outputId": "9ef3094d-f0dd-4b8b-8675-1264a4225fa2",
    "papermill": {
     "duration": 0.084075,
     "end_time": "2023-02-21T19:33:22.030009",
     "exception": false,
     "start_time": "2023-02-21T19:33:21.945934",
     "status": "completed"
    },
    "tags": []
   },
   "outputs": [
    {
     "data": {
      "text/plain": [
       "0.8376129585591974"
      ]
     },
     "execution_count": 86,
     "metadata": {},
     "output_type": "execute_result"
    }
   ],
   "source": [
    "r2 = r2_score(y_test, y_pred3)\n",
    "r2 "
   ]
  },
  {
   "cell_type": "code",
   "execution_count": 87,
   "id": "3f4fed1b",
   "metadata": {
    "execution": {
     "iopub.execute_input": "2023-02-21T19:33:22.173896Z",
     "iopub.status.busy": "2023-02-21T19:33:22.172696Z",
     "iopub.status.idle": "2023-02-21T19:33:22.181001Z",
     "shell.execute_reply": "2023-02-21T19:33:22.179993Z"
    },
    "id": "2c404f36",
    "outputId": "3a444aa4-8e0b-4b25-e254-ab7e5127c81c",
    "papermill": {
     "duration": 0.082342,
     "end_time": "2023-02-21T19:33:22.183268",
     "exception": false,
     "start_time": "2023-02-21T19:33:22.100926",
     "status": "completed"
    },
    "tags": []
   },
   "outputs": [
    {
     "data": {
      "text/plain": [
       "1.5959277579640252"
      ]
     },
     "execution_count": 87,
     "metadata": {},
     "output_type": "execute_result"
    }
   ],
   "source": [
    "# calculate the MAE of the model\n",
    "mae = mean_absolute_error(y_test, y_pred3)\n",
    "mae"
   ]
  },
  {
   "cell_type": "code",
   "execution_count": 88,
   "id": "a8d5e8af",
   "metadata": {
    "execution": {
     "iopub.execute_input": "2023-02-21T19:33:22.326698Z",
     "iopub.status.busy": "2023-02-21T19:33:22.326328Z",
     "iopub.status.idle": "2023-02-21T19:33:22.333229Z",
     "shell.execute_reply": "2023-02-21T19:33:22.332486Z"
    },
    "id": "32a93031",
    "outputId": "ffe1221b-8ca2-4a4a-a5cc-675df699ab3e",
    "papermill": {
     "duration": 0.080454,
     "end_time": "2023-02-21T19:33:22.335143",
     "exception": false,
     "start_time": "2023-02-21T19:33:22.254689",
     "status": "completed"
    },
    "tags": []
   },
   "outputs": [
    {
     "data": {
      "text/plain": [
       "9.830657341080334"
      ]
     },
     "execution_count": 88,
     "metadata": {},
     "output_type": "execute_result"
    }
   ],
   "source": [
    "# calculate the MSE of the model\n",
    "mse = mean_squared_error(y_test, y_pred3)\n",
    "mse"
   ]
  },
  {
   "cell_type": "code",
   "execution_count": 89,
   "id": "37a825e5",
   "metadata": {
    "execution": {
     "iopub.execute_input": "2023-02-21T19:33:22.479594Z",
     "iopub.status.busy": "2023-02-21T19:33:22.478793Z",
     "iopub.status.idle": "2023-02-21T19:33:22.485647Z",
     "shell.execute_reply": "2023-02-21T19:33:22.484325Z"
    },
    "id": "3998d48e",
    "outputId": "0feb11a5-53ff-4258-a462-e70fc09505b3",
    "papermill": {
     "duration": 0.082229,
     "end_time": "2023-02-21T19:33:22.488288",
     "exception": false,
     "start_time": "2023-02-21T19:33:22.406059",
     "status": "completed"
    },
    "tags": []
   },
   "outputs": [
    {
     "data": {
      "text/plain": [
       "3.1353879091876866"
      ]
     },
     "execution_count": 89,
     "metadata": {},
     "output_type": "execute_result"
    }
   ],
   "source": [
    "# calculate the RMSE of the model\n",
    "rmse = np.sqrt(mse)\n",
    "rmse"
   ]
  },
  {
   "cell_type": "markdown",
   "id": "6bdfbe5d",
   "metadata": {
    "id": "efb29ea4",
    "papermill": {
     "duration": 0.071912,
     "end_time": "2023-02-21T19:33:22.633911",
     "exception": false,
     "start_time": "2023-02-21T19:33:22.561999",
     "status": "completed"
    },
    "tags": []
   },
   "source": [
    "##Client 4 : United Health"
   ]
  },
  {
   "cell_type": "code",
   "execution_count": 90,
   "id": "b04bc53b",
   "metadata": {
    "execution": {
     "iopub.execute_input": "2023-02-21T19:33:22.784703Z",
     "iopub.status.busy": "2023-02-21T19:33:22.783933Z",
     "iopub.status.idle": "2023-02-21T19:33:23.169705Z",
     "shell.execute_reply": "2023-02-21T19:33:23.168809Z"
    },
    "id": "4afddb4f",
    "outputId": "8645c29e-e28b-4a9a-eb5c-56df96e28a91",
    "papermill": {
     "duration": 0.467309,
     "end_time": "2023-02-21T19:33:23.172764",
     "exception": false,
     "start_time": "2023-02-21T19:33:22.705455",
     "status": "completed"
    },
    "tags": []
   },
   "outputs": [
    {
     "data": {
      "text/html": [
       "<div>\n",
       "<style scoped>\n",
       "    .dataframe tbody tr th:only-of-type {\n",
       "        vertical-align: middle;\n",
       "    }\n",
       "\n",
       "    .dataframe tbody tr th {\n",
       "        vertical-align: top;\n",
       "    }\n",
       "\n",
       "    .dataframe thead th {\n",
       "        text-align: right;\n",
       "    }\n",
       "</style>\n",
       "<table border=\"1\" class=\"dataframe\">\n",
       "  <thead>\n",
       "    <tr style=\"text-align: right;\">\n",
       "      <th></th>\n",
       "      <th>Hospital County</th>\n",
       "      <th>Operating Certificate Number</th>\n",
       "      <th>Facility Id</th>\n",
       "      <th>Facility Name</th>\n",
       "      <th>Age Group</th>\n",
       "      <th>Zip Code - 3 digits</th>\n",
       "      <th>Gender</th>\n",
       "      <th>Race</th>\n",
       "      <th>Ethnicity</th>\n",
       "      <th>Length of Stay</th>\n",
       "      <th>...</th>\n",
       "      <th>APR Risk of Mortality</th>\n",
       "      <th>APR Medical Surgical Description</th>\n",
       "      <th>Payment Typology 1</th>\n",
       "      <th>Payment Typology 2</th>\n",
       "      <th>Payment Typology 3</th>\n",
       "      <th>Birth Weight</th>\n",
       "      <th>Abortion Edit Indicator</th>\n",
       "      <th>Emergency Department Indicator</th>\n",
       "      <th>Total Charges</th>\n",
       "      <th>Total Costs</th>\n",
       "    </tr>\n",
       "  </thead>\n",
       "  <tbody>\n",
       "    <tr>\n",
       "      <th>327335</th>\n",
       "      <td>Broome</td>\n",
       "      <td>303001.0</td>\n",
       "      <td>58.0</td>\n",
       "      <td>United Health Services Hospitals Inc. - Wilson...</td>\n",
       "      <td>30 to 49</td>\n",
       "      <td>139</td>\n",
       "      <td>M</td>\n",
       "      <td>Other Race</td>\n",
       "      <td>Spanish/Hispanic</td>\n",
       "      <td>120 +</td>\n",
       "      <td>...</td>\n",
       "      <td>Extreme</td>\n",
       "      <td>Surgical</td>\n",
       "      <td>Medicaid</td>\n",
       "      <td>NaN</td>\n",
       "      <td>NaN</td>\n",
       "      <td>0</td>\n",
       "      <td>N</td>\n",
       "      <td>Y</td>\n",
       "      <td>1032046.99</td>\n",
       "      <td>429514.66</td>\n",
       "    </tr>\n",
       "    <tr>\n",
       "      <th>327336</th>\n",
       "      <td>Broome</td>\n",
       "      <td>303001.0</td>\n",
       "      <td>58.0</td>\n",
       "      <td>United Health Services Hospitals Inc. - Wilson...</td>\n",
       "      <td>50 to 69</td>\n",
       "      <td>138</td>\n",
       "      <td>F</td>\n",
       "      <td>White</td>\n",
       "      <td>Not Span/Hispanic</td>\n",
       "      <td>120 +</td>\n",
       "      <td>...</td>\n",
       "      <td>Extreme</td>\n",
       "      <td>Surgical</td>\n",
       "      <td>Private Health Insurance</td>\n",
       "      <td>NaN</td>\n",
       "      <td>NaN</td>\n",
       "      <td>0</td>\n",
       "      <td>N</td>\n",
       "      <td>Y</td>\n",
       "      <td>1091681.06</td>\n",
       "      <td>378826.75</td>\n",
       "    </tr>\n",
       "    <tr>\n",
       "      <th>327337</th>\n",
       "      <td>Broome</td>\n",
       "      <td>303001.0</td>\n",
       "      <td>58.0</td>\n",
       "      <td>United Health Services Hospitals Inc. - Wilson...</td>\n",
       "      <td>30 to 49</td>\n",
       "      <td>137</td>\n",
       "      <td>M</td>\n",
       "      <td>White</td>\n",
       "      <td>Not Span/Hispanic</td>\n",
       "      <td>96</td>\n",
       "      <td>...</td>\n",
       "      <td>Extreme</td>\n",
       "      <td>Surgical</td>\n",
       "      <td>Medicaid</td>\n",
       "      <td>Medicaid</td>\n",
       "      <td>NaN</td>\n",
       "      <td>0</td>\n",
       "      <td>N</td>\n",
       "      <td>Y</td>\n",
       "      <td>460332.46</td>\n",
       "      <td>161178.76</td>\n",
       "    </tr>\n",
       "    <tr>\n",
       "      <th>327338</th>\n",
       "      <td>Broome</td>\n",
       "      <td>303001.0</td>\n",
       "      <td>58.0</td>\n",
       "      <td>United Health Services Hospitals Inc. - Wilson...</td>\n",
       "      <td>70 or Older</td>\n",
       "      <td>137</td>\n",
       "      <td>M</td>\n",
       "      <td>Other Race</td>\n",
       "      <td>Not Span/Hispanic</td>\n",
       "      <td>1</td>\n",
       "      <td>...</td>\n",
       "      <td>Moderate</td>\n",
       "      <td>Surgical</td>\n",
       "      <td>Medicare</td>\n",
       "      <td>Medicare</td>\n",
       "      <td>Blue Cross/Blue Shield</td>\n",
       "      <td>0</td>\n",
       "      <td>N</td>\n",
       "      <td>N</td>\n",
       "      <td>17877.80</td>\n",
       "      <td>6651.53</td>\n",
       "    </tr>\n",
       "    <tr>\n",
       "      <th>327339</th>\n",
       "      <td>Broome</td>\n",
       "      <td>303001.0</td>\n",
       "      <td>58.0</td>\n",
       "      <td>United Health Services Hospitals Inc. - Wilson...</td>\n",
       "      <td>50 to 69</td>\n",
       "      <td>137</td>\n",
       "      <td>F</td>\n",
       "      <td>Black/African American</td>\n",
       "      <td>Not Span/Hispanic</td>\n",
       "      <td>74</td>\n",
       "      <td>...</td>\n",
       "      <td>Extreme</td>\n",
       "      <td>Surgical</td>\n",
       "      <td>Medicaid</td>\n",
       "      <td>NaN</td>\n",
       "      <td>NaN</td>\n",
       "      <td>0</td>\n",
       "      <td>N</td>\n",
       "      <td>Y</td>\n",
       "      <td>399707.26</td>\n",
       "      <td>138410.36</td>\n",
       "    </tr>\n",
       "    <tr>\n",
       "      <th>...</th>\n",
       "      <td>...</td>\n",
       "      <td>...</td>\n",
       "      <td>...</td>\n",
       "      <td>...</td>\n",
       "      <td>...</td>\n",
       "      <td>...</td>\n",
       "      <td>...</td>\n",
       "      <td>...</td>\n",
       "      <td>...</td>\n",
       "      <td>...</td>\n",
       "      <td>...</td>\n",
       "      <td>...</td>\n",
       "      <td>...</td>\n",
       "      <td>...</td>\n",
       "      <td>...</td>\n",
       "      <td>...</td>\n",
       "      <td>...</td>\n",
       "      <td>...</td>\n",
       "      <td>...</td>\n",
       "      <td>...</td>\n",
       "      <td>...</td>\n",
       "    </tr>\n",
       "    <tr>\n",
       "      <th>316422</th>\n",
       "      <td>Broome</td>\n",
       "      <td>303001.0</td>\n",
       "      <td>42.0</td>\n",
       "      <td>United Health Services Hospitals Inc. - Bingha...</td>\n",
       "      <td>30 to 49</td>\n",
       "      <td>137</td>\n",
       "      <td>F</td>\n",
       "      <td>White</td>\n",
       "      <td>Not Span/Hispanic</td>\n",
       "      <td>2</td>\n",
       "      <td>...</td>\n",
       "      <td>Minor</td>\n",
       "      <td>Medical</td>\n",
       "      <td>Blue Cross/Blue Shield</td>\n",
       "      <td>NaN</td>\n",
       "      <td>NaN</td>\n",
       "      <td>0</td>\n",
       "      <td>N</td>\n",
       "      <td>Y</td>\n",
       "      <td>5885.90</td>\n",
       "      <td>2617.98</td>\n",
       "    </tr>\n",
       "    <tr>\n",
       "      <th>316423</th>\n",
       "      <td>Broome</td>\n",
       "      <td>303001.0</td>\n",
       "      <td>42.0</td>\n",
       "      <td>United Health Services Hospitals Inc. - Bingha...</td>\n",
       "      <td>30 to 49</td>\n",
       "      <td>137</td>\n",
       "      <td>F</td>\n",
       "      <td>White</td>\n",
       "      <td>Not Span/Hispanic</td>\n",
       "      <td>1</td>\n",
       "      <td>...</td>\n",
       "      <td>Minor</td>\n",
       "      <td>Medical</td>\n",
       "      <td>Medicaid</td>\n",
       "      <td>Medicaid</td>\n",
       "      <td>NaN</td>\n",
       "      <td>0</td>\n",
       "      <td>N</td>\n",
       "      <td>Y</td>\n",
       "      <td>3320.30</td>\n",
       "      <td>1401.22</td>\n",
       "    </tr>\n",
       "    <tr>\n",
       "      <th>316424</th>\n",
       "      <td>Broome</td>\n",
       "      <td>303001.0</td>\n",
       "      <td>42.0</td>\n",
       "      <td>United Health Services Hospitals Inc. - Bingha...</td>\n",
       "      <td>50 to 69</td>\n",
       "      <td>137</td>\n",
       "      <td>F</td>\n",
       "      <td>White</td>\n",
       "      <td>Not Span/Hispanic</td>\n",
       "      <td>3</td>\n",
       "      <td>...</td>\n",
       "      <td>Minor</td>\n",
       "      <td>Medical</td>\n",
       "      <td>Medicare</td>\n",
       "      <td>Medicare</td>\n",
       "      <td>Federal/State/Local/VA</td>\n",
       "      <td>0</td>\n",
       "      <td>N</td>\n",
       "      <td>N</td>\n",
       "      <td>4251.50</td>\n",
       "      <td>2673.10</td>\n",
       "    </tr>\n",
       "    <tr>\n",
       "      <th>316425</th>\n",
       "      <td>Broome</td>\n",
       "      <td>303001.0</td>\n",
       "      <td>42.0</td>\n",
       "      <td>United Health Services Hospitals Inc. - Bingha...</td>\n",
       "      <td>18 to 29</td>\n",
       "      <td>138</td>\n",
       "      <td>F</td>\n",
       "      <td>White</td>\n",
       "      <td>Not Span/Hispanic</td>\n",
       "      <td>2</td>\n",
       "      <td>...</td>\n",
       "      <td>Minor</td>\n",
       "      <td>Medical</td>\n",
       "      <td>Medicaid</td>\n",
       "      <td>NaN</td>\n",
       "      <td>NaN</td>\n",
       "      <td>0</td>\n",
       "      <td>N</td>\n",
       "      <td>Y</td>\n",
       "      <td>5082.30</td>\n",
       "      <td>2275.24</td>\n",
       "    </tr>\n",
       "    <tr>\n",
       "      <th>316426</th>\n",
       "      <td>Broome</td>\n",
       "      <td>303001.0</td>\n",
       "      <td>42.0</td>\n",
       "      <td>United Health Services Hospitals Inc. - Bingha...</td>\n",
       "      <td>70 or Older</td>\n",
       "      <td>139</td>\n",
       "      <td>F</td>\n",
       "      <td>White</td>\n",
       "      <td>Not Span/Hispanic</td>\n",
       "      <td>2</td>\n",
       "      <td>...</td>\n",
       "      <td>Major</td>\n",
       "      <td>Medical</td>\n",
       "      <td>Medicare</td>\n",
       "      <td>Medicare</td>\n",
       "      <td>Blue Cross/Blue Shield</td>\n",
       "      <td>0</td>\n",
       "      <td>N</td>\n",
       "      <td>Y</td>\n",
       "      <td>10424.40</td>\n",
       "      <td>3730.47</td>\n",
       "    </tr>\n",
       "  </tbody>\n",
       "</table>\n",
       "<p>17661 rows × 28 columns</p>\n",
       "</div>"
      ],
      "text/plain": [
       "       Hospital County  Operating Certificate Number  Facility Id  \\\n",
       "327335          Broome                      303001.0         58.0   \n",
       "327336          Broome                      303001.0         58.0   \n",
       "327337          Broome                      303001.0         58.0   \n",
       "327338          Broome                      303001.0         58.0   \n",
       "327339          Broome                      303001.0         58.0   \n",
       "...                ...                           ...          ...   \n",
       "316422          Broome                      303001.0         42.0   \n",
       "316423          Broome                      303001.0         42.0   \n",
       "316424          Broome                      303001.0         42.0   \n",
       "316425          Broome                      303001.0         42.0   \n",
       "316426          Broome                      303001.0         42.0   \n",
       "\n",
       "                                            Facility Name    Age Group  \\\n",
       "327335  United Health Services Hospitals Inc. - Wilson...     30 to 49   \n",
       "327336  United Health Services Hospitals Inc. - Wilson...     50 to 69   \n",
       "327337  United Health Services Hospitals Inc. - Wilson...     30 to 49   \n",
       "327338  United Health Services Hospitals Inc. - Wilson...  70 or Older   \n",
       "327339  United Health Services Hospitals Inc. - Wilson...     50 to 69   \n",
       "...                                                   ...          ...   \n",
       "316422  United Health Services Hospitals Inc. - Bingha...     30 to 49   \n",
       "316423  United Health Services Hospitals Inc. - Bingha...     30 to 49   \n",
       "316424  United Health Services Hospitals Inc. - Bingha...     50 to 69   \n",
       "316425  United Health Services Hospitals Inc. - Bingha...     18 to 29   \n",
       "316426  United Health Services Hospitals Inc. - Bingha...  70 or Older   \n",
       "\n",
       "       Zip Code - 3 digits Gender                    Race          Ethnicity  \\\n",
       "327335                 139      M              Other Race   Spanish/Hispanic   \n",
       "327336                 138      F                   White  Not Span/Hispanic   \n",
       "327337                 137      M                   White  Not Span/Hispanic   \n",
       "327338                 137      M              Other Race  Not Span/Hispanic   \n",
       "327339                 137      F  Black/African American  Not Span/Hispanic   \n",
       "...                    ...    ...                     ...                ...   \n",
       "316422                 137      F                   White  Not Span/Hispanic   \n",
       "316423                 137      F                   White  Not Span/Hispanic   \n",
       "316424                 137      F                   White  Not Span/Hispanic   \n",
       "316425                 138      F                   White  Not Span/Hispanic   \n",
       "316426                 139      F                   White  Not Span/Hispanic   \n",
       "\n",
       "       Length of Stay  ... APR Risk of Mortality  \\\n",
       "327335          120 +  ...               Extreme   \n",
       "327336          120 +  ...               Extreme   \n",
       "327337             96  ...               Extreme   \n",
       "327338              1  ...              Moderate   \n",
       "327339             74  ...               Extreme   \n",
       "...               ...  ...                   ...   \n",
       "316422              2  ...                 Minor   \n",
       "316423              1  ...                 Minor   \n",
       "316424              3  ...                 Minor   \n",
       "316425              2  ...                 Minor   \n",
       "316426              2  ...                 Major   \n",
       "\n",
       "       APR Medical Surgical Description        Payment Typology 1  \\\n",
       "327335                         Surgical                  Medicaid   \n",
       "327336                         Surgical  Private Health Insurance   \n",
       "327337                         Surgical                  Medicaid   \n",
       "327338                         Surgical                  Medicare   \n",
       "327339                         Surgical                  Medicaid   \n",
       "...                                 ...                       ...   \n",
       "316422                          Medical    Blue Cross/Blue Shield   \n",
       "316423                          Medical                  Medicaid   \n",
       "316424                          Medical                  Medicare   \n",
       "316425                          Medical                  Medicaid   \n",
       "316426                          Medical                  Medicare   \n",
       "\n",
       "        Payment Typology 2      Payment Typology 3  Birth Weight  \\\n",
       "327335                 NaN                     NaN             0   \n",
       "327336                 NaN                     NaN             0   \n",
       "327337            Medicaid                     NaN             0   \n",
       "327338            Medicare  Blue Cross/Blue Shield             0   \n",
       "327339                 NaN                     NaN             0   \n",
       "...                    ...                     ...           ...   \n",
       "316422                 NaN                     NaN             0   \n",
       "316423            Medicaid                     NaN             0   \n",
       "316424            Medicare  Federal/State/Local/VA             0   \n",
       "316425                 NaN                     NaN             0   \n",
       "316426            Medicare  Blue Cross/Blue Shield             0   \n",
       "\n",
       "        Abortion Edit Indicator  Emergency Department Indicator Total Charges  \\\n",
       "327335                        N                               Y    1032046.99   \n",
       "327336                        N                               Y    1091681.06   \n",
       "327337                        N                               Y     460332.46   \n",
       "327338                        N                               N      17877.80   \n",
       "327339                        N                               Y     399707.26   \n",
       "...                         ...                             ...           ...   \n",
       "316422                        N                               Y       5885.90   \n",
       "316423                        N                               Y       3320.30   \n",
       "316424                        N                               N       4251.50   \n",
       "316425                        N                               Y       5082.30   \n",
       "316426                        N                               Y      10424.40   \n",
       "\n",
       "       Total Costs  \n",
       "327335   429514.66  \n",
       "327336   378826.75  \n",
       "327337   161178.76  \n",
       "327338     6651.53  \n",
       "327339   138410.36  \n",
       "...            ...  \n",
       "316422     2617.98  \n",
       "316423     1401.22  \n",
       "316424     2673.10  \n",
       "316425     2275.24  \n",
       "316426     3730.47  \n",
       "\n",
       "[17661 rows x 28 columns]"
      ]
     },
     "metadata": {},
     "output_type": "display_data"
    }
   ],
   "source": [
    "# 4  'United Health Services Hospitals Inc. - Binghamton General Hospital',\n",
    "# 4  'United Health Services Hospitals Inc. - Wilson Medical Center',\n",
    "UH_df1=df[df[\"Facility Name\"]== 'United Health Services Hospitals Inc. - Wilson Medical Center']\n",
    "UH_df2=df[df[\"Facility Name\"]== 'United Health Services Hospitals Inc. - Binghamton General Hospital']\n",
    "\n",
    "l=[UH_df1,UH_df2]\n",
    "UH_df= pd.concat(l)\n",
    "display(UH_df)"
   ]
  },
  {
   "cell_type": "code",
   "execution_count": 91,
   "id": "95c8e0ef",
   "metadata": {
    "execution": {
     "iopub.execute_input": "2023-02-21T19:33:23.331872Z",
     "iopub.status.busy": "2023-02-21T19:33:23.331085Z",
     "iopub.status.idle": "2023-02-21T19:33:23.359546Z",
     "shell.execute_reply": "2023-02-21T19:33:23.358294Z"
    },
    "id": "badaacf3",
    "outputId": "3e20ef8e-00a4-45c6-b026-02004364fb05",
    "papermill": {
     "duration": 0.105554,
     "end_time": "2023-02-21T19:33:23.362158",
     "exception": false,
     "start_time": "2023-02-21T19:33:23.256604",
     "status": "completed"
    },
    "tags": []
   },
   "outputs": [
    {
     "name": "stdout",
     "output_type": "stream",
     "text": [
      "<class 'pandas.core.frame.DataFrame'>\n",
      "Int64Index: 17661 entries, 327335 to 316426\n",
      "Data columns (total 28 columns):\n",
      " #   Column                            Non-Null Count  Dtype   \n",
      "---  ------                            --------------  -----   \n",
      " 0   Hospital County                   17661 non-null  category\n",
      " 1   Operating Certificate Number      17661 non-null  float64 \n",
      " 2   Facility Id                       17661 non-null  float64 \n",
      " 3   Facility Name                     17661 non-null  object  \n",
      " 4   Age Group                         17661 non-null  category\n",
      " 5   Zip Code - 3 digits               17460 non-null  category\n",
      " 6   Gender                            17661 non-null  category\n",
      " 7   Race                              17661 non-null  category\n",
      " 8   Ethnicity                         17661 non-null  category\n",
      " 9   Length of Stay                    17661 non-null  category\n",
      " 10  Type of Admission                 17661 non-null  category\n",
      " 11  Patient Disposition               17661 non-null  category\n",
      " 12  Discharge Year                    17661 non-null  int64   \n",
      " 13  CCS Diagnosis Code                17661 non-null  int64   \n",
      " 14  CCS Procedure Code                17661 non-null  int64   \n",
      " 15  APR DRG Code                      17661 non-null  int64   \n",
      " 16  APR MDC Code                      17661 non-null  int64   \n",
      " 17  APR Severity of Illness Code      17661 non-null  int64   \n",
      " 18  APR Risk of Mortality             17647 non-null  category\n",
      " 19  APR Medical Surgical Description  17661 non-null  category\n",
      " 20  Payment Typology 1                17661 non-null  category\n",
      " 21  Payment Typology 2                12345 non-null  category\n",
      " 22  Payment Typology 3                5858 non-null   category\n",
      " 23  Birth Weight                      17661 non-null  int64   \n",
      " 24  Abortion Edit Indicator           17661 non-null  category\n",
      " 25  Emergency Department Indicator    17661 non-null  category\n",
      " 26  Total Charges                     17661 non-null  float64 \n",
      " 27  Total Costs                       17661 non-null  float64 \n",
      "dtypes: category(16), float64(4), int64(7), object(1)\n",
      "memory usage: 2.1+ MB\n"
     ]
    }
   ],
   "source": [
    "UH_df.info()"
   ]
  },
  {
   "cell_type": "code",
   "execution_count": 92,
   "id": "c234faec",
   "metadata": {
    "execution": {
     "iopub.execute_input": "2023-02-21T19:33:23.533126Z",
     "iopub.status.busy": "2023-02-21T19:33:23.532275Z",
     "iopub.status.idle": "2023-02-21T19:33:23.540906Z",
     "shell.execute_reply": "2023-02-21T19:33:23.539883Z"
    },
    "id": "3b8b75d9",
    "papermill": {
     "duration": 0.092908,
     "end_time": "2023-02-21T19:33:23.543840",
     "exception": false,
     "start_time": "2023-02-21T19:33:23.450932",
     "status": "completed"
    },
    "tags": []
   },
   "outputs": [],
   "source": [
    "UH_df = UH_df.drop([\"Payment Typology 2\",    \"Payment Typology 3\"], axis=1)\n"
   ]
  },
  {
   "cell_type": "code",
   "execution_count": 93,
   "id": "dd8a6c88",
   "metadata": {
    "execution": {
     "iopub.execute_input": "2023-02-21T19:33:23.697129Z",
     "iopub.status.busy": "2023-02-21T19:33:23.696412Z",
     "iopub.status.idle": "2023-02-21T19:33:23.755001Z",
     "shell.execute_reply": "2023-02-21T19:33:23.753673Z"
    },
    "id": "141118f2",
    "outputId": "46f81eaf-cbfe-4e46-b65e-c41f20407d3b",
    "papermill": {
     "duration": 0.139862,
     "end_time": "2023-02-21T19:33:23.759478",
     "exception": false,
     "start_time": "2023-02-21T19:33:23.619616",
     "status": "completed"
    },
    "tags": []
   },
   "outputs": [
    {
     "name": "stdout",
     "output_type": "stream",
     "text": [
      "Hospital County : 1\n",
      "Broome         17661\n",
      "Albany             0\n",
      "Schenectady        0\n",
      "Onondaga           0\n",
      "Ontario            0\n",
      "Name: Hospital County, dtype: int64\n",
      "\n",
      "********************\n",
      "\n",
      "Operating Certificate Number : 1\n",
      "303001.0    17661\n",
      "Name: Operating Certificate Number, dtype: int64\n",
      "\n",
      "********************\n",
      "\n",
      "Facility Id : 2\n",
      "58.0    13318\n",
      "42.0     4343\n",
      "Name: Facility Id, dtype: int64\n",
      "\n",
      "********************\n",
      "\n",
      "Facility Name : 2\n",
      "United Health Services Hospitals Inc. - Wilson Medical Center          13318\n",
      "United Health Services Hospitals Inc. - Binghamton General Hospital     4343\n",
      "Name: Facility Name, dtype: int64\n",
      "\n",
      "********************\n",
      "\n",
      "Age Group : 5\n",
      "70 or Older    5807\n",
      "50 to 69       5171\n",
      "30 to 49       2961\n",
      "0 to 17        1870\n",
      "18 to 29       1852\n",
      "Name: Age Group, dtype: int64\n",
      "\n",
      "********************\n",
      "\n",
      "Zip Code - 3 digits : 28\n",
      "137    7150\n",
      "139    4731\n",
      "138    4070\n",
      "OOS    1014\n",
      "148     125\n",
      "Name: Zip Code - 3 digits, dtype: int64\n",
      "\n",
      "********************\n",
      "\n",
      "Gender : 2\n",
      "F    9398\n",
      "M    8263\n",
      "U       0\n",
      "Name: Gender, dtype: int64\n",
      "\n",
      "********************\n",
      "\n",
      "Race : 3\n",
      "White                     15670\n",
      "Other Race                 1141\n",
      "Black/African American      850\n",
      "Multi-racial                  0\n",
      "Name: Race, dtype: int64\n",
      "\n",
      "********************\n",
      "\n",
      "Ethnicity : 2\n",
      "Not Span/Hispanic    17457\n",
      "Spanish/Hispanic       204\n",
      "Multi-ethnic             0\n",
      "Unknown                  0\n",
      "Name: Ethnicity, dtype: int64\n",
      "\n",
      "********************\n",
      "\n",
      "Length of Stay : 85\n",
      "2    3892\n",
      "3    2995\n",
      "1    2245\n",
      "4    1693\n",
      "5    1230\n",
      "Name: Length of Stay, dtype: int64\n",
      "\n",
      "********************\n",
      "\n",
      "Type of Admission : 4\n",
      "Emergency        10209\n",
      "Elective          3200\n",
      "Urgent            2815\n",
      "Newborn           1437\n",
      "Not Available        0\n",
      "Name: Type of Admission, dtype: int64\n",
      "\n",
      "********************\n",
      "\n",
      "Patient Disposition : 16\n",
      "Home or Self Care                    11951\n",
      "Skilled Nursing Home                  2161\n",
      "Home w/ Home Health Services          1846\n",
      "Expired                                443\n",
      "Inpatient Rehabilitation Facility      383\n",
      "Name: Patient Disposition, dtype: int64\n",
      "\n",
      "********************\n",
      "\n",
      "Discharge Year : 1\n",
      "2015    17661\n",
      "Name: Discharge Year, dtype: int64\n",
      "\n",
      "********************\n",
      "\n",
      "CCS Diagnosis Code : 242\n",
      "218    1434\n",
      "2      1124\n",
      "657     925\n",
      "203     638\n",
      "205     560\n",
      "Name: CCS Diagnosis Code, dtype: int64\n",
      "\n",
      "********************\n",
      "\n",
      "CCS Procedure Code : 177\n",
      "0      5289\n",
      "228     949\n",
      "231     878\n",
      "216     654\n",
      "115     590\n",
      "Name: CCS Procedure Code, dtype: int64\n",
      "\n",
      "********************\n",
      "\n",
      "APR DRG Code : 286\n",
      "640    1206\n",
      "720     957\n",
      "560     897\n",
      "194     564\n",
      "753     519\n",
      "Name: APR DRG Code, dtype: int64\n",
      "\n",
      "********************\n",
      "\n",
      "APR MDC Code : 25\n",
      "5     2647\n",
      "8     2061\n",
      "15    1508\n",
      "14    1505\n",
      "19    1465\n",
      "Name: APR MDC Code, dtype: int64\n",
      "\n",
      "********************\n",
      "\n",
      "APR Severity of Illness Code : 5\n",
      "2    6570\n",
      "1    4824\n",
      "3    4657\n",
      "4    1596\n",
      "0      14\n",
      "Name: APR Severity of Illness Code, dtype: int64\n",
      "\n",
      "********************\n",
      "\n",
      "APR Risk of Mortality : 4\n",
      "Minor       9063\n",
      "Moderate    3886\n",
      "Major       3343\n",
      "Extreme     1355\n",
      "Name: APR Risk of Mortality, dtype: int64\n",
      "\n",
      "********************\n",
      "\n",
      "APR Medical Surgical Description : 3\n",
      "Medical           12630\n",
      "Surgical           5017\n",
      "Not Applicable       14\n",
      "Name: APR Medical Surgical Description, dtype: int64\n",
      "\n",
      "********************\n",
      "\n",
      "Payment Typology 1 : 8\n",
      "Medicare                    8619\n",
      "Medicaid                    4179\n",
      "Blue Cross/Blue Shield      2992\n",
      "Private Health Insurance    1126\n",
      "Self-Pay                     349\n",
      "Name: Payment Typology 1, dtype: int64\n",
      "\n",
      "********************\n",
      "\n",
      "Birth Weight : 48\n",
      "0       16128\n",
      "3400      147\n",
      "3200      131\n",
      "3300      106\n",
      "3000      100\n",
      "Name: Birth Weight, dtype: int64\n",
      "\n",
      "********************\n",
      "\n",
      "Abortion Edit Indicator : 1\n",
      "N    17661\n",
      "Y        0\n",
      "Name: Abortion Edit Indicator, dtype: int64\n",
      "\n",
      "********************\n",
      "\n",
      "Emergency Department Indicator : 2\n",
      "Y    9654\n",
      "N    8007\n",
      "Name: Emergency Department Indicator, dtype: int64\n",
      "\n",
      "********************\n",
      "\n",
      "Total Charges : 16874\n",
      "945.2     46\n",
      "1320.2    26\n",
      "1239.2    24\n",
      "988.2     22\n",
      "1624.2    21\n",
      "Name: Total Charges, dtype: int64\n",
      "\n",
      "********************\n",
      "\n",
      "Total Costs : 17021\n",
      "332.22    46\n",
      "638.11    26\n",
      "435.01    24\n",
      "338.28    22\n",
      "427.98    21\n",
      "Name: Total Costs, dtype: int64\n",
      "\n",
      "********************\n",
      "\n"
     ]
    }
   ],
   "source": [
    "for col in UH_df.columns:\n",
    "    print( col,':', UH_df[col].nunique() )#Num of unique values\n",
    "    print(UH_df[col].value_counts().nlargest(5)) #Most 5 frequent values\n",
    "    print('\\n' + '*' * 20 + '\\n')"
   ]
  },
  {
   "cell_type": "code",
   "execution_count": 94,
   "id": "ea00e3c5",
   "metadata": {
    "execution": {
     "iopub.execute_input": "2023-02-21T19:33:23.921736Z",
     "iopub.status.busy": "2023-02-21T19:33:23.920998Z",
     "iopub.status.idle": "2023-02-21T19:33:23.929046Z",
     "shell.execute_reply": "2023-02-21T19:33:23.928103Z"
    },
    "id": "4cbc38da",
    "papermill": {
     "duration": 0.088792,
     "end_time": "2023-02-21T19:33:23.931373",
     "exception": false,
     "start_time": "2023-02-21T19:33:23.842581",
     "status": "completed"
    },
    "tags": []
   },
   "outputs": [],
   "source": [
    " #   simple mapping on binary features.\n",
    "UH_df['Abortion Edit Indicator'] = UH_df['Abortion Edit Indicator'].apply(\n",
    "     lambda x: 1 if x == 'Y' else (0 if x == 'N' else None))\n",
    "UH_df['Emergency Department Indicator'] = UH_df['Emergency Department Indicator'].apply(\n",
    "    lambda x: 1 if x == 'Y' else (0 if x == 'N' else None))"
   ]
  },
  {
   "cell_type": "code",
   "execution_count": 95,
   "id": "be2c43e3",
   "metadata": {
    "execution": {
     "iopub.execute_input": "2023-02-21T19:33:24.083950Z",
     "iopub.status.busy": "2023-02-21T19:33:24.083289Z",
     "iopub.status.idle": "2023-02-21T19:33:24.098528Z",
     "shell.execute_reply": "2023-02-21T19:33:24.097160Z"
    },
    "id": "82927442",
    "papermill": {
     "duration": 0.092341,
     "end_time": "2023-02-21T19:33:24.101277",
     "exception": false,
     "start_time": "2023-02-21T19:33:24.008936",
     "status": "completed"
    },
    "tags": []
   },
   "outputs": [],
   "source": [
    "UH_df[\"Length of Stay\"]=pd.to_numeric(UH_df[\"Length of Stay\"],errors='coerce')\n"
   ]
  },
  {
   "cell_type": "code",
   "execution_count": 96,
   "id": "fa78ba23",
   "metadata": {
    "execution": {
     "iopub.execute_input": "2023-02-21T19:33:24.249792Z",
     "iopub.status.busy": "2023-02-21T19:33:24.249366Z",
     "iopub.status.idle": "2023-02-21T19:33:24.324042Z",
     "shell.execute_reply": "2023-02-21T19:33:24.322912Z"
    },
    "id": "e3d2f008",
    "papermill": {
     "duration": 0.151994,
     "end_time": "2023-02-21T19:33:24.326740",
     "exception": false,
     "start_time": "2023-02-21T19:33:24.174746",
     "status": "completed"
    },
    "tags": []
   },
   "outputs": [],
   "source": [
    "list=  [ \"Hospital County\",\"Age Group\"\n",
    "    ,\"Gender\",   \n",
    " \"Race\" , \n",
    "\"Ethnicity\", \n",
    "\"Gender\" , \n",
    "\"Race\" ,    \n",
    " \"Ethnicity\" ,        \n",
    " \"Type of Admission\"  ,  \n",
    "  \"Patient Disposition\",      \n",
    " \"Type of Admission\" ,  \n",
    " \"Patient Disposition\"  ,\n",
    "  \"APR Risk of Mortality\" ,   \n",
    " \"APR Medical Surgical Description\" ,\n",
    " \"Payment Typology 1\"   ,   \n",
    " \"Abortion Edit Indicator\"     ,  \n",
    " \"Emergency Department Indicator\",\n",
    "       \"Zip Code - 3 digits\",'Facility Name']  \n",
    "\n",
    "# Import label encoder\n",
    "from sklearn import preprocessing\n",
    "  \n",
    "# label_encoder object knows how to understand word labels.\n",
    "label_encoder = preprocessing.LabelEncoder()\n",
    "  \n",
    "# Encode labels in column 'species'.\n",
    "for col in list :\n",
    "  UH_df[col]= label_encoder.fit_transform(UH_df[col])\n"
   ]
  },
  {
   "cell_type": "code",
   "execution_count": 97,
   "id": "b2417841",
   "metadata": {
    "execution": {
     "iopub.execute_input": "2023-02-21T19:33:24.481884Z",
     "iopub.status.busy": "2023-02-21T19:33:24.481415Z",
     "iopub.status.idle": "2023-02-21T19:33:24.499437Z",
     "shell.execute_reply": "2023-02-21T19:33:24.498152Z"
    },
    "id": "481dc84e",
    "outputId": "b2fb5114-d72b-4be4-a70a-1570a02e543d",
    "papermill": {
     "duration": 0.101958,
     "end_time": "2023-02-21T19:33:24.502209",
     "exception": false,
     "start_time": "2023-02-21T19:33:24.400251",
     "status": "completed"
    },
    "tags": []
   },
   "outputs": [
    {
     "name": "stdout",
     "output_type": "stream",
     "text": [
      "<class 'pandas.core.frame.DataFrame'>\n",
      "Int64Index: 17661 entries, 327335 to 316426\n",
      "Data columns (total 26 columns):\n",
      " #   Column                            Non-Null Count  Dtype  \n",
      "---  ------                            --------------  -----  \n",
      " 0   Hospital County                   17661 non-null  int64  \n",
      " 1   Operating Certificate Number      17661 non-null  float64\n",
      " 2   Facility Id                       17661 non-null  float64\n",
      " 3   Facility Name                     17661 non-null  int64  \n",
      " 4   Age Group                         17661 non-null  int64  \n",
      " 5   Zip Code - 3 digits               17661 non-null  int64  \n",
      " 6   Gender                            17661 non-null  int64  \n",
      " 7   Race                              17661 non-null  int64  \n",
      " 8   Ethnicity                         17661 non-null  int64  \n",
      " 9   Length of Stay                    17645 non-null  float64\n",
      " 10  Type of Admission                 17661 non-null  int64  \n",
      " 11  Patient Disposition               17661 non-null  int64  \n",
      " 12  Discharge Year                    17661 non-null  int64  \n",
      " 13  CCS Diagnosis Code                17661 non-null  int64  \n",
      " 14  CCS Procedure Code                17661 non-null  int64  \n",
      " 15  APR DRG Code                      17661 non-null  int64  \n",
      " 16  APR MDC Code                      17661 non-null  int64  \n",
      " 17  APR Severity of Illness Code      17661 non-null  int64  \n",
      " 18  APR Risk of Mortality             17661 non-null  int64  \n",
      " 19  APR Medical Surgical Description  17661 non-null  int64  \n",
      " 20  Payment Typology 1                17661 non-null  int64  \n",
      " 21  Birth Weight                      17661 non-null  int64  \n",
      " 22  Abortion Edit Indicator           17661 non-null  int64  \n",
      " 23  Emergency Department Indicator    17661 non-null  int64  \n",
      " 24  Total Charges                     17661 non-null  float64\n",
      " 25  Total Costs                       17661 non-null  float64\n",
      "dtypes: float64(5), int64(21)\n",
      "memory usage: 3.6 MB\n"
     ]
    }
   ],
   "source": [
    "UH_df.info()\n"
   ]
  },
  {
   "cell_type": "code",
   "execution_count": 98,
   "id": "eea4cd3a",
   "metadata": {
    "execution": {
     "iopub.execute_input": "2023-02-21T19:33:24.659058Z",
     "iopub.status.busy": "2023-02-21T19:33:24.657984Z",
     "iopub.status.idle": "2023-02-21T19:33:24.672873Z",
     "shell.execute_reply": "2023-02-21T19:33:24.671610Z"
    },
    "id": "38be26e9",
    "papermill": {
     "duration": 0.093975,
     "end_time": "2023-02-21T19:33:24.675694",
     "exception": false,
     "start_time": "2023-02-21T19:33:24.581719",
     "status": "completed"
    },
    "tags": []
   },
   "outputs": [],
   "source": [
    " UH_df.dropna(inplace=True)\n"
   ]
  },
  {
   "cell_type": "code",
   "execution_count": 99,
   "id": "23a783a6",
   "metadata": {
    "execution": {
     "iopub.execute_input": "2023-02-21T19:33:24.825359Z",
     "iopub.status.busy": "2023-02-21T19:33:24.824926Z",
     "iopub.status.idle": "2023-02-21T19:33:24.832766Z",
     "shell.execute_reply": "2023-02-21T19:33:24.831597Z"
    },
    "id": "cef601f7",
    "papermill": {
     "duration": 0.085364,
     "end_time": "2023-02-21T19:33:24.835297",
     "exception": false,
     "start_time": "2023-02-21T19:33:24.749933",
     "status": "completed"
    },
    "tags": []
   },
   "outputs": [],
   "source": [
    "x = UH_df.drop([\"Length of Stay\"], axis =1)\n",
    "y = UH_df[\"Length of Stay\"]"
   ]
  },
  {
   "cell_type": "code",
   "execution_count": 100,
   "id": "662378a8",
   "metadata": {
    "execution": {
     "iopub.execute_input": "2023-02-21T19:33:24.985889Z",
     "iopub.status.busy": "2023-02-21T19:33:24.984665Z",
     "iopub.status.idle": "2023-02-21T19:33:24.995336Z",
     "shell.execute_reply": "2023-02-21T19:33:24.994421Z"
    },
    "id": "6b611ce8",
    "papermill": {
     "duration": 0.08899,
     "end_time": "2023-02-21T19:33:24.997825",
     "exception": false,
     "start_time": "2023-02-21T19:33:24.908835",
     "status": "completed"
    },
    "tags": []
   },
   "outputs": [],
   "source": [
    "x_train, x_test, y_train, y_test = train_test_split(x, y, test_size=0.3, random_state=42)\n"
   ]
  },
  {
   "cell_type": "code",
   "execution_count": 101,
   "id": "3f11694e",
   "metadata": {
    "execution": {
     "iopub.execute_input": "2023-02-21T19:33:25.146069Z",
     "iopub.status.busy": "2023-02-21T19:33:25.145253Z",
     "iopub.status.idle": "2023-02-21T19:33:25.178725Z",
     "shell.execute_reply": "2023-02-21T19:33:25.177147Z"
    },
    "id": "059afbbd",
    "papermill": {
     "duration": 0.112617,
     "end_time": "2023-02-21T19:33:25.183025",
     "exception": false,
     "start_time": "2023-02-21T19:33:25.070408",
     "status": "completed"
    },
    "tags": []
   },
   "outputs": [],
   "source": [
    "# Linear Regression\n",
    "\n",
    "LR = LinearRegression()\n",
    "LR.fit(x_train, y_train)\n",
    "LR.score(x_train, y_train)\n",
    "y_pred =LR.predict(x_test)"
   ]
  },
  {
   "cell_type": "code",
   "execution_count": 102,
   "id": "093366a5",
   "metadata": {
    "execution": {
     "iopub.execute_input": "2023-02-21T19:33:25.462656Z",
     "iopub.status.busy": "2023-02-21T19:33:25.462177Z",
     "iopub.status.idle": "2023-02-21T19:33:25.471049Z",
     "shell.execute_reply": "2023-02-21T19:33:25.470064Z"
    },
    "id": "a0465add",
    "outputId": "a17c8b7f-7714-459e-8ce6-aa83e24ce053",
    "papermill": {
     "duration": 0.144441,
     "end_time": "2023-02-21T19:33:25.473481",
     "exception": false,
     "start_time": "2023-02-21T19:33:25.329040",
     "status": "completed"
    },
    "tags": []
   },
   "outputs": [
    {
     "data": {
      "text/plain": [
       "0.7525860452304862"
      ]
     },
     "execution_count": 102,
     "metadata": {},
     "output_type": "execute_result"
    }
   ],
   "source": [
    "r2 = r2_score(y_test, y_pred)\n",
    "r2 "
   ]
  },
  {
   "cell_type": "code",
   "execution_count": 103,
   "id": "fef3f92e",
   "metadata": {
    "execution": {
     "iopub.execute_input": "2023-02-21T19:33:25.648226Z",
     "iopub.status.busy": "2023-02-21T19:33:25.647826Z",
     "iopub.status.idle": "2023-02-21T19:33:25.656199Z",
     "shell.execute_reply": "2023-02-21T19:33:25.655043Z"
    },
    "id": "310dfa70",
    "outputId": "7d402296-f91f-4c65-bf79-ae5a8c4f17c4",
    "papermill": {
     "duration": 0.105881,
     "end_time": "2023-02-21T19:33:25.658429",
     "exception": false,
     "start_time": "2023-02-21T19:33:25.552548",
     "status": "completed"
    },
    "tags": []
   },
   "outputs": [
    {
     "data": {
      "text/plain": [
       "2.0684639957341076"
      ]
     },
     "execution_count": 103,
     "metadata": {},
     "output_type": "execute_result"
    }
   ],
   "source": [
    "# calculate the MAE of the model\n",
    "mae = mean_absolute_error(y_test, y_pred)\n",
    "mae"
   ]
  },
  {
   "cell_type": "code",
   "execution_count": 104,
   "id": "d0a1c53e",
   "metadata": {
    "execution": {
     "iopub.execute_input": "2023-02-21T19:33:25.808314Z",
     "iopub.status.busy": "2023-02-21T19:33:25.807911Z",
     "iopub.status.idle": "2023-02-21T19:33:25.815788Z",
     "shell.execute_reply": "2023-02-21T19:33:25.814867Z"
    },
    "id": "4e6f9c6d",
    "outputId": "64086f47-bf97-418f-8333-6b77702ec4ad",
    "papermill": {
     "duration": 0.086216,
     "end_time": "2023-02-21T19:33:25.818065",
     "exception": false,
     "start_time": "2023-02-21T19:33:25.731849",
     "status": "completed"
    },
    "tags": []
   },
   "outputs": [
    {
     "data": {
      "text/plain": [
       "12.376363549957983"
      ]
     },
     "execution_count": 104,
     "metadata": {},
     "output_type": "execute_result"
    }
   ],
   "source": [
    "# calculate the MSE of the model\n",
    "mse = mean_squared_error(y_test, y_pred)\n",
    "mse"
   ]
  },
  {
   "cell_type": "code",
   "execution_count": 105,
   "id": "2b23657a",
   "metadata": {
    "execution": {
     "iopub.execute_input": "2023-02-21T19:33:25.969827Z",
     "iopub.status.busy": "2023-02-21T19:33:25.969122Z",
     "iopub.status.idle": "2023-02-21T19:33:25.976270Z",
     "shell.execute_reply": "2023-02-21T19:33:25.975228Z"
    },
    "id": "9e082d44",
    "outputId": "dd9553d4-1186-435f-d3d6-c158f751493b",
    "papermill": {
     "duration": 0.085737,
     "end_time": "2023-02-21T19:33:25.978504",
     "exception": false,
     "start_time": "2023-02-21T19:33:25.892767",
     "status": "completed"
    },
    "tags": []
   },
   "outputs": [
    {
     "data": {
      "text/plain": [
       "3.5180056210810666"
      ]
     },
     "execution_count": 105,
     "metadata": {},
     "output_type": "execute_result"
    }
   ],
   "source": [
    "# calculate the RMSE of the model\n",
    "rmse = np.sqrt(mse)\n",
    "rmse"
   ]
  },
  {
   "cell_type": "code",
   "execution_count": 106,
   "id": "2a3b7dfb",
   "metadata": {
    "execution": {
     "iopub.execute_input": "2023-02-21T19:33:26.127990Z",
     "iopub.status.busy": "2023-02-21T19:33:26.127544Z",
     "iopub.status.idle": "2023-02-21T19:33:26.235006Z",
     "shell.execute_reply": "2023-02-21T19:33:26.233407Z"
    },
    "id": "206019f7",
    "papermill": {
     "duration": 0.186866,
     "end_time": "2023-02-21T19:33:26.239209",
     "exception": false,
     "start_time": "2023-02-21T19:33:26.052343",
     "status": "completed"
    },
    "tags": []
   },
   "outputs": [],
   "source": [
    "# LASSO\n",
    "L1 = linear_model.Lasso()\n",
    "L1.fit(x_train,y_train)\n",
    "y_pred1 = L1.predict(x_test)"
   ]
  },
  {
   "cell_type": "code",
   "execution_count": 107,
   "id": "52ea7e9a",
   "metadata": {
    "execution": {
     "iopub.execute_input": "2023-02-21T19:33:26.461318Z",
     "iopub.status.busy": "2023-02-21T19:33:26.460868Z",
     "iopub.status.idle": "2023-02-21T19:33:26.470447Z",
     "shell.execute_reply": "2023-02-21T19:33:26.469282Z"
    },
    "id": "2fef5cdb",
    "outputId": "10c537ba-585e-4e14-c919-337f748d6879",
    "papermill": {
     "duration": 0.089014,
     "end_time": "2023-02-21T19:33:26.473535",
     "exception": false,
     "start_time": "2023-02-21T19:33:26.384521",
     "status": "completed"
    },
    "tags": []
   },
   "outputs": [
    {
     "data": {
      "text/plain": [
       "0.7149297869535722"
      ]
     },
     "execution_count": 107,
     "metadata": {},
     "output_type": "execute_result"
    }
   ],
   "source": [
    "r2 = r2_score(y_test, y_pred1)\n",
    "r2 "
   ]
  },
  {
   "cell_type": "code",
   "execution_count": 108,
   "id": "6698449d",
   "metadata": {
    "execution": {
     "iopub.execute_input": "2023-02-21T19:33:26.626010Z",
     "iopub.status.busy": "2023-02-21T19:33:26.625215Z",
     "iopub.status.idle": "2023-02-21T19:33:26.632526Z",
     "shell.execute_reply": "2023-02-21T19:33:26.631440Z"
    },
    "id": "50a4e762",
    "outputId": "2978a016-a1fa-481b-8117-704b3da06f45",
    "papermill": {
     "duration": 0.087023,
     "end_time": "2023-02-21T19:33:26.634850",
     "exception": false,
     "start_time": "2023-02-21T19:33:26.547827",
     "status": "completed"
    },
    "tags": []
   },
   "outputs": [
    {
     "data": {
      "text/plain": [
       "2.2303833727619162"
      ]
     },
     "execution_count": 108,
     "metadata": {},
     "output_type": "execute_result"
    }
   ],
   "source": [
    "# calculate the MAE of the model\n",
    "mae = mean_absolute_error(y_test, y_pred1)\n",
    "mae"
   ]
  },
  {
   "cell_type": "code",
   "execution_count": 109,
   "id": "1592e13c",
   "metadata": {
    "execution": {
     "iopub.execute_input": "2023-02-21T19:33:26.785243Z",
     "iopub.status.busy": "2023-02-21T19:33:26.784451Z",
     "iopub.status.idle": "2023-02-21T19:33:26.794145Z",
     "shell.execute_reply": "2023-02-21T19:33:26.792946Z"
    },
    "id": "a3618449",
    "outputId": "f4e50142-e4a6-471c-8009-0e2ea0a56f51",
    "papermill": {
     "duration": 0.08707,
     "end_time": "2023-02-21T19:33:26.796692",
     "exception": false,
     "start_time": "2023-02-21T19:33:26.709622",
     "status": "completed"
    },
    "tags": []
   },
   "outputs": [
    {
     "data": {
      "text/plain": [
       "14.260038796976138"
      ]
     },
     "execution_count": 109,
     "metadata": {},
     "output_type": "execute_result"
    }
   ],
   "source": [
    "# calculate the MSE of the model\n",
    "mse = mean_squared_error(y_test, y_pred1)\n",
    "mse"
   ]
  },
  {
   "cell_type": "code",
   "execution_count": 110,
   "id": "205e18b5",
   "metadata": {
    "execution": {
     "iopub.execute_input": "2023-02-21T19:33:26.947880Z",
     "iopub.status.busy": "2023-02-21T19:33:26.946850Z",
     "iopub.status.idle": "2023-02-21T19:33:26.953721Z",
     "shell.execute_reply": "2023-02-21T19:33:26.952392Z"
    },
    "id": "8bfc1b23",
    "outputId": "3e35dc65-70ad-43bd-b474-41b582e2a0d1",
    "papermill": {
     "duration": 0.083982,
     "end_time": "2023-02-21T19:33:26.955971",
     "exception": false,
     "start_time": "2023-02-21T19:33:26.871989",
     "status": "completed"
    },
    "tags": []
   },
   "outputs": [
    {
     "data": {
      "text/plain": [
       "3.7762466546792384"
      ]
     },
     "execution_count": 110,
     "metadata": {},
     "output_type": "execute_result"
    }
   ],
   "source": [
    "# calculate the RMSE of the model\n",
    "rmse = np.sqrt(mse)\n",
    "rmse"
   ]
  },
  {
   "cell_type": "code",
   "execution_count": 111,
   "id": "1c6e2553",
   "metadata": {
    "execution": {
     "iopub.execute_input": "2023-02-21T19:33:27.110797Z",
     "iopub.status.busy": "2023-02-21T19:33:27.110043Z",
     "iopub.status.idle": "2023-02-21T19:33:27.127581Z",
     "shell.execute_reply": "2023-02-21T19:33:27.125988Z"
    },
    "id": "7164cbde",
    "papermill": {
     "duration": 0.096787,
     "end_time": "2023-02-21T19:33:27.132200",
     "exception": false,
     "start_time": "2023-02-21T19:33:27.035413",
     "status": "completed"
    },
    "tags": []
   },
   "outputs": [],
   "source": [
    "# Ridge\n",
    "L2 = Ridge(alpha=1.0)\n",
    "L2.fit(x_train, y_train) \n",
    "y_pred3 = L2.predict(x_test)"
   ]
  },
  {
   "cell_type": "code",
   "execution_count": 112,
   "id": "a7ee03ad",
   "metadata": {
    "execution": {
     "iopub.execute_input": "2023-02-21T19:33:27.352530Z",
     "iopub.status.busy": "2023-02-21T19:33:27.352126Z",
     "iopub.status.idle": "2023-02-21T19:33:27.360532Z",
     "shell.execute_reply": "2023-02-21T19:33:27.359469Z"
    },
    "id": "310e1704",
    "outputId": "41c510fc-7903-45bc-c794-2ee028742de3",
    "papermill": {
     "duration": 0.084761,
     "end_time": "2023-02-21T19:33:27.362677",
     "exception": false,
     "start_time": "2023-02-21T19:33:27.277916",
     "status": "completed"
    },
    "tags": []
   },
   "outputs": [
    {
     "data": {
      "text/plain": [
       "0.7525870132619732"
      ]
     },
     "execution_count": 112,
     "metadata": {},
     "output_type": "execute_result"
    }
   ],
   "source": [
    "r2 = r2_score(y_test, y_pred3)\n",
    "r2 "
   ]
  },
  {
   "cell_type": "code",
   "execution_count": 113,
   "id": "0892f0d7",
   "metadata": {
    "execution": {
     "iopub.execute_input": "2023-02-21T19:33:27.520414Z",
     "iopub.status.busy": "2023-02-21T19:33:27.519348Z",
     "iopub.status.idle": "2023-02-21T19:33:27.527169Z",
     "shell.execute_reply": "2023-02-21T19:33:27.526086Z"
    },
    "id": "266d82cc",
    "outputId": "9a895153-8a83-4588-fe82-380a1a7f601f",
    "papermill": {
     "duration": 0.093042,
     "end_time": "2023-02-21T19:33:27.529340",
     "exception": false,
     "start_time": "2023-02-21T19:33:27.436298",
     "status": "completed"
    },
    "tags": []
   },
   "outputs": [
    {
     "data": {
      "text/plain": [
       "2.0684430974297547"
      ]
     },
     "execution_count": 113,
     "metadata": {},
     "output_type": "execute_result"
    }
   ],
   "source": [
    "# calculate the MAE of the model\n",
    "mae = mean_absolute_error(y_test, y_pred3)\n",
    "mae"
   ]
  },
  {
   "cell_type": "code",
   "execution_count": 114,
   "id": "d3dc8545",
   "metadata": {
    "execution": {
     "iopub.execute_input": "2023-02-21T19:33:27.679733Z",
     "iopub.status.busy": "2023-02-21T19:33:27.678524Z",
     "iopub.status.idle": "2023-02-21T19:33:27.686233Z",
     "shell.execute_reply": "2023-02-21T19:33:27.685220Z"
    },
    "id": "e18e611c",
    "outputId": "87609dad-38cb-412c-b0f3-21f6bfdeee8a",
    "papermill": {
     "duration": 0.085752,
     "end_time": "2023-02-21T19:33:27.688363",
     "exception": false,
     "start_time": "2023-02-21T19:33:27.602611",
     "status": "completed"
    },
    "tags": []
   },
   "outputs": [
    {
     "data": {
      "text/plain": [
       "12.376315126215594"
      ]
     },
     "execution_count": 114,
     "metadata": {},
     "output_type": "execute_result"
    }
   ],
   "source": [
    "# calculate the MSE of the model\n",
    "mse = mean_squared_error(y_test, y_pred3)\n",
    "mse"
   ]
  },
  {
   "cell_type": "code",
   "execution_count": 115,
   "id": "5d3dc752",
   "metadata": {
    "execution": {
     "iopub.execute_input": "2023-02-21T19:33:27.839928Z",
     "iopub.status.busy": "2023-02-21T19:33:27.838904Z",
     "iopub.status.idle": "2023-02-21T19:33:27.845201Z",
     "shell.execute_reply": "2023-02-21T19:33:27.844375Z"
    },
    "id": "2088aa70",
    "outputId": "8bb5ee8c-b364-4754-a685-c73a77c91faf",
    "papermill": {
     "duration": 0.083552,
     "end_time": "2023-02-21T19:33:27.847291",
     "exception": false,
     "start_time": "2023-02-21T19:33:27.763739",
     "status": "completed"
    },
    "tags": []
   },
   "outputs": [
    {
     "data": {
      "text/plain": [
       "3.517998738802445"
      ]
     },
     "execution_count": 115,
     "metadata": {},
     "output_type": "execute_result"
    }
   ],
   "source": [
    "# calculate the RMSE of the model\n",
    "rmse = np.sqrt(mse)\n",
    "rmse"
   ]
  },
  {
   "cell_type": "code",
   "execution_count": null,
   "id": "114f2654",
   "metadata": {
    "id": "c52e732a",
    "papermill": {
     "duration": 0.074233,
     "end_time": "2023-02-21T19:33:27.996724",
     "exception": false,
     "start_time": "2023-02-21T19:33:27.922491",
     "status": "completed"
    },
    "tags": []
   },
   "outputs": [],
   "source": []
  },
  {
   "cell_type": "markdown",
   "id": "a8c3ed59",
   "metadata": {
    "id": "a50861c9",
    "papermill": {
     "duration": 0.074839,
     "end_time": "2023-02-21T19:33:28.145897",
     "exception": false,
     "start_time": "2023-02-21T19:33:28.071058",
     "status": "completed"
    },
    "tags": []
   },
   "source": [
    "##Client 6 : Glens Falls Hospital"
   ]
  },
  {
   "cell_type": "code",
   "execution_count": 116,
   "id": "9216270f",
   "metadata": {
    "execution": {
     "iopub.execute_input": "2023-02-21T19:33:28.295715Z",
     "iopub.status.busy": "2023-02-21T19:33:28.294751Z",
     "iopub.status.idle": "2023-02-21T19:33:28.450729Z",
     "shell.execute_reply": "2023-02-21T19:33:28.449735Z"
    },
    "id": "b4345a4d",
    "papermill": {
     "duration": 0.233726,
     "end_time": "2023-02-21T19:33:28.453317",
     "exception": false,
     "start_time": "2023-02-21T19:33:28.219591",
     "status": "completed"
    },
    "tags": []
   },
   "outputs": [],
   "source": [
    "Glens_df=df[df[\"Facility Name\"]== 'Glens Falls Hospital']"
   ]
  },
  {
   "cell_type": "code",
   "execution_count": 117,
   "id": "d39e4387",
   "metadata": {
    "execution": {
     "iopub.execute_input": "2023-02-21T19:33:28.605714Z",
     "iopub.status.busy": "2023-02-21T19:33:28.604976Z",
     "iopub.status.idle": "2023-02-21T19:33:28.647567Z",
     "shell.execute_reply": "2023-02-21T19:33:28.646641Z"
    },
    "id": "b1e6c92c",
    "outputId": "1f7077f8-4d96-429b-8129-49aa81160c6a",
    "papermill": {
     "duration": 0.121757,
     "end_time": "2023-02-21T19:33:28.649744",
     "exception": false,
     "start_time": "2023-02-21T19:33:28.527987",
     "status": "completed"
    },
    "tags": []
   },
   "outputs": [
    {
     "data": {
      "text/html": [
       "<div>\n",
       "<style scoped>\n",
       "    .dataframe tbody tr th:only-of-type {\n",
       "        vertical-align: middle;\n",
       "    }\n",
       "\n",
       "    .dataframe tbody tr th {\n",
       "        vertical-align: top;\n",
       "    }\n",
       "\n",
       "    .dataframe thead th {\n",
       "        text-align: right;\n",
       "    }\n",
       "</style>\n",
       "<table border=\"1\" class=\"dataframe\">\n",
       "  <thead>\n",
       "    <tr style=\"text-align: right;\">\n",
       "      <th></th>\n",
       "      <th>Hospital County</th>\n",
       "      <th>Operating Certificate Number</th>\n",
       "      <th>Facility Id</th>\n",
       "      <th>Facility Name</th>\n",
       "      <th>Age Group</th>\n",
       "      <th>Zip Code - 3 digits</th>\n",
       "      <th>Gender</th>\n",
       "      <th>Race</th>\n",
       "      <th>Ethnicity</th>\n",
       "      <th>Length of Stay</th>\n",
       "      <th>...</th>\n",
       "      <th>APR Risk of Mortality</th>\n",
       "      <th>APR Medical Surgical Description</th>\n",
       "      <th>Payment Typology 1</th>\n",
       "      <th>Payment Typology 2</th>\n",
       "      <th>Payment Typology 3</th>\n",
       "      <th>Birth Weight</th>\n",
       "      <th>Abortion Edit Indicator</th>\n",
       "      <th>Emergency Department Indicator</th>\n",
       "      <th>Total Charges</th>\n",
       "      <th>Total Costs</th>\n",
       "    </tr>\n",
       "  </thead>\n",
       "  <tbody>\n",
       "    <tr>\n",
       "      <th>628756</th>\n",
       "      <td>Warren</td>\n",
       "      <td>5601000.0</td>\n",
       "      <td>1005.0</td>\n",
       "      <td>Glens Falls Hospital</td>\n",
       "      <td>30 to 49</td>\n",
       "      <td>128</td>\n",
       "      <td>F</td>\n",
       "      <td>White</td>\n",
       "      <td>Not Span/Hispanic</td>\n",
       "      <td>5</td>\n",
       "      <td>...</td>\n",
       "      <td>Minor</td>\n",
       "      <td>Medical</td>\n",
       "      <td>Medicaid</td>\n",
       "      <td>NaN</td>\n",
       "      <td>NaN</td>\n",
       "      <td>0</td>\n",
       "      <td>N</td>\n",
       "      <td>Y</td>\n",
       "      <td>16901.84</td>\n",
       "      <td>5444.54</td>\n",
       "    </tr>\n",
       "    <tr>\n",
       "      <th>628825</th>\n",
       "      <td>Warren</td>\n",
       "      <td>5601000.0</td>\n",
       "      <td>1005.0</td>\n",
       "      <td>Glens Falls Hospital</td>\n",
       "      <td>50 to 69</td>\n",
       "      <td>120</td>\n",
       "      <td>F</td>\n",
       "      <td>White</td>\n",
       "      <td>Not Span/Hispanic</td>\n",
       "      <td>4</td>\n",
       "      <td>...</td>\n",
       "      <td>Moderate</td>\n",
       "      <td>Medical</td>\n",
       "      <td>Medicare</td>\n",
       "      <td>NaN</td>\n",
       "      <td>NaN</td>\n",
       "      <td>0</td>\n",
       "      <td>N</td>\n",
       "      <td>N</td>\n",
       "      <td>15354.59</td>\n",
       "      <td>5499.39</td>\n",
       "    </tr>\n",
       "    <tr>\n",
       "      <th>629035</th>\n",
       "      <td>Warren</td>\n",
       "      <td>5601000.0</td>\n",
       "      <td>1005.0</td>\n",
       "      <td>Glens Falls Hospital</td>\n",
       "      <td>18 to 29</td>\n",
       "      <td>128</td>\n",
       "      <td>M</td>\n",
       "      <td>White</td>\n",
       "      <td>Not Span/Hispanic</td>\n",
       "      <td>2</td>\n",
       "      <td>...</td>\n",
       "      <td>Minor</td>\n",
       "      <td>Medical</td>\n",
       "      <td>Blue Cross/Blue Shield</td>\n",
       "      <td>NaN</td>\n",
       "      <td>NaN</td>\n",
       "      <td>0</td>\n",
       "      <td>N</td>\n",
       "      <td>Y</td>\n",
       "      <td>8413.10</td>\n",
       "      <td>2565.18</td>\n",
       "    </tr>\n",
       "    <tr>\n",
       "      <th>629070</th>\n",
       "      <td>Warren</td>\n",
       "      <td>5601000.0</td>\n",
       "      <td>1005.0</td>\n",
       "      <td>Glens Falls Hospital</td>\n",
       "      <td>50 to 69</td>\n",
       "      <td>128</td>\n",
       "      <td>F</td>\n",
       "      <td>White</td>\n",
       "      <td>Not Span/Hispanic</td>\n",
       "      <td>1</td>\n",
       "      <td>...</td>\n",
       "      <td>Minor</td>\n",
       "      <td>Medical</td>\n",
       "      <td>Blue Cross/Blue Shield</td>\n",
       "      <td>NaN</td>\n",
       "      <td>NaN</td>\n",
       "      <td>0</td>\n",
       "      <td>N</td>\n",
       "      <td>Y</td>\n",
       "      <td>8102.00</td>\n",
       "      <td>2008.34</td>\n",
       "    </tr>\n",
       "    <tr>\n",
       "      <th>629175</th>\n",
       "      <td>Warren</td>\n",
       "      <td>5601000.0</td>\n",
       "      <td>1005.0</td>\n",
       "      <td>Glens Falls Hospital</td>\n",
       "      <td>70 or Older</td>\n",
       "      <td>128</td>\n",
       "      <td>F</td>\n",
       "      <td>White</td>\n",
       "      <td>Not Span/Hispanic</td>\n",
       "      <td>6</td>\n",
       "      <td>...</td>\n",
       "      <td>Major</td>\n",
       "      <td>Medical</td>\n",
       "      <td>Medicare</td>\n",
       "      <td>NaN</td>\n",
       "      <td>NaN</td>\n",
       "      <td>0</td>\n",
       "      <td>N</td>\n",
       "      <td>N</td>\n",
       "      <td>21480.74</td>\n",
       "      <td>7279.17</td>\n",
       "    </tr>\n",
       "    <tr>\n",
       "      <th>...</th>\n",
       "      <td>...</td>\n",
       "      <td>...</td>\n",
       "      <td>...</td>\n",
       "      <td>...</td>\n",
       "      <td>...</td>\n",
       "      <td>...</td>\n",
       "      <td>...</td>\n",
       "      <td>...</td>\n",
       "      <td>...</td>\n",
       "      <td>...</td>\n",
       "      <td>...</td>\n",
       "      <td>...</td>\n",
       "      <td>...</td>\n",
       "      <td>...</td>\n",
       "      <td>...</td>\n",
       "      <td>...</td>\n",
       "      <td>...</td>\n",
       "      <td>...</td>\n",
       "      <td>...</td>\n",
       "      <td>...</td>\n",
       "      <td>...</td>\n",
       "    </tr>\n",
       "    <tr>\n",
       "      <th>664926</th>\n",
       "      <td>Warren</td>\n",
       "      <td>5601000.0</td>\n",
       "      <td>1005.0</td>\n",
       "      <td>Glens Falls Hospital</td>\n",
       "      <td>30 to 49</td>\n",
       "      <td>128</td>\n",
       "      <td>F</td>\n",
       "      <td>White</td>\n",
       "      <td>Not Span/Hispanic</td>\n",
       "      <td>1</td>\n",
       "      <td>...</td>\n",
       "      <td>Minor</td>\n",
       "      <td>Medical</td>\n",
       "      <td>Medicare</td>\n",
       "      <td>NaN</td>\n",
       "      <td>NaN</td>\n",
       "      <td>0</td>\n",
       "      <td>N</td>\n",
       "      <td>Y</td>\n",
       "      <td>14033.73</td>\n",
       "      <td>4471.53</td>\n",
       "    </tr>\n",
       "    <tr>\n",
       "      <th>664927</th>\n",
       "      <td>Warren</td>\n",
       "      <td>5601000.0</td>\n",
       "      <td>1005.0</td>\n",
       "      <td>Glens Falls Hospital</td>\n",
       "      <td>70 or Older</td>\n",
       "      <td>128</td>\n",
       "      <td>F</td>\n",
       "      <td>White</td>\n",
       "      <td>Not Span/Hispanic</td>\n",
       "      <td>1</td>\n",
       "      <td>...</td>\n",
       "      <td>Minor</td>\n",
       "      <td>Surgical</td>\n",
       "      <td>Medicare</td>\n",
       "      <td>NaN</td>\n",
       "      <td>NaN</td>\n",
       "      <td>0</td>\n",
       "      <td>N</td>\n",
       "      <td>Y</td>\n",
       "      <td>44134.98</td>\n",
       "      <td>12744.49</td>\n",
       "    </tr>\n",
       "    <tr>\n",
       "      <th>664928</th>\n",
       "      <td>Warren</td>\n",
       "      <td>5601000.0</td>\n",
       "      <td>1005.0</td>\n",
       "      <td>Glens Falls Hospital</td>\n",
       "      <td>30 to 49</td>\n",
       "      <td>128</td>\n",
       "      <td>M</td>\n",
       "      <td>White</td>\n",
       "      <td>Not Span/Hispanic</td>\n",
       "      <td>1</td>\n",
       "      <td>...</td>\n",
       "      <td>Minor</td>\n",
       "      <td>Medical</td>\n",
       "      <td>Private Health Insurance</td>\n",
       "      <td>NaN</td>\n",
       "      <td>NaN</td>\n",
       "      <td>0</td>\n",
       "      <td>N</td>\n",
       "      <td>N</td>\n",
       "      <td>13780.26</td>\n",
       "      <td>3192.12</td>\n",
       "    </tr>\n",
       "    <tr>\n",
       "      <th>664929</th>\n",
       "      <td>Warren</td>\n",
       "      <td>5601000.0</td>\n",
       "      <td>1005.0</td>\n",
       "      <td>Glens Falls Hospital</td>\n",
       "      <td>50 to 69</td>\n",
       "      <td>128</td>\n",
       "      <td>M</td>\n",
       "      <td>White</td>\n",
       "      <td>Not Span/Hispanic</td>\n",
       "      <td>1</td>\n",
       "      <td>...</td>\n",
       "      <td>Moderate</td>\n",
       "      <td>Medical</td>\n",
       "      <td>Private Health Insurance</td>\n",
       "      <td>NaN</td>\n",
       "      <td>NaN</td>\n",
       "      <td>0</td>\n",
       "      <td>N</td>\n",
       "      <td>N</td>\n",
       "      <td>7560.97</td>\n",
       "      <td>2705.89</td>\n",
       "    </tr>\n",
       "    <tr>\n",
       "      <th>664930</th>\n",
       "      <td>Warren</td>\n",
       "      <td>5601000.0</td>\n",
       "      <td>1005.0</td>\n",
       "      <td>Glens Falls Hospital</td>\n",
       "      <td>0 to 17</td>\n",
       "      <td>128</td>\n",
       "      <td>F</td>\n",
       "      <td>White</td>\n",
       "      <td>Not Span/Hispanic</td>\n",
       "      <td>1</td>\n",
       "      <td>...</td>\n",
       "      <td>Minor</td>\n",
       "      <td>Medical</td>\n",
       "      <td>Medicaid</td>\n",
       "      <td>NaN</td>\n",
       "      <td>NaN</td>\n",
       "      <td>0</td>\n",
       "      <td>N</td>\n",
       "      <td>N</td>\n",
       "      <td>3670.62</td>\n",
       "      <td>2613.38</td>\n",
       "    </tr>\n",
       "  </tbody>\n",
       "</table>\n",
       "<p>14072 rows × 28 columns</p>\n",
       "</div>"
      ],
      "text/plain": [
       "       Hospital County  Operating Certificate Number  Facility Id  \\\n",
       "628756          Warren                     5601000.0       1005.0   \n",
       "628825          Warren                     5601000.0       1005.0   \n",
       "629035          Warren                     5601000.0       1005.0   \n",
       "629070          Warren                     5601000.0       1005.0   \n",
       "629175          Warren                     5601000.0       1005.0   \n",
       "...                ...                           ...          ...   \n",
       "664926          Warren                     5601000.0       1005.0   \n",
       "664927          Warren                     5601000.0       1005.0   \n",
       "664928          Warren                     5601000.0       1005.0   \n",
       "664929          Warren                     5601000.0       1005.0   \n",
       "664930          Warren                     5601000.0       1005.0   \n",
       "\n",
       "               Facility Name    Age Group Zip Code - 3 digits Gender   Race  \\\n",
       "628756  Glens Falls Hospital     30 to 49                 128      F  White   \n",
       "628825  Glens Falls Hospital     50 to 69                 120      F  White   \n",
       "629035  Glens Falls Hospital     18 to 29                 128      M  White   \n",
       "629070  Glens Falls Hospital     50 to 69                 128      F  White   \n",
       "629175  Glens Falls Hospital  70 or Older                 128      F  White   \n",
       "...                      ...          ...                 ...    ...    ...   \n",
       "664926  Glens Falls Hospital     30 to 49                 128      F  White   \n",
       "664927  Glens Falls Hospital  70 or Older                 128      F  White   \n",
       "664928  Glens Falls Hospital     30 to 49                 128      M  White   \n",
       "664929  Glens Falls Hospital     50 to 69                 128      M  White   \n",
       "664930  Glens Falls Hospital      0 to 17                 128      F  White   \n",
       "\n",
       "                Ethnicity Length of Stay  ... APR Risk of Mortality  \\\n",
       "628756  Not Span/Hispanic              5  ...                 Minor   \n",
       "628825  Not Span/Hispanic              4  ...              Moderate   \n",
       "629035  Not Span/Hispanic              2  ...                 Minor   \n",
       "629070  Not Span/Hispanic              1  ...                 Minor   \n",
       "629175  Not Span/Hispanic              6  ...                 Major   \n",
       "...                   ...            ...  ...                   ...   \n",
       "664926  Not Span/Hispanic              1  ...                 Minor   \n",
       "664927  Not Span/Hispanic              1  ...                 Minor   \n",
       "664928  Not Span/Hispanic              1  ...                 Minor   \n",
       "664929  Not Span/Hispanic              1  ...              Moderate   \n",
       "664930  Not Span/Hispanic              1  ...                 Minor   \n",
       "\n",
       "       APR Medical Surgical Description        Payment Typology 1  \\\n",
       "628756                          Medical                  Medicaid   \n",
       "628825                          Medical                  Medicare   \n",
       "629035                          Medical    Blue Cross/Blue Shield   \n",
       "629070                          Medical    Blue Cross/Blue Shield   \n",
       "629175                          Medical                  Medicare   \n",
       "...                                 ...                       ...   \n",
       "664926                          Medical                  Medicare   \n",
       "664927                         Surgical                  Medicare   \n",
       "664928                          Medical  Private Health Insurance   \n",
       "664929                          Medical  Private Health Insurance   \n",
       "664930                          Medical                  Medicaid   \n",
       "\n",
       "        Payment Typology 2  Payment Typology 3  Birth Weight  \\\n",
       "628756                 NaN                 NaN             0   \n",
       "628825                 NaN                 NaN             0   \n",
       "629035                 NaN                 NaN             0   \n",
       "629070                 NaN                 NaN             0   \n",
       "629175                 NaN                 NaN             0   \n",
       "...                    ...                 ...           ...   \n",
       "664926                 NaN                 NaN             0   \n",
       "664927                 NaN                 NaN             0   \n",
       "664928                 NaN                 NaN             0   \n",
       "664929                 NaN                 NaN             0   \n",
       "664930                 NaN                 NaN             0   \n",
       "\n",
       "        Abortion Edit Indicator  Emergency Department Indicator Total Charges  \\\n",
       "628756                        N                               Y      16901.84   \n",
       "628825                        N                               N      15354.59   \n",
       "629035                        N                               Y       8413.10   \n",
       "629070                        N                               Y       8102.00   \n",
       "629175                        N                               N      21480.74   \n",
       "...                         ...                             ...           ...   \n",
       "664926                        N                               Y      14033.73   \n",
       "664927                        N                               Y      44134.98   \n",
       "664928                        N                               N      13780.26   \n",
       "664929                        N                               N       7560.97   \n",
       "664930                        N                               N       3670.62   \n",
       "\n",
       "       Total Costs  \n",
       "628756     5444.54  \n",
       "628825     5499.39  \n",
       "629035     2565.18  \n",
       "629070     2008.34  \n",
       "629175     7279.17  \n",
       "...            ...  \n",
       "664926     4471.53  \n",
       "664927    12744.49  \n",
       "664928     3192.12  \n",
       "664929     2705.89  \n",
       "664930     2613.38  \n",
       "\n",
       "[14072 rows x 28 columns]"
      ]
     },
     "execution_count": 117,
     "metadata": {},
     "output_type": "execute_result"
    }
   ],
   "source": [
    "Glens_df"
   ]
  },
  {
   "cell_type": "code",
   "execution_count": 118,
   "id": "cd914a87",
   "metadata": {
    "execution": {
     "iopub.execute_input": "2023-02-21T19:33:28.801126Z",
     "iopub.status.busy": "2023-02-21T19:33:28.800682Z",
     "iopub.status.idle": "2023-02-21T19:33:28.826611Z",
     "shell.execute_reply": "2023-02-21T19:33:28.824615Z"
    },
    "id": "b9c59fb7",
    "outputId": "65c0c56c-f263-43a3-bb63-f2af049df1fe",
    "papermill": {
     "duration": 0.104783,
     "end_time": "2023-02-21T19:33:28.829214",
     "exception": false,
     "start_time": "2023-02-21T19:33:28.724431",
     "status": "completed"
    },
    "tags": []
   },
   "outputs": [
    {
     "name": "stdout",
     "output_type": "stream",
     "text": [
      "<class 'pandas.core.frame.DataFrame'>\n",
      "Int64Index: 14072 entries, 628756 to 664930\n",
      "Data columns (total 28 columns):\n",
      " #   Column                            Non-Null Count  Dtype   \n",
      "---  ------                            --------------  -----   \n",
      " 0   Hospital County                   14072 non-null  category\n",
      " 1   Operating Certificate Number      14072 non-null  float64 \n",
      " 2   Facility Id                       14072 non-null  float64 \n",
      " 3   Facility Name                     14072 non-null  object  \n",
      " 4   Age Group                         14072 non-null  category\n",
      " 5   Zip Code - 3 digits               13957 non-null  category\n",
      " 6   Gender                            14072 non-null  category\n",
      " 7   Race                              14072 non-null  category\n",
      " 8   Ethnicity                         14072 non-null  category\n",
      " 9   Length of Stay                    14072 non-null  category\n",
      " 10  Type of Admission                 14072 non-null  category\n",
      " 11  Patient Disposition               14072 non-null  category\n",
      " 12  Discharge Year                    14072 non-null  int64   \n",
      " 13  CCS Diagnosis Code                14072 non-null  int64   \n",
      " 14  CCS Procedure Code                14072 non-null  int64   \n",
      " 15  APR DRG Code                      14072 non-null  int64   \n",
      " 16  APR MDC Code                      14072 non-null  int64   \n",
      " 17  APR Severity of Illness Code      14072 non-null  int64   \n",
      " 18  APR Risk of Mortality             14072 non-null  category\n",
      " 19  APR Medical Surgical Description  14072 non-null  category\n",
      " 20  Payment Typology 1                14072 non-null  category\n",
      " 21  Payment Typology 2                4755 non-null   category\n",
      " 22  Payment Typology 3                281 non-null    category\n",
      " 23  Birth Weight                      14072 non-null  int64   \n",
      " 24  Abortion Edit Indicator           14072 non-null  category\n",
      " 25  Emergency Department Indicator    14072 non-null  category\n",
      " 26  Total Charges                     14072 non-null  float64 \n",
      " 27  Total Costs                       14072 non-null  float64 \n",
      "dtypes: category(16), float64(4), int64(7), object(1)\n",
      "memory usage: 1.6+ MB\n"
     ]
    }
   ],
   "source": [
    "Glens_df.info()"
   ]
  },
  {
   "cell_type": "code",
   "execution_count": null,
   "id": "14163721",
   "metadata": {
    "id": "7141f62b",
    "papermill": {
     "duration": 0.076455,
     "end_time": "2023-02-21T19:33:28.979994",
     "exception": false,
     "start_time": "2023-02-21T19:33:28.903539",
     "status": "completed"
    },
    "tags": []
   },
   "outputs": [],
   "source": []
  },
  {
   "cell_type": "code",
   "execution_count": null,
   "id": "b0bac93d",
   "metadata": {
    "id": "b6a3554f",
    "papermill": {
     "duration": 0.074501,
     "end_time": "2023-02-21T19:33:29.130509",
     "exception": false,
     "start_time": "2023-02-21T19:33:29.056008",
     "status": "completed"
    },
    "tags": []
   },
   "outputs": [],
   "source": [
    "\n"
   ]
  },
  {
   "cell_type": "code",
   "execution_count": 119,
   "id": "705a4adb",
   "metadata": {
    "execution": {
     "iopub.execute_input": "2023-02-21T19:33:29.281799Z",
     "iopub.status.busy": "2023-02-21T19:33:29.281326Z",
     "iopub.status.idle": "2023-02-21T19:33:29.312123Z",
     "shell.execute_reply": "2023-02-21T19:33:29.310951Z"
    },
    "id": "02751b46",
    "outputId": "4ab70d81-e5e1-4b54-e64b-c9647d2275ec",
    "papermill": {
     "duration": 0.109519,
     "end_time": "2023-02-21T19:33:29.314636",
     "exception": false,
     "start_time": "2023-02-21T19:33:29.205117",
     "status": "completed"
    },
    "tags": []
   },
   "outputs": [
    {
     "data": {
      "text/html": [
       "<div>\n",
       "<style scoped>\n",
       "    .dataframe tbody tr th:only-of-type {\n",
       "        vertical-align: middle;\n",
       "    }\n",
       "\n",
       "    .dataframe tbody tr th {\n",
       "        vertical-align: top;\n",
       "    }\n",
       "\n",
       "    .dataframe thead th {\n",
       "        text-align: right;\n",
       "    }\n",
       "</style>\n",
       "<table border=\"1\" class=\"dataframe\">\n",
       "  <thead>\n",
       "    <tr style=\"text-align: right;\">\n",
       "      <th></th>\n",
       "      <th>Hospital County</th>\n",
       "      <th>Operating Certificate Number</th>\n",
       "      <th>Facility Id</th>\n",
       "      <th>Facility Name</th>\n",
       "      <th>Age Group</th>\n",
       "      <th>Zip Code - 3 digits</th>\n",
       "      <th>Gender</th>\n",
       "      <th>Race</th>\n",
       "      <th>Ethnicity</th>\n",
       "      <th>Length of Stay</th>\n",
       "      <th>...</th>\n",
       "      <th>APR Risk of Mortality</th>\n",
       "      <th>APR Medical Surgical Description</th>\n",
       "      <th>Payment Typology 1</th>\n",
       "      <th>Payment Typology 2</th>\n",
       "      <th>Payment Typology 3</th>\n",
       "      <th>Birth Weight</th>\n",
       "      <th>Abortion Edit Indicator</th>\n",
       "      <th>Emergency Department Indicator</th>\n",
       "      <th>Total Charges</th>\n",
       "      <th>Total Costs</th>\n",
       "    </tr>\n",
       "  </thead>\n",
       "  <tbody>\n",
       "    <tr>\n",
       "      <th>628756</th>\n",
       "      <td>Warren</td>\n",
       "      <td>5601000.0</td>\n",
       "      <td>1005.0</td>\n",
       "      <td>Glens Falls Hospital</td>\n",
       "      <td>30 to 49</td>\n",
       "      <td>128</td>\n",
       "      <td>F</td>\n",
       "      <td>White</td>\n",
       "      <td>Not Span/Hispanic</td>\n",
       "      <td>5</td>\n",
       "      <td>...</td>\n",
       "      <td>Minor</td>\n",
       "      <td>Medical</td>\n",
       "      <td>Medicaid</td>\n",
       "      <td>NaN</td>\n",
       "      <td>NaN</td>\n",
       "      <td>0</td>\n",
       "      <td>N</td>\n",
       "      <td>Y</td>\n",
       "      <td>16901.84</td>\n",
       "      <td>5444.54</td>\n",
       "    </tr>\n",
       "    <tr>\n",
       "      <th>628825</th>\n",
       "      <td>Warren</td>\n",
       "      <td>5601000.0</td>\n",
       "      <td>1005.0</td>\n",
       "      <td>Glens Falls Hospital</td>\n",
       "      <td>50 to 69</td>\n",
       "      <td>120</td>\n",
       "      <td>F</td>\n",
       "      <td>White</td>\n",
       "      <td>Not Span/Hispanic</td>\n",
       "      <td>4</td>\n",
       "      <td>...</td>\n",
       "      <td>Moderate</td>\n",
       "      <td>Medical</td>\n",
       "      <td>Medicare</td>\n",
       "      <td>NaN</td>\n",
       "      <td>NaN</td>\n",
       "      <td>0</td>\n",
       "      <td>N</td>\n",
       "      <td>N</td>\n",
       "      <td>15354.59</td>\n",
       "      <td>5499.39</td>\n",
       "    </tr>\n",
       "    <tr>\n",
       "      <th>629035</th>\n",
       "      <td>Warren</td>\n",
       "      <td>5601000.0</td>\n",
       "      <td>1005.0</td>\n",
       "      <td>Glens Falls Hospital</td>\n",
       "      <td>18 to 29</td>\n",
       "      <td>128</td>\n",
       "      <td>M</td>\n",
       "      <td>White</td>\n",
       "      <td>Not Span/Hispanic</td>\n",
       "      <td>2</td>\n",
       "      <td>...</td>\n",
       "      <td>Minor</td>\n",
       "      <td>Medical</td>\n",
       "      <td>Blue Cross/Blue Shield</td>\n",
       "      <td>NaN</td>\n",
       "      <td>NaN</td>\n",
       "      <td>0</td>\n",
       "      <td>N</td>\n",
       "      <td>Y</td>\n",
       "      <td>8413.10</td>\n",
       "      <td>2565.18</td>\n",
       "    </tr>\n",
       "    <tr>\n",
       "      <th>629070</th>\n",
       "      <td>Warren</td>\n",
       "      <td>5601000.0</td>\n",
       "      <td>1005.0</td>\n",
       "      <td>Glens Falls Hospital</td>\n",
       "      <td>50 to 69</td>\n",
       "      <td>128</td>\n",
       "      <td>F</td>\n",
       "      <td>White</td>\n",
       "      <td>Not Span/Hispanic</td>\n",
       "      <td>1</td>\n",
       "      <td>...</td>\n",
       "      <td>Minor</td>\n",
       "      <td>Medical</td>\n",
       "      <td>Blue Cross/Blue Shield</td>\n",
       "      <td>NaN</td>\n",
       "      <td>NaN</td>\n",
       "      <td>0</td>\n",
       "      <td>N</td>\n",
       "      <td>Y</td>\n",
       "      <td>8102.00</td>\n",
       "      <td>2008.34</td>\n",
       "    </tr>\n",
       "    <tr>\n",
       "      <th>629175</th>\n",
       "      <td>Warren</td>\n",
       "      <td>5601000.0</td>\n",
       "      <td>1005.0</td>\n",
       "      <td>Glens Falls Hospital</td>\n",
       "      <td>70 or Older</td>\n",
       "      <td>128</td>\n",
       "      <td>F</td>\n",
       "      <td>White</td>\n",
       "      <td>Not Span/Hispanic</td>\n",
       "      <td>6</td>\n",
       "      <td>...</td>\n",
       "      <td>Major</td>\n",
       "      <td>Medical</td>\n",
       "      <td>Medicare</td>\n",
       "      <td>NaN</td>\n",
       "      <td>NaN</td>\n",
       "      <td>0</td>\n",
       "      <td>N</td>\n",
       "      <td>N</td>\n",
       "      <td>21480.74</td>\n",
       "      <td>7279.17</td>\n",
       "    </tr>\n",
       "  </tbody>\n",
       "</table>\n",
       "<p>5 rows × 28 columns</p>\n",
       "</div>"
      ],
      "text/plain": [
       "       Hospital County  Operating Certificate Number  Facility Id  \\\n",
       "628756          Warren                     5601000.0       1005.0   \n",
       "628825          Warren                     5601000.0       1005.0   \n",
       "629035          Warren                     5601000.0       1005.0   \n",
       "629070          Warren                     5601000.0       1005.0   \n",
       "629175          Warren                     5601000.0       1005.0   \n",
       "\n",
       "               Facility Name    Age Group Zip Code - 3 digits Gender   Race  \\\n",
       "628756  Glens Falls Hospital     30 to 49                 128      F  White   \n",
       "628825  Glens Falls Hospital     50 to 69                 120      F  White   \n",
       "629035  Glens Falls Hospital     18 to 29                 128      M  White   \n",
       "629070  Glens Falls Hospital     50 to 69                 128      F  White   \n",
       "629175  Glens Falls Hospital  70 or Older                 128      F  White   \n",
       "\n",
       "                Ethnicity Length of Stay  ... APR Risk of Mortality  \\\n",
       "628756  Not Span/Hispanic              5  ...                 Minor   \n",
       "628825  Not Span/Hispanic              4  ...              Moderate   \n",
       "629035  Not Span/Hispanic              2  ...                 Minor   \n",
       "629070  Not Span/Hispanic              1  ...                 Minor   \n",
       "629175  Not Span/Hispanic              6  ...                 Major   \n",
       "\n",
       "       APR Medical Surgical Description      Payment Typology 1  \\\n",
       "628756                          Medical                Medicaid   \n",
       "628825                          Medical                Medicare   \n",
       "629035                          Medical  Blue Cross/Blue Shield   \n",
       "629070                          Medical  Blue Cross/Blue Shield   \n",
       "629175                          Medical                Medicare   \n",
       "\n",
       "        Payment Typology 2  Payment Typology 3  Birth Weight  \\\n",
       "628756                 NaN                 NaN             0   \n",
       "628825                 NaN                 NaN             0   \n",
       "629035                 NaN                 NaN             0   \n",
       "629070                 NaN                 NaN             0   \n",
       "629175                 NaN                 NaN             0   \n",
       "\n",
       "        Abortion Edit Indicator  Emergency Department Indicator Total Charges  \\\n",
       "628756                        N                               Y      16901.84   \n",
       "628825                        N                               N      15354.59   \n",
       "629035                        N                               Y       8413.10   \n",
       "629070                        N                               Y       8102.00   \n",
       "629175                        N                               N      21480.74   \n",
       "\n",
       "       Total Costs  \n",
       "628756     5444.54  \n",
       "628825     5499.39  \n",
       "629035     2565.18  \n",
       "629070     2008.34  \n",
       "629175     7279.17  \n",
       "\n",
       "[5 rows x 28 columns]"
      ]
     },
     "execution_count": 119,
     "metadata": {},
     "output_type": "execute_result"
    }
   ],
   "source": [
    "Glens_df.head()"
   ]
  },
  {
   "cell_type": "code",
   "execution_count": 120,
   "id": "e862fa4e",
   "metadata": {
    "execution": {
     "iopub.execute_input": "2023-02-21T19:33:29.467573Z",
     "iopub.status.busy": "2023-02-21T19:33:29.466756Z",
     "iopub.status.idle": "2023-02-21T19:33:29.488969Z",
     "shell.execute_reply": "2023-02-21T19:33:29.487695Z"
    },
    "id": "bab5b6c4",
    "outputId": "e38b67b7-22a6-4a59-d155-d20edc141413",
    "papermill": {
     "duration": 0.101699,
     "end_time": "2023-02-21T19:33:29.491466",
     "exception": false,
     "start_time": "2023-02-21T19:33:29.389767",
     "status": "completed"
    },
    "tags": []
   },
   "outputs": [
    {
     "name": "stdout",
     "output_type": "stream",
     "text": [
      "<class 'pandas.core.frame.DataFrame'>\n",
      "Int64Index: 14072 entries, 628756 to 664930\n",
      "Data columns (total 28 columns):\n",
      " #   Column                            Non-Null Count  Dtype   \n",
      "---  ------                            --------------  -----   \n",
      " 0   Hospital County                   14072 non-null  category\n",
      " 1   Operating Certificate Number      14072 non-null  float64 \n",
      " 2   Facility Id                       14072 non-null  float64 \n",
      " 3   Facility Name                     14072 non-null  object  \n",
      " 4   Age Group                         14072 non-null  category\n",
      " 5   Zip Code - 3 digits               13957 non-null  category\n",
      " 6   Gender                            14072 non-null  category\n",
      " 7   Race                              14072 non-null  category\n",
      " 8   Ethnicity                         14072 non-null  category\n",
      " 9   Length of Stay                    14072 non-null  category\n",
      " 10  Type of Admission                 14072 non-null  category\n",
      " 11  Patient Disposition               14072 non-null  category\n",
      " 12  Discharge Year                    14072 non-null  int64   \n",
      " 13  CCS Diagnosis Code                14072 non-null  int64   \n",
      " 14  CCS Procedure Code                14072 non-null  int64   \n",
      " 15  APR DRG Code                      14072 non-null  int64   \n",
      " 16  APR MDC Code                      14072 non-null  int64   \n",
      " 17  APR Severity of Illness Code      14072 non-null  int64   \n",
      " 18  APR Risk of Mortality             14072 non-null  category\n",
      " 19  APR Medical Surgical Description  14072 non-null  category\n",
      " 20  Payment Typology 1                14072 non-null  category\n",
      " 21  Payment Typology 2                4755 non-null   category\n",
      " 22  Payment Typology 3                281 non-null    category\n",
      " 23  Birth Weight                      14072 non-null  int64   \n",
      " 24  Abortion Edit Indicator           14072 non-null  category\n",
      " 25  Emergency Department Indicator    14072 non-null  category\n",
      " 26  Total Charges                     14072 non-null  float64 \n",
      " 27  Total Costs                       14072 non-null  float64 \n",
      "dtypes: category(16), float64(4), int64(7), object(1)\n",
      "memory usage: 1.6+ MB\n"
     ]
    }
   ],
   "source": [
    "Glens_df.info()"
   ]
  },
  {
   "cell_type": "code",
   "execution_count": 121,
   "id": "db469dd6",
   "metadata": {
    "_kg_hide-input": true,
    "execution": {
     "iopub.execute_input": "2023-02-21T19:33:29.643490Z",
     "iopub.status.busy": "2023-02-21T19:33:29.643089Z",
     "iopub.status.idle": "2023-02-21T19:33:29.649511Z",
     "shell.execute_reply": "2023-02-21T19:33:29.648353Z"
    },
    "id": "3dc50b1c",
    "papermill": {
     "duration": 0.085397,
     "end_time": "2023-02-21T19:33:29.651810",
     "exception": false,
     "start_time": "2023-02-21T19:33:29.566413",
     "status": "completed"
    },
    "tags": []
   },
   "outputs": [],
   "source": [
    "Glens_df = Glens_df.drop(\"Facility Name\", axis=1)"
   ]
  },
  {
   "cell_type": "code",
   "execution_count": 122,
   "id": "8c82628d",
   "metadata": {
    "execution": {
     "iopub.execute_input": "2023-02-21T19:33:29.804281Z",
     "iopub.status.busy": "2023-02-21T19:33:29.803535Z",
     "iopub.status.idle": "2023-02-21T19:33:29.815371Z",
     "shell.execute_reply": "2023-02-21T19:33:29.814354Z"
    },
    "id": "395365b8",
    "outputId": "8b494636-9cac-48f6-d76d-0d3212424636",
    "papermill": {
     "duration": 0.089811,
     "end_time": "2023-02-21T19:33:29.817423",
     "exception": false,
     "start_time": "2023-02-21T19:33:29.727612",
     "status": "completed"
    },
    "tags": []
   },
   "outputs": [
    {
     "data": {
      "text/html": [
       "<div>\n",
       "<style scoped>\n",
       "    .dataframe tbody tr th:only-of-type {\n",
       "        vertical-align: middle;\n",
       "    }\n",
       "\n",
       "    .dataframe tbody tr th {\n",
       "        vertical-align: top;\n",
       "    }\n",
       "\n",
       "    .dataframe thead th {\n",
       "        text-align: right;\n",
       "    }\n",
       "</style>\n",
       "<table border=\"1\" class=\"dataframe\">\n",
       "  <thead>\n",
       "    <tr style=\"text-align: right;\">\n",
       "      <th></th>\n",
       "      <th>Length of Stay</th>\n",
       "    </tr>\n",
       "  </thead>\n",
       "  <tbody>\n",
       "    <tr>\n",
       "      <th>628756</th>\n",
       "      <td>5</td>\n",
       "    </tr>\n",
       "    <tr>\n",
       "      <th>628825</th>\n",
       "      <td>4</td>\n",
       "    </tr>\n",
       "    <tr>\n",
       "      <th>629035</th>\n",
       "      <td>2</td>\n",
       "    </tr>\n",
       "    <tr>\n",
       "      <th>629070</th>\n",
       "      <td>1</td>\n",
       "    </tr>\n",
       "    <tr>\n",
       "      <th>629175</th>\n",
       "      <td>6</td>\n",
       "    </tr>\n",
       "    <tr>\n",
       "      <th>...</th>\n",
       "      <td>...</td>\n",
       "    </tr>\n",
       "    <tr>\n",
       "      <th>664926</th>\n",
       "      <td>1</td>\n",
       "    </tr>\n",
       "    <tr>\n",
       "      <th>664927</th>\n",
       "      <td>1</td>\n",
       "    </tr>\n",
       "    <tr>\n",
       "      <th>664928</th>\n",
       "      <td>1</td>\n",
       "    </tr>\n",
       "    <tr>\n",
       "      <th>664929</th>\n",
       "      <td>1</td>\n",
       "    </tr>\n",
       "    <tr>\n",
       "      <th>664930</th>\n",
       "      <td>1</td>\n",
       "    </tr>\n",
       "  </tbody>\n",
       "</table>\n",
       "<p>14072 rows × 1 columns</p>\n",
       "</div>"
      ],
      "text/plain": [
       "       Length of Stay\n",
       "628756              5\n",
       "628825              4\n",
       "629035              2\n",
       "629070              1\n",
       "629175              6\n",
       "...               ...\n",
       "664926              1\n",
       "664927              1\n",
       "664928              1\n",
       "664929              1\n",
       "664930              1\n",
       "\n",
       "[14072 rows x 1 columns]"
      ]
     },
     "execution_count": 122,
     "metadata": {},
     "output_type": "execute_result"
    }
   ],
   "source": [
    "Glens_df[[\"Length of Stay\"]]"
   ]
  },
  {
   "cell_type": "code",
   "execution_count": 123,
   "id": "7e88185b",
   "metadata": {
    "execution": {
     "iopub.execute_input": "2023-02-21T19:33:29.969828Z",
     "iopub.status.busy": "2023-02-21T19:33:29.969103Z",
     "iopub.status.idle": "2023-02-21T19:33:29.974850Z",
     "shell.execute_reply": "2023-02-21T19:33:29.974046Z"
    },
    "id": "f95ac106",
    "papermill": {
     "duration": 0.08484,
     "end_time": "2023-02-21T19:33:29.977045",
     "exception": false,
     "start_time": "2023-02-21T19:33:29.892205",
     "status": "completed"
    },
    "tags": []
   },
   "outputs": [],
   "source": [
    "Glens_df = Glens_df.drop([\"Payment Typology 2\",    \"Payment Typology 3\"], axis=1)\n"
   ]
  },
  {
   "cell_type": "code",
   "execution_count": 124,
   "id": "ef7b4e2f",
   "metadata": {
    "execution": {
     "iopub.execute_input": "2023-02-21T19:33:30.129656Z",
     "iopub.status.busy": "2023-02-21T19:33:30.129123Z",
     "iopub.status.idle": "2023-02-21T19:33:30.182685Z",
     "shell.execute_reply": "2023-02-21T19:33:30.181235Z"
    },
    "id": "f86b3180",
    "outputId": "29f15194-2e2f-4224-b417-bc6222c80ac5",
    "papermill": {
     "duration": 0.133553,
     "end_time": "2023-02-21T19:33:30.186563",
     "exception": false,
     "start_time": "2023-02-21T19:33:30.053010",
     "status": "completed"
    },
    "tags": []
   },
   "outputs": [
    {
     "name": "stdout",
     "output_type": "stream",
     "text": [
      "Hospital County : 1\n",
      "Warren      14072\n",
      "Albany          0\n",
      "Saratoga        0\n",
      "Onondaga        0\n",
      "Ontario         0\n",
      "Name: Hospital County, dtype: int64\n",
      "\n",
      "********************\n",
      "\n",
      "Operating Certificate Number : 1\n",
      "5601000.0    14072\n",
      "Name: Operating Certificate Number, dtype: int64\n",
      "\n",
      "********************\n",
      "\n",
      "Facility Id : 1\n",
      "1005.0    14072\n",
      "Name: Facility Id, dtype: int64\n",
      "\n",
      "********************\n",
      "\n",
      "Age Group : 5\n",
      "70 or Older    4708\n",
      "50 to 69       3997\n",
      "30 to 49       2186\n",
      "0 to 17        1671\n",
      "18 to 29       1510\n",
      "Name: Age Group, dtype: int64\n",
      "\n",
      "********************\n",
      "\n",
      "Zip Code - 3 digits : 20\n",
      "128    13284\n",
      "OOS      197\n",
      "120      196\n",
      "129      110\n",
      "121       80\n",
      "Name: Zip Code - 3 digits, dtype: int64\n",
      "\n",
      "********************\n",
      "\n",
      "Gender : 2\n",
      "F    7797\n",
      "M    6275\n",
      "U       0\n",
      "Name: Gender, dtype: int64\n",
      "\n",
      "********************\n",
      "\n",
      "Race : 3\n",
      "White                     13610\n",
      "Other Race                  343\n",
      "Black/African American      119\n",
      "Multi-racial                  0\n",
      "Name: Race, dtype: int64\n",
      "\n",
      "********************\n",
      "\n",
      "Ethnicity : 3\n",
      "Not Span/Hispanic    13938\n",
      "Spanish/Hispanic       125\n",
      "Unknown                  9\n",
      "Multi-ethnic             0\n",
      "Name: Ethnicity, dtype: int64\n",
      "\n",
      "********************\n",
      "\n",
      "Length of Stay : 74\n",
      "2    3059\n",
      "3    2648\n",
      "1    2116\n",
      "4    1620\n",
      "5    1078\n",
      "Name: Length of Stay, dtype: int64\n",
      "\n",
      "********************\n",
      "\n",
      "Type of Admission : 5\n",
      "Emergency        9490\n",
      "Elective         2700\n",
      "Newborn          1220\n",
      "Urgent            657\n",
      "Not Available       5\n",
      "Name: Type of Admission, dtype: int64\n",
      "\n",
      "********************\n",
      "\n",
      "Patient Disposition : 17\n",
      "Home or Self Care               6717\n",
      "Home w/ Home Health Services    4378\n",
      "Skilled Nursing Home            1584\n",
      "Expired                          427\n",
      "Short-term Hospital              290\n",
      "Name: Patient Disposition, dtype: int64\n",
      "\n",
      "********************\n",
      "\n",
      "Discharge Year : 1\n",
      "2015    14072\n",
      "Name: Discharge Year, dtype: int64\n",
      "\n",
      "********************\n",
      "\n",
      "CCS Diagnosis Code : 226\n",
      "218    1219\n",
      "657     864\n",
      "2       833\n",
      "127     459\n",
      "108     408\n",
      "Name: CCS Diagnosis Code, dtype: int64\n",
      "\n",
      "********************\n",
      "\n",
      "CCS Procedure Code : 165\n",
      "0      6956\n",
      "137     790\n",
      "216     567\n",
      "115     491\n",
      "134     379\n",
      "Name: CCS Procedure Code, dtype: int64\n",
      "\n",
      "********************\n",
      "\n",
      "APR DRG Code : 263\n",
      "640    1126\n",
      "560     818\n",
      "720     745\n",
      "140     494\n",
      "194     382\n",
      "Name: APR DRG Code, dtype: int64\n",
      "\n",
      "********************\n",
      "\n",
      "APR MDC Code : 25\n",
      "4     1702\n",
      "5     1553\n",
      "6     1299\n",
      "14    1291\n",
      "15    1233\n",
      "Name: APR MDC Code, dtype: int64\n",
      "\n",
      "********************\n",
      "\n",
      "APR Severity of Illness Code : 4\n",
      "2    5298\n",
      "1    4129\n",
      "3    3987\n",
      "4     658\n",
      "Name: APR Severity of Illness Code, dtype: int64\n",
      "\n",
      "********************\n",
      "\n",
      "APR Risk of Mortality : 4\n",
      "Minor       7296\n",
      "Moderate    3442\n",
      "Major       2734\n",
      "Extreme      600\n",
      "Name: APR Risk of Mortality, dtype: int64\n",
      "\n",
      "********************\n",
      "\n",
      "APR Medical Surgical Description : 2\n",
      "Medical           11256\n",
      "Surgical           2816\n",
      "Not Applicable        0\n",
      "Name: APR Medical Surgical Description, dtype: int64\n",
      "\n",
      "********************\n",
      "\n",
      "Payment Typology 1 : 8\n",
      "Medicare                    7149\n",
      "Medicaid                    3174\n",
      "Blue Cross/Blue Shield      1919\n",
      "Private Health Insurance    1424\n",
      "Self-Pay                     169\n",
      "Name: Payment Typology 1, dtype: int64\n",
      "\n",
      "********************\n",
      "\n",
      "Birth Weight : 38\n",
      "0       12822\n",
      "3500      129\n",
      "3400      101\n",
      "3300       96\n",
      "3600       92\n",
      "Name: Birth Weight, dtype: int64\n",
      "\n",
      "********************\n",
      "\n",
      "Abortion Edit Indicator : 1\n",
      "N    14072\n",
      "Y        0\n",
      "Name: Abortion Edit Indicator, dtype: int64\n",
      "\n",
      "********************\n",
      "\n",
      "Emergency Department Indicator : 2\n",
      "Y    9493\n",
      "N    4579\n",
      "Name: Emergency Department Indicator, dtype: int64\n",
      "\n",
      "********************\n",
      "\n",
      "Total Charges : 13528\n",
      "5357.70    67\n",
      "5276.70    63\n",
      "2849.70    35\n",
      "5885.05    32\n",
      "5899.15    25\n",
      "Name: Total Charges, dtype: int64\n",
      "\n",
      "********************\n",
      "\n",
      "Total Costs : 13510\n",
      "1896.61    67\n",
      "1881.32    63\n",
      "1041.81    35\n",
      "2076.81    32\n",
      "2082.50    25\n",
      "Name: Total Costs, dtype: int64\n",
      "\n",
      "********************\n",
      "\n"
     ]
    }
   ],
   "source": [
    "for col in Glens_df.columns:\n",
    "    print( col,':', Glens_df[col].nunique() )#Num of unique values\n",
    "    print(Glens_df[col].value_counts().nlargest(5)) #Most 5 frequent values\n",
    "    print('\\n' + '*' * 20 + '\\n')"
   ]
  },
  {
   "cell_type": "markdown",
   "id": "e651eff3",
   "metadata": {
    "id": "f6ed4481",
    "papermill": {
     "duration": 0.075952,
     "end_time": "2023-02-21T19:33:30.396515",
     "exception": false,
     "start_time": "2023-02-21T19:33:30.320563",
     "status": "completed"
    },
    "tags": []
   },
   "source": [
    "preprocsesing "
   ]
  },
  {
   "cell_type": "code",
   "execution_count": 125,
   "id": "7cc7cfdd",
   "metadata": {
    "execution": {
     "iopub.execute_input": "2023-02-21T19:33:30.549671Z",
     "iopub.status.busy": "2023-02-21T19:33:30.548560Z",
     "iopub.status.idle": "2023-02-21T19:33:30.556513Z",
     "shell.execute_reply": "2023-02-21T19:33:30.555693Z"
    },
    "id": "39380a55",
    "papermill": {
     "duration": 0.087029,
     "end_time": "2023-02-21T19:33:30.558663",
     "exception": false,
     "start_time": "2023-02-21T19:33:30.471634",
     "status": "completed"
    },
    "tags": []
   },
   "outputs": [],
   "source": [
    " #Glens_df[\"Length of Stay\"] = Glens_df[\"Length of Stay\"].astype('int64')\n",
    " #   simple mapping on binary features.\n",
    "Glens_df['Abortion Edit Indicator'] = Glens_df['Abortion Edit Indicator'].apply(\n",
    "     lambda x: 1 if x == 'Y' else (0 if x == 'N' else None))\n",
    "Glens_df['Emergency Department Indicator'] = Glens_df['Emergency Department Indicator'].apply(\n",
    "    lambda x: 1 if x == 'Y' else (0 if x == 'N' else None))"
   ]
  },
  {
   "cell_type": "code",
   "execution_count": 126,
   "id": "ee99a3b8",
   "metadata": {
    "execution": {
     "iopub.execute_input": "2023-02-21T19:33:30.711643Z",
     "iopub.status.busy": "2023-02-21T19:33:30.710947Z",
     "iopub.status.idle": "2023-02-21T19:33:30.723638Z",
     "shell.execute_reply": "2023-02-21T19:33:30.722827Z"
    },
    "id": "d6b4d241",
    "papermill": {
     "duration": 0.09198,
     "end_time": "2023-02-21T19:33:30.725999",
     "exception": false,
     "start_time": "2023-02-21T19:33:30.634019",
     "status": "completed"
    },
    "tags": []
   },
   "outputs": [],
   "source": [
    "Glens_df[\"Length of Stay\"]=pd.to_numeric(Glens_df[\"Length of Stay\"],errors='coerce')"
   ]
  },
  {
   "cell_type": "code",
   "execution_count": 127,
   "id": "99ffbac0",
   "metadata": {
    "execution": {
     "iopub.execute_input": "2023-02-21T19:33:30.881426Z",
     "iopub.status.busy": "2023-02-21T19:33:30.880691Z",
     "iopub.status.idle": "2023-02-21T19:33:30.900464Z",
     "shell.execute_reply": "2023-02-21T19:33:30.899308Z"
    },
    "id": "8a0ea58f",
    "outputId": "e04d9488-9ef4-458d-a1b0-723383ba3b6c",
    "papermill": {
     "duration": 0.100343,
     "end_time": "2023-02-21T19:33:30.903285",
     "exception": false,
     "start_time": "2023-02-21T19:33:30.802942",
     "status": "completed"
    },
    "tags": []
   },
   "outputs": [
    {
     "name": "stdout",
     "output_type": "stream",
     "text": [
      "<class 'pandas.core.frame.DataFrame'>\n",
      "Int64Index: 14072 entries, 628756 to 664930\n",
      "Data columns (total 25 columns):\n",
      " #   Column                            Non-Null Count  Dtype   \n",
      "---  ------                            --------------  -----   \n",
      " 0   Hospital County                   14072 non-null  category\n",
      " 1   Operating Certificate Number      14072 non-null  float64 \n",
      " 2   Facility Id                       14072 non-null  float64 \n",
      " 3   Age Group                         14072 non-null  category\n",
      " 4   Zip Code - 3 digits               13957 non-null  category\n",
      " 5   Gender                            14072 non-null  category\n",
      " 6   Race                              14072 non-null  category\n",
      " 7   Ethnicity                         14072 non-null  category\n",
      " 8   Length of Stay                    14069 non-null  float64 \n",
      " 9   Type of Admission                 14072 non-null  category\n",
      " 10  Patient Disposition               14072 non-null  category\n",
      " 11  Discharge Year                    14072 non-null  int64   \n",
      " 12  CCS Diagnosis Code                14072 non-null  int64   \n",
      " 13  CCS Procedure Code                14072 non-null  int64   \n",
      " 14  APR DRG Code                      14072 non-null  int64   \n",
      " 15  APR MDC Code                      14072 non-null  int64   \n",
      " 16  APR Severity of Illness Code      14072 non-null  int64   \n",
      " 17  APR Risk of Mortality             14072 non-null  category\n",
      " 18  APR Medical Surgical Description  14072 non-null  category\n",
      " 19  Payment Typology 1                14072 non-null  category\n",
      " 20  Birth Weight                      14072 non-null  int64   \n",
      " 21  Abortion Edit Indicator           14072 non-null  category\n",
      " 22  Emergency Department Indicator    14072 non-null  category\n",
      " 23  Total Charges                     14072 non-null  float64 \n",
      " 24  Total Costs                       14072 non-null  float64 \n",
      "dtypes: category(13), float64(5), int64(7)\n",
      "memory usage: 1.6 MB\n"
     ]
    }
   ],
   "source": [
    "Glens_df.info()"
   ]
  },
  {
   "cell_type": "code",
   "execution_count": 128,
   "id": "f4edaad0",
   "metadata": {
    "execution": {
     "iopub.execute_input": "2023-02-21T19:33:31.058632Z",
     "iopub.status.busy": "2023-02-21T19:33:31.057926Z",
     "iopub.status.idle": "2023-02-21T19:33:31.117578Z",
     "shell.execute_reply": "2023-02-21T19:33:31.116499Z"
    },
    "id": "2cd1508a",
    "papermill": {
     "duration": 0.140355,
     "end_time": "2023-02-21T19:33:31.120318",
     "exception": false,
     "start_time": "2023-02-21T19:33:30.979963",
     "status": "completed"
    },
    "tags": []
   },
   "outputs": [],
   "source": [
    "list=  [ \"Hospital County\",\"Age Group\"\n",
    "    ,\"Gender\",   \n",
    " \"Race\" , \n",
    "\"Ethnicity\", \n",
    "\"Gender\" , \n",
    "\"Race\" ,    \n",
    " \"Ethnicity\" ,        \n",
    " \"Type of Admission\"  ,  \n",
    "  \"Patient Disposition\",      \n",
    " \"Type of Admission\" ,  \n",
    " \"Patient Disposition\"  ,\n",
    "  \"APR Risk of Mortality\" ,   \n",
    " \"APR Medical Surgical Description\" ,\n",
    " \"Payment Typology 1\"   ,   \n",
    " \"Abortion Edit Indicator\"     ,  \n",
    " \"Emergency Department Indicator\",\n",
    "       \"Zip Code - 3 digits\"]  \n",
    "\n",
    "# Import label encoder\n",
    "from sklearn import preprocessing\n",
    "  \n",
    "# label_encoder object knows how to understand word labels.\n",
    "label_encoder = preprocessing.LabelEncoder()\n",
    "  \n",
    "# Encode labels in column 'species'.\n",
    "for col in list :\n",
    "  Glens_df[col]= label_encoder.fit_transform(Glens_df[col])"
   ]
  },
  {
   "cell_type": "code",
   "execution_count": 129,
   "id": "515becdd",
   "metadata": {
    "execution": {
     "iopub.execute_input": "2023-02-21T19:33:31.274243Z",
     "iopub.status.busy": "2023-02-21T19:33:31.273339Z",
     "iopub.status.idle": "2023-02-21T19:33:31.291518Z",
     "shell.execute_reply": "2023-02-21T19:33:31.289700Z"
    },
    "id": "e37d7d60",
    "outputId": "6a7949ac-eca1-497f-f69c-6979f315c031",
    "papermill": {
     "duration": 0.097847,
     "end_time": "2023-02-21T19:33:31.293878",
     "exception": false,
     "start_time": "2023-02-21T19:33:31.196031",
     "status": "completed"
    },
    "tags": []
   },
   "outputs": [
    {
     "name": "stdout",
     "output_type": "stream",
     "text": [
      "<class 'pandas.core.frame.DataFrame'>\n",
      "Int64Index: 14072 entries, 628756 to 664930\n",
      "Data columns (total 25 columns):\n",
      " #   Column                            Non-Null Count  Dtype  \n",
      "---  ------                            --------------  -----  \n",
      " 0   Hospital County                   14072 non-null  int64  \n",
      " 1   Operating Certificate Number      14072 non-null  float64\n",
      " 2   Facility Id                       14072 non-null  float64\n",
      " 3   Age Group                         14072 non-null  int64  \n",
      " 4   Zip Code - 3 digits               14072 non-null  int64  \n",
      " 5   Gender                            14072 non-null  int64  \n",
      " 6   Race                              14072 non-null  int64  \n",
      " 7   Ethnicity                         14072 non-null  int64  \n",
      " 8   Length of Stay                    14069 non-null  float64\n",
      " 9   Type of Admission                 14072 non-null  int64  \n",
      " 10  Patient Disposition               14072 non-null  int64  \n",
      " 11  Discharge Year                    14072 non-null  int64  \n",
      " 12  CCS Diagnosis Code                14072 non-null  int64  \n",
      " 13  CCS Procedure Code                14072 non-null  int64  \n",
      " 14  APR DRG Code                      14072 non-null  int64  \n",
      " 15  APR MDC Code                      14072 non-null  int64  \n",
      " 16  APR Severity of Illness Code      14072 non-null  int64  \n",
      " 17  APR Risk of Mortality             14072 non-null  int64  \n",
      " 18  APR Medical Surgical Description  14072 non-null  int64  \n",
      " 19  Payment Typology 1                14072 non-null  int64  \n",
      " 20  Birth Weight                      14072 non-null  int64  \n",
      " 21  Abortion Edit Indicator           14072 non-null  int64  \n",
      " 22  Emergency Department Indicator    14072 non-null  int64  \n",
      " 23  Total Charges                     14072 non-null  float64\n",
      " 24  Total Costs                       14072 non-null  float64\n",
      "dtypes: float64(5), int64(20)\n",
      "memory usage: 2.8 MB\n"
     ]
    }
   ],
   "source": [
    "Glens_df.info()"
   ]
  },
  {
   "cell_type": "code",
   "execution_count": 130,
   "id": "63408848",
   "metadata": {
    "execution": {
     "iopub.execute_input": "2023-02-21T19:33:31.449453Z",
     "iopub.status.busy": "2023-02-21T19:33:31.448690Z",
     "iopub.status.idle": "2023-02-21T19:33:31.460828Z",
     "shell.execute_reply": "2023-02-21T19:33:31.459543Z"
    },
    "id": "d6e03360",
    "outputId": "a1ee845f-cbf5-4f61-9aae-d35f5de7d52e",
    "papermill": {
     "duration": 0.093612,
     "end_time": "2023-02-21T19:33:31.463240",
     "exception": false,
     "start_time": "2023-02-21T19:33:31.369628",
     "status": "completed"
    },
    "tags": []
   },
   "outputs": [
    {
     "data": {
      "text/plain": [
       "Hospital County                     0\n",
       "Operating Certificate Number        0\n",
       "Facility Id                         0\n",
       "Age Group                           0\n",
       "Zip Code - 3 digits                 0\n",
       "Gender                              0\n",
       "Race                                0\n",
       "Ethnicity                           0\n",
       "Length of Stay                      3\n",
       "Type of Admission                   0\n",
       "Patient Disposition                 0\n",
       "Discharge Year                      0\n",
       "CCS Diagnosis Code                  0\n",
       "CCS Procedure Code                  0\n",
       "APR DRG Code                        0\n",
       "APR MDC Code                        0\n",
       "APR Severity of Illness Code        0\n",
       "APR Risk of Mortality               0\n",
       "APR Medical Surgical Description    0\n",
       "Payment Typology 1                  0\n",
       "Birth Weight                        0\n",
       "Abortion Edit Indicator             0\n",
       "Emergency Department Indicator      0\n",
       "Total Charges                       0\n",
       "Total Costs                         0\n",
       "dtype: int64"
      ]
     },
     "execution_count": 130,
     "metadata": {},
     "output_type": "execute_result"
    }
   ],
   "source": [
    "Glens_df.isnull().sum()"
   ]
  },
  {
   "cell_type": "code",
   "execution_count": 131,
   "id": "d7a9244d",
   "metadata": {
    "execution": {
     "iopub.execute_input": "2023-02-21T19:33:31.618572Z",
     "iopub.status.busy": "2023-02-21T19:33:31.617234Z",
     "iopub.status.idle": "2023-02-21T19:33:31.630219Z",
     "shell.execute_reply": "2023-02-21T19:33:31.629281Z"
    },
    "id": "34f1cb75",
    "papermill": {
     "duration": 0.093509,
     "end_time": "2023-02-21T19:33:31.632666",
     "exception": false,
     "start_time": "2023-02-21T19:33:31.539157",
     "status": "completed"
    },
    "tags": []
   },
   "outputs": [],
   "source": [
    "Glens_df.dropna(inplace=True)"
   ]
  },
  {
   "cell_type": "code",
   "execution_count": 132,
   "id": "2bfb5fea",
   "metadata": {
    "execution": {
     "iopub.execute_input": "2023-02-21T19:33:31.790418Z",
     "iopub.status.busy": "2023-02-21T19:33:31.789096Z",
     "iopub.status.idle": "2023-02-21T19:33:31.796676Z",
     "shell.execute_reply": "2023-02-21T19:33:31.795735Z"
    },
    "id": "95588afe",
    "papermill": {
     "duration": 0.088552,
     "end_time": "2023-02-21T19:33:31.799174",
     "exception": false,
     "start_time": "2023-02-21T19:33:31.710622",
     "status": "completed"
    },
    "tags": []
   },
   "outputs": [],
   "source": [
    "x = Glens_df.drop([\"Length of Stay\"], axis =1)\n",
    "y = Glens_df[\"Length of Stay\"]"
   ]
  },
  {
   "cell_type": "code",
   "execution_count": 133,
   "id": "bd3edcc3",
   "metadata": {
    "execution": {
     "iopub.execute_input": "2023-02-21T19:33:31.954345Z",
     "iopub.status.busy": "2023-02-21T19:33:31.953968Z",
     "iopub.status.idle": "2023-02-21T19:33:31.968837Z",
     "shell.execute_reply": "2023-02-21T19:33:31.966509Z"
    },
    "id": "36c0ac4d",
    "outputId": "caf8de4c-6a32-418b-9b6f-1cfbac68295c",
    "papermill": {
     "duration": 0.096692,
     "end_time": "2023-02-21T19:33:31.971548",
     "exception": false,
     "start_time": "2023-02-21T19:33:31.874856",
     "status": "completed"
    },
    "tags": []
   },
   "outputs": [
    {
     "name": "stdout",
     "output_type": "stream",
     "text": [
      "<class 'pandas.core.frame.DataFrame'>\n",
      "Int64Index: 14069 entries, 628756 to 664930\n",
      "Data columns (total 24 columns):\n",
      " #   Column                            Non-Null Count  Dtype  \n",
      "---  ------                            --------------  -----  \n",
      " 0   Hospital County                   14069 non-null  int64  \n",
      " 1   Operating Certificate Number      14069 non-null  float64\n",
      " 2   Facility Id                       14069 non-null  float64\n",
      " 3   Age Group                         14069 non-null  int64  \n",
      " 4   Zip Code - 3 digits               14069 non-null  int64  \n",
      " 5   Gender                            14069 non-null  int64  \n",
      " 6   Race                              14069 non-null  int64  \n",
      " 7   Ethnicity                         14069 non-null  int64  \n",
      " 8   Type of Admission                 14069 non-null  int64  \n",
      " 9   Patient Disposition               14069 non-null  int64  \n",
      " 10  Discharge Year                    14069 non-null  int64  \n",
      " 11  CCS Diagnosis Code                14069 non-null  int64  \n",
      " 12  CCS Procedure Code                14069 non-null  int64  \n",
      " 13  APR DRG Code                      14069 non-null  int64  \n",
      " 14  APR MDC Code                      14069 non-null  int64  \n",
      " 15  APR Severity of Illness Code      14069 non-null  int64  \n",
      " 16  APR Risk of Mortality             14069 non-null  int64  \n",
      " 17  APR Medical Surgical Description  14069 non-null  int64  \n",
      " 18  Payment Typology 1                14069 non-null  int64  \n",
      " 19  Birth Weight                      14069 non-null  int64  \n",
      " 20  Abortion Edit Indicator           14069 non-null  int64  \n",
      " 21  Emergency Department Indicator    14069 non-null  int64  \n",
      " 22  Total Charges                     14069 non-null  float64\n",
      " 23  Total Costs                       14069 non-null  float64\n",
      "dtypes: float64(4), int64(20)\n",
      "memory usage: 2.7 MB\n"
     ]
    }
   ],
   "source": [
    "x.info()"
   ]
  },
  {
   "cell_type": "code",
   "execution_count": 134,
   "id": "1f60e78d",
   "metadata": {
    "execution": {
     "iopub.execute_input": "2023-02-21T19:33:32.133322Z",
     "iopub.status.busy": "2023-02-21T19:33:32.132372Z",
     "iopub.status.idle": "2023-02-21T19:33:32.142361Z",
     "shell.execute_reply": "2023-02-21T19:33:32.140975Z"
    },
    "id": "3f07ddf1",
    "outputId": "c67c4f76-4e70-41ff-b8a8-9cc1ad5d7c6b",
    "papermill": {
     "duration": 0.09309,
     "end_time": "2023-02-21T19:33:32.144828",
     "exception": false,
     "start_time": "2023-02-21T19:33:32.051738",
     "status": "completed"
    },
    "tags": []
   },
   "outputs": [
    {
     "data": {
      "text/plain": [
       "628756    5.0\n",
       "628825    4.0\n",
       "629035    2.0\n",
       "629070    1.0\n",
       "629175    6.0\n",
       "         ... \n",
       "664926    1.0\n",
       "664927    1.0\n",
       "664928    1.0\n",
       "664929    1.0\n",
       "664930    1.0\n",
       "Name: Length of Stay, Length: 14069, dtype: float64"
      ]
     },
     "execution_count": 134,
     "metadata": {},
     "output_type": "execute_result"
    }
   ],
   "source": [
    "y"
   ]
  },
  {
   "cell_type": "code",
   "execution_count": 135,
   "id": "9a760a2d",
   "metadata": {
    "execution": {
     "iopub.execute_input": "2023-02-21T19:33:32.299364Z",
     "iopub.status.busy": "2023-02-21T19:33:32.298935Z",
     "iopub.status.idle": "2023-02-21T19:33:32.307909Z",
     "shell.execute_reply": "2023-02-21T19:33:32.306883Z"
    },
    "id": "0586f6b7",
    "papermill": {
     "duration": 0.088956,
     "end_time": "2023-02-21T19:33:32.310436",
     "exception": false,
     "start_time": "2023-02-21T19:33:32.221480",
     "status": "completed"
    },
    "tags": []
   },
   "outputs": [],
   "source": [
    "from sklearn.model_selection import train_test_split\n",
    "x_train, x_test, y_train, y_test = train_test_split(x, y, test_size=0.3, random_state=42)"
   ]
  },
  {
   "cell_type": "code",
   "execution_count": 136,
   "id": "7078f4b7",
   "metadata": {
    "execution": {
     "iopub.execute_input": "2023-02-21T19:33:32.466834Z",
     "iopub.status.busy": "2023-02-21T19:33:32.466108Z",
     "iopub.status.idle": "2023-02-21T19:33:32.618127Z",
     "shell.execute_reply": "2023-02-21T19:33:32.617057Z"
    },
    "id": "a9701d55",
    "papermill": {
     "duration": 0.233324,
     "end_time": "2023-02-21T19:33:32.620803",
     "exception": false,
     "start_time": "2023-02-21T19:33:32.387479",
     "status": "completed"
    },
    "tags": []
   },
   "outputs": [],
   "source": [
    "from sklearn.metrics import r2_score\n",
    "from sklearn.metrics import mean_absolute_error\n",
    "from sklearn.metrics import mean_squared_error\n",
    "from sklearn.linear_model import LinearRegression\n",
    "from sklearn import linear_model\n",
    "from sklearn.linear_model import Ridge\n",
    "from sklearn.tree import DecisionTreeRegressor\n",
    "from sklearn.ensemble import RandomForestRegressor\n",
    "from sklearn.pipeline import make_pipeline\n",
    "from sklearn.preprocessing import StandardScaler\n",
    "import numpy as np\n",
    "from sklearn.svm import SVR"
   ]
  },
  {
   "cell_type": "code",
   "execution_count": 137,
   "id": "1ea7400d",
   "metadata": {
    "execution": {
     "iopub.execute_input": "2023-02-21T19:33:32.779371Z",
     "iopub.status.busy": "2023-02-21T19:33:32.778637Z",
     "iopub.status.idle": "2023-02-21T19:33:32.782984Z",
     "shell.execute_reply": "2023-02-21T19:33:32.782100Z"
    },
    "id": "7c11e9d8",
    "papermill": {
     "duration": 0.08672,
     "end_time": "2023-02-21T19:33:32.785379",
     "exception": false,
     "start_time": "2023-02-21T19:33:32.698659",
     "status": "completed"
    },
    "tags": []
   },
   "outputs": [],
   "source": [
    "# Linear Regression\n",
    "#LR = LinearRegression()\n",
    "#LR.fit(x_train, y_train)"
   ]
  },
  {
   "cell_type": "code",
   "execution_count": 138,
   "id": "ea5cc867",
   "metadata": {
    "execution": {
     "iopub.execute_input": "2023-02-21T19:33:32.942970Z",
     "iopub.status.busy": "2023-02-21T19:33:32.942315Z",
     "iopub.status.idle": "2023-02-21T19:33:32.971393Z",
     "shell.execute_reply": "2023-02-21T19:33:32.969697Z"
    },
    "id": "ee0f00f2",
    "papermill": {
     "duration": 0.112562,
     "end_time": "2023-02-21T19:33:32.975741",
     "exception": false,
     "start_time": "2023-02-21T19:33:32.863179",
     "status": "completed"
    },
    "tags": []
   },
   "outputs": [],
   "source": [
    "# Linear Regression\n",
    "\n",
    "LR = LinearRegression()\n",
    "LR.fit(x_train, y_train)\n",
    "LR.score(x_train, y_train)\n",
    "y_pred =LR.predict(x_test)"
   ]
  },
  {
   "cell_type": "code",
   "execution_count": 139,
   "id": "68f88dfa",
   "metadata": {
    "execution": {
     "iopub.execute_input": "2023-02-21T19:33:33.209804Z",
     "iopub.status.busy": "2023-02-21T19:33:33.209371Z",
     "iopub.status.idle": "2023-02-21T19:33:33.217248Z",
     "shell.execute_reply": "2023-02-21T19:33:33.216407Z"
    },
    "id": "eb6a80ed",
    "outputId": "647b8e7b-1cd9-497a-ebdc-8dd066afb114",
    "papermill": {
     "duration": 0.091051,
     "end_time": "2023-02-21T19:33:33.219477",
     "exception": false,
     "start_time": "2023-02-21T19:33:33.128426",
     "status": "completed"
    },
    "tags": []
   },
   "outputs": [
    {
     "data": {
      "text/plain": [
       "0.7753107229320534"
      ]
     },
     "execution_count": 139,
     "metadata": {},
     "output_type": "execute_result"
    }
   ],
   "source": [
    "r2 = r2_score(y_test, y_pred)\n",
    "r2 \n"
   ]
  },
  {
   "cell_type": "code",
   "execution_count": 140,
   "id": "18b7e5a3",
   "metadata": {
    "execution": {
     "iopub.execute_input": "2023-02-21T19:33:33.374725Z",
     "iopub.status.busy": "2023-02-21T19:33:33.373883Z",
     "iopub.status.idle": "2023-02-21T19:33:33.379428Z",
     "shell.execute_reply": "2023-02-21T19:33:33.378663Z"
    },
    "id": "205f559b",
    "papermill": {
     "duration": 0.085793,
     "end_time": "2023-02-21T19:33:33.381971",
     "exception": false,
     "start_time": "2023-02-21T19:33:33.296178",
     "status": "completed"
    },
    "tags": []
   },
   "outputs": [],
   "source": [
    "# calculate the MAE of the model\n",
    "mae = mean_absolute_error(y_test, y_pred)"
   ]
  },
  {
   "cell_type": "code",
   "execution_count": 141,
   "id": "1fd37012",
   "metadata": {
    "execution": {
     "iopub.execute_input": "2023-02-21T19:33:33.536504Z",
     "iopub.status.busy": "2023-02-21T19:33:33.535672Z",
     "iopub.status.idle": "2023-02-21T19:33:33.542830Z",
     "shell.execute_reply": "2023-02-21T19:33:33.541711Z"
    },
    "id": "f90975ec",
    "outputId": "20194bf3-b863-4925-f218-6104e82462a9",
    "papermill": {
     "duration": 0.086816,
     "end_time": "2023-02-21T19:33:33.545109",
     "exception": false,
     "start_time": "2023-02-21T19:33:33.458293",
     "status": "completed"
    },
    "tags": []
   },
   "outputs": [
    {
     "data": {
      "text/plain": [
       "1.519038644423741"
      ]
     },
     "execution_count": 141,
     "metadata": {},
     "output_type": "execute_result"
    }
   ],
   "source": [
    "mae"
   ]
  },
  {
   "cell_type": "code",
   "execution_count": 142,
   "id": "2f04dbdf",
   "metadata": {
    "execution": {
     "iopub.execute_input": "2023-02-21T19:33:33.700588Z",
     "iopub.status.busy": "2023-02-21T19:33:33.699863Z",
     "iopub.status.idle": "2023-02-21T19:33:33.706386Z",
     "shell.execute_reply": "2023-02-21T19:33:33.705627Z"
    },
    "id": "aa8f9fe2",
    "outputId": "fa201ac0-1d1c-4129-d903-83edc4e503f5",
    "papermill": {
     "duration": 0.087192,
     "end_time": "2023-02-21T19:33:33.708360",
     "exception": false,
     "start_time": "2023-02-21T19:33:33.621168",
     "status": "completed"
    },
    "tags": []
   },
   "outputs": [
    {
     "data": {
      "text/plain": [
       "8.394303923962779"
      ]
     },
     "execution_count": 142,
     "metadata": {},
     "output_type": "execute_result"
    }
   ],
   "source": [
    "# calculate the MSE of the model\n",
    "mse = mean_squared_error(y_test, y_pred)\n",
    "mse"
   ]
  },
  {
   "cell_type": "code",
   "execution_count": 143,
   "id": "14f4f98e",
   "metadata": {
    "execution": {
     "iopub.execute_input": "2023-02-21T19:33:33.864611Z",
     "iopub.status.busy": "2023-02-21T19:33:33.863875Z",
     "iopub.status.idle": "2023-02-21T19:33:33.871099Z",
     "shell.execute_reply": "2023-02-21T19:33:33.869690Z"
    },
    "id": "ba883927",
    "outputId": "05fa2deb-26ff-420e-ce3b-4b607423cbc3",
    "papermill": {
     "duration": 0.088135,
     "end_time": "2023-02-21T19:33:33.873679",
     "exception": false,
     "start_time": "2023-02-21T19:33:33.785544",
     "status": "completed"
    },
    "tags": []
   },
   "outputs": [
    {
     "data": {
      "text/plain": [
       "2.8972925161196237"
      ]
     },
     "execution_count": 143,
     "metadata": {},
     "output_type": "execute_result"
    }
   ],
   "source": [
    "# calculate the RMSE of the model\n",
    "rmse = np.sqrt(mse)\n",
    "rmse"
   ]
  },
  {
   "cell_type": "code",
   "execution_count": 144,
   "id": "62c262e5",
   "metadata": {
    "execution": {
     "iopub.execute_input": "2023-02-21T19:33:34.034004Z",
     "iopub.status.busy": "2023-02-21T19:33:34.033199Z",
     "iopub.status.idle": "2023-02-21T19:33:34.152616Z",
     "shell.execute_reply": "2023-02-21T19:33:34.150339Z"
    },
    "id": "16f6fc85",
    "papermill": {
     "duration": 0.20231,
     "end_time": "2023-02-21T19:33:34.157811",
     "exception": false,
     "start_time": "2023-02-21T19:33:33.955501",
     "status": "completed"
    },
    "tags": []
   },
   "outputs": [],
   "source": [
    "# LASSO\n",
    "L1 = linear_model.Lasso()\n",
    "L1.fit(x_train,y_train)\n",
    "y_pred1 = L1.predict(x_test)"
   ]
  },
  {
   "cell_type": "code",
   "execution_count": 145,
   "id": "f56f4b4b",
   "metadata": {
    "execution": {
     "iopub.execute_input": "2023-02-21T19:33:34.388987Z",
     "iopub.status.busy": "2023-02-21T19:33:34.388583Z",
     "iopub.status.idle": "2023-02-21T19:33:34.395732Z",
     "shell.execute_reply": "2023-02-21T19:33:34.394886Z"
    },
    "id": "c1cc780d",
    "outputId": "194a0851-d2c8-443c-815f-839aba8505da",
    "papermill": {
     "duration": 0.08845,
     "end_time": "2023-02-21T19:33:34.397851",
     "exception": false,
     "start_time": "2023-02-21T19:33:34.309401",
     "status": "completed"
    },
    "tags": []
   },
   "outputs": [
    {
     "data": {
      "text/plain": [
       "0.7507020198871027"
      ]
     },
     "execution_count": 145,
     "metadata": {},
     "output_type": "execute_result"
    }
   ],
   "source": [
    "r2 = r2_score(y_test, y_pred1)\n",
    "r2 \n"
   ]
  },
  {
   "cell_type": "code",
   "execution_count": 146,
   "id": "89a6d62e",
   "metadata": {
    "execution": {
     "iopub.execute_input": "2023-02-21T19:33:34.554737Z",
     "iopub.status.busy": "2023-02-21T19:33:34.554044Z",
     "iopub.status.idle": "2023-02-21T19:33:34.560575Z",
     "shell.execute_reply": "2023-02-21T19:33:34.559821Z"
    },
    "id": "c885f938",
    "outputId": "d712b50d-ab8b-4e12-dbe0-103537feceb4",
    "papermill": {
     "duration": 0.087781,
     "end_time": "2023-02-21T19:33:34.562861",
     "exception": false,
     "start_time": "2023-02-21T19:33:34.475080",
     "status": "completed"
    },
    "tags": []
   },
   "outputs": [
    {
     "data": {
      "text/plain": [
       "1.5980824331021113"
      ]
     },
     "execution_count": 146,
     "metadata": {},
     "output_type": "execute_result"
    }
   ],
   "source": [
    "# calculate the MAE of the model\n",
    "mae = mean_absolute_error(y_test, y_pred1)\n",
    "mae"
   ]
  },
  {
   "cell_type": "code",
   "execution_count": 147,
   "id": "2537a7fa",
   "metadata": {
    "execution": {
     "iopub.execute_input": "2023-02-21T19:33:34.720588Z",
     "iopub.status.busy": "2023-02-21T19:33:34.719889Z",
     "iopub.status.idle": "2023-02-21T19:33:34.727215Z",
     "shell.execute_reply": "2023-02-21T19:33:34.726127Z"
    },
    "id": "9e550269",
    "outputId": "80ed103e-e341-405b-be3d-9b529f485db6",
    "papermill": {
     "duration": 0.088952,
     "end_time": "2023-02-21T19:33:34.729443",
     "exception": false,
     "start_time": "2023-02-21T19:33:34.640491",
     "status": "completed"
    },
    "tags": []
   },
   "outputs": [
    {
     "data": {
      "text/plain": [
       "9.313675490018403"
      ]
     },
     "execution_count": 147,
     "metadata": {},
     "output_type": "execute_result"
    }
   ],
   "source": [
    "# calculate the MSE of the model\n",
    "mse = mean_squared_error(y_test, y_pred1)\n",
    "mse"
   ]
  },
  {
   "cell_type": "code",
   "execution_count": 148,
   "id": "492d5405",
   "metadata": {
    "execution": {
     "iopub.execute_input": "2023-02-21T19:33:34.886519Z",
     "iopub.status.busy": "2023-02-21T19:33:34.886134Z",
     "iopub.status.idle": "2023-02-21T19:33:34.893284Z",
     "shell.execute_reply": "2023-02-21T19:33:34.892068Z"
    },
    "id": "f428a38f",
    "outputId": "c8db5203-100d-4c9a-f868-5338c9173472",
    "papermill": {
     "duration": 0.087952,
     "end_time": "2023-02-21T19:33:34.895551",
     "exception": false,
     "start_time": "2023-02-21T19:33:34.807599",
     "status": "completed"
    },
    "tags": []
   },
   "outputs": [
    {
     "data": {
      "text/plain": [
       "3.0518314976450456"
      ]
     },
     "execution_count": 148,
     "metadata": {},
     "output_type": "execute_result"
    }
   ],
   "source": [
    "# calculate the RMSE of the model\n",
    "rmse = np.sqrt(mse)\n",
    "rmse"
   ]
  },
  {
   "cell_type": "code",
   "execution_count": 149,
   "id": "9b52e9b1",
   "metadata": {
    "execution": {
     "iopub.execute_input": "2023-02-21T19:33:35.060824Z",
     "iopub.status.busy": "2023-02-21T19:33:35.060407Z",
     "iopub.status.idle": "2023-02-21T19:33:35.075584Z",
     "shell.execute_reply": "2023-02-21T19:33:35.074049Z"
    },
    "id": "ca30a19e",
    "papermill": {
     "duration": 0.098455,
     "end_time": "2023-02-21T19:33:35.079908",
     "exception": false,
     "start_time": "2023-02-21T19:33:34.981453",
     "status": "completed"
    },
    "tags": []
   },
   "outputs": [],
   "source": [
    "# Ridge\n",
    "L2 = Ridge(alpha=1.0)\n",
    "L2.fit(x_train, y_train) \n",
    "y_pred3 = L2.predict(x_test)"
   ]
  },
  {
   "cell_type": "code",
   "execution_count": 150,
   "id": "0b0ddafc",
   "metadata": {
    "execution": {
     "iopub.execute_input": "2023-02-21T19:33:35.308908Z",
     "iopub.status.busy": "2023-02-21T19:33:35.308487Z",
     "iopub.status.idle": "2023-02-21T19:33:35.316996Z",
     "shell.execute_reply": "2023-02-21T19:33:35.315858Z"
    },
    "id": "27257f14",
    "outputId": "7653cea8-2c8a-46db-c461-2275a1f9b313",
    "papermill": {
     "duration": 0.089117,
     "end_time": "2023-02-21T19:33:35.319315",
     "exception": false,
     "start_time": "2023-02-21T19:33:35.230198",
     "status": "completed"
    },
    "tags": []
   },
   "outputs": [
    {
     "data": {
      "text/plain": [
       "0.7753072003472253"
      ]
     },
     "execution_count": 150,
     "metadata": {},
     "output_type": "execute_result"
    }
   ],
   "source": [
    "r2 = r2_score(y_test, y_pred3)\n",
    "r2 "
   ]
  },
  {
   "cell_type": "code",
   "execution_count": 151,
   "id": "c4a0977b",
   "metadata": {
    "execution": {
     "iopub.execute_input": "2023-02-21T19:33:35.536978Z",
     "iopub.status.busy": "2023-02-21T19:33:35.536516Z",
     "iopub.status.idle": "2023-02-21T19:33:35.544244Z",
     "shell.execute_reply": "2023-02-21T19:33:35.543144Z"
    },
    "id": "8e17c5d1",
    "outputId": "cff250af-40b9-438f-81d2-e348e3c1b266",
    "papermill": {
     "duration": 0.149916,
     "end_time": "2023-02-21T19:33:35.547291",
     "exception": false,
     "start_time": "2023-02-21T19:33:35.397375",
     "status": "completed"
    },
    "tags": []
   },
   "outputs": [
    {
     "data": {
      "text/plain": [
       "1.5188909684172016"
      ]
     },
     "execution_count": 151,
     "metadata": {},
     "output_type": "execute_result"
    }
   ],
   "source": [
    "# calculate the MAE of the model\n",
    "mae = mean_absolute_error(y_test, y_pred3)\n",
    "mae"
   ]
  },
  {
   "cell_type": "code",
   "execution_count": 152,
   "id": "ba6b5053",
   "metadata": {
    "execution": {
     "iopub.execute_input": "2023-02-21T19:33:35.706665Z",
     "iopub.status.busy": "2023-02-21T19:33:35.706279Z",
     "iopub.status.idle": "2023-02-21T19:33:35.713992Z",
     "shell.execute_reply": "2023-02-21T19:33:35.712781Z"
    },
    "id": "bd93e052",
    "outputId": "31d9ed9c-68e1-404e-a4b0-41da578430ff",
    "papermill": {
     "duration": 0.089537,
     "end_time": "2023-02-21T19:33:35.716216",
     "exception": false,
     "start_time": "2023-02-21T19:33:35.626679",
     "status": "completed"
    },
    "tags": []
   },
   "outputs": [
    {
     "data": {
      "text/plain": [
       "8.394435526360677"
      ]
     },
     "execution_count": 152,
     "metadata": {},
     "output_type": "execute_result"
    }
   ],
   "source": [
    "# calculate the MSE of the model\n",
    "mse = mean_squared_error(y_test, y_pred3)\n",
    "mse"
   ]
  },
  {
   "cell_type": "code",
   "execution_count": 153,
   "id": "04384967",
   "metadata": {
    "execution": {
     "iopub.execute_input": "2023-02-21T19:33:35.878325Z",
     "iopub.status.busy": "2023-02-21T19:33:35.877086Z",
     "iopub.status.idle": "2023-02-21T19:33:35.885182Z",
     "shell.execute_reply": "2023-02-21T19:33:35.883988Z"
    },
    "id": "e44a7e8d",
    "outputId": "bb39d5a0-46bf-4766-edc4-c63a23cd9a15",
    "papermill": {
     "duration": 0.091695,
     "end_time": "2023-02-21T19:33:35.887390",
     "exception": false,
     "start_time": "2023-02-21T19:33:35.795695",
     "status": "completed"
    },
    "tags": []
   },
   "outputs": [
    {
     "data": {
      "text/plain": [
       "2.8973152273028004"
      ]
     },
     "execution_count": 153,
     "metadata": {},
     "output_type": "execute_result"
    }
   ],
   "source": [
    "# calculate the RMSE of the model\n",
    "rmse = np.sqrt(mse)\n",
    "rmse"
   ]
  },
  {
   "cell_type": "markdown",
   "id": "1f8bceb4",
   "metadata": {
    "id": "9719b0e0",
    "papermill": {
     "duration": 0.077115,
     "end_time": "2023-02-21T19:33:36.044165",
     "exception": false,
     "start_time": "2023-02-21T19:33:35.967050",
     "status": "completed"
    },
    "tags": []
   },
   "source": [
    "##Client 7 : The Burdett Care Center"
   ]
  },
  {
   "cell_type": "code",
   "execution_count": 154,
   "id": "701d64af",
   "metadata": {
    "execution": {
     "iopub.execute_input": "2023-02-21T19:33:36.203277Z",
     "iopub.status.busy": "2023-02-21T19:33:36.202839Z",
     "iopub.status.idle": "2023-02-21T19:33:36.359318Z",
     "shell.execute_reply": "2023-02-21T19:33:36.358033Z"
    },
    "id": "fb2c4e0b",
    "papermill": {
     "duration": 0.238545,
     "end_time": "2023-02-21T19:33:36.362043",
     "exception": false,
     "start_time": "2023-02-21T19:33:36.123498",
     "status": "completed"
    },
    "tags": []
   },
   "outputs": [],
   "source": [
    "Burdett_df=df[df[\"Facility Name\"]== 'The Burdett Care Center']"
   ]
  },
  {
   "cell_type": "code",
   "execution_count": 155,
   "id": "3070c422",
   "metadata": {
    "execution": {
     "iopub.execute_input": "2023-02-21T19:33:36.524025Z",
     "iopub.status.busy": "2023-02-21T19:33:36.523521Z",
     "iopub.status.idle": "2023-02-21T19:33:36.550946Z",
     "shell.execute_reply": "2023-02-21T19:33:36.549952Z"
    },
    "id": "df76ac20",
    "outputId": "76a11d49-cd5c-4c9f-da01-c531b54470a4",
    "papermill": {
     "duration": 0.114713,
     "end_time": "2023-02-21T19:33:36.555125",
     "exception": false,
     "start_time": "2023-02-21T19:33:36.440412",
     "status": "completed"
    },
    "tags": []
   },
   "outputs": [
    {
     "name": "stdout",
     "output_type": "stream",
     "text": [
      "<class 'pandas.core.frame.DataFrame'>\n",
      "Int64Index: 2007 entries, 664931 to 666956\n",
      "Data columns (total 28 columns):\n",
      " #   Column                            Non-Null Count  Dtype   \n",
      "---  ------                            --------------  -----   \n",
      " 0   Hospital County                   2007 non-null   category\n",
      " 1   Operating Certificate Number      2007 non-null   float64 \n",
      " 2   Facility Id                       2007 non-null   float64 \n",
      " 3   Facility Name                     2007 non-null   object  \n",
      " 4   Age Group                         2007 non-null   category\n",
      " 5   Zip Code - 3 digits               1990 non-null   category\n",
      " 6   Gender                            2007 non-null   category\n",
      " 7   Race                              2007 non-null   category\n",
      " 8   Ethnicity                         2007 non-null   category\n",
      " 9   Length of Stay                    2007 non-null   category\n",
      " 10  Type of Admission                 2007 non-null   category\n",
      " 11  Patient Disposition               2007 non-null   category\n",
      " 12  Discharge Year                    2007 non-null   int64   \n",
      " 13  CCS Diagnosis Code                2007 non-null   int64   \n",
      " 14  CCS Procedure Code                2007 non-null   int64   \n",
      " 15  APR DRG Code                      2007 non-null   int64   \n",
      " 16  APR MDC Code                      2007 non-null   int64   \n",
      " 17  APR Severity of Illness Code      2007 non-null   int64   \n",
      " 18  APR Risk of Mortality             2007 non-null   category\n",
      " 19  APR Medical Surgical Description  2007 non-null   category\n",
      " 20  Payment Typology 1                2007 non-null   category\n",
      " 21  Payment Typology 2                2007 non-null   category\n",
      " 22  Payment Typology 3                2007 non-null   category\n",
      " 23  Birth Weight                      2007 non-null   int64   \n",
      " 24  Abortion Edit Indicator           2007 non-null   category\n",
      " 25  Emergency Department Indicator    2007 non-null   category\n",
      " 26  Total Charges                     2007 non-null   float64 \n",
      " 27  Total Costs                       2007 non-null   float64 \n",
      "dtypes: category(16), float64(4), int64(7), object(1)\n",
      "memory usage: 255.3+ KB\n"
     ]
    }
   ],
   "source": [
    "Burdett_df.info()"
   ]
  },
  {
   "cell_type": "code",
   "execution_count": 156,
   "id": "4681b925",
   "metadata": {
    "execution": {
     "iopub.execute_input": "2023-02-21T19:33:36.737349Z",
     "iopub.status.busy": "2023-02-21T19:33:36.735991Z",
     "iopub.status.idle": "2023-02-21T19:33:36.787204Z",
     "shell.execute_reply": "2023-02-21T19:33:36.785952Z"
    },
    "id": "092fb4d2",
    "outputId": "cd2b9fbf-0242-42c2-d1bb-a75e8d3f91ee",
    "papermill": {
     "duration": 0.135053,
     "end_time": "2023-02-21T19:33:36.790395",
     "exception": false,
     "start_time": "2023-02-21T19:33:36.655342",
     "status": "completed"
    },
    "tags": []
   },
   "outputs": [
    {
     "name": "stdout",
     "output_type": "stream",
     "text": [
      "Hospital County : 1\n",
      "Rensselaer    2007\n",
      "Albany           0\n",
      "Niagara          0\n",
      "Onondaga         0\n",
      "Ontario          0\n",
      "Name: Hospital County, dtype: int64\n",
      "\n",
      "********************\n",
      "\n",
      "Operating Certificate Number : 1\n",
      "4102004.0    2007\n",
      "Name: Operating Certificate Number, dtype: int64\n",
      "\n",
      "********************\n",
      "\n",
      "Facility Id : 1\n",
      "9250.0    2007\n",
      "Name: Facility Id, dtype: int64\n",
      "\n",
      "********************\n",
      "\n",
      "Facility Name : 1\n",
      "The Burdett Care Center    2007\n",
      "Name: Facility Name, dtype: int64\n",
      "\n",
      "********************\n",
      "\n",
      "Age Group : 3\n",
      "0 to 17        997\n",
      "18 to 29       623\n",
      "30 to 49       387\n",
      "50 to 69         0\n",
      "70 or Older      0\n",
      "Name: Age Group, dtype: int64\n",
      "\n",
      "********************\n",
      "\n",
      "Zip Code - 3 digits : 7\n",
      "121    1309\n",
      "120     466\n",
      "122     110\n",
      "123      50\n",
      "128      45\n",
      "Name: Zip Code - 3 digits, dtype: int64\n",
      "\n",
      "********************\n",
      "\n",
      "Gender : 2\n",
      "F    1498\n",
      "M     509\n",
      "U       0\n",
      "Name: Gender, dtype: int64\n",
      "\n",
      "********************\n",
      "\n",
      "Race : 3\n",
      "White                     1376\n",
      "Other Race                 396\n",
      "Black/African American     235\n",
      "Multi-racial                 0\n",
      "Name: Race, dtype: int64\n",
      "\n",
      "********************\n",
      "\n",
      "Ethnicity : 2\n",
      "Not Span/Hispanic    1922\n",
      "Spanish/Hispanic       85\n",
      "Multi-ethnic            0\n",
      "Unknown                 0\n",
      "Name: Ethnicity, dtype: int64\n",
      "\n",
      "********************\n",
      "\n",
      "Length of Stay : 7\n",
      "2    994\n",
      "3    456\n",
      "1    386\n",
      "4    119\n",
      "5     38\n",
      "Name: Length of Stay, dtype: int64\n",
      "\n",
      "********************\n",
      "\n",
      "Type of Admission : 4\n",
      "Newborn          985\n",
      "Elective         710\n",
      "Urgent           286\n",
      "Emergency         26\n",
      "Not Available      0\n",
      "Name: Type of Admission, dtype: int64\n",
      "\n",
      "********************\n",
      "\n",
      "Patient Disposition : 4\n",
      "Home or Self Care              1963\n",
      "Short-term Hospital              42\n",
      "Expired                           1\n",
      "Left Against Medical Advice       1\n",
      "Another Type Not Listed           0\n",
      "Name: Patient Disposition, dtype: int64\n",
      "\n",
      "********************\n",
      "\n",
      "Discharge Year : 1\n",
      "2015    2007\n",
      "Name: Discharge Year, dtype: int64\n",
      "\n",
      "********************\n",
      "\n",
      "CCS Diagnosis Code : 18\n",
      "218    985\n",
      "195    184\n",
      "191    111\n",
      "185    108\n",
      "192    104\n",
      "Name: CCS Diagnosis Code, dtype: int64\n",
      "\n",
      "********************\n",
      "\n",
      "CCS Procedure Code : 29\n",
      "228    455\n",
      "115    365\n",
      "134    243\n",
      "231    198\n",
      "0      191\n",
      "Name: CCS Procedure Code, dtype: int64\n",
      "\n",
      "********************\n",
      "\n",
      "APR DRG Code : 19\n",
      "640    892\n",
      "560    723\n",
      "540    244\n",
      "581     36\n",
      "626     22\n",
      "Name: APR DRG Code, dtype: int64\n",
      "\n",
      "********************\n",
      "\n",
      "APR MDC Code : 2\n",
      "14    1019\n",
      "15     988\n",
      "Name: APR MDC Code, dtype: int64\n",
      "\n",
      "********************\n",
      "\n",
      "APR Severity of Illness Code : 4\n",
      "1    1372\n",
      "2     559\n",
      "3      74\n",
      "4       2\n",
      "Name: APR Severity of Illness Code, dtype: int64\n",
      "\n",
      "********************\n",
      "\n",
      "APR Risk of Mortality : 4\n",
      "Minor       1995\n",
      "Moderate      10\n",
      "Extreme        1\n",
      "Major          1\n",
      "Name: APR Risk of Mortality, dtype: int64\n",
      "\n",
      "********************\n",
      "\n",
      "APR Medical Surgical Description : 2\n",
      "Medical           1737\n",
      "Surgical           270\n",
      "Not Applicable       0\n",
      "Name: APR Medical Surgical Description, dtype: int64\n",
      "\n",
      "********************\n",
      "\n",
      "Payment Typology 1 : 6\n",
      "Medicaid                    1059\n",
      "Private Health Insurance     549\n",
      "Blue Cross/Blue Shield       289\n",
      "Self-Pay                      52\n",
      "Federal/State/Local/VA        46\n",
      "Name: Payment Typology 1, dtype: int64\n",
      "\n",
      "********************\n",
      "\n",
      "Payment Typology 2 : 6\n",
      "Self-Pay                    1932\n",
      "Medicaid                      61\n",
      "Private Health Insurance       9\n",
      "Blue Cross/Blue Shield         3\n",
      "Medicare                       1\n",
      "Name: Payment Typology 2, dtype: int64\n",
      "\n",
      "********************\n",
      "\n",
      "Payment Typology 3 : 2\n",
      "Self-Pay                     2006\n",
      "Medicaid                        1\n",
      "Blue Cross/Blue Shield          0\n",
      "Department of Corrections       0\n",
      "Federal/State/Local/VA          0\n",
      "Name: Payment Typology 3, dtype: int64\n",
      "\n",
      "********************\n",
      "\n",
      "Birth Weight : 41\n",
      "0       1019\n",
      "3100      85\n",
      "3200      78\n",
      "3300      75\n",
      "3000      74\n",
      "Name: Birth Weight, dtype: int64\n",
      "\n",
      "********************\n",
      "\n",
      "Abortion Edit Indicator : 1\n",
      "N    2007\n",
      "Y       0\n",
      "Name: Abortion Edit Indicator, dtype: int64\n",
      "\n",
      "********************\n",
      "\n",
      "Emergency Department Indicator : 1\n",
      "N    2007\n",
      "Y       0\n",
      "Name: Emergency Department Indicator, dtype: int64\n",
      "\n",
      "********************\n",
      "\n",
      "Total Charges : 1619\n",
      "3356.7    25\n",
      "3035.7    24\n",
      "1757.7    23\n",
      "3060.7    22\n",
      "3185.7    21\n",
      "Name: Total Charges, dtype: int64\n",
      "\n",
      "********************\n",
      "\n",
      "Total Costs : 1637\n",
      "1801.48    24\n",
      "1012.78    23\n",
      "1816.91    22\n",
      "1975.28    21\n",
      "1869.75    20\n",
      "Name: Total Costs, dtype: int64\n",
      "\n",
      "********************\n",
      "\n"
     ]
    }
   ],
   "source": [
    "for col in Burdett_df.columns:\n",
    "    print( col,':', Burdett_df[col].nunique() )#Num of unique values\n",
    "    print(Burdett_df[col].value_counts().nlargest(5)) #Most 5 frequent values\n",
    "    print('\\n' + '*' * 20 + '\\n')"
   ]
  },
  {
   "cell_type": "code",
   "execution_count": 157,
   "id": "e871d964",
   "metadata": {
    "execution": {
     "iopub.execute_input": "2023-02-21T19:33:36.952656Z",
     "iopub.status.busy": "2023-02-21T19:33:36.951301Z",
     "iopub.status.idle": "2023-02-21T19:33:36.961320Z",
     "shell.execute_reply": "2023-02-21T19:33:36.960143Z"
    },
    "id": "29b3d732",
    "outputId": "e0deff44-7e21-42d6-fe3e-897a588bb797",
    "papermill": {
     "duration": 0.09513,
     "end_time": "2023-02-21T19:33:36.964873",
     "exception": false,
     "start_time": "2023-02-21T19:33:36.869743",
     "status": "completed"
    },
    "tags": []
   },
   "outputs": [
    {
     "name": "stderr",
     "output_type": "stream",
     "text": [
      "/opt/conda/lib/python3.7/site-packages/ipykernel_launcher.py:3: SettingWithCopyWarning: \n",
      "A value is trying to be set on a copy of a slice from a DataFrame.\n",
      "Try using .loc[row_indexer,col_indexer] = value instead\n",
      "\n",
      "See the caveats in the documentation: https://pandas.pydata.org/pandas-docs/stable/user_guide/indexing.html#returning-a-view-versus-a-copy\n",
      "  This is separate from the ipykernel package so we can avoid doing imports until\n",
      "/opt/conda/lib/python3.7/site-packages/ipykernel_launcher.py:5: SettingWithCopyWarning: \n",
      "A value is trying to be set on a copy of a slice from a DataFrame.\n",
      "Try using .loc[row_indexer,col_indexer] = value instead\n",
      "\n",
      "See the caveats in the documentation: https://pandas.pydata.org/pandas-docs/stable/user_guide/indexing.html#returning-a-view-versus-a-copy\n",
      "  \"\"\"\n"
     ]
    }
   ],
   "source": [
    " #   simple mapping on binary features.\n",
    "Burdett_df['Abortion Edit Indicator'] = Burdett_df['Abortion Edit Indicator'].apply(\n",
    "     lambda x: 1 if x == 'Y' else (0 if x == 'N' else None))\n",
    "Burdett_df['Emergency Department Indicator'] = Burdett_df['Emergency Department Indicator'].apply(\n",
    "    lambda x: 1 if x == 'Y' else (0 if x == 'N' else None))"
   ]
  },
  {
   "cell_type": "code",
   "execution_count": 158,
   "id": "d7b0ac90",
   "metadata": {
    "execution": {
     "iopub.execute_input": "2023-02-21T19:33:37.141415Z",
     "iopub.status.busy": "2023-02-21T19:33:37.141016Z",
     "iopub.status.idle": "2023-02-21T19:33:37.172749Z",
     "shell.execute_reply": "2023-02-21T19:33:37.171924Z"
    },
    "id": "1b218310",
    "outputId": "8f76f646-18a6-435a-d8bb-d87d490d8a4b",
    "papermill": {
     "duration": 0.131034,
     "end_time": "2023-02-21T19:33:37.175214",
     "exception": false,
     "start_time": "2023-02-21T19:33:37.044180",
     "status": "completed"
    },
    "tags": []
   },
   "outputs": [
    {
     "data": {
      "text/html": [
       "<div>\n",
       "<style scoped>\n",
       "    .dataframe tbody tr th:only-of-type {\n",
       "        vertical-align: middle;\n",
       "    }\n",
       "\n",
       "    .dataframe tbody tr th {\n",
       "        vertical-align: top;\n",
       "    }\n",
       "\n",
       "    .dataframe thead th {\n",
       "        text-align: right;\n",
       "    }\n",
       "</style>\n",
       "<table border=\"1\" class=\"dataframe\">\n",
       "  <thead>\n",
       "    <tr style=\"text-align: right;\">\n",
       "      <th></th>\n",
       "      <th>Hospital County</th>\n",
       "      <th>Operating Certificate Number</th>\n",
       "      <th>Facility Id</th>\n",
       "      <th>Facility Name</th>\n",
       "      <th>Age Group</th>\n",
       "      <th>Zip Code - 3 digits</th>\n",
       "      <th>Gender</th>\n",
       "      <th>Race</th>\n",
       "      <th>Ethnicity</th>\n",
       "      <th>Length of Stay</th>\n",
       "      <th>...</th>\n",
       "      <th>APR Risk of Mortality</th>\n",
       "      <th>APR Medical Surgical Description</th>\n",
       "      <th>Payment Typology 1</th>\n",
       "      <th>Payment Typology 2</th>\n",
       "      <th>Payment Typology 3</th>\n",
       "      <th>Birth Weight</th>\n",
       "      <th>Abortion Edit Indicator</th>\n",
       "      <th>Emergency Department Indicator</th>\n",
       "      <th>Total Charges</th>\n",
       "      <th>Total Costs</th>\n",
       "    </tr>\n",
       "  </thead>\n",
       "  <tbody>\n",
       "    <tr>\n",
       "      <th>664931</th>\n",
       "      <td>Rensselaer</td>\n",
       "      <td>4102004.0</td>\n",
       "      <td>9250.0</td>\n",
       "      <td>The Burdett Care Center</td>\n",
       "      <td>30 to 49</td>\n",
       "      <td>121</td>\n",
       "      <td>F</td>\n",
       "      <td>White</td>\n",
       "      <td>Not Span/Hispanic</td>\n",
       "      <td>3</td>\n",
       "      <td>...</td>\n",
       "      <td>Minor</td>\n",
       "      <td>Surgical</td>\n",
       "      <td>Private Health Insurance</td>\n",
       "      <td>Self-Pay</td>\n",
       "      <td>Self-Pay</td>\n",
       "      <td>0</td>\n",
       "      <td>0</td>\n",
       "      <td>0</td>\n",
       "      <td>12560.54</td>\n",
       "      <td>7260.24</td>\n",
       "    </tr>\n",
       "    <tr>\n",
       "      <th>664932</th>\n",
       "      <td>Rensselaer</td>\n",
       "      <td>4102004.0</td>\n",
       "      <td>9250.0</td>\n",
       "      <td>The Burdett Care Center</td>\n",
       "      <td>18 to 29</td>\n",
       "      <td>120</td>\n",
       "      <td>F</td>\n",
       "      <td>White</td>\n",
       "      <td>Not Span/Hispanic</td>\n",
       "      <td>2</td>\n",
       "      <td>...</td>\n",
       "      <td>Minor</td>\n",
       "      <td>Medical</td>\n",
       "      <td>Medicaid</td>\n",
       "      <td>Self-Pay</td>\n",
       "      <td>Self-Pay</td>\n",
       "      <td>0</td>\n",
       "      <td>0</td>\n",
       "      <td>0</td>\n",
       "      <td>6672.11</td>\n",
       "      <td>3832.18</td>\n",
       "    </tr>\n",
       "    <tr>\n",
       "      <th>664933</th>\n",
       "      <td>Rensselaer</td>\n",
       "      <td>4102004.0</td>\n",
       "      <td>9250.0</td>\n",
       "      <td>The Burdett Care Center</td>\n",
       "      <td>18 to 29</td>\n",
       "      <td>120</td>\n",
       "      <td>F</td>\n",
       "      <td>White</td>\n",
       "      <td>Not Span/Hispanic</td>\n",
       "      <td>2</td>\n",
       "      <td>...</td>\n",
       "      <td>Minor</td>\n",
       "      <td>Surgical</td>\n",
       "      <td>Medicaid</td>\n",
       "      <td>Self-Pay</td>\n",
       "      <td>Self-Pay</td>\n",
       "      <td>0</td>\n",
       "      <td>0</td>\n",
       "      <td>0</td>\n",
       "      <td>10598.85</td>\n",
       "      <td>5926.81</td>\n",
       "    </tr>\n",
       "    <tr>\n",
       "      <th>664934</th>\n",
       "      <td>Rensselaer</td>\n",
       "      <td>4102004.0</td>\n",
       "      <td>9250.0</td>\n",
       "      <td>The Burdett Care Center</td>\n",
       "      <td>18 to 29</td>\n",
       "      <td>121</td>\n",
       "      <td>F</td>\n",
       "      <td>Black/African American</td>\n",
       "      <td>Not Span/Hispanic</td>\n",
       "      <td>3</td>\n",
       "      <td>...</td>\n",
       "      <td>Minor</td>\n",
       "      <td>Surgical</td>\n",
       "      <td>Blue Cross/Blue Shield</td>\n",
       "      <td>Self-Pay</td>\n",
       "      <td>Self-Pay</td>\n",
       "      <td>0</td>\n",
       "      <td>0</td>\n",
       "      <td>0</td>\n",
       "      <td>17085.67</td>\n",
       "      <td>8402.28</td>\n",
       "    </tr>\n",
       "    <tr>\n",
       "      <th>664935</th>\n",
       "      <td>Rensselaer</td>\n",
       "      <td>4102004.0</td>\n",
       "      <td>9250.0</td>\n",
       "      <td>The Burdett Care Center</td>\n",
       "      <td>18 to 29</td>\n",
       "      <td>120</td>\n",
       "      <td>F</td>\n",
       "      <td>White</td>\n",
       "      <td>Not Span/Hispanic</td>\n",
       "      <td>2</td>\n",
       "      <td>...</td>\n",
       "      <td>Minor</td>\n",
       "      <td>Surgical</td>\n",
       "      <td>Medicaid</td>\n",
       "      <td>Self-Pay</td>\n",
       "      <td>Self-Pay</td>\n",
       "      <td>0</td>\n",
       "      <td>0</td>\n",
       "      <td>0</td>\n",
       "      <td>9914.79</td>\n",
       "      <td>5671.25</td>\n",
       "    </tr>\n",
       "  </tbody>\n",
       "</table>\n",
       "<p>5 rows × 28 columns</p>\n",
       "</div>"
      ],
      "text/plain": [
       "       Hospital County  Operating Certificate Number  Facility Id  \\\n",
       "664931      Rensselaer                     4102004.0       9250.0   \n",
       "664932      Rensselaer                     4102004.0       9250.0   \n",
       "664933      Rensselaer                     4102004.0       9250.0   \n",
       "664934      Rensselaer                     4102004.0       9250.0   \n",
       "664935      Rensselaer                     4102004.0       9250.0   \n",
       "\n",
       "                  Facility Name Age Group Zip Code - 3 digits Gender  \\\n",
       "664931  The Burdett Care Center  30 to 49                 121      F   \n",
       "664932  The Burdett Care Center  18 to 29                 120      F   \n",
       "664933  The Burdett Care Center  18 to 29                 120      F   \n",
       "664934  The Burdett Care Center  18 to 29                 121      F   \n",
       "664935  The Burdett Care Center  18 to 29                 120      F   \n",
       "\n",
       "                          Race          Ethnicity Length of Stay  ...  \\\n",
       "664931                   White  Not Span/Hispanic              3  ...   \n",
       "664932                   White  Not Span/Hispanic              2  ...   \n",
       "664933                   White  Not Span/Hispanic              2  ...   \n",
       "664934  Black/African American  Not Span/Hispanic              3  ...   \n",
       "664935                   White  Not Span/Hispanic              2  ...   \n",
       "\n",
       "       APR Risk of Mortality APR Medical Surgical Description  \\\n",
       "664931                 Minor                         Surgical   \n",
       "664932                 Minor                          Medical   \n",
       "664933                 Minor                         Surgical   \n",
       "664934                 Minor                         Surgical   \n",
       "664935                 Minor                         Surgical   \n",
       "\n",
       "              Payment Typology 1  Payment Typology 2  Payment Typology 3  \\\n",
       "664931  Private Health Insurance            Self-Pay            Self-Pay   \n",
       "664932                  Medicaid            Self-Pay            Self-Pay   \n",
       "664933                  Medicaid            Self-Pay            Self-Pay   \n",
       "664934    Blue Cross/Blue Shield            Self-Pay            Self-Pay   \n",
       "664935                  Medicaid            Self-Pay            Self-Pay   \n",
       "\n",
       "        Birth Weight  Abortion Edit Indicator  Emergency Department Indicator  \\\n",
       "664931             0                        0                               0   \n",
       "664932             0                        0                               0   \n",
       "664933             0                        0                               0   \n",
       "664934             0                        0                               0   \n",
       "664935             0                        0                               0   \n",
       "\n",
       "       Total Charges Total Costs  \n",
       "664931      12560.54     7260.24  \n",
       "664932       6672.11     3832.18  \n",
       "664933      10598.85     5926.81  \n",
       "664934      17085.67     8402.28  \n",
       "664935       9914.79     5671.25  \n",
       "\n",
       "[5 rows x 28 columns]"
      ]
     },
     "execution_count": 158,
     "metadata": {},
     "output_type": "execute_result"
    }
   ],
   "source": [
    "Burdett_df.head()"
   ]
  },
  {
   "cell_type": "code",
   "execution_count": 159,
   "id": "474d76c5",
   "metadata": {
    "execution": {
     "iopub.execute_input": "2023-02-21T19:33:37.336891Z",
     "iopub.status.busy": "2023-02-21T19:33:37.336170Z",
     "iopub.status.idle": "2023-02-21T19:33:37.344455Z",
     "shell.execute_reply": "2023-02-21T19:33:37.343102Z"
    },
    "id": "3c465c2a",
    "outputId": "106828bc-2ce6-4081-8e9c-342afcad2338",
    "papermill": {
     "duration": 0.090961,
     "end_time": "2023-02-21T19:33:37.347259",
     "exception": false,
     "start_time": "2023-02-21T19:33:37.256298",
     "status": "completed"
    },
    "tags": []
   },
   "outputs": [
    {
     "name": "stderr",
     "output_type": "stream",
     "text": [
      "/opt/conda/lib/python3.7/site-packages/ipykernel_launcher.py:1: SettingWithCopyWarning: \n",
      "A value is trying to be set on a copy of a slice from a DataFrame.\n",
      "Try using .loc[row_indexer,col_indexer] = value instead\n",
      "\n",
      "See the caveats in the documentation: https://pandas.pydata.org/pandas-docs/stable/user_guide/indexing.html#returning-a-view-versus-a-copy\n",
      "  \"\"\"Entry point for launching an IPython kernel.\n"
     ]
    }
   ],
   "source": [
    "Burdett_df[\"Length of Stay\"]=pd.to_numeric(Burdett_df[\"Length of Stay\"],errors='coerce')"
   ]
  },
  {
   "cell_type": "code",
   "execution_count": 160,
   "id": "96c61e58",
   "metadata": {
    "execution": {
     "iopub.execute_input": "2023-02-21T19:33:37.509255Z",
     "iopub.status.busy": "2023-02-21T19:33:37.508841Z",
     "iopub.status.idle": "2023-02-21T19:33:37.535796Z",
     "shell.execute_reply": "2023-02-21T19:33:37.533857Z"
    },
    "id": "8a34e67b",
    "outputId": "2b06308c-b814-435a-ac09-6d33d5629cfa",
    "papermill": {
     "duration": 0.111233,
     "end_time": "2023-02-21T19:33:37.538515",
     "exception": false,
     "start_time": "2023-02-21T19:33:37.427282",
     "status": "completed"
    },
    "tags": []
   },
   "outputs": [
    {
     "name": "stdout",
     "output_type": "stream",
     "text": [
      "<class 'pandas.core.frame.DataFrame'>\n",
      "Int64Index: 2007 entries, 664931 to 666956\n",
      "Data columns (total 28 columns):\n",
      " #   Column                            Non-Null Count  Dtype   \n",
      "---  ------                            --------------  -----   \n",
      " 0   Hospital County                   2007 non-null   category\n",
      " 1   Operating Certificate Number      2007 non-null   float64 \n",
      " 2   Facility Id                       2007 non-null   float64 \n",
      " 3   Facility Name                     2007 non-null   object  \n",
      " 4   Age Group                         2007 non-null   category\n",
      " 5   Zip Code - 3 digits               1990 non-null   category\n",
      " 6   Gender                            2007 non-null   category\n",
      " 7   Race                              2007 non-null   category\n",
      " 8   Ethnicity                         2007 non-null   category\n",
      " 9   Length of Stay                    2007 non-null   int64   \n",
      " 10  Type of Admission                 2007 non-null   category\n",
      " 11  Patient Disposition               2007 non-null   category\n",
      " 12  Discharge Year                    2007 non-null   int64   \n",
      " 13  CCS Diagnosis Code                2007 non-null   int64   \n",
      " 14  CCS Procedure Code                2007 non-null   int64   \n",
      " 15  APR DRG Code                      2007 non-null   int64   \n",
      " 16  APR MDC Code                      2007 non-null   int64   \n",
      " 17  APR Severity of Illness Code      2007 non-null   int64   \n",
      " 18  APR Risk of Mortality             2007 non-null   category\n",
      " 19  APR Medical Surgical Description  2007 non-null   category\n",
      " 20  Payment Typology 1                2007 non-null   category\n",
      " 21  Payment Typology 2                2007 non-null   category\n",
      " 22  Payment Typology 3                2007 non-null   category\n",
      " 23  Birth Weight                      2007 non-null   int64   \n",
      " 24  Abortion Edit Indicator           2007 non-null   category\n",
      " 25  Emergency Department Indicator    2007 non-null   category\n",
      " 26  Total Charges                     2007 non-null   float64 \n",
      " 27  Total Costs                       2007 non-null   float64 \n",
      "dtypes: category(15), float64(4), int64(8), object(1)\n",
      "memory usage: 257.2+ KB\n"
     ]
    }
   ],
   "source": [
    "Burdett_df.info()"
   ]
  },
  {
   "cell_type": "code",
   "execution_count": 161,
   "id": "c360b97d",
   "metadata": {
    "execution": {
     "iopub.execute_input": "2023-02-21T19:33:37.701187Z",
     "iopub.status.busy": "2023-02-21T19:33:37.700733Z",
     "iopub.status.idle": "2023-02-21T19:33:37.726806Z",
     "shell.execute_reply": "2023-02-21T19:33:37.725591Z"
    },
    "id": "86b64347",
    "outputId": "34ede290-d948-4c63-9fbe-2f3881e46c28",
    "papermill": {
     "duration": 0.109894,
     "end_time": "2023-02-21T19:33:37.729365",
     "exception": false,
     "start_time": "2023-02-21T19:33:37.619471",
     "status": "completed"
    },
    "tags": []
   },
   "outputs": [
    {
     "name": "stderr",
     "output_type": "stream",
     "text": [
      "/opt/conda/lib/python3.7/site-packages/ipykernel_launcher.py:29: SettingWithCopyWarning: \n",
      "A value is trying to be set on a copy of a slice from a DataFrame.\n",
      "Try using .loc[row_indexer,col_indexer] = value instead\n",
      "\n",
      "See the caveats in the documentation: https://pandas.pydata.org/pandas-docs/stable/user_guide/indexing.html#returning-a-view-versus-a-copy\n"
     ]
    }
   ],
   "source": [
    "list=  [ \"Hospital County\",\"Age Group\"\n",
    "    ,\"Gender\",   \n",
    " \"Race\" , \n",
    "\"Ethnicity\", \n",
    "\"Gender\" , \n",
    "\"Race\" ,    \n",
    " \"Ethnicity\" ,        \n",
    " \"Type of Admission\"  ,  \n",
    "  \"Patient Disposition\",      \n",
    " \"Type of Admission\" ,  \n",
    " \"Patient Disposition\"  ,\n",
    "  \"APR Risk of Mortality\" ,   \n",
    " \"APR Medical Surgical Description\" ,\n",
    " \"Payment Typology 1\"   ,   \n",
    " \"Abortion Edit Indicator\"     ,  \n",
    " \"Emergency Department Indicator\",\n",
    "       \"Zip Code - 3 digits\",\"Payment Typology 2\"        \n",
    "   ,\"Payment Typology 3\"]  \n",
    "\n",
    "# Import label encoder\n",
    "from sklearn import preprocessing\n",
    "  \n",
    "# label_encoder object knows how to understand word labels.        \n",
    "   \n",
    "label_encoder = preprocessing.LabelEncoder()\n",
    "  \n",
    "# Encode labels in column 'species'. \n",
    "for col in list :\n",
    "  Burdett_df[col]= label_encoder.fit_transform(Burdett_df[col])"
   ]
  },
  {
   "cell_type": "code",
   "execution_count": 162,
   "id": "93696b03",
   "metadata": {
    "execution": {
     "iopub.execute_input": "2023-02-21T19:33:37.889143Z",
     "iopub.status.busy": "2023-02-21T19:33:37.888137Z",
     "iopub.status.idle": "2023-02-21T19:33:37.906469Z",
     "shell.execute_reply": "2023-02-21T19:33:37.905064Z"
    },
    "id": "3e0dc99c",
    "outputId": "02f65775-f298-4ad6-e982-360ac8987655",
    "papermill": {
     "duration": 0.102293,
     "end_time": "2023-02-21T19:33:37.910164",
     "exception": false,
     "start_time": "2023-02-21T19:33:37.807871",
     "status": "completed"
    },
    "tags": []
   },
   "outputs": [
    {
     "name": "stdout",
     "output_type": "stream",
     "text": [
      "<class 'pandas.core.frame.DataFrame'>\n",
      "Int64Index: 2007 entries, 664931 to 666956\n",
      "Data columns (total 28 columns):\n",
      " #   Column                            Non-Null Count  Dtype  \n",
      "---  ------                            --------------  -----  \n",
      " 0   Hospital County                   2007 non-null   int64  \n",
      " 1   Operating Certificate Number      2007 non-null   float64\n",
      " 2   Facility Id                       2007 non-null   float64\n",
      " 3   Facility Name                     2007 non-null   object \n",
      " 4   Age Group                         2007 non-null   int64  \n",
      " 5   Zip Code - 3 digits               2007 non-null   int64  \n",
      " 6   Gender                            2007 non-null   int64  \n",
      " 7   Race                              2007 non-null   int64  \n",
      " 8   Ethnicity                         2007 non-null   int64  \n",
      " 9   Length of Stay                    2007 non-null   int64  \n",
      " 10  Type of Admission                 2007 non-null   int64  \n",
      " 11  Patient Disposition               2007 non-null   int64  \n",
      " 12  Discharge Year                    2007 non-null   int64  \n",
      " 13  CCS Diagnosis Code                2007 non-null   int64  \n",
      " 14  CCS Procedure Code                2007 non-null   int64  \n",
      " 15  APR DRG Code                      2007 non-null   int64  \n",
      " 16  APR MDC Code                      2007 non-null   int64  \n",
      " 17  APR Severity of Illness Code      2007 non-null   int64  \n",
      " 18  APR Risk of Mortality             2007 non-null   int64  \n",
      " 19  APR Medical Surgical Description  2007 non-null   int64  \n",
      " 20  Payment Typology 1                2007 non-null   int64  \n",
      " 21  Payment Typology 2                2007 non-null   int64  \n",
      " 22  Payment Typology 3                2007 non-null   int64  \n",
      " 23  Birth Weight                      2007 non-null   int64  \n",
      " 24  Abortion Edit Indicator           2007 non-null   int64  \n",
      " 25  Emergency Department Indicator    2007 non-null   int64  \n",
      " 26  Total Charges                     2007 non-null   float64\n",
      " 27  Total Costs                       2007 non-null   float64\n",
      "dtypes: float64(4), int64(23), object(1)\n",
      "memory usage: 454.7+ KB\n"
     ]
    }
   ],
   "source": [
    "Burdett_df.info()"
   ]
  },
  {
   "cell_type": "code",
   "execution_count": 163,
   "id": "500b3a5a",
   "metadata": {
    "execution": {
     "iopub.execute_input": "2023-02-21T19:33:38.070947Z",
     "iopub.status.busy": "2023-02-21T19:33:38.070521Z",
     "iopub.status.idle": "2023-02-21T19:33:38.077704Z",
     "shell.execute_reply": "2023-02-21T19:33:38.076862Z"
    },
    "id": "ac648427",
    "papermill": {
     "duration": 0.089625,
     "end_time": "2023-02-21T19:33:38.080081",
     "exception": false,
     "start_time": "2023-02-21T19:33:37.990456",
     "status": "completed"
    },
    "tags": []
   },
   "outputs": [],
   "source": [
    "Burdett_df=Burdett_df.drop(\"Facility Name\", axis=1)"
   ]
  },
  {
   "cell_type": "code",
   "execution_count": 164,
   "id": "4477aa39",
   "metadata": {
    "execution": {
     "iopub.execute_input": "2023-02-21T19:33:38.245099Z",
     "iopub.status.busy": "2023-02-21T19:33:38.244403Z",
     "iopub.status.idle": "2023-02-21T19:33:38.250378Z",
     "shell.execute_reply": "2023-02-21T19:33:38.249593Z"
    },
    "id": "3b5b4619",
    "papermill": {
     "duration": 0.08889,
     "end_time": "2023-02-21T19:33:38.252445",
     "exception": false,
     "start_time": "2023-02-21T19:33:38.163555",
     "status": "completed"
    },
    "tags": []
   },
   "outputs": [],
   "source": [
    "x = Burdett_df.drop([\"Length of Stay\"], axis =1)\n",
    "y = Burdett_df[\"Length of Stay\"]"
   ]
  },
  {
   "cell_type": "code",
   "execution_count": 165,
   "id": "d6048fa0",
   "metadata": {
    "execution": {
     "iopub.execute_input": "2023-02-21T19:33:38.412906Z",
     "iopub.status.busy": "2023-02-21T19:33:38.411148Z",
     "iopub.status.idle": "2023-02-21T19:33:38.420145Z",
     "shell.execute_reply": "2023-02-21T19:33:38.419054Z"
    },
    "id": "60b4c58b",
    "papermill": {
     "duration": 0.09161,
     "end_time": "2023-02-21T19:33:38.422646",
     "exception": false,
     "start_time": "2023-02-21T19:33:38.331036",
     "status": "completed"
    },
    "tags": []
   },
   "outputs": [],
   "source": [
    "from sklearn.model_selection import train_test_split\n",
    "x_train, x_test, y_train, y_test = train_test_split(x, y, test_size=0.3, random_state=42)"
   ]
  },
  {
   "cell_type": "code",
   "execution_count": 166,
   "id": "1b5d9375",
   "metadata": {
    "execution": {
     "iopub.execute_input": "2023-02-21T19:33:38.582624Z",
     "iopub.status.busy": "2023-02-21T19:33:38.581844Z",
     "iopub.status.idle": "2023-02-21T19:33:38.601073Z",
     "shell.execute_reply": "2023-02-21T19:33:38.599448Z"
    },
    "id": "58959d80",
    "papermill": {
     "duration": 0.103414,
     "end_time": "2023-02-21T19:33:38.605365",
     "exception": false,
     "start_time": "2023-02-21T19:33:38.501951",
     "status": "completed"
    },
    "tags": []
   },
   "outputs": [],
   "source": [
    "# Linear Regression\n",
    "\n",
    "LR = LinearRegression()\n",
    "LR.fit(x_train, y_train)\n",
    "LR.score(x_train, y_train)\n",
    "y_pred =LR.predict(x_test)"
   ]
  },
  {
   "cell_type": "code",
   "execution_count": 167,
   "id": "e60bb391",
   "metadata": {
    "execution": {
     "iopub.execute_input": "2023-02-21T19:33:38.834647Z",
     "iopub.status.busy": "2023-02-21T19:33:38.834267Z",
     "iopub.status.idle": "2023-02-21T19:33:38.843011Z",
     "shell.execute_reply": "2023-02-21T19:33:38.841845Z"
    },
    "id": "ffb685b2",
    "outputId": "06ecf09b-ddc3-46a8-c0a2-ccb555ef87fc",
    "papermill": {
     "duration": 0.094362,
     "end_time": "2023-02-21T19:33:38.845392",
     "exception": false,
     "start_time": "2023-02-21T19:33:38.751030",
     "status": "completed"
    },
    "tags": []
   },
   "outputs": [
    {
     "data": {
      "text/plain": [
       "0.8723056813594046"
      ]
     },
     "execution_count": 167,
     "metadata": {},
     "output_type": "execute_result"
    }
   ],
   "source": [
    "r2 = r2_score(y_test, y_pred)\n",
    "r2 \n"
   ]
  },
  {
   "cell_type": "code",
   "execution_count": 168,
   "id": "b8df7889",
   "metadata": {
    "execution": {
     "iopub.execute_input": "2023-02-21T19:33:39.013250Z",
     "iopub.status.busy": "2023-02-21T19:33:39.012422Z",
     "iopub.status.idle": "2023-02-21T19:33:39.020943Z",
     "shell.execute_reply": "2023-02-21T19:33:39.019744Z"
    },
    "id": "117fe58a",
    "outputId": "783d8868-07ef-4f37-9afa-42abdfc64d1b",
    "papermill": {
     "duration": 0.094864,
     "end_time": "2023-02-21T19:33:39.023324",
     "exception": false,
     "start_time": "2023-02-21T19:33:38.928460",
     "status": "completed"
    },
    "tags": []
   },
   "outputs": [
    {
     "data": {
      "text/plain": [
       "0.23125353938413457"
      ]
     },
     "execution_count": 168,
     "metadata": {},
     "output_type": "execute_result"
    }
   ],
   "source": [
    "# calculate the MAE of the model\n",
    "mae = mean_absolute_error(y_test, y_pred)\n",
    "mae"
   ]
  },
  {
   "cell_type": "code",
   "execution_count": 169,
   "id": "f0079e92",
   "metadata": {
    "execution": {
     "iopub.execute_input": "2023-02-21T19:33:39.187201Z",
     "iopub.status.busy": "2023-02-21T19:33:39.186798Z",
     "iopub.status.idle": "2023-02-21T19:33:39.194667Z",
     "shell.execute_reply": "2023-02-21T19:33:39.193541Z"
    },
    "id": "ef97ba02",
    "outputId": "f3261db9-e9d5-477f-86f6-e93d43f5a014",
    "papermill": {
     "duration": 0.091589,
     "end_time": "2023-02-21T19:33:39.196850",
     "exception": false,
     "start_time": "2023-02-21T19:33:39.105261",
     "status": "completed"
    },
    "tags": []
   },
   "outputs": [
    {
     "data": {
      "text/plain": [
       "0.1265392685345504"
      ]
     },
     "execution_count": 169,
     "metadata": {},
     "output_type": "execute_result"
    }
   ],
   "source": [
    "# calculate the MSE of the model\n",
    "mse = mean_squared_error(y_test, y_pred)\n",
    "mse"
   ]
  },
  {
   "cell_type": "code",
   "execution_count": 170,
   "id": "f5d552f0",
   "metadata": {
    "execution": {
     "iopub.execute_input": "2023-02-21T19:33:39.358970Z",
     "iopub.status.busy": "2023-02-21T19:33:39.357947Z",
     "iopub.status.idle": "2023-02-21T19:33:39.365043Z",
     "shell.execute_reply": "2023-02-21T19:33:39.364091Z"
    },
    "id": "5fe6e211",
    "outputId": "60dd7593-5a09-4206-d36f-0b891ce06224",
    "papermill": {
     "duration": 0.089586,
     "end_time": "2023-02-21T19:33:39.367277",
     "exception": false,
     "start_time": "2023-02-21T19:33:39.277691",
     "status": "completed"
    },
    "tags": []
   },
   "outputs": [
    {
     "data": {
      "text/plain": [
       "0.3557235844508351"
      ]
     },
     "execution_count": 170,
     "metadata": {},
     "output_type": "execute_result"
    }
   ],
   "source": [
    "# calculate the RMSE of the model\n",
    "rmse = np.sqrt(mse)\n",
    "rmse"
   ]
  },
  {
   "cell_type": "code",
   "execution_count": 171,
   "id": "104fa400",
   "metadata": {
    "execution": {
     "iopub.execute_input": "2023-02-21T19:33:39.529667Z",
     "iopub.status.busy": "2023-02-21T19:33:39.528908Z",
     "iopub.status.idle": "2023-02-21T19:33:39.562901Z",
     "shell.execute_reply": "2023-02-21T19:33:39.561219Z"
    },
    "id": "ffeb5f54",
    "papermill": {
     "duration": 0.119229,
     "end_time": "2023-02-21T19:33:39.566707",
     "exception": false,
     "start_time": "2023-02-21T19:33:39.447478",
     "status": "completed"
    },
    "tags": []
   },
   "outputs": [],
   "source": [
    "# LASSO\n",
    "L1 = linear_model.Lasso()\n",
    "L1.fit(x_train,y_train)\n",
    "y_pred1 = L1.predict(x_test)"
   ]
  },
  {
   "cell_type": "code",
   "execution_count": 172,
   "id": "e56258f3",
   "metadata": {
    "execution": {
     "iopub.execute_input": "2023-02-21T19:33:39.801871Z",
     "iopub.status.busy": "2023-02-21T19:33:39.801437Z",
     "iopub.status.idle": "2023-02-21T19:33:39.809725Z",
     "shell.execute_reply": "2023-02-21T19:33:39.808476Z"
    },
    "id": "f3a88b8f",
    "outputId": "27f49a83-6a9a-4619-88c8-bee202f0d2a1",
    "papermill": {
     "duration": 0.092469,
     "end_time": "2023-02-21T19:33:39.812192",
     "exception": false,
     "start_time": "2023-02-21T19:33:39.719723",
     "status": "completed"
    },
    "tags": []
   },
   "outputs": [
    {
     "data": {
      "text/plain": [
       "0.3459801547925998"
      ]
     },
     "execution_count": 172,
     "metadata": {},
     "output_type": "execute_result"
    }
   ],
   "source": [
    "# calculate the MAE of the model\n",
    "mae = mean_absolute_error(y_test, y_pred1)\n",
    "mae"
   ]
  },
  {
   "cell_type": "code",
   "execution_count": 173,
   "id": "a5cb154a",
   "metadata": {
    "execution": {
     "iopub.execute_input": "2023-02-21T19:33:39.973357Z",
     "iopub.status.busy": "2023-02-21T19:33:39.972951Z",
     "iopub.status.idle": "2023-02-21T19:33:39.981301Z",
     "shell.execute_reply": "2023-02-21T19:33:39.980111Z"
    },
    "id": "46f4cb33",
    "outputId": "efc37167-b1b1-4e2b-bcd8-cb81a7275d54",
    "papermill": {
     "duration": 0.091906,
     "end_time": "2023-02-21T19:33:39.983459",
     "exception": false,
     "start_time": "2023-02-21T19:33:39.891553",
     "status": "completed"
    },
    "tags": []
   },
   "outputs": [
    {
     "data": {
      "text/plain": [
       "0.3101903514122998"
      ]
     },
     "execution_count": 173,
     "metadata": {},
     "output_type": "execute_result"
    }
   ],
   "source": [
    "# calculate the MSE of the model\n",
    "mse = mean_squared_error(y_test, y_pred1)\n",
    "mse"
   ]
  },
  {
   "cell_type": "code",
   "execution_count": 174,
   "id": "21e49b0b",
   "metadata": {
    "execution": {
     "iopub.execute_input": "2023-02-21T19:33:40.151405Z",
     "iopub.status.busy": "2023-02-21T19:33:40.150986Z",
     "iopub.status.idle": "2023-02-21T19:33:40.158816Z",
     "shell.execute_reply": "2023-02-21T19:33:40.157626Z"
    },
    "id": "c9217d00",
    "outputId": "13ca9cef-a01c-4266-a54d-9f3d201f11e2",
    "papermill": {
     "duration": 0.097867,
     "end_time": "2023-02-21T19:33:40.160977",
     "exception": false,
     "start_time": "2023-02-21T19:33:40.063110",
     "status": "completed"
    },
    "tags": []
   },
   "outputs": [
    {
     "data": {
      "text/plain": [
       "0.5569473506645846"
      ]
     },
     "execution_count": 174,
     "metadata": {},
     "output_type": "execute_result"
    }
   ],
   "source": [
    "# calculate the RMSE of the model\n",
    "rmse = np.sqrt(mse)\n",
    "rmse"
   ]
  },
  {
   "cell_type": "code",
   "execution_count": 175,
   "id": "6349f962",
   "metadata": {
    "execution": {
     "iopub.execute_input": "2023-02-21T19:33:40.321333Z",
     "iopub.status.busy": "2023-02-21T19:33:40.320882Z",
     "iopub.status.idle": "2023-02-21T19:33:40.333408Z",
     "shell.execute_reply": "2023-02-21T19:33:40.331836Z"
    },
    "id": "fafb2642",
    "outputId": "04c4e441-d2ee-4242-ffd9-886c482d7ba4",
    "papermill": {
     "duration": 0.096579,
     "end_time": "2023-02-21T19:33:40.336195",
     "exception": false,
     "start_time": "2023-02-21T19:33:40.239616",
     "status": "completed"
    },
    "tags": []
   },
   "outputs": [
    {
     "data": {
      "text/plain": [
       "0.6869782318864484"
      ]
     },
     "execution_count": 175,
     "metadata": {},
     "output_type": "execute_result"
    }
   ],
   "source": [
    "r2 = r2_score(y_test, y_pred1)\n",
    "r2 \n"
   ]
  },
  {
   "cell_type": "code",
   "execution_count": 176,
   "id": "aa683f1b",
   "metadata": {
    "execution": {
     "iopub.execute_input": "2023-02-21T19:33:40.511627Z",
     "iopub.status.busy": "2023-02-21T19:33:40.511222Z",
     "iopub.status.idle": "2023-02-21T19:33:40.529159Z",
     "shell.execute_reply": "2023-02-21T19:33:40.527495Z"
    },
    "id": "d09b61f7",
    "papermill": {
     "duration": 0.105503,
     "end_time": "2023-02-21T19:33:40.533838",
     "exception": false,
     "start_time": "2023-02-21T19:33:40.428335",
     "status": "completed"
    },
    "tags": []
   },
   "outputs": [],
   "source": [
    "# Ridge\n",
    "L2 = Ridge(alpha=1.0)\n",
    "L2.fit(x_train, y_train) \n",
    "y_pred3 = L2.predict(x_test)"
   ]
  },
  {
   "cell_type": "code",
   "execution_count": 177,
   "id": "a2054695",
   "metadata": {
    "execution": {
     "iopub.execute_input": "2023-02-21T19:33:40.767955Z",
     "iopub.status.busy": "2023-02-21T19:33:40.767531Z",
     "iopub.status.idle": "2023-02-21T19:33:40.775397Z",
     "shell.execute_reply": "2023-02-21T19:33:40.774405Z"
    },
    "id": "3f2e5e0d",
    "outputId": "1eafb739-70ed-4a79-9128-f317aa605e6e",
    "papermill": {
     "duration": 0.0911,
     "end_time": "2023-02-21T19:33:40.777521",
     "exception": false,
     "start_time": "2023-02-21T19:33:40.686421",
     "status": "completed"
    },
    "tags": []
   },
   "outputs": [
    {
     "data": {
      "text/plain": [
       "0.8810130092697138"
      ]
     },
     "execution_count": 177,
     "metadata": {},
     "output_type": "execute_result"
    }
   ],
   "source": [
    "r2 = r2_score(y_test, y_pred3)\n",
    "r2 "
   ]
  },
  {
   "cell_type": "code",
   "execution_count": 178,
   "id": "2efc45f3",
   "metadata": {
    "execution": {
     "iopub.execute_input": "2023-02-21T19:33:41.000510Z",
     "iopub.status.busy": "2023-02-21T19:33:40.999429Z",
     "iopub.status.idle": "2023-02-21T19:33:41.006662Z",
     "shell.execute_reply": "2023-02-21T19:33:41.005870Z"
    },
    "id": "175fbbc6",
    "outputId": "13d27166-1701-4d4c-fb82-ee4f73852ef1",
    "papermill": {
     "duration": 0.148513,
     "end_time": "2023-02-21T19:33:41.009035",
     "exception": false,
     "start_time": "2023-02-21T19:33:40.860522",
     "status": "completed"
    },
    "tags": []
   },
   "outputs": [
    {
     "data": {
      "text/plain": [
       "0.2269137110295729"
      ]
     },
     "execution_count": 178,
     "metadata": {},
     "output_type": "execute_result"
    }
   ],
   "source": [
    "# calculate the MAE of the model\n",
    "mae = mean_absolute_error(y_test, y_pred3)\n",
    "mae"
   ]
  },
  {
   "cell_type": "code",
   "execution_count": 179,
   "id": "b0e71b3d",
   "metadata": {
    "execution": {
     "iopub.execute_input": "2023-02-21T19:33:41.176577Z",
     "iopub.status.busy": "2023-02-21T19:33:41.175863Z",
     "iopub.status.idle": "2023-02-21T19:33:41.183313Z",
     "shell.execute_reply": "2023-02-21T19:33:41.182154Z"
    },
    "id": "fa6491c7",
    "outputId": "25d3b639-e750-4784-a290-fd7295db5fd0",
    "papermill": {
     "duration": 0.096166,
     "end_time": "2023-02-21T19:33:41.185447",
     "exception": false,
     "start_time": "2023-02-21T19:33:41.089281",
     "status": "completed"
    },
    "tags": []
   },
   "outputs": [
    {
     "data": {
      "text/plain": [
       "0.11791070215516318"
      ]
     },
     "execution_count": 179,
     "metadata": {},
     "output_type": "execute_result"
    }
   ],
   "source": [
    "# calculate the MSE of the model\n",
    "mse = mean_squared_error(y_test, y_pred3)\n",
    "mse"
   ]
  },
  {
   "cell_type": "code",
   "execution_count": 180,
   "id": "40b8ae36",
   "metadata": {
    "execution": {
     "iopub.execute_input": "2023-02-21T19:33:41.346526Z",
     "iopub.status.busy": "2023-02-21T19:33:41.345833Z",
     "iopub.status.idle": "2023-02-21T19:33:41.351632Z",
     "shell.execute_reply": "2023-02-21T19:33:41.350870Z"
    },
    "id": "3f4d717b",
    "outputId": "d854e4e9-2f5f-4d96-a2cc-905e6d6fb1ef",
    "papermill": {
     "duration": 0.088751,
     "end_time": "2023-02-21T19:33:41.353680",
     "exception": false,
     "start_time": "2023-02-21T19:33:41.264929",
     "status": "completed"
    },
    "tags": []
   },
   "outputs": [
    {
     "data": {
      "text/plain": [
       "0.3433812781081158"
      ]
     },
     "execution_count": 180,
     "metadata": {},
     "output_type": "execute_result"
    }
   ],
   "source": [
    "# calculate the RMSE of the model\n",
    "rmse = np.sqrt(mse)\n",
    "rmse"
   ]
  },
  {
   "cell_type": "markdown",
   "id": "5fbb01a6",
   "metadata": {
    "id": "adb2f8ed",
    "papermill": {
     "duration": 0.07906,
     "end_time": "2023-02-21T19:33:41.512189",
     "exception": false,
     "start_time": "2023-02-21T19:33:41.433129",
     "status": "completed"
    },
    "tags": []
   },
   "source": [
    "##Client 8: Putnam Hospital Center"
   ]
  },
  {
   "cell_type": "code",
   "execution_count": 181,
   "id": "3e946844",
   "metadata": {
    "execution": {
     "iopub.execute_input": "2023-02-21T19:33:41.673381Z",
     "iopub.status.busy": "2023-02-21T19:33:41.672416Z",
     "iopub.status.idle": "2023-02-21T19:33:41.828478Z",
     "shell.execute_reply": "2023-02-21T19:33:41.827236Z"
    },
    "id": "e68c7b2e",
    "papermill": {
     "duration": 0.239721,
     "end_time": "2023-02-21T19:33:41.831309",
     "exception": false,
     "start_time": "2023-02-21T19:33:41.591588",
     "status": "completed"
    },
    "tags": []
   },
   "outputs": [],
   "source": [
    "Putnam_df=df[df[\"Facility Name\"]== \"Putnam Hospital Center\"]"
   ]
  },
  {
   "cell_type": "code",
   "execution_count": 182,
   "id": "890c5bd8",
   "metadata": {
    "execution": {
     "iopub.execute_input": "2023-02-21T19:33:41.995237Z",
     "iopub.status.busy": "2023-02-21T19:33:41.994406Z",
     "iopub.status.idle": "2023-02-21T19:33:42.036167Z",
     "shell.execute_reply": "2023-02-21T19:33:42.034831Z"
    },
    "id": "167b8be0",
    "outputId": "99c5c65a-416b-4c83-aec9-677484dcdeef",
    "papermill": {
     "duration": 0.127148,
     "end_time": "2023-02-21T19:33:42.038683",
     "exception": false,
     "start_time": "2023-02-21T19:33:41.911535",
     "status": "completed"
    },
    "tags": []
   },
   "outputs": [
    {
     "data": {
      "text/html": [
       "<div>\n",
       "<style scoped>\n",
       "    .dataframe tbody tr th:only-of-type {\n",
       "        vertical-align: middle;\n",
       "    }\n",
       "\n",
       "    .dataframe tbody tr th {\n",
       "        vertical-align: top;\n",
       "    }\n",
       "\n",
       "    .dataframe thead th {\n",
       "        text-align: right;\n",
       "    }\n",
       "</style>\n",
       "<table border=\"1\" class=\"dataframe\">\n",
       "  <thead>\n",
       "    <tr style=\"text-align: right;\">\n",
       "      <th></th>\n",
       "      <th>Hospital County</th>\n",
       "      <th>Operating Certificate Number</th>\n",
       "      <th>Facility Id</th>\n",
       "      <th>Facility Name</th>\n",
       "      <th>Age Group</th>\n",
       "      <th>Zip Code - 3 digits</th>\n",
       "      <th>Gender</th>\n",
       "      <th>Race</th>\n",
       "      <th>Ethnicity</th>\n",
       "      <th>Length of Stay</th>\n",
       "      <th>...</th>\n",
       "      <th>APR Risk of Mortality</th>\n",
       "      <th>APR Medical Surgical Description</th>\n",
       "      <th>Payment Typology 1</th>\n",
       "      <th>Payment Typology 2</th>\n",
       "      <th>Payment Typology 3</th>\n",
       "      <th>Birth Weight</th>\n",
       "      <th>Abortion Edit Indicator</th>\n",
       "      <th>Emergency Department Indicator</th>\n",
       "      <th>Total Charges</th>\n",
       "      <th>Total Costs</th>\n",
       "    </tr>\n",
       "  </thead>\n",
       "  <tbody>\n",
       "    <tr>\n",
       "      <th>700137</th>\n",
       "      <td>Putnam</td>\n",
       "      <td>3950000.0</td>\n",
       "      <td>752.0</td>\n",
       "      <td>Putnam Hospital Center</td>\n",
       "      <td>18 to 29</td>\n",
       "      <td>105</td>\n",
       "      <td>F</td>\n",
       "      <td>Other Race</td>\n",
       "      <td>Unknown</td>\n",
       "      <td>2</td>\n",
       "      <td>...</td>\n",
       "      <td>Minor</td>\n",
       "      <td>Medical</td>\n",
       "      <td>Medicaid</td>\n",
       "      <td>NaN</td>\n",
       "      <td>NaN</td>\n",
       "      <td>0</td>\n",
       "      <td>N</td>\n",
       "      <td>N</td>\n",
       "      <td>7555.49</td>\n",
       "      <td>2300.42</td>\n",
       "    </tr>\n",
       "    <tr>\n",
       "      <th>705867</th>\n",
       "      <td>Putnam</td>\n",
       "      <td>3950000.0</td>\n",
       "      <td>752.0</td>\n",
       "      <td>Putnam Hospital Center</td>\n",
       "      <td>18 to 29</td>\n",
       "      <td>NaN</td>\n",
       "      <td>M</td>\n",
       "      <td>Other Race</td>\n",
       "      <td>Unknown</td>\n",
       "      <td>4</td>\n",
       "      <td>...</td>\n",
       "      <td>Minor</td>\n",
       "      <td>Medical</td>\n",
       "      <td>Medicaid</td>\n",
       "      <td>NaN</td>\n",
       "      <td>NaN</td>\n",
       "      <td>0</td>\n",
       "      <td>N</td>\n",
       "      <td>N</td>\n",
       "      <td>13976.15</td>\n",
       "      <td>4054.04</td>\n",
       "    </tr>\n",
       "    <tr>\n",
       "      <th>706214</th>\n",
       "      <td>Putnam</td>\n",
       "      <td>3950000.0</td>\n",
       "      <td>752.0</td>\n",
       "      <td>Putnam Hospital Center</td>\n",
       "      <td>30 to 49</td>\n",
       "      <td>124</td>\n",
       "      <td>M</td>\n",
       "      <td>White</td>\n",
       "      <td>Not Span/Hispanic</td>\n",
       "      <td>3</td>\n",
       "      <td>...</td>\n",
       "      <td>Minor</td>\n",
       "      <td>Medical</td>\n",
       "      <td>Medicare</td>\n",
       "      <td>Medicaid</td>\n",
       "      <td>NaN</td>\n",
       "      <td>0</td>\n",
       "      <td>N</td>\n",
       "      <td>N</td>\n",
       "      <td>11769.89</td>\n",
       "      <td>3366.13</td>\n",
       "    </tr>\n",
       "    <tr>\n",
       "      <th>706501</th>\n",
       "      <td>Putnam</td>\n",
       "      <td>3950000.0</td>\n",
       "      <td>752.0</td>\n",
       "      <td>Putnam Hospital Center</td>\n",
       "      <td>18 to 29</td>\n",
       "      <td>105</td>\n",
       "      <td>M</td>\n",
       "      <td>Other Race</td>\n",
       "      <td>Unknown</td>\n",
       "      <td>5</td>\n",
       "      <td>...</td>\n",
       "      <td>Minor</td>\n",
       "      <td>Medical</td>\n",
       "      <td>Medicaid</td>\n",
       "      <td>NaN</td>\n",
       "      <td>NaN</td>\n",
       "      <td>0</td>\n",
       "      <td>N</td>\n",
       "      <td>Y</td>\n",
       "      <td>19054.70</td>\n",
       "      <td>5566.92</td>\n",
       "    </tr>\n",
       "    <tr>\n",
       "      <th>706962</th>\n",
       "      <td>Putnam</td>\n",
       "      <td>3950000.0</td>\n",
       "      <td>752.0</td>\n",
       "      <td>Putnam Hospital Center</td>\n",
       "      <td>18 to 29</td>\n",
       "      <td>125</td>\n",
       "      <td>M</td>\n",
       "      <td>White</td>\n",
       "      <td>Not Span/Hispanic</td>\n",
       "      <td>10</td>\n",
       "      <td>...</td>\n",
       "      <td>Minor</td>\n",
       "      <td>Medical</td>\n",
       "      <td>Medicaid</td>\n",
       "      <td>NaN</td>\n",
       "      <td>NaN</td>\n",
       "      <td>0</td>\n",
       "      <td>N</td>\n",
       "      <td>Y</td>\n",
       "      <td>35729.45</td>\n",
       "      <td>10557.89</td>\n",
       "    </tr>\n",
       "    <tr>\n",
       "      <th>...</th>\n",
       "      <td>...</td>\n",
       "      <td>...</td>\n",
       "      <td>...</td>\n",
       "      <td>...</td>\n",
       "      <td>...</td>\n",
       "      <td>...</td>\n",
       "      <td>...</td>\n",
       "      <td>...</td>\n",
       "      <td>...</td>\n",
       "      <td>...</td>\n",
       "      <td>...</td>\n",
       "      <td>...</td>\n",
       "      <td>...</td>\n",
       "      <td>...</td>\n",
       "      <td>...</td>\n",
       "      <td>...</td>\n",
       "      <td>...</td>\n",
       "      <td>...</td>\n",
       "      <td>...</td>\n",
       "      <td>...</td>\n",
       "      <td>...</td>\n",
       "    </tr>\n",
       "    <tr>\n",
       "      <th>745889</th>\n",
       "      <td>Putnam</td>\n",
       "      <td>3950000.0</td>\n",
       "      <td>752.0</td>\n",
       "      <td>Putnam Hospital Center</td>\n",
       "      <td>70 or Older</td>\n",
       "      <td>105</td>\n",
       "      <td>M</td>\n",
       "      <td>White</td>\n",
       "      <td>Not Span/Hispanic</td>\n",
       "      <td>3</td>\n",
       "      <td>...</td>\n",
       "      <td>Major</td>\n",
       "      <td>Medical</td>\n",
       "      <td>Medicare</td>\n",
       "      <td>Blue Cross/Blue Shield</td>\n",
       "      <td>NaN</td>\n",
       "      <td>0</td>\n",
       "      <td>N</td>\n",
       "      <td>Y</td>\n",
       "      <td>26577.54</td>\n",
       "      <td>7658.91</td>\n",
       "    </tr>\n",
       "    <tr>\n",
       "      <th>745890</th>\n",
       "      <td>Putnam</td>\n",
       "      <td>3950000.0</td>\n",
       "      <td>752.0</td>\n",
       "      <td>Putnam Hospital Center</td>\n",
       "      <td>18 to 29</td>\n",
       "      <td>105</td>\n",
       "      <td>F</td>\n",
       "      <td>White</td>\n",
       "      <td>Not Span/Hispanic</td>\n",
       "      <td>1</td>\n",
       "      <td>...</td>\n",
       "      <td>Minor</td>\n",
       "      <td>Medical</td>\n",
       "      <td>Managed Care, Unspecified</td>\n",
       "      <td>NaN</td>\n",
       "      <td>NaN</td>\n",
       "      <td>0</td>\n",
       "      <td>N</td>\n",
       "      <td>Y</td>\n",
       "      <td>11475.15</td>\n",
       "      <td>3425.98</td>\n",
       "    </tr>\n",
       "    <tr>\n",
       "      <th>745891</th>\n",
       "      <td>Putnam</td>\n",
       "      <td>3950000.0</td>\n",
       "      <td>752.0</td>\n",
       "      <td>Putnam Hospital Center</td>\n",
       "      <td>30 to 49</td>\n",
       "      <td>105</td>\n",
       "      <td>M</td>\n",
       "      <td>White</td>\n",
       "      <td>Not Span/Hispanic</td>\n",
       "      <td>2</td>\n",
       "      <td>...</td>\n",
       "      <td>Moderate</td>\n",
       "      <td>Medical</td>\n",
       "      <td>Medicaid</td>\n",
       "      <td>NaN</td>\n",
       "      <td>NaN</td>\n",
       "      <td>0</td>\n",
       "      <td>N</td>\n",
       "      <td>Y</td>\n",
       "      <td>12504.90</td>\n",
       "      <td>3724.22</td>\n",
       "    </tr>\n",
       "    <tr>\n",
       "      <th>745892</th>\n",
       "      <td>Putnam</td>\n",
       "      <td>3950000.0</td>\n",
       "      <td>752.0</td>\n",
       "      <td>Putnam Hospital Center</td>\n",
       "      <td>70 or Older</td>\n",
       "      <td>125</td>\n",
       "      <td>F</td>\n",
       "      <td>White</td>\n",
       "      <td>Not Span/Hispanic</td>\n",
       "      <td>2</td>\n",
       "      <td>...</td>\n",
       "      <td>Minor</td>\n",
       "      <td>Medical</td>\n",
       "      <td>Blue Cross/Blue Shield</td>\n",
       "      <td>NaN</td>\n",
       "      <td>NaN</td>\n",
       "      <td>0</td>\n",
       "      <td>N</td>\n",
       "      <td>Y</td>\n",
       "      <td>15137.95</td>\n",
       "      <td>4513.10</td>\n",
       "    </tr>\n",
       "    <tr>\n",
       "      <th>745893</th>\n",
       "      <td>Putnam</td>\n",
       "      <td>3950000.0</td>\n",
       "      <td>752.0</td>\n",
       "      <td>Putnam Hospital Center</td>\n",
       "      <td>50 to 69</td>\n",
       "      <td>125</td>\n",
       "      <td>M</td>\n",
       "      <td>Black/African American</td>\n",
       "      <td>Not Span/Hispanic</td>\n",
       "      <td>3</td>\n",
       "      <td>...</td>\n",
       "      <td>Moderate</td>\n",
       "      <td>Medical</td>\n",
       "      <td>Medicare</td>\n",
       "      <td>Medicaid</td>\n",
       "      <td>NaN</td>\n",
       "      <td>0</td>\n",
       "      <td>N</td>\n",
       "      <td>Y</td>\n",
       "      <td>23584.89</td>\n",
       "      <td>7014.46</td>\n",
       "    </tr>\n",
       "  </tbody>\n",
       "</table>\n",
       "<p>6785 rows × 28 columns</p>\n",
       "</div>"
      ],
      "text/plain": [
       "       Hospital County  Operating Certificate Number  Facility Id  \\\n",
       "700137          Putnam                     3950000.0        752.0   \n",
       "705867          Putnam                     3950000.0        752.0   \n",
       "706214          Putnam                     3950000.0        752.0   \n",
       "706501          Putnam                     3950000.0        752.0   \n",
       "706962          Putnam                     3950000.0        752.0   \n",
       "...                ...                           ...          ...   \n",
       "745889          Putnam                     3950000.0        752.0   \n",
       "745890          Putnam                     3950000.0        752.0   \n",
       "745891          Putnam                     3950000.0        752.0   \n",
       "745892          Putnam                     3950000.0        752.0   \n",
       "745893          Putnam                     3950000.0        752.0   \n",
       "\n",
       "                 Facility Name    Age Group Zip Code - 3 digits Gender  \\\n",
       "700137  Putnam Hospital Center     18 to 29                 105      F   \n",
       "705867  Putnam Hospital Center     18 to 29                 NaN      M   \n",
       "706214  Putnam Hospital Center     30 to 49                 124      M   \n",
       "706501  Putnam Hospital Center     18 to 29                 105      M   \n",
       "706962  Putnam Hospital Center     18 to 29                 125      M   \n",
       "...                        ...          ...                 ...    ...   \n",
       "745889  Putnam Hospital Center  70 or Older                 105      M   \n",
       "745890  Putnam Hospital Center     18 to 29                 105      F   \n",
       "745891  Putnam Hospital Center     30 to 49                 105      M   \n",
       "745892  Putnam Hospital Center  70 or Older                 125      F   \n",
       "745893  Putnam Hospital Center     50 to 69                 125      M   \n",
       "\n",
       "                          Race          Ethnicity Length of Stay  ...  \\\n",
       "700137              Other Race            Unknown              2  ...   \n",
       "705867              Other Race            Unknown              4  ...   \n",
       "706214                   White  Not Span/Hispanic              3  ...   \n",
       "706501              Other Race            Unknown              5  ...   \n",
       "706962                   White  Not Span/Hispanic             10  ...   \n",
       "...                        ...                ...            ...  ...   \n",
       "745889                   White  Not Span/Hispanic              3  ...   \n",
       "745890                   White  Not Span/Hispanic              1  ...   \n",
       "745891                   White  Not Span/Hispanic              2  ...   \n",
       "745892                   White  Not Span/Hispanic              2  ...   \n",
       "745893  Black/African American  Not Span/Hispanic              3  ...   \n",
       "\n",
       "       APR Risk of Mortality APR Medical Surgical Description  \\\n",
       "700137                 Minor                          Medical   \n",
       "705867                 Minor                          Medical   \n",
       "706214                 Minor                          Medical   \n",
       "706501                 Minor                          Medical   \n",
       "706962                 Minor                          Medical   \n",
       "...                      ...                              ...   \n",
       "745889                 Major                          Medical   \n",
       "745890                 Minor                          Medical   \n",
       "745891              Moderate                          Medical   \n",
       "745892                 Minor                          Medical   \n",
       "745893              Moderate                          Medical   \n",
       "\n",
       "               Payment Typology 1      Payment Typology 2  Payment Typology 3  \\\n",
       "700137                   Medicaid                     NaN                 NaN   \n",
       "705867                   Medicaid                     NaN                 NaN   \n",
       "706214                   Medicare                Medicaid                 NaN   \n",
       "706501                   Medicaid                     NaN                 NaN   \n",
       "706962                   Medicaid                     NaN                 NaN   \n",
       "...                           ...                     ...                 ...   \n",
       "745889                   Medicare  Blue Cross/Blue Shield                 NaN   \n",
       "745890  Managed Care, Unspecified                     NaN                 NaN   \n",
       "745891                   Medicaid                     NaN                 NaN   \n",
       "745892     Blue Cross/Blue Shield                     NaN                 NaN   \n",
       "745893                   Medicare                Medicaid                 NaN   \n",
       "\n",
       "        Birth Weight  Abortion Edit Indicator  Emergency Department Indicator  \\\n",
       "700137             0                        N                               N   \n",
       "705867             0                        N                               N   \n",
       "706214             0                        N                               N   \n",
       "706501             0                        N                               Y   \n",
       "706962             0                        N                               Y   \n",
       "...              ...                      ...                             ...   \n",
       "745889             0                        N                               Y   \n",
       "745890             0                        N                               Y   \n",
       "745891             0                        N                               Y   \n",
       "745892             0                        N                               Y   \n",
       "745893             0                        N                               Y   \n",
       "\n",
       "       Total Charges Total Costs  \n",
       "700137       7555.49     2300.42  \n",
       "705867      13976.15     4054.04  \n",
       "706214      11769.89     3366.13  \n",
       "706501      19054.70     5566.92  \n",
       "706962      35729.45    10557.89  \n",
       "...              ...         ...  \n",
       "745889      26577.54     7658.91  \n",
       "745890      11475.15     3425.98  \n",
       "745891      12504.90     3724.22  \n",
       "745892      15137.95     4513.10  \n",
       "745893      23584.89     7014.46  \n",
       "\n",
       "[6785 rows x 28 columns]"
      ]
     },
     "execution_count": 182,
     "metadata": {},
     "output_type": "execute_result"
    }
   ],
   "source": [
    "Putnam_df\n"
   ]
  },
  {
   "cell_type": "code",
   "execution_count": 183,
   "id": "0e89835f",
   "metadata": {
    "execution": {
     "iopub.execute_input": "2023-02-21T19:33:42.215826Z",
     "iopub.status.busy": "2023-02-21T19:33:42.214897Z",
     "iopub.status.idle": "2023-02-21T19:33:42.239377Z",
     "shell.execute_reply": "2023-02-21T19:33:42.237980Z"
    },
    "id": "4b40a9be",
    "outputId": "db813082-62ec-418a-8587-b80d2597277d",
    "papermill": {
     "duration": 0.119282,
     "end_time": "2023-02-21T19:33:42.242947",
     "exception": false,
     "start_time": "2023-02-21T19:33:42.123665",
     "status": "completed"
    },
    "tags": []
   },
   "outputs": [
    {
     "name": "stdout",
     "output_type": "stream",
     "text": [
      "<class 'pandas.core.frame.DataFrame'>\n",
      "Int64Index: 6785 entries, 700137 to 745893\n",
      "Data columns (total 28 columns):\n",
      " #   Column                            Non-Null Count  Dtype   \n",
      "---  ------                            --------------  -----   \n",
      " 0   Hospital County                   6785 non-null   category\n",
      " 1   Operating Certificate Number      6785 non-null   float64 \n",
      " 2   Facility Id                       6785 non-null   float64 \n",
      " 3   Facility Name                     6785 non-null   object  \n",
      " 4   Age Group                         6785 non-null   category\n",
      " 5   Zip Code - 3 digits               6684 non-null   category\n",
      " 6   Gender                            6785 non-null   category\n",
      " 7   Race                              6785 non-null   category\n",
      " 8   Ethnicity                         6785 non-null   category\n",
      " 9   Length of Stay                    6785 non-null   category\n",
      " 10  Type of Admission                 6785 non-null   category\n",
      " 11  Patient Disposition               6785 non-null   category\n",
      " 12  Discharge Year                    6785 non-null   int64   \n",
      " 13  CCS Diagnosis Code                6785 non-null   int64   \n",
      " 14  CCS Procedure Code                6785 non-null   int64   \n",
      " 15  APR DRG Code                      6785 non-null   int64   \n",
      " 16  APR MDC Code                      6785 non-null   int64   \n",
      " 17  APR Severity of Illness Code      6785 non-null   int64   \n",
      " 18  APR Risk of Mortality             6785 non-null   category\n",
      " 19  APR Medical Surgical Description  6785 non-null   category\n",
      " 20  Payment Typology 1                6785 non-null   category\n",
      " 21  Payment Typology 2                3195 non-null   category\n",
      " 22  Payment Typology 3                236 non-null    category\n",
      " 23  Birth Weight                      6785 non-null   int64   \n",
      " 24  Abortion Edit Indicator           6785 non-null   category\n",
      " 25  Emergency Department Indicator    6785 non-null   category\n",
      " 26  Total Charges                     6785 non-null   float64 \n",
      " 27  Total Costs                       6785 non-null   float64 \n",
      "dtypes: category(16), float64(4), int64(7), object(1)\n",
      "memory usage: 819.8+ KB\n"
     ]
    }
   ],
   "source": [
    "Putnam_df.info()"
   ]
  },
  {
   "cell_type": "code",
   "execution_count": 184,
   "id": "d056be0e",
   "metadata": {
    "execution": {
     "iopub.execute_input": "2023-02-21T19:33:42.410162Z",
     "iopub.status.busy": "2023-02-21T19:33:42.409704Z",
     "iopub.status.idle": "2023-02-21T19:33:42.419725Z",
     "shell.execute_reply": "2023-02-21T19:33:42.418191Z"
    },
    "id": "625df111",
    "outputId": "f7890269-63a8-4ef9-e74c-e70f7ca5c37b",
    "papermill": {
     "duration": 0.095738,
     "end_time": "2023-02-21T19:33:42.422474",
     "exception": false,
     "start_time": "2023-02-21T19:33:42.326736",
     "status": "completed"
    },
    "tags": []
   },
   "outputs": [
    {
     "name": "stderr",
     "output_type": "stream",
     "text": [
      "/opt/conda/lib/python3.7/site-packages/ipykernel_launcher.py:3: SettingWithCopyWarning: \n",
      "A value is trying to be set on a copy of a slice from a DataFrame.\n",
      "Try using .loc[row_indexer,col_indexer] = value instead\n",
      "\n",
      "See the caveats in the documentation: https://pandas.pydata.org/pandas-docs/stable/user_guide/indexing.html#returning-a-view-versus-a-copy\n",
      "  This is separate from the ipykernel package so we can avoid doing imports until\n",
      "/opt/conda/lib/python3.7/site-packages/ipykernel_launcher.py:5: SettingWithCopyWarning: \n",
      "A value is trying to be set on a copy of a slice from a DataFrame.\n",
      "Try using .loc[row_indexer,col_indexer] = value instead\n",
      "\n",
      "See the caveats in the documentation: https://pandas.pydata.org/pandas-docs/stable/user_guide/indexing.html#returning-a-view-versus-a-copy\n",
      "  \"\"\"\n"
     ]
    }
   ],
   "source": [
    " #   simple mapping on binary features.\n",
    "Putnam_df['Abortion Edit Indicator'] = Putnam_df['Abortion Edit Indicator'].apply(\n",
    "     lambda x: 1 if x == 'Y' else (0 if x == 'N' else None))\n",
    "Putnam_df['Emergency Department Indicator'] = Putnam_df['Emergency Department Indicator'].apply(\n",
    "    lambda x: 1 if x == 'Y' else (0 if x == 'N' else None))"
   ]
  },
  {
   "cell_type": "code",
   "execution_count": 185,
   "id": "7736b195",
   "metadata": {
    "execution": {
     "iopub.execute_input": "2023-02-21T19:33:42.591402Z",
     "iopub.status.busy": "2023-02-21T19:33:42.591001Z",
     "iopub.status.idle": "2023-02-21T19:33:42.601155Z",
     "shell.execute_reply": "2023-02-21T19:33:42.600195Z"
    },
    "id": "ac0106c0",
    "outputId": "aae6b983-2705-4a25-ed17-3b66f553c17d",
    "papermill": {
     "duration": 0.098659,
     "end_time": "2023-02-21T19:33:42.604464",
     "exception": false,
     "start_time": "2023-02-21T19:33:42.505805",
     "status": "completed"
    },
    "tags": []
   },
   "outputs": [
    {
     "name": "stderr",
     "output_type": "stream",
     "text": [
      "/opt/conda/lib/python3.7/site-packages/ipykernel_launcher.py:1: SettingWithCopyWarning: \n",
      "A value is trying to be set on a copy of a slice from a DataFrame.\n",
      "Try using .loc[row_indexer,col_indexer] = value instead\n",
      "\n",
      "See the caveats in the documentation: https://pandas.pydata.org/pandas-docs/stable/user_guide/indexing.html#returning-a-view-versus-a-copy\n",
      "  \"\"\"Entry point for launching an IPython kernel.\n"
     ]
    }
   ],
   "source": [
    "Putnam_df[\"Length of Stay\"]=pd.to_numeric(Putnam_df[\"Length of Stay\"],errors='coerce')"
   ]
  },
  {
   "cell_type": "code",
   "execution_count": 186,
   "id": "f953d23d",
   "metadata": {
    "execution": {
     "iopub.execute_input": "2023-02-21T19:33:42.788328Z",
     "iopub.status.busy": "2023-02-21T19:33:42.787916Z",
     "iopub.status.idle": "2023-02-21T19:33:42.832858Z",
     "shell.execute_reply": "2023-02-21T19:33:42.831425Z"
    },
    "id": "efd88260",
    "outputId": "dd4497c7-a4b5-4016-dfc2-b10542f1516e",
    "papermill": {
     "duration": 0.139439,
     "end_time": "2023-02-21T19:33:42.835939",
     "exception": false,
     "start_time": "2023-02-21T19:33:42.696500",
     "status": "completed"
    },
    "tags": []
   },
   "outputs": [
    {
     "name": "stderr",
     "output_type": "stream",
     "text": [
      "/opt/conda/lib/python3.7/site-packages/ipykernel_launcher.py:27: SettingWithCopyWarning: \n",
      "A value is trying to be set on a copy of a slice from a DataFrame.\n",
      "Try using .loc[row_indexer,col_indexer] = value instead\n",
      "\n",
      "See the caveats in the documentation: https://pandas.pydata.org/pandas-docs/stable/user_guide/indexing.html#returning-a-view-versus-a-copy\n"
     ]
    }
   ],
   "source": [
    "list=  [ \"Hospital County\",\"Age Group\"\n",
    "    ,\"Gender\",   \n",
    " \"Race\" , \n",
    "\"Ethnicity\", \n",
    "\"Gender\" , \n",
    "\"Race\" ,    \n",
    " \"Ethnicity\" ,        \n",
    " \"Type of Admission\"  ,  \n",
    "  \"Patient Disposition\",      \n",
    " \"Type of Admission\" ,  \n",
    " \"Patient Disposition\"  ,\n",
    "  \"APR Risk of Mortality\" ,   \n",
    " \"APR Medical Surgical Description\" ,\n",
    " \"Payment Typology 1\"   ,   \n",
    " \"Abortion Edit Indicator\"     ,  \n",
    " \"Emergency Department Indicator\",\n",
    "       \"Zip Code - 3 digits\"]  \n",
    "\n",
    "# Import label encoder\n",
    "from sklearn import preprocessing\n",
    "  \n",
    "# label_encoder object knows how to understand word labels.\n",
    "label_encoder = preprocessing.LabelEncoder()\n",
    "  \n",
    "# Encode labels in column 'species'.\n",
    "for col in list :\n",
    "   Putnam_df[col]= label_encoder.fit_transform(Putnam_df[col])"
   ]
  },
  {
   "cell_type": "code",
   "execution_count": 187,
   "id": "42488964",
   "metadata": {
    "execution": {
     "iopub.execute_input": "2023-02-21T19:33:43.019250Z",
     "iopub.status.busy": "2023-02-21T19:33:43.018845Z",
     "iopub.status.idle": "2023-02-21T19:33:43.026851Z",
     "shell.execute_reply": "2023-02-21T19:33:43.025547Z"
    },
    "id": "ff1ff23d",
    "papermill": {
     "duration": 0.102263,
     "end_time": "2023-02-21T19:33:43.029387",
     "exception": false,
     "start_time": "2023-02-21T19:33:42.927124",
     "status": "completed"
    },
    "tags": []
   },
   "outputs": [],
   "source": [
    "Putnam_df = Putnam_df.drop(\"Facility Name\", axis=1)"
   ]
  },
  {
   "cell_type": "code",
   "execution_count": 188,
   "id": "ff58850a",
   "metadata": {
    "execution": {
     "iopub.execute_input": "2023-02-21T19:33:43.196935Z",
     "iopub.status.busy": "2023-02-21T19:33:43.196527Z",
     "iopub.status.idle": "2023-02-21T19:33:43.202662Z",
     "shell.execute_reply": "2023-02-21T19:33:43.201578Z"
    },
    "id": "16c6eff4",
    "papermill": {
     "duration": 0.092178,
     "end_time": "2023-02-21T19:33:43.204852",
     "exception": false,
     "start_time": "2023-02-21T19:33:43.112674",
     "status": "completed"
    },
    "tags": []
   },
   "outputs": [],
   "source": [
    "Putnam_df = Putnam_df.drop([\"Payment Typology 2\",    \"Payment Typology 3\"], axis=1)\n"
   ]
  },
  {
   "cell_type": "code",
   "execution_count": 189,
   "id": "d0f932e7",
   "metadata": {
    "execution": {
     "iopub.execute_input": "2023-02-21T19:33:43.374615Z",
     "iopub.status.busy": "2023-02-21T19:33:43.374185Z",
     "iopub.status.idle": "2023-02-21T19:33:43.389030Z",
     "shell.execute_reply": "2023-02-21T19:33:43.387805Z"
    },
    "id": "bf804cf8",
    "outputId": "0089e359-84e6-4f30-857b-eba20f75e990",
    "papermill": {
     "duration": 0.10109,
     "end_time": "2023-02-21T19:33:43.391514",
     "exception": false,
     "start_time": "2023-02-21T19:33:43.290424",
     "status": "completed"
    },
    "tags": []
   },
   "outputs": [
    {
     "name": "stdout",
     "output_type": "stream",
     "text": [
      "<class 'pandas.core.frame.DataFrame'>\n",
      "Int64Index: 6785 entries, 700137 to 745893\n",
      "Data columns (total 25 columns):\n",
      " #   Column                            Non-Null Count  Dtype  \n",
      "---  ------                            --------------  -----  \n",
      " 0   Hospital County                   6785 non-null   int64  \n",
      " 1   Operating Certificate Number      6785 non-null   float64\n",
      " 2   Facility Id                       6785 non-null   float64\n",
      " 3   Age Group                         6785 non-null   int64  \n",
      " 4   Zip Code - 3 digits               6785 non-null   int64  \n",
      " 5   Gender                            6785 non-null   int64  \n",
      " 6   Race                              6785 non-null   int64  \n",
      " 7   Ethnicity                         6785 non-null   int64  \n",
      " 8   Length of Stay                    6785 non-null   int64  \n",
      " 9   Type of Admission                 6785 non-null   int64  \n",
      " 10  Patient Disposition               6785 non-null   int64  \n",
      " 11  Discharge Year                    6785 non-null   int64  \n",
      " 12  CCS Diagnosis Code                6785 non-null   int64  \n",
      " 13  CCS Procedure Code                6785 non-null   int64  \n",
      " 14  APR DRG Code                      6785 non-null   int64  \n",
      " 15  APR MDC Code                      6785 non-null   int64  \n",
      " 16  APR Severity of Illness Code      6785 non-null   int64  \n",
      " 17  APR Risk of Mortality             6785 non-null   int64  \n",
      " 18  APR Medical Surgical Description  6785 non-null   int64  \n",
      " 19  Payment Typology 1                6785 non-null   int64  \n",
      " 20  Birth Weight                      6785 non-null   int64  \n",
      " 21  Abortion Edit Indicator           6785 non-null   int64  \n",
      " 22  Emergency Department Indicator    6785 non-null   int64  \n",
      " 23  Total Charges                     6785 non-null   float64\n",
      " 24  Total Costs                       6785 non-null   float64\n",
      "dtypes: float64(4), int64(21)\n",
      "memory usage: 1.3 MB\n"
     ]
    }
   ],
   "source": [
    "Putnam_df.info()"
   ]
  },
  {
   "cell_type": "code",
   "execution_count": 190,
   "id": "7aedbd3a",
   "metadata": {
    "execution": {
     "iopub.execute_input": "2023-02-21T19:33:43.560186Z",
     "iopub.status.busy": "2023-02-21T19:33:43.559386Z",
     "iopub.status.idle": "2023-02-21T19:33:43.565626Z",
     "shell.execute_reply": "2023-02-21T19:33:43.564598Z"
    },
    "id": "c64d32c2",
    "papermill": {
     "duration": 0.094468,
     "end_time": "2023-02-21T19:33:43.567954",
     "exception": false,
     "start_time": "2023-02-21T19:33:43.473486",
     "status": "completed"
    },
    "tags": []
   },
   "outputs": [],
   "source": [
    "x = Putnam_df.drop([\"Length of Stay\"], axis =1)\n",
    "y = Putnam_df[\"Length of Stay\"]"
   ]
  },
  {
   "cell_type": "code",
   "execution_count": 191,
   "id": "f4acc45f",
   "metadata": {
    "execution": {
     "iopub.execute_input": "2023-02-21T19:33:43.736851Z",
     "iopub.status.busy": "2023-02-21T19:33:43.736216Z",
     "iopub.status.idle": "2023-02-21T19:33:43.743486Z",
     "shell.execute_reply": "2023-02-21T19:33:43.742557Z"
    },
    "id": "00f24533",
    "papermill": {
     "duration": 0.09645,
     "end_time": "2023-02-21T19:33:43.746016",
     "exception": false,
     "start_time": "2023-02-21T19:33:43.649566",
     "status": "completed"
    },
    "tags": []
   },
   "outputs": [],
   "source": [
    "from sklearn.model_selection import train_test_split\n",
    "x_train, x_test, y_train, y_test = train_test_split(x, y, test_size=0.3, random_state=42)"
   ]
  },
  {
   "cell_type": "code",
   "execution_count": 192,
   "id": "b99f285a",
   "metadata": {
    "execution": {
     "iopub.execute_input": "2023-02-21T19:33:43.914306Z",
     "iopub.status.busy": "2023-02-21T19:33:43.913674Z",
     "iopub.status.idle": "2023-02-21T19:33:43.935209Z",
     "shell.execute_reply": "2023-02-21T19:33:43.933596Z"
    },
    "id": "80a738f2",
    "papermill": {
     "duration": 0.10976,
     "end_time": "2023-02-21T19:33:43.939955",
     "exception": false,
     "start_time": "2023-02-21T19:33:43.830195",
     "status": "completed"
    },
    "tags": []
   },
   "outputs": [],
   "source": [
    "# Linear Regression\n",
    "\n",
    "LR = LinearRegression()\n",
    "LR.fit(x_train, y_train)\n",
    "LR.score(x_train, y_train)\n",
    "y_pred =LR.predict(x_test)"
   ]
  },
  {
   "cell_type": "code",
   "execution_count": 193,
   "id": "ad55e112",
   "metadata": {
    "execution": {
     "iopub.execute_input": "2023-02-21T19:33:44.179654Z",
     "iopub.status.busy": "2023-02-21T19:33:44.179187Z",
     "iopub.status.idle": "2023-02-21T19:33:44.187719Z",
     "shell.execute_reply": "2023-02-21T19:33:44.186926Z"
    },
    "id": "251594d0",
    "outputId": "2cf3c4b4-5d4b-49ed-efa3-ca0438b2c84e",
    "papermill": {
     "duration": 0.095091,
     "end_time": "2023-02-21T19:33:44.189792",
     "exception": false,
     "start_time": "2023-02-21T19:33:44.094701",
     "status": "completed"
    },
    "tags": []
   },
   "outputs": [
    {
     "data": {
      "text/plain": [
       "0.6833681470945818"
      ]
     },
     "execution_count": 193,
     "metadata": {},
     "output_type": "execute_result"
    }
   ],
   "source": [
    "r2 = r2_score(y_test, y_pred)\n",
    "r2 \n"
   ]
  },
  {
   "cell_type": "code",
   "execution_count": 194,
   "id": "ae2f8618",
   "metadata": {
    "execution": {
     "iopub.execute_input": "2023-02-21T19:33:44.363963Z",
     "iopub.status.busy": "2023-02-21T19:33:44.362732Z",
     "iopub.status.idle": "2023-02-21T19:33:44.370080Z",
     "shell.execute_reply": "2023-02-21T19:33:44.369200Z"
    },
    "id": "b680cc22",
    "outputId": "95a2d4d9-6f1c-4453-ec6f-1f9f77af4e9a",
    "papermill": {
     "duration": 0.094656,
     "end_time": "2023-02-21T19:33:44.372594",
     "exception": false,
     "start_time": "2023-02-21T19:33:44.277938",
     "status": "completed"
    },
    "tags": []
   },
   "outputs": [
    {
     "data": {
      "text/plain": [
       "1.4289408471215483"
      ]
     },
     "execution_count": 194,
     "metadata": {},
     "output_type": "execute_result"
    }
   ],
   "source": [
    "# calculate the MAE of the model\n",
    "mae = mean_absolute_error(y_test, y_pred)\n",
    "mae"
   ]
  },
  {
   "cell_type": "code",
   "execution_count": 195,
   "id": "590d3c7e",
   "metadata": {
    "execution": {
     "iopub.execute_input": "2023-02-21T19:33:44.541497Z",
     "iopub.status.busy": "2023-02-21T19:33:44.540212Z",
     "iopub.status.idle": "2023-02-21T19:33:44.548269Z",
     "shell.execute_reply": "2023-02-21T19:33:44.547179Z"
    },
    "id": "d92549b0",
    "outputId": "1fe1b1d4-1612-4136-c0c8-cf29e811ad03",
    "papermill": {
     "duration": 0.093693,
     "end_time": "2023-02-21T19:33:44.550453",
     "exception": false,
     "start_time": "2023-02-21T19:33:44.456760",
     "status": "completed"
    },
    "tags": []
   },
   "outputs": [
    {
     "data": {
      "text/plain": [
       "6.810081276526211"
      ]
     },
     "execution_count": 195,
     "metadata": {},
     "output_type": "execute_result"
    }
   ],
   "source": [
    "# calculate the MSE of the model\n",
    "mse = mean_squared_error(y_test, y_pred)\n",
    "mse"
   ]
  },
  {
   "cell_type": "code",
   "execution_count": 196,
   "id": "ee63c77f",
   "metadata": {
    "execution": {
     "iopub.execute_input": "2023-02-21T19:33:44.716047Z",
     "iopub.status.busy": "2023-02-21T19:33:44.715597Z",
     "iopub.status.idle": "2023-02-21T19:33:44.722769Z",
     "shell.execute_reply": "2023-02-21T19:33:44.721520Z"
    },
    "id": "bda6c0a6",
    "outputId": "d75cac10-df84-432f-bf65-fb4fa63d1f6e",
    "papermill": {
     "duration": 0.093392,
     "end_time": "2023-02-21T19:33:44.725295",
     "exception": false,
     "start_time": "2023-02-21T19:33:44.631903",
     "status": "completed"
    },
    "tags": []
   },
   "outputs": [
    {
     "data": {
      "text/plain": [
       "2.609613242709772"
      ]
     },
     "execution_count": 196,
     "metadata": {},
     "output_type": "execute_result"
    }
   ],
   "source": [
    "# calculate the RMSE of the model\n",
    "rmse = np.sqrt(mse)\n",
    "rmse"
   ]
  },
  {
   "cell_type": "code",
   "execution_count": 197,
   "id": "a59ecc25",
   "metadata": {
    "execution": {
     "iopub.execute_input": "2023-02-21T19:33:44.896719Z",
     "iopub.status.busy": "2023-02-21T19:33:44.895532Z",
     "iopub.status.idle": "2023-02-21T19:33:45.007393Z",
     "shell.execute_reply": "2023-02-21T19:33:45.005707Z"
    },
    "id": "2d4cf23e",
    "papermill": {
     "duration": 0.204118,
     "end_time": "2023-02-21T19:33:45.011740",
     "exception": false,
     "start_time": "2023-02-21T19:33:44.807622",
     "status": "completed"
    },
    "tags": []
   },
   "outputs": [],
   "source": [
    "# LASSO\n",
    "L1 = linear_model.Lasso()\n",
    "L1.fit(x_train,y_train)\n",
    "y_pred1 = L1.predict(x_test)"
   ]
  },
  {
   "cell_type": "code",
   "execution_count": 198,
   "id": "b416a42a",
   "metadata": {
    "execution": {
     "iopub.execute_input": "2023-02-21T19:33:45.252202Z",
     "iopub.status.busy": "2023-02-21T19:33:45.251743Z",
     "iopub.status.idle": "2023-02-21T19:33:45.260813Z",
     "shell.execute_reply": "2023-02-21T19:33:45.259491Z"
    },
    "id": "cf4c5c5f",
    "outputId": "61a7089d-9839-47ce-e830-5848f7b2af78",
    "papermill": {
     "duration": 0.096858,
     "end_time": "2023-02-21T19:33:45.263171",
     "exception": false,
     "start_time": "2023-02-21T19:33:45.166313",
     "status": "completed"
    },
    "tags": []
   },
   "outputs": [
    {
     "data": {
      "text/plain": [
       "0.6496057028620932"
      ]
     },
     "execution_count": 198,
     "metadata": {},
     "output_type": "execute_result"
    }
   ],
   "source": [
    "r2 = r2_score(y_test, y_pred1)\n",
    "r2 "
   ]
  },
  {
   "cell_type": "code",
   "execution_count": 199,
   "id": "299462a6",
   "metadata": {
    "execution": {
     "iopub.execute_input": "2023-02-21T19:33:45.435844Z",
     "iopub.status.busy": "2023-02-21T19:33:45.434650Z",
     "iopub.status.idle": "2023-02-21T19:33:45.443963Z",
     "shell.execute_reply": "2023-02-21T19:33:45.442806Z"
    },
    "id": "81a3fb60",
    "outputId": "fa093296-d4b3-4b3b-cf8f-90f7d3d704b9",
    "papermill": {
     "duration": 0.100605,
     "end_time": "2023-02-21T19:33:45.446399",
     "exception": false,
     "start_time": "2023-02-21T19:33:45.345794",
     "status": "completed"
    },
    "tags": []
   },
   "outputs": [
    {
     "data": {
      "text/plain": [
       "1.5599579330447522"
      ]
     },
     "execution_count": 199,
     "metadata": {},
     "output_type": "execute_result"
    }
   ],
   "source": [
    "# calculate the MAE of the model\n",
    "mae = mean_absolute_error(y_test, y_pred1)\n",
    "mae"
   ]
  },
  {
   "cell_type": "code",
   "execution_count": 200,
   "id": "35cb1213",
   "metadata": {
    "execution": {
     "iopub.execute_input": "2023-02-21T19:33:45.620258Z",
     "iopub.status.busy": "2023-02-21T19:33:45.619428Z",
     "iopub.status.idle": "2023-02-21T19:33:45.628062Z",
     "shell.execute_reply": "2023-02-21T19:33:45.626897Z"
    },
    "id": "d12dd5fc",
    "outputId": "0c9eae95-6b37-4630-a16d-d51eec976719",
    "papermill": {
     "duration": 0.09422,
     "end_time": "2023-02-21T19:33:45.630269",
     "exception": false,
     "start_time": "2023-02-21T19:33:45.536049",
     "status": "completed"
    },
    "tags": []
   },
   "outputs": [
    {
     "data": {
      "text/plain": [
       "7.536240022740899"
      ]
     },
     "execution_count": 200,
     "metadata": {},
     "output_type": "execute_result"
    }
   ],
   "source": [
    "# calculate the MSE of the model\n",
    "mse = mean_squared_error(y_test, y_pred1)\n",
    "mse"
   ]
  },
  {
   "cell_type": "code",
   "execution_count": 201,
   "id": "5a06aae2",
   "metadata": {
    "execution": {
     "iopub.execute_input": "2023-02-21T19:33:45.797696Z",
     "iopub.status.busy": "2023-02-21T19:33:45.797263Z",
     "iopub.status.idle": "2023-02-21T19:33:45.804971Z",
     "shell.execute_reply": "2023-02-21T19:33:45.803735Z"
    },
    "id": "19c199a3",
    "outputId": "048986fc-e0e6-4b4a-ffec-050c9473c493",
    "papermill": {
     "duration": 0.093865,
     "end_time": "2023-02-21T19:33:45.807198",
     "exception": false,
     "start_time": "2023-02-21T19:33:45.713333",
     "status": "completed"
    },
    "tags": []
   },
   "outputs": [
    {
     "data": {
      "text/plain": [
       "2.745221306696584"
      ]
     },
     "execution_count": 201,
     "metadata": {},
     "output_type": "execute_result"
    }
   ],
   "source": [
    "# calculate the RMSE of the model\n",
    "rmse = np.sqrt(mse)\n",
    "rmse"
   ]
  },
  {
   "cell_type": "code",
   "execution_count": 202,
   "id": "3b65f171",
   "metadata": {
    "execution": {
     "iopub.execute_input": "2023-02-21T19:33:46.032951Z",
     "iopub.status.busy": "2023-02-21T19:33:46.032052Z",
     "iopub.status.idle": "2023-02-21T19:33:46.051423Z",
     "shell.execute_reply": "2023-02-21T19:33:46.049608Z"
    },
    "id": "029bd11c",
    "papermill": {
     "duration": 0.166742,
     "end_time": "2023-02-21T19:33:46.056147",
     "exception": false,
     "start_time": "2023-02-21T19:33:45.889405",
     "status": "completed"
    },
    "tags": []
   },
   "outputs": [],
   "source": [
    "# Ridge\n",
    "L2 = Ridge(alpha=1.0)\n",
    "L2.fit(x_train, y_train) \n",
    "y_pred3 = L2.predict(x_test)"
   ]
  },
  {
   "cell_type": "code",
   "execution_count": 203,
   "id": "a9d853d3",
   "metadata": {
    "execution": {
     "iopub.execute_input": "2023-02-21T19:33:46.298908Z",
     "iopub.status.busy": "2023-02-21T19:33:46.298413Z",
     "iopub.status.idle": "2023-02-21T19:33:46.306191Z",
     "shell.execute_reply": "2023-02-21T19:33:46.305346Z"
    },
    "id": "5549ec5d",
    "outputId": "e114897b-a478-42f8-8c59-5d67ec6fd020",
    "papermill": {
     "duration": 0.095343,
     "end_time": "2023-02-21T19:33:46.308756",
     "exception": false,
     "start_time": "2023-02-21T19:33:46.213413",
     "status": "completed"
    },
    "tags": []
   },
   "outputs": [
    {
     "data": {
      "text/plain": [
       "0.6833499677327529"
      ]
     },
     "execution_count": 203,
     "metadata": {},
     "output_type": "execute_result"
    }
   ],
   "source": [
    "r2 = r2_score(y_test, y_pred3)\n",
    "r2 "
   ]
  },
  {
   "cell_type": "code",
   "execution_count": 204,
   "id": "1681504b",
   "metadata": {
    "execution": {
     "iopub.execute_input": "2023-02-21T19:33:46.482087Z",
     "iopub.status.busy": "2023-02-21T19:33:46.480813Z",
     "iopub.status.idle": "2023-02-21T19:33:46.489102Z",
     "shell.execute_reply": "2023-02-21T19:33:46.487582Z"
    },
    "id": "cf592415",
    "outputId": "884e4ed9-cf53-4e4a-f291-abd2883cb4a7",
    "papermill": {
     "duration": 0.098119,
     "end_time": "2023-02-21T19:33:46.492239",
     "exception": false,
     "start_time": "2023-02-21T19:33:46.394120",
     "status": "completed"
    },
    "tags": []
   },
   "outputs": [
    {
     "data": {
      "text/plain": [
       "1.4289867059435022"
      ]
     },
     "execution_count": 204,
     "metadata": {},
     "output_type": "execute_result"
    }
   ],
   "source": [
    "# calculate the MAE of the model\n",
    "mae = mean_absolute_error(y_test, y_pred3)\n",
    "mae"
   ]
  },
  {
   "cell_type": "code",
   "execution_count": 205,
   "id": "a1f9d289",
   "metadata": {
    "execution": {
     "iopub.execute_input": "2023-02-21T19:33:46.677160Z",
     "iopub.status.busy": "2023-02-21T19:33:46.676689Z",
     "iopub.status.idle": "2023-02-21T19:33:46.685170Z",
     "shell.execute_reply": "2023-02-21T19:33:46.683856Z"
    },
    "id": "3ddb0291",
    "outputId": "7e74f1c0-7b82-42ed-8d67-9c845433f4f3",
    "papermill": {
     "duration": 0.107229,
     "end_time": "2023-02-21T19:33:46.687686",
     "exception": false,
     "start_time": "2023-02-21T19:33:46.580457",
     "status": "completed"
    },
    "tags": []
   },
   "outputs": [
    {
     "data": {
      "text/plain": [
       "6.810472276138141"
      ]
     },
     "execution_count": 205,
     "metadata": {},
     "output_type": "execute_result"
    }
   ],
   "source": [
    "# calculate the MSE of the model\n",
    "mse = mean_squared_error(y_test, y_pred3)\n",
    "mse"
   ]
  },
  {
   "cell_type": "code",
   "execution_count": 206,
   "id": "c79ca76b",
   "metadata": {
    "execution": {
     "iopub.execute_input": "2023-02-21T19:33:46.863493Z",
     "iopub.status.busy": "2023-02-21T19:33:46.862722Z",
     "iopub.status.idle": "2023-02-21T19:33:46.869909Z",
     "shell.execute_reply": "2023-02-21T19:33:46.868292Z"
    },
    "id": "8dcb5574",
    "outputId": "d71f4278-cd45-404f-d259-01f40087cf02",
    "papermill": {
     "duration": 0.098372,
     "end_time": "2023-02-21T19:33:46.872520",
     "exception": false,
     "start_time": "2023-02-21T19:33:46.774148",
     "status": "completed"
    },
    "tags": []
   },
   "outputs": [
    {
     "data": {
      "text/plain": [
       "2.609688156875863"
      ]
     },
     "execution_count": 206,
     "metadata": {},
     "output_type": "execute_result"
    }
   ],
   "source": [
    "# calculate the RMSE of the model\n",
    "rmse = np.sqrt(mse)\n",
    "rmse"
   ]
  },
  {
   "cell_type": "code",
   "execution_count": 207,
   "id": "27c08996",
   "metadata": {
    "execution": {
     "iopub.execute_input": "2023-02-21T19:33:47.044284Z",
     "iopub.status.busy": "2023-02-21T19:33:47.043864Z",
     "iopub.status.idle": "2023-02-21T19:33:47.154999Z",
     "shell.execute_reply": "2023-02-21T19:33:47.153314Z"
    },
    "id": "9c06e660",
    "papermill": {
     "duration": 0.199537,
     "end_time": "2023-02-21T19:33:47.159634",
     "exception": false,
     "start_time": "2023-02-21T19:33:46.960097",
     "status": "completed"
    },
    "tags": []
   },
   "outputs": [],
   "source": [
    "# LASSO\n",
    "L1 = linear_model.Lasso()\n",
    "L1.fit(x_train,y_train)\n",
    "y_pred1 = L1.predict(x_test)"
   ]
  },
  {
   "cell_type": "code",
   "execution_count": 208,
   "id": "6d989b04",
   "metadata": {
    "execution": {
     "iopub.execute_input": "2023-02-21T19:33:47.403744Z",
     "iopub.status.busy": "2023-02-21T19:33:47.403352Z",
     "iopub.status.idle": "2023-02-21T19:33:47.411153Z",
     "shell.execute_reply": "2023-02-21T19:33:47.409884Z"
    },
    "id": "08ab49d4",
    "outputId": "65ff2f21-41b1-4a5b-a4d1-75bcb922d5ee",
    "papermill": {
     "duration": 0.097455,
     "end_time": "2023-02-21T19:33:47.413555",
     "exception": false,
     "start_time": "2023-02-21T19:33:47.316100",
     "status": "completed"
    },
    "tags": []
   },
   "outputs": [
    {
     "data": {
      "text/plain": [
       "0.6496057028620932"
      ]
     },
     "execution_count": 208,
     "metadata": {},
     "output_type": "execute_result"
    }
   ],
   "source": [
    "r2 = r2_score(y_test, y_pred1)\n",
    "r2 \n"
   ]
  },
  {
   "cell_type": "code",
   "execution_count": 209,
   "id": "a59c9b56",
   "metadata": {
    "execution": {
     "iopub.execute_input": "2023-02-21T19:33:47.614173Z",
     "iopub.status.busy": "2023-02-21T19:33:47.613298Z",
     "iopub.status.idle": "2023-02-21T19:33:47.621328Z",
     "shell.execute_reply": "2023-02-21T19:33:47.620377Z"
    },
    "id": "f5a78fbe",
    "outputId": "9e92d36f-ac98-4978-9ec1-c06f7136fa26",
    "papermill": {
     "duration": 0.126706,
     "end_time": "2023-02-21T19:33:47.623639",
     "exception": false,
     "start_time": "2023-02-21T19:33:47.496933",
     "status": "completed"
    },
    "tags": []
   },
   "outputs": [
    {
     "data": {
      "text/plain": [
       "1.5599579330447522"
      ]
     },
     "execution_count": 209,
     "metadata": {},
     "output_type": "execute_result"
    }
   ],
   "source": [
    "# calculate the MAE of the model\n",
    "mae = mean_absolute_error(y_test, y_pred1)\n",
    "mae"
   ]
  },
  {
   "cell_type": "code",
   "execution_count": 210,
   "id": "0b3ff410",
   "metadata": {
    "execution": {
     "iopub.execute_input": "2023-02-21T19:33:47.800172Z",
     "iopub.status.busy": "2023-02-21T19:33:47.799337Z",
     "iopub.status.idle": "2023-02-21T19:33:47.807420Z",
     "shell.execute_reply": "2023-02-21T19:33:47.806497Z"
    },
    "id": "ebda9aae",
    "outputId": "8c397311-a046-4120-9a18-c5db817b9766",
    "papermill": {
     "duration": 0.096684,
     "end_time": "2023-02-21T19:33:47.809820",
     "exception": false,
     "start_time": "2023-02-21T19:33:47.713136",
     "status": "completed"
    },
    "tags": []
   },
   "outputs": [
    {
     "data": {
      "text/plain": [
       "7.536240022740899"
      ]
     },
     "execution_count": 210,
     "metadata": {},
     "output_type": "execute_result"
    }
   ],
   "source": [
    "# calculate the MSE of the model\n",
    "mse = mean_squared_error(y_test, y_pred1)\n",
    "mse"
   ]
  },
  {
   "cell_type": "code",
   "execution_count": 211,
   "id": "68c44a54",
   "metadata": {
    "execution": {
     "iopub.execute_input": "2023-02-21T19:33:47.981555Z",
     "iopub.status.busy": "2023-02-21T19:33:47.980739Z",
     "iopub.status.idle": "2023-02-21T19:33:47.988121Z",
     "shell.execute_reply": "2023-02-21T19:33:47.987175Z"
    },
    "id": "b2981742",
    "outputId": "1295f670-f05f-4248-b269-fd79079f4a64",
    "papermill": {
     "duration": 0.095496,
     "end_time": "2023-02-21T19:33:47.990254",
     "exception": false,
     "start_time": "2023-02-21T19:33:47.894758",
     "status": "completed"
    },
    "tags": []
   },
   "outputs": [
    {
     "data": {
      "text/plain": [
       "2.745221306696584"
      ]
     },
     "execution_count": 211,
     "metadata": {},
     "output_type": "execute_result"
    }
   ],
   "source": [
    "# calculate the RMSE of the model\n",
    "rmse = np.sqrt(mse)\n",
    "rmse"
   ]
  },
  {
   "cell_type": "markdown",
   "id": "6c35de3b",
   "metadata": {
    "id": "f0e9add8",
    "papermill": {
     "duration": 0.08323,
     "end_time": "2023-02-21T19:33:48.156872",
     "exception": false,
     "start_time": "2023-02-21T19:33:48.073642",
     "status": "completed"
    },
    "tags": []
   },
   "source": [
    "##Client 9: Nyack Hospital"
   ]
  },
  {
   "cell_type": "code",
   "execution_count": 212,
   "id": "1f7d5699",
   "metadata": {
    "execution": {
     "iopub.execute_input": "2023-02-21T19:33:48.335301Z",
     "iopub.status.busy": "2023-02-21T19:33:48.334913Z",
     "iopub.status.idle": "2023-02-21T19:33:48.495062Z",
     "shell.execute_reply": "2023-02-21T19:33:48.493605Z"
    },
    "id": "d984d6d0",
    "papermill": {
     "duration": 0.255805,
     "end_time": "2023-02-21T19:33:48.498124",
     "exception": false,
     "start_time": "2023-02-21T19:33:48.242319",
     "status": "completed"
    },
    "tags": []
   },
   "outputs": [],
   "source": [
    "Nyack_df=df[df[\"Facility Name\"]== 'Nyack Hospital']"
   ]
  },
  {
   "cell_type": "code",
   "execution_count": 213,
   "id": "835eed85",
   "metadata": {
    "execution": {
     "iopub.execute_input": "2023-02-21T19:33:48.674301Z",
     "iopub.status.busy": "2023-02-21T19:33:48.673593Z",
     "iopub.status.idle": "2023-02-21T19:33:48.696433Z",
     "shell.execute_reply": "2023-02-21T19:33:48.694866Z"
    },
    "id": "02f8f192",
    "outputId": "8bb6548c-5ac2-4fa9-dcfa-036d617688f4",
    "papermill": {
     "duration": 0.110441,
     "end_time": "2023-02-21T19:33:48.699145",
     "exception": false,
     "start_time": "2023-02-21T19:33:48.588704",
     "status": "completed"
    },
    "tags": []
   },
   "outputs": [
    {
     "name": "stdout",
     "output_type": "stream",
     "text": [
      "<class 'pandas.core.frame.DataFrame'>\n",
      "Int64Index: 13459 entries, 700257 to 761325\n",
      "Data columns (total 28 columns):\n",
      " #   Column                            Non-Null Count  Dtype   \n",
      "---  ------                            --------------  -----   \n",
      " 0   Hospital County                   13459 non-null  category\n",
      " 1   Operating Certificate Number      13459 non-null  float64 \n",
      " 2   Facility Id                       13459 non-null  float64 \n",
      " 3   Facility Name                     13459 non-null  object  \n",
      " 4   Age Group                         13459 non-null  category\n",
      " 5   Zip Code - 3 digits               13327 non-null  category\n",
      " 6   Gender                            13459 non-null  category\n",
      " 7   Race                              13459 non-null  category\n",
      " 8   Ethnicity                         13459 non-null  category\n",
      " 9   Length of Stay                    13459 non-null  category\n",
      " 10  Type of Admission                 13459 non-null  category\n",
      " 11  Patient Disposition               13459 non-null  category\n",
      " 12  Discharge Year                    13459 non-null  int64   \n",
      " 13  CCS Diagnosis Code                13459 non-null  int64   \n",
      " 14  CCS Procedure Code                13459 non-null  int64   \n",
      " 15  APR DRG Code                      13459 non-null  int64   \n",
      " 16  APR MDC Code                      13459 non-null  int64   \n",
      " 17  APR Severity of Illness Code      13459 non-null  int64   \n",
      " 18  APR Risk of Mortality             13459 non-null  category\n",
      " 19  APR Medical Surgical Description  13459 non-null  category\n",
      " 20  Payment Typology 1                13459 non-null  category\n",
      " 21  Payment Typology 2                5193 non-null   category\n",
      " 22  Payment Typology 3                369 non-null    category\n",
      " 23  Birth Weight                      13459 non-null  int64   \n",
      " 24  Abortion Edit Indicator           13459 non-null  category\n",
      " 25  Emergency Department Indicator    13459 non-null  category\n",
      " 26  Total Charges                     13459 non-null  float64 \n",
      " 27  Total Costs                       13459 non-null  float64 \n",
      "dtypes: category(16), float64(4), int64(7), object(1)\n",
      "memory usage: 1.6+ MB\n"
     ]
    }
   ],
   "source": [
    "Nyack_df.info()"
   ]
  },
  {
   "cell_type": "code",
   "execution_count": 214,
   "id": "a264c41b",
   "metadata": {
    "execution": {
     "iopub.execute_input": "2023-02-21T19:33:48.870377Z",
     "iopub.status.busy": "2023-02-21T19:33:48.869621Z",
     "iopub.status.idle": "2023-02-21T19:33:48.876144Z",
     "shell.execute_reply": "2023-02-21T19:33:48.875038Z"
    },
    "id": "21398c68",
    "papermill": {
     "duration": 0.096377,
     "end_time": "2023-02-21T19:33:48.878594",
     "exception": false,
     "start_time": "2023-02-21T19:33:48.782217",
     "status": "completed"
    },
    "tags": []
   },
   "outputs": [],
   "source": [
    "Nyack_df=Nyack_df.drop(\"Facility Name\", axis=1)"
   ]
  },
  {
   "cell_type": "code",
   "execution_count": 215,
   "id": "3fb23f45",
   "metadata": {
    "execution": {
     "iopub.execute_input": "2023-02-21T19:33:49.054587Z",
     "iopub.status.busy": "2023-02-21T19:33:49.053886Z",
     "iopub.status.idle": "2023-02-21T19:33:49.060432Z",
     "shell.execute_reply": "2023-02-21T19:33:49.059356Z"
    },
    "id": "102aee0b",
    "papermill": {
     "duration": 0.097445,
     "end_time": "2023-02-21T19:33:49.062980",
     "exception": false,
     "start_time": "2023-02-21T19:33:48.965535",
     "status": "completed"
    },
    "tags": []
   },
   "outputs": [],
   "source": [
    "Nyack_df = Nyack_df.drop([\"Payment Typology 2\",    \"Payment Typology 3\"], axis=1)"
   ]
  },
  {
   "cell_type": "code",
   "execution_count": 216,
   "id": "a7ede375",
   "metadata": {
    "execution": {
     "iopub.execute_input": "2023-02-21T19:33:49.237384Z",
     "iopub.status.busy": "2023-02-21T19:33:49.236980Z",
     "iopub.status.idle": "2023-02-21T19:33:49.245101Z",
     "shell.execute_reply": "2023-02-21T19:33:49.244186Z"
    },
    "id": "811afbb0",
    "papermill": {
     "duration": 0.098016,
     "end_time": "2023-02-21T19:33:49.247368",
     "exception": false,
     "start_time": "2023-02-21T19:33:49.149352",
     "status": "completed"
    },
    "tags": []
   },
   "outputs": [],
   "source": [
    " #   simple mapping on binary features.\n",
    "Nyack_df['Abortion Edit Indicator'] = Nyack_df['Abortion Edit Indicator'].apply(\n",
    "     lambda x: 1 if x == 'Y' else (0 if x == 'N' else None))\n",
    "Nyack_df['Emergency Department Indicator'] = Nyack_df['Emergency Department Indicator'].apply(\n",
    "    lambda x: 1 if x == 'Y' else (0 if x == 'N' else None))"
   ]
  },
  {
   "cell_type": "code",
   "execution_count": 217,
   "id": "ce1f6039",
   "metadata": {
    "execution": {
     "iopub.execute_input": "2023-02-21T19:33:49.416872Z",
     "iopub.status.busy": "2023-02-21T19:33:49.416120Z",
     "iopub.status.idle": "2023-02-21T19:33:49.427152Z",
     "shell.execute_reply": "2023-02-21T19:33:49.425972Z"
    },
    "id": "96850422",
    "papermill": {
     "duration": 0.099325,
     "end_time": "2023-02-21T19:33:49.429652",
     "exception": false,
     "start_time": "2023-02-21T19:33:49.330327",
     "status": "completed"
    },
    "tags": []
   },
   "outputs": [],
   "source": [
    "Nyack_df[\"Length of Stay\"]=pd.to_numeric(Nyack_df[\"Length of Stay\"],errors='coerce')"
   ]
  },
  {
   "cell_type": "code",
   "execution_count": 218,
   "id": "bbff766b",
   "metadata": {
    "execution": {
     "iopub.execute_input": "2023-02-21T19:33:49.606851Z",
     "iopub.status.busy": "2023-02-21T19:33:49.606407Z",
     "iopub.status.idle": "2023-02-21T19:33:49.665455Z",
     "shell.execute_reply": "2023-02-21T19:33:49.664017Z"
    },
    "id": "5f05cf5b",
    "papermill": {
     "duration": 0.152752,
     "end_time": "2023-02-21T19:33:49.668592",
     "exception": false,
     "start_time": "2023-02-21T19:33:49.515840",
     "status": "completed"
    },
    "tags": []
   },
   "outputs": [],
   "source": [
    "list=  [ \"Hospital County\",\"Age Group\"\n",
    "    ,\"Gender\",   \n",
    " \"Race\" , \n",
    "\"Ethnicity\", \n",
    "\"Gender\" , \n",
    "\"Race\" ,    \n",
    " \"Ethnicity\" ,        \n",
    " \"Type of Admission\"  ,  \n",
    "  \"Patient Disposition\",      \n",
    " \"Type of Admission\" ,  \n",
    " \"Patient Disposition\"  ,\n",
    "  \"APR Risk of Mortality\" ,   \n",
    " \"APR Medical Surgical Description\" ,\n",
    " \"Payment Typology 1\"   ,   \n",
    " \"Abortion Edit Indicator\"     ,  \n",
    " \"Emergency Department Indicator\",\n",
    "       \"Zip Code - 3 digits\"]  \n",
    "\n",
    "# Import label encoder\n",
    "from sklearn import preprocessing\n",
    "  \n",
    "# label_encoder object knows how to understand word labels.\n",
    "label_encoder = preprocessing.LabelEncoder()\n",
    "  \n",
    "# Encode labels in column 'species'.\n",
    "for col in list :\n",
    "   Nyack_df[col]= label_encoder.fit_transform(Nyack_df[col])"
   ]
  },
  {
   "cell_type": "code",
   "execution_count": 219,
   "id": "4f2bbe30",
   "metadata": {
    "execution": {
     "iopub.execute_input": "2023-02-21T19:33:49.841245Z",
     "iopub.status.busy": "2023-02-21T19:33:49.840378Z",
     "iopub.status.idle": "2023-02-21T19:33:49.858623Z",
     "shell.execute_reply": "2023-02-21T19:33:49.856989Z"
    },
    "id": "efb1d102",
    "outputId": "1e669e55-c5e1-4d45-a332-fd9f7e3c6fb2",
    "papermill": {
     "duration": 0.108647,
     "end_time": "2023-02-21T19:33:49.861442",
     "exception": false,
     "start_time": "2023-02-21T19:33:49.752795",
     "status": "completed"
    },
    "tags": []
   },
   "outputs": [
    {
     "name": "stdout",
     "output_type": "stream",
     "text": [
      "<class 'pandas.core.frame.DataFrame'>\n",
      "Int64Index: 13459 entries, 700257 to 761325\n",
      "Data columns (total 25 columns):\n",
      " #   Column                            Non-Null Count  Dtype  \n",
      "---  ------                            --------------  -----  \n",
      " 0   Hospital County                   13459 non-null  int64  \n",
      " 1   Operating Certificate Number      13459 non-null  float64\n",
      " 2   Facility Id                       13459 non-null  float64\n",
      " 3   Age Group                         13459 non-null  int64  \n",
      " 4   Zip Code - 3 digits               13459 non-null  int64  \n",
      " 5   Gender                            13459 non-null  int64  \n",
      " 6   Race                              13459 non-null  int64  \n",
      " 7   Ethnicity                         13459 non-null  int64  \n",
      " 8   Length of Stay                    13458 non-null  float64\n",
      " 9   Type of Admission                 13459 non-null  int64  \n",
      " 10  Patient Disposition               13459 non-null  int64  \n",
      " 11  Discharge Year                    13459 non-null  int64  \n",
      " 12  CCS Diagnosis Code                13459 non-null  int64  \n",
      " 13  CCS Procedure Code                13459 non-null  int64  \n",
      " 14  APR DRG Code                      13459 non-null  int64  \n",
      " 15  APR MDC Code                      13459 non-null  int64  \n",
      " 16  APR Severity of Illness Code      13459 non-null  int64  \n",
      " 17  APR Risk of Mortality             13459 non-null  int64  \n",
      " 18  APR Medical Surgical Description  13459 non-null  int64  \n",
      " 19  Payment Typology 1                13459 non-null  int64  \n",
      " 20  Birth Weight                      13459 non-null  int64  \n",
      " 21  Abortion Edit Indicator           13459 non-null  int64  \n",
      " 22  Emergency Department Indicator    13459 non-null  int64  \n",
      " 23  Total Charges                     13459 non-null  float64\n",
      " 24  Total Costs                       13459 non-null  float64\n",
      "dtypes: float64(5), int64(20)\n",
      "memory usage: 2.7 MB\n"
     ]
    }
   ],
   "source": [
    "Nyack_df.info()"
   ]
  },
  {
   "cell_type": "code",
   "execution_count": 220,
   "id": "6641fa95",
   "metadata": {
    "execution": {
     "iopub.execute_input": "2023-02-21T19:33:50.032446Z",
     "iopub.status.busy": "2023-02-21T19:33:50.032039Z",
     "iopub.status.idle": "2023-02-21T19:33:50.044233Z",
     "shell.execute_reply": "2023-02-21T19:33:50.043215Z"
    },
    "id": "89018124",
    "papermill": {
     "duration": 0.100545,
     "end_time": "2023-02-21T19:33:50.046679",
     "exception": false,
     "start_time": "2023-02-21T19:33:49.946134",
     "status": "completed"
    },
    "tags": []
   },
   "outputs": [],
   "source": [
    "Nyack_df.dropna(inplace=True)"
   ]
  },
  {
   "cell_type": "code",
   "execution_count": 221,
   "id": "c7947d9c",
   "metadata": {
    "execution": {
     "iopub.execute_input": "2023-02-21T19:33:50.219166Z",
     "iopub.status.busy": "2023-02-21T19:33:50.218754Z",
     "iopub.status.idle": "2023-02-21T19:33:50.226216Z",
     "shell.execute_reply": "2023-02-21T19:33:50.224978Z"
    },
    "id": "4200b92b",
    "papermill": {
     "duration": 0.097366,
     "end_time": "2023-02-21T19:33:50.228445",
     "exception": false,
     "start_time": "2023-02-21T19:33:50.131079",
     "status": "completed"
    },
    "tags": []
   },
   "outputs": [],
   "source": [
    "x = Nyack_df.drop([\"Length of Stay\"], axis =1)\n",
    "y = Nyack_df[\"Length of Stay\"]"
   ]
  },
  {
   "cell_type": "code",
   "execution_count": 222,
   "id": "42218b17",
   "metadata": {
    "execution": {
     "iopub.execute_input": "2023-02-21T19:33:50.400559Z",
     "iopub.status.busy": "2023-02-21T19:33:50.399475Z",
     "iopub.status.idle": "2023-02-21T19:33:50.410389Z",
     "shell.execute_reply": "2023-02-21T19:33:50.409426Z"
    },
    "id": "e51ca731",
    "papermill": {
     "duration": 0.09994,
     "end_time": "2023-02-21T19:33:50.413056",
     "exception": false,
     "start_time": "2023-02-21T19:33:50.313116",
     "status": "completed"
    },
    "tags": []
   },
   "outputs": [],
   "source": [
    "x_train, x_test, y_train, y_test = train_test_split(x, y, test_size=0.3, random_state=42)"
   ]
  },
  {
   "cell_type": "code",
   "execution_count": 223,
   "id": "05ab5c87",
   "metadata": {
    "execution": {
     "iopub.execute_input": "2023-02-21T19:33:50.585880Z",
     "iopub.status.busy": "2023-02-21T19:33:50.585424Z",
     "iopub.status.idle": "2023-02-21T19:33:50.613905Z",
     "shell.execute_reply": "2023-02-21T19:33:50.612208Z"
    },
    "id": "364b2601",
    "papermill": {
     "duration": 0.119469,
     "end_time": "2023-02-21T19:33:50.618317",
     "exception": false,
     "start_time": "2023-02-21T19:33:50.498848",
     "status": "completed"
    },
    "tags": []
   },
   "outputs": [],
   "source": [
    "# Linear Regression\n",
    "\n",
    "LR = LinearRegression()\n",
    "LR.fit(x_train, y_train)\n",
    "LR.score(x_train, y_train)\n",
    "y_pred =LR.predict(x_test)"
   ]
  },
  {
   "cell_type": "code",
   "execution_count": 224,
   "id": "14ddc0c9",
   "metadata": {
    "execution": {
     "iopub.execute_input": "2023-02-21T19:33:50.870070Z",
     "iopub.status.busy": "2023-02-21T19:33:50.869643Z",
     "iopub.status.idle": "2023-02-21T19:33:50.877896Z",
     "shell.execute_reply": "2023-02-21T19:33:50.876683Z"
    },
    "id": "a46bb3ec",
    "outputId": "65fdb71d-d592-483a-aa7c-c6b4c4dd03e2",
    "papermill": {
     "duration": 0.09694,
     "end_time": "2023-02-21T19:33:50.880280",
     "exception": false,
     "start_time": "2023-02-21T19:33:50.783340",
     "status": "completed"
    },
    "tags": []
   },
   "outputs": [
    {
     "data": {
      "text/plain": [
       "0.8349891359205954"
      ]
     },
     "execution_count": 224,
     "metadata": {},
     "output_type": "execute_result"
    }
   ],
   "source": [
    "r2 = r2_score(y_test, y_pred)\n",
    "r2 \n"
   ]
  },
  {
   "cell_type": "code",
   "execution_count": 225,
   "id": "83395786",
   "metadata": {
    "execution": {
     "iopub.execute_input": "2023-02-21T19:33:51.052247Z",
     "iopub.status.busy": "2023-02-21T19:33:51.051846Z",
     "iopub.status.idle": "2023-02-21T19:33:51.060420Z",
     "shell.execute_reply": "2023-02-21T19:33:51.059081Z"
    },
    "id": "2f323a24",
    "outputId": "ae9015c5-90e8-4b08-9207-680c357ea9d8",
    "papermill": {
     "duration": 0.097109,
     "end_time": "2023-02-21T19:33:51.062950",
     "exception": false,
     "start_time": "2023-02-21T19:33:50.965841",
     "status": "completed"
    },
    "tags": []
   },
   "outputs": [
    {
     "data": {
      "text/plain": [
       "1.3344919646969073"
      ]
     },
     "execution_count": 225,
     "metadata": {},
     "output_type": "execute_result"
    }
   ],
   "source": [
    "# calculate the MAE of the model\n",
    "mae = mean_absolute_error(y_test, y_pred)\n",
    "mae"
   ]
  },
  {
   "cell_type": "code",
   "execution_count": 226,
   "id": "62e31d1e",
   "metadata": {
    "execution": {
     "iopub.execute_input": "2023-02-21T19:33:51.236548Z",
     "iopub.status.busy": "2023-02-21T19:33:51.236139Z",
     "iopub.status.idle": "2023-02-21T19:33:51.244174Z",
     "shell.execute_reply": "2023-02-21T19:33:51.243191Z"
    },
    "id": "10f61f26",
    "outputId": "5853d5c5-1c72-468c-af16-ae895a977c2d",
    "papermill": {
     "duration": 0.097783,
     "end_time": "2023-02-21T19:33:51.246327",
     "exception": false,
     "start_time": "2023-02-21T19:33:51.148544",
     "status": "completed"
    },
    "tags": []
   },
   "outputs": [
    {
     "data": {
      "text/plain": [
       "5.8475935175546985"
      ]
     },
     "execution_count": 226,
     "metadata": {},
     "output_type": "execute_result"
    }
   ],
   "source": [
    "# calculate the MSE of the model\n",
    "mse = mean_squared_error(y_test, y_pred)\n",
    "mse"
   ]
  },
  {
   "cell_type": "code",
   "execution_count": 227,
   "id": "0dc983d4",
   "metadata": {
    "execution": {
     "iopub.execute_input": "2023-02-21T19:33:51.419726Z",
     "iopub.status.busy": "2023-02-21T19:33:51.418899Z",
     "iopub.status.idle": "2023-02-21T19:33:51.426334Z",
     "shell.execute_reply": "2023-02-21T19:33:51.425289Z"
    },
    "id": "f87b2db4",
    "outputId": "6835cce5-f0f5-451d-d59b-a8806451a175",
    "papermill": {
     "duration": 0.094723,
     "end_time": "2023-02-21T19:33:51.428847",
     "exception": false,
     "start_time": "2023-02-21T19:33:51.334124",
     "status": "completed"
    },
    "tags": []
   },
   "outputs": [
    {
     "data": {
      "text/plain": [
       "2.4181797942987404"
      ]
     },
     "execution_count": 227,
     "metadata": {},
     "output_type": "execute_result"
    }
   ],
   "source": [
    "# calculate the RMSE of the model\n",
    "rmse = np.sqrt(mse)\n",
    "rmse"
   ]
  },
  {
   "cell_type": "code",
   "execution_count": 228,
   "id": "917d78bf",
   "metadata": {
    "execution": {
     "iopub.execute_input": "2023-02-21T19:33:51.602427Z",
     "iopub.status.busy": "2023-02-21T19:33:51.601974Z",
     "iopub.status.idle": "2023-02-21T19:33:51.721130Z",
     "shell.execute_reply": "2023-02-21T19:33:51.719532Z"
    },
    "id": "4d4c8f88",
    "papermill": {
     "duration": 0.210151,
     "end_time": "2023-02-21T19:33:51.725507",
     "exception": false,
     "start_time": "2023-02-21T19:33:51.515356",
     "status": "completed"
    },
    "tags": []
   },
   "outputs": [],
   "source": [
    "# LASSO\n",
    "L1 = linear_model.Lasso()\n",
    "L1.fit(x_train,y_train)\n",
    "y_pred1 = L1.predict(x_test)"
   ]
  },
  {
   "cell_type": "code",
   "execution_count": 229,
   "id": "27516f7c",
   "metadata": {
    "execution": {
     "iopub.execute_input": "2023-02-21T19:33:51.970364Z",
     "iopub.status.busy": "2023-02-21T19:33:51.969960Z",
     "iopub.status.idle": "2023-02-21T19:33:51.978476Z",
     "shell.execute_reply": "2023-02-21T19:33:51.977406Z"
    },
    "id": "73306fc4",
    "outputId": "adf08ded-601c-4dab-b8ec-6523c2dec831",
    "papermill": {
     "duration": 0.097467,
     "end_time": "2023-02-21T19:33:51.980766",
     "exception": false,
     "start_time": "2023-02-21T19:33:51.883299",
     "status": "completed"
    },
    "tags": []
   },
   "outputs": [
    {
     "data": {
      "text/plain": [
       "0.8130004942930402"
      ]
     },
     "execution_count": 229,
     "metadata": {},
     "output_type": "execute_result"
    }
   ],
   "source": [
    "r2 = r2_score(y_test, y_pred1)\n",
    "r2 "
   ]
  },
  {
   "cell_type": "code",
   "execution_count": 230,
   "id": "68fa0bb8",
   "metadata": {
    "execution": {
     "iopub.execute_input": "2023-02-21T19:33:52.151063Z",
     "iopub.status.busy": "2023-02-21T19:33:52.150649Z",
     "iopub.status.idle": "2023-02-21T19:33:52.158663Z",
     "shell.execute_reply": "2023-02-21T19:33:52.157495Z"
    },
    "id": "e03f9fad",
    "outputId": "9be971d9-1ee9-436d-b84b-69ae76d08abf",
    "papermill": {
     "duration": 0.096193,
     "end_time": "2023-02-21T19:33:52.161287",
     "exception": false,
     "start_time": "2023-02-21T19:33:52.065094",
     "status": "completed"
    },
    "tags": []
   },
   "outputs": [
    {
     "data": {
      "text/plain": [
       "1.371002670909177"
      ]
     },
     "execution_count": 230,
     "metadata": {},
     "output_type": "execute_result"
    }
   ],
   "source": [
    "# calculate the MAE of the model\n",
    "mae = mean_absolute_error(y_test, y_pred1)\n",
    "mae"
   ]
  },
  {
   "cell_type": "code",
   "execution_count": 231,
   "id": "63035c73",
   "metadata": {
    "execution": {
     "iopub.execute_input": "2023-02-21T19:33:52.333725Z",
     "iopub.status.busy": "2023-02-21T19:33:52.332863Z",
     "iopub.status.idle": "2023-02-21T19:33:52.342138Z",
     "shell.execute_reply": "2023-02-21T19:33:52.341062Z"
    },
    "id": "a78a2653",
    "outputId": "020b628f-f78a-4dd0-914a-6536b08dd504",
    "papermill": {
     "duration": 0.097473,
     "end_time": "2023-02-21T19:33:52.344454",
     "exception": false,
     "start_time": "2023-02-21T19:33:52.246981",
     "status": "completed"
    },
    "tags": []
   },
   "outputs": [
    {
     "data": {
      "text/plain": [
       "6.626818806498411"
      ]
     },
     "execution_count": 231,
     "metadata": {},
     "output_type": "execute_result"
    }
   ],
   "source": [
    "# calculate the MSE of the model\n",
    "mse = mean_squared_error(y_test, y_pred1)\n",
    "mse"
   ]
  },
  {
   "cell_type": "code",
   "execution_count": 232,
   "id": "e5f801ba",
   "metadata": {
    "execution": {
     "iopub.execute_input": "2023-02-21T19:33:52.523845Z",
     "iopub.status.busy": "2023-02-21T19:33:52.523027Z",
     "iopub.status.idle": "2023-02-21T19:33:52.529539Z",
     "shell.execute_reply": "2023-02-21T19:33:52.528398Z"
    },
    "id": "d6eb6d9e",
    "outputId": "d756235d-2fcd-4a1b-bbdb-3bd4ec23b61e",
    "papermill": {
     "duration": 0.100677,
     "end_time": "2023-02-21T19:33:52.532315",
     "exception": false,
     "start_time": "2023-02-21T19:33:52.431638",
     "status": "completed"
    },
    "tags": []
   },
   "outputs": [
    {
     "data": {
      "text/plain": [
       "2.574260827208154"
      ]
     },
     "execution_count": 232,
     "metadata": {},
     "output_type": "execute_result"
    }
   ],
   "source": [
    "# calculate the RMSE of the model\n",
    "rmse = np.sqrt(mse)\n",
    "rmse"
   ]
  },
  {
   "cell_type": "code",
   "execution_count": 233,
   "id": "49df1795",
   "metadata": {
    "execution": {
     "iopub.execute_input": "2023-02-21T19:33:52.705934Z",
     "iopub.status.busy": "2023-02-21T19:33:52.705182Z",
     "iopub.status.idle": "2023-02-21T19:33:52.722182Z",
     "shell.execute_reply": "2023-02-21T19:33:52.720721Z"
    },
    "id": "66dfe727",
    "papermill": {
     "duration": 0.108815,
     "end_time": "2023-02-21T19:33:52.727300",
     "exception": false,
     "start_time": "2023-02-21T19:33:52.618485",
     "status": "completed"
    },
    "tags": []
   },
   "outputs": [],
   "source": [
    "# Ridge\n",
    "L2 = Ridge(alpha=1.0)\n",
    "L2.fit(x_train, y_train) \n",
    "y_pred3 = L2.predict(x_test)"
   ]
  },
  {
   "cell_type": "code",
   "execution_count": 234,
   "id": "eedbdb39",
   "metadata": {
    "execution": {
     "iopub.execute_input": "2023-02-21T19:33:52.974995Z",
     "iopub.status.busy": "2023-02-21T19:33:52.974544Z",
     "iopub.status.idle": "2023-02-21T19:33:52.983241Z",
     "shell.execute_reply": "2023-02-21T19:33:52.982199Z"
    },
    "id": "a9df5b87",
    "outputId": "246f71f2-9e45-4b49-cfe3-a13cba765062",
    "papermill": {
     "duration": 0.098111,
     "end_time": "2023-02-21T19:33:52.985558",
     "exception": false,
     "start_time": "2023-02-21T19:33:52.887447",
     "status": "completed"
    },
    "tags": []
   },
   "outputs": [
    {
     "data": {
      "text/plain": [
       "0.8349875922803607"
      ]
     },
     "execution_count": 234,
     "metadata": {},
     "output_type": "execute_result"
    }
   ],
   "source": [
    "r2 = r2_score(y_test, y_pred3)\n",
    "r2 "
   ]
  },
  {
   "cell_type": "code",
   "execution_count": 235,
   "id": "0cb2cc2a",
   "metadata": {
    "execution": {
     "iopub.execute_input": "2023-02-21T19:33:53.157643Z",
     "iopub.status.busy": "2023-02-21T19:33:53.157168Z",
     "iopub.status.idle": "2023-02-21T19:33:53.164919Z",
     "shell.execute_reply": "2023-02-21T19:33:53.163762Z"
    },
    "id": "16e2fcd9",
    "outputId": "1eee334f-be78-4684-e50a-ad2bbad01acc",
    "papermill": {
     "duration": 0.096075,
     "end_time": "2023-02-21T19:33:53.167067",
     "exception": false,
     "start_time": "2023-02-21T19:33:53.070992",
     "status": "completed"
    },
    "tags": []
   },
   "outputs": [
    {
     "data": {
      "text/plain": [
       "1.3343143263471502"
      ]
     },
     "execution_count": 235,
     "metadata": {},
     "output_type": "execute_result"
    }
   ],
   "source": [
    "# calculate the MAE of the model\n",
    "mae = mean_absolute_error(y_test, y_pred3)\n",
    "mae"
   ]
  },
  {
   "cell_type": "code",
   "execution_count": 236,
   "id": "e63fb2e2",
   "metadata": {
    "execution": {
     "iopub.execute_input": "2023-02-21T19:33:53.341450Z",
     "iopub.status.busy": "2023-02-21T19:33:53.340547Z",
     "iopub.status.idle": "2023-02-21T19:33:53.347364Z",
     "shell.execute_reply": "2023-02-21T19:33:53.346347Z"
    },
    "id": "2a27fcfc",
    "outputId": "797cc55d-51de-4c25-b397-e4b93bd4c692",
    "papermill": {
     "duration": 0.094818,
     "end_time": "2023-02-21T19:33:53.349429",
     "exception": false,
     "start_time": "2023-02-21T19:33:53.254611",
     "status": "completed"
    },
    "tags": []
   },
   "outputs": [
    {
     "data": {
      "text/plain": [
       "5.847648220502174"
      ]
     },
     "execution_count": 236,
     "metadata": {},
     "output_type": "execute_result"
    }
   ],
   "source": [
    "# calculate the MSE of the model\n",
    "mse = mean_squared_error(y_test, y_pred3)\n",
    "mse"
   ]
  },
  {
   "cell_type": "code",
   "execution_count": 237,
   "id": "418b8b26",
   "metadata": {
    "execution": {
     "iopub.execute_input": "2023-02-21T19:33:53.575136Z",
     "iopub.status.busy": "2023-02-21T19:33:53.574381Z",
     "iopub.status.idle": "2023-02-21T19:33:53.581792Z",
     "shell.execute_reply": "2023-02-21T19:33:53.580718Z"
    },
    "id": "0c7cc0a7",
    "outputId": "acb2e298-d521-430f-af7a-e393385d96dc",
    "papermill": {
     "duration": 0.150313,
     "end_time": "2023-02-21T19:33:53.584010",
     "exception": false,
     "start_time": "2023-02-21T19:33:53.433697",
     "status": "completed"
    },
    "tags": []
   },
   "outputs": [
    {
     "data": {
      "text/plain": [
       "2.418191105041571"
      ]
     },
     "execution_count": 237,
     "metadata": {},
     "output_type": "execute_result"
    }
   ],
   "source": [
    "# calculate the RMSE of the model\n",
    "rmse = np.sqrt(mse)\n",
    "rmse"
   ]
  },
  {
   "cell_type": "markdown",
   "id": "46e562e4",
   "metadata": {
    "id": "f1eeb80e",
    "papermill": {
     "duration": 0.084163,
     "end_time": "2023-02-21T19:33:53.754241",
     "exception": false,
     "start_time": "2023-02-21T19:33:53.670078",
     "status": "completed"
    },
    "tags": []
   },
   "source": [
    "##Client 10: Mount St Marys Hospital"
   ]
  },
  {
   "cell_type": "code",
   "execution_count": 238,
   "id": "6cb8d9aa",
   "metadata": {
    "execution": {
     "iopub.execute_input": "2023-02-21T19:33:53.926917Z",
     "iopub.status.busy": "2023-02-21T19:33:53.926510Z",
     "iopub.status.idle": "2023-02-21T19:33:54.081521Z",
     "shell.execute_reply": "2023-02-21T19:33:54.080345Z"
    },
    "id": "5c968068",
    "papermill": {
     "duration": 0.245498,
     "end_time": "2023-02-21T19:33:54.084140",
     "exception": false,
     "start_time": "2023-02-21T19:33:53.838642",
     "status": "completed"
    },
    "tags": []
   },
   "outputs": [],
   "source": [
    "#Mount St Marys Hospital and Health Center\n",
    "Mount_df=df[df[\"Facility Name\"]== 'Mount St Marys Hospital and Health Center']"
   ]
  },
  {
   "cell_type": "code",
   "execution_count": 239,
   "id": "b1469e0c",
   "metadata": {
    "execution": {
     "iopub.execute_input": "2023-02-21T19:33:54.271235Z",
     "iopub.status.busy": "2023-02-21T19:33:54.270289Z",
     "iopub.status.idle": "2023-02-21T19:33:54.299847Z",
     "shell.execute_reply": "2023-02-21T19:33:54.297970Z"
    },
    "id": "2a68b0b0",
    "outputId": "34ba1aea-4fbc-4e9d-fd5b-43e0621971aa",
    "papermill": {
     "duration": 0.13354,
     "end_time": "2023-02-21T19:33:54.302574",
     "exception": false,
     "start_time": "2023-02-21T19:33:54.169034",
     "status": "completed"
    },
    "tags": []
   },
   "outputs": [
    {
     "name": "stdout",
     "output_type": "stream",
     "text": [
      "<class 'pandas.core.frame.DataFrame'>\n",
      "Int64Index: 5314 entries, 138563 to 143964\n",
      "Data columns (total 28 columns):\n",
      " #   Column                            Non-Null Count  Dtype   \n",
      "---  ------                            --------------  -----   \n",
      " 0   Hospital County                   5314 non-null   category\n",
      " 1   Operating Certificate Number      5314 non-null   float64 \n",
      " 2   Facility Id                       5314 non-null   float64 \n",
      " 3   Facility Name                     5314 non-null   object  \n",
      " 4   Age Group                         5314 non-null   category\n",
      " 5   Zip Code - 3 digits               5267 non-null   category\n",
      " 6   Gender                            5314 non-null   category\n",
      " 7   Race                              5314 non-null   category\n",
      " 8   Ethnicity                         5314 non-null   category\n",
      " 9   Length of Stay                    5314 non-null   category\n",
      " 10  Type of Admission                 5314 non-null   category\n",
      " 11  Patient Disposition               5314 non-null   category\n",
      " 12  Discharge Year                    5314 non-null   int64   \n",
      " 13  CCS Diagnosis Code                5314 non-null   int64   \n",
      " 14  CCS Procedure Code                5314 non-null   int64   \n",
      " 15  APR DRG Code                      5314 non-null   int64   \n",
      " 16  APR MDC Code                      5314 non-null   int64   \n",
      " 17  APR Severity of Illness Code      5314 non-null   int64   \n",
      " 18  APR Risk of Mortality             5314 non-null   category\n",
      " 19  APR Medical Surgical Description  5314 non-null   category\n",
      " 20  Payment Typology 1                5314 non-null   category\n",
      " 21  Payment Typology 2                2876 non-null   category\n",
      " 22  Payment Typology 3                327 non-null    category\n",
      " 23  Birth Weight                      5314 non-null   int64   \n",
      " 24  Abortion Edit Indicator           5314 non-null   category\n",
      " 25  Emergency Department Indicator    5314 non-null   category\n",
      " 26  Total Charges                     5314 non-null   float64 \n",
      " 27  Total Costs                       5314 non-null   float64 \n",
      "dtypes: category(16), float64(4), int64(7), object(1)\n",
      "memory usage: 646.0+ KB\n"
     ]
    }
   ],
   "source": [
    "Mount_df.info()\n"
   ]
  },
  {
   "cell_type": "code",
   "execution_count": 240,
   "id": "e2ffb79f",
   "metadata": {
    "execution": {
     "iopub.execute_input": "2023-02-21T19:33:54.491185Z",
     "iopub.status.busy": "2023-02-21T19:33:54.490792Z",
     "iopub.status.idle": "2023-02-21T19:33:54.497896Z",
     "shell.execute_reply": "2023-02-21T19:33:54.496660Z"
    },
    "id": "472f22d0",
    "papermill": {
     "duration": 0.101862,
     "end_time": "2023-02-21T19:33:54.500170",
     "exception": false,
     "start_time": "2023-02-21T19:33:54.398308",
     "status": "completed"
    },
    "tags": []
   },
   "outputs": [],
   "source": [
    "Mount_df = Mount_df.drop(\"Facility Name\", axis=1)\n"
   ]
  },
  {
   "cell_type": "code",
   "execution_count": 241,
   "id": "58bbedb8",
   "metadata": {
    "execution": {
     "iopub.execute_input": "2023-02-21T19:33:54.693989Z",
     "iopub.status.busy": "2023-02-21T19:33:54.693555Z",
     "iopub.status.idle": "2023-02-21T19:33:54.702830Z",
     "shell.execute_reply": "2023-02-21T19:33:54.701535Z"
    },
    "id": "c172e32c",
    "papermill": {
     "duration": 0.103726,
     "end_time": "2023-02-21T19:33:54.705770",
     "exception": false,
     "start_time": "2023-02-21T19:33:54.602044",
     "status": "completed"
    },
    "tags": []
   },
   "outputs": [],
   "source": [
    " #   simple mapping on binary features.\n",
    "Mount_df['Abortion Edit Indicator'] = Mount_df['Abortion Edit Indicator'].apply(\n",
    "     lambda x: 1 if x == 'Y' else (0 if x == 'N' else None))\n",
    "Mount_df['Emergency Department Indicator'] = Mount_df['Emergency Department Indicator'].apply(\n",
    "    lambda x: 1 if x == 'Y' else (0 if x == 'N' else None))"
   ]
  },
  {
   "cell_type": "code",
   "execution_count": 242,
   "id": "87fbba37",
   "metadata": {
    "execution": {
     "iopub.execute_input": "2023-02-21T19:33:54.882503Z",
     "iopub.status.busy": "2023-02-21T19:33:54.882027Z",
     "iopub.status.idle": "2023-02-21T19:33:54.892058Z",
     "shell.execute_reply": "2023-02-21T19:33:54.891157Z"
    },
    "id": "043b689f",
    "papermill": {
     "duration": 0.10017,
     "end_time": "2023-02-21T19:33:54.894549",
     "exception": false,
     "start_time": "2023-02-21T19:33:54.794379",
     "status": "completed"
    },
    "tags": []
   },
   "outputs": [],
   "source": [
    "Mount_df[\"Length of Stay\"]=pd.to_numeric(Mount_df[\"Length of Stay\"],errors='coerce')"
   ]
  },
  {
   "cell_type": "code",
   "execution_count": 243,
   "id": "30563638",
   "metadata": {
    "execution": {
     "iopub.execute_input": "2023-02-21T19:33:55.069543Z",
     "iopub.status.busy": "2023-02-21T19:33:55.068253Z",
     "iopub.status.idle": "2023-02-21T19:33:55.099325Z",
     "shell.execute_reply": "2023-02-21T19:33:55.098407Z"
    },
    "id": "f273ab4c",
    "papermill": {
     "duration": 0.12046,
     "end_time": "2023-02-21T19:33:55.101865",
     "exception": false,
     "start_time": "2023-02-21T19:33:54.981405",
     "status": "completed"
    },
    "tags": []
   },
   "outputs": [],
   "source": [
    "list=  [ \"Hospital County\",\"Age Group\"\n",
    "    ,\"Gender\",   \n",
    " \"Race\" , \n",
    "\"Ethnicity\", \n",
    "\"Gender\" , \n",
    "\"Race\" ,    \n",
    " \"Ethnicity\" ,        \n",
    " \"Type of Admission\"  ,  \n",
    "  \"Patient Disposition\",      \n",
    " \"Type of Admission\" ,  \n",
    " \"Patient Disposition\"  ,\n",
    "  \"APR Risk of Mortality\" ,   \n",
    " \"APR Medical Surgical Description\" ,\n",
    " \"Payment Typology 1\"   ,   \n",
    " \"Abortion Edit Indicator\"     ,  \n",
    " \"Emergency Department Indicator\",\n",
    "       \"Zip Code - 3 digits\"]  \n",
    "\n",
    "# Import label encoder\n",
    "from sklearn import preprocessing\n",
    "  \n",
    "# label_encoder object knows how to understand word labels.\n",
    "label_encoder = preprocessing.LabelEncoder()\n",
    "  \n",
    "# Encode labels in column 'species'.\n",
    "for col in list :\n",
    "  Mount_df[col]= label_encoder.fit_transform(Mount_df[col])"
   ]
  },
  {
   "cell_type": "code",
   "execution_count": 244,
   "id": "09143d82",
   "metadata": {
    "execution": {
     "iopub.execute_input": "2023-02-21T19:33:55.276026Z",
     "iopub.status.busy": "2023-02-21T19:33:55.274812Z",
     "iopub.status.idle": "2023-02-21T19:33:55.293528Z",
     "shell.execute_reply": "2023-02-21T19:33:55.292058Z"
    },
    "id": "b7d006f4",
    "outputId": "92ea0a58-fc4c-4a4e-da3e-0da3365f0d8a",
    "papermill": {
     "duration": 0.108877,
     "end_time": "2023-02-21T19:33:55.296633",
     "exception": false,
     "start_time": "2023-02-21T19:33:55.187756",
     "status": "completed"
    },
    "tags": []
   },
   "outputs": [
    {
     "name": "stdout",
     "output_type": "stream",
     "text": [
      "<class 'pandas.core.frame.DataFrame'>\n",
      "Int64Index: 5314 entries, 138563 to 143964\n",
      "Data columns (total 27 columns):\n",
      " #   Column                            Non-Null Count  Dtype   \n",
      "---  ------                            --------------  -----   \n",
      " 0   Hospital County                   5314 non-null   int64   \n",
      " 1   Operating Certificate Number      5314 non-null   float64 \n",
      " 2   Facility Id                       5314 non-null   float64 \n",
      " 3   Age Group                         5314 non-null   int64   \n",
      " 4   Zip Code - 3 digits               5314 non-null   int64   \n",
      " 5   Gender                            5314 non-null   int64   \n",
      " 6   Race                              5314 non-null   int64   \n",
      " 7   Ethnicity                         5314 non-null   int64   \n",
      " 8   Length of Stay                    5314 non-null   int64   \n",
      " 9   Type of Admission                 5314 non-null   int64   \n",
      " 10  Patient Disposition               5314 non-null   int64   \n",
      " 11  Discharge Year                    5314 non-null   int64   \n",
      " 12  CCS Diagnosis Code                5314 non-null   int64   \n",
      " 13  CCS Procedure Code                5314 non-null   int64   \n",
      " 14  APR DRG Code                      5314 non-null   int64   \n",
      " 15  APR MDC Code                      5314 non-null   int64   \n",
      " 16  APR Severity of Illness Code      5314 non-null   int64   \n",
      " 17  APR Risk of Mortality             5314 non-null   int64   \n",
      " 18  APR Medical Surgical Description  5314 non-null   int64   \n",
      " 19  Payment Typology 1                5314 non-null   int64   \n",
      " 20  Payment Typology 2                2876 non-null   category\n",
      " 21  Payment Typology 3                327 non-null    category\n",
      " 22  Birth Weight                      5314 non-null   int64   \n",
      " 23  Abortion Edit Indicator           5314 non-null   int64   \n",
      " 24  Emergency Department Indicator    5314 non-null   int64   \n",
      " 25  Total Charges                     5314 non-null   float64 \n",
      " 26  Total Costs                       5314 non-null   float64 \n",
      "dtypes: category(2), float64(4), int64(21)\n",
      "memory usage: 1.1 MB\n"
     ]
    }
   ],
   "source": [
    "Mount_df.info()"
   ]
  },
  {
   "cell_type": "code",
   "execution_count": 245,
   "id": "f61c8ab7",
   "metadata": {
    "execution": {
     "iopub.execute_input": "2023-02-21T19:33:55.471570Z",
     "iopub.status.busy": "2023-02-21T19:33:55.470846Z",
     "iopub.status.idle": "2023-02-21T19:33:55.478166Z",
     "shell.execute_reply": "2023-02-21T19:33:55.476970Z"
    },
    "id": "0b203fc0",
    "papermill": {
     "duration": 0.097643,
     "end_time": "2023-02-21T19:33:55.480551",
     "exception": false,
     "start_time": "2023-02-21T19:33:55.382908",
     "status": "completed"
    },
    "tags": []
   },
   "outputs": [],
   "source": [
    "Mount_df = Mount_df.drop([\"Payment Typology 2\",    \"Payment Typology 3\"], axis=1)\n"
   ]
  },
  {
   "cell_type": "code",
   "execution_count": 246,
   "id": "857ec25d",
   "metadata": {
    "execution": {
     "iopub.execute_input": "2023-02-21T19:33:55.656933Z",
     "iopub.status.busy": "2023-02-21T19:33:55.656453Z",
     "iopub.status.idle": "2023-02-21T19:33:55.663629Z",
     "shell.execute_reply": "2023-02-21T19:33:55.662348Z"
    },
    "id": "f99ed494",
    "papermill": {
     "duration": 0.099428,
     "end_time": "2023-02-21T19:33:55.666276",
     "exception": false,
     "start_time": "2023-02-21T19:33:55.566848",
     "status": "completed"
    },
    "tags": []
   },
   "outputs": [],
   "source": [
    "x = Mount_df.drop([\"Length of Stay\"], axis =1)\n",
    "y = Mount_df[\"Length of Stay\"]"
   ]
  },
  {
   "cell_type": "code",
   "execution_count": 247,
   "id": "c0ae90ce",
   "metadata": {
    "execution": {
     "iopub.execute_input": "2023-02-21T19:33:55.841201Z",
     "iopub.status.busy": "2023-02-21T19:33:55.839810Z",
     "iopub.status.idle": "2023-02-21T19:33:55.848580Z",
     "shell.execute_reply": "2023-02-21T19:33:55.847394Z"
    },
    "id": "b168791b",
    "papermill": {
     "duration": 0.098043,
     "end_time": "2023-02-21T19:33:55.851229",
     "exception": false,
     "start_time": "2023-02-21T19:33:55.753186",
     "status": "completed"
    },
    "tags": []
   },
   "outputs": [],
   "source": [
    "x_train, x_test, y_train, y_test = train_test_split(x, y, test_size=0.3, random_state=42)"
   ]
  },
  {
   "cell_type": "code",
   "execution_count": 248,
   "id": "28cbd719",
   "metadata": {
    "execution": {
     "iopub.execute_input": "2023-02-21T19:33:56.026081Z",
     "iopub.status.busy": "2023-02-21T19:33:56.025333Z",
     "iopub.status.idle": "2023-02-21T19:33:56.054288Z",
     "shell.execute_reply": "2023-02-21T19:33:56.052577Z"
    },
    "id": "f3ea3b17",
    "papermill": {
     "duration": 0.120625,
     "end_time": "2023-02-21T19:33:56.058971",
     "exception": false,
     "start_time": "2023-02-21T19:33:55.938346",
     "status": "completed"
    },
    "tags": []
   },
   "outputs": [],
   "source": [
    "# Linear Regression\n",
    "\n",
    "LR = LinearRegression()\n",
    "LR.fit(x_train, y_train)\n",
    "LR.score(x_train, y_train)\n",
    "y_pred =LR.predict(x_test)"
   ]
  },
  {
   "cell_type": "code",
   "execution_count": 249,
   "id": "6ea3bd8a",
   "metadata": {
    "execution": {
     "iopub.execute_input": "2023-02-21T19:33:56.305491Z",
     "iopub.status.busy": "2023-02-21T19:33:56.305044Z",
     "iopub.status.idle": "2023-02-21T19:33:56.313956Z",
     "shell.execute_reply": "2023-02-21T19:33:56.312733Z"
    },
    "id": "c4a9f2ed",
    "outputId": "b8f55b5d-fc44-441e-ccbc-8dda42885130",
    "papermill": {
     "duration": 0.099626,
     "end_time": "2023-02-21T19:33:56.316552",
     "exception": false,
     "start_time": "2023-02-21T19:33:56.216926",
     "status": "completed"
    },
    "tags": []
   },
   "outputs": [
    {
     "data": {
      "text/plain": [
       "0.8493645328400692"
      ]
     },
     "execution_count": 249,
     "metadata": {},
     "output_type": "execute_result"
    }
   ],
   "source": [
    "r2 = r2_score(y_test, y_pred)\n",
    "r2 \n"
   ]
  },
  {
   "cell_type": "code",
   "execution_count": 250,
   "id": "043f963c",
   "metadata": {
    "execution": {
     "iopub.execute_input": "2023-02-21T19:33:56.490282Z",
     "iopub.status.busy": "2023-02-21T19:33:56.489891Z",
     "iopub.status.idle": "2023-02-21T19:33:56.497345Z",
     "shell.execute_reply": "2023-02-21T19:33:56.496572Z"
    },
    "id": "030fe533",
    "outputId": "0eb61a42-0339-4132-ca57-ff45b1a8275a",
    "papermill": {
     "duration": 0.096989,
     "end_time": "2023-02-21T19:33:56.499447",
     "exception": false,
     "start_time": "2023-02-21T19:33:56.402458",
     "status": "completed"
    },
    "tags": []
   },
   "outputs": [
    {
     "data": {
      "text/plain": [
       "1.5751957484784673"
      ]
     },
     "execution_count": 250,
     "metadata": {},
     "output_type": "execute_result"
    }
   ],
   "source": [
    "# calculate the MAE of the model\n",
    "mae = mean_absolute_error(y_test, y_pred)\n",
    "mae"
   ]
  },
  {
   "cell_type": "code",
   "execution_count": 251,
   "id": "318061be",
   "metadata": {
    "execution": {
     "iopub.execute_input": "2023-02-21T19:33:56.673994Z",
     "iopub.status.busy": "2023-02-21T19:33:56.673535Z",
     "iopub.status.idle": "2023-02-21T19:33:56.681819Z",
     "shell.execute_reply": "2023-02-21T19:33:56.680660Z"
    },
    "id": "f3bbbb25",
    "outputId": "35483dd6-8b2e-4f4c-fcc7-eb12fadc14e0",
    "papermill": {
     "duration": 0.098361,
     "end_time": "2023-02-21T19:33:56.684074",
     "exception": false,
     "start_time": "2023-02-21T19:33:56.585713",
     "status": "completed"
    },
    "tags": []
   },
   "outputs": [
    {
     "data": {
      "text/plain": [
       "5.420550398990118"
      ]
     },
     "execution_count": 251,
     "metadata": {},
     "output_type": "execute_result"
    }
   ],
   "source": [
    "# calculate the MSE of the model\n",
    "mse = mean_squared_error(y_test, y_pred)\n",
    "mse"
   ]
  },
  {
   "cell_type": "code",
   "execution_count": 252,
   "id": "8bd7f251",
   "metadata": {
    "execution": {
     "iopub.execute_input": "2023-02-21T19:33:56.858471Z",
     "iopub.status.busy": "2023-02-21T19:33:56.857843Z",
     "iopub.status.idle": "2023-02-21T19:33:56.865005Z",
     "shell.execute_reply": "2023-02-21T19:33:56.863850Z"
    },
    "id": "6a408c03",
    "outputId": "9cef4c7f-ea25-4ddd-d490-56665e5bf5a0",
    "papermill": {
     "duration": 0.097068,
     "end_time": "2023-02-21T19:33:56.867268",
     "exception": false,
     "start_time": "2023-02-21T19:33:56.770200",
     "status": "completed"
    },
    "tags": []
   },
   "outputs": [
    {
     "data": {
      "text/plain": [
       "2.328207550668565"
      ]
     },
     "execution_count": 252,
     "metadata": {},
     "output_type": "execute_result"
    }
   ],
   "source": [
    "# calculate the RMSE of the model\n",
    "rmse = np.sqrt(mse)\n",
    "rmse"
   ]
  },
  {
   "cell_type": "code",
   "execution_count": 253,
   "id": "e75a98cb",
   "metadata": {
    "execution": {
     "iopub.execute_input": "2023-02-21T19:33:57.042637Z",
     "iopub.status.busy": "2023-02-21T19:33:57.042201Z",
     "iopub.status.idle": "2023-02-21T19:33:57.080827Z",
     "shell.execute_reply": "2023-02-21T19:33:57.079038Z"
    },
    "id": "d731b0d2",
    "papermill": {
     "duration": 0.129325,
     "end_time": "2023-02-21T19:33:57.083696",
     "exception": false,
     "start_time": "2023-02-21T19:33:56.954371",
     "status": "completed"
    },
    "tags": []
   },
   "outputs": [],
   "source": [
    "# LASSO\n",
    "L1 = linear_model.Lasso()\n",
    "L1.fit(x_train,y_train)\n",
    "y_pred1 = L1.predict(x_test)"
   ]
  },
  {
   "cell_type": "code",
   "execution_count": 254,
   "id": "b8c56ba0",
   "metadata": {
    "execution": {
     "iopub.execute_input": "2023-02-21T19:33:57.328269Z",
     "iopub.status.busy": "2023-02-21T19:33:57.327867Z",
     "iopub.status.idle": "2023-02-21T19:33:57.336006Z",
     "shell.execute_reply": "2023-02-21T19:33:57.334920Z"
    },
    "id": "51d58811",
    "outputId": "dd6e786b-adc6-4113-daf7-86996fd3c837",
    "papermill": {
     "duration": 0.097923,
     "end_time": "2023-02-21T19:33:57.338501",
     "exception": false,
     "start_time": "2023-02-21T19:33:57.240578",
     "status": "completed"
    },
    "tags": []
   },
   "outputs": [
    {
     "data": {
      "text/plain": [
       "0.8032059655994213"
      ]
     },
     "execution_count": 254,
     "metadata": {},
     "output_type": "execute_result"
    }
   ],
   "source": [
    "r2 = r2_score(y_test, y_pred1)\n",
    "r2 \n"
   ]
  },
  {
   "cell_type": "code",
   "execution_count": 255,
   "id": "91bc6c19",
   "metadata": {
    "execution": {
     "iopub.execute_input": "2023-02-21T19:33:57.580180Z",
     "iopub.status.busy": "2023-02-21T19:33:57.579014Z",
     "iopub.status.idle": "2023-02-21T19:33:57.586985Z",
     "shell.execute_reply": "2023-02-21T19:33:57.585726Z"
    },
    "id": "a9a30aab",
    "outputId": "b4112aad-261a-4427-9b00-acd6bf91043d",
    "papermill": {
     "duration": 0.10736,
     "end_time": "2023-02-21T19:33:57.589498",
     "exception": false,
     "start_time": "2023-02-21T19:33:57.482138",
     "status": "completed"
    },
    "tags": []
   },
   "outputs": [
    {
     "data": {
      "text/plain": [
       "7.081545945327565"
      ]
     },
     "execution_count": 255,
     "metadata": {},
     "output_type": "execute_result"
    }
   ],
   "source": [
    "# calculate the MSE of the model\n",
    "mse = mean_squared_error(y_test, y_pred1)\n",
    "mse"
   ]
  },
  {
   "cell_type": "code",
   "execution_count": 256,
   "id": "0c437016",
   "metadata": {
    "execution": {
     "iopub.execute_input": "2023-02-21T19:33:57.766358Z",
     "iopub.status.busy": "2023-02-21T19:33:57.765373Z",
     "iopub.status.idle": "2023-02-21T19:33:57.771752Z",
     "shell.execute_reply": "2023-02-21T19:33:57.770733Z"
    },
    "id": "07e70765",
    "outputId": "a1ad7d78-4dfc-4c98-eba8-8f83cc319274",
    "papermill": {
     "duration": 0.096683,
     "end_time": "2023-02-21T19:33:57.773944",
     "exception": false,
     "start_time": "2023-02-21T19:33:57.677261",
     "status": "completed"
    },
    "tags": []
   },
   "outputs": [
    {
     "data": {
      "text/plain": [
       "2.6611174241899898"
      ]
     },
     "execution_count": 256,
     "metadata": {},
     "output_type": "execute_result"
    }
   ],
   "source": [
    "# calculate the RMSE of the model\n",
    "rmse = np.sqrt(mse)\n",
    "rmse"
   ]
  },
  {
   "cell_type": "code",
   "execution_count": 257,
   "id": "d7f961e0",
   "metadata": {
    "execution": {
     "iopub.execute_input": "2023-02-21T19:33:57.950135Z",
     "iopub.status.busy": "2023-02-21T19:33:57.949381Z",
     "iopub.status.idle": "2023-02-21T19:33:57.965392Z",
     "shell.execute_reply": "2023-02-21T19:33:57.964259Z"
    },
    "id": "32cd4ecb",
    "papermill": {
     "duration": 0.108215,
     "end_time": "2023-02-21T19:33:57.970081",
     "exception": false,
     "start_time": "2023-02-21T19:33:57.861866",
     "status": "completed"
    },
    "tags": []
   },
   "outputs": [],
   "source": [
    "# Ridge\n",
    "L2 = Ridge(alpha=1.0)\n",
    "L2.fit(x_train, y_train) \n",
    "y_pred3 = L2.predict(x_test)"
   ]
  },
  {
   "cell_type": "code",
   "execution_count": 258,
   "id": "bf50e6e9",
   "metadata": {
    "execution": {
     "iopub.execute_input": "2023-02-21T19:33:58.218841Z",
     "iopub.status.busy": "2023-02-21T19:33:58.218379Z",
     "iopub.status.idle": "2023-02-21T19:33:58.226584Z",
     "shell.execute_reply": "2023-02-21T19:33:58.225367Z"
    },
    "id": "d0979910",
    "outputId": "bbd2c8db-3065-4a4a-a9a3-c0441fe2b3ef",
    "papermill": {
     "duration": 0.099053,
     "end_time": "2023-02-21T19:33:58.229040",
     "exception": false,
     "start_time": "2023-02-21T19:33:58.129987",
     "status": "completed"
    },
    "tags": []
   },
   "outputs": [
    {
     "data": {
      "text/plain": [
       "0.8493873434940765"
      ]
     },
     "execution_count": 258,
     "metadata": {},
     "output_type": "execute_result"
    }
   ],
   "source": [
    "r2 = r2_score(y_test, y_pred3)\n",
    "r2 "
   ]
  },
  {
   "cell_type": "code",
   "execution_count": 259,
   "id": "843ab7ad",
   "metadata": {
    "execution": {
     "iopub.execute_input": "2023-02-21T19:33:58.406399Z",
     "iopub.status.busy": "2023-02-21T19:33:58.405485Z",
     "iopub.status.idle": "2023-02-21T19:33:58.412291Z",
     "shell.execute_reply": "2023-02-21T19:33:58.411461Z"
    },
    "id": "d0179c0d",
    "outputId": "0611e7b3-b668-4c25-a151-95b44c86cd79",
    "papermill": {
     "duration": 0.098174,
     "end_time": "2023-02-21T19:33:58.414651",
     "exception": false,
     "start_time": "2023-02-21T19:33:58.316477",
     "status": "completed"
    },
    "tags": []
   },
   "outputs": [
    {
     "data": {
      "text/plain": [
       "1.5750406339612182"
      ]
     },
     "execution_count": 259,
     "metadata": {},
     "output_type": "execute_result"
    }
   ],
   "source": [
    "# calculate the MAE of the model\n",
    "mae = mean_absolute_error(y_test, y_pred3)\n",
    "mae"
   ]
  },
  {
   "cell_type": "code",
   "execution_count": 260,
   "id": "038b7b52",
   "metadata": {
    "execution": {
     "iopub.execute_input": "2023-02-21T19:33:58.622904Z",
     "iopub.status.busy": "2023-02-21T19:33:58.622209Z",
     "iopub.status.idle": "2023-02-21T19:33:58.630907Z",
     "shell.execute_reply": "2023-02-21T19:33:58.629613Z"
    },
    "id": "cd50fad3",
    "outputId": "804bbf18-3b3c-419b-ac6b-8972e0ad4b46",
    "papermill": {
     "duration": 0.130252,
     "end_time": "2023-02-21T19:33:58.633199",
     "exception": false,
     "start_time": "2023-02-21T19:33:58.502947",
     "status": "completed"
    },
    "tags": []
   },
   "outputs": [
    {
     "data": {
      "text/plain": [
       "5.419729567734293"
      ]
     },
     "execution_count": 260,
     "metadata": {},
     "output_type": "execute_result"
    }
   ],
   "source": [
    "# calculate the MSE of the model\n",
    "mse = mean_squared_error(y_test, y_pred3)\n",
    "mse"
   ]
  },
  {
   "cell_type": "code",
   "execution_count": 261,
   "id": "367dfcb3",
   "metadata": {
    "execution": {
     "iopub.execute_input": "2023-02-21T19:33:58.810677Z",
     "iopub.status.busy": "2023-02-21T19:33:58.809881Z",
     "iopub.status.idle": "2023-02-21T19:33:58.817432Z",
     "shell.execute_reply": "2023-02-21T19:33:58.816368Z"
    },
    "id": "76b53d6f",
    "outputId": "515d0c5c-8061-4d6f-b0c8-8c101e1e5360",
    "papermill": {
     "duration": 0.09974,
     "end_time": "2023-02-21T19:33:58.819488",
     "exception": false,
     "start_time": "2023-02-21T19:33:58.719748",
     "status": "completed"
    },
    "tags": []
   },
   "outputs": [
    {
     "data": {
      "text/plain": [
       "2.328031264337808"
      ]
     },
     "execution_count": 261,
     "metadata": {},
     "output_type": "execute_result"
    }
   ],
   "source": [
    "# calculate the RMSE of the model\n",
    "rmse = np.sqrt(mse)\n",
    "rmse"
   ]
  },
  {
   "cell_type": "markdown",
   "id": "1d0a0bb9",
   "metadata": {
    "id": "b0526b1e",
    "papermill": {
     "duration": 0.086703,
     "end_time": "2023-02-21T19:33:58.992746",
     "exception": false,
     "start_time": "2023-02-21T19:33:58.906043",
     "status": "completed"
    },
    "tags": []
   },
   "source": [
    "##Client 5: Buffalo Women & Children’s Hospital 11051\n"
   ]
  },
  {
   "cell_type": "code",
   "execution_count": 262,
   "id": "427cf319",
   "metadata": {
    "execution": {
     "iopub.execute_input": "2023-02-21T19:33:59.168606Z",
     "iopub.status.busy": "2023-02-21T19:33:59.167839Z",
     "iopub.status.idle": "2023-02-21T19:33:59.325600Z",
     "shell.execute_reply": "2023-02-21T19:33:59.324358Z"
    },
    "id": "b3e7efd9",
    "papermill": {
     "duration": 0.248497,
     "end_time": "2023-02-21T19:33:59.328402",
     "exception": false,
     "start_time": "2023-02-21T19:33:59.079905",
     "status": "completed"
    },
    "tags": []
   },
   "outputs": [],
   "source": [
    "\n",
    "Buffalo_df=df[df[\"Facility Name\"]== \"Women And Children's Hospital Of Buffalo\"]"
   ]
  },
  {
   "cell_type": "code",
   "execution_count": 263,
   "id": "2af722ee",
   "metadata": {
    "execution": {
     "iopub.execute_input": "2023-02-21T19:33:59.503008Z",
     "iopub.status.busy": "2023-02-21T19:33:59.502558Z",
     "iopub.status.idle": "2023-02-21T19:33:59.526684Z",
     "shell.execute_reply": "2023-02-21T19:33:59.525333Z"
    },
    "id": "789a69d9",
    "outputId": "7180a0d4-3e85-49ca-d732-e6b5a0ea0848",
    "papermill": {
     "duration": 0.114459,
     "end_time": "2023-02-21T19:33:59.529330",
     "exception": false,
     "start_time": "2023-02-21T19:33:59.414871",
     "status": "completed"
    },
    "tags": []
   },
   "outputs": [
    {
     "name": "stdout",
     "output_type": "stream",
     "text": [
      "<class 'pandas.core.frame.DataFrame'>\n",
      "Int64Index: 13020 entries, 3309 to 54603\n",
      "Data columns (total 28 columns):\n",
      " #   Column                            Non-Null Count  Dtype   \n",
      "---  ------                            --------------  -----   \n",
      " 0   Hospital County                   13020 non-null  category\n",
      " 1   Operating Certificate Number      13020 non-null  float64 \n",
      " 2   Facility Id                       13020 non-null  float64 \n",
      " 3   Facility Name                     13020 non-null  object  \n",
      " 4   Age Group                         13020 non-null  category\n",
      " 5   Zip Code - 3 digits               12941 non-null  category\n",
      " 6   Gender                            13020 non-null  category\n",
      " 7   Race                              13020 non-null  category\n",
      " 8   Ethnicity                         13020 non-null  category\n",
      " 9   Length of Stay                    13020 non-null  category\n",
      " 10  Type of Admission                 13020 non-null  category\n",
      " 11  Patient Disposition               13020 non-null  category\n",
      " 12  Discharge Year                    13020 non-null  int64   \n",
      " 13  CCS Diagnosis Code                13020 non-null  int64   \n",
      " 14  CCS Procedure Code                13020 non-null  int64   \n",
      " 15  APR DRG Code                      13020 non-null  int64   \n",
      " 16  APR MDC Code                      13020 non-null  int64   \n",
      " 17  APR Severity of Illness Code      13020 non-null  int64   \n",
      " 18  APR Risk of Mortality             13020 non-null  category\n",
      " 19  APR Medical Surgical Description  13020 non-null  category\n",
      " 20  Payment Typology 1                13020 non-null  category\n",
      " 21  Payment Typology 2                12947 non-null  category\n",
      " 22  Payment Typology 3                787 non-null    category\n",
      " 23  Birth Weight                      13020 non-null  int64   \n",
      " 24  Abortion Edit Indicator           13020 non-null  category\n",
      " 25  Emergency Department Indicator    13020 non-null  category\n",
      " 26  Total Charges                     13020 non-null  float64 \n",
      " 27  Total Costs                       13020 non-null  float64 \n",
      "dtypes: category(16), float64(4), int64(7), object(1)\n",
      "memory usage: 1.5+ MB\n"
     ]
    }
   ],
   "source": [
    "Buffalo_df.info()"
   ]
  },
  {
   "cell_type": "code",
   "execution_count": 264,
   "id": "406493a8",
   "metadata": {
    "execution": {
     "iopub.execute_input": "2023-02-21T19:33:59.704940Z",
     "iopub.status.busy": "2023-02-21T19:33:59.703873Z",
     "iopub.status.idle": "2023-02-21T19:33:59.710625Z",
     "shell.execute_reply": "2023-02-21T19:33:59.709837Z"
    },
    "id": "fe06fdef",
    "papermill": {
     "duration": 0.096684,
     "end_time": "2023-02-21T19:33:59.712814",
     "exception": false,
     "start_time": "2023-02-21T19:33:59.616130",
     "status": "completed"
    },
    "tags": []
   },
   "outputs": [],
   "source": [
    "Buffalo_df= Buffalo_df.drop(\"Facility Name\", axis=1)"
   ]
  },
  {
   "cell_type": "code",
   "execution_count": 265,
   "id": "9e810b80",
   "metadata": {
    "execution": {
     "iopub.execute_input": "2023-02-21T19:33:59.887951Z",
     "iopub.status.busy": "2023-02-21T19:33:59.887204Z",
     "iopub.status.idle": "2023-02-21T19:33:59.894181Z",
     "shell.execute_reply": "2023-02-21T19:33:59.893052Z"
    },
    "id": "34366bea",
    "papermill": {
     "duration": 0.097826,
     "end_time": "2023-02-21T19:33:59.896572",
     "exception": false,
     "start_time": "2023-02-21T19:33:59.798746",
     "status": "completed"
    },
    "tags": []
   },
   "outputs": [],
   "source": [
    "Buffalo_df = Buffalo_df.drop([\"Payment Typology 2\",    \"Payment Typology 3\"], axis=1)\n"
   ]
  },
  {
   "cell_type": "code",
   "execution_count": 266,
   "id": "c04af06f",
   "metadata": {
    "execution": {
     "iopub.execute_input": "2023-02-21T19:34:00.071101Z",
     "iopub.status.busy": "2023-02-21T19:34:00.070392Z",
     "iopub.status.idle": "2023-02-21T19:34:00.079083Z",
     "shell.execute_reply": "2023-02-21T19:34:00.078144Z"
    },
    "id": "9f2e66e4",
    "papermill": {
     "duration": 0.097993,
     "end_time": "2023-02-21T19:34:00.081333",
     "exception": false,
     "start_time": "2023-02-21T19:33:59.983340",
     "status": "completed"
    },
    "tags": []
   },
   "outputs": [],
   "source": [
    " #   simple mapping on binary features.\n",
    "Buffalo_df['Abortion Edit Indicator'] = Buffalo_df['Abortion Edit Indicator'].apply(\n",
    "     lambda x: 1 if x == 'Y' else (0 if x == 'N' else None))\n",
    "Buffalo_df['Emergency Department Indicator'] = Buffalo_df['Emergency Department Indicator'].apply(\n",
    "    lambda x: 1 if x == 'Y' else (0 if x == 'N' else None))"
   ]
  },
  {
   "cell_type": "code",
   "execution_count": 267,
   "id": "3c3b8804",
   "metadata": {
    "execution": {
     "iopub.execute_input": "2023-02-21T19:34:00.259236Z",
     "iopub.status.busy": "2023-02-21T19:34:00.258833Z",
     "iopub.status.idle": "2023-02-21T19:34:00.273413Z",
     "shell.execute_reply": "2023-02-21T19:34:00.271874Z"
    },
    "id": "6878933c",
    "papermill": {
     "duration": 0.108733,
     "end_time": "2023-02-21T19:34:00.276625",
     "exception": false,
     "start_time": "2023-02-21T19:34:00.167892",
     "status": "completed"
    },
    "tags": []
   },
   "outputs": [],
   "source": [
    "Buffalo_df[\"Length of Stay\"]=pd.to_numeric(Buffalo_df[\"Length of Stay\"],errors='coerce')"
   ]
  },
  {
   "cell_type": "code",
   "execution_count": 268,
   "id": "0351daaa",
   "metadata": {
    "execution": {
     "iopub.execute_input": "2023-02-21T19:34:00.452843Z",
     "iopub.status.busy": "2023-02-21T19:34:00.452409Z",
     "iopub.status.idle": "2023-02-21T19:34:00.507217Z",
     "shell.execute_reply": "2023-02-21T19:34:00.506354Z"
    },
    "id": "d4abcc12",
    "papermill": {
     "duration": 0.144723,
     "end_time": "2023-02-21T19:34:00.509702",
     "exception": false,
     "start_time": "2023-02-21T19:34:00.364979",
     "status": "completed"
    },
    "tags": []
   },
   "outputs": [],
   "source": [
    "list=  [ \"Hospital County\",\"Age Group\"\n",
    "    ,\"Gender\",   \n",
    " \"Race\" , \n",
    "\"Ethnicity\", \n",
    "\"Gender\" , \n",
    "\"Race\" ,    \n",
    " \"Ethnicity\" ,        \n",
    " \"Type of Admission\"  ,  \n",
    "  \"Patient Disposition\",      \n",
    " \"Type of Admission\" ,  \n",
    " \"Patient Disposition\"  ,\n",
    "  \"APR Risk of Mortality\" ,   \n",
    " \"APR Medical Surgical Description\" ,\n",
    " \"Payment Typology 1\"   ,   \n",
    " \"Abortion Edit Indicator\"     ,  \n",
    " \"Emergency Department Indicator\",\n",
    "       \"Zip Code - 3 digits\"]  \n",
    "\n",
    "# Import label encoder\n",
    "from sklearn import preprocessing\n",
    "  \n",
    "# label_encoder object knows how to understand word labels.\n",
    "label_encoder = preprocessing.LabelEncoder()\n",
    "  \n",
    "# Encode labels in column 'species'.\n",
    "for col in list :\n",
    "  Buffalo_df[col]= label_encoder.fit_transform(Buffalo_df[col])"
   ]
  },
  {
   "cell_type": "code",
   "execution_count": 269,
   "id": "d4091fae",
   "metadata": {
    "execution": {
     "iopub.execute_input": "2023-02-21T19:34:00.685177Z",
     "iopub.status.busy": "2023-02-21T19:34:00.683905Z",
     "iopub.status.idle": "2023-02-21T19:34:00.691100Z",
     "shell.execute_reply": "2023-02-21T19:34:00.689851Z"
    },
    "id": "3063a1e5",
    "papermill": {
     "duration": 0.097538,
     "end_time": "2023-02-21T19:34:00.693893",
     "exception": false,
     "start_time": "2023-02-21T19:34:00.596355",
     "status": "completed"
    },
    "tags": []
   },
   "outputs": [],
   "source": [
    "x = Glens_df.drop([\"Length of Stay\"], axis =1)\n",
    "y = Glens_df[\"Length of Stay\"]"
   ]
  },
  {
   "cell_type": "code",
   "execution_count": 270,
   "id": "8bc0a3c9",
   "metadata": {
    "execution": {
     "iopub.execute_input": "2023-02-21T19:34:00.868811Z",
     "iopub.status.busy": "2023-02-21T19:34:00.867803Z",
     "iopub.status.idle": "2023-02-21T19:34:00.877421Z",
     "shell.execute_reply": "2023-02-21T19:34:00.876570Z"
    },
    "id": "6be1d8d5",
    "papermill": {
     "duration": 0.099825,
     "end_time": "2023-02-21T19:34:00.879935",
     "exception": false,
     "start_time": "2023-02-21T19:34:00.780110",
     "status": "completed"
    },
    "tags": []
   },
   "outputs": [],
   "source": [
    "x_train, x_test, y_train, y_test = train_test_split(x, y, test_size=0.3, random_state=42)"
   ]
  },
  {
   "cell_type": "code",
   "execution_count": 271,
   "id": "7941bf9a",
   "metadata": {
    "execution": {
     "iopub.execute_input": "2023-02-21T19:34:01.058971Z",
     "iopub.status.busy": "2023-02-21T19:34:01.058518Z",
     "iopub.status.idle": "2023-02-21T19:34:01.085741Z",
     "shell.execute_reply": "2023-02-21T19:34:01.084031Z"
    },
    "id": "f12ac1f0",
    "papermill": {
     "duration": 0.11964,
     "end_time": "2023-02-21T19:34:01.090068",
     "exception": false,
     "start_time": "2023-02-21T19:34:00.970428",
     "status": "completed"
    },
    "tags": []
   },
   "outputs": [],
   "source": [
    "# Linear Regression\n",
    "\n",
    "LR = LinearRegression()\n",
    "LR.fit(x_train, y_train)\n",
    "LR.score(x_train, y_train)\n",
    "y_pred =LR.predict(x_test)"
   ]
  },
  {
   "cell_type": "code",
   "execution_count": 272,
   "id": "ed89db9f",
   "metadata": {
    "execution": {
     "iopub.execute_input": "2023-02-21T19:34:01.337442Z",
     "iopub.status.busy": "2023-02-21T19:34:01.337047Z",
     "iopub.status.idle": "2023-02-21T19:34:01.345143Z",
     "shell.execute_reply": "2023-02-21T19:34:01.344061Z"
    },
    "id": "176d9e47",
    "outputId": "f66335b6-6d5c-43a5-909e-c7d3ba787eae",
    "papermill": {
     "duration": 0.098448,
     "end_time": "2023-02-21T19:34:01.347439",
     "exception": false,
     "start_time": "2023-02-21T19:34:01.248991",
     "status": "completed"
    },
    "tags": []
   },
   "outputs": [
    {
     "data": {
      "text/plain": [
       "0.7753107229320534"
      ]
     },
     "execution_count": 272,
     "metadata": {},
     "output_type": "execute_result"
    }
   ],
   "source": [
    "r2 = r2_score(y_test, y_pred)\n",
    "r2 \n"
   ]
  },
  {
   "cell_type": "code",
   "execution_count": 273,
   "id": "3da0415e",
   "metadata": {
    "execution": {
     "iopub.execute_input": "2023-02-21T19:34:01.527203Z",
     "iopub.status.busy": "2023-02-21T19:34:01.526478Z",
     "iopub.status.idle": "2023-02-21T19:34:01.535154Z",
     "shell.execute_reply": "2023-02-21T19:34:01.534047Z"
    },
    "id": "3522bcab",
    "outputId": "7e220ce6-59ba-40b5-b2c9-1e26ecaa2020",
    "papermill": {
     "duration": 0.102586,
     "end_time": "2023-02-21T19:34:01.537531",
     "exception": false,
     "start_time": "2023-02-21T19:34:01.434945",
     "status": "completed"
    },
    "tags": []
   },
   "outputs": [
    {
     "data": {
      "text/plain": [
       "1.519038644423741"
      ]
     },
     "execution_count": 273,
     "metadata": {},
     "output_type": "execute_result"
    }
   ],
   "source": [
    "# calculate the MAE of the model\n",
    "mae = mean_absolute_error(y_test, y_pred)\n",
    "mae"
   ]
  },
  {
   "cell_type": "code",
   "execution_count": 274,
   "id": "341378a1",
   "metadata": {
    "execution": {
     "iopub.execute_input": "2023-02-21T19:34:01.716010Z",
     "iopub.status.busy": "2023-02-21T19:34:01.715042Z",
     "iopub.status.idle": "2023-02-21T19:34:01.723262Z",
     "shell.execute_reply": "2023-02-21T19:34:01.722215Z"
    },
    "id": "e80c2d25",
    "outputId": "766eabf4-32fd-4237-a982-621de68fecf9",
    "papermill": {
     "duration": 0.099551,
     "end_time": "2023-02-21T19:34:01.725364",
     "exception": false,
     "start_time": "2023-02-21T19:34:01.625813",
     "status": "completed"
    },
    "tags": []
   },
   "outputs": [
    {
     "data": {
      "text/plain": [
       "8.394303923962779"
      ]
     },
     "execution_count": 274,
     "metadata": {},
     "output_type": "execute_result"
    }
   ],
   "source": [
    "# calculate the MSE of the model\n",
    "mse = mean_squared_error(y_test, y_pred)\n",
    "mse"
   ]
  },
  {
   "cell_type": "code",
   "execution_count": 275,
   "id": "12e32be5",
   "metadata": {
    "execution": {
     "iopub.execute_input": "2023-02-21T19:34:01.903441Z",
     "iopub.status.busy": "2023-02-21T19:34:01.902236Z",
     "iopub.status.idle": "2023-02-21T19:34:01.909595Z",
     "shell.execute_reply": "2023-02-21T19:34:01.908637Z"
    },
    "id": "cd1c6f90",
    "outputId": "b53aadef-13eb-4b8b-8cf3-4da2a2834785",
    "papermill": {
     "duration": 0.098637,
     "end_time": "2023-02-21T19:34:01.911821",
     "exception": false,
     "start_time": "2023-02-21T19:34:01.813184",
     "status": "completed"
    },
    "tags": []
   },
   "outputs": [
    {
     "data": {
      "text/plain": [
       "2.8972925161196237"
      ]
     },
     "execution_count": 275,
     "metadata": {},
     "output_type": "execute_result"
    }
   ],
   "source": [
    "# calculate the RMSE of the model\n",
    "rmse = np.sqrt(mse)\n",
    "rmse"
   ]
  },
  {
   "cell_type": "code",
   "execution_count": 276,
   "id": "aa18f382",
   "metadata": {
    "execution": {
     "iopub.execute_input": "2023-02-21T19:34:02.088920Z",
     "iopub.status.busy": "2023-02-21T19:34:02.088244Z",
     "iopub.status.idle": "2023-02-21T19:34:02.209817Z",
     "shell.execute_reply": "2023-02-21T19:34:02.208217Z"
    },
    "id": "247fc791",
    "papermill": {
     "duration": 0.21504,
     "end_time": "2023-02-21T19:34:02.214330",
     "exception": false,
     "start_time": "2023-02-21T19:34:01.999290",
     "status": "completed"
    },
    "tags": []
   },
   "outputs": [],
   "source": [
    "# LASSO\n",
    "L1 = linear_model.Lasso()\n",
    "L1.fit(x_train,y_train)\n",
    "y_pred1 = L1.predict(x_test)"
   ]
  },
  {
   "cell_type": "code",
   "execution_count": 277,
   "id": "e6fc35e7",
   "metadata": {
    "execution": {
     "iopub.execute_input": "2023-02-21T19:34:02.463607Z",
     "iopub.status.busy": "2023-02-21T19:34:02.463163Z",
     "iopub.status.idle": "2023-02-21T19:34:02.470534Z",
     "shell.execute_reply": "2023-02-21T19:34:02.469736Z"
    },
    "id": "c0ce4481",
    "outputId": "08ec0584-aef5-40c5-a81b-ae5075a064ce",
    "papermill": {
     "duration": 0.097743,
     "end_time": "2023-02-21T19:34:02.472663",
     "exception": false,
     "start_time": "2023-02-21T19:34:02.374920",
     "status": "completed"
    },
    "tags": []
   },
   "outputs": [
    {
     "data": {
      "text/plain": [
       "0.7507020198871027"
      ]
     },
     "execution_count": 277,
     "metadata": {},
     "output_type": "execute_result"
    }
   ],
   "source": [
    "r2 = r2_score(y_test, y_pred1)\n",
    "r2 \n"
   ]
  },
  {
   "cell_type": "code",
   "execution_count": 278,
   "id": "f389a2f3",
   "metadata": {
    "execution": {
     "iopub.execute_input": "2023-02-21T19:34:02.654348Z",
     "iopub.status.busy": "2023-02-21T19:34:02.653927Z",
     "iopub.status.idle": "2023-02-21T19:34:02.662152Z",
     "shell.execute_reply": "2023-02-21T19:34:02.660870Z"
    },
    "id": "729149c8",
    "outputId": "c37576d0-6335-4f9d-aad9-d5a9ab36fbbd",
    "papermill": {
     "duration": 0.103207,
     "end_time": "2023-02-21T19:34:02.664382",
     "exception": false,
     "start_time": "2023-02-21T19:34:02.561175",
     "status": "completed"
    },
    "tags": []
   },
   "outputs": [
    {
     "data": {
      "text/plain": [
       "1.5980824331021113"
      ]
     },
     "execution_count": 278,
     "metadata": {},
     "output_type": "execute_result"
    }
   ],
   "source": [
    "# calculate the MAE of the model\n",
    "mae = mean_absolute_error(y_test, y_pred1)\n",
    "mae"
   ]
  },
  {
   "cell_type": "code",
   "execution_count": 279,
   "id": "6aa9bc4f",
   "metadata": {
    "execution": {
     "iopub.execute_input": "2023-02-21T19:34:02.898397Z",
     "iopub.status.busy": "2023-02-21T19:34:02.897754Z",
     "iopub.status.idle": "2023-02-21T19:34:02.905696Z",
     "shell.execute_reply": "2023-02-21T19:34:02.904562Z"
    },
    "id": "2136c5eb",
    "outputId": "7a38fc2b-25f5-4bdd-f7fc-7882d9c7f9e4",
    "papermill": {
     "duration": 0.155185,
     "end_time": "2023-02-21T19:34:02.907930",
     "exception": false,
     "start_time": "2023-02-21T19:34:02.752745",
     "status": "completed"
    },
    "tags": []
   },
   "outputs": [
    {
     "data": {
      "text/plain": [
       "9.313675490018403"
      ]
     },
     "execution_count": 279,
     "metadata": {},
     "output_type": "execute_result"
    }
   ],
   "source": [
    "# calculate the MSE of the model\n",
    "mse = mean_squared_error(y_test, y_pred1)\n",
    "mse"
   ]
  },
  {
   "cell_type": "code",
   "execution_count": 280,
   "id": "7fd2e623",
   "metadata": {
    "execution": {
     "iopub.execute_input": "2023-02-21T19:34:03.086476Z",
     "iopub.status.busy": "2023-02-21T19:34:03.085731Z",
     "iopub.status.idle": "2023-02-21T19:34:03.093048Z",
     "shell.execute_reply": "2023-02-21T19:34:03.091899Z"
    },
    "id": "030a0054",
    "outputId": "f160df78-c975-4bde-b00f-41df478d2947",
    "papermill": {
     "duration": 0.099685,
     "end_time": "2023-02-21T19:34:03.095400",
     "exception": false,
     "start_time": "2023-02-21T19:34:02.995715",
     "status": "completed"
    },
    "tags": []
   },
   "outputs": [
    {
     "data": {
      "text/plain": [
       "3.0518314976450456"
      ]
     },
     "execution_count": 280,
     "metadata": {},
     "output_type": "execute_result"
    }
   ],
   "source": [
    "# calculate the RMSE of the model\n",
    "rmse = np.sqrt(mse)\n",
    "rmse"
   ]
  },
  {
   "cell_type": "code",
   "execution_count": 281,
   "id": "1eb42239",
   "metadata": {
    "execution": {
     "iopub.execute_input": "2023-02-21T19:34:03.275127Z",
     "iopub.status.busy": "2023-02-21T19:34:03.274401Z",
     "iopub.status.idle": "2023-02-21T19:34:03.298505Z",
     "shell.execute_reply": "2023-02-21T19:34:03.296881Z"
    },
    "id": "0b87171e",
    "papermill": {
     "duration": 0.118221,
     "end_time": "2023-02-21T19:34:03.302974",
     "exception": false,
     "start_time": "2023-02-21T19:34:03.184753",
     "status": "completed"
    },
    "tags": []
   },
   "outputs": [],
   "source": [
    "# Ridge\n",
    "L2 = Ridge(alpha=1.0)\n",
    "L2.fit(x_train, y_train) \n",
    "y_pred3 = L2.predict(x_test)"
   ]
  },
  {
   "cell_type": "code",
   "execution_count": 282,
   "id": "9a9f55b0",
   "metadata": {
    "execution": {
     "iopub.execute_input": "2023-02-21T19:34:03.550957Z",
     "iopub.status.busy": "2023-02-21T19:34:03.550504Z",
     "iopub.status.idle": "2023-02-21T19:34:03.558909Z",
     "shell.execute_reply": "2023-02-21T19:34:03.557835Z"
    },
    "id": "0d253867",
    "outputId": "745e108f-060f-4f82-ffeb-dfb5fe51b07a",
    "papermill": {
     "duration": 0.098931,
     "end_time": "2023-02-21T19:34:03.561011",
     "exception": false,
     "start_time": "2023-02-21T19:34:03.462080",
     "status": "completed"
    },
    "tags": []
   },
   "outputs": [
    {
     "data": {
      "text/plain": [
       "0.7753072003472253"
      ]
     },
     "execution_count": 282,
     "metadata": {},
     "output_type": "execute_result"
    }
   ],
   "source": [
    "r2 = r2_score(y_test, y_pred3)\n",
    "r2 "
   ]
  },
  {
   "cell_type": "code",
   "execution_count": 283,
   "id": "1ae06ace",
   "metadata": {
    "execution": {
     "iopub.execute_input": "2023-02-21T19:34:03.737545Z",
     "iopub.status.busy": "2023-02-21T19:34:03.737107Z",
     "iopub.status.idle": "2023-02-21T19:34:03.744442Z",
     "shell.execute_reply": "2023-02-21T19:34:03.743689Z"
    },
    "id": "ffc0823e",
    "outputId": "85ba6cb4-dd11-4542-92e1-bd786a34e887",
    "papermill": {
     "duration": 0.098369,
     "end_time": "2023-02-21T19:34:03.746526",
     "exception": false,
     "start_time": "2023-02-21T19:34:03.648157",
     "status": "completed"
    },
    "tags": []
   },
   "outputs": [
    {
     "data": {
      "text/plain": [
       "1.5188909684172016"
      ]
     },
     "execution_count": 283,
     "metadata": {},
     "output_type": "execute_result"
    }
   ],
   "source": [
    "# calculate the MAE of the model\n",
    "mae = mean_absolute_error(y_test, y_pred3)\n",
    "mae"
   ]
  },
  {
   "cell_type": "code",
   "execution_count": 284,
   "id": "e0d2e8aa",
   "metadata": {
    "execution": {
     "iopub.execute_input": "2023-02-21T19:34:03.925904Z",
     "iopub.status.busy": "2023-02-21T19:34:03.924956Z",
     "iopub.status.idle": "2023-02-21T19:34:03.931879Z",
     "shell.execute_reply": "2023-02-21T19:34:03.931037Z"
    },
    "id": "3b7b69fc",
    "outputId": "e93d9137-6b1c-410e-fe0e-5de3c0465f46",
    "papermill": {
     "duration": 0.099619,
     "end_time": "2023-02-21T19:34:03.934101",
     "exception": false,
     "start_time": "2023-02-21T19:34:03.834482",
     "status": "completed"
    },
    "tags": []
   },
   "outputs": [
    {
     "data": {
      "text/plain": [
       "8.394435526360677"
      ]
     },
     "execution_count": 284,
     "metadata": {},
     "output_type": "execute_result"
    }
   ],
   "source": [
    "# calculate the MSE of the model\n",
    "mse = mean_squared_error(y_test, y_pred3)\n",
    "mse"
   ]
  },
  {
   "cell_type": "code",
   "execution_count": 285,
   "id": "5b700a52",
   "metadata": {
    "execution": {
     "iopub.execute_input": "2023-02-21T19:34:04.114844Z",
     "iopub.status.busy": "2023-02-21T19:34:04.113470Z",
     "iopub.status.idle": "2023-02-21T19:34:04.121373Z",
     "shell.execute_reply": "2023-02-21T19:34:04.120234Z"
    },
    "id": "d776260b",
    "outputId": "c8d12935-389d-4170-b256-fd820ab4426e",
    "papermill": {
     "duration": 0.100509,
     "end_time": "2023-02-21T19:34:04.123626",
     "exception": false,
     "start_time": "2023-02-21T19:34:04.023117",
     "status": "completed"
    },
    "tags": []
   },
   "outputs": [
    {
     "data": {
      "text/plain": [
       "2.8973152273028004"
      ]
     },
     "execution_count": 285,
     "metadata": {},
     "output_type": "execute_result"
    }
   ],
   "source": [
    "# calculate the RMSE of the model\n",
    "rmse = np.sqrt(mse)\n",
    "rmse"
   ]
  },
  {
   "cell_type": "code",
   "execution_count": null,
   "id": "1e767bfe",
   "metadata": {
    "id": "r1Yy9QI6Xd9o",
    "papermill": {
     "duration": 0.090099,
     "end_time": "2023-02-21T19:34:04.302616",
     "exception": false,
     "start_time": "2023-02-21T19:34:04.212517",
     "status": "completed"
    },
    "tags": []
   },
   "outputs": [],
   "source": []
  }
 ],
 "metadata": {
  "kernelspec": {
   "display_name": "Python 3",
   "language": "python",
   "name": "python3"
  },
  "language_info": {
   "codemirror_mode": {
    "name": "ipython",
    "version": 3
   },
   "file_extension": ".py",
   "mimetype": "text/x-python",
   "name": "python",
   "nbconvert_exporter": "python",
   "pygments_lexer": "ipython3",
   "version": "3.7.12"
  },
  "papermill": {
   "default_parameters": {},
   "duration": 115.910414,
   "end_time": "2023-02-21T19:34:05.415294",
   "environment_variables": {},
   "exception": null,
   "input_path": "__notebook__.ipynb",
   "output_path": "__notebook__.ipynb",
   "parameters": {},
   "start_time": "2023-02-21T19:32:09.504880",
   "version": "2.3.4"
  }
 },
 "nbformat": 4,
 "nbformat_minor": 5
}
