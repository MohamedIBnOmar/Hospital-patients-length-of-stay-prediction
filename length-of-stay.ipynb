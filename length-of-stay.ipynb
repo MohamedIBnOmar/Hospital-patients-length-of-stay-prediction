{
 "cells": [
  {
   "cell_type": "code",
   "execution_count": 1,
   "id": "01e7d938",
   "metadata": {
    "_cell_guid": "b1076dfc-b9ad-4769-8c92-a6c4dae69d19",
    "_kg_hide-output": true,
    "_uuid": "8f2839f25d086af736a60e9eeb907d3b93b6e0e5",
    "execution": {
     "iopub.execute_input": "2023-02-21T12:04:16.331166Z",
     "iopub.status.busy": "2023-02-21T12:04:16.330488Z",
     "iopub.status.idle": "2023-02-21T12:04:16.359236Z",
     "shell.execute_reply": "2023-02-21T12:04:16.358020Z"
    },
    "papermill": {
     "duration": 0.102727,
     "end_time": "2023-02-21T12:04:16.362629",
     "exception": false,
     "start_time": "2023-02-21T12:04:16.259902",
     "status": "completed"
    },
    "tags": []
   },
   "outputs": [
    {
     "name": "stdout",
     "output_type": "stream",
     "text": [
      "/kaggle/input/length-of-stay-prediction/Hospital_Inpatient_Discharges__SPARCS_De-Identified___2015.csv\n"
     ]
    }
   ],
   "source": [
    "# This Python 3 environment comes with many helpful analytics libraries installed\n",
    "# It is defined by the kaggle/python Docker image: https://github.com/kaggle/docker-python\n",
    "# For example, here's several helpful packages to load\n",
    "\n",
    "import numpy as np # linear algebra\n",
    "import pandas as pd # data processing, CSV file I/O (e.g. pd.read_csv)\n",
    "\n",
    "# Input data files are available in the read-only \"../input/\" directory\n",
    "# For example, running this (by clicking run or pressing Shift+Enter) will list all files under the input directory\n",
    "\n",
    "import os\n",
    "for dirname, _, filenames in os.walk('/kaggle/input'):\n",
    "    for filename in filenames:\n",
    "        print(os.path.join(dirname, filename))\n",
    "\n",
    "# You can write up to 20GB to the current directory (/kaggle/working/) that gets preserved as output when you create a version using \"Save & Run All\" \n",
    "# You can also write temporary files to /kaggle/temp/, but they won't be saved outside of the current session"
   ]
  },
  {
   "cell_type": "code",
   "execution_count": 2,
   "id": "da17e6a0",
   "metadata": {
    "execution": {
     "iopub.execute_input": "2023-02-21T12:04:16.494717Z",
     "iopub.status.busy": "2023-02-21T12:04:16.494307Z",
     "iopub.status.idle": "2023-02-21T12:04:48.123996Z",
     "shell.execute_reply": "2023-02-21T12:04:48.122747Z"
    },
    "papermill": {
     "duration": 31.698833,
     "end_time": "2023-02-21T12:04:48.127164",
     "exception": false,
     "start_time": "2023-02-21T12:04:16.428331",
     "status": "completed"
    },
    "tags": []
   },
   "outputs": [
    {
     "name": "stderr",
     "output_type": "stream",
     "text": [
      "/opt/conda/lib/python3.7/site-packages/IPython/core/interactiveshell.py:3552: DtypeWarning: Columns (10) have mixed types.Specify dtype option on import or set low_memory=False.\n",
      "  exec(code_obj, self.user_global_ns, self.user_ns)\n"
     ]
    }
   ],
   "source": [
    "df=pd.read_csv(\"/kaggle/input/length-of-stay-prediction/Hospital_Inpatient_Discharges__SPARCS_De-Identified___2015.csv\")"
   ]
  },
  {
   "cell_type": "code",
   "execution_count": 3,
   "id": "c3fe608a",
   "metadata": {
    "execution": {
     "iopub.execute_input": "2023-02-21T12:04:48.253010Z",
     "iopub.status.busy": "2023-02-21T12:04:48.252616Z",
     "iopub.status.idle": "2023-02-21T12:04:48.411083Z",
     "shell.execute_reply": "2023-02-21T12:04:48.410204Z"
    },
    "papermill": {
     "duration": 0.224037,
     "end_time": "2023-02-21T12:04:48.413275",
     "exception": false,
     "start_time": "2023-02-21T12:04:48.189238",
     "status": "completed"
    },
    "tags": []
   },
   "outputs": [
    {
     "data": {
      "text/plain": [
       "Mount Sinai Hospital                                              55874\n",
       "North Shore University Hospital                                   47664\n",
       "New York Presbyterian Hospital - Columbia Presbyterian Center     47495\n",
       "New York Presbyterian Hospital - New York Weill Cornell Center    43148\n",
       "Montefiore Medical Center - Henry & Lucy Moses Div                42694\n",
       "                                                                  ...  \n",
       "Cuba Memorial Hospital Inc                                           61\n",
       "Catskill Regional Medical Center - G. Hermann Site                   50\n",
       "Monroe Community Hospital                                            24\n",
       "Westfield Memorial Hospital Inc                                      11\n",
       "Albany Medical Center - South Clinical Campus                         7\n",
       "Name: Facility Name, Length: 224, dtype: int64"
      ]
     },
     "execution_count": 3,
     "metadata": {},
     "output_type": "execute_result"
    }
   ],
   "source": [
    "df[\"Facility Name\"].value_counts()"
   ]
  },
  {
   "cell_type": "code",
   "execution_count": 4,
   "id": "d72e4093",
   "metadata": {
    "execution": {
     "iopub.execute_input": "2023-02-21T12:04:48.537747Z",
     "iopub.status.busy": "2023-02-21T12:04:48.537335Z",
     "iopub.status.idle": "2023-02-21T12:04:48.573091Z",
     "shell.execute_reply": "2023-02-21T12:04:48.571630Z"
    },
    "papermill": {
     "duration": 0.101181,
     "end_time": "2023-02-21T12:04:48.575721",
     "exception": false,
     "start_time": "2023-02-21T12:04:48.474540",
     "status": "completed"
    },
    "tags": []
   },
   "outputs": [
    {
     "data": {
      "text/html": [
       "<div>\n",
       "<style scoped>\n",
       "    .dataframe tbody tr th:only-of-type {\n",
       "        vertical-align: middle;\n",
       "    }\n",
       "\n",
       "    .dataframe tbody tr th {\n",
       "        vertical-align: top;\n",
       "    }\n",
       "\n",
       "    .dataframe thead th {\n",
       "        text-align: right;\n",
       "    }\n",
       "</style>\n",
       "<table border=\"1\" class=\"dataframe\">\n",
       "  <thead>\n",
       "    <tr style=\"text-align: right;\">\n",
       "      <th></th>\n",
       "      <th>Health Service Area</th>\n",
       "      <th>Hospital County</th>\n",
       "      <th>Operating Certificate Number</th>\n",
       "      <th>Facility Id</th>\n",
       "      <th>Facility Name</th>\n",
       "      <th>Age Group</th>\n",
       "      <th>Zip Code - 3 digits</th>\n",
       "      <th>Gender</th>\n",
       "      <th>Race</th>\n",
       "      <th>Ethnicity</th>\n",
       "      <th>...</th>\n",
       "      <th>APR Risk of Mortality</th>\n",
       "      <th>APR Medical Surgical Description</th>\n",
       "      <th>Payment Typology 1</th>\n",
       "      <th>Payment Typology 2</th>\n",
       "      <th>Payment Typology 3</th>\n",
       "      <th>Birth Weight</th>\n",
       "      <th>Abortion Edit Indicator</th>\n",
       "      <th>Emergency Department Indicator</th>\n",
       "      <th>Total Charges</th>\n",
       "      <th>Total Costs</th>\n",
       "    </tr>\n",
       "  </thead>\n",
       "  <tbody>\n",
       "    <tr>\n",
       "      <th>0</th>\n",
       "      <td>Western NY</td>\n",
       "      <td>Allegany</td>\n",
       "      <td>226700.0</td>\n",
       "      <td>37.0</td>\n",
       "      <td>Cuba Memorial Hospital Inc</td>\n",
       "      <td>70 or Older</td>\n",
       "      <td>147</td>\n",
       "      <td>F</td>\n",
       "      <td>White</td>\n",
       "      <td>Not Span/Hispanic</td>\n",
       "      <td>...</td>\n",
       "      <td>Minor</td>\n",
       "      <td>Medical</td>\n",
       "      <td>Medicare</td>\n",
       "      <td>Private Health Insurance</td>\n",
       "      <td>NaN</td>\n",
       "      <td>0</td>\n",
       "      <td>N</td>\n",
       "      <td>Y</td>\n",
       "      <td>5333.90</td>\n",
       "      <td>4818.42</td>\n",
       "    </tr>\n",
       "    <tr>\n",
       "      <th>1</th>\n",
       "      <td>Western NY</td>\n",
       "      <td>Allegany</td>\n",
       "      <td>226700.0</td>\n",
       "      <td>37.0</td>\n",
       "      <td>Cuba Memorial Hospital Inc</td>\n",
       "      <td>70 or Older</td>\n",
       "      <td>147</td>\n",
       "      <td>F</td>\n",
       "      <td>White</td>\n",
       "      <td>Not Span/Hispanic</td>\n",
       "      <td>...</td>\n",
       "      <td>Moderate</td>\n",
       "      <td>Medical</td>\n",
       "      <td>Medicare</td>\n",
       "      <td>NaN</td>\n",
       "      <td>NaN</td>\n",
       "      <td>0</td>\n",
       "      <td>N</td>\n",
       "      <td>Y</td>\n",
       "      <td>4865.99</td>\n",
       "      <td>4588.78</td>\n",
       "    </tr>\n",
       "    <tr>\n",
       "      <th>2</th>\n",
       "      <td>Western NY</td>\n",
       "      <td>Allegany</td>\n",
       "      <td>226700.0</td>\n",
       "      <td>37.0</td>\n",
       "      <td>Cuba Memorial Hospital Inc</td>\n",
       "      <td>70 or Older</td>\n",
       "      <td>147</td>\n",
       "      <td>F</td>\n",
       "      <td>White</td>\n",
       "      <td>Not Span/Hispanic</td>\n",
       "      <td>...</td>\n",
       "      <td>Minor</td>\n",
       "      <td>Medical</td>\n",
       "      <td>Medicare</td>\n",
       "      <td>Private Health Insurance</td>\n",
       "      <td>NaN</td>\n",
       "      <td>0</td>\n",
       "      <td>N</td>\n",
       "      <td>Y</td>\n",
       "      <td>5901.54</td>\n",
       "      <td>5559.56</td>\n",
       "    </tr>\n",
       "    <tr>\n",
       "      <th>3</th>\n",
       "      <td>Western NY</td>\n",
       "      <td>Allegany</td>\n",
       "      <td>226700.0</td>\n",
       "      <td>37.0</td>\n",
       "      <td>Cuba Memorial Hospital Inc</td>\n",
       "      <td>50 to 69</td>\n",
       "      <td>147</td>\n",
       "      <td>F</td>\n",
       "      <td>White</td>\n",
       "      <td>Not Span/Hispanic</td>\n",
       "      <td>...</td>\n",
       "      <td>Minor</td>\n",
       "      <td>Medical</td>\n",
       "      <td>Medicare</td>\n",
       "      <td>NaN</td>\n",
       "      <td>NaN</td>\n",
       "      <td>0</td>\n",
       "      <td>N</td>\n",
       "      <td>Y</td>\n",
       "      <td>3619.08</td>\n",
       "      <td>3567.25</td>\n",
       "    </tr>\n",
       "    <tr>\n",
       "      <th>4</th>\n",
       "      <td>Western NY</td>\n",
       "      <td>Allegany</td>\n",
       "      <td>226700.0</td>\n",
       "      <td>37.0</td>\n",
       "      <td>Cuba Memorial Hospital Inc</td>\n",
       "      <td>70 or Older</td>\n",
       "      <td>147</td>\n",
       "      <td>M</td>\n",
       "      <td>White</td>\n",
       "      <td>Not Span/Hispanic</td>\n",
       "      <td>...</td>\n",
       "      <td>Moderate</td>\n",
       "      <td>Medical</td>\n",
       "      <td>Medicare</td>\n",
       "      <td>Blue Cross/Blue Shield</td>\n",
       "      <td>Private Health Insurance</td>\n",
       "      <td>0</td>\n",
       "      <td>N</td>\n",
       "      <td>Y</td>\n",
       "      <td>3185.87</td>\n",
       "      <td>3167.89</td>\n",
       "    </tr>\n",
       "  </tbody>\n",
       "</table>\n",
       "<p>5 rows × 34 columns</p>\n",
       "</div>"
      ],
      "text/plain": [
       "  Health Service Area Hospital County  Operating Certificate Number  \\\n",
       "0          Western NY        Allegany                      226700.0   \n",
       "1          Western NY        Allegany                      226700.0   \n",
       "2          Western NY        Allegany                      226700.0   \n",
       "3          Western NY        Allegany                      226700.0   \n",
       "4          Western NY        Allegany                      226700.0   \n",
       "\n",
       "   Facility Id               Facility Name    Age Group Zip Code - 3 digits  \\\n",
       "0         37.0  Cuba Memorial Hospital Inc  70 or Older                 147   \n",
       "1         37.0  Cuba Memorial Hospital Inc  70 or Older                 147   \n",
       "2         37.0  Cuba Memorial Hospital Inc  70 or Older                 147   \n",
       "3         37.0  Cuba Memorial Hospital Inc     50 to 69                 147   \n",
       "4         37.0  Cuba Memorial Hospital Inc  70 or Older                 147   \n",
       "\n",
       "  Gender   Race          Ethnicity  ... APR Risk of Mortality  \\\n",
       "0      F  White  Not Span/Hispanic  ...                 Minor   \n",
       "1      F  White  Not Span/Hispanic  ...              Moderate   \n",
       "2      F  White  Not Span/Hispanic  ...                 Minor   \n",
       "3      F  White  Not Span/Hispanic  ...                 Minor   \n",
       "4      M  White  Not Span/Hispanic  ...              Moderate   \n",
       "\n",
       "  APR Medical Surgical Description Payment Typology 1  \\\n",
       "0                          Medical           Medicare   \n",
       "1                          Medical           Medicare   \n",
       "2                          Medical           Medicare   \n",
       "3                          Medical           Medicare   \n",
       "4                          Medical           Medicare   \n",
       "\n",
       "         Payment Typology 2        Payment Typology 3 Birth Weight  \\\n",
       "0  Private Health Insurance                       NaN            0   \n",
       "1                       NaN                       NaN            0   \n",
       "2  Private Health Insurance                       NaN            0   \n",
       "3                       NaN                       NaN            0   \n",
       "4    Blue Cross/Blue Shield  Private Health Insurance            0   \n",
       "\n",
       "   Abortion Edit Indicator Emergency Department Indicator  Total Charges  \\\n",
       "0                        N                              Y        5333.90   \n",
       "1                        N                              Y        4865.99   \n",
       "2                        N                              Y        5901.54   \n",
       "3                        N                              Y        3619.08   \n",
       "4                        N                              Y        3185.87   \n",
       "\n",
       "  Total Costs  \n",
       "0     4818.42  \n",
       "1     4588.78  \n",
       "2     5559.56  \n",
       "3     3567.25  \n",
       "4     3167.89  \n",
       "\n",
       "[5 rows x 34 columns]"
      ]
     },
     "execution_count": 4,
     "metadata": {},
     "output_type": "execute_result"
    }
   ],
   "source": [
    "df.head()"
   ]
  },
  {
   "cell_type": "code",
   "execution_count": 5,
   "id": "9e18489f",
   "metadata": {
    "execution": {
     "iopub.execute_input": "2023-02-21T12:04:48.703330Z",
     "iopub.status.busy": "2023-02-21T12:04:48.702548Z",
     "iopub.status.idle": "2023-02-21T12:04:48.721583Z",
     "shell.execute_reply": "2023-02-21T12:04:48.719775Z"
    },
    "papermill": {
     "duration": 0.085368,
     "end_time": "2023-02-21T12:04:48.724359",
     "exception": false,
     "start_time": "2023-02-21T12:04:48.638991",
     "status": "completed"
    },
    "tags": []
   },
   "outputs": [
    {
     "name": "stdout",
     "output_type": "stream",
     "text": [
      "<class 'pandas.core.frame.DataFrame'>\n",
      "RangeIndex: 2346931 entries, 0 to 2346930\n",
      "Data columns (total 34 columns):\n",
      " #   Column                               Dtype  \n",
      "---  ------                               -----  \n",
      " 0   Health Service Area                  object \n",
      " 1   Hospital County                      object \n",
      " 2   Operating Certificate Number         float64\n",
      " 3   Facility Id                          float64\n",
      " 4   Facility Name                        object \n",
      " 5   Age Group                            object \n",
      " 6   Zip Code - 3 digits                  object \n",
      " 7   Gender                               object \n",
      " 8   Race                                 object \n",
      " 9   Ethnicity                            object \n",
      " 10  Length of Stay                       object \n",
      " 11  Type of Admission                    object \n",
      " 12  Patient Disposition                  object \n",
      " 13  Discharge Year                       int64  \n",
      " 14  CCS Diagnosis Code                   int64  \n",
      " 15  CCS Diagnosis Description            object \n",
      " 16  CCS Procedure Code                   int64  \n",
      " 17  CCS Procedure Description            object \n",
      " 18  APR DRG Code                         int64  \n",
      " 19  APR DRG Description                  object \n",
      " 20  APR MDC Code                         int64  \n",
      " 21  APR MDC Description                  object \n",
      " 22  APR Severity of Illness Code         int64  \n",
      " 23  APR Severity of Illness Description  object \n",
      " 24  APR Risk of Mortality                object \n",
      " 25  APR Medical Surgical Description     object \n",
      " 26  Payment Typology 1                   object \n",
      " 27  Payment Typology 2                   object \n",
      " 28  Payment Typology 3                   object \n",
      " 29  Birth Weight                         int64  \n",
      " 30  Abortion Edit Indicator              object \n",
      " 31  Emergency Department Indicator       object \n",
      " 32  Total Charges                        float64\n",
      " 33  Total Costs                          float64\n",
      "dtypes: float64(4), int64(7), object(23)\n",
      "memory usage: 608.8+ MB\n"
     ]
    }
   ],
   "source": [
    "df.info()"
   ]
  },
  {
   "cell_type": "code",
   "execution_count": 6,
   "id": "80569c3f",
   "metadata": {
    "execution": {
     "iopub.execute_input": "2023-02-21T12:04:48.850528Z",
     "iopub.status.busy": "2023-02-21T12:04:48.850084Z",
     "iopub.status.idle": "2023-02-21T12:05:03.582968Z",
     "shell.execute_reply": "2023-02-21T12:05:03.581841Z"
    },
    "papermill": {
     "duration": 14.799612,
     "end_time": "2023-02-21T12:05:03.585997",
     "exception": false,
     "start_time": "2023-02-21T12:04:48.786385",
     "status": "completed"
    },
    "tags": []
   },
   "outputs": [],
   "source": [
    "List =[\"Health Service Area\",\"Hospital County\",\"Age Group\",\"Zip Code - 3 digits\",\"Gender\",\"Race\",\"Ethnicity\",\"Length of Stay\",\"Type of Admission\",                    \n",
    "\"Patient Disposition\",\"CCS Diagnosis Description\",\"CCS Procedure Description\",\"APR DRG Description\",\"APR MDC Description\",\"APR Severity of Illness Description\",\"APR Risk of Mortality\",\"APR Medical Surgical Description\",\"Payment Typology 1\"                   \n",
    ",\"Payment Typology 2\",\"Payment Typology 3\",\"Abortion Edit Indicator\",\"Emergency Department Indicator\"]\n",
    "for col in List :\n",
    "    df[col] = df[col].astype('category')\n",
    "\n",
    "#\"Health Service Area\""
   ]
  },
  {
   "cell_type": "code",
   "execution_count": 7,
   "id": "355c187f",
   "metadata": {
    "execution": {
     "iopub.execute_input": "2023-02-21T12:05:03.717316Z",
     "iopub.status.busy": "2023-02-21T12:05:03.716409Z",
     "iopub.status.idle": "2023-02-21T12:05:03.737944Z",
     "shell.execute_reply": "2023-02-21T12:05:03.737011Z"
    },
    "papermill": {
     "duration": 0.089595,
     "end_time": "2023-02-21T12:05:03.740894",
     "exception": false,
     "start_time": "2023-02-21T12:05:03.651299",
     "status": "completed"
    },
    "tags": []
   },
   "outputs": [
    {
     "name": "stdout",
     "output_type": "stream",
     "text": [
      "<class 'pandas.core.frame.DataFrame'>\n",
      "RangeIndex: 2346931 entries, 0 to 2346930\n",
      "Data columns (total 34 columns):\n",
      " #   Column                               Dtype   \n",
      "---  ------                               -----   \n",
      " 0   Health Service Area                  category\n",
      " 1   Hospital County                      category\n",
      " 2   Operating Certificate Number         float64 \n",
      " 3   Facility Id                          float64 \n",
      " 4   Facility Name                        object  \n",
      " 5   Age Group                            category\n",
      " 6   Zip Code - 3 digits                  category\n",
      " 7   Gender                               category\n",
      " 8   Race                                 category\n",
      " 9   Ethnicity                            category\n",
      " 10  Length of Stay                       category\n",
      " 11  Type of Admission                    category\n",
      " 12  Patient Disposition                  category\n",
      " 13  Discharge Year                       int64   \n",
      " 14  CCS Diagnosis Code                   int64   \n",
      " 15  CCS Diagnosis Description            category\n",
      " 16  CCS Procedure Code                   int64   \n",
      " 17  CCS Procedure Description            category\n",
      " 18  APR DRG Code                         int64   \n",
      " 19  APR DRG Description                  category\n",
      " 20  APR MDC Code                         int64   \n",
      " 21  APR MDC Description                  category\n",
      " 22  APR Severity of Illness Code         int64   \n",
      " 23  APR Severity of Illness Description  category\n",
      " 24  APR Risk of Mortality                category\n",
      " 25  APR Medical Surgical Description     category\n",
      " 26  Payment Typology 1                   category\n",
      " 27  Payment Typology 2                   category\n",
      " 28  Payment Typology 3                   category\n",
      " 29  Birth Weight                         int64   \n",
      " 30  Abortion Edit Indicator              category\n",
      " 31  Emergency Department Indicator       category\n",
      " 32  Total Charges                        float64 \n",
      " 33  Total Costs                          float64 \n",
      "dtypes: category(22), float64(4), int64(7), object(1)\n",
      "memory usage: 273.1+ MB\n"
     ]
    }
   ],
   "source": [
    "df.info()"
   ]
  },
  {
   "cell_type": "code",
   "execution_count": 8,
   "id": "3be599f8",
   "metadata": {
    "execution": {
     "iopub.execute_input": "2023-02-21T12:05:03.867197Z",
     "iopub.status.busy": "2023-02-21T12:05:03.866762Z",
     "iopub.status.idle": "2023-02-21T12:05:03.972186Z",
     "shell.execute_reply": "2023-02-21T12:05:03.970772Z"
    },
    "papermill": {
     "duration": 0.172677,
     "end_time": "2023-02-21T12:05:03.975271",
     "exception": false,
     "start_time": "2023-02-21T12:05:03.802594",
     "status": "completed"
    },
    "tags": []
   },
   "outputs": [],
   "source": [
    "col=[\"Health Service Area\"\n",
    " ,\n",
    " \"CCS Diagnosis Description\",\n",
    " \"CCS Procedure Description\",\n",
    "\"APR DRG Description\",\n",
    "\"APR MDC Description\",\n",
    "\"APR Severity of Illness Description\"]\n",
    "df = df.drop(col, axis=1)"
   ]
  },
  {
   "cell_type": "code",
   "execution_count": 9,
   "id": "02c81eaf",
   "metadata": {
    "execution": {
     "iopub.execute_input": "2023-02-21T12:05:04.104356Z",
     "iopub.status.busy": "2023-02-21T12:05:04.103916Z",
     "iopub.status.idle": "2023-02-21T12:05:04.123714Z",
     "shell.execute_reply": "2023-02-21T12:05:04.122109Z"
    },
    "papermill": {
     "duration": 0.087195,
     "end_time": "2023-02-21T12:05:04.127088",
     "exception": false,
     "start_time": "2023-02-21T12:05:04.039893",
     "status": "completed"
    },
    "tags": []
   },
   "outputs": [
    {
     "name": "stdout",
     "output_type": "stream",
     "text": [
      "<class 'pandas.core.frame.DataFrame'>\n",
      "RangeIndex: 2346931 entries, 0 to 2346930\n",
      "Data columns (total 28 columns):\n",
      " #   Column                            Dtype   \n",
      "---  ------                            -----   \n",
      " 0   Hospital County                   category\n",
      " 1   Operating Certificate Number      float64 \n",
      " 2   Facility Id                       float64 \n",
      " 3   Facility Name                     object  \n",
      " 4   Age Group                         category\n",
      " 5   Zip Code - 3 digits               category\n",
      " 6   Gender                            category\n",
      " 7   Race                              category\n",
      " 8   Ethnicity                         category\n",
      " 9   Length of Stay                    category\n",
      " 10  Type of Admission                 category\n",
      " 11  Patient Disposition               category\n",
      " 12  Discharge Year                    int64   \n",
      " 13  CCS Diagnosis Code                int64   \n",
      " 14  CCS Procedure Code                int64   \n",
      " 15  APR DRG Code                      int64   \n",
      " 16  APR MDC Code                      int64   \n",
      " 17  APR Severity of Illness Code      int64   \n",
      " 18  APR Risk of Mortality             category\n",
      " 19  APR Medical Surgical Description  category\n",
      " 20  Payment Typology 1                category\n",
      " 21  Payment Typology 2                category\n",
      " 22  Payment Typology 3                category\n",
      " 23  Birth Weight                      int64   \n",
      " 24  Abortion Edit Indicator           category\n",
      " 25  Emergency Department Indicator    category\n",
      " 26  Total Charges                     float64 \n",
      " 27  Total Costs                       float64 \n",
      "dtypes: category(16), float64(4), int64(7), object(1)\n",
      "memory usage: 252.9+ MB\n"
     ]
    }
   ],
   "source": [
    "df.info()"
   ]
  },
  {
   "cell_type": "markdown",
   "id": "a50861c9",
   "metadata": {
    "papermill": {
     "duration": 0.062827,
     "end_time": "2023-02-21T12:05:04.256736",
     "exception": false,
     "start_time": "2023-02-21T12:05:04.193909",
     "status": "completed"
    },
    "tags": []
   },
   "source": [
    "Client 6 : Glens Falls Hospital"
   ]
  },
  {
   "cell_type": "code",
   "execution_count": 10,
   "id": "b4345a4d",
   "metadata": {
    "execution": {
     "iopub.execute_input": "2023-02-21T12:05:04.387204Z",
     "iopub.status.busy": "2023-02-21T12:05:04.386745Z",
     "iopub.status.idle": "2023-02-21T12:05:04.548330Z",
     "shell.execute_reply": "2023-02-21T12:05:04.546954Z"
    },
    "papermill": {
     "duration": 0.231988,
     "end_time": "2023-02-21T12:05:04.552213",
     "exception": false,
     "start_time": "2023-02-21T12:05:04.320225",
     "status": "completed"
    },
    "tags": []
   },
   "outputs": [],
   "source": [
    "Glens_df=df[df[\"Facility Name\"]== 'Glens Falls Hospital']"
   ]
  },
  {
   "cell_type": "code",
   "execution_count": 11,
   "id": "b1e6c92c",
   "metadata": {
    "execution": {
     "iopub.execute_input": "2023-02-21T12:05:04.681622Z",
     "iopub.status.busy": "2023-02-21T12:05:04.681199Z",
     "iopub.status.idle": "2023-02-21T12:05:04.735619Z",
     "shell.execute_reply": "2023-02-21T12:05:04.734304Z"
    },
    "papermill": {
     "duration": 0.12333,
     "end_time": "2023-02-21T12:05:04.738352",
     "exception": false,
     "start_time": "2023-02-21T12:05:04.615022",
     "status": "completed"
    },
    "tags": []
   },
   "outputs": [
    {
     "data": {
      "text/html": [
       "<div>\n",
       "<style scoped>\n",
       "    .dataframe tbody tr th:only-of-type {\n",
       "        vertical-align: middle;\n",
       "    }\n",
       "\n",
       "    .dataframe tbody tr th {\n",
       "        vertical-align: top;\n",
       "    }\n",
       "\n",
       "    .dataframe thead th {\n",
       "        text-align: right;\n",
       "    }\n",
       "</style>\n",
       "<table border=\"1\" class=\"dataframe\">\n",
       "  <thead>\n",
       "    <tr style=\"text-align: right;\">\n",
       "      <th></th>\n",
       "      <th>Hospital County</th>\n",
       "      <th>Operating Certificate Number</th>\n",
       "      <th>Facility Id</th>\n",
       "      <th>Facility Name</th>\n",
       "      <th>Age Group</th>\n",
       "      <th>Zip Code - 3 digits</th>\n",
       "      <th>Gender</th>\n",
       "      <th>Race</th>\n",
       "      <th>Ethnicity</th>\n",
       "      <th>Length of Stay</th>\n",
       "      <th>...</th>\n",
       "      <th>APR Risk of Mortality</th>\n",
       "      <th>APR Medical Surgical Description</th>\n",
       "      <th>Payment Typology 1</th>\n",
       "      <th>Payment Typology 2</th>\n",
       "      <th>Payment Typology 3</th>\n",
       "      <th>Birth Weight</th>\n",
       "      <th>Abortion Edit Indicator</th>\n",
       "      <th>Emergency Department Indicator</th>\n",
       "      <th>Total Charges</th>\n",
       "      <th>Total Costs</th>\n",
       "    </tr>\n",
       "  </thead>\n",
       "  <tbody>\n",
       "    <tr>\n",
       "      <th>628756</th>\n",
       "      <td>Warren</td>\n",
       "      <td>5601000.0</td>\n",
       "      <td>1005.0</td>\n",
       "      <td>Glens Falls Hospital</td>\n",
       "      <td>30 to 49</td>\n",
       "      <td>128</td>\n",
       "      <td>F</td>\n",
       "      <td>White</td>\n",
       "      <td>Not Span/Hispanic</td>\n",
       "      <td>5</td>\n",
       "      <td>...</td>\n",
       "      <td>Minor</td>\n",
       "      <td>Medical</td>\n",
       "      <td>Medicaid</td>\n",
       "      <td>NaN</td>\n",
       "      <td>NaN</td>\n",
       "      <td>0</td>\n",
       "      <td>N</td>\n",
       "      <td>Y</td>\n",
       "      <td>16901.84</td>\n",
       "      <td>5444.54</td>\n",
       "    </tr>\n",
       "    <tr>\n",
       "      <th>628825</th>\n",
       "      <td>Warren</td>\n",
       "      <td>5601000.0</td>\n",
       "      <td>1005.0</td>\n",
       "      <td>Glens Falls Hospital</td>\n",
       "      <td>50 to 69</td>\n",
       "      <td>120</td>\n",
       "      <td>F</td>\n",
       "      <td>White</td>\n",
       "      <td>Not Span/Hispanic</td>\n",
       "      <td>4</td>\n",
       "      <td>...</td>\n",
       "      <td>Moderate</td>\n",
       "      <td>Medical</td>\n",
       "      <td>Medicare</td>\n",
       "      <td>NaN</td>\n",
       "      <td>NaN</td>\n",
       "      <td>0</td>\n",
       "      <td>N</td>\n",
       "      <td>N</td>\n",
       "      <td>15354.59</td>\n",
       "      <td>5499.39</td>\n",
       "    </tr>\n",
       "    <tr>\n",
       "      <th>629035</th>\n",
       "      <td>Warren</td>\n",
       "      <td>5601000.0</td>\n",
       "      <td>1005.0</td>\n",
       "      <td>Glens Falls Hospital</td>\n",
       "      <td>18 to 29</td>\n",
       "      <td>128</td>\n",
       "      <td>M</td>\n",
       "      <td>White</td>\n",
       "      <td>Not Span/Hispanic</td>\n",
       "      <td>2</td>\n",
       "      <td>...</td>\n",
       "      <td>Minor</td>\n",
       "      <td>Medical</td>\n",
       "      <td>Blue Cross/Blue Shield</td>\n",
       "      <td>NaN</td>\n",
       "      <td>NaN</td>\n",
       "      <td>0</td>\n",
       "      <td>N</td>\n",
       "      <td>Y</td>\n",
       "      <td>8413.10</td>\n",
       "      <td>2565.18</td>\n",
       "    </tr>\n",
       "    <tr>\n",
       "      <th>629070</th>\n",
       "      <td>Warren</td>\n",
       "      <td>5601000.0</td>\n",
       "      <td>1005.0</td>\n",
       "      <td>Glens Falls Hospital</td>\n",
       "      <td>50 to 69</td>\n",
       "      <td>128</td>\n",
       "      <td>F</td>\n",
       "      <td>White</td>\n",
       "      <td>Not Span/Hispanic</td>\n",
       "      <td>1</td>\n",
       "      <td>...</td>\n",
       "      <td>Minor</td>\n",
       "      <td>Medical</td>\n",
       "      <td>Blue Cross/Blue Shield</td>\n",
       "      <td>NaN</td>\n",
       "      <td>NaN</td>\n",
       "      <td>0</td>\n",
       "      <td>N</td>\n",
       "      <td>Y</td>\n",
       "      <td>8102.00</td>\n",
       "      <td>2008.34</td>\n",
       "    </tr>\n",
       "    <tr>\n",
       "      <th>629175</th>\n",
       "      <td>Warren</td>\n",
       "      <td>5601000.0</td>\n",
       "      <td>1005.0</td>\n",
       "      <td>Glens Falls Hospital</td>\n",
       "      <td>70 or Older</td>\n",
       "      <td>128</td>\n",
       "      <td>F</td>\n",
       "      <td>White</td>\n",
       "      <td>Not Span/Hispanic</td>\n",
       "      <td>6</td>\n",
       "      <td>...</td>\n",
       "      <td>Major</td>\n",
       "      <td>Medical</td>\n",
       "      <td>Medicare</td>\n",
       "      <td>NaN</td>\n",
       "      <td>NaN</td>\n",
       "      <td>0</td>\n",
       "      <td>N</td>\n",
       "      <td>N</td>\n",
       "      <td>21480.74</td>\n",
       "      <td>7279.17</td>\n",
       "    </tr>\n",
       "    <tr>\n",
       "      <th>...</th>\n",
       "      <td>...</td>\n",
       "      <td>...</td>\n",
       "      <td>...</td>\n",
       "      <td>...</td>\n",
       "      <td>...</td>\n",
       "      <td>...</td>\n",
       "      <td>...</td>\n",
       "      <td>...</td>\n",
       "      <td>...</td>\n",
       "      <td>...</td>\n",
       "      <td>...</td>\n",
       "      <td>...</td>\n",
       "      <td>...</td>\n",
       "      <td>...</td>\n",
       "      <td>...</td>\n",
       "      <td>...</td>\n",
       "      <td>...</td>\n",
       "      <td>...</td>\n",
       "      <td>...</td>\n",
       "      <td>...</td>\n",
       "      <td>...</td>\n",
       "    </tr>\n",
       "    <tr>\n",
       "      <th>664926</th>\n",
       "      <td>Warren</td>\n",
       "      <td>5601000.0</td>\n",
       "      <td>1005.0</td>\n",
       "      <td>Glens Falls Hospital</td>\n",
       "      <td>30 to 49</td>\n",
       "      <td>128</td>\n",
       "      <td>F</td>\n",
       "      <td>White</td>\n",
       "      <td>Not Span/Hispanic</td>\n",
       "      <td>1</td>\n",
       "      <td>...</td>\n",
       "      <td>Minor</td>\n",
       "      <td>Medical</td>\n",
       "      <td>Medicare</td>\n",
       "      <td>NaN</td>\n",
       "      <td>NaN</td>\n",
       "      <td>0</td>\n",
       "      <td>N</td>\n",
       "      <td>Y</td>\n",
       "      <td>14033.73</td>\n",
       "      <td>4471.53</td>\n",
       "    </tr>\n",
       "    <tr>\n",
       "      <th>664927</th>\n",
       "      <td>Warren</td>\n",
       "      <td>5601000.0</td>\n",
       "      <td>1005.0</td>\n",
       "      <td>Glens Falls Hospital</td>\n",
       "      <td>70 or Older</td>\n",
       "      <td>128</td>\n",
       "      <td>F</td>\n",
       "      <td>White</td>\n",
       "      <td>Not Span/Hispanic</td>\n",
       "      <td>1</td>\n",
       "      <td>...</td>\n",
       "      <td>Minor</td>\n",
       "      <td>Surgical</td>\n",
       "      <td>Medicare</td>\n",
       "      <td>NaN</td>\n",
       "      <td>NaN</td>\n",
       "      <td>0</td>\n",
       "      <td>N</td>\n",
       "      <td>Y</td>\n",
       "      <td>44134.98</td>\n",
       "      <td>12744.49</td>\n",
       "    </tr>\n",
       "    <tr>\n",
       "      <th>664928</th>\n",
       "      <td>Warren</td>\n",
       "      <td>5601000.0</td>\n",
       "      <td>1005.0</td>\n",
       "      <td>Glens Falls Hospital</td>\n",
       "      <td>30 to 49</td>\n",
       "      <td>128</td>\n",
       "      <td>M</td>\n",
       "      <td>White</td>\n",
       "      <td>Not Span/Hispanic</td>\n",
       "      <td>1</td>\n",
       "      <td>...</td>\n",
       "      <td>Minor</td>\n",
       "      <td>Medical</td>\n",
       "      <td>Private Health Insurance</td>\n",
       "      <td>NaN</td>\n",
       "      <td>NaN</td>\n",
       "      <td>0</td>\n",
       "      <td>N</td>\n",
       "      <td>N</td>\n",
       "      <td>13780.26</td>\n",
       "      <td>3192.12</td>\n",
       "    </tr>\n",
       "    <tr>\n",
       "      <th>664929</th>\n",
       "      <td>Warren</td>\n",
       "      <td>5601000.0</td>\n",
       "      <td>1005.0</td>\n",
       "      <td>Glens Falls Hospital</td>\n",
       "      <td>50 to 69</td>\n",
       "      <td>128</td>\n",
       "      <td>M</td>\n",
       "      <td>White</td>\n",
       "      <td>Not Span/Hispanic</td>\n",
       "      <td>1</td>\n",
       "      <td>...</td>\n",
       "      <td>Moderate</td>\n",
       "      <td>Medical</td>\n",
       "      <td>Private Health Insurance</td>\n",
       "      <td>NaN</td>\n",
       "      <td>NaN</td>\n",
       "      <td>0</td>\n",
       "      <td>N</td>\n",
       "      <td>N</td>\n",
       "      <td>7560.97</td>\n",
       "      <td>2705.89</td>\n",
       "    </tr>\n",
       "    <tr>\n",
       "      <th>664930</th>\n",
       "      <td>Warren</td>\n",
       "      <td>5601000.0</td>\n",
       "      <td>1005.0</td>\n",
       "      <td>Glens Falls Hospital</td>\n",
       "      <td>0 to 17</td>\n",
       "      <td>128</td>\n",
       "      <td>F</td>\n",
       "      <td>White</td>\n",
       "      <td>Not Span/Hispanic</td>\n",
       "      <td>1</td>\n",
       "      <td>...</td>\n",
       "      <td>Minor</td>\n",
       "      <td>Medical</td>\n",
       "      <td>Medicaid</td>\n",
       "      <td>NaN</td>\n",
       "      <td>NaN</td>\n",
       "      <td>0</td>\n",
       "      <td>N</td>\n",
       "      <td>N</td>\n",
       "      <td>3670.62</td>\n",
       "      <td>2613.38</td>\n",
       "    </tr>\n",
       "  </tbody>\n",
       "</table>\n",
       "<p>14072 rows × 28 columns</p>\n",
       "</div>"
      ],
      "text/plain": [
       "       Hospital County  Operating Certificate Number  Facility Id  \\\n",
       "628756          Warren                     5601000.0       1005.0   \n",
       "628825          Warren                     5601000.0       1005.0   \n",
       "629035          Warren                     5601000.0       1005.0   \n",
       "629070          Warren                     5601000.0       1005.0   \n",
       "629175          Warren                     5601000.0       1005.0   \n",
       "...                ...                           ...          ...   \n",
       "664926          Warren                     5601000.0       1005.0   \n",
       "664927          Warren                     5601000.0       1005.0   \n",
       "664928          Warren                     5601000.0       1005.0   \n",
       "664929          Warren                     5601000.0       1005.0   \n",
       "664930          Warren                     5601000.0       1005.0   \n",
       "\n",
       "               Facility Name    Age Group Zip Code - 3 digits Gender   Race  \\\n",
       "628756  Glens Falls Hospital     30 to 49                 128      F  White   \n",
       "628825  Glens Falls Hospital     50 to 69                 120      F  White   \n",
       "629035  Glens Falls Hospital     18 to 29                 128      M  White   \n",
       "629070  Glens Falls Hospital     50 to 69                 128      F  White   \n",
       "629175  Glens Falls Hospital  70 or Older                 128      F  White   \n",
       "...                      ...          ...                 ...    ...    ...   \n",
       "664926  Glens Falls Hospital     30 to 49                 128      F  White   \n",
       "664927  Glens Falls Hospital  70 or Older                 128      F  White   \n",
       "664928  Glens Falls Hospital     30 to 49                 128      M  White   \n",
       "664929  Glens Falls Hospital     50 to 69                 128      M  White   \n",
       "664930  Glens Falls Hospital      0 to 17                 128      F  White   \n",
       "\n",
       "                Ethnicity Length of Stay  ... APR Risk of Mortality  \\\n",
       "628756  Not Span/Hispanic              5  ...                 Minor   \n",
       "628825  Not Span/Hispanic              4  ...              Moderate   \n",
       "629035  Not Span/Hispanic              2  ...                 Minor   \n",
       "629070  Not Span/Hispanic              1  ...                 Minor   \n",
       "629175  Not Span/Hispanic              6  ...                 Major   \n",
       "...                   ...            ...  ...                   ...   \n",
       "664926  Not Span/Hispanic              1  ...                 Minor   \n",
       "664927  Not Span/Hispanic              1  ...                 Minor   \n",
       "664928  Not Span/Hispanic              1  ...                 Minor   \n",
       "664929  Not Span/Hispanic              1  ...              Moderate   \n",
       "664930  Not Span/Hispanic              1  ...                 Minor   \n",
       "\n",
       "       APR Medical Surgical Description        Payment Typology 1  \\\n",
       "628756                          Medical                  Medicaid   \n",
       "628825                          Medical                  Medicare   \n",
       "629035                          Medical    Blue Cross/Blue Shield   \n",
       "629070                          Medical    Blue Cross/Blue Shield   \n",
       "629175                          Medical                  Medicare   \n",
       "...                                 ...                       ...   \n",
       "664926                          Medical                  Medicare   \n",
       "664927                         Surgical                  Medicare   \n",
       "664928                          Medical  Private Health Insurance   \n",
       "664929                          Medical  Private Health Insurance   \n",
       "664930                          Medical                  Medicaid   \n",
       "\n",
       "        Payment Typology 2  Payment Typology 3  Birth Weight  \\\n",
       "628756                 NaN                 NaN             0   \n",
       "628825                 NaN                 NaN             0   \n",
       "629035                 NaN                 NaN             0   \n",
       "629070                 NaN                 NaN             0   \n",
       "629175                 NaN                 NaN             0   \n",
       "...                    ...                 ...           ...   \n",
       "664926                 NaN                 NaN             0   \n",
       "664927                 NaN                 NaN             0   \n",
       "664928                 NaN                 NaN             0   \n",
       "664929                 NaN                 NaN             0   \n",
       "664930                 NaN                 NaN             0   \n",
       "\n",
       "        Abortion Edit Indicator  Emergency Department Indicator Total Charges  \\\n",
       "628756                        N                               Y      16901.84   \n",
       "628825                        N                               N      15354.59   \n",
       "629035                        N                               Y       8413.10   \n",
       "629070                        N                               Y       8102.00   \n",
       "629175                        N                               N      21480.74   \n",
       "...                         ...                             ...           ...   \n",
       "664926                        N                               Y      14033.73   \n",
       "664927                        N                               Y      44134.98   \n",
       "664928                        N                               N      13780.26   \n",
       "664929                        N                               N       7560.97   \n",
       "664930                        N                               N       3670.62   \n",
       "\n",
       "       Total Costs  \n",
       "628756     5444.54  \n",
       "628825     5499.39  \n",
       "629035     2565.18  \n",
       "629070     2008.34  \n",
       "629175     7279.17  \n",
       "...            ...  \n",
       "664926     4471.53  \n",
       "664927    12744.49  \n",
       "664928     3192.12  \n",
       "664929     2705.89  \n",
       "664930     2613.38  \n",
       "\n",
       "[14072 rows x 28 columns]"
      ]
     },
     "execution_count": 11,
     "metadata": {},
     "output_type": "execute_result"
    }
   ],
   "source": [
    "Glens_df"
   ]
  },
  {
   "cell_type": "code",
   "execution_count": 12,
   "id": "b9c59fb7",
   "metadata": {
    "execution": {
     "iopub.execute_input": "2023-02-21T12:05:04.869186Z",
     "iopub.status.busy": "2023-02-21T12:05:04.868748Z",
     "iopub.status.idle": "2023-02-21T12:05:04.890336Z",
     "shell.execute_reply": "2023-02-21T12:05:04.889399Z"
    },
    "papermill": {
     "duration": 0.09033,
     "end_time": "2023-02-21T12:05:04.892807",
     "exception": false,
     "start_time": "2023-02-21T12:05:04.802477",
     "status": "completed"
    },
    "tags": []
   },
   "outputs": [
    {
     "name": "stdout",
     "output_type": "stream",
     "text": [
      "<class 'pandas.core.frame.DataFrame'>\n",
      "Int64Index: 14072 entries, 628756 to 664930\n",
      "Data columns (total 28 columns):\n",
      " #   Column                            Non-Null Count  Dtype   \n",
      "---  ------                            --------------  -----   \n",
      " 0   Hospital County                   14072 non-null  category\n",
      " 1   Operating Certificate Number      14072 non-null  float64 \n",
      " 2   Facility Id                       14072 non-null  float64 \n",
      " 3   Facility Name                     14072 non-null  object  \n",
      " 4   Age Group                         14072 non-null  category\n",
      " 5   Zip Code - 3 digits               13957 non-null  category\n",
      " 6   Gender                            14072 non-null  category\n",
      " 7   Race                              14072 non-null  category\n",
      " 8   Ethnicity                         14072 non-null  category\n",
      " 9   Length of Stay                    14072 non-null  category\n",
      " 10  Type of Admission                 14072 non-null  category\n",
      " 11  Patient Disposition               14072 non-null  category\n",
      " 12  Discharge Year                    14072 non-null  int64   \n",
      " 13  CCS Diagnosis Code                14072 non-null  int64   \n",
      " 14  CCS Procedure Code                14072 non-null  int64   \n",
      " 15  APR DRG Code                      14072 non-null  int64   \n",
      " 16  APR MDC Code                      14072 non-null  int64   \n",
      " 17  APR Severity of Illness Code      14072 non-null  int64   \n",
      " 18  APR Risk of Mortality             14072 non-null  category\n",
      " 19  APR Medical Surgical Description  14072 non-null  category\n",
      " 20  Payment Typology 1                14072 non-null  category\n",
      " 21  Payment Typology 2                4755 non-null   category\n",
      " 22  Payment Typology 3                281 non-null    category\n",
      " 23  Birth Weight                      14072 non-null  int64   \n",
      " 24  Abortion Edit Indicator           14072 non-null  category\n",
      " 25  Emergency Department Indicator    14072 non-null  category\n",
      " 26  Total Charges                     14072 non-null  float64 \n",
      " 27  Total Costs                       14072 non-null  float64 \n",
      "dtypes: category(16), float64(4), int64(7), object(1)\n",
      "memory usage: 1.6+ MB\n"
     ]
    }
   ],
   "source": [
    "Glens_df.info()"
   ]
  },
  {
   "cell_type": "code",
   "execution_count": null,
   "id": "7141f62b",
   "metadata": {
    "papermill": {
     "duration": 0.063197,
     "end_time": "2023-02-21T12:05:05.022556",
     "exception": false,
     "start_time": "2023-02-21T12:05:04.959359",
     "status": "completed"
    },
    "tags": []
   },
   "outputs": [],
   "source": []
  },
  {
   "cell_type": "code",
   "execution_count": null,
   "id": "b6a3554f",
   "metadata": {
    "papermill": {
     "duration": 0.062806,
     "end_time": "2023-02-21T12:05:05.152897",
     "exception": false,
     "start_time": "2023-02-21T12:05:05.090091",
     "status": "completed"
    },
    "tags": []
   },
   "outputs": [],
   "source": [
    "\n"
   ]
  },
  {
   "cell_type": "code",
   "execution_count": 13,
   "id": "02751b46",
   "metadata": {
    "execution": {
     "iopub.execute_input": "2023-02-21T12:05:05.372396Z",
     "iopub.status.busy": "2023-02-21T12:05:05.371932Z",
     "iopub.status.idle": "2023-02-21T12:05:05.405366Z",
     "shell.execute_reply": "2023-02-21T12:05:05.403228Z"
    },
    "papermill": {
     "duration": 0.10283,
     "end_time": "2023-02-21T12:05:05.408068",
     "exception": false,
     "start_time": "2023-02-21T12:05:05.305238",
     "status": "completed"
    },
    "tags": []
   },
   "outputs": [
    {
     "data": {
      "text/html": [
       "<div>\n",
       "<style scoped>\n",
       "    .dataframe tbody tr th:only-of-type {\n",
       "        vertical-align: middle;\n",
       "    }\n",
       "\n",
       "    .dataframe tbody tr th {\n",
       "        vertical-align: top;\n",
       "    }\n",
       "\n",
       "    .dataframe thead th {\n",
       "        text-align: right;\n",
       "    }\n",
       "</style>\n",
       "<table border=\"1\" class=\"dataframe\">\n",
       "  <thead>\n",
       "    <tr style=\"text-align: right;\">\n",
       "      <th></th>\n",
       "      <th>Hospital County</th>\n",
       "      <th>Operating Certificate Number</th>\n",
       "      <th>Facility Id</th>\n",
       "      <th>Facility Name</th>\n",
       "      <th>Age Group</th>\n",
       "      <th>Zip Code - 3 digits</th>\n",
       "      <th>Gender</th>\n",
       "      <th>Race</th>\n",
       "      <th>Ethnicity</th>\n",
       "      <th>Length of Stay</th>\n",
       "      <th>...</th>\n",
       "      <th>APR Risk of Mortality</th>\n",
       "      <th>APR Medical Surgical Description</th>\n",
       "      <th>Payment Typology 1</th>\n",
       "      <th>Payment Typology 2</th>\n",
       "      <th>Payment Typology 3</th>\n",
       "      <th>Birth Weight</th>\n",
       "      <th>Abortion Edit Indicator</th>\n",
       "      <th>Emergency Department Indicator</th>\n",
       "      <th>Total Charges</th>\n",
       "      <th>Total Costs</th>\n",
       "    </tr>\n",
       "  </thead>\n",
       "  <tbody>\n",
       "    <tr>\n",
       "      <th>628756</th>\n",
       "      <td>Warren</td>\n",
       "      <td>5601000.0</td>\n",
       "      <td>1005.0</td>\n",
       "      <td>Glens Falls Hospital</td>\n",
       "      <td>30 to 49</td>\n",
       "      <td>128</td>\n",
       "      <td>F</td>\n",
       "      <td>White</td>\n",
       "      <td>Not Span/Hispanic</td>\n",
       "      <td>5</td>\n",
       "      <td>...</td>\n",
       "      <td>Minor</td>\n",
       "      <td>Medical</td>\n",
       "      <td>Medicaid</td>\n",
       "      <td>NaN</td>\n",
       "      <td>NaN</td>\n",
       "      <td>0</td>\n",
       "      <td>N</td>\n",
       "      <td>Y</td>\n",
       "      <td>16901.84</td>\n",
       "      <td>5444.54</td>\n",
       "    </tr>\n",
       "    <tr>\n",
       "      <th>628825</th>\n",
       "      <td>Warren</td>\n",
       "      <td>5601000.0</td>\n",
       "      <td>1005.0</td>\n",
       "      <td>Glens Falls Hospital</td>\n",
       "      <td>50 to 69</td>\n",
       "      <td>120</td>\n",
       "      <td>F</td>\n",
       "      <td>White</td>\n",
       "      <td>Not Span/Hispanic</td>\n",
       "      <td>4</td>\n",
       "      <td>...</td>\n",
       "      <td>Moderate</td>\n",
       "      <td>Medical</td>\n",
       "      <td>Medicare</td>\n",
       "      <td>NaN</td>\n",
       "      <td>NaN</td>\n",
       "      <td>0</td>\n",
       "      <td>N</td>\n",
       "      <td>N</td>\n",
       "      <td>15354.59</td>\n",
       "      <td>5499.39</td>\n",
       "    </tr>\n",
       "    <tr>\n",
       "      <th>629035</th>\n",
       "      <td>Warren</td>\n",
       "      <td>5601000.0</td>\n",
       "      <td>1005.0</td>\n",
       "      <td>Glens Falls Hospital</td>\n",
       "      <td>18 to 29</td>\n",
       "      <td>128</td>\n",
       "      <td>M</td>\n",
       "      <td>White</td>\n",
       "      <td>Not Span/Hispanic</td>\n",
       "      <td>2</td>\n",
       "      <td>...</td>\n",
       "      <td>Minor</td>\n",
       "      <td>Medical</td>\n",
       "      <td>Blue Cross/Blue Shield</td>\n",
       "      <td>NaN</td>\n",
       "      <td>NaN</td>\n",
       "      <td>0</td>\n",
       "      <td>N</td>\n",
       "      <td>Y</td>\n",
       "      <td>8413.10</td>\n",
       "      <td>2565.18</td>\n",
       "    </tr>\n",
       "    <tr>\n",
       "      <th>629070</th>\n",
       "      <td>Warren</td>\n",
       "      <td>5601000.0</td>\n",
       "      <td>1005.0</td>\n",
       "      <td>Glens Falls Hospital</td>\n",
       "      <td>50 to 69</td>\n",
       "      <td>128</td>\n",
       "      <td>F</td>\n",
       "      <td>White</td>\n",
       "      <td>Not Span/Hispanic</td>\n",
       "      <td>1</td>\n",
       "      <td>...</td>\n",
       "      <td>Minor</td>\n",
       "      <td>Medical</td>\n",
       "      <td>Blue Cross/Blue Shield</td>\n",
       "      <td>NaN</td>\n",
       "      <td>NaN</td>\n",
       "      <td>0</td>\n",
       "      <td>N</td>\n",
       "      <td>Y</td>\n",
       "      <td>8102.00</td>\n",
       "      <td>2008.34</td>\n",
       "    </tr>\n",
       "    <tr>\n",
       "      <th>629175</th>\n",
       "      <td>Warren</td>\n",
       "      <td>5601000.0</td>\n",
       "      <td>1005.0</td>\n",
       "      <td>Glens Falls Hospital</td>\n",
       "      <td>70 or Older</td>\n",
       "      <td>128</td>\n",
       "      <td>F</td>\n",
       "      <td>White</td>\n",
       "      <td>Not Span/Hispanic</td>\n",
       "      <td>6</td>\n",
       "      <td>...</td>\n",
       "      <td>Major</td>\n",
       "      <td>Medical</td>\n",
       "      <td>Medicare</td>\n",
       "      <td>NaN</td>\n",
       "      <td>NaN</td>\n",
       "      <td>0</td>\n",
       "      <td>N</td>\n",
       "      <td>N</td>\n",
       "      <td>21480.74</td>\n",
       "      <td>7279.17</td>\n",
       "    </tr>\n",
       "  </tbody>\n",
       "</table>\n",
       "<p>5 rows × 28 columns</p>\n",
       "</div>"
      ],
      "text/plain": [
       "       Hospital County  Operating Certificate Number  Facility Id  \\\n",
       "628756          Warren                     5601000.0       1005.0   \n",
       "628825          Warren                     5601000.0       1005.0   \n",
       "629035          Warren                     5601000.0       1005.0   \n",
       "629070          Warren                     5601000.0       1005.0   \n",
       "629175          Warren                     5601000.0       1005.0   \n",
       "\n",
       "               Facility Name    Age Group Zip Code - 3 digits Gender   Race  \\\n",
       "628756  Glens Falls Hospital     30 to 49                 128      F  White   \n",
       "628825  Glens Falls Hospital     50 to 69                 120      F  White   \n",
       "629035  Glens Falls Hospital     18 to 29                 128      M  White   \n",
       "629070  Glens Falls Hospital     50 to 69                 128      F  White   \n",
       "629175  Glens Falls Hospital  70 or Older                 128      F  White   \n",
       "\n",
       "                Ethnicity Length of Stay  ... APR Risk of Mortality  \\\n",
       "628756  Not Span/Hispanic              5  ...                 Minor   \n",
       "628825  Not Span/Hispanic              4  ...              Moderate   \n",
       "629035  Not Span/Hispanic              2  ...                 Minor   \n",
       "629070  Not Span/Hispanic              1  ...                 Minor   \n",
       "629175  Not Span/Hispanic              6  ...                 Major   \n",
       "\n",
       "       APR Medical Surgical Description      Payment Typology 1  \\\n",
       "628756                          Medical                Medicaid   \n",
       "628825                          Medical                Medicare   \n",
       "629035                          Medical  Blue Cross/Blue Shield   \n",
       "629070                          Medical  Blue Cross/Blue Shield   \n",
       "629175                          Medical                Medicare   \n",
       "\n",
       "        Payment Typology 2  Payment Typology 3  Birth Weight  \\\n",
       "628756                 NaN                 NaN             0   \n",
       "628825                 NaN                 NaN             0   \n",
       "629035                 NaN                 NaN             0   \n",
       "629070                 NaN                 NaN             0   \n",
       "629175                 NaN                 NaN             0   \n",
       "\n",
       "        Abortion Edit Indicator  Emergency Department Indicator Total Charges  \\\n",
       "628756                        N                               Y      16901.84   \n",
       "628825                        N                               N      15354.59   \n",
       "629035                        N                               Y       8413.10   \n",
       "629070                        N                               Y       8102.00   \n",
       "629175                        N                               N      21480.74   \n",
       "\n",
       "       Total Costs  \n",
       "628756     5444.54  \n",
       "628825     5499.39  \n",
       "629035     2565.18  \n",
       "629070     2008.34  \n",
       "629175     7279.17  \n",
       "\n",
       "[5 rows x 28 columns]"
      ]
     },
     "execution_count": 13,
     "metadata": {},
     "output_type": "execute_result"
    }
   ],
   "source": [
    "Glens_df.head()"
   ]
  },
  {
   "cell_type": "code",
   "execution_count": 14,
   "id": "bab5b6c4",
   "metadata": {
    "execution": {
     "iopub.execute_input": "2023-02-21T12:05:05.541597Z",
     "iopub.status.busy": "2023-02-21T12:05:05.541032Z",
     "iopub.status.idle": "2023-02-21T12:05:05.563209Z",
     "shell.execute_reply": "2023-02-21T12:05:05.561858Z"
    },
    "papermill": {
     "duration": 0.094189,
     "end_time": "2023-02-21T12:05:05.567701",
     "exception": false,
     "start_time": "2023-02-21T12:05:05.473512",
     "status": "completed"
    },
    "tags": []
   },
   "outputs": [
    {
     "name": "stdout",
     "output_type": "stream",
     "text": [
      "<class 'pandas.core.frame.DataFrame'>\n",
      "Int64Index: 14072 entries, 628756 to 664930\n",
      "Data columns (total 28 columns):\n",
      " #   Column                            Non-Null Count  Dtype   \n",
      "---  ------                            --------------  -----   \n",
      " 0   Hospital County                   14072 non-null  category\n",
      " 1   Operating Certificate Number      14072 non-null  float64 \n",
      " 2   Facility Id                       14072 non-null  float64 \n",
      " 3   Facility Name                     14072 non-null  object  \n",
      " 4   Age Group                         14072 non-null  category\n",
      " 5   Zip Code - 3 digits               13957 non-null  category\n",
      " 6   Gender                            14072 non-null  category\n",
      " 7   Race                              14072 non-null  category\n",
      " 8   Ethnicity                         14072 non-null  category\n",
      " 9   Length of Stay                    14072 non-null  category\n",
      " 10  Type of Admission                 14072 non-null  category\n",
      " 11  Patient Disposition               14072 non-null  category\n",
      " 12  Discharge Year                    14072 non-null  int64   \n",
      " 13  CCS Diagnosis Code                14072 non-null  int64   \n",
      " 14  CCS Procedure Code                14072 non-null  int64   \n",
      " 15  APR DRG Code                      14072 non-null  int64   \n",
      " 16  APR MDC Code                      14072 non-null  int64   \n",
      " 17  APR Severity of Illness Code      14072 non-null  int64   \n",
      " 18  APR Risk of Mortality             14072 non-null  category\n",
      " 19  APR Medical Surgical Description  14072 non-null  category\n",
      " 20  Payment Typology 1                14072 non-null  category\n",
      " 21  Payment Typology 2                4755 non-null   category\n",
      " 22  Payment Typology 3                281 non-null    category\n",
      " 23  Birth Weight                      14072 non-null  int64   \n",
      " 24  Abortion Edit Indicator           14072 non-null  category\n",
      " 25  Emergency Department Indicator    14072 non-null  category\n",
      " 26  Total Charges                     14072 non-null  float64 \n",
      " 27  Total Costs                       14072 non-null  float64 \n",
      "dtypes: category(16), float64(4), int64(7), object(1)\n",
      "memory usage: 1.6+ MB\n"
     ]
    }
   ],
   "source": [
    "Glens_df.info()"
   ]
  },
  {
   "cell_type": "code",
   "execution_count": 15,
   "id": "3dc50b1c",
   "metadata": {
    "_kg_hide-input": true,
    "execution": {
     "iopub.execute_input": "2023-02-21T12:05:05.705279Z",
     "iopub.status.busy": "2023-02-21T12:05:05.704036Z",
     "iopub.status.idle": "2023-02-21T12:05:05.710535Z",
     "shell.execute_reply": "2023-02-21T12:05:05.709570Z"
    },
    "papermill": {
     "duration": 0.078789,
     "end_time": "2023-02-21T12:05:05.713061",
     "exception": false,
     "start_time": "2023-02-21T12:05:05.634272",
     "status": "completed"
    },
    "tags": []
   },
   "outputs": [],
   "source": [
    "Glens_df = Glens_df.drop(\"Facility Name\", axis=1)"
   ]
  },
  {
   "cell_type": "code",
   "execution_count": 16,
   "id": "395365b8",
   "metadata": {
    "execution": {
     "iopub.execute_input": "2023-02-21T12:05:05.846077Z",
     "iopub.status.busy": "2023-02-21T12:05:05.845302Z",
     "iopub.status.idle": "2023-02-21T12:05:05.857846Z",
     "shell.execute_reply": "2023-02-21T12:05:05.856963Z"
    },
    "papermill": {
     "duration": 0.082406,
     "end_time": "2023-02-21T12:05:05.860795",
     "exception": false,
     "start_time": "2023-02-21T12:05:05.778389",
     "status": "completed"
    },
    "tags": []
   },
   "outputs": [
    {
     "data": {
      "text/html": [
       "<div>\n",
       "<style scoped>\n",
       "    .dataframe tbody tr th:only-of-type {\n",
       "        vertical-align: middle;\n",
       "    }\n",
       "\n",
       "    .dataframe tbody tr th {\n",
       "        vertical-align: top;\n",
       "    }\n",
       "\n",
       "    .dataframe thead th {\n",
       "        text-align: right;\n",
       "    }\n",
       "</style>\n",
       "<table border=\"1\" class=\"dataframe\">\n",
       "  <thead>\n",
       "    <tr style=\"text-align: right;\">\n",
       "      <th></th>\n",
       "      <th>Length of Stay</th>\n",
       "    </tr>\n",
       "  </thead>\n",
       "  <tbody>\n",
       "    <tr>\n",
       "      <th>628756</th>\n",
       "      <td>5</td>\n",
       "    </tr>\n",
       "    <tr>\n",
       "      <th>628825</th>\n",
       "      <td>4</td>\n",
       "    </tr>\n",
       "    <tr>\n",
       "      <th>629035</th>\n",
       "      <td>2</td>\n",
       "    </tr>\n",
       "    <tr>\n",
       "      <th>629070</th>\n",
       "      <td>1</td>\n",
       "    </tr>\n",
       "    <tr>\n",
       "      <th>629175</th>\n",
       "      <td>6</td>\n",
       "    </tr>\n",
       "    <tr>\n",
       "      <th>...</th>\n",
       "      <td>...</td>\n",
       "    </tr>\n",
       "    <tr>\n",
       "      <th>664926</th>\n",
       "      <td>1</td>\n",
       "    </tr>\n",
       "    <tr>\n",
       "      <th>664927</th>\n",
       "      <td>1</td>\n",
       "    </tr>\n",
       "    <tr>\n",
       "      <th>664928</th>\n",
       "      <td>1</td>\n",
       "    </tr>\n",
       "    <tr>\n",
       "      <th>664929</th>\n",
       "      <td>1</td>\n",
       "    </tr>\n",
       "    <tr>\n",
       "      <th>664930</th>\n",
       "      <td>1</td>\n",
       "    </tr>\n",
       "  </tbody>\n",
       "</table>\n",
       "<p>14072 rows × 1 columns</p>\n",
       "</div>"
      ],
      "text/plain": [
       "       Length of Stay\n",
       "628756              5\n",
       "628825              4\n",
       "629035              2\n",
       "629070              1\n",
       "629175              6\n",
       "...               ...\n",
       "664926              1\n",
       "664927              1\n",
       "664928              1\n",
       "664929              1\n",
       "664930              1\n",
       "\n",
       "[14072 rows x 1 columns]"
      ]
     },
     "execution_count": 16,
     "metadata": {},
     "output_type": "execute_result"
    }
   ],
   "source": [
    "Glens_df[[\"Length of Stay\"]]"
   ]
  },
  {
   "cell_type": "code",
   "execution_count": 17,
   "id": "f95ac106",
   "metadata": {
    "execution": {
     "iopub.execute_input": "2023-02-21T12:05:05.995849Z",
     "iopub.status.busy": "2023-02-21T12:05:05.995108Z",
     "iopub.status.idle": "2023-02-21T12:05:06.001062Z",
     "shell.execute_reply": "2023-02-21T12:05:06.000220Z"
    },
    "papermill": {
     "duration": 0.076841,
     "end_time": "2023-02-21T12:05:06.003572",
     "exception": false,
     "start_time": "2023-02-21T12:05:05.926731",
     "status": "completed"
    },
    "tags": []
   },
   "outputs": [],
   "source": [
    "Glens_df = Glens_df.drop([\"Payment Typology 2\",    \"Payment Typology 3\"], axis=1)\n"
   ]
  },
  {
   "cell_type": "code",
   "execution_count": 18,
   "id": "f86b3180",
   "metadata": {
    "execution": {
     "iopub.execute_input": "2023-02-21T12:05:06.134289Z",
     "iopub.status.busy": "2023-02-21T12:05:06.133554Z",
     "iopub.status.idle": "2023-02-21T12:05:06.196946Z",
     "shell.execute_reply": "2023-02-21T12:05:06.194007Z"
    },
    "papermill": {
     "duration": 0.131544,
     "end_time": "2023-02-21T12:05:06.199862",
     "exception": false,
     "start_time": "2023-02-21T12:05:06.068318",
     "status": "completed"
    },
    "tags": []
   },
   "outputs": [
    {
     "name": "stdout",
     "output_type": "stream",
     "text": [
      "Hospital County : 1\n",
      "Warren      14072\n",
      "Albany          0\n",
      "Saratoga        0\n",
      "Onondaga        0\n",
      "Ontario         0\n",
      "Name: Hospital County, dtype: int64\n",
      "\n",
      "********************\n",
      "\n",
      "Operating Certificate Number : 1\n",
      "5601000.0    14072\n",
      "Name: Operating Certificate Number, dtype: int64\n",
      "\n",
      "********************\n",
      "\n",
      "Facility Id : 1\n",
      "1005.0    14072\n",
      "Name: Facility Id, dtype: int64\n",
      "\n",
      "********************\n",
      "\n",
      "Age Group : 5\n",
      "70 or Older    4708\n",
      "50 to 69       3997\n",
      "30 to 49       2186\n",
      "0 to 17        1671\n",
      "18 to 29       1510\n",
      "Name: Age Group, dtype: int64\n",
      "\n",
      "********************\n",
      "\n",
      "Zip Code - 3 digits : 20\n",
      "128    13284\n",
      "OOS      197\n",
      "120      196\n",
      "129      110\n",
      "121       80\n",
      "Name: Zip Code - 3 digits, dtype: int64\n",
      "\n",
      "********************\n",
      "\n",
      "Gender : 2\n",
      "F    7797\n",
      "M    6275\n",
      "U       0\n",
      "Name: Gender, dtype: int64\n",
      "\n",
      "********************\n",
      "\n",
      "Race : 3\n",
      "White                     13610\n",
      "Other Race                  343\n",
      "Black/African American      119\n",
      "Multi-racial                  0\n",
      "Name: Race, dtype: int64\n",
      "\n",
      "********************\n",
      "\n",
      "Ethnicity : 3\n",
      "Not Span/Hispanic    13938\n",
      "Spanish/Hispanic       125\n",
      "Unknown                  9\n",
      "Multi-ethnic             0\n",
      "Name: Ethnicity, dtype: int64\n",
      "\n",
      "********************\n",
      "\n",
      "Length of Stay : 74\n",
      "2    3059\n",
      "3    2648\n",
      "1    2116\n",
      "4    1620\n",
      "5    1078\n",
      "Name: Length of Stay, dtype: int64\n",
      "\n",
      "********************\n",
      "\n",
      "Type of Admission : 5\n",
      "Emergency        9490\n",
      "Elective         2700\n",
      "Newborn          1220\n",
      "Urgent            657\n",
      "Not Available       5\n",
      "Name: Type of Admission, dtype: int64\n",
      "\n",
      "********************\n",
      "\n",
      "Patient Disposition : 17\n",
      "Home or Self Care               6717\n",
      "Home w/ Home Health Services    4378\n",
      "Skilled Nursing Home            1584\n",
      "Expired                          427\n",
      "Short-term Hospital              290\n",
      "Name: Patient Disposition, dtype: int64\n",
      "\n",
      "********************\n",
      "\n",
      "Discharge Year : 1\n",
      "2015    14072\n",
      "Name: Discharge Year, dtype: int64\n",
      "\n",
      "********************\n",
      "\n",
      "CCS Diagnosis Code : 226\n",
      "218    1219\n",
      "657     864\n",
      "2       833\n",
      "127     459\n",
      "108     408\n",
      "Name: CCS Diagnosis Code, dtype: int64\n",
      "\n",
      "********************\n",
      "\n",
      "CCS Procedure Code : 165\n",
      "0      6956\n",
      "137     790\n",
      "216     567\n",
      "115     491\n",
      "134     379\n",
      "Name: CCS Procedure Code, dtype: int64\n",
      "\n",
      "********************\n",
      "\n",
      "APR DRG Code : 263\n",
      "640    1126\n",
      "560     818\n",
      "720     745\n",
      "140     494\n",
      "194     382\n",
      "Name: APR DRG Code, dtype: int64\n",
      "\n",
      "********************\n",
      "\n",
      "APR MDC Code : 25\n",
      "4     1702\n",
      "5     1553\n",
      "6     1299\n",
      "14    1291\n",
      "15    1233\n",
      "Name: APR MDC Code, dtype: int64\n",
      "\n",
      "********************\n",
      "\n",
      "APR Severity of Illness Code : 4\n",
      "2    5298\n",
      "1    4129\n",
      "3    3987\n",
      "4     658\n",
      "Name: APR Severity of Illness Code, dtype: int64\n",
      "\n",
      "********************\n",
      "\n",
      "APR Risk of Mortality : 4\n",
      "Minor       7296\n",
      "Moderate    3442\n",
      "Major       2734\n",
      "Extreme      600\n",
      "Name: APR Risk of Mortality, dtype: int64\n",
      "\n",
      "********************\n",
      "\n",
      "APR Medical Surgical Description : 2\n",
      "Medical           11256\n",
      "Surgical           2816\n",
      "Not Applicable        0\n",
      "Name: APR Medical Surgical Description, dtype: int64\n",
      "\n",
      "********************\n",
      "\n",
      "Payment Typology 1 : 8\n",
      "Medicare                    7149\n",
      "Medicaid                    3174\n",
      "Blue Cross/Blue Shield      1919\n",
      "Private Health Insurance    1424\n",
      "Self-Pay                     169\n",
      "Name: Payment Typology 1, dtype: int64\n",
      "\n",
      "********************\n",
      "\n",
      "Birth Weight : 38\n",
      "0       12822\n",
      "3500      129\n",
      "3400      101\n",
      "3300       96\n",
      "3600       92\n",
      "Name: Birth Weight, dtype: int64\n",
      "\n",
      "********************\n",
      "\n",
      "Abortion Edit Indicator : 1\n",
      "N    14072\n",
      "Y        0\n",
      "Name: Abortion Edit Indicator, dtype: int64\n",
      "\n",
      "********************\n",
      "\n",
      "Emergency Department Indicator : 2\n",
      "Y    9493\n",
      "N    4579\n",
      "Name: Emergency Department Indicator, dtype: int64\n",
      "\n",
      "********************\n",
      "\n",
      "Total Charges : 13528\n",
      "5357.70    67\n",
      "5276.70    63\n",
      "2849.70    35\n",
      "5885.05    32\n",
      "5899.15    25\n",
      "Name: Total Charges, dtype: int64\n",
      "\n",
      "********************\n",
      "\n",
      "Total Costs : 13510\n",
      "1896.61    67\n",
      "1881.32    63\n",
      "1041.81    35\n",
      "2076.81    32\n",
      "2082.50    25\n",
      "Name: Total Costs, dtype: int64\n",
      "\n",
      "********************\n",
      "\n"
     ]
    }
   ],
   "source": [
    "for col in Glens_df.columns:\n",
    "    print( col,':', Glens_df[col].nunique() )#Num of unique values\n",
    "    print(Glens_df[col].value_counts().nlargest(5)) #Most 5 frequent values\n",
    "    print('\\n' + '*' * 20 + '\\n')"
   ]
  },
  {
   "cell_type": "markdown",
   "id": "f6ed4481",
   "metadata": {
    "papermill": {
     "duration": 0.064084,
     "end_time": "2023-02-21T12:05:06.330020",
     "exception": false,
     "start_time": "2023-02-21T12:05:06.265936",
     "status": "completed"
    },
    "tags": []
   },
   "source": [
    "preprocsesing "
   ]
  },
  {
   "cell_type": "code",
   "execution_count": 19,
   "id": "39380a55",
   "metadata": {
    "execution": {
     "iopub.execute_input": "2023-02-21T12:05:06.461239Z",
     "iopub.status.busy": "2023-02-21T12:05:06.460074Z",
     "iopub.status.idle": "2023-02-21T12:05:06.468529Z",
     "shell.execute_reply": "2023-02-21T12:05:06.467550Z"
    },
    "papermill": {
     "duration": 0.076793,
     "end_time": "2023-02-21T12:05:06.471107",
     "exception": false,
     "start_time": "2023-02-21T12:05:06.394314",
     "status": "completed"
    },
    "tags": []
   },
   "outputs": [],
   "source": [
    " #Glens_df[\"Length of Stay\"] = Glens_df[\"Length of Stay\"].astype('int64')\n",
    " #   simple mapping on binary features.\n",
    "Glens_df['Abortion Edit Indicator'] = Glens_df['Abortion Edit Indicator'].apply(\n",
    "     lambda x: 1 if x == 'Y' else (0 if x == 'N' else None))\n",
    "Glens_df['Emergency Department Indicator'] = Glens_df['Emergency Department Indicator'].apply(\n",
    "    lambda x: 1 if x == 'Y' else (0 if x == 'N' else None))"
   ]
  },
  {
   "cell_type": "code",
   "execution_count": 20,
   "id": "d6b4d241",
   "metadata": {
    "execution": {
     "iopub.execute_input": "2023-02-21T12:05:06.604157Z",
     "iopub.status.busy": "2023-02-21T12:05:06.603360Z",
     "iopub.status.idle": "2023-02-21T12:05:06.617720Z",
     "shell.execute_reply": "2023-02-21T12:05:06.616759Z"
    },
    "papermill": {
     "duration": 0.084105,
     "end_time": "2023-02-21T12:05:06.620204",
     "exception": false,
     "start_time": "2023-02-21T12:05:06.536099",
     "status": "completed"
    },
    "tags": []
   },
   "outputs": [],
   "source": [
    "Glens_df[\"Length of Stay\"]=pd.to_numeric(Glens_df[\"Length of Stay\"],errors='coerce')"
   ]
  },
  {
   "cell_type": "code",
   "execution_count": 21,
   "id": "8a0ea58f",
   "metadata": {
    "execution": {
     "iopub.execute_input": "2023-02-21T12:05:06.751851Z",
     "iopub.status.busy": "2023-02-21T12:05:06.751159Z",
     "iopub.status.idle": "2023-02-21T12:05:06.770157Z",
     "shell.execute_reply": "2023-02-21T12:05:06.768861Z"
    },
    "papermill": {
     "duration": 0.087559,
     "end_time": "2023-02-21T12:05:06.772584",
     "exception": false,
     "start_time": "2023-02-21T12:05:06.685025",
     "status": "completed"
    },
    "tags": []
   },
   "outputs": [
    {
     "name": "stdout",
     "output_type": "stream",
     "text": [
      "<class 'pandas.core.frame.DataFrame'>\n",
      "Int64Index: 14072 entries, 628756 to 664930\n",
      "Data columns (total 25 columns):\n",
      " #   Column                            Non-Null Count  Dtype   \n",
      "---  ------                            --------------  -----   \n",
      " 0   Hospital County                   14072 non-null  category\n",
      " 1   Operating Certificate Number      14072 non-null  float64 \n",
      " 2   Facility Id                       14072 non-null  float64 \n",
      " 3   Age Group                         14072 non-null  category\n",
      " 4   Zip Code - 3 digits               13957 non-null  category\n",
      " 5   Gender                            14072 non-null  category\n",
      " 6   Race                              14072 non-null  category\n",
      " 7   Ethnicity                         14072 non-null  category\n",
      " 8   Length of Stay                    14069 non-null  float64 \n",
      " 9   Type of Admission                 14072 non-null  category\n",
      " 10  Patient Disposition               14072 non-null  category\n",
      " 11  Discharge Year                    14072 non-null  int64   \n",
      " 12  CCS Diagnosis Code                14072 non-null  int64   \n",
      " 13  CCS Procedure Code                14072 non-null  int64   \n",
      " 14  APR DRG Code                      14072 non-null  int64   \n",
      " 15  APR MDC Code                      14072 non-null  int64   \n",
      " 16  APR Severity of Illness Code      14072 non-null  int64   \n",
      " 17  APR Risk of Mortality             14072 non-null  category\n",
      " 18  APR Medical Surgical Description  14072 non-null  category\n",
      " 19  Payment Typology 1                14072 non-null  category\n",
      " 20  Birth Weight                      14072 non-null  int64   \n",
      " 21  Abortion Edit Indicator           14072 non-null  category\n",
      " 22  Emergency Department Indicator    14072 non-null  category\n",
      " 23  Total Charges                     14072 non-null  float64 \n",
      " 24  Total Costs                       14072 non-null  float64 \n",
      "dtypes: category(13), float64(5), int64(7)\n",
      "memory usage: 1.6 MB\n"
     ]
    }
   ],
   "source": [
    "Glens_df.info()"
   ]
  },
  {
   "cell_type": "code",
   "execution_count": 22,
   "id": "2cd1508a",
   "metadata": {
    "execution": {
     "iopub.execute_input": "2023-02-21T12:05:06.902950Z",
     "iopub.status.busy": "2023-02-21T12:05:06.902205Z",
     "iopub.status.idle": "2023-02-21T12:05:08.040651Z",
     "shell.execute_reply": "2023-02-21T12:05:08.039241Z"
    },
    "papermill": {
     "duration": 1.207072,
     "end_time": "2023-02-21T12:05:08.043895",
     "exception": false,
     "start_time": "2023-02-21T12:05:06.836823",
     "status": "completed"
    },
    "tags": []
   },
   "outputs": [],
   "source": [
    "list=  [ \"Hospital County\",\"Age Group\"\n",
    "    ,\"Gender\",   \n",
    " \"Race\" , \n",
    "\"Ethnicity\", \n",
    "\"Gender\" , \n",
    "\"Race\" ,    \n",
    " \"Ethnicity\" ,        \n",
    " \"Type of Admission\"  ,  \n",
    "  \"Patient Disposition\",      \n",
    " \"Type of Admission\" ,  \n",
    " \"Patient Disposition\"  ,\n",
    "  \"APR Risk of Mortality\" ,   \n",
    " \"APR Medical Surgical Description\" ,\n",
    " \"Payment Typology 1\"   ,   \n",
    " \"Abortion Edit Indicator\"     ,  \n",
    " \"Emergency Department Indicator\",\n",
    "       \"Zip Code - 3 digits\"]  \n",
    "\n",
    "# Import label encoder\n",
    "from sklearn import preprocessing\n",
    "  \n",
    "# label_encoder object knows how to understand word labels.\n",
    "label_encoder = preprocessing.LabelEncoder()\n",
    "  \n",
    "# Encode labels in column 'species'.\n",
    "for col in list :\n",
    "  Glens_df[col]= label_encoder.fit_transform(Glens_df[col])"
   ]
  },
  {
   "cell_type": "code",
   "execution_count": 23,
   "id": "e37d7d60",
   "metadata": {
    "execution": {
     "iopub.execute_input": "2023-02-21T12:05:08.180771Z",
     "iopub.status.busy": "2023-02-21T12:05:08.179917Z",
     "iopub.status.idle": "2023-02-21T12:05:08.198402Z",
     "shell.execute_reply": "2023-02-21T12:05:08.196613Z"
    },
    "papermill": {
     "duration": 0.091996,
     "end_time": "2023-02-21T12:05:08.201249",
     "exception": false,
     "start_time": "2023-02-21T12:05:08.109253",
     "status": "completed"
    },
    "tags": []
   },
   "outputs": [
    {
     "name": "stdout",
     "output_type": "stream",
     "text": [
      "<class 'pandas.core.frame.DataFrame'>\n",
      "Int64Index: 14072 entries, 628756 to 664930\n",
      "Data columns (total 25 columns):\n",
      " #   Column                            Non-Null Count  Dtype  \n",
      "---  ------                            --------------  -----  \n",
      " 0   Hospital County                   14072 non-null  int64  \n",
      " 1   Operating Certificate Number      14072 non-null  float64\n",
      " 2   Facility Id                       14072 non-null  float64\n",
      " 3   Age Group                         14072 non-null  int64  \n",
      " 4   Zip Code - 3 digits               14072 non-null  int64  \n",
      " 5   Gender                            14072 non-null  int64  \n",
      " 6   Race                              14072 non-null  int64  \n",
      " 7   Ethnicity                         14072 non-null  int64  \n",
      " 8   Length of Stay                    14069 non-null  float64\n",
      " 9   Type of Admission                 14072 non-null  int64  \n",
      " 10  Patient Disposition               14072 non-null  int64  \n",
      " 11  Discharge Year                    14072 non-null  int64  \n",
      " 12  CCS Diagnosis Code                14072 non-null  int64  \n",
      " 13  CCS Procedure Code                14072 non-null  int64  \n",
      " 14  APR DRG Code                      14072 non-null  int64  \n",
      " 15  APR MDC Code                      14072 non-null  int64  \n",
      " 16  APR Severity of Illness Code      14072 non-null  int64  \n",
      " 17  APR Risk of Mortality             14072 non-null  int64  \n",
      " 18  APR Medical Surgical Description  14072 non-null  int64  \n",
      " 19  Payment Typology 1                14072 non-null  int64  \n",
      " 20  Birth Weight                      14072 non-null  int64  \n",
      " 21  Abortion Edit Indicator           14072 non-null  int64  \n",
      " 22  Emergency Department Indicator    14072 non-null  int64  \n",
      " 23  Total Charges                     14072 non-null  float64\n",
      " 24  Total Costs                       14072 non-null  float64\n",
      "dtypes: float64(5), int64(20)\n",
      "memory usage: 2.8 MB\n"
     ]
    }
   ],
   "source": [
    "Glens_df.info()"
   ]
  },
  {
   "cell_type": "code",
   "execution_count": 24,
   "id": "d6e03360",
   "metadata": {
    "execution": {
     "iopub.execute_input": "2023-02-21T12:05:08.337444Z",
     "iopub.status.busy": "2023-02-21T12:05:08.336989Z",
     "iopub.status.idle": "2023-02-21T12:05:08.347620Z",
     "shell.execute_reply": "2023-02-21T12:05:08.346776Z"
    },
    "papermill": {
     "duration": 0.081199,
     "end_time": "2023-02-21T12:05:08.350041",
     "exception": false,
     "start_time": "2023-02-21T12:05:08.268842",
     "status": "completed"
    },
    "tags": []
   },
   "outputs": [
    {
     "data": {
      "text/plain": [
       "Hospital County                     0\n",
       "Operating Certificate Number        0\n",
       "Facility Id                         0\n",
       "Age Group                           0\n",
       "Zip Code - 3 digits                 0\n",
       "Gender                              0\n",
       "Race                                0\n",
       "Ethnicity                           0\n",
       "Length of Stay                      3\n",
       "Type of Admission                   0\n",
       "Patient Disposition                 0\n",
       "Discharge Year                      0\n",
       "CCS Diagnosis Code                  0\n",
       "CCS Procedure Code                  0\n",
       "APR DRG Code                        0\n",
       "APR MDC Code                        0\n",
       "APR Severity of Illness Code        0\n",
       "APR Risk of Mortality               0\n",
       "APR Medical Surgical Description    0\n",
       "Payment Typology 1                  0\n",
       "Birth Weight                        0\n",
       "Abortion Edit Indicator             0\n",
       "Emergency Department Indicator      0\n",
       "Total Charges                       0\n",
       "Total Costs                         0\n",
       "dtype: int64"
      ]
     },
     "execution_count": 24,
     "metadata": {},
     "output_type": "execute_result"
    }
   ],
   "source": [
    "Glens_df.isnull().sum()"
   ]
  },
  {
   "cell_type": "code",
   "execution_count": 25,
   "id": "34f1cb75",
   "metadata": {
    "execution": {
     "iopub.execute_input": "2023-02-21T12:05:08.482244Z",
     "iopub.status.busy": "2023-02-21T12:05:08.481590Z",
     "iopub.status.idle": "2023-02-21T12:05:08.492809Z",
     "shell.execute_reply": "2023-02-21T12:05:08.491833Z"
    },
    "papermill": {
     "duration": 0.080632,
     "end_time": "2023-02-21T12:05:08.495683",
     "exception": false,
     "start_time": "2023-02-21T12:05:08.415051",
     "status": "completed"
    },
    "tags": []
   },
   "outputs": [],
   "source": [
    "Glens_df.dropna(inplace=True)"
   ]
  },
  {
   "cell_type": "code",
   "execution_count": 26,
   "id": "95588afe",
   "metadata": {
    "execution": {
     "iopub.execute_input": "2023-02-21T12:05:08.630049Z",
     "iopub.status.busy": "2023-02-21T12:05:08.629390Z",
     "iopub.status.idle": "2023-02-21T12:05:08.635713Z",
     "shell.execute_reply": "2023-02-21T12:05:08.634652Z"
    },
    "papermill": {
     "duration": 0.076766,
     "end_time": "2023-02-21T12:05:08.638121",
     "exception": false,
     "start_time": "2023-02-21T12:05:08.561355",
     "status": "completed"
    },
    "tags": []
   },
   "outputs": [],
   "source": [
    "x = Glens_df.drop([\"Length of Stay\"], axis =1)\n",
    "y = Glens_df[\"Length of Stay\"]"
   ]
  },
  {
   "cell_type": "code",
   "execution_count": 27,
   "id": "36c0ac4d",
   "metadata": {
    "execution": {
     "iopub.execute_input": "2023-02-21T12:05:08.777181Z",
     "iopub.status.busy": "2023-02-21T12:05:08.776758Z",
     "iopub.status.idle": "2023-02-21T12:05:08.792653Z",
     "shell.execute_reply": "2023-02-21T12:05:08.791430Z"
    },
    "papermill": {
     "duration": 0.088056,
     "end_time": "2023-02-21T12:05:08.795299",
     "exception": false,
     "start_time": "2023-02-21T12:05:08.707243",
     "status": "completed"
    },
    "tags": []
   },
   "outputs": [
    {
     "name": "stdout",
     "output_type": "stream",
     "text": [
      "<class 'pandas.core.frame.DataFrame'>\n",
      "Int64Index: 14069 entries, 628756 to 664930\n",
      "Data columns (total 24 columns):\n",
      " #   Column                            Non-Null Count  Dtype  \n",
      "---  ------                            --------------  -----  \n",
      " 0   Hospital County                   14069 non-null  int64  \n",
      " 1   Operating Certificate Number      14069 non-null  float64\n",
      " 2   Facility Id                       14069 non-null  float64\n",
      " 3   Age Group                         14069 non-null  int64  \n",
      " 4   Zip Code - 3 digits               14069 non-null  int64  \n",
      " 5   Gender                            14069 non-null  int64  \n",
      " 6   Race                              14069 non-null  int64  \n",
      " 7   Ethnicity                         14069 non-null  int64  \n",
      " 8   Type of Admission                 14069 non-null  int64  \n",
      " 9   Patient Disposition               14069 non-null  int64  \n",
      " 10  Discharge Year                    14069 non-null  int64  \n",
      " 11  CCS Diagnosis Code                14069 non-null  int64  \n",
      " 12  CCS Procedure Code                14069 non-null  int64  \n",
      " 13  APR DRG Code                      14069 non-null  int64  \n",
      " 14  APR MDC Code                      14069 non-null  int64  \n",
      " 15  APR Severity of Illness Code      14069 non-null  int64  \n",
      " 16  APR Risk of Mortality             14069 non-null  int64  \n",
      " 17  APR Medical Surgical Description  14069 non-null  int64  \n",
      " 18  Payment Typology 1                14069 non-null  int64  \n",
      " 19  Birth Weight                      14069 non-null  int64  \n",
      " 20  Abortion Edit Indicator           14069 non-null  int64  \n",
      " 21  Emergency Department Indicator    14069 non-null  int64  \n",
      " 22  Total Charges                     14069 non-null  float64\n",
      " 23  Total Costs                       14069 non-null  float64\n",
      "dtypes: float64(4), int64(20)\n",
      "memory usage: 2.7 MB\n"
     ]
    }
   ],
   "source": [
    "x.info()"
   ]
  },
  {
   "cell_type": "code",
   "execution_count": 28,
   "id": "3f07ddf1",
   "metadata": {
    "execution": {
     "iopub.execute_input": "2023-02-21T12:05:08.928611Z",
     "iopub.status.busy": "2023-02-21T12:05:08.927865Z",
     "iopub.status.idle": "2023-02-21T12:05:08.936168Z",
     "shell.execute_reply": "2023-02-21T12:05:08.935141Z"
    },
    "papermill": {
     "duration": 0.078114,
     "end_time": "2023-02-21T12:05:08.939217",
     "exception": false,
     "start_time": "2023-02-21T12:05:08.861103",
     "status": "completed"
    },
    "tags": []
   },
   "outputs": [
    {
     "data": {
      "text/plain": [
       "628756    5.0\n",
       "628825    4.0\n",
       "629035    2.0\n",
       "629070    1.0\n",
       "629175    6.0\n",
       "         ... \n",
       "664926    1.0\n",
       "664927    1.0\n",
       "664928    1.0\n",
       "664929    1.0\n",
       "664930    1.0\n",
       "Name: Length of Stay, Length: 14069, dtype: float64"
      ]
     },
     "execution_count": 28,
     "metadata": {},
     "output_type": "execute_result"
    }
   ],
   "source": [
    "y"
   ]
  },
  {
   "cell_type": "code",
   "execution_count": 29,
   "id": "0586f6b7",
   "metadata": {
    "execution": {
     "iopub.execute_input": "2023-02-21T12:05:09.075222Z",
     "iopub.status.busy": "2023-02-21T12:05:09.074788Z",
     "iopub.status.idle": "2023-02-21T12:05:09.158329Z",
     "shell.execute_reply": "2023-02-21T12:05:09.156496Z"
    },
    "papermill": {
     "duration": 0.156499,
     "end_time": "2023-02-21T12:05:09.161379",
     "exception": false,
     "start_time": "2023-02-21T12:05:09.004880",
     "status": "completed"
    },
    "tags": []
   },
   "outputs": [],
   "source": [
    "from sklearn.model_selection import train_test_split\n",
    "x_train, x_test, y_train, y_test = train_test_split(x, y, test_size=0.3, random_state=42)"
   ]
  },
  {
   "cell_type": "code",
   "execution_count": 30,
   "id": "a9701d55",
   "metadata": {
    "execution": {
     "iopub.execute_input": "2023-02-21T12:05:09.303788Z",
     "iopub.status.busy": "2023-02-21T12:05:09.303323Z",
     "iopub.status.idle": "2023-02-21T12:05:09.556653Z",
     "shell.execute_reply": "2023-02-21T12:05:09.555353Z"
    },
    "papermill": {
     "duration": 0.331351,
     "end_time": "2023-02-21T12:05:09.559320",
     "exception": false,
     "start_time": "2023-02-21T12:05:09.227969",
     "status": "completed"
    },
    "tags": []
   },
   "outputs": [],
   "source": [
    "from sklearn.metrics import r2_score\n",
    "from sklearn.metrics import mean_absolute_error\n",
    "from sklearn.metrics import mean_squared_error\n",
    "from sklearn.linear_model import LinearRegression\n",
    "from sklearn import linear_model\n",
    "from sklearn.linear_model import Ridge\n",
    "from sklearn.tree import DecisionTreeRegressor\n",
    "from sklearn.ensemble import RandomForestRegressor\n",
    "from sklearn.pipeline import make_pipeline\n",
    "from sklearn.preprocessing import StandardScaler\n",
    "import numpy as np\n",
    "from sklearn.svm import SVR"
   ]
  },
  {
   "cell_type": "code",
   "execution_count": 31,
   "id": "7c11e9d8",
   "metadata": {
    "execution": {
     "iopub.execute_input": "2023-02-21T12:05:09.693654Z",
     "iopub.status.busy": "2023-02-21T12:05:09.693220Z",
     "iopub.status.idle": "2023-02-21T12:05:09.698833Z",
     "shell.execute_reply": "2023-02-21T12:05:09.697441Z"
    },
    "papermill": {
     "duration": 0.077641,
     "end_time": "2023-02-21T12:05:09.701406",
     "exception": false,
     "start_time": "2023-02-21T12:05:09.623765",
     "status": "completed"
    },
    "tags": []
   },
   "outputs": [],
   "source": [
    "# Linear Regression\n",
    "#LR = LinearRegression()\n",
    "#LR.fit(x_train, y_train)"
   ]
  },
  {
   "cell_type": "code",
   "execution_count": 32,
   "id": "ee0f00f2",
   "metadata": {
    "execution": {
     "iopub.execute_input": "2023-02-21T12:05:09.833894Z",
     "iopub.status.busy": "2023-02-21T12:05:09.833430Z",
     "iopub.status.idle": "2023-02-21T12:05:09.876547Z",
     "shell.execute_reply": "2023-02-21T12:05:09.874879Z"
    },
    "papermill": {
     "duration": 0.113653,
     "end_time": "2023-02-21T12:05:09.880929",
     "exception": false,
     "start_time": "2023-02-21T12:05:09.767276",
     "status": "completed"
    },
    "tags": []
   },
   "outputs": [],
   "source": [
    "# Linear Regression\n",
    "\n",
    "LR = LinearRegression()\n",
    "LR.fit(x_train, y_train)\n",
    "LR.score(x_train, y_train)\n",
    "y_pred =LR.predict(x_test)"
   ]
  },
  {
   "cell_type": "code",
   "execution_count": 33,
   "id": "eb6a80ed",
   "metadata": {
    "execution": {
     "iopub.execute_input": "2023-02-21T12:05:10.134754Z",
     "iopub.status.busy": "2023-02-21T12:05:10.134349Z",
     "iopub.status.idle": "2023-02-21T12:05:10.141923Z",
     "shell.execute_reply": "2023-02-21T12:05:10.141015Z"
    },
    "papermill": {
     "duration": 0.079145,
     "end_time": "2023-02-21T12:05:10.144385",
     "exception": false,
     "start_time": "2023-02-21T12:05:10.065240",
     "status": "completed"
    },
    "tags": []
   },
   "outputs": [
    {
     "data": {
      "text/plain": [
       "0.7753107229320534"
      ]
     },
     "execution_count": 33,
     "metadata": {},
     "output_type": "execute_result"
    }
   ],
   "source": [
    "r2 = r2_score(y_test, y_pred)\n",
    "r2 \n"
   ]
  },
  {
   "cell_type": "code",
   "execution_count": 34,
   "id": "205f559b",
   "metadata": {
    "execution": {
     "iopub.execute_input": "2023-02-21T12:05:10.284423Z",
     "iopub.status.busy": "2023-02-21T12:05:10.283723Z",
     "iopub.status.idle": "2023-02-21T12:05:10.289890Z",
     "shell.execute_reply": "2023-02-21T12:05:10.288355Z"
    },
    "papermill": {
     "duration": 0.079748,
     "end_time": "2023-02-21T12:05:10.292679",
     "exception": false,
     "start_time": "2023-02-21T12:05:10.212931",
     "status": "completed"
    },
    "tags": []
   },
   "outputs": [],
   "source": [
    "# calculate the MAE of the model\n",
    "mae = mean_absolute_error(y_test, y_pred)"
   ]
  },
  {
   "cell_type": "code",
   "execution_count": 35,
   "id": "f90975ec",
   "metadata": {
    "execution": {
     "iopub.execute_input": "2023-02-21T12:05:10.431769Z",
     "iopub.status.busy": "2023-02-21T12:05:10.430850Z",
     "iopub.status.idle": "2023-02-21T12:05:10.437717Z",
     "shell.execute_reply": "2023-02-21T12:05:10.436478Z"
    },
    "papermill": {
     "duration": 0.079225,
     "end_time": "2023-02-21T12:05:10.440540",
     "exception": false,
     "start_time": "2023-02-21T12:05:10.361315",
     "status": "completed"
    },
    "tags": []
   },
   "outputs": [
    {
     "data": {
      "text/plain": [
       "1.519038644423741"
      ]
     },
     "execution_count": 35,
     "metadata": {},
     "output_type": "execute_result"
    }
   ],
   "source": [
    "mae"
   ]
  },
  {
   "cell_type": "code",
   "execution_count": 36,
   "id": "aa8f9fe2",
   "metadata": {
    "execution": {
     "iopub.execute_input": "2023-02-21T12:05:10.576649Z",
     "iopub.status.busy": "2023-02-21T12:05:10.576188Z",
     "iopub.status.idle": "2023-02-21T12:05:10.584686Z",
     "shell.execute_reply": "2023-02-21T12:05:10.583389Z"
    },
    "papermill": {
     "duration": 0.078333,
     "end_time": "2023-02-21T12:05:10.587377",
     "exception": false,
     "start_time": "2023-02-21T12:05:10.509044",
     "status": "completed"
    },
    "tags": []
   },
   "outputs": [
    {
     "data": {
      "text/plain": [
       "8.394303923962779"
      ]
     },
     "execution_count": 36,
     "metadata": {},
     "output_type": "execute_result"
    }
   ],
   "source": [
    "# calculate the MSE of the model\n",
    "mse = mean_squared_error(y_test, y_pred)\n",
    "mse"
   ]
  },
  {
   "cell_type": "code",
   "execution_count": 37,
   "id": "ba883927",
   "metadata": {
    "execution": {
     "iopub.execute_input": "2023-02-21T12:05:10.720954Z",
     "iopub.status.busy": "2023-02-21T12:05:10.720560Z",
     "iopub.status.idle": "2023-02-21T12:05:10.728002Z",
     "shell.execute_reply": "2023-02-21T12:05:10.726380Z"
    },
    "papermill": {
     "duration": 0.077718,
     "end_time": "2023-02-21T12:05:10.730744",
     "exception": false,
     "start_time": "2023-02-21T12:05:10.653026",
     "status": "completed"
    },
    "tags": []
   },
   "outputs": [
    {
     "data": {
      "text/plain": [
       "2.8972925161196237"
      ]
     },
     "execution_count": 37,
     "metadata": {},
     "output_type": "execute_result"
    }
   ],
   "source": [
    "# calculate the RMSE of the model\n",
    "rmse = np.sqrt(mse)\n",
    "rmse"
   ]
  },
  {
   "cell_type": "code",
   "execution_count": 38,
   "id": "16f6fc85",
   "metadata": {
    "execution": {
     "iopub.execute_input": "2023-02-21T12:05:10.864498Z",
     "iopub.status.busy": "2023-02-21T12:05:10.864085Z",
     "iopub.status.idle": "2023-02-21T12:05:10.991159Z",
     "shell.execute_reply": "2023-02-21T12:05:10.989040Z"
    },
    "papermill": {
     "duration": 0.199131,
     "end_time": "2023-02-21T12:05:10.995993",
     "exception": false,
     "start_time": "2023-02-21T12:05:10.796862",
     "status": "completed"
    },
    "tags": []
   },
   "outputs": [],
   "source": [
    "# LASSO\n",
    "L1 = linear_model.Lasso()\n",
    "L1.fit(x_train,y_train)\n",
    "y_pred1 = L1.predict(x_test)"
   ]
  },
  {
   "cell_type": "code",
   "execution_count": 39,
   "id": "c1cc780d",
   "metadata": {
    "execution": {
     "iopub.execute_input": "2023-02-21T12:05:11.199809Z",
     "iopub.status.busy": "2023-02-21T12:05:11.199400Z",
     "iopub.status.idle": "2023-02-21T12:05:11.207337Z",
     "shell.execute_reply": "2023-02-21T12:05:11.206563Z"
    },
    "papermill": {
     "duration": 0.07671,
     "end_time": "2023-02-21T12:05:11.209462",
     "exception": false,
     "start_time": "2023-02-21T12:05:11.132752",
     "status": "completed"
    },
    "tags": []
   },
   "outputs": [
    {
     "data": {
      "text/plain": [
       "0.7507020198871027"
      ]
     },
     "execution_count": 39,
     "metadata": {},
     "output_type": "execute_result"
    }
   ],
   "source": [
    "r2 = r2_score(y_test, y_pred1)\n",
    "r2 \n"
   ]
  },
  {
   "cell_type": "code",
   "execution_count": 40,
   "id": "c885f938",
   "metadata": {
    "execution": {
     "iopub.execute_input": "2023-02-21T12:05:11.349082Z",
     "iopub.status.busy": "2023-02-21T12:05:11.348380Z",
     "iopub.status.idle": "2023-02-21T12:05:11.355246Z",
     "shell.execute_reply": "2023-02-21T12:05:11.354389Z"
    },
    "papermill": {
     "duration": 0.081096,
     "end_time": "2023-02-21T12:05:11.357572",
     "exception": false,
     "start_time": "2023-02-21T12:05:11.276476",
     "status": "completed"
    },
    "tags": []
   },
   "outputs": [
    {
     "data": {
      "text/plain": [
       "1.5980824331021113"
      ]
     },
     "execution_count": 40,
     "metadata": {},
     "output_type": "execute_result"
    }
   ],
   "source": [
    "# calculate the MAE of the model\n",
    "mae = mean_absolute_error(y_test, y_pred1)\n",
    "mae"
   ]
  },
  {
   "cell_type": "code",
   "execution_count": 41,
   "id": "9e550269",
   "metadata": {
    "execution": {
     "iopub.execute_input": "2023-02-21T12:05:11.492048Z",
     "iopub.status.busy": "2023-02-21T12:05:11.491348Z",
     "iopub.status.idle": "2023-02-21T12:05:11.498701Z",
     "shell.execute_reply": "2023-02-21T12:05:11.497832Z"
    },
    "papermill": {
     "duration": 0.077448,
     "end_time": "2023-02-21T12:05:11.501181",
     "exception": false,
     "start_time": "2023-02-21T12:05:11.423733",
     "status": "completed"
    },
    "tags": []
   },
   "outputs": [
    {
     "data": {
      "text/plain": [
       "9.313675490018403"
      ]
     },
     "execution_count": 41,
     "metadata": {},
     "output_type": "execute_result"
    }
   ],
   "source": [
    "# calculate the MSE of the model\n",
    "mse = mean_squared_error(y_test, y_pred1)\n",
    "mse"
   ]
  },
  {
   "cell_type": "code",
   "execution_count": 42,
   "id": "f428a38f",
   "metadata": {
    "execution": {
     "iopub.execute_input": "2023-02-21T12:05:11.640465Z",
     "iopub.status.busy": "2023-02-21T12:05:11.639779Z",
     "iopub.status.idle": "2023-02-21T12:05:11.646252Z",
     "shell.execute_reply": "2023-02-21T12:05:11.645403Z"
    },
    "papermill": {
     "duration": 0.076579,
     "end_time": "2023-02-21T12:05:11.648591",
     "exception": false,
     "start_time": "2023-02-21T12:05:11.572012",
     "status": "completed"
    },
    "tags": []
   },
   "outputs": [
    {
     "data": {
      "text/plain": [
       "3.0518314976450456"
      ]
     },
     "execution_count": 42,
     "metadata": {},
     "output_type": "execute_result"
    }
   ],
   "source": [
    "# calculate the RMSE of the model\n",
    "rmse = np.sqrt(mse)\n",
    "rmse"
   ]
  },
  {
   "cell_type": "code",
   "execution_count": 43,
   "id": "ca30a19e",
   "metadata": {
    "execution": {
     "iopub.execute_input": "2023-02-21T12:05:11.783156Z",
     "iopub.status.busy": "2023-02-21T12:05:11.782502Z",
     "iopub.status.idle": "2023-02-21T12:05:11.803372Z",
     "shell.execute_reply": "2023-02-21T12:05:11.801929Z"
    },
    "papermill": {
     "duration": 0.092814,
     "end_time": "2023-02-21T12:05:11.808188",
     "exception": false,
     "start_time": "2023-02-21T12:05:11.715374",
     "status": "completed"
    },
    "tags": []
   },
   "outputs": [],
   "source": [
    "# Ridge\n",
    "L2 = Ridge(alpha=1.0)\n",
    "L2.fit(x_train, y_train) \n",
    "y_pred3 = L2.predict(x_test)"
   ]
  },
  {
   "cell_type": "code",
   "execution_count": 44,
   "id": "27257f14",
   "metadata": {
    "execution": {
     "iopub.execute_input": "2023-02-21T12:05:12.015565Z",
     "iopub.status.busy": "2023-02-21T12:05:12.015115Z",
     "iopub.status.idle": "2023-02-21T12:05:12.023263Z",
     "shell.execute_reply": "2023-02-21T12:05:12.022392Z"
    },
    "papermill": {
     "duration": 0.078816,
     "end_time": "2023-02-21T12:05:12.025698",
     "exception": false,
     "start_time": "2023-02-21T12:05:11.946882",
     "status": "completed"
    },
    "tags": []
   },
   "outputs": [
    {
     "data": {
      "text/plain": [
       "0.7753072003472253"
      ]
     },
     "execution_count": 44,
     "metadata": {},
     "output_type": "execute_result"
    }
   ],
   "source": [
    "r2 = r2_score(y_test, y_pred3)\n",
    "r2 "
   ]
  },
  {
   "cell_type": "code",
   "execution_count": 45,
   "id": "8e17c5d1",
   "metadata": {
    "execution": {
     "iopub.execute_input": "2023-02-21T12:05:12.159974Z",
     "iopub.status.busy": "2023-02-21T12:05:12.159563Z",
     "iopub.status.idle": "2023-02-21T12:05:12.169090Z",
     "shell.execute_reply": "2023-02-21T12:05:12.167954Z"
    },
    "papermill": {
     "duration": 0.080574,
     "end_time": "2023-02-21T12:05:12.171448",
     "exception": false,
     "start_time": "2023-02-21T12:05:12.090874",
     "status": "completed"
    },
    "tags": []
   },
   "outputs": [
    {
     "data": {
      "text/plain": [
       "1.5188909684172016"
      ]
     },
     "execution_count": 45,
     "metadata": {},
     "output_type": "execute_result"
    }
   ],
   "source": [
    "# calculate the MAE of the model\n",
    "mae = mean_absolute_error(y_test, y_pred3)\n",
    "mae"
   ]
  },
  {
   "cell_type": "code",
   "execution_count": 46,
   "id": "bd93e052",
   "metadata": {
    "execution": {
     "iopub.execute_input": "2023-02-21T12:05:12.319661Z",
     "iopub.status.busy": "2023-02-21T12:05:12.318576Z",
     "iopub.status.idle": "2023-02-21T12:05:12.328599Z",
     "shell.execute_reply": "2023-02-21T12:05:12.327184Z"
    },
    "papermill": {
     "duration": 0.094481,
     "end_time": "2023-02-21T12:05:12.331976",
     "exception": false,
     "start_time": "2023-02-21T12:05:12.237495",
     "status": "completed"
    },
    "tags": []
   },
   "outputs": [
    {
     "data": {
      "text/plain": [
       "8.394435526360677"
      ]
     },
     "execution_count": 46,
     "metadata": {},
     "output_type": "execute_result"
    }
   ],
   "source": [
    "# calculate the MSE of the model\n",
    "mse = mean_squared_error(y_test, y_pred3)\n",
    "mse"
   ]
  },
  {
   "cell_type": "code",
   "execution_count": 47,
   "id": "e44a7e8d",
   "metadata": {
    "execution": {
     "iopub.execute_input": "2023-02-21T12:05:12.476879Z",
     "iopub.status.busy": "2023-02-21T12:05:12.476255Z",
     "iopub.status.idle": "2023-02-21T12:05:12.482056Z",
     "shell.execute_reply": "2023-02-21T12:05:12.481230Z"
    },
    "papermill": {
     "duration": 0.075371,
     "end_time": "2023-02-21T12:05:12.484335",
     "exception": false,
     "start_time": "2023-02-21T12:05:12.408964",
     "status": "completed"
    },
    "tags": []
   },
   "outputs": [
    {
     "data": {
      "text/plain": [
       "2.8973152273028004"
      ]
     },
     "execution_count": 47,
     "metadata": {},
     "output_type": "execute_result"
    }
   ],
   "source": [
    "# calculate the RMSE of the model\n",
    "rmse = np.sqrt(mse)\n",
    "rmse"
   ]
  },
  {
   "cell_type": "markdown",
   "id": "9719b0e0",
   "metadata": {
    "papermill": {
     "duration": 0.06719,
     "end_time": "2023-02-21T12:05:12.619854",
     "exception": false,
     "start_time": "2023-02-21T12:05:12.552664",
     "status": "completed"
    },
    "tags": []
   },
   "source": [
    "Client 7 : The Burdett Care Center"
   ]
  },
  {
   "cell_type": "code",
   "execution_count": 48,
   "id": "fb2c4e0b",
   "metadata": {
    "execution": {
     "iopub.execute_input": "2023-02-21T12:05:12.754518Z",
     "iopub.status.busy": "2023-02-21T12:05:12.753839Z",
     "iopub.status.idle": "2023-02-21T12:05:12.907383Z",
     "shell.execute_reply": "2023-02-21T12:05:12.906218Z"
    },
    "papermill": {
     "duration": 0.223728,
     "end_time": "2023-02-21T12:05:12.909998",
     "exception": false,
     "start_time": "2023-02-21T12:05:12.686270",
     "status": "completed"
    },
    "tags": []
   },
   "outputs": [],
   "source": [
    "Burdett_df=df[df[\"Facility Name\"]== 'The Burdett Care Center']"
   ]
  },
  {
   "cell_type": "code",
   "execution_count": 49,
   "id": "df76ac20",
   "metadata": {
    "execution": {
     "iopub.execute_input": "2023-02-21T12:05:13.046182Z",
     "iopub.status.busy": "2023-02-21T12:05:13.045491Z",
     "iopub.status.idle": "2023-02-21T12:05:13.064836Z",
     "shell.execute_reply": "2023-02-21T12:05:13.063580Z"
    },
    "papermill": {
     "duration": 0.092069,
     "end_time": "2023-02-21T12:05:13.067509",
     "exception": false,
     "start_time": "2023-02-21T12:05:12.975440",
     "status": "completed"
    },
    "tags": []
   },
   "outputs": [
    {
     "name": "stdout",
     "output_type": "stream",
     "text": [
      "<class 'pandas.core.frame.DataFrame'>\n",
      "Int64Index: 2007 entries, 664931 to 666956\n",
      "Data columns (total 28 columns):\n",
      " #   Column                            Non-Null Count  Dtype   \n",
      "---  ------                            --------------  -----   \n",
      " 0   Hospital County                   2007 non-null   category\n",
      " 1   Operating Certificate Number      2007 non-null   float64 \n",
      " 2   Facility Id                       2007 non-null   float64 \n",
      " 3   Facility Name                     2007 non-null   object  \n",
      " 4   Age Group                         2007 non-null   category\n",
      " 5   Zip Code - 3 digits               1990 non-null   category\n",
      " 6   Gender                            2007 non-null   category\n",
      " 7   Race                              2007 non-null   category\n",
      " 8   Ethnicity                         2007 non-null   category\n",
      " 9   Length of Stay                    2007 non-null   category\n",
      " 10  Type of Admission                 2007 non-null   category\n",
      " 11  Patient Disposition               2007 non-null   category\n",
      " 12  Discharge Year                    2007 non-null   int64   \n",
      " 13  CCS Diagnosis Code                2007 non-null   int64   \n",
      " 14  CCS Procedure Code                2007 non-null   int64   \n",
      " 15  APR DRG Code                      2007 non-null   int64   \n",
      " 16  APR MDC Code                      2007 non-null   int64   \n",
      " 17  APR Severity of Illness Code      2007 non-null   int64   \n",
      " 18  APR Risk of Mortality             2007 non-null   category\n",
      " 19  APR Medical Surgical Description  2007 non-null   category\n",
      " 20  Payment Typology 1                2007 non-null   category\n",
      " 21  Payment Typology 2                2007 non-null   category\n",
      " 22  Payment Typology 3                2007 non-null   category\n",
      " 23  Birth Weight                      2007 non-null   int64   \n",
      " 24  Abortion Edit Indicator           2007 non-null   category\n",
      " 25  Emergency Department Indicator    2007 non-null   category\n",
      " 26  Total Charges                     2007 non-null   float64 \n",
      " 27  Total Costs                       2007 non-null   float64 \n",
      "dtypes: category(16), float64(4), int64(7), object(1)\n",
      "memory usage: 255.3+ KB\n"
     ]
    }
   ],
   "source": [
    "Burdett_df.info()"
   ]
  },
  {
   "cell_type": "code",
   "execution_count": 50,
   "id": "092fb4d2",
   "metadata": {
    "execution": {
     "iopub.execute_input": "2023-02-21T12:05:13.201174Z",
     "iopub.status.busy": "2023-02-21T12:05:13.200740Z",
     "iopub.status.idle": "2023-02-21T12:05:13.251541Z",
     "shell.execute_reply": "2023-02-21T12:05:13.247046Z"
    },
    "papermill": {
     "duration": 0.120867,
     "end_time": "2023-02-21T12:05:13.254283",
     "exception": false,
     "start_time": "2023-02-21T12:05:13.133416",
     "status": "completed"
    },
    "tags": []
   },
   "outputs": [
    {
     "name": "stdout",
     "output_type": "stream",
     "text": [
      "Hospital County : 1\n",
      "Rensselaer    2007\n",
      "Albany           0\n",
      "Niagara          0\n",
      "Onondaga         0\n",
      "Ontario          0\n",
      "Name: Hospital County, dtype: int64\n",
      "\n",
      "********************\n",
      "\n",
      "Operating Certificate Number : 1\n",
      "4102004.0    2007\n",
      "Name: Operating Certificate Number, dtype: int64\n",
      "\n",
      "********************\n",
      "\n",
      "Facility Id : 1\n",
      "9250.0    2007\n",
      "Name: Facility Id, dtype: int64\n",
      "\n",
      "********************\n",
      "\n",
      "Facility Name : 1\n",
      "The Burdett Care Center    2007\n",
      "Name: Facility Name, dtype: int64\n",
      "\n",
      "********************\n",
      "\n",
      "Age Group : 3\n",
      "0 to 17        997\n",
      "18 to 29       623\n",
      "30 to 49       387\n",
      "50 to 69         0\n",
      "70 or Older      0\n",
      "Name: Age Group, dtype: int64\n",
      "\n",
      "********************\n",
      "\n",
      "Zip Code - 3 digits : 7\n",
      "121    1309\n",
      "120     466\n",
      "122     110\n",
      "123      50\n",
      "128      45\n",
      "Name: Zip Code - 3 digits, dtype: int64\n",
      "\n",
      "********************\n",
      "\n",
      "Gender : 2\n",
      "F    1498\n",
      "M     509\n",
      "U       0\n",
      "Name: Gender, dtype: int64\n",
      "\n",
      "********************\n",
      "\n",
      "Race : 3\n",
      "White                     1376\n",
      "Other Race                 396\n",
      "Black/African American     235\n",
      "Multi-racial                 0\n",
      "Name: Race, dtype: int64\n",
      "\n",
      "********************\n",
      "\n",
      "Ethnicity : 2\n",
      "Not Span/Hispanic    1922\n",
      "Spanish/Hispanic       85\n",
      "Multi-ethnic            0\n",
      "Unknown                 0\n",
      "Name: Ethnicity, dtype: int64\n",
      "\n",
      "********************\n",
      "\n",
      "Length of Stay : 7\n",
      "2    994\n",
      "3    456\n",
      "1    386\n",
      "4    119\n",
      "5     38\n",
      "Name: Length of Stay, dtype: int64\n",
      "\n",
      "********************\n",
      "\n",
      "Type of Admission : 4\n",
      "Newborn          985\n",
      "Elective         710\n",
      "Urgent           286\n",
      "Emergency         26\n",
      "Not Available      0\n",
      "Name: Type of Admission, dtype: int64\n",
      "\n",
      "********************\n",
      "\n",
      "Patient Disposition : 4\n",
      "Home or Self Care              1963\n",
      "Short-term Hospital              42\n",
      "Expired                           1\n",
      "Left Against Medical Advice       1\n",
      "Another Type Not Listed           0\n",
      "Name: Patient Disposition, dtype: int64\n",
      "\n",
      "********************\n",
      "\n",
      "Discharge Year : 1\n",
      "2015    2007\n",
      "Name: Discharge Year, dtype: int64\n",
      "\n",
      "********************\n",
      "\n",
      "CCS Diagnosis Code : 18\n",
      "218    985\n",
      "195    184\n",
      "191    111\n",
      "185    108\n",
      "192    104\n",
      "Name: CCS Diagnosis Code, dtype: int64\n",
      "\n",
      "********************\n",
      "\n",
      "CCS Procedure Code : 29\n",
      "228    455\n",
      "115    365\n",
      "134    243\n",
      "231    198\n",
      "0      191\n",
      "Name: CCS Procedure Code, dtype: int64\n",
      "\n",
      "********************\n",
      "\n",
      "APR DRG Code : 19\n",
      "640    892\n",
      "560    723\n",
      "540    244\n",
      "581     36\n",
      "626     22\n",
      "Name: APR DRG Code, dtype: int64\n",
      "\n",
      "********************\n",
      "\n",
      "APR MDC Code : 2\n",
      "14    1019\n",
      "15     988\n",
      "Name: APR MDC Code, dtype: int64\n",
      "\n",
      "********************\n",
      "\n",
      "APR Severity of Illness Code : 4\n",
      "1    1372\n",
      "2     559\n",
      "3      74\n",
      "4       2\n",
      "Name: APR Severity of Illness Code, dtype: int64\n",
      "\n",
      "********************\n",
      "\n",
      "APR Risk of Mortality : 4\n",
      "Minor       1995\n",
      "Moderate      10\n",
      "Extreme        1\n",
      "Major          1\n",
      "Name: APR Risk of Mortality, dtype: int64\n",
      "\n",
      "********************\n",
      "\n",
      "APR Medical Surgical Description : 2\n",
      "Medical           1737\n",
      "Surgical           270\n",
      "Not Applicable       0\n",
      "Name: APR Medical Surgical Description, dtype: int64\n",
      "\n",
      "********************\n",
      "\n",
      "Payment Typology 1 : 6\n",
      "Medicaid                    1059\n",
      "Private Health Insurance     549\n",
      "Blue Cross/Blue Shield       289\n",
      "Self-Pay                      52\n",
      "Federal/State/Local/VA        46\n",
      "Name: Payment Typology 1, dtype: int64\n",
      "\n",
      "********************\n",
      "\n",
      "Payment Typology 2 : 6\n",
      "Self-Pay                    1932\n",
      "Medicaid                      61\n",
      "Private Health Insurance       9\n",
      "Blue Cross/Blue Shield         3\n",
      "Medicare                       1\n",
      "Name: Payment Typology 2, dtype: int64\n",
      "\n",
      "********************\n",
      "\n",
      "Payment Typology 3 : 2\n",
      "Self-Pay                     2006\n",
      "Medicaid                        1\n",
      "Blue Cross/Blue Shield          0\n",
      "Department of Corrections       0\n",
      "Federal/State/Local/VA          0\n",
      "Name: Payment Typology 3, dtype: int64\n",
      "\n",
      "********************\n",
      "\n",
      "Birth Weight : 41\n",
      "0       1019\n",
      "3100      85\n",
      "3200      78\n",
      "3300      75\n",
      "3000      74\n",
      "Name: Birth Weight, dtype: int64\n",
      "\n",
      "********************\n",
      "\n",
      "Abortion Edit Indicator : 1\n",
      "N    2007\n",
      "Y       0\n",
      "Name: Abortion Edit Indicator, dtype: int64\n",
      "\n",
      "********************\n",
      "\n",
      "Emergency Department Indicator : 1\n",
      "N    2007\n",
      "Y       0\n",
      "Name: Emergency Department Indicator, dtype: int64\n",
      "\n",
      "********************\n",
      "\n",
      "Total Charges : 1619\n",
      "3356.7    25\n",
      "3035.7    24\n",
      "1757.7    23\n",
      "3060.7    22\n",
      "3185.7    21\n",
      "Name: Total Charges, dtype: int64\n",
      "\n",
      "********************\n",
      "\n",
      "Total Costs : 1637\n",
      "1801.48    24\n",
      "1012.78    23\n",
      "1816.91    22\n",
      "1975.28    21\n",
      "1869.75    20\n",
      "Name: Total Costs, dtype: int64\n",
      "\n",
      "********************\n",
      "\n"
     ]
    }
   ],
   "source": [
    "for col in Burdett_df.columns:\n",
    "    print( col,':', Burdett_df[col].nunique() )#Num of unique values\n",
    "    print(Burdett_df[col].value_counts().nlargest(5)) #Most 5 frequent values\n",
    "    print('\\n' + '*' * 20 + '\\n')"
   ]
  },
  {
   "cell_type": "code",
   "execution_count": 51,
   "id": "29b3d732",
   "metadata": {
    "execution": {
     "iopub.execute_input": "2023-02-21T12:05:13.388798Z",
     "iopub.status.busy": "2023-02-21T12:05:13.388392Z",
     "iopub.status.idle": "2023-02-21T12:05:13.397728Z",
     "shell.execute_reply": "2023-02-21T12:05:13.396389Z"
    },
    "papermill": {
     "duration": 0.079479,
     "end_time": "2023-02-21T12:05:13.400330",
     "exception": false,
     "start_time": "2023-02-21T12:05:13.320851",
     "status": "completed"
    },
    "tags": []
   },
   "outputs": [
    {
     "name": "stderr",
     "output_type": "stream",
     "text": [
      "/opt/conda/lib/python3.7/site-packages/ipykernel_launcher.py:3: SettingWithCopyWarning: \n",
      "A value is trying to be set on a copy of a slice from a DataFrame.\n",
      "Try using .loc[row_indexer,col_indexer] = value instead\n",
      "\n",
      "See the caveats in the documentation: https://pandas.pydata.org/pandas-docs/stable/user_guide/indexing.html#returning-a-view-versus-a-copy\n",
      "  This is separate from the ipykernel package so we can avoid doing imports until\n",
      "/opt/conda/lib/python3.7/site-packages/ipykernel_launcher.py:5: SettingWithCopyWarning: \n",
      "A value is trying to be set on a copy of a slice from a DataFrame.\n",
      "Try using .loc[row_indexer,col_indexer] = value instead\n",
      "\n",
      "See the caveats in the documentation: https://pandas.pydata.org/pandas-docs/stable/user_guide/indexing.html#returning-a-view-versus-a-copy\n",
      "  \"\"\"\n"
     ]
    }
   ],
   "source": [
    " #   simple mapping on binary features.\n",
    "Burdett_df['Abortion Edit Indicator'] = Burdett_df['Abortion Edit Indicator'].apply(\n",
    "     lambda x: 1 if x == 'Y' else (0 if x == 'N' else None))\n",
    "Burdett_df['Emergency Department Indicator'] = Burdett_df['Emergency Department Indicator'].apply(\n",
    "    lambda x: 1 if x == 'Y' else (0 if x == 'N' else None))"
   ]
  },
  {
   "cell_type": "code",
   "execution_count": 52,
   "id": "1b218310",
   "metadata": {
    "execution": {
     "iopub.execute_input": "2023-02-21T12:05:13.534006Z",
     "iopub.status.busy": "2023-02-21T12:05:13.533542Z",
     "iopub.status.idle": "2023-02-21T12:05:13.564945Z",
     "shell.execute_reply": "2023-02-21T12:05:13.563352Z"
    },
    "papermill": {
     "duration": 0.101092,
     "end_time": "2023-02-21T12:05:13.567478",
     "exception": false,
     "start_time": "2023-02-21T12:05:13.466386",
     "status": "completed"
    },
    "tags": []
   },
   "outputs": [
    {
     "data": {
      "text/html": [
       "<div>\n",
       "<style scoped>\n",
       "    .dataframe tbody tr th:only-of-type {\n",
       "        vertical-align: middle;\n",
       "    }\n",
       "\n",
       "    .dataframe tbody tr th {\n",
       "        vertical-align: top;\n",
       "    }\n",
       "\n",
       "    .dataframe thead th {\n",
       "        text-align: right;\n",
       "    }\n",
       "</style>\n",
       "<table border=\"1\" class=\"dataframe\">\n",
       "  <thead>\n",
       "    <tr style=\"text-align: right;\">\n",
       "      <th></th>\n",
       "      <th>Hospital County</th>\n",
       "      <th>Operating Certificate Number</th>\n",
       "      <th>Facility Id</th>\n",
       "      <th>Facility Name</th>\n",
       "      <th>Age Group</th>\n",
       "      <th>Zip Code - 3 digits</th>\n",
       "      <th>Gender</th>\n",
       "      <th>Race</th>\n",
       "      <th>Ethnicity</th>\n",
       "      <th>Length of Stay</th>\n",
       "      <th>...</th>\n",
       "      <th>APR Risk of Mortality</th>\n",
       "      <th>APR Medical Surgical Description</th>\n",
       "      <th>Payment Typology 1</th>\n",
       "      <th>Payment Typology 2</th>\n",
       "      <th>Payment Typology 3</th>\n",
       "      <th>Birth Weight</th>\n",
       "      <th>Abortion Edit Indicator</th>\n",
       "      <th>Emergency Department Indicator</th>\n",
       "      <th>Total Charges</th>\n",
       "      <th>Total Costs</th>\n",
       "    </tr>\n",
       "  </thead>\n",
       "  <tbody>\n",
       "    <tr>\n",
       "      <th>664931</th>\n",
       "      <td>Rensselaer</td>\n",
       "      <td>4102004.0</td>\n",
       "      <td>9250.0</td>\n",
       "      <td>The Burdett Care Center</td>\n",
       "      <td>30 to 49</td>\n",
       "      <td>121</td>\n",
       "      <td>F</td>\n",
       "      <td>White</td>\n",
       "      <td>Not Span/Hispanic</td>\n",
       "      <td>3</td>\n",
       "      <td>...</td>\n",
       "      <td>Minor</td>\n",
       "      <td>Surgical</td>\n",
       "      <td>Private Health Insurance</td>\n",
       "      <td>Self-Pay</td>\n",
       "      <td>Self-Pay</td>\n",
       "      <td>0</td>\n",
       "      <td>0</td>\n",
       "      <td>0</td>\n",
       "      <td>12560.54</td>\n",
       "      <td>7260.24</td>\n",
       "    </tr>\n",
       "    <tr>\n",
       "      <th>664932</th>\n",
       "      <td>Rensselaer</td>\n",
       "      <td>4102004.0</td>\n",
       "      <td>9250.0</td>\n",
       "      <td>The Burdett Care Center</td>\n",
       "      <td>18 to 29</td>\n",
       "      <td>120</td>\n",
       "      <td>F</td>\n",
       "      <td>White</td>\n",
       "      <td>Not Span/Hispanic</td>\n",
       "      <td>2</td>\n",
       "      <td>...</td>\n",
       "      <td>Minor</td>\n",
       "      <td>Medical</td>\n",
       "      <td>Medicaid</td>\n",
       "      <td>Self-Pay</td>\n",
       "      <td>Self-Pay</td>\n",
       "      <td>0</td>\n",
       "      <td>0</td>\n",
       "      <td>0</td>\n",
       "      <td>6672.11</td>\n",
       "      <td>3832.18</td>\n",
       "    </tr>\n",
       "    <tr>\n",
       "      <th>664933</th>\n",
       "      <td>Rensselaer</td>\n",
       "      <td>4102004.0</td>\n",
       "      <td>9250.0</td>\n",
       "      <td>The Burdett Care Center</td>\n",
       "      <td>18 to 29</td>\n",
       "      <td>120</td>\n",
       "      <td>F</td>\n",
       "      <td>White</td>\n",
       "      <td>Not Span/Hispanic</td>\n",
       "      <td>2</td>\n",
       "      <td>...</td>\n",
       "      <td>Minor</td>\n",
       "      <td>Surgical</td>\n",
       "      <td>Medicaid</td>\n",
       "      <td>Self-Pay</td>\n",
       "      <td>Self-Pay</td>\n",
       "      <td>0</td>\n",
       "      <td>0</td>\n",
       "      <td>0</td>\n",
       "      <td>10598.85</td>\n",
       "      <td>5926.81</td>\n",
       "    </tr>\n",
       "    <tr>\n",
       "      <th>664934</th>\n",
       "      <td>Rensselaer</td>\n",
       "      <td>4102004.0</td>\n",
       "      <td>9250.0</td>\n",
       "      <td>The Burdett Care Center</td>\n",
       "      <td>18 to 29</td>\n",
       "      <td>121</td>\n",
       "      <td>F</td>\n",
       "      <td>Black/African American</td>\n",
       "      <td>Not Span/Hispanic</td>\n",
       "      <td>3</td>\n",
       "      <td>...</td>\n",
       "      <td>Minor</td>\n",
       "      <td>Surgical</td>\n",
       "      <td>Blue Cross/Blue Shield</td>\n",
       "      <td>Self-Pay</td>\n",
       "      <td>Self-Pay</td>\n",
       "      <td>0</td>\n",
       "      <td>0</td>\n",
       "      <td>0</td>\n",
       "      <td>17085.67</td>\n",
       "      <td>8402.28</td>\n",
       "    </tr>\n",
       "    <tr>\n",
       "      <th>664935</th>\n",
       "      <td>Rensselaer</td>\n",
       "      <td>4102004.0</td>\n",
       "      <td>9250.0</td>\n",
       "      <td>The Burdett Care Center</td>\n",
       "      <td>18 to 29</td>\n",
       "      <td>120</td>\n",
       "      <td>F</td>\n",
       "      <td>White</td>\n",
       "      <td>Not Span/Hispanic</td>\n",
       "      <td>2</td>\n",
       "      <td>...</td>\n",
       "      <td>Minor</td>\n",
       "      <td>Surgical</td>\n",
       "      <td>Medicaid</td>\n",
       "      <td>Self-Pay</td>\n",
       "      <td>Self-Pay</td>\n",
       "      <td>0</td>\n",
       "      <td>0</td>\n",
       "      <td>0</td>\n",
       "      <td>9914.79</td>\n",
       "      <td>5671.25</td>\n",
       "    </tr>\n",
       "  </tbody>\n",
       "</table>\n",
       "<p>5 rows × 28 columns</p>\n",
       "</div>"
      ],
      "text/plain": [
       "       Hospital County  Operating Certificate Number  Facility Id  \\\n",
       "664931      Rensselaer                     4102004.0       9250.0   \n",
       "664932      Rensselaer                     4102004.0       9250.0   \n",
       "664933      Rensselaer                     4102004.0       9250.0   \n",
       "664934      Rensselaer                     4102004.0       9250.0   \n",
       "664935      Rensselaer                     4102004.0       9250.0   \n",
       "\n",
       "                  Facility Name Age Group Zip Code - 3 digits Gender  \\\n",
       "664931  The Burdett Care Center  30 to 49                 121      F   \n",
       "664932  The Burdett Care Center  18 to 29                 120      F   \n",
       "664933  The Burdett Care Center  18 to 29                 120      F   \n",
       "664934  The Burdett Care Center  18 to 29                 121      F   \n",
       "664935  The Burdett Care Center  18 to 29                 120      F   \n",
       "\n",
       "                          Race          Ethnicity Length of Stay  ...  \\\n",
       "664931                   White  Not Span/Hispanic              3  ...   \n",
       "664932                   White  Not Span/Hispanic              2  ...   \n",
       "664933                   White  Not Span/Hispanic              2  ...   \n",
       "664934  Black/African American  Not Span/Hispanic              3  ...   \n",
       "664935                   White  Not Span/Hispanic              2  ...   \n",
       "\n",
       "       APR Risk of Mortality APR Medical Surgical Description  \\\n",
       "664931                 Minor                         Surgical   \n",
       "664932                 Minor                          Medical   \n",
       "664933                 Minor                         Surgical   \n",
       "664934                 Minor                         Surgical   \n",
       "664935                 Minor                         Surgical   \n",
       "\n",
       "              Payment Typology 1  Payment Typology 2  Payment Typology 3  \\\n",
       "664931  Private Health Insurance            Self-Pay            Self-Pay   \n",
       "664932                  Medicaid            Self-Pay            Self-Pay   \n",
       "664933                  Medicaid            Self-Pay            Self-Pay   \n",
       "664934    Blue Cross/Blue Shield            Self-Pay            Self-Pay   \n",
       "664935                  Medicaid            Self-Pay            Self-Pay   \n",
       "\n",
       "        Birth Weight  Abortion Edit Indicator  Emergency Department Indicator  \\\n",
       "664931             0                        0                               0   \n",
       "664932             0                        0                               0   \n",
       "664933             0                        0                               0   \n",
       "664934             0                        0                               0   \n",
       "664935             0                        0                               0   \n",
       "\n",
       "       Total Charges Total Costs  \n",
       "664931      12560.54     7260.24  \n",
       "664932       6672.11     3832.18  \n",
       "664933      10598.85     5926.81  \n",
       "664934      17085.67     8402.28  \n",
       "664935       9914.79     5671.25  \n",
       "\n",
       "[5 rows x 28 columns]"
      ]
     },
     "execution_count": 52,
     "metadata": {},
     "output_type": "execute_result"
    }
   ],
   "source": [
    "Burdett_df.head()"
   ]
  },
  {
   "cell_type": "code",
   "execution_count": 53,
   "id": "3c465c2a",
   "metadata": {
    "execution": {
     "iopub.execute_input": "2023-02-21T12:05:13.708458Z",
     "iopub.status.busy": "2023-02-21T12:05:13.707625Z",
     "iopub.status.idle": "2023-02-21T12:05:13.716031Z",
     "shell.execute_reply": "2023-02-21T12:05:13.715044Z"
    },
    "papermill": {
     "duration": 0.08261,
     "end_time": "2023-02-21T12:05:13.719015",
     "exception": false,
     "start_time": "2023-02-21T12:05:13.636405",
     "status": "completed"
    },
    "tags": []
   },
   "outputs": [
    {
     "name": "stderr",
     "output_type": "stream",
     "text": [
      "/opt/conda/lib/python3.7/site-packages/ipykernel_launcher.py:1: SettingWithCopyWarning: \n",
      "A value is trying to be set on a copy of a slice from a DataFrame.\n",
      "Try using .loc[row_indexer,col_indexer] = value instead\n",
      "\n",
      "See the caveats in the documentation: https://pandas.pydata.org/pandas-docs/stable/user_guide/indexing.html#returning-a-view-versus-a-copy\n",
      "  \"\"\"Entry point for launching an IPython kernel.\n"
     ]
    }
   ],
   "source": [
    "Burdett_df[\"Length of Stay\"]=pd.to_numeric(Burdett_df[\"Length of Stay\"],errors='coerce')"
   ]
  },
  {
   "cell_type": "code",
   "execution_count": 54,
   "id": "8a34e67b",
   "metadata": {
    "execution": {
     "iopub.execute_input": "2023-02-21T12:05:13.855857Z",
     "iopub.status.busy": "2023-02-21T12:05:13.855228Z",
     "iopub.status.idle": "2023-02-21T12:05:13.873694Z",
     "shell.execute_reply": "2023-02-21T12:05:13.872792Z"
    },
    "papermill": {
     "duration": 0.089497,
     "end_time": "2023-02-21T12:05:13.876609",
     "exception": false,
     "start_time": "2023-02-21T12:05:13.787112",
     "status": "completed"
    },
    "tags": []
   },
   "outputs": [
    {
     "name": "stdout",
     "output_type": "stream",
     "text": [
      "<class 'pandas.core.frame.DataFrame'>\n",
      "Int64Index: 2007 entries, 664931 to 666956\n",
      "Data columns (total 28 columns):\n",
      " #   Column                            Non-Null Count  Dtype   \n",
      "---  ------                            --------------  -----   \n",
      " 0   Hospital County                   2007 non-null   category\n",
      " 1   Operating Certificate Number      2007 non-null   float64 \n",
      " 2   Facility Id                       2007 non-null   float64 \n",
      " 3   Facility Name                     2007 non-null   object  \n",
      " 4   Age Group                         2007 non-null   category\n",
      " 5   Zip Code - 3 digits               1990 non-null   category\n",
      " 6   Gender                            2007 non-null   category\n",
      " 7   Race                              2007 non-null   category\n",
      " 8   Ethnicity                         2007 non-null   category\n",
      " 9   Length of Stay                    2007 non-null   int64   \n",
      " 10  Type of Admission                 2007 non-null   category\n",
      " 11  Patient Disposition               2007 non-null   category\n",
      " 12  Discharge Year                    2007 non-null   int64   \n",
      " 13  CCS Diagnosis Code                2007 non-null   int64   \n",
      " 14  CCS Procedure Code                2007 non-null   int64   \n",
      " 15  APR DRG Code                      2007 non-null   int64   \n",
      " 16  APR MDC Code                      2007 non-null   int64   \n",
      " 17  APR Severity of Illness Code      2007 non-null   int64   \n",
      " 18  APR Risk of Mortality             2007 non-null   category\n",
      " 19  APR Medical Surgical Description  2007 non-null   category\n",
      " 20  Payment Typology 1                2007 non-null   category\n",
      " 21  Payment Typology 2                2007 non-null   category\n",
      " 22  Payment Typology 3                2007 non-null   category\n",
      " 23  Birth Weight                      2007 non-null   int64   \n",
      " 24  Abortion Edit Indicator           2007 non-null   category\n",
      " 25  Emergency Department Indicator    2007 non-null   category\n",
      " 26  Total Charges                     2007 non-null   float64 \n",
      " 27  Total Costs                       2007 non-null   float64 \n",
      "dtypes: category(15), float64(4), int64(8), object(1)\n",
      "memory usage: 257.2+ KB\n"
     ]
    }
   ],
   "source": [
    "Burdett_df.info()"
   ]
  },
  {
   "cell_type": "code",
   "execution_count": 55,
   "id": "86b64347",
   "metadata": {
    "execution": {
     "iopub.execute_input": "2023-02-21T12:05:14.015791Z",
     "iopub.status.busy": "2023-02-21T12:05:14.015059Z",
     "iopub.status.idle": "2023-02-21T12:05:14.038391Z",
     "shell.execute_reply": "2023-02-21T12:05:14.037471Z"
    },
    "papermill": {
     "duration": 0.095902,
     "end_time": "2023-02-21T12:05:14.041427",
     "exception": false,
     "start_time": "2023-02-21T12:05:13.945525",
     "status": "completed"
    },
    "tags": []
   },
   "outputs": [
    {
     "name": "stderr",
     "output_type": "stream",
     "text": [
      "/opt/conda/lib/python3.7/site-packages/ipykernel_launcher.py:29: SettingWithCopyWarning: \n",
      "A value is trying to be set on a copy of a slice from a DataFrame.\n",
      "Try using .loc[row_indexer,col_indexer] = value instead\n",
      "\n",
      "See the caveats in the documentation: https://pandas.pydata.org/pandas-docs/stable/user_guide/indexing.html#returning-a-view-versus-a-copy\n"
     ]
    }
   ],
   "source": [
    "list=  [ \"Hospital County\",\"Age Group\"\n",
    "    ,\"Gender\",   \n",
    " \"Race\" , \n",
    "\"Ethnicity\", \n",
    "\"Gender\" , \n",
    "\"Race\" ,    \n",
    " \"Ethnicity\" ,        \n",
    " \"Type of Admission\"  ,  \n",
    "  \"Patient Disposition\",      \n",
    " \"Type of Admission\" ,  \n",
    " \"Patient Disposition\"  ,\n",
    "  \"APR Risk of Mortality\" ,   \n",
    " \"APR Medical Surgical Description\" ,\n",
    " \"Payment Typology 1\"   ,   \n",
    " \"Abortion Edit Indicator\"     ,  \n",
    " \"Emergency Department Indicator\",\n",
    "       \"Zip Code - 3 digits\",\"Payment Typology 2\"        \n",
    "   ,\"Payment Typology 3\"]  \n",
    "\n",
    "# Import label encoder\n",
    "from sklearn import preprocessing\n",
    "  \n",
    "# label_encoder object knows how to understand word labels.        \n",
    "   \n",
    "label_encoder = preprocessing.LabelEncoder()\n",
    "  \n",
    "# Encode labels in column 'species'. \n",
    "for col in list :\n",
    "  Burdett_df[col]= label_encoder.fit_transform(Burdett_df[col])"
   ]
  },
  {
   "cell_type": "code",
   "execution_count": 56,
   "id": "3e0dc99c",
   "metadata": {
    "execution": {
     "iopub.execute_input": "2023-02-21T12:05:14.182850Z",
     "iopub.status.busy": "2023-02-21T12:05:14.181925Z",
     "iopub.status.idle": "2023-02-21T12:05:14.198451Z",
     "shell.execute_reply": "2023-02-21T12:05:14.196909Z"
    },
    "papermill": {
     "duration": 0.090744,
     "end_time": "2023-02-21T12:05:14.201041",
     "exception": false,
     "start_time": "2023-02-21T12:05:14.110297",
     "status": "completed"
    },
    "tags": []
   },
   "outputs": [
    {
     "name": "stdout",
     "output_type": "stream",
     "text": [
      "<class 'pandas.core.frame.DataFrame'>\n",
      "Int64Index: 2007 entries, 664931 to 666956\n",
      "Data columns (total 28 columns):\n",
      " #   Column                            Non-Null Count  Dtype  \n",
      "---  ------                            --------------  -----  \n",
      " 0   Hospital County                   2007 non-null   int64  \n",
      " 1   Operating Certificate Number      2007 non-null   float64\n",
      " 2   Facility Id                       2007 non-null   float64\n",
      " 3   Facility Name                     2007 non-null   object \n",
      " 4   Age Group                         2007 non-null   int64  \n",
      " 5   Zip Code - 3 digits               2007 non-null   int64  \n",
      " 6   Gender                            2007 non-null   int64  \n",
      " 7   Race                              2007 non-null   int64  \n",
      " 8   Ethnicity                         2007 non-null   int64  \n",
      " 9   Length of Stay                    2007 non-null   int64  \n",
      " 10  Type of Admission                 2007 non-null   int64  \n",
      " 11  Patient Disposition               2007 non-null   int64  \n",
      " 12  Discharge Year                    2007 non-null   int64  \n",
      " 13  CCS Diagnosis Code                2007 non-null   int64  \n",
      " 14  CCS Procedure Code                2007 non-null   int64  \n",
      " 15  APR DRG Code                      2007 non-null   int64  \n",
      " 16  APR MDC Code                      2007 non-null   int64  \n",
      " 17  APR Severity of Illness Code      2007 non-null   int64  \n",
      " 18  APR Risk of Mortality             2007 non-null   int64  \n",
      " 19  APR Medical Surgical Description  2007 non-null   int64  \n",
      " 20  Payment Typology 1                2007 non-null   int64  \n",
      " 21  Payment Typology 2                2007 non-null   int64  \n",
      " 22  Payment Typology 3                2007 non-null   int64  \n",
      " 23  Birth Weight                      2007 non-null   int64  \n",
      " 24  Abortion Edit Indicator           2007 non-null   int64  \n",
      " 25  Emergency Department Indicator    2007 non-null   int64  \n",
      " 26  Total Charges                     2007 non-null   float64\n",
      " 27  Total Costs                       2007 non-null   float64\n",
      "dtypes: float64(4), int64(23), object(1)\n",
      "memory usage: 454.7+ KB\n"
     ]
    }
   ],
   "source": [
    "Burdett_df.info()"
   ]
  },
  {
   "cell_type": "code",
   "execution_count": 57,
   "id": "ac648427",
   "metadata": {
    "execution": {
     "iopub.execute_input": "2023-02-21T12:05:14.341573Z",
     "iopub.status.busy": "2023-02-21T12:05:14.340765Z",
     "iopub.status.idle": "2023-02-21T12:05:14.348249Z",
     "shell.execute_reply": "2023-02-21T12:05:14.347318Z"
    },
    "papermill": {
     "duration": 0.081701,
     "end_time": "2023-02-21T12:05:14.350576",
     "exception": false,
     "start_time": "2023-02-21T12:05:14.268875",
     "status": "completed"
    },
    "tags": []
   },
   "outputs": [],
   "source": [
    "Burdett_df=Burdett_df.drop(\"Facility Name\", axis=1)"
   ]
  },
  {
   "cell_type": "code",
   "execution_count": 58,
   "id": "3b5b4619",
   "metadata": {
    "execution": {
     "iopub.execute_input": "2023-02-21T12:05:14.490330Z",
     "iopub.status.busy": "2023-02-21T12:05:14.489939Z",
     "iopub.status.idle": "2023-02-21T12:05:14.496216Z",
     "shell.execute_reply": "2023-02-21T12:05:14.494982Z"
    },
    "papermill": {
     "duration": 0.079656,
     "end_time": "2023-02-21T12:05:14.498712",
     "exception": false,
     "start_time": "2023-02-21T12:05:14.419056",
     "status": "completed"
    },
    "tags": []
   },
   "outputs": [],
   "source": [
    "x = Burdett_df.drop([\"Length of Stay\"], axis =1)\n",
    "y = Burdett_df[\"Length of Stay\"]"
   ]
  },
  {
   "cell_type": "code",
   "execution_count": 59,
   "id": "60b4c58b",
   "metadata": {
    "execution": {
     "iopub.execute_input": "2023-02-21T12:05:14.638337Z",
     "iopub.status.busy": "2023-02-21T12:05:14.637917Z",
     "iopub.status.idle": "2023-02-21T12:05:14.646561Z",
     "shell.execute_reply": "2023-02-21T12:05:14.645759Z"
    },
    "papermill": {
     "duration": 0.081395,
     "end_time": "2023-02-21T12:05:14.649083",
     "exception": false,
     "start_time": "2023-02-21T12:05:14.567688",
     "status": "completed"
    },
    "tags": []
   },
   "outputs": [],
   "source": [
    "from sklearn.model_selection import train_test_split\n",
    "x_train, x_test, y_train, y_test = train_test_split(x, y, test_size=0.3, random_state=42)"
   ]
  },
  {
   "cell_type": "code",
   "execution_count": 60,
   "id": "58959d80",
   "metadata": {
    "execution": {
     "iopub.execute_input": "2023-02-21T12:05:14.789346Z",
     "iopub.status.busy": "2023-02-21T12:05:14.788899Z",
     "iopub.status.idle": "2023-02-21T12:05:14.818785Z",
     "shell.execute_reply": "2023-02-21T12:05:14.817056Z"
    },
    "papermill": {
     "duration": 0.105113,
     "end_time": "2023-02-21T12:05:14.823579",
     "exception": false,
     "start_time": "2023-02-21T12:05:14.718466",
     "status": "completed"
    },
    "tags": []
   },
   "outputs": [],
   "source": [
    "# Linear Regression\n",
    "\n",
    "LR = LinearRegression()\n",
    "LR.fit(x_train, y_train)\n",
    "LR.score(x_train, y_train)\n",
    "y_pred =LR.predict(x_test)"
   ]
  },
  {
   "cell_type": "code",
   "execution_count": 61,
   "id": "ffb685b2",
   "metadata": {
    "execution": {
     "iopub.execute_input": "2023-02-21T12:05:15.087968Z",
     "iopub.status.busy": "2023-02-21T12:05:15.087587Z",
     "iopub.status.idle": "2023-02-21T12:05:15.095644Z",
     "shell.execute_reply": "2023-02-21T12:05:15.094554Z"
    },
    "papermill": {
     "duration": 0.081023,
     "end_time": "2023-02-21T12:05:15.098391",
     "exception": false,
     "start_time": "2023-02-21T12:05:15.017368",
     "status": "completed"
    },
    "tags": []
   },
   "outputs": [
    {
     "data": {
      "text/plain": [
       "0.8723056813594046"
      ]
     },
     "execution_count": 61,
     "metadata": {},
     "output_type": "execute_result"
    }
   ],
   "source": [
    "r2 = r2_score(y_test, y_pred)\n",
    "r2 \n"
   ]
  },
  {
   "cell_type": "code",
   "execution_count": 62,
   "id": "117fe58a",
   "metadata": {
    "execution": {
     "iopub.execute_input": "2023-02-21T12:05:15.236911Z",
     "iopub.status.busy": "2023-02-21T12:05:15.236221Z",
     "iopub.status.idle": "2023-02-21T12:05:15.244250Z",
     "shell.execute_reply": "2023-02-21T12:05:15.242582Z"
    },
    "papermill": {
     "duration": 0.080267,
     "end_time": "2023-02-21T12:05:15.246829",
     "exception": false,
     "start_time": "2023-02-21T12:05:15.166562",
     "status": "completed"
    },
    "tags": []
   },
   "outputs": [
    {
     "data": {
      "text/plain": [
       "0.23125353938413457"
      ]
     },
     "execution_count": 62,
     "metadata": {},
     "output_type": "execute_result"
    }
   ],
   "source": [
    "# calculate the MAE of the model\n",
    "mae = mean_absolute_error(y_test, y_pred)\n",
    "mae"
   ]
  },
  {
   "cell_type": "code",
   "execution_count": 63,
   "id": "ef97ba02",
   "metadata": {
    "execution": {
     "iopub.execute_input": "2023-02-21T12:05:15.394997Z",
     "iopub.status.busy": "2023-02-21T12:05:15.394314Z",
     "iopub.status.idle": "2023-02-21T12:05:15.402367Z",
     "shell.execute_reply": "2023-02-21T12:05:15.401171Z"
    },
    "papermill": {
     "duration": 0.083874,
     "end_time": "2023-02-21T12:05:15.404724",
     "exception": false,
     "start_time": "2023-02-21T12:05:15.320850",
     "status": "completed"
    },
    "tags": []
   },
   "outputs": [
    {
     "data": {
      "text/plain": [
       "0.1265392685345504"
      ]
     },
     "execution_count": 63,
     "metadata": {},
     "output_type": "execute_result"
    }
   ],
   "source": [
    "# calculate the MSE of the model\n",
    "mse = mean_squared_error(y_test, y_pred)\n",
    "mse"
   ]
  },
  {
   "cell_type": "code",
   "execution_count": 64,
   "id": "5fe6e211",
   "metadata": {
    "execution": {
     "iopub.execute_input": "2023-02-21T12:05:15.547594Z",
     "iopub.status.busy": "2023-02-21T12:05:15.546864Z",
     "iopub.status.idle": "2023-02-21T12:05:15.554575Z",
     "shell.execute_reply": "2023-02-21T12:05:15.553219Z"
    },
    "papermill": {
     "duration": 0.081609,
     "end_time": "2023-02-21T12:05:15.557298",
     "exception": false,
     "start_time": "2023-02-21T12:05:15.475689",
     "status": "completed"
    },
    "tags": []
   },
   "outputs": [
    {
     "data": {
      "text/plain": [
       "0.3557235844508351"
      ]
     },
     "execution_count": 64,
     "metadata": {},
     "output_type": "execute_result"
    }
   ],
   "source": [
    "# calculate the RMSE of the model\n",
    "rmse = np.sqrt(mse)\n",
    "rmse"
   ]
  },
  {
   "cell_type": "code",
   "execution_count": 65,
   "id": "ffeb5f54",
   "metadata": {
    "execution": {
     "iopub.execute_input": "2023-02-21T12:05:15.700042Z",
     "iopub.status.busy": "2023-02-21T12:05:15.699167Z",
     "iopub.status.idle": "2023-02-21T12:05:15.731807Z",
     "shell.execute_reply": "2023-02-21T12:05:15.730058Z"
    },
    "papermill": {
     "duration": 0.109969,
     "end_time": "2023-02-21T12:05:15.736836",
     "exception": false,
     "start_time": "2023-02-21T12:05:15.626867",
     "status": "completed"
    },
    "tags": []
   },
   "outputs": [],
   "source": [
    "# LASSO\n",
    "L1 = linear_model.Lasso()\n",
    "L1.fit(x_train,y_train)\n",
    "y_pred1 = L1.predict(x_test)"
   ]
  },
  {
   "cell_type": "code",
   "execution_count": 66,
   "id": "f3a88b8f",
   "metadata": {
    "execution": {
     "iopub.execute_input": "2023-02-21T12:05:15.947510Z",
     "iopub.status.busy": "2023-02-21T12:05:15.947045Z",
     "iopub.status.idle": "2023-02-21T12:05:15.955236Z",
     "shell.execute_reply": "2023-02-21T12:05:15.954215Z"
    },
    "papermill": {
     "duration": 0.079413,
     "end_time": "2023-02-21T12:05:15.957405",
     "exception": false,
     "start_time": "2023-02-21T12:05:15.877992",
     "status": "completed"
    },
    "tags": []
   },
   "outputs": [
    {
     "data": {
      "text/plain": [
       "0.3459801547925998"
      ]
     },
     "execution_count": 66,
     "metadata": {},
     "output_type": "execute_result"
    }
   ],
   "source": [
    "# calculate the MAE of the model\n",
    "mae = mean_absolute_error(y_test, y_pred1)\n",
    "mae"
   ]
  },
  {
   "cell_type": "code",
   "execution_count": 67,
   "id": "46f4cb33",
   "metadata": {
    "execution": {
     "iopub.execute_input": "2023-02-21T12:05:16.098018Z",
     "iopub.status.busy": "2023-02-21T12:05:16.097370Z",
     "iopub.status.idle": "2023-02-21T12:05:16.105577Z",
     "shell.execute_reply": "2023-02-21T12:05:16.104372Z"
    },
    "papermill": {
     "duration": 0.081086,
     "end_time": "2023-02-21T12:05:16.107979",
     "exception": false,
     "start_time": "2023-02-21T12:05:16.026893",
     "status": "completed"
    },
    "tags": []
   },
   "outputs": [
    {
     "data": {
      "text/plain": [
       "0.3101903514122998"
      ]
     },
     "execution_count": 67,
     "metadata": {},
     "output_type": "execute_result"
    }
   ],
   "source": [
    "# calculate the MSE of the model\n",
    "mse = mean_squared_error(y_test, y_pred1)\n",
    "mse"
   ]
  },
  {
   "cell_type": "code",
   "execution_count": 68,
   "id": "c9217d00",
   "metadata": {
    "execution": {
     "iopub.execute_input": "2023-02-21T12:05:16.247076Z",
     "iopub.status.busy": "2023-02-21T12:05:16.246438Z",
     "iopub.status.idle": "2023-02-21T12:05:16.253545Z",
     "shell.execute_reply": "2023-02-21T12:05:16.252455Z"
    },
    "papermill": {
     "duration": 0.079736,
     "end_time": "2023-02-21T12:05:16.255767",
     "exception": false,
     "start_time": "2023-02-21T12:05:16.176031",
     "status": "completed"
    },
    "tags": []
   },
   "outputs": [
    {
     "data": {
      "text/plain": [
       "0.5569473506645846"
      ]
     },
     "execution_count": 68,
     "metadata": {},
     "output_type": "execute_result"
    }
   ],
   "source": [
    "# calculate the RMSE of the model\n",
    "rmse = np.sqrt(mse)\n",
    "rmse"
   ]
  },
  {
   "cell_type": "code",
   "execution_count": 69,
   "id": "fafb2642",
   "metadata": {
    "execution": {
     "iopub.execute_input": "2023-02-21T12:05:16.397284Z",
     "iopub.status.busy": "2023-02-21T12:05:16.396513Z",
     "iopub.status.idle": "2023-02-21T12:05:16.404325Z",
     "shell.execute_reply": "2023-02-21T12:05:16.402568Z"
    },
    "papermill": {
     "duration": 0.082258,
     "end_time": "2023-02-21T12:05:16.407277",
     "exception": false,
     "start_time": "2023-02-21T12:05:16.325019",
     "status": "completed"
    },
    "tags": []
   },
   "outputs": [
    {
     "data": {
      "text/plain": [
       "0.6869782318864484"
      ]
     },
     "execution_count": 69,
     "metadata": {},
     "output_type": "execute_result"
    }
   ],
   "source": [
    "r2 = r2_score(y_test, y_pred1)\n",
    "r2 \n"
   ]
  },
  {
   "cell_type": "code",
   "execution_count": 70,
   "id": "d09b61f7",
   "metadata": {
    "execution": {
     "iopub.execute_input": "2023-02-21T12:05:16.551278Z",
     "iopub.status.busy": "2023-02-21T12:05:16.550612Z",
     "iopub.status.idle": "2023-02-21T12:05:16.567330Z",
     "shell.execute_reply": "2023-02-21T12:05:16.565392Z"
    },
    "papermill": {
     "duration": 0.095566,
     "end_time": "2023-02-21T12:05:16.572604",
     "exception": false,
     "start_time": "2023-02-21T12:05:16.477038",
     "status": "completed"
    },
    "tags": []
   },
   "outputs": [],
   "source": [
    "# Ridge\n",
    "L2 = Ridge(alpha=1.0)\n",
    "L2.fit(x_train, y_train) \n",
    "y_pred3 = L2.predict(x_test)"
   ]
  },
  {
   "cell_type": "code",
   "execution_count": 71,
   "id": "3f2e5e0d",
   "metadata": {
    "execution": {
     "iopub.execute_input": "2023-02-21T12:05:16.785556Z",
     "iopub.status.busy": "2023-02-21T12:05:16.785106Z",
     "iopub.status.idle": "2023-02-21T12:05:16.793558Z",
     "shell.execute_reply": "2023-02-21T12:05:16.792219Z"
    },
    "papermill": {
     "duration": 0.082458,
     "end_time": "2023-02-21T12:05:16.795769",
     "exception": false,
     "start_time": "2023-02-21T12:05:16.713311",
     "status": "completed"
    },
    "tags": []
   },
   "outputs": [
    {
     "data": {
      "text/plain": [
       "0.8810130092697138"
      ]
     },
     "execution_count": 71,
     "metadata": {},
     "output_type": "execute_result"
    }
   ],
   "source": [
    "r2 = r2_score(y_test, y_pred3)\n",
    "r2 "
   ]
  },
  {
   "cell_type": "code",
   "execution_count": 72,
   "id": "175fbbc6",
   "metadata": {
    "execution": {
     "iopub.execute_input": "2023-02-21T12:05:16.937786Z",
     "iopub.status.busy": "2023-02-21T12:05:16.936811Z",
     "iopub.status.idle": "2023-02-21T12:05:16.944329Z",
     "shell.execute_reply": "2023-02-21T12:05:16.943303Z"
    },
    "papermill": {
     "duration": 0.081061,
     "end_time": "2023-02-21T12:05:16.946871",
     "exception": false,
     "start_time": "2023-02-21T12:05:16.865810",
     "status": "completed"
    },
    "tags": []
   },
   "outputs": [
    {
     "data": {
      "text/plain": [
       "0.2269137110295729"
      ]
     },
     "execution_count": 72,
     "metadata": {},
     "output_type": "execute_result"
    }
   ],
   "source": [
    "# calculate the MAE of the model\n",
    "mae = mean_absolute_error(y_test, y_pred3)\n",
    "mae"
   ]
  },
  {
   "cell_type": "code",
   "execution_count": 73,
   "id": "fa6491c7",
   "metadata": {
    "execution": {
     "iopub.execute_input": "2023-02-21T12:05:17.086323Z",
     "iopub.status.busy": "2023-02-21T12:05:17.085602Z",
     "iopub.status.idle": "2023-02-21T12:05:17.092116Z",
     "shell.execute_reply": "2023-02-21T12:05:17.091283Z"
    },
    "papermill": {
     "duration": 0.07814,
     "end_time": "2023-02-21T12:05:17.094332",
     "exception": false,
     "start_time": "2023-02-21T12:05:17.016192",
     "status": "completed"
    },
    "tags": []
   },
   "outputs": [
    {
     "data": {
      "text/plain": [
       "0.11791070215516318"
      ]
     },
     "execution_count": 73,
     "metadata": {},
     "output_type": "execute_result"
    }
   ],
   "source": [
    "# calculate the MSE of the model\n",
    "mse = mean_squared_error(y_test, y_pred3)\n",
    "mse"
   ]
  },
  {
   "cell_type": "code",
   "execution_count": 74,
   "id": "3f4d717b",
   "metadata": {
    "execution": {
     "iopub.execute_input": "2023-02-21T12:05:17.233328Z",
     "iopub.status.busy": "2023-02-21T12:05:17.232888Z",
     "iopub.status.idle": "2023-02-21T12:05:17.240054Z",
     "shell.execute_reply": "2023-02-21T12:05:17.238923Z"
    },
    "papermill": {
     "duration": 0.07962,
     "end_time": "2023-02-21T12:05:17.242188",
     "exception": false,
     "start_time": "2023-02-21T12:05:17.162568",
     "status": "completed"
    },
    "tags": []
   },
   "outputs": [
    {
     "data": {
      "text/plain": [
       "0.3433812781081158"
      ]
     },
     "execution_count": 74,
     "metadata": {},
     "output_type": "execute_result"
    }
   ],
   "source": [
    "# calculate the RMSE of the model\n",
    "rmse = np.sqrt(mse)\n",
    "rmse"
   ]
  },
  {
   "cell_type": "markdown",
   "id": "adb2f8ed",
   "metadata": {
    "papermill": {
     "duration": 0.068993,
     "end_time": "2023-02-21T12:05:17.381231",
     "exception": false,
     "start_time": "2023-02-21T12:05:17.312238",
     "status": "completed"
    },
    "tags": []
   },
   "source": [
    "Client 8: Putnam Hospital Center"
   ]
  },
  {
   "cell_type": "code",
   "execution_count": 75,
   "id": "e68c7b2e",
   "metadata": {
    "execution": {
     "iopub.execute_input": "2023-02-21T12:05:17.521748Z",
     "iopub.status.busy": "2023-02-21T12:05:17.521064Z",
     "iopub.status.idle": "2023-02-21T12:05:17.676058Z",
     "shell.execute_reply": "2023-02-21T12:05:17.674625Z"
    },
    "papermill": {
     "duration": 0.22904,
     "end_time": "2023-02-21T12:05:17.678833",
     "exception": false,
     "start_time": "2023-02-21T12:05:17.449793",
     "status": "completed"
    },
    "tags": []
   },
   "outputs": [],
   "source": [
    "Putnam_df=df[df[\"Facility Name\"]== \"Putnam Hospital Center\"]"
   ]
  },
  {
   "cell_type": "code",
   "execution_count": 76,
   "id": "167b8be0",
   "metadata": {
    "execution": {
     "iopub.execute_input": "2023-02-21T12:05:17.821745Z",
     "iopub.status.busy": "2023-02-21T12:05:17.821326Z",
     "iopub.status.idle": "2023-02-21T12:05:17.864096Z",
     "shell.execute_reply": "2023-02-21T12:05:17.863224Z"
    },
    "papermill": {
     "duration": 0.117344,
     "end_time": "2023-02-21T12:05:17.866534",
     "exception": false,
     "start_time": "2023-02-21T12:05:17.749190",
     "status": "completed"
    },
    "tags": []
   },
   "outputs": [
    {
     "data": {
      "text/html": [
       "<div>\n",
       "<style scoped>\n",
       "    .dataframe tbody tr th:only-of-type {\n",
       "        vertical-align: middle;\n",
       "    }\n",
       "\n",
       "    .dataframe tbody tr th {\n",
       "        vertical-align: top;\n",
       "    }\n",
       "\n",
       "    .dataframe thead th {\n",
       "        text-align: right;\n",
       "    }\n",
       "</style>\n",
       "<table border=\"1\" class=\"dataframe\">\n",
       "  <thead>\n",
       "    <tr style=\"text-align: right;\">\n",
       "      <th></th>\n",
       "      <th>Hospital County</th>\n",
       "      <th>Operating Certificate Number</th>\n",
       "      <th>Facility Id</th>\n",
       "      <th>Facility Name</th>\n",
       "      <th>Age Group</th>\n",
       "      <th>Zip Code - 3 digits</th>\n",
       "      <th>Gender</th>\n",
       "      <th>Race</th>\n",
       "      <th>Ethnicity</th>\n",
       "      <th>Length of Stay</th>\n",
       "      <th>...</th>\n",
       "      <th>APR Risk of Mortality</th>\n",
       "      <th>APR Medical Surgical Description</th>\n",
       "      <th>Payment Typology 1</th>\n",
       "      <th>Payment Typology 2</th>\n",
       "      <th>Payment Typology 3</th>\n",
       "      <th>Birth Weight</th>\n",
       "      <th>Abortion Edit Indicator</th>\n",
       "      <th>Emergency Department Indicator</th>\n",
       "      <th>Total Charges</th>\n",
       "      <th>Total Costs</th>\n",
       "    </tr>\n",
       "  </thead>\n",
       "  <tbody>\n",
       "    <tr>\n",
       "      <th>700137</th>\n",
       "      <td>Putnam</td>\n",
       "      <td>3950000.0</td>\n",
       "      <td>752.0</td>\n",
       "      <td>Putnam Hospital Center</td>\n",
       "      <td>18 to 29</td>\n",
       "      <td>105</td>\n",
       "      <td>F</td>\n",
       "      <td>Other Race</td>\n",
       "      <td>Unknown</td>\n",
       "      <td>2</td>\n",
       "      <td>...</td>\n",
       "      <td>Minor</td>\n",
       "      <td>Medical</td>\n",
       "      <td>Medicaid</td>\n",
       "      <td>NaN</td>\n",
       "      <td>NaN</td>\n",
       "      <td>0</td>\n",
       "      <td>N</td>\n",
       "      <td>N</td>\n",
       "      <td>7555.49</td>\n",
       "      <td>2300.42</td>\n",
       "    </tr>\n",
       "    <tr>\n",
       "      <th>705867</th>\n",
       "      <td>Putnam</td>\n",
       "      <td>3950000.0</td>\n",
       "      <td>752.0</td>\n",
       "      <td>Putnam Hospital Center</td>\n",
       "      <td>18 to 29</td>\n",
       "      <td>NaN</td>\n",
       "      <td>M</td>\n",
       "      <td>Other Race</td>\n",
       "      <td>Unknown</td>\n",
       "      <td>4</td>\n",
       "      <td>...</td>\n",
       "      <td>Minor</td>\n",
       "      <td>Medical</td>\n",
       "      <td>Medicaid</td>\n",
       "      <td>NaN</td>\n",
       "      <td>NaN</td>\n",
       "      <td>0</td>\n",
       "      <td>N</td>\n",
       "      <td>N</td>\n",
       "      <td>13976.15</td>\n",
       "      <td>4054.04</td>\n",
       "    </tr>\n",
       "    <tr>\n",
       "      <th>706214</th>\n",
       "      <td>Putnam</td>\n",
       "      <td>3950000.0</td>\n",
       "      <td>752.0</td>\n",
       "      <td>Putnam Hospital Center</td>\n",
       "      <td>30 to 49</td>\n",
       "      <td>124</td>\n",
       "      <td>M</td>\n",
       "      <td>White</td>\n",
       "      <td>Not Span/Hispanic</td>\n",
       "      <td>3</td>\n",
       "      <td>...</td>\n",
       "      <td>Minor</td>\n",
       "      <td>Medical</td>\n",
       "      <td>Medicare</td>\n",
       "      <td>Medicaid</td>\n",
       "      <td>NaN</td>\n",
       "      <td>0</td>\n",
       "      <td>N</td>\n",
       "      <td>N</td>\n",
       "      <td>11769.89</td>\n",
       "      <td>3366.13</td>\n",
       "    </tr>\n",
       "    <tr>\n",
       "      <th>706501</th>\n",
       "      <td>Putnam</td>\n",
       "      <td>3950000.0</td>\n",
       "      <td>752.0</td>\n",
       "      <td>Putnam Hospital Center</td>\n",
       "      <td>18 to 29</td>\n",
       "      <td>105</td>\n",
       "      <td>M</td>\n",
       "      <td>Other Race</td>\n",
       "      <td>Unknown</td>\n",
       "      <td>5</td>\n",
       "      <td>...</td>\n",
       "      <td>Minor</td>\n",
       "      <td>Medical</td>\n",
       "      <td>Medicaid</td>\n",
       "      <td>NaN</td>\n",
       "      <td>NaN</td>\n",
       "      <td>0</td>\n",
       "      <td>N</td>\n",
       "      <td>Y</td>\n",
       "      <td>19054.70</td>\n",
       "      <td>5566.92</td>\n",
       "    </tr>\n",
       "    <tr>\n",
       "      <th>706962</th>\n",
       "      <td>Putnam</td>\n",
       "      <td>3950000.0</td>\n",
       "      <td>752.0</td>\n",
       "      <td>Putnam Hospital Center</td>\n",
       "      <td>18 to 29</td>\n",
       "      <td>125</td>\n",
       "      <td>M</td>\n",
       "      <td>White</td>\n",
       "      <td>Not Span/Hispanic</td>\n",
       "      <td>10</td>\n",
       "      <td>...</td>\n",
       "      <td>Minor</td>\n",
       "      <td>Medical</td>\n",
       "      <td>Medicaid</td>\n",
       "      <td>NaN</td>\n",
       "      <td>NaN</td>\n",
       "      <td>0</td>\n",
       "      <td>N</td>\n",
       "      <td>Y</td>\n",
       "      <td>35729.45</td>\n",
       "      <td>10557.89</td>\n",
       "    </tr>\n",
       "    <tr>\n",
       "      <th>...</th>\n",
       "      <td>...</td>\n",
       "      <td>...</td>\n",
       "      <td>...</td>\n",
       "      <td>...</td>\n",
       "      <td>...</td>\n",
       "      <td>...</td>\n",
       "      <td>...</td>\n",
       "      <td>...</td>\n",
       "      <td>...</td>\n",
       "      <td>...</td>\n",
       "      <td>...</td>\n",
       "      <td>...</td>\n",
       "      <td>...</td>\n",
       "      <td>...</td>\n",
       "      <td>...</td>\n",
       "      <td>...</td>\n",
       "      <td>...</td>\n",
       "      <td>...</td>\n",
       "      <td>...</td>\n",
       "      <td>...</td>\n",
       "      <td>...</td>\n",
       "    </tr>\n",
       "    <tr>\n",
       "      <th>745889</th>\n",
       "      <td>Putnam</td>\n",
       "      <td>3950000.0</td>\n",
       "      <td>752.0</td>\n",
       "      <td>Putnam Hospital Center</td>\n",
       "      <td>70 or Older</td>\n",
       "      <td>105</td>\n",
       "      <td>M</td>\n",
       "      <td>White</td>\n",
       "      <td>Not Span/Hispanic</td>\n",
       "      <td>3</td>\n",
       "      <td>...</td>\n",
       "      <td>Major</td>\n",
       "      <td>Medical</td>\n",
       "      <td>Medicare</td>\n",
       "      <td>Blue Cross/Blue Shield</td>\n",
       "      <td>NaN</td>\n",
       "      <td>0</td>\n",
       "      <td>N</td>\n",
       "      <td>Y</td>\n",
       "      <td>26577.54</td>\n",
       "      <td>7658.91</td>\n",
       "    </tr>\n",
       "    <tr>\n",
       "      <th>745890</th>\n",
       "      <td>Putnam</td>\n",
       "      <td>3950000.0</td>\n",
       "      <td>752.0</td>\n",
       "      <td>Putnam Hospital Center</td>\n",
       "      <td>18 to 29</td>\n",
       "      <td>105</td>\n",
       "      <td>F</td>\n",
       "      <td>White</td>\n",
       "      <td>Not Span/Hispanic</td>\n",
       "      <td>1</td>\n",
       "      <td>...</td>\n",
       "      <td>Minor</td>\n",
       "      <td>Medical</td>\n",
       "      <td>Managed Care, Unspecified</td>\n",
       "      <td>NaN</td>\n",
       "      <td>NaN</td>\n",
       "      <td>0</td>\n",
       "      <td>N</td>\n",
       "      <td>Y</td>\n",
       "      <td>11475.15</td>\n",
       "      <td>3425.98</td>\n",
       "    </tr>\n",
       "    <tr>\n",
       "      <th>745891</th>\n",
       "      <td>Putnam</td>\n",
       "      <td>3950000.0</td>\n",
       "      <td>752.0</td>\n",
       "      <td>Putnam Hospital Center</td>\n",
       "      <td>30 to 49</td>\n",
       "      <td>105</td>\n",
       "      <td>M</td>\n",
       "      <td>White</td>\n",
       "      <td>Not Span/Hispanic</td>\n",
       "      <td>2</td>\n",
       "      <td>...</td>\n",
       "      <td>Moderate</td>\n",
       "      <td>Medical</td>\n",
       "      <td>Medicaid</td>\n",
       "      <td>NaN</td>\n",
       "      <td>NaN</td>\n",
       "      <td>0</td>\n",
       "      <td>N</td>\n",
       "      <td>Y</td>\n",
       "      <td>12504.90</td>\n",
       "      <td>3724.22</td>\n",
       "    </tr>\n",
       "    <tr>\n",
       "      <th>745892</th>\n",
       "      <td>Putnam</td>\n",
       "      <td>3950000.0</td>\n",
       "      <td>752.0</td>\n",
       "      <td>Putnam Hospital Center</td>\n",
       "      <td>70 or Older</td>\n",
       "      <td>125</td>\n",
       "      <td>F</td>\n",
       "      <td>White</td>\n",
       "      <td>Not Span/Hispanic</td>\n",
       "      <td>2</td>\n",
       "      <td>...</td>\n",
       "      <td>Minor</td>\n",
       "      <td>Medical</td>\n",
       "      <td>Blue Cross/Blue Shield</td>\n",
       "      <td>NaN</td>\n",
       "      <td>NaN</td>\n",
       "      <td>0</td>\n",
       "      <td>N</td>\n",
       "      <td>Y</td>\n",
       "      <td>15137.95</td>\n",
       "      <td>4513.10</td>\n",
       "    </tr>\n",
       "    <tr>\n",
       "      <th>745893</th>\n",
       "      <td>Putnam</td>\n",
       "      <td>3950000.0</td>\n",
       "      <td>752.0</td>\n",
       "      <td>Putnam Hospital Center</td>\n",
       "      <td>50 to 69</td>\n",
       "      <td>125</td>\n",
       "      <td>M</td>\n",
       "      <td>Black/African American</td>\n",
       "      <td>Not Span/Hispanic</td>\n",
       "      <td>3</td>\n",
       "      <td>...</td>\n",
       "      <td>Moderate</td>\n",
       "      <td>Medical</td>\n",
       "      <td>Medicare</td>\n",
       "      <td>Medicaid</td>\n",
       "      <td>NaN</td>\n",
       "      <td>0</td>\n",
       "      <td>N</td>\n",
       "      <td>Y</td>\n",
       "      <td>23584.89</td>\n",
       "      <td>7014.46</td>\n",
       "    </tr>\n",
       "  </tbody>\n",
       "</table>\n",
       "<p>6785 rows × 28 columns</p>\n",
       "</div>"
      ],
      "text/plain": [
       "       Hospital County  Operating Certificate Number  Facility Id  \\\n",
       "700137          Putnam                     3950000.0        752.0   \n",
       "705867          Putnam                     3950000.0        752.0   \n",
       "706214          Putnam                     3950000.0        752.0   \n",
       "706501          Putnam                     3950000.0        752.0   \n",
       "706962          Putnam                     3950000.0        752.0   \n",
       "...                ...                           ...          ...   \n",
       "745889          Putnam                     3950000.0        752.0   \n",
       "745890          Putnam                     3950000.0        752.0   \n",
       "745891          Putnam                     3950000.0        752.0   \n",
       "745892          Putnam                     3950000.0        752.0   \n",
       "745893          Putnam                     3950000.0        752.0   \n",
       "\n",
       "                 Facility Name    Age Group Zip Code - 3 digits Gender  \\\n",
       "700137  Putnam Hospital Center     18 to 29                 105      F   \n",
       "705867  Putnam Hospital Center     18 to 29                 NaN      M   \n",
       "706214  Putnam Hospital Center     30 to 49                 124      M   \n",
       "706501  Putnam Hospital Center     18 to 29                 105      M   \n",
       "706962  Putnam Hospital Center     18 to 29                 125      M   \n",
       "...                        ...          ...                 ...    ...   \n",
       "745889  Putnam Hospital Center  70 or Older                 105      M   \n",
       "745890  Putnam Hospital Center     18 to 29                 105      F   \n",
       "745891  Putnam Hospital Center     30 to 49                 105      M   \n",
       "745892  Putnam Hospital Center  70 or Older                 125      F   \n",
       "745893  Putnam Hospital Center     50 to 69                 125      M   \n",
       "\n",
       "                          Race          Ethnicity Length of Stay  ...  \\\n",
       "700137              Other Race            Unknown              2  ...   \n",
       "705867              Other Race            Unknown              4  ...   \n",
       "706214                   White  Not Span/Hispanic              3  ...   \n",
       "706501              Other Race            Unknown              5  ...   \n",
       "706962                   White  Not Span/Hispanic             10  ...   \n",
       "...                        ...                ...            ...  ...   \n",
       "745889                   White  Not Span/Hispanic              3  ...   \n",
       "745890                   White  Not Span/Hispanic              1  ...   \n",
       "745891                   White  Not Span/Hispanic              2  ...   \n",
       "745892                   White  Not Span/Hispanic              2  ...   \n",
       "745893  Black/African American  Not Span/Hispanic              3  ...   \n",
       "\n",
       "       APR Risk of Mortality APR Medical Surgical Description  \\\n",
       "700137                 Minor                          Medical   \n",
       "705867                 Minor                          Medical   \n",
       "706214                 Minor                          Medical   \n",
       "706501                 Minor                          Medical   \n",
       "706962                 Minor                          Medical   \n",
       "...                      ...                              ...   \n",
       "745889                 Major                          Medical   \n",
       "745890                 Minor                          Medical   \n",
       "745891              Moderate                          Medical   \n",
       "745892                 Minor                          Medical   \n",
       "745893              Moderate                          Medical   \n",
       "\n",
       "               Payment Typology 1      Payment Typology 2  Payment Typology 3  \\\n",
       "700137                   Medicaid                     NaN                 NaN   \n",
       "705867                   Medicaid                     NaN                 NaN   \n",
       "706214                   Medicare                Medicaid                 NaN   \n",
       "706501                   Medicaid                     NaN                 NaN   \n",
       "706962                   Medicaid                     NaN                 NaN   \n",
       "...                           ...                     ...                 ...   \n",
       "745889                   Medicare  Blue Cross/Blue Shield                 NaN   \n",
       "745890  Managed Care, Unspecified                     NaN                 NaN   \n",
       "745891                   Medicaid                     NaN                 NaN   \n",
       "745892     Blue Cross/Blue Shield                     NaN                 NaN   \n",
       "745893                   Medicare                Medicaid                 NaN   \n",
       "\n",
       "        Birth Weight  Abortion Edit Indicator  Emergency Department Indicator  \\\n",
       "700137             0                        N                               N   \n",
       "705867             0                        N                               N   \n",
       "706214             0                        N                               N   \n",
       "706501             0                        N                               Y   \n",
       "706962             0                        N                               Y   \n",
       "...              ...                      ...                             ...   \n",
       "745889             0                        N                               Y   \n",
       "745890             0                        N                               Y   \n",
       "745891             0                        N                               Y   \n",
       "745892             0                        N                               Y   \n",
       "745893             0                        N                               Y   \n",
       "\n",
       "       Total Charges Total Costs  \n",
       "700137       7555.49     2300.42  \n",
       "705867      13976.15     4054.04  \n",
       "706214      11769.89     3366.13  \n",
       "706501      19054.70     5566.92  \n",
       "706962      35729.45    10557.89  \n",
       "...              ...         ...  \n",
       "745889      26577.54     7658.91  \n",
       "745890      11475.15     3425.98  \n",
       "745891      12504.90     3724.22  \n",
       "745892      15137.95     4513.10  \n",
       "745893      23584.89     7014.46  \n",
       "\n",
       "[6785 rows x 28 columns]"
      ]
     },
     "execution_count": 76,
     "metadata": {},
     "output_type": "execute_result"
    }
   ],
   "source": [
    "Putnam_df\n"
   ]
  },
  {
   "cell_type": "code",
   "execution_count": 77,
   "id": "4b40a9be",
   "metadata": {
    "execution": {
     "iopub.execute_input": "2023-02-21T12:05:18.011286Z",
     "iopub.status.busy": "2023-02-21T12:05:18.010571Z",
     "iopub.status.idle": "2023-02-21T12:05:18.031267Z",
     "shell.execute_reply": "2023-02-21T12:05:18.029505Z"
    },
    "papermill": {
     "duration": 0.095948,
     "end_time": "2023-02-21T12:05:18.033938",
     "exception": false,
     "start_time": "2023-02-21T12:05:17.937990",
     "status": "completed"
    },
    "tags": []
   },
   "outputs": [
    {
     "name": "stdout",
     "output_type": "stream",
     "text": [
      "<class 'pandas.core.frame.DataFrame'>\n",
      "Int64Index: 6785 entries, 700137 to 745893\n",
      "Data columns (total 28 columns):\n",
      " #   Column                            Non-Null Count  Dtype   \n",
      "---  ------                            --------------  -----   \n",
      " 0   Hospital County                   6785 non-null   category\n",
      " 1   Operating Certificate Number      6785 non-null   float64 \n",
      " 2   Facility Id                       6785 non-null   float64 \n",
      " 3   Facility Name                     6785 non-null   object  \n",
      " 4   Age Group                         6785 non-null   category\n",
      " 5   Zip Code - 3 digits               6684 non-null   category\n",
      " 6   Gender                            6785 non-null   category\n",
      " 7   Race                              6785 non-null   category\n",
      " 8   Ethnicity                         6785 non-null   category\n",
      " 9   Length of Stay                    6785 non-null   category\n",
      " 10  Type of Admission                 6785 non-null   category\n",
      " 11  Patient Disposition               6785 non-null   category\n",
      " 12  Discharge Year                    6785 non-null   int64   \n",
      " 13  CCS Diagnosis Code                6785 non-null   int64   \n",
      " 14  CCS Procedure Code                6785 non-null   int64   \n",
      " 15  APR DRG Code                      6785 non-null   int64   \n",
      " 16  APR MDC Code                      6785 non-null   int64   \n",
      " 17  APR Severity of Illness Code      6785 non-null   int64   \n",
      " 18  APR Risk of Mortality             6785 non-null   category\n",
      " 19  APR Medical Surgical Description  6785 non-null   category\n",
      " 20  Payment Typology 1                6785 non-null   category\n",
      " 21  Payment Typology 2                3195 non-null   category\n",
      " 22  Payment Typology 3                236 non-null    category\n",
      " 23  Birth Weight                      6785 non-null   int64   \n",
      " 24  Abortion Edit Indicator           6785 non-null   category\n",
      " 25  Emergency Department Indicator    6785 non-null   category\n",
      " 26  Total Charges                     6785 non-null   float64 \n",
      " 27  Total Costs                       6785 non-null   float64 \n",
      "dtypes: category(16), float64(4), int64(7), object(1)\n",
      "memory usage: 819.8+ KB\n"
     ]
    }
   ],
   "source": [
    "Putnam_df.info()"
   ]
  },
  {
   "cell_type": "code",
   "execution_count": 78,
   "id": "625df111",
   "metadata": {
    "execution": {
     "iopub.execute_input": "2023-02-21T12:05:18.176788Z",
     "iopub.status.busy": "2023-02-21T12:05:18.175935Z",
     "iopub.status.idle": "2023-02-21T12:05:18.185155Z",
     "shell.execute_reply": "2023-02-21T12:05:18.184226Z"
    },
    "papermill": {
     "duration": 0.083285,
     "end_time": "2023-02-21T12:05:18.188054",
     "exception": false,
     "start_time": "2023-02-21T12:05:18.104769",
     "status": "completed"
    },
    "tags": []
   },
   "outputs": [
    {
     "name": "stderr",
     "output_type": "stream",
     "text": [
      "/opt/conda/lib/python3.7/site-packages/ipykernel_launcher.py:3: SettingWithCopyWarning: \n",
      "A value is trying to be set on a copy of a slice from a DataFrame.\n",
      "Try using .loc[row_indexer,col_indexer] = value instead\n",
      "\n",
      "See the caveats in the documentation: https://pandas.pydata.org/pandas-docs/stable/user_guide/indexing.html#returning-a-view-versus-a-copy\n",
      "  This is separate from the ipykernel package so we can avoid doing imports until\n",
      "/opt/conda/lib/python3.7/site-packages/ipykernel_launcher.py:5: SettingWithCopyWarning: \n",
      "A value is trying to be set on a copy of a slice from a DataFrame.\n",
      "Try using .loc[row_indexer,col_indexer] = value instead\n",
      "\n",
      "See the caveats in the documentation: https://pandas.pydata.org/pandas-docs/stable/user_guide/indexing.html#returning-a-view-versus-a-copy\n",
      "  \"\"\"\n"
     ]
    }
   ],
   "source": [
    " #   simple mapping on binary features.\n",
    "Putnam_df['Abortion Edit Indicator'] = Putnam_df['Abortion Edit Indicator'].apply(\n",
    "     lambda x: 1 if x == 'Y' else (0 if x == 'N' else None))\n",
    "Putnam_df['Emergency Department Indicator'] = Putnam_df['Emergency Department Indicator'].apply(\n",
    "    lambda x: 1 if x == 'Y' else (0 if x == 'N' else None))"
   ]
  },
  {
   "cell_type": "code",
   "execution_count": 79,
   "id": "ac0106c0",
   "metadata": {
    "execution": {
     "iopub.execute_input": "2023-02-21T12:05:18.330952Z",
     "iopub.status.busy": "2023-02-21T12:05:18.330558Z",
     "iopub.status.idle": "2023-02-21T12:05:18.340952Z",
     "shell.execute_reply": "2023-02-21T12:05:18.339695Z"
    },
    "papermill": {
     "duration": 0.085857,
     "end_time": "2023-02-21T12:05:18.344069",
     "exception": false,
     "start_time": "2023-02-21T12:05:18.258212",
     "status": "completed"
    },
    "tags": []
   },
   "outputs": [
    {
     "name": "stderr",
     "output_type": "stream",
     "text": [
      "/opt/conda/lib/python3.7/site-packages/ipykernel_launcher.py:1: SettingWithCopyWarning: \n",
      "A value is trying to be set on a copy of a slice from a DataFrame.\n",
      "Try using .loc[row_indexer,col_indexer] = value instead\n",
      "\n",
      "See the caveats in the documentation: https://pandas.pydata.org/pandas-docs/stable/user_guide/indexing.html#returning-a-view-versus-a-copy\n",
      "  \"\"\"Entry point for launching an IPython kernel.\n"
     ]
    }
   ],
   "source": [
    "Putnam_df[\"Length of Stay\"]=pd.to_numeric(Putnam_df[\"Length of Stay\"],errors='coerce')"
   ]
  },
  {
   "cell_type": "code",
   "execution_count": 80,
   "id": "efd88260",
   "metadata": {
    "execution": {
     "iopub.execute_input": "2023-02-21T12:05:18.485643Z",
     "iopub.status.busy": "2023-02-21T12:05:18.485260Z",
     "iopub.status.idle": "2023-02-21T12:05:18.523175Z",
     "shell.execute_reply": "2023-02-21T12:05:18.521994Z"
    },
    "papermill": {
     "duration": 0.112062,
     "end_time": "2023-02-21T12:05:18.525924",
     "exception": false,
     "start_time": "2023-02-21T12:05:18.413862",
     "status": "completed"
    },
    "tags": []
   },
   "outputs": [
    {
     "name": "stderr",
     "output_type": "stream",
     "text": [
      "/opt/conda/lib/python3.7/site-packages/ipykernel_launcher.py:27: SettingWithCopyWarning: \n",
      "A value is trying to be set on a copy of a slice from a DataFrame.\n",
      "Try using .loc[row_indexer,col_indexer] = value instead\n",
      "\n",
      "See the caveats in the documentation: https://pandas.pydata.org/pandas-docs/stable/user_guide/indexing.html#returning-a-view-versus-a-copy\n"
     ]
    }
   ],
   "source": [
    "list=  [ \"Hospital County\",\"Age Group\"\n",
    "    ,\"Gender\",   \n",
    " \"Race\" , \n",
    "\"Ethnicity\", \n",
    "\"Gender\" , \n",
    "\"Race\" ,    \n",
    " \"Ethnicity\" ,        \n",
    " \"Type of Admission\"  ,  \n",
    "  \"Patient Disposition\",      \n",
    " \"Type of Admission\" ,  \n",
    " \"Patient Disposition\"  ,\n",
    "  \"APR Risk of Mortality\" ,   \n",
    " \"APR Medical Surgical Description\" ,\n",
    " \"Payment Typology 1\"   ,   \n",
    " \"Abortion Edit Indicator\"     ,  \n",
    " \"Emergency Department Indicator\",\n",
    "       \"Zip Code - 3 digits\"]  \n",
    "\n",
    "# Import label encoder\n",
    "from sklearn import preprocessing\n",
    "  \n",
    "# label_encoder object knows how to understand word labels.\n",
    "label_encoder = preprocessing.LabelEncoder()\n",
    "  \n",
    "# Encode labels in column 'species'.\n",
    "for col in list :\n",
    "   Putnam_df[col]= label_encoder.fit_transform(Putnam_df[col])"
   ]
  },
  {
   "cell_type": "code",
   "execution_count": 81,
   "id": "ff1ff23d",
   "metadata": {
    "execution": {
     "iopub.execute_input": "2023-02-21T12:05:18.666220Z",
     "iopub.status.busy": "2023-02-21T12:05:18.665798Z",
     "iopub.status.idle": "2023-02-21T12:05:18.674686Z",
     "shell.execute_reply": "2023-02-21T12:05:18.673481Z"
    },
    "papermill": {
     "duration": 0.082054,
     "end_time": "2023-02-21T12:05:18.677265",
     "exception": false,
     "start_time": "2023-02-21T12:05:18.595211",
     "status": "completed"
    },
    "tags": []
   },
   "outputs": [],
   "source": [
    "Putnam_df = Putnam_df.drop(\"Facility Name\", axis=1)"
   ]
  },
  {
   "cell_type": "code",
   "execution_count": 82,
   "id": "16c6eff4",
   "metadata": {
    "execution": {
     "iopub.execute_input": "2023-02-21T12:05:18.829419Z",
     "iopub.status.busy": "2023-02-21T12:05:18.829001Z",
     "iopub.status.idle": "2023-02-21T12:05:18.835052Z",
     "shell.execute_reply": "2023-02-21T12:05:18.834091Z"
    },
    "papermill": {
     "duration": 0.087901,
     "end_time": "2023-02-21T12:05:18.837382",
     "exception": false,
     "start_time": "2023-02-21T12:05:18.749481",
     "status": "completed"
    },
    "tags": []
   },
   "outputs": [],
   "source": [
    "Putnam_df = Putnam_df.drop([\"Payment Typology 2\",    \"Payment Typology 3\"], axis=1)\n"
   ]
  },
  {
   "cell_type": "code",
   "execution_count": 83,
   "id": "bf804cf8",
   "metadata": {
    "execution": {
     "iopub.execute_input": "2023-02-21T12:05:18.980438Z",
     "iopub.status.busy": "2023-02-21T12:05:18.979385Z",
     "iopub.status.idle": "2023-02-21T12:05:18.993776Z",
     "shell.execute_reply": "2023-02-21T12:05:18.992859Z"
    },
    "papermill": {
     "duration": 0.089993,
     "end_time": "2023-02-21T12:05:18.997218",
     "exception": false,
     "start_time": "2023-02-21T12:05:18.907225",
     "status": "completed"
    },
    "tags": []
   },
   "outputs": [
    {
     "name": "stdout",
     "output_type": "stream",
     "text": [
      "<class 'pandas.core.frame.DataFrame'>\n",
      "Int64Index: 6785 entries, 700137 to 745893\n",
      "Data columns (total 25 columns):\n",
      " #   Column                            Non-Null Count  Dtype  \n",
      "---  ------                            --------------  -----  \n",
      " 0   Hospital County                   6785 non-null   int64  \n",
      " 1   Operating Certificate Number      6785 non-null   float64\n",
      " 2   Facility Id                       6785 non-null   float64\n",
      " 3   Age Group                         6785 non-null   int64  \n",
      " 4   Zip Code - 3 digits               6785 non-null   int64  \n",
      " 5   Gender                            6785 non-null   int64  \n",
      " 6   Race                              6785 non-null   int64  \n",
      " 7   Ethnicity                         6785 non-null   int64  \n",
      " 8   Length of Stay                    6785 non-null   int64  \n",
      " 9   Type of Admission                 6785 non-null   int64  \n",
      " 10  Patient Disposition               6785 non-null   int64  \n",
      " 11  Discharge Year                    6785 non-null   int64  \n",
      " 12  CCS Diagnosis Code                6785 non-null   int64  \n",
      " 13  CCS Procedure Code                6785 non-null   int64  \n",
      " 14  APR DRG Code                      6785 non-null   int64  \n",
      " 15  APR MDC Code                      6785 non-null   int64  \n",
      " 16  APR Severity of Illness Code      6785 non-null   int64  \n",
      " 17  APR Risk of Mortality             6785 non-null   int64  \n",
      " 18  APR Medical Surgical Description  6785 non-null   int64  \n",
      " 19  Payment Typology 1                6785 non-null   int64  \n",
      " 20  Birth Weight                      6785 non-null   int64  \n",
      " 21  Abortion Edit Indicator           6785 non-null   int64  \n",
      " 22  Emergency Department Indicator    6785 non-null   int64  \n",
      " 23  Total Charges                     6785 non-null   float64\n",
      " 24  Total Costs                       6785 non-null   float64\n",
      "dtypes: float64(4), int64(21)\n",
      "memory usage: 1.3 MB\n"
     ]
    }
   ],
   "source": [
    "Putnam_df.info()"
   ]
  },
  {
   "cell_type": "code",
   "execution_count": 84,
   "id": "c64d32c2",
   "metadata": {
    "execution": {
     "iopub.execute_input": "2023-02-21T12:05:19.140191Z",
     "iopub.status.busy": "2023-02-21T12:05:19.139451Z",
     "iopub.status.idle": "2023-02-21T12:05:19.145978Z",
     "shell.execute_reply": "2023-02-21T12:05:19.144686Z"
    },
    "papermill": {
     "duration": 0.080137,
     "end_time": "2023-02-21T12:05:19.148532",
     "exception": false,
     "start_time": "2023-02-21T12:05:19.068395",
     "status": "completed"
    },
    "tags": []
   },
   "outputs": [],
   "source": [
    "x = Putnam_df.drop([\"Length of Stay\"], axis =1)\n",
    "y = Putnam_df[\"Length of Stay\"]"
   ]
  },
  {
   "cell_type": "code",
   "execution_count": 85,
   "id": "00f24533",
   "metadata": {
    "execution": {
     "iopub.execute_input": "2023-02-21T12:05:19.292404Z",
     "iopub.status.busy": "2023-02-21T12:05:19.291931Z",
     "iopub.status.idle": "2023-02-21T12:05:19.300895Z",
     "shell.execute_reply": "2023-02-21T12:05:19.299700Z"
    },
    "papermill": {
     "duration": 0.084781,
     "end_time": "2023-02-21T12:05:19.303339",
     "exception": false,
     "start_time": "2023-02-21T12:05:19.218558",
     "status": "completed"
    },
    "tags": []
   },
   "outputs": [],
   "source": [
    "from sklearn.model_selection import train_test_split\n",
    "x_train, x_test, y_train, y_test = train_test_split(x, y, test_size=0.3, random_state=42)"
   ]
  },
  {
   "cell_type": "code",
   "execution_count": 86,
   "id": "80a738f2",
   "metadata": {
    "execution": {
     "iopub.execute_input": "2023-02-21T12:05:19.502708Z",
     "iopub.status.busy": "2023-02-21T12:05:19.502260Z",
     "iopub.status.idle": "2023-02-21T12:05:19.529927Z",
     "shell.execute_reply": "2023-02-21T12:05:19.527987Z"
    },
    "papermill": {
     "duration": 0.161646,
     "end_time": "2023-02-21T12:05:19.534712",
     "exception": false,
     "start_time": "2023-02-21T12:05:19.373066",
     "status": "completed"
    },
    "tags": []
   },
   "outputs": [],
   "source": [
    "# Linear Regression\n",
    "\n",
    "LR = LinearRegression()\n",
    "LR.fit(x_train, y_train)\n",
    "LR.score(x_train, y_train)\n",
    "y_pred =LR.predict(x_test)"
   ]
  },
  {
   "cell_type": "code",
   "execution_count": 87,
   "id": "251594d0",
   "metadata": {
    "execution": {
     "iopub.execute_input": "2023-02-21T12:05:19.747805Z",
     "iopub.status.busy": "2023-02-21T12:05:19.747417Z",
     "iopub.status.idle": "2023-02-21T12:05:19.755255Z",
     "shell.execute_reply": "2023-02-21T12:05:19.754388Z"
    },
    "papermill": {
     "duration": 0.081081,
     "end_time": "2023-02-21T12:05:19.757275",
     "exception": false,
     "start_time": "2023-02-21T12:05:19.676194",
     "status": "completed"
    },
    "tags": []
   },
   "outputs": [
    {
     "data": {
      "text/plain": [
       "0.6833681470945818"
      ]
     },
     "execution_count": 87,
     "metadata": {},
     "output_type": "execute_result"
    }
   ],
   "source": [
    "r2 = r2_score(y_test, y_pred)\n",
    "r2 \n"
   ]
  },
  {
   "cell_type": "code",
   "execution_count": 88,
   "id": "b680cc22",
   "metadata": {
    "execution": {
     "iopub.execute_input": "2023-02-21T12:05:19.900497Z",
     "iopub.status.busy": "2023-02-21T12:05:19.899566Z",
     "iopub.status.idle": "2023-02-21T12:05:19.907841Z",
     "shell.execute_reply": "2023-02-21T12:05:19.906811Z"
    },
    "papermill": {
     "duration": 0.081784,
     "end_time": "2023-02-21T12:05:19.910165",
     "exception": false,
     "start_time": "2023-02-21T12:05:19.828381",
     "status": "completed"
    },
    "tags": []
   },
   "outputs": [
    {
     "data": {
      "text/plain": [
       "1.4289408471215483"
      ]
     },
     "execution_count": 88,
     "metadata": {},
     "output_type": "execute_result"
    }
   ],
   "source": [
    "# calculate the MAE of the model\n",
    "mae = mean_absolute_error(y_test, y_pred)\n",
    "mae"
   ]
  },
  {
   "cell_type": "code",
   "execution_count": 89,
   "id": "d92549b0",
   "metadata": {
    "execution": {
     "iopub.execute_input": "2023-02-21T12:05:20.051979Z",
     "iopub.status.busy": "2023-02-21T12:05:20.051256Z",
     "iopub.status.idle": "2023-02-21T12:05:20.059159Z",
     "shell.execute_reply": "2023-02-21T12:05:20.058097Z"
    },
    "papermill": {
     "duration": 0.081327,
     "end_time": "2023-02-21T12:05:20.061551",
     "exception": false,
     "start_time": "2023-02-21T12:05:19.980224",
     "status": "completed"
    },
    "tags": []
   },
   "outputs": [
    {
     "data": {
      "text/plain": [
       "6.810081276526211"
      ]
     },
     "execution_count": 89,
     "metadata": {},
     "output_type": "execute_result"
    }
   ],
   "source": [
    "# calculate the MSE of the model\n",
    "mse = mean_squared_error(y_test, y_pred)\n",
    "mse"
   ]
  },
  {
   "cell_type": "code",
   "execution_count": 90,
   "id": "bda6c0a6",
   "metadata": {
    "execution": {
     "iopub.execute_input": "2023-02-21T12:05:20.204418Z",
     "iopub.status.busy": "2023-02-21T12:05:20.203993Z",
     "iopub.status.idle": "2023-02-21T12:05:20.211279Z",
     "shell.execute_reply": "2023-02-21T12:05:20.210148Z"
    },
    "papermill": {
     "duration": 0.081527,
     "end_time": "2023-02-21T12:05:20.213628",
     "exception": false,
     "start_time": "2023-02-21T12:05:20.132101",
     "status": "completed"
    },
    "tags": []
   },
   "outputs": [
    {
     "data": {
      "text/plain": [
       "2.609613242709772"
      ]
     },
     "execution_count": 90,
     "metadata": {},
     "output_type": "execute_result"
    }
   ],
   "source": [
    "# calculate the RMSE of the model\n",
    "rmse = np.sqrt(mse)\n",
    "rmse"
   ]
  },
  {
   "cell_type": "code",
   "execution_count": 91,
   "id": "2d4cf23e",
   "metadata": {
    "execution": {
     "iopub.execute_input": "2023-02-21T12:05:20.360810Z",
     "iopub.status.busy": "2023-02-21T12:05:20.360197Z",
     "iopub.status.idle": "2023-02-21T12:05:20.475554Z",
     "shell.execute_reply": "2023-02-21T12:05:20.473904Z"
    },
    "papermill": {
     "duration": 0.193364,
     "end_time": "2023-02-21T12:05:20.479927",
     "exception": false,
     "start_time": "2023-02-21T12:05:20.286563",
     "status": "completed"
    },
    "tags": []
   },
   "outputs": [],
   "source": [
    "# LASSO\n",
    "L1 = linear_model.Lasso()\n",
    "L1.fit(x_train,y_train)\n",
    "y_pred1 = L1.predict(x_test)"
   ]
  },
  {
   "cell_type": "code",
   "execution_count": 92,
   "id": "cf4c5c5f",
   "metadata": {
    "execution": {
     "iopub.execute_input": "2023-02-21T12:05:20.696865Z",
     "iopub.status.busy": "2023-02-21T12:05:20.696481Z",
     "iopub.status.idle": "2023-02-21T12:05:20.704087Z",
     "shell.execute_reply": "2023-02-21T12:05:20.703206Z"
    },
    "papermill": {
     "duration": 0.082343,
     "end_time": "2023-02-21T12:05:20.706326",
     "exception": false,
     "start_time": "2023-02-21T12:05:20.623983",
     "status": "completed"
    },
    "tags": []
   },
   "outputs": [
    {
     "data": {
      "text/plain": [
       "0.6496057028620932"
      ]
     },
     "execution_count": 92,
     "metadata": {},
     "output_type": "execute_result"
    }
   ],
   "source": [
    "r2 = r2_score(y_test, y_pred1)\n",
    "r2 "
   ]
  },
  {
   "cell_type": "code",
   "execution_count": 93,
   "id": "81a3fb60",
   "metadata": {
    "execution": {
     "iopub.execute_input": "2023-02-21T12:05:20.851949Z",
     "iopub.status.busy": "2023-02-21T12:05:20.851349Z",
     "iopub.status.idle": "2023-02-21T12:05:20.858754Z",
     "shell.execute_reply": "2023-02-21T12:05:20.857520Z"
    },
    "papermill": {
     "duration": 0.081668,
     "end_time": "2023-02-21T12:05:20.861006",
     "exception": false,
     "start_time": "2023-02-21T12:05:20.779338",
     "status": "completed"
    },
    "tags": []
   },
   "outputs": [
    {
     "data": {
      "text/plain": [
       "1.5599579330447522"
      ]
     },
     "execution_count": 93,
     "metadata": {},
     "output_type": "execute_result"
    }
   ],
   "source": [
    "# calculate the MAE of the model\n",
    "mae = mean_absolute_error(y_test, y_pred1)\n",
    "mae"
   ]
  },
  {
   "cell_type": "code",
   "execution_count": 94,
   "id": "d12dd5fc",
   "metadata": {
    "execution": {
     "iopub.execute_input": "2023-02-21T12:05:21.004662Z",
     "iopub.status.busy": "2023-02-21T12:05:21.004053Z",
     "iopub.status.idle": "2023-02-21T12:05:21.010694Z",
     "shell.execute_reply": "2023-02-21T12:05:21.009541Z"
    },
    "papermill": {
     "duration": 0.081742,
     "end_time": "2023-02-21T12:05:21.013054",
     "exception": false,
     "start_time": "2023-02-21T12:05:20.931312",
     "status": "completed"
    },
    "tags": []
   },
   "outputs": [
    {
     "data": {
      "text/plain": [
       "7.536240022740899"
      ]
     },
     "execution_count": 94,
     "metadata": {},
     "output_type": "execute_result"
    }
   ],
   "source": [
    "# calculate the MSE of the model\n",
    "mse = mean_squared_error(y_test, y_pred1)\n",
    "mse"
   ]
  },
  {
   "cell_type": "code",
   "execution_count": 95,
   "id": "19c199a3",
   "metadata": {
    "execution": {
     "iopub.execute_input": "2023-02-21T12:05:21.160309Z",
     "iopub.status.busy": "2023-02-21T12:05:21.159811Z",
     "iopub.status.idle": "2023-02-21T12:05:21.167442Z",
     "shell.execute_reply": "2023-02-21T12:05:21.166213Z"
    },
    "papermill": {
     "duration": 0.08465,
     "end_time": "2023-02-21T12:05:21.169953",
     "exception": false,
     "start_time": "2023-02-21T12:05:21.085303",
     "status": "completed"
    },
    "tags": []
   },
   "outputs": [
    {
     "data": {
      "text/plain": [
       "2.745221306696584"
      ]
     },
     "execution_count": 95,
     "metadata": {},
     "output_type": "execute_result"
    }
   ],
   "source": [
    "# calculate the RMSE of the model\n",
    "rmse = np.sqrt(mse)\n",
    "rmse"
   ]
  },
  {
   "cell_type": "code",
   "execution_count": 96,
   "id": "029bd11c",
   "metadata": {
    "execution": {
     "iopub.execute_input": "2023-02-21T12:05:21.312203Z",
     "iopub.status.busy": "2023-02-21T12:05:21.311787Z",
     "iopub.status.idle": "2023-02-21T12:05:21.331872Z",
     "shell.execute_reply": "2023-02-21T12:05:21.330170Z"
    },
    "papermill": {
     "duration": 0.096656,
     "end_time": "2023-02-21T12:05:21.336921",
     "exception": false,
     "start_time": "2023-02-21T12:05:21.240265",
     "status": "completed"
    },
    "tags": []
   },
   "outputs": [],
   "source": [
    "# Ridge\n",
    "L2 = Ridge(alpha=1.0)\n",
    "L2.fit(x_train, y_train) \n",
    "y_pred3 = L2.predict(x_test)"
   ]
  },
  {
   "cell_type": "code",
   "execution_count": 97,
   "id": "5549ec5d",
   "metadata": {
    "execution": {
     "iopub.execute_input": "2023-02-21T12:05:21.556560Z",
     "iopub.status.busy": "2023-02-21T12:05:21.556094Z",
     "iopub.status.idle": "2023-02-21T12:05:21.564928Z",
     "shell.execute_reply": "2023-02-21T12:05:21.563702Z"
    },
    "papermill": {
     "duration": 0.087593,
     "end_time": "2023-02-21T12:05:21.567420",
     "exception": false,
     "start_time": "2023-02-21T12:05:21.479827",
     "status": "completed"
    },
    "tags": []
   },
   "outputs": [
    {
     "data": {
      "text/plain": [
       "0.6833499677327529"
      ]
     },
     "execution_count": 97,
     "metadata": {},
     "output_type": "execute_result"
    }
   ],
   "source": [
    "r2 = r2_score(y_test, y_pred3)\n",
    "r2 "
   ]
  },
  {
   "cell_type": "code",
   "execution_count": 98,
   "id": "cf592415",
   "metadata": {
    "execution": {
     "iopub.execute_input": "2023-02-21T12:05:21.715227Z",
     "iopub.status.busy": "2023-02-21T12:05:21.714765Z",
     "iopub.status.idle": "2023-02-21T12:05:21.723880Z",
     "shell.execute_reply": "2023-02-21T12:05:21.722221Z"
    },
    "papermill": {
     "duration": 0.085439,
     "end_time": "2023-02-21T12:05:21.726341",
     "exception": false,
     "start_time": "2023-02-21T12:05:21.640902",
     "status": "completed"
    },
    "tags": []
   },
   "outputs": [
    {
     "data": {
      "text/plain": [
       "1.4289867059435022"
      ]
     },
     "execution_count": 98,
     "metadata": {},
     "output_type": "execute_result"
    }
   ],
   "source": [
    "# calculate the MAE of the model\n",
    "mae = mean_absolute_error(y_test, y_pred3)\n",
    "mae"
   ]
  },
  {
   "cell_type": "code",
   "execution_count": 99,
   "id": "3ddb0291",
   "metadata": {
    "execution": {
     "iopub.execute_input": "2023-02-21T12:05:21.874004Z",
     "iopub.status.busy": "2023-02-21T12:05:21.873556Z",
     "iopub.status.idle": "2023-02-21T12:05:21.881138Z",
     "shell.execute_reply": "2023-02-21T12:05:21.880136Z"
    },
    "papermill": {
     "duration": 0.082736,
     "end_time": "2023-02-21T12:05:21.883261",
     "exception": false,
     "start_time": "2023-02-21T12:05:21.800525",
     "status": "completed"
    },
    "tags": []
   },
   "outputs": [
    {
     "data": {
      "text/plain": [
       "6.810472276138141"
      ]
     },
     "execution_count": 99,
     "metadata": {},
     "output_type": "execute_result"
    }
   ],
   "source": [
    "# calculate the MSE of the model\n",
    "mse = mean_squared_error(y_test, y_pred3)\n",
    "mse"
   ]
  },
  {
   "cell_type": "code",
   "execution_count": 100,
   "id": "8dcb5574",
   "metadata": {
    "execution": {
     "iopub.execute_input": "2023-02-21T12:05:22.028664Z",
     "iopub.status.busy": "2023-02-21T12:05:22.027571Z",
     "iopub.status.idle": "2023-02-21T12:05:22.035567Z",
     "shell.execute_reply": "2023-02-21T12:05:22.034000Z"
    },
    "papermill": {
     "duration": 0.083764,
     "end_time": "2023-02-21T12:05:22.038042",
     "exception": false,
     "start_time": "2023-02-21T12:05:21.954278",
     "status": "completed"
    },
    "tags": []
   },
   "outputs": [
    {
     "data": {
      "text/plain": [
       "2.609688156875863"
      ]
     },
     "execution_count": 100,
     "metadata": {},
     "output_type": "execute_result"
    }
   ],
   "source": [
    "# calculate the RMSE of the model\n",
    "rmse = np.sqrt(mse)\n",
    "rmse"
   ]
  },
  {
   "cell_type": "code",
   "execution_count": 101,
   "id": "9c06e660",
   "metadata": {
    "execution": {
     "iopub.execute_input": "2023-02-21T12:05:22.185524Z",
     "iopub.status.busy": "2023-02-21T12:05:22.185145Z",
     "iopub.status.idle": "2023-02-21T12:05:22.291721Z",
     "shell.execute_reply": "2023-02-21T12:05:22.290088Z"
    },
    "papermill": {
     "duration": 0.18445,
     "end_time": "2023-02-21T12:05:22.296074",
     "exception": false,
     "start_time": "2023-02-21T12:05:22.111624",
     "status": "completed"
    },
    "tags": []
   },
   "outputs": [],
   "source": [
    "# LASSO\n",
    "L1 = linear_model.Lasso()\n",
    "L1.fit(x_train,y_train)\n",
    "y_pred1 = L1.predict(x_test)"
   ]
  },
  {
   "cell_type": "code",
   "execution_count": 102,
   "id": "08ab49d4",
   "metadata": {
    "execution": {
     "iopub.execute_input": "2023-02-21T12:05:22.513104Z",
     "iopub.status.busy": "2023-02-21T12:05:22.512718Z",
     "iopub.status.idle": "2023-02-21T12:05:22.520832Z",
     "shell.execute_reply": "2023-02-21T12:05:22.519544Z"
    },
    "papermill": {
     "duration": 0.082865,
     "end_time": "2023-02-21T12:05:22.523216",
     "exception": false,
     "start_time": "2023-02-21T12:05:22.440351",
     "status": "completed"
    },
    "tags": []
   },
   "outputs": [
    {
     "data": {
      "text/plain": [
       "0.6496057028620932"
      ]
     },
     "execution_count": 102,
     "metadata": {},
     "output_type": "execute_result"
    }
   ],
   "source": [
    "r2 = r2_score(y_test, y_pred1)\n",
    "r2 \n"
   ]
  },
  {
   "cell_type": "code",
   "execution_count": 103,
   "id": "f5a78fbe",
   "metadata": {
    "execution": {
     "iopub.execute_input": "2023-02-21T12:05:22.667494Z",
     "iopub.status.busy": "2023-02-21T12:05:22.666244Z",
     "iopub.status.idle": "2023-02-21T12:05:22.674465Z",
     "shell.execute_reply": "2023-02-21T12:05:22.673337Z"
    },
    "papermill": {
     "duration": 0.082957,
     "end_time": "2023-02-21T12:05:22.676718",
     "exception": false,
     "start_time": "2023-02-21T12:05:22.593761",
     "status": "completed"
    },
    "tags": []
   },
   "outputs": [
    {
     "data": {
      "text/plain": [
       "1.5599579330447522"
      ]
     },
     "execution_count": 103,
     "metadata": {},
     "output_type": "execute_result"
    }
   ],
   "source": [
    "# calculate the MAE of the model\n",
    "mae = mean_absolute_error(y_test, y_pred1)\n",
    "mae"
   ]
  },
  {
   "cell_type": "code",
   "execution_count": 104,
   "id": "ebda9aae",
   "metadata": {
    "execution": {
     "iopub.execute_input": "2023-02-21T12:05:22.821856Z",
     "iopub.status.busy": "2023-02-21T12:05:22.821475Z",
     "iopub.status.idle": "2023-02-21T12:05:22.829774Z",
     "shell.execute_reply": "2023-02-21T12:05:22.828316Z"
    },
    "papermill": {
     "duration": 0.084191,
     "end_time": "2023-02-21T12:05:22.832191",
     "exception": false,
     "start_time": "2023-02-21T12:05:22.748000",
     "status": "completed"
    },
    "tags": []
   },
   "outputs": [
    {
     "data": {
      "text/plain": [
       "7.536240022740899"
      ]
     },
     "execution_count": 104,
     "metadata": {},
     "output_type": "execute_result"
    }
   ],
   "source": [
    "# calculate the MSE of the model\n",
    "mse = mean_squared_error(y_test, y_pred1)\n",
    "mse"
   ]
  },
  {
   "cell_type": "code",
   "execution_count": 105,
   "id": "b2981742",
   "metadata": {
    "execution": {
     "iopub.execute_input": "2023-02-21T12:05:22.979874Z",
     "iopub.status.busy": "2023-02-21T12:05:22.979068Z",
     "iopub.status.idle": "2023-02-21T12:05:22.986347Z",
     "shell.execute_reply": "2023-02-21T12:05:22.985119Z"
    },
    "papermill": {
     "duration": 0.083854,
     "end_time": "2023-02-21T12:05:22.989047",
     "exception": false,
     "start_time": "2023-02-21T12:05:22.905193",
     "status": "completed"
    },
    "tags": []
   },
   "outputs": [
    {
     "data": {
      "text/plain": [
       "2.745221306696584"
      ]
     },
     "execution_count": 105,
     "metadata": {},
     "output_type": "execute_result"
    }
   ],
   "source": [
    "# calculate the RMSE of the model\n",
    "rmse = np.sqrt(mse)\n",
    "rmse"
   ]
  },
  {
   "cell_type": "markdown",
   "id": "f0e9add8",
   "metadata": {
    "papermill": {
     "duration": 0.074105,
     "end_time": "2023-02-21T12:05:23.135035",
     "exception": false,
     "start_time": "2023-02-21T12:05:23.060930",
     "status": "completed"
    },
    "tags": []
   },
   "source": [
    "Client 9: Nyack Hospital"
   ]
  },
  {
   "cell_type": "code",
   "execution_count": 106,
   "id": "d984d6d0",
   "metadata": {
    "execution": {
     "iopub.execute_input": "2023-02-21T12:05:23.294332Z",
     "iopub.status.busy": "2023-02-21T12:05:23.293580Z",
     "iopub.status.idle": "2023-02-21T12:05:23.472891Z",
     "shell.execute_reply": "2023-02-21T12:05:23.470944Z"
    },
    "papermill": {
     "duration": 0.268851,
     "end_time": "2023-02-21T12:05:23.475833",
     "exception": false,
     "start_time": "2023-02-21T12:05:23.206982",
     "status": "completed"
    },
    "tags": []
   },
   "outputs": [],
   "source": [
    "Nyack_df=df[df[\"Facility Name\"]== 'Nyack Hospital']"
   ]
  },
  {
   "cell_type": "code",
   "execution_count": 107,
   "id": "02f8f192",
   "metadata": {
    "execution": {
     "iopub.execute_input": "2023-02-21T12:05:23.621519Z",
     "iopub.status.busy": "2023-02-21T12:05:23.620978Z",
     "iopub.status.idle": "2023-02-21T12:05:23.645238Z",
     "shell.execute_reply": "2023-02-21T12:05:23.643738Z"
    },
    "papermill": {
     "duration": 0.100687,
     "end_time": "2023-02-21T12:05:23.648043",
     "exception": false,
     "start_time": "2023-02-21T12:05:23.547356",
     "status": "completed"
    },
    "tags": []
   },
   "outputs": [
    {
     "name": "stdout",
     "output_type": "stream",
     "text": [
      "<class 'pandas.core.frame.DataFrame'>\n",
      "Int64Index: 13459 entries, 700257 to 761325\n",
      "Data columns (total 28 columns):\n",
      " #   Column                            Non-Null Count  Dtype   \n",
      "---  ------                            --------------  -----   \n",
      " 0   Hospital County                   13459 non-null  category\n",
      " 1   Operating Certificate Number      13459 non-null  float64 \n",
      " 2   Facility Id                       13459 non-null  float64 \n",
      " 3   Facility Name                     13459 non-null  object  \n",
      " 4   Age Group                         13459 non-null  category\n",
      " 5   Zip Code - 3 digits               13327 non-null  category\n",
      " 6   Gender                            13459 non-null  category\n",
      " 7   Race                              13459 non-null  category\n",
      " 8   Ethnicity                         13459 non-null  category\n",
      " 9   Length of Stay                    13459 non-null  category\n",
      " 10  Type of Admission                 13459 non-null  category\n",
      " 11  Patient Disposition               13459 non-null  category\n",
      " 12  Discharge Year                    13459 non-null  int64   \n",
      " 13  CCS Diagnosis Code                13459 non-null  int64   \n",
      " 14  CCS Procedure Code                13459 non-null  int64   \n",
      " 15  APR DRG Code                      13459 non-null  int64   \n",
      " 16  APR MDC Code                      13459 non-null  int64   \n",
      " 17  APR Severity of Illness Code      13459 non-null  int64   \n",
      " 18  APR Risk of Mortality             13459 non-null  category\n",
      " 19  APR Medical Surgical Description  13459 non-null  category\n",
      " 20  Payment Typology 1                13459 non-null  category\n",
      " 21  Payment Typology 2                5193 non-null   category\n",
      " 22  Payment Typology 3                369 non-null    category\n",
      " 23  Birth Weight                      13459 non-null  int64   \n",
      " 24  Abortion Edit Indicator           13459 non-null  category\n",
      " 25  Emergency Department Indicator    13459 non-null  category\n",
      " 26  Total Charges                     13459 non-null  float64 \n",
      " 27  Total Costs                       13459 non-null  float64 \n",
      "dtypes: category(16), float64(4), int64(7), object(1)\n",
      "memory usage: 1.6+ MB\n"
     ]
    }
   ],
   "source": [
    "Nyack_df.info()"
   ]
  },
  {
   "cell_type": "code",
   "execution_count": 108,
   "id": "21398c68",
   "metadata": {
    "execution": {
     "iopub.execute_input": "2023-02-21T12:05:23.802211Z",
     "iopub.status.busy": "2023-02-21T12:05:23.801397Z",
     "iopub.status.idle": "2023-02-21T12:05:23.810245Z",
     "shell.execute_reply": "2023-02-21T12:05:23.809031Z"
    },
    "papermill": {
     "duration": 0.090157,
     "end_time": "2023-02-21T12:05:23.813561",
     "exception": false,
     "start_time": "2023-02-21T12:05:23.723404",
     "status": "completed"
    },
    "tags": []
   },
   "outputs": [],
   "source": [
    "Nyack_df=Nyack_df.drop(\"Facility Name\", axis=1)"
   ]
  },
  {
   "cell_type": "code",
   "execution_count": 109,
   "id": "102aee0b",
   "metadata": {
    "execution": {
     "iopub.execute_input": "2023-02-21T12:05:23.967878Z",
     "iopub.status.busy": "2023-02-21T12:05:23.967099Z",
     "iopub.status.idle": "2023-02-21T12:05:23.973949Z",
     "shell.execute_reply": "2023-02-21T12:05:23.972660Z"
    },
    "papermill": {
     "duration": 0.086051,
     "end_time": "2023-02-21T12:05:23.976347",
     "exception": false,
     "start_time": "2023-02-21T12:05:23.890296",
     "status": "completed"
    },
    "tags": []
   },
   "outputs": [],
   "source": [
    "Nyack_df = Nyack_df.drop([\"Payment Typology 2\",    \"Payment Typology 3\"], axis=1)"
   ]
  },
  {
   "cell_type": "code",
   "execution_count": 110,
   "id": "811afbb0",
   "metadata": {
    "execution": {
     "iopub.execute_input": "2023-02-21T12:05:24.124602Z",
     "iopub.status.busy": "2023-02-21T12:05:24.123840Z",
     "iopub.status.idle": "2023-02-21T12:05:24.133436Z",
     "shell.execute_reply": "2023-02-21T12:05:24.132207Z"
    },
    "papermill": {
     "duration": 0.088096,
     "end_time": "2023-02-21T12:05:24.136257",
     "exception": false,
     "start_time": "2023-02-21T12:05:24.048161",
     "status": "completed"
    },
    "tags": []
   },
   "outputs": [],
   "source": [
    " #   simple mapping on binary features.\n",
    "Nyack_df['Abortion Edit Indicator'] = Nyack_df['Abortion Edit Indicator'].apply(\n",
    "     lambda x: 1 if x == 'Y' else (0 if x == 'N' else None))\n",
    "Nyack_df['Emergency Department Indicator'] = Nyack_df['Emergency Department Indicator'].apply(\n",
    "    lambda x: 1 if x == 'Y' else (0 if x == 'N' else None))"
   ]
  },
  {
   "cell_type": "code",
   "execution_count": 111,
   "id": "96850422",
   "metadata": {
    "execution": {
     "iopub.execute_input": "2023-02-21T12:05:24.283914Z",
     "iopub.status.busy": "2023-02-21T12:05:24.283527Z",
     "iopub.status.idle": "2023-02-21T12:05:24.295299Z",
     "shell.execute_reply": "2023-02-21T12:05:24.294358Z"
    },
    "papermill": {
     "duration": 0.087829,
     "end_time": "2023-02-21T12:05:24.297558",
     "exception": false,
     "start_time": "2023-02-21T12:05:24.209729",
     "status": "completed"
    },
    "tags": []
   },
   "outputs": [],
   "source": [
    "Nyack_df[\"Length of Stay\"]=pd.to_numeric(Nyack_df[\"Length of Stay\"],errors='coerce')"
   ]
  },
  {
   "cell_type": "code",
   "execution_count": 112,
   "id": "5f05cf5b",
   "metadata": {
    "execution": {
     "iopub.execute_input": "2023-02-21T12:05:24.444923Z",
     "iopub.status.busy": "2023-02-21T12:05:24.444270Z",
     "iopub.status.idle": "2023-02-21T12:05:24.501558Z",
     "shell.execute_reply": "2023-02-21T12:05:24.500514Z"
    },
    "papermill": {
     "duration": 0.133018,
     "end_time": "2023-02-21T12:05:24.504083",
     "exception": false,
     "start_time": "2023-02-21T12:05:24.371065",
     "status": "completed"
    },
    "tags": []
   },
   "outputs": [],
   "source": [
    "list=  [ \"Hospital County\",\"Age Group\"\n",
    "    ,\"Gender\",   \n",
    " \"Race\" , \n",
    "\"Ethnicity\", \n",
    "\"Gender\" , \n",
    "\"Race\" ,    \n",
    " \"Ethnicity\" ,        \n",
    " \"Type of Admission\"  ,  \n",
    "  \"Patient Disposition\",      \n",
    " \"Type of Admission\" ,  \n",
    " \"Patient Disposition\"  ,\n",
    "  \"APR Risk of Mortality\" ,   \n",
    " \"APR Medical Surgical Description\" ,\n",
    " \"Payment Typology 1\"   ,   \n",
    " \"Abortion Edit Indicator\"     ,  \n",
    " \"Emergency Department Indicator\",\n",
    "       \"Zip Code - 3 digits\"]  \n",
    "\n",
    "# Import label encoder\n",
    "from sklearn import preprocessing\n",
    "  \n",
    "# label_encoder object knows how to understand word labels.\n",
    "label_encoder = preprocessing.LabelEncoder()\n",
    "  \n",
    "# Encode labels in column 'species'.\n",
    "for col in list :\n",
    "   Nyack_df[col]= label_encoder.fit_transform(Nyack_df[col])"
   ]
  },
  {
   "cell_type": "code",
   "execution_count": 113,
   "id": "efb1d102",
   "metadata": {
    "execution": {
     "iopub.execute_input": "2023-02-21T12:05:24.711991Z",
     "iopub.status.busy": "2023-02-21T12:05:24.711579Z",
     "iopub.status.idle": "2023-02-21T12:05:24.731148Z",
     "shell.execute_reply": "2023-02-21T12:05:24.729963Z"
    },
    "papermill": {
     "duration": 0.095815,
     "end_time": "2023-02-21T12:05:24.734087",
     "exception": false,
     "start_time": "2023-02-21T12:05:24.638272",
     "status": "completed"
    },
    "tags": []
   },
   "outputs": [
    {
     "name": "stdout",
     "output_type": "stream",
     "text": [
      "<class 'pandas.core.frame.DataFrame'>\n",
      "Int64Index: 13459 entries, 700257 to 761325\n",
      "Data columns (total 25 columns):\n",
      " #   Column                            Non-Null Count  Dtype  \n",
      "---  ------                            --------------  -----  \n",
      " 0   Hospital County                   13459 non-null  int64  \n",
      " 1   Operating Certificate Number      13459 non-null  float64\n",
      " 2   Facility Id                       13459 non-null  float64\n",
      " 3   Age Group                         13459 non-null  int64  \n",
      " 4   Zip Code - 3 digits               13459 non-null  int64  \n",
      " 5   Gender                            13459 non-null  int64  \n",
      " 6   Race                              13459 non-null  int64  \n",
      " 7   Ethnicity                         13459 non-null  int64  \n",
      " 8   Length of Stay                    13458 non-null  float64\n",
      " 9   Type of Admission                 13459 non-null  int64  \n",
      " 10  Patient Disposition               13459 non-null  int64  \n",
      " 11  Discharge Year                    13459 non-null  int64  \n",
      " 12  CCS Diagnosis Code                13459 non-null  int64  \n",
      " 13  CCS Procedure Code                13459 non-null  int64  \n",
      " 14  APR DRG Code                      13459 non-null  int64  \n",
      " 15  APR MDC Code                      13459 non-null  int64  \n",
      " 16  APR Severity of Illness Code      13459 non-null  int64  \n",
      " 17  APR Risk of Mortality             13459 non-null  int64  \n",
      " 18  APR Medical Surgical Description  13459 non-null  int64  \n",
      " 19  Payment Typology 1                13459 non-null  int64  \n",
      " 20  Birth Weight                      13459 non-null  int64  \n",
      " 21  Abortion Edit Indicator           13459 non-null  int64  \n",
      " 22  Emergency Department Indicator    13459 non-null  int64  \n",
      " 23  Total Charges                     13459 non-null  float64\n",
      " 24  Total Costs                       13459 non-null  float64\n",
      "dtypes: float64(5), int64(20)\n",
      "memory usage: 2.7 MB\n"
     ]
    }
   ],
   "source": [
    "Nyack_df.info()"
   ]
  },
  {
   "cell_type": "code",
   "execution_count": 114,
   "id": "89018124",
   "metadata": {
    "execution": {
     "iopub.execute_input": "2023-02-21T12:05:24.881778Z",
     "iopub.status.busy": "2023-02-21T12:05:24.881371Z",
     "iopub.status.idle": "2023-02-21T12:05:24.892773Z",
     "shell.execute_reply": "2023-02-21T12:05:24.891605Z"
    },
    "papermill": {
     "duration": 0.088669,
     "end_time": "2023-02-21T12:05:24.895269",
     "exception": false,
     "start_time": "2023-02-21T12:05:24.806600",
     "status": "completed"
    },
    "tags": []
   },
   "outputs": [],
   "source": [
    "Nyack_df.dropna(inplace=True)"
   ]
  },
  {
   "cell_type": "code",
   "execution_count": 115,
   "id": "4200b92b",
   "metadata": {
    "execution": {
     "iopub.execute_input": "2023-02-21T12:05:25.042093Z",
     "iopub.status.busy": "2023-02-21T12:05:25.041492Z",
     "iopub.status.idle": "2023-02-21T12:05:25.047615Z",
     "shell.execute_reply": "2023-02-21T12:05:25.046597Z"
    },
    "papermill": {
     "duration": 0.083514,
     "end_time": "2023-02-21T12:05:25.049925",
     "exception": false,
     "start_time": "2023-02-21T12:05:24.966411",
     "status": "completed"
    },
    "tags": []
   },
   "outputs": [],
   "source": [
    "x = Nyack_df.drop([\"Length of Stay\"], axis =1)\n",
    "y = Nyack_df[\"Length of Stay\"]"
   ]
  },
  {
   "cell_type": "code",
   "execution_count": 116,
   "id": "e51ca731",
   "metadata": {
    "execution": {
     "iopub.execute_input": "2023-02-21T12:05:25.200017Z",
     "iopub.status.busy": "2023-02-21T12:05:25.199338Z",
     "iopub.status.idle": "2023-02-21T12:05:25.210203Z",
     "shell.execute_reply": "2023-02-21T12:05:25.208212Z"
    },
    "papermill": {
     "duration": 0.091442,
     "end_time": "2023-02-21T12:05:25.213940",
     "exception": false,
     "start_time": "2023-02-21T12:05:25.122498",
     "status": "completed"
    },
    "tags": []
   },
   "outputs": [],
   "source": [
    "x_train, x_test, y_train, y_test = train_test_split(x, y, test_size=0.3, random_state=42)"
   ]
  },
  {
   "cell_type": "code",
   "execution_count": 117,
   "id": "364b2601",
   "metadata": {
    "execution": {
     "iopub.execute_input": "2023-02-21T12:05:25.367595Z",
     "iopub.status.busy": "2023-02-21T12:05:25.367189Z",
     "iopub.status.idle": "2023-02-21T12:05:25.392556Z",
     "shell.execute_reply": "2023-02-21T12:05:25.390666Z"
    },
    "papermill": {
     "duration": 0.106505,
     "end_time": "2023-02-21T12:05:25.397665",
     "exception": false,
     "start_time": "2023-02-21T12:05:25.291160",
     "status": "completed"
    },
    "tags": []
   },
   "outputs": [],
   "source": [
    "# Linear Regression\n",
    "\n",
    "LR = LinearRegression()\n",
    "LR.fit(x_train, y_train)\n",
    "LR.score(x_train, y_train)\n",
    "y_pred =LR.predict(x_test)"
   ]
  },
  {
   "cell_type": "code",
   "execution_count": 118,
   "id": "a46bb3ec",
   "metadata": {
    "execution": {
     "iopub.execute_input": "2023-02-21T12:05:25.616726Z",
     "iopub.status.busy": "2023-02-21T12:05:25.616302Z",
     "iopub.status.idle": "2023-02-21T12:05:25.624639Z",
     "shell.execute_reply": "2023-02-21T12:05:25.623487Z"
    },
    "papermill": {
     "duration": 0.08425,
     "end_time": "2023-02-21T12:05:25.626961",
     "exception": false,
     "start_time": "2023-02-21T12:05:25.542711",
     "status": "completed"
    },
    "tags": []
   },
   "outputs": [
    {
     "data": {
      "text/plain": [
       "0.8349891359205954"
      ]
     },
     "execution_count": 118,
     "metadata": {},
     "output_type": "execute_result"
    }
   ],
   "source": [
    "r2 = r2_score(y_test, y_pred)\n",
    "r2 \n"
   ]
  },
  {
   "cell_type": "code",
   "execution_count": 119,
   "id": "2f323a24",
   "metadata": {
    "execution": {
     "iopub.execute_input": "2023-02-21T12:05:25.774406Z",
     "iopub.status.busy": "2023-02-21T12:05:25.773738Z",
     "iopub.status.idle": "2023-02-21T12:05:25.780652Z",
     "shell.execute_reply": "2023-02-21T12:05:25.779620Z"
    },
    "papermill": {
     "duration": 0.083655,
     "end_time": "2023-02-21T12:05:25.783001",
     "exception": false,
     "start_time": "2023-02-21T12:05:25.699346",
     "status": "completed"
    },
    "tags": []
   },
   "outputs": [
    {
     "data": {
      "text/plain": [
       "1.3344919646969073"
      ]
     },
     "execution_count": 119,
     "metadata": {},
     "output_type": "execute_result"
    }
   ],
   "source": [
    "# calculate the MAE of the model\n",
    "mae = mean_absolute_error(y_test, y_pred)\n",
    "mae"
   ]
  },
  {
   "cell_type": "code",
   "execution_count": 120,
   "id": "10f61f26",
   "metadata": {
    "execution": {
     "iopub.execute_input": "2023-02-21T12:05:25.930822Z",
     "iopub.status.busy": "2023-02-21T12:05:25.930205Z",
     "iopub.status.idle": "2023-02-21T12:05:25.938046Z",
     "shell.execute_reply": "2023-02-21T12:05:25.936919Z"
    },
    "papermill": {
     "duration": 0.083943,
     "end_time": "2023-02-21T12:05:25.940191",
     "exception": false,
     "start_time": "2023-02-21T12:05:25.856248",
     "status": "completed"
    },
    "tags": []
   },
   "outputs": [
    {
     "data": {
      "text/plain": [
       "5.8475935175546985"
      ]
     },
     "execution_count": 120,
     "metadata": {},
     "output_type": "execute_result"
    }
   ],
   "source": [
    "# calculate the MSE of the model\n",
    "mse = mean_squared_error(y_test, y_pred)\n",
    "mse"
   ]
  },
  {
   "cell_type": "code",
   "execution_count": 121,
   "id": "f87b2db4",
   "metadata": {
    "execution": {
     "iopub.execute_input": "2023-02-21T12:05:26.088291Z",
     "iopub.status.busy": "2023-02-21T12:05:26.086899Z",
     "iopub.status.idle": "2023-02-21T12:05:26.094592Z",
     "shell.execute_reply": "2023-02-21T12:05:26.093308Z"
    },
    "papermill": {
     "duration": 0.083727,
     "end_time": "2023-02-21T12:05:26.097096",
     "exception": false,
     "start_time": "2023-02-21T12:05:26.013369",
     "status": "completed"
    },
    "tags": []
   },
   "outputs": [
    {
     "data": {
      "text/plain": [
       "2.4181797942987404"
      ]
     },
     "execution_count": 121,
     "metadata": {},
     "output_type": "execute_result"
    }
   ],
   "source": [
    "# calculate the RMSE of the model\n",
    "rmse = np.sqrt(mse)\n",
    "rmse"
   ]
  },
  {
   "cell_type": "code",
   "execution_count": 122,
   "id": "4d4c8f88",
   "metadata": {
    "execution": {
     "iopub.execute_input": "2023-02-21T12:05:26.245116Z",
     "iopub.status.busy": "2023-02-21T12:05:26.244369Z",
     "iopub.status.idle": "2023-02-21T12:05:26.363918Z",
     "shell.execute_reply": "2023-02-21T12:05:26.362230Z"
    },
    "papermill": {
     "duration": 0.198654,
     "end_time": "2023-02-21T12:05:26.368851",
     "exception": false,
     "start_time": "2023-02-21T12:05:26.170197",
     "status": "completed"
    },
    "tags": []
   },
   "outputs": [],
   "source": [
    "# LASSO\n",
    "L1 = linear_model.Lasso()\n",
    "L1.fit(x_train,y_train)\n",
    "y_pred1 = L1.predict(x_test)"
   ]
  },
  {
   "cell_type": "code",
   "execution_count": 123,
   "id": "73306fc4",
   "metadata": {
    "execution": {
     "iopub.execute_input": "2023-02-21T12:05:26.604937Z",
     "iopub.status.busy": "2023-02-21T12:05:26.604478Z",
     "iopub.status.idle": "2023-02-21T12:05:26.613594Z",
     "shell.execute_reply": "2023-02-21T12:05:26.612184Z"
    },
    "papermill": {
     "duration": 0.101886,
     "end_time": "2023-02-21T12:05:26.615946",
     "exception": false,
     "start_time": "2023-02-21T12:05:26.514060",
     "status": "completed"
    },
    "tags": []
   },
   "outputs": [
    {
     "data": {
      "text/plain": [
       "0.8130004942930402"
      ]
     },
     "execution_count": 123,
     "metadata": {},
     "output_type": "execute_result"
    }
   ],
   "source": [
    "r2 = r2_score(y_test, y_pred1)\n",
    "r2 "
   ]
  },
  {
   "cell_type": "code",
   "execution_count": 124,
   "id": "e03f9fad",
   "metadata": {
    "execution": {
     "iopub.execute_input": "2023-02-21T12:05:26.779264Z",
     "iopub.status.busy": "2023-02-21T12:05:26.778287Z",
     "iopub.status.idle": "2023-02-21T12:05:26.787305Z",
     "shell.execute_reply": "2023-02-21T12:05:26.786199Z"
    },
    "papermill": {
     "duration": 0.09284,
     "end_time": "2023-02-21T12:05:26.789588",
     "exception": false,
     "start_time": "2023-02-21T12:05:26.696748",
     "status": "completed"
    },
    "tags": []
   },
   "outputs": [
    {
     "data": {
      "text/plain": [
       "1.371002670909177"
      ]
     },
     "execution_count": 124,
     "metadata": {},
     "output_type": "execute_result"
    }
   ],
   "source": [
    "# calculate the MAE of the model\n",
    "mae = mean_absolute_error(y_test, y_pred1)\n",
    "mae"
   ]
  },
  {
   "cell_type": "code",
   "execution_count": 125,
   "id": "a78a2653",
   "metadata": {
    "execution": {
     "iopub.execute_input": "2023-02-21T12:05:26.951553Z",
     "iopub.status.busy": "2023-02-21T12:05:26.951103Z",
     "iopub.status.idle": "2023-02-21T12:05:26.960026Z",
     "shell.execute_reply": "2023-02-21T12:05:26.958976Z"
    },
    "papermill": {
     "duration": 0.088147,
     "end_time": "2023-02-21T12:05:26.962627",
     "exception": false,
     "start_time": "2023-02-21T12:05:26.874480",
     "status": "completed"
    },
    "tags": []
   },
   "outputs": [
    {
     "data": {
      "text/plain": [
       "6.626818806498411"
      ]
     },
     "execution_count": 125,
     "metadata": {},
     "output_type": "execute_result"
    }
   ],
   "source": [
    "# calculate the MSE of the model\n",
    "mse = mean_squared_error(y_test, y_pred1)\n",
    "mse"
   ]
  },
  {
   "cell_type": "code",
   "execution_count": 126,
   "id": "d6eb6d9e",
   "metadata": {
    "execution": {
     "iopub.execute_input": "2023-02-21T12:05:27.118028Z",
     "iopub.status.busy": "2023-02-21T12:05:27.117271Z",
     "iopub.status.idle": "2023-02-21T12:05:27.124434Z",
     "shell.execute_reply": "2023-02-21T12:05:27.123433Z"
    },
    "papermill": {
     "duration": 0.083557,
     "end_time": "2023-02-21T12:05:27.126616",
     "exception": false,
     "start_time": "2023-02-21T12:05:27.043059",
     "status": "completed"
    },
    "tags": []
   },
   "outputs": [
    {
     "data": {
      "text/plain": [
       "2.574260827208154"
      ]
     },
     "execution_count": 126,
     "metadata": {},
     "output_type": "execute_result"
    }
   ],
   "source": [
    "# calculate the RMSE of the model\n",
    "rmse = np.sqrt(mse)\n",
    "rmse"
   ]
  },
  {
   "cell_type": "code",
   "execution_count": 127,
   "id": "66dfe727",
   "metadata": {
    "execution": {
     "iopub.execute_input": "2023-02-21T12:05:27.275948Z",
     "iopub.status.busy": "2023-02-21T12:05:27.275178Z",
     "iopub.status.idle": "2023-02-21T12:05:27.300475Z",
     "shell.execute_reply": "2023-02-21T12:05:27.299237Z"
    },
    "papermill": {
     "duration": 0.105353,
     "end_time": "2023-02-21T12:05:27.304974",
     "exception": false,
     "start_time": "2023-02-21T12:05:27.199621",
     "status": "completed"
    },
    "tags": []
   },
   "outputs": [],
   "source": [
    "# Ridge\n",
    "L2 = Ridge(alpha=1.0)\n",
    "L2.fit(x_train, y_train) \n",
    "y_pred3 = L2.predict(x_test)"
   ]
  },
  {
   "cell_type": "code",
   "execution_count": 128,
   "id": "a9df5b87",
   "metadata": {
    "execution": {
     "iopub.execute_input": "2023-02-21T12:05:27.536507Z",
     "iopub.status.busy": "2023-02-21T12:05:27.535311Z",
     "iopub.status.idle": "2023-02-21T12:05:27.543864Z",
     "shell.execute_reply": "2023-02-21T12:05:27.542880Z"
    },
    "papermill": {
     "duration": 0.084662,
     "end_time": "2023-02-21T12:05:27.546010",
     "exception": false,
     "start_time": "2023-02-21T12:05:27.461348",
     "status": "completed"
    },
    "tags": []
   },
   "outputs": [
    {
     "data": {
      "text/plain": [
       "0.8349875922803607"
      ]
     },
     "execution_count": 128,
     "metadata": {},
     "output_type": "execute_result"
    }
   ],
   "source": [
    "r2 = r2_score(y_test, y_pred3)\n",
    "r2 "
   ]
  },
  {
   "cell_type": "code",
   "execution_count": 129,
   "id": "16e2fcd9",
   "metadata": {
    "execution": {
     "iopub.execute_input": "2023-02-21T12:05:27.700162Z",
     "iopub.status.busy": "2023-02-21T12:05:27.699278Z",
     "iopub.status.idle": "2023-02-21T12:05:27.707664Z",
     "shell.execute_reply": "2023-02-21T12:05:27.706409Z"
    },
    "papermill": {
     "duration": 0.088067,
     "end_time": "2023-02-21T12:05:27.710333",
     "exception": false,
     "start_time": "2023-02-21T12:05:27.622266",
     "status": "completed"
    },
    "tags": []
   },
   "outputs": [
    {
     "data": {
      "text/plain": [
       "1.3343143263471502"
      ]
     },
     "execution_count": 129,
     "metadata": {},
     "output_type": "execute_result"
    }
   ],
   "source": [
    "# calculate the MAE of the model\n",
    "mae = mean_absolute_error(y_test, y_pred3)\n",
    "mae"
   ]
  },
  {
   "cell_type": "code",
   "execution_count": 130,
   "id": "2a27fcfc",
   "metadata": {
    "execution": {
     "iopub.execute_input": "2023-02-21T12:05:27.860866Z",
     "iopub.status.busy": "2023-02-21T12:05:27.860446Z",
     "iopub.status.idle": "2023-02-21T12:05:27.868925Z",
     "shell.execute_reply": "2023-02-21T12:05:27.867899Z"
    },
    "papermill": {
     "duration": 0.086368,
     "end_time": "2023-02-21T12:05:27.871047",
     "exception": false,
     "start_time": "2023-02-21T12:05:27.784679",
     "status": "completed"
    },
    "tags": []
   },
   "outputs": [
    {
     "data": {
      "text/plain": [
       "5.847648220502174"
      ]
     },
     "execution_count": 130,
     "metadata": {},
     "output_type": "execute_result"
    }
   ],
   "source": [
    "# calculate the MSE of the model\n",
    "mse = mean_squared_error(y_test, y_pred3)\n",
    "mse"
   ]
  },
  {
   "cell_type": "code",
   "execution_count": 131,
   "id": "0c7cc0a7",
   "metadata": {
    "execution": {
     "iopub.execute_input": "2023-02-21T12:05:28.024087Z",
     "iopub.status.busy": "2023-02-21T12:05:28.023415Z",
     "iopub.status.idle": "2023-02-21T12:05:28.030538Z",
     "shell.execute_reply": "2023-02-21T12:05:28.028966Z"
    },
    "papermill": {
     "duration": 0.085965,
     "end_time": "2023-02-21T12:05:28.032867",
     "exception": false,
     "start_time": "2023-02-21T12:05:27.946902",
     "status": "completed"
    },
    "tags": []
   },
   "outputs": [
    {
     "data": {
      "text/plain": [
       "2.418191105041571"
      ]
     },
     "execution_count": 131,
     "metadata": {},
     "output_type": "execute_result"
    }
   ],
   "source": [
    "# calculate the RMSE of the model\n",
    "rmse = np.sqrt(mse)\n",
    "rmse"
   ]
  },
  {
   "cell_type": "markdown",
   "id": "f1eeb80e",
   "metadata": {
    "papermill": {
     "duration": 0.07514,
     "end_time": "2023-02-21T12:05:28.181859",
     "exception": false,
     "start_time": "2023-02-21T12:05:28.106719",
     "status": "completed"
    },
    "tags": []
   },
   "source": [
    "Client 10: Mount St Marys Hospital"
   ]
  },
  {
   "cell_type": "code",
   "execution_count": 132,
   "id": "5c968068",
   "metadata": {
    "execution": {
     "iopub.execute_input": "2023-02-21T12:05:28.333077Z",
     "iopub.status.busy": "2023-02-21T12:05:28.332658Z",
     "iopub.status.idle": "2023-02-21T12:05:28.490334Z",
     "shell.execute_reply": "2023-02-21T12:05:28.489104Z"
    },
    "papermill": {
     "duration": 0.236053,
     "end_time": "2023-02-21T12:05:28.492951",
     "exception": false,
     "start_time": "2023-02-21T12:05:28.256898",
     "status": "completed"
    },
    "tags": []
   },
   "outputs": [],
   "source": [
    "#Mount St Marys Hospital and Health Center\n",
    "Mount_df=df[df[\"Facility Name\"]== 'Mount St Marys Hospital and Health Center']"
   ]
  },
  {
   "cell_type": "code",
   "execution_count": 133,
   "id": "2a68b0b0",
   "metadata": {
    "execution": {
     "iopub.execute_input": "2023-02-21T12:05:28.643067Z",
     "iopub.status.busy": "2023-02-21T12:05:28.642631Z",
     "iopub.status.idle": "2023-02-21T12:05:28.664325Z",
     "shell.execute_reply": "2023-02-21T12:05:28.662686Z"
    },
    "papermill": {
     "duration": 0.099895,
     "end_time": "2023-02-21T12:05:28.667163",
     "exception": false,
     "start_time": "2023-02-21T12:05:28.567268",
     "status": "completed"
    },
    "tags": []
   },
   "outputs": [
    {
     "name": "stdout",
     "output_type": "stream",
     "text": [
      "<class 'pandas.core.frame.DataFrame'>\n",
      "Int64Index: 5314 entries, 138563 to 143964\n",
      "Data columns (total 28 columns):\n",
      " #   Column                            Non-Null Count  Dtype   \n",
      "---  ------                            --------------  -----   \n",
      " 0   Hospital County                   5314 non-null   category\n",
      " 1   Operating Certificate Number      5314 non-null   float64 \n",
      " 2   Facility Id                       5314 non-null   float64 \n",
      " 3   Facility Name                     5314 non-null   object  \n",
      " 4   Age Group                         5314 non-null   category\n",
      " 5   Zip Code - 3 digits               5267 non-null   category\n",
      " 6   Gender                            5314 non-null   category\n",
      " 7   Race                              5314 non-null   category\n",
      " 8   Ethnicity                         5314 non-null   category\n",
      " 9   Length of Stay                    5314 non-null   category\n",
      " 10  Type of Admission                 5314 non-null   category\n",
      " 11  Patient Disposition               5314 non-null   category\n",
      " 12  Discharge Year                    5314 non-null   int64   \n",
      " 13  CCS Diagnosis Code                5314 non-null   int64   \n",
      " 14  CCS Procedure Code                5314 non-null   int64   \n",
      " 15  APR DRG Code                      5314 non-null   int64   \n",
      " 16  APR MDC Code                      5314 non-null   int64   \n",
      " 17  APR Severity of Illness Code      5314 non-null   int64   \n",
      " 18  APR Risk of Mortality             5314 non-null   category\n",
      " 19  APR Medical Surgical Description  5314 non-null   category\n",
      " 20  Payment Typology 1                5314 non-null   category\n",
      " 21  Payment Typology 2                2876 non-null   category\n",
      " 22  Payment Typology 3                327 non-null    category\n",
      " 23  Birth Weight                      5314 non-null   int64   \n",
      " 24  Abortion Edit Indicator           5314 non-null   category\n",
      " 25  Emergency Department Indicator    5314 non-null   category\n",
      " 26  Total Charges                     5314 non-null   float64 \n",
      " 27  Total Costs                       5314 non-null   float64 \n",
      "dtypes: category(16), float64(4), int64(7), object(1)\n",
      "memory usage: 646.0+ KB\n"
     ]
    }
   ],
   "source": [
    "Mount_df.info()\n"
   ]
  },
  {
   "cell_type": "code",
   "execution_count": 134,
   "id": "472f22d0",
   "metadata": {
    "execution": {
     "iopub.execute_input": "2023-02-21T12:05:28.820406Z",
     "iopub.status.busy": "2023-02-21T12:05:28.820002Z",
     "iopub.status.idle": "2023-02-21T12:05:28.827045Z",
     "shell.execute_reply": "2023-02-21T12:05:28.825624Z"
    },
    "papermill": {
     "duration": 0.086702,
     "end_time": "2023-02-21T12:05:28.830011",
     "exception": false,
     "start_time": "2023-02-21T12:05:28.743309",
     "status": "completed"
    },
    "tags": []
   },
   "outputs": [],
   "source": [
    "Mount_df = Mount_df.drop(\"Facility Name\", axis=1)\n"
   ]
  },
  {
   "cell_type": "code",
   "execution_count": 135,
   "id": "c172e32c",
   "metadata": {
    "execution": {
     "iopub.execute_input": "2023-02-21T12:05:28.990000Z",
     "iopub.status.busy": "2023-02-21T12:05:28.989581Z",
     "iopub.status.idle": "2023-02-21T12:05:28.997757Z",
     "shell.execute_reply": "2023-02-21T12:05:28.996897Z"
    },
    "papermill": {
     "duration": 0.089789,
     "end_time": "2023-02-21T12:05:29",
     "exception": false,
     "start_time": "2023-02-21T12:05:28.910211",
     "status": "completed"
    },
    "tags": []
   },
   "outputs": [],
   "source": [
    " #   simple mapping on binary features.\n",
    "Mount_df['Abortion Edit Indicator'] = Mount_df['Abortion Edit Indicator'].apply(\n",
    "     lambda x: 1 if x == 'Y' else (0 if x == 'N' else None))\n",
    "Mount_df['Emergency Department Indicator'] = Mount_df['Emergency Department Indicator'].apply(\n",
    "    lambda x: 1 if x == 'Y' else (0 if x == 'N' else None))"
   ]
  },
  {
   "cell_type": "code",
   "execution_count": 136,
   "id": "043b689f",
   "metadata": {
    "execution": {
     "iopub.execute_input": "2023-02-21T12:05:29.151397Z",
     "iopub.status.busy": "2023-02-21T12:05:29.150952Z",
     "iopub.status.idle": "2023-02-21T12:05:29.160970Z",
     "shell.execute_reply": "2023-02-21T12:05:29.159697Z"
    },
    "papermill": {
     "duration": 0.088153,
     "end_time": "2023-02-21T12:05:29.163366",
     "exception": false,
     "start_time": "2023-02-21T12:05:29.075213",
     "status": "completed"
    },
    "tags": []
   },
   "outputs": [],
   "source": [
    "Mount_df[\"Length of Stay\"]=pd.to_numeric(Mount_df[\"Length of Stay\"],errors='coerce')"
   ]
  },
  {
   "cell_type": "code",
   "execution_count": 137,
   "id": "f273ab4c",
   "metadata": {
    "execution": {
     "iopub.execute_input": "2023-02-21T12:05:29.313915Z",
     "iopub.status.busy": "2023-02-21T12:05:29.313207Z",
     "iopub.status.idle": "2023-02-21T12:05:29.344293Z",
     "shell.execute_reply": "2023-02-21T12:05:29.343441Z"
    },
    "papermill": {
     "duration": 0.110352,
     "end_time": "2023-02-21T12:05:29.346941",
     "exception": false,
     "start_time": "2023-02-21T12:05:29.236589",
     "status": "completed"
    },
    "tags": []
   },
   "outputs": [],
   "source": [
    "list=  [ \"Hospital County\",\"Age Group\"\n",
    "    ,\"Gender\",   \n",
    " \"Race\" , \n",
    "\"Ethnicity\", \n",
    "\"Gender\" , \n",
    "\"Race\" ,    \n",
    " \"Ethnicity\" ,        \n",
    " \"Type of Admission\"  ,  \n",
    "  \"Patient Disposition\",      \n",
    " \"Type of Admission\" ,  \n",
    " \"Patient Disposition\"  ,\n",
    "  \"APR Risk of Mortality\" ,   \n",
    " \"APR Medical Surgical Description\" ,\n",
    " \"Payment Typology 1\"   ,   \n",
    " \"Abortion Edit Indicator\"     ,  \n",
    " \"Emergency Department Indicator\",\n",
    "       \"Zip Code - 3 digits\"]  \n",
    "\n",
    "# Import label encoder\n",
    "from sklearn import preprocessing\n",
    "  \n",
    "# label_encoder object knows how to understand word labels.\n",
    "label_encoder = preprocessing.LabelEncoder()\n",
    "  \n",
    "# Encode labels in column 'species'.\n",
    "for col in list :\n",
    "  Mount_df[col]= label_encoder.fit_transform(Mount_df[col])"
   ]
  },
  {
   "cell_type": "code",
   "execution_count": 138,
   "id": "b7d006f4",
   "metadata": {
    "execution": {
     "iopub.execute_input": "2023-02-21T12:05:29.493772Z",
     "iopub.status.busy": "2023-02-21T12:05:29.493375Z",
     "iopub.status.idle": "2023-02-21T12:05:29.510409Z",
     "shell.execute_reply": "2023-02-21T12:05:29.509174Z"
    },
    "papermill": {
     "duration": 0.093204,
     "end_time": "2023-02-21T12:05:29.512835",
     "exception": false,
     "start_time": "2023-02-21T12:05:29.419631",
     "status": "completed"
    },
    "tags": []
   },
   "outputs": [
    {
     "name": "stdout",
     "output_type": "stream",
     "text": [
      "<class 'pandas.core.frame.DataFrame'>\n",
      "Int64Index: 5314 entries, 138563 to 143964\n",
      "Data columns (total 27 columns):\n",
      " #   Column                            Non-Null Count  Dtype   \n",
      "---  ------                            --------------  -----   \n",
      " 0   Hospital County                   5314 non-null   int64   \n",
      " 1   Operating Certificate Number      5314 non-null   float64 \n",
      " 2   Facility Id                       5314 non-null   float64 \n",
      " 3   Age Group                         5314 non-null   int64   \n",
      " 4   Zip Code - 3 digits               5314 non-null   int64   \n",
      " 5   Gender                            5314 non-null   int64   \n",
      " 6   Race                              5314 non-null   int64   \n",
      " 7   Ethnicity                         5314 non-null   int64   \n",
      " 8   Length of Stay                    5314 non-null   int64   \n",
      " 9   Type of Admission                 5314 non-null   int64   \n",
      " 10  Patient Disposition               5314 non-null   int64   \n",
      " 11  Discharge Year                    5314 non-null   int64   \n",
      " 12  CCS Diagnosis Code                5314 non-null   int64   \n",
      " 13  CCS Procedure Code                5314 non-null   int64   \n",
      " 14  APR DRG Code                      5314 non-null   int64   \n",
      " 15  APR MDC Code                      5314 non-null   int64   \n",
      " 16  APR Severity of Illness Code      5314 non-null   int64   \n",
      " 17  APR Risk of Mortality             5314 non-null   int64   \n",
      " 18  APR Medical Surgical Description  5314 non-null   int64   \n",
      " 19  Payment Typology 1                5314 non-null   int64   \n",
      " 20  Payment Typology 2                2876 non-null   category\n",
      " 21  Payment Typology 3                327 non-null    category\n",
      " 22  Birth Weight                      5314 non-null   int64   \n",
      " 23  Abortion Edit Indicator           5314 non-null   int64   \n",
      " 24  Emergency Department Indicator    5314 non-null   int64   \n",
      " 25  Total Charges                     5314 non-null   float64 \n",
      " 26  Total Costs                       5314 non-null   float64 \n",
      "dtypes: category(2), float64(4), int64(21)\n",
      "memory usage: 1.1 MB\n"
     ]
    }
   ],
   "source": [
    "Mount_df.info()"
   ]
  },
  {
   "cell_type": "code",
   "execution_count": 139,
   "id": "0b203fc0",
   "metadata": {
    "execution": {
     "iopub.execute_input": "2023-02-21T12:05:29.717317Z",
     "iopub.status.busy": "2023-02-21T12:05:29.716907Z",
     "iopub.status.idle": "2023-02-21T12:05:29.724551Z",
     "shell.execute_reply": "2023-02-21T12:05:29.723457Z"
    },
    "papermill": {
     "duration": 0.140974,
     "end_time": "2023-02-21T12:05:29.727316",
     "exception": false,
     "start_time": "2023-02-21T12:05:29.586342",
     "status": "completed"
    },
    "tags": []
   },
   "outputs": [],
   "source": [
    "Mount_df = Mount_df.drop([\"Payment Typology 2\",    \"Payment Typology 3\"], axis=1)\n"
   ]
  },
  {
   "cell_type": "code",
   "execution_count": 140,
   "id": "f99ed494",
   "metadata": {
    "execution": {
     "iopub.execute_input": "2023-02-21T12:05:29.876337Z",
     "iopub.status.busy": "2023-02-21T12:05:29.875226Z",
     "iopub.status.idle": "2023-02-21T12:05:29.881630Z",
     "shell.execute_reply": "2023-02-21T12:05:29.880780Z"
    },
    "papermill": {
     "duration": 0.083417,
     "end_time": "2023-02-21T12:05:29.883699",
     "exception": false,
     "start_time": "2023-02-21T12:05:29.800282",
     "status": "completed"
    },
    "tags": []
   },
   "outputs": [],
   "source": [
    "x = Mount_df.drop([\"Length of Stay\"], axis =1)\n",
    "y = Mount_df[\"Length of Stay\"]"
   ]
  },
  {
   "cell_type": "code",
   "execution_count": 141,
   "id": "b168791b",
   "metadata": {
    "execution": {
     "iopub.execute_input": "2023-02-21T12:05:30.032378Z",
     "iopub.status.busy": "2023-02-21T12:05:30.031458Z",
     "iopub.status.idle": "2023-02-21T12:05:30.039753Z",
     "shell.execute_reply": "2023-02-21T12:05:30.038888Z"
    },
    "papermill": {
     "duration": 0.085613,
     "end_time": "2023-02-21T12:05:30.042197",
     "exception": false,
     "start_time": "2023-02-21T12:05:29.956584",
     "status": "completed"
    },
    "tags": []
   },
   "outputs": [],
   "source": [
    "x_train, x_test, y_train, y_test = train_test_split(x, y, test_size=0.3, random_state=42)"
   ]
  },
  {
   "cell_type": "code",
   "execution_count": 142,
   "id": "f3ea3b17",
   "metadata": {
    "execution": {
     "iopub.execute_input": "2023-02-21T12:05:30.194109Z",
     "iopub.status.busy": "2023-02-21T12:05:30.193480Z",
     "iopub.status.idle": "2023-02-21T12:05:30.214836Z",
     "shell.execute_reply": "2023-02-21T12:05:30.213198Z"
    },
    "papermill": {
     "duration": 0.102992,
     "end_time": "2023-02-21T12:05:30.219340",
     "exception": false,
     "start_time": "2023-02-21T12:05:30.116348",
     "status": "completed"
    },
    "tags": []
   },
   "outputs": [],
   "source": [
    "# Linear Regression\n",
    "\n",
    "LR = LinearRegression()\n",
    "LR.fit(x_train, y_train)\n",
    "LR.score(x_train, y_train)\n",
    "y_pred =LR.predict(x_test)"
   ]
  },
  {
   "cell_type": "code",
   "execution_count": 143,
   "id": "c4a9f2ed",
   "metadata": {
    "execution": {
     "iopub.execute_input": "2023-02-21T12:05:30.439931Z",
     "iopub.status.busy": "2023-02-21T12:05:30.439555Z",
     "iopub.status.idle": "2023-02-21T12:05:30.448275Z",
     "shell.execute_reply": "2023-02-21T12:05:30.447077Z"
    },
    "papermill": {
     "duration": 0.085446,
     "end_time": "2023-02-21T12:05:30.450824",
     "exception": false,
     "start_time": "2023-02-21T12:05:30.365378",
     "status": "completed"
    },
    "tags": []
   },
   "outputs": [
    {
     "data": {
      "text/plain": [
       "0.8493645328400692"
      ]
     },
     "execution_count": 143,
     "metadata": {},
     "output_type": "execute_result"
    }
   ],
   "source": [
    "r2 = r2_score(y_test, y_pred)\n",
    "r2 \n"
   ]
  },
  {
   "cell_type": "code",
   "execution_count": 144,
   "id": "030fe533",
   "metadata": {
    "execution": {
     "iopub.execute_input": "2023-02-21T12:05:30.599565Z",
     "iopub.status.busy": "2023-02-21T12:05:30.598910Z",
     "iopub.status.idle": "2023-02-21T12:05:30.606688Z",
     "shell.execute_reply": "2023-02-21T12:05:30.605441Z"
    },
    "papermill": {
     "duration": 0.084522,
     "end_time": "2023-02-21T12:05:30.608993",
     "exception": false,
     "start_time": "2023-02-21T12:05:30.524471",
     "status": "completed"
    },
    "tags": []
   },
   "outputs": [
    {
     "data": {
      "text/plain": [
       "1.5751957484784673"
      ]
     },
     "execution_count": 144,
     "metadata": {},
     "output_type": "execute_result"
    }
   ],
   "source": [
    "# calculate the MAE of the model\n",
    "mae = mean_absolute_error(y_test, y_pred)\n",
    "mae"
   ]
  },
  {
   "cell_type": "code",
   "execution_count": 145,
   "id": "f3bbbb25",
   "metadata": {
    "execution": {
     "iopub.execute_input": "2023-02-21T12:05:30.758170Z",
     "iopub.status.busy": "2023-02-21T12:05:30.757740Z",
     "iopub.status.idle": "2023-02-21T12:05:30.766040Z",
     "shell.execute_reply": "2023-02-21T12:05:30.764874Z"
    },
    "papermill": {
     "duration": 0.084731,
     "end_time": "2023-02-21T12:05:30.768313",
     "exception": false,
     "start_time": "2023-02-21T12:05:30.683582",
     "status": "completed"
    },
    "tags": []
   },
   "outputs": [
    {
     "data": {
      "text/plain": [
       "5.420550398990118"
      ]
     },
     "execution_count": 145,
     "metadata": {},
     "output_type": "execute_result"
    }
   ],
   "source": [
    "# calculate the MSE of the model\n",
    "mse = mean_squared_error(y_test, y_pred)\n",
    "mse"
   ]
  },
  {
   "cell_type": "code",
   "execution_count": 146,
   "id": "6a408c03",
   "metadata": {
    "execution": {
     "iopub.execute_input": "2023-02-21T12:05:30.916782Z",
     "iopub.status.busy": "2023-02-21T12:05:30.916113Z",
     "iopub.status.idle": "2023-02-21T12:05:30.923176Z",
     "shell.execute_reply": "2023-02-21T12:05:30.922197Z"
    },
    "papermill": {
     "duration": 0.083574,
     "end_time": "2023-02-21T12:05:30.925489",
     "exception": false,
     "start_time": "2023-02-21T12:05:30.841915",
     "status": "completed"
    },
    "tags": []
   },
   "outputs": [
    {
     "data": {
      "text/plain": [
       "2.328207550668565"
      ]
     },
     "execution_count": 146,
     "metadata": {},
     "output_type": "execute_result"
    }
   ],
   "source": [
    "# calculate the RMSE of the model\n",
    "rmse = np.sqrt(mse)\n",
    "rmse"
   ]
  },
  {
   "cell_type": "code",
   "execution_count": 147,
   "id": "d731b0d2",
   "metadata": {
    "execution": {
     "iopub.execute_input": "2023-02-21T12:05:31.074874Z",
     "iopub.status.busy": "2023-02-21T12:05:31.074209Z",
     "iopub.status.idle": "2023-02-21T12:05:31.108349Z",
     "shell.execute_reply": "2023-02-21T12:05:31.106624Z"
    },
    "papermill": {
     "duration": 0.114343,
     "end_time": "2023-02-21T12:05:31.113284",
     "exception": false,
     "start_time": "2023-02-21T12:05:30.998941",
     "status": "completed"
    },
    "tags": []
   },
   "outputs": [],
   "source": [
    "# LASSO\n",
    "L1 = linear_model.Lasso()\n",
    "L1.fit(x_train,y_train)\n",
    "y_pred1 = L1.predict(x_test)"
   ]
  },
  {
   "cell_type": "code",
   "execution_count": 148,
   "id": "51d58811",
   "metadata": {
    "execution": {
     "iopub.execute_input": "2023-02-21T12:05:31.335354Z",
     "iopub.status.busy": "2023-02-21T12:05:31.334910Z",
     "iopub.status.idle": "2023-02-21T12:05:31.343191Z",
     "shell.execute_reply": "2023-02-21T12:05:31.342068Z"
    },
    "papermill": {
     "duration": 0.086014,
     "end_time": "2023-02-21T12:05:31.345582",
     "exception": false,
     "start_time": "2023-02-21T12:05:31.259568",
     "status": "completed"
    },
    "tags": []
   },
   "outputs": [
    {
     "data": {
      "text/plain": [
       "0.8032059655994213"
      ]
     },
     "execution_count": 148,
     "metadata": {},
     "output_type": "execute_result"
    }
   ],
   "source": [
    "r2 = r2_score(y_test, y_pred1)\n",
    "r2 \n"
   ]
  },
  {
   "cell_type": "code",
   "execution_count": 149,
   "id": "a9a30aab",
   "metadata": {
    "execution": {
     "iopub.execute_input": "2023-02-21T12:05:31.494197Z",
     "iopub.status.busy": "2023-02-21T12:05:31.493440Z",
     "iopub.status.idle": "2023-02-21T12:05:31.500639Z",
     "shell.execute_reply": "2023-02-21T12:05:31.499521Z"
    },
    "papermill": {
     "duration": 0.083924,
     "end_time": "2023-02-21T12:05:31.502892",
     "exception": false,
     "start_time": "2023-02-21T12:05:31.418968",
     "status": "completed"
    },
    "tags": []
   },
   "outputs": [
    {
     "data": {
      "text/plain": [
       "7.081545945327565"
      ]
     },
     "execution_count": 149,
     "metadata": {},
     "output_type": "execute_result"
    }
   ],
   "source": [
    "# calculate the MSE of the model\n",
    "mse = mean_squared_error(y_test, y_pred1)\n",
    "mse"
   ]
  },
  {
   "cell_type": "code",
   "execution_count": 150,
   "id": "07e70765",
   "metadata": {
    "execution": {
     "iopub.execute_input": "2023-02-21T12:05:31.654033Z",
     "iopub.status.busy": "2023-02-21T12:05:31.653312Z",
     "iopub.status.idle": "2023-02-21T12:05:31.659742Z",
     "shell.execute_reply": "2023-02-21T12:05:31.658975Z"
    },
    "papermill": {
     "duration": 0.084538,
     "end_time": "2023-02-21T12:05:31.661874",
     "exception": false,
     "start_time": "2023-02-21T12:05:31.577336",
     "status": "completed"
    },
    "tags": []
   },
   "outputs": [
    {
     "data": {
      "text/plain": [
       "2.6611174241899898"
      ]
     },
     "execution_count": 150,
     "metadata": {},
     "output_type": "execute_result"
    }
   ],
   "source": [
    "# calculate the RMSE of the model\n",
    "rmse = np.sqrt(mse)\n",
    "rmse"
   ]
  },
  {
   "cell_type": "code",
   "execution_count": 151,
   "id": "32cd4ecb",
   "metadata": {
    "execution": {
     "iopub.execute_input": "2023-02-21T12:05:31.813026Z",
     "iopub.status.busy": "2023-02-21T12:05:31.811798Z",
     "iopub.status.idle": "2023-02-21T12:05:31.832362Z",
     "shell.execute_reply": "2023-02-21T12:05:31.830592Z"
    },
    "papermill": {
     "duration": 0.101059,
     "end_time": "2023-02-21T12:05:31.836886",
     "exception": false,
     "start_time": "2023-02-21T12:05:31.735827",
     "status": "completed"
    },
    "tags": []
   },
   "outputs": [],
   "source": [
    "# Ridge\n",
    "L2 = Ridge(alpha=1.0)\n",
    "L2.fit(x_train, y_train) \n",
    "y_pred3 = L2.predict(x_test)"
   ]
  },
  {
   "cell_type": "code",
   "execution_count": 152,
   "id": "d0979910",
   "metadata": {
    "execution": {
     "iopub.execute_input": "2023-02-21T12:05:32.058553Z",
     "iopub.status.busy": "2023-02-21T12:05:32.058144Z",
     "iopub.status.idle": "2023-02-21T12:05:32.066855Z",
     "shell.execute_reply": "2023-02-21T12:05:32.065569Z"
    },
    "papermill": {
     "duration": 0.085824,
     "end_time": "2023-02-21T12:05:32.069165",
     "exception": false,
     "start_time": "2023-02-21T12:05:31.983341",
     "status": "completed"
    },
    "tags": []
   },
   "outputs": [
    {
     "data": {
      "text/plain": [
       "0.8493873434940765"
      ]
     },
     "execution_count": 152,
     "metadata": {},
     "output_type": "execute_result"
    }
   ],
   "source": [
    "r2 = r2_score(y_test, y_pred3)\n",
    "r2 "
   ]
  },
  {
   "cell_type": "code",
   "execution_count": 153,
   "id": "d0179c0d",
   "metadata": {
    "execution": {
     "iopub.execute_input": "2023-02-21T12:05:32.224524Z",
     "iopub.status.busy": "2023-02-21T12:05:32.223522Z",
     "iopub.status.idle": "2023-02-21T12:05:32.232225Z",
     "shell.execute_reply": "2023-02-21T12:05:32.230815Z"
    },
    "papermill": {
     "duration": 0.089512,
     "end_time": "2023-02-21T12:05:32.234865",
     "exception": false,
     "start_time": "2023-02-21T12:05:32.145353",
     "status": "completed"
    },
    "tags": []
   },
   "outputs": [
    {
     "data": {
      "text/plain": [
       "1.5750406339612182"
      ]
     },
     "execution_count": 153,
     "metadata": {},
     "output_type": "execute_result"
    }
   ],
   "source": [
    "# calculate the MAE of the model\n",
    "mae = mean_absolute_error(y_test, y_pred3)\n",
    "mae"
   ]
  },
  {
   "cell_type": "code",
   "execution_count": 154,
   "id": "cd50fad3",
   "metadata": {
    "execution": {
     "iopub.execute_input": "2023-02-21T12:05:32.389206Z",
     "iopub.status.busy": "2023-02-21T12:05:32.388762Z",
     "iopub.status.idle": "2023-02-21T12:05:32.396409Z",
     "shell.execute_reply": "2023-02-21T12:05:32.395221Z"
    },
    "papermill": {
     "duration": 0.08708,
     "end_time": "2023-02-21T12:05:32.398817",
     "exception": false,
     "start_time": "2023-02-21T12:05:32.311737",
     "status": "completed"
    },
    "tags": []
   },
   "outputs": [
    {
     "data": {
      "text/plain": [
       "5.419729567734293"
      ]
     },
     "execution_count": 154,
     "metadata": {},
     "output_type": "execute_result"
    }
   ],
   "source": [
    "# calculate the MSE of the model\n",
    "mse = mean_squared_error(y_test, y_pred3)\n",
    "mse"
   ]
  },
  {
   "cell_type": "code",
   "execution_count": 155,
   "id": "76b53d6f",
   "metadata": {
    "execution": {
     "iopub.execute_input": "2023-02-21T12:05:32.552245Z",
     "iopub.status.busy": "2023-02-21T12:05:32.551790Z",
     "iopub.status.idle": "2023-02-21T12:05:32.559114Z",
     "shell.execute_reply": "2023-02-21T12:05:32.557919Z"
    },
    "papermill": {
     "duration": 0.087874,
     "end_time": "2023-02-21T12:05:32.561599",
     "exception": false,
     "start_time": "2023-02-21T12:05:32.473725",
     "status": "completed"
    },
    "tags": []
   },
   "outputs": [
    {
     "data": {
      "text/plain": [
       "2.328031264337808"
      ]
     },
     "execution_count": 155,
     "metadata": {},
     "output_type": "execute_result"
    }
   ],
   "source": [
    "# calculate the RMSE of the model\n",
    "rmse = np.sqrt(mse)\n",
    "rmse"
   ]
  },
  {
   "cell_type": "markdown",
   "id": "b0526b1e",
   "metadata": {
    "papermill": {
     "duration": 0.075501,
     "end_time": "2023-02-21T12:05:32.712980",
     "exception": false,
     "start_time": "2023-02-21T12:05:32.637479",
     "status": "completed"
    },
    "tags": []
   },
   "source": [
    "Client 5: Buffalo Women & Children’s Hospital 11051\n"
   ]
  },
  {
   "cell_type": "code",
   "execution_count": 156,
   "id": "b3e7efd9",
   "metadata": {
    "execution": {
     "iopub.execute_input": "2023-02-21T12:05:32.867305Z",
     "iopub.status.busy": "2023-02-21T12:05:32.866880Z",
     "iopub.status.idle": "2023-02-21T12:05:33.022023Z",
     "shell.execute_reply": "2023-02-21T12:05:33.020588Z"
    },
    "papermill": {
     "duration": 0.235427,
     "end_time": "2023-02-21T12:05:33.024568",
     "exception": false,
     "start_time": "2023-02-21T12:05:32.789141",
     "status": "completed"
    },
    "tags": []
   },
   "outputs": [],
   "source": [
    "\n",
    "Buffalo_df=df[df[\"Facility Name\"]== \"Women And Children's Hospital Of Buffalo\"]"
   ]
  },
  {
   "cell_type": "code",
   "execution_count": 157,
   "id": "789a69d9",
   "metadata": {
    "execution": {
     "iopub.execute_input": "2023-02-21T12:05:33.175342Z",
     "iopub.status.busy": "2023-02-21T12:05:33.174922Z",
     "iopub.status.idle": "2023-02-21T12:05:33.198138Z",
     "shell.execute_reply": "2023-02-21T12:05:33.196816Z"
    },
    "papermill": {
     "duration": 0.10238,
     "end_time": "2023-02-21T12:05:33.201181",
     "exception": false,
     "start_time": "2023-02-21T12:05:33.098801",
     "status": "completed"
    },
    "tags": []
   },
   "outputs": [
    {
     "name": "stdout",
     "output_type": "stream",
     "text": [
      "<class 'pandas.core.frame.DataFrame'>\n",
      "Int64Index: 13020 entries, 3309 to 54603\n",
      "Data columns (total 28 columns):\n",
      " #   Column                            Non-Null Count  Dtype   \n",
      "---  ------                            --------------  -----   \n",
      " 0   Hospital County                   13020 non-null  category\n",
      " 1   Operating Certificate Number      13020 non-null  float64 \n",
      " 2   Facility Id                       13020 non-null  float64 \n",
      " 3   Facility Name                     13020 non-null  object  \n",
      " 4   Age Group                         13020 non-null  category\n",
      " 5   Zip Code - 3 digits               12941 non-null  category\n",
      " 6   Gender                            13020 non-null  category\n",
      " 7   Race                              13020 non-null  category\n",
      " 8   Ethnicity                         13020 non-null  category\n",
      " 9   Length of Stay                    13020 non-null  category\n",
      " 10  Type of Admission                 13020 non-null  category\n",
      " 11  Patient Disposition               13020 non-null  category\n",
      " 12  Discharge Year                    13020 non-null  int64   \n",
      " 13  CCS Diagnosis Code                13020 non-null  int64   \n",
      " 14  CCS Procedure Code                13020 non-null  int64   \n",
      " 15  APR DRG Code                      13020 non-null  int64   \n",
      " 16  APR MDC Code                      13020 non-null  int64   \n",
      " 17  APR Severity of Illness Code      13020 non-null  int64   \n",
      " 18  APR Risk of Mortality             13020 non-null  category\n",
      " 19  APR Medical Surgical Description  13020 non-null  category\n",
      " 20  Payment Typology 1                13020 non-null  category\n",
      " 21  Payment Typology 2                12947 non-null  category\n",
      " 22  Payment Typology 3                787 non-null    category\n",
      " 23  Birth Weight                      13020 non-null  int64   \n",
      " 24  Abortion Edit Indicator           13020 non-null  category\n",
      " 25  Emergency Department Indicator    13020 non-null  category\n",
      " 26  Total Charges                     13020 non-null  float64 \n",
      " 27  Total Costs                       13020 non-null  float64 \n",
      "dtypes: category(16), float64(4), int64(7), object(1)\n",
      "memory usage: 1.5+ MB\n"
     ]
    }
   ],
   "source": [
    "Buffalo_df.info()"
   ]
  },
  {
   "cell_type": "code",
   "execution_count": 158,
   "id": "fe06fdef",
   "metadata": {
    "execution": {
     "iopub.execute_input": "2023-02-21T12:05:33.358381Z",
     "iopub.status.busy": "2023-02-21T12:05:33.357661Z",
     "iopub.status.idle": "2023-02-21T12:05:33.365288Z",
     "shell.execute_reply": "2023-02-21T12:05:33.363838Z"
    },
    "papermill": {
     "duration": 0.089064,
     "end_time": "2023-02-21T12:05:33.367877",
     "exception": false,
     "start_time": "2023-02-21T12:05:33.278813",
     "status": "completed"
    },
    "tags": []
   },
   "outputs": [],
   "source": [
    "Buffalo_df= Buffalo_df.drop(\"Facility Name\", axis=1)"
   ]
  },
  {
   "cell_type": "code",
   "execution_count": 159,
   "id": "34366bea",
   "metadata": {
    "execution": {
     "iopub.execute_input": "2023-02-21T12:05:33.526442Z",
     "iopub.status.busy": "2023-02-21T12:05:33.526007Z",
     "iopub.status.idle": "2023-02-21T12:05:33.533357Z",
     "shell.execute_reply": "2023-02-21T12:05:33.532232Z"
    },
    "papermill": {
     "duration": 0.090477,
     "end_time": "2023-02-21T12:05:33.535923",
     "exception": false,
     "start_time": "2023-02-21T12:05:33.445446",
     "status": "completed"
    },
    "tags": []
   },
   "outputs": [],
   "source": [
    "Buffalo_df = Buffalo_df.drop([\"Payment Typology 2\",    \"Payment Typology 3\"], axis=1)\n"
   ]
  },
  {
   "cell_type": "code",
   "execution_count": 160,
   "id": "9f2e66e4",
   "metadata": {
    "execution": {
     "iopub.execute_input": "2023-02-21T12:05:33.695573Z",
     "iopub.status.busy": "2023-02-21T12:05:33.695172Z",
     "iopub.status.idle": "2023-02-21T12:05:33.703199Z",
     "shell.execute_reply": "2023-02-21T12:05:33.702315Z"
    },
    "papermill": {
     "duration": 0.091036,
     "end_time": "2023-02-21T12:05:33.705384",
     "exception": false,
     "start_time": "2023-02-21T12:05:33.614348",
     "status": "completed"
    },
    "tags": []
   },
   "outputs": [],
   "source": [
    " #   simple mapping on binary features.\n",
    "Buffalo_df['Abortion Edit Indicator'] = Buffalo_df['Abortion Edit Indicator'].apply(\n",
    "     lambda x: 1 if x == 'Y' else (0 if x == 'N' else None))\n",
    "Buffalo_df['Emergency Department Indicator'] = Buffalo_df['Emergency Department Indicator'].apply(\n",
    "    lambda x: 1 if x == 'Y' else (0 if x == 'N' else None))"
   ]
  },
  {
   "cell_type": "code",
   "execution_count": 161,
   "id": "6878933c",
   "metadata": {
    "execution": {
     "iopub.execute_input": "2023-02-21T12:05:33.859203Z",
     "iopub.status.busy": "2023-02-21T12:05:33.858758Z",
     "iopub.status.idle": "2023-02-21T12:05:33.874246Z",
     "shell.execute_reply": "2023-02-21T12:05:33.873209Z"
    },
    "papermill": {
     "duration": 0.093811,
     "end_time": "2023-02-21T12:05:33.877083",
     "exception": false,
     "start_time": "2023-02-21T12:05:33.783272",
     "status": "completed"
    },
    "tags": []
   },
   "outputs": [],
   "source": [
    "Buffalo_df[\"Length of Stay\"]=pd.to_numeric(Buffalo_df[\"Length of Stay\"],errors='coerce')"
   ]
  },
  {
   "cell_type": "code",
   "execution_count": 162,
   "id": "d4abcc12",
   "metadata": {
    "execution": {
     "iopub.execute_input": "2023-02-21T12:05:34.033727Z",
     "iopub.status.busy": "2023-02-21T12:05:34.033355Z",
     "iopub.status.idle": "2023-02-21T12:05:34.086866Z",
     "shell.execute_reply": "2023-02-21T12:05:34.086000Z"
    },
    "papermill": {
     "duration": 0.134499,
     "end_time": "2023-02-21T12:05:34.089437",
     "exception": false,
     "start_time": "2023-02-21T12:05:33.954938",
     "status": "completed"
    },
    "tags": []
   },
   "outputs": [],
   "source": [
    "list=  [ \"Hospital County\",\"Age Group\"\n",
    "    ,\"Gender\",   \n",
    " \"Race\" , \n",
    "\"Ethnicity\", \n",
    "\"Gender\" , \n",
    "\"Race\" ,    \n",
    " \"Ethnicity\" ,        \n",
    " \"Type of Admission\"  ,  \n",
    "  \"Patient Disposition\",      \n",
    " \"Type of Admission\" ,  \n",
    " \"Patient Disposition\"  ,\n",
    "  \"APR Risk of Mortality\" ,   \n",
    " \"APR Medical Surgical Description\" ,\n",
    " \"Payment Typology 1\"   ,   \n",
    " \"Abortion Edit Indicator\"     ,  \n",
    " \"Emergency Department Indicator\",\n",
    "       \"Zip Code - 3 digits\"]  \n",
    "\n",
    "# Import label encoder\n",
    "from sklearn import preprocessing\n",
    "  \n",
    "# label_encoder object knows how to understand word labels.\n",
    "label_encoder = preprocessing.LabelEncoder()\n",
    "  \n",
    "# Encode labels in column 'species'.\n",
    "for col in list :\n",
    "  Buffalo_df[col]= label_encoder.fit_transform(Buffalo_df[col])"
   ]
  },
  {
   "cell_type": "code",
   "execution_count": 163,
   "id": "3063a1e5",
   "metadata": {
    "execution": {
     "iopub.execute_input": "2023-02-21T12:05:34.242765Z",
     "iopub.status.busy": "2023-02-21T12:05:34.241854Z",
     "iopub.status.idle": "2023-02-21T12:05:34.248035Z",
     "shell.execute_reply": "2023-02-21T12:05:34.247245Z"
    },
    "papermill": {
     "duration": 0.08659,
     "end_time": "2023-02-21T12:05:34.250452",
     "exception": false,
     "start_time": "2023-02-21T12:05:34.163862",
     "status": "completed"
    },
    "tags": []
   },
   "outputs": [],
   "source": [
    "x = Glens_df.drop([\"Length of Stay\"], axis =1)\n",
    "y = Glens_df[\"Length of Stay\"]"
   ]
  },
  {
   "cell_type": "code",
   "execution_count": 164,
   "id": "6be1d8d5",
   "metadata": {
    "execution": {
     "iopub.execute_input": "2023-02-21T12:05:34.431991Z",
     "iopub.status.busy": "2023-02-21T12:05:34.431268Z",
     "iopub.status.idle": "2023-02-21T12:05:34.439961Z",
     "shell.execute_reply": "2023-02-21T12:05:34.438996Z"
    },
    "papermill": {
     "duration": 0.093715,
     "end_time": "2023-02-21T12:05:34.442604",
     "exception": false,
     "start_time": "2023-02-21T12:05:34.348889",
     "status": "completed"
    },
    "tags": []
   },
   "outputs": [],
   "source": [
    "x_train, x_test, y_train, y_test = train_test_split(x, y, test_size=0.3, random_state=42)"
   ]
  },
  {
   "cell_type": "code",
   "execution_count": 165,
   "id": "f12ac1f0",
   "metadata": {
    "execution": {
     "iopub.execute_input": "2023-02-21T12:05:34.594380Z",
     "iopub.status.busy": "2023-02-21T12:05:34.593950Z",
     "iopub.status.idle": "2023-02-21T12:05:34.623158Z",
     "shell.execute_reply": "2023-02-21T12:05:34.621171Z"
    },
    "papermill": {
     "duration": 0.109607,
     "end_time": "2023-02-21T12:05:34.627944",
     "exception": false,
     "start_time": "2023-02-21T12:05:34.518337",
     "status": "completed"
    },
    "tags": []
   },
   "outputs": [],
   "source": [
    "# Linear Regression\n",
    "\n",
    "LR = LinearRegression()\n",
    "LR.fit(x_train, y_train)\n",
    "LR.score(x_train, y_train)\n",
    "y_pred =LR.predict(x_test)"
   ]
  },
  {
   "cell_type": "code",
   "execution_count": 166,
   "id": "176d9e47",
   "metadata": {
    "execution": {
     "iopub.execute_input": "2023-02-21T12:05:34.915533Z",
     "iopub.status.busy": "2023-02-21T12:05:34.915083Z",
     "iopub.status.idle": "2023-02-21T12:05:34.924040Z",
     "shell.execute_reply": "2023-02-21T12:05:34.922930Z"
    },
    "papermill": {
     "duration": 0.148579,
     "end_time": "2023-02-21T12:05:34.926356",
     "exception": false,
     "start_time": "2023-02-21T12:05:34.777777",
     "status": "completed"
    },
    "tags": []
   },
   "outputs": [
    {
     "data": {
      "text/plain": [
       "0.7753107229320534"
      ]
     },
     "execution_count": 166,
     "metadata": {},
     "output_type": "execute_result"
    }
   ],
   "source": [
    "r2 = r2_score(y_test, y_pred)\n",
    "r2 \n"
   ]
  },
  {
   "cell_type": "code",
   "execution_count": 167,
   "id": "3522bcab",
   "metadata": {
    "execution": {
     "iopub.execute_input": "2023-02-21T12:05:35.082385Z",
     "iopub.status.busy": "2023-02-21T12:05:35.081613Z",
     "iopub.status.idle": "2023-02-21T12:05:35.089456Z",
     "shell.execute_reply": "2023-02-21T12:05:35.088424Z"
    },
    "papermill": {
     "duration": 0.087473,
     "end_time": "2023-02-21T12:05:35.091714",
     "exception": false,
     "start_time": "2023-02-21T12:05:35.004241",
     "status": "completed"
    },
    "tags": []
   },
   "outputs": [
    {
     "data": {
      "text/plain": [
       "1.519038644423741"
      ]
     },
     "execution_count": 167,
     "metadata": {},
     "output_type": "execute_result"
    }
   ],
   "source": [
    "# calculate the MAE of the model\n",
    "mae = mean_absolute_error(y_test, y_pred)\n",
    "mae"
   ]
  },
  {
   "cell_type": "code",
   "execution_count": 168,
   "id": "e80c2d25",
   "metadata": {
    "execution": {
     "iopub.execute_input": "2023-02-21T12:05:35.245519Z",
     "iopub.status.busy": "2023-02-21T12:05:35.244703Z",
     "iopub.status.idle": "2023-02-21T12:05:35.252739Z",
     "shell.execute_reply": "2023-02-21T12:05:35.251789Z"
    },
    "papermill": {
     "duration": 0.088886,
     "end_time": "2023-02-21T12:05:35.255036",
     "exception": false,
     "start_time": "2023-02-21T12:05:35.166150",
     "status": "completed"
    },
    "tags": []
   },
   "outputs": [
    {
     "data": {
      "text/plain": [
       "8.394303923962779"
      ]
     },
     "execution_count": 168,
     "metadata": {},
     "output_type": "execute_result"
    }
   ],
   "source": [
    "# calculate the MSE of the model\n",
    "mse = mean_squared_error(y_test, y_pred)\n",
    "mse"
   ]
  },
  {
   "cell_type": "code",
   "execution_count": 169,
   "id": "cd1c6f90",
   "metadata": {
    "execution": {
     "iopub.execute_input": "2023-02-21T12:05:35.417416Z",
     "iopub.status.busy": "2023-02-21T12:05:35.416989Z",
     "iopub.status.idle": "2023-02-21T12:05:35.424457Z",
     "shell.execute_reply": "2023-02-21T12:05:35.423212Z"
    },
    "papermill": {
     "duration": 0.089688,
     "end_time": "2023-02-21T12:05:35.427016",
     "exception": false,
     "start_time": "2023-02-21T12:05:35.337328",
     "status": "completed"
    },
    "tags": []
   },
   "outputs": [
    {
     "data": {
      "text/plain": [
       "2.8972925161196237"
      ]
     },
     "execution_count": 169,
     "metadata": {},
     "output_type": "execute_result"
    }
   ],
   "source": [
    "# calculate the RMSE of the model\n",
    "rmse = np.sqrt(mse)\n",
    "rmse"
   ]
  },
  {
   "cell_type": "code",
   "execution_count": 170,
   "id": "247fc791",
   "metadata": {
    "execution": {
     "iopub.execute_input": "2023-02-21T12:05:35.586461Z",
     "iopub.status.busy": "2023-02-21T12:05:35.586031Z",
     "iopub.status.idle": "2023-02-21T12:05:35.699814Z",
     "shell.execute_reply": "2023-02-21T12:05:35.698210Z"
    },
    "papermill": {
     "duration": 0.197159,
     "end_time": "2023-02-21T12:05:35.704605",
     "exception": false,
     "start_time": "2023-02-21T12:05:35.507446",
     "status": "completed"
    },
    "tags": []
   },
   "outputs": [],
   "source": [
    "# LASSO\n",
    "L1 = linear_model.Lasso()\n",
    "L1.fit(x_train,y_train)\n",
    "y_pred1 = L1.predict(x_test)"
   ]
  },
  {
   "cell_type": "code",
   "execution_count": 171,
   "id": "c0ce4481",
   "metadata": {
    "execution": {
     "iopub.execute_input": "2023-02-21T12:05:35.928586Z",
     "iopub.status.busy": "2023-02-21T12:05:35.928176Z",
     "iopub.status.idle": "2023-02-21T12:05:35.937041Z",
     "shell.execute_reply": "2023-02-21T12:05:35.936141Z"
    },
    "papermill": {
     "duration": 0.087377,
     "end_time": "2023-02-21T12:05:35.939174",
     "exception": false,
     "start_time": "2023-02-21T12:05:35.851797",
     "status": "completed"
    },
    "tags": []
   },
   "outputs": [
    {
     "data": {
      "text/plain": [
       "0.7507020198871027"
      ]
     },
     "execution_count": 171,
     "metadata": {},
     "output_type": "execute_result"
    }
   ],
   "source": [
    "r2 = r2_score(y_test, y_pred1)\n",
    "r2 \n"
   ]
  },
  {
   "cell_type": "code",
   "execution_count": 172,
   "id": "729149c8",
   "metadata": {
    "execution": {
     "iopub.execute_input": "2023-02-21T12:05:36.092145Z",
     "iopub.status.busy": "2023-02-21T12:05:36.091492Z",
     "iopub.status.idle": "2023-02-21T12:05:36.099047Z",
     "shell.execute_reply": "2023-02-21T12:05:36.098055Z"
    },
    "papermill": {
     "duration": 0.085891,
     "end_time": "2023-02-21T12:05:36.101294",
     "exception": false,
     "start_time": "2023-02-21T12:05:36.015403",
     "status": "completed"
    },
    "tags": []
   },
   "outputs": [
    {
     "data": {
      "text/plain": [
       "1.5980824331021113"
      ]
     },
     "execution_count": 172,
     "metadata": {},
     "output_type": "execute_result"
    }
   ],
   "source": [
    "# calculate the MAE of the model\n",
    "mae = mean_absolute_error(y_test, y_pred1)\n",
    "mae"
   ]
  },
  {
   "cell_type": "code",
   "execution_count": 173,
   "id": "2136c5eb",
   "metadata": {
    "execution": {
     "iopub.execute_input": "2023-02-21T12:05:36.254285Z",
     "iopub.status.busy": "2023-02-21T12:05:36.253844Z",
     "iopub.status.idle": "2023-02-21T12:05:36.262074Z",
     "shell.execute_reply": "2023-02-21T12:05:36.260849Z"
    },
    "papermill": {
     "duration": 0.088286,
     "end_time": "2023-02-21T12:05:36.264550",
     "exception": false,
     "start_time": "2023-02-21T12:05:36.176264",
     "status": "completed"
    },
    "tags": []
   },
   "outputs": [
    {
     "data": {
      "text/plain": [
       "9.313675490018403"
      ]
     },
     "execution_count": 173,
     "metadata": {},
     "output_type": "execute_result"
    }
   ],
   "source": [
    "# calculate the MSE of the model\n",
    "mse = mean_squared_error(y_test, y_pred1)\n",
    "mse"
   ]
  },
  {
   "cell_type": "code",
   "execution_count": 174,
   "id": "030a0054",
   "metadata": {
    "execution": {
     "iopub.execute_input": "2023-02-21T12:05:36.417368Z",
     "iopub.status.busy": "2023-02-21T12:05:36.416957Z",
     "iopub.status.idle": "2023-02-21T12:05:36.424309Z",
     "shell.execute_reply": "2023-02-21T12:05:36.423273Z"
    },
    "papermill": {
     "duration": 0.086123,
     "end_time": "2023-02-21T12:05:36.426635",
     "exception": false,
     "start_time": "2023-02-21T12:05:36.340512",
     "status": "completed"
    },
    "tags": []
   },
   "outputs": [
    {
     "data": {
      "text/plain": [
       "3.0518314976450456"
      ]
     },
     "execution_count": 174,
     "metadata": {},
     "output_type": "execute_result"
    }
   ],
   "source": [
    "# calculate the RMSE of the model\n",
    "rmse = np.sqrt(mse)\n",
    "rmse"
   ]
  },
  {
   "cell_type": "code",
   "execution_count": 175,
   "id": "0b87171e",
   "metadata": {
    "execution": {
     "iopub.execute_input": "2023-02-21T12:05:36.581231Z",
     "iopub.status.busy": "2023-02-21T12:05:36.580554Z",
     "iopub.status.idle": "2023-02-21T12:05:36.596672Z",
     "shell.execute_reply": "2023-02-21T12:05:36.595067Z"
    },
    "papermill": {
     "duration": 0.097008,
     "end_time": "2023-02-21T12:05:36.600968",
     "exception": false,
     "start_time": "2023-02-21T12:05:36.503960",
     "status": "completed"
    },
    "tags": []
   },
   "outputs": [],
   "source": [
    "# Ridge\n",
    "L2 = Ridge(alpha=1.0)\n",
    "L2.fit(x_train, y_train) \n",
    "y_pred3 = L2.predict(x_test)"
   ]
  },
  {
   "cell_type": "code",
   "execution_count": 176,
   "id": "0d253867",
   "metadata": {
    "execution": {
     "iopub.execute_input": "2023-02-21T12:05:36.825713Z",
     "iopub.status.busy": "2023-02-21T12:05:36.825299Z",
     "iopub.status.idle": "2023-02-21T12:05:36.832835Z",
     "shell.execute_reply": "2023-02-21T12:05:36.831774Z"
    },
    "papermill": {
     "duration": 0.0857,
     "end_time": "2023-02-21T12:05:36.835061",
     "exception": false,
     "start_time": "2023-02-21T12:05:36.749361",
     "status": "completed"
    },
    "tags": []
   },
   "outputs": [
    {
     "data": {
      "text/plain": [
       "0.7753072003472253"
      ]
     },
     "execution_count": 176,
     "metadata": {},
     "output_type": "execute_result"
    }
   ],
   "source": [
    "r2 = r2_score(y_test, y_pred3)\n",
    "r2 "
   ]
  },
  {
   "cell_type": "code",
   "execution_count": 177,
   "id": "ffc0823e",
   "metadata": {
    "execution": {
     "iopub.execute_input": "2023-02-21T12:05:36.986770Z",
     "iopub.status.busy": "2023-02-21T12:05:36.986391Z",
     "iopub.status.idle": "2023-02-21T12:05:36.994792Z",
     "shell.execute_reply": "2023-02-21T12:05:36.993671Z"
    },
    "papermill": {
     "duration": 0.087202,
     "end_time": "2023-02-21T12:05:36.997189",
     "exception": false,
     "start_time": "2023-02-21T12:05:36.909987",
     "status": "completed"
    },
    "tags": []
   },
   "outputs": [
    {
     "data": {
      "text/plain": [
       "1.5188909684172016"
      ]
     },
     "execution_count": 177,
     "metadata": {},
     "output_type": "execute_result"
    }
   ],
   "source": [
    "# calculate the MAE of the model\n",
    "mae = mean_absolute_error(y_test, y_pred3)\n",
    "mae"
   ]
  },
  {
   "cell_type": "code",
   "execution_count": 178,
   "id": "3b7b69fc",
   "metadata": {
    "execution": {
     "iopub.execute_input": "2023-02-21T12:05:37.149915Z",
     "iopub.status.busy": "2023-02-21T12:05:37.149519Z",
     "iopub.status.idle": "2023-02-21T12:05:37.156221Z",
     "shell.execute_reply": "2023-02-21T12:05:37.155486Z"
    },
    "papermill": {
     "duration": 0.085681,
     "end_time": "2023-02-21T12:05:37.158452",
     "exception": false,
     "start_time": "2023-02-21T12:05:37.072771",
     "status": "completed"
    },
    "tags": []
   },
   "outputs": [
    {
     "data": {
      "text/plain": [
       "8.394435526360677"
      ]
     },
     "execution_count": 178,
     "metadata": {},
     "output_type": "execute_result"
    }
   ],
   "source": [
    "# calculate the MSE of the model\n",
    "mse = mean_squared_error(y_test, y_pred3)\n",
    "mse"
   ]
  },
  {
   "cell_type": "code",
   "execution_count": 179,
   "id": "d776260b",
   "metadata": {
    "execution": {
     "iopub.execute_input": "2023-02-21T12:05:37.312719Z",
     "iopub.status.busy": "2023-02-21T12:05:37.312085Z",
     "iopub.status.idle": "2023-02-21T12:05:37.318184Z",
     "shell.execute_reply": "2023-02-21T12:05:37.317180Z"
    },
    "papermill": {
     "duration": 0.085464,
     "end_time": "2023-02-21T12:05:37.320363",
     "exception": false,
     "start_time": "2023-02-21T12:05:37.234899",
     "status": "completed"
    },
    "tags": []
   },
   "outputs": [
    {
     "data": {
      "text/plain": [
       "2.8973152273028004"
      ]
     },
     "execution_count": 179,
     "metadata": {},
     "output_type": "execute_result"
    }
   ],
   "source": [
    "# calculate the RMSE of the model\n",
    "rmse = np.sqrt(mse)\n",
    "rmse"
   ]
  },
  {
   "cell_type": "markdown",
   "id": "d6e87062",
   "metadata": {
    "papermill": {
     "duration": 0.076481,
     "end_time": "2023-02-21T12:05:37.472934",
     "exception": false,
     "start_time": "2023-02-21T12:05:37.396453",
     "status": "completed"
    },
    "tags": []
   },
   "source": [
    "clint 1: Albany"
   ]
  },
  {
   "cell_type": "code",
   "execution_count": 180,
   "id": "f012353f",
   "metadata": {
    "execution": {
     "iopub.execute_input": "2023-02-21T12:05:37.629011Z",
     "iopub.status.busy": "2023-02-21T12:05:37.628365Z",
     "iopub.status.idle": "2023-02-21T12:05:37.784559Z",
     "shell.execute_reply": "2023-02-21T12:05:37.783709Z"
    },
    "papermill": {
     "duration": 0.238316,
     "end_time": "2023-02-21T12:05:37.787067",
     "exception": false,
     "start_time": "2023-02-21T12:05:37.548751",
     "status": "completed"
    },
    "tags": []
   },
   "outputs": [],
   "source": [
    "Albany_df=df[df[\"Facility Name\"]== 'Albany Medical Center Hospital']\n"
   ]
  },
  {
   "cell_type": "code",
   "execution_count": 181,
   "id": "e12a6859",
   "metadata": {
    "execution": {
     "iopub.execute_input": "2023-02-21T12:05:37.940439Z",
     "iopub.status.busy": "2023-02-21T12:05:37.940003Z",
     "iopub.status.idle": "2023-02-21T12:05:37.984931Z",
     "shell.execute_reply": "2023-02-21T12:05:37.983693Z"
    },
    "papermill": {
     "duration": 0.124687,
     "end_time": "2023-02-21T12:05:37.987159",
     "exception": false,
     "start_time": "2023-02-21T12:05:37.862472",
     "status": "completed"
    },
    "tags": []
   },
   "outputs": [
    {
     "data": {
      "text/html": [
       "<div>\n",
       "<style scoped>\n",
       "    .dataframe tbody tr th:only-of-type {\n",
       "        vertical-align: middle;\n",
       "    }\n",
       "\n",
       "    .dataframe tbody tr th {\n",
       "        vertical-align: top;\n",
       "    }\n",
       "\n",
       "    .dataframe thead th {\n",
       "        text-align: right;\n",
       "    }\n",
       "</style>\n",
       "<table border=\"1\" class=\"dataframe\">\n",
       "  <thead>\n",
       "    <tr style=\"text-align: right;\">\n",
       "      <th></th>\n",
       "      <th>Hospital County</th>\n",
       "      <th>Operating Certificate Number</th>\n",
       "      <th>Facility Id</th>\n",
       "      <th>Facility Name</th>\n",
       "      <th>Age Group</th>\n",
       "      <th>Zip Code - 3 digits</th>\n",
       "      <th>Gender</th>\n",
       "      <th>Race</th>\n",
       "      <th>Ethnicity</th>\n",
       "      <th>Length of Stay</th>\n",
       "      <th>...</th>\n",
       "      <th>APR Risk of Mortality</th>\n",
       "      <th>APR Medical Surgical Description</th>\n",
       "      <th>Payment Typology 1</th>\n",
       "      <th>Payment Typology 2</th>\n",
       "      <th>Payment Typology 3</th>\n",
       "      <th>Birth Weight</th>\n",
       "      <th>Abortion Edit Indicator</th>\n",
       "      <th>Emergency Department Indicator</th>\n",
       "      <th>Total Charges</th>\n",
       "      <th>Total Costs</th>\n",
       "    </tr>\n",
       "  </thead>\n",
       "  <tbody>\n",
       "    <tr>\n",
       "      <th>490252</th>\n",
       "      <td>Albany</td>\n",
       "      <td>101000.0</td>\n",
       "      <td>1.0</td>\n",
       "      <td>Albany Medical Center Hospital</td>\n",
       "      <td>0 to 17</td>\n",
       "      <td>120</td>\n",
       "      <td>F</td>\n",
       "      <td>White</td>\n",
       "      <td>Not Span/Hispanic</td>\n",
       "      <td>1</td>\n",
       "      <td>...</td>\n",
       "      <td>Minor</td>\n",
       "      <td>Medical</td>\n",
       "      <td>Medicaid</td>\n",
       "      <td>NaN</td>\n",
       "      <td>NaN</td>\n",
       "      <td>0</td>\n",
       "      <td>N</td>\n",
       "      <td>Y</td>\n",
       "      <td>10397.13</td>\n",
       "      <td>3610.96</td>\n",
       "    </tr>\n",
       "    <tr>\n",
       "      <th>491806</th>\n",
       "      <td>Albany</td>\n",
       "      <td>101000.0</td>\n",
       "      <td>1.0</td>\n",
       "      <td>Albany Medical Center Hospital</td>\n",
       "      <td>0 to 17</td>\n",
       "      <td>120</td>\n",
       "      <td>F</td>\n",
       "      <td>White</td>\n",
       "      <td>Not Span/Hispanic</td>\n",
       "      <td>1</td>\n",
       "      <td>...</td>\n",
       "      <td>Minor</td>\n",
       "      <td>Medical</td>\n",
       "      <td>Medicaid</td>\n",
       "      <td>NaN</td>\n",
       "      <td>NaN</td>\n",
       "      <td>0</td>\n",
       "      <td>N</td>\n",
       "      <td>Y</td>\n",
       "      <td>9976.77</td>\n",
       "      <td>2263.12</td>\n",
       "    </tr>\n",
       "    <tr>\n",
       "      <th>492215</th>\n",
       "      <td>Albany</td>\n",
       "      <td>101000.0</td>\n",
       "      <td>1.0</td>\n",
       "      <td>Albany Medical Center Hospital</td>\n",
       "      <td>0 to 17</td>\n",
       "      <td>122</td>\n",
       "      <td>F</td>\n",
       "      <td>Black/African American</td>\n",
       "      <td>Not Span/Hispanic</td>\n",
       "      <td>1</td>\n",
       "      <td>...</td>\n",
       "      <td>Minor</td>\n",
       "      <td>Medical</td>\n",
       "      <td>Medicaid</td>\n",
       "      <td>NaN</td>\n",
       "      <td>NaN</td>\n",
       "      <td>0</td>\n",
       "      <td>N</td>\n",
       "      <td>Y</td>\n",
       "      <td>6042.14</td>\n",
       "      <td>1968.23</td>\n",
       "    </tr>\n",
       "    <tr>\n",
       "      <th>492519</th>\n",
       "      <td>Albany</td>\n",
       "      <td>101000.0</td>\n",
       "      <td>1.0</td>\n",
       "      <td>Albany Medical Center Hospital</td>\n",
       "      <td>50 to 69</td>\n",
       "      <td>120</td>\n",
       "      <td>F</td>\n",
       "      <td>White</td>\n",
       "      <td>Not Span/Hispanic</td>\n",
       "      <td>1</td>\n",
       "      <td>...</td>\n",
       "      <td>Minor</td>\n",
       "      <td>Medical</td>\n",
       "      <td>Medicaid</td>\n",
       "      <td>NaN</td>\n",
       "      <td>NaN</td>\n",
       "      <td>0</td>\n",
       "      <td>N</td>\n",
       "      <td>Y</td>\n",
       "      <td>17876.70</td>\n",
       "      <td>4662.19</td>\n",
       "    </tr>\n",
       "    <tr>\n",
       "      <th>493215</th>\n",
       "      <td>Albany</td>\n",
       "      <td>101000.0</td>\n",
       "      <td>1.0</td>\n",
       "      <td>Albany Medical Center Hospital</td>\n",
       "      <td>0 to 17</td>\n",
       "      <td>124</td>\n",
       "      <td>M</td>\n",
       "      <td>Other Race</td>\n",
       "      <td>Unknown</td>\n",
       "      <td>1</td>\n",
       "      <td>...</td>\n",
       "      <td>Minor</td>\n",
       "      <td>Medical</td>\n",
       "      <td>Private Health Insurance</td>\n",
       "      <td>NaN</td>\n",
       "      <td>NaN</td>\n",
       "      <td>0</td>\n",
       "      <td>N</td>\n",
       "      <td>N</td>\n",
       "      <td>9919.29</td>\n",
       "      <td>3418.02</td>\n",
       "    </tr>\n",
       "    <tr>\n",
       "      <th>...</th>\n",
       "      <td>...</td>\n",
       "      <td>...</td>\n",
       "      <td>...</td>\n",
       "      <td>...</td>\n",
       "      <td>...</td>\n",
       "      <td>...</td>\n",
       "      <td>...</td>\n",
       "      <td>...</td>\n",
       "      <td>...</td>\n",
       "      <td>...</td>\n",
       "      <td>...</td>\n",
       "      <td>...</td>\n",
       "      <td>...</td>\n",
       "      <td>...</td>\n",
       "      <td>...</td>\n",
       "      <td>...</td>\n",
       "      <td>...</td>\n",
       "      <td>...</td>\n",
       "      <td>...</td>\n",
       "      <td>...</td>\n",
       "      <td>...</td>\n",
       "    </tr>\n",
       "    <tr>\n",
       "      <th>536364</th>\n",
       "      <td>Albany</td>\n",
       "      <td>101000.0</td>\n",
       "      <td>1.0</td>\n",
       "      <td>Albany Medical Center Hospital</td>\n",
       "      <td>18 to 29</td>\n",
       "      <td>121</td>\n",
       "      <td>M</td>\n",
       "      <td>White</td>\n",
       "      <td>Not Span/Hispanic</td>\n",
       "      <td>1</td>\n",
       "      <td>...</td>\n",
       "      <td>Minor</td>\n",
       "      <td>Surgical</td>\n",
       "      <td>Blue Cross/Blue Shield</td>\n",
       "      <td>NaN</td>\n",
       "      <td>NaN</td>\n",
       "      <td>0</td>\n",
       "      <td>N</td>\n",
       "      <td>Y</td>\n",
       "      <td>16726.52</td>\n",
       "      <td>5145.79</td>\n",
       "    </tr>\n",
       "    <tr>\n",
       "      <th>536365</th>\n",
       "      <td>Albany</td>\n",
       "      <td>101000.0</td>\n",
       "      <td>1.0</td>\n",
       "      <td>Albany Medical Center Hospital</td>\n",
       "      <td>0 to 17</td>\n",
       "      <td>121</td>\n",
       "      <td>F</td>\n",
       "      <td>Other Race</td>\n",
       "      <td>Unknown</td>\n",
       "      <td>2</td>\n",
       "      <td>...</td>\n",
       "      <td>Minor</td>\n",
       "      <td>Medical</td>\n",
       "      <td>Medicaid</td>\n",
       "      <td>NaN</td>\n",
       "      <td>NaN</td>\n",
       "      <td>4700</td>\n",
       "      <td>N</td>\n",
       "      <td>N</td>\n",
       "      <td>3829.74</td>\n",
       "      <td>947.76</td>\n",
       "    </tr>\n",
       "    <tr>\n",
       "      <th>536366</th>\n",
       "      <td>Albany</td>\n",
       "      <td>101000.0</td>\n",
       "      <td>1.0</td>\n",
       "      <td>Albany Medical Center Hospital</td>\n",
       "      <td>0 to 17</td>\n",
       "      <td>124</td>\n",
       "      <td>M</td>\n",
       "      <td>Other Race</td>\n",
       "      <td>Unknown</td>\n",
       "      <td>3</td>\n",
       "      <td>...</td>\n",
       "      <td>Minor</td>\n",
       "      <td>Medical</td>\n",
       "      <td>Medicaid</td>\n",
       "      <td>NaN</td>\n",
       "      <td>NaN</td>\n",
       "      <td>3200</td>\n",
       "      <td>N</td>\n",
       "      <td>N</td>\n",
       "      <td>7209.25</td>\n",
       "      <td>1661.29</td>\n",
       "    </tr>\n",
       "    <tr>\n",
       "      <th>536367</th>\n",
       "      <td>Albany</td>\n",
       "      <td>101000.0</td>\n",
       "      <td>1.0</td>\n",
       "      <td>Albany Medical Center Hospital</td>\n",
       "      <td>0 to 17</td>\n",
       "      <td>120</td>\n",
       "      <td>F</td>\n",
       "      <td>Other Race</td>\n",
       "      <td>Unknown</td>\n",
       "      <td>83</td>\n",
       "      <td>...</td>\n",
       "      <td>Moderate</td>\n",
       "      <td>Medical</td>\n",
       "      <td>Medicaid</td>\n",
       "      <td>NaN</td>\n",
       "      <td>NaN</td>\n",
       "      <td>900</td>\n",
       "      <td>N</td>\n",
       "      <td>N</td>\n",
       "      <td>665166.90</td>\n",
       "      <td>165272.09</td>\n",
       "    </tr>\n",
       "    <tr>\n",
       "      <th>536368</th>\n",
       "      <td>Albany</td>\n",
       "      <td>101000.0</td>\n",
       "      <td>1.0</td>\n",
       "      <td>Albany Medical Center Hospital</td>\n",
       "      <td>0 to 17</td>\n",
       "      <td>120</td>\n",
       "      <td>M</td>\n",
       "      <td>Other Race</td>\n",
       "      <td>Unknown</td>\n",
       "      <td>2</td>\n",
       "      <td>...</td>\n",
       "      <td>Minor</td>\n",
       "      <td>Medical</td>\n",
       "      <td>Managed Care, Unspecified</td>\n",
       "      <td>NaN</td>\n",
       "      <td>NaN</td>\n",
       "      <td>3500</td>\n",
       "      <td>N</td>\n",
       "      <td>N</td>\n",
       "      <td>4728.77</td>\n",
       "      <td>1135.90</td>\n",
       "    </tr>\n",
       "  </tbody>\n",
       "</table>\n",
       "<p>36281 rows × 28 columns</p>\n",
       "</div>"
      ],
      "text/plain": [
       "       Hospital County  Operating Certificate Number  Facility Id  \\\n",
       "490252          Albany                      101000.0          1.0   \n",
       "491806          Albany                      101000.0          1.0   \n",
       "492215          Albany                      101000.0          1.0   \n",
       "492519          Albany                      101000.0          1.0   \n",
       "493215          Albany                      101000.0          1.0   \n",
       "...                ...                           ...          ...   \n",
       "536364          Albany                      101000.0          1.0   \n",
       "536365          Albany                      101000.0          1.0   \n",
       "536366          Albany                      101000.0          1.0   \n",
       "536367          Albany                      101000.0          1.0   \n",
       "536368          Albany                      101000.0          1.0   \n",
       "\n",
       "                         Facility Name Age Group Zip Code - 3 digits Gender  \\\n",
       "490252  Albany Medical Center Hospital   0 to 17                 120      F   \n",
       "491806  Albany Medical Center Hospital   0 to 17                 120      F   \n",
       "492215  Albany Medical Center Hospital   0 to 17                 122      F   \n",
       "492519  Albany Medical Center Hospital  50 to 69                 120      F   \n",
       "493215  Albany Medical Center Hospital   0 to 17                 124      M   \n",
       "...                                ...       ...                 ...    ...   \n",
       "536364  Albany Medical Center Hospital  18 to 29                 121      M   \n",
       "536365  Albany Medical Center Hospital   0 to 17                 121      F   \n",
       "536366  Albany Medical Center Hospital   0 to 17                 124      M   \n",
       "536367  Albany Medical Center Hospital   0 to 17                 120      F   \n",
       "536368  Albany Medical Center Hospital   0 to 17                 120      M   \n",
       "\n",
       "                          Race          Ethnicity Length of Stay  ...  \\\n",
       "490252                   White  Not Span/Hispanic              1  ...   \n",
       "491806                   White  Not Span/Hispanic              1  ...   \n",
       "492215  Black/African American  Not Span/Hispanic              1  ...   \n",
       "492519                   White  Not Span/Hispanic              1  ...   \n",
       "493215              Other Race            Unknown              1  ...   \n",
       "...                        ...                ...            ...  ...   \n",
       "536364                   White  Not Span/Hispanic              1  ...   \n",
       "536365              Other Race            Unknown              2  ...   \n",
       "536366              Other Race            Unknown              3  ...   \n",
       "536367              Other Race            Unknown             83  ...   \n",
       "536368              Other Race            Unknown              2  ...   \n",
       "\n",
       "       APR Risk of Mortality APR Medical Surgical Description  \\\n",
       "490252                 Minor                          Medical   \n",
       "491806                 Minor                          Medical   \n",
       "492215                 Minor                          Medical   \n",
       "492519                 Minor                          Medical   \n",
       "493215                 Minor                          Medical   \n",
       "...                      ...                              ...   \n",
       "536364                 Minor                         Surgical   \n",
       "536365                 Minor                          Medical   \n",
       "536366                 Minor                          Medical   \n",
       "536367              Moderate                          Medical   \n",
       "536368                 Minor                          Medical   \n",
       "\n",
       "               Payment Typology 1  Payment Typology 2  Payment Typology 3  \\\n",
       "490252                   Medicaid                 NaN                 NaN   \n",
       "491806                   Medicaid                 NaN                 NaN   \n",
       "492215                   Medicaid                 NaN                 NaN   \n",
       "492519                   Medicaid                 NaN                 NaN   \n",
       "493215   Private Health Insurance                 NaN                 NaN   \n",
       "...                           ...                 ...                 ...   \n",
       "536364     Blue Cross/Blue Shield                 NaN                 NaN   \n",
       "536365                   Medicaid                 NaN                 NaN   \n",
       "536366                   Medicaid                 NaN                 NaN   \n",
       "536367                   Medicaid                 NaN                 NaN   \n",
       "536368  Managed Care, Unspecified                 NaN                 NaN   \n",
       "\n",
       "        Birth Weight  Abortion Edit Indicator  Emergency Department Indicator  \\\n",
       "490252             0                        N                               Y   \n",
       "491806             0                        N                               Y   \n",
       "492215             0                        N                               Y   \n",
       "492519             0                        N                               Y   \n",
       "493215             0                        N                               N   \n",
       "...              ...                      ...                             ...   \n",
       "536364             0                        N                               Y   \n",
       "536365          4700                        N                               N   \n",
       "536366          3200                        N                               N   \n",
       "536367           900                        N                               N   \n",
       "536368          3500                        N                               N   \n",
       "\n",
       "       Total Charges Total Costs  \n",
       "490252      10397.13     3610.96  \n",
       "491806       9976.77     2263.12  \n",
       "492215       6042.14     1968.23  \n",
       "492519      17876.70     4662.19  \n",
       "493215       9919.29     3418.02  \n",
       "...              ...         ...  \n",
       "536364      16726.52     5145.79  \n",
       "536365       3829.74      947.76  \n",
       "536366       7209.25     1661.29  \n",
       "536367     665166.90   165272.09  \n",
       "536368       4728.77     1135.90  \n",
       "\n",
       "[36281 rows x 28 columns]"
      ]
     },
     "execution_count": 181,
     "metadata": {},
     "output_type": "execute_result"
    }
   ],
   "source": [
    "Albany_df"
   ]
  },
  {
   "cell_type": "code",
   "execution_count": 182,
   "id": "0d6dc80d",
   "metadata": {
    "execution": {
     "iopub.execute_input": "2023-02-21T12:05:38.140940Z",
     "iopub.status.busy": "2023-02-21T12:05:38.140553Z",
     "iopub.status.idle": "2023-02-21T12:05:38.162901Z",
     "shell.execute_reply": "2023-02-21T12:05:38.161806Z"
    },
    "papermill": {
     "duration": 0.10194,
     "end_time": "2023-02-21T12:05:38.165317",
     "exception": false,
     "start_time": "2023-02-21T12:05:38.063377",
     "status": "completed"
    },
    "tags": []
   },
   "outputs": [
    {
     "name": "stdout",
     "output_type": "stream",
     "text": [
      "<class 'pandas.core.frame.DataFrame'>\n",
      "Int64Index: 36281 entries, 490252 to 536368\n",
      "Data columns (total 28 columns):\n",
      " #   Column                            Non-Null Count  Dtype   \n",
      "---  ------                            --------------  -----   \n",
      " 0   Hospital County                   36281 non-null  category\n",
      " 1   Operating Certificate Number      36281 non-null  float64 \n",
      " 2   Facility Id                       36281 non-null  float64 \n",
      " 3   Facility Name                     36281 non-null  object  \n",
      " 4   Age Group                         36281 non-null  category\n",
      " 5   Zip Code - 3 digits               35772 non-null  category\n",
      " 6   Gender                            36281 non-null  category\n",
      " 7   Race                              36281 non-null  category\n",
      " 8   Ethnicity                         36281 non-null  category\n",
      " 9   Length of Stay                    36281 non-null  category\n",
      " 10  Type of Admission                 36281 non-null  category\n",
      " 11  Patient Disposition               36281 non-null  category\n",
      " 12  Discharge Year                    36281 non-null  int64   \n",
      " 13  CCS Diagnosis Code                36281 non-null  int64   \n",
      " 14  CCS Procedure Code                36281 non-null  int64   \n",
      " 15  APR DRG Code                      36281 non-null  int64   \n",
      " 16  APR MDC Code                      36281 non-null  int64   \n",
      " 17  APR Severity of Illness Code      36281 non-null  int64   \n",
      " 18  APR Risk of Mortality             36280 non-null  category\n",
      " 19  APR Medical Surgical Description  36281 non-null  category\n",
      " 20  Payment Typology 1                36281 non-null  category\n",
      " 21  Payment Typology 2                11617 non-null  category\n",
      " 22  Payment Typology 3                8960 non-null   category\n",
      " 23  Birth Weight                      36281 non-null  int64   \n",
      " 24  Abortion Edit Indicator           36281 non-null  category\n",
      " 25  Emergency Department Indicator    36281 non-null  category\n",
      " 26  Total Charges                     36281 non-null  float64 \n",
      " 27  Total Costs                       36281 non-null  float64 \n",
      "dtypes: category(16), float64(4), int64(7), object(1)\n",
      "memory usage: 4.2+ MB\n"
     ]
    }
   ],
   "source": [
    "Albany_df.info()"
   ]
  },
  {
   "cell_type": "code",
   "execution_count": 183,
   "id": "733f35af",
   "metadata": {
    "execution": {
     "iopub.execute_input": "2023-02-21T12:05:38.324294Z",
     "iopub.status.busy": "2023-02-21T12:05:38.323846Z",
     "iopub.status.idle": "2023-02-21T12:05:38.334155Z",
     "shell.execute_reply": "2023-02-21T12:05:38.332962Z"
    },
    "papermill": {
     "duration": 0.093057,
     "end_time": "2023-02-21T12:05:38.336548",
     "exception": false,
     "start_time": "2023-02-21T12:05:38.243491",
     "status": "completed"
    },
    "tags": []
   },
   "outputs": [
    {
     "name": "stderr",
     "output_type": "stream",
     "text": [
      "/opt/conda/lib/python3.7/site-packages/ipykernel_launcher.py:3: SettingWithCopyWarning: \n",
      "A value is trying to be set on a copy of a slice from a DataFrame.\n",
      "Try using .loc[row_indexer,col_indexer] = value instead\n",
      "\n",
      "See the caveats in the documentation: https://pandas.pydata.org/pandas-docs/stable/user_guide/indexing.html#returning-a-view-versus-a-copy\n",
      "  This is separate from the ipykernel package so we can avoid doing imports until\n",
      "/opt/conda/lib/python3.7/site-packages/ipykernel_launcher.py:5: SettingWithCopyWarning: \n",
      "A value is trying to be set on a copy of a slice from a DataFrame.\n",
      "Try using .loc[row_indexer,col_indexer] = value instead\n",
      "\n",
      "See the caveats in the documentation: https://pandas.pydata.org/pandas-docs/stable/user_guide/indexing.html#returning-a-view-versus-a-copy\n",
      "  \"\"\"\n"
     ]
    }
   ],
   "source": [
    " #   simple mapping on binary features.\n",
    "Albany_df['Abortion Edit Indicator'] = Albany_df['Abortion Edit Indicator'].apply(\n",
    "     lambda x: 1 if x == 'Y' else (0 if x == 'N' else None))\n",
    "Albany_df['Emergency Department Indicator'] = Albany_df['Emergency Department Indicator'].apply(\n",
    "    lambda x: 1 if x == 'Y' else (0 if x == 'N' else None))"
   ]
  },
  {
   "cell_type": "code",
   "execution_count": 184,
   "id": "e132c01e",
   "metadata": {
    "execution": {
     "iopub.execute_input": "2023-02-21T12:05:38.492842Z",
     "iopub.status.busy": "2023-02-21T12:05:38.492202Z",
     "iopub.status.idle": "2023-02-21T12:05:38.643665Z",
     "shell.execute_reply": "2023-02-21T12:05:38.642423Z"
    },
    "papermill": {
     "duration": 0.233019,
     "end_time": "2023-02-21T12:05:38.646550",
     "exception": false,
     "start_time": "2023-02-21T12:05:38.413531",
     "status": "completed"
    },
    "tags": []
   },
   "outputs": [
    {
     "name": "stderr",
     "output_type": "stream",
     "text": [
      "/opt/conda/lib/python3.7/site-packages/ipykernel_launcher.py:29: SettingWithCopyWarning: \n",
      "A value is trying to be set on a copy of a slice from a DataFrame.\n",
      "Try using .loc[row_indexer,col_indexer] = value instead\n",
      "\n",
      "See the caveats in the documentation: https://pandas.pydata.org/pandas-docs/stable/user_guide/indexing.html#returning-a-view-versus-a-copy\n"
     ]
    }
   ],
   "source": [
    "list=  [ \"Hospital County\",\"Age Group\"\n",
    "    ,\"Gender\",   \n",
    " \"Race\" , \n",
    "\"Ethnicity\", \n",
    "\"Gender\" , \n",
    "\"Race\" ,    \n",
    " \"Ethnicity\" ,        \n",
    " \"Type of Admission\"  ,  \n",
    "  \"Patient Disposition\",      \n",
    " \"Type of Admission\" ,  \n",
    " \"Patient Disposition\"  ,\n",
    "  \"APR Risk of Mortality\" ,   \n",
    " \"APR Medical Surgical Description\" ,\n",
    " \"Payment Typology 1\"   ,   \n",
    " \"Abortion Edit Indicator\"     ,  \n",
    " \"Emergency Department Indicator\",\n",
    "       \"Zip Code - 3 digits\",\"Payment Typology 2\"        \n",
    "   ,\"Payment Typology 3\"]  \n",
    "\n",
    "# Import label encoder\n",
    "from sklearn import preprocessing\n",
    "  \n",
    "# label_encoder object knows how to understand word labels.        \n",
    "   \n",
    "label_encoder = preprocessing.LabelEncoder()\n",
    "  \n",
    "# Encode labels in column 'species'. \n",
    "for col in list :\n",
    " Albany_df[col]= label_encoder.fit_transform(Albany_df[col])\n"
   ]
  },
  {
   "cell_type": "code",
   "execution_count": 185,
   "id": "b2687de6",
   "metadata": {
    "execution": {
     "iopub.execute_input": "2023-02-21T12:05:38.802506Z",
     "iopub.status.busy": "2023-02-21T12:05:38.802072Z",
     "iopub.status.idle": "2023-02-21T12:05:38.813320Z",
     "shell.execute_reply": "2023-02-21T12:05:38.812222Z"
    },
    "papermill": {
     "duration": 0.092539,
     "end_time": "2023-02-21T12:05:38.815961",
     "exception": false,
     "start_time": "2023-02-21T12:05:38.723422",
     "status": "completed"
    },
    "tags": []
   },
   "outputs": [],
   "source": [
    "Albany_df=Albany_df.drop(\"Facility Name\", axis=1)"
   ]
  },
  {
   "cell_type": "code",
   "execution_count": 186,
   "id": "09397e4a",
   "metadata": {
    "execution": {
     "iopub.execute_input": "2023-02-21T12:05:38.978208Z",
     "iopub.status.busy": "2023-02-21T12:05:38.977411Z",
     "iopub.status.idle": "2023-02-21T12:05:38.994330Z",
     "shell.execute_reply": "2023-02-21T12:05:38.993115Z"
    },
    "papermill": {
     "duration": 0.102921,
     "end_time": "2023-02-21T12:05:38.996625",
     "exception": false,
     "start_time": "2023-02-21T12:05:38.893704",
     "status": "completed"
    },
    "tags": []
   },
   "outputs": [
    {
     "name": "stdout",
     "output_type": "stream",
     "text": [
      "<class 'pandas.core.frame.DataFrame'>\n",
      "Int64Index: 36281 entries, 490252 to 536368\n",
      "Data columns (total 27 columns):\n",
      " #   Column                            Non-Null Count  Dtype   \n",
      "---  ------                            --------------  -----   \n",
      " 0   Hospital County                   36281 non-null  int64   \n",
      " 1   Operating Certificate Number      36281 non-null  float64 \n",
      " 2   Facility Id                       36281 non-null  float64 \n",
      " 3   Age Group                         36281 non-null  int64   \n",
      " 4   Zip Code - 3 digits               36281 non-null  int64   \n",
      " 5   Gender                            36281 non-null  int64   \n",
      " 6   Race                              36281 non-null  int64   \n",
      " 7   Ethnicity                         36281 non-null  int64   \n",
      " 8   Length of Stay                    36281 non-null  category\n",
      " 9   Type of Admission                 36281 non-null  int64   \n",
      " 10  Patient Disposition               36281 non-null  int64   \n",
      " 11  Discharge Year                    36281 non-null  int64   \n",
      " 12  CCS Diagnosis Code                36281 non-null  int64   \n",
      " 13  CCS Procedure Code                36281 non-null  int64   \n",
      " 14  APR DRG Code                      36281 non-null  int64   \n",
      " 15  APR MDC Code                      36281 non-null  int64   \n",
      " 16  APR Severity of Illness Code      36281 non-null  int64   \n",
      " 17  APR Risk of Mortality             36281 non-null  int64   \n",
      " 18  APR Medical Surgical Description  36281 non-null  int64   \n",
      " 19  Payment Typology 1                36281 non-null  int64   \n",
      " 20  Payment Typology 2                36281 non-null  int64   \n",
      " 21  Payment Typology 3                36281 non-null  int64   \n",
      " 22  Birth Weight                      36281 non-null  int64   \n",
      " 23  Abortion Edit Indicator           36281 non-null  int64   \n",
      " 24  Emergency Department Indicator    36281 non-null  int64   \n",
      " 25  Total Charges                     36281 non-null  float64 \n",
      " 26  Total Costs                       36281 non-null  float64 \n",
      "dtypes: category(1), float64(4), int64(22)\n",
      "memory usage: 7.6 MB\n"
     ]
    }
   ],
   "source": [
    "Albany_df.info()"
   ]
  },
  {
   "cell_type": "code",
   "execution_count": 187,
   "id": "39d4a66f",
   "metadata": {
    "execution": {
     "iopub.execute_input": "2023-02-21T12:05:39.151311Z",
     "iopub.status.busy": "2023-02-21T12:05:39.150634Z",
     "iopub.status.idle": "2023-02-21T12:05:39.174391Z",
     "shell.execute_reply": "2023-02-21T12:05:39.173007Z"
    },
    "papermill": {
     "duration": 0.104488,
     "end_time": "2023-02-21T12:05:39.177261",
     "exception": false,
     "start_time": "2023-02-21T12:05:39.072773",
     "status": "completed"
    },
    "tags": []
   },
   "outputs": [],
   "source": [
    "Albany_df[\"Length of Stay\"]=pd.to_numeric(Albany_df[\"Length of Stay\"],errors='coerce')\n"
   ]
  },
  {
   "cell_type": "code",
   "execution_count": 188,
   "id": "326ce134",
   "metadata": {
    "execution": {
     "iopub.execute_input": "2023-02-21T12:05:39.335826Z",
     "iopub.status.busy": "2023-02-21T12:05:39.335106Z",
     "iopub.status.idle": "2023-02-21T12:05:39.348722Z",
     "shell.execute_reply": "2023-02-21T12:05:39.347671Z"
    },
    "papermill": {
     "duration": 0.096023,
     "end_time": "2023-02-21T12:05:39.351302",
     "exception": false,
     "start_time": "2023-02-21T12:05:39.255279",
     "status": "completed"
    },
    "tags": []
   },
   "outputs": [],
   "source": [
    "Albany_df.dropna(inplace=True)"
   ]
  },
  {
   "cell_type": "code",
   "execution_count": 189,
   "id": "fff17985",
   "metadata": {
    "execution": {
     "iopub.execute_input": "2023-02-21T12:05:39.507656Z",
     "iopub.status.busy": "2023-02-21T12:05:39.506859Z",
     "iopub.status.idle": "2023-02-21T12:05:39.515044Z",
     "shell.execute_reply": "2023-02-21T12:05:39.514211Z"
    },
    "papermill": {
     "duration": 0.08875,
     "end_time": "2023-02-21T12:05:39.517470",
     "exception": false,
     "start_time": "2023-02-21T12:05:39.428720",
     "status": "completed"
    },
    "tags": []
   },
   "outputs": [],
   "source": [
    "x = Albany_df.drop([\"Length of Stay\"], axis =1)\n",
    "y = Albany_df[\"Length of Stay\"]"
   ]
  },
  {
   "cell_type": "code",
   "execution_count": 190,
   "id": "269016af",
   "metadata": {
    "execution": {
     "iopub.execute_input": "2023-02-21T12:05:39.674045Z",
     "iopub.status.busy": "2023-02-21T12:05:39.673293Z",
     "iopub.status.idle": "2023-02-21T12:05:39.688770Z",
     "shell.execute_reply": "2023-02-21T12:05:39.687848Z"
    },
    "papermill": {
     "duration": 0.096531,
     "end_time": "2023-02-21T12:05:39.691329",
     "exception": false,
     "start_time": "2023-02-21T12:05:39.594798",
     "status": "completed"
    },
    "tags": []
   },
   "outputs": [],
   "source": [
    "from sklearn.model_selection import train_test_split\n",
    "x_train, x_test, y_train, y_test = train_test_split(x, y, test_size=0.3, random_state=42)"
   ]
  },
  {
   "cell_type": "code",
   "execution_count": 191,
   "id": "200a96bc",
   "metadata": {
    "execution": {
     "iopub.execute_input": "2023-02-21T12:05:39.847564Z",
     "iopub.status.busy": "2023-02-21T12:05:39.846789Z",
     "iopub.status.idle": "2023-02-21T12:05:39.882043Z",
     "shell.execute_reply": "2023-02-21T12:05:39.880474Z"
    },
    "papermill": {
     "duration": 0.118024,
     "end_time": "2023-02-21T12:05:39.886411",
     "exception": false,
     "start_time": "2023-02-21T12:05:39.768387",
     "status": "completed"
    },
    "tags": []
   },
   "outputs": [],
   "source": [
    "# Linear Regression\n",
    "\n",
    "LR = LinearRegression()\n",
    "LR.fit(x_train, y_train)\n",
    "LR.score(x_train, y_train)\n",
    "y_pred =LR.predict(x_test)\n"
   ]
  },
  {
   "cell_type": "code",
   "execution_count": 192,
   "id": "434cb660",
   "metadata": {
    "execution": {
     "iopub.execute_input": "2023-02-21T12:05:40.171573Z",
     "iopub.status.busy": "2023-02-21T12:05:40.171159Z",
     "iopub.status.idle": "2023-02-21T12:05:40.179902Z",
     "shell.execute_reply": "2023-02-21T12:05:40.178783Z"
    },
    "papermill": {
     "duration": 0.146548,
     "end_time": "2023-02-21T12:05:40.182234",
     "exception": false,
     "start_time": "2023-02-21T12:05:40.035686",
     "status": "completed"
    },
    "tags": []
   },
   "outputs": [
    {
     "data": {
      "text/plain": [
       "0.7478105920657923"
      ]
     },
     "execution_count": 192,
     "metadata": {},
     "output_type": "execute_result"
    }
   ],
   "source": [
    "r2 = r2_score(y_test, y_pred)\n",
    "r2 "
   ]
  },
  {
   "cell_type": "code",
   "execution_count": 193,
   "id": "fdb59486",
   "metadata": {
    "execution": {
     "iopub.execute_input": "2023-02-21T12:05:40.341091Z",
     "iopub.status.busy": "2023-02-21T12:05:40.340048Z",
     "iopub.status.idle": "2023-02-21T12:05:40.348525Z",
     "shell.execute_reply": "2023-02-21T12:05:40.347493Z"
    },
    "papermill": {
     "duration": 0.090361,
     "end_time": "2023-02-21T12:05:40.350810",
     "exception": false,
     "start_time": "2023-02-21T12:05:40.260449",
     "status": "completed"
    },
    "tags": []
   },
   "outputs": [
    {
     "data": {
      "text/plain": [
       "2.3205026865513774"
      ]
     },
     "execution_count": 193,
     "metadata": {},
     "output_type": "execute_result"
    }
   ],
   "source": [
    "# calculate the MAE of the model\n",
    "mae = mean_absolute_error(y_test, y_pred)\n",
    "mae"
   ]
  },
  {
   "cell_type": "code",
   "execution_count": 194,
   "id": "19ab9509",
   "metadata": {
    "execution": {
     "iopub.execute_input": "2023-02-21T12:05:40.508858Z",
     "iopub.status.busy": "2023-02-21T12:05:40.508053Z",
     "iopub.status.idle": "2023-02-21T12:05:40.515994Z",
     "shell.execute_reply": "2023-02-21T12:05:40.515085Z"
    },
    "papermill": {
     "duration": 0.089018,
     "end_time": "2023-02-21T12:05:40.518258",
     "exception": false,
     "start_time": "2023-02-21T12:05:40.429240",
     "status": "completed"
    },
    "tags": []
   },
   "outputs": [
    {
     "data": {
      "text/plain": [
       "16.946608108006014"
      ]
     },
     "execution_count": 194,
     "metadata": {},
     "output_type": "execute_result"
    }
   ],
   "source": [
    "# calculate the MSE of the model\n",
    "mse = mean_squared_error(y_test, y_pred)\n",
    "mse"
   ]
  },
  {
   "cell_type": "code",
   "execution_count": 195,
   "id": "bc7e7803",
   "metadata": {
    "execution": {
     "iopub.execute_input": "2023-02-21T12:05:40.675153Z",
     "iopub.status.busy": "2023-02-21T12:05:40.674352Z",
     "iopub.status.idle": "2023-02-21T12:05:40.681479Z",
     "shell.execute_reply": "2023-02-21T12:05:40.680554Z"
    },
    "papermill": {
     "duration": 0.088396,
     "end_time": "2023-02-21T12:05:40.683679",
     "exception": false,
     "start_time": "2023-02-21T12:05:40.595283",
     "status": "completed"
    },
    "tags": []
   },
   "outputs": [
    {
     "data": {
      "text/plain": [
       "4.116625815884413"
      ]
     },
     "execution_count": 195,
     "metadata": {},
     "output_type": "execute_result"
    }
   ],
   "source": [
    "# calculate the RMSE of the model\n",
    "rmse = np.sqrt(mse)\n",
    "rmse"
   ]
  },
  {
   "cell_type": "code",
   "execution_count": 196,
   "id": "66a10173",
   "metadata": {
    "execution": {
     "iopub.execute_input": "2023-02-21T12:05:40.842185Z",
     "iopub.status.busy": "2023-02-21T12:05:40.841372Z",
     "iopub.status.idle": "2023-02-21T12:05:40.946450Z",
     "shell.execute_reply": "2023-02-21T12:05:40.944775Z"
    },
    "papermill": {
     "duration": 0.189723,
     "end_time": "2023-02-21T12:05:40.950704",
     "exception": false,
     "start_time": "2023-02-21T12:05:40.760981",
     "status": "completed"
    },
    "tags": []
   },
   "outputs": [],
   "source": [
    "# LASSO\n",
    "L1 = linear_model.Lasso()\n",
    "L1.fit(x_train,y_train)\n",
    "y_pred1 = L1.predict(x_test)"
   ]
  },
  {
   "cell_type": "code",
   "execution_count": 197,
   "id": "366fc87f",
   "metadata": {
    "execution": {
     "iopub.execute_input": "2023-02-21T12:05:41.178494Z",
     "iopub.status.busy": "2023-02-21T12:05:41.178060Z",
     "iopub.status.idle": "2023-02-21T12:05:41.186490Z",
     "shell.execute_reply": "2023-02-21T12:05:41.185482Z"
    },
    "papermill": {
     "duration": 0.089238,
     "end_time": "2023-02-21T12:05:41.188772",
     "exception": false,
     "start_time": "2023-02-21T12:05:41.099534",
     "status": "completed"
    },
    "tags": []
   },
   "outputs": [
    {
     "data": {
      "text/plain": [
       "0.730292669976124"
      ]
     },
     "execution_count": 197,
     "metadata": {},
     "output_type": "execute_result"
    }
   ],
   "source": [
    "r2 = r2_score(y_test, y_pred1)\n",
    "r2 \n"
   ]
  },
  {
   "cell_type": "code",
   "execution_count": 198,
   "id": "ad26f7e2",
   "metadata": {
    "execution": {
     "iopub.execute_input": "2023-02-21T12:05:41.346572Z",
     "iopub.status.busy": "2023-02-21T12:05:41.345650Z",
     "iopub.status.idle": "2023-02-21T12:05:41.354145Z",
     "shell.execute_reply": "2023-02-21T12:05:41.352983Z"
    },
    "papermill": {
     "duration": 0.090668,
     "end_time": "2023-02-21T12:05:41.356485",
     "exception": false,
     "start_time": "2023-02-21T12:05:41.265817",
     "status": "completed"
    },
    "tags": []
   },
   "outputs": [
    {
     "data": {
      "text/plain": [
       "2.380819108363997"
      ]
     },
     "execution_count": 198,
     "metadata": {},
     "output_type": "execute_result"
    }
   ],
   "source": [
    "# calculate the MAE of the model\n",
    "mae = mean_absolute_error(y_test, y_pred1)\n",
    "mae"
   ]
  },
  {
   "cell_type": "code",
   "execution_count": 199,
   "id": "b8562e4f",
   "metadata": {
    "execution": {
     "iopub.execute_input": "2023-02-21T12:05:41.516182Z",
     "iopub.status.busy": "2023-02-21T12:05:41.515398Z",
     "iopub.status.idle": "2023-02-21T12:05:41.523151Z",
     "shell.execute_reply": "2023-02-21T12:05:41.522272Z"
    },
    "papermill": {
     "duration": 0.090433,
     "end_time": "2023-02-21T12:05:41.525351",
     "exception": false,
     "start_time": "2023-02-21T12:05:41.434918",
     "status": "completed"
    },
    "tags": []
   },
   "outputs": [
    {
     "data": {
      "text/plain": [
       "18.123776344182055"
      ]
     },
     "execution_count": 199,
     "metadata": {},
     "output_type": "execute_result"
    }
   ],
   "source": [
    "# calculate the MSE of the model\n",
    "mse = mean_squared_error(y_test, y_pred1)\n",
    "mse"
   ]
  },
  {
   "cell_type": "code",
   "execution_count": 200,
   "id": "620462d0",
   "metadata": {
    "execution": {
     "iopub.execute_input": "2023-02-21T12:05:41.682120Z",
     "iopub.status.busy": "2023-02-21T12:05:41.681363Z",
     "iopub.status.idle": "2023-02-21T12:05:41.688589Z",
     "shell.execute_reply": "2023-02-21T12:05:41.687639Z"
    },
    "papermill": {
     "duration": 0.088187,
     "end_time": "2023-02-21T12:05:41.690781",
     "exception": false,
     "start_time": "2023-02-21T12:05:41.602594",
     "status": "completed"
    },
    "tags": []
   },
   "outputs": [
    {
     "data": {
      "text/plain": [
       "4.257202877968356"
      ]
     },
     "execution_count": 200,
     "metadata": {},
     "output_type": "execute_result"
    }
   ],
   "source": [
    "# calculate the RMSE of the model\n",
    "rmse = np.sqrt(mse)\n",
    "rmse"
   ]
  },
  {
   "cell_type": "code",
   "execution_count": 201,
   "id": "52f9efbd",
   "metadata": {
    "execution": {
     "iopub.execute_input": "2023-02-21T12:05:41.847464Z",
     "iopub.status.busy": "2023-02-21T12:05:41.847038Z",
     "iopub.status.idle": "2023-02-21T12:05:41.867714Z",
     "shell.execute_reply": "2023-02-21T12:05:41.865991Z"
    },
    "papermill": {
     "duration": 0.104766,
     "end_time": "2023-02-21T12:05:41.872795",
     "exception": false,
     "start_time": "2023-02-21T12:05:41.768029",
     "status": "completed"
    },
    "tags": []
   },
   "outputs": [],
   "source": [
    "# Ridge\n",
    "L2 = Ridge(alpha=1.0)\n",
    "L2.fit(x_train, y_train) \n",
    "y_pred3 = L2.predict(x_test)"
   ]
  },
  {
   "cell_type": "code",
   "execution_count": 202,
   "id": "b25662c7",
   "metadata": {
    "execution": {
     "iopub.execute_input": "2023-02-21T12:05:42.101835Z",
     "iopub.status.busy": "2023-02-21T12:05:42.101418Z",
     "iopub.status.idle": "2023-02-21T12:05:42.109590Z",
     "shell.execute_reply": "2023-02-21T12:05:42.108534Z"
    },
    "papermill": {
     "duration": 0.088993,
     "end_time": "2023-02-21T12:05:42.111823",
     "exception": false,
     "start_time": "2023-02-21T12:05:42.022830",
     "status": "completed"
    },
    "tags": []
   },
   "outputs": [
    {
     "data": {
      "text/plain": [
       "0.7478105537618742"
      ]
     },
     "execution_count": 202,
     "metadata": {},
     "output_type": "execute_result"
    }
   ],
   "source": [
    "r2 = r2_score(y_test, y_pred3)\n",
    "r2 "
   ]
  },
  {
   "cell_type": "code",
   "execution_count": 203,
   "id": "fb5e806d",
   "metadata": {
    "execution": {
     "iopub.execute_input": "2023-02-21T12:05:42.269503Z",
     "iopub.status.busy": "2023-02-21T12:05:42.269067Z",
     "iopub.status.idle": "2023-02-21T12:05:42.277808Z",
     "shell.execute_reply": "2023-02-21T12:05:42.276565Z"
    },
    "papermill": {
     "duration": 0.090624,
     "end_time": "2023-02-21T12:05:42.280062",
     "exception": false,
     "start_time": "2023-02-21T12:05:42.189438",
     "status": "completed"
    },
    "tags": []
   },
   "outputs": [
    {
     "data": {
      "text/plain": [
       "2.3204943412883794"
      ]
     },
     "execution_count": 203,
     "metadata": {},
     "output_type": "execute_result"
    }
   ],
   "source": [
    "# calculate the MAE of the model\n",
    "mae = mean_absolute_error(y_test, y_pred3)\n",
    "mae"
   ]
  },
  {
   "cell_type": "code",
   "execution_count": 204,
   "id": "501e9c60",
   "metadata": {
    "execution": {
     "iopub.execute_input": "2023-02-21T12:05:42.436962Z",
     "iopub.status.busy": "2023-02-21T12:05:42.436566Z",
     "iopub.status.idle": "2023-02-21T12:05:42.444677Z",
     "shell.execute_reply": "2023-02-21T12:05:42.443553Z"
    },
    "papermill": {
     "duration": 0.089359,
     "end_time": "2023-02-21T12:05:42.446890",
     "exception": false,
     "start_time": "2023-02-21T12:05:42.357531",
     "status": "completed"
    },
    "tags": []
   },
   "outputs": [
    {
     "data": {
      "text/plain": [
       "16.946610681950318"
      ]
     },
     "execution_count": 204,
     "metadata": {},
     "output_type": "execute_result"
    }
   ],
   "source": [
    "# calculate the MSE of the model\n",
    "mse = mean_squared_error(y_test, y_pred3)\n",
    "mse"
   ]
  },
  {
   "cell_type": "code",
   "execution_count": 205,
   "id": "5fc21b67",
   "metadata": {
    "execution": {
     "iopub.execute_input": "2023-02-21T12:05:42.605684Z",
     "iopub.status.busy": "2023-02-21T12:05:42.604723Z",
     "iopub.status.idle": "2023-02-21T12:05:42.611114Z",
     "shell.execute_reply": "2023-02-21T12:05:42.610288Z"
    },
    "papermill": {
     "duration": 0.088043,
     "end_time": "2023-02-21T12:05:42.613694",
     "exception": false,
     "start_time": "2023-02-21T12:05:42.525651",
     "status": "completed"
    },
    "tags": []
   },
   "outputs": [
    {
     "data": {
      "text/plain": [
       "4.116626128512318"
      ]
     },
     "execution_count": 205,
     "metadata": {},
     "output_type": "execute_result"
    }
   ],
   "source": [
    "# calculate the RMSE of the model\n",
    "rmse = np.sqrt(mse)\n",
    "rmse"
   ]
  },
  {
   "cell_type": "markdown",
   "id": "0c26024a",
   "metadata": {
    "papermill": {
     "duration": 0.077422,
     "end_time": "2023-02-21T12:05:42.770077",
     "exception": false,
     "start_time": "2023-02-21T12:05:42.692655",
     "status": "completed"
    },
    "tags": []
   },
   "source": [
    "Clent 2 : St Josephs Hospital Health Center"
   ]
  },
  {
   "cell_type": "code",
   "execution_count": 206,
   "id": "76e85433",
   "metadata": {
    "execution": {
     "iopub.execute_input": "2023-02-21T12:05:42.931267Z",
     "iopub.status.busy": "2023-02-21T12:05:42.930200Z",
     "iopub.status.idle": "2023-02-21T12:05:43.096329Z",
     "shell.execute_reply": "2023-02-21T12:05:43.095266Z"
    },
    "papermill": {
     "duration": 0.249543,
     "end_time": "2023-02-21T12:05:43.098956",
     "exception": false,
     "start_time": "2023-02-21T12:05:42.849413",
     "status": "completed"
    },
    "tags": []
   },
   "outputs": [],
   "source": [
    "Josephs_df=df[df[\"Facility Name\"]== 'St Josephs Hospital Health Center']"
   ]
  },
  {
   "cell_type": "code",
   "execution_count": 207,
   "id": "6392eff2",
   "metadata": {
    "execution": {
     "iopub.execute_input": "2023-02-21T12:05:43.256757Z",
     "iopub.status.busy": "2023-02-21T12:05:43.256360Z",
     "iopub.status.idle": "2023-02-21T12:05:43.266106Z",
     "shell.execute_reply": "2023-02-21T12:05:43.264637Z"
    },
    "papermill": {
     "duration": 0.091392,
     "end_time": "2023-02-21T12:05:43.268542",
     "exception": false,
     "start_time": "2023-02-21T12:05:43.177150",
     "status": "completed"
    },
    "tags": []
   },
   "outputs": [
    {
     "name": "stderr",
     "output_type": "stream",
     "text": [
      "/opt/conda/lib/python3.7/site-packages/ipykernel_launcher.py:3: SettingWithCopyWarning: \n",
      "A value is trying to be set on a copy of a slice from a DataFrame.\n",
      "Try using .loc[row_indexer,col_indexer] = value instead\n",
      "\n",
      "See the caveats in the documentation: https://pandas.pydata.org/pandas-docs/stable/user_guide/indexing.html#returning-a-view-versus-a-copy\n",
      "  This is separate from the ipykernel package so we can avoid doing imports until\n",
      "/opt/conda/lib/python3.7/site-packages/ipykernel_launcher.py:5: SettingWithCopyWarning: \n",
      "A value is trying to be set on a copy of a slice from a DataFrame.\n",
      "Try using .loc[row_indexer,col_indexer] = value instead\n",
      "\n",
      "See the caveats in the documentation: https://pandas.pydata.org/pandas-docs/stable/user_guide/indexing.html#returning-a-view-versus-a-copy\n",
      "  \"\"\"\n"
     ]
    }
   ],
   "source": [
    "#   simple mapping on binary features.\n",
    "Josephs_df['Abortion Edit Indicator'] = Josephs_df['Abortion Edit Indicator'].apply(\n",
    "     lambda x: 1 if x == 'Y' else (0 if x == 'N' else None))\n",
    "Josephs_df['Emergency Department Indicator'] = Josephs_df['Emergency Department Indicator'].apply(\n",
    "    lambda x: 1 if x == 'Y' else (0 if x == 'N' else None))"
   ]
  },
  {
   "cell_type": "code",
   "execution_count": 208,
   "id": "d17d58a7",
   "metadata": {
    "execution": {
     "iopub.execute_input": "2023-02-21T12:05:43.429328Z",
     "iopub.status.busy": "2023-02-21T12:05:43.428619Z",
     "iopub.status.idle": "2023-02-21T12:05:43.538838Z",
     "shell.execute_reply": "2023-02-21T12:05:43.537951Z"
    },
    "papermill": {
     "duration": 0.19332,
     "end_time": "2023-02-21T12:05:43.541402",
     "exception": false,
     "start_time": "2023-02-21T12:05:43.348082",
     "status": "completed"
    },
    "tags": []
   },
   "outputs": [
    {
     "name": "stderr",
     "output_type": "stream",
     "text": [
      "/opt/conda/lib/python3.7/site-packages/ipykernel_launcher.py:29: SettingWithCopyWarning: \n",
      "A value is trying to be set on a copy of a slice from a DataFrame.\n",
      "Try using .loc[row_indexer,col_indexer] = value instead\n",
      "\n",
      "See the caveats in the documentation: https://pandas.pydata.org/pandas-docs/stable/user_guide/indexing.html#returning-a-view-versus-a-copy\n"
     ]
    }
   ],
   "source": [
    "list=  [ \"Hospital County\",\"Age Group\"\n",
    "    ,\"Gender\",   \n",
    " \"Race\" , \n",
    "\"Ethnicity\", \n",
    "\"Gender\" , \n",
    "\"Race\" ,    \n",
    " \"Ethnicity\" ,        \n",
    " \"Type of Admission\"  ,  \n",
    "  \"Patient Disposition\",      \n",
    " \"Type of Admission\" ,  \n",
    " \"Patient Disposition\"  ,\n",
    "  \"APR Risk of Mortality\" ,   \n",
    " \"APR Medical Surgical Description\" ,\n",
    " \"Payment Typology 1\"   ,   \n",
    " \"Abortion Edit Indicator\"     ,  \n",
    " \"Emergency Department Indicator\",\n",
    "       \"Zip Code - 3 digits\",\"Payment Typology 2\"        \n",
    "   ,\"Payment Typology 3\"]  \n",
    "\n",
    "# Import label encoder\n",
    "from sklearn import preprocessing\n",
    "  \n",
    "# label_encoder object knows how to understand word labels.        \n",
    "   \n",
    "label_encoder = preprocessing.LabelEncoder()\n",
    "  \n",
    "# Encode labels in column 'species'. \n",
    "for col in list :\n",
    "    Josephs_df[col]= label_encoder.fit_transform(Josephs_df[col])"
   ]
  },
  {
   "cell_type": "code",
   "execution_count": 209,
   "id": "e397cec4",
   "metadata": {
    "execution": {
     "iopub.execute_input": "2023-02-21T12:05:43.700406Z",
     "iopub.status.busy": "2023-02-21T12:05:43.699733Z",
     "iopub.status.idle": "2023-02-21T12:05:43.708528Z",
     "shell.execute_reply": "2023-02-21T12:05:43.707610Z"
    },
    "papermill": {
     "duration": 0.09093,
     "end_time": "2023-02-21T12:05:43.710845",
     "exception": false,
     "start_time": "2023-02-21T12:05:43.619915",
     "status": "completed"
    },
    "tags": []
   },
   "outputs": [],
   "source": [
    "Josephs_df=Josephs_df.drop(\"Facility Name\", axis=1)\n"
   ]
  },
  {
   "cell_type": "code",
   "execution_count": 210,
   "id": "3b791e2b",
   "metadata": {
    "execution": {
     "iopub.execute_input": "2023-02-21T12:05:43.869724Z",
     "iopub.status.busy": "2023-02-21T12:05:43.869014Z",
     "iopub.status.idle": "2023-02-21T12:05:43.887653Z",
     "shell.execute_reply": "2023-02-21T12:05:43.886334Z"
    },
    "papermill": {
     "duration": 0.102032,
     "end_time": "2023-02-21T12:05:43.890284",
     "exception": false,
     "start_time": "2023-02-21T12:05:43.788252",
     "status": "completed"
    },
    "tags": []
   },
   "outputs": [],
   "source": [
    "Josephs_df[\"Length of Stay\"]=pd.to_numeric(Josephs_df[\"Length of Stay\"],errors='coerce')\n"
   ]
  },
  {
   "cell_type": "code",
   "execution_count": 211,
   "id": "24c62e93",
   "metadata": {
    "execution": {
     "iopub.execute_input": "2023-02-21T12:05:44.054470Z",
     "iopub.status.busy": "2023-02-21T12:05:44.054071Z",
     "iopub.status.idle": "2023-02-21T12:05:44.066565Z",
     "shell.execute_reply": "2023-02-21T12:05:44.065538Z"
    },
    "papermill": {
     "duration": 0.09884,
     "end_time": "2023-02-21T12:05:44.069119",
     "exception": false,
     "start_time": "2023-02-21T12:05:43.970279",
     "status": "completed"
    },
    "tags": []
   },
   "outputs": [],
   "source": [
    "Josephs_df.dropna(inplace=True)"
   ]
  },
  {
   "cell_type": "code",
   "execution_count": 212,
   "id": "0d05c6ba",
   "metadata": {
    "execution": {
     "iopub.execute_input": "2023-02-21T12:05:44.229453Z",
     "iopub.status.busy": "2023-02-21T12:05:44.228792Z",
     "iopub.status.idle": "2023-02-21T12:05:44.243529Z",
     "shell.execute_reply": "2023-02-21T12:05:44.242436Z"
    },
    "papermill": {
     "duration": 0.097633,
     "end_time": "2023-02-21T12:05:44.246368",
     "exception": false,
     "start_time": "2023-02-21T12:05:44.148735",
     "status": "completed"
    },
    "tags": []
   },
   "outputs": [
    {
     "name": "stdout",
     "output_type": "stream",
     "text": [
      "<class 'pandas.core.frame.DataFrame'>\n",
      "Int64Index: 25626 entries, 355968 to 433177\n",
      "Data columns (total 27 columns):\n",
      " #   Column                            Non-Null Count  Dtype  \n",
      "---  ------                            --------------  -----  \n",
      " 0   Hospital County                   25626 non-null  int64  \n",
      " 1   Operating Certificate Number      25626 non-null  float64\n",
      " 2   Facility Id                       25626 non-null  float64\n",
      " 3   Age Group                         25626 non-null  int64  \n",
      " 4   Zip Code - 3 digits               25626 non-null  int64  \n",
      " 5   Gender                            25626 non-null  int64  \n",
      " 6   Race                              25626 non-null  int64  \n",
      " 7   Ethnicity                         25626 non-null  int64  \n",
      " 8   Length of Stay                    25626 non-null  float64\n",
      " 9   Type of Admission                 25626 non-null  int64  \n",
      " 10  Patient Disposition               25626 non-null  int64  \n",
      " 11  Discharge Year                    25626 non-null  int64  \n",
      " 12  CCS Diagnosis Code                25626 non-null  int64  \n",
      " 13  CCS Procedure Code                25626 non-null  int64  \n",
      " 14  APR DRG Code                      25626 non-null  int64  \n",
      " 15  APR MDC Code                      25626 non-null  int64  \n",
      " 16  APR Severity of Illness Code      25626 non-null  int64  \n",
      " 17  APR Risk of Mortality             25626 non-null  int64  \n",
      " 18  APR Medical Surgical Description  25626 non-null  int64  \n",
      " 19  Payment Typology 1                25626 non-null  int64  \n",
      " 20  Payment Typology 2                25626 non-null  int64  \n",
      " 21  Payment Typology 3                25626 non-null  int64  \n",
      " 22  Birth Weight                      25626 non-null  int64  \n",
      " 23  Abortion Edit Indicator           25626 non-null  int64  \n",
      " 24  Emergency Department Indicator    25626 non-null  int64  \n",
      " 25  Total Charges                     25626 non-null  float64\n",
      " 26  Total Costs                       25626 non-null  float64\n",
      "dtypes: float64(5), int64(22)\n",
      "memory usage: 5.5 MB\n"
     ]
    }
   ],
   "source": [
    "Josephs_df.info()"
   ]
  },
  {
   "cell_type": "code",
   "execution_count": 213,
   "id": "f44619ad",
   "metadata": {
    "execution": {
     "iopub.execute_input": "2023-02-21T12:05:44.411157Z",
     "iopub.status.busy": "2023-02-21T12:05:44.410393Z",
     "iopub.status.idle": "2023-02-21T12:05:44.418086Z",
     "shell.execute_reply": "2023-02-21T12:05:44.416735Z"
    },
    "papermill": {
     "duration": 0.092029,
     "end_time": "2023-02-21T12:05:44.420863",
     "exception": false,
     "start_time": "2023-02-21T12:05:44.328834",
     "status": "completed"
    },
    "tags": []
   },
   "outputs": [],
   "source": [
    "x = Josephs_df.drop([\"Length of Stay\"], axis =1)\n",
    "y = Josephs_df[\"Length of Stay\"]"
   ]
  },
  {
   "cell_type": "code",
   "execution_count": 214,
   "id": "bcb44609",
   "metadata": {
    "execution": {
     "iopub.execute_input": "2023-02-21T12:05:44.582594Z",
     "iopub.status.busy": "2023-02-21T12:05:44.582017Z",
     "iopub.status.idle": "2023-02-21T12:05:44.596706Z",
     "shell.execute_reply": "2023-02-21T12:05:44.595835Z"
    },
    "papermill": {
     "duration": 0.096717,
     "end_time": "2023-02-21T12:05:44.599067",
     "exception": false,
     "start_time": "2023-02-21T12:05:44.502350",
     "status": "completed"
    },
    "tags": []
   },
   "outputs": [],
   "source": [
    "from sklearn.model_selection import train_test_split\n",
    "x_train, x_test, y_train, y_test = train_test_split(x, y, test_size=0.3, random_state=42)"
   ]
  },
  {
   "cell_type": "code",
   "execution_count": 215,
   "id": "0df71d89",
   "metadata": {
    "execution": {
     "iopub.execute_input": "2023-02-21T12:05:44.818718Z",
     "iopub.status.busy": "2023-02-21T12:05:44.817340Z",
     "iopub.status.idle": "2023-02-21T12:05:44.852379Z",
     "shell.execute_reply": "2023-02-21T12:05:44.850644Z"
    },
    "papermill": {
     "duration": 0.178735,
     "end_time": "2023-02-21T12:05:44.856316",
     "exception": false,
     "start_time": "2023-02-21T12:05:44.677581",
     "status": "completed"
    },
    "tags": []
   },
   "outputs": [],
   "source": [
    "# Linear Regression\n",
    "\n",
    "LR = LinearRegression()\n",
    "LR.fit(x_train, y_train)\n",
    "LR.score(x_train, y_train)\n",
    "y_pred =LR.predict(x_test)"
   ]
  },
  {
   "cell_type": "code",
   "execution_count": 216,
   "id": "cff5028b",
   "metadata": {
    "execution": {
     "iopub.execute_input": "2023-02-21T12:05:45.088618Z",
     "iopub.status.busy": "2023-02-21T12:05:45.088205Z",
     "iopub.status.idle": "2023-02-21T12:05:45.097215Z",
     "shell.execute_reply": "2023-02-21T12:05:45.096192Z"
    },
    "papermill": {
     "duration": 0.091228,
     "end_time": "2023-02-21T12:05:45.099464",
     "exception": false,
     "start_time": "2023-02-21T12:05:45.008236",
     "status": "completed"
    },
    "tags": []
   },
   "outputs": [
    {
     "data": {
      "text/plain": [
       "0.6574754436024834"
      ]
     },
     "execution_count": 216,
     "metadata": {},
     "output_type": "execute_result"
    }
   ],
   "source": [
    "r2 = r2_score(y_test, y_pred)\n",
    "r2"
   ]
  },
  {
   "cell_type": "code",
   "execution_count": 217,
   "id": "7936b5a9",
   "metadata": {
    "execution": {
     "iopub.execute_input": "2023-02-21T12:05:45.259925Z",
     "iopub.status.busy": "2023-02-21T12:05:45.259090Z",
     "iopub.status.idle": "2023-02-21T12:05:45.273674Z",
     "shell.execute_reply": "2023-02-21T12:05:45.271608Z"
    },
    "papermill": {
     "duration": 0.099338,
     "end_time": "2023-02-21T12:05:45.277731",
     "exception": false,
     "start_time": "2023-02-21T12:05:45.178393",
     "status": "completed"
    },
    "tags": []
   },
   "outputs": [
    {
     "data": {
      "text/plain": [
       "2.0719697846829397"
      ]
     },
     "execution_count": 217,
     "metadata": {},
     "output_type": "execute_result"
    }
   ],
   "source": [
    "# calculate the MAE of the model\n",
    "mae = mean_absolute_error(y_test, y_pred)\n",
    "mae"
   ]
  },
  {
   "cell_type": "code",
   "execution_count": 218,
   "id": "2f6cd477",
   "metadata": {
    "execution": {
     "iopub.execute_input": "2023-02-21T12:05:45.466372Z",
     "iopub.status.busy": "2023-02-21T12:05:45.465943Z",
     "iopub.status.idle": "2023-02-21T12:05:45.474336Z",
     "shell.execute_reply": "2023-02-21T12:05:45.473274Z"
    },
    "papermill": {
     "duration": 0.093074,
     "end_time": "2023-02-21T12:05:45.476477",
     "exception": false,
     "start_time": "2023-02-21T12:05:45.383403",
     "status": "completed"
    },
    "tags": []
   },
   "outputs": [
    {
     "data": {
      "text/plain": [
       "13.044654985643254"
      ]
     },
     "execution_count": 218,
     "metadata": {},
     "output_type": "execute_result"
    }
   ],
   "source": [
    "# calculate the MSE of the model\n",
    "mse = mean_squared_error(y_test, y_pred)\n",
    "mse"
   ]
  },
  {
   "cell_type": "code",
   "execution_count": 219,
   "id": "890b97d8",
   "metadata": {
    "execution": {
     "iopub.execute_input": "2023-02-21T12:05:45.637327Z",
     "iopub.status.busy": "2023-02-21T12:05:45.636540Z",
     "iopub.status.idle": "2023-02-21T12:05:45.642978Z",
     "shell.execute_reply": "2023-02-21T12:05:45.642106Z"
    },
    "papermill": {
     "duration": 0.09022,
     "end_time": "2023-02-21T12:05:45.645002",
     "exception": false,
     "start_time": "2023-02-21T12:05:45.554782",
     "status": "completed"
    },
    "tags": []
   },
   "outputs": [
    {
     "data": {
      "text/plain": [
       "3.6117384990670702"
      ]
     },
     "execution_count": 219,
     "metadata": {},
     "output_type": "execute_result"
    }
   ],
   "source": [
    "# calculate the RMSE of the model\n",
    "rmse = np.sqrt(mse)\n",
    "rmse"
   ]
  },
  {
   "cell_type": "code",
   "execution_count": 220,
   "id": "f9fa69b5",
   "metadata": {
    "execution": {
     "iopub.execute_input": "2023-02-21T12:05:45.804218Z",
     "iopub.status.busy": "2023-02-21T12:05:45.803532Z",
     "iopub.status.idle": "2023-02-21T12:05:45.838669Z",
     "shell.execute_reply": "2023-02-21T12:05:45.837022Z"
    },
    "papermill": {
     "duration": 0.119431,
     "end_time": "2023-02-21T12:05:45.843234",
     "exception": false,
     "start_time": "2023-02-21T12:05:45.723803",
     "status": "completed"
    },
    "tags": []
   },
   "outputs": [],
   "source": [
    "# LASSO\n",
    "L1 = linear_model.Lasso()\n",
    "L1.fit(x_train,y_train)\n",
    "y_pred1 = L1.predict(x_test)"
   ]
  },
  {
   "cell_type": "code",
   "execution_count": 221,
   "id": "a57121cd",
   "metadata": {
    "execution": {
     "iopub.execute_input": "2023-02-21T12:05:46.076305Z",
     "iopub.status.busy": "2023-02-21T12:05:46.075907Z",
     "iopub.status.idle": "2023-02-21T12:05:46.083544Z",
     "shell.execute_reply": "2023-02-21T12:05:46.082623Z"
    },
    "papermill": {
     "duration": 0.090522,
     "end_time": "2023-02-21T12:05:46.085759",
     "exception": false,
     "start_time": "2023-02-21T12:05:45.995237",
     "status": "completed"
    },
    "tags": []
   },
   "outputs": [
    {
     "data": {
      "text/plain": [
       "0.5810415145070502"
      ]
     },
     "execution_count": 221,
     "metadata": {},
     "output_type": "execute_result"
    }
   ],
   "source": [
    "r2 = r2_score(y_test, y_pred1)\n",
    "r2 "
   ]
  },
  {
   "cell_type": "code",
   "execution_count": 222,
   "id": "17724199",
   "metadata": {
    "execution": {
     "iopub.execute_input": "2023-02-21T12:05:46.247183Z",
     "iopub.status.busy": "2023-02-21T12:05:46.246434Z",
     "iopub.status.idle": "2023-02-21T12:05:46.253301Z",
     "shell.execute_reply": "2023-02-21T12:05:46.252414Z"
    },
    "papermill": {
     "duration": 0.089521,
     "end_time": "2023-02-21T12:05:46.255724",
     "exception": false,
     "start_time": "2023-02-21T12:05:46.166203",
     "status": "completed"
    },
    "tags": []
   },
   "outputs": [
    {
     "data": {
      "text/plain": [
       "2.455629978876319"
      ]
     },
     "execution_count": 222,
     "metadata": {},
     "output_type": "execute_result"
    }
   ],
   "source": [
    "# calculate the MAE of the model\n",
    "mae = mean_absolute_error(y_test, y_pred1)\n",
    "mae"
   ]
  },
  {
   "cell_type": "code",
   "execution_count": 223,
   "id": "6b672ece",
   "metadata": {
    "execution": {
     "iopub.execute_input": "2023-02-21T12:05:46.418017Z",
     "iopub.status.busy": "2023-02-21T12:05:46.417271Z",
     "iopub.status.idle": "2023-02-21T12:05:46.424191Z",
     "shell.execute_reply": "2023-02-21T12:05:46.423420Z"
    },
    "papermill": {
     "duration": 0.089988,
     "end_time": "2023-02-21T12:05:46.426273",
     "exception": false,
     "start_time": "2023-02-21T12:05:46.336285",
     "status": "completed"
    },
    "tags": []
   },
   "outputs": [
    {
     "data": {
      "text/plain": [
       "15.95555353473856"
      ]
     },
     "execution_count": 223,
     "metadata": {},
     "output_type": "execute_result"
    }
   ],
   "source": [
    "# calculate the MSE of the model\n",
    "mse = mean_squared_error(y_test, y_pred1)\n",
    "mse"
   ]
  },
  {
   "cell_type": "code",
   "execution_count": 224,
   "id": "2ec08407",
   "metadata": {
    "execution": {
     "iopub.execute_input": "2023-02-21T12:05:46.588320Z",
     "iopub.status.busy": "2023-02-21T12:05:46.587840Z",
     "iopub.status.idle": "2023-02-21T12:05:46.595596Z",
     "shell.execute_reply": "2023-02-21T12:05:46.594455Z"
    },
    "papermill": {
     "duration": 0.09226,
     "end_time": "2023-02-21T12:05:46.597980",
     "exception": false,
     "start_time": "2023-02-21T12:05:46.505720",
     "status": "completed"
    },
    "tags": []
   },
   "outputs": [
    {
     "data": {
      "text/plain": [
       "3.994440328098363"
      ]
     },
     "execution_count": 224,
     "metadata": {},
     "output_type": "execute_result"
    }
   ],
   "source": [
    "# calculate the RMSE of the model\n",
    "rmse = np.sqrt(mse)\n",
    "rmse"
   ]
  },
  {
   "cell_type": "code",
   "execution_count": 225,
   "id": "27329b1e",
   "metadata": {
    "execution": {
     "iopub.execute_input": "2023-02-21T12:05:46.761264Z",
     "iopub.status.busy": "2023-02-21T12:05:46.760456Z",
     "iopub.status.idle": "2023-02-21T12:05:46.780818Z",
     "shell.execute_reply": "2023-02-21T12:05:46.779202Z"
    },
    "papermill": {
     "duration": 0.105555,
     "end_time": "2023-02-21T12:05:46.785174",
     "exception": false,
     "start_time": "2023-02-21T12:05:46.679619",
     "status": "completed"
    },
    "tags": []
   },
   "outputs": [],
   "source": [
    "# Ridge\n",
    "L2 = Ridge(alpha=1.0)\n",
    "L2.fit(x_train, y_train) \n",
    "y_pred3 = L2.predict(x_test)"
   ]
  },
  {
   "cell_type": "code",
   "execution_count": 226,
   "id": "67bf6bf9",
   "metadata": {
    "execution": {
     "iopub.execute_input": "2023-02-21T12:05:47.019262Z",
     "iopub.status.busy": "2023-02-21T12:05:47.018845Z",
     "iopub.status.idle": "2023-02-21T12:05:47.027037Z",
     "shell.execute_reply": "2023-02-21T12:05:47.026185Z"
    },
    "papermill": {
     "duration": 0.091685,
     "end_time": "2023-02-21T12:05:47.029266",
     "exception": false,
     "start_time": "2023-02-21T12:05:46.937581",
     "status": "completed"
    },
    "tags": []
   },
   "outputs": [
    {
     "data": {
      "text/plain": [
       "0.6574730902842871"
      ]
     },
     "execution_count": 226,
     "metadata": {},
     "output_type": "execute_result"
    }
   ],
   "source": [
    "r2 = r2_score(y_test, y_pred3)\n",
    "r2 "
   ]
  },
  {
   "cell_type": "code",
   "execution_count": 227,
   "id": "bbbfc8d2",
   "metadata": {
    "execution": {
     "iopub.execute_input": "2023-02-21T12:05:47.192788Z",
     "iopub.status.busy": "2023-02-21T12:05:47.191986Z",
     "iopub.status.idle": "2023-02-21T12:05:47.199867Z",
     "shell.execute_reply": "2023-02-21T12:05:47.198909Z"
    },
    "papermill": {
     "duration": 0.092233,
     "end_time": "2023-02-21T12:05:47.202100",
     "exception": false,
     "start_time": "2023-02-21T12:05:47.109867",
     "status": "completed"
    },
    "tags": []
   },
   "outputs": [
    {
     "data": {
      "text/plain": [
       "2.071950047482412"
      ]
     },
     "execution_count": 227,
     "metadata": {},
     "output_type": "execute_result"
    }
   ],
   "source": [
    "# calculate the MAE of the model\n",
    "mae = mean_absolute_error(y_test, y_pred3)\n",
    "mae"
   ]
  },
  {
   "cell_type": "code",
   "execution_count": 228,
   "id": "f33fc684",
   "metadata": {
    "execution": {
     "iopub.execute_input": "2023-02-21T12:05:47.367613Z",
     "iopub.status.busy": "2023-02-21T12:05:47.366551Z",
     "iopub.status.idle": "2023-02-21T12:05:47.374750Z",
     "shell.execute_reply": "2023-02-21T12:05:47.373616Z"
    },
    "papermill": {
     "duration": 0.094777,
     "end_time": "2023-02-21T12:05:47.377209",
     "exception": false,
     "start_time": "2023-02-21T12:05:47.282432",
     "status": "completed"
    },
    "tags": []
   },
   "outputs": [
    {
     "data": {
      "text/plain": [
       "13.0447446090684"
      ]
     },
     "execution_count": 228,
     "metadata": {},
     "output_type": "execute_result"
    }
   ],
   "source": [
    "# calculate the MSE of the model\n",
    "mse = mean_squared_error(y_test, y_pred3)\n",
    "mse"
   ]
  },
  {
   "cell_type": "code",
   "execution_count": 229,
   "id": "0e0e79ce",
   "metadata": {
    "execution": {
     "iopub.execute_input": "2023-02-21T12:05:47.541853Z",
     "iopub.status.busy": "2023-02-21T12:05:47.541470Z",
     "iopub.status.idle": "2023-02-21T12:05:47.547794Z",
     "shell.execute_reply": "2023-02-21T12:05:47.546859Z"
    },
    "papermill": {
     "duration": 0.091251,
     "end_time": "2023-02-21T12:05:47.549832",
     "exception": false,
     "start_time": "2023-02-21T12:05:47.458581",
     "status": "completed"
    },
    "tags": []
   },
   "outputs": [
    {
     "data": {
      "text/plain": [
       "3.6117509062874755"
      ]
     },
     "execution_count": 229,
     "metadata": {},
     "output_type": "execute_result"
    }
   ],
   "source": [
    "# calculate the RMSE of the model\n",
    "rmse = np.sqrt(mse)\n",
    "rmse"
   ]
  },
  {
   "cell_type": "markdown",
   "id": "c439bef6",
   "metadata": {
    "papermill": {
     "duration": 0.08124,
     "end_time": "2023-02-21T12:05:47.710423",
     "exception": false,
     "start_time": "2023-02-21T12:05:47.629183",
     "status": "completed"
    },
    "tags": []
   },
   "source": [
    "client 3 : Bronx-Lebanon "
   ]
  },
  {
   "cell_type": "code",
   "execution_count": 230,
   "id": "946a1b04",
   "metadata": {
    "execution": {
     "iopub.execute_input": "2023-02-21T12:05:47.873897Z",
     "iopub.status.busy": "2023-02-21T12:05:47.873022Z",
     "iopub.status.idle": "2023-02-21T12:05:48.038595Z",
     "shell.execute_reply": "2023-02-21T12:05:48.037570Z"
    },
    "papermill": {
     "duration": 0.250156,
     "end_time": "2023-02-21T12:05:48.041113",
     "exception": false,
     "start_time": "2023-02-21T12:05:47.790957",
     "status": "completed"
    },
    "tags": []
   },
   "outputs": [],
   "source": [
    "bronx=['Bronx-Lebanon Hospital Center - Fulton Division', 'Bronx-Lebanon Hospital Center - Concourse Division']\n",
    "Bronx_df1=df[df[\"Facility Name\"]== 'Bronx-Lebanon Hospital Center - Fulton Division']"
   ]
  },
  {
   "cell_type": "code",
   "execution_count": 231,
   "id": "8a2e23cb",
   "metadata": {
    "execution": {
     "iopub.execute_input": "2023-02-21T12:05:48.202048Z",
     "iopub.status.busy": "2023-02-21T12:05:48.201677Z",
     "iopub.status.idle": "2023-02-21T12:05:48.355761Z",
     "shell.execute_reply": "2023-02-21T12:05:48.354859Z"
    },
    "papermill": {
     "duration": 0.237062,
     "end_time": "2023-02-21T12:05:48.358011",
     "exception": false,
     "start_time": "2023-02-21T12:05:48.120949",
     "status": "completed"
    },
    "tags": []
   },
   "outputs": [],
   "source": [
    "Bronx_df2=df[df[\"Facility Name\"]== 'Bronx-Lebanon Hospital Center - Concourse Division']"
   ]
  },
  {
   "cell_type": "code",
   "execution_count": 232,
   "id": "078ccff4",
   "metadata": {
    "execution": {
     "iopub.execute_input": "2023-02-21T12:05:48.519520Z",
     "iopub.status.busy": "2023-02-21T12:05:48.519138Z",
     "iopub.status.idle": "2023-02-21T12:05:48.523784Z",
     "shell.execute_reply": "2023-02-21T12:05:48.522625Z"
    },
    "papermill": {
     "duration": 0.08852,
     "end_time": "2023-02-21T12:05:48.526038",
     "exception": false,
     "start_time": "2023-02-21T12:05:48.437518",
     "status": "completed"
    },
    "tags": []
   },
   "outputs": [],
   "source": [
    "l = [Bronx_df1,Bronx_df2]"
   ]
  },
  {
   "cell_type": "code",
   "execution_count": 233,
   "id": "587541df",
   "metadata": {
    "execution": {
     "iopub.execute_input": "2023-02-21T12:05:48.687941Z",
     "iopub.status.busy": "2023-02-21T12:05:48.686961Z",
     "iopub.status.idle": "2023-02-21T12:05:48.737984Z",
     "shell.execute_reply": "2023-02-21T12:05:48.737166Z"
    },
    "papermill": {
     "duration": 0.134431,
     "end_time": "2023-02-21T12:05:48.740233",
     "exception": false,
     "start_time": "2023-02-21T12:05:48.605802",
     "status": "completed"
    },
    "tags": []
   },
   "outputs": [
    {
     "data": {
      "text/html": [
       "<div>\n",
       "<style scoped>\n",
       "    .dataframe tbody tr th:only-of-type {\n",
       "        vertical-align: middle;\n",
       "    }\n",
       "\n",
       "    .dataframe tbody tr th {\n",
       "        vertical-align: top;\n",
       "    }\n",
       "\n",
       "    .dataframe thead th {\n",
       "        text-align: right;\n",
       "    }\n",
       "</style>\n",
       "<table border=\"1\" class=\"dataframe\">\n",
       "  <thead>\n",
       "    <tr style=\"text-align: right;\">\n",
       "      <th></th>\n",
       "      <th>Hospital County</th>\n",
       "      <th>Operating Certificate Number</th>\n",
       "      <th>Facility Id</th>\n",
       "      <th>Facility Name</th>\n",
       "      <th>Age Group</th>\n",
       "      <th>Zip Code - 3 digits</th>\n",
       "      <th>Gender</th>\n",
       "      <th>Race</th>\n",
       "      <th>Ethnicity</th>\n",
       "      <th>Length of Stay</th>\n",
       "      <th>...</th>\n",
       "      <th>APR Risk of Mortality</th>\n",
       "      <th>APR Medical Surgical Description</th>\n",
       "      <th>Payment Typology 1</th>\n",
       "      <th>Payment Typology 2</th>\n",
       "      <th>Payment Typology 3</th>\n",
       "      <th>Birth Weight</th>\n",
       "      <th>Abortion Edit Indicator</th>\n",
       "      <th>Emergency Department Indicator</th>\n",
       "      <th>Total Charges</th>\n",
       "      <th>Total Costs</th>\n",
       "    </tr>\n",
       "  </thead>\n",
       "  <tbody>\n",
       "    <tr>\n",
       "      <th>905707</th>\n",
       "      <td>Bronx</td>\n",
       "      <td>7000001.0</td>\n",
       "      <td>1164.0</td>\n",
       "      <td>Bronx-Lebanon Hospital Center - Fulton Division</td>\n",
       "      <td>50 to 69</td>\n",
       "      <td>104</td>\n",
       "      <td>M</td>\n",
       "      <td>White</td>\n",
       "      <td>Not Span/Hispanic</td>\n",
       "      <td>3</td>\n",
       "      <td>...</td>\n",
       "      <td>Minor</td>\n",
       "      <td>Medical</td>\n",
       "      <td>Medicaid</td>\n",
       "      <td>NaN</td>\n",
       "      <td>NaN</td>\n",
       "      <td>0</td>\n",
       "      <td>N</td>\n",
       "      <td>Y</td>\n",
       "      <td>9004.46</td>\n",
       "      <td>7831.22</td>\n",
       "    </tr>\n",
       "    <tr>\n",
       "      <th>905777</th>\n",
       "      <td>Bronx</td>\n",
       "      <td>7000001.0</td>\n",
       "      <td>1164.0</td>\n",
       "      <td>Bronx-Lebanon Hospital Center - Fulton Division</td>\n",
       "      <td>18 to 29</td>\n",
       "      <td>104</td>\n",
       "      <td>M</td>\n",
       "      <td>Other Race</td>\n",
       "      <td>Unknown</td>\n",
       "      <td>11</td>\n",
       "      <td>...</td>\n",
       "      <td>Minor</td>\n",
       "      <td>Medical</td>\n",
       "      <td>Medicaid</td>\n",
       "      <td>NaN</td>\n",
       "      <td>NaN</td>\n",
       "      <td>0</td>\n",
       "      <td>N</td>\n",
       "      <td>N</td>\n",
       "      <td>18290.67</td>\n",
       "      <td>16470.61</td>\n",
       "    </tr>\n",
       "    <tr>\n",
       "      <th>911991</th>\n",
       "      <td>Bronx</td>\n",
       "      <td>7000001.0</td>\n",
       "      <td>1164.0</td>\n",
       "      <td>Bronx-Lebanon Hospital Center - Fulton Division</td>\n",
       "      <td>50 to 69</td>\n",
       "      <td>104</td>\n",
       "      <td>F</td>\n",
       "      <td>Other Race</td>\n",
       "      <td>Unknown</td>\n",
       "      <td>6</td>\n",
       "      <td>...</td>\n",
       "      <td>Minor</td>\n",
       "      <td>Medical</td>\n",
       "      <td>Medicaid</td>\n",
       "      <td>NaN</td>\n",
       "      <td>NaN</td>\n",
       "      <td>0</td>\n",
       "      <td>N</td>\n",
       "      <td>N</td>\n",
       "      <td>10959.98</td>\n",
       "      <td>10114.66</td>\n",
       "    </tr>\n",
       "    <tr>\n",
       "      <th>912090</th>\n",
       "      <td>Bronx</td>\n",
       "      <td>7000001.0</td>\n",
       "      <td>1164.0</td>\n",
       "      <td>Bronx-Lebanon Hospital Center - Fulton Division</td>\n",
       "      <td>18 to 29</td>\n",
       "      <td>104</td>\n",
       "      <td>M</td>\n",
       "      <td>Other Race</td>\n",
       "      <td>Unknown</td>\n",
       "      <td>22</td>\n",
       "      <td>...</td>\n",
       "      <td>Minor</td>\n",
       "      <td>Medical</td>\n",
       "      <td>Medicaid</td>\n",
       "      <td>NaN</td>\n",
       "      <td>NaN</td>\n",
       "      <td>0</td>\n",
       "      <td>N</td>\n",
       "      <td>Y</td>\n",
       "      <td>32614.70</td>\n",
       "      <td>29786.31</td>\n",
       "    </tr>\n",
       "    <tr>\n",
       "      <th>912212</th>\n",
       "      <td>Bronx</td>\n",
       "      <td>7000001.0</td>\n",
       "      <td>1164.0</td>\n",
       "      <td>Bronx-Lebanon Hospital Center - Fulton Division</td>\n",
       "      <td>50 to 69</td>\n",
       "      <td>104</td>\n",
       "      <td>M</td>\n",
       "      <td>Other Race</td>\n",
       "      <td>Spanish/Hispanic</td>\n",
       "      <td>3</td>\n",
       "      <td>...</td>\n",
       "      <td>Minor</td>\n",
       "      <td>Medical</td>\n",
       "      <td>Medicaid</td>\n",
       "      <td>NaN</td>\n",
       "      <td>NaN</td>\n",
       "      <td>0</td>\n",
       "      <td>N</td>\n",
       "      <td>Y</td>\n",
       "      <td>7838.81</td>\n",
       "      <td>7002.57</td>\n",
       "    </tr>\n",
       "    <tr>\n",
       "      <th>...</th>\n",
       "      <td>...</td>\n",
       "      <td>...</td>\n",
       "      <td>...</td>\n",
       "      <td>...</td>\n",
       "      <td>...</td>\n",
       "      <td>...</td>\n",
       "      <td>...</td>\n",
       "      <td>...</td>\n",
       "      <td>...</td>\n",
       "      <td>...</td>\n",
       "      <td>...</td>\n",
       "      <td>...</td>\n",
       "      <td>...</td>\n",
       "      <td>...</td>\n",
       "      <td>...</td>\n",
       "      <td>...</td>\n",
       "      <td>...</td>\n",
       "      <td>...</td>\n",
       "      <td>...</td>\n",
       "      <td>...</td>\n",
       "      <td>...</td>\n",
       "    </tr>\n",
       "    <tr>\n",
       "      <th>1065404</th>\n",
       "      <td>Bronx</td>\n",
       "      <td>7000001.0</td>\n",
       "      <td>1178.0</td>\n",
       "      <td>Bronx-Lebanon Hospital Center - Concourse Divi...</td>\n",
       "      <td>18 to 29</td>\n",
       "      <td>104</td>\n",
       "      <td>F</td>\n",
       "      <td>Other Race</td>\n",
       "      <td>Unknown</td>\n",
       "      <td>2</td>\n",
       "      <td>...</td>\n",
       "      <td>Minor</td>\n",
       "      <td>Medical</td>\n",
       "      <td>Medicaid</td>\n",
       "      <td>Medicaid</td>\n",
       "      <td>NaN</td>\n",
       "      <td>0</td>\n",
       "      <td>N</td>\n",
       "      <td>N</td>\n",
       "      <td>7194.54</td>\n",
       "      <td>8400.69</td>\n",
       "    </tr>\n",
       "    <tr>\n",
       "      <th>1065405</th>\n",
       "      <td>Bronx</td>\n",
       "      <td>7000001.0</td>\n",
       "      <td>1178.0</td>\n",
       "      <td>Bronx-Lebanon Hospital Center - Concourse Divi...</td>\n",
       "      <td>30 to 49</td>\n",
       "      <td>104</td>\n",
       "      <td>F</td>\n",
       "      <td>Other Race</td>\n",
       "      <td>Unknown</td>\n",
       "      <td>2</td>\n",
       "      <td>...</td>\n",
       "      <td>Minor</td>\n",
       "      <td>Medical</td>\n",
       "      <td>Medicaid</td>\n",
       "      <td>NaN</td>\n",
       "      <td>NaN</td>\n",
       "      <td>0</td>\n",
       "      <td>N</td>\n",
       "      <td>N</td>\n",
       "      <td>9129.09</td>\n",
       "      <td>9080.43</td>\n",
       "    </tr>\n",
       "    <tr>\n",
       "      <th>1065406</th>\n",
       "      <td>Bronx</td>\n",
       "      <td>7000001.0</td>\n",
       "      <td>1178.0</td>\n",
       "      <td>Bronx-Lebanon Hospital Center - Concourse Divi...</td>\n",
       "      <td>0 to 17</td>\n",
       "      <td>104</td>\n",
       "      <td>F</td>\n",
       "      <td>Other Race</td>\n",
       "      <td>Spanish/Hispanic</td>\n",
       "      <td>3</td>\n",
       "      <td>...</td>\n",
       "      <td>Minor</td>\n",
       "      <td>Medical</td>\n",
       "      <td>Private Health Insurance</td>\n",
       "      <td>Private Health Insurance</td>\n",
       "      <td>Medicaid</td>\n",
       "      <td>0</td>\n",
       "      <td>N</td>\n",
       "      <td>Y</td>\n",
       "      <td>14112.64</td>\n",
       "      <td>10711.62</td>\n",
       "    </tr>\n",
       "    <tr>\n",
       "      <th>1065407</th>\n",
       "      <td>Bronx</td>\n",
       "      <td>7000001.0</td>\n",
       "      <td>1178.0</td>\n",
       "      <td>Bronx-Lebanon Hospital Center - Concourse Divi...</td>\n",
       "      <td>70 or Older</td>\n",
       "      <td>104</td>\n",
       "      <td>F</td>\n",
       "      <td>Black/African American</td>\n",
       "      <td>Not Span/Hispanic</td>\n",
       "      <td>5</td>\n",
       "      <td>...</td>\n",
       "      <td>Major</td>\n",
       "      <td>Medical</td>\n",
       "      <td>Medicare</td>\n",
       "      <td>Medicare</td>\n",
       "      <td>Medicaid</td>\n",
       "      <td>0</td>\n",
       "      <td>N</td>\n",
       "      <td>Y</td>\n",
       "      <td>14171.30</td>\n",
       "      <td>16734.73</td>\n",
       "    </tr>\n",
       "    <tr>\n",
       "      <th>1065408</th>\n",
       "      <td>Bronx</td>\n",
       "      <td>7000001.0</td>\n",
       "      <td>1178.0</td>\n",
       "      <td>Bronx-Lebanon Hospital Center - Concourse Divi...</td>\n",
       "      <td>50 to 69</td>\n",
       "      <td>104</td>\n",
       "      <td>F</td>\n",
       "      <td>Black/African American</td>\n",
       "      <td>Not Span/Hispanic</td>\n",
       "      <td>9</td>\n",
       "      <td>...</td>\n",
       "      <td>Extreme</td>\n",
       "      <td>Medical</td>\n",
       "      <td>Medicare</td>\n",
       "      <td>Medicare</td>\n",
       "      <td>Medicaid</td>\n",
       "      <td>0</td>\n",
       "      <td>N</td>\n",
       "      <td>Y</td>\n",
       "      <td>27666.71</td>\n",
       "      <td>29439.26</td>\n",
       "    </tr>\n",
       "  </tbody>\n",
       "</table>\n",
       "<p>31978 rows × 28 columns</p>\n",
       "</div>"
      ],
      "text/plain": [
       "        Hospital County  Operating Certificate Number  Facility Id  \\\n",
       "905707            Bronx                     7000001.0       1164.0   \n",
       "905777            Bronx                     7000001.0       1164.0   \n",
       "911991            Bronx                     7000001.0       1164.0   \n",
       "912090            Bronx                     7000001.0       1164.0   \n",
       "912212            Bronx                     7000001.0       1164.0   \n",
       "...                 ...                           ...          ...   \n",
       "1065404           Bronx                     7000001.0       1178.0   \n",
       "1065405           Bronx                     7000001.0       1178.0   \n",
       "1065406           Bronx                     7000001.0       1178.0   \n",
       "1065407           Bronx                     7000001.0       1178.0   \n",
       "1065408           Bronx                     7000001.0       1178.0   \n",
       "\n",
       "                                             Facility Name    Age Group  \\\n",
       "905707     Bronx-Lebanon Hospital Center - Fulton Division     50 to 69   \n",
       "905777     Bronx-Lebanon Hospital Center - Fulton Division     18 to 29   \n",
       "911991     Bronx-Lebanon Hospital Center - Fulton Division     50 to 69   \n",
       "912090     Bronx-Lebanon Hospital Center - Fulton Division     18 to 29   \n",
       "912212     Bronx-Lebanon Hospital Center - Fulton Division     50 to 69   \n",
       "...                                                    ...          ...   \n",
       "1065404  Bronx-Lebanon Hospital Center - Concourse Divi...     18 to 29   \n",
       "1065405  Bronx-Lebanon Hospital Center - Concourse Divi...     30 to 49   \n",
       "1065406  Bronx-Lebanon Hospital Center - Concourse Divi...      0 to 17   \n",
       "1065407  Bronx-Lebanon Hospital Center - Concourse Divi...  70 or Older   \n",
       "1065408  Bronx-Lebanon Hospital Center - Concourse Divi...     50 to 69   \n",
       "\n",
       "        Zip Code - 3 digits Gender                    Race          Ethnicity  \\\n",
       "905707                  104      M                   White  Not Span/Hispanic   \n",
       "905777                  104      M              Other Race            Unknown   \n",
       "911991                  104      F              Other Race            Unknown   \n",
       "912090                  104      M              Other Race            Unknown   \n",
       "912212                  104      M              Other Race   Spanish/Hispanic   \n",
       "...                     ...    ...                     ...                ...   \n",
       "1065404                 104      F              Other Race            Unknown   \n",
       "1065405                 104      F              Other Race            Unknown   \n",
       "1065406                 104      F              Other Race   Spanish/Hispanic   \n",
       "1065407                 104      F  Black/African American  Not Span/Hispanic   \n",
       "1065408                 104      F  Black/African American  Not Span/Hispanic   \n",
       "\n",
       "        Length of Stay  ... APR Risk of Mortality  \\\n",
       "905707               3  ...                 Minor   \n",
       "905777              11  ...                 Minor   \n",
       "911991               6  ...                 Minor   \n",
       "912090              22  ...                 Minor   \n",
       "912212               3  ...                 Minor   \n",
       "...                ...  ...                   ...   \n",
       "1065404              2  ...                 Minor   \n",
       "1065405              2  ...                 Minor   \n",
       "1065406              3  ...                 Minor   \n",
       "1065407              5  ...                 Major   \n",
       "1065408              9  ...               Extreme   \n",
       "\n",
       "        APR Medical Surgical Description        Payment Typology 1  \\\n",
       "905707                           Medical                  Medicaid   \n",
       "905777                           Medical                  Medicaid   \n",
       "911991                           Medical                  Medicaid   \n",
       "912090                           Medical                  Medicaid   \n",
       "912212                           Medical                  Medicaid   \n",
       "...                                  ...                       ...   \n",
       "1065404                          Medical                  Medicaid   \n",
       "1065405                          Medical                  Medicaid   \n",
       "1065406                          Medical  Private Health Insurance   \n",
       "1065407                          Medical                  Medicare   \n",
       "1065408                          Medical                  Medicare   \n",
       "\n",
       "               Payment Typology 2  Payment Typology 3  Birth Weight  \\\n",
       "905707                        NaN                 NaN             0   \n",
       "905777                        NaN                 NaN             0   \n",
       "911991                        NaN                 NaN             0   \n",
       "912090                        NaN                 NaN             0   \n",
       "912212                        NaN                 NaN             0   \n",
       "...                           ...                 ...           ...   \n",
       "1065404                  Medicaid                 NaN             0   \n",
       "1065405                       NaN                 NaN             0   \n",
       "1065406  Private Health Insurance            Medicaid             0   \n",
       "1065407                  Medicare            Medicaid             0   \n",
       "1065408                  Medicare            Medicaid             0   \n",
       "\n",
       "         Abortion Edit Indicator  Emergency Department Indicator  \\\n",
       "905707                         N                               Y   \n",
       "905777                         N                               N   \n",
       "911991                         N                               N   \n",
       "912090                         N                               Y   \n",
       "912212                         N                               Y   \n",
       "...                          ...                             ...   \n",
       "1065404                        N                               N   \n",
       "1065405                        N                               N   \n",
       "1065406                        N                               Y   \n",
       "1065407                        N                               Y   \n",
       "1065408                        N                               Y   \n",
       "\n",
       "        Total Charges Total Costs  \n",
       "905707        9004.46     7831.22  \n",
       "905777       18290.67    16470.61  \n",
       "911991       10959.98    10114.66  \n",
       "912090       32614.70    29786.31  \n",
       "912212        7838.81     7002.57  \n",
       "...               ...         ...  \n",
       "1065404       7194.54     8400.69  \n",
       "1065405       9129.09     9080.43  \n",
       "1065406      14112.64    10711.62  \n",
       "1065407      14171.30    16734.73  \n",
       "1065408      27666.71    29439.26  \n",
       "\n",
       "[31978 rows x 28 columns]"
      ]
     },
     "metadata": {},
     "output_type": "display_data"
    }
   ],
   "source": [
    "Bronx_df= pd.concat(l)\n",
    "display(Bronx_df)"
   ]
  },
  {
   "cell_type": "code",
   "execution_count": 234,
   "id": "baf0c0b4",
   "metadata": {
    "execution": {
     "iopub.execute_input": "2023-02-21T12:05:48.902923Z",
     "iopub.status.busy": "2023-02-21T12:05:48.902311Z",
     "iopub.status.idle": "2023-02-21T12:05:48.925092Z",
     "shell.execute_reply": "2023-02-21T12:05:48.923161Z"
    },
    "papermill": {
     "duration": 0.106957,
     "end_time": "2023-02-21T12:05:48.927338",
     "exception": false,
     "start_time": "2023-02-21T12:05:48.820381",
     "status": "completed"
    },
    "tags": []
   },
   "outputs": [
    {
     "name": "stdout",
     "output_type": "stream",
     "text": [
      "<class 'pandas.core.frame.DataFrame'>\n",
      "Int64Index: 31978 entries, 905707 to 1065408\n",
      "Data columns (total 28 columns):\n",
      " #   Column                            Non-Null Count  Dtype   \n",
      "---  ------                            --------------  -----   \n",
      " 0   Hospital County                   31978 non-null  category\n",
      " 1   Operating Certificate Number      31978 non-null  float64 \n",
      " 2   Facility Id                       31978 non-null  float64 \n",
      " 3   Facility Name                     31978 non-null  object  \n",
      " 4   Age Group                         31978 non-null  category\n",
      " 5   Zip Code - 3 digits               31061 non-null  category\n",
      " 6   Gender                            31978 non-null  category\n",
      " 7   Race                              31978 non-null  category\n",
      " 8   Ethnicity                         31978 non-null  category\n",
      " 9   Length of Stay                    31978 non-null  category\n",
      " 10  Type of Admission                 31978 non-null  category\n",
      " 11  Patient Disposition               31978 non-null  category\n",
      " 12  Discharge Year                    31978 non-null  int64   \n",
      " 13  CCS Diagnosis Code                31978 non-null  int64   \n",
      " 14  CCS Procedure Code                31978 non-null  int64   \n",
      " 15  APR DRG Code                      31978 non-null  int64   \n",
      " 16  APR MDC Code                      31978 non-null  int64   \n",
      " 17  APR Severity of Illness Code      31978 non-null  int64   \n",
      " 18  APR Risk of Mortality             31966 non-null  category\n",
      " 19  APR Medical Surgical Description  31978 non-null  category\n",
      " 20  Payment Typology 1                31978 non-null  category\n",
      " 21  Payment Typology 2                22458 non-null  category\n",
      " 22  Payment Typology 3                3818 non-null   category\n",
      " 23  Birth Weight                      31978 non-null  int64   \n",
      " 24  Abortion Edit Indicator           31978 non-null  category\n",
      " 25  Emergency Department Indicator    31978 non-null  category\n",
      " 26  Total Charges                     31978 non-null  float64 \n",
      " 27  Total Costs                       31978 non-null  float64 \n",
      "dtypes: category(16), float64(4), int64(7), object(1)\n",
      "memory usage: 3.7+ MB\n"
     ]
    }
   ],
   "source": [
    "Bronx_df.info()"
   ]
  },
  {
   "cell_type": "code",
   "execution_count": 235,
   "id": "3b2298ec",
   "metadata": {
    "execution": {
     "iopub.execute_input": "2023-02-21T12:05:49.097929Z",
     "iopub.status.busy": "2023-02-21T12:05:49.097073Z",
     "iopub.status.idle": "2023-02-21T12:05:49.106452Z",
     "shell.execute_reply": "2023-02-21T12:05:49.105569Z"
    },
    "papermill": {
     "duration": 0.099327,
     "end_time": "2023-02-21T12:05:49.108908",
     "exception": false,
     "start_time": "2023-02-21T12:05:49.009581",
     "status": "completed"
    },
    "tags": []
   },
   "outputs": [],
   "source": [
    "Bronx_df = Bronx_df.drop([\"Payment Typology 2\",    \"Payment Typology 3\"], axis=1)"
   ]
  },
  {
   "cell_type": "code",
   "execution_count": 236,
   "id": "7ad99e6b",
   "metadata": {
    "execution": {
     "iopub.execute_input": "2023-02-21T12:05:49.271199Z",
     "iopub.status.busy": "2023-02-21T12:05:49.270408Z",
     "iopub.status.idle": "2023-02-21T12:05:49.340943Z",
     "shell.execute_reply": "2023-02-21T12:05:49.339705Z"
    },
    "papermill": {
     "duration": 0.15668,
     "end_time": "2023-02-21T12:05:49.345583",
     "exception": false,
     "start_time": "2023-02-21T12:05:49.188903",
     "status": "completed"
    },
    "tags": []
   },
   "outputs": [
    {
     "name": "stdout",
     "output_type": "stream",
     "text": [
      "Hospital County : 1\n",
      "Bronx          31978\n",
      "Albany             0\n",
      "Schenectady        0\n",
      "Onondaga           0\n",
      "Ontario            0\n",
      "Name: Hospital County, dtype: int64\n",
      "\n",
      "********************\n",
      "\n",
      "Operating Certificate Number : 1\n",
      "7000001.0    31978\n",
      "Name: Operating Certificate Number, dtype: int64\n",
      "\n",
      "********************\n",
      "\n",
      "Facility Id : 2\n",
      "1178.0    27369\n",
      "1164.0     4609\n",
      "Name: Facility Id, dtype: int64\n",
      "\n",
      "********************\n",
      "\n",
      "Facility Name : 2\n",
      "Bronx-Lebanon Hospital Center - Concourse Division    27369\n",
      "Bronx-Lebanon Hospital Center - Fulton Division        4609\n",
      "Name: Facility Name, dtype: int64\n",
      "\n",
      "********************\n",
      "\n",
      "Age Group : 5\n",
      "50 to 69       10654\n",
      "30 to 49        8444\n",
      "0 to 17         4601\n",
      "70 or Older     4206\n",
      "18 to 29        4073\n",
      "Name: Age Group, dtype: int64\n",
      "\n",
      "********************\n",
      "\n",
      "Zip Code - 3 digits : 20\n",
      "104    28864\n",
      "100     1010\n",
      "OOS      480\n",
      "112      358\n",
      "114      101\n",
      "Name: Zip Code - 3 digits, dtype: int64\n",
      "\n",
      "********************\n",
      "\n",
      "Gender : 2\n",
      "F    17142\n",
      "M    14836\n",
      "U        0\n",
      "Name: Gender, dtype: int64\n",
      "\n",
      "********************\n",
      "\n",
      "Race : 3\n",
      "Other Race                19618\n",
      "Black/African American    11211\n",
      "White                      1149\n",
      "Multi-racial                  0\n",
      "Name: Race, dtype: int64\n",
      "\n",
      "********************\n",
      "\n",
      "Ethnicity : 3\n",
      "Not Span/Hispanic    12052\n",
      "Unknown              11700\n",
      "Spanish/Hispanic      8226\n",
      "Multi-ethnic             0\n",
      "Name: Ethnicity, dtype: int64\n",
      "\n",
      "********************\n",
      "\n",
      "Length of Stay : 177\n",
      "2    4312\n",
      "2    3463\n",
      "3    3307\n",
      "3    2985\n",
      "1    2786\n",
      "Name: Length of Stay, dtype: int64\n",
      "\n",
      "********************\n",
      "\n",
      "Type of Admission : 4\n",
      "Emergency        23007\n",
      "Elective          4378\n",
      "Urgent            2356\n",
      "Newborn           2237\n",
      "Not Available        0\n",
      "Name: Type of Admission, dtype: int64\n",
      "\n",
      "********************\n",
      "\n",
      "Patient Disposition : 13\n",
      "Home or Self Care                    24402\n",
      "Home w/ Home Health Services          1905\n",
      "Left Against Medical Advice           1676\n",
      "Skilled Nursing Home                  1653\n",
      "Inpatient Rehabilitation Facility      473\n",
      "Name: Patient Disposition, dtype: int64\n",
      "\n",
      "********************\n",
      "\n",
      "Discharge Year : 1\n",
      "2015    31978\n",
      "Name: Discharge Year, dtype: int64\n",
      "\n",
      "********************\n",
      "\n",
      "CCS Diagnosis Code : 244\n",
      "218    2230\n",
      "660    1382\n",
      "102    1231\n",
      "661    1193\n",
      "659    1171\n",
      "Name: CCS Diagnosis Code, dtype: int64\n",
      "\n",
      "********************\n",
      "\n",
      "CCS Procedure Code : 201\n",
      "0      9904\n",
      "218    2038\n",
      "219    1924\n",
      "228    1570\n",
      "216    1274\n",
      "Name: CCS Procedure Code, dtype: int64\n",
      "\n",
      "********************\n",
      "\n",
      "APR DRG Code : 281\n",
      "640    1831\n",
      "560    1333\n",
      "750    1041\n",
      "203     980\n",
      "540     821\n",
      "Name: APR DRG Code, dtype: int64\n",
      "\n",
      "********************\n",
      "\n",
      "APR MDC Code : 25\n",
      "5     4109\n",
      "4     3395\n",
      "14    2730\n",
      "6     2668\n",
      "19    2529\n",
      "Name: APR MDC Code, dtype: int64\n",
      "\n",
      "********************\n",
      "\n",
      "APR Severity of Illness Code : 5\n",
      "2    15090\n",
      "1     9369\n",
      "3     6214\n",
      "4     1293\n",
      "0       12\n",
      "Name: APR Severity of Illness Code, dtype: int64\n",
      "\n",
      "********************\n",
      "\n",
      "APR Risk of Mortality : 4\n",
      "Minor       21295\n",
      "Moderate     6759\n",
      "Major        2886\n",
      "Extreme      1026\n",
      "Name: APR Risk of Mortality, dtype: int64\n",
      "\n",
      "********************\n",
      "\n",
      "APR Medical Surgical Description : 3\n",
      "Medical           27761\n",
      "Surgical           4205\n",
      "Not Applicable       12\n",
      "Name: APR Medical Surgical Description, dtype: int64\n",
      "\n",
      "********************\n",
      "\n",
      "Payment Typology 1 : 7\n",
      "Medicaid                    21613\n",
      "Medicare                     7283\n",
      "Private Health Insurance     1672\n",
      "Blue Cross/Blue Shield        660\n",
      "Miscellaneous/Other           553\n",
      "Name: Payment Typology 1, dtype: int64\n",
      "\n",
      "********************\n",
      "\n",
      "Birth Weight : 48\n",
      "0       29668\n",
      "3100      217\n",
      "3200      205\n",
      "3300      176\n",
      "3500      175\n",
      "Name: Birth Weight, dtype: int64\n",
      "\n",
      "********************\n",
      "\n",
      "Abortion Edit Indicator : 1\n",
      "N    31978\n",
      "Y        0\n",
      "Name: Abortion Edit Indicator, dtype: int64\n",
      "\n",
      "********************\n",
      "\n",
      "Emergency Department Indicator : 2\n",
      "Y    22195\n",
      "N     9783\n",
      "Name: Emergency Department Indicator, dtype: int64\n",
      "\n",
      "********************\n",
      "\n",
      "Total Charges : 30682\n",
      "4052.71    131\n",
      "4524.17    122\n",
      "4924.17    107\n",
      "4452.71     81\n",
      "4522.88     46\n",
      "Name: Total Charges, dtype: int64\n",
      "\n",
      "********************\n",
      "\n",
      "Total Costs : 30657\n",
      "3598.09    131\n",
      "3771.34    122\n",
      "4072.34    107\n",
      "3899.09     81\n",
      "3770.04     46\n",
      "Name: Total Costs, dtype: int64\n",
      "\n",
      "********************\n",
      "\n"
     ]
    }
   ],
   "source": [
    "for col in Bronx_df.columns:\n",
    "    print( col,':', Bronx_df[col].nunique() )#Num of unique values\n",
    "    print(Bronx_df[col].value_counts().nlargest(5)) #Most 5 frequent values\n",
    "    print('\\n' + '*' * 20 + '\\n')"
   ]
  },
  {
   "cell_type": "code",
   "execution_count": 237,
   "id": "0e0178d5",
   "metadata": {
    "execution": {
     "iopub.execute_input": "2023-02-21T12:05:49.512443Z",
     "iopub.status.busy": "2023-02-21T12:05:49.511702Z",
     "iopub.status.idle": "2023-02-21T12:05:49.519105Z",
     "shell.execute_reply": "2023-02-21T12:05:49.518303Z"
    },
    "papermill": {
     "duration": 0.092826,
     "end_time": "2023-02-21T12:05:49.521518",
     "exception": false,
     "start_time": "2023-02-21T12:05:49.428692",
     "status": "completed"
    },
    "tags": []
   },
   "outputs": [],
   "source": [
    " #   simple mapping on binary features.\n",
    "Bronx_df['Abortion Edit Indicator'] = Bronx_df['Abortion Edit Indicator'].apply(\n",
    "     lambda x: 1 if x == 'Y' else (0 if x == 'N' else None))\n",
    "Bronx_df['Emergency Department Indicator'] = Bronx_df['Emergency Department Indicator'].apply(\n",
    "    lambda x: 1 if x == 'Y' else (0 if x == 'N' else None))"
   ]
  },
  {
   "cell_type": "code",
   "execution_count": 238,
   "id": "7fc42900",
   "metadata": {
    "execution": {
     "iopub.execute_input": "2023-02-21T12:05:49.686338Z",
     "iopub.status.busy": "2023-02-21T12:05:49.685612Z",
     "iopub.status.idle": "2023-02-21T12:05:49.704115Z",
     "shell.execute_reply": "2023-02-21T12:05:49.702913Z"
    },
    "papermill": {
     "duration": 0.104352,
     "end_time": "2023-02-21T12:05:49.706937",
     "exception": false,
     "start_time": "2023-02-21T12:05:49.602585",
     "status": "completed"
    },
    "tags": []
   },
   "outputs": [],
   "source": [
    "Bronx_df[\"Length of Stay\"]=pd.to_numeric(Bronx_df[\"Length of Stay\"],errors='coerce')\n"
   ]
  },
  {
   "cell_type": "code",
   "execution_count": 239,
   "id": "031e92a8",
   "metadata": {
    "execution": {
     "iopub.execute_input": "2023-02-21T12:05:49.873052Z",
     "iopub.status.busy": "2023-02-21T12:05:49.872637Z",
     "iopub.status.idle": "2023-02-21T12:05:49.993119Z",
     "shell.execute_reply": "2023-02-21T12:05:49.991959Z"
    },
    "papermill": {
     "duration": 0.206817,
     "end_time": "2023-02-21T12:05:49.995880",
     "exception": false,
     "start_time": "2023-02-21T12:05:49.789063",
     "status": "completed"
    },
    "tags": []
   },
   "outputs": [],
   "source": [
    "list=  [ \"Hospital County\",\"Age Group\"\n",
    "    ,\"Gender\",   \n",
    " \"Race\" , \n",
    "\"Ethnicity\", \n",
    "\"Gender\" , \n",
    "\"Race\" ,    \n",
    " \"Ethnicity\" ,        \n",
    " \"Type of Admission\"  ,  \n",
    "  \"Patient Disposition\",      \n",
    " \"Type of Admission\" ,  \n",
    " \"Patient Disposition\"  ,\n",
    "  \"APR Risk of Mortality\" ,   \n",
    " \"APR Medical Surgical Description\" ,\n",
    " \"Payment Typology 1\"   ,   \n",
    " \"Abortion Edit Indicator\"     ,  \n",
    " \"Emergency Department Indicator\",\n",
    "       \"Zip Code - 3 digits\",'Facility Name']  \n",
    "\n",
    "# Import label encoder\n",
    "from sklearn import preprocessing\n",
    "  \n",
    "# label_encoder object knows how to understand word labels.\n",
    "label_encoder = preprocessing.LabelEncoder()\n",
    "  \n",
    "# Encode labels in column 'species'.\n",
    "for col in list :\n",
    "  Bronx_df[col]= label_encoder.fit_transform(Bronx_df[col])"
   ]
  },
  {
   "cell_type": "code",
   "execution_count": 240,
   "id": "d717a5f4",
   "metadata": {
    "execution": {
     "iopub.execute_input": "2023-02-21T12:05:50.158795Z",
     "iopub.status.busy": "2023-02-21T12:05:50.158390Z",
     "iopub.status.idle": "2023-02-21T12:05:50.177841Z",
     "shell.execute_reply": "2023-02-21T12:05:50.176099Z"
    },
    "papermill": {
     "duration": 0.103775,
     "end_time": "2023-02-21T12:05:50.180531",
     "exception": false,
     "start_time": "2023-02-21T12:05:50.076756",
     "status": "completed"
    },
    "tags": []
   },
   "outputs": [
    {
     "name": "stdout",
     "output_type": "stream",
     "text": [
      "<class 'pandas.core.frame.DataFrame'>\n",
      "Int64Index: 31978 entries, 905707 to 1065408\n",
      "Data columns (total 26 columns):\n",
      " #   Column                            Non-Null Count  Dtype  \n",
      "---  ------                            --------------  -----  \n",
      " 0   Hospital County                   31978 non-null  int64  \n",
      " 1   Operating Certificate Number      31978 non-null  float64\n",
      " 2   Facility Id                       31978 non-null  float64\n",
      " 3   Facility Name                     31978 non-null  int64  \n",
      " 4   Age Group                         31978 non-null  int64  \n",
      " 5   Zip Code - 3 digits               31978 non-null  int64  \n",
      " 6   Gender                            31978 non-null  int64  \n",
      " 7   Race                              31978 non-null  int64  \n",
      " 8   Ethnicity                         31978 non-null  int64  \n",
      " 9   Length of Stay                    31951 non-null  float64\n",
      " 10  Type of Admission                 31978 non-null  int64  \n",
      " 11  Patient Disposition               31978 non-null  int64  \n",
      " 12  Discharge Year                    31978 non-null  int64  \n",
      " 13  CCS Diagnosis Code                31978 non-null  int64  \n",
      " 14  CCS Procedure Code                31978 non-null  int64  \n",
      " 15  APR DRG Code                      31978 non-null  int64  \n",
      " 16  APR MDC Code                      31978 non-null  int64  \n",
      " 17  APR Severity of Illness Code      31978 non-null  int64  \n",
      " 18  APR Risk of Mortality             31978 non-null  int64  \n",
      " 19  APR Medical Surgical Description  31978 non-null  int64  \n",
      " 20  Payment Typology 1                31978 non-null  int64  \n",
      " 21  Birth Weight                      31978 non-null  int64  \n",
      " 22  Abortion Edit Indicator           31978 non-null  int64  \n",
      " 23  Emergency Department Indicator    31978 non-null  int64  \n",
      " 24  Total Charges                     31978 non-null  float64\n",
      " 25  Total Costs                       31978 non-null  float64\n",
      "dtypes: float64(5), int64(21)\n",
      "memory usage: 6.6 MB\n"
     ]
    }
   ],
   "source": [
    "Bronx_df.info()\n"
   ]
  },
  {
   "cell_type": "code",
   "execution_count": 241,
   "id": "81a81585",
   "metadata": {
    "execution": {
     "iopub.execute_input": "2023-02-21T12:05:50.346790Z",
     "iopub.status.busy": "2023-02-21T12:05:50.346405Z",
     "iopub.status.idle": "2023-02-21T12:05:50.362589Z",
     "shell.execute_reply": "2023-02-21T12:05:50.361030Z"
    },
    "papermill": {
     "duration": 0.102074,
     "end_time": "2023-02-21T12:05:50.365240",
     "exception": false,
     "start_time": "2023-02-21T12:05:50.263166",
     "status": "completed"
    },
    "tags": []
   },
   "outputs": [],
   "source": [
    " Bronx_df.dropna(inplace=True)\n"
   ]
  },
  {
   "cell_type": "code",
   "execution_count": 242,
   "id": "492ab982",
   "metadata": {
    "execution": {
     "iopub.execute_input": "2023-02-21T12:05:50.532482Z",
     "iopub.status.busy": "2023-02-21T12:05:50.532061Z",
     "iopub.status.idle": "2023-02-21T12:05:50.539678Z",
     "shell.execute_reply": "2023-02-21T12:05:50.538507Z"
    },
    "papermill": {
     "duration": 0.093629,
     "end_time": "2023-02-21T12:05:50.541974",
     "exception": false,
     "start_time": "2023-02-21T12:05:50.448345",
     "status": "completed"
    },
    "tags": []
   },
   "outputs": [],
   "source": [
    "x = Bronx_df.drop([\"Length of Stay\"], axis =1)\n",
    "y = Bronx_df[\"Length of Stay\"]"
   ]
  },
  {
   "cell_type": "code",
   "execution_count": 243,
   "id": "e2827293",
   "metadata": {
    "execution": {
     "iopub.execute_input": "2023-02-21T12:05:50.707694Z",
     "iopub.status.busy": "2023-02-21T12:05:50.707258Z",
     "iopub.status.idle": "2023-02-21T12:05:50.721788Z",
     "shell.execute_reply": "2023-02-21T12:05:50.720602Z"
    },
    "papermill": {
     "duration": 0.100167,
     "end_time": "2023-02-21T12:05:50.724507",
     "exception": false,
     "start_time": "2023-02-21T12:05:50.624340",
     "status": "completed"
    },
    "tags": []
   },
   "outputs": [],
   "source": [
    "from sklearn.model_selection import train_test_split\n",
    "x_train, x_test, y_train, y_test = train_test_split(x, y, test_size=0.3, random_state=42)"
   ]
  },
  {
   "cell_type": "code",
   "execution_count": 244,
   "id": "47ae9183",
   "metadata": {
    "execution": {
     "iopub.execute_input": "2023-02-21T12:05:50.893588Z",
     "iopub.status.busy": "2023-02-21T12:05:50.893171Z",
     "iopub.status.idle": "2023-02-21T12:05:50.930402Z",
     "shell.execute_reply": "2023-02-21T12:05:50.928734Z"
    },
    "papermill": {
     "duration": 0.126549,
     "end_time": "2023-02-21T12:05:50.935032",
     "exception": false,
     "start_time": "2023-02-21T12:05:50.808483",
     "status": "completed"
    },
    "tags": []
   },
   "outputs": [],
   "source": [
    "# Linear Regression\n",
    "\n",
    "LR = LinearRegression()\n",
    "LR.fit(x_train, y_train)\n",
    "LR.score(x_train, y_train)\n",
    "y_pred =LR.predict(x_test)"
   ]
  },
  {
   "cell_type": "code",
   "execution_count": 245,
   "id": "e456fd68",
   "metadata": {
    "execution": {
     "iopub.execute_input": "2023-02-21T12:05:51.172942Z",
     "iopub.status.busy": "2023-02-21T12:05:51.172524Z",
     "iopub.status.idle": "2023-02-21T12:05:51.180559Z",
     "shell.execute_reply": "2023-02-21T12:05:51.179643Z"
    },
    "papermill": {
     "duration": 0.092848,
     "end_time": "2023-02-21T12:05:51.182885",
     "exception": false,
     "start_time": "2023-02-21T12:05:51.090037",
     "status": "completed"
    },
    "tags": []
   },
   "outputs": [
    {
     "data": {
      "text/plain": [
       "0.8376128349444951"
      ]
     },
     "execution_count": 245,
     "metadata": {},
     "output_type": "execute_result"
    }
   ],
   "source": [
    "r2 = r2_score(y_test, y_pred)\n",
    "r2 "
   ]
  },
  {
   "cell_type": "code",
   "execution_count": 246,
   "id": "abad97c7",
   "metadata": {
    "execution": {
     "iopub.execute_input": "2023-02-21T12:05:51.350106Z",
     "iopub.status.busy": "2023-02-21T12:05:51.349471Z",
     "iopub.status.idle": "2023-02-21T12:05:51.356653Z",
     "shell.execute_reply": "2023-02-21T12:05:51.355454Z"
    },
    "papermill": {
     "duration": 0.092994,
     "end_time": "2023-02-21T12:05:51.359136",
     "exception": false,
     "start_time": "2023-02-21T12:05:51.266142",
     "status": "completed"
    },
    "tags": []
   },
   "outputs": [
    {
     "data": {
      "text/plain": [
       "1.5959481188252358"
      ]
     },
     "execution_count": 246,
     "metadata": {},
     "output_type": "execute_result"
    }
   ],
   "source": [
    "# calculate the MAE of the model\n",
    "mae = mean_absolute_error(y_test, y_pred)\n",
    "mae"
   ]
  },
  {
   "cell_type": "code",
   "execution_count": 247,
   "id": "c12ff32c",
   "metadata": {
    "execution": {
     "iopub.execute_input": "2023-02-21T12:05:51.525924Z",
     "iopub.status.busy": "2023-02-21T12:05:51.524691Z",
     "iopub.status.idle": "2023-02-21T12:05:51.533233Z",
     "shell.execute_reply": "2023-02-21T12:05:51.532212Z"
    },
    "papermill": {
     "duration": 0.094422,
     "end_time": "2023-02-21T12:05:51.535537",
     "exception": false,
     "start_time": "2023-02-21T12:05:51.441115",
     "status": "completed"
    },
    "tags": []
   },
   "outputs": [
    {
     "data": {
      "text/plain": [
       "9.830664824520944"
      ]
     },
     "execution_count": 247,
     "metadata": {},
     "output_type": "execute_result"
    }
   ],
   "source": [
    "# calculate the MSE of the model\n",
    "mse = mean_squared_error(y_test, y_pred)\n",
    "mse"
   ]
  },
  {
   "cell_type": "code",
   "execution_count": 248,
   "id": "21ed57e0",
   "metadata": {
    "execution": {
     "iopub.execute_input": "2023-02-21T12:05:51.701268Z",
     "iopub.status.busy": "2023-02-21T12:05:51.700238Z",
     "iopub.status.idle": "2023-02-21T12:05:51.707942Z",
     "shell.execute_reply": "2023-02-21T12:05:51.706793Z"
    },
    "papermill": {
     "duration": 0.092705,
     "end_time": "2023-02-21T12:05:51.710283",
     "exception": false,
     "start_time": "2023-02-21T12:05:51.617578",
     "status": "completed"
    },
    "tags": []
   },
   "outputs": [
    {
     "data": {
      "text/plain": [
       "3.1353891025709943"
      ]
     },
     "execution_count": 248,
     "metadata": {},
     "output_type": "execute_result"
    }
   ],
   "source": [
    "# calculate the RMSE of the model\n",
    "rmse = np.sqrt(mse)\n",
    "rmse"
   ]
  },
  {
   "cell_type": "code",
   "execution_count": 249,
   "id": "55b8a83d",
   "metadata": {
    "execution": {
     "iopub.execute_input": "2023-02-21T12:05:51.875475Z",
     "iopub.status.busy": "2023-02-21T12:05:51.874681Z",
     "iopub.status.idle": "2023-02-21T12:05:51.952013Z",
     "shell.execute_reply": "2023-02-21T12:05:51.950439Z"
    },
    "papermill": {
     "duration": 0.165188,
     "end_time": "2023-02-21T12:05:51.956447",
     "exception": false,
     "start_time": "2023-02-21T12:05:51.791259",
     "status": "completed"
    },
    "tags": []
   },
   "outputs": [],
   "source": [
    "# LASSO\n",
    "L1 = linear_model.Lasso()\n",
    "L1.fit(x_train,y_train)\n",
    "y_pred1 = L1.predict(x_test)"
   ]
  },
  {
   "cell_type": "code",
   "execution_count": 250,
   "id": "1ca6d14d",
   "metadata": {
    "execution": {
     "iopub.execute_input": "2023-02-21T12:05:52.251681Z",
     "iopub.status.busy": "2023-02-21T12:05:52.251282Z",
     "iopub.status.idle": "2023-02-21T12:05:52.259949Z",
     "shell.execute_reply": "2023-02-21T12:05:52.258846Z"
    },
    "papermill": {
     "duration": 0.15188,
     "end_time": "2023-02-21T12:05:52.262240",
     "exception": false,
     "start_time": "2023-02-21T12:05:52.110360",
     "status": "completed"
    },
    "tags": []
   },
   "outputs": [
    {
     "data": {
      "text/plain": [
       "0.8157805173305335"
      ]
     },
     "execution_count": 250,
     "metadata": {},
     "output_type": "execute_result"
    }
   ],
   "source": [
    "r2 = r2_score(y_test, y_pred1)\n",
    "r2 "
   ]
  },
  {
   "cell_type": "code",
   "execution_count": 251,
   "id": "550a78e3",
   "metadata": {
    "execution": {
     "iopub.execute_input": "2023-02-21T12:05:52.427179Z",
     "iopub.status.busy": "2023-02-21T12:05:52.426442Z",
     "iopub.status.idle": "2023-02-21T12:05:52.434475Z",
     "shell.execute_reply": "2023-02-21T12:05:52.433194Z"
    },
    "papermill": {
     "duration": 0.093013,
     "end_time": "2023-02-21T12:05:52.436860",
     "exception": false,
     "start_time": "2023-02-21T12:05:52.343847",
     "status": "completed"
    },
    "tags": []
   },
   "outputs": [
    {
     "data": {
      "text/plain": [
       "1.739528477025208"
      ]
     },
     "execution_count": 251,
     "metadata": {},
     "output_type": "execute_result"
    }
   ],
   "source": [
    "# calculate the MAE of the model\n",
    "mae = mean_absolute_error(y_test, y_pred1)\n",
    "mae"
   ]
  },
  {
   "cell_type": "code",
   "execution_count": 252,
   "id": "eae733fe",
   "metadata": {
    "execution": {
     "iopub.execute_input": "2023-02-21T12:05:52.604525Z",
     "iopub.status.busy": "2023-02-21T12:05:52.603835Z",
     "iopub.status.idle": "2023-02-21T12:05:52.611896Z",
     "shell.execute_reply": "2023-02-21T12:05:52.610649Z"
    },
    "papermill": {
     "duration": 0.094221,
     "end_time": "2023-02-21T12:05:52.614439",
     "exception": false,
     "start_time": "2023-02-21T12:05:52.520218",
     "status": "completed"
    },
    "tags": []
   },
   "outputs": [
    {
     "data": {
      "text/plain": [
       "11.152359163676266"
      ]
     },
     "execution_count": 252,
     "metadata": {},
     "output_type": "execute_result"
    }
   ],
   "source": [
    "# calculate the MSE of the model\n",
    "mse = mean_squared_error(y_test, y_pred1)\n",
    "mse"
   ]
  },
  {
   "cell_type": "code",
   "execution_count": 253,
   "id": "bbf1651c",
   "metadata": {
    "execution": {
     "iopub.execute_input": "2023-02-21T12:05:52.781268Z",
     "iopub.status.busy": "2023-02-21T12:05:52.780524Z",
     "iopub.status.idle": "2023-02-21T12:05:52.786920Z",
     "shell.execute_reply": "2023-02-21T12:05:52.785697Z"
    },
    "papermill": {
     "duration": 0.092676,
     "end_time": "2023-02-21T12:05:52.789206",
     "exception": false,
     "start_time": "2023-02-21T12:05:52.696530",
     "status": "completed"
    },
    "tags": []
   },
   "outputs": [
    {
     "data": {
      "text/plain": [
       "3.3395148096207428"
      ]
     },
     "execution_count": 253,
     "metadata": {},
     "output_type": "execute_result"
    }
   ],
   "source": [
    "# calculate the RMSE of the model\n",
    "rmse = np.sqrt(mse)\n",
    "rmse"
   ]
  },
  {
   "cell_type": "code",
   "execution_count": 254,
   "id": "4e00d392",
   "metadata": {
    "execution": {
     "iopub.execute_input": "2023-02-21T12:05:52.956460Z",
     "iopub.status.busy": "2023-02-21T12:05:52.956010Z",
     "iopub.status.idle": "2023-02-21T12:05:52.980754Z",
     "shell.execute_reply": "2023-02-21T12:05:52.979572Z"
    },
    "papermill": {
     "duration": 0.11346,
     "end_time": "2023-02-21T12:05:52.985890",
     "exception": false,
     "start_time": "2023-02-21T12:05:52.872430",
     "status": "completed"
    },
    "tags": []
   },
   "outputs": [],
   "source": [
    "# Ridge\n",
    "L2 = Ridge(alpha=1.0)\n",
    "L2.fit(x_train, y_train) \n",
    "y_pred3 = L2.predict(x_test)"
   ]
  },
  {
   "cell_type": "code",
   "execution_count": 255,
   "id": "3138396d",
   "metadata": {
    "execution": {
     "iopub.execute_input": "2023-02-21T12:05:53.224659Z",
     "iopub.status.busy": "2023-02-21T12:05:53.224229Z",
     "iopub.status.idle": "2023-02-21T12:05:53.232309Z",
     "shell.execute_reply": "2023-02-21T12:05:53.231492Z"
    },
    "papermill": {
     "duration": 0.09404,
     "end_time": "2023-02-21T12:05:53.234460",
     "exception": false,
     "start_time": "2023-02-21T12:05:53.140420",
     "status": "completed"
    },
    "tags": []
   },
   "outputs": [
    {
     "data": {
      "text/plain": [
       "0.8376129585591974"
      ]
     },
     "execution_count": 255,
     "metadata": {},
     "output_type": "execute_result"
    }
   ],
   "source": [
    "r2 = r2_score(y_test, y_pred3)\n",
    "r2 "
   ]
  },
  {
   "cell_type": "code",
   "execution_count": 256,
   "id": "2c404f36",
   "metadata": {
    "execution": {
     "iopub.execute_input": "2023-02-21T12:05:53.400256Z",
     "iopub.status.busy": "2023-02-21T12:05:53.399248Z",
     "iopub.status.idle": "2023-02-21T12:05:53.407560Z",
     "shell.execute_reply": "2023-02-21T12:05:53.406475Z"
    },
    "papermill": {
     "duration": 0.093924,
     "end_time": "2023-02-21T12:05:53.409854",
     "exception": false,
     "start_time": "2023-02-21T12:05:53.315930",
     "status": "completed"
    },
    "tags": []
   },
   "outputs": [
    {
     "data": {
      "text/plain": [
       "1.5959277579640252"
      ]
     },
     "execution_count": 256,
     "metadata": {},
     "output_type": "execute_result"
    }
   ],
   "source": [
    "# calculate the MAE of the model\n",
    "mae = mean_absolute_error(y_test, y_pred3)\n",
    "mae"
   ]
  },
  {
   "cell_type": "code",
   "execution_count": 257,
   "id": "32a93031",
   "metadata": {
    "execution": {
     "iopub.execute_input": "2023-02-21T12:05:53.578476Z",
     "iopub.status.busy": "2023-02-21T12:05:53.578034Z",
     "iopub.status.idle": "2023-02-21T12:05:53.585337Z",
     "shell.execute_reply": "2023-02-21T12:05:53.584404Z"
    },
    "papermill": {
     "duration": 0.09485,
     "end_time": "2023-02-21T12:05:53.587898",
     "exception": false,
     "start_time": "2023-02-21T12:05:53.493048",
     "status": "completed"
    },
    "tags": []
   },
   "outputs": [
    {
     "data": {
      "text/plain": [
       "9.830657341080334"
      ]
     },
     "execution_count": 257,
     "metadata": {},
     "output_type": "execute_result"
    }
   ],
   "source": [
    "# calculate the MSE of the model\n",
    "mse = mean_squared_error(y_test, y_pred3)\n",
    "mse"
   ]
  },
  {
   "cell_type": "code",
   "execution_count": 258,
   "id": "3998d48e",
   "metadata": {
    "execution": {
     "iopub.execute_input": "2023-02-21T12:05:53.757206Z",
     "iopub.status.busy": "2023-02-21T12:05:53.756505Z",
     "iopub.status.idle": "2023-02-21T12:05:53.762663Z",
     "shell.execute_reply": "2023-02-21T12:05:53.761589Z"
    },
    "papermill": {
     "duration": 0.092529,
     "end_time": "2023-02-21T12:05:53.764776",
     "exception": false,
     "start_time": "2023-02-21T12:05:53.672247",
     "status": "completed"
    },
    "tags": []
   },
   "outputs": [
    {
     "data": {
      "text/plain": [
       "3.1353879091876866"
      ]
     },
     "execution_count": 258,
     "metadata": {},
     "output_type": "execute_result"
    }
   ],
   "source": [
    "# calculate the RMSE of the model\n",
    "rmse = np.sqrt(mse)\n",
    "rmse"
   ]
  },
  {
   "cell_type": "markdown",
   "id": "efb29ea4",
   "metadata": {
    "papermill": {
     "duration": 0.081713,
     "end_time": "2023-02-21T12:05:53.928371",
     "exception": false,
     "start_time": "2023-02-21T12:05:53.846658",
     "status": "completed"
    },
    "tags": []
   },
   "source": [
    "Client 4 : United Health"
   ]
  },
  {
   "cell_type": "code",
   "execution_count": 259,
   "id": "4afddb4f",
   "metadata": {
    "execution": {
     "iopub.execute_input": "2023-02-21T12:05:54.104169Z",
     "iopub.status.busy": "2023-02-21T12:05:54.103345Z",
     "iopub.status.idle": "2023-02-21T12:05:54.453292Z",
     "shell.execute_reply": "2023-02-21T12:05:54.452079Z"
    },
    "papermill": {
     "duration": 0.444054,
     "end_time": "2023-02-21T12:05:54.455876",
     "exception": false,
     "start_time": "2023-02-21T12:05:54.011822",
     "status": "completed"
    },
    "tags": []
   },
   "outputs": [
    {
     "data": {
      "text/html": [
       "<div>\n",
       "<style scoped>\n",
       "    .dataframe tbody tr th:only-of-type {\n",
       "        vertical-align: middle;\n",
       "    }\n",
       "\n",
       "    .dataframe tbody tr th {\n",
       "        vertical-align: top;\n",
       "    }\n",
       "\n",
       "    .dataframe thead th {\n",
       "        text-align: right;\n",
       "    }\n",
       "</style>\n",
       "<table border=\"1\" class=\"dataframe\">\n",
       "  <thead>\n",
       "    <tr style=\"text-align: right;\">\n",
       "      <th></th>\n",
       "      <th>Hospital County</th>\n",
       "      <th>Operating Certificate Number</th>\n",
       "      <th>Facility Id</th>\n",
       "      <th>Facility Name</th>\n",
       "      <th>Age Group</th>\n",
       "      <th>Zip Code - 3 digits</th>\n",
       "      <th>Gender</th>\n",
       "      <th>Race</th>\n",
       "      <th>Ethnicity</th>\n",
       "      <th>Length of Stay</th>\n",
       "      <th>...</th>\n",
       "      <th>APR Risk of Mortality</th>\n",
       "      <th>APR Medical Surgical Description</th>\n",
       "      <th>Payment Typology 1</th>\n",
       "      <th>Payment Typology 2</th>\n",
       "      <th>Payment Typology 3</th>\n",
       "      <th>Birth Weight</th>\n",
       "      <th>Abortion Edit Indicator</th>\n",
       "      <th>Emergency Department Indicator</th>\n",
       "      <th>Total Charges</th>\n",
       "      <th>Total Costs</th>\n",
       "    </tr>\n",
       "  </thead>\n",
       "  <tbody>\n",
       "    <tr>\n",
       "      <th>327335</th>\n",
       "      <td>Broome</td>\n",
       "      <td>303001.0</td>\n",
       "      <td>58.0</td>\n",
       "      <td>United Health Services Hospitals Inc. - Wilson...</td>\n",
       "      <td>30 to 49</td>\n",
       "      <td>139</td>\n",
       "      <td>M</td>\n",
       "      <td>Other Race</td>\n",
       "      <td>Spanish/Hispanic</td>\n",
       "      <td>120 +</td>\n",
       "      <td>...</td>\n",
       "      <td>Extreme</td>\n",
       "      <td>Surgical</td>\n",
       "      <td>Medicaid</td>\n",
       "      <td>NaN</td>\n",
       "      <td>NaN</td>\n",
       "      <td>0</td>\n",
       "      <td>N</td>\n",
       "      <td>Y</td>\n",
       "      <td>1032046.99</td>\n",
       "      <td>429514.66</td>\n",
       "    </tr>\n",
       "    <tr>\n",
       "      <th>327336</th>\n",
       "      <td>Broome</td>\n",
       "      <td>303001.0</td>\n",
       "      <td>58.0</td>\n",
       "      <td>United Health Services Hospitals Inc. - Wilson...</td>\n",
       "      <td>50 to 69</td>\n",
       "      <td>138</td>\n",
       "      <td>F</td>\n",
       "      <td>White</td>\n",
       "      <td>Not Span/Hispanic</td>\n",
       "      <td>120 +</td>\n",
       "      <td>...</td>\n",
       "      <td>Extreme</td>\n",
       "      <td>Surgical</td>\n",
       "      <td>Private Health Insurance</td>\n",
       "      <td>NaN</td>\n",
       "      <td>NaN</td>\n",
       "      <td>0</td>\n",
       "      <td>N</td>\n",
       "      <td>Y</td>\n",
       "      <td>1091681.06</td>\n",
       "      <td>378826.75</td>\n",
       "    </tr>\n",
       "    <tr>\n",
       "      <th>327337</th>\n",
       "      <td>Broome</td>\n",
       "      <td>303001.0</td>\n",
       "      <td>58.0</td>\n",
       "      <td>United Health Services Hospitals Inc. - Wilson...</td>\n",
       "      <td>30 to 49</td>\n",
       "      <td>137</td>\n",
       "      <td>M</td>\n",
       "      <td>White</td>\n",
       "      <td>Not Span/Hispanic</td>\n",
       "      <td>96</td>\n",
       "      <td>...</td>\n",
       "      <td>Extreme</td>\n",
       "      <td>Surgical</td>\n",
       "      <td>Medicaid</td>\n",
       "      <td>Medicaid</td>\n",
       "      <td>NaN</td>\n",
       "      <td>0</td>\n",
       "      <td>N</td>\n",
       "      <td>Y</td>\n",
       "      <td>460332.46</td>\n",
       "      <td>161178.76</td>\n",
       "    </tr>\n",
       "    <tr>\n",
       "      <th>327338</th>\n",
       "      <td>Broome</td>\n",
       "      <td>303001.0</td>\n",
       "      <td>58.0</td>\n",
       "      <td>United Health Services Hospitals Inc. - Wilson...</td>\n",
       "      <td>70 or Older</td>\n",
       "      <td>137</td>\n",
       "      <td>M</td>\n",
       "      <td>Other Race</td>\n",
       "      <td>Not Span/Hispanic</td>\n",
       "      <td>1</td>\n",
       "      <td>...</td>\n",
       "      <td>Moderate</td>\n",
       "      <td>Surgical</td>\n",
       "      <td>Medicare</td>\n",
       "      <td>Medicare</td>\n",
       "      <td>Blue Cross/Blue Shield</td>\n",
       "      <td>0</td>\n",
       "      <td>N</td>\n",
       "      <td>N</td>\n",
       "      <td>17877.80</td>\n",
       "      <td>6651.53</td>\n",
       "    </tr>\n",
       "    <tr>\n",
       "      <th>327339</th>\n",
       "      <td>Broome</td>\n",
       "      <td>303001.0</td>\n",
       "      <td>58.0</td>\n",
       "      <td>United Health Services Hospitals Inc. - Wilson...</td>\n",
       "      <td>50 to 69</td>\n",
       "      <td>137</td>\n",
       "      <td>F</td>\n",
       "      <td>Black/African American</td>\n",
       "      <td>Not Span/Hispanic</td>\n",
       "      <td>74</td>\n",
       "      <td>...</td>\n",
       "      <td>Extreme</td>\n",
       "      <td>Surgical</td>\n",
       "      <td>Medicaid</td>\n",
       "      <td>NaN</td>\n",
       "      <td>NaN</td>\n",
       "      <td>0</td>\n",
       "      <td>N</td>\n",
       "      <td>Y</td>\n",
       "      <td>399707.26</td>\n",
       "      <td>138410.36</td>\n",
       "    </tr>\n",
       "    <tr>\n",
       "      <th>...</th>\n",
       "      <td>...</td>\n",
       "      <td>...</td>\n",
       "      <td>...</td>\n",
       "      <td>...</td>\n",
       "      <td>...</td>\n",
       "      <td>...</td>\n",
       "      <td>...</td>\n",
       "      <td>...</td>\n",
       "      <td>...</td>\n",
       "      <td>...</td>\n",
       "      <td>...</td>\n",
       "      <td>...</td>\n",
       "      <td>...</td>\n",
       "      <td>...</td>\n",
       "      <td>...</td>\n",
       "      <td>...</td>\n",
       "      <td>...</td>\n",
       "      <td>...</td>\n",
       "      <td>...</td>\n",
       "      <td>...</td>\n",
       "      <td>...</td>\n",
       "    </tr>\n",
       "    <tr>\n",
       "      <th>316422</th>\n",
       "      <td>Broome</td>\n",
       "      <td>303001.0</td>\n",
       "      <td>42.0</td>\n",
       "      <td>United Health Services Hospitals Inc. - Bingha...</td>\n",
       "      <td>30 to 49</td>\n",
       "      <td>137</td>\n",
       "      <td>F</td>\n",
       "      <td>White</td>\n",
       "      <td>Not Span/Hispanic</td>\n",
       "      <td>2</td>\n",
       "      <td>...</td>\n",
       "      <td>Minor</td>\n",
       "      <td>Medical</td>\n",
       "      <td>Blue Cross/Blue Shield</td>\n",
       "      <td>NaN</td>\n",
       "      <td>NaN</td>\n",
       "      <td>0</td>\n",
       "      <td>N</td>\n",
       "      <td>Y</td>\n",
       "      <td>5885.90</td>\n",
       "      <td>2617.98</td>\n",
       "    </tr>\n",
       "    <tr>\n",
       "      <th>316423</th>\n",
       "      <td>Broome</td>\n",
       "      <td>303001.0</td>\n",
       "      <td>42.0</td>\n",
       "      <td>United Health Services Hospitals Inc. - Bingha...</td>\n",
       "      <td>30 to 49</td>\n",
       "      <td>137</td>\n",
       "      <td>F</td>\n",
       "      <td>White</td>\n",
       "      <td>Not Span/Hispanic</td>\n",
       "      <td>1</td>\n",
       "      <td>...</td>\n",
       "      <td>Minor</td>\n",
       "      <td>Medical</td>\n",
       "      <td>Medicaid</td>\n",
       "      <td>Medicaid</td>\n",
       "      <td>NaN</td>\n",
       "      <td>0</td>\n",
       "      <td>N</td>\n",
       "      <td>Y</td>\n",
       "      <td>3320.30</td>\n",
       "      <td>1401.22</td>\n",
       "    </tr>\n",
       "    <tr>\n",
       "      <th>316424</th>\n",
       "      <td>Broome</td>\n",
       "      <td>303001.0</td>\n",
       "      <td>42.0</td>\n",
       "      <td>United Health Services Hospitals Inc. - Bingha...</td>\n",
       "      <td>50 to 69</td>\n",
       "      <td>137</td>\n",
       "      <td>F</td>\n",
       "      <td>White</td>\n",
       "      <td>Not Span/Hispanic</td>\n",
       "      <td>3</td>\n",
       "      <td>...</td>\n",
       "      <td>Minor</td>\n",
       "      <td>Medical</td>\n",
       "      <td>Medicare</td>\n",
       "      <td>Medicare</td>\n",
       "      <td>Federal/State/Local/VA</td>\n",
       "      <td>0</td>\n",
       "      <td>N</td>\n",
       "      <td>N</td>\n",
       "      <td>4251.50</td>\n",
       "      <td>2673.10</td>\n",
       "    </tr>\n",
       "    <tr>\n",
       "      <th>316425</th>\n",
       "      <td>Broome</td>\n",
       "      <td>303001.0</td>\n",
       "      <td>42.0</td>\n",
       "      <td>United Health Services Hospitals Inc. - Bingha...</td>\n",
       "      <td>18 to 29</td>\n",
       "      <td>138</td>\n",
       "      <td>F</td>\n",
       "      <td>White</td>\n",
       "      <td>Not Span/Hispanic</td>\n",
       "      <td>2</td>\n",
       "      <td>...</td>\n",
       "      <td>Minor</td>\n",
       "      <td>Medical</td>\n",
       "      <td>Medicaid</td>\n",
       "      <td>NaN</td>\n",
       "      <td>NaN</td>\n",
       "      <td>0</td>\n",
       "      <td>N</td>\n",
       "      <td>Y</td>\n",
       "      <td>5082.30</td>\n",
       "      <td>2275.24</td>\n",
       "    </tr>\n",
       "    <tr>\n",
       "      <th>316426</th>\n",
       "      <td>Broome</td>\n",
       "      <td>303001.0</td>\n",
       "      <td>42.0</td>\n",
       "      <td>United Health Services Hospitals Inc. - Bingha...</td>\n",
       "      <td>70 or Older</td>\n",
       "      <td>139</td>\n",
       "      <td>F</td>\n",
       "      <td>White</td>\n",
       "      <td>Not Span/Hispanic</td>\n",
       "      <td>2</td>\n",
       "      <td>...</td>\n",
       "      <td>Major</td>\n",
       "      <td>Medical</td>\n",
       "      <td>Medicare</td>\n",
       "      <td>Medicare</td>\n",
       "      <td>Blue Cross/Blue Shield</td>\n",
       "      <td>0</td>\n",
       "      <td>N</td>\n",
       "      <td>Y</td>\n",
       "      <td>10424.40</td>\n",
       "      <td>3730.47</td>\n",
       "    </tr>\n",
       "  </tbody>\n",
       "</table>\n",
       "<p>17661 rows × 28 columns</p>\n",
       "</div>"
      ],
      "text/plain": [
       "       Hospital County  Operating Certificate Number  Facility Id  \\\n",
       "327335          Broome                      303001.0         58.0   \n",
       "327336          Broome                      303001.0         58.0   \n",
       "327337          Broome                      303001.0         58.0   \n",
       "327338          Broome                      303001.0         58.0   \n",
       "327339          Broome                      303001.0         58.0   \n",
       "...                ...                           ...          ...   \n",
       "316422          Broome                      303001.0         42.0   \n",
       "316423          Broome                      303001.0         42.0   \n",
       "316424          Broome                      303001.0         42.0   \n",
       "316425          Broome                      303001.0         42.0   \n",
       "316426          Broome                      303001.0         42.0   \n",
       "\n",
       "                                            Facility Name    Age Group  \\\n",
       "327335  United Health Services Hospitals Inc. - Wilson...     30 to 49   \n",
       "327336  United Health Services Hospitals Inc. - Wilson...     50 to 69   \n",
       "327337  United Health Services Hospitals Inc. - Wilson...     30 to 49   \n",
       "327338  United Health Services Hospitals Inc. - Wilson...  70 or Older   \n",
       "327339  United Health Services Hospitals Inc. - Wilson...     50 to 69   \n",
       "...                                                   ...          ...   \n",
       "316422  United Health Services Hospitals Inc. - Bingha...     30 to 49   \n",
       "316423  United Health Services Hospitals Inc. - Bingha...     30 to 49   \n",
       "316424  United Health Services Hospitals Inc. - Bingha...     50 to 69   \n",
       "316425  United Health Services Hospitals Inc. - Bingha...     18 to 29   \n",
       "316426  United Health Services Hospitals Inc. - Bingha...  70 or Older   \n",
       "\n",
       "       Zip Code - 3 digits Gender                    Race          Ethnicity  \\\n",
       "327335                 139      M              Other Race   Spanish/Hispanic   \n",
       "327336                 138      F                   White  Not Span/Hispanic   \n",
       "327337                 137      M                   White  Not Span/Hispanic   \n",
       "327338                 137      M              Other Race  Not Span/Hispanic   \n",
       "327339                 137      F  Black/African American  Not Span/Hispanic   \n",
       "...                    ...    ...                     ...                ...   \n",
       "316422                 137      F                   White  Not Span/Hispanic   \n",
       "316423                 137      F                   White  Not Span/Hispanic   \n",
       "316424                 137      F                   White  Not Span/Hispanic   \n",
       "316425                 138      F                   White  Not Span/Hispanic   \n",
       "316426                 139      F                   White  Not Span/Hispanic   \n",
       "\n",
       "       Length of Stay  ... APR Risk of Mortality  \\\n",
       "327335          120 +  ...               Extreme   \n",
       "327336          120 +  ...               Extreme   \n",
       "327337             96  ...               Extreme   \n",
       "327338              1  ...              Moderate   \n",
       "327339             74  ...               Extreme   \n",
       "...               ...  ...                   ...   \n",
       "316422              2  ...                 Minor   \n",
       "316423              1  ...                 Minor   \n",
       "316424              3  ...                 Minor   \n",
       "316425              2  ...                 Minor   \n",
       "316426              2  ...                 Major   \n",
       "\n",
       "       APR Medical Surgical Description        Payment Typology 1  \\\n",
       "327335                         Surgical                  Medicaid   \n",
       "327336                         Surgical  Private Health Insurance   \n",
       "327337                         Surgical                  Medicaid   \n",
       "327338                         Surgical                  Medicare   \n",
       "327339                         Surgical                  Medicaid   \n",
       "...                                 ...                       ...   \n",
       "316422                          Medical    Blue Cross/Blue Shield   \n",
       "316423                          Medical                  Medicaid   \n",
       "316424                          Medical                  Medicare   \n",
       "316425                          Medical                  Medicaid   \n",
       "316426                          Medical                  Medicare   \n",
       "\n",
       "        Payment Typology 2      Payment Typology 3  Birth Weight  \\\n",
       "327335                 NaN                     NaN             0   \n",
       "327336                 NaN                     NaN             0   \n",
       "327337            Medicaid                     NaN             0   \n",
       "327338            Medicare  Blue Cross/Blue Shield             0   \n",
       "327339                 NaN                     NaN             0   \n",
       "...                    ...                     ...           ...   \n",
       "316422                 NaN                     NaN             0   \n",
       "316423            Medicaid                     NaN             0   \n",
       "316424            Medicare  Federal/State/Local/VA             0   \n",
       "316425                 NaN                     NaN             0   \n",
       "316426            Medicare  Blue Cross/Blue Shield             0   \n",
       "\n",
       "        Abortion Edit Indicator  Emergency Department Indicator Total Charges  \\\n",
       "327335                        N                               Y    1032046.99   \n",
       "327336                        N                               Y    1091681.06   \n",
       "327337                        N                               Y     460332.46   \n",
       "327338                        N                               N      17877.80   \n",
       "327339                        N                               Y     399707.26   \n",
       "...                         ...                             ...           ...   \n",
       "316422                        N                               Y       5885.90   \n",
       "316423                        N                               Y       3320.30   \n",
       "316424                        N                               N       4251.50   \n",
       "316425                        N                               Y       5082.30   \n",
       "316426                        N                               Y      10424.40   \n",
       "\n",
       "       Total Costs  \n",
       "327335   429514.66  \n",
       "327336   378826.75  \n",
       "327337   161178.76  \n",
       "327338     6651.53  \n",
       "327339   138410.36  \n",
       "...            ...  \n",
       "316422     2617.98  \n",
       "316423     1401.22  \n",
       "316424     2673.10  \n",
       "316425     2275.24  \n",
       "316426     3730.47  \n",
       "\n",
       "[17661 rows x 28 columns]"
      ]
     },
     "metadata": {},
     "output_type": "display_data"
    }
   ],
   "source": [
    "# 4  'United Health Services Hospitals Inc. - Binghamton General Hospital',\n",
    "# 4  'United Health Services Hospitals Inc. - Wilson Medical Center',\n",
    "UH_df1=df[df[\"Facility Name\"]== 'United Health Services Hospitals Inc. - Wilson Medical Center']\n",
    "UH_df2=df[df[\"Facility Name\"]== 'United Health Services Hospitals Inc. - Binghamton General Hospital']\n",
    "\n",
    "l=[UH_df1,UH_df2]\n",
    "UH_df= pd.concat(l)\n",
    "display(UH_df)"
   ]
  },
  {
   "cell_type": "code",
   "execution_count": 260,
   "id": "badaacf3",
   "metadata": {
    "execution": {
     "iopub.execute_input": "2023-02-21T12:05:54.627861Z",
     "iopub.status.busy": "2023-02-21T12:05:54.627007Z",
     "iopub.status.idle": "2023-02-21T12:05:54.649402Z",
     "shell.execute_reply": "2023-02-21T12:05:54.647877Z"
    },
    "papermill": {
     "duration": 0.113848,
     "end_time": "2023-02-21T12:05:54.653797",
     "exception": false,
     "start_time": "2023-02-21T12:05:54.539949",
     "status": "completed"
    },
    "tags": []
   },
   "outputs": [
    {
     "name": "stdout",
     "output_type": "stream",
     "text": [
      "<class 'pandas.core.frame.DataFrame'>\n",
      "Int64Index: 17661 entries, 327335 to 316426\n",
      "Data columns (total 28 columns):\n",
      " #   Column                            Non-Null Count  Dtype   \n",
      "---  ------                            --------------  -----   \n",
      " 0   Hospital County                   17661 non-null  category\n",
      " 1   Operating Certificate Number      17661 non-null  float64 \n",
      " 2   Facility Id                       17661 non-null  float64 \n",
      " 3   Facility Name                     17661 non-null  object  \n",
      " 4   Age Group                         17661 non-null  category\n",
      " 5   Zip Code - 3 digits               17460 non-null  category\n",
      " 6   Gender                            17661 non-null  category\n",
      " 7   Race                              17661 non-null  category\n",
      " 8   Ethnicity                         17661 non-null  category\n",
      " 9   Length of Stay                    17661 non-null  category\n",
      " 10  Type of Admission                 17661 non-null  category\n",
      " 11  Patient Disposition               17661 non-null  category\n",
      " 12  Discharge Year                    17661 non-null  int64   \n",
      " 13  CCS Diagnosis Code                17661 non-null  int64   \n",
      " 14  CCS Procedure Code                17661 non-null  int64   \n",
      " 15  APR DRG Code                      17661 non-null  int64   \n",
      " 16  APR MDC Code                      17661 non-null  int64   \n",
      " 17  APR Severity of Illness Code      17661 non-null  int64   \n",
      " 18  APR Risk of Mortality             17647 non-null  category\n",
      " 19  APR Medical Surgical Description  17661 non-null  category\n",
      " 20  Payment Typology 1                17661 non-null  category\n",
      " 21  Payment Typology 2                12345 non-null  category\n",
      " 22  Payment Typology 3                5858 non-null   category\n",
      " 23  Birth Weight                      17661 non-null  int64   \n",
      " 24  Abortion Edit Indicator           17661 non-null  category\n",
      " 25  Emergency Department Indicator    17661 non-null  category\n",
      " 26  Total Charges                     17661 non-null  float64 \n",
      " 27  Total Costs                       17661 non-null  float64 \n",
      "dtypes: category(16), float64(4), int64(7), object(1)\n",
      "memory usage: 2.1+ MB\n"
     ]
    }
   ],
   "source": [
    "UH_df.info()"
   ]
  },
  {
   "cell_type": "code",
   "execution_count": 261,
   "id": "3b8b75d9",
   "metadata": {
    "execution": {
     "iopub.execute_input": "2023-02-21T12:05:54.824263Z",
     "iopub.status.busy": "2023-02-21T12:05:54.823510Z",
     "iopub.status.idle": "2023-02-21T12:05:54.831366Z",
     "shell.execute_reply": "2023-02-21T12:05:54.830487Z"
    },
    "papermill": {
     "duration": 0.095678,
     "end_time": "2023-02-21T12:05:54.833644",
     "exception": false,
     "start_time": "2023-02-21T12:05:54.737966",
     "status": "completed"
    },
    "tags": []
   },
   "outputs": [],
   "source": [
    "UH_df = UH_df.drop([\"Payment Typology 2\",    \"Payment Typology 3\"], axis=1)\n"
   ]
  },
  {
   "cell_type": "code",
   "execution_count": 262,
   "id": "141118f2",
   "metadata": {
    "execution": {
     "iopub.execute_input": "2023-02-21T12:05:55.006404Z",
     "iopub.status.busy": "2023-02-21T12:05:55.005656Z",
     "iopub.status.idle": "2023-02-21T12:05:55.064899Z",
     "shell.execute_reply": "2023-02-21T12:05:55.063282Z"
    },
    "papermill": {
     "duration": 0.150033,
     "end_time": "2023-02-21T12:05:55.068771",
     "exception": false,
     "start_time": "2023-02-21T12:05:54.918738",
     "status": "completed"
    },
    "tags": []
   },
   "outputs": [
    {
     "name": "stdout",
     "output_type": "stream",
     "text": [
      "Hospital County : 1\n",
      "Broome         17661\n",
      "Albany             0\n",
      "Schenectady        0\n",
      "Onondaga           0\n",
      "Ontario            0\n",
      "Name: Hospital County, dtype: int64\n",
      "\n",
      "********************\n",
      "\n",
      "Operating Certificate Number : 1\n",
      "303001.0    17661\n",
      "Name: Operating Certificate Number, dtype: int64\n",
      "\n",
      "********************\n",
      "\n",
      "Facility Id : 2\n",
      "58.0    13318\n",
      "42.0     4343\n",
      "Name: Facility Id, dtype: int64\n",
      "\n",
      "********************\n",
      "\n",
      "Facility Name : 2\n",
      "United Health Services Hospitals Inc. - Wilson Medical Center          13318\n",
      "United Health Services Hospitals Inc. - Binghamton General Hospital     4343\n",
      "Name: Facility Name, dtype: int64\n",
      "\n",
      "********************\n",
      "\n",
      "Age Group : 5\n",
      "70 or Older    5807\n",
      "50 to 69       5171\n",
      "30 to 49       2961\n",
      "0 to 17        1870\n",
      "18 to 29       1852\n",
      "Name: Age Group, dtype: int64\n",
      "\n",
      "********************\n",
      "\n",
      "Zip Code - 3 digits : 28\n",
      "137    7150\n",
      "139    4731\n",
      "138    4070\n",
      "OOS    1014\n",
      "148     125\n",
      "Name: Zip Code - 3 digits, dtype: int64\n",
      "\n",
      "********************\n",
      "\n",
      "Gender : 2\n",
      "F    9398\n",
      "M    8263\n",
      "U       0\n",
      "Name: Gender, dtype: int64\n",
      "\n",
      "********************\n",
      "\n",
      "Race : 3\n",
      "White                     15670\n",
      "Other Race                 1141\n",
      "Black/African American      850\n",
      "Multi-racial                  0\n",
      "Name: Race, dtype: int64\n",
      "\n",
      "********************\n",
      "\n",
      "Ethnicity : 2\n",
      "Not Span/Hispanic    17457\n",
      "Spanish/Hispanic       204\n",
      "Multi-ethnic             0\n",
      "Unknown                  0\n",
      "Name: Ethnicity, dtype: int64\n",
      "\n",
      "********************\n",
      "\n",
      "Length of Stay : 85\n",
      "2    3892\n",
      "3    2995\n",
      "1    2245\n",
      "4    1693\n",
      "5    1230\n",
      "Name: Length of Stay, dtype: int64\n",
      "\n",
      "********************\n",
      "\n",
      "Type of Admission : 4\n",
      "Emergency        10209\n",
      "Elective          3200\n",
      "Urgent            2815\n",
      "Newborn           1437\n",
      "Not Available        0\n",
      "Name: Type of Admission, dtype: int64\n",
      "\n",
      "********************\n",
      "\n",
      "Patient Disposition : 16\n",
      "Home or Self Care                    11951\n",
      "Skilled Nursing Home                  2161\n",
      "Home w/ Home Health Services          1846\n",
      "Expired                                443\n",
      "Inpatient Rehabilitation Facility      383\n",
      "Name: Patient Disposition, dtype: int64\n",
      "\n",
      "********************\n",
      "\n",
      "Discharge Year : 1\n",
      "2015    17661\n",
      "Name: Discharge Year, dtype: int64\n",
      "\n",
      "********************\n",
      "\n",
      "CCS Diagnosis Code : 242\n",
      "218    1434\n",
      "2      1124\n",
      "657     925\n",
      "203     638\n",
      "205     560\n",
      "Name: CCS Diagnosis Code, dtype: int64\n",
      "\n",
      "********************\n",
      "\n",
      "CCS Procedure Code : 177\n",
      "0      5289\n",
      "228     949\n",
      "231     878\n",
      "216     654\n",
      "115     590\n",
      "Name: CCS Procedure Code, dtype: int64\n",
      "\n",
      "********************\n",
      "\n",
      "APR DRG Code : 286\n",
      "640    1206\n",
      "720     957\n",
      "560     897\n",
      "194     564\n",
      "753     519\n",
      "Name: APR DRG Code, dtype: int64\n",
      "\n",
      "********************\n",
      "\n",
      "APR MDC Code : 25\n",
      "5     2647\n",
      "8     2061\n",
      "15    1508\n",
      "14    1505\n",
      "19    1465\n",
      "Name: APR MDC Code, dtype: int64\n",
      "\n",
      "********************\n",
      "\n",
      "APR Severity of Illness Code : 5\n",
      "2    6570\n",
      "1    4824\n",
      "3    4657\n",
      "4    1596\n",
      "0      14\n",
      "Name: APR Severity of Illness Code, dtype: int64\n",
      "\n",
      "********************\n",
      "\n",
      "APR Risk of Mortality : 4\n",
      "Minor       9063\n",
      "Moderate    3886\n",
      "Major       3343\n",
      "Extreme     1355\n",
      "Name: APR Risk of Mortality, dtype: int64\n",
      "\n",
      "********************\n",
      "\n",
      "APR Medical Surgical Description : 3\n",
      "Medical           12630\n",
      "Surgical           5017\n",
      "Not Applicable       14\n",
      "Name: APR Medical Surgical Description, dtype: int64\n",
      "\n",
      "********************\n",
      "\n",
      "Payment Typology 1 : 8\n",
      "Medicare                    8619\n",
      "Medicaid                    4179\n",
      "Blue Cross/Blue Shield      2992\n",
      "Private Health Insurance    1126\n",
      "Self-Pay                     349\n",
      "Name: Payment Typology 1, dtype: int64\n",
      "\n",
      "********************\n",
      "\n",
      "Birth Weight : 48\n",
      "0       16128\n",
      "3400      147\n",
      "3200      131\n",
      "3300      106\n",
      "3000      100\n",
      "Name: Birth Weight, dtype: int64\n",
      "\n",
      "********************\n",
      "\n",
      "Abortion Edit Indicator : 1\n",
      "N    17661\n",
      "Y        0\n",
      "Name: Abortion Edit Indicator, dtype: int64\n",
      "\n",
      "********************\n",
      "\n",
      "Emergency Department Indicator : 2\n",
      "Y    9654\n",
      "N    8007\n",
      "Name: Emergency Department Indicator, dtype: int64\n",
      "\n",
      "********************\n",
      "\n",
      "Total Charges : 16874\n",
      "945.2     46\n",
      "1320.2    26\n",
      "1239.2    24\n",
      "988.2     22\n",
      "1624.2    21\n",
      "Name: Total Charges, dtype: int64\n",
      "\n",
      "********************\n",
      "\n",
      "Total Costs : 17021\n",
      "332.22    46\n",
      "638.11    26\n",
      "435.01    24\n",
      "338.28    22\n",
      "427.98    21\n",
      "Name: Total Costs, dtype: int64\n",
      "\n",
      "********************\n",
      "\n"
     ]
    }
   ],
   "source": [
    "for col in UH_df.columns:\n",
    "    print( col,':', UH_df[col].nunique() )#Num of unique values\n",
    "    print(UH_df[col].value_counts().nlargest(5)) #Most 5 frequent values\n",
    "    print('\\n' + '*' * 20 + '\\n')"
   ]
  },
  {
   "cell_type": "code",
   "execution_count": 263,
   "id": "4cbc38da",
   "metadata": {
    "execution": {
     "iopub.execute_input": "2023-02-21T12:05:55.241141Z",
     "iopub.status.busy": "2023-02-21T12:05:55.239933Z",
     "iopub.status.idle": "2023-02-21T12:05:55.249186Z",
     "shell.execute_reply": "2023-02-21T12:05:55.248298Z"
    },
    "papermill": {
     "duration": 0.099022,
     "end_time": "2023-02-21T12:05:55.251617",
     "exception": false,
     "start_time": "2023-02-21T12:05:55.152595",
     "status": "completed"
    },
    "tags": []
   },
   "outputs": [],
   "source": [
    " #   simple mapping on binary features.\n",
    "UH_df['Abortion Edit Indicator'] = UH_df['Abortion Edit Indicator'].apply(\n",
    "     lambda x: 1 if x == 'Y' else (0 if x == 'N' else None))\n",
    "UH_df['Emergency Department Indicator'] = UH_df['Emergency Department Indicator'].apply(\n",
    "    lambda x: 1 if x == 'Y' else (0 if x == 'N' else None))"
   ]
  },
  {
   "cell_type": "code",
   "execution_count": 264,
   "id": "82927442",
   "metadata": {
    "execution": {
     "iopub.execute_input": "2023-02-21T12:05:55.426509Z",
     "iopub.status.busy": "2023-02-21T12:05:55.425773Z",
     "iopub.status.idle": "2023-02-21T12:05:55.440264Z",
     "shell.execute_reply": "2023-02-21T12:05:55.439365Z"
    },
    "papermill": {
     "duration": 0.101994,
     "end_time": "2023-02-21T12:05:55.442884",
     "exception": false,
     "start_time": "2023-02-21T12:05:55.340890",
     "status": "completed"
    },
    "tags": []
   },
   "outputs": [],
   "source": [
    "UH_df[\"Length of Stay\"]=pd.to_numeric(UH_df[\"Length of Stay\"],errors='coerce')\n"
   ]
  },
  {
   "cell_type": "code",
   "execution_count": 265,
   "id": "e3d2f008",
   "metadata": {
    "execution": {
     "iopub.execute_input": "2023-02-21T12:05:55.614849Z",
     "iopub.status.busy": "2023-02-21T12:05:55.614426Z",
     "iopub.status.idle": "2023-02-21T12:05:55.689846Z",
     "shell.execute_reply": "2023-02-21T12:05:55.688277Z"
    },
    "papermill": {
     "duration": 0.164741,
     "end_time": "2023-02-21T12:05:55.692660",
     "exception": false,
     "start_time": "2023-02-21T12:05:55.527919",
     "status": "completed"
    },
    "tags": []
   },
   "outputs": [],
   "source": [
    "list=  [ \"Hospital County\",\"Age Group\"\n",
    "    ,\"Gender\",   \n",
    " \"Race\" , \n",
    "\"Ethnicity\", \n",
    "\"Gender\" , \n",
    "\"Race\" ,    \n",
    " \"Ethnicity\" ,        \n",
    " \"Type of Admission\"  ,  \n",
    "  \"Patient Disposition\",      \n",
    " \"Type of Admission\" ,  \n",
    " \"Patient Disposition\"  ,\n",
    "  \"APR Risk of Mortality\" ,   \n",
    " \"APR Medical Surgical Description\" ,\n",
    " \"Payment Typology 1\"   ,   \n",
    " \"Abortion Edit Indicator\"     ,  \n",
    " \"Emergency Department Indicator\",\n",
    "       \"Zip Code - 3 digits\",'Facility Name']  \n",
    "\n",
    "# Import label encoder\n",
    "from sklearn import preprocessing\n",
    "  \n",
    "# label_encoder object knows how to understand word labels.\n",
    "label_encoder = preprocessing.LabelEncoder()\n",
    "  \n",
    "# Encode labels in column 'species'.\n",
    "for col in list :\n",
    "  UH_df[col]= label_encoder.fit_transform(UH_df[col])\n"
   ]
  },
  {
   "cell_type": "code",
   "execution_count": 266,
   "id": "481dc84e",
   "metadata": {
    "execution": {
     "iopub.execute_input": "2023-02-21T12:05:55.863886Z",
     "iopub.status.busy": "2023-02-21T12:05:55.863437Z",
     "iopub.status.idle": "2023-02-21T12:05:55.881722Z",
     "shell.execute_reply": "2023-02-21T12:05:55.879845Z"
    },
    "papermill": {
     "duration": 0.107133,
     "end_time": "2023-02-21T12:05:55.884407",
     "exception": false,
     "start_time": "2023-02-21T12:05:55.777274",
     "status": "completed"
    },
    "tags": []
   },
   "outputs": [
    {
     "name": "stdout",
     "output_type": "stream",
     "text": [
      "<class 'pandas.core.frame.DataFrame'>\n",
      "Int64Index: 17661 entries, 327335 to 316426\n",
      "Data columns (total 26 columns):\n",
      " #   Column                            Non-Null Count  Dtype  \n",
      "---  ------                            --------------  -----  \n",
      " 0   Hospital County                   17661 non-null  int64  \n",
      " 1   Operating Certificate Number      17661 non-null  float64\n",
      " 2   Facility Id                       17661 non-null  float64\n",
      " 3   Facility Name                     17661 non-null  int64  \n",
      " 4   Age Group                         17661 non-null  int64  \n",
      " 5   Zip Code - 3 digits               17661 non-null  int64  \n",
      " 6   Gender                            17661 non-null  int64  \n",
      " 7   Race                              17661 non-null  int64  \n",
      " 8   Ethnicity                         17661 non-null  int64  \n",
      " 9   Length of Stay                    17645 non-null  float64\n",
      " 10  Type of Admission                 17661 non-null  int64  \n",
      " 11  Patient Disposition               17661 non-null  int64  \n",
      " 12  Discharge Year                    17661 non-null  int64  \n",
      " 13  CCS Diagnosis Code                17661 non-null  int64  \n",
      " 14  CCS Procedure Code                17661 non-null  int64  \n",
      " 15  APR DRG Code                      17661 non-null  int64  \n",
      " 16  APR MDC Code                      17661 non-null  int64  \n",
      " 17  APR Severity of Illness Code      17661 non-null  int64  \n",
      " 18  APR Risk of Mortality             17661 non-null  int64  \n",
      " 19  APR Medical Surgical Description  17661 non-null  int64  \n",
      " 20  Payment Typology 1                17661 non-null  int64  \n",
      " 21  Birth Weight                      17661 non-null  int64  \n",
      " 22  Abortion Edit Indicator           17661 non-null  int64  \n",
      " 23  Emergency Department Indicator    17661 non-null  int64  \n",
      " 24  Total Charges                     17661 non-null  float64\n",
      " 25  Total Costs                       17661 non-null  float64\n",
      "dtypes: float64(5), int64(21)\n",
      "memory usage: 3.6 MB\n"
     ]
    }
   ],
   "source": [
    "UH_df.info()\n"
   ]
  },
  {
   "cell_type": "code",
   "execution_count": 267,
   "id": "38be26e9",
   "metadata": {
    "execution": {
     "iopub.execute_input": "2023-02-21T12:05:56.053561Z",
     "iopub.status.busy": "2023-02-21T12:05:56.052868Z",
     "iopub.status.idle": "2023-02-21T12:05:56.066750Z",
     "shell.execute_reply": "2023-02-21T12:05:56.065552Z"
    },
    "papermill": {
     "duration": 0.101879,
     "end_time": "2023-02-21T12:05:56.069499",
     "exception": false,
     "start_time": "2023-02-21T12:05:55.967620",
     "status": "completed"
    },
    "tags": []
   },
   "outputs": [],
   "source": [
    " UH_df.dropna(inplace=True)\n"
   ]
  },
  {
   "cell_type": "code",
   "execution_count": 268,
   "id": "cef601f7",
   "metadata": {
    "execution": {
     "iopub.execute_input": "2023-02-21T12:05:56.304193Z",
     "iopub.status.busy": "2023-02-21T12:05:56.302956Z",
     "iopub.status.idle": "2023-02-21T12:05:56.313426Z",
     "shell.execute_reply": "2023-02-21T12:05:56.311806Z"
    },
    "papermill": {
     "duration": 0.107293,
     "end_time": "2023-02-21T12:05:56.316046",
     "exception": false,
     "start_time": "2023-02-21T12:05:56.208753",
     "status": "completed"
    },
    "tags": []
   },
   "outputs": [],
   "source": [
    "x = UH_df.drop([\"Length of Stay\"], axis =1)\n",
    "y = UH_df[\"Length of Stay\"]"
   ]
  },
  {
   "cell_type": "code",
   "execution_count": 269,
   "id": "6b611ce8",
   "metadata": {
    "execution": {
     "iopub.execute_input": "2023-02-21T12:05:56.496057Z",
     "iopub.status.busy": "2023-02-21T12:05:56.495565Z",
     "iopub.status.idle": "2023-02-21T12:05:56.506672Z",
     "shell.execute_reply": "2023-02-21T12:05:56.505751Z"
    },
    "papermill": {
     "duration": 0.099697,
     "end_time": "2023-02-21T12:05:56.509177",
     "exception": false,
     "start_time": "2023-02-21T12:05:56.409480",
     "status": "completed"
    },
    "tags": []
   },
   "outputs": [],
   "source": [
    "x_train, x_test, y_train, y_test = train_test_split(x, y, test_size=0.3, random_state=42)\n"
   ]
  },
  {
   "cell_type": "code",
   "execution_count": 270,
   "id": "059afbbd",
   "metadata": {
    "execution": {
     "iopub.execute_input": "2023-02-21T12:05:56.680931Z",
     "iopub.status.busy": "2023-02-21T12:05:56.679887Z",
     "iopub.status.idle": "2023-02-21T12:05:56.708404Z",
     "shell.execute_reply": "2023-02-21T12:05:56.706714Z"
    },
    "papermill": {
     "duration": 0.118986,
     "end_time": "2023-02-21T12:05:56.713078",
     "exception": false,
     "start_time": "2023-02-21T12:05:56.594092",
     "status": "completed"
    },
    "tags": []
   },
   "outputs": [],
   "source": [
    "# Linear Regression\n",
    "\n",
    "LR = LinearRegression()\n",
    "LR.fit(x_train, y_train)\n",
    "LR.score(x_train, y_train)\n",
    "y_pred =LR.predict(x_test)"
   ]
  },
  {
   "cell_type": "code",
   "execution_count": 271,
   "id": "a0465add",
   "metadata": {
    "execution": {
     "iopub.execute_input": "2023-02-21T12:05:56.957156Z",
     "iopub.status.busy": "2023-02-21T12:05:56.956408Z",
     "iopub.status.idle": "2023-02-21T12:05:56.964954Z",
     "shell.execute_reply": "2023-02-21T12:05:56.963967Z"
    },
    "papermill": {
     "duration": 0.096356,
     "end_time": "2023-02-21T12:05:56.967147",
     "exception": false,
     "start_time": "2023-02-21T12:05:56.870791",
     "status": "completed"
    },
    "tags": []
   },
   "outputs": [
    {
     "data": {
      "text/plain": [
       "0.7525860452304862"
      ]
     },
     "execution_count": 271,
     "metadata": {},
     "output_type": "execute_result"
    }
   ],
   "source": [
    "r2 = r2_score(y_test, y_pred)\n",
    "r2 "
   ]
  },
  {
   "cell_type": "code",
   "execution_count": 272,
   "id": "310dfa70",
   "metadata": {
    "execution": {
     "iopub.execute_input": "2023-02-21T12:05:57.138829Z",
     "iopub.status.busy": "2023-02-21T12:05:57.138067Z",
     "iopub.status.idle": "2023-02-21T12:05:57.145283Z",
     "shell.execute_reply": "2023-02-21T12:05:57.144259Z"
    },
    "papermill": {
     "duration": 0.095757,
     "end_time": "2023-02-21T12:05:57.147526",
     "exception": false,
     "start_time": "2023-02-21T12:05:57.051769",
     "status": "completed"
    },
    "tags": []
   },
   "outputs": [
    {
     "data": {
      "text/plain": [
       "2.0684639957341076"
      ]
     },
     "execution_count": 272,
     "metadata": {},
     "output_type": "execute_result"
    }
   ],
   "source": [
    "# calculate the MAE of the model\n",
    "mae = mean_absolute_error(y_test, y_pred)\n",
    "mae"
   ]
  },
  {
   "cell_type": "code",
   "execution_count": 273,
   "id": "4e6f9c6d",
   "metadata": {
    "execution": {
     "iopub.execute_input": "2023-02-21T12:05:57.316600Z",
     "iopub.status.busy": "2023-02-21T12:05:57.315838Z",
     "iopub.status.idle": "2023-02-21T12:05:57.323466Z",
     "shell.execute_reply": "2023-02-21T12:05:57.322518Z"
    },
    "papermill": {
     "duration": 0.095454,
     "end_time": "2023-02-21T12:05:57.325597",
     "exception": false,
     "start_time": "2023-02-21T12:05:57.230143",
     "status": "completed"
    },
    "tags": []
   },
   "outputs": [
    {
     "data": {
      "text/plain": [
       "12.376363549957983"
      ]
     },
     "execution_count": 273,
     "metadata": {},
     "output_type": "execute_result"
    }
   ],
   "source": [
    "# calculate the MSE of the model\n",
    "mse = mean_squared_error(y_test, y_pred)\n",
    "mse"
   ]
  },
  {
   "cell_type": "code",
   "execution_count": 274,
   "id": "9e082d44",
   "metadata": {
    "execution": {
     "iopub.execute_input": "2023-02-21T12:05:57.496266Z",
     "iopub.status.busy": "2023-02-21T12:05:57.495809Z",
     "iopub.status.idle": "2023-02-21T12:05:57.501926Z",
     "shell.execute_reply": "2023-02-21T12:05:57.501179Z"
    },
    "papermill": {
     "duration": 0.094189,
     "end_time": "2023-02-21T12:05:57.503831",
     "exception": false,
     "start_time": "2023-02-21T12:05:57.409642",
     "status": "completed"
    },
    "tags": []
   },
   "outputs": [
    {
     "data": {
      "text/plain": [
       "3.5180056210810666"
      ]
     },
     "execution_count": 274,
     "metadata": {},
     "output_type": "execute_result"
    }
   ],
   "source": [
    "# calculate the RMSE of the model\n",
    "rmse = np.sqrt(mse)\n",
    "rmse"
   ]
  },
  {
   "cell_type": "code",
   "execution_count": 275,
   "id": "206019f7",
   "metadata": {
    "execution": {
     "iopub.execute_input": "2023-02-21T12:05:57.674744Z",
     "iopub.status.busy": "2023-02-21T12:05:57.674008Z",
     "iopub.status.idle": "2023-02-21T12:05:57.779811Z",
     "shell.execute_reply": "2023-02-21T12:05:57.778225Z"
    },
    "papermill": {
     "duration": 0.196053,
     "end_time": "2023-02-21T12:05:57.784311",
     "exception": false,
     "start_time": "2023-02-21T12:05:57.588258",
     "status": "completed"
    },
    "tags": []
   },
   "outputs": [],
   "source": [
    "# LASSO\n",
    "L1 = linear_model.Lasso()\n",
    "L1.fit(x_train,y_train)\n",
    "y_pred1 = L1.predict(x_test)"
   ]
  },
  {
   "cell_type": "code",
   "execution_count": 276,
   "id": "2fef5cdb",
   "metadata": {
    "execution": {
     "iopub.execute_input": "2023-02-21T12:05:58.040455Z",
     "iopub.status.busy": "2023-02-21T12:05:58.040040Z",
     "iopub.status.idle": "2023-02-21T12:05:58.048388Z",
     "shell.execute_reply": "2023-02-21T12:05:58.047412Z"
    },
    "papermill": {
     "duration": 0.104169,
     "end_time": "2023-02-21T12:05:58.050515",
     "exception": false,
     "start_time": "2023-02-21T12:05:57.946346",
     "status": "completed"
    },
    "tags": []
   },
   "outputs": [
    {
     "data": {
      "text/plain": [
       "0.7149297869535722"
      ]
     },
     "execution_count": 276,
     "metadata": {},
     "output_type": "execute_result"
    }
   ],
   "source": [
    "r2 = r2_score(y_test, y_pred1)\n",
    "r2 "
   ]
  },
  {
   "cell_type": "code",
   "execution_count": 277,
   "id": "50a4e762",
   "metadata": {
    "execution": {
     "iopub.execute_input": "2023-02-21T12:05:58.234686Z",
     "iopub.status.busy": "2023-02-21T12:05:58.234258Z",
     "iopub.status.idle": "2023-02-21T12:05:58.243960Z",
     "shell.execute_reply": "2023-02-21T12:05:58.242885Z"
    },
    "papermill": {
     "duration": 0.104494,
     "end_time": "2023-02-21T12:05:58.247019",
     "exception": false,
     "start_time": "2023-02-21T12:05:58.142525",
     "status": "completed"
    },
    "tags": []
   },
   "outputs": [
    {
     "data": {
      "text/plain": [
       "2.2303833727619162"
      ]
     },
     "execution_count": 277,
     "metadata": {},
     "output_type": "execute_result"
    }
   ],
   "source": [
    "# calculate the MAE of the model\n",
    "mae = mean_absolute_error(y_test, y_pred1)\n",
    "mae"
   ]
  },
  {
   "cell_type": "code",
   "execution_count": 278,
   "id": "a3618449",
   "metadata": {
    "execution": {
     "iopub.execute_input": "2023-02-21T12:05:58.421877Z",
     "iopub.status.busy": "2023-02-21T12:05:58.420931Z",
     "iopub.status.idle": "2023-02-21T12:05:58.429663Z",
     "shell.execute_reply": "2023-02-21T12:05:58.428515Z"
    },
    "papermill": {
     "duration": 0.097088,
     "end_time": "2023-02-21T12:05:58.431882",
     "exception": false,
     "start_time": "2023-02-21T12:05:58.334794",
     "status": "completed"
    },
    "tags": []
   },
   "outputs": [
    {
     "data": {
      "text/plain": [
       "14.260038796976138"
      ]
     },
     "execution_count": 278,
     "metadata": {},
     "output_type": "execute_result"
    }
   ],
   "source": [
    "# calculate the MSE of the model\n",
    "mse = mean_squared_error(y_test, y_pred1)\n",
    "mse"
   ]
  },
  {
   "cell_type": "code",
   "execution_count": 279,
   "id": "8bfc1b23",
   "metadata": {
    "execution": {
     "iopub.execute_input": "2023-02-21T12:05:58.604054Z",
     "iopub.status.busy": "2023-02-21T12:05:58.603246Z",
     "iopub.status.idle": "2023-02-21T12:05:58.610421Z",
     "shell.execute_reply": "2023-02-21T12:05:58.609478Z"
    },
    "papermill": {
     "duration": 0.09518,
     "end_time": "2023-02-21T12:05:58.612672",
     "exception": false,
     "start_time": "2023-02-21T12:05:58.517492",
     "status": "completed"
    },
    "tags": []
   },
   "outputs": [
    {
     "data": {
      "text/plain": [
       "3.7762466546792384"
      ]
     },
     "execution_count": 279,
     "metadata": {},
     "output_type": "execute_result"
    }
   ],
   "source": [
    "# calculate the RMSE of the model\n",
    "rmse = np.sqrt(mse)\n",
    "rmse"
   ]
  },
  {
   "cell_type": "code",
   "execution_count": 280,
   "id": "7164cbde",
   "metadata": {
    "execution": {
     "iopub.execute_input": "2023-02-21T12:05:58.789948Z",
     "iopub.status.busy": "2023-02-21T12:05:58.789173Z",
     "iopub.status.idle": "2023-02-21T12:05:58.812077Z",
     "shell.execute_reply": "2023-02-21T12:05:58.810485Z"
    },
    "papermill": {
     "duration": 0.118344,
     "end_time": "2023-02-21T12:05:58.816856",
     "exception": false,
     "start_time": "2023-02-21T12:05:58.698512",
     "status": "completed"
    },
    "tags": []
   },
   "outputs": [],
   "source": [
    "# Ridge\n",
    "L2 = Ridge(alpha=1.0)\n",
    "L2.fit(x_train, y_train) \n",
    "y_pred3 = L2.predict(x_test)"
   ]
  },
  {
   "cell_type": "code",
   "execution_count": 281,
   "id": "310e1704",
   "metadata": {
    "execution": {
     "iopub.execute_input": "2023-02-21T12:05:59.062481Z",
     "iopub.status.busy": "2023-02-21T12:05:59.061977Z",
     "iopub.status.idle": "2023-02-21T12:05:59.071802Z",
     "shell.execute_reply": "2023-02-21T12:05:59.070759Z"
    },
    "papermill": {
     "duration": 0.100507,
     "end_time": "2023-02-21T12:05:59.075266",
     "exception": false,
     "start_time": "2023-02-21T12:05:58.974759",
     "status": "completed"
    },
    "tags": []
   },
   "outputs": [
    {
     "data": {
      "text/plain": [
       "0.7525870132619732"
      ]
     },
     "execution_count": 281,
     "metadata": {},
     "output_type": "execute_result"
    }
   ],
   "source": [
    "r2 = r2_score(y_test, y_pred3)\n",
    "r2 "
   ]
  },
  {
   "cell_type": "code",
   "execution_count": 282,
   "id": "266d82cc",
   "metadata": {
    "execution": {
     "iopub.execute_input": "2023-02-21T12:05:59.251181Z",
     "iopub.status.busy": "2023-02-21T12:05:59.250728Z",
     "iopub.status.idle": "2023-02-21T12:05:59.259145Z",
     "shell.execute_reply": "2023-02-21T12:05:59.258100Z"
    },
    "papermill": {
     "duration": 0.097544,
     "end_time": "2023-02-21T12:05:59.261522",
     "exception": false,
     "start_time": "2023-02-21T12:05:59.163978",
     "status": "completed"
    },
    "tags": []
   },
   "outputs": [
    {
     "data": {
      "text/plain": [
       "2.0684430974297547"
      ]
     },
     "execution_count": 282,
     "metadata": {},
     "output_type": "execute_result"
    }
   ],
   "source": [
    "# calculate the MAE of the model\n",
    "mae = mean_absolute_error(y_test, y_pred3)\n",
    "mae"
   ]
  },
  {
   "cell_type": "code",
   "execution_count": 283,
   "id": "e18e611c",
   "metadata": {
    "execution": {
     "iopub.execute_input": "2023-02-21T12:05:59.434928Z",
     "iopub.status.busy": "2023-02-21T12:05:59.434508Z",
     "iopub.status.idle": "2023-02-21T12:05:59.442242Z",
     "shell.execute_reply": "2023-02-21T12:05:59.441189Z"
    },
    "papermill": {
     "duration": 0.096935,
     "end_time": "2023-02-21T12:05:59.444701",
     "exception": false,
     "start_time": "2023-02-21T12:05:59.347766",
     "status": "completed"
    },
    "tags": []
   },
   "outputs": [
    {
     "data": {
      "text/plain": [
       "12.376315126215594"
      ]
     },
     "execution_count": 283,
     "metadata": {},
     "output_type": "execute_result"
    }
   ],
   "source": [
    "# calculate the MSE of the model\n",
    "mse = mean_squared_error(y_test, y_pred3)\n",
    "mse"
   ]
  },
  {
   "cell_type": "code",
   "execution_count": 284,
   "id": "2088aa70",
   "metadata": {
    "execution": {
     "iopub.execute_input": "2023-02-21T12:05:59.615541Z",
     "iopub.status.busy": "2023-02-21T12:05:59.615085Z",
     "iopub.status.idle": "2023-02-21T12:05:59.622480Z",
     "shell.execute_reply": "2023-02-21T12:05:59.621311Z"
    },
    "papermill": {
     "duration": 0.095778,
     "end_time": "2023-02-21T12:05:59.624933",
     "exception": false,
     "start_time": "2023-02-21T12:05:59.529155",
     "status": "completed"
    },
    "tags": []
   },
   "outputs": [
    {
     "data": {
      "text/plain": [
       "3.517998738802445"
      ]
     },
     "execution_count": 284,
     "metadata": {},
     "output_type": "execute_result"
    }
   ],
   "source": [
    "# calculate the RMSE of the model\n",
    "rmse = np.sqrt(mse)\n",
    "rmse"
   ]
  },
  {
   "cell_type": "code",
   "execution_count": null,
   "id": "c52e732a",
   "metadata": {
    "papermill": {
     "duration": 0.084273,
     "end_time": "2023-02-21T12:05:59.794532",
     "exception": false,
     "start_time": "2023-02-21T12:05:59.710259",
     "status": "completed"
    },
    "tags": []
   },
   "outputs": [],
   "source": []
  }
 ],
 "metadata": {
  "kernelspec": {
   "display_name": "Python 3",
   "language": "python",
   "name": "python3"
  },
  "language_info": {
   "codemirror_mode": {
    "name": "ipython",
    "version": 3
   },
   "file_extension": ".py",
   "mimetype": "text/x-python",
   "name": "python",
   "nbconvert_exporter": "python",
   "pygments_lexer": "ipython3",
   "version": "3.7.12"
  },
  "papermill": {
   "default_parameters": {},
   "duration": 113.605466,
   "end_time": "2023-02-21T12:06:00.904028",
   "environment_variables": {},
   "exception": null,
   "input_path": "__notebook__.ipynb",
   "output_path": "__notebook__.ipynb",
   "parameters": {},
   "start_time": "2023-02-21T12:04:07.298562",
   "version": "2.3.4"
  }
 },
 "nbformat": 4,
 "nbformat_minor": 5
}
