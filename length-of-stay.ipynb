{
 "cells": [
  {
   "cell_type": "code",
   "execution_count": 1,
   "id": "f1453634",
   "metadata": {
    "_cell_guid": "b1076dfc-b9ad-4769-8c92-a6c4dae69d19",
    "_kg_hide-output": true,
    "_uuid": "8f2839f25d086af736a60e9eeb907d3b93b6e0e5",
    "execution": {
     "iopub.execute_input": "2023-02-21T20:36:14.529743Z",
     "iopub.status.busy": "2023-02-21T20:36:14.528583Z",
     "iopub.status.idle": "2023-02-21T20:36:14.552289Z",
     "shell.execute_reply": "2023-02-21T20:36:14.551151Z"
    },
    "id": "01e7d938",
    "papermill": {
     "duration": 0.12029,
     "end_time": "2023-02-21T20:36:14.556252",
     "exception": false,
     "start_time": "2023-02-21T20:36:14.435962",
     "status": "completed"
    },
    "tags": []
   },
   "outputs": [
    {
     "name": "stdout",
     "output_type": "stream",
     "text": [
      "/kaggle/input/length-of-stay-prediction/Hospital_Inpatient_Discharges__SPARCS_De-Identified___2015.csv\n"
     ]
    }
   ],
   "source": [
    "# This Python 3 environment comes with many helpful analytics libraries installed\n",
    "# It is defined by the kaggle/python Docker image: https://github.com/kaggle/docker-python\n",
    "# For example, here's several helpful packages to load\n",
    "\n",
    "import numpy as np # linear algebra\n",
    "import pandas as pd # data processing, CSV file I/O (e.g. pd.read_csv)\n",
    "\n",
    "# Input data files are available in the read-only \"../input/\" directory\n",
    "# For example, running this (by clicking run or pressing Shift+Enter) will list all files under the input directory\n",
    "\n",
    "import os\n",
    "for dirname, _, filenames in os.walk('/kaggle/input'):\n",
    "    for filename in filenames:\n",
    "        print(os.path.join(dirname, filename))\n",
    "\n",
    "# You can write up to 20GB to the current directory (/kaggle/working/) that gets preserved as output when you create a version using \"Save & Run All\" \n",
    "# You can also write temporary files to /kaggle/temp/, but they won't be saved outside of the current session"
   ]
  },
  {
   "cell_type": "code",
   "execution_count": 2,
   "id": "455c0c68",
   "metadata": {
    "execution": {
     "iopub.execute_input": "2023-02-21T20:36:14.718283Z",
     "iopub.status.busy": "2023-02-21T20:36:14.717426Z",
     "iopub.status.idle": "2023-02-21T20:36:15.921119Z",
     "shell.execute_reply": "2023-02-21T20:36:15.919976Z"
    },
    "id": "a9701d55",
    "papermill": {
     "duration": 1.275602,
     "end_time": "2023-02-21T20:36:15.923869",
     "exception": false,
     "start_time": "2023-02-21T20:36:14.648267",
     "status": "completed"
    },
    "tags": []
   },
   "outputs": [],
   "source": [
    "from sklearn.metrics import r2_score\n",
    "from sklearn.metrics import mean_absolute_error\n",
    "from sklearn.metrics import mean_squared_error\n",
    "from sklearn.linear_model import LinearRegression\n",
    "from sklearn import linear_model\n",
    "from sklearn.linear_model import Ridge\n",
    "from sklearn.model_selection import train_test_split"
   ]
  },
  {
   "cell_type": "code",
   "execution_count": null,
   "id": "c6520e8f",
   "metadata": {
    "id": "lfgAgCQCZggM",
    "papermill": {
     "duration": 0.066895,
     "end_time": "2023-02-21T20:36:16.058353",
     "exception": false,
     "start_time": "2023-02-21T20:36:15.991458",
     "status": "completed"
    },
    "tags": []
   },
   "outputs": [],
   "source": []
  },
  {
   "cell_type": "markdown",
   "id": "d06a31b2",
   "metadata": {
    "id": "IeOjBcwDRo0H",
    "papermill": {
     "duration": 0.079491,
     "end_time": "2023-02-21T20:36:16.206303",
     "exception": false,
     "start_time": "2023-02-21T20:36:16.126812",
     "status": "completed"
    },
    "tags": []
   },
   "source": [
    "##Read Data\n"
   ]
  },
  {
   "cell_type": "code",
   "execution_count": null,
   "id": "8a40ff4f",
   "metadata": {
    "id": "2tACU50f2q9b",
    "papermill": {
     "duration": 0.066202,
     "end_time": "2023-02-21T20:36:16.347642",
     "exception": false,
     "start_time": "2023-02-21T20:36:16.281440",
     "status": "completed"
    },
    "tags": []
   },
   "outputs": [],
   "source": []
  },
  {
   "cell_type": "code",
   "execution_count": 3,
   "id": "18ffff1d",
   "metadata": {
    "execution": {
     "iopub.execute_input": "2023-02-21T20:36:16.481547Z",
     "iopub.status.busy": "2023-02-21T20:36:16.481136Z",
     "iopub.status.idle": "2023-02-21T20:36:46.928546Z",
     "shell.execute_reply": "2023-02-21T20:36:46.927395Z"
    },
    "id": "da17e6a0",
    "papermill": {
     "duration": 30.517318,
     "end_time": "2023-02-21T20:36:46.931217",
     "exception": false,
     "start_time": "2023-02-21T20:36:16.413899",
     "status": "completed"
    },
    "tags": []
   },
   "outputs": [
    {
     "name": "stderr",
     "output_type": "stream",
     "text": [
      "/opt/conda/lib/python3.7/site-packages/IPython/core/interactiveshell.py:3552: DtypeWarning: Columns (10) have mixed types.Specify dtype option on import or set low_memory=False.\n",
      "  exec(code_obj, self.user_global_ns, self.user_ns)\n"
     ]
    }
   ],
   "source": [
    "df=pd.read_csv(\"/kaggle/input/length-of-stay-prediction/Hospital_Inpatient_Discharges__SPARCS_De-Identified___2015.csv\")"
   ]
  },
  {
   "cell_type": "code",
   "execution_count": 4,
   "id": "ecad65b4",
   "metadata": {
    "execution": {
     "iopub.execute_input": "2023-02-21T20:36:47.066198Z",
     "iopub.status.busy": "2023-02-21T20:36:47.065761Z",
     "iopub.status.idle": "2023-02-21T20:36:47.222866Z",
     "shell.execute_reply": "2023-02-21T20:36:47.221334Z"
    },
    "id": "c3fe608a",
    "outputId": "c896368e-ff73-4227-8172-18796b78fec7",
    "papermill": {
     "duration": 0.226981,
     "end_time": "2023-02-21T20:36:47.225620",
     "exception": false,
     "start_time": "2023-02-21T20:36:46.998639",
     "status": "completed"
    },
    "tags": []
   },
   "outputs": [
    {
     "data": {
      "text/plain": [
       "Mount Sinai Hospital                                              55874\n",
       "North Shore University Hospital                                   47664\n",
       "New York Presbyterian Hospital - Columbia Presbyterian Center     47495\n",
       "New York Presbyterian Hospital - New York Weill Cornell Center    43148\n",
       "Montefiore Medical Center - Henry & Lucy Moses Div                42694\n",
       "                                                                  ...  \n",
       "Cuba Memorial Hospital Inc                                           61\n",
       "Catskill Regional Medical Center - G. Hermann Site                   50\n",
       "Monroe Community Hospital                                            24\n",
       "Westfield Memorial Hospital Inc                                      11\n",
       "Albany Medical Center - South Clinical Campus                         7\n",
       "Name: Facility Name, Length: 224, dtype: int64"
      ]
     },
     "execution_count": 4,
     "metadata": {},
     "output_type": "execute_result"
    }
   ],
   "source": [
    "df[\"Facility Name\"].value_counts()"
   ]
  },
  {
   "cell_type": "code",
   "execution_count": 5,
   "id": "6ac51a17",
   "metadata": {
    "execution": {
     "iopub.execute_input": "2023-02-21T20:36:47.360339Z",
     "iopub.status.busy": "2023-02-21T20:36:47.359907Z",
     "iopub.status.idle": "2023-02-21T20:36:47.393988Z",
     "shell.execute_reply": "2023-02-21T20:36:47.392880Z"
    },
    "id": "d72e4093",
    "outputId": "37bb3666-dcde-40aa-ce4e-96383eb0267d",
    "papermill": {
     "duration": 0.10444,
     "end_time": "2023-02-21T20:36:47.396494",
     "exception": false,
     "start_time": "2023-02-21T20:36:47.292054",
     "status": "completed"
    },
    "tags": []
   },
   "outputs": [
    {
     "data": {
      "text/html": [
       "<div>\n",
       "<style scoped>\n",
       "    .dataframe tbody tr th:only-of-type {\n",
       "        vertical-align: middle;\n",
       "    }\n",
       "\n",
       "    .dataframe tbody tr th {\n",
       "        vertical-align: top;\n",
       "    }\n",
       "\n",
       "    .dataframe thead th {\n",
       "        text-align: right;\n",
       "    }\n",
       "</style>\n",
       "<table border=\"1\" class=\"dataframe\">\n",
       "  <thead>\n",
       "    <tr style=\"text-align: right;\">\n",
       "      <th></th>\n",
       "      <th>Health Service Area</th>\n",
       "      <th>Hospital County</th>\n",
       "      <th>Operating Certificate Number</th>\n",
       "      <th>Facility Id</th>\n",
       "      <th>Facility Name</th>\n",
       "      <th>Age Group</th>\n",
       "      <th>Zip Code - 3 digits</th>\n",
       "      <th>Gender</th>\n",
       "      <th>Race</th>\n",
       "      <th>Ethnicity</th>\n",
       "      <th>...</th>\n",
       "      <th>APR Risk of Mortality</th>\n",
       "      <th>APR Medical Surgical Description</th>\n",
       "      <th>Payment Typology 1</th>\n",
       "      <th>Payment Typology 2</th>\n",
       "      <th>Payment Typology 3</th>\n",
       "      <th>Birth Weight</th>\n",
       "      <th>Abortion Edit Indicator</th>\n",
       "      <th>Emergency Department Indicator</th>\n",
       "      <th>Total Charges</th>\n",
       "      <th>Total Costs</th>\n",
       "    </tr>\n",
       "  </thead>\n",
       "  <tbody>\n",
       "    <tr>\n",
       "      <th>0</th>\n",
       "      <td>Western NY</td>\n",
       "      <td>Allegany</td>\n",
       "      <td>226700.0</td>\n",
       "      <td>37.0</td>\n",
       "      <td>Cuba Memorial Hospital Inc</td>\n",
       "      <td>70 or Older</td>\n",
       "      <td>147</td>\n",
       "      <td>F</td>\n",
       "      <td>White</td>\n",
       "      <td>Not Span/Hispanic</td>\n",
       "      <td>...</td>\n",
       "      <td>Minor</td>\n",
       "      <td>Medical</td>\n",
       "      <td>Medicare</td>\n",
       "      <td>Private Health Insurance</td>\n",
       "      <td>NaN</td>\n",
       "      <td>0</td>\n",
       "      <td>N</td>\n",
       "      <td>Y</td>\n",
       "      <td>5333.90</td>\n",
       "      <td>4818.42</td>\n",
       "    </tr>\n",
       "    <tr>\n",
       "      <th>1</th>\n",
       "      <td>Western NY</td>\n",
       "      <td>Allegany</td>\n",
       "      <td>226700.0</td>\n",
       "      <td>37.0</td>\n",
       "      <td>Cuba Memorial Hospital Inc</td>\n",
       "      <td>70 or Older</td>\n",
       "      <td>147</td>\n",
       "      <td>F</td>\n",
       "      <td>White</td>\n",
       "      <td>Not Span/Hispanic</td>\n",
       "      <td>...</td>\n",
       "      <td>Moderate</td>\n",
       "      <td>Medical</td>\n",
       "      <td>Medicare</td>\n",
       "      <td>NaN</td>\n",
       "      <td>NaN</td>\n",
       "      <td>0</td>\n",
       "      <td>N</td>\n",
       "      <td>Y</td>\n",
       "      <td>4865.99</td>\n",
       "      <td>4588.78</td>\n",
       "    </tr>\n",
       "    <tr>\n",
       "      <th>2</th>\n",
       "      <td>Western NY</td>\n",
       "      <td>Allegany</td>\n",
       "      <td>226700.0</td>\n",
       "      <td>37.0</td>\n",
       "      <td>Cuba Memorial Hospital Inc</td>\n",
       "      <td>70 or Older</td>\n",
       "      <td>147</td>\n",
       "      <td>F</td>\n",
       "      <td>White</td>\n",
       "      <td>Not Span/Hispanic</td>\n",
       "      <td>...</td>\n",
       "      <td>Minor</td>\n",
       "      <td>Medical</td>\n",
       "      <td>Medicare</td>\n",
       "      <td>Private Health Insurance</td>\n",
       "      <td>NaN</td>\n",
       "      <td>0</td>\n",
       "      <td>N</td>\n",
       "      <td>Y</td>\n",
       "      <td>5901.54</td>\n",
       "      <td>5559.56</td>\n",
       "    </tr>\n",
       "    <tr>\n",
       "      <th>3</th>\n",
       "      <td>Western NY</td>\n",
       "      <td>Allegany</td>\n",
       "      <td>226700.0</td>\n",
       "      <td>37.0</td>\n",
       "      <td>Cuba Memorial Hospital Inc</td>\n",
       "      <td>50 to 69</td>\n",
       "      <td>147</td>\n",
       "      <td>F</td>\n",
       "      <td>White</td>\n",
       "      <td>Not Span/Hispanic</td>\n",
       "      <td>...</td>\n",
       "      <td>Minor</td>\n",
       "      <td>Medical</td>\n",
       "      <td>Medicare</td>\n",
       "      <td>NaN</td>\n",
       "      <td>NaN</td>\n",
       "      <td>0</td>\n",
       "      <td>N</td>\n",
       "      <td>Y</td>\n",
       "      <td>3619.08</td>\n",
       "      <td>3567.25</td>\n",
       "    </tr>\n",
       "    <tr>\n",
       "      <th>4</th>\n",
       "      <td>Western NY</td>\n",
       "      <td>Allegany</td>\n",
       "      <td>226700.0</td>\n",
       "      <td>37.0</td>\n",
       "      <td>Cuba Memorial Hospital Inc</td>\n",
       "      <td>70 or Older</td>\n",
       "      <td>147</td>\n",
       "      <td>M</td>\n",
       "      <td>White</td>\n",
       "      <td>Not Span/Hispanic</td>\n",
       "      <td>...</td>\n",
       "      <td>Moderate</td>\n",
       "      <td>Medical</td>\n",
       "      <td>Medicare</td>\n",
       "      <td>Blue Cross/Blue Shield</td>\n",
       "      <td>Private Health Insurance</td>\n",
       "      <td>0</td>\n",
       "      <td>N</td>\n",
       "      <td>Y</td>\n",
       "      <td>3185.87</td>\n",
       "      <td>3167.89</td>\n",
       "    </tr>\n",
       "  </tbody>\n",
       "</table>\n",
       "<p>5 rows × 34 columns</p>\n",
       "</div>"
      ],
      "text/plain": [
       "  Health Service Area Hospital County  Operating Certificate Number  \\\n",
       "0          Western NY        Allegany                      226700.0   \n",
       "1          Western NY        Allegany                      226700.0   \n",
       "2          Western NY        Allegany                      226700.0   \n",
       "3          Western NY        Allegany                      226700.0   \n",
       "4          Western NY        Allegany                      226700.0   \n",
       "\n",
       "   Facility Id               Facility Name    Age Group Zip Code - 3 digits  \\\n",
       "0         37.0  Cuba Memorial Hospital Inc  70 or Older                 147   \n",
       "1         37.0  Cuba Memorial Hospital Inc  70 or Older                 147   \n",
       "2         37.0  Cuba Memorial Hospital Inc  70 or Older                 147   \n",
       "3         37.0  Cuba Memorial Hospital Inc     50 to 69                 147   \n",
       "4         37.0  Cuba Memorial Hospital Inc  70 or Older                 147   \n",
       "\n",
       "  Gender   Race          Ethnicity  ... APR Risk of Mortality  \\\n",
       "0      F  White  Not Span/Hispanic  ...                 Minor   \n",
       "1      F  White  Not Span/Hispanic  ...              Moderate   \n",
       "2      F  White  Not Span/Hispanic  ...                 Minor   \n",
       "3      F  White  Not Span/Hispanic  ...                 Minor   \n",
       "4      M  White  Not Span/Hispanic  ...              Moderate   \n",
       "\n",
       "  APR Medical Surgical Description Payment Typology 1  \\\n",
       "0                          Medical           Medicare   \n",
       "1                          Medical           Medicare   \n",
       "2                          Medical           Medicare   \n",
       "3                          Medical           Medicare   \n",
       "4                          Medical           Medicare   \n",
       "\n",
       "         Payment Typology 2        Payment Typology 3 Birth Weight  \\\n",
       "0  Private Health Insurance                       NaN            0   \n",
       "1                       NaN                       NaN            0   \n",
       "2  Private Health Insurance                       NaN            0   \n",
       "3                       NaN                       NaN            0   \n",
       "4    Blue Cross/Blue Shield  Private Health Insurance            0   \n",
       "\n",
       "   Abortion Edit Indicator Emergency Department Indicator  Total Charges  \\\n",
       "0                        N                              Y        5333.90   \n",
       "1                        N                              Y        4865.99   \n",
       "2                        N                              Y        5901.54   \n",
       "3                        N                              Y        3619.08   \n",
       "4                        N                              Y        3185.87   \n",
       "\n",
       "  Total Costs  \n",
       "0     4818.42  \n",
       "1     4588.78  \n",
       "2     5559.56  \n",
       "3     3567.25  \n",
       "4     3167.89  \n",
       "\n",
       "[5 rows x 34 columns]"
      ]
     },
     "execution_count": 5,
     "metadata": {},
     "output_type": "execute_result"
    }
   ],
   "source": [
    "df.head()"
   ]
  },
  {
   "cell_type": "code",
   "execution_count": 6,
   "id": "3a1b4659",
   "metadata": {
    "execution": {
     "iopub.execute_input": "2023-02-21T20:36:47.532417Z",
     "iopub.status.busy": "2023-02-21T20:36:47.531627Z",
     "iopub.status.idle": "2023-02-21T20:36:47.550720Z",
     "shell.execute_reply": "2023-02-21T20:36:47.549207Z"
    },
    "id": "9e18489f",
    "outputId": "b4a49507-7e2f-4220-bf14-a0445b2ad07d",
    "papermill": {
     "duration": 0.090027,
     "end_time": "2023-02-21T20:36:47.553247",
     "exception": false,
     "start_time": "2023-02-21T20:36:47.463220",
     "status": "completed"
    },
    "tags": []
   },
   "outputs": [
    {
     "name": "stdout",
     "output_type": "stream",
     "text": [
      "<class 'pandas.core.frame.DataFrame'>\n",
      "RangeIndex: 2346931 entries, 0 to 2346930\n",
      "Data columns (total 34 columns):\n",
      " #   Column                               Dtype  \n",
      "---  ------                               -----  \n",
      " 0   Health Service Area                  object \n",
      " 1   Hospital County                      object \n",
      " 2   Operating Certificate Number         float64\n",
      " 3   Facility Id                          float64\n",
      " 4   Facility Name                        object \n",
      " 5   Age Group                            object \n",
      " 6   Zip Code - 3 digits                  object \n",
      " 7   Gender                               object \n",
      " 8   Race                                 object \n",
      " 9   Ethnicity                            object \n",
      " 10  Length of Stay                       object \n",
      " 11  Type of Admission                    object \n",
      " 12  Patient Disposition                  object \n",
      " 13  Discharge Year                       int64  \n",
      " 14  CCS Diagnosis Code                   int64  \n",
      " 15  CCS Diagnosis Description            object \n",
      " 16  CCS Procedure Code                   int64  \n",
      " 17  CCS Procedure Description            object \n",
      " 18  APR DRG Code                         int64  \n",
      " 19  APR DRG Description                  object \n",
      " 20  APR MDC Code                         int64  \n",
      " 21  APR MDC Description                  object \n",
      " 22  APR Severity of Illness Code         int64  \n",
      " 23  APR Severity of Illness Description  object \n",
      " 24  APR Risk of Mortality                object \n",
      " 25  APR Medical Surgical Description     object \n",
      " 26  Payment Typology 1                   object \n",
      " 27  Payment Typology 2                   object \n",
      " 28  Payment Typology 3                   object \n",
      " 29  Birth Weight                         int64  \n",
      " 30  Abortion Edit Indicator              object \n",
      " 31  Emergency Department Indicator       object \n",
      " 32  Total Charges                        float64\n",
      " 33  Total Costs                          float64\n",
      "dtypes: float64(4), int64(7), object(23)\n",
      "memory usage: 608.8+ MB\n"
     ]
    }
   ],
   "source": [
    "df.info()"
   ]
  },
  {
   "cell_type": "code",
   "execution_count": 7,
   "id": "ee964b66",
   "metadata": {
    "execution": {
     "iopub.execute_input": "2023-02-21T20:36:47.759122Z",
     "iopub.status.busy": "2023-02-21T20:36:47.757943Z",
     "iopub.status.idle": "2023-02-21T20:37:02.229810Z",
     "shell.execute_reply": "2023-02-21T20:37:02.228758Z"
    },
    "id": "80569c3f",
    "papermill": {
     "duration": 14.612346,
     "end_time": "2023-02-21T20:37:02.232374",
     "exception": false,
     "start_time": "2023-02-21T20:36:47.620028",
     "status": "completed"
    },
    "tags": []
   },
   "outputs": [],
   "source": [
    "List =[\"Health Service Area\",\"Hospital County\",\"Age Group\",\"Zip Code - 3 digits\",\"Gender\",\"Race\",\"Ethnicity\",\"Length of Stay\",\"Type of Admission\",                    \n",
    "\"Patient Disposition\",\"CCS Diagnosis Description\",\"CCS Procedure Description\",\"APR DRG Description\",\"APR MDC Description\",\"APR Severity of Illness Description\",\"APR Risk of Mortality\",\"APR Medical Surgical Description\",\"Payment Typology 1\"                   \n",
    ",\"Payment Typology 2\",\"Payment Typology 3\",\"Abortion Edit Indicator\",\"Emergency Department Indicator\"]\n",
    "for col in List :\n",
    "    df[col] = df[col].astype('category')\n",
    "\n",
    "#\"Health Service Area\""
   ]
  },
  {
   "cell_type": "code",
   "execution_count": 8,
   "id": "0ad258f6",
   "metadata": {
    "execution": {
     "iopub.execute_input": "2023-02-21T20:37:02.371195Z",
     "iopub.status.busy": "2023-02-21T20:37:02.370281Z",
     "iopub.status.idle": "2023-02-21T20:37:02.396606Z",
     "shell.execute_reply": "2023-02-21T20:37:02.395341Z"
    },
    "id": "355c187f",
    "outputId": "609daa18-21aa-4b56-c3e4-61cf635f996a",
    "papermill": {
     "duration": 0.098164,
     "end_time": "2023-02-21T20:37:02.400039",
     "exception": false,
     "start_time": "2023-02-21T20:37:02.301875",
     "status": "completed"
    },
    "tags": []
   },
   "outputs": [
    {
     "name": "stdout",
     "output_type": "stream",
     "text": [
      "<class 'pandas.core.frame.DataFrame'>\n",
      "RangeIndex: 2346931 entries, 0 to 2346930\n",
      "Data columns (total 34 columns):\n",
      " #   Column                               Dtype   \n",
      "---  ------                               -----   \n",
      " 0   Health Service Area                  category\n",
      " 1   Hospital County                      category\n",
      " 2   Operating Certificate Number         float64 \n",
      " 3   Facility Id                          float64 \n",
      " 4   Facility Name                        object  \n",
      " 5   Age Group                            category\n",
      " 6   Zip Code - 3 digits                  category\n",
      " 7   Gender                               category\n",
      " 8   Race                                 category\n",
      " 9   Ethnicity                            category\n",
      " 10  Length of Stay                       category\n",
      " 11  Type of Admission                    category\n",
      " 12  Patient Disposition                  category\n",
      " 13  Discharge Year                       int64   \n",
      " 14  CCS Diagnosis Code                   int64   \n",
      " 15  CCS Diagnosis Description            category\n",
      " 16  CCS Procedure Code                   int64   \n",
      " 17  CCS Procedure Description            category\n",
      " 18  APR DRG Code                         int64   \n",
      " 19  APR DRG Description                  category\n",
      " 20  APR MDC Code                         int64   \n",
      " 21  APR MDC Description                  category\n",
      " 22  APR Severity of Illness Code         int64   \n",
      " 23  APR Severity of Illness Description  category\n",
      " 24  APR Risk of Mortality                category\n",
      " 25  APR Medical Surgical Description     category\n",
      " 26  Payment Typology 1                   category\n",
      " 27  Payment Typology 2                   category\n",
      " 28  Payment Typology 3                   category\n",
      " 29  Birth Weight                         int64   \n",
      " 30  Abortion Edit Indicator              category\n",
      " 31  Emergency Department Indicator       category\n",
      " 32  Total Charges                        float64 \n",
      " 33  Total Costs                          float64 \n",
      "dtypes: category(22), float64(4), int64(7), object(1)\n",
      "memory usage: 273.1+ MB\n"
     ]
    }
   ],
   "source": [
    "df.info()"
   ]
  },
  {
   "cell_type": "code",
   "execution_count": 9,
   "id": "7b7ef014",
   "metadata": {
    "execution": {
     "iopub.execute_input": "2023-02-21T20:37:02.538650Z",
     "iopub.status.busy": "2023-02-21T20:37:02.537926Z",
     "iopub.status.idle": "2023-02-21T20:37:02.640957Z",
     "shell.execute_reply": "2023-02-21T20:37:02.639915Z"
    },
    "id": "3be599f8",
    "papermill": {
     "duration": 0.174393,
     "end_time": "2023-02-21T20:37:02.643588",
     "exception": false,
     "start_time": "2023-02-21T20:37:02.469195",
     "status": "completed"
    },
    "tags": []
   },
   "outputs": [],
   "source": [
    "col=[\"Health Service Area\"\n",
    " ,\n",
    " \"CCS Diagnosis Description\",\n",
    " \"CCS Procedure Description\",\n",
    "\"APR DRG Description\",\n",
    "\"APR MDC Description\",\n",
    "\"APR Severity of Illness Description\"]\n",
    "df = df.drop(col, axis=1)"
   ]
  },
  {
   "cell_type": "code",
   "execution_count": 10,
   "id": "91277489",
   "metadata": {
    "execution": {
     "iopub.execute_input": "2023-02-21T20:37:02.780000Z",
     "iopub.status.busy": "2023-02-21T20:37:02.779539Z",
     "iopub.status.idle": "2023-02-21T20:37:02.795712Z",
     "shell.execute_reply": "2023-02-21T20:37:02.794903Z"
    },
    "id": "02c81eaf",
    "outputId": "c4134a0e-3b60-43db-8667-4632ac42597d",
    "papermill": {
     "duration": 0.08793,
     "end_time": "2023-02-21T20:37:02.798692",
     "exception": false,
     "start_time": "2023-02-21T20:37:02.710762",
     "status": "completed"
    },
    "tags": []
   },
   "outputs": [
    {
     "name": "stdout",
     "output_type": "stream",
     "text": [
      "<class 'pandas.core.frame.DataFrame'>\n",
      "RangeIndex: 2346931 entries, 0 to 2346930\n",
      "Data columns (total 28 columns):\n",
      " #   Column                            Dtype   \n",
      "---  ------                            -----   \n",
      " 0   Hospital County                   category\n",
      " 1   Operating Certificate Number      float64 \n",
      " 2   Facility Id                       float64 \n",
      " 3   Facility Name                     object  \n",
      " 4   Age Group                         category\n",
      " 5   Zip Code - 3 digits               category\n",
      " 6   Gender                            category\n",
      " 7   Race                              category\n",
      " 8   Ethnicity                         category\n",
      " 9   Length of Stay                    category\n",
      " 10  Type of Admission                 category\n",
      " 11  Patient Disposition               category\n",
      " 12  Discharge Year                    int64   \n",
      " 13  CCS Diagnosis Code                int64   \n",
      " 14  CCS Procedure Code                int64   \n",
      " 15  APR DRG Code                      int64   \n",
      " 16  APR MDC Code                      int64   \n",
      " 17  APR Severity of Illness Code      int64   \n",
      " 18  APR Risk of Mortality             category\n",
      " 19  APR Medical Surgical Description  category\n",
      " 20  Payment Typology 1                category\n",
      " 21  Payment Typology 2                category\n",
      " 22  Payment Typology 3                category\n",
      " 23  Birth Weight                      int64   \n",
      " 24  Abortion Edit Indicator           category\n",
      " 25  Emergency Department Indicator    category\n",
      " 26  Total Charges                     float64 \n",
      " 27  Total Costs                       float64 \n",
      "dtypes: category(16), float64(4), int64(7), object(1)\n",
      "memory usage: 252.9+ MB\n"
     ]
    }
   ],
   "source": [
    "df.info()"
   ]
  },
  {
   "cell_type": "code",
   "execution_count": null,
   "id": "ae62afa1",
   "metadata": {
    "id": "1R1TnXvDXiAZ",
    "papermill": {
     "duration": 0.067108,
     "end_time": "2023-02-21T20:37:02.934814",
     "exception": false,
     "start_time": "2023-02-21T20:37:02.867706",
     "status": "completed"
    },
    "tags": []
   },
   "outputs": [],
   "source": []
  },
  {
   "cell_type": "markdown",
   "id": "da6d4e14",
   "metadata": {
    "id": "d6e87062",
    "papermill": {
     "duration": 0.067431,
     "end_time": "2023-02-21T20:37:03.070898",
     "exception": false,
     "start_time": "2023-02-21T20:37:03.003467",
     "status": "completed"
    },
    "tags": []
   },
   "source": [
    "##clint 1: Albany"
   ]
  },
  {
   "cell_type": "code",
   "execution_count": 11,
   "id": "7c2e1a29",
   "metadata": {
    "execution": {
     "iopub.execute_input": "2023-02-21T20:37:03.210204Z",
     "iopub.status.busy": "2023-02-21T20:37:03.209442Z",
     "iopub.status.idle": "2023-02-21T20:37:03.368724Z",
     "shell.execute_reply": "2023-02-21T20:37:03.367464Z"
    },
    "id": "f012353f",
    "papermill": {
     "duration": 0.231755,
     "end_time": "2023-02-21T20:37:03.371405",
     "exception": false,
     "start_time": "2023-02-21T20:37:03.139650",
     "status": "completed"
    },
    "tags": []
   },
   "outputs": [],
   "source": [
    "Albany_df=df[df[\"Facility Name\"]== 'Albany Medical Center Hospital']\n"
   ]
  },
  {
   "cell_type": "code",
   "execution_count": 12,
   "id": "510ffc3a",
   "metadata": {
    "execution": {
     "iopub.execute_input": "2023-02-21T20:37:03.508934Z",
     "iopub.status.busy": "2023-02-21T20:37:03.508241Z",
     "iopub.status.idle": "2023-02-21T20:37:03.558066Z",
     "shell.execute_reply": "2023-02-21T20:37:03.556913Z"
    },
    "id": "e12a6859",
    "outputId": "f5186be8-e0db-494d-928b-17838f5332bd",
    "papermill": {
     "duration": 0.12141,
     "end_time": "2023-02-21T20:37:03.560804",
     "exception": false,
     "start_time": "2023-02-21T20:37:03.439394",
     "status": "completed"
    },
    "tags": []
   },
   "outputs": [
    {
     "data": {
      "text/html": [
       "<div>\n",
       "<style scoped>\n",
       "    .dataframe tbody tr th:only-of-type {\n",
       "        vertical-align: middle;\n",
       "    }\n",
       "\n",
       "    .dataframe tbody tr th {\n",
       "        vertical-align: top;\n",
       "    }\n",
       "\n",
       "    .dataframe thead th {\n",
       "        text-align: right;\n",
       "    }\n",
       "</style>\n",
       "<table border=\"1\" class=\"dataframe\">\n",
       "  <thead>\n",
       "    <tr style=\"text-align: right;\">\n",
       "      <th></th>\n",
       "      <th>Hospital County</th>\n",
       "      <th>Operating Certificate Number</th>\n",
       "      <th>Facility Id</th>\n",
       "      <th>Facility Name</th>\n",
       "      <th>Age Group</th>\n",
       "      <th>Zip Code - 3 digits</th>\n",
       "      <th>Gender</th>\n",
       "      <th>Race</th>\n",
       "      <th>Ethnicity</th>\n",
       "      <th>Length of Stay</th>\n",
       "      <th>...</th>\n",
       "      <th>APR Risk of Mortality</th>\n",
       "      <th>APR Medical Surgical Description</th>\n",
       "      <th>Payment Typology 1</th>\n",
       "      <th>Payment Typology 2</th>\n",
       "      <th>Payment Typology 3</th>\n",
       "      <th>Birth Weight</th>\n",
       "      <th>Abortion Edit Indicator</th>\n",
       "      <th>Emergency Department Indicator</th>\n",
       "      <th>Total Charges</th>\n",
       "      <th>Total Costs</th>\n",
       "    </tr>\n",
       "  </thead>\n",
       "  <tbody>\n",
       "    <tr>\n",
       "      <th>490252</th>\n",
       "      <td>Albany</td>\n",
       "      <td>101000.0</td>\n",
       "      <td>1.0</td>\n",
       "      <td>Albany Medical Center Hospital</td>\n",
       "      <td>0 to 17</td>\n",
       "      <td>120</td>\n",
       "      <td>F</td>\n",
       "      <td>White</td>\n",
       "      <td>Not Span/Hispanic</td>\n",
       "      <td>1</td>\n",
       "      <td>...</td>\n",
       "      <td>Minor</td>\n",
       "      <td>Medical</td>\n",
       "      <td>Medicaid</td>\n",
       "      <td>NaN</td>\n",
       "      <td>NaN</td>\n",
       "      <td>0</td>\n",
       "      <td>N</td>\n",
       "      <td>Y</td>\n",
       "      <td>10397.13</td>\n",
       "      <td>3610.96</td>\n",
       "    </tr>\n",
       "    <tr>\n",
       "      <th>491806</th>\n",
       "      <td>Albany</td>\n",
       "      <td>101000.0</td>\n",
       "      <td>1.0</td>\n",
       "      <td>Albany Medical Center Hospital</td>\n",
       "      <td>0 to 17</td>\n",
       "      <td>120</td>\n",
       "      <td>F</td>\n",
       "      <td>White</td>\n",
       "      <td>Not Span/Hispanic</td>\n",
       "      <td>1</td>\n",
       "      <td>...</td>\n",
       "      <td>Minor</td>\n",
       "      <td>Medical</td>\n",
       "      <td>Medicaid</td>\n",
       "      <td>NaN</td>\n",
       "      <td>NaN</td>\n",
       "      <td>0</td>\n",
       "      <td>N</td>\n",
       "      <td>Y</td>\n",
       "      <td>9976.77</td>\n",
       "      <td>2263.12</td>\n",
       "    </tr>\n",
       "    <tr>\n",
       "      <th>492215</th>\n",
       "      <td>Albany</td>\n",
       "      <td>101000.0</td>\n",
       "      <td>1.0</td>\n",
       "      <td>Albany Medical Center Hospital</td>\n",
       "      <td>0 to 17</td>\n",
       "      <td>122</td>\n",
       "      <td>F</td>\n",
       "      <td>Black/African American</td>\n",
       "      <td>Not Span/Hispanic</td>\n",
       "      <td>1</td>\n",
       "      <td>...</td>\n",
       "      <td>Minor</td>\n",
       "      <td>Medical</td>\n",
       "      <td>Medicaid</td>\n",
       "      <td>NaN</td>\n",
       "      <td>NaN</td>\n",
       "      <td>0</td>\n",
       "      <td>N</td>\n",
       "      <td>Y</td>\n",
       "      <td>6042.14</td>\n",
       "      <td>1968.23</td>\n",
       "    </tr>\n",
       "    <tr>\n",
       "      <th>492519</th>\n",
       "      <td>Albany</td>\n",
       "      <td>101000.0</td>\n",
       "      <td>1.0</td>\n",
       "      <td>Albany Medical Center Hospital</td>\n",
       "      <td>50 to 69</td>\n",
       "      <td>120</td>\n",
       "      <td>F</td>\n",
       "      <td>White</td>\n",
       "      <td>Not Span/Hispanic</td>\n",
       "      <td>1</td>\n",
       "      <td>...</td>\n",
       "      <td>Minor</td>\n",
       "      <td>Medical</td>\n",
       "      <td>Medicaid</td>\n",
       "      <td>NaN</td>\n",
       "      <td>NaN</td>\n",
       "      <td>0</td>\n",
       "      <td>N</td>\n",
       "      <td>Y</td>\n",
       "      <td>17876.70</td>\n",
       "      <td>4662.19</td>\n",
       "    </tr>\n",
       "    <tr>\n",
       "      <th>493215</th>\n",
       "      <td>Albany</td>\n",
       "      <td>101000.0</td>\n",
       "      <td>1.0</td>\n",
       "      <td>Albany Medical Center Hospital</td>\n",
       "      <td>0 to 17</td>\n",
       "      <td>124</td>\n",
       "      <td>M</td>\n",
       "      <td>Other Race</td>\n",
       "      <td>Unknown</td>\n",
       "      <td>1</td>\n",
       "      <td>...</td>\n",
       "      <td>Minor</td>\n",
       "      <td>Medical</td>\n",
       "      <td>Private Health Insurance</td>\n",
       "      <td>NaN</td>\n",
       "      <td>NaN</td>\n",
       "      <td>0</td>\n",
       "      <td>N</td>\n",
       "      <td>N</td>\n",
       "      <td>9919.29</td>\n",
       "      <td>3418.02</td>\n",
       "    </tr>\n",
       "    <tr>\n",
       "      <th>...</th>\n",
       "      <td>...</td>\n",
       "      <td>...</td>\n",
       "      <td>...</td>\n",
       "      <td>...</td>\n",
       "      <td>...</td>\n",
       "      <td>...</td>\n",
       "      <td>...</td>\n",
       "      <td>...</td>\n",
       "      <td>...</td>\n",
       "      <td>...</td>\n",
       "      <td>...</td>\n",
       "      <td>...</td>\n",
       "      <td>...</td>\n",
       "      <td>...</td>\n",
       "      <td>...</td>\n",
       "      <td>...</td>\n",
       "      <td>...</td>\n",
       "      <td>...</td>\n",
       "      <td>...</td>\n",
       "      <td>...</td>\n",
       "      <td>...</td>\n",
       "    </tr>\n",
       "    <tr>\n",
       "      <th>536364</th>\n",
       "      <td>Albany</td>\n",
       "      <td>101000.0</td>\n",
       "      <td>1.0</td>\n",
       "      <td>Albany Medical Center Hospital</td>\n",
       "      <td>18 to 29</td>\n",
       "      <td>121</td>\n",
       "      <td>M</td>\n",
       "      <td>White</td>\n",
       "      <td>Not Span/Hispanic</td>\n",
       "      <td>1</td>\n",
       "      <td>...</td>\n",
       "      <td>Minor</td>\n",
       "      <td>Surgical</td>\n",
       "      <td>Blue Cross/Blue Shield</td>\n",
       "      <td>NaN</td>\n",
       "      <td>NaN</td>\n",
       "      <td>0</td>\n",
       "      <td>N</td>\n",
       "      <td>Y</td>\n",
       "      <td>16726.52</td>\n",
       "      <td>5145.79</td>\n",
       "    </tr>\n",
       "    <tr>\n",
       "      <th>536365</th>\n",
       "      <td>Albany</td>\n",
       "      <td>101000.0</td>\n",
       "      <td>1.0</td>\n",
       "      <td>Albany Medical Center Hospital</td>\n",
       "      <td>0 to 17</td>\n",
       "      <td>121</td>\n",
       "      <td>F</td>\n",
       "      <td>Other Race</td>\n",
       "      <td>Unknown</td>\n",
       "      <td>2</td>\n",
       "      <td>...</td>\n",
       "      <td>Minor</td>\n",
       "      <td>Medical</td>\n",
       "      <td>Medicaid</td>\n",
       "      <td>NaN</td>\n",
       "      <td>NaN</td>\n",
       "      <td>4700</td>\n",
       "      <td>N</td>\n",
       "      <td>N</td>\n",
       "      <td>3829.74</td>\n",
       "      <td>947.76</td>\n",
       "    </tr>\n",
       "    <tr>\n",
       "      <th>536366</th>\n",
       "      <td>Albany</td>\n",
       "      <td>101000.0</td>\n",
       "      <td>1.0</td>\n",
       "      <td>Albany Medical Center Hospital</td>\n",
       "      <td>0 to 17</td>\n",
       "      <td>124</td>\n",
       "      <td>M</td>\n",
       "      <td>Other Race</td>\n",
       "      <td>Unknown</td>\n",
       "      <td>3</td>\n",
       "      <td>...</td>\n",
       "      <td>Minor</td>\n",
       "      <td>Medical</td>\n",
       "      <td>Medicaid</td>\n",
       "      <td>NaN</td>\n",
       "      <td>NaN</td>\n",
       "      <td>3200</td>\n",
       "      <td>N</td>\n",
       "      <td>N</td>\n",
       "      <td>7209.25</td>\n",
       "      <td>1661.29</td>\n",
       "    </tr>\n",
       "    <tr>\n",
       "      <th>536367</th>\n",
       "      <td>Albany</td>\n",
       "      <td>101000.0</td>\n",
       "      <td>1.0</td>\n",
       "      <td>Albany Medical Center Hospital</td>\n",
       "      <td>0 to 17</td>\n",
       "      <td>120</td>\n",
       "      <td>F</td>\n",
       "      <td>Other Race</td>\n",
       "      <td>Unknown</td>\n",
       "      <td>83</td>\n",
       "      <td>...</td>\n",
       "      <td>Moderate</td>\n",
       "      <td>Medical</td>\n",
       "      <td>Medicaid</td>\n",
       "      <td>NaN</td>\n",
       "      <td>NaN</td>\n",
       "      <td>900</td>\n",
       "      <td>N</td>\n",
       "      <td>N</td>\n",
       "      <td>665166.90</td>\n",
       "      <td>165272.09</td>\n",
       "    </tr>\n",
       "    <tr>\n",
       "      <th>536368</th>\n",
       "      <td>Albany</td>\n",
       "      <td>101000.0</td>\n",
       "      <td>1.0</td>\n",
       "      <td>Albany Medical Center Hospital</td>\n",
       "      <td>0 to 17</td>\n",
       "      <td>120</td>\n",
       "      <td>M</td>\n",
       "      <td>Other Race</td>\n",
       "      <td>Unknown</td>\n",
       "      <td>2</td>\n",
       "      <td>...</td>\n",
       "      <td>Minor</td>\n",
       "      <td>Medical</td>\n",
       "      <td>Managed Care, Unspecified</td>\n",
       "      <td>NaN</td>\n",
       "      <td>NaN</td>\n",
       "      <td>3500</td>\n",
       "      <td>N</td>\n",
       "      <td>N</td>\n",
       "      <td>4728.77</td>\n",
       "      <td>1135.90</td>\n",
       "    </tr>\n",
       "  </tbody>\n",
       "</table>\n",
       "<p>36281 rows × 28 columns</p>\n",
       "</div>"
      ],
      "text/plain": [
       "       Hospital County  Operating Certificate Number  Facility Id  \\\n",
       "490252          Albany                      101000.0          1.0   \n",
       "491806          Albany                      101000.0          1.0   \n",
       "492215          Albany                      101000.0          1.0   \n",
       "492519          Albany                      101000.0          1.0   \n",
       "493215          Albany                      101000.0          1.0   \n",
       "...                ...                           ...          ...   \n",
       "536364          Albany                      101000.0          1.0   \n",
       "536365          Albany                      101000.0          1.0   \n",
       "536366          Albany                      101000.0          1.0   \n",
       "536367          Albany                      101000.0          1.0   \n",
       "536368          Albany                      101000.0          1.0   \n",
       "\n",
       "                         Facility Name Age Group Zip Code - 3 digits Gender  \\\n",
       "490252  Albany Medical Center Hospital   0 to 17                 120      F   \n",
       "491806  Albany Medical Center Hospital   0 to 17                 120      F   \n",
       "492215  Albany Medical Center Hospital   0 to 17                 122      F   \n",
       "492519  Albany Medical Center Hospital  50 to 69                 120      F   \n",
       "493215  Albany Medical Center Hospital   0 to 17                 124      M   \n",
       "...                                ...       ...                 ...    ...   \n",
       "536364  Albany Medical Center Hospital  18 to 29                 121      M   \n",
       "536365  Albany Medical Center Hospital   0 to 17                 121      F   \n",
       "536366  Albany Medical Center Hospital   0 to 17                 124      M   \n",
       "536367  Albany Medical Center Hospital   0 to 17                 120      F   \n",
       "536368  Albany Medical Center Hospital   0 to 17                 120      M   \n",
       "\n",
       "                          Race          Ethnicity Length of Stay  ...  \\\n",
       "490252                   White  Not Span/Hispanic              1  ...   \n",
       "491806                   White  Not Span/Hispanic              1  ...   \n",
       "492215  Black/African American  Not Span/Hispanic              1  ...   \n",
       "492519                   White  Not Span/Hispanic              1  ...   \n",
       "493215              Other Race            Unknown              1  ...   \n",
       "...                        ...                ...            ...  ...   \n",
       "536364                   White  Not Span/Hispanic              1  ...   \n",
       "536365              Other Race            Unknown              2  ...   \n",
       "536366              Other Race            Unknown              3  ...   \n",
       "536367              Other Race            Unknown             83  ...   \n",
       "536368              Other Race            Unknown              2  ...   \n",
       "\n",
       "       APR Risk of Mortality APR Medical Surgical Description  \\\n",
       "490252                 Minor                          Medical   \n",
       "491806                 Minor                          Medical   \n",
       "492215                 Minor                          Medical   \n",
       "492519                 Minor                          Medical   \n",
       "493215                 Minor                          Medical   \n",
       "...                      ...                              ...   \n",
       "536364                 Minor                         Surgical   \n",
       "536365                 Minor                          Medical   \n",
       "536366                 Minor                          Medical   \n",
       "536367              Moderate                          Medical   \n",
       "536368                 Minor                          Medical   \n",
       "\n",
       "               Payment Typology 1  Payment Typology 2  Payment Typology 3  \\\n",
       "490252                   Medicaid                 NaN                 NaN   \n",
       "491806                   Medicaid                 NaN                 NaN   \n",
       "492215                   Medicaid                 NaN                 NaN   \n",
       "492519                   Medicaid                 NaN                 NaN   \n",
       "493215   Private Health Insurance                 NaN                 NaN   \n",
       "...                           ...                 ...                 ...   \n",
       "536364     Blue Cross/Blue Shield                 NaN                 NaN   \n",
       "536365                   Medicaid                 NaN                 NaN   \n",
       "536366                   Medicaid                 NaN                 NaN   \n",
       "536367                   Medicaid                 NaN                 NaN   \n",
       "536368  Managed Care, Unspecified                 NaN                 NaN   \n",
       "\n",
       "        Birth Weight  Abortion Edit Indicator  Emergency Department Indicator  \\\n",
       "490252             0                        N                               Y   \n",
       "491806             0                        N                               Y   \n",
       "492215             0                        N                               Y   \n",
       "492519             0                        N                               Y   \n",
       "493215             0                        N                               N   \n",
       "...              ...                      ...                             ...   \n",
       "536364             0                        N                               Y   \n",
       "536365          4700                        N                               N   \n",
       "536366          3200                        N                               N   \n",
       "536367           900                        N                               N   \n",
       "536368          3500                        N                               N   \n",
       "\n",
       "       Total Charges Total Costs  \n",
       "490252      10397.13     3610.96  \n",
       "491806       9976.77     2263.12  \n",
       "492215       6042.14     1968.23  \n",
       "492519      17876.70     4662.19  \n",
       "493215       9919.29     3418.02  \n",
       "...              ...         ...  \n",
       "536364      16726.52     5145.79  \n",
       "536365       3829.74      947.76  \n",
       "536366       7209.25     1661.29  \n",
       "536367     665166.90   165272.09  \n",
       "536368       4728.77     1135.90  \n",
       "\n",
       "[36281 rows x 28 columns]"
      ]
     },
     "execution_count": 12,
     "metadata": {},
     "output_type": "execute_result"
    }
   ],
   "source": [
    "Albany_df"
   ]
  },
  {
   "cell_type": "code",
   "execution_count": 13,
   "id": "6ea16e45",
   "metadata": {
    "execution": {
     "iopub.execute_input": "2023-02-21T20:37:03.702551Z",
     "iopub.status.busy": "2023-02-21T20:37:03.701347Z",
     "iopub.status.idle": "2023-02-21T20:37:03.727313Z",
     "shell.execute_reply": "2023-02-21T20:37:03.724808Z"
    },
    "id": "0d6dc80d",
    "outputId": "75233a50-25e5-4080-d559-383bcffab8ae",
    "papermill": {
     "duration": 0.100083,
     "end_time": "2023-02-21T20:37:03.729943",
     "exception": false,
     "start_time": "2023-02-21T20:37:03.629860",
     "status": "completed"
    },
    "tags": []
   },
   "outputs": [
    {
     "name": "stdout",
     "output_type": "stream",
     "text": [
      "<class 'pandas.core.frame.DataFrame'>\n",
      "Int64Index: 36281 entries, 490252 to 536368\n",
      "Data columns (total 28 columns):\n",
      " #   Column                            Non-Null Count  Dtype   \n",
      "---  ------                            --------------  -----   \n",
      " 0   Hospital County                   36281 non-null  category\n",
      " 1   Operating Certificate Number      36281 non-null  float64 \n",
      " 2   Facility Id                       36281 non-null  float64 \n",
      " 3   Facility Name                     36281 non-null  object  \n",
      " 4   Age Group                         36281 non-null  category\n",
      " 5   Zip Code - 3 digits               35772 non-null  category\n",
      " 6   Gender                            36281 non-null  category\n",
      " 7   Race                              36281 non-null  category\n",
      " 8   Ethnicity                         36281 non-null  category\n",
      " 9   Length of Stay                    36281 non-null  category\n",
      " 10  Type of Admission                 36281 non-null  category\n",
      " 11  Patient Disposition               36281 non-null  category\n",
      " 12  Discharge Year                    36281 non-null  int64   \n",
      " 13  CCS Diagnosis Code                36281 non-null  int64   \n",
      " 14  CCS Procedure Code                36281 non-null  int64   \n",
      " 15  APR DRG Code                      36281 non-null  int64   \n",
      " 16  APR MDC Code                      36281 non-null  int64   \n",
      " 17  APR Severity of Illness Code      36281 non-null  int64   \n",
      " 18  APR Risk of Mortality             36280 non-null  category\n",
      " 19  APR Medical Surgical Description  36281 non-null  category\n",
      " 20  Payment Typology 1                36281 non-null  category\n",
      " 21  Payment Typology 2                11617 non-null  category\n",
      " 22  Payment Typology 3                8960 non-null   category\n",
      " 23  Birth Weight                      36281 non-null  int64   \n",
      " 24  Abortion Edit Indicator           36281 non-null  category\n",
      " 25  Emergency Department Indicator    36281 non-null  category\n",
      " 26  Total Charges                     36281 non-null  float64 \n",
      " 27  Total Costs                       36281 non-null  float64 \n",
      "dtypes: category(16), float64(4), int64(7), object(1)\n",
      "memory usage: 4.2+ MB\n"
     ]
    }
   ],
   "source": [
    "Albany_df.info()"
   ]
  },
  {
   "cell_type": "code",
   "execution_count": 14,
   "id": "7cff07fb",
   "metadata": {
    "execution": {
     "iopub.execute_input": "2023-02-21T20:37:03.869866Z",
     "iopub.status.busy": "2023-02-21T20:37:03.869063Z",
     "iopub.status.idle": "2023-02-21T20:37:03.878865Z",
     "shell.execute_reply": "2023-02-21T20:37:03.877624Z"
    },
    "id": "733f35af",
    "outputId": "9c82efd0-053a-47b6-d8b0-a7fc1759b76c",
    "papermill": {
     "duration": 0.084601,
     "end_time": "2023-02-21T20:37:03.882569",
     "exception": false,
     "start_time": "2023-02-21T20:37:03.797968",
     "status": "completed"
    },
    "tags": []
   },
   "outputs": [
    {
     "name": "stderr",
     "output_type": "stream",
     "text": [
      "/opt/conda/lib/python3.7/site-packages/ipykernel_launcher.py:3: SettingWithCopyWarning: \n",
      "A value is trying to be set on a copy of a slice from a DataFrame.\n",
      "Try using .loc[row_indexer,col_indexer] = value instead\n",
      "\n",
      "See the caveats in the documentation: https://pandas.pydata.org/pandas-docs/stable/user_guide/indexing.html#returning-a-view-versus-a-copy\n",
      "  This is separate from the ipykernel package so we can avoid doing imports until\n",
      "/opt/conda/lib/python3.7/site-packages/ipykernel_launcher.py:5: SettingWithCopyWarning: \n",
      "A value is trying to be set on a copy of a slice from a DataFrame.\n",
      "Try using .loc[row_indexer,col_indexer] = value instead\n",
      "\n",
      "See the caveats in the documentation: https://pandas.pydata.org/pandas-docs/stable/user_guide/indexing.html#returning-a-view-versus-a-copy\n",
      "  \"\"\"\n"
     ]
    }
   ],
   "source": [
    " #   simple mapping on binary features.\n",
    "Albany_df['Abortion Edit Indicator'] = Albany_df['Abortion Edit Indicator'].apply(\n",
    "     lambda x: 1 if x == 'Y' else (0 if x == 'N' else None))\n",
    "Albany_df['Emergency Department Indicator'] = Albany_df['Emergency Department Indicator'].apply(\n",
    "    lambda x: 1 if x == 'Y' else (0 if x == 'N' else None))"
   ]
  },
  {
   "cell_type": "code",
   "execution_count": 15,
   "id": "bc644a61",
   "metadata": {
    "execution": {
     "iopub.execute_input": "2023-02-21T20:37:04.020652Z",
     "iopub.status.busy": "2023-02-21T20:37:04.020136Z",
     "iopub.status.idle": "2023-02-21T20:37:04.178817Z",
     "shell.execute_reply": "2023-02-21T20:37:04.177611Z"
    },
    "id": "e132c01e",
    "outputId": "0bce361d-8a23-4138-e49a-f645c73d5040",
    "papermill": {
     "duration": 0.230548,
     "end_time": "2023-02-21T20:37:04.181569",
     "exception": false,
     "start_time": "2023-02-21T20:37:03.951021",
     "status": "completed"
    },
    "tags": []
   },
   "outputs": [
    {
     "name": "stderr",
     "output_type": "stream",
     "text": [
      "/opt/conda/lib/python3.7/site-packages/ipykernel_launcher.py:29: SettingWithCopyWarning: \n",
      "A value is trying to be set on a copy of a slice from a DataFrame.\n",
      "Try using .loc[row_indexer,col_indexer] = value instead\n",
      "\n",
      "See the caveats in the documentation: https://pandas.pydata.org/pandas-docs/stable/user_guide/indexing.html#returning-a-view-versus-a-copy\n"
     ]
    }
   ],
   "source": [
    "list=  [ \"Hospital County\",\"Age Group\"\n",
    "    ,\"Gender\",   \n",
    " \"Race\" , \n",
    "\"Ethnicity\", \n",
    "\"Gender\" , \n",
    "\"Race\" ,    \n",
    " \"Ethnicity\" ,        \n",
    " \"Type of Admission\"  ,  \n",
    "  \"Patient Disposition\",      \n",
    " \"Type of Admission\" ,  \n",
    " \"Patient Disposition\"  ,\n",
    "  \"APR Risk of Mortality\" ,   \n",
    " \"APR Medical Surgical Description\" ,\n",
    " \"Payment Typology 1\"   ,   \n",
    " \"Abortion Edit Indicator\"     ,  \n",
    " \"Emergency Department Indicator\",\n",
    "       \"Zip Code - 3 digits\",\"Payment Typology 2\"        \n",
    "   ,\"Payment Typology 3\"]  \n",
    "\n",
    "# Import label encoder\n",
    "from sklearn import preprocessing\n",
    "  \n",
    "# label_encoder object knows how to understand word labels.        \n",
    "   \n",
    "label_encoder = preprocessing.LabelEncoder()\n",
    "  \n",
    "# Encode labels in column 'species'. \n",
    "for col in list :\n",
    " Albany_df[col]= label_encoder.fit_transform(Albany_df[col])\n"
   ]
  },
  {
   "cell_type": "code",
   "execution_count": 16,
   "id": "efc83d35",
   "metadata": {
    "execution": {
     "iopub.execute_input": "2023-02-21T20:37:04.322164Z",
     "iopub.status.busy": "2023-02-21T20:37:04.321703Z",
     "iopub.status.idle": "2023-02-21T20:37:04.333517Z",
     "shell.execute_reply": "2023-02-21T20:37:04.332213Z"
    },
    "id": "b2687de6",
    "papermill": {
     "duration": 0.08446,
     "end_time": "2023-02-21T20:37:04.336087",
     "exception": false,
     "start_time": "2023-02-21T20:37:04.251627",
     "status": "completed"
    },
    "tags": []
   },
   "outputs": [],
   "source": [
    "Albany_df=Albany_df.drop(\"Facility Name\", axis=1)"
   ]
  },
  {
   "cell_type": "code",
   "execution_count": 17,
   "id": "2ed9f7d8",
   "metadata": {
    "execution": {
     "iopub.execute_input": "2023-02-21T20:37:04.474127Z",
     "iopub.status.busy": "2023-02-21T20:37:04.473693Z",
     "iopub.status.idle": "2023-02-21T20:37:04.491877Z",
     "shell.execute_reply": "2023-02-21T20:37:04.490614Z"
    },
    "id": "09397e4a",
    "outputId": "f3324242-5dd8-44c3-b758-bc55665c68f3",
    "papermill": {
     "duration": 0.090047,
     "end_time": "2023-02-21T20:37:04.494483",
     "exception": false,
     "start_time": "2023-02-21T20:37:04.404436",
     "status": "completed"
    },
    "tags": []
   },
   "outputs": [
    {
     "name": "stdout",
     "output_type": "stream",
     "text": [
      "<class 'pandas.core.frame.DataFrame'>\n",
      "Int64Index: 36281 entries, 490252 to 536368\n",
      "Data columns (total 27 columns):\n",
      " #   Column                            Non-Null Count  Dtype   \n",
      "---  ------                            --------------  -----   \n",
      " 0   Hospital County                   36281 non-null  int64   \n",
      " 1   Operating Certificate Number      36281 non-null  float64 \n",
      " 2   Facility Id                       36281 non-null  float64 \n",
      " 3   Age Group                         36281 non-null  int64   \n",
      " 4   Zip Code - 3 digits               36281 non-null  int64   \n",
      " 5   Gender                            36281 non-null  int64   \n",
      " 6   Race                              36281 non-null  int64   \n",
      " 7   Ethnicity                         36281 non-null  int64   \n",
      " 8   Length of Stay                    36281 non-null  category\n",
      " 9   Type of Admission                 36281 non-null  int64   \n",
      " 10  Patient Disposition               36281 non-null  int64   \n",
      " 11  Discharge Year                    36281 non-null  int64   \n",
      " 12  CCS Diagnosis Code                36281 non-null  int64   \n",
      " 13  CCS Procedure Code                36281 non-null  int64   \n",
      " 14  APR DRG Code                      36281 non-null  int64   \n",
      " 15  APR MDC Code                      36281 non-null  int64   \n",
      " 16  APR Severity of Illness Code      36281 non-null  int64   \n",
      " 17  APR Risk of Mortality             36281 non-null  int64   \n",
      " 18  APR Medical Surgical Description  36281 non-null  int64   \n",
      " 19  Payment Typology 1                36281 non-null  int64   \n",
      " 20  Payment Typology 2                36281 non-null  int64   \n",
      " 21  Payment Typology 3                36281 non-null  int64   \n",
      " 22  Birth Weight                      36281 non-null  int64   \n",
      " 23  Abortion Edit Indicator           36281 non-null  int64   \n",
      " 24  Emergency Department Indicator    36281 non-null  int64   \n",
      " 25  Total Charges                     36281 non-null  float64 \n",
      " 26  Total Costs                       36281 non-null  float64 \n",
      "dtypes: category(1), float64(4), int64(22)\n",
      "memory usage: 7.6 MB\n"
     ]
    }
   ],
   "source": [
    "Albany_df.info()"
   ]
  },
  {
   "cell_type": "code",
   "execution_count": 18,
   "id": "421a2b08",
   "metadata": {
    "execution": {
     "iopub.execute_input": "2023-02-21T20:37:04.633283Z",
     "iopub.status.busy": "2023-02-21T20:37:04.632876Z",
     "iopub.status.idle": "2023-02-21T20:37:04.657492Z",
     "shell.execute_reply": "2023-02-21T20:37:04.656277Z"
    },
    "id": "39d4a66f",
    "papermill": {
     "duration": 0.09725,
     "end_time": "2023-02-21T20:37:04.660301",
     "exception": false,
     "start_time": "2023-02-21T20:37:04.563051",
     "status": "completed"
    },
    "tags": []
   },
   "outputs": [],
   "source": [
    "Albany_df[\"Length of Stay\"]=pd.to_numeric(Albany_df[\"Length of Stay\"],errors='coerce')\n"
   ]
  },
  {
   "cell_type": "code",
   "execution_count": 19,
   "id": "43822df4",
   "metadata": {
    "execution": {
     "iopub.execute_input": "2023-02-21T20:37:04.800656Z",
     "iopub.status.busy": "2023-02-21T20:37:04.800263Z",
     "iopub.status.idle": "2023-02-21T20:37:04.813817Z",
     "shell.execute_reply": "2023-02-21T20:37:04.812868Z"
    },
    "id": "326ce134",
    "papermill": {
     "duration": 0.085174,
     "end_time": "2023-02-21T20:37:04.816195",
     "exception": false,
     "start_time": "2023-02-21T20:37:04.731021",
     "status": "completed"
    },
    "tags": []
   },
   "outputs": [],
   "source": [
    "Albany_df.dropna(inplace=True)"
   ]
  },
  {
   "cell_type": "code",
   "execution_count": 20,
   "id": "0eb25a36",
   "metadata": {
    "execution": {
     "iopub.execute_input": "2023-02-21T20:37:04.954240Z",
     "iopub.status.busy": "2023-02-21T20:37:04.953770Z",
     "iopub.status.idle": "2023-02-21T20:37:04.961431Z",
     "shell.execute_reply": "2023-02-21T20:37:04.960375Z"
    },
    "id": "fff17985",
    "papermill": {
     "duration": 0.079662,
     "end_time": "2023-02-21T20:37:04.963476",
     "exception": false,
     "start_time": "2023-02-21T20:37:04.883814",
     "status": "completed"
    },
    "tags": []
   },
   "outputs": [],
   "source": [
    "x = Albany_df.drop([\"Length of Stay\"], axis =1)\n",
    "y = Albany_df[\"Length of Stay\"]"
   ]
  },
  {
   "cell_type": "code",
   "execution_count": 21,
   "id": "2ed5ceee",
   "metadata": {
    "execution": {
     "iopub.execute_input": "2023-02-21T20:37:05.101123Z",
     "iopub.status.busy": "2023-02-21T20:37:05.100283Z",
     "iopub.status.idle": "2023-02-21T20:37:05.116680Z",
     "shell.execute_reply": "2023-02-21T20:37:05.115773Z"
    },
    "id": "269016af",
    "papermill": {
     "duration": 0.088011,
     "end_time": "2023-02-21T20:37:05.119383",
     "exception": false,
     "start_time": "2023-02-21T20:37:05.031372",
     "status": "completed"
    },
    "tags": []
   },
   "outputs": [],
   "source": [
    "from sklearn.model_selection import train_test_split\n",
    "x_train, x_test, y_train, y_test = train_test_split(x, y, test_size=0.3, random_state=42)"
   ]
  },
  {
   "cell_type": "code",
   "execution_count": 22,
   "id": "f5f18f7a",
   "metadata": {
    "execution": {
     "iopub.execute_input": "2023-02-21T20:37:05.259769Z",
     "iopub.status.busy": "2023-02-21T20:37:05.259047Z",
     "iopub.status.idle": "2023-02-21T20:37:05.313875Z",
     "shell.execute_reply": "2023-02-21T20:37:05.312228Z"
    },
    "id": "200a96bc",
    "papermill": {
     "duration": 0.129183,
     "end_time": "2023-02-21T20:37:05.318764",
     "exception": false,
     "start_time": "2023-02-21T20:37:05.189581",
     "status": "completed"
    },
    "tags": []
   },
   "outputs": [],
   "source": [
    "# Linear Regression\n",
    "\n",
    "LR = LinearRegression()\n",
    "LR.fit(x_train, y_train)\n",
    "LR.score(x_train, y_train)\n",
    "y_pred =LR.predict(x_test)\n"
   ]
  },
  {
   "cell_type": "code",
   "execution_count": 23,
   "id": "111f6473",
   "metadata": {
    "execution": {
     "iopub.execute_input": "2023-02-21T20:37:05.528625Z",
     "iopub.status.busy": "2023-02-21T20:37:05.528195Z",
     "iopub.status.idle": "2023-02-21T20:37:05.535977Z",
     "shell.execute_reply": "2023-02-21T20:37:05.535065Z"
    },
    "id": "434cb660",
    "outputId": "b77e3168-83fb-47d3-8d93-520b2fdc48a6",
    "papermill": {
     "duration": 0.079504,
     "end_time": "2023-02-21T20:37:05.538556",
     "exception": false,
     "start_time": "2023-02-21T20:37:05.459052",
     "status": "completed"
    },
    "tags": []
   },
   "outputs": [
    {
     "data": {
      "text/plain": [
       "0.7478105920657923"
      ]
     },
     "execution_count": 23,
     "metadata": {},
     "output_type": "execute_result"
    }
   ],
   "source": [
    "r2 = r2_score(y_test, y_pred)\n",
    "r2 "
   ]
  },
  {
   "cell_type": "code",
   "execution_count": 24,
   "id": "02086373",
   "metadata": {
    "execution": {
     "iopub.execute_input": "2023-02-21T20:37:05.677868Z",
     "iopub.status.busy": "2023-02-21T20:37:05.677100Z",
     "iopub.status.idle": "2023-02-21T20:37:05.684300Z",
     "shell.execute_reply": "2023-02-21T20:37:05.683171Z"
    },
    "id": "fdb59486",
    "outputId": "f65478f3-65aa-410e-b832-0c015b45be72",
    "papermill": {
     "duration": 0.079697,
     "end_time": "2023-02-21T20:37:05.686736",
     "exception": false,
     "start_time": "2023-02-21T20:37:05.607039",
     "status": "completed"
    },
    "tags": []
   },
   "outputs": [
    {
     "data": {
      "text/plain": [
       "2.3205026865513774"
      ]
     },
     "execution_count": 24,
     "metadata": {},
     "output_type": "execute_result"
    }
   ],
   "source": [
    "# calculate the MAE of the model\n",
    "mae = mean_absolute_error(y_test, y_pred)\n",
    "mae"
   ]
  },
  {
   "cell_type": "code",
   "execution_count": 25,
   "id": "34a2c194",
   "metadata": {
    "execution": {
     "iopub.execute_input": "2023-02-21T20:37:05.827791Z",
     "iopub.status.busy": "2023-02-21T20:37:05.827039Z",
     "iopub.status.idle": "2023-02-21T20:37:05.834275Z",
     "shell.execute_reply": "2023-02-21T20:37:05.833048Z"
    },
    "id": "19ab9509",
    "outputId": "d559278e-53af-4ec5-b12f-969600daa892",
    "papermill": {
     "duration": 0.081197,
     "end_time": "2023-02-21T20:37:05.836617",
     "exception": false,
     "start_time": "2023-02-21T20:37:05.755420",
     "status": "completed"
    },
    "tags": []
   },
   "outputs": [
    {
     "data": {
      "text/plain": [
       "16.946608108006014"
      ]
     },
     "execution_count": 25,
     "metadata": {},
     "output_type": "execute_result"
    }
   ],
   "source": [
    "# calculate the MSE of the model\n",
    "mse = mean_squared_error(y_test, y_pred)\n",
    "mse"
   ]
  },
  {
   "cell_type": "code",
   "execution_count": 26,
   "id": "70bedc85",
   "metadata": {
    "execution": {
     "iopub.execute_input": "2023-02-21T20:37:05.976765Z",
     "iopub.status.busy": "2023-02-21T20:37:05.976102Z",
     "iopub.status.idle": "2023-02-21T20:37:05.983221Z",
     "shell.execute_reply": "2023-02-21T20:37:05.981855Z"
    },
    "id": "bc7e7803",
    "outputId": "15fab036-99d2-4f2a-8197-330065502409",
    "papermill": {
     "duration": 0.081082,
     "end_time": "2023-02-21T20:37:05.985744",
     "exception": false,
     "start_time": "2023-02-21T20:37:05.904662",
     "status": "completed"
    },
    "tags": []
   },
   "outputs": [
    {
     "data": {
      "text/plain": [
       "4.116625815884413"
      ]
     },
     "execution_count": 26,
     "metadata": {},
     "output_type": "execute_result"
    }
   ],
   "source": [
    "# calculate the RMSE of the model\n",
    "rmse = np.sqrt(mse)\n",
    "rmse"
   ]
  },
  {
   "cell_type": "code",
   "execution_count": 27,
   "id": "73b48b9c",
   "metadata": {
    "execution": {
     "iopub.execute_input": "2023-02-21T20:37:06.129508Z",
     "iopub.status.busy": "2023-02-21T20:37:06.128483Z",
     "iopub.status.idle": "2023-02-21T20:37:06.236224Z",
     "shell.execute_reply": "2023-02-21T20:37:06.234163Z"
    },
    "id": "66a10173",
    "papermill": {
     "duration": 0.183808,
     "end_time": "2023-02-21T20:37:06.241088",
     "exception": false,
     "start_time": "2023-02-21T20:37:06.057280",
     "status": "completed"
    },
    "tags": []
   },
   "outputs": [],
   "source": [
    "# LASSO\n",
    "L1 = linear_model.Lasso()\n",
    "L1.fit(x_train,y_train)\n",
    "y_pred1 = L1.predict(x_test)"
   ]
  },
  {
   "cell_type": "code",
   "execution_count": 28,
   "id": "7c189d7f",
   "metadata": {
    "execution": {
     "iopub.execute_input": "2023-02-21T20:37:06.453902Z",
     "iopub.status.busy": "2023-02-21T20:37:06.453462Z",
     "iopub.status.idle": "2023-02-21T20:37:06.462631Z",
     "shell.execute_reply": "2023-02-21T20:37:06.461405Z"
    },
    "id": "366fc87f",
    "outputId": "d1272871-fcdb-4094-e960-9014069721c8",
    "papermill": {
     "duration": 0.081726,
     "end_time": "2023-02-21T20:37:06.464925",
     "exception": false,
     "start_time": "2023-02-21T20:37:06.383199",
     "status": "completed"
    },
    "tags": []
   },
   "outputs": [
    {
     "data": {
      "text/plain": [
       "0.730292669976124"
      ]
     },
     "execution_count": 28,
     "metadata": {},
     "output_type": "execute_result"
    }
   ],
   "source": [
    "r2 = r2_score(y_test, y_pred1)\n",
    "r2 \n"
   ]
  },
  {
   "cell_type": "code",
   "execution_count": 29,
   "id": "d1be4655",
   "metadata": {
    "execution": {
     "iopub.execute_input": "2023-02-21T20:37:06.605747Z",
     "iopub.status.busy": "2023-02-21T20:37:06.604589Z",
     "iopub.status.idle": "2023-02-21T20:37:06.613296Z",
     "shell.execute_reply": "2023-02-21T20:37:06.612247Z"
    },
    "id": "ad26f7e2",
    "outputId": "a5eb1606-a82a-4b13-d54a-137c14cabc45",
    "papermill": {
     "duration": 0.081825,
     "end_time": "2023-02-21T20:37:06.615604",
     "exception": false,
     "start_time": "2023-02-21T20:37:06.533779",
     "status": "completed"
    },
    "tags": []
   },
   "outputs": [
    {
     "data": {
      "text/plain": [
       "2.380819108363997"
      ]
     },
     "execution_count": 29,
     "metadata": {},
     "output_type": "execute_result"
    }
   ],
   "source": [
    "# calculate the MAE of the model\n",
    "mae = mean_absolute_error(y_test, y_pred1)\n",
    "mae"
   ]
  },
  {
   "cell_type": "code",
   "execution_count": 30,
   "id": "5dfedf87",
   "metadata": {
    "execution": {
     "iopub.execute_input": "2023-02-21T20:37:06.757894Z",
     "iopub.status.busy": "2023-02-21T20:37:06.757122Z",
     "iopub.status.idle": "2023-02-21T20:37:06.763747Z",
     "shell.execute_reply": "2023-02-21T20:37:06.762981Z"
    },
    "id": "b8562e4f",
    "outputId": "138a3a53-8f7e-40b8-c305-c8505fce5a03",
    "papermill": {
     "duration": 0.081124,
     "end_time": "2023-02-21T20:37:06.765857",
     "exception": false,
     "start_time": "2023-02-21T20:37:06.684733",
     "status": "completed"
    },
    "tags": []
   },
   "outputs": [
    {
     "data": {
      "text/plain": [
       "18.123776344182055"
      ]
     },
     "execution_count": 30,
     "metadata": {},
     "output_type": "execute_result"
    }
   ],
   "source": [
    "# calculate the MSE of the model\n",
    "mse = mean_squared_error(y_test, y_pred1)\n",
    "mse"
   ]
  },
  {
   "cell_type": "code",
   "execution_count": 31,
   "id": "2be00ddb",
   "metadata": {
    "execution": {
     "iopub.execute_input": "2023-02-21T20:37:06.908509Z",
     "iopub.status.busy": "2023-02-21T20:37:06.907784Z",
     "iopub.status.idle": "2023-02-21T20:37:06.914296Z",
     "shell.execute_reply": "2023-02-21T20:37:06.913234Z"
    },
    "id": "620462d0",
    "outputId": "60872612-e349-47e1-8b1e-7d13ae0ca6bb",
    "papermill": {
     "duration": 0.080758,
     "end_time": "2023-02-21T20:37:06.916531",
     "exception": false,
     "start_time": "2023-02-21T20:37:06.835773",
     "status": "completed"
    },
    "tags": []
   },
   "outputs": [
    {
     "data": {
      "text/plain": [
       "4.257202877968356"
      ]
     },
     "execution_count": 31,
     "metadata": {},
     "output_type": "execute_result"
    }
   ],
   "source": [
    "# calculate the RMSE of the model\n",
    "rmse = np.sqrt(mse)\n",
    "rmse"
   ]
  },
  {
   "cell_type": "code",
   "execution_count": 32,
   "id": "f1a8aff0",
   "metadata": {
    "execution": {
     "iopub.execute_input": "2023-02-21T20:37:07.059911Z",
     "iopub.status.busy": "2023-02-21T20:37:07.059122Z",
     "iopub.status.idle": "2023-02-21T20:37:07.086154Z",
     "shell.execute_reply": "2023-02-21T20:37:07.084463Z"
    },
    "id": "52f9efbd",
    "papermill": {
     "duration": 0.104692,
     "end_time": "2023-02-21T20:37:07.091098",
     "exception": false,
     "start_time": "2023-02-21T20:37:06.986406",
     "status": "completed"
    },
    "tags": []
   },
   "outputs": [],
   "source": [
    "# Ridge\n",
    "L2 = Ridge(alpha=1.0)\n",
    "L2.fit(x_train, y_train) \n",
    "y_pred3 = L2.predict(x_test)"
   ]
  },
  {
   "cell_type": "code",
   "execution_count": 33,
   "id": "814889de",
   "metadata": {
    "execution": {
     "iopub.execute_input": "2023-02-21T20:37:07.311023Z",
     "iopub.status.busy": "2023-02-21T20:37:07.310604Z",
     "iopub.status.idle": "2023-02-21T20:37:07.319469Z",
     "shell.execute_reply": "2023-02-21T20:37:07.318230Z"
    },
    "id": "b25662c7",
    "outputId": "f9da0f6c-c257-4034-d900-82219d29a91b",
    "papermill": {
     "duration": 0.086439,
     "end_time": "2023-02-21T20:37:07.322080",
     "exception": false,
     "start_time": "2023-02-21T20:37:07.235641",
     "status": "completed"
    },
    "tags": []
   },
   "outputs": [
    {
     "data": {
      "text/plain": [
       "0.7478105537618742"
      ]
     },
     "execution_count": 33,
     "metadata": {},
     "output_type": "execute_result"
    }
   ],
   "source": [
    "r2 = r2_score(y_test, y_pred3)\n",
    "r2 "
   ]
  },
  {
   "cell_type": "code",
   "execution_count": 34,
   "id": "77ef1c13",
   "metadata": {
    "execution": {
     "iopub.execute_input": "2023-02-21T20:37:07.463614Z",
     "iopub.status.busy": "2023-02-21T20:37:07.462778Z",
     "iopub.status.idle": "2023-02-21T20:37:07.470627Z",
     "shell.execute_reply": "2023-02-21T20:37:07.469738Z"
    },
    "id": "fb5e806d",
    "outputId": "2de92380-88d7-4961-cceb-913ce296b8ea",
    "papermill": {
     "duration": 0.081498,
     "end_time": "2023-02-21T20:37:07.472884",
     "exception": false,
     "start_time": "2023-02-21T20:37:07.391386",
     "status": "completed"
    },
    "tags": []
   },
   "outputs": [
    {
     "data": {
      "text/plain": [
       "2.3204943412883794"
      ]
     },
     "execution_count": 34,
     "metadata": {},
     "output_type": "execute_result"
    }
   ],
   "source": [
    "# calculate the MAE of the model\n",
    "mae = mean_absolute_error(y_test, y_pred3)\n",
    "mae"
   ]
  },
  {
   "cell_type": "code",
   "execution_count": 35,
   "id": "20051206",
   "metadata": {
    "execution": {
     "iopub.execute_input": "2023-02-21T20:37:07.614897Z",
     "iopub.status.busy": "2023-02-21T20:37:07.614452Z",
     "iopub.status.idle": "2023-02-21T20:37:07.622807Z",
     "shell.execute_reply": "2023-02-21T20:37:07.621926Z"
    },
    "id": "501e9c60",
    "outputId": "4e26f8e5-935c-41d2-8ae2-0d47e645a866",
    "papermill": {
     "duration": 0.082072,
     "end_time": "2023-02-21T20:37:07.625098",
     "exception": false,
     "start_time": "2023-02-21T20:37:07.543026",
     "status": "completed"
    },
    "tags": []
   },
   "outputs": [
    {
     "data": {
      "text/plain": [
       "16.946610681950318"
      ]
     },
     "execution_count": 35,
     "metadata": {},
     "output_type": "execute_result"
    }
   ],
   "source": [
    "# calculate the MSE of the model\n",
    "mse = mean_squared_error(y_test, y_pred3)\n",
    "mse"
   ]
  },
  {
   "cell_type": "code",
   "execution_count": 36,
   "id": "dd2a8cac",
   "metadata": {
    "execution": {
     "iopub.execute_input": "2023-02-21T20:37:07.767181Z",
     "iopub.status.busy": "2023-02-21T20:37:07.765315Z",
     "iopub.status.idle": "2023-02-21T20:37:07.773312Z",
     "shell.execute_reply": "2023-02-21T20:37:07.772359Z"
    },
    "id": "5fc21b67",
    "outputId": "20c87e39-dd89-40fe-906b-148f1545a14a",
    "papermill": {
     "duration": 0.080497,
     "end_time": "2023-02-21T20:37:07.775517",
     "exception": false,
     "start_time": "2023-02-21T20:37:07.695020",
     "status": "completed"
    },
    "tags": []
   },
   "outputs": [
    {
     "data": {
      "text/plain": [
       "4.116626128512318"
      ]
     },
     "execution_count": 36,
     "metadata": {},
     "output_type": "execute_result"
    }
   ],
   "source": [
    "# calculate the RMSE of the model\n",
    "rmse = np.sqrt(mse)\n",
    "rmse"
   ]
  },
  {
   "cell_type": "markdown",
   "id": "59a53f5f",
   "metadata": {
    "id": "0c26024a",
    "papermill": {
     "duration": 0.069618,
     "end_time": "2023-02-21T20:37:07.915229",
     "exception": false,
     "start_time": "2023-02-21T20:37:07.845611",
     "status": "completed"
    },
    "tags": []
   },
   "source": [
    "##Clent 2 : St Josephs Hospital Health Center"
   ]
  },
  {
   "cell_type": "code",
   "execution_count": 37,
   "id": "227eb102",
   "metadata": {
    "execution": {
     "iopub.execute_input": "2023-02-21T20:37:08.057754Z",
     "iopub.status.busy": "2023-02-21T20:37:08.056900Z",
     "iopub.status.idle": "2023-02-21T20:37:08.215593Z",
     "shell.execute_reply": "2023-02-21T20:37:08.214550Z"
    },
    "id": "76e85433",
    "papermill": {
     "duration": 0.233818,
     "end_time": "2023-02-21T20:37:08.218331",
     "exception": false,
     "start_time": "2023-02-21T20:37:07.984513",
     "status": "completed"
    },
    "tags": []
   },
   "outputs": [],
   "source": [
    "Josephs_df=df[df[\"Facility Name\"]== 'St Josephs Hospital Health Center']"
   ]
  },
  {
   "cell_type": "code",
   "execution_count": 38,
   "id": "7c526f41",
   "metadata": {
    "execution": {
     "iopub.execute_input": "2023-02-21T20:37:08.358897Z",
     "iopub.status.busy": "2023-02-21T20:37:08.358459Z",
     "iopub.status.idle": "2023-02-21T20:37:08.369430Z",
     "shell.execute_reply": "2023-02-21T20:37:08.367883Z"
    },
    "id": "6392eff2",
    "outputId": "c49f3483-dc6f-436c-c63f-4228a18eed99",
    "papermill": {
     "duration": 0.084887,
     "end_time": "2023-02-21T20:37:08.372875",
     "exception": false,
     "start_time": "2023-02-21T20:37:08.287988",
     "status": "completed"
    },
    "tags": []
   },
   "outputs": [
    {
     "name": "stderr",
     "output_type": "stream",
     "text": [
      "/opt/conda/lib/python3.7/site-packages/ipykernel_launcher.py:3: SettingWithCopyWarning: \n",
      "A value is trying to be set on a copy of a slice from a DataFrame.\n",
      "Try using .loc[row_indexer,col_indexer] = value instead\n",
      "\n",
      "See the caveats in the documentation: https://pandas.pydata.org/pandas-docs/stable/user_guide/indexing.html#returning-a-view-versus-a-copy\n",
      "  This is separate from the ipykernel package so we can avoid doing imports until\n",
      "/opt/conda/lib/python3.7/site-packages/ipykernel_launcher.py:5: SettingWithCopyWarning: \n",
      "A value is trying to be set on a copy of a slice from a DataFrame.\n",
      "Try using .loc[row_indexer,col_indexer] = value instead\n",
      "\n",
      "See the caveats in the documentation: https://pandas.pydata.org/pandas-docs/stable/user_guide/indexing.html#returning-a-view-versus-a-copy\n",
      "  \"\"\"\n"
     ]
    }
   ],
   "source": [
    "#   simple mapping on binary features.\n",
    "Josephs_df['Abortion Edit Indicator'] = Josephs_df['Abortion Edit Indicator'].apply(\n",
    "     lambda x: 1 if x == 'Y' else (0 if x == 'N' else None))\n",
    "Josephs_df['Emergency Department Indicator'] = Josephs_df['Emergency Department Indicator'].apply(\n",
    "    lambda x: 1 if x == 'Y' else (0 if x == 'N' else None))"
   ]
  },
  {
   "cell_type": "code",
   "execution_count": 39,
   "id": "92360ba7",
   "metadata": {
    "execution": {
     "iopub.execute_input": "2023-02-21T20:37:08.515758Z",
     "iopub.status.busy": "2023-02-21T20:37:08.515089Z",
     "iopub.status.idle": "2023-02-21T20:37:08.629284Z",
     "shell.execute_reply": "2023-02-21T20:37:08.628109Z"
    },
    "id": "d17d58a7",
    "outputId": "80a2699c-1dd6-4818-c930-9f456285eac0",
    "papermill": {
     "duration": 0.188821,
     "end_time": "2023-02-21T20:37:08.632375",
     "exception": false,
     "start_time": "2023-02-21T20:37:08.443554",
     "status": "completed"
    },
    "tags": []
   },
   "outputs": [
    {
     "name": "stderr",
     "output_type": "stream",
     "text": [
      "/opt/conda/lib/python3.7/site-packages/ipykernel_launcher.py:29: SettingWithCopyWarning: \n",
      "A value is trying to be set on a copy of a slice from a DataFrame.\n",
      "Try using .loc[row_indexer,col_indexer] = value instead\n",
      "\n",
      "See the caveats in the documentation: https://pandas.pydata.org/pandas-docs/stable/user_guide/indexing.html#returning-a-view-versus-a-copy\n"
     ]
    }
   ],
   "source": [
    "list=  [ \"Hospital County\",\"Age Group\"\n",
    "    ,\"Gender\",   \n",
    " \"Race\" , \n",
    "\"Ethnicity\", \n",
    "\"Gender\" , \n",
    "\"Race\" ,    \n",
    " \"Ethnicity\" ,        \n",
    " \"Type of Admission\"  ,  \n",
    "  \"Patient Disposition\",      \n",
    " \"Type of Admission\" ,  \n",
    " \"Patient Disposition\"  ,\n",
    "  \"APR Risk of Mortality\" ,   \n",
    " \"APR Medical Surgical Description\" ,\n",
    " \"Payment Typology 1\"   ,   \n",
    " \"Abortion Edit Indicator\"     ,  \n",
    " \"Emergency Department Indicator\",\n",
    "       \"Zip Code - 3 digits\",\"Payment Typology 2\"        \n",
    "   ,\"Payment Typology 3\"]  \n",
    "\n",
    "# Import label encoder\n",
    "from sklearn import preprocessing\n",
    "  \n",
    "# label_encoder object knows how to understand word labels.        \n",
    "   \n",
    "label_encoder = preprocessing.LabelEncoder()\n",
    "  \n",
    "# Encode labels in column 'species'. \n",
    "for col in list :\n",
    "    Josephs_df[col]= label_encoder.fit_transform(Josephs_df[col])"
   ]
  },
  {
   "cell_type": "code",
   "execution_count": 40,
   "id": "25b195fb",
   "metadata": {
    "execution": {
     "iopub.execute_input": "2023-02-21T20:37:08.775815Z",
     "iopub.status.busy": "2023-02-21T20:37:08.775421Z",
     "iopub.status.idle": "2023-02-21T20:37:08.786305Z",
     "shell.execute_reply": "2023-02-21T20:37:08.784937Z"
    },
    "id": "e397cec4",
    "papermill": {
     "duration": 0.085375,
     "end_time": "2023-02-21T20:37:08.789339",
     "exception": false,
     "start_time": "2023-02-21T20:37:08.703964",
     "status": "completed"
    },
    "tags": []
   },
   "outputs": [],
   "source": [
    "Josephs_df=Josephs_df.drop(\"Facility Name\", axis=1)\n"
   ]
  },
  {
   "cell_type": "code",
   "execution_count": 41,
   "id": "81c6548d",
   "metadata": {
    "execution": {
     "iopub.execute_input": "2023-02-21T20:37:08.932921Z",
     "iopub.status.busy": "2023-02-21T20:37:08.932470Z",
     "iopub.status.idle": "2023-02-21T20:37:08.953397Z",
     "shell.execute_reply": "2023-02-21T20:37:08.952166Z"
    },
    "id": "3b791e2b",
    "papermill": {
     "duration": 0.095454,
     "end_time": "2023-02-21T20:37:08.956243",
     "exception": false,
     "start_time": "2023-02-21T20:37:08.860789",
     "status": "completed"
    },
    "tags": []
   },
   "outputs": [],
   "source": [
    "Josephs_df[\"Length of Stay\"]=pd.to_numeric(Josephs_df[\"Length of Stay\"],errors='coerce')\n"
   ]
  },
  {
   "cell_type": "code",
   "execution_count": 42,
   "id": "4191c37c",
   "metadata": {
    "execution": {
     "iopub.execute_input": "2023-02-21T20:37:09.097279Z",
     "iopub.status.busy": "2023-02-21T20:37:09.096814Z",
     "iopub.status.idle": "2023-02-21T20:37:09.109086Z",
     "shell.execute_reply": "2023-02-21T20:37:09.108057Z"
    },
    "id": "24c62e93",
    "papermill": {
     "duration": 0.086246,
     "end_time": "2023-02-21T20:37:09.111964",
     "exception": false,
     "start_time": "2023-02-21T20:37:09.025718",
     "status": "completed"
    },
    "tags": []
   },
   "outputs": [],
   "source": [
    "Josephs_df.dropna(inplace=True)"
   ]
  },
  {
   "cell_type": "code",
   "execution_count": 43,
   "id": "90c16101",
   "metadata": {
    "execution": {
     "iopub.execute_input": "2023-02-21T20:37:09.255448Z",
     "iopub.status.busy": "2023-02-21T20:37:09.255063Z",
     "iopub.status.idle": "2023-02-21T20:37:09.271286Z",
     "shell.execute_reply": "2023-02-21T20:37:09.270112Z"
    },
    "id": "0d05c6ba",
    "outputId": "54b46eae-b86c-4994-994c-04fae83dedb8",
    "papermill": {
     "duration": 0.090846,
     "end_time": "2023-02-21T20:37:09.274430",
     "exception": false,
     "start_time": "2023-02-21T20:37:09.183584",
     "status": "completed"
    },
    "tags": []
   },
   "outputs": [
    {
     "name": "stdout",
     "output_type": "stream",
     "text": [
      "<class 'pandas.core.frame.DataFrame'>\n",
      "Int64Index: 25626 entries, 355968 to 433177\n",
      "Data columns (total 27 columns):\n",
      " #   Column                            Non-Null Count  Dtype  \n",
      "---  ------                            --------------  -----  \n",
      " 0   Hospital County                   25626 non-null  int64  \n",
      " 1   Operating Certificate Number      25626 non-null  float64\n",
      " 2   Facility Id                       25626 non-null  float64\n",
      " 3   Age Group                         25626 non-null  int64  \n",
      " 4   Zip Code - 3 digits               25626 non-null  int64  \n",
      " 5   Gender                            25626 non-null  int64  \n",
      " 6   Race                              25626 non-null  int64  \n",
      " 7   Ethnicity                         25626 non-null  int64  \n",
      " 8   Length of Stay                    25626 non-null  float64\n",
      " 9   Type of Admission                 25626 non-null  int64  \n",
      " 10  Patient Disposition               25626 non-null  int64  \n",
      " 11  Discharge Year                    25626 non-null  int64  \n",
      " 12  CCS Diagnosis Code                25626 non-null  int64  \n",
      " 13  CCS Procedure Code                25626 non-null  int64  \n",
      " 14  APR DRG Code                      25626 non-null  int64  \n",
      " 15  APR MDC Code                      25626 non-null  int64  \n",
      " 16  APR Severity of Illness Code      25626 non-null  int64  \n",
      " 17  APR Risk of Mortality             25626 non-null  int64  \n",
      " 18  APR Medical Surgical Description  25626 non-null  int64  \n",
      " 19  Payment Typology 1                25626 non-null  int64  \n",
      " 20  Payment Typology 2                25626 non-null  int64  \n",
      " 21  Payment Typology 3                25626 non-null  int64  \n",
      " 22  Birth Weight                      25626 non-null  int64  \n",
      " 23  Abortion Edit Indicator           25626 non-null  int64  \n",
      " 24  Emergency Department Indicator    25626 non-null  int64  \n",
      " 25  Total Charges                     25626 non-null  float64\n",
      " 26  Total Costs                       25626 non-null  float64\n",
      "dtypes: float64(5), int64(22)\n",
      "memory usage: 5.5 MB\n"
     ]
    }
   ],
   "source": [
    "Josephs_df.info()"
   ]
  },
  {
   "cell_type": "code",
   "execution_count": 44,
   "id": "4464b906",
   "metadata": {
    "execution": {
     "iopub.execute_input": "2023-02-21T20:37:09.419328Z",
     "iopub.status.busy": "2023-02-21T20:37:09.418881Z",
     "iopub.status.idle": "2023-02-21T20:37:09.427343Z",
     "shell.execute_reply": "2023-02-21T20:37:09.426290Z"
    },
    "id": "f44619ad",
    "papermill": {
     "duration": 0.083575,
     "end_time": "2023-02-21T20:37:09.430040",
     "exception": false,
     "start_time": "2023-02-21T20:37:09.346465",
     "status": "completed"
    },
    "tags": []
   },
   "outputs": [],
   "source": [
    "x = Josephs_df.drop([\"Length of Stay\"], axis =1)\n",
    "y = Josephs_df[\"Length of Stay\"]"
   ]
  },
  {
   "cell_type": "code",
   "execution_count": 45,
   "id": "fd1fbcf5",
   "metadata": {
    "execution": {
     "iopub.execute_input": "2023-02-21T20:37:09.571846Z",
     "iopub.status.busy": "2023-02-21T20:37:09.571406Z",
     "iopub.status.idle": "2023-02-21T20:37:09.585307Z",
     "shell.execute_reply": "2023-02-21T20:37:09.584099Z"
    },
    "id": "bcb44609",
    "papermill": {
     "duration": 0.08772,
     "end_time": "2023-02-21T20:37:09.587946",
     "exception": false,
     "start_time": "2023-02-21T20:37:09.500226",
     "status": "completed"
    },
    "tags": []
   },
   "outputs": [],
   "source": [
    "from sklearn.model_selection import train_test_split\n",
    "x_train, x_test, y_train, y_test = train_test_split(x, y, test_size=0.3, random_state=42)"
   ]
  },
  {
   "cell_type": "code",
   "execution_count": 46,
   "id": "debf98a0",
   "metadata": {
    "execution": {
     "iopub.execute_input": "2023-02-21T20:37:09.730805Z",
     "iopub.status.busy": "2023-02-21T20:37:09.730381Z",
     "iopub.status.idle": "2023-02-21T20:37:09.771790Z",
     "shell.execute_reply": "2023-02-21T20:37:09.766264Z"
    },
    "id": "0df71d89",
    "papermill": {
     "duration": 0.119098,
     "end_time": "2023-02-21T20:37:09.777001",
     "exception": false,
     "start_time": "2023-02-21T20:37:09.657903",
     "status": "completed"
    },
    "tags": []
   },
   "outputs": [],
   "source": [
    "# Linear Regression\n",
    "\n",
    "LR = LinearRegression()\n",
    "LR.fit(x_train, y_train)\n",
    "LR.score(x_train, y_train)\n",
    "y_pred =LR.predict(x_test)"
   ]
  },
  {
   "cell_type": "code",
   "execution_count": 47,
   "id": "fa86f311",
   "metadata": {
    "execution": {
     "iopub.execute_input": "2023-02-21T20:37:09.985792Z",
     "iopub.status.busy": "2023-02-21T20:37:09.985385Z",
     "iopub.status.idle": "2023-02-21T20:37:09.993790Z",
     "shell.execute_reply": "2023-02-21T20:37:09.992667Z"
    },
    "id": "cff5028b",
    "outputId": "428c06d1-fc31-4151-bfcc-42f4771cfed9",
    "papermill": {
     "duration": 0.081809,
     "end_time": "2023-02-21T20:37:09.995933",
     "exception": false,
     "start_time": "2023-02-21T20:37:09.914124",
     "status": "completed"
    },
    "tags": []
   },
   "outputs": [
    {
     "data": {
      "text/plain": [
       "0.6574754436024834"
      ]
     },
     "execution_count": 47,
     "metadata": {},
     "output_type": "execute_result"
    }
   ],
   "source": [
    "r2 = r2_score(y_test, y_pred)\n",
    "r2"
   ]
  },
  {
   "cell_type": "code",
   "execution_count": 48,
   "id": "b5bf3000",
   "metadata": {
    "execution": {
     "iopub.execute_input": "2023-02-21T20:37:10.140054Z",
     "iopub.status.busy": "2023-02-21T20:37:10.139394Z",
     "iopub.status.idle": "2023-02-21T20:37:10.147230Z",
     "shell.execute_reply": "2023-02-21T20:37:10.146087Z"
    },
    "id": "7936b5a9",
    "outputId": "636a6709-4a26-421a-caeb-9f360bdf8fa9",
    "papermill": {
     "duration": 0.082809,
     "end_time": "2023-02-21T20:37:10.149434",
     "exception": false,
     "start_time": "2023-02-21T20:37:10.066625",
     "status": "completed"
    },
    "tags": []
   },
   "outputs": [
    {
     "data": {
      "text/plain": [
       "2.0719697846829397"
      ]
     },
     "execution_count": 48,
     "metadata": {},
     "output_type": "execute_result"
    }
   ],
   "source": [
    "# calculate the MAE of the model\n",
    "mae = mean_absolute_error(y_test, y_pred)\n",
    "mae"
   ]
  },
  {
   "cell_type": "code",
   "execution_count": 49,
   "id": "85680d08",
   "metadata": {
    "execution": {
     "iopub.execute_input": "2023-02-21T20:37:10.293470Z",
     "iopub.status.busy": "2023-02-21T20:37:10.292774Z",
     "iopub.status.idle": "2023-02-21T20:37:10.301529Z",
     "shell.execute_reply": "2023-02-21T20:37:10.299867Z"
    },
    "id": "2f6cd477",
    "outputId": "0ed35a8d-9c7d-4d7d-b17c-20536e552fe6",
    "papermill": {
     "duration": 0.084838,
     "end_time": "2023-02-21T20:37:10.304280",
     "exception": false,
     "start_time": "2023-02-21T20:37:10.219442",
     "status": "completed"
    },
    "tags": []
   },
   "outputs": [
    {
     "data": {
      "text/plain": [
       "13.044654985643254"
      ]
     },
     "execution_count": 49,
     "metadata": {},
     "output_type": "execute_result"
    }
   ],
   "source": [
    "# calculate the MSE of the model\n",
    "mse = mean_squared_error(y_test, y_pred)\n",
    "mse"
   ]
  },
  {
   "cell_type": "code",
   "execution_count": 50,
   "id": "a0d0e3a2",
   "metadata": {
    "execution": {
     "iopub.execute_input": "2023-02-21T20:37:10.508412Z",
     "iopub.status.busy": "2023-02-21T20:37:10.507305Z",
     "iopub.status.idle": "2023-02-21T20:37:10.514004Z",
     "shell.execute_reply": "2023-02-21T20:37:10.513146Z"
    },
    "id": "890b97d8",
    "outputId": "d4c142c7-6b06-4dd9-db0c-4327f7a4a2f8",
    "papermill": {
     "duration": 0.138277,
     "end_time": "2023-02-21T20:37:10.516179",
     "exception": false,
     "start_time": "2023-02-21T20:37:10.377902",
     "status": "completed"
    },
    "tags": []
   },
   "outputs": [
    {
     "data": {
      "text/plain": [
       "3.6117384990670702"
      ]
     },
     "execution_count": 50,
     "metadata": {},
     "output_type": "execute_result"
    }
   ],
   "source": [
    "# calculate the RMSE of the model\n",
    "rmse = np.sqrt(mse)\n",
    "rmse"
   ]
  },
  {
   "cell_type": "code",
   "execution_count": 51,
   "id": "ead92bb7",
   "metadata": {
    "execution": {
     "iopub.execute_input": "2023-02-21T20:37:10.658806Z",
     "iopub.status.busy": "2023-02-21T20:37:10.657676Z",
     "iopub.status.idle": "2023-02-21T20:37:10.694055Z",
     "shell.execute_reply": "2023-02-21T20:37:10.692313Z"
    },
    "id": "f9fa69b5",
    "papermill": {
     "duration": 0.112421,
     "end_time": "2023-02-21T20:37:10.698813",
     "exception": false,
     "start_time": "2023-02-21T20:37:10.586392",
     "status": "completed"
    },
    "tags": []
   },
   "outputs": [],
   "source": [
    "# LASSO\n",
    "L1 = linear_model.Lasso()\n",
    "L1.fit(x_train,y_train)\n",
    "y_pred1 = L1.predict(x_test)"
   ]
  },
  {
   "cell_type": "code",
   "execution_count": 52,
   "id": "e91b2931",
   "metadata": {
    "execution": {
     "iopub.execute_input": "2023-02-21T20:37:10.916988Z",
     "iopub.status.busy": "2023-02-21T20:37:10.916575Z",
     "iopub.status.idle": "2023-02-21T20:37:10.925507Z",
     "shell.execute_reply": "2023-02-21T20:37:10.924322Z"
    },
    "id": "a57121cd",
    "outputId": "176ed8eb-a33b-4a5a-c066-15a86d6b9ae9",
    "papermill": {
     "duration": 0.086115,
     "end_time": "2023-02-21T20:37:10.928005",
     "exception": false,
     "start_time": "2023-02-21T20:37:10.841890",
     "status": "completed"
    },
    "tags": []
   },
   "outputs": [
    {
     "data": {
      "text/plain": [
       "0.5810415145070502"
      ]
     },
     "execution_count": 52,
     "metadata": {},
     "output_type": "execute_result"
    }
   ],
   "source": [
    "r2 = r2_score(y_test, y_pred1)\n",
    "r2 "
   ]
  },
  {
   "cell_type": "code",
   "execution_count": 53,
   "id": "251a8215",
   "metadata": {
    "execution": {
     "iopub.execute_input": "2023-02-21T20:37:11.070476Z",
     "iopub.status.busy": "2023-02-21T20:37:11.070093Z",
     "iopub.status.idle": "2023-02-21T20:37:11.078365Z",
     "shell.execute_reply": "2023-02-21T20:37:11.077395Z"
    },
    "id": "17724199",
    "outputId": "d17d0f9f-a91d-4d64-9985-65f2b4b4ce0d",
    "papermill": {
     "duration": 0.082479,
     "end_time": "2023-02-21T20:37:11.080673",
     "exception": false,
     "start_time": "2023-02-21T20:37:10.998194",
     "status": "completed"
    },
    "tags": []
   },
   "outputs": [
    {
     "data": {
      "text/plain": [
       "2.455629978876319"
      ]
     },
     "execution_count": 53,
     "metadata": {},
     "output_type": "execute_result"
    }
   ],
   "source": [
    "# calculate the MAE of the model\n",
    "mae = mean_absolute_error(y_test, y_pred1)\n",
    "mae"
   ]
  },
  {
   "cell_type": "code",
   "execution_count": 54,
   "id": "6a9b0b7d",
   "metadata": {
    "execution": {
     "iopub.execute_input": "2023-02-21T20:37:11.250119Z",
     "iopub.status.busy": "2023-02-21T20:37:11.249666Z",
     "iopub.status.idle": "2023-02-21T20:37:11.258046Z",
     "shell.execute_reply": "2023-02-21T20:37:11.257049Z"
    },
    "id": "6b672ece",
    "outputId": "581e362d-8ed7-4ec6-eac2-68abdaeb8f94",
    "papermill": {
     "duration": 0.103906,
     "end_time": "2023-02-21T20:37:11.260457",
     "exception": false,
     "start_time": "2023-02-21T20:37:11.156551",
     "status": "completed"
    },
    "tags": []
   },
   "outputs": [
    {
     "data": {
      "text/plain": [
       "15.95555353473856"
      ]
     },
     "execution_count": 54,
     "metadata": {},
     "output_type": "execute_result"
    }
   ],
   "source": [
    "# calculate the MSE of the model\n",
    "mse = mean_squared_error(y_test, y_pred1)\n",
    "mse"
   ]
  },
  {
   "cell_type": "code",
   "execution_count": 55,
   "id": "e10311b8",
   "metadata": {
    "execution": {
     "iopub.execute_input": "2023-02-21T20:37:11.408370Z",
     "iopub.status.busy": "2023-02-21T20:37:11.407511Z",
     "iopub.status.idle": "2023-02-21T20:37:11.415527Z",
     "shell.execute_reply": "2023-02-21T20:37:11.414367Z"
    },
    "id": "2ec08407",
    "outputId": "80d6df10-4464-4362-eb6d-12b0d6470aef",
    "papermill": {
     "duration": 0.083889,
     "end_time": "2023-02-21T20:37:11.417957",
     "exception": false,
     "start_time": "2023-02-21T20:37:11.334068",
     "status": "completed"
    },
    "tags": []
   },
   "outputs": [
    {
     "data": {
      "text/plain": [
       "3.994440328098363"
      ]
     },
     "execution_count": 55,
     "metadata": {},
     "output_type": "execute_result"
    }
   ],
   "source": [
    "# calculate the RMSE of the model\n",
    "rmse = np.sqrt(mse)\n",
    "rmse"
   ]
  },
  {
   "cell_type": "code",
   "execution_count": 56,
   "id": "6f967f70",
   "metadata": {
    "execution": {
     "iopub.execute_input": "2023-02-21T20:37:11.567816Z",
     "iopub.status.busy": "2023-02-21T20:37:11.567002Z",
     "iopub.status.idle": "2023-02-21T20:37:11.590541Z",
     "shell.execute_reply": "2023-02-21T20:37:11.588871Z"
    },
    "id": "27329b1e",
    "papermill": {
     "duration": 0.102745,
     "end_time": "2023-02-21T20:37:11.594991",
     "exception": false,
     "start_time": "2023-02-21T20:37:11.492246",
     "status": "completed"
    },
    "tags": []
   },
   "outputs": [],
   "source": [
    "# Ridge\n",
    "L2 = Ridge(alpha=1.0)\n",
    "L2.fit(x_train, y_train) \n",
    "y_pred3 = L2.predict(x_test)"
   ]
  },
  {
   "cell_type": "code",
   "execution_count": 57,
   "id": "86dd1d63",
   "metadata": {
    "execution": {
     "iopub.execute_input": "2023-02-21T20:37:11.811246Z",
     "iopub.status.busy": "2023-02-21T20:37:11.810783Z",
     "iopub.status.idle": "2023-02-21T20:37:11.820726Z",
     "shell.execute_reply": "2023-02-21T20:37:11.819432Z"
    },
    "id": "67bf6bf9",
    "outputId": "3de685dc-d52c-4211-c04a-f575bb3640c2",
    "papermill": {
     "duration": 0.084965,
     "end_time": "2023-02-21T20:37:11.823128",
     "exception": false,
     "start_time": "2023-02-21T20:37:11.738163",
     "status": "completed"
    },
    "tags": []
   },
   "outputs": [
    {
     "data": {
      "text/plain": [
       "0.6574730902842871"
      ]
     },
     "execution_count": 57,
     "metadata": {},
     "output_type": "execute_result"
    }
   ],
   "source": [
    "r2 = r2_score(y_test, y_pred3)\n",
    "r2 "
   ]
  },
  {
   "cell_type": "code",
   "execution_count": 58,
   "id": "c72164c7",
   "metadata": {
    "execution": {
     "iopub.execute_input": "2023-02-21T20:37:11.969896Z",
     "iopub.status.busy": "2023-02-21T20:37:11.969217Z",
     "iopub.status.idle": "2023-02-21T20:37:11.976962Z",
     "shell.execute_reply": "2023-02-21T20:37:11.975718Z"
    },
    "id": "bbbfc8d2",
    "outputId": "b8ea7d6e-a280-463c-bf57-987484751cc1",
    "papermill": {
     "duration": 0.083406,
     "end_time": "2023-02-21T20:37:11.979621",
     "exception": false,
     "start_time": "2023-02-21T20:37:11.896215",
     "status": "completed"
    },
    "tags": []
   },
   "outputs": [
    {
     "data": {
      "text/plain": [
       "2.071950047482412"
      ]
     },
     "execution_count": 58,
     "metadata": {},
     "output_type": "execute_result"
    }
   ],
   "source": [
    "# calculate the MAE of the model\n",
    "mae = mean_absolute_error(y_test, y_pred3)\n",
    "mae"
   ]
  },
  {
   "cell_type": "code",
   "execution_count": 59,
   "id": "4fb5a00c",
   "metadata": {
    "execution": {
     "iopub.execute_input": "2023-02-21T20:37:12.124700Z",
     "iopub.status.busy": "2023-02-21T20:37:12.124294Z",
     "iopub.status.idle": "2023-02-21T20:37:12.133202Z",
     "shell.execute_reply": "2023-02-21T20:37:12.131780Z"
    },
    "id": "f33fc684",
    "outputId": "42f535ab-868b-422f-8f7d-07240350b08b",
    "papermill": {
     "duration": 0.084142,
     "end_time": "2023-02-21T20:37:12.135846",
     "exception": false,
     "start_time": "2023-02-21T20:37:12.051704",
     "status": "completed"
    },
    "tags": []
   },
   "outputs": [
    {
     "data": {
      "text/plain": [
       "13.0447446090684"
      ]
     },
     "execution_count": 59,
     "metadata": {},
     "output_type": "execute_result"
    }
   ],
   "source": [
    "# calculate the MSE of the model\n",
    "mse = mean_squared_error(y_test, y_pred3)\n",
    "mse"
   ]
  },
  {
   "cell_type": "code",
   "execution_count": 60,
   "id": "a19f3e85",
   "metadata": {
    "execution": {
     "iopub.execute_input": "2023-02-21T20:37:12.283615Z",
     "iopub.status.busy": "2023-02-21T20:37:12.282594Z",
     "iopub.status.idle": "2023-02-21T20:37:12.289583Z",
     "shell.execute_reply": "2023-02-21T20:37:12.288318Z"
    },
    "id": "0e0e79ce",
    "outputId": "65649b74-e816-4fa1-906b-5a8740d9fe3d",
    "papermill": {
     "duration": 0.08343,
     "end_time": "2023-02-21T20:37:12.292454",
     "exception": false,
     "start_time": "2023-02-21T20:37:12.209024",
     "status": "completed"
    },
    "tags": []
   },
   "outputs": [
    {
     "data": {
      "text/plain": [
       "3.6117509062874755"
      ]
     },
     "execution_count": 60,
     "metadata": {},
     "output_type": "execute_result"
    }
   ],
   "source": [
    "# calculate the RMSE of the model\n",
    "rmse = np.sqrt(mse)\n",
    "rmse"
   ]
  },
  {
   "cell_type": "markdown",
   "id": "70afb5a9",
   "metadata": {
    "id": "c439bef6",
    "papermill": {
     "duration": 0.072368,
     "end_time": "2023-02-21T20:37:12.440185",
     "exception": false,
     "start_time": "2023-02-21T20:37:12.367817",
     "status": "completed"
    },
    "tags": []
   },
   "source": [
    "##client 3 : Bronx-Lebanon "
   ]
  },
  {
   "cell_type": "code",
   "execution_count": 61,
   "id": "e71bd2bb",
   "metadata": {
    "execution": {
     "iopub.execute_input": "2023-02-21T20:37:12.587033Z",
     "iopub.status.busy": "2023-02-21T20:37:12.586261Z",
     "iopub.status.idle": "2023-02-21T20:37:12.739540Z",
     "shell.execute_reply": "2023-02-21T20:37:12.738365Z"
    },
    "id": "946a1b04",
    "papermill": {
     "duration": 0.230158,
     "end_time": "2023-02-21T20:37:12.742505",
     "exception": false,
     "start_time": "2023-02-21T20:37:12.512347",
     "status": "completed"
    },
    "tags": []
   },
   "outputs": [],
   "source": [
    "bronx=['Bronx-Lebanon Hospital Center - Fulton Division', 'Bronx-Lebanon Hospital Center - Concourse Division']\n",
    "Bronx_df1=df[df[\"Facility Name\"]== 'Bronx-Lebanon Hospital Center - Fulton Division']"
   ]
  },
  {
   "cell_type": "code",
   "execution_count": 62,
   "id": "0500ab42",
   "metadata": {
    "execution": {
     "iopub.execute_input": "2023-02-21T20:37:12.889000Z",
     "iopub.status.busy": "2023-02-21T20:37:12.888533Z",
     "iopub.status.idle": "2023-02-21T20:37:13.047658Z",
     "shell.execute_reply": "2023-02-21T20:37:13.046300Z"
    },
    "id": "8a2e23cb",
    "papermill": {
     "duration": 0.23549,
     "end_time": "2023-02-21T20:37:13.050449",
     "exception": false,
     "start_time": "2023-02-21T20:37:12.814959",
     "status": "completed"
    },
    "tags": []
   },
   "outputs": [],
   "source": [
    "Bronx_df2=df[df[\"Facility Name\"]== 'Bronx-Lebanon Hospital Center - Concourse Division']"
   ]
  },
  {
   "cell_type": "code",
   "execution_count": 63,
   "id": "6d140d97",
   "metadata": {
    "execution": {
     "iopub.execute_input": "2023-02-21T20:37:13.195767Z",
     "iopub.status.busy": "2023-02-21T20:37:13.195371Z",
     "iopub.status.idle": "2023-02-21T20:37:13.200004Z",
     "shell.execute_reply": "2023-02-21T20:37:13.199162Z"
    },
    "id": "078ccff4",
    "papermill": {
     "duration": 0.080596,
     "end_time": "2023-02-21T20:37:13.202154",
     "exception": false,
     "start_time": "2023-02-21T20:37:13.121558",
     "status": "completed"
    },
    "tags": []
   },
   "outputs": [],
   "source": [
    "l = [Bronx_df1,Bronx_df2]"
   ]
  },
  {
   "cell_type": "code",
   "execution_count": 64,
   "id": "c5a054fb",
   "metadata": {
    "execution": {
     "iopub.execute_input": "2023-02-21T20:37:13.347018Z",
     "iopub.status.busy": "2023-02-21T20:37:13.346578Z",
     "iopub.status.idle": "2023-02-21T20:37:13.399243Z",
     "shell.execute_reply": "2023-02-21T20:37:13.398241Z"
    },
    "id": "587541df",
    "outputId": "cb770d3e-6dd2-4f92-9d2b-50017c91b876",
    "papermill": {
     "duration": 0.127932,
     "end_time": "2023-02-21T20:37:13.401564",
     "exception": false,
     "start_time": "2023-02-21T20:37:13.273632",
     "status": "completed"
    },
    "tags": []
   },
   "outputs": [
    {
     "data": {
      "text/html": [
       "<div>\n",
       "<style scoped>\n",
       "    .dataframe tbody tr th:only-of-type {\n",
       "        vertical-align: middle;\n",
       "    }\n",
       "\n",
       "    .dataframe tbody tr th {\n",
       "        vertical-align: top;\n",
       "    }\n",
       "\n",
       "    .dataframe thead th {\n",
       "        text-align: right;\n",
       "    }\n",
       "</style>\n",
       "<table border=\"1\" class=\"dataframe\">\n",
       "  <thead>\n",
       "    <tr style=\"text-align: right;\">\n",
       "      <th></th>\n",
       "      <th>Hospital County</th>\n",
       "      <th>Operating Certificate Number</th>\n",
       "      <th>Facility Id</th>\n",
       "      <th>Facility Name</th>\n",
       "      <th>Age Group</th>\n",
       "      <th>Zip Code - 3 digits</th>\n",
       "      <th>Gender</th>\n",
       "      <th>Race</th>\n",
       "      <th>Ethnicity</th>\n",
       "      <th>Length of Stay</th>\n",
       "      <th>...</th>\n",
       "      <th>APR Risk of Mortality</th>\n",
       "      <th>APR Medical Surgical Description</th>\n",
       "      <th>Payment Typology 1</th>\n",
       "      <th>Payment Typology 2</th>\n",
       "      <th>Payment Typology 3</th>\n",
       "      <th>Birth Weight</th>\n",
       "      <th>Abortion Edit Indicator</th>\n",
       "      <th>Emergency Department Indicator</th>\n",
       "      <th>Total Charges</th>\n",
       "      <th>Total Costs</th>\n",
       "    </tr>\n",
       "  </thead>\n",
       "  <tbody>\n",
       "    <tr>\n",
       "      <th>905707</th>\n",
       "      <td>Bronx</td>\n",
       "      <td>7000001.0</td>\n",
       "      <td>1164.0</td>\n",
       "      <td>Bronx-Lebanon Hospital Center - Fulton Division</td>\n",
       "      <td>50 to 69</td>\n",
       "      <td>104</td>\n",
       "      <td>M</td>\n",
       "      <td>White</td>\n",
       "      <td>Not Span/Hispanic</td>\n",
       "      <td>3</td>\n",
       "      <td>...</td>\n",
       "      <td>Minor</td>\n",
       "      <td>Medical</td>\n",
       "      <td>Medicaid</td>\n",
       "      <td>NaN</td>\n",
       "      <td>NaN</td>\n",
       "      <td>0</td>\n",
       "      <td>N</td>\n",
       "      <td>Y</td>\n",
       "      <td>9004.46</td>\n",
       "      <td>7831.22</td>\n",
       "    </tr>\n",
       "    <tr>\n",
       "      <th>905777</th>\n",
       "      <td>Bronx</td>\n",
       "      <td>7000001.0</td>\n",
       "      <td>1164.0</td>\n",
       "      <td>Bronx-Lebanon Hospital Center - Fulton Division</td>\n",
       "      <td>18 to 29</td>\n",
       "      <td>104</td>\n",
       "      <td>M</td>\n",
       "      <td>Other Race</td>\n",
       "      <td>Unknown</td>\n",
       "      <td>11</td>\n",
       "      <td>...</td>\n",
       "      <td>Minor</td>\n",
       "      <td>Medical</td>\n",
       "      <td>Medicaid</td>\n",
       "      <td>NaN</td>\n",
       "      <td>NaN</td>\n",
       "      <td>0</td>\n",
       "      <td>N</td>\n",
       "      <td>N</td>\n",
       "      <td>18290.67</td>\n",
       "      <td>16470.61</td>\n",
       "    </tr>\n",
       "    <tr>\n",
       "      <th>911991</th>\n",
       "      <td>Bronx</td>\n",
       "      <td>7000001.0</td>\n",
       "      <td>1164.0</td>\n",
       "      <td>Bronx-Lebanon Hospital Center - Fulton Division</td>\n",
       "      <td>50 to 69</td>\n",
       "      <td>104</td>\n",
       "      <td>F</td>\n",
       "      <td>Other Race</td>\n",
       "      <td>Unknown</td>\n",
       "      <td>6</td>\n",
       "      <td>...</td>\n",
       "      <td>Minor</td>\n",
       "      <td>Medical</td>\n",
       "      <td>Medicaid</td>\n",
       "      <td>NaN</td>\n",
       "      <td>NaN</td>\n",
       "      <td>0</td>\n",
       "      <td>N</td>\n",
       "      <td>N</td>\n",
       "      <td>10959.98</td>\n",
       "      <td>10114.66</td>\n",
       "    </tr>\n",
       "    <tr>\n",
       "      <th>912090</th>\n",
       "      <td>Bronx</td>\n",
       "      <td>7000001.0</td>\n",
       "      <td>1164.0</td>\n",
       "      <td>Bronx-Lebanon Hospital Center - Fulton Division</td>\n",
       "      <td>18 to 29</td>\n",
       "      <td>104</td>\n",
       "      <td>M</td>\n",
       "      <td>Other Race</td>\n",
       "      <td>Unknown</td>\n",
       "      <td>22</td>\n",
       "      <td>...</td>\n",
       "      <td>Minor</td>\n",
       "      <td>Medical</td>\n",
       "      <td>Medicaid</td>\n",
       "      <td>NaN</td>\n",
       "      <td>NaN</td>\n",
       "      <td>0</td>\n",
       "      <td>N</td>\n",
       "      <td>Y</td>\n",
       "      <td>32614.70</td>\n",
       "      <td>29786.31</td>\n",
       "    </tr>\n",
       "    <tr>\n",
       "      <th>912212</th>\n",
       "      <td>Bronx</td>\n",
       "      <td>7000001.0</td>\n",
       "      <td>1164.0</td>\n",
       "      <td>Bronx-Lebanon Hospital Center - Fulton Division</td>\n",
       "      <td>50 to 69</td>\n",
       "      <td>104</td>\n",
       "      <td>M</td>\n",
       "      <td>Other Race</td>\n",
       "      <td>Spanish/Hispanic</td>\n",
       "      <td>3</td>\n",
       "      <td>...</td>\n",
       "      <td>Minor</td>\n",
       "      <td>Medical</td>\n",
       "      <td>Medicaid</td>\n",
       "      <td>NaN</td>\n",
       "      <td>NaN</td>\n",
       "      <td>0</td>\n",
       "      <td>N</td>\n",
       "      <td>Y</td>\n",
       "      <td>7838.81</td>\n",
       "      <td>7002.57</td>\n",
       "    </tr>\n",
       "    <tr>\n",
       "      <th>...</th>\n",
       "      <td>...</td>\n",
       "      <td>...</td>\n",
       "      <td>...</td>\n",
       "      <td>...</td>\n",
       "      <td>...</td>\n",
       "      <td>...</td>\n",
       "      <td>...</td>\n",
       "      <td>...</td>\n",
       "      <td>...</td>\n",
       "      <td>...</td>\n",
       "      <td>...</td>\n",
       "      <td>...</td>\n",
       "      <td>...</td>\n",
       "      <td>...</td>\n",
       "      <td>...</td>\n",
       "      <td>...</td>\n",
       "      <td>...</td>\n",
       "      <td>...</td>\n",
       "      <td>...</td>\n",
       "      <td>...</td>\n",
       "      <td>...</td>\n",
       "    </tr>\n",
       "    <tr>\n",
       "      <th>1065404</th>\n",
       "      <td>Bronx</td>\n",
       "      <td>7000001.0</td>\n",
       "      <td>1178.0</td>\n",
       "      <td>Bronx-Lebanon Hospital Center - Concourse Divi...</td>\n",
       "      <td>18 to 29</td>\n",
       "      <td>104</td>\n",
       "      <td>F</td>\n",
       "      <td>Other Race</td>\n",
       "      <td>Unknown</td>\n",
       "      <td>2</td>\n",
       "      <td>...</td>\n",
       "      <td>Minor</td>\n",
       "      <td>Medical</td>\n",
       "      <td>Medicaid</td>\n",
       "      <td>Medicaid</td>\n",
       "      <td>NaN</td>\n",
       "      <td>0</td>\n",
       "      <td>N</td>\n",
       "      <td>N</td>\n",
       "      <td>7194.54</td>\n",
       "      <td>8400.69</td>\n",
       "    </tr>\n",
       "    <tr>\n",
       "      <th>1065405</th>\n",
       "      <td>Bronx</td>\n",
       "      <td>7000001.0</td>\n",
       "      <td>1178.0</td>\n",
       "      <td>Bronx-Lebanon Hospital Center - Concourse Divi...</td>\n",
       "      <td>30 to 49</td>\n",
       "      <td>104</td>\n",
       "      <td>F</td>\n",
       "      <td>Other Race</td>\n",
       "      <td>Unknown</td>\n",
       "      <td>2</td>\n",
       "      <td>...</td>\n",
       "      <td>Minor</td>\n",
       "      <td>Medical</td>\n",
       "      <td>Medicaid</td>\n",
       "      <td>NaN</td>\n",
       "      <td>NaN</td>\n",
       "      <td>0</td>\n",
       "      <td>N</td>\n",
       "      <td>N</td>\n",
       "      <td>9129.09</td>\n",
       "      <td>9080.43</td>\n",
       "    </tr>\n",
       "    <tr>\n",
       "      <th>1065406</th>\n",
       "      <td>Bronx</td>\n",
       "      <td>7000001.0</td>\n",
       "      <td>1178.0</td>\n",
       "      <td>Bronx-Lebanon Hospital Center - Concourse Divi...</td>\n",
       "      <td>0 to 17</td>\n",
       "      <td>104</td>\n",
       "      <td>F</td>\n",
       "      <td>Other Race</td>\n",
       "      <td>Spanish/Hispanic</td>\n",
       "      <td>3</td>\n",
       "      <td>...</td>\n",
       "      <td>Minor</td>\n",
       "      <td>Medical</td>\n",
       "      <td>Private Health Insurance</td>\n",
       "      <td>Private Health Insurance</td>\n",
       "      <td>Medicaid</td>\n",
       "      <td>0</td>\n",
       "      <td>N</td>\n",
       "      <td>Y</td>\n",
       "      <td>14112.64</td>\n",
       "      <td>10711.62</td>\n",
       "    </tr>\n",
       "    <tr>\n",
       "      <th>1065407</th>\n",
       "      <td>Bronx</td>\n",
       "      <td>7000001.0</td>\n",
       "      <td>1178.0</td>\n",
       "      <td>Bronx-Lebanon Hospital Center - Concourse Divi...</td>\n",
       "      <td>70 or Older</td>\n",
       "      <td>104</td>\n",
       "      <td>F</td>\n",
       "      <td>Black/African American</td>\n",
       "      <td>Not Span/Hispanic</td>\n",
       "      <td>5</td>\n",
       "      <td>...</td>\n",
       "      <td>Major</td>\n",
       "      <td>Medical</td>\n",
       "      <td>Medicare</td>\n",
       "      <td>Medicare</td>\n",
       "      <td>Medicaid</td>\n",
       "      <td>0</td>\n",
       "      <td>N</td>\n",
       "      <td>Y</td>\n",
       "      <td>14171.30</td>\n",
       "      <td>16734.73</td>\n",
       "    </tr>\n",
       "    <tr>\n",
       "      <th>1065408</th>\n",
       "      <td>Bronx</td>\n",
       "      <td>7000001.0</td>\n",
       "      <td>1178.0</td>\n",
       "      <td>Bronx-Lebanon Hospital Center - Concourse Divi...</td>\n",
       "      <td>50 to 69</td>\n",
       "      <td>104</td>\n",
       "      <td>F</td>\n",
       "      <td>Black/African American</td>\n",
       "      <td>Not Span/Hispanic</td>\n",
       "      <td>9</td>\n",
       "      <td>...</td>\n",
       "      <td>Extreme</td>\n",
       "      <td>Medical</td>\n",
       "      <td>Medicare</td>\n",
       "      <td>Medicare</td>\n",
       "      <td>Medicaid</td>\n",
       "      <td>0</td>\n",
       "      <td>N</td>\n",
       "      <td>Y</td>\n",
       "      <td>27666.71</td>\n",
       "      <td>29439.26</td>\n",
       "    </tr>\n",
       "  </tbody>\n",
       "</table>\n",
       "<p>31978 rows × 28 columns</p>\n",
       "</div>"
      ],
      "text/plain": [
       "        Hospital County  Operating Certificate Number  Facility Id  \\\n",
       "905707            Bronx                     7000001.0       1164.0   \n",
       "905777            Bronx                     7000001.0       1164.0   \n",
       "911991            Bronx                     7000001.0       1164.0   \n",
       "912090            Bronx                     7000001.0       1164.0   \n",
       "912212            Bronx                     7000001.0       1164.0   \n",
       "...                 ...                           ...          ...   \n",
       "1065404           Bronx                     7000001.0       1178.0   \n",
       "1065405           Bronx                     7000001.0       1178.0   \n",
       "1065406           Bronx                     7000001.0       1178.0   \n",
       "1065407           Bronx                     7000001.0       1178.0   \n",
       "1065408           Bronx                     7000001.0       1178.0   \n",
       "\n",
       "                                             Facility Name    Age Group  \\\n",
       "905707     Bronx-Lebanon Hospital Center - Fulton Division     50 to 69   \n",
       "905777     Bronx-Lebanon Hospital Center - Fulton Division     18 to 29   \n",
       "911991     Bronx-Lebanon Hospital Center - Fulton Division     50 to 69   \n",
       "912090     Bronx-Lebanon Hospital Center - Fulton Division     18 to 29   \n",
       "912212     Bronx-Lebanon Hospital Center - Fulton Division     50 to 69   \n",
       "...                                                    ...          ...   \n",
       "1065404  Bronx-Lebanon Hospital Center - Concourse Divi...     18 to 29   \n",
       "1065405  Bronx-Lebanon Hospital Center - Concourse Divi...     30 to 49   \n",
       "1065406  Bronx-Lebanon Hospital Center - Concourse Divi...      0 to 17   \n",
       "1065407  Bronx-Lebanon Hospital Center - Concourse Divi...  70 or Older   \n",
       "1065408  Bronx-Lebanon Hospital Center - Concourse Divi...     50 to 69   \n",
       "\n",
       "        Zip Code - 3 digits Gender                    Race          Ethnicity  \\\n",
       "905707                  104      M                   White  Not Span/Hispanic   \n",
       "905777                  104      M              Other Race            Unknown   \n",
       "911991                  104      F              Other Race            Unknown   \n",
       "912090                  104      M              Other Race            Unknown   \n",
       "912212                  104      M              Other Race   Spanish/Hispanic   \n",
       "...                     ...    ...                     ...                ...   \n",
       "1065404                 104      F              Other Race            Unknown   \n",
       "1065405                 104      F              Other Race            Unknown   \n",
       "1065406                 104      F              Other Race   Spanish/Hispanic   \n",
       "1065407                 104      F  Black/African American  Not Span/Hispanic   \n",
       "1065408                 104      F  Black/African American  Not Span/Hispanic   \n",
       "\n",
       "        Length of Stay  ... APR Risk of Mortality  \\\n",
       "905707               3  ...                 Minor   \n",
       "905777              11  ...                 Minor   \n",
       "911991               6  ...                 Minor   \n",
       "912090              22  ...                 Minor   \n",
       "912212               3  ...                 Minor   \n",
       "...                ...  ...                   ...   \n",
       "1065404              2  ...                 Minor   \n",
       "1065405              2  ...                 Minor   \n",
       "1065406              3  ...                 Minor   \n",
       "1065407              5  ...                 Major   \n",
       "1065408              9  ...               Extreme   \n",
       "\n",
       "        APR Medical Surgical Description        Payment Typology 1  \\\n",
       "905707                           Medical                  Medicaid   \n",
       "905777                           Medical                  Medicaid   \n",
       "911991                           Medical                  Medicaid   \n",
       "912090                           Medical                  Medicaid   \n",
       "912212                           Medical                  Medicaid   \n",
       "...                                  ...                       ...   \n",
       "1065404                          Medical                  Medicaid   \n",
       "1065405                          Medical                  Medicaid   \n",
       "1065406                          Medical  Private Health Insurance   \n",
       "1065407                          Medical                  Medicare   \n",
       "1065408                          Medical                  Medicare   \n",
       "\n",
       "               Payment Typology 2  Payment Typology 3  Birth Weight  \\\n",
       "905707                        NaN                 NaN             0   \n",
       "905777                        NaN                 NaN             0   \n",
       "911991                        NaN                 NaN             0   \n",
       "912090                        NaN                 NaN             0   \n",
       "912212                        NaN                 NaN             0   \n",
       "...                           ...                 ...           ...   \n",
       "1065404                  Medicaid                 NaN             0   \n",
       "1065405                       NaN                 NaN             0   \n",
       "1065406  Private Health Insurance            Medicaid             0   \n",
       "1065407                  Medicare            Medicaid             0   \n",
       "1065408                  Medicare            Medicaid             0   \n",
       "\n",
       "         Abortion Edit Indicator  Emergency Department Indicator  \\\n",
       "905707                         N                               Y   \n",
       "905777                         N                               N   \n",
       "911991                         N                               N   \n",
       "912090                         N                               Y   \n",
       "912212                         N                               Y   \n",
       "...                          ...                             ...   \n",
       "1065404                        N                               N   \n",
       "1065405                        N                               N   \n",
       "1065406                        N                               Y   \n",
       "1065407                        N                               Y   \n",
       "1065408                        N                               Y   \n",
       "\n",
       "        Total Charges Total Costs  \n",
       "905707        9004.46     7831.22  \n",
       "905777       18290.67    16470.61  \n",
       "911991       10959.98    10114.66  \n",
       "912090       32614.70    29786.31  \n",
       "912212        7838.81     7002.57  \n",
       "...               ...         ...  \n",
       "1065404       7194.54     8400.69  \n",
       "1065405       9129.09     9080.43  \n",
       "1065406      14112.64    10711.62  \n",
       "1065407      14171.30    16734.73  \n",
       "1065408      27666.71    29439.26  \n",
       "\n",
       "[31978 rows x 28 columns]"
      ]
     },
     "metadata": {},
     "output_type": "display_data"
    }
   ],
   "source": [
    "Bronx_df= pd.concat(l)\n",
    "display(Bronx_df)"
   ]
  },
  {
   "cell_type": "code",
   "execution_count": 65,
   "id": "9ffbf99c",
   "metadata": {
    "execution": {
     "iopub.execute_input": "2023-02-21T20:37:13.547657Z",
     "iopub.status.busy": "2023-02-21T20:37:13.546921Z",
     "iopub.status.idle": "2023-02-21T20:37:13.570862Z",
     "shell.execute_reply": "2023-02-21T20:37:13.569497Z"
    },
    "id": "baf0c0b4",
    "outputId": "2e059bd9-c0ab-4bd6-cd95-3b349df28f24",
    "papermill": {
     "duration": 0.100382,
     "end_time": "2023-02-21T20:37:13.573981",
     "exception": false,
     "start_time": "2023-02-21T20:37:13.473599",
     "status": "completed"
    },
    "tags": []
   },
   "outputs": [
    {
     "name": "stdout",
     "output_type": "stream",
     "text": [
      "<class 'pandas.core.frame.DataFrame'>\n",
      "Int64Index: 31978 entries, 905707 to 1065408\n",
      "Data columns (total 28 columns):\n",
      " #   Column                            Non-Null Count  Dtype   \n",
      "---  ------                            --------------  -----   \n",
      " 0   Hospital County                   31978 non-null  category\n",
      " 1   Operating Certificate Number      31978 non-null  float64 \n",
      " 2   Facility Id                       31978 non-null  float64 \n",
      " 3   Facility Name                     31978 non-null  object  \n",
      " 4   Age Group                         31978 non-null  category\n",
      " 5   Zip Code - 3 digits               31061 non-null  category\n",
      " 6   Gender                            31978 non-null  category\n",
      " 7   Race                              31978 non-null  category\n",
      " 8   Ethnicity                         31978 non-null  category\n",
      " 9   Length of Stay                    31978 non-null  category\n",
      " 10  Type of Admission                 31978 non-null  category\n",
      " 11  Patient Disposition               31978 non-null  category\n",
      " 12  Discharge Year                    31978 non-null  int64   \n",
      " 13  CCS Diagnosis Code                31978 non-null  int64   \n",
      " 14  CCS Procedure Code                31978 non-null  int64   \n",
      " 15  APR DRG Code                      31978 non-null  int64   \n",
      " 16  APR MDC Code                      31978 non-null  int64   \n",
      " 17  APR Severity of Illness Code      31978 non-null  int64   \n",
      " 18  APR Risk of Mortality             31966 non-null  category\n",
      " 19  APR Medical Surgical Description  31978 non-null  category\n",
      " 20  Payment Typology 1                31978 non-null  category\n",
      " 21  Payment Typology 2                22458 non-null  category\n",
      " 22  Payment Typology 3                3818 non-null   category\n",
      " 23  Birth Weight                      31978 non-null  int64   \n",
      " 24  Abortion Edit Indicator           31978 non-null  category\n",
      " 25  Emergency Department Indicator    31978 non-null  category\n",
      " 26  Total Charges                     31978 non-null  float64 \n",
      " 27  Total Costs                       31978 non-null  float64 \n",
      "dtypes: category(16), float64(4), int64(7), object(1)\n",
      "memory usage: 3.7+ MB\n"
     ]
    }
   ],
   "source": [
    "Bronx_df.info()"
   ]
  },
  {
   "cell_type": "code",
   "execution_count": 66,
   "id": "0adb299a",
   "metadata": {
    "execution": {
     "iopub.execute_input": "2023-02-21T20:37:13.724150Z",
     "iopub.status.busy": "2023-02-21T20:37:13.722625Z",
     "iopub.status.idle": "2023-02-21T20:37:13.733480Z",
     "shell.execute_reply": "2023-02-21T20:37:13.732412Z"
    },
    "id": "3b2298ec",
    "papermill": {
     "duration": 0.088398,
     "end_time": "2023-02-21T20:37:13.736394",
     "exception": false,
     "start_time": "2023-02-21T20:37:13.647996",
     "status": "completed"
    },
    "tags": []
   },
   "outputs": [],
   "source": [
    "Bronx_df = Bronx_df.drop([\"Payment Typology 2\",    \"Payment Typology 3\"], axis=1)"
   ]
  },
  {
   "cell_type": "code",
   "execution_count": 67,
   "id": "50f8948e",
   "metadata": {
    "execution": {
     "iopub.execute_input": "2023-02-21T20:37:13.886404Z",
     "iopub.status.busy": "2023-02-21T20:37:13.886009Z",
     "iopub.status.idle": "2023-02-21T20:37:13.965216Z",
     "shell.execute_reply": "2023-02-21T20:37:13.964047Z"
    },
    "id": "7ad99e6b",
    "outputId": "e846026d-f2e2-47e4-d5d9-236da58de0be",
    "papermill": {
     "duration": 0.159959,
     "end_time": "2023-02-21T20:37:13.969383",
     "exception": false,
     "start_time": "2023-02-21T20:37:13.809424",
     "status": "completed"
    },
    "tags": []
   },
   "outputs": [
    {
     "name": "stdout",
     "output_type": "stream",
     "text": [
      "Hospital County : 1\n",
      "Bronx          31978\n",
      "Albany             0\n",
      "Schenectady        0\n",
      "Onondaga           0\n",
      "Ontario            0\n",
      "Name: Hospital County, dtype: int64\n",
      "\n",
      "********************\n",
      "\n",
      "Operating Certificate Number : 1\n",
      "7000001.0    31978\n",
      "Name: Operating Certificate Number, dtype: int64\n",
      "\n",
      "********************\n",
      "\n",
      "Facility Id : 2\n",
      "1178.0    27369\n",
      "1164.0     4609\n",
      "Name: Facility Id, dtype: int64\n",
      "\n",
      "********************\n",
      "\n",
      "Facility Name : 2\n",
      "Bronx-Lebanon Hospital Center - Concourse Division    27369\n",
      "Bronx-Lebanon Hospital Center - Fulton Division        4609\n",
      "Name: Facility Name, dtype: int64\n",
      "\n",
      "********************\n",
      "\n",
      "Age Group : 5\n",
      "50 to 69       10654\n",
      "30 to 49        8444\n",
      "0 to 17         4601\n",
      "70 or Older     4206\n",
      "18 to 29        4073\n",
      "Name: Age Group, dtype: int64\n",
      "\n",
      "********************\n",
      "\n",
      "Zip Code - 3 digits : 20\n",
      "104    28864\n",
      "100     1010\n",
      "OOS      480\n",
      "112      358\n",
      "114      101\n",
      "Name: Zip Code - 3 digits, dtype: int64\n",
      "\n",
      "********************\n",
      "\n",
      "Gender : 2\n",
      "F    17142\n",
      "M    14836\n",
      "U        0\n",
      "Name: Gender, dtype: int64\n",
      "\n",
      "********************\n",
      "\n",
      "Race : 3\n",
      "Other Race                19618\n",
      "Black/African American    11211\n",
      "White                      1149\n",
      "Multi-racial                  0\n",
      "Name: Race, dtype: int64\n",
      "\n",
      "********************\n",
      "\n",
      "Ethnicity : 3\n",
      "Not Span/Hispanic    12052\n",
      "Unknown              11700\n",
      "Spanish/Hispanic      8226\n",
      "Multi-ethnic             0\n",
      "Name: Ethnicity, dtype: int64\n",
      "\n",
      "********************\n",
      "\n",
      "Length of Stay : 177\n",
      "2    4312\n",
      "2    3463\n",
      "3    3307\n",
      "3    2985\n",
      "1    2786\n",
      "Name: Length of Stay, dtype: int64\n",
      "\n",
      "********************\n",
      "\n",
      "Type of Admission : 4\n",
      "Emergency        23007\n",
      "Elective          4378\n",
      "Urgent            2356\n",
      "Newborn           2237\n",
      "Not Available        0\n",
      "Name: Type of Admission, dtype: int64\n",
      "\n",
      "********************\n",
      "\n",
      "Patient Disposition : 13\n",
      "Home or Self Care                    24402\n",
      "Home w/ Home Health Services          1905\n",
      "Left Against Medical Advice           1676\n",
      "Skilled Nursing Home                  1653\n",
      "Inpatient Rehabilitation Facility      473\n",
      "Name: Patient Disposition, dtype: int64\n",
      "\n",
      "********************\n",
      "\n",
      "Discharge Year : 1\n",
      "2015    31978\n",
      "Name: Discharge Year, dtype: int64\n",
      "\n",
      "********************\n",
      "\n",
      "CCS Diagnosis Code : 244\n",
      "218    2230\n",
      "660    1382\n",
      "102    1231\n",
      "661    1193\n",
      "659    1171\n",
      "Name: CCS Diagnosis Code, dtype: int64\n",
      "\n",
      "********************\n",
      "\n",
      "CCS Procedure Code : 201\n",
      "0      9904\n",
      "218    2038\n",
      "219    1924\n",
      "228    1570\n",
      "216    1274\n",
      "Name: CCS Procedure Code, dtype: int64\n",
      "\n",
      "********************\n",
      "\n",
      "APR DRG Code : 281\n",
      "640    1831\n",
      "560    1333\n",
      "750    1041\n",
      "203     980\n",
      "540     821\n",
      "Name: APR DRG Code, dtype: int64\n",
      "\n",
      "********************\n",
      "\n",
      "APR MDC Code : 25\n",
      "5     4109\n",
      "4     3395\n",
      "14    2730\n",
      "6     2668\n",
      "19    2529\n",
      "Name: APR MDC Code, dtype: int64\n",
      "\n",
      "********************\n",
      "\n",
      "APR Severity of Illness Code : 5\n",
      "2    15090\n",
      "1     9369\n",
      "3     6214\n",
      "4     1293\n",
      "0       12\n",
      "Name: APR Severity of Illness Code, dtype: int64\n",
      "\n",
      "********************\n",
      "\n",
      "APR Risk of Mortality : 4\n",
      "Minor       21295\n",
      "Moderate     6759\n",
      "Major        2886\n",
      "Extreme      1026\n",
      "Name: APR Risk of Mortality, dtype: int64\n",
      "\n",
      "********************\n",
      "\n",
      "APR Medical Surgical Description : 3\n",
      "Medical           27761\n",
      "Surgical           4205\n",
      "Not Applicable       12\n",
      "Name: APR Medical Surgical Description, dtype: int64\n",
      "\n",
      "********************\n",
      "\n",
      "Payment Typology 1 : 7\n",
      "Medicaid                    21613\n",
      "Medicare                     7283\n",
      "Private Health Insurance     1672\n",
      "Blue Cross/Blue Shield        660\n",
      "Miscellaneous/Other           553\n",
      "Name: Payment Typology 1, dtype: int64\n",
      "\n",
      "********************\n",
      "\n",
      "Birth Weight : 48\n",
      "0       29668\n",
      "3100      217\n",
      "3200      205\n",
      "3300      176\n",
      "3500      175\n",
      "Name: Birth Weight, dtype: int64\n",
      "\n",
      "********************\n",
      "\n",
      "Abortion Edit Indicator : 1\n",
      "N    31978\n",
      "Y        0\n",
      "Name: Abortion Edit Indicator, dtype: int64\n",
      "\n",
      "********************\n",
      "\n",
      "Emergency Department Indicator : 2\n",
      "Y    22195\n",
      "N     9783\n",
      "Name: Emergency Department Indicator, dtype: int64\n",
      "\n",
      "********************\n",
      "\n",
      "Total Charges : 30682\n",
      "4052.71    131\n",
      "4524.17    122\n",
      "4924.17    107\n",
      "4452.71     81\n",
      "4522.88     46\n",
      "Name: Total Charges, dtype: int64\n",
      "\n",
      "********************\n",
      "\n",
      "Total Costs : 30657\n",
      "3598.09    131\n",
      "3771.34    122\n",
      "4072.34    107\n",
      "3899.09     81\n",
      "3770.04     46\n",
      "Name: Total Costs, dtype: int64\n",
      "\n",
      "********************\n",
      "\n"
     ]
    }
   ],
   "source": [
    "for col in Bronx_df.columns:\n",
    "    print( col,':', Bronx_df[col].nunique() )#Num of unique values\n",
    "    print(Bronx_df[col].value_counts().nlargest(5)) #Most 5 frequent values\n",
    "    print('\\n' + '*' * 20 + '\\n')"
   ]
  },
  {
   "cell_type": "code",
   "execution_count": 68,
   "id": "e0d286e4",
   "metadata": {
    "execution": {
     "iopub.execute_input": "2023-02-21T20:37:14.120553Z",
     "iopub.status.busy": "2023-02-21T20:37:14.119820Z",
     "iopub.status.idle": "2023-02-21T20:37:14.127616Z",
     "shell.execute_reply": "2023-02-21T20:37:14.126306Z"
    },
    "id": "0e0178d5",
    "papermill": {
     "duration": 0.086208,
     "end_time": "2023-02-21T20:37:14.131029",
     "exception": false,
     "start_time": "2023-02-21T20:37:14.044821",
     "status": "completed"
    },
    "tags": []
   },
   "outputs": [],
   "source": [
    " #   simple mapping on binary features.\n",
    "Bronx_df['Abortion Edit Indicator'] = Bronx_df['Abortion Edit Indicator'].apply(\n",
    "     lambda x: 1 if x == 'Y' else (0 if x == 'N' else None))\n",
    "Bronx_df['Emergency Department Indicator'] = Bronx_df['Emergency Department Indicator'].apply(\n",
    "    lambda x: 1 if x == 'Y' else (0 if x == 'N' else None))"
   ]
  },
  {
   "cell_type": "code",
   "execution_count": 69,
   "id": "36bd5521",
   "metadata": {
    "execution": {
     "iopub.execute_input": "2023-02-21T20:37:14.278685Z",
     "iopub.status.busy": "2023-02-21T20:37:14.278270Z",
     "iopub.status.idle": "2023-02-21T20:37:14.298041Z",
     "shell.execute_reply": "2023-02-21T20:37:14.296739Z"
    },
    "id": "7fc42900",
    "papermill": {
     "duration": 0.096181,
     "end_time": "2023-02-21T20:37:14.300898",
     "exception": false,
     "start_time": "2023-02-21T20:37:14.204717",
     "status": "completed"
    },
    "tags": []
   },
   "outputs": [],
   "source": [
    "Bronx_df[\"Length of Stay\"]=pd.to_numeric(Bronx_df[\"Length of Stay\"],errors='coerce')\n"
   ]
  },
  {
   "cell_type": "code",
   "execution_count": 70,
   "id": "53d5f4ec",
   "metadata": {
    "execution": {
     "iopub.execute_input": "2023-02-21T20:37:14.447558Z",
     "iopub.status.busy": "2023-02-21T20:37:14.447148Z",
     "iopub.status.idle": "2023-02-21T20:37:14.573730Z",
     "shell.execute_reply": "2023-02-21T20:37:14.572336Z"
    },
    "id": "031e92a8",
    "papermill": {
     "duration": 0.203637,
     "end_time": "2023-02-21T20:37:14.576592",
     "exception": false,
     "start_time": "2023-02-21T20:37:14.372955",
     "status": "completed"
    },
    "tags": []
   },
   "outputs": [],
   "source": [
    "list=  [ \"Hospital County\",\"Age Group\"\n",
    "    ,\"Gender\",   \n",
    " \"Race\" , \n",
    "\"Ethnicity\", \n",
    "\"Gender\" , \n",
    "\"Race\" ,    \n",
    " \"Ethnicity\" ,        \n",
    " \"Type of Admission\"  ,  \n",
    "  \"Patient Disposition\",      \n",
    " \"Type of Admission\" ,  \n",
    " \"Patient Disposition\"  ,\n",
    "  \"APR Risk of Mortality\" ,   \n",
    " \"APR Medical Surgical Description\" ,\n",
    " \"Payment Typology 1\"   ,   \n",
    " \"Abortion Edit Indicator\"     ,  \n",
    " \"Emergency Department Indicator\",\n",
    "       \"Zip Code - 3 digits\",'Facility Name']  \n",
    "\n",
    "# Import label encoder\n",
    "from sklearn import preprocessing\n",
    "  \n",
    "# label_encoder object knows how to understand word labels.\n",
    "label_encoder = preprocessing.LabelEncoder()\n",
    "  \n",
    "# Encode labels in column 'species'.\n",
    "for col in list :\n",
    "  Bronx_df[col]= label_encoder.fit_transform(Bronx_df[col])"
   ]
  },
  {
   "cell_type": "code",
   "execution_count": 71,
   "id": "cf17a809",
   "metadata": {
    "execution": {
     "iopub.execute_input": "2023-02-21T20:37:14.724788Z",
     "iopub.status.busy": "2023-02-21T20:37:14.724082Z",
     "iopub.status.idle": "2023-02-21T20:37:14.743291Z",
     "shell.execute_reply": "2023-02-21T20:37:14.741894Z"
    },
    "id": "d717a5f4",
    "outputId": "0eb33d6d-bd8a-4352-cd3a-c970b7e4bd79",
    "papermill": {
     "duration": 0.096666,
     "end_time": "2023-02-21T20:37:14.746760",
     "exception": false,
     "start_time": "2023-02-21T20:37:14.650094",
     "status": "completed"
    },
    "tags": []
   },
   "outputs": [
    {
     "name": "stdout",
     "output_type": "stream",
     "text": [
      "<class 'pandas.core.frame.DataFrame'>\n",
      "Int64Index: 31978 entries, 905707 to 1065408\n",
      "Data columns (total 26 columns):\n",
      " #   Column                            Non-Null Count  Dtype  \n",
      "---  ------                            --------------  -----  \n",
      " 0   Hospital County                   31978 non-null  int64  \n",
      " 1   Operating Certificate Number      31978 non-null  float64\n",
      " 2   Facility Id                       31978 non-null  float64\n",
      " 3   Facility Name                     31978 non-null  int64  \n",
      " 4   Age Group                         31978 non-null  int64  \n",
      " 5   Zip Code - 3 digits               31978 non-null  int64  \n",
      " 6   Gender                            31978 non-null  int64  \n",
      " 7   Race                              31978 non-null  int64  \n",
      " 8   Ethnicity                         31978 non-null  int64  \n",
      " 9   Length of Stay                    31951 non-null  float64\n",
      " 10  Type of Admission                 31978 non-null  int64  \n",
      " 11  Patient Disposition               31978 non-null  int64  \n",
      " 12  Discharge Year                    31978 non-null  int64  \n",
      " 13  CCS Diagnosis Code                31978 non-null  int64  \n",
      " 14  CCS Procedure Code                31978 non-null  int64  \n",
      " 15  APR DRG Code                      31978 non-null  int64  \n",
      " 16  APR MDC Code                      31978 non-null  int64  \n",
      " 17  APR Severity of Illness Code      31978 non-null  int64  \n",
      " 18  APR Risk of Mortality             31978 non-null  int64  \n",
      " 19  APR Medical Surgical Description  31978 non-null  int64  \n",
      " 20  Payment Typology 1                31978 non-null  int64  \n",
      " 21  Birth Weight                      31978 non-null  int64  \n",
      " 22  Abortion Edit Indicator           31978 non-null  int64  \n",
      " 23  Emergency Department Indicator    31978 non-null  int64  \n",
      " 24  Total Charges                     31978 non-null  float64\n",
      " 25  Total Costs                       31978 non-null  float64\n",
      "dtypes: float64(5), int64(21)\n",
      "memory usage: 6.6 MB\n"
     ]
    }
   ],
   "source": [
    "Bronx_df.info()\n"
   ]
  },
  {
   "cell_type": "code",
   "execution_count": 72,
   "id": "a26fdccd",
   "metadata": {
    "execution": {
     "iopub.execute_input": "2023-02-21T20:37:14.894978Z",
     "iopub.status.busy": "2023-02-21T20:37:14.894253Z",
     "iopub.status.idle": "2023-02-21T20:37:14.910945Z",
     "shell.execute_reply": "2023-02-21T20:37:14.909371Z"
    },
    "id": "81a81585",
    "papermill": {
     "duration": 0.093867,
     "end_time": "2023-02-21T20:37:14.913822",
     "exception": false,
     "start_time": "2023-02-21T20:37:14.819955",
     "status": "completed"
    },
    "tags": []
   },
   "outputs": [],
   "source": [
    " Bronx_df.dropna(inplace=True)\n"
   ]
  },
  {
   "cell_type": "code",
   "execution_count": 73,
   "id": "8e37f0af",
   "metadata": {
    "execution": {
     "iopub.execute_input": "2023-02-21T20:37:15.061477Z",
     "iopub.status.busy": "2023-02-21T20:37:15.060515Z",
     "iopub.status.idle": "2023-02-21T20:37:15.068151Z",
     "shell.execute_reply": "2023-02-21T20:37:15.067174Z"
    },
    "id": "492ab982",
    "papermill": {
     "duration": 0.083893,
     "end_time": "2023-02-21T20:37:15.071003",
     "exception": false,
     "start_time": "2023-02-21T20:37:14.987110",
     "status": "completed"
    },
    "tags": []
   },
   "outputs": [],
   "source": [
    "x = Bronx_df.drop([\"Length of Stay\"], axis =1)\n",
    "y = Bronx_df[\"Length of Stay\"]"
   ]
  },
  {
   "cell_type": "code",
   "execution_count": 74,
   "id": "3b505c46",
   "metadata": {
    "execution": {
     "iopub.execute_input": "2023-02-21T20:37:15.220074Z",
     "iopub.status.busy": "2023-02-21T20:37:15.219318Z",
     "iopub.status.idle": "2023-02-21T20:37:15.233468Z",
     "shell.execute_reply": "2023-02-21T20:37:15.232188Z"
    },
    "id": "e2827293",
    "papermill": {
     "duration": 0.090472,
     "end_time": "2023-02-21T20:37:15.236205",
     "exception": false,
     "start_time": "2023-02-21T20:37:15.145733",
     "status": "completed"
    },
    "tags": []
   },
   "outputs": [],
   "source": [
    "from sklearn.model_selection import train_test_split\n",
    "x_train, x_test, y_train, y_test = train_test_split(x, y, test_size=0.3, random_state=42)"
   ]
  },
  {
   "cell_type": "code",
   "execution_count": 75,
   "id": "1f2fc1f4",
   "metadata": {
    "execution": {
     "iopub.execute_input": "2023-02-21T20:37:15.384972Z",
     "iopub.status.busy": "2023-02-21T20:37:15.384520Z",
     "iopub.status.idle": "2023-02-21T20:37:15.417455Z",
     "shell.execute_reply": "2023-02-21T20:37:15.415801Z"
    },
    "id": "47ae9183",
    "papermill": {
     "duration": 0.112656,
     "end_time": "2023-02-21T20:37:15.422152",
     "exception": false,
     "start_time": "2023-02-21T20:37:15.309496",
     "status": "completed"
    },
    "tags": []
   },
   "outputs": [],
   "source": [
    "# Linear Regression\n",
    "\n",
    "LR = LinearRegression()\n",
    "LR.fit(x_train, y_train)\n",
    "LR.score(x_train, y_train)\n",
    "y_pred =LR.predict(x_test)"
   ]
  },
  {
   "cell_type": "code",
   "execution_count": 76,
   "id": "4e6f019c",
   "metadata": {
    "execution": {
     "iopub.execute_input": "2023-02-21T20:37:15.696711Z",
     "iopub.status.busy": "2023-02-21T20:37:15.696269Z",
     "iopub.status.idle": "2023-02-21T20:37:15.705392Z",
     "shell.execute_reply": "2023-02-21T20:37:15.704230Z"
    },
    "id": "e456fd68",
    "outputId": "17c2bacf-68b9-40c0-85cc-4719d3c49b7b",
    "papermill": {
     "duration": 0.140986,
     "end_time": "2023-02-21T20:37:15.707714",
     "exception": false,
     "start_time": "2023-02-21T20:37:15.566728",
     "status": "completed"
    },
    "tags": []
   },
   "outputs": [
    {
     "data": {
      "text/plain": [
       "0.8376128349444951"
      ]
     },
     "execution_count": 76,
     "metadata": {},
     "output_type": "execute_result"
    }
   ],
   "source": [
    "r2 = r2_score(y_test, y_pred)\n",
    "r2 "
   ]
  },
  {
   "cell_type": "code",
   "execution_count": 77,
   "id": "43c82730",
   "metadata": {
    "execution": {
     "iopub.execute_input": "2023-02-21T20:37:15.857790Z",
     "iopub.status.busy": "2023-02-21T20:37:15.857356Z",
     "iopub.status.idle": "2023-02-21T20:37:15.865442Z",
     "shell.execute_reply": "2023-02-21T20:37:15.864615Z"
    },
    "id": "abad97c7",
    "outputId": "ae1aa96d-097f-4b38-fb7f-e390d759af9d",
    "papermill": {
     "duration": 0.085579,
     "end_time": "2023-02-21T20:37:15.867624",
     "exception": false,
     "start_time": "2023-02-21T20:37:15.782045",
     "status": "completed"
    },
    "tags": []
   },
   "outputs": [
    {
     "data": {
      "text/plain": [
       "1.5959481188252358"
      ]
     },
     "execution_count": 77,
     "metadata": {},
     "output_type": "execute_result"
    }
   ],
   "source": [
    "# calculate the MAE of the model\n",
    "mae = mean_absolute_error(y_test, y_pred)\n",
    "mae"
   ]
  },
  {
   "cell_type": "code",
   "execution_count": 78,
   "id": "e6af93ab",
   "metadata": {
    "execution": {
     "iopub.execute_input": "2023-02-21T20:37:16.015925Z",
     "iopub.status.busy": "2023-02-21T20:37:16.015196Z",
     "iopub.status.idle": "2023-02-21T20:37:16.022329Z",
     "shell.execute_reply": "2023-02-21T20:37:16.021449Z"
    },
    "id": "c12ff32c",
    "outputId": "c8c4ef3d-a305-4f76-820b-130277a85a71",
    "papermill": {
     "duration": 0.083194,
     "end_time": "2023-02-21T20:37:16.024652",
     "exception": false,
     "start_time": "2023-02-21T20:37:15.941458",
     "status": "completed"
    },
    "tags": []
   },
   "outputs": [
    {
     "data": {
      "text/plain": [
       "9.830664824520944"
      ]
     },
     "execution_count": 78,
     "metadata": {},
     "output_type": "execute_result"
    }
   ],
   "source": [
    "# calculate the MSE of the model\n",
    "mse = mean_squared_error(y_test, y_pred)\n",
    "mse"
   ]
  },
  {
   "cell_type": "code",
   "execution_count": 79,
   "id": "b6725960",
   "metadata": {
    "execution": {
     "iopub.execute_input": "2023-02-21T20:37:16.172171Z",
     "iopub.status.busy": "2023-02-21T20:37:16.171720Z",
     "iopub.status.idle": "2023-02-21T20:37:16.178285Z",
     "shell.execute_reply": "2023-02-21T20:37:16.177368Z"
    },
    "id": "21ed57e0",
    "outputId": "30309f87-fb68-4f8d-bb95-92a012bd9fd9",
    "papermill": {
     "duration": 0.08338,
     "end_time": "2023-02-21T20:37:16.180345",
     "exception": false,
     "start_time": "2023-02-21T20:37:16.096965",
     "status": "completed"
    },
    "tags": []
   },
   "outputs": [
    {
     "data": {
      "text/plain": [
       "3.1353891025709943"
      ]
     },
     "execution_count": 79,
     "metadata": {},
     "output_type": "execute_result"
    }
   ],
   "source": [
    "# calculate the RMSE of the model\n",
    "rmse = np.sqrt(mse)\n",
    "rmse"
   ]
  },
  {
   "cell_type": "code",
   "execution_count": 80,
   "id": "65c47ffd",
   "metadata": {
    "execution": {
     "iopub.execute_input": "2023-02-21T20:37:16.329410Z",
     "iopub.status.busy": "2023-02-21T20:37:16.328788Z",
     "iopub.status.idle": "2023-02-21T20:37:16.409927Z",
     "shell.execute_reply": "2023-02-21T20:37:16.408172Z"
    },
    "id": "55b8a83d",
    "papermill": {
     "duration": 0.160682,
     "end_time": "2023-02-21T20:37:16.414750",
     "exception": false,
     "start_time": "2023-02-21T20:37:16.254068",
     "status": "completed"
    },
    "tags": []
   },
   "outputs": [],
   "source": [
    "# LASSO\n",
    "L1 = linear_model.Lasso()\n",
    "L1.fit(x_train,y_train)\n",
    "y_pred1 = L1.predict(x_test)"
   ]
  },
  {
   "cell_type": "code",
   "execution_count": 81,
   "id": "e83e3ffa",
   "metadata": {
    "execution": {
     "iopub.execute_input": "2023-02-21T20:37:16.635007Z",
     "iopub.status.busy": "2023-02-21T20:37:16.634595Z",
     "iopub.status.idle": "2023-02-21T20:37:16.641898Z",
     "shell.execute_reply": "2023-02-21T20:37:16.640739Z"
    },
    "id": "1ca6d14d",
    "outputId": "e8986cbb-69b4-4b9e-bf89-39ffa4b8ad18",
    "papermill": {
     "duration": 0.084173,
     "end_time": "2023-02-21T20:37:16.644078",
     "exception": false,
     "start_time": "2023-02-21T20:37:16.559905",
     "status": "completed"
    },
    "tags": []
   },
   "outputs": [
    {
     "data": {
      "text/plain": [
       "0.8157805173305335"
      ]
     },
     "execution_count": 81,
     "metadata": {},
     "output_type": "execute_result"
    }
   ],
   "source": [
    "r2 = r2_score(y_test, y_pred1)\n",
    "r2 "
   ]
  },
  {
   "cell_type": "code",
   "execution_count": 82,
   "id": "a7a3a900",
   "metadata": {
    "execution": {
     "iopub.execute_input": "2023-02-21T20:37:16.792495Z",
     "iopub.status.busy": "2023-02-21T20:37:16.791863Z",
     "iopub.status.idle": "2023-02-21T20:37:16.798856Z",
     "shell.execute_reply": "2023-02-21T20:37:16.797416Z"
    },
    "id": "550a78e3",
    "outputId": "74be45d4-f3aa-430e-f31d-da06b58091d8",
    "papermill": {
     "duration": 0.083595,
     "end_time": "2023-02-21T20:37:16.801286",
     "exception": false,
     "start_time": "2023-02-21T20:37:16.717691",
     "status": "completed"
    },
    "tags": []
   },
   "outputs": [
    {
     "data": {
      "text/plain": [
       "1.739528477025208"
      ]
     },
     "execution_count": 82,
     "metadata": {},
     "output_type": "execute_result"
    }
   ],
   "source": [
    "# calculate the MAE of the model\n",
    "mae = mean_absolute_error(y_test, y_pred1)\n",
    "mae"
   ]
  },
  {
   "cell_type": "code",
   "execution_count": 83,
   "id": "95fb8e68",
   "metadata": {
    "execution": {
     "iopub.execute_input": "2023-02-21T20:37:16.962154Z",
     "iopub.status.busy": "2023-02-21T20:37:16.961490Z",
     "iopub.status.idle": "2023-02-21T20:37:16.971014Z",
     "shell.execute_reply": "2023-02-21T20:37:16.970131Z"
    },
    "id": "eae733fe",
    "outputId": "f37529b2-30a7-462f-f471-1a312bf89e7d",
    "papermill": {
     "duration": 0.103113,
     "end_time": "2023-02-21T20:37:16.978040",
     "exception": false,
     "start_time": "2023-02-21T20:37:16.874927",
     "status": "completed"
    },
    "tags": []
   },
   "outputs": [
    {
     "data": {
      "text/plain": [
       "11.152359163676266"
      ]
     },
     "execution_count": 83,
     "metadata": {},
     "output_type": "execute_result"
    }
   ],
   "source": [
    "# calculate the MSE of the model\n",
    "mse = mean_squared_error(y_test, y_pred1)\n",
    "mse"
   ]
  },
  {
   "cell_type": "code",
   "execution_count": 84,
   "id": "ddadf5ba",
   "metadata": {
    "execution": {
     "iopub.execute_input": "2023-02-21T20:37:17.141777Z",
     "iopub.status.busy": "2023-02-21T20:37:17.140948Z",
     "iopub.status.idle": "2023-02-21T20:37:17.148381Z",
     "shell.execute_reply": "2023-02-21T20:37:17.147239Z"
    },
    "id": "bbf1651c",
    "outputId": "f50dc134-6248-4323-f57f-0b3bd7213d65",
    "papermill": {
     "duration": 0.089331,
     "end_time": "2023-02-21T20:37:17.150633",
     "exception": false,
     "start_time": "2023-02-21T20:37:17.061302",
     "status": "completed"
    },
    "tags": []
   },
   "outputs": [
    {
     "data": {
      "text/plain": [
       "3.3395148096207428"
      ]
     },
     "execution_count": 84,
     "metadata": {},
     "output_type": "execute_result"
    }
   ],
   "source": [
    "# calculate the RMSE of the model\n",
    "rmse = np.sqrt(mse)\n",
    "rmse"
   ]
  },
  {
   "cell_type": "code",
   "execution_count": 85,
   "id": "bb057c50",
   "metadata": {
    "execution": {
     "iopub.execute_input": "2023-02-21T20:37:17.318099Z",
     "iopub.status.busy": "2023-02-21T20:37:17.317662Z",
     "iopub.status.idle": "2023-02-21T20:37:17.347586Z",
     "shell.execute_reply": "2023-02-21T20:37:17.345821Z"
    },
    "id": "4e00d392",
    "papermill": {
     "duration": 0.117071,
     "end_time": "2023-02-21T20:37:17.352136",
     "exception": false,
     "start_time": "2023-02-21T20:37:17.235065",
     "status": "completed"
    },
    "tags": []
   },
   "outputs": [],
   "source": [
    "# Ridge\n",
    "L2 = Ridge(alpha=1.0)\n",
    "L2.fit(x_train, y_train) \n",
    "y_pred3 = L2.predict(x_test)"
   ]
  },
  {
   "cell_type": "code",
   "execution_count": 86,
   "id": "bae3c622",
   "metadata": {
    "execution": {
     "iopub.execute_input": "2023-02-21T20:37:17.596706Z",
     "iopub.status.busy": "2023-02-21T20:37:17.596320Z",
     "iopub.status.idle": "2023-02-21T20:37:17.605072Z",
     "shell.execute_reply": "2023-02-21T20:37:17.604018Z"
    },
    "id": "3138396d",
    "outputId": "5d1e4154-7cbc-4245-91ef-12d46d1545aa",
    "papermill": {
     "duration": 0.093124,
     "end_time": "2023-02-21T20:37:17.607372",
     "exception": false,
     "start_time": "2023-02-21T20:37:17.514248",
     "status": "completed"
    },
    "tags": []
   },
   "outputs": [
    {
     "data": {
      "text/plain": [
       "0.8376129585591974"
      ]
     },
     "execution_count": 86,
     "metadata": {},
     "output_type": "execute_result"
    }
   ],
   "source": [
    "r2 = r2_score(y_test, y_pred3)\n",
    "r2 "
   ]
  },
  {
   "cell_type": "code",
   "execution_count": 87,
   "id": "56ef8462",
   "metadata": {
    "execution": {
     "iopub.execute_input": "2023-02-21T20:37:17.756918Z",
     "iopub.status.busy": "2023-02-21T20:37:17.756123Z",
     "iopub.status.idle": "2023-02-21T20:37:17.764049Z",
     "shell.execute_reply": "2023-02-21T20:37:17.763098Z"
    },
    "id": "2c404f36",
    "outputId": "1023f891-a839-40b6-d9f0-640d6850bc73",
    "papermill": {
     "duration": 0.085363,
     "end_time": "2023-02-21T20:37:17.766286",
     "exception": false,
     "start_time": "2023-02-21T20:37:17.680923",
     "status": "completed"
    },
    "tags": []
   },
   "outputs": [
    {
     "data": {
      "text/plain": [
       "1.5959277579640252"
      ]
     },
     "execution_count": 87,
     "metadata": {},
     "output_type": "execute_result"
    }
   ],
   "source": [
    "# calculate the MAE of the model\n",
    "mae = mean_absolute_error(y_test, y_pred3)\n",
    "mae"
   ]
  },
  {
   "cell_type": "code",
   "execution_count": 88,
   "id": "07084ff0",
   "metadata": {
    "execution": {
     "iopub.execute_input": "2023-02-21T20:37:17.915257Z",
     "iopub.status.busy": "2023-02-21T20:37:17.914700Z",
     "iopub.status.idle": "2023-02-21T20:37:17.923385Z",
     "shell.execute_reply": "2023-02-21T20:37:17.922270Z"
    },
    "id": "32a93031",
    "outputId": "7d8eeafc-7b76-4a9d-d878-f9203f51a1ea",
    "papermill": {
     "duration": 0.085856,
     "end_time": "2023-02-21T20:37:17.925733",
     "exception": false,
     "start_time": "2023-02-21T20:37:17.839877",
     "status": "completed"
    },
    "tags": []
   },
   "outputs": [
    {
     "data": {
      "text/plain": [
       "9.830657341080334"
      ]
     },
     "execution_count": 88,
     "metadata": {},
     "output_type": "execute_result"
    }
   ],
   "source": [
    "# calculate the MSE of the model\n",
    "mse = mean_squared_error(y_test, y_pred3)\n",
    "mse"
   ]
  },
  {
   "cell_type": "code",
   "execution_count": 89,
   "id": "37d6b885",
   "metadata": {
    "execution": {
     "iopub.execute_input": "2023-02-21T20:37:18.075381Z",
     "iopub.status.busy": "2023-02-21T20:37:18.074257Z",
     "iopub.status.idle": "2023-02-21T20:37:18.081649Z",
     "shell.execute_reply": "2023-02-21T20:37:18.080789Z"
    },
    "id": "3998d48e",
    "outputId": "6e9c912b-eae7-4845-ad7d-6757f71f156d",
    "papermill": {
     "duration": 0.084148,
     "end_time": "2023-02-21T20:37:18.083825",
     "exception": false,
     "start_time": "2023-02-21T20:37:17.999677",
     "status": "completed"
    },
    "tags": []
   },
   "outputs": [
    {
     "data": {
      "text/plain": [
       "3.1353879091876866"
      ]
     },
     "execution_count": 89,
     "metadata": {},
     "output_type": "execute_result"
    }
   ],
   "source": [
    "# calculate the RMSE of the model\n",
    "rmse = np.sqrt(mse)\n",
    "rmse"
   ]
  },
  {
   "cell_type": "markdown",
   "id": "75e2caff",
   "metadata": {
    "id": "efb29ea4",
    "papermill": {
     "duration": 0.072859,
     "end_time": "2023-02-21T20:37:18.231038",
     "exception": false,
     "start_time": "2023-02-21T20:37:18.158179",
     "status": "completed"
    },
    "tags": []
   },
   "source": [
    "##Client 4 : United Health"
   ]
  },
  {
   "cell_type": "code",
   "execution_count": 90,
   "id": "d012e1ae",
   "metadata": {
    "execution": {
     "iopub.execute_input": "2023-02-21T20:37:18.382131Z",
     "iopub.status.busy": "2023-02-21T20:37:18.381682Z",
     "iopub.status.idle": "2023-02-21T20:37:18.729464Z",
     "shell.execute_reply": "2023-02-21T20:37:18.728315Z"
    },
    "id": "4afddb4f",
    "outputId": "32b7c4d6-d459-4394-869b-7c5dff3062c6",
    "papermill": {
     "duration": 0.427378,
     "end_time": "2023-02-21T20:37:18.732369",
     "exception": false,
     "start_time": "2023-02-21T20:37:18.304991",
     "status": "completed"
    },
    "tags": []
   },
   "outputs": [
    {
     "data": {
      "text/html": [
       "<div>\n",
       "<style scoped>\n",
       "    .dataframe tbody tr th:only-of-type {\n",
       "        vertical-align: middle;\n",
       "    }\n",
       "\n",
       "    .dataframe tbody tr th {\n",
       "        vertical-align: top;\n",
       "    }\n",
       "\n",
       "    .dataframe thead th {\n",
       "        text-align: right;\n",
       "    }\n",
       "</style>\n",
       "<table border=\"1\" class=\"dataframe\">\n",
       "  <thead>\n",
       "    <tr style=\"text-align: right;\">\n",
       "      <th></th>\n",
       "      <th>Hospital County</th>\n",
       "      <th>Operating Certificate Number</th>\n",
       "      <th>Facility Id</th>\n",
       "      <th>Facility Name</th>\n",
       "      <th>Age Group</th>\n",
       "      <th>Zip Code - 3 digits</th>\n",
       "      <th>Gender</th>\n",
       "      <th>Race</th>\n",
       "      <th>Ethnicity</th>\n",
       "      <th>Length of Stay</th>\n",
       "      <th>...</th>\n",
       "      <th>APR Risk of Mortality</th>\n",
       "      <th>APR Medical Surgical Description</th>\n",
       "      <th>Payment Typology 1</th>\n",
       "      <th>Payment Typology 2</th>\n",
       "      <th>Payment Typology 3</th>\n",
       "      <th>Birth Weight</th>\n",
       "      <th>Abortion Edit Indicator</th>\n",
       "      <th>Emergency Department Indicator</th>\n",
       "      <th>Total Charges</th>\n",
       "      <th>Total Costs</th>\n",
       "    </tr>\n",
       "  </thead>\n",
       "  <tbody>\n",
       "    <tr>\n",
       "      <th>327335</th>\n",
       "      <td>Broome</td>\n",
       "      <td>303001.0</td>\n",
       "      <td>58.0</td>\n",
       "      <td>United Health Services Hospitals Inc. - Wilson...</td>\n",
       "      <td>30 to 49</td>\n",
       "      <td>139</td>\n",
       "      <td>M</td>\n",
       "      <td>Other Race</td>\n",
       "      <td>Spanish/Hispanic</td>\n",
       "      <td>120 +</td>\n",
       "      <td>...</td>\n",
       "      <td>Extreme</td>\n",
       "      <td>Surgical</td>\n",
       "      <td>Medicaid</td>\n",
       "      <td>NaN</td>\n",
       "      <td>NaN</td>\n",
       "      <td>0</td>\n",
       "      <td>N</td>\n",
       "      <td>Y</td>\n",
       "      <td>1032046.99</td>\n",
       "      <td>429514.66</td>\n",
       "    </tr>\n",
       "    <tr>\n",
       "      <th>327336</th>\n",
       "      <td>Broome</td>\n",
       "      <td>303001.0</td>\n",
       "      <td>58.0</td>\n",
       "      <td>United Health Services Hospitals Inc. - Wilson...</td>\n",
       "      <td>50 to 69</td>\n",
       "      <td>138</td>\n",
       "      <td>F</td>\n",
       "      <td>White</td>\n",
       "      <td>Not Span/Hispanic</td>\n",
       "      <td>120 +</td>\n",
       "      <td>...</td>\n",
       "      <td>Extreme</td>\n",
       "      <td>Surgical</td>\n",
       "      <td>Private Health Insurance</td>\n",
       "      <td>NaN</td>\n",
       "      <td>NaN</td>\n",
       "      <td>0</td>\n",
       "      <td>N</td>\n",
       "      <td>Y</td>\n",
       "      <td>1091681.06</td>\n",
       "      <td>378826.75</td>\n",
       "    </tr>\n",
       "    <tr>\n",
       "      <th>327337</th>\n",
       "      <td>Broome</td>\n",
       "      <td>303001.0</td>\n",
       "      <td>58.0</td>\n",
       "      <td>United Health Services Hospitals Inc. - Wilson...</td>\n",
       "      <td>30 to 49</td>\n",
       "      <td>137</td>\n",
       "      <td>M</td>\n",
       "      <td>White</td>\n",
       "      <td>Not Span/Hispanic</td>\n",
       "      <td>96</td>\n",
       "      <td>...</td>\n",
       "      <td>Extreme</td>\n",
       "      <td>Surgical</td>\n",
       "      <td>Medicaid</td>\n",
       "      <td>Medicaid</td>\n",
       "      <td>NaN</td>\n",
       "      <td>0</td>\n",
       "      <td>N</td>\n",
       "      <td>Y</td>\n",
       "      <td>460332.46</td>\n",
       "      <td>161178.76</td>\n",
       "    </tr>\n",
       "    <tr>\n",
       "      <th>327338</th>\n",
       "      <td>Broome</td>\n",
       "      <td>303001.0</td>\n",
       "      <td>58.0</td>\n",
       "      <td>United Health Services Hospitals Inc. - Wilson...</td>\n",
       "      <td>70 or Older</td>\n",
       "      <td>137</td>\n",
       "      <td>M</td>\n",
       "      <td>Other Race</td>\n",
       "      <td>Not Span/Hispanic</td>\n",
       "      <td>1</td>\n",
       "      <td>...</td>\n",
       "      <td>Moderate</td>\n",
       "      <td>Surgical</td>\n",
       "      <td>Medicare</td>\n",
       "      <td>Medicare</td>\n",
       "      <td>Blue Cross/Blue Shield</td>\n",
       "      <td>0</td>\n",
       "      <td>N</td>\n",
       "      <td>N</td>\n",
       "      <td>17877.80</td>\n",
       "      <td>6651.53</td>\n",
       "    </tr>\n",
       "    <tr>\n",
       "      <th>327339</th>\n",
       "      <td>Broome</td>\n",
       "      <td>303001.0</td>\n",
       "      <td>58.0</td>\n",
       "      <td>United Health Services Hospitals Inc. - Wilson...</td>\n",
       "      <td>50 to 69</td>\n",
       "      <td>137</td>\n",
       "      <td>F</td>\n",
       "      <td>Black/African American</td>\n",
       "      <td>Not Span/Hispanic</td>\n",
       "      <td>74</td>\n",
       "      <td>...</td>\n",
       "      <td>Extreme</td>\n",
       "      <td>Surgical</td>\n",
       "      <td>Medicaid</td>\n",
       "      <td>NaN</td>\n",
       "      <td>NaN</td>\n",
       "      <td>0</td>\n",
       "      <td>N</td>\n",
       "      <td>Y</td>\n",
       "      <td>399707.26</td>\n",
       "      <td>138410.36</td>\n",
       "    </tr>\n",
       "    <tr>\n",
       "      <th>...</th>\n",
       "      <td>...</td>\n",
       "      <td>...</td>\n",
       "      <td>...</td>\n",
       "      <td>...</td>\n",
       "      <td>...</td>\n",
       "      <td>...</td>\n",
       "      <td>...</td>\n",
       "      <td>...</td>\n",
       "      <td>...</td>\n",
       "      <td>...</td>\n",
       "      <td>...</td>\n",
       "      <td>...</td>\n",
       "      <td>...</td>\n",
       "      <td>...</td>\n",
       "      <td>...</td>\n",
       "      <td>...</td>\n",
       "      <td>...</td>\n",
       "      <td>...</td>\n",
       "      <td>...</td>\n",
       "      <td>...</td>\n",
       "      <td>...</td>\n",
       "    </tr>\n",
       "    <tr>\n",
       "      <th>316422</th>\n",
       "      <td>Broome</td>\n",
       "      <td>303001.0</td>\n",
       "      <td>42.0</td>\n",
       "      <td>United Health Services Hospitals Inc. - Bingha...</td>\n",
       "      <td>30 to 49</td>\n",
       "      <td>137</td>\n",
       "      <td>F</td>\n",
       "      <td>White</td>\n",
       "      <td>Not Span/Hispanic</td>\n",
       "      <td>2</td>\n",
       "      <td>...</td>\n",
       "      <td>Minor</td>\n",
       "      <td>Medical</td>\n",
       "      <td>Blue Cross/Blue Shield</td>\n",
       "      <td>NaN</td>\n",
       "      <td>NaN</td>\n",
       "      <td>0</td>\n",
       "      <td>N</td>\n",
       "      <td>Y</td>\n",
       "      <td>5885.90</td>\n",
       "      <td>2617.98</td>\n",
       "    </tr>\n",
       "    <tr>\n",
       "      <th>316423</th>\n",
       "      <td>Broome</td>\n",
       "      <td>303001.0</td>\n",
       "      <td>42.0</td>\n",
       "      <td>United Health Services Hospitals Inc. - Bingha...</td>\n",
       "      <td>30 to 49</td>\n",
       "      <td>137</td>\n",
       "      <td>F</td>\n",
       "      <td>White</td>\n",
       "      <td>Not Span/Hispanic</td>\n",
       "      <td>1</td>\n",
       "      <td>...</td>\n",
       "      <td>Minor</td>\n",
       "      <td>Medical</td>\n",
       "      <td>Medicaid</td>\n",
       "      <td>Medicaid</td>\n",
       "      <td>NaN</td>\n",
       "      <td>0</td>\n",
       "      <td>N</td>\n",
       "      <td>Y</td>\n",
       "      <td>3320.30</td>\n",
       "      <td>1401.22</td>\n",
       "    </tr>\n",
       "    <tr>\n",
       "      <th>316424</th>\n",
       "      <td>Broome</td>\n",
       "      <td>303001.0</td>\n",
       "      <td>42.0</td>\n",
       "      <td>United Health Services Hospitals Inc. - Bingha...</td>\n",
       "      <td>50 to 69</td>\n",
       "      <td>137</td>\n",
       "      <td>F</td>\n",
       "      <td>White</td>\n",
       "      <td>Not Span/Hispanic</td>\n",
       "      <td>3</td>\n",
       "      <td>...</td>\n",
       "      <td>Minor</td>\n",
       "      <td>Medical</td>\n",
       "      <td>Medicare</td>\n",
       "      <td>Medicare</td>\n",
       "      <td>Federal/State/Local/VA</td>\n",
       "      <td>0</td>\n",
       "      <td>N</td>\n",
       "      <td>N</td>\n",
       "      <td>4251.50</td>\n",
       "      <td>2673.10</td>\n",
       "    </tr>\n",
       "    <tr>\n",
       "      <th>316425</th>\n",
       "      <td>Broome</td>\n",
       "      <td>303001.0</td>\n",
       "      <td>42.0</td>\n",
       "      <td>United Health Services Hospitals Inc. - Bingha...</td>\n",
       "      <td>18 to 29</td>\n",
       "      <td>138</td>\n",
       "      <td>F</td>\n",
       "      <td>White</td>\n",
       "      <td>Not Span/Hispanic</td>\n",
       "      <td>2</td>\n",
       "      <td>...</td>\n",
       "      <td>Minor</td>\n",
       "      <td>Medical</td>\n",
       "      <td>Medicaid</td>\n",
       "      <td>NaN</td>\n",
       "      <td>NaN</td>\n",
       "      <td>0</td>\n",
       "      <td>N</td>\n",
       "      <td>Y</td>\n",
       "      <td>5082.30</td>\n",
       "      <td>2275.24</td>\n",
       "    </tr>\n",
       "    <tr>\n",
       "      <th>316426</th>\n",
       "      <td>Broome</td>\n",
       "      <td>303001.0</td>\n",
       "      <td>42.0</td>\n",
       "      <td>United Health Services Hospitals Inc. - Bingha...</td>\n",
       "      <td>70 or Older</td>\n",
       "      <td>139</td>\n",
       "      <td>F</td>\n",
       "      <td>White</td>\n",
       "      <td>Not Span/Hispanic</td>\n",
       "      <td>2</td>\n",
       "      <td>...</td>\n",
       "      <td>Major</td>\n",
       "      <td>Medical</td>\n",
       "      <td>Medicare</td>\n",
       "      <td>Medicare</td>\n",
       "      <td>Blue Cross/Blue Shield</td>\n",
       "      <td>0</td>\n",
       "      <td>N</td>\n",
       "      <td>Y</td>\n",
       "      <td>10424.40</td>\n",
       "      <td>3730.47</td>\n",
       "    </tr>\n",
       "  </tbody>\n",
       "</table>\n",
       "<p>17661 rows × 28 columns</p>\n",
       "</div>"
      ],
      "text/plain": [
       "       Hospital County  Operating Certificate Number  Facility Id  \\\n",
       "327335          Broome                      303001.0         58.0   \n",
       "327336          Broome                      303001.0         58.0   \n",
       "327337          Broome                      303001.0         58.0   \n",
       "327338          Broome                      303001.0         58.0   \n",
       "327339          Broome                      303001.0         58.0   \n",
       "...                ...                           ...          ...   \n",
       "316422          Broome                      303001.0         42.0   \n",
       "316423          Broome                      303001.0         42.0   \n",
       "316424          Broome                      303001.0         42.0   \n",
       "316425          Broome                      303001.0         42.0   \n",
       "316426          Broome                      303001.0         42.0   \n",
       "\n",
       "                                            Facility Name    Age Group  \\\n",
       "327335  United Health Services Hospitals Inc. - Wilson...     30 to 49   \n",
       "327336  United Health Services Hospitals Inc. - Wilson...     50 to 69   \n",
       "327337  United Health Services Hospitals Inc. - Wilson...     30 to 49   \n",
       "327338  United Health Services Hospitals Inc. - Wilson...  70 or Older   \n",
       "327339  United Health Services Hospitals Inc. - Wilson...     50 to 69   \n",
       "...                                                   ...          ...   \n",
       "316422  United Health Services Hospitals Inc. - Bingha...     30 to 49   \n",
       "316423  United Health Services Hospitals Inc. - Bingha...     30 to 49   \n",
       "316424  United Health Services Hospitals Inc. - Bingha...     50 to 69   \n",
       "316425  United Health Services Hospitals Inc. - Bingha...     18 to 29   \n",
       "316426  United Health Services Hospitals Inc. - Bingha...  70 or Older   \n",
       "\n",
       "       Zip Code - 3 digits Gender                    Race          Ethnicity  \\\n",
       "327335                 139      M              Other Race   Spanish/Hispanic   \n",
       "327336                 138      F                   White  Not Span/Hispanic   \n",
       "327337                 137      M                   White  Not Span/Hispanic   \n",
       "327338                 137      M              Other Race  Not Span/Hispanic   \n",
       "327339                 137      F  Black/African American  Not Span/Hispanic   \n",
       "...                    ...    ...                     ...                ...   \n",
       "316422                 137      F                   White  Not Span/Hispanic   \n",
       "316423                 137      F                   White  Not Span/Hispanic   \n",
       "316424                 137      F                   White  Not Span/Hispanic   \n",
       "316425                 138      F                   White  Not Span/Hispanic   \n",
       "316426                 139      F                   White  Not Span/Hispanic   \n",
       "\n",
       "       Length of Stay  ... APR Risk of Mortality  \\\n",
       "327335          120 +  ...               Extreme   \n",
       "327336          120 +  ...               Extreme   \n",
       "327337             96  ...               Extreme   \n",
       "327338              1  ...              Moderate   \n",
       "327339             74  ...               Extreme   \n",
       "...               ...  ...                   ...   \n",
       "316422              2  ...                 Minor   \n",
       "316423              1  ...                 Minor   \n",
       "316424              3  ...                 Minor   \n",
       "316425              2  ...                 Minor   \n",
       "316426              2  ...                 Major   \n",
       "\n",
       "       APR Medical Surgical Description        Payment Typology 1  \\\n",
       "327335                         Surgical                  Medicaid   \n",
       "327336                         Surgical  Private Health Insurance   \n",
       "327337                         Surgical                  Medicaid   \n",
       "327338                         Surgical                  Medicare   \n",
       "327339                         Surgical                  Medicaid   \n",
       "...                                 ...                       ...   \n",
       "316422                          Medical    Blue Cross/Blue Shield   \n",
       "316423                          Medical                  Medicaid   \n",
       "316424                          Medical                  Medicare   \n",
       "316425                          Medical                  Medicaid   \n",
       "316426                          Medical                  Medicare   \n",
       "\n",
       "        Payment Typology 2      Payment Typology 3  Birth Weight  \\\n",
       "327335                 NaN                     NaN             0   \n",
       "327336                 NaN                     NaN             0   \n",
       "327337            Medicaid                     NaN             0   \n",
       "327338            Medicare  Blue Cross/Blue Shield             0   \n",
       "327339                 NaN                     NaN             0   \n",
       "...                    ...                     ...           ...   \n",
       "316422                 NaN                     NaN             0   \n",
       "316423            Medicaid                     NaN             0   \n",
       "316424            Medicare  Federal/State/Local/VA             0   \n",
       "316425                 NaN                     NaN             0   \n",
       "316426            Medicare  Blue Cross/Blue Shield             0   \n",
       "\n",
       "        Abortion Edit Indicator  Emergency Department Indicator Total Charges  \\\n",
       "327335                        N                               Y    1032046.99   \n",
       "327336                        N                               Y    1091681.06   \n",
       "327337                        N                               Y     460332.46   \n",
       "327338                        N                               N      17877.80   \n",
       "327339                        N                               Y     399707.26   \n",
       "...                         ...                             ...           ...   \n",
       "316422                        N                               Y       5885.90   \n",
       "316423                        N                               Y       3320.30   \n",
       "316424                        N                               N       4251.50   \n",
       "316425                        N                               Y       5082.30   \n",
       "316426                        N                               Y      10424.40   \n",
       "\n",
       "       Total Costs  \n",
       "327335   429514.66  \n",
       "327336   378826.75  \n",
       "327337   161178.76  \n",
       "327338     6651.53  \n",
       "327339   138410.36  \n",
       "...            ...  \n",
       "316422     2617.98  \n",
       "316423     1401.22  \n",
       "316424     2673.10  \n",
       "316425     2275.24  \n",
       "316426     3730.47  \n",
       "\n",
       "[17661 rows x 28 columns]"
      ]
     },
     "metadata": {},
     "output_type": "display_data"
    }
   ],
   "source": [
    "# 4  'United Health Services Hospitals Inc. - Binghamton General Hospital',\n",
    "# 4  'United Health Services Hospitals Inc. - Wilson Medical Center',\n",
    "UH_df1=df[df[\"Facility Name\"]== 'United Health Services Hospitals Inc. - Wilson Medical Center']\n",
    "UH_df2=df[df[\"Facility Name\"]== 'United Health Services Hospitals Inc. - Binghamton General Hospital']\n",
    "\n",
    "l=[UH_df1,UH_df2]\n",
    "UH_df= pd.concat(l)\n",
    "display(UH_df)"
   ]
  },
  {
   "cell_type": "code",
   "execution_count": 91,
   "id": "cdac6e6a",
   "metadata": {
    "execution": {
     "iopub.execute_input": "2023-02-21T20:37:18.886105Z",
     "iopub.status.busy": "2023-02-21T20:37:18.885039Z",
     "iopub.status.idle": "2023-02-21T20:37:18.908432Z",
     "shell.execute_reply": "2023-02-21T20:37:18.906940Z"
    },
    "id": "badaacf3",
    "outputId": "b7dceab0-d29e-4de2-d4d1-922dfee2bc9a",
    "papermill": {
     "duration": 0.10574,
     "end_time": "2023-02-21T20:37:18.911773",
     "exception": false,
     "start_time": "2023-02-21T20:37:18.806033",
     "status": "completed"
    },
    "tags": []
   },
   "outputs": [
    {
     "name": "stdout",
     "output_type": "stream",
     "text": [
      "<class 'pandas.core.frame.DataFrame'>\n",
      "Int64Index: 17661 entries, 327335 to 316426\n",
      "Data columns (total 28 columns):\n",
      " #   Column                            Non-Null Count  Dtype   \n",
      "---  ------                            --------------  -----   \n",
      " 0   Hospital County                   17661 non-null  category\n",
      " 1   Operating Certificate Number      17661 non-null  float64 \n",
      " 2   Facility Id                       17661 non-null  float64 \n",
      " 3   Facility Name                     17661 non-null  object  \n",
      " 4   Age Group                         17661 non-null  category\n",
      " 5   Zip Code - 3 digits               17460 non-null  category\n",
      " 6   Gender                            17661 non-null  category\n",
      " 7   Race                              17661 non-null  category\n",
      " 8   Ethnicity                         17661 non-null  category\n",
      " 9   Length of Stay                    17661 non-null  category\n",
      " 10  Type of Admission                 17661 non-null  category\n",
      " 11  Patient Disposition               17661 non-null  category\n",
      " 12  Discharge Year                    17661 non-null  int64   \n",
      " 13  CCS Diagnosis Code                17661 non-null  int64   \n",
      " 14  CCS Procedure Code                17661 non-null  int64   \n",
      " 15  APR DRG Code                      17661 non-null  int64   \n",
      " 16  APR MDC Code                      17661 non-null  int64   \n",
      " 17  APR Severity of Illness Code      17661 non-null  int64   \n",
      " 18  APR Risk of Mortality             17647 non-null  category\n",
      " 19  APR Medical Surgical Description  17661 non-null  category\n",
      " 20  Payment Typology 1                17661 non-null  category\n",
      " 21  Payment Typology 2                12345 non-null  category\n",
      " 22  Payment Typology 3                5858 non-null   category\n",
      " 23  Birth Weight                      17661 non-null  int64   \n",
      " 24  Abortion Edit Indicator           17661 non-null  category\n",
      " 25  Emergency Department Indicator    17661 non-null  category\n",
      " 26  Total Charges                     17661 non-null  float64 \n",
      " 27  Total Costs                       17661 non-null  float64 \n",
      "dtypes: category(16), float64(4), int64(7), object(1)\n",
      "memory usage: 2.1+ MB\n"
     ]
    }
   ],
   "source": [
    "UH_df.info()"
   ]
  },
  {
   "cell_type": "code",
   "execution_count": 92,
   "id": "cc6f1b87",
   "metadata": {
    "execution": {
     "iopub.execute_input": "2023-02-21T20:37:19.063554Z",
     "iopub.status.busy": "2023-02-21T20:37:19.062702Z",
     "iopub.status.idle": "2023-02-21T20:37:19.071682Z",
     "shell.execute_reply": "2023-02-21T20:37:19.070697Z"
    },
    "id": "3b8b75d9",
    "papermill": {
     "duration": 0.087335,
     "end_time": "2023-02-21T20:37:19.074367",
     "exception": false,
     "start_time": "2023-02-21T20:37:18.987032",
     "status": "completed"
    },
    "tags": []
   },
   "outputs": [],
   "source": [
    "UH_df = UH_df.drop([\"Payment Typology 2\",    \"Payment Typology 3\"], axis=1)\n"
   ]
  },
  {
   "cell_type": "code",
   "execution_count": 93,
   "id": "1ffc75a2",
   "metadata": {
    "execution": {
     "iopub.execute_input": "2023-02-21T20:37:19.226242Z",
     "iopub.status.busy": "2023-02-21T20:37:19.225847Z",
     "iopub.status.idle": "2023-02-21T20:37:19.287718Z",
     "shell.execute_reply": "2023-02-21T20:37:19.284709Z"
    },
    "id": "141118f2",
    "outputId": "0870a90c-d5ac-453a-adf9-60620480cfb7",
    "papermill": {
     "duration": 0.141513,
     "end_time": "2023-02-21T20:37:19.291404",
     "exception": false,
     "start_time": "2023-02-21T20:37:19.149891",
     "status": "completed"
    },
    "tags": []
   },
   "outputs": [
    {
     "name": "stdout",
     "output_type": "stream",
     "text": [
      "Hospital County : 1\n",
      "Broome         17661\n",
      "Albany             0\n",
      "Schenectady        0\n",
      "Onondaga           0\n",
      "Ontario            0\n",
      "Name: Hospital County, dtype: int64\n",
      "\n",
      "********************\n",
      "\n",
      "Operating Certificate Number : 1\n",
      "303001.0    17661\n",
      "Name: Operating Certificate Number, dtype: int64\n",
      "\n",
      "********************\n",
      "\n",
      "Facility Id : 2\n",
      "58.0    13318\n",
      "42.0     4343\n",
      "Name: Facility Id, dtype: int64\n",
      "\n",
      "********************\n",
      "\n",
      "Facility Name : 2\n",
      "United Health Services Hospitals Inc. - Wilson Medical Center          13318\n",
      "United Health Services Hospitals Inc. - Binghamton General Hospital     4343\n",
      "Name: Facility Name, dtype: int64\n",
      "\n",
      "********************\n",
      "\n",
      "Age Group : 5\n",
      "70 or Older    5807\n",
      "50 to 69       5171\n",
      "30 to 49       2961\n",
      "0 to 17        1870\n",
      "18 to 29       1852\n",
      "Name: Age Group, dtype: int64\n",
      "\n",
      "********************\n",
      "\n",
      "Zip Code - 3 digits : 28\n",
      "137    7150\n",
      "139    4731\n",
      "138    4070\n",
      "OOS    1014\n",
      "148     125\n",
      "Name: Zip Code - 3 digits, dtype: int64\n",
      "\n",
      "********************\n",
      "\n",
      "Gender : 2\n",
      "F    9398\n",
      "M    8263\n",
      "U       0\n",
      "Name: Gender, dtype: int64\n",
      "\n",
      "********************\n",
      "\n",
      "Race : 3\n",
      "White                     15670\n",
      "Other Race                 1141\n",
      "Black/African American      850\n",
      "Multi-racial                  0\n",
      "Name: Race, dtype: int64\n",
      "\n",
      "********************\n",
      "\n",
      "Ethnicity : 2\n",
      "Not Span/Hispanic    17457\n",
      "Spanish/Hispanic       204\n",
      "Multi-ethnic             0\n",
      "Unknown                  0\n",
      "Name: Ethnicity, dtype: int64\n",
      "\n",
      "********************\n",
      "\n",
      "Length of Stay : 85\n",
      "2    3892\n",
      "3    2995\n",
      "1    2245\n",
      "4    1693\n",
      "5    1230\n",
      "Name: Length of Stay, dtype: int64\n",
      "\n",
      "********************\n",
      "\n",
      "Type of Admission : 4\n",
      "Emergency        10209\n",
      "Elective          3200\n",
      "Urgent            2815\n",
      "Newborn           1437\n",
      "Not Available        0\n",
      "Name: Type of Admission, dtype: int64\n",
      "\n",
      "********************\n",
      "\n",
      "Patient Disposition : 16\n",
      "Home or Self Care                    11951\n",
      "Skilled Nursing Home                  2161\n",
      "Home w/ Home Health Services          1846\n",
      "Expired                                443\n",
      "Inpatient Rehabilitation Facility      383\n",
      "Name: Patient Disposition, dtype: int64\n",
      "\n",
      "********************\n",
      "\n",
      "Discharge Year : 1\n",
      "2015    17661\n",
      "Name: Discharge Year, dtype: int64\n",
      "\n",
      "********************\n",
      "\n",
      "CCS Diagnosis Code : 242\n",
      "218    1434\n",
      "2      1124\n",
      "657     925\n",
      "203     638\n",
      "205     560\n",
      "Name: CCS Diagnosis Code, dtype: int64\n",
      "\n",
      "********************\n",
      "\n",
      "CCS Procedure Code : 177\n",
      "0      5289\n",
      "228     949\n",
      "231     878\n",
      "216     654\n",
      "115     590\n",
      "Name: CCS Procedure Code, dtype: int64\n",
      "\n",
      "********************\n",
      "\n",
      "APR DRG Code : 286\n",
      "640    1206\n",
      "720     957\n",
      "560     897\n",
      "194     564\n",
      "753     519\n",
      "Name: APR DRG Code, dtype: int64\n",
      "\n",
      "********************\n",
      "\n",
      "APR MDC Code : 25\n",
      "5     2647\n",
      "8     2061\n",
      "15    1508\n",
      "14    1505\n",
      "19    1465\n",
      "Name: APR MDC Code, dtype: int64\n",
      "\n",
      "********************\n",
      "\n",
      "APR Severity of Illness Code : 5\n",
      "2    6570\n",
      "1    4824\n",
      "3    4657\n",
      "4    1596\n",
      "0      14\n",
      "Name: APR Severity of Illness Code, dtype: int64\n",
      "\n",
      "********************\n",
      "\n",
      "APR Risk of Mortality : 4\n",
      "Minor       9063\n",
      "Moderate    3886\n",
      "Major       3343\n",
      "Extreme     1355\n",
      "Name: APR Risk of Mortality, dtype: int64\n",
      "\n",
      "********************\n",
      "\n",
      "APR Medical Surgical Description : 3\n",
      "Medical           12630\n",
      "Surgical           5017\n",
      "Not Applicable       14\n",
      "Name: APR Medical Surgical Description, dtype: int64\n",
      "\n",
      "********************\n",
      "\n",
      "Payment Typology 1 : 8\n",
      "Medicare                    8619\n",
      "Medicaid                    4179\n",
      "Blue Cross/Blue Shield      2992\n",
      "Private Health Insurance    1126\n",
      "Self-Pay                     349\n",
      "Name: Payment Typology 1, dtype: int64\n",
      "\n",
      "********************\n",
      "\n",
      "Birth Weight : 48\n",
      "0       16128\n",
      "3400      147\n",
      "3200      131\n",
      "3300      106\n",
      "3000      100\n",
      "Name: Birth Weight, dtype: int64\n",
      "\n",
      "********************\n",
      "\n",
      "Abortion Edit Indicator : 1\n",
      "N    17661\n",
      "Y        0\n",
      "Name: Abortion Edit Indicator, dtype: int64\n",
      "\n",
      "********************\n",
      "\n",
      "Emergency Department Indicator : 2\n",
      "Y    9654\n",
      "N    8007\n",
      "Name: Emergency Department Indicator, dtype: int64\n",
      "\n",
      "********************\n",
      "\n",
      "Total Charges : 16874\n",
      "945.2     46\n",
      "1320.2    26\n",
      "1239.2    24\n",
      "988.2     22\n",
      "1624.2    21\n",
      "Name: Total Charges, dtype: int64\n",
      "\n",
      "********************\n",
      "\n",
      "Total Costs : 17021\n",
      "332.22    46\n",
      "638.11    26\n",
      "435.01    24\n",
      "338.28    22\n",
      "427.98    21\n",
      "Name: Total Costs, dtype: int64\n",
      "\n",
      "********************\n",
      "\n"
     ]
    }
   ],
   "source": [
    "for col in UH_df.columns:\n",
    "    print( col,':', UH_df[col].nunique() )#Num of unique values\n",
    "    print(UH_df[col].value_counts().nlargest(5)) #Most 5 frequent values\n",
    "    print('\\n' + '*' * 20 + '\\n')"
   ]
  },
  {
   "cell_type": "code",
   "execution_count": 94,
   "id": "2fd1f3c2",
   "metadata": {
    "execution": {
     "iopub.execute_input": "2023-02-21T20:37:19.443446Z",
     "iopub.status.busy": "2023-02-21T20:37:19.442479Z",
     "iopub.status.idle": "2023-02-21T20:37:19.451039Z",
     "shell.execute_reply": "2023-02-21T20:37:19.450164Z"
    },
    "id": "4cbc38da",
    "papermill": {
     "duration": 0.087168,
     "end_time": "2023-02-21T20:37:19.453531",
     "exception": false,
     "start_time": "2023-02-21T20:37:19.366363",
     "status": "completed"
    },
    "tags": []
   },
   "outputs": [],
   "source": [
    " #   simple mapping on binary features.\n",
    "UH_df['Abortion Edit Indicator'] = UH_df['Abortion Edit Indicator'].apply(\n",
    "     lambda x: 1 if x == 'Y' else (0 if x == 'N' else None))\n",
    "UH_df['Emergency Department Indicator'] = UH_df['Emergency Department Indicator'].apply(\n",
    "    lambda x: 1 if x == 'Y' else (0 if x == 'N' else None))"
   ]
  },
  {
   "cell_type": "code",
   "execution_count": 95,
   "id": "ae21e0a8",
   "metadata": {
    "execution": {
     "iopub.execute_input": "2023-02-21T20:37:19.605613Z",
     "iopub.status.busy": "2023-02-21T20:37:19.604951Z",
     "iopub.status.idle": "2023-02-21T20:37:19.619945Z",
     "shell.execute_reply": "2023-02-21T20:37:19.618939Z"
    },
    "id": "82927442",
    "papermill": {
     "duration": 0.094408,
     "end_time": "2023-02-21T20:37:19.622554",
     "exception": false,
     "start_time": "2023-02-21T20:37:19.528146",
     "status": "completed"
    },
    "tags": []
   },
   "outputs": [],
   "source": [
    "UH_df[\"Length of Stay\"]=pd.to_numeric(UH_df[\"Length of Stay\"],errors='coerce')\n"
   ]
  },
  {
   "cell_type": "code",
   "execution_count": 96,
   "id": "41d28068",
   "metadata": {
    "execution": {
     "iopub.execute_input": "2023-02-21T20:37:19.774658Z",
     "iopub.status.busy": "2023-02-21T20:37:19.774009Z",
     "iopub.status.idle": "2023-02-21T20:37:19.851960Z",
     "shell.execute_reply": "2023-02-21T20:37:19.850680Z"
    },
    "id": "e3d2f008",
    "papermill": {
     "duration": 0.156816,
     "end_time": "2023-02-21T20:37:19.854777",
     "exception": false,
     "start_time": "2023-02-21T20:37:19.697961",
     "status": "completed"
    },
    "tags": []
   },
   "outputs": [],
   "source": [
    "list=  [ \"Hospital County\",\"Age Group\"\n",
    "    ,\"Gender\",   \n",
    " \"Race\" , \n",
    "\"Ethnicity\", \n",
    "\"Gender\" , \n",
    "\"Race\" ,    \n",
    " \"Ethnicity\" ,        \n",
    " \"Type of Admission\"  ,  \n",
    "  \"Patient Disposition\",      \n",
    " \"Type of Admission\" ,  \n",
    " \"Patient Disposition\"  ,\n",
    "  \"APR Risk of Mortality\" ,   \n",
    " \"APR Medical Surgical Description\" ,\n",
    " \"Payment Typology 1\"   ,   \n",
    " \"Abortion Edit Indicator\"     ,  \n",
    " \"Emergency Department Indicator\",\n",
    "       \"Zip Code - 3 digits\",'Facility Name']  \n",
    "\n",
    "# Import label encoder\n",
    "from sklearn import preprocessing\n",
    "  \n",
    "# label_encoder object knows how to understand word labels.\n",
    "label_encoder = preprocessing.LabelEncoder()\n",
    "  \n",
    "# Encode labels in column 'species'.\n",
    "for col in list :\n",
    "  UH_df[col]= label_encoder.fit_transform(UH_df[col])\n"
   ]
  },
  {
   "cell_type": "code",
   "execution_count": 97,
   "id": "6448333f",
   "metadata": {
    "execution": {
     "iopub.execute_input": "2023-02-21T20:37:20.010292Z",
     "iopub.status.busy": "2023-02-21T20:37:20.009893Z",
     "iopub.status.idle": "2023-02-21T20:37:20.028253Z",
     "shell.execute_reply": "2023-02-21T20:37:20.027064Z"
    },
    "id": "481dc84e",
    "outputId": "cb20b5ab-d178-4e9c-97bc-f2824c2e1afb",
    "papermill": {
     "duration": 0.100699,
     "end_time": "2023-02-21T20:37:20.031630",
     "exception": false,
     "start_time": "2023-02-21T20:37:19.930931",
     "status": "completed"
    },
    "tags": []
   },
   "outputs": [
    {
     "name": "stdout",
     "output_type": "stream",
     "text": [
      "<class 'pandas.core.frame.DataFrame'>\n",
      "Int64Index: 17661 entries, 327335 to 316426\n",
      "Data columns (total 26 columns):\n",
      " #   Column                            Non-Null Count  Dtype  \n",
      "---  ------                            --------------  -----  \n",
      " 0   Hospital County                   17661 non-null  int64  \n",
      " 1   Operating Certificate Number      17661 non-null  float64\n",
      " 2   Facility Id                       17661 non-null  float64\n",
      " 3   Facility Name                     17661 non-null  int64  \n",
      " 4   Age Group                         17661 non-null  int64  \n",
      " 5   Zip Code - 3 digits               17661 non-null  int64  \n",
      " 6   Gender                            17661 non-null  int64  \n",
      " 7   Race                              17661 non-null  int64  \n",
      " 8   Ethnicity                         17661 non-null  int64  \n",
      " 9   Length of Stay                    17645 non-null  float64\n",
      " 10  Type of Admission                 17661 non-null  int64  \n",
      " 11  Patient Disposition               17661 non-null  int64  \n",
      " 12  Discharge Year                    17661 non-null  int64  \n",
      " 13  CCS Diagnosis Code                17661 non-null  int64  \n",
      " 14  CCS Procedure Code                17661 non-null  int64  \n",
      " 15  APR DRG Code                      17661 non-null  int64  \n",
      " 16  APR MDC Code                      17661 non-null  int64  \n",
      " 17  APR Severity of Illness Code      17661 non-null  int64  \n",
      " 18  APR Risk of Mortality             17661 non-null  int64  \n",
      " 19  APR Medical Surgical Description  17661 non-null  int64  \n",
      " 20  Payment Typology 1                17661 non-null  int64  \n",
      " 21  Birth Weight                      17661 non-null  int64  \n",
      " 22  Abortion Edit Indicator           17661 non-null  int64  \n",
      " 23  Emergency Department Indicator    17661 non-null  int64  \n",
      " 24  Total Charges                     17661 non-null  float64\n",
      " 25  Total Costs                       17661 non-null  float64\n",
      "dtypes: float64(5), int64(21)\n",
      "memory usage: 3.6 MB\n"
     ]
    }
   ],
   "source": [
    "UH_df.info()\n"
   ]
  },
  {
   "cell_type": "code",
   "execution_count": 98,
   "id": "074f1769",
   "metadata": {
    "execution": {
     "iopub.execute_input": "2023-02-21T20:37:20.185102Z",
     "iopub.status.busy": "2023-02-21T20:37:20.184335Z",
     "iopub.status.idle": "2023-02-21T20:37:20.197918Z",
     "shell.execute_reply": "2023-02-21T20:37:20.196835Z"
    },
    "id": "38be26e9",
    "papermill": {
     "duration": 0.092906,
     "end_time": "2023-02-21T20:37:20.200704",
     "exception": false,
     "start_time": "2023-02-21T20:37:20.107798",
     "status": "completed"
    },
    "tags": []
   },
   "outputs": [],
   "source": [
    " UH_df.dropna(inplace=True)\n"
   ]
  },
  {
   "cell_type": "code",
   "execution_count": 99,
   "id": "9bf3c175",
   "metadata": {
    "execution": {
     "iopub.execute_input": "2023-02-21T20:37:20.352534Z",
     "iopub.status.busy": "2023-02-21T20:37:20.352103Z",
     "iopub.status.idle": "2023-02-21T20:37:20.360101Z",
     "shell.execute_reply": "2023-02-21T20:37:20.358770Z"
    },
    "id": "cef601f7",
    "papermill": {
     "duration": 0.08671,
     "end_time": "2023-02-21T20:37:20.362417",
     "exception": false,
     "start_time": "2023-02-21T20:37:20.275707",
     "status": "completed"
    },
    "tags": []
   },
   "outputs": [],
   "source": [
    "x = UH_df.drop([\"Length of Stay\"], axis =1)\n",
    "y = UH_df[\"Length of Stay\"]"
   ]
  },
  {
   "cell_type": "code",
   "execution_count": 100,
   "id": "7810f396",
   "metadata": {
    "execution": {
     "iopub.execute_input": "2023-02-21T20:37:20.515316Z",
     "iopub.status.busy": "2023-02-21T20:37:20.514181Z",
     "iopub.status.idle": "2023-02-21T20:37:20.524571Z",
     "shell.execute_reply": "2023-02-21T20:37:20.523653Z"
    },
    "id": "6b611ce8",
    "papermill": {
     "duration": 0.089374,
     "end_time": "2023-02-21T20:37:20.527165",
     "exception": false,
     "start_time": "2023-02-21T20:37:20.437791",
     "status": "completed"
    },
    "tags": []
   },
   "outputs": [],
   "source": [
    "x_train, x_test, y_train, y_test = train_test_split(x, y, test_size=0.3, random_state=42)\n"
   ]
  },
  {
   "cell_type": "code",
   "execution_count": 101,
   "id": "bc9b88cb",
   "metadata": {
    "execution": {
     "iopub.execute_input": "2023-02-21T20:37:20.679060Z",
     "iopub.status.busy": "2023-02-21T20:37:20.678373Z",
     "iopub.status.idle": "2023-02-21T20:37:20.709979Z",
     "shell.execute_reply": "2023-02-21T20:37:20.708256Z"
    },
    "id": "059afbbd",
    "papermill": {
     "duration": 0.112104,
     "end_time": "2023-02-21T20:37:20.714693",
     "exception": false,
     "start_time": "2023-02-21T20:37:20.602589",
     "status": "completed"
    },
    "tags": []
   },
   "outputs": [],
   "source": [
    "# Linear Regression\n",
    "\n",
    "LR = LinearRegression()\n",
    "LR.fit(x_train, y_train)\n",
    "LR.score(x_train, y_train)\n",
    "y_pred =LR.predict(x_test)"
   ]
  },
  {
   "cell_type": "code",
   "execution_count": 102,
   "id": "166a0ddf",
   "metadata": {
    "execution": {
     "iopub.execute_input": "2023-02-21T20:37:20.939095Z",
     "iopub.status.busy": "2023-02-21T20:37:20.938684Z",
     "iopub.status.idle": "2023-02-21T20:37:20.946540Z",
     "shell.execute_reply": "2023-02-21T20:37:20.945733Z"
    },
    "id": "a0465add",
    "outputId": "24b2d4d3-ff10-426a-9066-3917a97dbede",
    "papermill": {
     "duration": 0.086036,
     "end_time": "2023-02-21T20:37:20.948711",
     "exception": false,
     "start_time": "2023-02-21T20:37:20.862675",
     "status": "completed"
    },
    "tags": []
   },
   "outputs": [
    {
     "data": {
      "text/plain": [
       "0.7525860452304862"
      ]
     },
     "execution_count": 102,
     "metadata": {},
     "output_type": "execute_result"
    }
   ],
   "source": [
    "r2 = r2_score(y_test, y_pred)\n",
    "r2 "
   ]
  },
  {
   "cell_type": "code",
   "execution_count": 103,
   "id": "eeceb85b",
   "metadata": {
    "execution": {
     "iopub.execute_input": "2023-02-21T20:37:21.102526Z",
     "iopub.status.busy": "2023-02-21T20:37:21.100935Z",
     "iopub.status.idle": "2023-02-21T20:37:21.108892Z",
     "shell.execute_reply": "2023-02-21T20:37:21.107734Z"
    },
    "id": "310dfa70",
    "outputId": "80c5876e-3ce1-4fee-b808-6c5f7c05d761",
    "papermill": {
     "duration": 0.087335,
     "end_time": "2023-02-21T20:37:21.111063",
     "exception": false,
     "start_time": "2023-02-21T20:37:21.023728",
     "status": "completed"
    },
    "tags": []
   },
   "outputs": [
    {
     "data": {
      "text/plain": [
       "2.0684639957341076"
      ]
     },
     "execution_count": 103,
     "metadata": {},
     "output_type": "execute_result"
    }
   ],
   "source": [
    "# calculate the MAE of the model\n",
    "mae = mean_absolute_error(y_test, y_pred)\n",
    "mae"
   ]
  },
  {
   "cell_type": "code",
   "execution_count": 104,
   "id": "8430f465",
   "metadata": {
    "execution": {
     "iopub.execute_input": "2023-02-21T20:37:21.318925Z",
     "iopub.status.busy": "2023-02-21T20:37:21.317739Z",
     "iopub.status.idle": "2023-02-21T20:37:21.325962Z",
     "shell.execute_reply": "2023-02-21T20:37:21.324799Z"
    },
    "id": "4e6f9c6d",
    "outputId": "db2df9e2-1ed8-41f1-f5c3-33464a005d88",
    "papermill": {
     "duration": 0.086936,
     "end_time": "2023-02-21T20:37:21.328525",
     "exception": false,
     "start_time": "2023-02-21T20:37:21.241589",
     "status": "completed"
    },
    "tags": []
   },
   "outputs": [
    {
     "data": {
      "text/plain": [
       "12.376363549957983"
      ]
     },
     "execution_count": 104,
     "metadata": {},
     "output_type": "execute_result"
    }
   ],
   "source": [
    "# calculate the MSE of the model\n",
    "mse = mean_squared_error(y_test, y_pred)\n",
    "mse"
   ]
  },
  {
   "cell_type": "code",
   "execution_count": 105,
   "id": "2de06dd1",
   "metadata": {
    "execution": {
     "iopub.execute_input": "2023-02-21T20:37:21.479497Z",
     "iopub.status.busy": "2023-02-21T20:37:21.478759Z",
     "iopub.status.idle": "2023-02-21T20:37:21.484654Z",
     "shell.execute_reply": "2023-02-21T20:37:21.483896Z"
    },
    "id": "9e082d44",
    "outputId": "cebe50cc-3c73-41a8-a29b-4ffac6b1c282",
    "papermill": {
     "duration": 0.083723,
     "end_time": "2023-02-21T20:37:21.486655",
     "exception": false,
     "start_time": "2023-02-21T20:37:21.402932",
     "status": "completed"
    },
    "tags": []
   },
   "outputs": [
    {
     "data": {
      "text/plain": [
       "3.5180056210810666"
      ]
     },
     "execution_count": 105,
     "metadata": {},
     "output_type": "execute_result"
    }
   ],
   "source": [
    "# calculate the RMSE of the model\n",
    "rmse = np.sqrt(mse)\n",
    "rmse"
   ]
  },
  {
   "cell_type": "code",
   "execution_count": 106,
   "id": "1113b14c",
   "metadata": {
    "execution": {
     "iopub.execute_input": "2023-02-21T20:37:21.639474Z",
     "iopub.status.busy": "2023-02-21T20:37:21.638530Z",
     "iopub.status.idle": "2023-02-21T20:37:21.744687Z",
     "shell.execute_reply": "2023-02-21T20:37:21.743030Z"
    },
    "id": "206019f7",
    "papermill": {
     "duration": 0.187254,
     "end_time": "2023-02-21T20:37:21.749284",
     "exception": false,
     "start_time": "2023-02-21T20:37:21.562030",
     "status": "completed"
    },
    "tags": []
   },
   "outputs": [],
   "source": [
    "# LASSO\n",
    "L1 = linear_model.Lasso()\n",
    "L1.fit(x_train,y_train)\n",
    "y_pred1 = L1.predict(x_test)"
   ]
  },
  {
   "cell_type": "code",
   "execution_count": 107,
   "id": "97fbc154",
   "metadata": {
    "execution": {
     "iopub.execute_input": "2023-02-21T20:37:21.976721Z",
     "iopub.status.busy": "2023-02-21T20:37:21.976326Z",
     "iopub.status.idle": "2023-02-21T20:37:21.984799Z",
     "shell.execute_reply": "2023-02-21T20:37:21.983389Z"
    },
    "id": "2fef5cdb",
    "outputId": "f7805e08-5e4d-424b-b2b2-92f78f21f012",
    "papermill": {
     "duration": 0.088591,
     "end_time": "2023-02-21T20:37:21.987038",
     "exception": false,
     "start_time": "2023-02-21T20:37:21.898447",
     "status": "completed"
    },
    "tags": []
   },
   "outputs": [
    {
     "data": {
      "text/plain": [
       "0.7149297869535722"
      ]
     },
     "execution_count": 107,
     "metadata": {},
     "output_type": "execute_result"
    }
   ],
   "source": [
    "r2 = r2_score(y_test, y_pred1)\n",
    "r2 "
   ]
  },
  {
   "cell_type": "code",
   "execution_count": 108,
   "id": "11acdbc1",
   "metadata": {
    "execution": {
     "iopub.execute_input": "2023-02-21T20:37:22.139474Z",
     "iopub.status.busy": "2023-02-21T20:37:22.139043Z",
     "iopub.status.idle": "2023-02-21T20:37:22.149639Z",
     "shell.execute_reply": "2023-02-21T20:37:22.148517Z"
    },
    "id": "50a4e762",
    "outputId": "52020e3e-1af0-4413-89fd-1f87b538aa32",
    "papermill": {
     "duration": 0.091076,
     "end_time": "2023-02-21T20:37:22.152675",
     "exception": false,
     "start_time": "2023-02-21T20:37:22.061599",
     "status": "completed"
    },
    "tags": []
   },
   "outputs": [
    {
     "data": {
      "text/plain": [
       "2.2303833727619162"
      ]
     },
     "execution_count": 108,
     "metadata": {},
     "output_type": "execute_result"
    }
   ],
   "source": [
    "# calculate the MAE of the model\n",
    "mae = mean_absolute_error(y_test, y_pred1)\n",
    "mae"
   ]
  },
  {
   "cell_type": "code",
   "execution_count": 109,
   "id": "de46f061",
   "metadata": {
    "execution": {
     "iopub.execute_input": "2023-02-21T20:37:22.330374Z",
     "iopub.status.busy": "2023-02-21T20:37:22.329710Z",
     "iopub.status.idle": "2023-02-21T20:37:22.336787Z",
     "shell.execute_reply": "2023-02-21T20:37:22.336024Z"
    },
    "id": "a3618449",
    "outputId": "392f9bcd-2115-4005-da2b-5eaf7b4d30e1",
    "papermill": {
     "duration": 0.086064,
     "end_time": "2023-02-21T20:37:22.338904",
     "exception": false,
     "start_time": "2023-02-21T20:37:22.252840",
     "status": "completed"
    },
    "tags": []
   },
   "outputs": [
    {
     "data": {
      "text/plain": [
       "14.260038796976138"
      ]
     },
     "execution_count": 109,
     "metadata": {},
     "output_type": "execute_result"
    }
   ],
   "source": [
    "# calculate the MSE of the model\n",
    "mse = mean_squared_error(y_test, y_pred1)\n",
    "mse"
   ]
  },
  {
   "cell_type": "code",
   "execution_count": 110,
   "id": "a11e9b88",
   "metadata": {
    "execution": {
     "iopub.execute_input": "2023-02-21T20:37:22.491045Z",
     "iopub.status.busy": "2023-02-21T20:37:22.490563Z",
     "iopub.status.idle": "2023-02-21T20:37:22.497639Z",
     "shell.execute_reply": "2023-02-21T20:37:22.496407Z"
    },
    "id": "8bfc1b23",
    "outputId": "03f3c866-c1d7-4bb6-e9a1-2605097771fc",
    "papermill": {
     "duration": 0.085634,
     "end_time": "2023-02-21T20:37:22.499872",
     "exception": false,
     "start_time": "2023-02-21T20:37:22.414238",
     "status": "completed"
    },
    "tags": []
   },
   "outputs": [
    {
     "data": {
      "text/plain": [
       "3.7762466546792384"
      ]
     },
     "execution_count": 110,
     "metadata": {},
     "output_type": "execute_result"
    }
   ],
   "source": [
    "# calculate the RMSE of the model\n",
    "rmse = np.sqrt(mse)\n",
    "rmse"
   ]
  },
  {
   "cell_type": "code",
   "execution_count": 111,
   "id": "99baa551",
   "metadata": {
    "execution": {
     "iopub.execute_input": "2023-02-21T20:37:22.661167Z",
     "iopub.status.busy": "2023-02-21T20:37:22.660421Z",
     "iopub.status.idle": "2023-02-21T20:37:22.677274Z",
     "shell.execute_reply": "2023-02-21T20:37:22.675444Z"
    },
    "id": "7164cbde",
    "papermill": {
     "duration": 0.105755,
     "end_time": "2023-02-21T20:37:22.681963",
     "exception": false,
     "start_time": "2023-02-21T20:37:22.576208",
     "status": "completed"
    },
    "tags": []
   },
   "outputs": [],
   "source": [
    "# Ridge\n",
    "L2 = Ridge(alpha=1.0)\n",
    "L2.fit(x_train, y_train) \n",
    "y_pred3 = L2.predict(x_test)"
   ]
  },
  {
   "cell_type": "code",
   "execution_count": 112,
   "id": "19b181f1",
   "metadata": {
    "execution": {
     "iopub.execute_input": "2023-02-21T20:37:22.909570Z",
     "iopub.status.busy": "2023-02-21T20:37:22.909118Z",
     "iopub.status.idle": "2023-02-21T20:37:22.917644Z",
     "shell.execute_reply": "2023-02-21T20:37:22.916606Z"
    },
    "id": "310e1704",
    "outputId": "dc85732f-2cb5-49ea-ead5-a88d3dc4e011",
    "papermill": {
     "duration": 0.089255,
     "end_time": "2023-02-21T20:37:22.919770",
     "exception": false,
     "start_time": "2023-02-21T20:37:22.830515",
     "status": "completed"
    },
    "tags": []
   },
   "outputs": [
    {
     "data": {
      "text/plain": [
       "0.7525870132619732"
      ]
     },
     "execution_count": 112,
     "metadata": {},
     "output_type": "execute_result"
    }
   ],
   "source": [
    "r2 = r2_score(y_test, y_pred3)\n",
    "r2 "
   ]
  },
  {
   "cell_type": "code",
   "execution_count": 113,
   "id": "bfbd72ff",
   "metadata": {
    "execution": {
     "iopub.execute_input": "2023-02-21T20:37:23.075483Z",
     "iopub.status.busy": "2023-02-21T20:37:23.074487Z",
     "iopub.status.idle": "2023-02-21T20:37:23.082082Z",
     "shell.execute_reply": "2023-02-21T20:37:23.081034Z"
    },
    "id": "266d82cc",
    "outputId": "d8079148-95ba-4ff5-d349-dda9938e5ba2",
    "papermill": {
     "duration": 0.087532,
     "end_time": "2023-02-21T20:37:23.084328",
     "exception": false,
     "start_time": "2023-02-21T20:37:22.996796",
     "status": "completed"
    },
    "tags": []
   },
   "outputs": [
    {
     "data": {
      "text/plain": [
       "2.0684430974297547"
      ]
     },
     "execution_count": 113,
     "metadata": {},
     "output_type": "execute_result"
    }
   ],
   "source": [
    "# calculate the MAE of the model\n",
    "mae = mean_absolute_error(y_test, y_pred3)\n",
    "mae"
   ]
  },
  {
   "cell_type": "code",
   "execution_count": 114,
   "id": "59332d31",
   "metadata": {
    "execution": {
     "iopub.execute_input": "2023-02-21T20:37:23.238586Z",
     "iopub.status.busy": "2023-02-21T20:37:23.237767Z",
     "iopub.status.idle": "2023-02-21T20:37:23.244786Z",
     "shell.execute_reply": "2023-02-21T20:37:23.244004Z"
    },
    "id": "e18e611c",
    "outputId": "28be1a4d-c116-46c7-ab5e-00ca0dfb8ab7",
    "papermill": {
     "duration": 0.086916,
     "end_time": "2023-02-21T20:37:23.247022",
     "exception": false,
     "start_time": "2023-02-21T20:37:23.160106",
     "status": "completed"
    },
    "tags": []
   },
   "outputs": [
    {
     "data": {
      "text/plain": [
       "12.376315126215594"
      ]
     },
     "execution_count": 114,
     "metadata": {},
     "output_type": "execute_result"
    }
   ],
   "source": [
    "# calculate the MSE of the model\n",
    "mse = mean_squared_error(y_test, y_pred3)\n",
    "mse"
   ]
  },
  {
   "cell_type": "code",
   "execution_count": 115,
   "id": "e379147f",
   "metadata": {
    "execution": {
     "iopub.execute_input": "2023-02-21T20:37:23.401049Z",
     "iopub.status.busy": "2023-02-21T20:37:23.400350Z",
     "iopub.status.idle": "2023-02-21T20:37:23.406191Z",
     "shell.execute_reply": "2023-02-21T20:37:23.405434Z"
    },
    "id": "2088aa70",
    "outputId": "96bddc81-b129-4c93-cce2-64633f796af6",
    "papermill": {
     "duration": 0.085164,
     "end_time": "2023-02-21T20:37:23.408176",
     "exception": false,
     "start_time": "2023-02-21T20:37:23.323012",
     "status": "completed"
    },
    "tags": []
   },
   "outputs": [
    {
     "data": {
      "text/plain": [
       "3.517998738802445"
      ]
     },
     "execution_count": 115,
     "metadata": {},
     "output_type": "execute_result"
    }
   ],
   "source": [
    "# calculate the RMSE of the model\n",
    "rmse = np.sqrt(mse)\n",
    "rmse"
   ]
  },
  {
   "cell_type": "code",
   "execution_count": null,
   "id": "ddc178a2",
   "metadata": {
    "id": "c52e732a",
    "papermill": {
     "duration": 0.075344,
     "end_time": "2023-02-21T20:37:23.559036",
     "exception": false,
     "start_time": "2023-02-21T20:37:23.483692",
     "status": "completed"
    },
    "tags": []
   },
   "outputs": [],
   "source": []
  },
  {
   "cell_type": "code",
   "execution_count": null,
   "id": "3149f684",
   "metadata": {
    "id": "pQTroD-9gcgC",
    "papermill": {
     "duration": 0.075489,
     "end_time": "2023-02-21T20:37:23.710792",
     "exception": false,
     "start_time": "2023-02-21T20:37:23.635303",
     "status": "completed"
    },
    "tags": []
   },
   "outputs": [],
   "source": []
  },
  {
   "cell_type": "code",
   "execution_count": null,
   "id": "3dc30eea",
   "metadata": {
    "id": "FhusxuC7gW2k",
    "papermill": {
     "duration": 0.075379,
     "end_time": "2023-02-21T20:37:23.862167",
     "exception": false,
     "start_time": "2023-02-21T20:37:23.786788",
     "status": "completed"
    },
    "tags": []
   },
   "outputs": [],
   "source": []
  },
  {
   "cell_type": "markdown",
   "id": "2bf4958a",
   "metadata": {
    "id": "b0526b1e",
    "papermill": {
     "duration": 0.076606,
     "end_time": "2023-02-21T20:37:24.014326",
     "exception": false,
     "start_time": "2023-02-21T20:37:23.937720",
     "status": "completed"
    },
    "tags": []
   },
   "source": [
    "##Client 5: Buffalo Women & Children’s Hospital 11051\n"
   ]
  },
  {
   "cell_type": "code",
   "execution_count": 116,
   "id": "77a8f287",
   "metadata": {
    "execution": {
     "iopub.execute_input": "2023-02-21T20:37:24.179466Z",
     "iopub.status.busy": "2023-02-21T20:37:24.178763Z",
     "iopub.status.idle": "2023-02-21T20:37:24.330999Z",
     "shell.execute_reply": "2023-02-21T20:37:24.329894Z"
    },
    "id": "b3e7efd9",
    "papermill": {
     "duration": 0.243437,
     "end_time": "2023-02-21T20:37:24.333908",
     "exception": false,
     "start_time": "2023-02-21T20:37:24.090471",
     "status": "completed"
    },
    "tags": []
   },
   "outputs": [],
   "source": [
    "\n",
    "Buffalo_df=df[df[\"Facility Name\"]== \"Women And Children's Hospital Of Buffalo\"]"
   ]
  },
  {
   "cell_type": "code",
   "execution_count": 117,
   "id": "3fbb5e0c",
   "metadata": {
    "execution": {
     "iopub.execute_input": "2023-02-21T20:37:24.489494Z",
     "iopub.status.busy": "2023-02-21T20:37:24.488555Z",
     "iopub.status.idle": "2023-02-21T20:37:24.509924Z",
     "shell.execute_reply": "2023-02-21T20:37:24.508358Z"
    },
    "id": "789a69d9",
    "outputId": "1a5ba918-d672-4126-c745-165e886567f1",
    "papermill": {
     "duration": 0.102309,
     "end_time": "2023-02-21T20:37:24.512687",
     "exception": false,
     "start_time": "2023-02-21T20:37:24.410378",
     "status": "completed"
    },
    "tags": []
   },
   "outputs": [
    {
     "name": "stdout",
     "output_type": "stream",
     "text": [
      "<class 'pandas.core.frame.DataFrame'>\n",
      "Int64Index: 13020 entries, 3309 to 54603\n",
      "Data columns (total 28 columns):\n",
      " #   Column                            Non-Null Count  Dtype   \n",
      "---  ------                            --------------  -----   \n",
      " 0   Hospital County                   13020 non-null  category\n",
      " 1   Operating Certificate Number      13020 non-null  float64 \n",
      " 2   Facility Id                       13020 non-null  float64 \n",
      " 3   Facility Name                     13020 non-null  object  \n",
      " 4   Age Group                         13020 non-null  category\n",
      " 5   Zip Code - 3 digits               12941 non-null  category\n",
      " 6   Gender                            13020 non-null  category\n",
      " 7   Race                              13020 non-null  category\n",
      " 8   Ethnicity                         13020 non-null  category\n",
      " 9   Length of Stay                    13020 non-null  category\n",
      " 10  Type of Admission                 13020 non-null  category\n",
      " 11  Patient Disposition               13020 non-null  category\n",
      " 12  Discharge Year                    13020 non-null  int64   \n",
      " 13  CCS Diagnosis Code                13020 non-null  int64   \n",
      " 14  CCS Procedure Code                13020 non-null  int64   \n",
      " 15  APR DRG Code                      13020 non-null  int64   \n",
      " 16  APR MDC Code                      13020 non-null  int64   \n",
      " 17  APR Severity of Illness Code      13020 non-null  int64   \n",
      " 18  APR Risk of Mortality             13020 non-null  category\n",
      " 19  APR Medical Surgical Description  13020 non-null  category\n",
      " 20  Payment Typology 1                13020 non-null  category\n",
      " 21  Payment Typology 2                12947 non-null  category\n",
      " 22  Payment Typology 3                787 non-null    category\n",
      " 23  Birth Weight                      13020 non-null  int64   \n",
      " 24  Abortion Edit Indicator           13020 non-null  category\n",
      " 25  Emergency Department Indicator    13020 non-null  category\n",
      " 26  Total Charges                     13020 non-null  float64 \n",
      " 27  Total Costs                       13020 non-null  float64 \n",
      "dtypes: category(16), float64(4), int64(7), object(1)\n",
      "memory usage: 1.5+ MB\n"
     ]
    }
   ],
   "source": [
    "Buffalo_df.info()"
   ]
  },
  {
   "cell_type": "code",
   "execution_count": 118,
   "id": "d1f8c718",
   "metadata": {
    "execution": {
     "iopub.execute_input": "2023-02-21T20:37:24.667201Z",
     "iopub.status.busy": "2023-02-21T20:37:24.666771Z",
     "iopub.status.idle": "2023-02-21T20:37:24.673187Z",
     "shell.execute_reply": "2023-02-21T20:37:24.671920Z"
    },
    "id": "fe06fdef",
    "papermill": {
     "duration": 0.086255,
     "end_time": "2023-02-21T20:37:24.675354",
     "exception": false,
     "start_time": "2023-02-21T20:37:24.589099",
     "status": "completed"
    },
    "tags": []
   },
   "outputs": [],
   "source": [
    "Buffalo_df= Buffalo_df.drop(\"Facility Name\", axis=1)"
   ]
  },
  {
   "cell_type": "code",
   "execution_count": 119,
   "id": "03800c8d",
   "metadata": {
    "execution": {
     "iopub.execute_input": "2023-02-21T20:37:24.828763Z",
     "iopub.status.busy": "2023-02-21T20:37:24.828358Z",
     "iopub.status.idle": "2023-02-21T20:37:24.834584Z",
     "shell.execute_reply": "2023-02-21T20:37:24.833724Z"
    },
    "id": "34366bea",
    "papermill": {
     "duration": 0.085844,
     "end_time": "2023-02-21T20:37:24.836847",
     "exception": false,
     "start_time": "2023-02-21T20:37:24.751003",
     "status": "completed"
    },
    "tags": []
   },
   "outputs": [],
   "source": [
    "Buffalo_df = Buffalo_df.drop([\"Payment Typology 2\",    \"Payment Typology 3\"], axis=1)\n"
   ]
  },
  {
   "cell_type": "code",
   "execution_count": 120,
   "id": "166c8eac",
   "metadata": {
    "execution": {
     "iopub.execute_input": "2023-02-21T20:37:24.992283Z",
     "iopub.status.busy": "2023-02-21T20:37:24.991579Z",
     "iopub.status.idle": "2023-02-21T20:37:24.998634Z",
     "shell.execute_reply": "2023-02-21T20:37:24.997885Z"
    },
    "id": "9f2e66e4",
    "papermill": {
     "duration": 0.087124,
     "end_time": "2023-02-21T20:37:25.000896",
     "exception": false,
     "start_time": "2023-02-21T20:37:24.913772",
     "status": "completed"
    },
    "tags": []
   },
   "outputs": [],
   "source": [
    " #   simple mapping on binary features.\n",
    "Buffalo_df['Abortion Edit Indicator'] = Buffalo_df['Abortion Edit Indicator'].apply(\n",
    "     lambda x: 1 if x == 'Y' else (0 if x == 'N' else None))\n",
    "Buffalo_df['Emergency Department Indicator'] = Buffalo_df['Emergency Department Indicator'].apply(\n",
    "    lambda x: 1 if x == 'Y' else (0 if x == 'N' else None))"
   ]
  },
  {
   "cell_type": "code",
   "execution_count": 121,
   "id": "b90d2f8a",
   "metadata": {
    "execution": {
     "iopub.execute_input": "2023-02-21T20:37:25.154374Z",
     "iopub.status.busy": "2023-02-21T20:37:25.153746Z",
     "iopub.status.idle": "2023-02-21T20:37:25.165531Z",
     "shell.execute_reply": "2023-02-21T20:37:25.164657Z"
    },
    "id": "6878933c",
    "papermill": {
     "duration": 0.091221,
     "end_time": "2023-02-21T20:37:25.167948",
     "exception": false,
     "start_time": "2023-02-21T20:37:25.076727",
     "status": "completed"
    },
    "tags": []
   },
   "outputs": [],
   "source": [
    "Buffalo_df[\"Length of Stay\"]=pd.to_numeric(Buffalo_df[\"Length of Stay\"],errors='coerce')"
   ]
  },
  {
   "cell_type": "code",
   "execution_count": 122,
   "id": "a6c9620e",
   "metadata": {
    "execution": {
     "iopub.execute_input": "2023-02-21T20:37:25.322121Z",
     "iopub.status.busy": "2023-02-21T20:37:25.321464Z",
     "iopub.status.idle": "2023-02-21T20:37:25.379074Z",
     "shell.execute_reply": "2023-02-21T20:37:25.377840Z"
    },
    "id": "d4abcc12",
    "papermill": {
     "duration": 0.138345,
     "end_time": "2023-02-21T20:37:25.382074",
     "exception": false,
     "start_time": "2023-02-21T20:37:25.243729",
     "status": "completed"
    },
    "tags": []
   },
   "outputs": [],
   "source": [
    "list=  [ \"Hospital County\",\"Age Group\"\n",
    "    ,\"Gender\",   \n",
    " \"Race\" , \n",
    "\"Ethnicity\", \n",
    "\"Gender\" , \n",
    "\"Race\" ,    \n",
    " \"Ethnicity\" ,        \n",
    " \"Type of Admission\"  ,  \n",
    "  \"Patient Disposition\",      \n",
    " \"Type of Admission\" ,  \n",
    " \"Patient Disposition\"  ,\n",
    "  \"APR Risk of Mortality\" ,   \n",
    " \"APR Medical Surgical Description\" ,\n",
    " \"Payment Typology 1\"   ,   \n",
    " \"Abortion Edit Indicator\"     ,  \n",
    " \"Emergency Department Indicator\",\n",
    "       \"Zip Code - 3 digits\"]  \n",
    "\n",
    "# Import label encoder\n",
    "from sklearn import preprocessing\n",
    "  \n",
    "# label_encoder object knows how to understand word labels.\n",
    "label_encoder = preprocessing.LabelEncoder()\n",
    "  \n",
    "# Encode labels in column 'species'.\n",
    "for col in list :\n",
    "  Buffalo_df[col]= label_encoder.fit_transform(Buffalo_df[col])"
   ]
  },
  {
   "cell_type": "code",
   "execution_count": 123,
   "id": "5b809afc",
   "metadata": {
    "execution": {
     "iopub.execute_input": "2023-02-21T20:37:25.535850Z",
     "iopub.status.busy": "2023-02-21T20:37:25.535097Z",
     "iopub.status.idle": "2023-02-21T20:37:25.546073Z",
     "shell.execute_reply": "2023-02-21T20:37:25.545201Z"
    },
    "papermill": {
     "duration": 0.090794,
     "end_time": "2023-02-21T20:37:25.548585",
     "exception": false,
     "start_time": "2023-02-21T20:37:25.457791",
     "status": "completed"
    },
    "tags": []
   },
   "outputs": [],
   "source": [
    " Buffalo_df.dropna(inplace=True)\n"
   ]
  },
  {
   "cell_type": "code",
   "execution_count": 124,
   "id": "c9535ea9",
   "metadata": {
    "execution": {
     "iopub.execute_input": "2023-02-21T20:37:25.704116Z",
     "iopub.status.busy": "2023-02-21T20:37:25.703386Z",
     "iopub.status.idle": "2023-02-21T20:37:25.709870Z",
     "shell.execute_reply": "2023-02-21T20:37:25.708971Z"
    },
    "id": "3063a1e5",
    "papermill": {
     "duration": 0.086436,
     "end_time": "2023-02-21T20:37:25.712223",
     "exception": false,
     "start_time": "2023-02-21T20:37:25.625787",
     "status": "completed"
    },
    "tags": []
   },
   "outputs": [],
   "source": [
    "x = Buffalo_df.drop([\"Length of Stay\"], axis =1)\n",
    "y = Buffalo_df[\"Length of Stay\"]"
   ]
  },
  {
   "cell_type": "code",
   "execution_count": 125,
   "id": "cf14806d",
   "metadata": {
    "execution": {
     "iopub.execute_input": "2023-02-21T20:37:25.868871Z",
     "iopub.status.busy": "2023-02-21T20:37:25.868396Z",
     "iopub.status.idle": "2023-02-21T20:37:25.877865Z",
     "shell.execute_reply": "2023-02-21T20:37:25.876902Z"
    },
    "id": "6be1d8d5",
    "papermill": {
     "duration": 0.089869,
     "end_time": "2023-02-21T20:37:25.880322",
     "exception": false,
     "start_time": "2023-02-21T20:37:25.790453",
     "status": "completed"
    },
    "tags": []
   },
   "outputs": [],
   "source": [
    "x_train, x_test, y_train, y_test = train_test_split(x, y, test_size=0.3, random_state=42)"
   ]
  },
  {
   "cell_type": "code",
   "execution_count": 126,
   "id": "92d0cc67",
   "metadata": {
    "execution": {
     "iopub.execute_input": "2023-02-21T20:37:26.035525Z",
     "iopub.status.busy": "2023-02-21T20:37:26.034380Z",
     "iopub.status.idle": "2023-02-21T20:37:26.059773Z",
     "shell.execute_reply": "2023-02-21T20:37:26.057847Z"
    },
    "id": "f12ac1f0",
    "papermill": {
     "duration": 0.108437,
     "end_time": "2023-02-21T20:37:26.064551",
     "exception": false,
     "start_time": "2023-02-21T20:37:25.956114",
     "status": "completed"
    },
    "tags": []
   },
   "outputs": [],
   "source": [
    "# Linear Regression\n",
    "\n",
    "LR = LinearRegression()\n",
    "LR.fit(x_train, y_train)\n",
    "LR.score(x_train, y_train)\n",
    "y_pred =LR.predict(x_test)"
   ]
  },
  {
   "cell_type": "code",
   "execution_count": 127,
   "id": "a75ed972",
   "metadata": {
    "execution": {
     "iopub.execute_input": "2023-02-21T20:37:26.291702Z",
     "iopub.status.busy": "2023-02-21T20:37:26.291300Z",
     "iopub.status.idle": "2023-02-21T20:37:26.300137Z",
     "shell.execute_reply": "2023-02-21T20:37:26.299035Z"
    },
    "id": "176d9e47",
    "outputId": "2faf205a-e325-4e9a-9ef4-6b766e2fbe12",
    "papermill": {
     "duration": 0.08872,
     "end_time": "2023-02-21T20:37:26.302453",
     "exception": false,
     "start_time": "2023-02-21T20:37:26.213733",
     "status": "completed"
    },
    "tags": []
   },
   "outputs": [
    {
     "data": {
      "text/plain": [
       "0.8901366791825243"
      ]
     },
     "execution_count": 127,
     "metadata": {},
     "output_type": "execute_result"
    }
   ],
   "source": [
    "r2 = r2_score(y_test, y_pred)\n",
    "r2 \n"
   ]
  },
  {
   "cell_type": "code",
   "execution_count": 128,
   "id": "c26ee5c8",
   "metadata": {
    "execution": {
     "iopub.execute_input": "2023-02-21T20:37:26.511530Z",
     "iopub.status.busy": "2023-02-21T20:37:26.511149Z",
     "iopub.status.idle": "2023-02-21T20:37:26.520066Z",
     "shell.execute_reply": "2023-02-21T20:37:26.518795Z"
    },
    "id": "3522bcab",
    "outputId": "d8168265-bb43-4f0e-ae1a-334ee7e9e83d",
    "papermill": {
     "duration": 0.088808,
     "end_time": "2023-02-21T20:37:26.522375",
     "exception": false,
     "start_time": "2023-02-21T20:37:26.433567",
     "status": "completed"
    },
    "tags": []
   },
   "outputs": [
    {
     "data": {
      "text/plain": [
       "1.1950243592194318"
      ]
     },
     "execution_count": 128,
     "metadata": {},
     "output_type": "execute_result"
    }
   ],
   "source": [
    "# calculate the MAE of the model\n",
    "mae = mean_absolute_error(y_test, y_pred)\n",
    "mae"
   ]
  },
  {
   "cell_type": "code",
   "execution_count": 129,
   "id": "cbee3561",
   "metadata": {
    "execution": {
     "iopub.execute_input": "2023-02-21T20:37:26.681443Z",
     "iopub.status.busy": "2023-02-21T20:37:26.680686Z",
     "iopub.status.idle": "2023-02-21T20:37:26.687589Z",
     "shell.execute_reply": "2023-02-21T20:37:26.686482Z"
    },
    "id": "e80c2d25",
    "outputId": "80cc1b25-118b-4880-e7fa-0312ea98e966",
    "papermill": {
     "duration": 0.091289,
     "end_time": "2023-02-21T20:37:26.689993",
     "exception": false,
     "start_time": "2023-02-21T20:37:26.598704",
     "status": "completed"
    },
    "tags": []
   },
   "outputs": [
    {
     "data": {
      "text/plain": [
       "7.458962242803036"
      ]
     },
     "execution_count": 129,
     "metadata": {},
     "output_type": "execute_result"
    }
   ],
   "source": [
    "# calculate the MSE of the model\n",
    "mse = mean_squared_error(y_test, y_pred)\n",
    "mse"
   ]
  },
  {
   "cell_type": "code",
   "execution_count": 130,
   "id": "3249cb52",
   "metadata": {
    "execution": {
     "iopub.execute_input": "2023-02-21T20:37:26.844095Z",
     "iopub.status.busy": "2023-02-21T20:37:26.843384Z",
     "iopub.status.idle": "2023-02-21T20:37:26.850433Z",
     "shell.execute_reply": "2023-02-21T20:37:26.849071Z"
    },
    "id": "cd1c6f90",
    "outputId": "4f60e1f1-597d-4eb8-941d-592a860de026",
    "papermill": {
     "duration": 0.086713,
     "end_time": "2023-02-21T20:37:26.852741",
     "exception": false,
     "start_time": "2023-02-21T20:37:26.766028",
     "status": "completed"
    },
    "tags": []
   },
   "outputs": [
    {
     "data": {
      "text/plain": [
       "2.7311100751897635"
      ]
     },
     "execution_count": 130,
     "metadata": {},
     "output_type": "execute_result"
    }
   ],
   "source": [
    "# calculate the RMSE of the model\n",
    "rmse = np.sqrt(mse)\n",
    "rmse"
   ]
  },
  {
   "cell_type": "code",
   "execution_count": 131,
   "id": "1aef872c",
   "metadata": {
    "execution": {
     "iopub.execute_input": "2023-02-21T20:37:27.009148Z",
     "iopub.status.busy": "2023-02-21T20:37:27.008702Z",
     "iopub.status.idle": "2023-02-21T20:37:27.062041Z",
     "shell.execute_reply": "2023-02-21T20:37:27.060368Z"
    },
    "id": "247fc791",
    "papermill": {
     "duration": 0.135939,
     "end_time": "2023-02-21T20:37:27.066591",
     "exception": false,
     "start_time": "2023-02-21T20:37:26.930652",
     "status": "completed"
    },
    "tags": []
   },
   "outputs": [],
   "source": [
    "# LASSO\n",
    "L1 = linear_model.Lasso()\n",
    "L1.fit(x_train,y_train)\n",
    "y_pred1 = L1.predict(x_test)"
   ]
  },
  {
   "cell_type": "code",
   "execution_count": 132,
   "id": "7582dad1",
   "metadata": {
    "execution": {
     "iopub.execute_input": "2023-02-21T20:37:27.292328Z",
     "iopub.status.busy": "2023-02-21T20:37:27.291887Z",
     "iopub.status.idle": "2023-02-21T20:37:27.301002Z",
     "shell.execute_reply": "2023-02-21T20:37:27.299909Z"
    },
    "id": "c0ce4481",
    "outputId": "ac0b499a-96ed-4348-a07f-a8b3e427e5b5",
    "papermill": {
     "duration": 0.088577,
     "end_time": "2023-02-21T20:37:27.303280",
     "exception": false,
     "start_time": "2023-02-21T20:37:27.214703",
     "status": "completed"
    },
    "tags": []
   },
   "outputs": [
    {
     "data": {
      "text/plain": [
       "0.8827490384906516"
      ]
     },
     "execution_count": 132,
     "metadata": {},
     "output_type": "execute_result"
    }
   ],
   "source": [
    "r2 = r2_score(y_test, y_pred1)\n",
    "r2 \n"
   ]
  },
  {
   "cell_type": "code",
   "execution_count": 133,
   "id": "eb1ac743",
   "metadata": {
    "execution": {
     "iopub.execute_input": "2023-02-21T20:37:27.461520Z",
     "iopub.status.busy": "2023-02-21T20:37:27.460753Z",
     "iopub.status.idle": "2023-02-21T20:37:27.468691Z",
     "shell.execute_reply": "2023-02-21T20:37:27.467490Z"
    },
    "id": "729149c8",
    "outputId": "9a457c93-d59d-4937-c05e-1a17509a9012",
    "papermill": {
     "duration": 0.089576,
     "end_time": "2023-02-21T20:37:27.471276",
     "exception": false,
     "start_time": "2023-02-21T20:37:27.381700",
     "status": "completed"
    },
    "tags": []
   },
   "outputs": [
    {
     "data": {
      "text/plain": [
       "1.2205806926766072"
      ]
     },
     "execution_count": 133,
     "metadata": {},
     "output_type": "execute_result"
    }
   ],
   "source": [
    "# calculate the MAE of the model\n",
    "mae = mean_absolute_error(y_test, y_pred1)\n",
    "mae"
   ]
  },
  {
   "cell_type": "code",
   "execution_count": 134,
   "id": "6662280a",
   "metadata": {
    "execution": {
     "iopub.execute_input": "2023-02-21T20:37:27.630610Z",
     "iopub.status.busy": "2023-02-21T20:37:27.630163Z",
     "iopub.status.idle": "2023-02-21T20:37:27.639094Z",
     "shell.execute_reply": "2023-02-21T20:37:27.637650Z"
    },
    "id": "2136c5eb",
    "outputId": "f7f5a58e-567f-422a-f9b5-81c503bcbee4",
    "papermill": {
     "duration": 0.091617,
     "end_time": "2023-02-21T20:37:27.641233",
     "exception": false,
     "start_time": "2023-02-21T20:37:27.549616",
     "status": "completed"
    },
    "tags": []
   },
   "outputs": [
    {
     "data": {
      "text/plain": [
       "7.960532125945589"
      ]
     },
     "execution_count": 134,
     "metadata": {},
     "output_type": "execute_result"
    }
   ],
   "source": [
    "# calculate the MSE of the model\n",
    "mse = mean_squared_error(y_test, y_pred1)\n",
    "mse"
   ]
  },
  {
   "cell_type": "code",
   "execution_count": 135,
   "id": "8de3d65e",
   "metadata": {
    "execution": {
     "iopub.execute_input": "2023-02-21T20:37:27.795458Z",
     "iopub.status.busy": "2023-02-21T20:37:27.794710Z",
     "iopub.status.idle": "2023-02-21T20:37:27.801298Z",
     "shell.execute_reply": "2023-02-21T20:37:27.800344Z"
    },
    "id": "030a0054",
    "outputId": "f248451d-a899-4379-81d9-f452a96a2e7c",
    "papermill": {
     "duration": 0.086086,
     "end_time": "2023-02-21T20:37:27.803351",
     "exception": false,
     "start_time": "2023-02-21T20:37:27.717265",
     "status": "completed"
    },
    "tags": []
   },
   "outputs": [
    {
     "data": {
      "text/plain": [
       "2.8214414978775633"
      ]
     },
     "execution_count": 135,
     "metadata": {},
     "output_type": "execute_result"
    }
   ],
   "source": [
    "# calculate the RMSE of the model\n",
    "rmse = np.sqrt(mse)\n",
    "rmse"
   ]
  },
  {
   "cell_type": "code",
   "execution_count": 136,
   "id": "80ae7ef7",
   "metadata": {
    "execution": {
     "iopub.execute_input": "2023-02-21T20:37:27.957664Z",
     "iopub.status.busy": "2023-02-21T20:37:27.957228Z",
     "iopub.status.idle": "2023-02-21T20:37:27.974418Z",
     "shell.execute_reply": "2023-02-21T20:37:27.972387Z"
    },
    "id": "0b87171e",
    "papermill": {
     "duration": 0.09975,
     "end_time": "2023-02-21T20:37:27.979141",
     "exception": false,
     "start_time": "2023-02-21T20:37:27.879391",
     "status": "completed"
    },
    "tags": []
   },
   "outputs": [],
   "source": [
    "# Ridge\n",
    "L2 = Ridge(alpha=1.0)\n",
    "L2.fit(x_train, y_train) \n",
    "y_pred3 = L2.predict(x_test)"
   ]
  },
  {
   "cell_type": "code",
   "execution_count": 137,
   "id": "f8edb0bd",
   "metadata": {
    "execution": {
     "iopub.execute_input": "2023-02-21T20:37:28.208869Z",
     "iopub.status.busy": "2023-02-21T20:37:28.208451Z",
     "iopub.status.idle": "2023-02-21T20:37:28.217128Z",
     "shell.execute_reply": "2023-02-21T20:37:28.215923Z"
    },
    "id": "0d253867",
    "outputId": "6767ca05-c3bd-417b-8ce3-ff0ed3053ccd",
    "papermill": {
     "duration": 0.088691,
     "end_time": "2023-02-21T20:37:28.219416",
     "exception": false,
     "start_time": "2023-02-21T20:37:28.130725",
     "status": "completed"
    },
    "tags": []
   },
   "outputs": [
    {
     "data": {
      "text/plain": [
       "0.8901373693859717"
      ]
     },
     "execution_count": 137,
     "metadata": {},
     "output_type": "execute_result"
    }
   ],
   "source": [
    "r2 = r2_score(y_test, y_pred3)\n",
    "r2 "
   ]
  },
  {
   "cell_type": "code",
   "execution_count": 138,
   "id": "864e4426",
   "metadata": {
    "execution": {
     "iopub.execute_input": "2023-02-21T20:37:28.376247Z",
     "iopub.status.busy": "2023-02-21T20:37:28.374972Z",
     "iopub.status.idle": "2023-02-21T20:37:28.383057Z",
     "shell.execute_reply": "2023-02-21T20:37:28.382010Z"
    },
    "id": "ffc0823e",
    "outputId": "5e69a8b4-7366-4d27-9c79-99bfc8c9ff54",
    "papermill": {
     "duration": 0.088482,
     "end_time": "2023-02-21T20:37:28.385135",
     "exception": false,
     "start_time": "2023-02-21T20:37:28.296653",
     "status": "completed"
    },
    "tags": []
   },
   "outputs": [
    {
     "data": {
      "text/plain": [
       "1.1949838479695338"
      ]
     },
     "execution_count": 138,
     "metadata": {},
     "output_type": "execute_result"
    }
   ],
   "source": [
    "# calculate the MAE of the model\n",
    "mae = mean_absolute_error(y_test, y_pred3)\n",
    "mae"
   ]
  },
  {
   "cell_type": "code",
   "execution_count": 139,
   "id": "70e9f0b2",
   "metadata": {
    "execution": {
     "iopub.execute_input": "2023-02-21T20:37:28.539862Z",
     "iopub.status.busy": "2023-02-21T20:37:28.538818Z",
     "iopub.status.idle": "2023-02-21T20:37:28.546059Z",
     "shell.execute_reply": "2023-02-21T20:37:28.545118Z"
    },
    "id": "3b7b69fc",
    "outputId": "8b75887d-899f-4840-9eda-cbe07efd2dd0",
    "papermill": {
     "duration": 0.08698,
     "end_time": "2023-02-21T20:37:28.548162",
     "exception": false,
     "start_time": "2023-02-21T20:37:28.461182",
     "status": "completed"
    },
    "tags": []
   },
   "outputs": [
    {
     "data": {
      "text/plain": [
       "7.458915382746233"
      ]
     },
     "execution_count": 139,
     "metadata": {},
     "output_type": "execute_result"
    }
   ],
   "source": [
    "# calculate the MSE of the model\n",
    "mse = mean_squared_error(y_test, y_pred3)\n",
    "mse"
   ]
  },
  {
   "cell_type": "code",
   "execution_count": 140,
   "id": "0fa1d4e8",
   "metadata": {
    "execution": {
     "iopub.execute_input": "2023-02-21T20:37:28.704564Z",
     "iopub.status.busy": "2023-02-21T20:37:28.703795Z",
     "iopub.status.idle": "2023-02-21T20:37:28.710126Z",
     "shell.execute_reply": "2023-02-21T20:37:28.709056Z"
    },
    "id": "d776260b",
    "outputId": "e0d969c5-b107-4567-884a-20d559331bc5",
    "papermill": {
     "duration": 0.087185,
     "end_time": "2023-02-21T20:37:28.712477",
     "exception": false,
     "start_time": "2023-02-21T20:37:28.625292",
     "status": "completed"
    },
    "tags": []
   },
   "outputs": [
    {
     "data": {
      "text/plain": [
       "2.73110149623668"
      ]
     },
     "execution_count": 140,
     "metadata": {},
     "output_type": "execute_result"
    }
   ],
   "source": [
    "# calculate the RMSE of the model\n",
    "rmse = np.sqrt(mse)\n",
    "rmse"
   ]
  },
  {
   "cell_type": "code",
   "execution_count": null,
   "id": "b8a038c3",
   "metadata": {
    "id": "r1Yy9QI6Xd9o",
    "papermill": {
     "duration": 0.078034,
     "end_time": "2023-02-21T20:37:28.869982",
     "exception": false,
     "start_time": "2023-02-21T20:37:28.791948",
     "status": "completed"
    },
    "tags": []
   },
   "outputs": [],
   "source": []
  },
  {
   "cell_type": "markdown",
   "id": "ec02f211",
   "metadata": {
    "id": "a50861c9",
    "papermill": {
     "duration": 0.07691,
     "end_time": "2023-02-21T20:37:29.024162",
     "exception": false,
     "start_time": "2023-02-21T20:37:28.947252",
     "status": "completed"
    },
    "tags": []
   },
   "source": [
    "##Client 6 : Glens Falls Hospital"
   ]
  },
  {
   "cell_type": "code",
   "execution_count": 141,
   "id": "4206f608",
   "metadata": {
    "execution": {
     "iopub.execute_input": "2023-02-21T20:37:29.181642Z",
     "iopub.status.busy": "2023-02-21T20:37:29.180965Z",
     "iopub.status.idle": "2023-02-21T20:37:29.332863Z",
     "shell.execute_reply": "2023-02-21T20:37:29.331928Z"
    },
    "id": "b4345a4d",
    "papermill": {
     "duration": 0.234485,
     "end_time": "2023-02-21T20:37:29.335558",
     "exception": false,
     "start_time": "2023-02-21T20:37:29.101073",
     "status": "completed"
    },
    "tags": []
   },
   "outputs": [],
   "source": [
    "Glens_df=df[df[\"Facility Name\"]== 'Glens Falls Hospital']"
   ]
  },
  {
   "cell_type": "code",
   "execution_count": 142,
   "id": "a0b60b1e",
   "metadata": {
    "execution": {
     "iopub.execute_input": "2023-02-21T20:37:29.491594Z",
     "iopub.status.busy": "2023-02-21T20:37:29.490920Z",
     "iopub.status.idle": "2023-02-21T20:37:29.534064Z",
     "shell.execute_reply": "2023-02-21T20:37:29.532904Z"
    },
    "id": "b1e6c92c",
    "outputId": "ccf012ce-8db3-4496-e8f9-bcc848761f9a",
    "papermill": {
     "duration": 0.12369,
     "end_time": "2023-02-21T20:37:29.536754",
     "exception": false,
     "start_time": "2023-02-21T20:37:29.413064",
     "status": "completed"
    },
    "tags": []
   },
   "outputs": [
    {
     "data": {
      "text/html": [
       "<div>\n",
       "<style scoped>\n",
       "    .dataframe tbody tr th:only-of-type {\n",
       "        vertical-align: middle;\n",
       "    }\n",
       "\n",
       "    .dataframe tbody tr th {\n",
       "        vertical-align: top;\n",
       "    }\n",
       "\n",
       "    .dataframe thead th {\n",
       "        text-align: right;\n",
       "    }\n",
       "</style>\n",
       "<table border=\"1\" class=\"dataframe\">\n",
       "  <thead>\n",
       "    <tr style=\"text-align: right;\">\n",
       "      <th></th>\n",
       "      <th>Hospital County</th>\n",
       "      <th>Operating Certificate Number</th>\n",
       "      <th>Facility Id</th>\n",
       "      <th>Facility Name</th>\n",
       "      <th>Age Group</th>\n",
       "      <th>Zip Code - 3 digits</th>\n",
       "      <th>Gender</th>\n",
       "      <th>Race</th>\n",
       "      <th>Ethnicity</th>\n",
       "      <th>Length of Stay</th>\n",
       "      <th>...</th>\n",
       "      <th>APR Risk of Mortality</th>\n",
       "      <th>APR Medical Surgical Description</th>\n",
       "      <th>Payment Typology 1</th>\n",
       "      <th>Payment Typology 2</th>\n",
       "      <th>Payment Typology 3</th>\n",
       "      <th>Birth Weight</th>\n",
       "      <th>Abortion Edit Indicator</th>\n",
       "      <th>Emergency Department Indicator</th>\n",
       "      <th>Total Charges</th>\n",
       "      <th>Total Costs</th>\n",
       "    </tr>\n",
       "  </thead>\n",
       "  <tbody>\n",
       "    <tr>\n",
       "      <th>628756</th>\n",
       "      <td>Warren</td>\n",
       "      <td>5601000.0</td>\n",
       "      <td>1005.0</td>\n",
       "      <td>Glens Falls Hospital</td>\n",
       "      <td>30 to 49</td>\n",
       "      <td>128</td>\n",
       "      <td>F</td>\n",
       "      <td>White</td>\n",
       "      <td>Not Span/Hispanic</td>\n",
       "      <td>5</td>\n",
       "      <td>...</td>\n",
       "      <td>Minor</td>\n",
       "      <td>Medical</td>\n",
       "      <td>Medicaid</td>\n",
       "      <td>NaN</td>\n",
       "      <td>NaN</td>\n",
       "      <td>0</td>\n",
       "      <td>N</td>\n",
       "      <td>Y</td>\n",
       "      <td>16901.84</td>\n",
       "      <td>5444.54</td>\n",
       "    </tr>\n",
       "    <tr>\n",
       "      <th>628825</th>\n",
       "      <td>Warren</td>\n",
       "      <td>5601000.0</td>\n",
       "      <td>1005.0</td>\n",
       "      <td>Glens Falls Hospital</td>\n",
       "      <td>50 to 69</td>\n",
       "      <td>120</td>\n",
       "      <td>F</td>\n",
       "      <td>White</td>\n",
       "      <td>Not Span/Hispanic</td>\n",
       "      <td>4</td>\n",
       "      <td>...</td>\n",
       "      <td>Moderate</td>\n",
       "      <td>Medical</td>\n",
       "      <td>Medicare</td>\n",
       "      <td>NaN</td>\n",
       "      <td>NaN</td>\n",
       "      <td>0</td>\n",
       "      <td>N</td>\n",
       "      <td>N</td>\n",
       "      <td>15354.59</td>\n",
       "      <td>5499.39</td>\n",
       "    </tr>\n",
       "    <tr>\n",
       "      <th>629035</th>\n",
       "      <td>Warren</td>\n",
       "      <td>5601000.0</td>\n",
       "      <td>1005.0</td>\n",
       "      <td>Glens Falls Hospital</td>\n",
       "      <td>18 to 29</td>\n",
       "      <td>128</td>\n",
       "      <td>M</td>\n",
       "      <td>White</td>\n",
       "      <td>Not Span/Hispanic</td>\n",
       "      <td>2</td>\n",
       "      <td>...</td>\n",
       "      <td>Minor</td>\n",
       "      <td>Medical</td>\n",
       "      <td>Blue Cross/Blue Shield</td>\n",
       "      <td>NaN</td>\n",
       "      <td>NaN</td>\n",
       "      <td>0</td>\n",
       "      <td>N</td>\n",
       "      <td>Y</td>\n",
       "      <td>8413.10</td>\n",
       "      <td>2565.18</td>\n",
       "    </tr>\n",
       "    <tr>\n",
       "      <th>629070</th>\n",
       "      <td>Warren</td>\n",
       "      <td>5601000.0</td>\n",
       "      <td>1005.0</td>\n",
       "      <td>Glens Falls Hospital</td>\n",
       "      <td>50 to 69</td>\n",
       "      <td>128</td>\n",
       "      <td>F</td>\n",
       "      <td>White</td>\n",
       "      <td>Not Span/Hispanic</td>\n",
       "      <td>1</td>\n",
       "      <td>...</td>\n",
       "      <td>Minor</td>\n",
       "      <td>Medical</td>\n",
       "      <td>Blue Cross/Blue Shield</td>\n",
       "      <td>NaN</td>\n",
       "      <td>NaN</td>\n",
       "      <td>0</td>\n",
       "      <td>N</td>\n",
       "      <td>Y</td>\n",
       "      <td>8102.00</td>\n",
       "      <td>2008.34</td>\n",
       "    </tr>\n",
       "    <tr>\n",
       "      <th>629175</th>\n",
       "      <td>Warren</td>\n",
       "      <td>5601000.0</td>\n",
       "      <td>1005.0</td>\n",
       "      <td>Glens Falls Hospital</td>\n",
       "      <td>70 or Older</td>\n",
       "      <td>128</td>\n",
       "      <td>F</td>\n",
       "      <td>White</td>\n",
       "      <td>Not Span/Hispanic</td>\n",
       "      <td>6</td>\n",
       "      <td>...</td>\n",
       "      <td>Major</td>\n",
       "      <td>Medical</td>\n",
       "      <td>Medicare</td>\n",
       "      <td>NaN</td>\n",
       "      <td>NaN</td>\n",
       "      <td>0</td>\n",
       "      <td>N</td>\n",
       "      <td>N</td>\n",
       "      <td>21480.74</td>\n",
       "      <td>7279.17</td>\n",
       "    </tr>\n",
       "    <tr>\n",
       "      <th>...</th>\n",
       "      <td>...</td>\n",
       "      <td>...</td>\n",
       "      <td>...</td>\n",
       "      <td>...</td>\n",
       "      <td>...</td>\n",
       "      <td>...</td>\n",
       "      <td>...</td>\n",
       "      <td>...</td>\n",
       "      <td>...</td>\n",
       "      <td>...</td>\n",
       "      <td>...</td>\n",
       "      <td>...</td>\n",
       "      <td>...</td>\n",
       "      <td>...</td>\n",
       "      <td>...</td>\n",
       "      <td>...</td>\n",
       "      <td>...</td>\n",
       "      <td>...</td>\n",
       "      <td>...</td>\n",
       "      <td>...</td>\n",
       "      <td>...</td>\n",
       "    </tr>\n",
       "    <tr>\n",
       "      <th>664926</th>\n",
       "      <td>Warren</td>\n",
       "      <td>5601000.0</td>\n",
       "      <td>1005.0</td>\n",
       "      <td>Glens Falls Hospital</td>\n",
       "      <td>30 to 49</td>\n",
       "      <td>128</td>\n",
       "      <td>F</td>\n",
       "      <td>White</td>\n",
       "      <td>Not Span/Hispanic</td>\n",
       "      <td>1</td>\n",
       "      <td>...</td>\n",
       "      <td>Minor</td>\n",
       "      <td>Medical</td>\n",
       "      <td>Medicare</td>\n",
       "      <td>NaN</td>\n",
       "      <td>NaN</td>\n",
       "      <td>0</td>\n",
       "      <td>N</td>\n",
       "      <td>Y</td>\n",
       "      <td>14033.73</td>\n",
       "      <td>4471.53</td>\n",
       "    </tr>\n",
       "    <tr>\n",
       "      <th>664927</th>\n",
       "      <td>Warren</td>\n",
       "      <td>5601000.0</td>\n",
       "      <td>1005.0</td>\n",
       "      <td>Glens Falls Hospital</td>\n",
       "      <td>70 or Older</td>\n",
       "      <td>128</td>\n",
       "      <td>F</td>\n",
       "      <td>White</td>\n",
       "      <td>Not Span/Hispanic</td>\n",
       "      <td>1</td>\n",
       "      <td>...</td>\n",
       "      <td>Minor</td>\n",
       "      <td>Surgical</td>\n",
       "      <td>Medicare</td>\n",
       "      <td>NaN</td>\n",
       "      <td>NaN</td>\n",
       "      <td>0</td>\n",
       "      <td>N</td>\n",
       "      <td>Y</td>\n",
       "      <td>44134.98</td>\n",
       "      <td>12744.49</td>\n",
       "    </tr>\n",
       "    <tr>\n",
       "      <th>664928</th>\n",
       "      <td>Warren</td>\n",
       "      <td>5601000.0</td>\n",
       "      <td>1005.0</td>\n",
       "      <td>Glens Falls Hospital</td>\n",
       "      <td>30 to 49</td>\n",
       "      <td>128</td>\n",
       "      <td>M</td>\n",
       "      <td>White</td>\n",
       "      <td>Not Span/Hispanic</td>\n",
       "      <td>1</td>\n",
       "      <td>...</td>\n",
       "      <td>Minor</td>\n",
       "      <td>Medical</td>\n",
       "      <td>Private Health Insurance</td>\n",
       "      <td>NaN</td>\n",
       "      <td>NaN</td>\n",
       "      <td>0</td>\n",
       "      <td>N</td>\n",
       "      <td>N</td>\n",
       "      <td>13780.26</td>\n",
       "      <td>3192.12</td>\n",
       "    </tr>\n",
       "    <tr>\n",
       "      <th>664929</th>\n",
       "      <td>Warren</td>\n",
       "      <td>5601000.0</td>\n",
       "      <td>1005.0</td>\n",
       "      <td>Glens Falls Hospital</td>\n",
       "      <td>50 to 69</td>\n",
       "      <td>128</td>\n",
       "      <td>M</td>\n",
       "      <td>White</td>\n",
       "      <td>Not Span/Hispanic</td>\n",
       "      <td>1</td>\n",
       "      <td>...</td>\n",
       "      <td>Moderate</td>\n",
       "      <td>Medical</td>\n",
       "      <td>Private Health Insurance</td>\n",
       "      <td>NaN</td>\n",
       "      <td>NaN</td>\n",
       "      <td>0</td>\n",
       "      <td>N</td>\n",
       "      <td>N</td>\n",
       "      <td>7560.97</td>\n",
       "      <td>2705.89</td>\n",
       "    </tr>\n",
       "    <tr>\n",
       "      <th>664930</th>\n",
       "      <td>Warren</td>\n",
       "      <td>5601000.0</td>\n",
       "      <td>1005.0</td>\n",
       "      <td>Glens Falls Hospital</td>\n",
       "      <td>0 to 17</td>\n",
       "      <td>128</td>\n",
       "      <td>F</td>\n",
       "      <td>White</td>\n",
       "      <td>Not Span/Hispanic</td>\n",
       "      <td>1</td>\n",
       "      <td>...</td>\n",
       "      <td>Minor</td>\n",
       "      <td>Medical</td>\n",
       "      <td>Medicaid</td>\n",
       "      <td>NaN</td>\n",
       "      <td>NaN</td>\n",
       "      <td>0</td>\n",
       "      <td>N</td>\n",
       "      <td>N</td>\n",
       "      <td>3670.62</td>\n",
       "      <td>2613.38</td>\n",
       "    </tr>\n",
       "  </tbody>\n",
       "</table>\n",
       "<p>14072 rows × 28 columns</p>\n",
       "</div>"
      ],
      "text/plain": [
       "       Hospital County  Operating Certificate Number  Facility Id  \\\n",
       "628756          Warren                     5601000.0       1005.0   \n",
       "628825          Warren                     5601000.0       1005.0   \n",
       "629035          Warren                     5601000.0       1005.0   \n",
       "629070          Warren                     5601000.0       1005.0   \n",
       "629175          Warren                     5601000.0       1005.0   \n",
       "...                ...                           ...          ...   \n",
       "664926          Warren                     5601000.0       1005.0   \n",
       "664927          Warren                     5601000.0       1005.0   \n",
       "664928          Warren                     5601000.0       1005.0   \n",
       "664929          Warren                     5601000.0       1005.0   \n",
       "664930          Warren                     5601000.0       1005.0   \n",
       "\n",
       "               Facility Name    Age Group Zip Code - 3 digits Gender   Race  \\\n",
       "628756  Glens Falls Hospital     30 to 49                 128      F  White   \n",
       "628825  Glens Falls Hospital     50 to 69                 120      F  White   \n",
       "629035  Glens Falls Hospital     18 to 29                 128      M  White   \n",
       "629070  Glens Falls Hospital     50 to 69                 128      F  White   \n",
       "629175  Glens Falls Hospital  70 or Older                 128      F  White   \n",
       "...                      ...          ...                 ...    ...    ...   \n",
       "664926  Glens Falls Hospital     30 to 49                 128      F  White   \n",
       "664927  Glens Falls Hospital  70 or Older                 128      F  White   \n",
       "664928  Glens Falls Hospital     30 to 49                 128      M  White   \n",
       "664929  Glens Falls Hospital     50 to 69                 128      M  White   \n",
       "664930  Glens Falls Hospital      0 to 17                 128      F  White   \n",
       "\n",
       "                Ethnicity Length of Stay  ... APR Risk of Mortality  \\\n",
       "628756  Not Span/Hispanic              5  ...                 Minor   \n",
       "628825  Not Span/Hispanic              4  ...              Moderate   \n",
       "629035  Not Span/Hispanic              2  ...                 Minor   \n",
       "629070  Not Span/Hispanic              1  ...                 Minor   \n",
       "629175  Not Span/Hispanic              6  ...                 Major   \n",
       "...                   ...            ...  ...                   ...   \n",
       "664926  Not Span/Hispanic              1  ...                 Minor   \n",
       "664927  Not Span/Hispanic              1  ...                 Minor   \n",
       "664928  Not Span/Hispanic              1  ...                 Minor   \n",
       "664929  Not Span/Hispanic              1  ...              Moderate   \n",
       "664930  Not Span/Hispanic              1  ...                 Minor   \n",
       "\n",
       "       APR Medical Surgical Description        Payment Typology 1  \\\n",
       "628756                          Medical                  Medicaid   \n",
       "628825                          Medical                  Medicare   \n",
       "629035                          Medical    Blue Cross/Blue Shield   \n",
       "629070                          Medical    Blue Cross/Blue Shield   \n",
       "629175                          Medical                  Medicare   \n",
       "...                                 ...                       ...   \n",
       "664926                          Medical                  Medicare   \n",
       "664927                         Surgical                  Medicare   \n",
       "664928                          Medical  Private Health Insurance   \n",
       "664929                          Medical  Private Health Insurance   \n",
       "664930                          Medical                  Medicaid   \n",
       "\n",
       "        Payment Typology 2  Payment Typology 3  Birth Weight  \\\n",
       "628756                 NaN                 NaN             0   \n",
       "628825                 NaN                 NaN             0   \n",
       "629035                 NaN                 NaN             0   \n",
       "629070                 NaN                 NaN             0   \n",
       "629175                 NaN                 NaN             0   \n",
       "...                    ...                 ...           ...   \n",
       "664926                 NaN                 NaN             0   \n",
       "664927                 NaN                 NaN             0   \n",
       "664928                 NaN                 NaN             0   \n",
       "664929                 NaN                 NaN             0   \n",
       "664930                 NaN                 NaN             0   \n",
       "\n",
       "        Abortion Edit Indicator  Emergency Department Indicator Total Charges  \\\n",
       "628756                        N                               Y      16901.84   \n",
       "628825                        N                               N      15354.59   \n",
       "629035                        N                               Y       8413.10   \n",
       "629070                        N                               Y       8102.00   \n",
       "629175                        N                               N      21480.74   \n",
       "...                         ...                             ...           ...   \n",
       "664926                        N                               Y      14033.73   \n",
       "664927                        N                               Y      44134.98   \n",
       "664928                        N                               N      13780.26   \n",
       "664929                        N                               N       7560.97   \n",
       "664930                        N                               N       3670.62   \n",
       "\n",
       "       Total Costs  \n",
       "628756     5444.54  \n",
       "628825     5499.39  \n",
       "629035     2565.18  \n",
       "629070     2008.34  \n",
       "629175     7279.17  \n",
       "...            ...  \n",
       "664926     4471.53  \n",
       "664927    12744.49  \n",
       "664928     3192.12  \n",
       "664929     2705.89  \n",
       "664930     2613.38  \n",
       "\n",
       "[14072 rows x 28 columns]"
      ]
     },
     "execution_count": 142,
     "metadata": {},
     "output_type": "execute_result"
    }
   ],
   "source": [
    "Glens_df"
   ]
  },
  {
   "cell_type": "code",
   "execution_count": 143,
   "id": "6b89a8b3",
   "metadata": {
    "execution": {
     "iopub.execute_input": "2023-02-21T20:37:29.693104Z",
     "iopub.status.busy": "2023-02-21T20:37:29.692421Z",
     "iopub.status.idle": "2023-02-21T20:37:29.713686Z",
     "shell.execute_reply": "2023-02-21T20:37:29.712005Z"
    },
    "id": "b9c59fb7",
    "outputId": "f0bfa10a-bf49-420a-9a04-b31387f30ac3",
    "papermill": {
     "duration": 0.102475,
     "end_time": "2023-02-21T20:37:29.716167",
     "exception": false,
     "start_time": "2023-02-21T20:37:29.613692",
     "status": "completed"
    },
    "tags": []
   },
   "outputs": [
    {
     "name": "stdout",
     "output_type": "stream",
     "text": [
      "<class 'pandas.core.frame.DataFrame'>\n",
      "Int64Index: 14072 entries, 628756 to 664930\n",
      "Data columns (total 28 columns):\n",
      " #   Column                            Non-Null Count  Dtype   \n",
      "---  ------                            --------------  -----   \n",
      " 0   Hospital County                   14072 non-null  category\n",
      " 1   Operating Certificate Number      14072 non-null  float64 \n",
      " 2   Facility Id                       14072 non-null  float64 \n",
      " 3   Facility Name                     14072 non-null  object  \n",
      " 4   Age Group                         14072 non-null  category\n",
      " 5   Zip Code - 3 digits               13957 non-null  category\n",
      " 6   Gender                            14072 non-null  category\n",
      " 7   Race                              14072 non-null  category\n",
      " 8   Ethnicity                         14072 non-null  category\n",
      " 9   Length of Stay                    14072 non-null  category\n",
      " 10  Type of Admission                 14072 non-null  category\n",
      " 11  Patient Disposition               14072 non-null  category\n",
      " 12  Discharge Year                    14072 non-null  int64   \n",
      " 13  CCS Diagnosis Code                14072 non-null  int64   \n",
      " 14  CCS Procedure Code                14072 non-null  int64   \n",
      " 15  APR DRG Code                      14072 non-null  int64   \n",
      " 16  APR MDC Code                      14072 non-null  int64   \n",
      " 17  APR Severity of Illness Code      14072 non-null  int64   \n",
      " 18  APR Risk of Mortality             14072 non-null  category\n",
      " 19  APR Medical Surgical Description  14072 non-null  category\n",
      " 20  Payment Typology 1                14072 non-null  category\n",
      " 21  Payment Typology 2                4755 non-null   category\n",
      " 22  Payment Typology 3                281 non-null    category\n",
      " 23  Birth Weight                      14072 non-null  int64   \n",
      " 24  Abortion Edit Indicator           14072 non-null  category\n",
      " 25  Emergency Department Indicator    14072 non-null  category\n",
      " 26  Total Charges                     14072 non-null  float64 \n",
      " 27  Total Costs                       14072 non-null  float64 \n",
      "dtypes: category(16), float64(4), int64(7), object(1)\n",
      "memory usage: 1.6+ MB\n"
     ]
    }
   ],
   "source": [
    "Glens_df.info()"
   ]
  },
  {
   "cell_type": "code",
   "execution_count": null,
   "id": "5f16f39e",
   "metadata": {
    "id": "7141f62b",
    "papermill": {
     "duration": 0.076933,
     "end_time": "2023-02-21T20:37:29.869874",
     "exception": false,
     "start_time": "2023-02-21T20:37:29.792941",
     "status": "completed"
    },
    "tags": []
   },
   "outputs": [],
   "source": []
  },
  {
   "cell_type": "code",
   "execution_count": null,
   "id": "24e2c786",
   "metadata": {
    "id": "b6a3554f",
    "papermill": {
     "duration": 0.077607,
     "end_time": "2023-02-21T20:37:30.024515",
     "exception": false,
     "start_time": "2023-02-21T20:37:29.946908",
     "status": "completed"
    },
    "tags": []
   },
   "outputs": [],
   "source": [
    "\n"
   ]
  },
  {
   "cell_type": "code",
   "execution_count": 144,
   "id": "800a963e",
   "metadata": {
    "execution": {
     "iopub.execute_input": "2023-02-21T20:37:30.182025Z",
     "iopub.status.busy": "2023-02-21T20:37:30.181614Z",
     "iopub.status.idle": "2023-02-21T20:37:30.212053Z",
     "shell.execute_reply": "2023-02-21T20:37:30.210895Z"
    },
    "id": "02751b46",
    "outputId": "94bc6b70-19b7-4dc7-face-cade764470f0",
    "papermill": {
     "duration": 0.112115,
     "end_time": "2023-02-21T20:37:30.214754",
     "exception": false,
     "start_time": "2023-02-21T20:37:30.102639",
     "status": "completed"
    },
    "tags": []
   },
   "outputs": [
    {
     "data": {
      "text/html": [
       "<div>\n",
       "<style scoped>\n",
       "    .dataframe tbody tr th:only-of-type {\n",
       "        vertical-align: middle;\n",
       "    }\n",
       "\n",
       "    .dataframe tbody tr th {\n",
       "        vertical-align: top;\n",
       "    }\n",
       "\n",
       "    .dataframe thead th {\n",
       "        text-align: right;\n",
       "    }\n",
       "</style>\n",
       "<table border=\"1\" class=\"dataframe\">\n",
       "  <thead>\n",
       "    <tr style=\"text-align: right;\">\n",
       "      <th></th>\n",
       "      <th>Hospital County</th>\n",
       "      <th>Operating Certificate Number</th>\n",
       "      <th>Facility Id</th>\n",
       "      <th>Facility Name</th>\n",
       "      <th>Age Group</th>\n",
       "      <th>Zip Code - 3 digits</th>\n",
       "      <th>Gender</th>\n",
       "      <th>Race</th>\n",
       "      <th>Ethnicity</th>\n",
       "      <th>Length of Stay</th>\n",
       "      <th>...</th>\n",
       "      <th>APR Risk of Mortality</th>\n",
       "      <th>APR Medical Surgical Description</th>\n",
       "      <th>Payment Typology 1</th>\n",
       "      <th>Payment Typology 2</th>\n",
       "      <th>Payment Typology 3</th>\n",
       "      <th>Birth Weight</th>\n",
       "      <th>Abortion Edit Indicator</th>\n",
       "      <th>Emergency Department Indicator</th>\n",
       "      <th>Total Charges</th>\n",
       "      <th>Total Costs</th>\n",
       "    </tr>\n",
       "  </thead>\n",
       "  <tbody>\n",
       "    <tr>\n",
       "      <th>628756</th>\n",
       "      <td>Warren</td>\n",
       "      <td>5601000.0</td>\n",
       "      <td>1005.0</td>\n",
       "      <td>Glens Falls Hospital</td>\n",
       "      <td>30 to 49</td>\n",
       "      <td>128</td>\n",
       "      <td>F</td>\n",
       "      <td>White</td>\n",
       "      <td>Not Span/Hispanic</td>\n",
       "      <td>5</td>\n",
       "      <td>...</td>\n",
       "      <td>Minor</td>\n",
       "      <td>Medical</td>\n",
       "      <td>Medicaid</td>\n",
       "      <td>NaN</td>\n",
       "      <td>NaN</td>\n",
       "      <td>0</td>\n",
       "      <td>N</td>\n",
       "      <td>Y</td>\n",
       "      <td>16901.84</td>\n",
       "      <td>5444.54</td>\n",
       "    </tr>\n",
       "    <tr>\n",
       "      <th>628825</th>\n",
       "      <td>Warren</td>\n",
       "      <td>5601000.0</td>\n",
       "      <td>1005.0</td>\n",
       "      <td>Glens Falls Hospital</td>\n",
       "      <td>50 to 69</td>\n",
       "      <td>120</td>\n",
       "      <td>F</td>\n",
       "      <td>White</td>\n",
       "      <td>Not Span/Hispanic</td>\n",
       "      <td>4</td>\n",
       "      <td>...</td>\n",
       "      <td>Moderate</td>\n",
       "      <td>Medical</td>\n",
       "      <td>Medicare</td>\n",
       "      <td>NaN</td>\n",
       "      <td>NaN</td>\n",
       "      <td>0</td>\n",
       "      <td>N</td>\n",
       "      <td>N</td>\n",
       "      <td>15354.59</td>\n",
       "      <td>5499.39</td>\n",
       "    </tr>\n",
       "    <tr>\n",
       "      <th>629035</th>\n",
       "      <td>Warren</td>\n",
       "      <td>5601000.0</td>\n",
       "      <td>1005.0</td>\n",
       "      <td>Glens Falls Hospital</td>\n",
       "      <td>18 to 29</td>\n",
       "      <td>128</td>\n",
       "      <td>M</td>\n",
       "      <td>White</td>\n",
       "      <td>Not Span/Hispanic</td>\n",
       "      <td>2</td>\n",
       "      <td>...</td>\n",
       "      <td>Minor</td>\n",
       "      <td>Medical</td>\n",
       "      <td>Blue Cross/Blue Shield</td>\n",
       "      <td>NaN</td>\n",
       "      <td>NaN</td>\n",
       "      <td>0</td>\n",
       "      <td>N</td>\n",
       "      <td>Y</td>\n",
       "      <td>8413.10</td>\n",
       "      <td>2565.18</td>\n",
       "    </tr>\n",
       "    <tr>\n",
       "      <th>629070</th>\n",
       "      <td>Warren</td>\n",
       "      <td>5601000.0</td>\n",
       "      <td>1005.0</td>\n",
       "      <td>Glens Falls Hospital</td>\n",
       "      <td>50 to 69</td>\n",
       "      <td>128</td>\n",
       "      <td>F</td>\n",
       "      <td>White</td>\n",
       "      <td>Not Span/Hispanic</td>\n",
       "      <td>1</td>\n",
       "      <td>...</td>\n",
       "      <td>Minor</td>\n",
       "      <td>Medical</td>\n",
       "      <td>Blue Cross/Blue Shield</td>\n",
       "      <td>NaN</td>\n",
       "      <td>NaN</td>\n",
       "      <td>0</td>\n",
       "      <td>N</td>\n",
       "      <td>Y</td>\n",
       "      <td>8102.00</td>\n",
       "      <td>2008.34</td>\n",
       "    </tr>\n",
       "    <tr>\n",
       "      <th>629175</th>\n",
       "      <td>Warren</td>\n",
       "      <td>5601000.0</td>\n",
       "      <td>1005.0</td>\n",
       "      <td>Glens Falls Hospital</td>\n",
       "      <td>70 or Older</td>\n",
       "      <td>128</td>\n",
       "      <td>F</td>\n",
       "      <td>White</td>\n",
       "      <td>Not Span/Hispanic</td>\n",
       "      <td>6</td>\n",
       "      <td>...</td>\n",
       "      <td>Major</td>\n",
       "      <td>Medical</td>\n",
       "      <td>Medicare</td>\n",
       "      <td>NaN</td>\n",
       "      <td>NaN</td>\n",
       "      <td>0</td>\n",
       "      <td>N</td>\n",
       "      <td>N</td>\n",
       "      <td>21480.74</td>\n",
       "      <td>7279.17</td>\n",
       "    </tr>\n",
       "  </tbody>\n",
       "</table>\n",
       "<p>5 rows × 28 columns</p>\n",
       "</div>"
      ],
      "text/plain": [
       "       Hospital County  Operating Certificate Number  Facility Id  \\\n",
       "628756          Warren                     5601000.0       1005.0   \n",
       "628825          Warren                     5601000.0       1005.0   \n",
       "629035          Warren                     5601000.0       1005.0   \n",
       "629070          Warren                     5601000.0       1005.0   \n",
       "629175          Warren                     5601000.0       1005.0   \n",
       "\n",
       "               Facility Name    Age Group Zip Code - 3 digits Gender   Race  \\\n",
       "628756  Glens Falls Hospital     30 to 49                 128      F  White   \n",
       "628825  Glens Falls Hospital     50 to 69                 120      F  White   \n",
       "629035  Glens Falls Hospital     18 to 29                 128      M  White   \n",
       "629070  Glens Falls Hospital     50 to 69                 128      F  White   \n",
       "629175  Glens Falls Hospital  70 or Older                 128      F  White   \n",
       "\n",
       "                Ethnicity Length of Stay  ... APR Risk of Mortality  \\\n",
       "628756  Not Span/Hispanic              5  ...                 Minor   \n",
       "628825  Not Span/Hispanic              4  ...              Moderate   \n",
       "629035  Not Span/Hispanic              2  ...                 Minor   \n",
       "629070  Not Span/Hispanic              1  ...                 Minor   \n",
       "629175  Not Span/Hispanic              6  ...                 Major   \n",
       "\n",
       "       APR Medical Surgical Description      Payment Typology 1  \\\n",
       "628756                          Medical                Medicaid   \n",
       "628825                          Medical                Medicare   \n",
       "629035                          Medical  Blue Cross/Blue Shield   \n",
       "629070                          Medical  Blue Cross/Blue Shield   \n",
       "629175                          Medical                Medicare   \n",
       "\n",
       "        Payment Typology 2  Payment Typology 3  Birth Weight  \\\n",
       "628756                 NaN                 NaN             0   \n",
       "628825                 NaN                 NaN             0   \n",
       "629035                 NaN                 NaN             0   \n",
       "629070                 NaN                 NaN             0   \n",
       "629175                 NaN                 NaN             0   \n",
       "\n",
       "        Abortion Edit Indicator  Emergency Department Indicator Total Charges  \\\n",
       "628756                        N                               Y      16901.84   \n",
       "628825                        N                               N      15354.59   \n",
       "629035                        N                               Y       8413.10   \n",
       "629070                        N                               Y       8102.00   \n",
       "629175                        N                               N      21480.74   \n",
       "\n",
       "       Total Costs  \n",
       "628756     5444.54  \n",
       "628825     5499.39  \n",
       "629035     2565.18  \n",
       "629070     2008.34  \n",
       "629175     7279.17  \n",
       "\n",
       "[5 rows x 28 columns]"
      ]
     },
     "execution_count": 144,
     "metadata": {},
     "output_type": "execute_result"
    }
   ],
   "source": [
    "Glens_df.head()"
   ]
  },
  {
   "cell_type": "code",
   "execution_count": 145,
   "id": "d20a4015",
   "metadata": {
    "execution": {
     "iopub.execute_input": "2023-02-21T20:37:30.374044Z",
     "iopub.status.busy": "2023-02-21T20:37:30.373539Z",
     "iopub.status.idle": "2023-02-21T20:37:30.394746Z",
     "shell.execute_reply": "2023-02-21T20:37:30.392551Z"
    },
    "id": "bab5b6c4",
    "outputId": "e898bd79-693d-4c05-f060-cc4d2dc66ceb",
    "papermill": {
     "duration": 0.103893,
     "end_time": "2023-02-21T20:37:30.397652",
     "exception": false,
     "start_time": "2023-02-21T20:37:30.293759",
     "status": "completed"
    },
    "tags": []
   },
   "outputs": [
    {
     "name": "stdout",
     "output_type": "stream",
     "text": [
      "<class 'pandas.core.frame.DataFrame'>\n",
      "Int64Index: 14072 entries, 628756 to 664930\n",
      "Data columns (total 28 columns):\n",
      " #   Column                            Non-Null Count  Dtype   \n",
      "---  ------                            --------------  -----   \n",
      " 0   Hospital County                   14072 non-null  category\n",
      " 1   Operating Certificate Number      14072 non-null  float64 \n",
      " 2   Facility Id                       14072 non-null  float64 \n",
      " 3   Facility Name                     14072 non-null  object  \n",
      " 4   Age Group                         14072 non-null  category\n",
      " 5   Zip Code - 3 digits               13957 non-null  category\n",
      " 6   Gender                            14072 non-null  category\n",
      " 7   Race                              14072 non-null  category\n",
      " 8   Ethnicity                         14072 non-null  category\n",
      " 9   Length of Stay                    14072 non-null  category\n",
      " 10  Type of Admission                 14072 non-null  category\n",
      " 11  Patient Disposition               14072 non-null  category\n",
      " 12  Discharge Year                    14072 non-null  int64   \n",
      " 13  CCS Diagnosis Code                14072 non-null  int64   \n",
      " 14  CCS Procedure Code                14072 non-null  int64   \n",
      " 15  APR DRG Code                      14072 non-null  int64   \n",
      " 16  APR MDC Code                      14072 non-null  int64   \n",
      " 17  APR Severity of Illness Code      14072 non-null  int64   \n",
      " 18  APR Risk of Mortality             14072 non-null  category\n",
      " 19  APR Medical Surgical Description  14072 non-null  category\n",
      " 20  Payment Typology 1                14072 non-null  category\n",
      " 21  Payment Typology 2                4755 non-null   category\n",
      " 22  Payment Typology 3                281 non-null    category\n",
      " 23  Birth Weight                      14072 non-null  int64   \n",
      " 24  Abortion Edit Indicator           14072 non-null  category\n",
      " 25  Emergency Department Indicator    14072 non-null  category\n",
      " 26  Total Charges                     14072 non-null  float64 \n",
      " 27  Total Costs                       14072 non-null  float64 \n",
      "dtypes: category(16), float64(4), int64(7), object(1)\n",
      "memory usage: 1.6+ MB\n"
     ]
    }
   ],
   "source": [
    "Glens_df.info()"
   ]
  },
  {
   "cell_type": "code",
   "execution_count": 146,
   "id": "cbebdf37",
   "metadata": {
    "_kg_hide-input": true,
    "execution": {
     "iopub.execute_input": "2023-02-21T20:37:30.556381Z",
     "iopub.status.busy": "2023-02-21T20:37:30.555989Z",
     "iopub.status.idle": "2023-02-21T20:37:30.562657Z",
     "shell.execute_reply": "2023-02-21T20:37:30.561360Z"
    },
    "id": "3dc50b1c",
    "papermill": {
     "duration": 0.089153,
     "end_time": "2023-02-21T20:37:30.565249",
     "exception": false,
     "start_time": "2023-02-21T20:37:30.476096",
     "status": "completed"
    },
    "tags": []
   },
   "outputs": [],
   "source": [
    "Glens_df = Glens_df.drop(\"Facility Name\", axis=1)"
   ]
  },
  {
   "cell_type": "code",
   "execution_count": 147,
   "id": "7cb722bb",
   "metadata": {
    "execution": {
     "iopub.execute_input": "2023-02-21T20:37:30.725791Z",
     "iopub.status.busy": "2023-02-21T20:37:30.725285Z",
     "iopub.status.idle": "2023-02-21T20:37:30.739920Z",
     "shell.execute_reply": "2023-02-21T20:37:30.738647Z"
    },
    "id": "395365b8",
    "outputId": "3ed97600-9a86-4463-d4e8-8c82c1b45590",
    "papermill": {
     "duration": 0.097491,
     "end_time": "2023-02-21T20:37:30.742602",
     "exception": false,
     "start_time": "2023-02-21T20:37:30.645111",
     "status": "completed"
    },
    "tags": []
   },
   "outputs": [
    {
     "data": {
      "text/html": [
       "<div>\n",
       "<style scoped>\n",
       "    .dataframe tbody tr th:only-of-type {\n",
       "        vertical-align: middle;\n",
       "    }\n",
       "\n",
       "    .dataframe tbody tr th {\n",
       "        vertical-align: top;\n",
       "    }\n",
       "\n",
       "    .dataframe thead th {\n",
       "        text-align: right;\n",
       "    }\n",
       "</style>\n",
       "<table border=\"1\" class=\"dataframe\">\n",
       "  <thead>\n",
       "    <tr style=\"text-align: right;\">\n",
       "      <th></th>\n",
       "      <th>Length of Stay</th>\n",
       "    </tr>\n",
       "  </thead>\n",
       "  <tbody>\n",
       "    <tr>\n",
       "      <th>628756</th>\n",
       "      <td>5</td>\n",
       "    </tr>\n",
       "    <tr>\n",
       "      <th>628825</th>\n",
       "      <td>4</td>\n",
       "    </tr>\n",
       "    <tr>\n",
       "      <th>629035</th>\n",
       "      <td>2</td>\n",
       "    </tr>\n",
       "    <tr>\n",
       "      <th>629070</th>\n",
       "      <td>1</td>\n",
       "    </tr>\n",
       "    <tr>\n",
       "      <th>629175</th>\n",
       "      <td>6</td>\n",
       "    </tr>\n",
       "    <tr>\n",
       "      <th>...</th>\n",
       "      <td>...</td>\n",
       "    </tr>\n",
       "    <tr>\n",
       "      <th>664926</th>\n",
       "      <td>1</td>\n",
       "    </tr>\n",
       "    <tr>\n",
       "      <th>664927</th>\n",
       "      <td>1</td>\n",
       "    </tr>\n",
       "    <tr>\n",
       "      <th>664928</th>\n",
       "      <td>1</td>\n",
       "    </tr>\n",
       "    <tr>\n",
       "      <th>664929</th>\n",
       "      <td>1</td>\n",
       "    </tr>\n",
       "    <tr>\n",
       "      <th>664930</th>\n",
       "      <td>1</td>\n",
       "    </tr>\n",
       "  </tbody>\n",
       "</table>\n",
       "<p>14072 rows × 1 columns</p>\n",
       "</div>"
      ],
      "text/plain": [
       "       Length of Stay\n",
       "628756              5\n",
       "628825              4\n",
       "629035              2\n",
       "629070              1\n",
       "629175              6\n",
       "...               ...\n",
       "664926              1\n",
       "664927              1\n",
       "664928              1\n",
       "664929              1\n",
       "664930              1\n",
       "\n",
       "[14072 rows x 1 columns]"
      ]
     },
     "execution_count": 147,
     "metadata": {},
     "output_type": "execute_result"
    }
   ],
   "source": [
    "Glens_df[[\"Length of Stay\"]]"
   ]
  },
  {
   "cell_type": "code",
   "execution_count": 148,
   "id": "3ae27ad3",
   "metadata": {
    "execution": {
     "iopub.execute_input": "2023-02-21T20:37:30.902184Z",
     "iopub.status.busy": "2023-02-21T20:37:30.901599Z",
     "iopub.status.idle": "2023-02-21T20:37:30.908448Z",
     "shell.execute_reply": "2023-02-21T20:37:30.907585Z"
    },
    "id": "f95ac106",
    "papermill": {
     "duration": 0.088411,
     "end_time": "2023-02-21T20:37:30.910603",
     "exception": false,
     "start_time": "2023-02-21T20:37:30.822192",
     "status": "completed"
    },
    "tags": []
   },
   "outputs": [],
   "source": [
    "Glens_df = Glens_df.drop([\"Payment Typology 2\",    \"Payment Typology 3\"], axis=1)\n"
   ]
  },
  {
   "cell_type": "code",
   "execution_count": 149,
   "id": "2ecab518",
   "metadata": {
    "execution": {
     "iopub.execute_input": "2023-02-21T20:37:31.072561Z",
     "iopub.status.busy": "2023-02-21T20:37:31.072091Z",
     "iopub.status.idle": "2023-02-21T20:37:31.124967Z",
     "shell.execute_reply": "2023-02-21T20:37:31.123086Z"
    },
    "id": "f86b3180",
    "outputId": "273629ce-2f1f-4106-fb97-857c4e0f4427",
    "papermill": {
     "duration": 0.137028,
     "end_time": "2023-02-21T20:37:31.128250",
     "exception": false,
     "start_time": "2023-02-21T20:37:30.991222",
     "status": "completed"
    },
    "tags": []
   },
   "outputs": [
    {
     "name": "stdout",
     "output_type": "stream",
     "text": [
      "Hospital County : 1\n",
      "Warren      14072\n",
      "Albany          0\n",
      "Saratoga        0\n",
      "Onondaga        0\n",
      "Ontario         0\n",
      "Name: Hospital County, dtype: int64\n",
      "\n",
      "********************\n",
      "\n",
      "Operating Certificate Number : 1\n",
      "5601000.0    14072\n",
      "Name: Operating Certificate Number, dtype: int64\n",
      "\n",
      "********************\n",
      "\n",
      "Facility Id : 1\n",
      "1005.0    14072\n",
      "Name: Facility Id, dtype: int64\n",
      "\n",
      "********************\n",
      "\n",
      "Age Group : 5\n",
      "70 or Older    4708\n",
      "50 to 69       3997\n",
      "30 to 49       2186\n",
      "0 to 17        1671\n",
      "18 to 29       1510\n",
      "Name: Age Group, dtype: int64\n",
      "\n",
      "********************\n",
      "\n",
      "Zip Code - 3 digits : 20\n",
      "128    13284\n",
      "OOS      197\n",
      "120      196\n",
      "129      110\n",
      "121       80\n",
      "Name: Zip Code - 3 digits, dtype: int64\n",
      "\n",
      "********************\n",
      "\n",
      "Gender : 2\n",
      "F    7797\n",
      "M    6275\n",
      "U       0\n",
      "Name: Gender, dtype: int64\n",
      "\n",
      "********************\n",
      "\n",
      "Race : 3\n",
      "White                     13610\n",
      "Other Race                  343\n",
      "Black/African American      119\n",
      "Multi-racial                  0\n",
      "Name: Race, dtype: int64\n",
      "\n",
      "********************\n",
      "\n",
      "Ethnicity : 3\n",
      "Not Span/Hispanic    13938\n",
      "Spanish/Hispanic       125\n",
      "Unknown                  9\n",
      "Multi-ethnic             0\n",
      "Name: Ethnicity, dtype: int64\n",
      "\n",
      "********************\n",
      "\n",
      "Length of Stay : 74\n",
      "2    3059\n",
      "3    2648\n",
      "1    2116\n",
      "4    1620\n",
      "5    1078\n",
      "Name: Length of Stay, dtype: int64\n",
      "\n",
      "********************\n",
      "\n",
      "Type of Admission : 5\n",
      "Emergency        9490\n",
      "Elective         2700\n",
      "Newborn          1220\n",
      "Urgent            657\n",
      "Not Available       5\n",
      "Name: Type of Admission, dtype: int64\n",
      "\n",
      "********************\n",
      "\n",
      "Patient Disposition : 17\n",
      "Home or Self Care               6717\n",
      "Home w/ Home Health Services    4378\n",
      "Skilled Nursing Home            1584\n",
      "Expired                          427\n",
      "Short-term Hospital              290\n",
      "Name: Patient Disposition, dtype: int64\n",
      "\n",
      "********************\n",
      "\n",
      "Discharge Year : 1\n",
      "2015    14072\n",
      "Name: Discharge Year, dtype: int64\n",
      "\n",
      "********************\n",
      "\n",
      "CCS Diagnosis Code : 226\n",
      "218    1219\n",
      "657     864\n",
      "2       833\n",
      "127     459\n",
      "108     408\n",
      "Name: CCS Diagnosis Code, dtype: int64\n",
      "\n",
      "********************\n",
      "\n",
      "CCS Procedure Code : 165\n",
      "0      6956\n",
      "137     790\n",
      "216     567\n",
      "115     491\n",
      "134     379\n",
      "Name: CCS Procedure Code, dtype: int64\n",
      "\n",
      "********************\n",
      "\n",
      "APR DRG Code : 263\n",
      "640    1126\n",
      "560     818\n",
      "720     745\n",
      "140     494\n",
      "194     382\n",
      "Name: APR DRG Code, dtype: int64\n",
      "\n",
      "********************\n",
      "\n",
      "APR MDC Code : 25\n",
      "4     1702\n",
      "5     1553\n",
      "6     1299\n",
      "14    1291\n",
      "15    1233\n",
      "Name: APR MDC Code, dtype: int64\n",
      "\n",
      "********************\n",
      "\n",
      "APR Severity of Illness Code : 4\n",
      "2    5298\n",
      "1    4129\n",
      "3    3987\n",
      "4     658\n",
      "Name: APR Severity of Illness Code, dtype: int64\n",
      "\n",
      "********************\n",
      "\n",
      "APR Risk of Mortality : 4\n",
      "Minor       7296\n",
      "Moderate    3442\n",
      "Major       2734\n",
      "Extreme      600\n",
      "Name: APR Risk of Mortality, dtype: int64\n",
      "\n",
      "********************\n",
      "\n",
      "APR Medical Surgical Description : 2\n",
      "Medical           11256\n",
      "Surgical           2816\n",
      "Not Applicable        0\n",
      "Name: APR Medical Surgical Description, dtype: int64\n",
      "\n",
      "********************\n",
      "\n",
      "Payment Typology 1 : 8\n",
      "Medicare                    7149\n",
      "Medicaid                    3174\n",
      "Blue Cross/Blue Shield      1919\n",
      "Private Health Insurance    1424\n",
      "Self-Pay                     169\n",
      "Name: Payment Typology 1, dtype: int64\n",
      "\n",
      "********************\n",
      "\n",
      "Birth Weight : 38\n",
      "0       12822\n",
      "3500      129\n",
      "3400      101\n",
      "3300       96\n",
      "3600       92\n",
      "Name: Birth Weight, dtype: int64\n",
      "\n",
      "********************\n",
      "\n",
      "Abortion Edit Indicator : 1\n",
      "N    14072\n",
      "Y        0\n",
      "Name: Abortion Edit Indicator, dtype: int64\n",
      "\n",
      "********************\n",
      "\n",
      "Emergency Department Indicator : 2\n",
      "Y    9493\n",
      "N    4579\n",
      "Name: Emergency Department Indicator, dtype: int64\n",
      "\n",
      "********************\n",
      "\n",
      "Total Charges : 13528\n",
      "5357.70    67\n",
      "5276.70    63\n",
      "2849.70    35\n",
      "5885.05    32\n",
      "5899.15    25\n",
      "Name: Total Charges, dtype: int64\n",
      "\n",
      "********************\n",
      "\n",
      "Total Costs : 13510\n",
      "1896.61    67\n",
      "1881.32    63\n",
      "1041.81    35\n",
      "2076.81    32\n",
      "2082.50    25\n",
      "Name: Total Costs, dtype: int64\n",
      "\n",
      "********************\n",
      "\n"
     ]
    }
   ],
   "source": [
    "for col in Glens_df.columns:\n",
    "    print( col,':', Glens_df[col].nunique() )#Num of unique values\n",
    "    print(Glens_df[col].value_counts().nlargest(5)) #Most 5 frequent values\n",
    "    print('\\n' + '*' * 20 + '\\n')"
   ]
  },
  {
   "cell_type": "markdown",
   "id": "8e5b4237",
   "metadata": {
    "id": "f6ed4481",
    "papermill": {
     "duration": 0.078741,
     "end_time": "2023-02-21T20:37:31.285992",
     "exception": false,
     "start_time": "2023-02-21T20:37:31.207251",
     "status": "completed"
    },
    "tags": []
   },
   "source": [
    "preprocsesing "
   ]
  },
  {
   "cell_type": "code",
   "execution_count": 150,
   "id": "01ce1ce9",
   "metadata": {
    "execution": {
     "iopub.execute_input": "2023-02-21T20:37:31.501333Z",
     "iopub.status.busy": "2023-02-21T20:37:31.500150Z",
     "iopub.status.idle": "2023-02-21T20:37:31.508652Z",
     "shell.execute_reply": "2023-02-21T20:37:31.507592Z"
    },
    "id": "39380a55",
    "papermill": {
     "duration": 0.090548,
     "end_time": "2023-02-21T20:37:31.511081",
     "exception": false,
     "start_time": "2023-02-21T20:37:31.420533",
     "status": "completed"
    },
    "tags": []
   },
   "outputs": [],
   "source": [
    " #Glens_df[\"Length of Stay\"] = Glens_df[\"Length of Stay\"].astype('int64')\n",
    " #   simple mapping on binary features.\n",
    "Glens_df['Abortion Edit Indicator'] = Glens_df['Abortion Edit Indicator'].apply(\n",
    "     lambda x: 1 if x == 'Y' else (0 if x == 'N' else None))\n",
    "Glens_df['Emergency Department Indicator'] = Glens_df['Emergency Department Indicator'].apply(\n",
    "    lambda x: 1 if x == 'Y' else (0 if x == 'N' else None))"
   ]
  },
  {
   "cell_type": "code",
   "execution_count": 151,
   "id": "64eaee78",
   "metadata": {
    "execution": {
     "iopub.execute_input": "2023-02-21T20:37:31.670719Z",
     "iopub.status.busy": "2023-02-21T20:37:31.669875Z",
     "iopub.status.idle": "2023-02-21T20:37:31.683298Z",
     "shell.execute_reply": "2023-02-21T20:37:31.682083Z"
    },
    "id": "d6b4d241",
    "papermill": {
     "duration": 0.095937,
     "end_time": "2023-02-21T20:37:31.685543",
     "exception": false,
     "start_time": "2023-02-21T20:37:31.589606",
     "status": "completed"
    },
    "tags": []
   },
   "outputs": [],
   "source": [
    "Glens_df[\"Length of Stay\"]=pd.to_numeric(Glens_df[\"Length of Stay\"],errors='coerce')"
   ]
  },
  {
   "cell_type": "code",
   "execution_count": 152,
   "id": "c05c8981",
   "metadata": {
    "execution": {
     "iopub.execute_input": "2023-02-21T20:37:31.844884Z",
     "iopub.status.busy": "2023-02-21T20:37:31.844452Z",
     "iopub.status.idle": "2023-02-21T20:37:31.862888Z",
     "shell.execute_reply": "2023-02-21T20:37:31.861498Z"
    },
    "id": "8a0ea58f",
    "outputId": "21ceef9f-3f03-456a-d435-6197e8b6d5ab",
    "papermill": {
     "duration": 0.101415,
     "end_time": "2023-02-21T20:37:31.865307",
     "exception": false,
     "start_time": "2023-02-21T20:37:31.763892",
     "status": "completed"
    },
    "tags": []
   },
   "outputs": [
    {
     "name": "stdout",
     "output_type": "stream",
     "text": [
      "<class 'pandas.core.frame.DataFrame'>\n",
      "Int64Index: 14072 entries, 628756 to 664930\n",
      "Data columns (total 25 columns):\n",
      " #   Column                            Non-Null Count  Dtype   \n",
      "---  ------                            --------------  -----   \n",
      " 0   Hospital County                   14072 non-null  category\n",
      " 1   Operating Certificate Number      14072 non-null  float64 \n",
      " 2   Facility Id                       14072 non-null  float64 \n",
      " 3   Age Group                         14072 non-null  category\n",
      " 4   Zip Code - 3 digits               13957 non-null  category\n",
      " 5   Gender                            14072 non-null  category\n",
      " 6   Race                              14072 non-null  category\n",
      " 7   Ethnicity                         14072 non-null  category\n",
      " 8   Length of Stay                    14069 non-null  float64 \n",
      " 9   Type of Admission                 14072 non-null  category\n",
      " 10  Patient Disposition               14072 non-null  category\n",
      " 11  Discharge Year                    14072 non-null  int64   \n",
      " 12  CCS Diagnosis Code                14072 non-null  int64   \n",
      " 13  CCS Procedure Code                14072 non-null  int64   \n",
      " 14  APR DRG Code                      14072 non-null  int64   \n",
      " 15  APR MDC Code                      14072 non-null  int64   \n",
      " 16  APR Severity of Illness Code      14072 non-null  int64   \n",
      " 17  APR Risk of Mortality             14072 non-null  category\n",
      " 18  APR Medical Surgical Description  14072 non-null  category\n",
      " 19  Payment Typology 1                14072 non-null  category\n",
      " 20  Birth Weight                      14072 non-null  int64   \n",
      " 21  Abortion Edit Indicator           14072 non-null  category\n",
      " 22  Emergency Department Indicator    14072 non-null  category\n",
      " 23  Total Charges                     14072 non-null  float64 \n",
      " 24  Total Costs                       14072 non-null  float64 \n",
      "dtypes: category(13), float64(5), int64(7)\n",
      "memory usage: 1.6 MB\n"
     ]
    }
   ],
   "source": [
    "Glens_df.info()"
   ]
  },
  {
   "cell_type": "code",
   "execution_count": 153,
   "id": "05a252a1",
   "metadata": {
    "execution": {
     "iopub.execute_input": "2023-02-21T20:37:32.025187Z",
     "iopub.status.busy": "2023-02-21T20:37:32.024464Z",
     "iopub.status.idle": "2023-02-21T20:37:32.082424Z",
     "shell.execute_reply": "2023-02-21T20:37:32.081569Z"
    },
    "id": "2cd1508a",
    "papermill": {
     "duration": 0.140768,
     "end_time": "2023-02-21T20:37:32.084990",
     "exception": false,
     "start_time": "2023-02-21T20:37:31.944222",
     "status": "completed"
    },
    "tags": []
   },
   "outputs": [],
   "source": [
    "list=  [ \"Hospital County\",\"Age Group\"\n",
    "    ,\"Gender\",   \n",
    " \"Race\" , \n",
    "\"Ethnicity\", \n",
    "\"Gender\" , \n",
    "\"Race\" ,    \n",
    " \"Ethnicity\" ,        \n",
    " \"Type of Admission\"  ,  \n",
    "  \"Patient Disposition\",      \n",
    " \"Type of Admission\" ,  \n",
    " \"Patient Disposition\"  ,\n",
    "  \"APR Risk of Mortality\" ,   \n",
    " \"APR Medical Surgical Description\" ,\n",
    " \"Payment Typology 1\"   ,   \n",
    " \"Abortion Edit Indicator\"     ,  \n",
    " \"Emergency Department Indicator\",\n",
    "       \"Zip Code - 3 digits\"]  \n",
    "\n",
    "# Import label encoder\n",
    "from sklearn import preprocessing\n",
    "  \n",
    "# label_encoder object knows how to understand word labels.\n",
    "label_encoder = preprocessing.LabelEncoder()\n",
    "  \n",
    "# Encode labels in column 'species'.\n",
    "for col in list :\n",
    "  Glens_df[col]= label_encoder.fit_transform(Glens_df[col])"
   ]
  },
  {
   "cell_type": "code",
   "execution_count": 154,
   "id": "6cb6601f",
   "metadata": {
    "execution": {
     "iopub.execute_input": "2023-02-21T20:37:32.247302Z",
     "iopub.status.busy": "2023-02-21T20:37:32.246477Z",
     "iopub.status.idle": "2023-02-21T20:37:32.263236Z",
     "shell.execute_reply": "2023-02-21T20:37:32.261882Z"
    },
    "id": "e37d7d60",
    "outputId": "ea97505d-3b0d-470c-f322-b7acfe376b71",
    "papermill": {
     "duration": 0.099637,
     "end_time": "2023-02-21T20:37:32.265888",
     "exception": false,
     "start_time": "2023-02-21T20:37:32.166251",
     "status": "completed"
    },
    "tags": []
   },
   "outputs": [
    {
     "name": "stdout",
     "output_type": "stream",
     "text": [
      "<class 'pandas.core.frame.DataFrame'>\n",
      "Int64Index: 14072 entries, 628756 to 664930\n",
      "Data columns (total 25 columns):\n",
      " #   Column                            Non-Null Count  Dtype  \n",
      "---  ------                            --------------  -----  \n",
      " 0   Hospital County                   14072 non-null  int64  \n",
      " 1   Operating Certificate Number      14072 non-null  float64\n",
      " 2   Facility Id                       14072 non-null  float64\n",
      " 3   Age Group                         14072 non-null  int64  \n",
      " 4   Zip Code - 3 digits               14072 non-null  int64  \n",
      " 5   Gender                            14072 non-null  int64  \n",
      " 6   Race                              14072 non-null  int64  \n",
      " 7   Ethnicity                         14072 non-null  int64  \n",
      " 8   Length of Stay                    14069 non-null  float64\n",
      " 9   Type of Admission                 14072 non-null  int64  \n",
      " 10  Patient Disposition               14072 non-null  int64  \n",
      " 11  Discharge Year                    14072 non-null  int64  \n",
      " 12  CCS Diagnosis Code                14072 non-null  int64  \n",
      " 13  CCS Procedure Code                14072 non-null  int64  \n",
      " 14  APR DRG Code                      14072 non-null  int64  \n",
      " 15  APR MDC Code                      14072 non-null  int64  \n",
      " 16  APR Severity of Illness Code      14072 non-null  int64  \n",
      " 17  APR Risk of Mortality             14072 non-null  int64  \n",
      " 18  APR Medical Surgical Description  14072 non-null  int64  \n",
      " 19  Payment Typology 1                14072 non-null  int64  \n",
      " 20  Birth Weight                      14072 non-null  int64  \n",
      " 21  Abortion Edit Indicator           14072 non-null  int64  \n",
      " 22  Emergency Department Indicator    14072 non-null  int64  \n",
      " 23  Total Charges                     14072 non-null  float64\n",
      " 24  Total Costs                       14072 non-null  float64\n",
      "dtypes: float64(5), int64(20)\n",
      "memory usage: 2.8 MB\n"
     ]
    }
   ],
   "source": [
    "Glens_df.info()"
   ]
  },
  {
   "cell_type": "code",
   "execution_count": 155,
   "id": "ef2a685e",
   "metadata": {
    "execution": {
     "iopub.execute_input": "2023-02-21T20:37:32.430543Z",
     "iopub.status.busy": "2023-02-21T20:37:32.430105Z",
     "iopub.status.idle": "2023-02-21T20:37:32.442674Z",
     "shell.execute_reply": "2023-02-21T20:37:32.441299Z"
    },
    "id": "d6e03360",
    "outputId": "7d153f82-cede-4252-9885-b1387e83b801",
    "papermill": {
     "duration": 0.098259,
     "end_time": "2023-02-21T20:37:32.445319",
     "exception": false,
     "start_time": "2023-02-21T20:37:32.347060",
     "status": "completed"
    },
    "tags": []
   },
   "outputs": [
    {
     "data": {
      "text/plain": [
       "Hospital County                     0\n",
       "Operating Certificate Number        0\n",
       "Facility Id                         0\n",
       "Age Group                           0\n",
       "Zip Code - 3 digits                 0\n",
       "Gender                              0\n",
       "Race                                0\n",
       "Ethnicity                           0\n",
       "Length of Stay                      3\n",
       "Type of Admission                   0\n",
       "Patient Disposition                 0\n",
       "Discharge Year                      0\n",
       "CCS Diagnosis Code                  0\n",
       "CCS Procedure Code                  0\n",
       "APR DRG Code                        0\n",
       "APR MDC Code                        0\n",
       "APR Severity of Illness Code        0\n",
       "APR Risk of Mortality               0\n",
       "APR Medical Surgical Description    0\n",
       "Payment Typology 1                  0\n",
       "Birth Weight                        0\n",
       "Abortion Edit Indicator             0\n",
       "Emergency Department Indicator      0\n",
       "Total Charges                       0\n",
       "Total Costs                         0\n",
       "dtype: int64"
      ]
     },
     "execution_count": 155,
     "metadata": {},
     "output_type": "execute_result"
    }
   ],
   "source": [
    "Glens_df.isnull().sum()"
   ]
  },
  {
   "cell_type": "code",
   "execution_count": 156,
   "id": "fb2d5661",
   "metadata": {
    "execution": {
     "iopub.execute_input": "2023-02-21T20:37:32.607419Z",
     "iopub.status.busy": "2023-02-21T20:37:32.606966Z",
     "iopub.status.idle": "2023-02-21T20:37:32.619477Z",
     "shell.execute_reply": "2023-02-21T20:37:32.618251Z"
    },
    "id": "34f1cb75",
    "papermill": {
     "duration": 0.096327,
     "end_time": "2023-02-21T20:37:32.622171",
     "exception": false,
     "start_time": "2023-02-21T20:37:32.525844",
     "status": "completed"
    },
    "tags": []
   },
   "outputs": [],
   "source": [
    "Glens_df.dropna(inplace=True)"
   ]
  },
  {
   "cell_type": "code",
   "execution_count": 157,
   "id": "4689c528",
   "metadata": {
    "execution": {
     "iopub.execute_input": "2023-02-21T20:37:32.789094Z",
     "iopub.status.busy": "2023-02-21T20:37:32.788640Z",
     "iopub.status.idle": "2023-02-21T20:37:32.796538Z",
     "shell.execute_reply": "2023-02-21T20:37:32.795418Z"
    },
    "id": "95588afe",
    "papermill": {
     "duration": 0.097437,
     "end_time": "2023-02-21T20:37:32.799370",
     "exception": false,
     "start_time": "2023-02-21T20:37:32.701933",
     "status": "completed"
    },
    "tags": []
   },
   "outputs": [],
   "source": [
    "x = Glens_df.drop([\"Length of Stay\"], axis =1)\n",
    "y = Glens_df[\"Length of Stay\"]"
   ]
  },
  {
   "cell_type": "code",
   "execution_count": 158,
   "id": "7922867f",
   "metadata": {
    "execution": {
     "iopub.execute_input": "2023-02-21T20:37:32.964088Z",
     "iopub.status.busy": "2023-02-21T20:37:32.963671Z",
     "iopub.status.idle": "2023-02-21T20:37:32.979311Z",
     "shell.execute_reply": "2023-02-21T20:37:32.976921Z"
    },
    "id": "36c0ac4d",
    "outputId": "8fa722db-1dab-4bb3-8713-91a24346be8b",
    "papermill": {
     "duration": 0.099693,
     "end_time": "2023-02-21T20:37:32.981809",
     "exception": false,
     "start_time": "2023-02-21T20:37:32.882116",
     "status": "completed"
    },
    "tags": []
   },
   "outputs": [
    {
     "name": "stdout",
     "output_type": "stream",
     "text": [
      "<class 'pandas.core.frame.DataFrame'>\n",
      "Int64Index: 14069 entries, 628756 to 664930\n",
      "Data columns (total 24 columns):\n",
      " #   Column                            Non-Null Count  Dtype  \n",
      "---  ------                            --------------  -----  \n",
      " 0   Hospital County                   14069 non-null  int64  \n",
      " 1   Operating Certificate Number      14069 non-null  float64\n",
      " 2   Facility Id                       14069 non-null  float64\n",
      " 3   Age Group                         14069 non-null  int64  \n",
      " 4   Zip Code - 3 digits               14069 non-null  int64  \n",
      " 5   Gender                            14069 non-null  int64  \n",
      " 6   Race                              14069 non-null  int64  \n",
      " 7   Ethnicity                         14069 non-null  int64  \n",
      " 8   Type of Admission                 14069 non-null  int64  \n",
      " 9   Patient Disposition               14069 non-null  int64  \n",
      " 10  Discharge Year                    14069 non-null  int64  \n",
      " 11  CCS Diagnosis Code                14069 non-null  int64  \n",
      " 12  CCS Procedure Code                14069 non-null  int64  \n",
      " 13  APR DRG Code                      14069 non-null  int64  \n",
      " 14  APR MDC Code                      14069 non-null  int64  \n",
      " 15  APR Severity of Illness Code      14069 non-null  int64  \n",
      " 16  APR Risk of Mortality             14069 non-null  int64  \n",
      " 17  APR Medical Surgical Description  14069 non-null  int64  \n",
      " 18  Payment Typology 1                14069 non-null  int64  \n",
      " 19  Birth Weight                      14069 non-null  int64  \n",
      " 20  Abortion Edit Indicator           14069 non-null  int64  \n",
      " 21  Emergency Department Indicator    14069 non-null  int64  \n",
      " 22  Total Charges                     14069 non-null  float64\n",
      " 23  Total Costs                       14069 non-null  float64\n",
      "dtypes: float64(4), int64(20)\n",
      "memory usage: 2.7 MB\n"
     ]
    }
   ],
   "source": [
    "x.info()"
   ]
  },
  {
   "cell_type": "code",
   "execution_count": 159,
   "id": "081913b1",
   "metadata": {
    "execution": {
     "iopub.execute_input": "2023-02-21T20:37:33.147233Z",
     "iopub.status.busy": "2023-02-21T20:37:33.146472Z",
     "iopub.status.idle": "2023-02-21T20:37:33.156525Z",
     "shell.execute_reply": "2023-02-21T20:37:33.155220Z"
    },
    "id": "3f07ddf1",
    "outputId": "cbfb54d1-7a21-4614-fada-d685a98d263d",
    "papermill": {
     "duration": 0.09654,
     "end_time": "2023-02-21T20:37:33.159302",
     "exception": false,
     "start_time": "2023-02-21T20:37:33.062762",
     "status": "completed"
    },
    "tags": []
   },
   "outputs": [
    {
     "data": {
      "text/plain": [
       "628756    5.0\n",
       "628825    4.0\n",
       "629035    2.0\n",
       "629070    1.0\n",
       "629175    6.0\n",
       "         ... \n",
       "664926    1.0\n",
       "664927    1.0\n",
       "664928    1.0\n",
       "664929    1.0\n",
       "664930    1.0\n",
       "Name: Length of Stay, Length: 14069, dtype: float64"
      ]
     },
     "execution_count": 159,
     "metadata": {},
     "output_type": "execute_result"
    }
   ],
   "source": [
    "y"
   ]
  },
  {
   "cell_type": "code",
   "execution_count": 160,
   "id": "dcd4c14d",
   "metadata": {
    "execution": {
     "iopub.execute_input": "2023-02-21T20:37:33.341167Z",
     "iopub.status.busy": "2023-02-21T20:37:33.340715Z",
     "iopub.status.idle": "2023-02-21T20:37:33.351811Z",
     "shell.execute_reply": "2023-02-21T20:37:33.350580Z"
    },
    "id": "0586f6b7",
    "papermill": {
     "duration": 0.094534,
     "end_time": "2023-02-21T20:37:33.354510",
     "exception": false,
     "start_time": "2023-02-21T20:37:33.259976",
     "status": "completed"
    },
    "tags": []
   },
   "outputs": [],
   "source": [
    "from sklearn.model_selection import train_test_split\n",
    "x_train, x_test, y_train, y_test = train_test_split(x, y, test_size=0.3, random_state=42)"
   ]
  },
  {
   "cell_type": "code",
   "execution_count": 161,
   "id": "fddedb93",
   "metadata": {
    "execution": {
     "iopub.execute_input": "2023-02-21T20:37:33.514206Z",
     "iopub.status.busy": "2023-02-21T20:37:33.513757Z",
     "iopub.status.idle": "2023-02-21T20:37:33.518211Z",
     "shell.execute_reply": "2023-02-21T20:37:33.517032Z"
    },
    "id": "7c11e9d8",
    "papermill": {
     "duration": 0.086712,
     "end_time": "2023-02-21T20:37:33.520379",
     "exception": false,
     "start_time": "2023-02-21T20:37:33.433667",
     "status": "completed"
    },
    "tags": []
   },
   "outputs": [],
   "source": [
    "# Linear Regression\n",
    "#LR = LinearRegression()\n",
    "#LR.fit(x_train, y_train)"
   ]
  },
  {
   "cell_type": "code",
   "execution_count": 162,
   "id": "4ec29ba2",
   "metadata": {
    "execution": {
     "iopub.execute_input": "2023-02-21T20:37:33.682731Z",
     "iopub.status.busy": "2023-02-21T20:37:33.681556Z",
     "iopub.status.idle": "2023-02-21T20:37:33.712984Z",
     "shell.execute_reply": "2023-02-21T20:37:33.711330Z"
    },
    "id": "ee0f00f2",
    "papermill": {
     "duration": 0.118433,
     "end_time": "2023-02-21T20:37:33.718078",
     "exception": false,
     "start_time": "2023-02-21T20:37:33.599645",
     "status": "completed"
    },
    "tags": []
   },
   "outputs": [],
   "source": [
    "# Linear Regression\n",
    "\n",
    "LR = LinearRegression()\n",
    "LR.fit(x_train, y_train)\n",
    "LR.score(x_train, y_train)\n",
    "y_pred =LR.predict(x_test)"
   ]
  },
  {
   "cell_type": "code",
   "execution_count": 163,
   "id": "3a288efb",
   "metadata": {
    "execution": {
     "iopub.execute_input": "2023-02-21T20:37:33.951331Z",
     "iopub.status.busy": "2023-02-21T20:37:33.950950Z",
     "iopub.status.idle": "2023-02-21T20:37:33.959173Z",
     "shell.execute_reply": "2023-02-21T20:37:33.957903Z"
    },
    "id": "eb6a80ed",
    "outputId": "b6d9ff9c-3d00-434f-bf96-b1f0c74fd187",
    "papermill": {
     "duration": 0.091351,
     "end_time": "2023-02-21T20:37:33.961475",
     "exception": false,
     "start_time": "2023-02-21T20:37:33.870124",
     "status": "completed"
    },
    "tags": []
   },
   "outputs": [
    {
     "data": {
      "text/plain": [
       "0.7753107229320534"
      ]
     },
     "execution_count": 163,
     "metadata": {},
     "output_type": "execute_result"
    }
   ],
   "source": [
    "r2 = r2_score(y_test, y_pred)\n",
    "r2 \n"
   ]
  },
  {
   "cell_type": "code",
   "execution_count": 164,
   "id": "dfbdd43b",
   "metadata": {
    "execution": {
     "iopub.execute_input": "2023-02-21T20:37:34.126680Z",
     "iopub.status.busy": "2023-02-21T20:37:34.126247Z",
     "iopub.status.idle": "2023-02-21T20:37:34.133366Z",
     "shell.execute_reply": "2023-02-21T20:37:34.131515Z"
    },
    "id": "205f559b",
    "papermill": {
     "duration": 0.093463,
     "end_time": "2023-02-21T20:37:34.136313",
     "exception": false,
     "start_time": "2023-02-21T20:37:34.042850",
     "status": "completed"
    },
    "tags": []
   },
   "outputs": [],
   "source": [
    "# calculate the MAE of the model\n",
    "mae = mean_absolute_error(y_test, y_pred)"
   ]
  },
  {
   "cell_type": "code",
   "execution_count": 165,
   "id": "8dd9c733",
   "metadata": {
    "execution": {
     "iopub.execute_input": "2023-02-21T20:37:34.302899Z",
     "iopub.status.busy": "2023-02-21T20:37:34.302463Z",
     "iopub.status.idle": "2023-02-21T20:37:34.309620Z",
     "shell.execute_reply": "2023-02-21T20:37:34.308269Z"
    },
    "id": "f90975ec",
    "outputId": "ecd29978-9313-40a6-9672-1424bbd4414f",
    "papermill": {
     "duration": 0.091908,
     "end_time": "2023-02-21T20:37:34.312015",
     "exception": false,
     "start_time": "2023-02-21T20:37:34.220107",
     "status": "completed"
    },
    "tags": []
   },
   "outputs": [
    {
     "data": {
      "text/plain": [
       "1.519038644423741"
      ]
     },
     "execution_count": 165,
     "metadata": {},
     "output_type": "execute_result"
    }
   ],
   "source": [
    "mae"
   ]
  },
  {
   "cell_type": "code",
   "execution_count": 166,
   "id": "97e4f5e9",
   "metadata": {
    "execution": {
     "iopub.execute_input": "2023-02-21T20:37:34.475203Z",
     "iopub.status.busy": "2023-02-21T20:37:34.474762Z",
     "iopub.status.idle": "2023-02-21T20:37:34.483342Z",
     "shell.execute_reply": "2023-02-21T20:37:34.482436Z"
    },
    "id": "aa8f9fe2",
    "outputId": "accd38cb-15f8-4fe5-e5a8-8c1abd8bf7bb",
    "papermill": {
     "duration": 0.091704,
     "end_time": "2023-02-21T20:37:34.485492",
     "exception": false,
     "start_time": "2023-02-21T20:37:34.393788",
     "status": "completed"
    },
    "tags": []
   },
   "outputs": [
    {
     "data": {
      "text/plain": [
       "8.394303923962779"
      ]
     },
     "execution_count": 166,
     "metadata": {},
     "output_type": "execute_result"
    }
   ],
   "source": [
    "# calculate the MSE of the model\n",
    "mse = mean_squared_error(y_test, y_pred)\n",
    "mse"
   ]
  },
  {
   "cell_type": "code",
   "execution_count": 167,
   "id": "0f234a92",
   "metadata": {
    "execution": {
     "iopub.execute_input": "2023-02-21T20:37:34.648226Z",
     "iopub.status.busy": "2023-02-21T20:37:34.647237Z",
     "iopub.status.idle": "2023-02-21T20:37:34.654388Z",
     "shell.execute_reply": "2023-02-21T20:37:34.653607Z"
    },
    "id": "ba883927",
    "outputId": "26ce6542-b921-4b2d-eed8-eb9ac7d5c4be",
    "papermill": {
     "duration": 0.090426,
     "end_time": "2023-02-21T20:37:34.656340",
     "exception": false,
     "start_time": "2023-02-21T20:37:34.565914",
     "status": "completed"
    },
    "tags": []
   },
   "outputs": [
    {
     "data": {
      "text/plain": [
       "2.8972925161196237"
      ]
     },
     "execution_count": 167,
     "metadata": {},
     "output_type": "execute_result"
    }
   ],
   "source": [
    "# calculate the RMSE of the model\n",
    "rmse = np.sqrt(mse)\n",
    "rmse"
   ]
  },
  {
   "cell_type": "code",
   "execution_count": 168,
   "id": "0fc35056",
   "metadata": {
    "execution": {
     "iopub.execute_input": "2023-02-21T20:37:34.819442Z",
     "iopub.status.busy": "2023-02-21T20:37:34.818547Z",
     "iopub.status.idle": "2023-02-21T20:37:34.939626Z",
     "shell.execute_reply": "2023-02-21T20:37:34.938013Z"
    },
    "id": "16f6fc85",
    "papermill": {
     "duration": 0.208165,
     "end_time": "2023-02-21T20:37:34.944318",
     "exception": false,
     "start_time": "2023-02-21T20:37:34.736153",
     "status": "completed"
    },
    "tags": []
   },
   "outputs": [],
   "source": [
    "# LASSO\n",
    "L1 = linear_model.Lasso()\n",
    "L1.fit(x_train,y_train)\n",
    "y_pred1 = L1.predict(x_test)"
   ]
  },
  {
   "cell_type": "code",
   "execution_count": 169,
   "id": "9b97d655",
   "metadata": {
    "execution": {
     "iopub.execute_input": "2023-02-21T20:37:35.181383Z",
     "iopub.status.busy": "2023-02-21T20:37:35.180944Z",
     "iopub.status.idle": "2023-02-21T20:37:35.190035Z",
     "shell.execute_reply": "2023-02-21T20:37:35.188739Z"
    },
    "id": "c1cc780d",
    "outputId": "8708db22-9f4b-4ff4-b916-0f75f4e5ef62",
    "papermill": {
     "duration": 0.093351,
     "end_time": "2023-02-21T20:37:35.192352",
     "exception": false,
     "start_time": "2023-02-21T20:37:35.099001",
     "status": "completed"
    },
    "tags": []
   },
   "outputs": [
    {
     "data": {
      "text/plain": [
       "0.7507020198871027"
      ]
     },
     "execution_count": 169,
     "metadata": {},
     "output_type": "execute_result"
    }
   ],
   "source": [
    "r2 = r2_score(y_test, y_pred1)\n",
    "r2 \n"
   ]
  },
  {
   "cell_type": "code",
   "execution_count": 170,
   "id": "f2dd7183",
   "metadata": {
    "execution": {
     "iopub.execute_input": "2023-02-21T20:37:35.354907Z",
     "iopub.status.busy": "2023-02-21T20:37:35.354079Z",
     "iopub.status.idle": "2023-02-21T20:37:35.362122Z",
     "shell.execute_reply": "2023-02-21T20:37:35.361153Z"
    },
    "id": "c885f938",
    "outputId": "284b3080-3f50-413b-a80a-762868dde9cb",
    "papermill": {
     "duration": 0.092493,
     "end_time": "2023-02-21T20:37:35.364471",
     "exception": false,
     "start_time": "2023-02-21T20:37:35.271978",
     "status": "completed"
    },
    "tags": []
   },
   "outputs": [
    {
     "data": {
      "text/plain": [
       "1.5980824331021113"
      ]
     },
     "execution_count": 170,
     "metadata": {},
     "output_type": "execute_result"
    }
   ],
   "source": [
    "# calculate the MAE of the model\n",
    "mae = mean_absolute_error(y_test, y_pred1)\n",
    "mae"
   ]
  },
  {
   "cell_type": "code",
   "execution_count": 171,
   "id": "9ed1800c",
   "metadata": {
    "execution": {
     "iopub.execute_input": "2023-02-21T20:37:35.525724Z",
     "iopub.status.busy": "2023-02-21T20:37:35.525353Z",
     "iopub.status.idle": "2023-02-21T20:37:35.533406Z",
     "shell.execute_reply": "2023-02-21T20:37:35.532259Z"
    },
    "id": "9e550269",
    "outputId": "f4d9086e-f7af-46fa-c3f2-19f6d4bf81c1",
    "papermill": {
     "duration": 0.091074,
     "end_time": "2023-02-21T20:37:35.535739",
     "exception": false,
     "start_time": "2023-02-21T20:37:35.444665",
     "status": "completed"
    },
    "tags": []
   },
   "outputs": [
    {
     "data": {
      "text/plain": [
       "9.313675490018403"
      ]
     },
     "execution_count": 171,
     "metadata": {},
     "output_type": "execute_result"
    }
   ],
   "source": [
    "# calculate the MSE of the model\n",
    "mse = mean_squared_error(y_test, y_pred1)\n",
    "mse"
   ]
  },
  {
   "cell_type": "code",
   "execution_count": 172,
   "id": "a8f8d035",
   "metadata": {
    "execution": {
     "iopub.execute_input": "2023-02-21T20:37:35.698708Z",
     "iopub.status.busy": "2023-02-21T20:37:35.697926Z",
     "iopub.status.idle": "2023-02-21T20:37:35.705201Z",
     "shell.execute_reply": "2023-02-21T20:37:35.704137Z"
    },
    "id": "f428a38f",
    "outputId": "a6292ec2-e86b-4c00-d925-bdbc7eb35ebf",
    "papermill": {
     "duration": 0.090702,
     "end_time": "2023-02-21T20:37:35.707430",
     "exception": false,
     "start_time": "2023-02-21T20:37:35.616728",
     "status": "completed"
    },
    "tags": []
   },
   "outputs": [
    {
     "data": {
      "text/plain": [
       "3.0518314976450456"
      ]
     },
     "execution_count": 172,
     "metadata": {},
     "output_type": "execute_result"
    }
   ],
   "source": [
    "# calculate the RMSE of the model\n",
    "rmse = np.sqrt(mse)\n",
    "rmse"
   ]
  },
  {
   "cell_type": "code",
   "execution_count": 173,
   "id": "c0dba6ca",
   "metadata": {
    "execution": {
     "iopub.execute_input": "2023-02-21T20:37:35.869024Z",
     "iopub.status.busy": "2023-02-21T20:37:35.868513Z",
     "iopub.status.idle": "2023-02-21T20:37:35.885823Z",
     "shell.execute_reply": "2023-02-21T20:37:35.884174Z"
    },
    "id": "ca30a19e",
    "papermill": {
     "duration": 0.102844,
     "end_time": "2023-02-21T20:37:35.890146",
     "exception": false,
     "start_time": "2023-02-21T20:37:35.787302",
     "status": "completed"
    },
    "tags": []
   },
   "outputs": [],
   "source": [
    "# Ridge\n",
    "L2 = Ridge(alpha=1.0)\n",
    "L2.fit(x_train, y_train) \n",
    "y_pred3 = L2.predict(x_test)"
   ]
  },
  {
   "cell_type": "code",
   "execution_count": 174,
   "id": "81960fb9",
   "metadata": {
    "execution": {
     "iopub.execute_input": "2023-02-21T20:37:36.127736Z",
     "iopub.status.busy": "2023-02-21T20:37:36.127357Z",
     "iopub.status.idle": "2023-02-21T20:37:36.137019Z",
     "shell.execute_reply": "2023-02-21T20:37:36.135727Z"
    },
    "id": "27257f14",
    "outputId": "623ea142-b053-4f8a-d4c0-5b8f2097a795",
    "papermill": {
     "duration": 0.096138,
     "end_time": "2023-02-21T20:37:36.139381",
     "exception": false,
     "start_time": "2023-02-21T20:37:36.043243",
     "status": "completed"
    },
    "tags": []
   },
   "outputs": [
    {
     "data": {
      "text/plain": [
       "0.7753072003472253"
      ]
     },
     "execution_count": 174,
     "metadata": {},
     "output_type": "execute_result"
    }
   ],
   "source": [
    "r2 = r2_score(y_test, y_pred3)\n",
    "r2 "
   ]
  },
  {
   "cell_type": "code",
   "execution_count": 175,
   "id": "4a91c6ae",
   "metadata": {
    "execution": {
     "iopub.execute_input": "2023-02-21T20:37:36.305340Z",
     "iopub.status.busy": "2023-02-21T20:37:36.304531Z",
     "iopub.status.idle": "2023-02-21T20:37:36.312401Z",
     "shell.execute_reply": "2023-02-21T20:37:36.311509Z"
    },
    "id": "8e17c5d1",
    "outputId": "562c9bae-8a2a-40a2-afed-383094a80e19",
    "papermill": {
     "duration": 0.094715,
     "end_time": "2023-02-21T20:37:36.314672",
     "exception": false,
     "start_time": "2023-02-21T20:37:36.219957",
     "status": "completed"
    },
    "tags": []
   },
   "outputs": [
    {
     "data": {
      "text/plain": [
       "1.5188909684172016"
      ]
     },
     "execution_count": 175,
     "metadata": {},
     "output_type": "execute_result"
    }
   ],
   "source": [
    "# calculate the MAE of the model\n",
    "mae = mean_absolute_error(y_test, y_pred3)\n",
    "mae"
   ]
  },
  {
   "cell_type": "code",
   "execution_count": 176,
   "id": "612609a1",
   "metadata": {
    "execution": {
     "iopub.execute_input": "2023-02-21T20:37:36.478129Z",
     "iopub.status.busy": "2023-02-21T20:37:36.477722Z",
     "iopub.status.idle": "2023-02-21T20:37:36.485470Z",
     "shell.execute_reply": "2023-02-21T20:37:36.484205Z"
    },
    "id": "bd93e052",
    "outputId": "6d3da428-5676-44f6-a63a-2f7d43929002",
    "papermill": {
     "duration": 0.091181,
     "end_time": "2023-02-21T20:37:36.487655",
     "exception": false,
     "start_time": "2023-02-21T20:37:36.396474",
     "status": "completed"
    },
    "tags": []
   },
   "outputs": [
    {
     "data": {
      "text/plain": [
       "8.394435526360677"
      ]
     },
     "execution_count": 176,
     "metadata": {},
     "output_type": "execute_result"
    }
   ],
   "source": [
    "# calculate the MSE of the model\n",
    "mse = mean_squared_error(y_test, y_pred3)\n",
    "mse"
   ]
  },
  {
   "cell_type": "code",
   "execution_count": 177,
   "id": "b10934de",
   "metadata": {
    "execution": {
     "iopub.execute_input": "2023-02-21T20:37:36.707300Z",
     "iopub.status.busy": "2023-02-21T20:37:36.706197Z",
     "iopub.status.idle": "2023-02-21T20:37:36.714309Z",
     "shell.execute_reply": "2023-02-21T20:37:36.713307Z"
    },
    "id": "e44a7e8d",
    "outputId": "0014fdfb-21d3-4f51-dbb4-11e06e3c79ef",
    "papermill": {
     "duration": 0.148441,
     "end_time": "2023-02-21T20:37:36.716598",
     "exception": false,
     "start_time": "2023-02-21T20:37:36.568157",
     "status": "completed"
    },
    "tags": []
   },
   "outputs": [
    {
     "data": {
      "text/plain": [
       "2.8973152273028004"
      ]
     },
     "execution_count": 177,
     "metadata": {},
     "output_type": "execute_result"
    }
   ],
   "source": [
    "# calculate the RMSE of the model\n",
    "rmse = np.sqrt(mse)\n",
    "rmse"
   ]
  },
  {
   "cell_type": "markdown",
   "id": "dee5ecc9",
   "metadata": {
    "id": "9719b0e0",
    "papermill": {
     "duration": 0.080097,
     "end_time": "2023-02-21T20:37:36.876712",
     "exception": false,
     "start_time": "2023-02-21T20:37:36.796615",
     "status": "completed"
    },
    "tags": []
   },
   "source": [
    "##Client 7 : The Burdett Care Center"
   ]
  },
  {
   "cell_type": "code",
   "execution_count": 178,
   "id": "145af3d4",
   "metadata": {
    "execution": {
     "iopub.execute_input": "2023-02-21T20:37:37.043743Z",
     "iopub.status.busy": "2023-02-21T20:37:37.043078Z",
     "iopub.status.idle": "2023-02-21T20:37:37.196270Z",
     "shell.execute_reply": "2023-02-21T20:37:37.195052Z"
    },
    "id": "fb2c4e0b",
    "papermill": {
     "duration": 0.238334,
     "end_time": "2023-02-21T20:37:37.199067",
     "exception": false,
     "start_time": "2023-02-21T20:37:36.960733",
     "status": "completed"
    },
    "tags": []
   },
   "outputs": [],
   "source": [
    "Burdett_df=df[df[\"Facility Name\"]== 'The Burdett Care Center']"
   ]
  },
  {
   "cell_type": "code",
   "execution_count": 179,
   "id": "564f043e",
   "metadata": {
    "execution": {
     "iopub.execute_input": "2023-02-21T20:37:37.362973Z",
     "iopub.status.busy": "2023-02-21T20:37:37.362572Z",
     "iopub.status.idle": "2023-02-21T20:37:37.383057Z",
     "shell.execute_reply": "2023-02-21T20:37:37.381910Z"
    },
    "id": "df76ac20",
    "outputId": "8938e969-536f-4241-a47f-a3dd0b242010",
    "papermill": {
     "duration": 0.106235,
     "end_time": "2023-02-21T20:37:37.386320",
     "exception": false,
     "start_time": "2023-02-21T20:37:37.280085",
     "status": "completed"
    },
    "tags": []
   },
   "outputs": [
    {
     "name": "stdout",
     "output_type": "stream",
     "text": [
      "<class 'pandas.core.frame.DataFrame'>\n",
      "Int64Index: 2007 entries, 664931 to 666956\n",
      "Data columns (total 28 columns):\n",
      " #   Column                            Non-Null Count  Dtype   \n",
      "---  ------                            --------------  -----   \n",
      " 0   Hospital County                   2007 non-null   category\n",
      " 1   Operating Certificate Number      2007 non-null   float64 \n",
      " 2   Facility Id                       2007 non-null   float64 \n",
      " 3   Facility Name                     2007 non-null   object  \n",
      " 4   Age Group                         2007 non-null   category\n",
      " 5   Zip Code - 3 digits               1990 non-null   category\n",
      " 6   Gender                            2007 non-null   category\n",
      " 7   Race                              2007 non-null   category\n",
      " 8   Ethnicity                         2007 non-null   category\n",
      " 9   Length of Stay                    2007 non-null   category\n",
      " 10  Type of Admission                 2007 non-null   category\n",
      " 11  Patient Disposition               2007 non-null   category\n",
      " 12  Discharge Year                    2007 non-null   int64   \n",
      " 13  CCS Diagnosis Code                2007 non-null   int64   \n",
      " 14  CCS Procedure Code                2007 non-null   int64   \n",
      " 15  APR DRG Code                      2007 non-null   int64   \n",
      " 16  APR MDC Code                      2007 non-null   int64   \n",
      " 17  APR Severity of Illness Code      2007 non-null   int64   \n",
      " 18  APR Risk of Mortality             2007 non-null   category\n",
      " 19  APR Medical Surgical Description  2007 non-null   category\n",
      " 20  Payment Typology 1                2007 non-null   category\n",
      " 21  Payment Typology 2                2007 non-null   category\n",
      " 22  Payment Typology 3                2007 non-null   category\n",
      " 23  Birth Weight                      2007 non-null   int64   \n",
      " 24  Abortion Edit Indicator           2007 non-null   category\n",
      " 25  Emergency Department Indicator    2007 non-null   category\n",
      " 26  Total Charges                     2007 non-null   float64 \n",
      " 27  Total Costs                       2007 non-null   float64 \n",
      "dtypes: category(16), float64(4), int64(7), object(1)\n",
      "memory usage: 255.3+ KB\n"
     ]
    }
   ],
   "source": [
    "Burdett_df.info()"
   ]
  },
  {
   "cell_type": "code",
   "execution_count": 180,
   "id": "043a38a7",
   "metadata": {
    "execution": {
     "iopub.execute_input": "2023-02-21T20:37:37.551244Z",
     "iopub.status.busy": "2023-02-21T20:37:37.550786Z",
     "iopub.status.idle": "2023-02-21T20:37:37.600430Z",
     "shell.execute_reply": "2023-02-21T20:37:37.599257Z"
    },
    "id": "092fb4d2",
    "outputId": "ffa9e3f5-4488-4e48-98e5-a040b9c7de4d",
    "papermill": {
     "duration": 0.134199,
     "end_time": "2023-02-21T20:37:37.602900",
     "exception": false,
     "start_time": "2023-02-21T20:37:37.468701",
     "status": "completed"
    },
    "tags": []
   },
   "outputs": [
    {
     "name": "stdout",
     "output_type": "stream",
     "text": [
      "Hospital County : 1\n",
      "Rensselaer    2007\n",
      "Albany           0\n",
      "Niagara          0\n",
      "Onondaga         0\n",
      "Ontario          0\n",
      "Name: Hospital County, dtype: int64\n",
      "\n",
      "********************\n",
      "\n",
      "Operating Certificate Number : 1\n",
      "4102004.0    2007\n",
      "Name: Operating Certificate Number, dtype: int64\n",
      "\n",
      "********************\n",
      "\n",
      "Facility Id : 1\n",
      "9250.0    2007\n",
      "Name: Facility Id, dtype: int64\n",
      "\n",
      "********************\n",
      "\n",
      "Facility Name : 1\n",
      "The Burdett Care Center    2007\n",
      "Name: Facility Name, dtype: int64\n",
      "\n",
      "********************\n",
      "\n",
      "Age Group : 3\n",
      "0 to 17        997\n",
      "18 to 29       623\n",
      "30 to 49       387\n",
      "50 to 69         0\n",
      "70 or Older      0\n",
      "Name: Age Group, dtype: int64\n",
      "\n",
      "********************\n",
      "\n",
      "Zip Code - 3 digits : 7\n",
      "121    1309\n",
      "120     466\n",
      "122     110\n",
      "123      50\n",
      "128      45\n",
      "Name: Zip Code - 3 digits, dtype: int64\n",
      "\n",
      "********************\n",
      "\n",
      "Gender : 2\n",
      "F    1498\n",
      "M     509\n",
      "U       0\n",
      "Name: Gender, dtype: int64\n",
      "\n",
      "********************\n",
      "\n",
      "Race : 3\n",
      "White                     1376\n",
      "Other Race                 396\n",
      "Black/African American     235\n",
      "Multi-racial                 0\n",
      "Name: Race, dtype: int64\n",
      "\n",
      "********************\n",
      "\n",
      "Ethnicity : 2\n",
      "Not Span/Hispanic    1922\n",
      "Spanish/Hispanic       85\n",
      "Multi-ethnic            0\n",
      "Unknown                 0\n",
      "Name: Ethnicity, dtype: int64\n",
      "\n",
      "********************\n",
      "\n",
      "Length of Stay : 7\n",
      "2    994\n",
      "3    456\n",
      "1    386\n",
      "4    119\n",
      "5     38\n",
      "Name: Length of Stay, dtype: int64\n",
      "\n",
      "********************\n",
      "\n",
      "Type of Admission : 4\n",
      "Newborn          985\n",
      "Elective         710\n",
      "Urgent           286\n",
      "Emergency         26\n",
      "Not Available      0\n",
      "Name: Type of Admission, dtype: int64\n",
      "\n",
      "********************\n",
      "\n",
      "Patient Disposition : 4\n",
      "Home or Self Care              1963\n",
      "Short-term Hospital              42\n",
      "Expired                           1\n",
      "Left Against Medical Advice       1\n",
      "Another Type Not Listed           0\n",
      "Name: Patient Disposition, dtype: int64\n",
      "\n",
      "********************\n",
      "\n",
      "Discharge Year : 1\n",
      "2015    2007\n",
      "Name: Discharge Year, dtype: int64\n",
      "\n",
      "********************\n",
      "\n",
      "CCS Diagnosis Code : 18\n",
      "218    985\n",
      "195    184\n",
      "191    111\n",
      "185    108\n",
      "192    104\n",
      "Name: CCS Diagnosis Code, dtype: int64\n",
      "\n",
      "********************\n",
      "\n",
      "CCS Procedure Code : 29\n",
      "228    455\n",
      "115    365\n",
      "134    243\n",
      "231    198\n",
      "0      191\n",
      "Name: CCS Procedure Code, dtype: int64\n",
      "\n",
      "********************\n",
      "\n",
      "APR DRG Code : 19\n",
      "640    892\n",
      "560    723\n",
      "540    244\n",
      "581     36\n",
      "626     22\n",
      "Name: APR DRG Code, dtype: int64\n",
      "\n",
      "********************\n",
      "\n",
      "APR MDC Code : 2\n",
      "14    1019\n",
      "15     988\n",
      "Name: APR MDC Code, dtype: int64\n",
      "\n",
      "********************\n",
      "\n",
      "APR Severity of Illness Code : 4\n",
      "1    1372\n",
      "2     559\n",
      "3      74\n",
      "4       2\n",
      "Name: APR Severity of Illness Code, dtype: int64\n",
      "\n",
      "********************\n",
      "\n",
      "APR Risk of Mortality : 4\n",
      "Minor       1995\n",
      "Moderate      10\n",
      "Extreme        1\n",
      "Major          1\n",
      "Name: APR Risk of Mortality, dtype: int64\n",
      "\n",
      "********************\n",
      "\n",
      "APR Medical Surgical Description : 2\n",
      "Medical           1737\n",
      "Surgical           270\n",
      "Not Applicable       0\n",
      "Name: APR Medical Surgical Description, dtype: int64\n",
      "\n",
      "********************\n",
      "\n",
      "Payment Typology 1 : 6\n",
      "Medicaid                    1059\n",
      "Private Health Insurance     549\n",
      "Blue Cross/Blue Shield       289\n",
      "Self-Pay                      52\n",
      "Federal/State/Local/VA        46\n",
      "Name: Payment Typology 1, dtype: int64\n",
      "\n",
      "********************\n",
      "\n",
      "Payment Typology 2 : 6\n",
      "Self-Pay                    1932\n",
      "Medicaid                      61\n",
      "Private Health Insurance       9\n",
      "Blue Cross/Blue Shield         3\n",
      "Medicare                       1\n",
      "Name: Payment Typology 2, dtype: int64\n",
      "\n",
      "********************\n",
      "\n",
      "Payment Typology 3 : 2\n",
      "Self-Pay                     2006\n",
      "Medicaid                        1\n",
      "Blue Cross/Blue Shield          0\n",
      "Department of Corrections       0\n",
      "Federal/State/Local/VA          0\n",
      "Name: Payment Typology 3, dtype: int64\n",
      "\n",
      "********************\n",
      "\n",
      "Birth Weight : 41\n",
      "0       1019\n",
      "3100      85\n",
      "3200      78\n",
      "3300      75\n",
      "3000      74\n",
      "Name: Birth Weight, dtype: int64\n",
      "\n",
      "********************\n",
      "\n",
      "Abortion Edit Indicator : 1\n",
      "N    2007\n",
      "Y       0\n",
      "Name: Abortion Edit Indicator, dtype: int64\n",
      "\n",
      "********************\n",
      "\n",
      "Emergency Department Indicator : 1\n",
      "N    2007\n",
      "Y       0\n",
      "Name: Emergency Department Indicator, dtype: int64\n",
      "\n",
      "********************\n",
      "\n",
      "Total Charges : 1619\n",
      "3356.7    25\n",
      "3035.7    24\n",
      "1757.7    23\n",
      "3060.7    22\n",
      "3185.7    21\n",
      "Name: Total Charges, dtype: int64\n",
      "\n",
      "********************\n",
      "\n",
      "Total Costs : 1637\n",
      "1801.48    24\n",
      "1012.78    23\n",
      "1816.91    22\n",
      "1975.28    21\n",
      "1869.75    20\n",
      "Name: Total Costs, dtype: int64\n",
      "\n",
      "********************\n",
      "\n"
     ]
    }
   ],
   "source": [
    "for col in Burdett_df.columns:\n",
    "    print( col,':', Burdett_df[col].nunique() )#Num of unique values\n",
    "    print(Burdett_df[col].value_counts().nlargest(5)) #Most 5 frequent values\n",
    "    print('\\n' + '*' * 20 + '\\n')"
   ]
  },
  {
   "cell_type": "code",
   "execution_count": 181,
   "id": "047b624a",
   "metadata": {
    "execution": {
     "iopub.execute_input": "2023-02-21T20:37:37.767068Z",
     "iopub.status.busy": "2023-02-21T20:37:37.766640Z",
     "iopub.status.idle": "2023-02-21T20:37:37.775595Z",
     "shell.execute_reply": "2023-02-21T20:37:37.774264Z"
    },
    "id": "29b3d732",
    "outputId": "379005c6-6d09-4ff2-9bb9-bf56429eb5ef",
    "papermill": {
     "duration": 0.094292,
     "end_time": "2023-02-21T20:37:37.778387",
     "exception": false,
     "start_time": "2023-02-21T20:37:37.684095",
     "status": "completed"
    },
    "tags": []
   },
   "outputs": [
    {
     "name": "stderr",
     "output_type": "stream",
     "text": [
      "/opt/conda/lib/python3.7/site-packages/ipykernel_launcher.py:3: SettingWithCopyWarning: \n",
      "A value is trying to be set on a copy of a slice from a DataFrame.\n",
      "Try using .loc[row_indexer,col_indexer] = value instead\n",
      "\n",
      "See the caveats in the documentation: https://pandas.pydata.org/pandas-docs/stable/user_guide/indexing.html#returning-a-view-versus-a-copy\n",
      "  This is separate from the ipykernel package so we can avoid doing imports until\n",
      "/opt/conda/lib/python3.7/site-packages/ipykernel_launcher.py:5: SettingWithCopyWarning: \n",
      "A value is trying to be set on a copy of a slice from a DataFrame.\n",
      "Try using .loc[row_indexer,col_indexer] = value instead\n",
      "\n",
      "See the caveats in the documentation: https://pandas.pydata.org/pandas-docs/stable/user_guide/indexing.html#returning-a-view-versus-a-copy\n",
      "  \"\"\"\n"
     ]
    }
   ],
   "source": [
    " #   simple mapping on binary features.\n",
    "Burdett_df['Abortion Edit Indicator'] = Burdett_df['Abortion Edit Indicator'].apply(\n",
    "     lambda x: 1 if x == 'Y' else (0 if x == 'N' else None))\n",
    "Burdett_df['Emergency Department Indicator'] = Burdett_df['Emergency Department Indicator'].apply(\n",
    "    lambda x: 1 if x == 'Y' else (0 if x == 'N' else None))"
   ]
  },
  {
   "cell_type": "code",
   "execution_count": 182,
   "id": "67559cdc",
   "metadata": {
    "execution": {
     "iopub.execute_input": "2023-02-21T20:37:37.947665Z",
     "iopub.status.busy": "2023-02-21T20:37:37.946550Z",
     "iopub.status.idle": "2023-02-21T20:37:37.976161Z",
     "shell.execute_reply": "2023-02-21T20:37:37.975010Z"
    },
    "id": "1b218310",
    "outputId": "24176e16-16f0-43b5-cf69-a7dcc1f540ac",
    "papermill": {
     "duration": 0.115837,
     "end_time": "2023-02-21T20:37:37.978810",
     "exception": false,
     "start_time": "2023-02-21T20:37:37.862973",
     "status": "completed"
    },
    "tags": []
   },
   "outputs": [
    {
     "data": {
      "text/html": [
       "<div>\n",
       "<style scoped>\n",
       "    .dataframe tbody tr th:only-of-type {\n",
       "        vertical-align: middle;\n",
       "    }\n",
       "\n",
       "    .dataframe tbody tr th {\n",
       "        vertical-align: top;\n",
       "    }\n",
       "\n",
       "    .dataframe thead th {\n",
       "        text-align: right;\n",
       "    }\n",
       "</style>\n",
       "<table border=\"1\" class=\"dataframe\">\n",
       "  <thead>\n",
       "    <tr style=\"text-align: right;\">\n",
       "      <th></th>\n",
       "      <th>Hospital County</th>\n",
       "      <th>Operating Certificate Number</th>\n",
       "      <th>Facility Id</th>\n",
       "      <th>Facility Name</th>\n",
       "      <th>Age Group</th>\n",
       "      <th>Zip Code - 3 digits</th>\n",
       "      <th>Gender</th>\n",
       "      <th>Race</th>\n",
       "      <th>Ethnicity</th>\n",
       "      <th>Length of Stay</th>\n",
       "      <th>...</th>\n",
       "      <th>APR Risk of Mortality</th>\n",
       "      <th>APR Medical Surgical Description</th>\n",
       "      <th>Payment Typology 1</th>\n",
       "      <th>Payment Typology 2</th>\n",
       "      <th>Payment Typology 3</th>\n",
       "      <th>Birth Weight</th>\n",
       "      <th>Abortion Edit Indicator</th>\n",
       "      <th>Emergency Department Indicator</th>\n",
       "      <th>Total Charges</th>\n",
       "      <th>Total Costs</th>\n",
       "    </tr>\n",
       "  </thead>\n",
       "  <tbody>\n",
       "    <tr>\n",
       "      <th>664931</th>\n",
       "      <td>Rensselaer</td>\n",
       "      <td>4102004.0</td>\n",
       "      <td>9250.0</td>\n",
       "      <td>The Burdett Care Center</td>\n",
       "      <td>30 to 49</td>\n",
       "      <td>121</td>\n",
       "      <td>F</td>\n",
       "      <td>White</td>\n",
       "      <td>Not Span/Hispanic</td>\n",
       "      <td>3</td>\n",
       "      <td>...</td>\n",
       "      <td>Minor</td>\n",
       "      <td>Surgical</td>\n",
       "      <td>Private Health Insurance</td>\n",
       "      <td>Self-Pay</td>\n",
       "      <td>Self-Pay</td>\n",
       "      <td>0</td>\n",
       "      <td>0</td>\n",
       "      <td>0</td>\n",
       "      <td>12560.54</td>\n",
       "      <td>7260.24</td>\n",
       "    </tr>\n",
       "    <tr>\n",
       "      <th>664932</th>\n",
       "      <td>Rensselaer</td>\n",
       "      <td>4102004.0</td>\n",
       "      <td>9250.0</td>\n",
       "      <td>The Burdett Care Center</td>\n",
       "      <td>18 to 29</td>\n",
       "      <td>120</td>\n",
       "      <td>F</td>\n",
       "      <td>White</td>\n",
       "      <td>Not Span/Hispanic</td>\n",
       "      <td>2</td>\n",
       "      <td>...</td>\n",
       "      <td>Minor</td>\n",
       "      <td>Medical</td>\n",
       "      <td>Medicaid</td>\n",
       "      <td>Self-Pay</td>\n",
       "      <td>Self-Pay</td>\n",
       "      <td>0</td>\n",
       "      <td>0</td>\n",
       "      <td>0</td>\n",
       "      <td>6672.11</td>\n",
       "      <td>3832.18</td>\n",
       "    </tr>\n",
       "    <tr>\n",
       "      <th>664933</th>\n",
       "      <td>Rensselaer</td>\n",
       "      <td>4102004.0</td>\n",
       "      <td>9250.0</td>\n",
       "      <td>The Burdett Care Center</td>\n",
       "      <td>18 to 29</td>\n",
       "      <td>120</td>\n",
       "      <td>F</td>\n",
       "      <td>White</td>\n",
       "      <td>Not Span/Hispanic</td>\n",
       "      <td>2</td>\n",
       "      <td>...</td>\n",
       "      <td>Minor</td>\n",
       "      <td>Surgical</td>\n",
       "      <td>Medicaid</td>\n",
       "      <td>Self-Pay</td>\n",
       "      <td>Self-Pay</td>\n",
       "      <td>0</td>\n",
       "      <td>0</td>\n",
       "      <td>0</td>\n",
       "      <td>10598.85</td>\n",
       "      <td>5926.81</td>\n",
       "    </tr>\n",
       "    <tr>\n",
       "      <th>664934</th>\n",
       "      <td>Rensselaer</td>\n",
       "      <td>4102004.0</td>\n",
       "      <td>9250.0</td>\n",
       "      <td>The Burdett Care Center</td>\n",
       "      <td>18 to 29</td>\n",
       "      <td>121</td>\n",
       "      <td>F</td>\n",
       "      <td>Black/African American</td>\n",
       "      <td>Not Span/Hispanic</td>\n",
       "      <td>3</td>\n",
       "      <td>...</td>\n",
       "      <td>Minor</td>\n",
       "      <td>Surgical</td>\n",
       "      <td>Blue Cross/Blue Shield</td>\n",
       "      <td>Self-Pay</td>\n",
       "      <td>Self-Pay</td>\n",
       "      <td>0</td>\n",
       "      <td>0</td>\n",
       "      <td>0</td>\n",
       "      <td>17085.67</td>\n",
       "      <td>8402.28</td>\n",
       "    </tr>\n",
       "    <tr>\n",
       "      <th>664935</th>\n",
       "      <td>Rensselaer</td>\n",
       "      <td>4102004.0</td>\n",
       "      <td>9250.0</td>\n",
       "      <td>The Burdett Care Center</td>\n",
       "      <td>18 to 29</td>\n",
       "      <td>120</td>\n",
       "      <td>F</td>\n",
       "      <td>White</td>\n",
       "      <td>Not Span/Hispanic</td>\n",
       "      <td>2</td>\n",
       "      <td>...</td>\n",
       "      <td>Minor</td>\n",
       "      <td>Surgical</td>\n",
       "      <td>Medicaid</td>\n",
       "      <td>Self-Pay</td>\n",
       "      <td>Self-Pay</td>\n",
       "      <td>0</td>\n",
       "      <td>0</td>\n",
       "      <td>0</td>\n",
       "      <td>9914.79</td>\n",
       "      <td>5671.25</td>\n",
       "    </tr>\n",
       "  </tbody>\n",
       "</table>\n",
       "<p>5 rows × 28 columns</p>\n",
       "</div>"
      ],
      "text/plain": [
       "       Hospital County  Operating Certificate Number  Facility Id  \\\n",
       "664931      Rensselaer                     4102004.0       9250.0   \n",
       "664932      Rensselaer                     4102004.0       9250.0   \n",
       "664933      Rensselaer                     4102004.0       9250.0   \n",
       "664934      Rensselaer                     4102004.0       9250.0   \n",
       "664935      Rensselaer                     4102004.0       9250.0   \n",
       "\n",
       "                  Facility Name Age Group Zip Code - 3 digits Gender  \\\n",
       "664931  The Burdett Care Center  30 to 49                 121      F   \n",
       "664932  The Burdett Care Center  18 to 29                 120      F   \n",
       "664933  The Burdett Care Center  18 to 29                 120      F   \n",
       "664934  The Burdett Care Center  18 to 29                 121      F   \n",
       "664935  The Burdett Care Center  18 to 29                 120      F   \n",
       "\n",
       "                          Race          Ethnicity Length of Stay  ...  \\\n",
       "664931                   White  Not Span/Hispanic              3  ...   \n",
       "664932                   White  Not Span/Hispanic              2  ...   \n",
       "664933                   White  Not Span/Hispanic              2  ...   \n",
       "664934  Black/African American  Not Span/Hispanic              3  ...   \n",
       "664935                   White  Not Span/Hispanic              2  ...   \n",
       "\n",
       "       APR Risk of Mortality APR Medical Surgical Description  \\\n",
       "664931                 Minor                         Surgical   \n",
       "664932                 Minor                          Medical   \n",
       "664933                 Minor                         Surgical   \n",
       "664934                 Minor                         Surgical   \n",
       "664935                 Minor                         Surgical   \n",
       "\n",
       "              Payment Typology 1  Payment Typology 2  Payment Typology 3  \\\n",
       "664931  Private Health Insurance            Self-Pay            Self-Pay   \n",
       "664932                  Medicaid            Self-Pay            Self-Pay   \n",
       "664933                  Medicaid            Self-Pay            Self-Pay   \n",
       "664934    Blue Cross/Blue Shield            Self-Pay            Self-Pay   \n",
       "664935                  Medicaid            Self-Pay            Self-Pay   \n",
       "\n",
       "        Birth Weight  Abortion Edit Indicator  Emergency Department Indicator  \\\n",
       "664931             0                        0                               0   \n",
       "664932             0                        0                               0   \n",
       "664933             0                        0                               0   \n",
       "664934             0                        0                               0   \n",
       "664935             0                        0                               0   \n",
       "\n",
       "       Total Charges Total Costs  \n",
       "664931      12560.54     7260.24  \n",
       "664932       6672.11     3832.18  \n",
       "664933      10598.85     5926.81  \n",
       "664934      17085.67     8402.28  \n",
       "664935       9914.79     5671.25  \n",
       "\n",
       "[5 rows x 28 columns]"
      ]
     },
     "execution_count": 182,
     "metadata": {},
     "output_type": "execute_result"
    }
   ],
   "source": [
    "Burdett_df.head()"
   ]
  },
  {
   "cell_type": "code",
   "execution_count": 183,
   "id": "a5ef21d5",
   "metadata": {
    "execution": {
     "iopub.execute_input": "2023-02-21T20:37:38.149543Z",
     "iopub.status.busy": "2023-02-21T20:37:38.149138Z",
     "iopub.status.idle": "2023-02-21T20:37:38.157343Z",
     "shell.execute_reply": "2023-02-21T20:37:38.156252Z"
    },
    "id": "3c465c2a",
    "outputId": "fef2534c-1767-4b11-b07a-9f291db448c5",
    "papermill": {
     "duration": 0.0989,
     "end_time": "2023-02-21T20:37:38.160294",
     "exception": false,
     "start_time": "2023-02-21T20:37:38.061394",
     "status": "completed"
    },
    "tags": []
   },
   "outputs": [
    {
     "name": "stderr",
     "output_type": "stream",
     "text": [
      "/opt/conda/lib/python3.7/site-packages/ipykernel_launcher.py:1: SettingWithCopyWarning: \n",
      "A value is trying to be set on a copy of a slice from a DataFrame.\n",
      "Try using .loc[row_indexer,col_indexer] = value instead\n",
      "\n",
      "See the caveats in the documentation: https://pandas.pydata.org/pandas-docs/stable/user_guide/indexing.html#returning-a-view-versus-a-copy\n",
      "  \"\"\"Entry point for launching an IPython kernel.\n"
     ]
    }
   ],
   "source": [
    "Burdett_df[\"Length of Stay\"]=pd.to_numeric(Burdett_df[\"Length of Stay\"],errors='coerce')"
   ]
  },
  {
   "cell_type": "code",
   "execution_count": 184,
   "id": "9db0de1a",
   "metadata": {
    "execution": {
     "iopub.execute_input": "2023-02-21T20:37:38.330154Z",
     "iopub.status.busy": "2023-02-21T20:37:38.329523Z",
     "iopub.status.idle": "2023-02-21T20:37:38.352386Z",
     "shell.execute_reply": "2023-02-21T20:37:38.350550Z"
    },
    "id": "8a34e67b",
    "outputId": "9dfc3baf-3b1e-4b6a-a48f-cc8e7ad43d52",
    "papermill": {
     "duration": 0.111153,
     "end_time": "2023-02-21T20:37:38.354965",
     "exception": false,
     "start_time": "2023-02-21T20:37:38.243812",
     "status": "completed"
    },
    "tags": []
   },
   "outputs": [
    {
     "name": "stdout",
     "output_type": "stream",
     "text": [
      "<class 'pandas.core.frame.DataFrame'>\n",
      "Int64Index: 2007 entries, 664931 to 666956\n",
      "Data columns (total 28 columns):\n",
      " #   Column                            Non-Null Count  Dtype   \n",
      "---  ------                            --------------  -----   \n",
      " 0   Hospital County                   2007 non-null   category\n",
      " 1   Operating Certificate Number      2007 non-null   float64 \n",
      " 2   Facility Id                       2007 non-null   float64 \n",
      " 3   Facility Name                     2007 non-null   object  \n",
      " 4   Age Group                         2007 non-null   category\n",
      " 5   Zip Code - 3 digits               1990 non-null   category\n",
      " 6   Gender                            2007 non-null   category\n",
      " 7   Race                              2007 non-null   category\n",
      " 8   Ethnicity                         2007 non-null   category\n",
      " 9   Length of Stay                    2007 non-null   int64   \n",
      " 10  Type of Admission                 2007 non-null   category\n",
      " 11  Patient Disposition               2007 non-null   category\n",
      " 12  Discharge Year                    2007 non-null   int64   \n",
      " 13  CCS Diagnosis Code                2007 non-null   int64   \n",
      " 14  CCS Procedure Code                2007 non-null   int64   \n",
      " 15  APR DRG Code                      2007 non-null   int64   \n",
      " 16  APR MDC Code                      2007 non-null   int64   \n",
      " 17  APR Severity of Illness Code      2007 non-null   int64   \n",
      " 18  APR Risk of Mortality             2007 non-null   category\n",
      " 19  APR Medical Surgical Description  2007 non-null   category\n",
      " 20  Payment Typology 1                2007 non-null   category\n",
      " 21  Payment Typology 2                2007 non-null   category\n",
      " 22  Payment Typology 3                2007 non-null   category\n",
      " 23  Birth Weight                      2007 non-null   int64   \n",
      " 24  Abortion Edit Indicator           2007 non-null   category\n",
      " 25  Emergency Department Indicator    2007 non-null   category\n",
      " 26  Total Charges                     2007 non-null   float64 \n",
      " 27  Total Costs                       2007 non-null   float64 \n",
      "dtypes: category(15), float64(4), int64(8), object(1)\n",
      "memory usage: 257.2+ KB\n"
     ]
    }
   ],
   "source": [
    "Burdett_df.info()"
   ]
  },
  {
   "cell_type": "code",
   "execution_count": 185,
   "id": "0c918349",
   "metadata": {
    "execution": {
     "iopub.execute_input": "2023-02-21T20:37:38.522158Z",
     "iopub.status.busy": "2023-02-21T20:37:38.521344Z",
     "iopub.status.idle": "2023-02-21T20:37:38.548196Z",
     "shell.execute_reply": "2023-02-21T20:37:38.547030Z"
    },
    "id": "86b64347",
    "outputId": "c88daab9-5fd6-43dd-f5ea-4e28f9f8ac5e",
    "papermill": {
     "duration": 0.113414,
     "end_time": "2023-02-21T20:37:38.551149",
     "exception": false,
     "start_time": "2023-02-21T20:37:38.437735",
     "status": "completed"
    },
    "tags": []
   },
   "outputs": [
    {
     "name": "stderr",
     "output_type": "stream",
     "text": [
      "/opt/conda/lib/python3.7/site-packages/ipykernel_launcher.py:29: SettingWithCopyWarning: \n",
      "A value is trying to be set on a copy of a slice from a DataFrame.\n",
      "Try using .loc[row_indexer,col_indexer] = value instead\n",
      "\n",
      "See the caveats in the documentation: https://pandas.pydata.org/pandas-docs/stable/user_guide/indexing.html#returning-a-view-versus-a-copy\n"
     ]
    }
   ],
   "source": [
    "list=  [ \"Hospital County\",\"Age Group\"\n",
    "    ,\"Gender\",   \n",
    " \"Race\" , \n",
    "\"Ethnicity\", \n",
    "\"Gender\" , \n",
    "\"Race\" ,    \n",
    " \"Ethnicity\" ,        \n",
    " \"Type of Admission\"  ,  \n",
    "  \"Patient Disposition\",      \n",
    " \"Type of Admission\" ,  \n",
    " \"Patient Disposition\"  ,\n",
    "  \"APR Risk of Mortality\" ,   \n",
    " \"APR Medical Surgical Description\" ,\n",
    " \"Payment Typology 1\"   ,   \n",
    " \"Abortion Edit Indicator\"     ,  \n",
    " \"Emergency Department Indicator\",\n",
    "       \"Zip Code - 3 digits\",\"Payment Typology 2\"        \n",
    "   ,\"Payment Typology 3\"]  \n",
    "\n",
    "# Import label encoder\n",
    "from sklearn import preprocessing\n",
    "  \n",
    "# label_encoder object knows how to understand word labels.        \n",
    "   \n",
    "label_encoder = preprocessing.LabelEncoder()\n",
    "  \n",
    "# Encode labels in column 'species'. \n",
    "for col in list :\n",
    "  Burdett_df[col]= label_encoder.fit_transform(Burdett_df[col])"
   ]
  },
  {
   "cell_type": "code",
   "execution_count": 186,
   "id": "89787fce",
   "metadata": {
    "execution": {
     "iopub.execute_input": "2023-02-21T20:37:38.717305Z",
     "iopub.status.busy": "2023-02-21T20:37:38.716880Z",
     "iopub.status.idle": "2023-02-21T20:37:38.736327Z",
     "shell.execute_reply": "2023-02-21T20:37:38.734603Z"
    },
    "id": "3e0dc99c",
    "outputId": "16046b89-5949-4764-daf3-b66c6e2355aa",
    "papermill": {
     "duration": 0.105564,
     "end_time": "2023-02-21T20:37:38.738810",
     "exception": false,
     "start_time": "2023-02-21T20:37:38.633246",
     "status": "completed"
    },
    "tags": []
   },
   "outputs": [
    {
     "name": "stdout",
     "output_type": "stream",
     "text": [
      "<class 'pandas.core.frame.DataFrame'>\n",
      "Int64Index: 2007 entries, 664931 to 666956\n",
      "Data columns (total 28 columns):\n",
      " #   Column                            Non-Null Count  Dtype  \n",
      "---  ------                            --------------  -----  \n",
      " 0   Hospital County                   2007 non-null   int64  \n",
      " 1   Operating Certificate Number      2007 non-null   float64\n",
      " 2   Facility Id                       2007 non-null   float64\n",
      " 3   Facility Name                     2007 non-null   object \n",
      " 4   Age Group                         2007 non-null   int64  \n",
      " 5   Zip Code - 3 digits               2007 non-null   int64  \n",
      " 6   Gender                            2007 non-null   int64  \n",
      " 7   Race                              2007 non-null   int64  \n",
      " 8   Ethnicity                         2007 non-null   int64  \n",
      " 9   Length of Stay                    2007 non-null   int64  \n",
      " 10  Type of Admission                 2007 non-null   int64  \n",
      " 11  Patient Disposition               2007 non-null   int64  \n",
      " 12  Discharge Year                    2007 non-null   int64  \n",
      " 13  CCS Diagnosis Code                2007 non-null   int64  \n",
      " 14  CCS Procedure Code                2007 non-null   int64  \n",
      " 15  APR DRG Code                      2007 non-null   int64  \n",
      " 16  APR MDC Code                      2007 non-null   int64  \n",
      " 17  APR Severity of Illness Code      2007 non-null   int64  \n",
      " 18  APR Risk of Mortality             2007 non-null   int64  \n",
      " 19  APR Medical Surgical Description  2007 non-null   int64  \n",
      " 20  Payment Typology 1                2007 non-null   int64  \n",
      " 21  Payment Typology 2                2007 non-null   int64  \n",
      " 22  Payment Typology 3                2007 non-null   int64  \n",
      " 23  Birth Weight                      2007 non-null   int64  \n",
      " 24  Abortion Edit Indicator           2007 non-null   int64  \n",
      " 25  Emergency Department Indicator    2007 non-null   int64  \n",
      " 26  Total Charges                     2007 non-null   float64\n",
      " 27  Total Costs                       2007 non-null   float64\n",
      "dtypes: float64(4), int64(23), object(1)\n",
      "memory usage: 454.7+ KB\n"
     ]
    }
   ],
   "source": [
    "Burdett_df.info()"
   ]
  },
  {
   "cell_type": "code",
   "execution_count": 187,
   "id": "8c1e3f1b",
   "metadata": {
    "execution": {
     "iopub.execute_input": "2023-02-21T20:37:38.904647Z",
     "iopub.status.busy": "2023-02-21T20:37:38.904225Z",
     "iopub.status.idle": "2023-02-21T20:37:38.911415Z",
     "shell.execute_reply": "2023-02-21T20:37:38.910352Z"
    },
    "id": "ac648427",
    "papermill": {
     "duration": 0.092653,
     "end_time": "2023-02-21T20:37:38.913780",
     "exception": false,
     "start_time": "2023-02-21T20:37:38.821127",
     "status": "completed"
    },
    "tags": []
   },
   "outputs": [],
   "source": [
    "Burdett_df=Burdett_df.drop(\"Facility Name\", axis=1)"
   ]
  },
  {
   "cell_type": "code",
   "execution_count": 188,
   "id": "1261b6f0",
   "metadata": {
    "execution": {
     "iopub.execute_input": "2023-02-21T20:37:39.081968Z",
     "iopub.status.busy": "2023-02-21T20:37:39.081552Z",
     "iopub.status.idle": "2023-02-21T20:37:39.088414Z",
     "shell.execute_reply": "2023-02-21T20:37:39.087316Z"
    },
    "id": "3b5b4619",
    "papermill": {
     "duration": 0.094637,
     "end_time": "2023-02-21T20:37:39.090719",
     "exception": false,
     "start_time": "2023-02-21T20:37:38.996082",
     "status": "completed"
    },
    "tags": []
   },
   "outputs": [],
   "source": [
    "x = Burdett_df.drop([\"Length of Stay\"], axis =1)\n",
    "y = Burdett_df[\"Length of Stay\"]"
   ]
  },
  {
   "cell_type": "code",
   "execution_count": 189,
   "id": "6054a91f",
   "metadata": {
    "execution": {
     "iopub.execute_input": "2023-02-21T20:37:39.259747Z",
     "iopub.status.busy": "2023-02-21T20:37:39.259358Z",
     "iopub.status.idle": "2023-02-21T20:37:39.266464Z",
     "shell.execute_reply": "2023-02-21T20:37:39.265250Z"
    },
    "id": "60b4c58b",
    "papermill": {
     "duration": 0.092864,
     "end_time": "2023-02-21T20:37:39.269021",
     "exception": false,
     "start_time": "2023-02-21T20:37:39.176157",
     "status": "completed"
    },
    "tags": []
   },
   "outputs": [],
   "source": [
    "from sklearn.model_selection import train_test_split\n",
    "x_train, x_test, y_train, y_test = train_test_split(x, y, test_size=0.3, random_state=42)"
   ]
  },
  {
   "cell_type": "code",
   "execution_count": 190,
   "id": "498c8012",
   "metadata": {
    "execution": {
     "iopub.execute_input": "2023-02-21T20:37:39.438546Z",
     "iopub.status.busy": "2023-02-21T20:37:39.438124Z",
     "iopub.status.idle": "2023-02-21T20:37:39.460277Z",
     "shell.execute_reply": "2023-02-21T20:37:39.458432Z"
    },
    "id": "58959d80",
    "papermill": {
     "duration": 0.111045,
     "end_time": "2023-02-21T20:37:39.464729",
     "exception": false,
     "start_time": "2023-02-21T20:37:39.353684",
     "status": "completed"
    },
    "tags": []
   },
   "outputs": [],
   "source": [
    "# Linear Regression\n",
    "\n",
    "LR = LinearRegression()\n",
    "LR.fit(x_train, y_train)\n",
    "LR.score(x_train, y_train)\n",
    "y_pred =LR.predict(x_test)"
   ]
  },
  {
   "cell_type": "code",
   "execution_count": 191,
   "id": "ee921158",
   "metadata": {
    "execution": {
     "iopub.execute_input": "2023-02-21T20:37:39.703752Z",
     "iopub.status.busy": "2023-02-21T20:37:39.703337Z",
     "iopub.status.idle": "2023-02-21T20:37:39.711357Z",
     "shell.execute_reply": "2023-02-21T20:37:39.710243Z"
    },
    "id": "ffb685b2",
    "outputId": "aabbccd8-e949-4b2f-d626-37bf3593b5e8",
    "papermill": {
     "duration": 0.094378,
     "end_time": "2023-02-21T20:37:39.713577",
     "exception": false,
     "start_time": "2023-02-21T20:37:39.619199",
     "status": "completed"
    },
    "tags": []
   },
   "outputs": [
    {
     "data": {
      "text/plain": [
       "0.8723056813594046"
      ]
     },
     "execution_count": 191,
     "metadata": {},
     "output_type": "execute_result"
    }
   ],
   "source": [
    "r2 = r2_score(y_test, y_pred)\n",
    "r2 \n"
   ]
  },
  {
   "cell_type": "code",
   "execution_count": 192,
   "id": "f21c376a",
   "metadata": {
    "execution": {
     "iopub.execute_input": "2023-02-21T20:37:39.882674Z",
     "iopub.status.busy": "2023-02-21T20:37:39.882246Z",
     "iopub.status.idle": "2023-02-21T20:37:39.890453Z",
     "shell.execute_reply": "2023-02-21T20:37:39.889215Z"
    },
    "id": "117fe58a",
    "outputId": "d264e392-e304-4f8d-a1b5-2120bf3563ac",
    "papermill": {
     "duration": 0.095563,
     "end_time": "2023-02-21T20:37:39.892784",
     "exception": false,
     "start_time": "2023-02-21T20:37:39.797221",
     "status": "completed"
    },
    "tags": []
   },
   "outputs": [
    {
     "data": {
      "text/plain": [
       "0.23125353938413457"
      ]
     },
     "execution_count": 192,
     "metadata": {},
     "output_type": "execute_result"
    }
   ],
   "source": [
    "# calculate the MAE of the model\n",
    "mae = mean_absolute_error(y_test, y_pred)\n",
    "mae"
   ]
  },
  {
   "cell_type": "code",
   "execution_count": 193,
   "id": "53d67526",
   "metadata": {
    "execution": {
     "iopub.execute_input": "2023-02-21T20:37:40.064268Z",
     "iopub.status.busy": "2023-02-21T20:37:40.063039Z",
     "iopub.status.idle": "2023-02-21T20:37:40.070351Z",
     "shell.execute_reply": "2023-02-21T20:37:40.069486Z"
    },
    "id": "ef97ba02",
    "outputId": "f59a1ca4-d87a-4fce-967e-7f1c3319276c",
    "papermill": {
     "duration": 0.096479,
     "end_time": "2023-02-21T20:37:40.072635",
     "exception": false,
     "start_time": "2023-02-21T20:37:39.976156",
     "status": "completed"
    },
    "tags": []
   },
   "outputs": [
    {
     "data": {
      "text/plain": [
       "0.1265392685345504"
      ]
     },
     "execution_count": 193,
     "metadata": {},
     "output_type": "execute_result"
    }
   ],
   "source": [
    "# calculate the MSE of the model\n",
    "mse = mean_squared_error(y_test, y_pred)\n",
    "mse"
   ]
  },
  {
   "cell_type": "code",
   "execution_count": 194,
   "id": "3c4337ab",
   "metadata": {
    "execution": {
     "iopub.execute_input": "2023-02-21T20:37:40.244208Z",
     "iopub.status.busy": "2023-02-21T20:37:40.243809Z",
     "iopub.status.idle": "2023-02-21T20:37:40.250252Z",
     "shell.execute_reply": "2023-02-21T20:37:40.249317Z"
    },
    "id": "5fe6e211",
    "outputId": "5b5cd078-3a4d-4fdf-99ca-d53610ba20de",
    "papermill": {
     "duration": 0.094828,
     "end_time": "2023-02-21T20:37:40.252446",
     "exception": false,
     "start_time": "2023-02-21T20:37:40.157618",
     "status": "completed"
    },
    "tags": []
   },
   "outputs": [
    {
     "data": {
      "text/plain": [
       "0.3557235844508351"
      ]
     },
     "execution_count": 194,
     "metadata": {},
     "output_type": "execute_result"
    }
   ],
   "source": [
    "# calculate the RMSE of the model\n",
    "rmse = np.sqrt(mse)\n",
    "rmse"
   ]
  },
  {
   "cell_type": "code",
   "execution_count": 195,
   "id": "3df95f8c",
   "metadata": {
    "execution": {
     "iopub.execute_input": "2023-02-21T20:37:40.422910Z",
     "iopub.status.busy": "2023-02-21T20:37:40.422136Z",
     "iopub.status.idle": "2023-02-21T20:37:40.452333Z",
     "shell.execute_reply": "2023-02-21T20:37:40.450575Z"
    },
    "id": "ffeb5f54",
    "papermill": {
     "duration": 0.121819,
     "end_time": "2023-02-21T20:37:40.456971",
     "exception": false,
     "start_time": "2023-02-21T20:37:40.335152",
     "status": "completed"
    },
    "tags": []
   },
   "outputs": [],
   "source": [
    "# LASSO\n",
    "L1 = linear_model.Lasso()\n",
    "L1.fit(x_train,y_train)\n",
    "y_pred1 = L1.predict(x_test)"
   ]
  },
  {
   "cell_type": "code",
   "execution_count": 196,
   "id": "c384c0de",
   "metadata": {
    "execution": {
     "iopub.execute_input": "2023-02-21T20:37:40.696369Z",
     "iopub.status.busy": "2023-02-21T20:37:40.695949Z",
     "iopub.status.idle": "2023-02-21T20:37:40.703958Z",
     "shell.execute_reply": "2023-02-21T20:37:40.702857Z"
    },
    "id": "f3a88b8f",
    "outputId": "6c39e739-94eb-435e-8132-2588799237f3",
    "papermill": {
     "duration": 0.09402,
     "end_time": "2023-02-21T20:37:40.706434",
     "exception": false,
     "start_time": "2023-02-21T20:37:40.612414",
     "status": "completed"
    },
    "tags": []
   },
   "outputs": [
    {
     "data": {
      "text/plain": [
       "0.3459801547925998"
      ]
     },
     "execution_count": 196,
     "metadata": {},
     "output_type": "execute_result"
    }
   ],
   "source": [
    "# calculate the MAE of the model\n",
    "mae = mean_absolute_error(y_test, y_pred1)\n",
    "mae"
   ]
  },
  {
   "cell_type": "code",
   "execution_count": 197,
   "id": "9fdabf36",
   "metadata": {
    "execution": {
     "iopub.execute_input": "2023-02-21T20:37:40.872006Z",
     "iopub.status.busy": "2023-02-21T20:37:40.871606Z",
     "iopub.status.idle": "2023-02-21T20:37:40.880244Z",
     "shell.execute_reply": "2023-02-21T20:37:40.878793Z"
    },
    "id": "46f4cb33",
    "outputId": "73c67ebe-51ed-469f-a580-d2e6c2c7bf67",
    "papermill": {
     "duration": 0.094572,
     "end_time": "2023-02-21T20:37:40.882557",
     "exception": false,
     "start_time": "2023-02-21T20:37:40.787985",
     "status": "completed"
    },
    "tags": []
   },
   "outputs": [
    {
     "data": {
      "text/plain": [
       "0.3101903514122998"
      ]
     },
     "execution_count": 197,
     "metadata": {},
     "output_type": "execute_result"
    }
   ],
   "source": [
    "# calculate the MSE of the model\n",
    "mse = mean_squared_error(y_test, y_pred1)\n",
    "mse"
   ]
  },
  {
   "cell_type": "code",
   "execution_count": 198,
   "id": "2ab20ebb",
   "metadata": {
    "execution": {
     "iopub.execute_input": "2023-02-21T20:37:41.050563Z",
     "iopub.status.busy": "2023-02-21T20:37:41.050189Z",
     "iopub.status.idle": "2023-02-21T20:37:41.056472Z",
     "shell.execute_reply": "2023-02-21T20:37:41.055662Z"
    },
    "id": "c9217d00",
    "outputId": "aefe91f9-85bc-474d-b3ac-96f4fed0c3d2",
    "papermill": {
     "duration": 0.092839,
     "end_time": "2023-02-21T20:37:41.058579",
     "exception": false,
     "start_time": "2023-02-21T20:37:40.965740",
     "status": "completed"
    },
    "tags": []
   },
   "outputs": [
    {
     "data": {
      "text/plain": [
       "0.5569473506645846"
      ]
     },
     "execution_count": 198,
     "metadata": {},
     "output_type": "execute_result"
    }
   ],
   "source": [
    "# calculate the RMSE of the model\n",
    "rmse = np.sqrt(mse)\n",
    "rmse"
   ]
  },
  {
   "cell_type": "code",
   "execution_count": 199,
   "id": "f9aa4313",
   "metadata": {
    "execution": {
     "iopub.execute_input": "2023-02-21T20:37:41.229054Z",
     "iopub.status.busy": "2023-02-21T20:37:41.228224Z",
     "iopub.status.idle": "2023-02-21T20:37:41.236782Z",
     "shell.execute_reply": "2023-02-21T20:37:41.235525Z"
    },
    "id": "fafb2642",
    "outputId": "97a52829-81a8-4f78-b57d-b284f224d5c4",
    "papermill": {
     "duration": 0.095746,
     "end_time": "2023-02-21T20:37:41.239269",
     "exception": false,
     "start_time": "2023-02-21T20:37:41.143523",
     "status": "completed"
    },
    "tags": []
   },
   "outputs": [
    {
     "data": {
      "text/plain": [
       "0.6869782318864484"
      ]
     },
     "execution_count": 199,
     "metadata": {},
     "output_type": "execute_result"
    }
   ],
   "source": [
    "r2 = r2_score(y_test, y_pred1)\n",
    "r2 \n"
   ]
  },
  {
   "cell_type": "code",
   "execution_count": 200,
   "id": "c933aefc",
   "metadata": {
    "execution": {
     "iopub.execute_input": "2023-02-21T20:37:41.411071Z",
     "iopub.status.busy": "2023-02-21T20:37:41.410631Z",
     "iopub.status.idle": "2023-02-21T20:37:41.426315Z",
     "shell.execute_reply": "2023-02-21T20:37:41.424476Z"
    },
    "id": "d09b61f7",
    "papermill": {
     "duration": 0.109394,
     "end_time": "2023-02-21T20:37:41.433011",
     "exception": false,
     "start_time": "2023-02-21T20:37:41.323617",
     "status": "completed"
    },
    "tags": []
   },
   "outputs": [],
   "source": [
    "# Ridge\n",
    "L2 = Ridge(alpha=1.0)\n",
    "L2.fit(x_train, y_train) \n",
    "y_pred3 = L2.predict(x_test)"
   ]
  },
  {
   "cell_type": "code",
   "execution_count": 201,
   "id": "a5994efc",
   "metadata": {
    "execution": {
     "iopub.execute_input": "2023-02-21T20:37:41.728273Z",
     "iopub.status.busy": "2023-02-21T20:37:41.727871Z",
     "iopub.status.idle": "2023-02-21T20:37:41.736039Z",
     "shell.execute_reply": "2023-02-21T20:37:41.734909Z"
    },
    "id": "3f2e5e0d",
    "outputId": "a41317d4-6b3a-4514-9d1f-48ee3ea4a2b9",
    "papermill": {
     "duration": 0.149576,
     "end_time": "2023-02-21T20:37:41.738562",
     "exception": false,
     "start_time": "2023-02-21T20:37:41.588986",
     "status": "completed"
    },
    "tags": []
   },
   "outputs": [
    {
     "data": {
      "text/plain": [
       "0.8810130092697138"
      ]
     },
     "execution_count": 201,
     "metadata": {},
     "output_type": "execute_result"
    }
   ],
   "source": [
    "r2 = r2_score(y_test, y_pred3)\n",
    "r2 "
   ]
  },
  {
   "cell_type": "code",
   "execution_count": 202,
   "id": "f34be75a",
   "metadata": {
    "execution": {
     "iopub.execute_input": "2023-02-21T20:37:41.906951Z",
     "iopub.status.busy": "2023-02-21T20:37:41.906429Z",
     "iopub.status.idle": "2023-02-21T20:37:41.915105Z",
     "shell.execute_reply": "2023-02-21T20:37:41.913992Z"
    },
    "id": "175fbbc6",
    "outputId": "f65a16b4-16c7-4ac2-86ee-8b40064ff910",
    "papermill": {
     "duration": 0.095806,
     "end_time": "2023-02-21T20:37:41.917536",
     "exception": false,
     "start_time": "2023-02-21T20:37:41.821730",
     "status": "completed"
    },
    "tags": []
   },
   "outputs": [
    {
     "data": {
      "text/plain": [
       "0.2269137110295729"
      ]
     },
     "execution_count": 202,
     "metadata": {},
     "output_type": "execute_result"
    }
   ],
   "source": [
    "# calculate the MAE of the model\n",
    "mae = mean_absolute_error(y_test, y_pred3)\n",
    "mae"
   ]
  },
  {
   "cell_type": "code",
   "execution_count": 203,
   "id": "645c8624",
   "metadata": {
    "execution": {
     "iopub.execute_input": "2023-02-21T20:37:42.089004Z",
     "iopub.status.busy": "2023-02-21T20:37:42.088583Z",
     "iopub.status.idle": "2023-02-21T20:37:42.095743Z",
     "shell.execute_reply": "2023-02-21T20:37:42.094914Z"
    },
    "id": "fa6491c7",
    "outputId": "9c7d3200-6aba-44fc-e298-57b91047e7f3",
    "papermill": {
     "duration": 0.095737,
     "end_time": "2023-02-21T20:37:42.098046",
     "exception": false,
     "start_time": "2023-02-21T20:37:42.002309",
     "status": "completed"
    },
    "tags": []
   },
   "outputs": [
    {
     "data": {
      "text/plain": [
       "0.11791070215516318"
      ]
     },
     "execution_count": 203,
     "metadata": {},
     "output_type": "execute_result"
    }
   ],
   "source": [
    "# calculate the MSE of the model\n",
    "mse = mean_squared_error(y_test, y_pred3)\n",
    "mse"
   ]
  },
  {
   "cell_type": "code",
   "execution_count": 204,
   "id": "00108693",
   "metadata": {
    "execution": {
     "iopub.execute_input": "2023-02-21T20:37:42.268204Z",
     "iopub.status.busy": "2023-02-21T20:37:42.267756Z",
     "iopub.status.idle": "2023-02-21T20:37:42.274400Z",
     "shell.execute_reply": "2023-02-21T20:37:42.273545Z"
    },
    "id": "3f4d717b",
    "outputId": "6e45c85e-c311-47a0-b594-6a9a9bfa9946",
    "papermill": {
     "duration": 0.093728,
     "end_time": "2023-02-21T20:37:42.276510",
     "exception": false,
     "start_time": "2023-02-21T20:37:42.182782",
     "status": "completed"
    },
    "tags": []
   },
   "outputs": [
    {
     "data": {
      "text/plain": [
       "0.3433812781081158"
      ]
     },
     "execution_count": 204,
     "metadata": {},
     "output_type": "execute_result"
    }
   ],
   "source": [
    "# calculate the RMSE of the model\n",
    "rmse = np.sqrt(mse)\n",
    "rmse"
   ]
  },
  {
   "cell_type": "markdown",
   "id": "286eeedd",
   "metadata": {
    "id": "adb2f8ed",
    "papermill": {
     "duration": 0.084604,
     "end_time": "2023-02-21T20:37:42.446291",
     "exception": false,
     "start_time": "2023-02-21T20:37:42.361687",
     "status": "completed"
    },
    "tags": []
   },
   "source": [
    "##Client 8: Putnam Hospital Center"
   ]
  },
  {
   "cell_type": "code",
   "execution_count": 205,
   "id": "3240f723",
   "metadata": {
    "execution": {
     "iopub.execute_input": "2023-02-21T20:37:42.616572Z",
     "iopub.status.busy": "2023-02-21T20:37:42.616154Z",
     "iopub.status.idle": "2023-02-21T20:37:42.769787Z",
     "shell.execute_reply": "2023-02-21T20:37:42.768416Z"
    },
    "id": "e68c7b2e",
    "papermill": {
     "duration": 0.242203,
     "end_time": "2023-02-21T20:37:42.772456",
     "exception": false,
     "start_time": "2023-02-21T20:37:42.530253",
     "status": "completed"
    },
    "tags": []
   },
   "outputs": [],
   "source": [
    "Putnam_df=df[df[\"Facility Name\"]== \"Putnam Hospital Center\"]"
   ]
  },
  {
   "cell_type": "code",
   "execution_count": 206,
   "id": "48352808",
   "metadata": {
    "execution": {
     "iopub.execute_input": "2023-02-21T20:37:42.946399Z",
     "iopub.status.busy": "2023-02-21T20:37:42.945821Z",
     "iopub.status.idle": "2023-02-21T20:37:42.991536Z",
     "shell.execute_reply": "2023-02-21T20:37:42.990366Z"
    },
    "id": "167b8be0",
    "outputId": "25bd35fb-9df4-453f-a260-bfe6f24394e8",
    "papermill": {
     "duration": 0.137149,
     "end_time": "2023-02-21T20:37:42.994115",
     "exception": false,
     "start_time": "2023-02-21T20:37:42.856966",
     "status": "completed"
    },
    "tags": []
   },
   "outputs": [
    {
     "data": {
      "text/html": [
       "<div>\n",
       "<style scoped>\n",
       "    .dataframe tbody tr th:only-of-type {\n",
       "        vertical-align: middle;\n",
       "    }\n",
       "\n",
       "    .dataframe tbody tr th {\n",
       "        vertical-align: top;\n",
       "    }\n",
       "\n",
       "    .dataframe thead th {\n",
       "        text-align: right;\n",
       "    }\n",
       "</style>\n",
       "<table border=\"1\" class=\"dataframe\">\n",
       "  <thead>\n",
       "    <tr style=\"text-align: right;\">\n",
       "      <th></th>\n",
       "      <th>Hospital County</th>\n",
       "      <th>Operating Certificate Number</th>\n",
       "      <th>Facility Id</th>\n",
       "      <th>Facility Name</th>\n",
       "      <th>Age Group</th>\n",
       "      <th>Zip Code - 3 digits</th>\n",
       "      <th>Gender</th>\n",
       "      <th>Race</th>\n",
       "      <th>Ethnicity</th>\n",
       "      <th>Length of Stay</th>\n",
       "      <th>...</th>\n",
       "      <th>APR Risk of Mortality</th>\n",
       "      <th>APR Medical Surgical Description</th>\n",
       "      <th>Payment Typology 1</th>\n",
       "      <th>Payment Typology 2</th>\n",
       "      <th>Payment Typology 3</th>\n",
       "      <th>Birth Weight</th>\n",
       "      <th>Abortion Edit Indicator</th>\n",
       "      <th>Emergency Department Indicator</th>\n",
       "      <th>Total Charges</th>\n",
       "      <th>Total Costs</th>\n",
       "    </tr>\n",
       "  </thead>\n",
       "  <tbody>\n",
       "    <tr>\n",
       "      <th>700137</th>\n",
       "      <td>Putnam</td>\n",
       "      <td>3950000.0</td>\n",
       "      <td>752.0</td>\n",
       "      <td>Putnam Hospital Center</td>\n",
       "      <td>18 to 29</td>\n",
       "      <td>105</td>\n",
       "      <td>F</td>\n",
       "      <td>Other Race</td>\n",
       "      <td>Unknown</td>\n",
       "      <td>2</td>\n",
       "      <td>...</td>\n",
       "      <td>Minor</td>\n",
       "      <td>Medical</td>\n",
       "      <td>Medicaid</td>\n",
       "      <td>NaN</td>\n",
       "      <td>NaN</td>\n",
       "      <td>0</td>\n",
       "      <td>N</td>\n",
       "      <td>N</td>\n",
       "      <td>7555.49</td>\n",
       "      <td>2300.42</td>\n",
       "    </tr>\n",
       "    <tr>\n",
       "      <th>705867</th>\n",
       "      <td>Putnam</td>\n",
       "      <td>3950000.0</td>\n",
       "      <td>752.0</td>\n",
       "      <td>Putnam Hospital Center</td>\n",
       "      <td>18 to 29</td>\n",
       "      <td>NaN</td>\n",
       "      <td>M</td>\n",
       "      <td>Other Race</td>\n",
       "      <td>Unknown</td>\n",
       "      <td>4</td>\n",
       "      <td>...</td>\n",
       "      <td>Minor</td>\n",
       "      <td>Medical</td>\n",
       "      <td>Medicaid</td>\n",
       "      <td>NaN</td>\n",
       "      <td>NaN</td>\n",
       "      <td>0</td>\n",
       "      <td>N</td>\n",
       "      <td>N</td>\n",
       "      <td>13976.15</td>\n",
       "      <td>4054.04</td>\n",
       "    </tr>\n",
       "    <tr>\n",
       "      <th>706214</th>\n",
       "      <td>Putnam</td>\n",
       "      <td>3950000.0</td>\n",
       "      <td>752.0</td>\n",
       "      <td>Putnam Hospital Center</td>\n",
       "      <td>30 to 49</td>\n",
       "      <td>124</td>\n",
       "      <td>M</td>\n",
       "      <td>White</td>\n",
       "      <td>Not Span/Hispanic</td>\n",
       "      <td>3</td>\n",
       "      <td>...</td>\n",
       "      <td>Minor</td>\n",
       "      <td>Medical</td>\n",
       "      <td>Medicare</td>\n",
       "      <td>Medicaid</td>\n",
       "      <td>NaN</td>\n",
       "      <td>0</td>\n",
       "      <td>N</td>\n",
       "      <td>N</td>\n",
       "      <td>11769.89</td>\n",
       "      <td>3366.13</td>\n",
       "    </tr>\n",
       "    <tr>\n",
       "      <th>706501</th>\n",
       "      <td>Putnam</td>\n",
       "      <td>3950000.0</td>\n",
       "      <td>752.0</td>\n",
       "      <td>Putnam Hospital Center</td>\n",
       "      <td>18 to 29</td>\n",
       "      <td>105</td>\n",
       "      <td>M</td>\n",
       "      <td>Other Race</td>\n",
       "      <td>Unknown</td>\n",
       "      <td>5</td>\n",
       "      <td>...</td>\n",
       "      <td>Minor</td>\n",
       "      <td>Medical</td>\n",
       "      <td>Medicaid</td>\n",
       "      <td>NaN</td>\n",
       "      <td>NaN</td>\n",
       "      <td>0</td>\n",
       "      <td>N</td>\n",
       "      <td>Y</td>\n",
       "      <td>19054.70</td>\n",
       "      <td>5566.92</td>\n",
       "    </tr>\n",
       "    <tr>\n",
       "      <th>706962</th>\n",
       "      <td>Putnam</td>\n",
       "      <td>3950000.0</td>\n",
       "      <td>752.0</td>\n",
       "      <td>Putnam Hospital Center</td>\n",
       "      <td>18 to 29</td>\n",
       "      <td>125</td>\n",
       "      <td>M</td>\n",
       "      <td>White</td>\n",
       "      <td>Not Span/Hispanic</td>\n",
       "      <td>10</td>\n",
       "      <td>...</td>\n",
       "      <td>Minor</td>\n",
       "      <td>Medical</td>\n",
       "      <td>Medicaid</td>\n",
       "      <td>NaN</td>\n",
       "      <td>NaN</td>\n",
       "      <td>0</td>\n",
       "      <td>N</td>\n",
       "      <td>Y</td>\n",
       "      <td>35729.45</td>\n",
       "      <td>10557.89</td>\n",
       "    </tr>\n",
       "    <tr>\n",
       "      <th>...</th>\n",
       "      <td>...</td>\n",
       "      <td>...</td>\n",
       "      <td>...</td>\n",
       "      <td>...</td>\n",
       "      <td>...</td>\n",
       "      <td>...</td>\n",
       "      <td>...</td>\n",
       "      <td>...</td>\n",
       "      <td>...</td>\n",
       "      <td>...</td>\n",
       "      <td>...</td>\n",
       "      <td>...</td>\n",
       "      <td>...</td>\n",
       "      <td>...</td>\n",
       "      <td>...</td>\n",
       "      <td>...</td>\n",
       "      <td>...</td>\n",
       "      <td>...</td>\n",
       "      <td>...</td>\n",
       "      <td>...</td>\n",
       "      <td>...</td>\n",
       "    </tr>\n",
       "    <tr>\n",
       "      <th>745889</th>\n",
       "      <td>Putnam</td>\n",
       "      <td>3950000.0</td>\n",
       "      <td>752.0</td>\n",
       "      <td>Putnam Hospital Center</td>\n",
       "      <td>70 or Older</td>\n",
       "      <td>105</td>\n",
       "      <td>M</td>\n",
       "      <td>White</td>\n",
       "      <td>Not Span/Hispanic</td>\n",
       "      <td>3</td>\n",
       "      <td>...</td>\n",
       "      <td>Major</td>\n",
       "      <td>Medical</td>\n",
       "      <td>Medicare</td>\n",
       "      <td>Blue Cross/Blue Shield</td>\n",
       "      <td>NaN</td>\n",
       "      <td>0</td>\n",
       "      <td>N</td>\n",
       "      <td>Y</td>\n",
       "      <td>26577.54</td>\n",
       "      <td>7658.91</td>\n",
       "    </tr>\n",
       "    <tr>\n",
       "      <th>745890</th>\n",
       "      <td>Putnam</td>\n",
       "      <td>3950000.0</td>\n",
       "      <td>752.0</td>\n",
       "      <td>Putnam Hospital Center</td>\n",
       "      <td>18 to 29</td>\n",
       "      <td>105</td>\n",
       "      <td>F</td>\n",
       "      <td>White</td>\n",
       "      <td>Not Span/Hispanic</td>\n",
       "      <td>1</td>\n",
       "      <td>...</td>\n",
       "      <td>Minor</td>\n",
       "      <td>Medical</td>\n",
       "      <td>Managed Care, Unspecified</td>\n",
       "      <td>NaN</td>\n",
       "      <td>NaN</td>\n",
       "      <td>0</td>\n",
       "      <td>N</td>\n",
       "      <td>Y</td>\n",
       "      <td>11475.15</td>\n",
       "      <td>3425.98</td>\n",
       "    </tr>\n",
       "    <tr>\n",
       "      <th>745891</th>\n",
       "      <td>Putnam</td>\n",
       "      <td>3950000.0</td>\n",
       "      <td>752.0</td>\n",
       "      <td>Putnam Hospital Center</td>\n",
       "      <td>30 to 49</td>\n",
       "      <td>105</td>\n",
       "      <td>M</td>\n",
       "      <td>White</td>\n",
       "      <td>Not Span/Hispanic</td>\n",
       "      <td>2</td>\n",
       "      <td>...</td>\n",
       "      <td>Moderate</td>\n",
       "      <td>Medical</td>\n",
       "      <td>Medicaid</td>\n",
       "      <td>NaN</td>\n",
       "      <td>NaN</td>\n",
       "      <td>0</td>\n",
       "      <td>N</td>\n",
       "      <td>Y</td>\n",
       "      <td>12504.90</td>\n",
       "      <td>3724.22</td>\n",
       "    </tr>\n",
       "    <tr>\n",
       "      <th>745892</th>\n",
       "      <td>Putnam</td>\n",
       "      <td>3950000.0</td>\n",
       "      <td>752.0</td>\n",
       "      <td>Putnam Hospital Center</td>\n",
       "      <td>70 or Older</td>\n",
       "      <td>125</td>\n",
       "      <td>F</td>\n",
       "      <td>White</td>\n",
       "      <td>Not Span/Hispanic</td>\n",
       "      <td>2</td>\n",
       "      <td>...</td>\n",
       "      <td>Minor</td>\n",
       "      <td>Medical</td>\n",
       "      <td>Blue Cross/Blue Shield</td>\n",
       "      <td>NaN</td>\n",
       "      <td>NaN</td>\n",
       "      <td>0</td>\n",
       "      <td>N</td>\n",
       "      <td>Y</td>\n",
       "      <td>15137.95</td>\n",
       "      <td>4513.10</td>\n",
       "    </tr>\n",
       "    <tr>\n",
       "      <th>745893</th>\n",
       "      <td>Putnam</td>\n",
       "      <td>3950000.0</td>\n",
       "      <td>752.0</td>\n",
       "      <td>Putnam Hospital Center</td>\n",
       "      <td>50 to 69</td>\n",
       "      <td>125</td>\n",
       "      <td>M</td>\n",
       "      <td>Black/African American</td>\n",
       "      <td>Not Span/Hispanic</td>\n",
       "      <td>3</td>\n",
       "      <td>...</td>\n",
       "      <td>Moderate</td>\n",
       "      <td>Medical</td>\n",
       "      <td>Medicare</td>\n",
       "      <td>Medicaid</td>\n",
       "      <td>NaN</td>\n",
       "      <td>0</td>\n",
       "      <td>N</td>\n",
       "      <td>Y</td>\n",
       "      <td>23584.89</td>\n",
       "      <td>7014.46</td>\n",
       "    </tr>\n",
       "  </tbody>\n",
       "</table>\n",
       "<p>6785 rows × 28 columns</p>\n",
       "</div>"
      ],
      "text/plain": [
       "       Hospital County  Operating Certificate Number  Facility Id  \\\n",
       "700137          Putnam                     3950000.0        752.0   \n",
       "705867          Putnam                     3950000.0        752.0   \n",
       "706214          Putnam                     3950000.0        752.0   \n",
       "706501          Putnam                     3950000.0        752.0   \n",
       "706962          Putnam                     3950000.0        752.0   \n",
       "...                ...                           ...          ...   \n",
       "745889          Putnam                     3950000.0        752.0   \n",
       "745890          Putnam                     3950000.0        752.0   \n",
       "745891          Putnam                     3950000.0        752.0   \n",
       "745892          Putnam                     3950000.0        752.0   \n",
       "745893          Putnam                     3950000.0        752.0   \n",
       "\n",
       "                 Facility Name    Age Group Zip Code - 3 digits Gender  \\\n",
       "700137  Putnam Hospital Center     18 to 29                 105      F   \n",
       "705867  Putnam Hospital Center     18 to 29                 NaN      M   \n",
       "706214  Putnam Hospital Center     30 to 49                 124      M   \n",
       "706501  Putnam Hospital Center     18 to 29                 105      M   \n",
       "706962  Putnam Hospital Center     18 to 29                 125      M   \n",
       "...                        ...          ...                 ...    ...   \n",
       "745889  Putnam Hospital Center  70 or Older                 105      M   \n",
       "745890  Putnam Hospital Center     18 to 29                 105      F   \n",
       "745891  Putnam Hospital Center     30 to 49                 105      M   \n",
       "745892  Putnam Hospital Center  70 or Older                 125      F   \n",
       "745893  Putnam Hospital Center     50 to 69                 125      M   \n",
       "\n",
       "                          Race          Ethnicity Length of Stay  ...  \\\n",
       "700137              Other Race            Unknown              2  ...   \n",
       "705867              Other Race            Unknown              4  ...   \n",
       "706214                   White  Not Span/Hispanic              3  ...   \n",
       "706501              Other Race            Unknown              5  ...   \n",
       "706962                   White  Not Span/Hispanic             10  ...   \n",
       "...                        ...                ...            ...  ...   \n",
       "745889                   White  Not Span/Hispanic              3  ...   \n",
       "745890                   White  Not Span/Hispanic              1  ...   \n",
       "745891                   White  Not Span/Hispanic              2  ...   \n",
       "745892                   White  Not Span/Hispanic              2  ...   \n",
       "745893  Black/African American  Not Span/Hispanic              3  ...   \n",
       "\n",
       "       APR Risk of Mortality APR Medical Surgical Description  \\\n",
       "700137                 Minor                          Medical   \n",
       "705867                 Minor                          Medical   \n",
       "706214                 Minor                          Medical   \n",
       "706501                 Minor                          Medical   \n",
       "706962                 Minor                          Medical   \n",
       "...                      ...                              ...   \n",
       "745889                 Major                          Medical   \n",
       "745890                 Minor                          Medical   \n",
       "745891              Moderate                          Medical   \n",
       "745892                 Minor                          Medical   \n",
       "745893              Moderate                          Medical   \n",
       "\n",
       "               Payment Typology 1      Payment Typology 2  Payment Typology 3  \\\n",
       "700137                   Medicaid                     NaN                 NaN   \n",
       "705867                   Medicaid                     NaN                 NaN   \n",
       "706214                   Medicare                Medicaid                 NaN   \n",
       "706501                   Medicaid                     NaN                 NaN   \n",
       "706962                   Medicaid                     NaN                 NaN   \n",
       "...                           ...                     ...                 ...   \n",
       "745889                   Medicare  Blue Cross/Blue Shield                 NaN   \n",
       "745890  Managed Care, Unspecified                     NaN                 NaN   \n",
       "745891                   Medicaid                     NaN                 NaN   \n",
       "745892     Blue Cross/Blue Shield                     NaN                 NaN   \n",
       "745893                   Medicare                Medicaid                 NaN   \n",
       "\n",
       "        Birth Weight  Abortion Edit Indicator  Emergency Department Indicator  \\\n",
       "700137             0                        N                               N   \n",
       "705867             0                        N                               N   \n",
       "706214             0                        N                               N   \n",
       "706501             0                        N                               Y   \n",
       "706962             0                        N                               Y   \n",
       "...              ...                      ...                             ...   \n",
       "745889             0                        N                               Y   \n",
       "745890             0                        N                               Y   \n",
       "745891             0                        N                               Y   \n",
       "745892             0                        N                               Y   \n",
       "745893             0                        N                               Y   \n",
       "\n",
       "       Total Charges Total Costs  \n",
       "700137       7555.49     2300.42  \n",
       "705867      13976.15     4054.04  \n",
       "706214      11769.89     3366.13  \n",
       "706501      19054.70     5566.92  \n",
       "706962      35729.45    10557.89  \n",
       "...              ...         ...  \n",
       "745889      26577.54     7658.91  \n",
       "745890      11475.15     3425.98  \n",
       "745891      12504.90     3724.22  \n",
       "745892      15137.95     4513.10  \n",
       "745893      23584.89     7014.46  \n",
       "\n",
       "[6785 rows x 28 columns]"
      ]
     },
     "execution_count": 206,
     "metadata": {},
     "output_type": "execute_result"
    }
   ],
   "source": [
    "Putnam_df\n"
   ]
  },
  {
   "cell_type": "code",
   "execution_count": 207,
   "id": "0fc3da5e",
   "metadata": {
    "execution": {
     "iopub.execute_input": "2023-02-21T20:37:43.167371Z",
     "iopub.status.busy": "2023-02-21T20:37:43.166234Z",
     "iopub.status.idle": "2023-02-21T20:37:43.187579Z",
     "shell.execute_reply": "2023-02-21T20:37:43.185358Z"
    },
    "id": "4b40a9be",
    "outputId": "e35b3dda-f7d7-4fc5-f9b7-4d9f634cddf5",
    "papermill": {
     "duration": 0.111392,
     "end_time": "2023-02-21T20:37:43.190169",
     "exception": false,
     "start_time": "2023-02-21T20:37:43.078777",
     "status": "completed"
    },
    "tags": []
   },
   "outputs": [
    {
     "name": "stdout",
     "output_type": "stream",
     "text": [
      "<class 'pandas.core.frame.DataFrame'>\n",
      "Int64Index: 6785 entries, 700137 to 745893\n",
      "Data columns (total 28 columns):\n",
      " #   Column                            Non-Null Count  Dtype   \n",
      "---  ------                            --------------  -----   \n",
      " 0   Hospital County                   6785 non-null   category\n",
      " 1   Operating Certificate Number      6785 non-null   float64 \n",
      " 2   Facility Id                       6785 non-null   float64 \n",
      " 3   Facility Name                     6785 non-null   object  \n",
      " 4   Age Group                         6785 non-null   category\n",
      " 5   Zip Code - 3 digits               6684 non-null   category\n",
      " 6   Gender                            6785 non-null   category\n",
      " 7   Race                              6785 non-null   category\n",
      " 8   Ethnicity                         6785 non-null   category\n",
      " 9   Length of Stay                    6785 non-null   category\n",
      " 10  Type of Admission                 6785 non-null   category\n",
      " 11  Patient Disposition               6785 non-null   category\n",
      " 12  Discharge Year                    6785 non-null   int64   \n",
      " 13  CCS Diagnosis Code                6785 non-null   int64   \n",
      " 14  CCS Procedure Code                6785 non-null   int64   \n",
      " 15  APR DRG Code                      6785 non-null   int64   \n",
      " 16  APR MDC Code                      6785 non-null   int64   \n",
      " 17  APR Severity of Illness Code      6785 non-null   int64   \n",
      " 18  APR Risk of Mortality             6785 non-null   category\n",
      " 19  APR Medical Surgical Description  6785 non-null   category\n",
      " 20  Payment Typology 1                6785 non-null   category\n",
      " 21  Payment Typology 2                3195 non-null   category\n",
      " 22  Payment Typology 3                236 non-null    category\n",
      " 23  Birth Weight                      6785 non-null   int64   \n",
      " 24  Abortion Edit Indicator           6785 non-null   category\n",
      " 25  Emergency Department Indicator    6785 non-null   category\n",
      " 26  Total Charges                     6785 non-null   float64 \n",
      " 27  Total Costs                       6785 non-null   float64 \n",
      "dtypes: category(16), float64(4), int64(7), object(1)\n",
      "memory usage: 819.8+ KB\n"
     ]
    }
   ],
   "source": [
    "Putnam_df.info()"
   ]
  },
  {
   "cell_type": "code",
   "execution_count": 208,
   "id": "416ad86a",
   "metadata": {
    "execution": {
     "iopub.execute_input": "2023-02-21T20:37:43.361779Z",
     "iopub.status.busy": "2023-02-21T20:37:43.361350Z",
     "iopub.status.idle": "2023-02-21T20:37:43.370161Z",
     "shell.execute_reply": "2023-02-21T20:37:43.369351Z"
    },
    "id": "625df111",
    "outputId": "36b93198-2000-4114-86de-f04f7b1cdec7",
    "papermill": {
     "duration": 0.098502,
     "end_time": "2023-02-21T20:37:43.372757",
     "exception": false,
     "start_time": "2023-02-21T20:37:43.274255",
     "status": "completed"
    },
    "tags": []
   },
   "outputs": [
    {
     "name": "stderr",
     "output_type": "stream",
     "text": [
      "/opt/conda/lib/python3.7/site-packages/ipykernel_launcher.py:3: SettingWithCopyWarning: \n",
      "A value is trying to be set on a copy of a slice from a DataFrame.\n",
      "Try using .loc[row_indexer,col_indexer] = value instead\n",
      "\n",
      "See the caveats in the documentation: https://pandas.pydata.org/pandas-docs/stable/user_guide/indexing.html#returning-a-view-versus-a-copy\n",
      "  This is separate from the ipykernel package so we can avoid doing imports until\n",
      "/opt/conda/lib/python3.7/site-packages/ipykernel_launcher.py:5: SettingWithCopyWarning: \n",
      "A value is trying to be set on a copy of a slice from a DataFrame.\n",
      "Try using .loc[row_indexer,col_indexer] = value instead\n",
      "\n",
      "See the caveats in the documentation: https://pandas.pydata.org/pandas-docs/stable/user_guide/indexing.html#returning-a-view-versus-a-copy\n",
      "  \"\"\"\n"
     ]
    }
   ],
   "source": [
    " #   simple mapping on binary features.\n",
    "Putnam_df['Abortion Edit Indicator'] = Putnam_df['Abortion Edit Indicator'].apply(\n",
    "     lambda x: 1 if x == 'Y' else (0 if x == 'N' else None))\n",
    "Putnam_df['Emergency Department Indicator'] = Putnam_df['Emergency Department Indicator'].apply(\n",
    "    lambda x: 1 if x == 'Y' else (0 if x == 'N' else None))"
   ]
  },
  {
   "cell_type": "code",
   "execution_count": 209,
   "id": "dc2c52df",
   "metadata": {
    "execution": {
     "iopub.execute_input": "2023-02-21T20:37:43.546953Z",
     "iopub.status.busy": "2023-02-21T20:37:43.546295Z",
     "iopub.status.idle": "2023-02-21T20:37:43.557653Z",
     "shell.execute_reply": "2023-02-21T20:37:43.556425Z"
    },
    "id": "ac0106c0",
    "outputId": "dc934bcc-c119-4d04-ddce-2a06b9eac87c",
    "papermill": {
     "duration": 0.10111,
     "end_time": "2023-02-21T20:37:43.561102",
     "exception": false,
     "start_time": "2023-02-21T20:37:43.459992",
     "status": "completed"
    },
    "tags": []
   },
   "outputs": [
    {
     "name": "stderr",
     "output_type": "stream",
     "text": [
      "/opt/conda/lib/python3.7/site-packages/ipykernel_launcher.py:1: SettingWithCopyWarning: \n",
      "A value is trying to be set on a copy of a slice from a DataFrame.\n",
      "Try using .loc[row_indexer,col_indexer] = value instead\n",
      "\n",
      "See the caveats in the documentation: https://pandas.pydata.org/pandas-docs/stable/user_guide/indexing.html#returning-a-view-versus-a-copy\n",
      "  \"\"\"Entry point for launching an IPython kernel.\n"
     ]
    }
   ],
   "source": [
    "Putnam_df[\"Length of Stay\"]=pd.to_numeric(Putnam_df[\"Length of Stay\"],errors='coerce')"
   ]
  },
  {
   "cell_type": "code",
   "execution_count": 210,
   "id": "3bc512b3",
   "metadata": {
    "execution": {
     "iopub.execute_input": "2023-02-21T20:37:43.735510Z",
     "iopub.status.busy": "2023-02-21T20:37:43.735099Z",
     "iopub.status.idle": "2023-02-21T20:37:43.776717Z",
     "shell.execute_reply": "2023-02-21T20:37:43.775523Z"
    },
    "id": "efd88260",
    "outputId": "211394a9-b521-4e5e-85de-5d4b590a3c0d",
    "papermill": {
     "duration": 0.131231,
     "end_time": "2023-02-21T20:37:43.779573",
     "exception": false,
     "start_time": "2023-02-21T20:37:43.648342",
     "status": "completed"
    },
    "tags": []
   },
   "outputs": [
    {
     "name": "stderr",
     "output_type": "stream",
     "text": [
      "/opt/conda/lib/python3.7/site-packages/ipykernel_launcher.py:27: SettingWithCopyWarning: \n",
      "A value is trying to be set on a copy of a slice from a DataFrame.\n",
      "Try using .loc[row_indexer,col_indexer] = value instead\n",
      "\n",
      "See the caveats in the documentation: https://pandas.pydata.org/pandas-docs/stable/user_guide/indexing.html#returning-a-view-versus-a-copy\n"
     ]
    }
   ],
   "source": [
    "list=  [ \"Hospital County\",\"Age Group\"\n",
    "    ,\"Gender\",   \n",
    " \"Race\" , \n",
    "\"Ethnicity\", \n",
    "\"Gender\" , \n",
    "\"Race\" ,    \n",
    " \"Ethnicity\" ,        \n",
    " \"Type of Admission\"  ,  \n",
    "  \"Patient Disposition\",      \n",
    " \"Type of Admission\" ,  \n",
    " \"Patient Disposition\"  ,\n",
    "  \"APR Risk of Mortality\" ,   \n",
    " \"APR Medical Surgical Description\" ,\n",
    " \"Payment Typology 1\"   ,   \n",
    " \"Abortion Edit Indicator\"     ,  \n",
    " \"Emergency Department Indicator\",\n",
    "       \"Zip Code - 3 digits\"]  \n",
    "\n",
    "# Import label encoder\n",
    "from sklearn import preprocessing\n",
    "  \n",
    "# label_encoder object knows how to understand word labels.\n",
    "label_encoder = preprocessing.LabelEncoder()\n",
    "  \n",
    "# Encode labels in column 'species'.\n",
    "for col in list :\n",
    "   Putnam_df[col]= label_encoder.fit_transform(Putnam_df[col])"
   ]
  },
  {
   "cell_type": "code",
   "execution_count": 211,
   "id": "3b49a85a",
   "metadata": {
    "execution": {
     "iopub.execute_input": "2023-02-21T20:37:43.955371Z",
     "iopub.status.busy": "2023-02-21T20:37:43.954762Z",
     "iopub.status.idle": "2023-02-21T20:37:43.963056Z",
     "shell.execute_reply": "2023-02-21T20:37:43.961882Z"
    },
    "id": "ff1ff23d",
    "papermill": {
     "duration": 0.099747,
     "end_time": "2023-02-21T20:37:43.965438",
     "exception": false,
     "start_time": "2023-02-21T20:37:43.865691",
     "status": "completed"
    },
    "tags": []
   },
   "outputs": [],
   "source": [
    "Putnam_df = Putnam_df.drop(\"Facility Name\", axis=1)"
   ]
  },
  {
   "cell_type": "code",
   "execution_count": 212,
   "id": "3357342f",
   "metadata": {
    "execution": {
     "iopub.execute_input": "2023-02-21T20:37:44.141948Z",
     "iopub.status.busy": "2023-02-21T20:37:44.141398Z",
     "iopub.status.idle": "2023-02-21T20:37:44.150745Z",
     "shell.execute_reply": "2023-02-21T20:37:44.148196Z"
    },
    "id": "16c6eff4",
    "papermill": {
     "duration": 0.102997,
     "end_time": "2023-02-21T20:37:44.154015",
     "exception": false,
     "start_time": "2023-02-21T20:37:44.051018",
     "status": "completed"
    },
    "tags": []
   },
   "outputs": [],
   "source": [
    "Putnam_df = Putnam_df.drop([\"Payment Typology 2\",    \"Payment Typology 3\"], axis=1)\n"
   ]
  },
  {
   "cell_type": "code",
   "execution_count": 213,
   "id": "f5b609db",
   "metadata": {
    "execution": {
     "iopub.execute_input": "2023-02-21T20:37:44.352589Z",
     "iopub.status.busy": "2023-02-21T20:37:44.352198Z",
     "iopub.status.idle": "2023-02-21T20:37:44.367691Z",
     "shell.execute_reply": "2023-02-21T20:37:44.365900Z"
    },
    "id": "bf804cf8",
    "outputId": "f149bedb-096e-42a1-b795-bdb3afa865b3",
    "papermill": {
     "duration": 0.105184,
     "end_time": "2023-02-21T20:37:44.370376",
     "exception": false,
     "start_time": "2023-02-21T20:37:44.265192",
     "status": "completed"
    },
    "tags": []
   },
   "outputs": [
    {
     "name": "stdout",
     "output_type": "stream",
     "text": [
      "<class 'pandas.core.frame.DataFrame'>\n",
      "Int64Index: 6785 entries, 700137 to 745893\n",
      "Data columns (total 25 columns):\n",
      " #   Column                            Non-Null Count  Dtype  \n",
      "---  ------                            --------------  -----  \n",
      " 0   Hospital County                   6785 non-null   int64  \n",
      " 1   Operating Certificate Number      6785 non-null   float64\n",
      " 2   Facility Id                       6785 non-null   float64\n",
      " 3   Age Group                         6785 non-null   int64  \n",
      " 4   Zip Code - 3 digits               6785 non-null   int64  \n",
      " 5   Gender                            6785 non-null   int64  \n",
      " 6   Race                              6785 non-null   int64  \n",
      " 7   Ethnicity                         6785 non-null   int64  \n",
      " 8   Length of Stay                    6785 non-null   int64  \n",
      " 9   Type of Admission                 6785 non-null   int64  \n",
      " 10  Patient Disposition               6785 non-null   int64  \n",
      " 11  Discharge Year                    6785 non-null   int64  \n",
      " 12  CCS Diagnosis Code                6785 non-null   int64  \n",
      " 13  CCS Procedure Code                6785 non-null   int64  \n",
      " 14  APR DRG Code                      6785 non-null   int64  \n",
      " 15  APR MDC Code                      6785 non-null   int64  \n",
      " 16  APR Severity of Illness Code      6785 non-null   int64  \n",
      " 17  APR Risk of Mortality             6785 non-null   int64  \n",
      " 18  APR Medical Surgical Description  6785 non-null   int64  \n",
      " 19  Payment Typology 1                6785 non-null   int64  \n",
      " 20  Birth Weight                      6785 non-null   int64  \n",
      " 21  Abortion Edit Indicator           6785 non-null   int64  \n",
      " 22  Emergency Department Indicator    6785 non-null   int64  \n",
      " 23  Total Charges                     6785 non-null   float64\n",
      " 24  Total Costs                       6785 non-null   float64\n",
      "dtypes: float64(4), int64(21)\n",
      "memory usage: 1.3 MB\n"
     ]
    }
   ],
   "source": [
    "Putnam_df.info()"
   ]
  },
  {
   "cell_type": "code",
   "execution_count": 214,
   "id": "c8ce7336",
   "metadata": {
    "execution": {
     "iopub.execute_input": "2023-02-21T20:37:44.544776Z",
     "iopub.status.busy": "2023-02-21T20:37:44.544360Z",
     "iopub.status.idle": "2023-02-21T20:37:44.550869Z",
     "shell.execute_reply": "2023-02-21T20:37:44.549856Z"
    },
    "id": "c64d32c2",
    "papermill": {
     "duration": 0.097537,
     "end_time": "2023-02-21T20:37:44.553195",
     "exception": false,
     "start_time": "2023-02-21T20:37:44.455658",
     "status": "completed"
    },
    "tags": []
   },
   "outputs": [],
   "source": [
    "x = Putnam_df.drop([\"Length of Stay\"], axis =1)\n",
    "y = Putnam_df[\"Length of Stay\"]"
   ]
  },
  {
   "cell_type": "code",
   "execution_count": 215,
   "id": "f8b88827",
   "metadata": {
    "execution": {
     "iopub.execute_input": "2023-02-21T20:37:44.724229Z",
     "iopub.status.busy": "2023-02-21T20:37:44.723798Z",
     "iopub.status.idle": "2023-02-21T20:37:44.733043Z",
     "shell.execute_reply": "2023-02-21T20:37:44.732192Z"
    },
    "id": "00f24533",
    "papermill": {
     "duration": 0.09767,
     "end_time": "2023-02-21T20:37:44.735431",
     "exception": false,
     "start_time": "2023-02-21T20:37:44.637761",
     "status": "completed"
    },
    "tags": []
   },
   "outputs": [],
   "source": [
    "from sklearn.model_selection import train_test_split\n",
    "x_train, x_test, y_train, y_test = train_test_split(x, y, test_size=0.3, random_state=42)"
   ]
  },
  {
   "cell_type": "code",
   "execution_count": 216,
   "id": "ae85c490",
   "metadata": {
    "execution": {
     "iopub.execute_input": "2023-02-21T20:37:44.905946Z",
     "iopub.status.busy": "2023-02-21T20:37:44.905509Z",
     "iopub.status.idle": "2023-02-21T20:37:44.945104Z",
     "shell.execute_reply": "2023-02-21T20:37:44.943391Z"
    },
    "id": "80a738f2",
    "papermill": {
     "duration": 0.129578,
     "end_time": "2023-02-21T20:37:44.949595",
     "exception": false,
     "start_time": "2023-02-21T20:37:44.820017",
     "status": "completed"
    },
    "tags": []
   },
   "outputs": [],
   "source": [
    "# Linear Regression\n",
    "\n",
    "LR = LinearRegression()\n",
    "LR.fit(x_train, y_train)\n",
    "LR.score(x_train, y_train)\n",
    "y_pred =LR.predict(x_test)"
   ]
  },
  {
   "cell_type": "code",
   "execution_count": 217,
   "id": "30ec2d56",
   "metadata": {
    "execution": {
     "iopub.execute_input": "2023-02-21T20:37:45.193363Z",
     "iopub.status.busy": "2023-02-21T20:37:45.192960Z",
     "iopub.status.idle": "2023-02-21T20:37:45.201113Z",
     "shell.execute_reply": "2023-02-21T20:37:45.200167Z"
    },
    "id": "251594d0",
    "outputId": "a8c59ad1-0c49-4c08-e48d-1883c9b4b7c2",
    "papermill": {
     "duration": 0.098928,
     "end_time": "2023-02-21T20:37:45.203434",
     "exception": false,
     "start_time": "2023-02-21T20:37:45.104506",
     "status": "completed"
    },
    "tags": []
   },
   "outputs": [
    {
     "data": {
      "text/plain": [
       "0.6833681470945818"
      ]
     },
     "execution_count": 217,
     "metadata": {},
     "output_type": "execute_result"
    }
   ],
   "source": [
    "r2 = r2_score(y_test, y_pred)\n",
    "r2 \n"
   ]
  },
  {
   "cell_type": "code",
   "execution_count": 218,
   "id": "e757b1fa",
   "metadata": {
    "execution": {
     "iopub.execute_input": "2023-02-21T20:37:45.377445Z",
     "iopub.status.busy": "2023-02-21T20:37:45.376803Z",
     "iopub.status.idle": "2023-02-21T20:37:45.383365Z",
     "shell.execute_reply": "2023-02-21T20:37:45.382521Z"
    },
    "id": "b680cc22",
    "outputId": "ff54f7df-a207-40a4-8c2f-65b643a31d65",
    "papermill": {
     "duration": 0.096236,
     "end_time": "2023-02-21T20:37:45.385498",
     "exception": false,
     "start_time": "2023-02-21T20:37:45.289262",
     "status": "completed"
    },
    "tags": []
   },
   "outputs": [
    {
     "data": {
      "text/plain": [
       "1.4289408471215483"
      ]
     },
     "execution_count": 218,
     "metadata": {},
     "output_type": "execute_result"
    }
   ],
   "source": [
    "# calculate the MAE of the model\n",
    "mae = mean_absolute_error(y_test, y_pred)\n",
    "mae"
   ]
  },
  {
   "cell_type": "code",
   "execution_count": 219,
   "id": "e60116b6",
   "metadata": {
    "execution": {
     "iopub.execute_input": "2023-02-21T20:37:45.561409Z",
     "iopub.status.busy": "2023-02-21T20:37:45.560795Z",
     "iopub.status.idle": "2023-02-21T20:37:45.567470Z",
     "shell.execute_reply": "2023-02-21T20:37:45.566375Z"
    },
    "id": "d92549b0",
    "outputId": "a10de4e6-8c92-4ce0-f1a3-4b1d7c968110",
    "papermill": {
     "duration": 0.098743,
     "end_time": "2023-02-21T20:37:45.569596",
     "exception": false,
     "start_time": "2023-02-21T20:37:45.470853",
     "status": "completed"
    },
    "tags": []
   },
   "outputs": [
    {
     "data": {
      "text/plain": [
       "6.810081276526211"
      ]
     },
     "execution_count": 219,
     "metadata": {},
     "output_type": "execute_result"
    }
   ],
   "source": [
    "# calculate the MSE of the model\n",
    "mse = mean_squared_error(y_test, y_pred)\n",
    "mse"
   ]
  },
  {
   "cell_type": "code",
   "execution_count": 220,
   "id": "992969bc",
   "metadata": {
    "execution": {
     "iopub.execute_input": "2023-02-21T20:37:45.743645Z",
     "iopub.status.busy": "2023-02-21T20:37:45.742928Z",
     "iopub.status.idle": "2023-02-21T20:37:45.749123Z",
     "shell.execute_reply": "2023-02-21T20:37:45.747920Z"
    },
    "id": "bda6c0a6",
    "outputId": "845fef5e-2116-4804-92fa-0fe1750bc706",
    "papermill": {
     "duration": 0.095498,
     "end_time": "2023-02-21T20:37:45.751296",
     "exception": false,
     "start_time": "2023-02-21T20:37:45.655798",
     "status": "completed"
    },
    "tags": []
   },
   "outputs": [
    {
     "data": {
      "text/plain": [
       "2.609613242709772"
      ]
     },
     "execution_count": 220,
     "metadata": {},
     "output_type": "execute_result"
    }
   ],
   "source": [
    "# calculate the RMSE of the model\n",
    "rmse = np.sqrt(mse)\n",
    "rmse"
   ]
  },
  {
   "cell_type": "code",
   "execution_count": 221,
   "id": "b11fa61c",
   "metadata": {
    "execution": {
     "iopub.execute_input": "2023-02-21T20:37:45.926988Z",
     "iopub.status.busy": "2023-02-21T20:37:45.926371Z",
     "iopub.status.idle": "2023-02-21T20:37:46.026996Z",
     "shell.execute_reply": "2023-02-21T20:37:46.025346Z"
    },
    "id": "2d4cf23e",
    "papermill": {
     "duration": 0.192081,
     "end_time": "2023-02-21T20:37:46.031688",
     "exception": false,
     "start_time": "2023-02-21T20:37:45.839607",
     "status": "completed"
    },
    "tags": []
   },
   "outputs": [],
   "source": [
    "# LASSO\n",
    "L1 = linear_model.Lasso()\n",
    "L1.fit(x_train,y_train)\n",
    "y_pred1 = L1.predict(x_test)"
   ]
  },
  {
   "cell_type": "code",
   "execution_count": 222,
   "id": "6a79994f",
   "metadata": {
    "execution": {
     "iopub.execute_input": "2023-02-21T20:37:46.277620Z",
     "iopub.status.busy": "2023-02-21T20:37:46.277145Z",
     "iopub.status.idle": "2023-02-21T20:37:46.285482Z",
     "shell.execute_reply": "2023-02-21T20:37:46.284403Z"
    },
    "id": "cf4c5c5f",
    "outputId": "6e849a13-6e90-4814-e971-3b34b393c911",
    "papermill": {
     "duration": 0.097529,
     "end_time": "2023-02-21T20:37:46.287916",
     "exception": false,
     "start_time": "2023-02-21T20:37:46.190387",
     "status": "completed"
    },
    "tags": []
   },
   "outputs": [
    {
     "data": {
      "text/plain": [
       "0.6496057028620932"
      ]
     },
     "execution_count": 222,
     "metadata": {},
     "output_type": "execute_result"
    }
   ],
   "source": [
    "r2 = r2_score(y_test, y_pred1)\n",
    "r2 "
   ]
  },
  {
   "cell_type": "code",
   "execution_count": 223,
   "id": "aba5318c",
   "metadata": {
    "execution": {
     "iopub.execute_input": "2023-02-21T20:37:46.461906Z",
     "iopub.status.busy": "2023-02-21T20:37:46.461487Z",
     "iopub.status.idle": "2023-02-21T20:37:46.469542Z",
     "shell.execute_reply": "2023-02-21T20:37:46.468701Z"
    },
    "id": "81a3fb60",
    "outputId": "97be3435-8163-4f05-c5a1-67b4b7c6bc48",
    "papermill": {
     "duration": 0.096947,
     "end_time": "2023-02-21T20:37:46.471554",
     "exception": false,
     "start_time": "2023-02-21T20:37:46.374607",
     "status": "completed"
    },
    "tags": []
   },
   "outputs": [
    {
     "data": {
      "text/plain": [
       "1.5599579330447522"
      ]
     },
     "execution_count": 223,
     "metadata": {},
     "output_type": "execute_result"
    }
   ],
   "source": [
    "# calculate the MAE of the model\n",
    "mae = mean_absolute_error(y_test, y_pred1)\n",
    "mae"
   ]
  },
  {
   "cell_type": "code",
   "execution_count": 224,
   "id": "23b9141f",
   "metadata": {
    "execution": {
     "iopub.execute_input": "2023-02-21T20:37:46.650599Z",
     "iopub.status.busy": "2023-02-21T20:37:46.649946Z",
     "iopub.status.idle": "2023-02-21T20:37:46.656756Z",
     "shell.execute_reply": "2023-02-21T20:37:46.655918Z"
    },
    "id": "d12dd5fc",
    "outputId": "1cbbfbd3-5bec-4b38-b599-888f70b099f5",
    "papermill": {
     "duration": 0.097968,
     "end_time": "2023-02-21T20:37:46.658868",
     "exception": false,
     "start_time": "2023-02-21T20:37:46.560900",
     "status": "completed"
    },
    "tags": []
   },
   "outputs": [
    {
     "data": {
      "text/plain": [
       "7.536240022740899"
      ]
     },
     "execution_count": 224,
     "metadata": {},
     "output_type": "execute_result"
    }
   ],
   "source": [
    "# calculate the MSE of the model\n",
    "mse = mean_squared_error(y_test, y_pred1)\n",
    "mse"
   ]
  },
  {
   "cell_type": "code",
   "execution_count": 225,
   "id": "365125dc",
   "metadata": {
    "execution": {
     "iopub.execute_input": "2023-02-21T20:37:46.832004Z",
     "iopub.status.busy": "2023-02-21T20:37:46.831377Z",
     "iopub.status.idle": "2023-02-21T20:37:46.837317Z",
     "shell.execute_reply": "2023-02-21T20:37:46.836406Z"
    },
    "id": "19c199a3",
    "outputId": "6a50a89e-1b73-44fc-a252-35c60c04dcbf",
    "papermill": {
     "duration": 0.094441,
     "end_time": "2023-02-21T20:37:46.839369",
     "exception": false,
     "start_time": "2023-02-21T20:37:46.744928",
     "status": "completed"
    },
    "tags": []
   },
   "outputs": [
    {
     "data": {
      "text/plain": [
       "2.745221306696584"
      ]
     },
     "execution_count": 225,
     "metadata": {},
     "output_type": "execute_result"
    }
   ],
   "source": [
    "# calculate the RMSE of the model\n",
    "rmse = np.sqrt(mse)\n",
    "rmse"
   ]
  },
  {
   "cell_type": "code",
   "execution_count": 226,
   "id": "f80954ce",
   "metadata": {
    "execution": {
     "iopub.execute_input": "2023-02-21T20:37:47.013364Z",
     "iopub.status.busy": "2023-02-21T20:37:47.012931Z",
     "iopub.status.idle": "2023-02-21T20:37:47.029783Z",
     "shell.execute_reply": "2023-02-21T20:37:47.027649Z"
    },
    "id": "029bd11c",
    "papermill": {
     "duration": 0.110248,
     "end_time": "2023-02-21T20:37:47.034852",
     "exception": false,
     "start_time": "2023-02-21T20:37:46.924604",
     "status": "completed"
    },
    "tags": []
   },
   "outputs": [],
   "source": [
    "# Ridge\n",
    "L2 = Ridge(alpha=1.0)\n",
    "L2.fit(x_train, y_train) \n",
    "y_pred3 = L2.predict(x_test)"
   ]
  },
  {
   "cell_type": "code",
   "execution_count": 227,
   "id": "16b8c8c4",
   "metadata": {
    "execution": {
     "iopub.execute_input": "2023-02-21T20:37:47.279581Z",
     "iopub.status.busy": "2023-02-21T20:37:47.279164Z",
     "iopub.status.idle": "2023-02-21T20:37:47.286242Z",
     "shell.execute_reply": "2023-02-21T20:37:47.285176Z"
    },
    "id": "5549ec5d",
    "outputId": "25998dac-0514-4f6a-8786-cdc8fcacb384",
    "papermill": {
     "duration": 0.095737,
     "end_time": "2023-02-21T20:37:47.288418",
     "exception": false,
     "start_time": "2023-02-21T20:37:47.192681",
     "status": "completed"
    },
    "tags": []
   },
   "outputs": [
    {
     "data": {
      "text/plain": [
       "0.6833499677327529"
      ]
     },
     "execution_count": 227,
     "metadata": {},
     "output_type": "execute_result"
    }
   ],
   "source": [
    "r2 = r2_score(y_test, y_pred3)\n",
    "r2 "
   ]
  },
  {
   "cell_type": "code",
   "execution_count": 228,
   "id": "8fc77244",
   "metadata": {
    "execution": {
     "iopub.execute_input": "2023-02-21T20:37:47.464087Z",
     "iopub.status.busy": "2023-02-21T20:37:47.462914Z",
     "iopub.status.idle": "2023-02-21T20:37:47.470282Z",
     "shell.execute_reply": "2023-02-21T20:37:47.469168Z"
    },
    "id": "cf592415",
    "outputId": "9acf3cf5-e945-4752-a640-45f8fb36a109",
    "papermill": {
     "duration": 0.096771,
     "end_time": "2023-02-21T20:37:47.472494",
     "exception": false,
     "start_time": "2023-02-21T20:37:47.375723",
     "status": "completed"
    },
    "tags": []
   },
   "outputs": [
    {
     "data": {
      "text/plain": [
       "1.4289867059435022"
      ]
     },
     "execution_count": 228,
     "metadata": {},
     "output_type": "execute_result"
    }
   ],
   "source": [
    "# calculate the MAE of the model\n",
    "mae = mean_absolute_error(y_test, y_pred3)\n",
    "mae"
   ]
  },
  {
   "cell_type": "code",
   "execution_count": 229,
   "id": "2a986c2a",
   "metadata": {
    "execution": {
     "iopub.execute_input": "2023-02-21T20:37:47.648049Z",
     "iopub.status.busy": "2023-02-21T20:37:47.647589Z",
     "iopub.status.idle": "2023-02-21T20:37:47.655460Z",
     "shell.execute_reply": "2023-02-21T20:37:47.654571Z"
    },
    "id": "3ddb0291",
    "outputId": "f35a52a2-0010-4c48-f4e1-242eee13c680",
    "papermill": {
     "duration": 0.09707,
     "end_time": "2023-02-21T20:37:47.657748",
     "exception": false,
     "start_time": "2023-02-21T20:37:47.560678",
     "status": "completed"
    },
    "tags": []
   },
   "outputs": [
    {
     "data": {
      "text/plain": [
       "6.810472276138141"
      ]
     },
     "execution_count": 229,
     "metadata": {},
     "output_type": "execute_result"
    }
   ],
   "source": [
    "# calculate the MSE of the model\n",
    "mse = mean_squared_error(y_test, y_pred3)\n",
    "mse"
   ]
  },
  {
   "cell_type": "code",
   "execution_count": 230,
   "id": "7b9d9e5f",
   "metadata": {
    "execution": {
     "iopub.execute_input": "2023-02-21T20:37:47.834444Z",
     "iopub.status.busy": "2023-02-21T20:37:47.834026Z",
     "iopub.status.idle": "2023-02-21T20:37:47.840664Z",
     "shell.execute_reply": "2023-02-21T20:37:47.839899Z"
    },
    "id": "8dcb5574",
    "outputId": "22a21820-8af1-4b15-a129-4663929ab59b",
    "papermill": {
     "duration": 0.09716,
     "end_time": "2023-02-21T20:37:47.842672",
     "exception": false,
     "start_time": "2023-02-21T20:37:47.745512",
     "status": "completed"
    },
    "tags": []
   },
   "outputs": [
    {
     "data": {
      "text/plain": [
       "2.609688156875863"
      ]
     },
     "execution_count": 230,
     "metadata": {},
     "output_type": "execute_result"
    }
   ],
   "source": [
    "# calculate the RMSE of the model\n",
    "rmse = np.sqrt(mse)\n",
    "rmse"
   ]
  },
  {
   "cell_type": "code",
   "execution_count": 231,
   "id": "87a39ea3",
   "metadata": {
    "execution": {
     "iopub.execute_input": "2023-02-21T20:37:48.021118Z",
     "iopub.status.busy": "2023-02-21T20:37:48.020310Z",
     "iopub.status.idle": "2023-02-21T20:37:48.123473Z",
     "shell.execute_reply": "2023-02-21T20:37:48.121899Z"
    },
    "id": "9c06e660",
    "papermill": {
     "duration": 0.197798,
     "end_time": "2023-02-21T20:37:48.127710",
     "exception": false,
     "start_time": "2023-02-21T20:37:47.929912",
     "status": "completed"
    },
    "tags": []
   },
   "outputs": [],
   "source": [
    "# LASSO\n",
    "L1 = linear_model.Lasso()\n",
    "L1.fit(x_train,y_train)\n",
    "y_pred1 = L1.predict(x_test)"
   ]
  },
  {
   "cell_type": "code",
   "execution_count": 232,
   "id": "0e5566b3",
   "metadata": {
    "execution": {
     "iopub.execute_input": "2023-02-21T20:37:48.388875Z",
     "iopub.status.busy": "2023-02-21T20:37:48.388431Z",
     "iopub.status.idle": "2023-02-21T20:37:48.395695Z",
     "shell.execute_reply": "2023-02-21T20:37:48.394909Z"
    },
    "id": "08ab49d4",
    "outputId": "b59fd566-354b-4f9c-d3ed-03cd5057f223",
    "papermill": {
     "duration": 0.112693,
     "end_time": "2023-02-21T20:37:48.399367",
     "exception": false,
     "start_time": "2023-02-21T20:37:48.286674",
     "status": "completed"
    },
    "tags": []
   },
   "outputs": [
    {
     "data": {
      "text/plain": [
       "0.6496057028620932"
      ]
     },
     "execution_count": 232,
     "metadata": {},
     "output_type": "execute_result"
    }
   ],
   "source": [
    "r2 = r2_score(y_test, y_pred1)\n",
    "r2 \n"
   ]
  },
  {
   "cell_type": "code",
   "execution_count": 233,
   "id": "a59288e6",
   "metadata": {
    "execution": {
     "iopub.execute_input": "2023-02-21T20:37:48.598545Z",
     "iopub.status.busy": "2023-02-21T20:37:48.597411Z",
     "iopub.status.idle": "2023-02-21T20:37:48.605737Z",
     "shell.execute_reply": "2023-02-21T20:37:48.604619Z"
    },
    "id": "f5a78fbe",
    "outputId": "4172dbe2-24b0-4ce9-9041-07f27bc6c4f4",
    "papermill": {
     "duration": 0.109131,
     "end_time": "2023-02-21T20:37:48.608052",
     "exception": false,
     "start_time": "2023-02-21T20:37:48.498921",
     "status": "completed"
    },
    "tags": []
   },
   "outputs": [
    {
     "data": {
      "text/plain": [
       "1.5599579330447522"
      ]
     },
     "execution_count": 233,
     "metadata": {},
     "output_type": "execute_result"
    }
   ],
   "source": [
    "# calculate the MAE of the model\n",
    "mae = mean_absolute_error(y_test, y_pred1)\n",
    "mae"
   ]
  },
  {
   "cell_type": "code",
   "execution_count": 234,
   "id": "8426cfa8",
   "metadata": {
    "execution": {
     "iopub.execute_input": "2023-02-21T20:37:48.806907Z",
     "iopub.status.busy": "2023-02-21T20:37:48.806464Z",
     "iopub.status.idle": "2023-02-21T20:37:48.814249Z",
     "shell.execute_reply": "2023-02-21T20:37:48.813115Z"
    },
    "id": "ebda9aae",
    "outputId": "11f1b1d0-344e-4d82-e5c6-dec6672c217c",
    "papermill": {
     "duration": 0.110753,
     "end_time": "2023-02-21T20:37:48.816714",
     "exception": false,
     "start_time": "2023-02-21T20:37:48.705961",
     "status": "completed"
    },
    "tags": []
   },
   "outputs": [
    {
     "data": {
      "text/plain": [
       "7.536240022740899"
      ]
     },
     "execution_count": 234,
     "metadata": {},
     "output_type": "execute_result"
    }
   ],
   "source": [
    "# calculate the MSE of the model\n",
    "mse = mean_squared_error(y_test, y_pred1)\n",
    "mse"
   ]
  },
  {
   "cell_type": "code",
   "execution_count": 235,
   "id": "fb6fb256",
   "metadata": {
    "execution": {
     "iopub.execute_input": "2023-02-21T20:37:49.049062Z",
     "iopub.status.busy": "2023-02-21T20:37:49.048288Z",
     "iopub.status.idle": "2023-02-21T20:37:49.055289Z",
     "shell.execute_reply": "2023-02-21T20:37:49.054388Z"
    },
    "id": "b2981742",
    "outputId": "dfc3bbdf-7032-47f9-a60e-2d297e3e0ecb",
    "papermill": {
     "duration": 0.153015,
     "end_time": "2023-02-21T20:37:49.057569",
     "exception": false,
     "start_time": "2023-02-21T20:37:48.904554",
     "status": "completed"
    },
    "tags": []
   },
   "outputs": [
    {
     "data": {
      "text/plain": [
       "2.745221306696584"
      ]
     },
     "execution_count": 235,
     "metadata": {},
     "output_type": "execute_result"
    }
   ],
   "source": [
    "# calculate the RMSE of the model\n",
    "rmse = np.sqrt(mse)\n",
    "rmse"
   ]
  },
  {
   "cell_type": "markdown",
   "id": "7abb8a91",
   "metadata": {
    "id": "f0e9add8",
    "papermill": {
     "duration": 0.086614,
     "end_time": "2023-02-21T20:37:49.231212",
     "exception": false,
     "start_time": "2023-02-21T20:37:49.144598",
     "status": "completed"
    },
    "tags": []
   },
   "source": [
    "##Client 9: Nyack Hospital"
   ]
  },
  {
   "cell_type": "code",
   "execution_count": 236,
   "id": "20ab92ad",
   "metadata": {
    "execution": {
     "iopub.execute_input": "2023-02-21T20:37:49.415725Z",
     "iopub.status.busy": "2023-02-21T20:37:49.415127Z",
     "iopub.status.idle": "2023-02-21T20:37:49.571072Z",
     "shell.execute_reply": "2023-02-21T20:37:49.569840Z"
    },
    "id": "d984d6d0",
    "papermill": {
     "duration": 0.25244,
     "end_time": "2023-02-21T20:37:49.574069",
     "exception": false,
     "start_time": "2023-02-21T20:37:49.321629",
     "status": "completed"
    },
    "tags": []
   },
   "outputs": [],
   "source": [
    "Nyack_df=df[df[\"Facility Name\"]== 'Nyack Hospital']"
   ]
  },
  {
   "cell_type": "code",
   "execution_count": 237,
   "id": "94f03576",
   "metadata": {
    "execution": {
     "iopub.execute_input": "2023-02-21T20:37:49.751271Z",
     "iopub.status.busy": "2023-02-21T20:37:49.750551Z",
     "iopub.status.idle": "2023-02-21T20:37:49.771624Z",
     "shell.execute_reply": "2023-02-21T20:37:49.769873Z"
    },
    "id": "02f8f192",
    "outputId": "e87c3836-1e5e-4f6e-ef16-dac13316b4ed",
    "papermill": {
     "duration": 0.112517,
     "end_time": "2023-02-21T20:37:49.774656",
     "exception": false,
     "start_time": "2023-02-21T20:37:49.662139",
     "status": "completed"
    },
    "tags": []
   },
   "outputs": [
    {
     "name": "stdout",
     "output_type": "stream",
     "text": [
      "<class 'pandas.core.frame.DataFrame'>\n",
      "Int64Index: 13459 entries, 700257 to 761325\n",
      "Data columns (total 28 columns):\n",
      " #   Column                            Non-Null Count  Dtype   \n",
      "---  ------                            --------------  -----   \n",
      " 0   Hospital County                   13459 non-null  category\n",
      " 1   Operating Certificate Number      13459 non-null  float64 \n",
      " 2   Facility Id                       13459 non-null  float64 \n",
      " 3   Facility Name                     13459 non-null  object  \n",
      " 4   Age Group                         13459 non-null  category\n",
      " 5   Zip Code - 3 digits               13327 non-null  category\n",
      " 6   Gender                            13459 non-null  category\n",
      " 7   Race                              13459 non-null  category\n",
      " 8   Ethnicity                         13459 non-null  category\n",
      " 9   Length of Stay                    13459 non-null  category\n",
      " 10  Type of Admission                 13459 non-null  category\n",
      " 11  Patient Disposition               13459 non-null  category\n",
      " 12  Discharge Year                    13459 non-null  int64   \n",
      " 13  CCS Diagnosis Code                13459 non-null  int64   \n",
      " 14  CCS Procedure Code                13459 non-null  int64   \n",
      " 15  APR DRG Code                      13459 non-null  int64   \n",
      " 16  APR MDC Code                      13459 non-null  int64   \n",
      " 17  APR Severity of Illness Code      13459 non-null  int64   \n",
      " 18  APR Risk of Mortality             13459 non-null  category\n",
      " 19  APR Medical Surgical Description  13459 non-null  category\n",
      " 20  Payment Typology 1                13459 non-null  category\n",
      " 21  Payment Typology 2                5193 non-null   category\n",
      " 22  Payment Typology 3                369 non-null    category\n",
      " 23  Birth Weight                      13459 non-null  int64   \n",
      " 24  Abortion Edit Indicator           13459 non-null  category\n",
      " 25  Emergency Department Indicator    13459 non-null  category\n",
      " 26  Total Charges                     13459 non-null  float64 \n",
      " 27  Total Costs                       13459 non-null  float64 \n",
      "dtypes: category(16), float64(4), int64(7), object(1)\n",
      "memory usage: 1.6+ MB\n"
     ]
    }
   ],
   "source": [
    "Nyack_df.info()"
   ]
  },
  {
   "cell_type": "code",
   "execution_count": 238,
   "id": "475933e7",
   "metadata": {
    "execution": {
     "iopub.execute_input": "2023-02-21T20:37:49.952080Z",
     "iopub.status.busy": "2023-02-21T20:37:49.951356Z",
     "iopub.status.idle": "2023-02-21T20:37:49.957449Z",
     "shell.execute_reply": "2023-02-21T20:37:49.956537Z"
    },
    "id": "21398c68",
    "papermill": {
     "duration": 0.097584,
     "end_time": "2023-02-21T20:37:49.959928",
     "exception": false,
     "start_time": "2023-02-21T20:37:49.862344",
     "status": "completed"
    },
    "tags": []
   },
   "outputs": [],
   "source": [
    "Nyack_df=Nyack_df.drop(\"Facility Name\", axis=1)"
   ]
  },
  {
   "cell_type": "code",
   "execution_count": 239,
   "id": "56692266",
   "metadata": {
    "execution": {
     "iopub.execute_input": "2023-02-21T20:37:50.140249Z",
     "iopub.status.busy": "2023-02-21T20:37:50.139490Z",
     "iopub.status.idle": "2023-02-21T20:37:50.146089Z",
     "shell.execute_reply": "2023-02-21T20:37:50.144881Z"
    },
    "id": "102aee0b",
    "papermill": {
     "duration": 0.099041,
     "end_time": "2023-02-21T20:37:50.148632",
     "exception": false,
     "start_time": "2023-02-21T20:37:50.049591",
     "status": "completed"
    },
    "tags": []
   },
   "outputs": [],
   "source": [
    "Nyack_df = Nyack_df.drop([\"Payment Typology 2\",    \"Payment Typology 3\"], axis=1)"
   ]
  },
  {
   "cell_type": "code",
   "execution_count": 240,
   "id": "ffed5994",
   "metadata": {
    "execution": {
     "iopub.execute_input": "2023-02-21T20:37:50.324638Z",
     "iopub.status.busy": "2023-02-21T20:37:50.324208Z",
     "iopub.status.idle": "2023-02-21T20:37:50.332358Z",
     "shell.execute_reply": "2023-02-21T20:37:50.331412Z"
    },
    "id": "811afbb0",
    "papermill": {
     "duration": 0.098793,
     "end_time": "2023-02-21T20:37:50.334728",
     "exception": false,
     "start_time": "2023-02-21T20:37:50.235935",
     "status": "completed"
    },
    "tags": []
   },
   "outputs": [],
   "source": [
    " #   simple mapping on binary features.\n",
    "Nyack_df['Abortion Edit Indicator'] = Nyack_df['Abortion Edit Indicator'].apply(\n",
    "     lambda x: 1 if x == 'Y' else (0 if x == 'N' else None))\n",
    "Nyack_df['Emergency Department Indicator'] = Nyack_df['Emergency Department Indicator'].apply(\n",
    "    lambda x: 1 if x == 'Y' else (0 if x == 'N' else None))"
   ]
  },
  {
   "cell_type": "code",
   "execution_count": 241,
   "id": "36c88a36",
   "metadata": {
    "execution": {
     "iopub.execute_input": "2023-02-21T20:37:50.512680Z",
     "iopub.status.busy": "2023-02-21T20:37:50.511973Z",
     "iopub.status.idle": "2023-02-21T20:37:50.522890Z",
     "shell.execute_reply": "2023-02-21T20:37:50.521846Z"
    },
    "id": "96850422",
    "papermill": {
     "duration": 0.102129,
     "end_time": "2023-02-21T20:37:50.525542",
     "exception": false,
     "start_time": "2023-02-21T20:37:50.423413",
     "status": "completed"
    },
    "tags": []
   },
   "outputs": [],
   "source": [
    "Nyack_df[\"Length of Stay\"]=pd.to_numeric(Nyack_df[\"Length of Stay\"],errors='coerce')"
   ]
  },
  {
   "cell_type": "code",
   "execution_count": 242,
   "id": "7eb06ed6",
   "metadata": {
    "execution": {
     "iopub.execute_input": "2023-02-21T20:37:50.703620Z",
     "iopub.status.busy": "2023-02-21T20:37:50.702951Z",
     "iopub.status.idle": "2023-02-21T20:37:50.766350Z",
     "shell.execute_reply": "2023-02-21T20:37:50.765155Z"
    },
    "id": "5f05cf5b",
    "papermill": {
     "duration": 0.155305,
     "end_time": "2023-02-21T20:37:50.769258",
     "exception": false,
     "start_time": "2023-02-21T20:37:50.613953",
     "status": "completed"
    },
    "tags": []
   },
   "outputs": [],
   "source": [
    "list=  [ \"Hospital County\",\"Age Group\"\n",
    "    ,\"Gender\",   \n",
    " \"Race\" , \n",
    "\"Ethnicity\", \n",
    "\"Gender\" , \n",
    "\"Race\" ,    \n",
    " \"Ethnicity\" ,        \n",
    " \"Type of Admission\"  ,  \n",
    "  \"Patient Disposition\",      \n",
    " \"Type of Admission\" ,  \n",
    " \"Patient Disposition\"  ,\n",
    "  \"APR Risk of Mortality\" ,   \n",
    " \"APR Medical Surgical Description\" ,\n",
    " \"Payment Typology 1\"   ,   \n",
    " \"Abortion Edit Indicator\"     ,  \n",
    " \"Emergency Department Indicator\",\n",
    "       \"Zip Code - 3 digits\"]  \n",
    "\n",
    "# Import label encoder\n",
    "from sklearn import preprocessing\n",
    "  \n",
    "# label_encoder object knows how to understand word labels.\n",
    "label_encoder = preprocessing.LabelEncoder()\n",
    "  \n",
    "# Encode labels in column 'species'.\n",
    "for col in list :\n",
    "   Nyack_df[col]= label_encoder.fit_transform(Nyack_df[col])"
   ]
  },
  {
   "cell_type": "code",
   "execution_count": 243,
   "id": "a44f6f33",
   "metadata": {
    "execution": {
     "iopub.execute_input": "2023-02-21T20:37:50.945524Z",
     "iopub.status.busy": "2023-02-21T20:37:50.944530Z",
     "iopub.status.idle": "2023-02-21T20:37:50.961766Z",
     "shell.execute_reply": "2023-02-21T20:37:50.960090Z"
    },
    "id": "efb1d102",
    "outputId": "2959d0ec-0278-4d0b-f4f1-79aaad5d84e2",
    "papermill": {
     "duration": 0.108047,
     "end_time": "2023-02-21T20:37:50.964579",
     "exception": false,
     "start_time": "2023-02-21T20:37:50.856532",
     "status": "completed"
    },
    "tags": []
   },
   "outputs": [
    {
     "name": "stdout",
     "output_type": "stream",
     "text": [
      "<class 'pandas.core.frame.DataFrame'>\n",
      "Int64Index: 13459 entries, 700257 to 761325\n",
      "Data columns (total 25 columns):\n",
      " #   Column                            Non-Null Count  Dtype  \n",
      "---  ------                            --------------  -----  \n",
      " 0   Hospital County                   13459 non-null  int64  \n",
      " 1   Operating Certificate Number      13459 non-null  float64\n",
      " 2   Facility Id                       13459 non-null  float64\n",
      " 3   Age Group                         13459 non-null  int64  \n",
      " 4   Zip Code - 3 digits               13459 non-null  int64  \n",
      " 5   Gender                            13459 non-null  int64  \n",
      " 6   Race                              13459 non-null  int64  \n",
      " 7   Ethnicity                         13459 non-null  int64  \n",
      " 8   Length of Stay                    13458 non-null  float64\n",
      " 9   Type of Admission                 13459 non-null  int64  \n",
      " 10  Patient Disposition               13459 non-null  int64  \n",
      " 11  Discharge Year                    13459 non-null  int64  \n",
      " 12  CCS Diagnosis Code                13459 non-null  int64  \n",
      " 13  CCS Procedure Code                13459 non-null  int64  \n",
      " 14  APR DRG Code                      13459 non-null  int64  \n",
      " 15  APR MDC Code                      13459 non-null  int64  \n",
      " 16  APR Severity of Illness Code      13459 non-null  int64  \n",
      " 17  APR Risk of Mortality             13459 non-null  int64  \n",
      " 18  APR Medical Surgical Description  13459 non-null  int64  \n",
      " 19  Payment Typology 1                13459 non-null  int64  \n",
      " 20  Birth Weight                      13459 non-null  int64  \n",
      " 21  Abortion Edit Indicator           13459 non-null  int64  \n",
      " 22  Emergency Department Indicator    13459 non-null  int64  \n",
      " 23  Total Charges                     13459 non-null  float64\n",
      " 24  Total Costs                       13459 non-null  float64\n",
      "dtypes: float64(5), int64(20)\n",
      "memory usage: 2.7 MB\n"
     ]
    }
   ],
   "source": [
    "Nyack_df.info()"
   ]
  },
  {
   "cell_type": "code",
   "execution_count": 244,
   "id": "9eeea2fd",
   "metadata": {
    "execution": {
     "iopub.execute_input": "2023-02-21T20:37:51.140473Z",
     "iopub.status.busy": "2023-02-21T20:37:51.139491Z",
     "iopub.status.idle": "2023-02-21T20:37:51.152201Z",
     "shell.execute_reply": "2023-02-21T20:37:51.150986Z"
    },
    "id": "89018124",
    "papermill": {
     "duration": 0.103505,
     "end_time": "2023-02-21T20:37:51.154959",
     "exception": false,
     "start_time": "2023-02-21T20:37:51.051454",
     "status": "completed"
    },
    "tags": []
   },
   "outputs": [],
   "source": [
    "Nyack_df.dropna(inplace=True)"
   ]
  },
  {
   "cell_type": "code",
   "execution_count": 245,
   "id": "e184419b",
   "metadata": {
    "execution": {
     "iopub.execute_input": "2023-02-21T20:37:51.333813Z",
     "iopub.status.busy": "2023-02-21T20:37:51.333373Z",
     "iopub.status.idle": "2023-02-21T20:37:51.340371Z",
     "shell.execute_reply": "2023-02-21T20:37:51.339152Z"
    },
    "id": "4200b92b",
    "papermill": {
     "duration": 0.098303,
     "end_time": "2023-02-21T20:37:51.342702",
     "exception": false,
     "start_time": "2023-02-21T20:37:51.244399",
     "status": "completed"
    },
    "tags": []
   },
   "outputs": [],
   "source": [
    "x = Nyack_df.drop([\"Length of Stay\"], axis =1)\n",
    "y = Nyack_df[\"Length of Stay\"]"
   ]
  },
  {
   "cell_type": "code",
   "execution_count": 246,
   "id": "71b496d1",
   "metadata": {
    "execution": {
     "iopub.execute_input": "2023-02-21T20:37:51.518347Z",
     "iopub.status.busy": "2023-02-21T20:37:51.517565Z",
     "iopub.status.idle": "2023-02-21T20:37:51.526517Z",
     "shell.execute_reply": "2023-02-21T20:37:51.525543Z"
    },
    "id": "e51ca731",
    "papermill": {
     "duration": 0.099598,
     "end_time": "2023-02-21T20:37:51.529025",
     "exception": false,
     "start_time": "2023-02-21T20:37:51.429427",
     "status": "completed"
    },
    "tags": []
   },
   "outputs": [],
   "source": [
    "x_train, x_test, y_train, y_test = train_test_split(x, y, test_size=0.3, random_state=42)"
   ]
  },
  {
   "cell_type": "code",
   "execution_count": 247,
   "id": "0ff3bbc1",
   "metadata": {
    "execution": {
     "iopub.execute_input": "2023-02-21T20:37:51.705065Z",
     "iopub.status.busy": "2023-02-21T20:37:51.704658Z",
     "iopub.status.idle": "2023-02-21T20:37:51.729360Z",
     "shell.execute_reply": "2023-02-21T20:37:51.727719Z"
    },
    "id": "364b2601",
    "papermill": {
     "duration": 0.117011,
     "end_time": "2023-02-21T20:37:51.733888",
     "exception": false,
     "start_time": "2023-02-21T20:37:51.616877",
     "status": "completed"
    },
    "tags": []
   },
   "outputs": [],
   "source": [
    "# Linear Regression\n",
    "\n",
    "LR = LinearRegression()\n",
    "LR.fit(x_train, y_train)\n",
    "LR.score(x_train, y_train)\n",
    "y_pred =LR.predict(x_test)"
   ]
  },
  {
   "cell_type": "code",
   "execution_count": 248,
   "id": "aa1d5f1e",
   "metadata": {
    "execution": {
     "iopub.execute_input": "2023-02-21T20:37:51.982715Z",
     "iopub.status.busy": "2023-02-21T20:37:51.982347Z",
     "iopub.status.idle": "2023-02-21T20:37:51.990709Z",
     "shell.execute_reply": "2023-02-21T20:37:51.989440Z"
    },
    "id": "a46bb3ec",
    "outputId": "c08be33f-3141-4384-fbc5-5e8f11c81636",
    "papermill": {
     "duration": 0.09897,
     "end_time": "2023-02-21T20:37:51.993386",
     "exception": false,
     "start_time": "2023-02-21T20:37:51.894416",
     "status": "completed"
    },
    "tags": []
   },
   "outputs": [
    {
     "data": {
      "text/plain": [
       "0.8349891359205954"
      ]
     },
     "execution_count": 248,
     "metadata": {},
     "output_type": "execute_result"
    }
   ],
   "source": [
    "r2 = r2_score(y_test, y_pred)\n",
    "r2 \n"
   ]
  },
  {
   "cell_type": "code",
   "execution_count": 249,
   "id": "5509a78c",
   "metadata": {
    "execution": {
     "iopub.execute_input": "2023-02-21T20:37:52.170046Z",
     "iopub.status.busy": "2023-02-21T20:37:52.168736Z",
     "iopub.status.idle": "2023-02-21T20:37:52.176887Z",
     "shell.execute_reply": "2023-02-21T20:37:52.175779Z"
    },
    "id": "2f323a24",
    "outputId": "546e2e37-caca-48b7-ec40-265e17bec313",
    "papermill": {
     "duration": 0.098256,
     "end_time": "2023-02-21T20:37:52.179204",
     "exception": false,
     "start_time": "2023-02-21T20:37:52.080948",
     "status": "completed"
    },
    "tags": []
   },
   "outputs": [
    {
     "data": {
      "text/plain": [
       "1.3344919646969073"
      ]
     },
     "execution_count": 249,
     "metadata": {},
     "output_type": "execute_result"
    }
   ],
   "source": [
    "# calculate the MAE of the model\n",
    "mae = mean_absolute_error(y_test, y_pred)\n",
    "mae"
   ]
  },
  {
   "cell_type": "code",
   "execution_count": 250,
   "id": "e5246ad8",
   "metadata": {
    "execution": {
     "iopub.execute_input": "2023-02-21T20:37:52.357477Z",
     "iopub.status.busy": "2023-02-21T20:37:52.356714Z",
     "iopub.status.idle": "2023-02-21T20:37:52.364259Z",
     "shell.execute_reply": "2023-02-21T20:37:52.363100Z"
    },
    "id": "10f61f26",
    "outputId": "64c8ccd2-56cd-409b-c261-fb42cef742fa",
    "papermill": {
     "duration": 0.098911,
     "end_time": "2023-02-21T20:37:52.366488",
     "exception": false,
     "start_time": "2023-02-21T20:37:52.267577",
     "status": "completed"
    },
    "tags": []
   },
   "outputs": [
    {
     "data": {
      "text/plain": [
       "5.8475935175546985"
      ]
     },
     "execution_count": 250,
     "metadata": {},
     "output_type": "execute_result"
    }
   ],
   "source": [
    "# calculate the MSE of the model\n",
    "mse = mean_squared_error(y_test, y_pred)\n",
    "mse"
   ]
  },
  {
   "cell_type": "code",
   "execution_count": 251,
   "id": "b4c535b3",
   "metadata": {
    "execution": {
     "iopub.execute_input": "2023-02-21T20:37:52.545080Z",
     "iopub.status.busy": "2023-02-21T20:37:52.543857Z",
     "iopub.status.idle": "2023-02-21T20:37:52.551023Z",
     "shell.execute_reply": "2023-02-21T20:37:52.550008Z"
    },
    "id": "f87b2db4",
    "outputId": "b417b672-8948-4511-91d4-9298b1e17bd6",
    "papermill": {
     "duration": 0.098963,
     "end_time": "2023-02-21T20:37:52.553223",
     "exception": false,
     "start_time": "2023-02-21T20:37:52.454260",
     "status": "completed"
    },
    "tags": []
   },
   "outputs": [
    {
     "data": {
      "text/plain": [
       "2.4181797942987404"
      ]
     },
     "execution_count": 251,
     "metadata": {},
     "output_type": "execute_result"
    }
   ],
   "source": [
    "# calculate the RMSE of the model\n",
    "rmse = np.sqrt(mse)\n",
    "rmse"
   ]
  },
  {
   "cell_type": "code",
   "execution_count": 252,
   "id": "83246f68",
   "metadata": {
    "execution": {
     "iopub.execute_input": "2023-02-21T20:37:52.729886Z",
     "iopub.status.busy": "2023-02-21T20:37:52.729183Z",
     "iopub.status.idle": "2023-02-21T20:37:52.841557Z",
     "shell.execute_reply": "2023-02-21T20:37:52.839809Z"
    },
    "id": "4d4c8f88",
    "papermill": {
     "duration": 0.205878,
     "end_time": "2023-02-21T20:37:52.846109",
     "exception": false,
     "start_time": "2023-02-21T20:37:52.640231",
     "status": "completed"
    },
    "tags": []
   },
   "outputs": [],
   "source": [
    "# LASSO\n",
    "L1 = linear_model.Lasso()\n",
    "L1.fit(x_train,y_train)\n",
    "y_pred1 = L1.predict(x_test)"
   ]
  },
  {
   "cell_type": "code",
   "execution_count": 253,
   "id": "2e258a9b",
   "metadata": {
    "execution": {
     "iopub.execute_input": "2023-02-21T20:37:53.157850Z",
     "iopub.status.busy": "2023-02-21T20:37:53.157444Z",
     "iopub.status.idle": "2023-02-21T20:37:53.165584Z",
     "shell.execute_reply": "2023-02-21T20:37:53.164381Z"
    },
    "id": "73306fc4",
    "outputId": "9f29f484-32ac-49a6-df04-3f6ee59bce40",
    "papermill": {
     "duration": 0.105284,
     "end_time": "2023-02-21T20:37:53.167930",
     "exception": false,
     "start_time": "2023-02-21T20:37:53.062646",
     "status": "completed"
    },
    "tags": []
   },
   "outputs": [
    {
     "data": {
      "text/plain": [
       "0.8130004942930402"
      ]
     },
     "execution_count": 253,
     "metadata": {},
     "output_type": "execute_result"
    }
   ],
   "source": [
    "r2 = r2_score(y_test, y_pred1)\n",
    "r2 "
   ]
  },
  {
   "cell_type": "code",
   "execution_count": 254,
   "id": "277b0d14",
   "metadata": {
    "execution": {
     "iopub.execute_input": "2023-02-21T20:37:53.346287Z",
     "iopub.status.busy": "2023-02-21T20:37:53.345896Z",
     "iopub.status.idle": "2023-02-21T20:37:53.353307Z",
     "shell.execute_reply": "2023-02-21T20:37:53.352220Z"
    },
    "id": "e03f9fad",
    "outputId": "ceb598fb-4321-4288-80a5-7cf76ecafa7f",
    "papermill": {
     "duration": 0.0992,
     "end_time": "2023-02-21T20:37:53.355626",
     "exception": false,
     "start_time": "2023-02-21T20:37:53.256426",
     "status": "completed"
    },
    "tags": []
   },
   "outputs": [
    {
     "data": {
      "text/plain": [
       "1.371002670909177"
      ]
     },
     "execution_count": 254,
     "metadata": {},
     "output_type": "execute_result"
    }
   ],
   "source": [
    "# calculate the MAE of the model\n",
    "mae = mean_absolute_error(y_test, y_pred1)\n",
    "mae"
   ]
  },
  {
   "cell_type": "code",
   "execution_count": 255,
   "id": "aefdae39",
   "metadata": {
    "execution": {
     "iopub.execute_input": "2023-02-21T20:37:53.533841Z",
     "iopub.status.busy": "2023-02-21T20:37:53.533418Z",
     "iopub.status.idle": "2023-02-21T20:37:53.541629Z",
     "shell.execute_reply": "2023-02-21T20:37:53.540471Z"
    },
    "id": "a78a2653",
    "outputId": "c24ff48c-d310-49ea-ecc8-4d2aa98a6862",
    "papermill": {
     "duration": 0.100453,
     "end_time": "2023-02-21T20:37:53.543936",
     "exception": false,
     "start_time": "2023-02-21T20:37:53.443483",
     "status": "completed"
    },
    "tags": []
   },
   "outputs": [
    {
     "data": {
      "text/plain": [
       "6.626818806498411"
      ]
     },
     "execution_count": 255,
     "metadata": {},
     "output_type": "execute_result"
    }
   ],
   "source": [
    "# calculate the MSE of the model\n",
    "mse = mean_squared_error(y_test, y_pred1)\n",
    "mse"
   ]
  },
  {
   "cell_type": "code",
   "execution_count": 256,
   "id": "e53a21b5",
   "metadata": {
    "execution": {
     "iopub.execute_input": "2023-02-21T20:37:53.728378Z",
     "iopub.status.busy": "2023-02-21T20:37:53.727389Z",
     "iopub.status.idle": "2023-02-21T20:37:53.734227Z",
     "shell.execute_reply": "2023-02-21T20:37:53.733140Z"
    },
    "id": "d6eb6d9e",
    "outputId": "7d909746-547c-4f16-9035-4cb2ad9c2748",
    "papermill": {
     "duration": 0.100999,
     "end_time": "2023-02-21T20:37:53.736637",
     "exception": false,
     "start_time": "2023-02-21T20:37:53.635638",
     "status": "completed"
    },
    "tags": []
   },
   "outputs": [
    {
     "data": {
      "text/plain": [
       "2.574260827208154"
      ]
     },
     "execution_count": 256,
     "metadata": {},
     "output_type": "execute_result"
    }
   ],
   "source": [
    "# calculate the RMSE of the model\n",
    "rmse = np.sqrt(mse)\n",
    "rmse"
   ]
  },
  {
   "cell_type": "code",
   "execution_count": 257,
   "id": "94a12912",
   "metadata": {
    "execution": {
     "iopub.execute_input": "2023-02-21T20:37:53.920759Z",
     "iopub.status.busy": "2023-02-21T20:37:53.920014Z",
     "iopub.status.idle": "2023-02-21T20:37:53.938436Z",
     "shell.execute_reply": "2023-02-21T20:37:53.935822Z"
    },
    "id": "66dfe727",
    "papermill": {
     "duration": 0.115572,
     "end_time": "2023-02-21T20:37:53.943352",
     "exception": false,
     "start_time": "2023-02-21T20:37:53.827780",
     "status": "completed"
    },
    "tags": []
   },
   "outputs": [],
   "source": [
    "# Ridge\n",
    "L2 = Ridge(alpha=1.0)\n",
    "L2.fit(x_train, y_train) \n",
    "y_pred3 = L2.predict(x_test)"
   ]
  },
  {
   "cell_type": "code",
   "execution_count": 258,
   "id": "0c2e98eb",
   "metadata": {
    "execution": {
     "iopub.execute_input": "2023-02-21T20:37:54.197634Z",
     "iopub.status.busy": "2023-02-21T20:37:54.197236Z",
     "iopub.status.idle": "2023-02-21T20:37:54.204619Z",
     "shell.execute_reply": "2023-02-21T20:37:54.203648Z"
    },
    "id": "a9df5b87",
    "outputId": "bc101b3a-248a-4096-c35c-c752266334c6",
    "papermill": {
     "duration": 0.103398,
     "end_time": "2023-02-21T20:37:54.206655",
     "exception": false,
     "start_time": "2023-02-21T20:37:54.103257",
     "status": "completed"
    },
    "tags": []
   },
   "outputs": [
    {
     "data": {
      "text/plain": [
       "0.8349875922803607"
      ]
     },
     "execution_count": 258,
     "metadata": {},
     "output_type": "execute_result"
    }
   ],
   "source": [
    "r2 = r2_score(y_test, y_pred3)\n",
    "r2 "
   ]
  },
  {
   "cell_type": "code",
   "execution_count": 259,
   "id": "a80ad679",
   "metadata": {
    "execution": {
     "iopub.execute_input": "2023-02-21T20:37:54.384780Z",
     "iopub.status.busy": "2023-02-21T20:37:54.384076Z",
     "iopub.status.idle": "2023-02-21T20:37:54.391338Z",
     "shell.execute_reply": "2023-02-21T20:37:54.390324Z"
    },
    "id": "16e2fcd9",
    "outputId": "bbdd1256-d5b1-4911-f4bc-bb1b7f674dfa",
    "papermill": {
     "duration": 0.098834,
     "end_time": "2023-02-21T20:37:54.393809",
     "exception": false,
     "start_time": "2023-02-21T20:37:54.294975",
     "status": "completed"
    },
    "tags": []
   },
   "outputs": [
    {
     "data": {
      "text/plain": [
       "1.3343143263471502"
      ]
     },
     "execution_count": 259,
     "metadata": {},
     "output_type": "execute_result"
    }
   ],
   "source": [
    "# calculate the MAE of the model\n",
    "mae = mean_absolute_error(y_test, y_pred3)\n",
    "mae"
   ]
  },
  {
   "cell_type": "code",
   "execution_count": 260,
   "id": "f6dc99ef",
   "metadata": {
    "execution": {
     "iopub.execute_input": "2023-02-21T20:37:54.573314Z",
     "iopub.status.busy": "2023-02-21T20:37:54.572565Z",
     "iopub.status.idle": "2023-02-21T20:37:54.579356Z",
     "shell.execute_reply": "2023-02-21T20:37:54.578360Z"
    },
    "id": "2a27fcfc",
    "outputId": "f7754e25-6f21-4f81-ea94-f7b06caf6a84",
    "papermill": {
     "duration": 0.099349,
     "end_time": "2023-02-21T20:37:54.582133",
     "exception": false,
     "start_time": "2023-02-21T20:37:54.482784",
     "status": "completed"
    },
    "tags": []
   },
   "outputs": [
    {
     "data": {
      "text/plain": [
       "5.847648220502174"
      ]
     },
     "execution_count": 260,
     "metadata": {},
     "output_type": "execute_result"
    }
   ],
   "source": [
    "# calculate the MSE of the model\n",
    "mse = mean_squared_error(y_test, y_pred3)\n",
    "mse"
   ]
  },
  {
   "cell_type": "code",
   "execution_count": 261,
   "id": "a4d7fe37",
   "metadata": {
    "execution": {
     "iopub.execute_input": "2023-02-21T20:37:54.760868Z",
     "iopub.status.busy": "2023-02-21T20:37:54.760139Z",
     "iopub.status.idle": "2023-02-21T20:37:54.766651Z",
     "shell.execute_reply": "2023-02-21T20:37:54.765548Z"
    },
    "id": "0c7cc0a7",
    "outputId": "0a5074b0-3cd3-4448-d0a2-0e31b4ad79ba",
    "papermill": {
     "duration": 0.097944,
     "end_time": "2023-02-21T20:37:54.768900",
     "exception": false,
     "start_time": "2023-02-21T20:37:54.670956",
     "status": "completed"
    },
    "tags": []
   },
   "outputs": [
    {
     "data": {
      "text/plain": [
       "2.418191105041571"
      ]
     },
     "execution_count": 261,
     "metadata": {},
     "output_type": "execute_result"
    }
   ],
   "source": [
    "# calculate the RMSE of the model\n",
    "rmse = np.sqrt(mse)\n",
    "rmse"
   ]
  },
  {
   "cell_type": "markdown",
   "id": "f53021ea",
   "metadata": {
    "id": "f1eeb80e",
    "papermill": {
     "duration": 0.088889,
     "end_time": "2023-02-21T20:37:54.947154",
     "exception": false,
     "start_time": "2023-02-21T20:37:54.858265",
     "status": "completed"
    },
    "tags": []
   },
   "source": [
    "##Client 10: Mount St Marys Hospital"
   ]
  },
  {
   "cell_type": "code",
   "execution_count": 262,
   "id": "491b67ed",
   "metadata": {
    "execution": {
     "iopub.execute_input": "2023-02-21T20:37:55.128022Z",
     "iopub.status.busy": "2023-02-21T20:37:55.127287Z",
     "iopub.status.idle": "2023-02-21T20:37:55.313820Z",
     "shell.execute_reply": "2023-02-21T20:37:55.312389Z"
    },
    "id": "5c968068",
    "papermill": {
     "duration": 0.279385,
     "end_time": "2023-02-21T20:37:55.316799",
     "exception": false,
     "start_time": "2023-02-21T20:37:55.037414",
     "status": "completed"
    },
    "tags": []
   },
   "outputs": [],
   "source": [
    "#Mount St Marys Hospital and Health Center\n",
    "Mount_df=df[df[\"Facility Name\"]== 'Mount St Marys Hospital and Health Center']"
   ]
  },
  {
   "cell_type": "code",
   "execution_count": 263,
   "id": "a1c322b1",
   "metadata": {
    "execution": {
     "iopub.execute_input": "2023-02-21T20:37:55.496420Z",
     "iopub.status.busy": "2023-02-21T20:37:55.496015Z",
     "iopub.status.idle": "2023-02-21T20:37:55.517310Z",
     "shell.execute_reply": "2023-02-21T20:37:55.515395Z"
    },
    "id": "2a68b0b0",
    "outputId": "4c4507fc-ba40-489c-b814-71cdf07d443b",
    "papermill": {
     "duration": 0.115491,
     "end_time": "2023-02-21T20:37:55.521372",
     "exception": false,
     "start_time": "2023-02-21T20:37:55.405881",
     "status": "completed"
    },
    "tags": []
   },
   "outputs": [
    {
     "name": "stdout",
     "output_type": "stream",
     "text": [
      "<class 'pandas.core.frame.DataFrame'>\n",
      "Int64Index: 5314 entries, 138563 to 143964\n",
      "Data columns (total 28 columns):\n",
      " #   Column                            Non-Null Count  Dtype   \n",
      "---  ------                            --------------  -----   \n",
      " 0   Hospital County                   5314 non-null   category\n",
      " 1   Operating Certificate Number      5314 non-null   float64 \n",
      " 2   Facility Id                       5314 non-null   float64 \n",
      " 3   Facility Name                     5314 non-null   object  \n",
      " 4   Age Group                         5314 non-null   category\n",
      " 5   Zip Code - 3 digits               5267 non-null   category\n",
      " 6   Gender                            5314 non-null   category\n",
      " 7   Race                              5314 non-null   category\n",
      " 8   Ethnicity                         5314 non-null   category\n",
      " 9   Length of Stay                    5314 non-null   category\n",
      " 10  Type of Admission                 5314 non-null   category\n",
      " 11  Patient Disposition               5314 non-null   category\n",
      " 12  Discharge Year                    5314 non-null   int64   \n",
      " 13  CCS Diagnosis Code                5314 non-null   int64   \n",
      " 14  CCS Procedure Code                5314 non-null   int64   \n",
      " 15  APR DRG Code                      5314 non-null   int64   \n",
      " 16  APR MDC Code                      5314 non-null   int64   \n",
      " 17  APR Severity of Illness Code      5314 non-null   int64   \n",
      " 18  APR Risk of Mortality             5314 non-null   category\n",
      " 19  APR Medical Surgical Description  5314 non-null   category\n",
      " 20  Payment Typology 1                5314 non-null   category\n",
      " 21  Payment Typology 2                2876 non-null   category\n",
      " 22  Payment Typology 3                327 non-null    category\n",
      " 23  Birth Weight                      5314 non-null   int64   \n",
      " 24  Abortion Edit Indicator           5314 non-null   category\n",
      " 25  Emergency Department Indicator    5314 non-null   category\n",
      " 26  Total Charges                     5314 non-null   float64 \n",
      " 27  Total Costs                       5314 non-null   float64 \n",
      "dtypes: category(16), float64(4), int64(7), object(1)\n",
      "memory usage: 646.0+ KB\n"
     ]
    }
   ],
   "source": [
    "Mount_df.info()\n"
   ]
  },
  {
   "cell_type": "code",
   "execution_count": 264,
   "id": "0f63f808",
   "metadata": {
    "execution": {
     "iopub.execute_input": "2023-02-21T20:37:55.701890Z",
     "iopub.status.busy": "2023-02-21T20:37:55.700977Z",
     "iopub.status.idle": "2023-02-21T20:37:55.707938Z",
     "shell.execute_reply": "2023-02-21T20:37:55.706780Z"
    },
    "id": "472f22d0",
    "papermill": {
     "duration": 0.09976,
     "end_time": "2023-02-21T20:37:55.710701",
     "exception": false,
     "start_time": "2023-02-21T20:37:55.610941",
     "status": "completed"
    },
    "tags": []
   },
   "outputs": [],
   "source": [
    "Mount_df = Mount_df.drop(\"Facility Name\", axis=1)\n"
   ]
  },
  {
   "cell_type": "code",
   "execution_count": 265,
   "id": "b1e63566",
   "metadata": {
    "execution": {
     "iopub.execute_input": "2023-02-21T20:37:55.889236Z",
     "iopub.status.busy": "2023-02-21T20:37:55.888535Z",
     "iopub.status.idle": "2023-02-21T20:37:55.895680Z",
     "shell.execute_reply": "2023-02-21T20:37:55.894912Z"
    },
    "id": "c172e32c",
    "papermill": {
     "duration": 0.099111,
     "end_time": "2023-02-21T20:37:55.897963",
     "exception": false,
     "start_time": "2023-02-21T20:37:55.798852",
     "status": "completed"
    },
    "tags": []
   },
   "outputs": [],
   "source": [
    " #   simple mapping on binary features.\n",
    "Mount_df['Abortion Edit Indicator'] = Mount_df['Abortion Edit Indicator'].apply(\n",
    "     lambda x: 1 if x == 'Y' else (0 if x == 'N' else None))\n",
    "Mount_df['Emergency Department Indicator'] = Mount_df['Emergency Department Indicator'].apply(\n",
    "    lambda x: 1 if x == 'Y' else (0 if x == 'N' else None))"
   ]
  },
  {
   "cell_type": "code",
   "execution_count": 266,
   "id": "0fd2521b",
   "metadata": {
    "execution": {
     "iopub.execute_input": "2023-02-21T20:37:56.079734Z",
     "iopub.status.busy": "2023-02-21T20:37:56.078651Z",
     "iopub.status.idle": "2023-02-21T20:37:56.088999Z",
     "shell.execute_reply": "2023-02-21T20:37:56.087536Z"
    },
    "id": "043b689f",
    "papermill": {
     "duration": 0.104653,
     "end_time": "2023-02-21T20:37:56.091777",
     "exception": false,
     "start_time": "2023-02-21T20:37:55.987124",
     "status": "completed"
    },
    "tags": []
   },
   "outputs": [],
   "source": [
    "Mount_df[\"Length of Stay\"]=pd.to_numeric(Mount_df[\"Length of Stay\"],errors='coerce')"
   ]
  },
  {
   "cell_type": "code",
   "execution_count": 267,
   "id": "f4562c17",
   "metadata": {
    "execution": {
     "iopub.execute_input": "2023-02-21T20:37:56.273985Z",
     "iopub.status.busy": "2023-02-21T20:37:56.273216Z",
     "iopub.status.idle": "2023-02-21T20:37:56.305134Z",
     "shell.execute_reply": "2023-02-21T20:37:56.304050Z"
    },
    "id": "f273ab4c",
    "papermill": {
     "duration": 0.125719,
     "end_time": "2023-02-21T20:37:56.307676",
     "exception": false,
     "start_time": "2023-02-21T20:37:56.181957",
     "status": "completed"
    },
    "tags": []
   },
   "outputs": [],
   "source": [
    "list=  [ \"Hospital County\",\"Age Group\"\n",
    "    ,\"Gender\",   \n",
    " \"Race\" , \n",
    "\"Ethnicity\", \n",
    "\"Gender\" , \n",
    "\"Race\" ,    \n",
    " \"Ethnicity\" ,        \n",
    " \"Type of Admission\"  ,  \n",
    "  \"Patient Disposition\",      \n",
    " \"Type of Admission\" ,  \n",
    " \"Patient Disposition\"  ,\n",
    "  \"APR Risk of Mortality\" ,   \n",
    " \"APR Medical Surgical Description\" ,\n",
    " \"Payment Typology 1\"   ,   \n",
    " \"Abortion Edit Indicator\"     ,  \n",
    " \"Emergency Department Indicator\",\n",
    "       \"Zip Code - 3 digits\"]  \n",
    "\n",
    "# Import label encoder\n",
    "from sklearn import preprocessing\n",
    "  \n",
    "# label_encoder object knows how to understand word labels.\n",
    "label_encoder = preprocessing.LabelEncoder()\n",
    "  \n",
    "# Encode labels in column 'species'.\n",
    "for col in list :\n",
    "  Mount_df[col]= label_encoder.fit_transform(Mount_df[col])"
   ]
  },
  {
   "cell_type": "code",
   "execution_count": 268,
   "id": "d7c39932",
   "metadata": {
    "execution": {
     "iopub.execute_input": "2023-02-21T20:37:56.488031Z",
     "iopub.status.busy": "2023-02-21T20:37:56.487505Z",
     "iopub.status.idle": "2023-02-21T20:37:56.505465Z",
     "shell.execute_reply": "2023-02-21T20:37:56.504257Z"
    },
    "id": "b7d006f4",
    "outputId": "4c566e7e-e724-4b20-fa80-69a7b3d70e39",
    "papermill": {
     "duration": 0.111853,
     "end_time": "2023-02-21T20:37:56.508228",
     "exception": false,
     "start_time": "2023-02-21T20:37:56.396375",
     "status": "completed"
    },
    "tags": []
   },
   "outputs": [
    {
     "name": "stdout",
     "output_type": "stream",
     "text": [
      "<class 'pandas.core.frame.DataFrame'>\n",
      "Int64Index: 5314 entries, 138563 to 143964\n",
      "Data columns (total 27 columns):\n",
      " #   Column                            Non-Null Count  Dtype   \n",
      "---  ------                            --------------  -----   \n",
      " 0   Hospital County                   5314 non-null   int64   \n",
      " 1   Operating Certificate Number      5314 non-null   float64 \n",
      " 2   Facility Id                       5314 non-null   float64 \n",
      " 3   Age Group                         5314 non-null   int64   \n",
      " 4   Zip Code - 3 digits               5314 non-null   int64   \n",
      " 5   Gender                            5314 non-null   int64   \n",
      " 6   Race                              5314 non-null   int64   \n",
      " 7   Ethnicity                         5314 non-null   int64   \n",
      " 8   Length of Stay                    5314 non-null   int64   \n",
      " 9   Type of Admission                 5314 non-null   int64   \n",
      " 10  Patient Disposition               5314 non-null   int64   \n",
      " 11  Discharge Year                    5314 non-null   int64   \n",
      " 12  CCS Diagnosis Code                5314 non-null   int64   \n",
      " 13  CCS Procedure Code                5314 non-null   int64   \n",
      " 14  APR DRG Code                      5314 non-null   int64   \n",
      " 15  APR MDC Code                      5314 non-null   int64   \n",
      " 16  APR Severity of Illness Code      5314 non-null   int64   \n",
      " 17  APR Risk of Mortality             5314 non-null   int64   \n",
      " 18  APR Medical Surgical Description  5314 non-null   int64   \n",
      " 19  Payment Typology 1                5314 non-null   int64   \n",
      " 20  Payment Typology 2                2876 non-null   category\n",
      " 21  Payment Typology 3                327 non-null    category\n",
      " 22  Birth Weight                      5314 non-null   int64   \n",
      " 23  Abortion Edit Indicator           5314 non-null   int64   \n",
      " 24  Emergency Department Indicator    5314 non-null   int64   \n",
      " 25  Total Charges                     5314 non-null   float64 \n",
      " 26  Total Costs                       5314 non-null   float64 \n",
      "dtypes: category(2), float64(4), int64(21)\n",
      "memory usage: 1.1 MB\n"
     ]
    }
   ],
   "source": [
    "Mount_df.info()"
   ]
  },
  {
   "cell_type": "code",
   "execution_count": 269,
   "id": "bd764974",
   "metadata": {
    "execution": {
     "iopub.execute_input": "2023-02-21T20:37:56.689386Z",
     "iopub.status.busy": "2023-02-21T20:37:56.688706Z",
     "iopub.status.idle": "2023-02-21T20:37:56.696301Z",
     "shell.execute_reply": "2023-02-21T20:37:56.695134Z"
    },
    "id": "0b203fc0",
    "papermill": {
     "duration": 0.100334,
     "end_time": "2023-02-21T20:37:56.698746",
     "exception": false,
     "start_time": "2023-02-21T20:37:56.598412",
     "status": "completed"
    },
    "tags": []
   },
   "outputs": [],
   "source": [
    "Mount_df = Mount_df.drop([\"Payment Typology 2\",    \"Payment Typology 3\"], axis=1)\n"
   ]
  },
  {
   "cell_type": "code",
   "execution_count": 270,
   "id": "060bf9f6",
   "metadata": {
    "execution": {
     "iopub.execute_input": "2023-02-21T20:37:56.878539Z",
     "iopub.status.busy": "2023-02-21T20:37:56.877868Z",
     "iopub.status.idle": "2023-02-21T20:37:56.884422Z",
     "shell.execute_reply": "2023-02-21T20:37:56.883590Z"
    },
    "id": "f99ed494",
    "papermill": {
     "duration": 0.099047,
     "end_time": "2023-02-21T20:37:56.886790",
     "exception": false,
     "start_time": "2023-02-21T20:37:56.787743",
     "status": "completed"
    },
    "tags": []
   },
   "outputs": [],
   "source": [
    "x = Mount_df.drop([\"Length of Stay\"], axis =1)\n",
    "y = Mount_df[\"Length of Stay\"]"
   ]
  },
  {
   "cell_type": "code",
   "execution_count": 271,
   "id": "1fc3f9b5",
   "metadata": {
    "execution": {
     "iopub.execute_input": "2023-02-21T20:37:57.068517Z",
     "iopub.status.busy": "2023-02-21T20:37:57.067854Z",
     "iopub.status.idle": "2023-02-21T20:37:57.075721Z",
     "shell.execute_reply": "2023-02-21T20:37:57.074807Z"
    },
    "id": "b168791b",
    "papermill": {
     "duration": 0.101412,
     "end_time": "2023-02-21T20:37:57.078222",
     "exception": false,
     "start_time": "2023-02-21T20:37:56.976810",
     "status": "completed"
    },
    "tags": []
   },
   "outputs": [],
   "source": [
    "x_train, x_test, y_train, y_test = train_test_split(x, y, test_size=0.3, random_state=42)"
   ]
  },
  {
   "cell_type": "code",
   "execution_count": 272,
   "id": "9e7faa1e",
   "metadata": {
    "execution": {
     "iopub.execute_input": "2023-02-21T20:37:57.260687Z",
     "iopub.status.busy": "2023-02-21T20:37:57.260055Z",
     "iopub.status.idle": "2023-02-21T20:37:57.286393Z",
     "shell.execute_reply": "2023-02-21T20:37:57.284695Z"
    },
    "id": "f3ea3b17",
    "papermill": {
     "duration": 0.123003,
     "end_time": "2023-02-21T20:37:57.290845",
     "exception": false,
     "start_time": "2023-02-21T20:37:57.167842",
     "status": "completed"
    },
    "tags": []
   },
   "outputs": [],
   "source": [
    "# Linear Regression\n",
    "\n",
    "LR = LinearRegression()\n",
    "LR.fit(x_train, y_train)\n",
    "LR.score(x_train, y_train)\n",
    "y_pred =LR.predict(x_test)"
   ]
  },
  {
   "cell_type": "code",
   "execution_count": 273,
   "id": "31f59325",
   "metadata": {
    "execution": {
     "iopub.execute_input": "2023-02-21T20:37:57.543543Z",
     "iopub.status.busy": "2023-02-21T20:37:57.543160Z",
     "iopub.status.idle": "2023-02-21T20:37:57.551740Z",
     "shell.execute_reply": "2023-02-21T20:37:57.550555Z"
    },
    "id": "c4a9f2ed",
    "outputId": "eed34e8f-7757-49b2-c73a-6363bf56a369",
    "papermill": {
     "duration": 0.100848,
     "end_time": "2023-02-21T20:37:57.554057",
     "exception": false,
     "start_time": "2023-02-21T20:37:57.453209",
     "status": "completed"
    },
    "tags": []
   },
   "outputs": [
    {
     "data": {
      "text/plain": [
       "0.8493645328400692"
      ]
     },
     "execution_count": 273,
     "metadata": {},
     "output_type": "execute_result"
    }
   ],
   "source": [
    "r2 = r2_score(y_test, y_pred)\n",
    "r2 \n"
   ]
  },
  {
   "cell_type": "code",
   "execution_count": 274,
   "id": "2ea4c038",
   "metadata": {
    "execution": {
     "iopub.execute_input": "2023-02-21T20:37:57.734908Z",
     "iopub.status.busy": "2023-02-21T20:37:57.733601Z",
     "iopub.status.idle": "2023-02-21T20:37:57.740878Z",
     "shell.execute_reply": "2023-02-21T20:37:57.739984Z"
    },
    "id": "030fe533",
    "outputId": "7f914a15-5bb3-4fad-a0fa-f3fa04cb0a15",
    "papermill": {
     "duration": 0.099426,
     "end_time": "2023-02-21T20:37:57.742903",
     "exception": false,
     "start_time": "2023-02-21T20:37:57.643477",
     "status": "completed"
    },
    "tags": []
   },
   "outputs": [
    {
     "data": {
      "text/plain": [
       "1.5751957484784673"
      ]
     },
     "execution_count": 274,
     "metadata": {},
     "output_type": "execute_result"
    }
   ],
   "source": [
    "# calculate the MAE of the model\n",
    "mae = mean_absolute_error(y_test, y_pred)\n",
    "mae"
   ]
  },
  {
   "cell_type": "code",
   "execution_count": 275,
   "id": "8bf7d9c8",
   "metadata": {
    "execution": {
     "iopub.execute_input": "2023-02-21T20:37:57.924013Z",
     "iopub.status.busy": "2023-02-21T20:37:57.923372Z",
     "iopub.status.idle": "2023-02-21T20:37:57.930565Z",
     "shell.execute_reply": "2023-02-21T20:37:57.929623Z"
    },
    "id": "f3bbbb25",
    "outputId": "8fdbcbb4-3aa5-4b53-ab15-903de14ba338",
    "papermill": {
     "duration": 0.10089,
     "end_time": "2023-02-21T20:37:57.932630",
     "exception": false,
     "start_time": "2023-02-21T20:37:57.831740",
     "status": "completed"
    },
    "tags": []
   },
   "outputs": [
    {
     "data": {
      "text/plain": [
       "5.420550398990118"
      ]
     },
     "execution_count": 275,
     "metadata": {},
     "output_type": "execute_result"
    }
   ],
   "source": [
    "# calculate the MSE of the model\n",
    "mse = mean_squared_error(y_test, y_pred)\n",
    "mse"
   ]
  },
  {
   "cell_type": "code",
   "execution_count": 276,
   "id": "b233c379",
   "metadata": {
    "execution": {
     "iopub.execute_input": "2023-02-21T20:37:58.114339Z",
     "iopub.status.busy": "2023-02-21T20:37:58.113925Z",
     "iopub.status.idle": "2023-02-21T20:37:58.122290Z",
     "shell.execute_reply": "2023-02-21T20:37:58.121207Z"
    },
    "id": "6a408c03",
    "outputId": "9c206fbe-dd0f-4a68-852f-312c6b090de2",
    "papermill": {
     "duration": 0.102401,
     "end_time": "2023-02-21T20:37:58.125076",
     "exception": false,
     "start_time": "2023-02-21T20:37:58.022675",
     "status": "completed"
    },
    "tags": []
   },
   "outputs": [
    {
     "data": {
      "text/plain": [
       "2.328207550668565"
      ]
     },
     "execution_count": 276,
     "metadata": {},
     "output_type": "execute_result"
    }
   ],
   "source": [
    "# calculate the RMSE of the model\n",
    "rmse = np.sqrt(mse)\n",
    "rmse"
   ]
  },
  {
   "cell_type": "code",
   "execution_count": 277,
   "id": "4a9bb231",
   "metadata": {
    "execution": {
     "iopub.execute_input": "2023-02-21T20:37:58.366210Z",
     "iopub.status.busy": "2023-02-21T20:37:58.365748Z",
     "iopub.status.idle": "2023-02-21T20:37:58.406217Z",
     "shell.execute_reply": "2023-02-21T20:37:58.404606Z"
    },
    "id": "d731b0d2",
    "papermill": {
     "duration": 0.135612,
     "end_time": "2023-02-21T20:37:58.410622",
     "exception": false,
     "start_time": "2023-02-21T20:37:58.275010",
     "status": "completed"
    },
    "tags": []
   },
   "outputs": [],
   "source": [
    "# LASSO\n",
    "L1 = linear_model.Lasso()\n",
    "L1.fit(x_train,y_train)\n",
    "y_pred1 = L1.predict(x_test)"
   ]
  },
  {
   "cell_type": "code",
   "execution_count": 278,
   "id": "c4608a5c",
   "metadata": {
    "execution": {
     "iopub.execute_input": "2023-02-21T20:37:58.662815Z",
     "iopub.status.busy": "2023-02-21T20:37:58.662300Z",
     "iopub.status.idle": "2023-02-21T20:37:58.670182Z",
     "shell.execute_reply": "2023-02-21T20:37:58.668931Z"
    },
    "id": "51d58811",
    "outputId": "87736bfc-d561-406e-d437-48fa6c3f3910",
    "papermill": {
     "duration": 0.101048,
     "end_time": "2023-02-21T20:37:58.672497",
     "exception": false,
     "start_time": "2023-02-21T20:37:58.571449",
     "status": "completed"
    },
    "tags": []
   },
   "outputs": [
    {
     "data": {
      "text/plain": [
       "0.8032059655994213"
      ]
     },
     "execution_count": 278,
     "metadata": {},
     "output_type": "execute_result"
    }
   ],
   "source": [
    "r2 = r2_score(y_test, y_pred1)\n",
    "r2 \n"
   ]
  },
  {
   "cell_type": "code",
   "execution_count": 279,
   "id": "16099c27",
   "metadata": {
    "execution": {
     "iopub.execute_input": "2023-02-21T20:37:58.852886Z",
     "iopub.status.busy": "2023-02-21T20:37:58.852190Z",
     "iopub.status.idle": "2023-02-21T20:37:58.859712Z",
     "shell.execute_reply": "2023-02-21T20:37:58.858625Z"
    },
    "id": "zw5pzfkUgrLX",
    "papermill": {
     "duration": 0.100561,
     "end_time": "2023-02-21T20:37:58.861929",
     "exception": false,
     "start_time": "2023-02-21T20:37:58.761368",
     "status": "completed"
    },
    "tags": []
   },
   "outputs": [
    {
     "data": {
      "text/plain": [
       "1.8618065169226514"
      ]
     },
     "execution_count": 279,
     "metadata": {},
     "output_type": "execute_result"
    }
   ],
   "source": [
    "# calculate the MAE of the model\n",
    "mae = mean_absolute_error(y_test, y_pred1)\n",
    "mae"
   ]
  },
  {
   "cell_type": "code",
   "execution_count": 280,
   "id": "6f0221f3",
   "metadata": {
    "execution": {
     "iopub.execute_input": "2023-02-21T20:37:59.042026Z",
     "iopub.status.busy": "2023-02-21T20:37:59.041529Z",
     "iopub.status.idle": "2023-02-21T20:37:59.050697Z",
     "shell.execute_reply": "2023-02-21T20:37:59.049769Z"
    },
    "id": "a9a30aab",
    "outputId": "584ef1cb-a107-46c5-9d1a-4b48bd84bb9e",
    "papermill": {
     "duration": 0.102053,
     "end_time": "2023-02-21T20:37:59.053068",
     "exception": false,
     "start_time": "2023-02-21T20:37:58.951015",
     "status": "completed"
    },
    "tags": []
   },
   "outputs": [
    {
     "data": {
      "text/plain": [
       "7.081545945327565"
      ]
     },
     "execution_count": 280,
     "metadata": {},
     "output_type": "execute_result"
    }
   ],
   "source": [
    "# calculate the MSE of the model\n",
    "mse = mean_squared_error(y_test, y_pred1)\n",
    "mse"
   ]
  },
  {
   "cell_type": "code",
   "execution_count": 281,
   "id": "560fb125",
   "metadata": {
    "execution": {
     "iopub.execute_input": "2023-02-21T20:37:59.237514Z",
     "iopub.status.busy": "2023-02-21T20:37:59.236815Z",
     "iopub.status.idle": "2023-02-21T20:37:59.243779Z",
     "shell.execute_reply": "2023-02-21T20:37:59.242822Z"
    },
    "id": "07e70765",
    "outputId": "669819b5-fa7a-4339-f1c4-1597cfc314e6",
    "papermill": {
     "duration": 0.101757,
     "end_time": "2023-02-21T20:37:59.245950",
     "exception": false,
     "start_time": "2023-02-21T20:37:59.144193",
     "status": "completed"
    },
    "tags": []
   },
   "outputs": [
    {
     "data": {
      "text/plain": [
       "2.6611174241899898"
      ]
     },
     "execution_count": 281,
     "metadata": {},
     "output_type": "execute_result"
    }
   ],
   "source": [
    "# calculate the RMSE of the model\n",
    "rmse = np.sqrt(mse)\n",
    "rmse"
   ]
  },
  {
   "cell_type": "code",
   "execution_count": 282,
   "id": "a5c5cf96",
   "metadata": {
    "execution": {
     "iopub.execute_input": "2023-02-21T20:37:59.427259Z",
     "iopub.status.busy": "2023-02-21T20:37:59.426454Z",
     "iopub.status.idle": "2023-02-21T20:37:59.447213Z",
     "shell.execute_reply": "2023-02-21T20:37:59.445580Z"
    },
    "id": "32cd4ecb",
    "papermill": {
     "duration": 0.116313,
     "end_time": "2023-02-21T20:37:59.451541",
     "exception": false,
     "start_time": "2023-02-21T20:37:59.335228",
     "status": "completed"
    },
    "tags": []
   },
   "outputs": [],
   "source": [
    "# Ridge\n",
    "L2 = Ridge(alpha=1.0)\n",
    "L2.fit(x_train, y_train) \n",
    "y_pred3 = L2.predict(x_test)"
   ]
  },
  {
   "cell_type": "code",
   "execution_count": 283,
   "id": "cc5489fc",
   "metadata": {
    "execution": {
     "iopub.execute_input": "2023-02-21T20:37:59.707238Z",
     "iopub.status.busy": "2023-02-21T20:37:59.706764Z",
     "iopub.status.idle": "2023-02-21T20:37:59.715308Z",
     "shell.execute_reply": "2023-02-21T20:37:59.714342Z"
    },
    "id": "d0979910",
    "outputId": "49d33f41-82a6-4b79-a79a-f01161852a49",
    "papermill": {
     "duration": 0.103321,
     "end_time": "2023-02-21T20:37:59.717691",
     "exception": false,
     "start_time": "2023-02-21T20:37:59.614370",
     "status": "completed"
    },
    "tags": []
   },
   "outputs": [
    {
     "data": {
      "text/plain": [
       "0.8493873434940765"
      ]
     },
     "execution_count": 283,
     "metadata": {},
     "output_type": "execute_result"
    }
   ],
   "source": [
    "r2 = r2_score(y_test, y_pred3)\n",
    "r2 "
   ]
  },
  {
   "cell_type": "code",
   "execution_count": 284,
   "id": "b4d55f11",
   "metadata": {
    "execution": {
     "iopub.execute_input": "2023-02-21T20:37:59.898506Z",
     "iopub.status.busy": "2023-02-21T20:37:59.897612Z",
     "iopub.status.idle": "2023-02-21T20:37:59.905550Z",
     "shell.execute_reply": "2023-02-21T20:37:59.904656Z"
    },
    "id": "d0179c0d",
    "outputId": "dcbb541f-926d-4981-e8d4-f68eecdaaf4f",
    "papermill": {
     "duration": 0.101011,
     "end_time": "2023-02-21T20:37:59.907772",
     "exception": false,
     "start_time": "2023-02-21T20:37:59.806761",
     "status": "completed"
    },
    "tags": []
   },
   "outputs": [
    {
     "data": {
      "text/plain": [
       "1.5750406339612182"
      ]
     },
     "execution_count": 284,
     "metadata": {},
     "output_type": "execute_result"
    }
   ],
   "source": [
    "# calculate the MAE of the model\n",
    "mae = mean_absolute_error(y_test, y_pred3)\n",
    "mae"
   ]
  },
  {
   "cell_type": "code",
   "execution_count": 285,
   "id": "14598bb5",
   "metadata": {
    "execution": {
     "iopub.execute_input": "2023-02-21T20:38:00.092863Z",
     "iopub.status.busy": "2023-02-21T20:38:00.092072Z",
     "iopub.status.idle": "2023-02-21T20:38:00.100172Z",
     "shell.execute_reply": "2023-02-21T20:38:00.099080Z"
    },
    "id": "cd50fad3",
    "outputId": "51163b23-d1ab-4a80-a792-391bf3460975",
    "papermill": {
     "duration": 0.103838,
     "end_time": "2023-02-21T20:38:00.102447",
     "exception": false,
     "start_time": "2023-02-21T20:37:59.998609",
     "status": "completed"
    },
    "tags": []
   },
   "outputs": [
    {
     "data": {
      "text/plain": [
       "5.419729567734293"
      ]
     },
     "execution_count": 285,
     "metadata": {},
     "output_type": "execute_result"
    }
   ],
   "source": [
    "# calculate the MSE of the model\n",
    "mse = mean_squared_error(y_test, y_pred3)\n",
    "mse"
   ]
  },
  {
   "cell_type": "code",
   "execution_count": 286,
   "id": "6fd6590f",
   "metadata": {
    "execution": {
     "iopub.execute_input": "2023-02-21T20:38:00.286336Z",
     "iopub.status.busy": "2023-02-21T20:38:00.285553Z",
     "iopub.status.idle": "2023-02-21T20:38:00.293197Z",
     "shell.execute_reply": "2023-02-21T20:38:00.291873Z"
    },
    "id": "76b53d6f",
    "outputId": "eb12cbdf-670b-4a92-93d6-48ea14e2b30c",
    "papermill": {
     "duration": 0.102407,
     "end_time": "2023-02-21T20:38:00.295654",
     "exception": false,
     "start_time": "2023-02-21T20:38:00.193247",
     "status": "completed"
    },
    "tags": []
   },
   "outputs": [
    {
     "data": {
      "text/plain": [
       "2.328031264337808"
      ]
     },
     "execution_count": 286,
     "metadata": {},
     "output_type": "execute_result"
    }
   ],
   "source": [
    "# calculate the RMSE of the model\n",
    "rmse = np.sqrt(mse)\n",
    "rmse"
   ]
  }
 ],
 "metadata": {
  "kernelspec": {
   "display_name": "Python 3",
   "language": "python",
   "name": "python3"
  },
  "language_info": {
   "codemirror_mode": {
    "name": "ipython",
    "version": 3
   },
   "file_extension": ".py",
   "mimetype": "text/x-python",
   "name": "python",
   "nbconvert_exporter": "python",
   "pygments_lexer": "ipython3",
   "version": "3.7.12"
  },
  "papermill": {
   "default_parameters": {},
   "duration": 115.961048,
   "end_time": "2023-02-21T20:38:01.410937",
   "environment_variables": {},
   "exception": null,
   "input_path": "__notebook__.ipynb",
   "output_path": "__notebook__.ipynb",
   "parameters": {},
   "start_time": "2023-02-21T20:36:05.449889",
   "version": "2.3.4"
  }
 },
 "nbformat": 4,
 "nbformat_minor": 5
}
