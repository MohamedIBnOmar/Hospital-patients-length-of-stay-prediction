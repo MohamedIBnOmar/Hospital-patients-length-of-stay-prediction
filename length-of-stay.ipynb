{
 "cells": [
  {
   "cell_type": "code",
   "execution_count": 1,
   "id": "8852f3c1",
   "metadata": {
    "_cell_guid": "b1076dfc-b9ad-4769-8c92-a6c4dae69d19",
    "_kg_hide-output": true,
    "_uuid": "8f2839f25d086af736a60e9eeb907d3b93b6e0e5",
    "execution": {
     "iopub.execute_input": "2023-02-21T11:41:40.797814Z",
     "iopub.status.busy": "2023-02-21T11:41:40.797304Z",
     "iopub.status.idle": "2023-02-21T11:41:40.816443Z",
     "shell.execute_reply": "2023-02-21T11:41:40.815139Z"
    },
    "papermill": {
     "duration": 0.074023,
     "end_time": "2023-02-21T11:41:40.818964",
     "exception": false,
     "start_time": "2023-02-21T11:41:40.744941",
     "status": "completed"
    },
    "tags": []
   },
   "outputs": [
    {
     "name": "stdout",
     "output_type": "stream",
     "text": [
      "/kaggle/input/length-of-stay-prediction/Hospital_Inpatient_Discharges__SPARCS_De-Identified___2015.csv\n"
     ]
    }
   ],
   "source": [
    "# This Python 3 environment comes with many helpful analytics libraries installed\n",
    "# It is defined by the kaggle/python Docker image: https://github.com/kaggle/docker-python\n",
    "# For example, here's several helpful packages to load\n",
    "\n",
    "import numpy as np # linear algebra\n",
    "import pandas as pd # data processing, CSV file I/O (e.g. pd.read_csv)\n",
    "\n",
    "# Input data files are available in the read-only \"../input/\" directory\n",
    "# For example, running this (by clicking run or pressing Shift+Enter) will list all files under the input directory\n",
    "\n",
    "import os\n",
    "for dirname, _, filenames in os.walk('/kaggle/input'):\n",
    "    for filename in filenames:\n",
    "        print(os.path.join(dirname, filename))\n",
    "\n",
    "# You can write up to 20GB to the current directory (/kaggle/working/) that gets preserved as output when you create a version using \"Save & Run All\" \n",
    "# You can also write temporary files to /kaggle/temp/, but they won't be saved outside of the current session"
   ]
  },
  {
   "cell_type": "code",
   "execution_count": 2,
   "id": "9102a6ae",
   "metadata": {
    "execution": {
     "iopub.execute_input": "2023-02-21T11:41:40.921839Z",
     "iopub.status.busy": "2023-02-21T11:41:40.921463Z",
     "iopub.status.idle": "2023-02-21T11:42:01.812230Z",
     "shell.execute_reply": "2023-02-21T11:42:01.810949Z"
    },
    "papermill": {
     "duration": 20.94488,
     "end_time": "2023-02-21T11:42:01.814631",
     "exception": false,
     "start_time": "2023-02-21T11:41:40.869751",
     "status": "completed"
    },
    "tags": []
   },
   "outputs": [
    {
     "name": "stderr",
     "output_type": "stream",
     "text": [
      "/opt/conda/lib/python3.7/site-packages/IPython/core/interactiveshell.py:3552: DtypeWarning: Columns (10) have mixed types.Specify dtype option on import or set low_memory=False.\n",
      "  exec(code_obj, self.user_global_ns, self.user_ns)\n"
     ]
    }
   ],
   "source": [
    "df=pd.read_csv(\"/kaggle/input/length-of-stay-prediction/Hospital_Inpatient_Discharges__SPARCS_De-Identified___2015.csv\")"
   ]
  },
  {
   "cell_type": "code",
   "execution_count": 3,
   "id": "656d3b30",
   "metadata": {
    "execution": {
     "iopub.execute_input": "2023-02-21T11:42:01.921121Z",
     "iopub.status.busy": "2023-02-21T11:42:01.920761Z",
     "iopub.status.idle": "2023-02-21T11:42:02.052231Z",
     "shell.execute_reply": "2023-02-21T11:42:02.051072Z"
    },
    "papermill": {
     "duration": 0.188447,
     "end_time": "2023-02-21T11:42:02.054032",
     "exception": false,
     "start_time": "2023-02-21T11:42:01.865585",
     "status": "completed"
    },
    "tags": []
   },
   "outputs": [
    {
     "data": {
      "text/plain": [
       "Mount Sinai Hospital                                              55874\n",
       "North Shore University Hospital                                   47664\n",
       "New York Presbyterian Hospital - Columbia Presbyterian Center     47495\n",
       "New York Presbyterian Hospital - New York Weill Cornell Center    43148\n",
       "Montefiore Medical Center - Henry & Lucy Moses Div                42694\n",
       "                                                                  ...  \n",
       "Cuba Memorial Hospital Inc                                           61\n",
       "Catskill Regional Medical Center - G. Hermann Site                   50\n",
       "Monroe Community Hospital                                            24\n",
       "Westfield Memorial Hospital Inc                                      11\n",
       "Albany Medical Center - South Clinical Campus                         7\n",
       "Name: Facility Name, Length: 224, dtype: int64"
      ]
     },
     "execution_count": 3,
     "metadata": {},
     "output_type": "execute_result"
    }
   ],
   "source": [
    "df[\"Facility Name\"].value_counts()"
   ]
  },
  {
   "cell_type": "code",
   "execution_count": 4,
   "id": "99541d45",
   "metadata": {
    "execution": {
     "iopub.execute_input": "2023-02-21T11:42:02.153035Z",
     "iopub.status.busy": "2023-02-21T11:42:02.152721Z",
     "iopub.status.idle": "2023-02-21T11:42:02.182682Z",
     "shell.execute_reply": "2023-02-21T11:42:02.181758Z"
    },
    "papermill": {
     "duration": 0.081494,
     "end_time": "2023-02-21T11:42:02.184470",
     "exception": false,
     "start_time": "2023-02-21T11:42:02.102976",
     "status": "completed"
    },
    "tags": []
   },
   "outputs": [
    {
     "data": {
      "text/html": [
       "<div>\n",
       "<style scoped>\n",
       "    .dataframe tbody tr th:only-of-type {\n",
       "        vertical-align: middle;\n",
       "    }\n",
       "\n",
       "    .dataframe tbody tr th {\n",
       "        vertical-align: top;\n",
       "    }\n",
       "\n",
       "    .dataframe thead th {\n",
       "        text-align: right;\n",
       "    }\n",
       "</style>\n",
       "<table border=\"1\" class=\"dataframe\">\n",
       "  <thead>\n",
       "    <tr style=\"text-align: right;\">\n",
       "      <th></th>\n",
       "      <th>Health Service Area</th>\n",
       "      <th>Hospital County</th>\n",
       "      <th>Operating Certificate Number</th>\n",
       "      <th>Facility Id</th>\n",
       "      <th>Facility Name</th>\n",
       "      <th>Age Group</th>\n",
       "      <th>Zip Code - 3 digits</th>\n",
       "      <th>Gender</th>\n",
       "      <th>Race</th>\n",
       "      <th>Ethnicity</th>\n",
       "      <th>...</th>\n",
       "      <th>APR Risk of Mortality</th>\n",
       "      <th>APR Medical Surgical Description</th>\n",
       "      <th>Payment Typology 1</th>\n",
       "      <th>Payment Typology 2</th>\n",
       "      <th>Payment Typology 3</th>\n",
       "      <th>Birth Weight</th>\n",
       "      <th>Abortion Edit Indicator</th>\n",
       "      <th>Emergency Department Indicator</th>\n",
       "      <th>Total Charges</th>\n",
       "      <th>Total Costs</th>\n",
       "    </tr>\n",
       "  </thead>\n",
       "  <tbody>\n",
       "    <tr>\n",
       "      <th>0</th>\n",
       "      <td>Western NY</td>\n",
       "      <td>Allegany</td>\n",
       "      <td>226700.0</td>\n",
       "      <td>37.0</td>\n",
       "      <td>Cuba Memorial Hospital Inc</td>\n",
       "      <td>70 or Older</td>\n",
       "      <td>147</td>\n",
       "      <td>F</td>\n",
       "      <td>White</td>\n",
       "      <td>Not Span/Hispanic</td>\n",
       "      <td>...</td>\n",
       "      <td>Minor</td>\n",
       "      <td>Medical</td>\n",
       "      <td>Medicare</td>\n",
       "      <td>Private Health Insurance</td>\n",
       "      <td>NaN</td>\n",
       "      <td>0</td>\n",
       "      <td>N</td>\n",
       "      <td>Y</td>\n",
       "      <td>5333.90</td>\n",
       "      <td>4818.42</td>\n",
       "    </tr>\n",
       "    <tr>\n",
       "      <th>1</th>\n",
       "      <td>Western NY</td>\n",
       "      <td>Allegany</td>\n",
       "      <td>226700.0</td>\n",
       "      <td>37.0</td>\n",
       "      <td>Cuba Memorial Hospital Inc</td>\n",
       "      <td>70 or Older</td>\n",
       "      <td>147</td>\n",
       "      <td>F</td>\n",
       "      <td>White</td>\n",
       "      <td>Not Span/Hispanic</td>\n",
       "      <td>...</td>\n",
       "      <td>Moderate</td>\n",
       "      <td>Medical</td>\n",
       "      <td>Medicare</td>\n",
       "      <td>NaN</td>\n",
       "      <td>NaN</td>\n",
       "      <td>0</td>\n",
       "      <td>N</td>\n",
       "      <td>Y</td>\n",
       "      <td>4865.99</td>\n",
       "      <td>4588.78</td>\n",
       "    </tr>\n",
       "    <tr>\n",
       "      <th>2</th>\n",
       "      <td>Western NY</td>\n",
       "      <td>Allegany</td>\n",
       "      <td>226700.0</td>\n",
       "      <td>37.0</td>\n",
       "      <td>Cuba Memorial Hospital Inc</td>\n",
       "      <td>70 or Older</td>\n",
       "      <td>147</td>\n",
       "      <td>F</td>\n",
       "      <td>White</td>\n",
       "      <td>Not Span/Hispanic</td>\n",
       "      <td>...</td>\n",
       "      <td>Minor</td>\n",
       "      <td>Medical</td>\n",
       "      <td>Medicare</td>\n",
       "      <td>Private Health Insurance</td>\n",
       "      <td>NaN</td>\n",
       "      <td>0</td>\n",
       "      <td>N</td>\n",
       "      <td>Y</td>\n",
       "      <td>5901.54</td>\n",
       "      <td>5559.56</td>\n",
       "    </tr>\n",
       "    <tr>\n",
       "      <th>3</th>\n",
       "      <td>Western NY</td>\n",
       "      <td>Allegany</td>\n",
       "      <td>226700.0</td>\n",
       "      <td>37.0</td>\n",
       "      <td>Cuba Memorial Hospital Inc</td>\n",
       "      <td>50 to 69</td>\n",
       "      <td>147</td>\n",
       "      <td>F</td>\n",
       "      <td>White</td>\n",
       "      <td>Not Span/Hispanic</td>\n",
       "      <td>...</td>\n",
       "      <td>Minor</td>\n",
       "      <td>Medical</td>\n",
       "      <td>Medicare</td>\n",
       "      <td>NaN</td>\n",
       "      <td>NaN</td>\n",
       "      <td>0</td>\n",
       "      <td>N</td>\n",
       "      <td>Y</td>\n",
       "      <td>3619.08</td>\n",
       "      <td>3567.25</td>\n",
       "    </tr>\n",
       "    <tr>\n",
       "      <th>4</th>\n",
       "      <td>Western NY</td>\n",
       "      <td>Allegany</td>\n",
       "      <td>226700.0</td>\n",
       "      <td>37.0</td>\n",
       "      <td>Cuba Memorial Hospital Inc</td>\n",
       "      <td>70 or Older</td>\n",
       "      <td>147</td>\n",
       "      <td>M</td>\n",
       "      <td>White</td>\n",
       "      <td>Not Span/Hispanic</td>\n",
       "      <td>...</td>\n",
       "      <td>Moderate</td>\n",
       "      <td>Medical</td>\n",
       "      <td>Medicare</td>\n",
       "      <td>Blue Cross/Blue Shield</td>\n",
       "      <td>Private Health Insurance</td>\n",
       "      <td>0</td>\n",
       "      <td>N</td>\n",
       "      <td>Y</td>\n",
       "      <td>3185.87</td>\n",
       "      <td>3167.89</td>\n",
       "    </tr>\n",
       "  </tbody>\n",
       "</table>\n",
       "<p>5 rows × 34 columns</p>\n",
       "</div>"
      ],
      "text/plain": [
       "  Health Service Area Hospital County  Operating Certificate Number  \\\n",
       "0          Western NY        Allegany                      226700.0   \n",
       "1          Western NY        Allegany                      226700.0   \n",
       "2          Western NY        Allegany                      226700.0   \n",
       "3          Western NY        Allegany                      226700.0   \n",
       "4          Western NY        Allegany                      226700.0   \n",
       "\n",
       "   Facility Id               Facility Name    Age Group Zip Code - 3 digits  \\\n",
       "0         37.0  Cuba Memorial Hospital Inc  70 or Older                 147   \n",
       "1         37.0  Cuba Memorial Hospital Inc  70 or Older                 147   \n",
       "2         37.0  Cuba Memorial Hospital Inc  70 or Older                 147   \n",
       "3         37.0  Cuba Memorial Hospital Inc     50 to 69                 147   \n",
       "4         37.0  Cuba Memorial Hospital Inc  70 or Older                 147   \n",
       "\n",
       "  Gender   Race          Ethnicity  ... APR Risk of Mortality  \\\n",
       "0      F  White  Not Span/Hispanic  ...                 Minor   \n",
       "1      F  White  Not Span/Hispanic  ...              Moderate   \n",
       "2      F  White  Not Span/Hispanic  ...                 Minor   \n",
       "3      F  White  Not Span/Hispanic  ...                 Minor   \n",
       "4      M  White  Not Span/Hispanic  ...              Moderate   \n",
       "\n",
       "  APR Medical Surgical Description Payment Typology 1  \\\n",
       "0                          Medical           Medicare   \n",
       "1                          Medical           Medicare   \n",
       "2                          Medical           Medicare   \n",
       "3                          Medical           Medicare   \n",
       "4                          Medical           Medicare   \n",
       "\n",
       "         Payment Typology 2        Payment Typology 3 Birth Weight  \\\n",
       "0  Private Health Insurance                       NaN            0   \n",
       "1                       NaN                       NaN            0   \n",
       "2  Private Health Insurance                       NaN            0   \n",
       "3                       NaN                       NaN            0   \n",
       "4    Blue Cross/Blue Shield  Private Health Insurance            0   \n",
       "\n",
       "   Abortion Edit Indicator Emergency Department Indicator  Total Charges  \\\n",
       "0                        N                              Y        5333.90   \n",
       "1                        N                              Y        4865.99   \n",
       "2                        N                              Y        5901.54   \n",
       "3                        N                              Y        3619.08   \n",
       "4                        N                              Y        3185.87   \n",
       "\n",
       "  Total Costs  \n",
       "0     4818.42  \n",
       "1     4588.78  \n",
       "2     5559.56  \n",
       "3     3567.25  \n",
       "4     3167.89  \n",
       "\n",
       "[5 rows x 34 columns]"
      ]
     },
     "execution_count": 4,
     "metadata": {},
     "output_type": "execute_result"
    }
   ],
   "source": [
    "df.head()"
   ]
  },
  {
   "cell_type": "code",
   "execution_count": 5,
   "id": "c445e667",
   "metadata": {
    "execution": {
     "iopub.execute_input": "2023-02-21T11:42:02.285268Z",
     "iopub.status.busy": "2023-02-21T11:42:02.284901Z",
     "iopub.status.idle": "2023-02-21T11:42:02.304834Z",
     "shell.execute_reply": "2023-02-21T11:42:02.303448Z"
    },
    "papermill": {
     "duration": 0.073042,
     "end_time": "2023-02-21T11:42:02.307087",
     "exception": false,
     "start_time": "2023-02-21T11:42:02.234045",
     "status": "completed"
    },
    "tags": []
   },
   "outputs": [
    {
     "name": "stdout",
     "output_type": "stream",
     "text": [
      "<class 'pandas.core.frame.DataFrame'>\n",
      "RangeIndex: 2346931 entries, 0 to 2346930\n",
      "Data columns (total 34 columns):\n",
      " #   Column                               Dtype  \n",
      "---  ------                               -----  \n",
      " 0   Health Service Area                  object \n",
      " 1   Hospital County                      object \n",
      " 2   Operating Certificate Number         float64\n",
      " 3   Facility Id                          float64\n",
      " 4   Facility Name                        object \n",
      " 5   Age Group                            object \n",
      " 6   Zip Code - 3 digits                  object \n",
      " 7   Gender                               object \n",
      " 8   Race                                 object \n",
      " 9   Ethnicity                            object \n",
      " 10  Length of Stay                       object \n",
      " 11  Type of Admission                    object \n",
      " 12  Patient Disposition                  object \n",
      " 13  Discharge Year                       int64  \n",
      " 14  CCS Diagnosis Code                   int64  \n",
      " 15  CCS Diagnosis Description            object \n",
      " 16  CCS Procedure Code                   int64  \n",
      " 17  CCS Procedure Description            object \n",
      " 18  APR DRG Code                         int64  \n",
      " 19  APR DRG Description                  object \n",
      " 20  APR MDC Code                         int64  \n",
      " 21  APR MDC Description                  object \n",
      " 22  APR Severity of Illness Code         int64  \n",
      " 23  APR Severity of Illness Description  object \n",
      " 24  APR Risk of Mortality                object \n",
      " 25  APR Medical Surgical Description     object \n",
      " 26  Payment Typology 1                   object \n",
      " 27  Payment Typology 2                   object \n",
      " 28  Payment Typology 3                   object \n",
      " 29  Birth Weight                         int64  \n",
      " 30  Abortion Edit Indicator              object \n",
      " 31  Emergency Department Indicator       object \n",
      " 32  Total Charges                        float64\n",
      " 33  Total Costs                          float64\n",
      "dtypes: float64(4), int64(7), object(23)\n",
      "memory usage: 608.8+ MB\n"
     ]
    }
   ],
   "source": [
    "df.info()"
   ]
  },
  {
   "cell_type": "code",
   "execution_count": 6,
   "id": "bc4db9f2",
   "metadata": {
    "execution": {
     "iopub.execute_input": "2023-02-21T11:42:02.410082Z",
     "iopub.status.busy": "2023-02-21T11:42:02.409709Z",
     "iopub.status.idle": "2023-02-21T11:42:11.106326Z",
     "shell.execute_reply": "2023-02-21T11:42:11.105407Z"
    },
    "papermill": {
     "duration": 8.75092,
     "end_time": "2023-02-21T11:42:11.108597",
     "exception": false,
     "start_time": "2023-02-21T11:42:02.357677",
     "status": "completed"
    },
    "tags": []
   },
   "outputs": [],
   "source": [
    "List =[\"Health Service Area\",\"Hospital County\",\"Age Group\",\"Zip Code - 3 digits\",\"Gender\",\"Race\",\"Ethnicity\",\"Length of Stay\",\"Type of Admission\",                    \n",
    "\"Patient Disposition\",\"CCS Diagnosis Description\",\"CCS Procedure Description\",\"APR DRG Description\",\"APR MDC Description\",\"APR Severity of Illness Description\",\"APR Risk of Mortality\",\"APR Medical Surgical Description\",\"Payment Typology 1\"                   \n",
    ",\"Payment Typology 2\",\"Payment Typology 3\",\"Abortion Edit Indicator\",\"Emergency Department Indicator\"]\n",
    "for col in List :\n",
    "    df[col] = df[col].astype('category')\n",
    "\n",
    "#\"Health Service Area\""
   ]
  },
  {
   "cell_type": "code",
   "execution_count": 7,
   "id": "a011896a",
   "metadata": {
    "execution": {
     "iopub.execute_input": "2023-02-21T11:42:11.209324Z",
     "iopub.status.busy": "2023-02-21T11:42:11.208959Z",
     "iopub.status.idle": "2023-02-21T11:42:11.226332Z",
     "shell.execute_reply": "2023-02-21T11:42:11.225229Z"
    },
    "papermill": {
     "duration": 0.070566,
     "end_time": "2023-02-21T11:42:11.228524",
     "exception": false,
     "start_time": "2023-02-21T11:42:11.157958",
     "status": "completed"
    },
    "tags": []
   },
   "outputs": [
    {
     "name": "stdout",
     "output_type": "stream",
     "text": [
      "<class 'pandas.core.frame.DataFrame'>\n",
      "RangeIndex: 2346931 entries, 0 to 2346930\n",
      "Data columns (total 34 columns):\n",
      " #   Column                               Dtype   \n",
      "---  ------                               -----   \n",
      " 0   Health Service Area                  category\n",
      " 1   Hospital County                      category\n",
      " 2   Operating Certificate Number         float64 \n",
      " 3   Facility Id                          float64 \n",
      " 4   Facility Name                        object  \n",
      " 5   Age Group                            category\n",
      " 6   Zip Code - 3 digits                  category\n",
      " 7   Gender                               category\n",
      " 8   Race                                 category\n",
      " 9   Ethnicity                            category\n",
      " 10  Length of Stay                       category\n",
      " 11  Type of Admission                    category\n",
      " 12  Patient Disposition                  category\n",
      " 13  Discharge Year                       int64   \n",
      " 14  CCS Diagnosis Code                   int64   \n",
      " 15  CCS Diagnosis Description            category\n",
      " 16  CCS Procedure Code                   int64   \n",
      " 17  CCS Procedure Description            category\n",
      " 18  APR DRG Code                         int64   \n",
      " 19  APR DRG Description                  category\n",
      " 20  APR MDC Code                         int64   \n",
      " 21  APR MDC Description                  category\n",
      " 22  APR Severity of Illness Code         int64   \n",
      " 23  APR Severity of Illness Description  category\n",
      " 24  APR Risk of Mortality                category\n",
      " 25  APR Medical Surgical Description     category\n",
      " 26  Payment Typology 1                   category\n",
      " 27  Payment Typology 2                   category\n",
      " 28  Payment Typology 3                   category\n",
      " 29  Birth Weight                         int64   \n",
      " 30  Abortion Edit Indicator              category\n",
      " 31  Emergency Department Indicator       category\n",
      " 32  Total Charges                        float64 \n",
      " 33  Total Costs                          float64 \n",
      "dtypes: category(22), float64(4), int64(7), object(1)\n",
      "memory usage: 273.1+ MB\n"
     ]
    }
   ],
   "source": [
    "df.info()"
   ]
  },
  {
   "cell_type": "code",
   "execution_count": 8,
   "id": "406262e0",
   "metadata": {
    "execution": {
     "iopub.execute_input": "2023-02-21T11:42:11.329153Z",
     "iopub.status.busy": "2023-02-21T11:42:11.328842Z",
     "iopub.status.idle": "2023-02-21T11:42:11.397378Z",
     "shell.execute_reply": "2023-02-21T11:42:11.396660Z"
    },
    "papermill": {
     "duration": 0.121131,
     "end_time": "2023-02-21T11:42:11.399602",
     "exception": false,
     "start_time": "2023-02-21T11:42:11.278471",
     "status": "completed"
    },
    "tags": []
   },
   "outputs": [],
   "source": [
    "col=[\"Health Service Area\"\n",
    " ,\n",
    " \"CCS Diagnosis Description\",\n",
    " \"CCS Procedure Description\",\n",
    "\"APR DRG Description\",\n",
    "\"APR MDC Description\",\n",
    "\"APR Severity of Illness Description\"]\n",
    "df = df.drop(col, axis=1)"
   ]
  },
  {
   "cell_type": "code",
   "execution_count": 9,
   "id": "9c29d571",
   "metadata": {
    "execution": {
     "iopub.execute_input": "2023-02-21T11:42:11.502858Z",
     "iopub.status.busy": "2023-02-21T11:42:11.501724Z",
     "iopub.status.idle": "2023-02-21T11:42:11.515847Z",
     "shell.execute_reply": "2023-02-21T11:42:11.514676Z"
    },
    "papermill": {
     "duration": 0.0677,
     "end_time": "2023-02-21T11:42:11.517833",
     "exception": false,
     "start_time": "2023-02-21T11:42:11.450133",
     "status": "completed"
    },
    "tags": []
   },
   "outputs": [
    {
     "name": "stdout",
     "output_type": "stream",
     "text": [
      "<class 'pandas.core.frame.DataFrame'>\n",
      "RangeIndex: 2346931 entries, 0 to 2346930\n",
      "Data columns (total 28 columns):\n",
      " #   Column                            Dtype   \n",
      "---  ------                            -----   \n",
      " 0   Hospital County                   category\n",
      " 1   Operating Certificate Number      float64 \n",
      " 2   Facility Id                       float64 \n",
      " 3   Facility Name                     object  \n",
      " 4   Age Group                         category\n",
      " 5   Zip Code - 3 digits               category\n",
      " 6   Gender                            category\n",
      " 7   Race                              category\n",
      " 8   Ethnicity                         category\n",
      " 9   Length of Stay                    category\n",
      " 10  Type of Admission                 category\n",
      " 11  Patient Disposition               category\n",
      " 12  Discharge Year                    int64   \n",
      " 13  CCS Diagnosis Code                int64   \n",
      " 14  CCS Procedure Code                int64   \n",
      " 15  APR DRG Code                      int64   \n",
      " 16  APR MDC Code                      int64   \n",
      " 17  APR Severity of Illness Code      int64   \n",
      " 18  APR Risk of Mortality             category\n",
      " 19  APR Medical Surgical Description  category\n",
      " 20  Payment Typology 1                category\n",
      " 21  Payment Typology 2                category\n",
      " 22  Payment Typology 3                category\n",
      " 23  Birth Weight                      int64   \n",
      " 24  Abortion Edit Indicator           category\n",
      " 25  Emergency Department Indicator    category\n",
      " 26  Total Charges                     float64 \n",
      " 27  Total Costs                       float64 \n",
      "dtypes: category(16), float64(4), int64(7), object(1)\n",
      "memory usage: 252.9+ MB\n"
     ]
    }
   ],
   "source": [
    "df.info()"
   ]
  },
  {
   "cell_type": "markdown",
   "id": "e6a5e4cc",
   "metadata": {
    "papermill": {
     "duration": 0.050278,
     "end_time": "2023-02-21T11:42:11.618273",
     "exception": false,
     "start_time": "2023-02-21T11:42:11.567995",
     "status": "completed"
    },
    "tags": []
   },
   "source": [
    "Client 6 : Glens Falls Hospital"
   ]
  },
  {
   "cell_type": "code",
   "execution_count": 10,
   "id": "fa114e29",
   "metadata": {
    "execution": {
     "iopub.execute_input": "2023-02-21T11:42:11.721408Z",
     "iopub.status.busy": "2023-02-21T11:42:11.720093Z",
     "iopub.status.idle": "2023-02-21T11:42:11.862787Z",
     "shell.execute_reply": "2023-02-21T11:42:11.861754Z"
    },
    "papermill": {
     "duration": 0.196328,
     "end_time": "2023-02-21T11:42:11.865248",
     "exception": false,
     "start_time": "2023-02-21T11:42:11.668920",
     "status": "completed"
    },
    "tags": []
   },
   "outputs": [],
   "source": [
    "Glens_df=df[df[\"Facility Name\"]== 'Glens Falls Hospital']"
   ]
  },
  {
   "cell_type": "code",
   "execution_count": 11,
   "id": "7cee34a9",
   "metadata": {
    "execution": {
     "iopub.execute_input": "2023-02-21T11:42:11.970365Z",
     "iopub.status.busy": "2023-02-21T11:42:11.969729Z",
     "iopub.status.idle": "2023-02-21T11:42:12.010483Z",
     "shell.execute_reply": "2023-02-21T11:42:12.009490Z"
    },
    "papermill": {
     "duration": 0.094595,
     "end_time": "2023-02-21T11:42:12.012400",
     "exception": false,
     "start_time": "2023-02-21T11:42:11.917805",
     "status": "completed"
    },
    "tags": []
   },
   "outputs": [
    {
     "data": {
      "text/html": [
       "<div>\n",
       "<style scoped>\n",
       "    .dataframe tbody tr th:only-of-type {\n",
       "        vertical-align: middle;\n",
       "    }\n",
       "\n",
       "    .dataframe tbody tr th {\n",
       "        vertical-align: top;\n",
       "    }\n",
       "\n",
       "    .dataframe thead th {\n",
       "        text-align: right;\n",
       "    }\n",
       "</style>\n",
       "<table border=\"1\" class=\"dataframe\">\n",
       "  <thead>\n",
       "    <tr style=\"text-align: right;\">\n",
       "      <th></th>\n",
       "      <th>Hospital County</th>\n",
       "      <th>Operating Certificate Number</th>\n",
       "      <th>Facility Id</th>\n",
       "      <th>Facility Name</th>\n",
       "      <th>Age Group</th>\n",
       "      <th>Zip Code - 3 digits</th>\n",
       "      <th>Gender</th>\n",
       "      <th>Race</th>\n",
       "      <th>Ethnicity</th>\n",
       "      <th>Length of Stay</th>\n",
       "      <th>...</th>\n",
       "      <th>APR Risk of Mortality</th>\n",
       "      <th>APR Medical Surgical Description</th>\n",
       "      <th>Payment Typology 1</th>\n",
       "      <th>Payment Typology 2</th>\n",
       "      <th>Payment Typology 3</th>\n",
       "      <th>Birth Weight</th>\n",
       "      <th>Abortion Edit Indicator</th>\n",
       "      <th>Emergency Department Indicator</th>\n",
       "      <th>Total Charges</th>\n",
       "      <th>Total Costs</th>\n",
       "    </tr>\n",
       "  </thead>\n",
       "  <tbody>\n",
       "    <tr>\n",
       "      <th>628756</th>\n",
       "      <td>Warren</td>\n",
       "      <td>5601000.0</td>\n",
       "      <td>1005.0</td>\n",
       "      <td>Glens Falls Hospital</td>\n",
       "      <td>30 to 49</td>\n",
       "      <td>128</td>\n",
       "      <td>F</td>\n",
       "      <td>White</td>\n",
       "      <td>Not Span/Hispanic</td>\n",
       "      <td>5</td>\n",
       "      <td>...</td>\n",
       "      <td>Minor</td>\n",
       "      <td>Medical</td>\n",
       "      <td>Medicaid</td>\n",
       "      <td>NaN</td>\n",
       "      <td>NaN</td>\n",
       "      <td>0</td>\n",
       "      <td>N</td>\n",
       "      <td>Y</td>\n",
       "      <td>16901.84</td>\n",
       "      <td>5444.54</td>\n",
       "    </tr>\n",
       "    <tr>\n",
       "      <th>628825</th>\n",
       "      <td>Warren</td>\n",
       "      <td>5601000.0</td>\n",
       "      <td>1005.0</td>\n",
       "      <td>Glens Falls Hospital</td>\n",
       "      <td>50 to 69</td>\n",
       "      <td>120</td>\n",
       "      <td>F</td>\n",
       "      <td>White</td>\n",
       "      <td>Not Span/Hispanic</td>\n",
       "      <td>4</td>\n",
       "      <td>...</td>\n",
       "      <td>Moderate</td>\n",
       "      <td>Medical</td>\n",
       "      <td>Medicare</td>\n",
       "      <td>NaN</td>\n",
       "      <td>NaN</td>\n",
       "      <td>0</td>\n",
       "      <td>N</td>\n",
       "      <td>N</td>\n",
       "      <td>15354.59</td>\n",
       "      <td>5499.39</td>\n",
       "    </tr>\n",
       "    <tr>\n",
       "      <th>629035</th>\n",
       "      <td>Warren</td>\n",
       "      <td>5601000.0</td>\n",
       "      <td>1005.0</td>\n",
       "      <td>Glens Falls Hospital</td>\n",
       "      <td>18 to 29</td>\n",
       "      <td>128</td>\n",
       "      <td>M</td>\n",
       "      <td>White</td>\n",
       "      <td>Not Span/Hispanic</td>\n",
       "      <td>2</td>\n",
       "      <td>...</td>\n",
       "      <td>Minor</td>\n",
       "      <td>Medical</td>\n",
       "      <td>Blue Cross/Blue Shield</td>\n",
       "      <td>NaN</td>\n",
       "      <td>NaN</td>\n",
       "      <td>0</td>\n",
       "      <td>N</td>\n",
       "      <td>Y</td>\n",
       "      <td>8413.10</td>\n",
       "      <td>2565.18</td>\n",
       "    </tr>\n",
       "    <tr>\n",
       "      <th>629070</th>\n",
       "      <td>Warren</td>\n",
       "      <td>5601000.0</td>\n",
       "      <td>1005.0</td>\n",
       "      <td>Glens Falls Hospital</td>\n",
       "      <td>50 to 69</td>\n",
       "      <td>128</td>\n",
       "      <td>F</td>\n",
       "      <td>White</td>\n",
       "      <td>Not Span/Hispanic</td>\n",
       "      <td>1</td>\n",
       "      <td>...</td>\n",
       "      <td>Minor</td>\n",
       "      <td>Medical</td>\n",
       "      <td>Blue Cross/Blue Shield</td>\n",
       "      <td>NaN</td>\n",
       "      <td>NaN</td>\n",
       "      <td>0</td>\n",
       "      <td>N</td>\n",
       "      <td>Y</td>\n",
       "      <td>8102.00</td>\n",
       "      <td>2008.34</td>\n",
       "    </tr>\n",
       "    <tr>\n",
       "      <th>629175</th>\n",
       "      <td>Warren</td>\n",
       "      <td>5601000.0</td>\n",
       "      <td>1005.0</td>\n",
       "      <td>Glens Falls Hospital</td>\n",
       "      <td>70 or Older</td>\n",
       "      <td>128</td>\n",
       "      <td>F</td>\n",
       "      <td>White</td>\n",
       "      <td>Not Span/Hispanic</td>\n",
       "      <td>6</td>\n",
       "      <td>...</td>\n",
       "      <td>Major</td>\n",
       "      <td>Medical</td>\n",
       "      <td>Medicare</td>\n",
       "      <td>NaN</td>\n",
       "      <td>NaN</td>\n",
       "      <td>0</td>\n",
       "      <td>N</td>\n",
       "      <td>N</td>\n",
       "      <td>21480.74</td>\n",
       "      <td>7279.17</td>\n",
       "    </tr>\n",
       "    <tr>\n",
       "      <th>...</th>\n",
       "      <td>...</td>\n",
       "      <td>...</td>\n",
       "      <td>...</td>\n",
       "      <td>...</td>\n",
       "      <td>...</td>\n",
       "      <td>...</td>\n",
       "      <td>...</td>\n",
       "      <td>...</td>\n",
       "      <td>...</td>\n",
       "      <td>...</td>\n",
       "      <td>...</td>\n",
       "      <td>...</td>\n",
       "      <td>...</td>\n",
       "      <td>...</td>\n",
       "      <td>...</td>\n",
       "      <td>...</td>\n",
       "      <td>...</td>\n",
       "      <td>...</td>\n",
       "      <td>...</td>\n",
       "      <td>...</td>\n",
       "      <td>...</td>\n",
       "    </tr>\n",
       "    <tr>\n",
       "      <th>664926</th>\n",
       "      <td>Warren</td>\n",
       "      <td>5601000.0</td>\n",
       "      <td>1005.0</td>\n",
       "      <td>Glens Falls Hospital</td>\n",
       "      <td>30 to 49</td>\n",
       "      <td>128</td>\n",
       "      <td>F</td>\n",
       "      <td>White</td>\n",
       "      <td>Not Span/Hispanic</td>\n",
       "      <td>1</td>\n",
       "      <td>...</td>\n",
       "      <td>Minor</td>\n",
       "      <td>Medical</td>\n",
       "      <td>Medicare</td>\n",
       "      <td>NaN</td>\n",
       "      <td>NaN</td>\n",
       "      <td>0</td>\n",
       "      <td>N</td>\n",
       "      <td>Y</td>\n",
       "      <td>14033.73</td>\n",
       "      <td>4471.53</td>\n",
       "    </tr>\n",
       "    <tr>\n",
       "      <th>664927</th>\n",
       "      <td>Warren</td>\n",
       "      <td>5601000.0</td>\n",
       "      <td>1005.0</td>\n",
       "      <td>Glens Falls Hospital</td>\n",
       "      <td>70 or Older</td>\n",
       "      <td>128</td>\n",
       "      <td>F</td>\n",
       "      <td>White</td>\n",
       "      <td>Not Span/Hispanic</td>\n",
       "      <td>1</td>\n",
       "      <td>...</td>\n",
       "      <td>Minor</td>\n",
       "      <td>Surgical</td>\n",
       "      <td>Medicare</td>\n",
       "      <td>NaN</td>\n",
       "      <td>NaN</td>\n",
       "      <td>0</td>\n",
       "      <td>N</td>\n",
       "      <td>Y</td>\n",
       "      <td>44134.98</td>\n",
       "      <td>12744.49</td>\n",
       "    </tr>\n",
       "    <tr>\n",
       "      <th>664928</th>\n",
       "      <td>Warren</td>\n",
       "      <td>5601000.0</td>\n",
       "      <td>1005.0</td>\n",
       "      <td>Glens Falls Hospital</td>\n",
       "      <td>30 to 49</td>\n",
       "      <td>128</td>\n",
       "      <td>M</td>\n",
       "      <td>White</td>\n",
       "      <td>Not Span/Hispanic</td>\n",
       "      <td>1</td>\n",
       "      <td>...</td>\n",
       "      <td>Minor</td>\n",
       "      <td>Medical</td>\n",
       "      <td>Private Health Insurance</td>\n",
       "      <td>NaN</td>\n",
       "      <td>NaN</td>\n",
       "      <td>0</td>\n",
       "      <td>N</td>\n",
       "      <td>N</td>\n",
       "      <td>13780.26</td>\n",
       "      <td>3192.12</td>\n",
       "    </tr>\n",
       "    <tr>\n",
       "      <th>664929</th>\n",
       "      <td>Warren</td>\n",
       "      <td>5601000.0</td>\n",
       "      <td>1005.0</td>\n",
       "      <td>Glens Falls Hospital</td>\n",
       "      <td>50 to 69</td>\n",
       "      <td>128</td>\n",
       "      <td>M</td>\n",
       "      <td>White</td>\n",
       "      <td>Not Span/Hispanic</td>\n",
       "      <td>1</td>\n",
       "      <td>...</td>\n",
       "      <td>Moderate</td>\n",
       "      <td>Medical</td>\n",
       "      <td>Private Health Insurance</td>\n",
       "      <td>NaN</td>\n",
       "      <td>NaN</td>\n",
       "      <td>0</td>\n",
       "      <td>N</td>\n",
       "      <td>N</td>\n",
       "      <td>7560.97</td>\n",
       "      <td>2705.89</td>\n",
       "    </tr>\n",
       "    <tr>\n",
       "      <th>664930</th>\n",
       "      <td>Warren</td>\n",
       "      <td>5601000.0</td>\n",
       "      <td>1005.0</td>\n",
       "      <td>Glens Falls Hospital</td>\n",
       "      <td>0 to 17</td>\n",
       "      <td>128</td>\n",
       "      <td>F</td>\n",
       "      <td>White</td>\n",
       "      <td>Not Span/Hispanic</td>\n",
       "      <td>1</td>\n",
       "      <td>...</td>\n",
       "      <td>Minor</td>\n",
       "      <td>Medical</td>\n",
       "      <td>Medicaid</td>\n",
       "      <td>NaN</td>\n",
       "      <td>NaN</td>\n",
       "      <td>0</td>\n",
       "      <td>N</td>\n",
       "      <td>N</td>\n",
       "      <td>3670.62</td>\n",
       "      <td>2613.38</td>\n",
       "    </tr>\n",
       "  </tbody>\n",
       "</table>\n",
       "<p>14072 rows × 28 columns</p>\n",
       "</div>"
      ],
      "text/plain": [
       "       Hospital County  Operating Certificate Number  Facility Id  \\\n",
       "628756          Warren                     5601000.0       1005.0   \n",
       "628825          Warren                     5601000.0       1005.0   \n",
       "629035          Warren                     5601000.0       1005.0   \n",
       "629070          Warren                     5601000.0       1005.0   \n",
       "629175          Warren                     5601000.0       1005.0   \n",
       "...                ...                           ...          ...   \n",
       "664926          Warren                     5601000.0       1005.0   \n",
       "664927          Warren                     5601000.0       1005.0   \n",
       "664928          Warren                     5601000.0       1005.0   \n",
       "664929          Warren                     5601000.0       1005.0   \n",
       "664930          Warren                     5601000.0       1005.0   \n",
       "\n",
       "               Facility Name    Age Group Zip Code - 3 digits Gender   Race  \\\n",
       "628756  Glens Falls Hospital     30 to 49                 128      F  White   \n",
       "628825  Glens Falls Hospital     50 to 69                 120      F  White   \n",
       "629035  Glens Falls Hospital     18 to 29                 128      M  White   \n",
       "629070  Glens Falls Hospital     50 to 69                 128      F  White   \n",
       "629175  Glens Falls Hospital  70 or Older                 128      F  White   \n",
       "...                      ...          ...                 ...    ...    ...   \n",
       "664926  Glens Falls Hospital     30 to 49                 128      F  White   \n",
       "664927  Glens Falls Hospital  70 or Older                 128      F  White   \n",
       "664928  Glens Falls Hospital     30 to 49                 128      M  White   \n",
       "664929  Glens Falls Hospital     50 to 69                 128      M  White   \n",
       "664930  Glens Falls Hospital      0 to 17                 128      F  White   \n",
       "\n",
       "                Ethnicity Length of Stay  ... APR Risk of Mortality  \\\n",
       "628756  Not Span/Hispanic              5  ...                 Minor   \n",
       "628825  Not Span/Hispanic              4  ...              Moderate   \n",
       "629035  Not Span/Hispanic              2  ...                 Minor   \n",
       "629070  Not Span/Hispanic              1  ...                 Minor   \n",
       "629175  Not Span/Hispanic              6  ...                 Major   \n",
       "...                   ...            ...  ...                   ...   \n",
       "664926  Not Span/Hispanic              1  ...                 Minor   \n",
       "664927  Not Span/Hispanic              1  ...                 Minor   \n",
       "664928  Not Span/Hispanic              1  ...                 Minor   \n",
       "664929  Not Span/Hispanic              1  ...              Moderate   \n",
       "664930  Not Span/Hispanic              1  ...                 Minor   \n",
       "\n",
       "       APR Medical Surgical Description        Payment Typology 1  \\\n",
       "628756                          Medical                  Medicaid   \n",
       "628825                          Medical                  Medicare   \n",
       "629035                          Medical    Blue Cross/Blue Shield   \n",
       "629070                          Medical    Blue Cross/Blue Shield   \n",
       "629175                          Medical                  Medicare   \n",
       "...                                 ...                       ...   \n",
       "664926                          Medical                  Medicare   \n",
       "664927                         Surgical                  Medicare   \n",
       "664928                          Medical  Private Health Insurance   \n",
       "664929                          Medical  Private Health Insurance   \n",
       "664930                          Medical                  Medicaid   \n",
       "\n",
       "        Payment Typology 2  Payment Typology 3  Birth Weight  \\\n",
       "628756                 NaN                 NaN             0   \n",
       "628825                 NaN                 NaN             0   \n",
       "629035                 NaN                 NaN             0   \n",
       "629070                 NaN                 NaN             0   \n",
       "629175                 NaN                 NaN             0   \n",
       "...                    ...                 ...           ...   \n",
       "664926                 NaN                 NaN             0   \n",
       "664927                 NaN                 NaN             0   \n",
       "664928                 NaN                 NaN             0   \n",
       "664929                 NaN                 NaN             0   \n",
       "664930                 NaN                 NaN             0   \n",
       "\n",
       "        Abortion Edit Indicator  Emergency Department Indicator Total Charges  \\\n",
       "628756                        N                               Y      16901.84   \n",
       "628825                        N                               N      15354.59   \n",
       "629035                        N                               Y       8413.10   \n",
       "629070                        N                               Y       8102.00   \n",
       "629175                        N                               N      21480.74   \n",
       "...                         ...                             ...           ...   \n",
       "664926                        N                               Y      14033.73   \n",
       "664927                        N                               Y      44134.98   \n",
       "664928                        N                               N      13780.26   \n",
       "664929                        N                               N       7560.97   \n",
       "664930                        N                               N       3670.62   \n",
       "\n",
       "       Total Costs  \n",
       "628756     5444.54  \n",
       "628825     5499.39  \n",
       "629035     2565.18  \n",
       "629070     2008.34  \n",
       "629175     7279.17  \n",
       "...            ...  \n",
       "664926     4471.53  \n",
       "664927    12744.49  \n",
       "664928     3192.12  \n",
       "664929     2705.89  \n",
       "664930     2613.38  \n",
       "\n",
       "[14072 rows x 28 columns]"
      ]
     },
     "execution_count": 11,
     "metadata": {},
     "output_type": "execute_result"
    }
   ],
   "source": [
    "Glens_df"
   ]
  },
  {
   "cell_type": "code",
   "execution_count": 12,
   "id": "34aa69c0",
   "metadata": {
    "execution": {
     "iopub.execute_input": "2023-02-21T11:42:12.116010Z",
     "iopub.status.busy": "2023-02-21T11:42:12.115468Z",
     "iopub.status.idle": "2023-02-21T11:42:12.132044Z",
     "shell.execute_reply": "2023-02-21T11:42:12.131183Z"
    },
    "papermill": {
     "duration": 0.071388,
     "end_time": "2023-02-21T11:42:12.134463",
     "exception": false,
     "start_time": "2023-02-21T11:42:12.063075",
     "status": "completed"
    },
    "tags": []
   },
   "outputs": [
    {
     "name": "stdout",
     "output_type": "stream",
     "text": [
      "<class 'pandas.core.frame.DataFrame'>\n",
      "Int64Index: 14072 entries, 628756 to 664930\n",
      "Data columns (total 28 columns):\n",
      " #   Column                            Non-Null Count  Dtype   \n",
      "---  ------                            --------------  -----   \n",
      " 0   Hospital County                   14072 non-null  category\n",
      " 1   Operating Certificate Number      14072 non-null  float64 \n",
      " 2   Facility Id                       14072 non-null  float64 \n",
      " 3   Facility Name                     14072 non-null  object  \n",
      " 4   Age Group                         14072 non-null  category\n",
      " 5   Zip Code - 3 digits               13957 non-null  category\n",
      " 6   Gender                            14072 non-null  category\n",
      " 7   Race                              14072 non-null  category\n",
      " 8   Ethnicity                         14072 non-null  category\n",
      " 9   Length of Stay                    14072 non-null  category\n",
      " 10  Type of Admission                 14072 non-null  category\n",
      " 11  Patient Disposition               14072 non-null  category\n",
      " 12  Discharge Year                    14072 non-null  int64   \n",
      " 13  CCS Diagnosis Code                14072 non-null  int64   \n",
      " 14  CCS Procedure Code                14072 non-null  int64   \n",
      " 15  APR DRG Code                      14072 non-null  int64   \n",
      " 16  APR MDC Code                      14072 non-null  int64   \n",
      " 17  APR Severity of Illness Code      14072 non-null  int64   \n",
      " 18  APR Risk of Mortality             14072 non-null  category\n",
      " 19  APR Medical Surgical Description  14072 non-null  category\n",
      " 20  Payment Typology 1                14072 non-null  category\n",
      " 21  Payment Typology 2                4755 non-null   category\n",
      " 22  Payment Typology 3                281 non-null    category\n",
      " 23  Birth Weight                      14072 non-null  int64   \n",
      " 24  Abortion Edit Indicator           14072 non-null  category\n",
      " 25  Emergency Department Indicator    14072 non-null  category\n",
      " 26  Total Charges                     14072 non-null  float64 \n",
      " 27  Total Costs                       14072 non-null  float64 \n",
      "dtypes: category(16), float64(4), int64(7), object(1)\n",
      "memory usage: 1.6+ MB\n"
     ]
    }
   ],
   "source": [
    "Glens_df.info()"
   ]
  },
  {
   "cell_type": "code",
   "execution_count": null,
   "id": "881ad0a5",
   "metadata": {
    "papermill": {
     "duration": 0.050065,
     "end_time": "2023-02-21T11:42:12.235756",
     "exception": false,
     "start_time": "2023-02-21T11:42:12.185691",
     "status": "completed"
    },
    "tags": []
   },
   "outputs": [],
   "source": []
  },
  {
   "cell_type": "code",
   "execution_count": null,
   "id": "1357c851",
   "metadata": {
    "papermill": {
     "duration": 0.049871,
     "end_time": "2023-02-21T11:42:12.335902",
     "exception": false,
     "start_time": "2023-02-21T11:42:12.286031",
     "status": "completed"
    },
    "tags": []
   },
   "outputs": [],
   "source": [
    "\n"
   ]
  },
  {
   "cell_type": "code",
   "execution_count": 13,
   "id": "dfc79e07",
   "metadata": {
    "execution": {
     "iopub.execute_input": "2023-02-21T11:42:12.438728Z",
     "iopub.status.busy": "2023-02-21T11:42:12.438205Z",
     "iopub.status.idle": "2023-02-21T11:42:12.463084Z",
     "shell.execute_reply": "2023-02-21T11:42:12.461892Z"
    },
    "papermill": {
     "duration": 0.079341,
     "end_time": "2023-02-21T11:42:12.465602",
     "exception": false,
     "start_time": "2023-02-21T11:42:12.386261",
     "status": "completed"
    },
    "tags": []
   },
   "outputs": [
    {
     "data": {
      "text/html": [
       "<div>\n",
       "<style scoped>\n",
       "    .dataframe tbody tr th:only-of-type {\n",
       "        vertical-align: middle;\n",
       "    }\n",
       "\n",
       "    .dataframe tbody tr th {\n",
       "        vertical-align: top;\n",
       "    }\n",
       "\n",
       "    .dataframe thead th {\n",
       "        text-align: right;\n",
       "    }\n",
       "</style>\n",
       "<table border=\"1\" class=\"dataframe\">\n",
       "  <thead>\n",
       "    <tr style=\"text-align: right;\">\n",
       "      <th></th>\n",
       "      <th>Hospital County</th>\n",
       "      <th>Operating Certificate Number</th>\n",
       "      <th>Facility Id</th>\n",
       "      <th>Facility Name</th>\n",
       "      <th>Age Group</th>\n",
       "      <th>Zip Code - 3 digits</th>\n",
       "      <th>Gender</th>\n",
       "      <th>Race</th>\n",
       "      <th>Ethnicity</th>\n",
       "      <th>Length of Stay</th>\n",
       "      <th>...</th>\n",
       "      <th>APR Risk of Mortality</th>\n",
       "      <th>APR Medical Surgical Description</th>\n",
       "      <th>Payment Typology 1</th>\n",
       "      <th>Payment Typology 2</th>\n",
       "      <th>Payment Typology 3</th>\n",
       "      <th>Birth Weight</th>\n",
       "      <th>Abortion Edit Indicator</th>\n",
       "      <th>Emergency Department Indicator</th>\n",
       "      <th>Total Charges</th>\n",
       "      <th>Total Costs</th>\n",
       "    </tr>\n",
       "  </thead>\n",
       "  <tbody>\n",
       "    <tr>\n",
       "      <th>628756</th>\n",
       "      <td>Warren</td>\n",
       "      <td>5601000.0</td>\n",
       "      <td>1005.0</td>\n",
       "      <td>Glens Falls Hospital</td>\n",
       "      <td>30 to 49</td>\n",
       "      <td>128</td>\n",
       "      <td>F</td>\n",
       "      <td>White</td>\n",
       "      <td>Not Span/Hispanic</td>\n",
       "      <td>5</td>\n",
       "      <td>...</td>\n",
       "      <td>Minor</td>\n",
       "      <td>Medical</td>\n",
       "      <td>Medicaid</td>\n",
       "      <td>NaN</td>\n",
       "      <td>NaN</td>\n",
       "      <td>0</td>\n",
       "      <td>N</td>\n",
       "      <td>Y</td>\n",
       "      <td>16901.84</td>\n",
       "      <td>5444.54</td>\n",
       "    </tr>\n",
       "    <tr>\n",
       "      <th>628825</th>\n",
       "      <td>Warren</td>\n",
       "      <td>5601000.0</td>\n",
       "      <td>1005.0</td>\n",
       "      <td>Glens Falls Hospital</td>\n",
       "      <td>50 to 69</td>\n",
       "      <td>120</td>\n",
       "      <td>F</td>\n",
       "      <td>White</td>\n",
       "      <td>Not Span/Hispanic</td>\n",
       "      <td>4</td>\n",
       "      <td>...</td>\n",
       "      <td>Moderate</td>\n",
       "      <td>Medical</td>\n",
       "      <td>Medicare</td>\n",
       "      <td>NaN</td>\n",
       "      <td>NaN</td>\n",
       "      <td>0</td>\n",
       "      <td>N</td>\n",
       "      <td>N</td>\n",
       "      <td>15354.59</td>\n",
       "      <td>5499.39</td>\n",
       "    </tr>\n",
       "    <tr>\n",
       "      <th>629035</th>\n",
       "      <td>Warren</td>\n",
       "      <td>5601000.0</td>\n",
       "      <td>1005.0</td>\n",
       "      <td>Glens Falls Hospital</td>\n",
       "      <td>18 to 29</td>\n",
       "      <td>128</td>\n",
       "      <td>M</td>\n",
       "      <td>White</td>\n",
       "      <td>Not Span/Hispanic</td>\n",
       "      <td>2</td>\n",
       "      <td>...</td>\n",
       "      <td>Minor</td>\n",
       "      <td>Medical</td>\n",
       "      <td>Blue Cross/Blue Shield</td>\n",
       "      <td>NaN</td>\n",
       "      <td>NaN</td>\n",
       "      <td>0</td>\n",
       "      <td>N</td>\n",
       "      <td>Y</td>\n",
       "      <td>8413.10</td>\n",
       "      <td>2565.18</td>\n",
       "    </tr>\n",
       "    <tr>\n",
       "      <th>629070</th>\n",
       "      <td>Warren</td>\n",
       "      <td>5601000.0</td>\n",
       "      <td>1005.0</td>\n",
       "      <td>Glens Falls Hospital</td>\n",
       "      <td>50 to 69</td>\n",
       "      <td>128</td>\n",
       "      <td>F</td>\n",
       "      <td>White</td>\n",
       "      <td>Not Span/Hispanic</td>\n",
       "      <td>1</td>\n",
       "      <td>...</td>\n",
       "      <td>Minor</td>\n",
       "      <td>Medical</td>\n",
       "      <td>Blue Cross/Blue Shield</td>\n",
       "      <td>NaN</td>\n",
       "      <td>NaN</td>\n",
       "      <td>0</td>\n",
       "      <td>N</td>\n",
       "      <td>Y</td>\n",
       "      <td>8102.00</td>\n",
       "      <td>2008.34</td>\n",
       "    </tr>\n",
       "    <tr>\n",
       "      <th>629175</th>\n",
       "      <td>Warren</td>\n",
       "      <td>5601000.0</td>\n",
       "      <td>1005.0</td>\n",
       "      <td>Glens Falls Hospital</td>\n",
       "      <td>70 or Older</td>\n",
       "      <td>128</td>\n",
       "      <td>F</td>\n",
       "      <td>White</td>\n",
       "      <td>Not Span/Hispanic</td>\n",
       "      <td>6</td>\n",
       "      <td>...</td>\n",
       "      <td>Major</td>\n",
       "      <td>Medical</td>\n",
       "      <td>Medicare</td>\n",
       "      <td>NaN</td>\n",
       "      <td>NaN</td>\n",
       "      <td>0</td>\n",
       "      <td>N</td>\n",
       "      <td>N</td>\n",
       "      <td>21480.74</td>\n",
       "      <td>7279.17</td>\n",
       "    </tr>\n",
       "  </tbody>\n",
       "</table>\n",
       "<p>5 rows × 28 columns</p>\n",
       "</div>"
      ],
      "text/plain": [
       "       Hospital County  Operating Certificate Number  Facility Id  \\\n",
       "628756          Warren                     5601000.0       1005.0   \n",
       "628825          Warren                     5601000.0       1005.0   \n",
       "629035          Warren                     5601000.0       1005.0   \n",
       "629070          Warren                     5601000.0       1005.0   \n",
       "629175          Warren                     5601000.0       1005.0   \n",
       "\n",
       "               Facility Name    Age Group Zip Code - 3 digits Gender   Race  \\\n",
       "628756  Glens Falls Hospital     30 to 49                 128      F  White   \n",
       "628825  Glens Falls Hospital     50 to 69                 120      F  White   \n",
       "629035  Glens Falls Hospital     18 to 29                 128      M  White   \n",
       "629070  Glens Falls Hospital     50 to 69                 128      F  White   \n",
       "629175  Glens Falls Hospital  70 or Older                 128      F  White   \n",
       "\n",
       "                Ethnicity Length of Stay  ... APR Risk of Mortality  \\\n",
       "628756  Not Span/Hispanic              5  ...                 Minor   \n",
       "628825  Not Span/Hispanic              4  ...              Moderate   \n",
       "629035  Not Span/Hispanic              2  ...                 Minor   \n",
       "629070  Not Span/Hispanic              1  ...                 Minor   \n",
       "629175  Not Span/Hispanic              6  ...                 Major   \n",
       "\n",
       "       APR Medical Surgical Description      Payment Typology 1  \\\n",
       "628756                          Medical                Medicaid   \n",
       "628825                          Medical                Medicare   \n",
       "629035                          Medical  Blue Cross/Blue Shield   \n",
       "629070                          Medical  Blue Cross/Blue Shield   \n",
       "629175                          Medical                Medicare   \n",
       "\n",
       "        Payment Typology 2  Payment Typology 3  Birth Weight  \\\n",
       "628756                 NaN                 NaN             0   \n",
       "628825                 NaN                 NaN             0   \n",
       "629035                 NaN                 NaN             0   \n",
       "629070                 NaN                 NaN             0   \n",
       "629175                 NaN                 NaN             0   \n",
       "\n",
       "        Abortion Edit Indicator  Emergency Department Indicator Total Charges  \\\n",
       "628756                        N                               Y      16901.84   \n",
       "628825                        N                               N      15354.59   \n",
       "629035                        N                               Y       8413.10   \n",
       "629070                        N                               Y       8102.00   \n",
       "629175                        N                               N      21480.74   \n",
       "\n",
       "       Total Costs  \n",
       "628756     5444.54  \n",
       "628825     5499.39  \n",
       "629035     2565.18  \n",
       "629070     2008.34  \n",
       "629175     7279.17  \n",
       "\n",
       "[5 rows x 28 columns]"
      ]
     },
     "execution_count": 13,
     "metadata": {},
     "output_type": "execute_result"
    }
   ],
   "source": [
    "Glens_df.head()"
   ]
  },
  {
   "cell_type": "code",
   "execution_count": 14,
   "id": "2d23009b",
   "metadata": {
    "execution": {
     "iopub.execute_input": "2023-02-21T11:42:12.570948Z",
     "iopub.status.busy": "2023-02-21T11:42:12.570589Z",
     "iopub.status.idle": "2023-02-21T11:42:12.587586Z",
     "shell.execute_reply": "2023-02-21T11:42:12.585794Z"
    },
    "papermill": {
     "duration": 0.071836,
     "end_time": "2023-02-21T11:42:12.589647",
     "exception": false,
     "start_time": "2023-02-21T11:42:12.517811",
     "status": "completed"
    },
    "tags": []
   },
   "outputs": [
    {
     "name": "stdout",
     "output_type": "stream",
     "text": [
      "<class 'pandas.core.frame.DataFrame'>\n",
      "Int64Index: 14072 entries, 628756 to 664930\n",
      "Data columns (total 28 columns):\n",
      " #   Column                            Non-Null Count  Dtype   \n",
      "---  ------                            --------------  -----   \n",
      " 0   Hospital County                   14072 non-null  category\n",
      " 1   Operating Certificate Number      14072 non-null  float64 \n",
      " 2   Facility Id                       14072 non-null  float64 \n",
      " 3   Facility Name                     14072 non-null  object  \n",
      " 4   Age Group                         14072 non-null  category\n",
      " 5   Zip Code - 3 digits               13957 non-null  category\n",
      " 6   Gender                            14072 non-null  category\n",
      " 7   Race                              14072 non-null  category\n",
      " 8   Ethnicity                         14072 non-null  category\n",
      " 9   Length of Stay                    14072 non-null  category\n",
      " 10  Type of Admission                 14072 non-null  category\n",
      " 11  Patient Disposition               14072 non-null  category\n",
      " 12  Discharge Year                    14072 non-null  int64   \n",
      " 13  CCS Diagnosis Code                14072 non-null  int64   \n",
      " 14  CCS Procedure Code                14072 non-null  int64   \n",
      " 15  APR DRG Code                      14072 non-null  int64   \n",
      " 16  APR MDC Code                      14072 non-null  int64   \n",
      " 17  APR Severity of Illness Code      14072 non-null  int64   \n",
      " 18  APR Risk of Mortality             14072 non-null  category\n",
      " 19  APR Medical Surgical Description  14072 non-null  category\n",
      " 20  Payment Typology 1                14072 non-null  category\n",
      " 21  Payment Typology 2                4755 non-null   category\n",
      " 22  Payment Typology 3                281 non-null    category\n",
      " 23  Birth Weight                      14072 non-null  int64   \n",
      " 24  Abortion Edit Indicator           14072 non-null  category\n",
      " 25  Emergency Department Indicator    14072 non-null  category\n",
      " 26  Total Charges                     14072 non-null  float64 \n",
      " 27  Total Costs                       14072 non-null  float64 \n",
      "dtypes: category(16), float64(4), int64(7), object(1)\n",
      "memory usage: 1.6+ MB\n"
     ]
    }
   ],
   "source": [
    "Glens_df.info()"
   ]
  },
  {
   "cell_type": "code",
   "execution_count": 15,
   "id": "c42ceff6",
   "metadata": {
    "_kg_hide-input": true,
    "execution": {
     "iopub.execute_input": "2023-02-21T11:42:12.693495Z",
     "iopub.status.busy": "2023-02-21T11:42:12.692925Z",
     "iopub.status.idle": "2023-02-21T11:42:12.698052Z",
     "shell.execute_reply": "2023-02-21T11:42:12.697097Z"
    },
    "papermill": {
     "duration": 0.059757,
     "end_time": "2023-02-21T11:42:12.700291",
     "exception": false,
     "start_time": "2023-02-21T11:42:12.640534",
     "status": "completed"
    },
    "tags": []
   },
   "outputs": [],
   "source": [
    "Glens_df = Glens_df.drop(\"Facility Name\", axis=1)"
   ]
  },
  {
   "cell_type": "code",
   "execution_count": 16,
   "id": "2b872377",
   "metadata": {
    "execution": {
     "iopub.execute_input": "2023-02-21T11:42:12.804140Z",
     "iopub.status.busy": "2023-02-21T11:42:12.803750Z",
     "iopub.status.idle": "2023-02-21T11:42:12.815004Z",
     "shell.execute_reply": "2023-02-21T11:42:12.814149Z"
    },
    "papermill": {
     "duration": 0.066177,
     "end_time": "2023-02-21T11:42:12.817840",
     "exception": false,
     "start_time": "2023-02-21T11:42:12.751663",
     "status": "completed"
    },
    "tags": []
   },
   "outputs": [
    {
     "data": {
      "text/html": [
       "<div>\n",
       "<style scoped>\n",
       "    .dataframe tbody tr th:only-of-type {\n",
       "        vertical-align: middle;\n",
       "    }\n",
       "\n",
       "    .dataframe tbody tr th {\n",
       "        vertical-align: top;\n",
       "    }\n",
       "\n",
       "    .dataframe thead th {\n",
       "        text-align: right;\n",
       "    }\n",
       "</style>\n",
       "<table border=\"1\" class=\"dataframe\">\n",
       "  <thead>\n",
       "    <tr style=\"text-align: right;\">\n",
       "      <th></th>\n",
       "      <th>Length of Stay</th>\n",
       "    </tr>\n",
       "  </thead>\n",
       "  <tbody>\n",
       "    <tr>\n",
       "      <th>628756</th>\n",
       "      <td>5</td>\n",
       "    </tr>\n",
       "    <tr>\n",
       "      <th>628825</th>\n",
       "      <td>4</td>\n",
       "    </tr>\n",
       "    <tr>\n",
       "      <th>629035</th>\n",
       "      <td>2</td>\n",
       "    </tr>\n",
       "    <tr>\n",
       "      <th>629070</th>\n",
       "      <td>1</td>\n",
       "    </tr>\n",
       "    <tr>\n",
       "      <th>629175</th>\n",
       "      <td>6</td>\n",
       "    </tr>\n",
       "    <tr>\n",
       "      <th>...</th>\n",
       "      <td>...</td>\n",
       "    </tr>\n",
       "    <tr>\n",
       "      <th>664926</th>\n",
       "      <td>1</td>\n",
       "    </tr>\n",
       "    <tr>\n",
       "      <th>664927</th>\n",
       "      <td>1</td>\n",
       "    </tr>\n",
       "    <tr>\n",
       "      <th>664928</th>\n",
       "      <td>1</td>\n",
       "    </tr>\n",
       "    <tr>\n",
       "      <th>664929</th>\n",
       "      <td>1</td>\n",
       "    </tr>\n",
       "    <tr>\n",
       "      <th>664930</th>\n",
       "      <td>1</td>\n",
       "    </tr>\n",
       "  </tbody>\n",
       "</table>\n",
       "<p>14072 rows × 1 columns</p>\n",
       "</div>"
      ],
      "text/plain": [
       "       Length of Stay\n",
       "628756              5\n",
       "628825              4\n",
       "629035              2\n",
       "629070              1\n",
       "629175              6\n",
       "...               ...\n",
       "664926              1\n",
       "664927              1\n",
       "664928              1\n",
       "664929              1\n",
       "664930              1\n",
       "\n",
       "[14072 rows x 1 columns]"
      ]
     },
     "execution_count": 16,
     "metadata": {},
     "output_type": "execute_result"
    }
   ],
   "source": [
    "Glens_df[[\"Length of Stay\"]]"
   ]
  },
  {
   "cell_type": "code",
   "execution_count": 17,
   "id": "49402ff3",
   "metadata": {
    "execution": {
     "iopub.execute_input": "2023-02-21T11:42:12.924782Z",
     "iopub.status.busy": "2023-02-21T11:42:12.923843Z",
     "iopub.status.idle": "2023-02-21T11:42:12.929552Z",
     "shell.execute_reply": "2023-02-21T11:42:12.928538Z"
    },
    "papermill": {
     "duration": 0.060827,
     "end_time": "2023-02-21T11:42:12.931330",
     "exception": false,
     "start_time": "2023-02-21T11:42:12.870503",
     "status": "completed"
    },
    "tags": []
   },
   "outputs": [],
   "source": [
    "Glens_df = Glens_df.drop([\"Payment Typology 2\",    \"Payment Typology 3\"], axis=1)\n"
   ]
  },
  {
   "cell_type": "code",
   "execution_count": 18,
   "id": "bfe4ef16",
   "metadata": {
    "execution": {
     "iopub.execute_input": "2023-02-21T11:42:13.037492Z",
     "iopub.status.busy": "2023-02-21T11:42:13.036659Z",
     "iopub.status.idle": "2023-02-21T11:42:13.085954Z",
     "shell.execute_reply": "2023-02-21T11:42:13.083153Z"
    },
    "papermill": {
     "duration": 0.104386,
     "end_time": "2023-02-21T11:42:13.087884",
     "exception": false,
     "start_time": "2023-02-21T11:42:12.983498",
     "status": "completed"
    },
    "tags": []
   },
   "outputs": [
    {
     "name": "stdout",
     "output_type": "stream",
     "text": [
      "Hospital County : 1\n",
      "Warren      14072\n",
      "Albany          0\n",
      "Saratoga        0\n",
      "Onondaga        0\n",
      "Ontario         0\n",
      "Name: Hospital County, dtype: int64\n",
      "\n",
      "********************\n",
      "\n",
      "Operating Certificate Number : 1\n",
      "5601000.0    14072\n",
      "Name: Operating Certificate Number, dtype: int64\n",
      "\n",
      "********************\n",
      "\n",
      "Facility Id : 1\n",
      "1005.0    14072\n",
      "Name: Facility Id, dtype: int64\n",
      "\n",
      "********************\n",
      "\n",
      "Age Group : 5\n",
      "70 or Older    4708\n",
      "50 to 69       3997\n",
      "30 to 49       2186\n",
      "0 to 17        1671\n",
      "18 to 29       1510\n",
      "Name: Age Group, dtype: int64\n",
      "\n",
      "********************\n",
      "\n",
      "Zip Code - 3 digits : 20\n",
      "128    13284\n",
      "OOS      197\n",
      "120      196\n",
      "129      110\n",
      "121       80\n",
      "Name: Zip Code - 3 digits, dtype: int64\n",
      "\n",
      "********************\n",
      "\n",
      "Gender : 2\n",
      "F    7797\n",
      "M    6275\n",
      "U       0\n",
      "Name: Gender, dtype: int64\n",
      "\n",
      "********************\n",
      "\n",
      "Race : 3\n",
      "White                     13610\n",
      "Other Race                  343\n",
      "Black/African American      119\n",
      "Multi-racial                  0\n",
      "Name: Race, dtype: int64\n",
      "\n",
      "********************\n",
      "\n",
      "Ethnicity : 3\n",
      "Not Span/Hispanic    13938\n",
      "Spanish/Hispanic       125\n",
      "Unknown                  9\n",
      "Multi-ethnic             0\n",
      "Name: Ethnicity, dtype: int64\n",
      "\n",
      "********************\n",
      "\n",
      "Length of Stay : 74\n",
      "2    3059\n",
      "3    2648\n",
      "1    2116\n",
      "4    1620\n",
      "5    1078\n",
      "Name: Length of Stay, dtype: int64\n",
      "\n",
      "********************\n",
      "\n",
      "Type of Admission : 5\n",
      "Emergency        9490\n",
      "Elective         2700\n",
      "Newborn          1220\n",
      "Urgent            657\n",
      "Not Available       5\n",
      "Name: Type of Admission, dtype: int64\n",
      "\n",
      "********************\n",
      "\n",
      "Patient Disposition : 17\n",
      "Home or Self Care               6717\n",
      "Home w/ Home Health Services    4378\n",
      "Skilled Nursing Home            1584\n",
      "Expired                          427\n",
      "Short-term Hospital              290\n",
      "Name: Patient Disposition, dtype: int64\n",
      "\n",
      "********************\n",
      "\n",
      "Discharge Year : 1\n",
      "2015    14072\n",
      "Name: Discharge Year, dtype: int64\n",
      "\n",
      "********************\n",
      "\n",
      "CCS Diagnosis Code : 226\n",
      "218    1219\n",
      "657     864\n",
      "2       833\n",
      "127     459\n",
      "108     408\n",
      "Name: CCS Diagnosis Code, dtype: int64\n",
      "\n",
      "********************\n",
      "\n",
      "CCS Procedure Code : 165\n",
      "0      6956\n",
      "137     790\n",
      "216     567\n",
      "115     491\n",
      "134     379\n",
      "Name: CCS Procedure Code, dtype: int64\n",
      "\n",
      "********************\n",
      "\n",
      "APR DRG Code : 263\n",
      "640    1126\n",
      "560     818\n",
      "720     745\n",
      "140     494\n",
      "194     382\n",
      "Name: APR DRG Code, dtype: int64\n",
      "\n",
      "********************\n",
      "\n",
      "APR MDC Code : 25\n",
      "4     1702\n",
      "5     1553\n",
      "6     1299\n",
      "14    1291\n",
      "15    1233\n",
      "Name: APR MDC Code, dtype: int64\n",
      "\n",
      "********************\n",
      "\n",
      "APR Severity of Illness Code : 4\n",
      "2    5298\n",
      "1    4129\n",
      "3    3987\n",
      "4     658\n",
      "Name: APR Severity of Illness Code, dtype: int64\n",
      "\n",
      "********************\n",
      "\n",
      "APR Risk of Mortality : 4\n",
      "Minor       7296\n",
      "Moderate    3442\n",
      "Major       2734\n",
      "Extreme      600\n",
      "Name: APR Risk of Mortality, dtype: int64\n",
      "\n",
      "********************\n",
      "\n",
      "APR Medical Surgical Description : 2\n",
      "Medical           11256\n",
      "Surgical           2816\n",
      "Not Applicable        0\n",
      "Name: APR Medical Surgical Description, dtype: int64\n",
      "\n",
      "********************\n",
      "\n",
      "Payment Typology 1 : 8\n",
      "Medicare                    7149\n",
      "Medicaid                    3174\n",
      "Blue Cross/Blue Shield      1919\n",
      "Private Health Insurance    1424\n",
      "Self-Pay                     169\n",
      "Name: Payment Typology 1, dtype: int64\n",
      "\n",
      "********************\n",
      "\n",
      "Birth Weight : 38\n",
      "0       12822\n",
      "3500      129\n",
      "3400      101\n",
      "3300       96\n",
      "3600       92\n",
      "Name: Birth Weight, dtype: int64\n",
      "\n",
      "********************\n",
      "\n",
      "Abortion Edit Indicator : 1\n",
      "N    14072\n",
      "Y        0\n",
      "Name: Abortion Edit Indicator, dtype: int64\n",
      "\n",
      "********************\n",
      "\n",
      "Emergency Department Indicator : 2\n",
      "Y    9493\n",
      "N    4579\n",
      "Name: Emergency Department Indicator, dtype: int64\n",
      "\n",
      "********************\n",
      "\n",
      "Total Charges : 13528\n",
      "5357.70    67\n",
      "5276.70    63\n",
      "2849.70    35\n",
      "5885.05    32\n",
      "5899.15    25\n",
      "Name: Total Charges, dtype: int64\n",
      "\n",
      "********************\n",
      "\n",
      "Total Costs : 13510\n",
      "1896.61    67\n",
      "1881.32    63\n",
      "1041.81    35\n",
      "2076.81    32\n",
      "2082.50    25\n",
      "Name: Total Costs, dtype: int64\n",
      "\n",
      "********************\n",
      "\n"
     ]
    }
   ],
   "source": [
    "for col in Glens_df.columns:\n",
    "    print( col,':', Glens_df[col].nunique() )#Num of unique values\n",
    "    print(Glens_df[col].value_counts().nlargest(5)) #Most 5 frequent values\n",
    "    print('\\n' + '*' * 20 + '\\n')"
   ]
  },
  {
   "cell_type": "markdown",
   "id": "c68166d9",
   "metadata": {
    "papermill": {
     "duration": 0.050148,
     "end_time": "2023-02-21T11:42:13.188843",
     "exception": false,
     "start_time": "2023-02-21T11:42:13.138695",
     "status": "completed"
    },
    "tags": []
   },
   "source": [
    "preprocsesing "
   ]
  },
  {
   "cell_type": "code",
   "execution_count": 19,
   "id": "bf94cc59",
   "metadata": {
    "execution": {
     "iopub.execute_input": "2023-02-21T11:42:13.291545Z",
     "iopub.status.busy": "2023-02-21T11:42:13.291037Z",
     "iopub.status.idle": "2023-02-21T11:42:13.298343Z",
     "shell.execute_reply": "2023-02-21T11:42:13.297548Z"
    },
    "papermill": {
     "duration": 0.060591,
     "end_time": "2023-02-21T11:42:13.300088",
     "exception": false,
     "start_time": "2023-02-21T11:42:13.239497",
     "status": "completed"
    },
    "tags": []
   },
   "outputs": [],
   "source": [
    " #Glens_df[\"Length of Stay\"] = Glens_df[\"Length of Stay\"].astype('int64')\n",
    " #   simple mapping on binary features.\n",
    "Glens_df['Abortion Edit Indicator'] = Glens_df['Abortion Edit Indicator'].apply(\n",
    "     lambda x: 1 if x == 'Y' else (0 if x == 'N' else None))\n",
    "Glens_df['Emergency Department Indicator'] = Glens_df['Emergency Department Indicator'].apply(\n",
    "    lambda x: 1 if x == 'Y' else (0 if x == 'N' else None))"
   ]
  },
  {
   "cell_type": "code",
   "execution_count": 20,
   "id": "c9999ab2",
   "metadata": {
    "execution": {
     "iopub.execute_input": "2023-02-21T11:42:13.405317Z",
     "iopub.status.busy": "2023-02-21T11:42:13.404981Z",
     "iopub.status.idle": "2023-02-21T11:42:13.416370Z",
     "shell.execute_reply": "2023-02-21T11:42:13.415635Z"
    },
    "papermill": {
     "duration": 0.065897,
     "end_time": "2023-02-21T11:42:13.418101",
     "exception": false,
     "start_time": "2023-02-21T11:42:13.352204",
     "status": "completed"
    },
    "tags": []
   },
   "outputs": [],
   "source": [
    "Glens_df[\"Length of Stay\"]=pd.to_numeric(Glens_df[\"Length of Stay\"],errors='coerce')"
   ]
  },
  {
   "cell_type": "code",
   "execution_count": 21,
   "id": "225fc0f6",
   "metadata": {
    "execution": {
     "iopub.execute_input": "2023-02-21T11:42:13.524965Z",
     "iopub.status.busy": "2023-02-21T11:42:13.523800Z",
     "iopub.status.idle": "2023-02-21T11:42:13.538431Z",
     "shell.execute_reply": "2023-02-21T11:42:13.537499Z"
    },
    "papermill": {
     "duration": 0.071419,
     "end_time": "2023-02-21T11:42:13.541174",
     "exception": false,
     "start_time": "2023-02-21T11:42:13.469755",
     "status": "completed"
    },
    "tags": []
   },
   "outputs": [
    {
     "name": "stdout",
     "output_type": "stream",
     "text": [
      "<class 'pandas.core.frame.DataFrame'>\n",
      "Int64Index: 14072 entries, 628756 to 664930\n",
      "Data columns (total 25 columns):\n",
      " #   Column                            Non-Null Count  Dtype   \n",
      "---  ------                            --------------  -----   \n",
      " 0   Hospital County                   14072 non-null  category\n",
      " 1   Operating Certificate Number      14072 non-null  float64 \n",
      " 2   Facility Id                       14072 non-null  float64 \n",
      " 3   Age Group                         14072 non-null  category\n",
      " 4   Zip Code - 3 digits               13957 non-null  category\n",
      " 5   Gender                            14072 non-null  category\n",
      " 6   Race                              14072 non-null  category\n",
      " 7   Ethnicity                         14072 non-null  category\n",
      " 8   Length of Stay                    14069 non-null  float64 \n",
      " 9   Type of Admission                 14072 non-null  category\n",
      " 10  Patient Disposition               14072 non-null  category\n",
      " 11  Discharge Year                    14072 non-null  int64   \n",
      " 12  CCS Diagnosis Code                14072 non-null  int64   \n",
      " 13  CCS Procedure Code                14072 non-null  int64   \n",
      " 14  APR DRG Code                      14072 non-null  int64   \n",
      " 15  APR MDC Code                      14072 non-null  int64   \n",
      " 16  APR Severity of Illness Code      14072 non-null  int64   \n",
      " 17  APR Risk of Mortality             14072 non-null  category\n",
      " 18  APR Medical Surgical Description  14072 non-null  category\n",
      " 19  Payment Typology 1                14072 non-null  category\n",
      " 20  Birth Weight                      14072 non-null  int64   \n",
      " 21  Abortion Edit Indicator           14072 non-null  category\n",
      " 22  Emergency Department Indicator    14072 non-null  category\n",
      " 23  Total Charges                     14072 non-null  float64 \n",
      " 24  Total Costs                       14072 non-null  float64 \n",
      "dtypes: category(13), float64(5), int64(7)\n",
      "memory usage: 1.6 MB\n"
     ]
    }
   ],
   "source": [
    "Glens_df.info()"
   ]
  },
  {
   "cell_type": "code",
   "execution_count": 22,
   "id": "d67c9b81",
   "metadata": {
    "execution": {
     "iopub.execute_input": "2023-02-21T11:42:13.647812Z",
     "iopub.status.busy": "2023-02-21T11:42:13.647201Z",
     "iopub.status.idle": "2023-02-21T11:42:14.537377Z",
     "shell.execute_reply": "2023-02-21T11:42:14.536477Z"
    },
    "papermill": {
     "duration": 0.946067,
     "end_time": "2023-02-21T11:42:14.539800",
     "exception": false,
     "start_time": "2023-02-21T11:42:13.593733",
     "status": "completed"
    },
    "tags": []
   },
   "outputs": [],
   "source": [
    "list=  [ \"Hospital County\",\"Age Group\"\n",
    "    ,\"Gender\",   \n",
    " \"Race\" , \n",
    "\"Ethnicity\", \n",
    "\"Gender\" , \n",
    "\"Race\" ,    \n",
    " \"Ethnicity\" ,        \n",
    " \"Type of Admission\"  ,  \n",
    "  \"Patient Disposition\",      \n",
    " \"Type of Admission\" ,  \n",
    " \"Patient Disposition\"  ,\n",
    "  \"APR Risk of Mortality\" ,   \n",
    " \"APR Medical Surgical Description\" ,\n",
    " \"Payment Typology 1\"   ,   \n",
    " \"Abortion Edit Indicator\"     ,  \n",
    " \"Emergency Department Indicator\",\n",
    "       \"Zip Code - 3 digits\"]  \n",
    "\n",
    "# Import label encoder\n",
    "from sklearn import preprocessing\n",
    "  \n",
    "# label_encoder object knows how to understand word labels.\n",
    "label_encoder = preprocessing.LabelEncoder()\n",
    "  \n",
    "# Encode labels in column 'species'.\n",
    "for col in list :\n",
    "  Glens_df[col]= label_encoder.fit_transform(Glens_df[col])"
   ]
  },
  {
   "cell_type": "code",
   "execution_count": 23,
   "id": "9fda1658",
   "metadata": {
    "execution": {
     "iopub.execute_input": "2023-02-21T11:42:14.645954Z",
     "iopub.status.busy": "2023-02-21T11:42:14.645614Z",
     "iopub.status.idle": "2023-02-21T11:42:14.662184Z",
     "shell.execute_reply": "2023-02-21T11:42:14.660772Z"
    },
    "papermill": {
     "duration": 0.072417,
     "end_time": "2023-02-21T11:42:14.664569",
     "exception": false,
     "start_time": "2023-02-21T11:42:14.592152",
     "status": "completed"
    },
    "tags": []
   },
   "outputs": [
    {
     "name": "stdout",
     "output_type": "stream",
     "text": [
      "<class 'pandas.core.frame.DataFrame'>\n",
      "Int64Index: 14072 entries, 628756 to 664930\n",
      "Data columns (total 25 columns):\n",
      " #   Column                            Non-Null Count  Dtype  \n",
      "---  ------                            --------------  -----  \n",
      " 0   Hospital County                   14072 non-null  int64  \n",
      " 1   Operating Certificate Number      14072 non-null  float64\n",
      " 2   Facility Id                       14072 non-null  float64\n",
      " 3   Age Group                         14072 non-null  int64  \n",
      " 4   Zip Code - 3 digits               14072 non-null  int64  \n",
      " 5   Gender                            14072 non-null  int64  \n",
      " 6   Race                              14072 non-null  int64  \n",
      " 7   Ethnicity                         14072 non-null  int64  \n",
      " 8   Length of Stay                    14069 non-null  float64\n",
      " 9   Type of Admission                 14072 non-null  int64  \n",
      " 10  Patient Disposition               14072 non-null  int64  \n",
      " 11  Discharge Year                    14072 non-null  int64  \n",
      " 12  CCS Diagnosis Code                14072 non-null  int64  \n",
      " 13  CCS Procedure Code                14072 non-null  int64  \n",
      " 14  APR DRG Code                      14072 non-null  int64  \n",
      " 15  APR MDC Code                      14072 non-null  int64  \n",
      " 16  APR Severity of Illness Code      14072 non-null  int64  \n",
      " 17  APR Risk of Mortality             14072 non-null  int64  \n",
      " 18  APR Medical Surgical Description  14072 non-null  int64  \n",
      " 19  Payment Typology 1                14072 non-null  int64  \n",
      " 20  Birth Weight                      14072 non-null  int64  \n",
      " 21  Abortion Edit Indicator           14072 non-null  int64  \n",
      " 22  Emergency Department Indicator    14072 non-null  int64  \n",
      " 23  Total Charges                     14072 non-null  float64\n",
      " 24  Total Costs                       14072 non-null  float64\n",
      "dtypes: float64(5), int64(20)\n",
      "memory usage: 2.8 MB\n"
     ]
    }
   ],
   "source": [
    "Glens_df.info()"
   ]
  },
  {
   "cell_type": "code",
   "execution_count": 24,
   "id": "a503d50d",
   "metadata": {
    "execution": {
     "iopub.execute_input": "2023-02-21T11:42:14.772214Z",
     "iopub.status.busy": "2023-02-21T11:42:14.771222Z",
     "iopub.status.idle": "2023-02-21T11:42:14.780347Z",
     "shell.execute_reply": "2023-02-21T11:42:14.779682Z"
    },
    "papermill": {
     "duration": 0.06508,
     "end_time": "2023-02-21T11:42:14.782320",
     "exception": false,
     "start_time": "2023-02-21T11:42:14.717240",
     "status": "completed"
    },
    "tags": []
   },
   "outputs": [
    {
     "data": {
      "text/plain": [
       "Hospital County                     0\n",
       "Operating Certificate Number        0\n",
       "Facility Id                         0\n",
       "Age Group                           0\n",
       "Zip Code - 3 digits                 0\n",
       "Gender                              0\n",
       "Race                                0\n",
       "Ethnicity                           0\n",
       "Length of Stay                      3\n",
       "Type of Admission                   0\n",
       "Patient Disposition                 0\n",
       "Discharge Year                      0\n",
       "CCS Diagnosis Code                  0\n",
       "CCS Procedure Code                  0\n",
       "APR DRG Code                        0\n",
       "APR MDC Code                        0\n",
       "APR Severity of Illness Code        0\n",
       "APR Risk of Mortality               0\n",
       "APR Medical Surgical Description    0\n",
       "Payment Typology 1                  0\n",
       "Birth Weight                        0\n",
       "Abortion Edit Indicator             0\n",
       "Emergency Department Indicator      0\n",
       "Total Charges                       0\n",
       "Total Costs                         0\n",
       "dtype: int64"
      ]
     },
     "execution_count": 24,
     "metadata": {},
     "output_type": "execute_result"
    }
   ],
   "source": [
    "Glens_df.isnull().sum()"
   ]
  },
  {
   "cell_type": "code",
   "execution_count": 25,
   "id": "90c91ba2",
   "metadata": {
    "execution": {
     "iopub.execute_input": "2023-02-21T11:42:14.889803Z",
     "iopub.status.busy": "2023-02-21T11:42:14.889025Z",
     "iopub.status.idle": "2023-02-21T11:42:14.899171Z",
     "shell.execute_reply": "2023-02-21T11:42:14.898481Z"
    },
    "papermill": {
     "duration": 0.066494,
     "end_time": "2023-02-21T11:42:14.901324",
     "exception": false,
     "start_time": "2023-02-21T11:42:14.834830",
     "status": "completed"
    },
    "tags": []
   },
   "outputs": [],
   "source": [
    "Glens_df.dropna(inplace=True)"
   ]
  },
  {
   "cell_type": "code",
   "execution_count": 26,
   "id": "8da9ddba",
   "metadata": {
    "execution": {
     "iopub.execute_input": "2023-02-21T11:42:15.066219Z",
     "iopub.status.busy": "2023-02-21T11:42:15.065086Z",
     "iopub.status.idle": "2023-02-21T11:42:15.071771Z",
     "shell.execute_reply": "2023-02-21T11:42:15.071041Z"
    },
    "papermill": {
     "duration": 0.063566,
     "end_time": "2023-02-21T11:42:15.073683",
     "exception": false,
     "start_time": "2023-02-21T11:42:15.010117",
     "status": "completed"
    },
    "tags": []
   },
   "outputs": [],
   "source": [
    "x = Glens_df.drop([\"Length of Stay\"], axis =1)\n",
    "y = Glens_df[\"Length of Stay\"]"
   ]
  },
  {
   "cell_type": "code",
   "execution_count": 27,
   "id": "a4e00851",
   "metadata": {
    "execution": {
     "iopub.execute_input": "2023-02-21T11:42:15.181377Z",
     "iopub.status.busy": "2023-02-21T11:42:15.180212Z",
     "iopub.status.idle": "2023-02-21T11:42:15.193225Z",
     "shell.execute_reply": "2023-02-21T11:42:15.191889Z"
    },
    "papermill": {
     "duration": 0.067569,
     "end_time": "2023-02-21T11:42:15.195048",
     "exception": false,
     "start_time": "2023-02-21T11:42:15.127479",
     "status": "completed"
    },
    "tags": []
   },
   "outputs": [
    {
     "name": "stdout",
     "output_type": "stream",
     "text": [
      "<class 'pandas.core.frame.DataFrame'>\n",
      "Int64Index: 14069 entries, 628756 to 664930\n",
      "Data columns (total 24 columns):\n",
      " #   Column                            Non-Null Count  Dtype  \n",
      "---  ------                            --------------  -----  \n",
      " 0   Hospital County                   14069 non-null  int64  \n",
      " 1   Operating Certificate Number      14069 non-null  float64\n",
      " 2   Facility Id                       14069 non-null  float64\n",
      " 3   Age Group                         14069 non-null  int64  \n",
      " 4   Zip Code - 3 digits               14069 non-null  int64  \n",
      " 5   Gender                            14069 non-null  int64  \n",
      " 6   Race                              14069 non-null  int64  \n",
      " 7   Ethnicity                         14069 non-null  int64  \n",
      " 8   Type of Admission                 14069 non-null  int64  \n",
      " 9   Patient Disposition               14069 non-null  int64  \n",
      " 10  Discharge Year                    14069 non-null  int64  \n",
      " 11  CCS Diagnosis Code                14069 non-null  int64  \n",
      " 12  CCS Procedure Code                14069 non-null  int64  \n",
      " 13  APR DRG Code                      14069 non-null  int64  \n",
      " 14  APR MDC Code                      14069 non-null  int64  \n",
      " 15  APR Severity of Illness Code      14069 non-null  int64  \n",
      " 16  APR Risk of Mortality             14069 non-null  int64  \n",
      " 17  APR Medical Surgical Description  14069 non-null  int64  \n",
      " 18  Payment Typology 1                14069 non-null  int64  \n",
      " 19  Birth Weight                      14069 non-null  int64  \n",
      " 20  Abortion Edit Indicator           14069 non-null  int64  \n",
      " 21  Emergency Department Indicator    14069 non-null  int64  \n",
      " 22  Total Charges                     14069 non-null  float64\n",
      " 23  Total Costs                       14069 non-null  float64\n",
      "dtypes: float64(4), int64(20)\n",
      "memory usage: 2.7 MB\n"
     ]
    }
   ],
   "source": [
    "x.info()"
   ]
  },
  {
   "cell_type": "code",
   "execution_count": 28,
   "id": "58b4eaea",
   "metadata": {
    "execution": {
     "iopub.execute_input": "2023-02-21T11:42:15.300103Z",
     "iopub.status.busy": "2023-02-21T11:42:15.299186Z",
     "iopub.status.idle": "2023-02-21T11:42:15.306935Z",
     "shell.execute_reply": "2023-02-21T11:42:15.305975Z"
    },
    "papermill": {
     "duration": 0.061916,
     "end_time": "2023-02-21T11:42:15.308655",
     "exception": false,
     "start_time": "2023-02-21T11:42:15.246739",
     "status": "completed"
    },
    "tags": []
   },
   "outputs": [
    {
     "data": {
      "text/plain": [
       "628756    5.0\n",
       "628825    4.0\n",
       "629035    2.0\n",
       "629070    1.0\n",
       "629175    6.0\n",
       "         ... \n",
       "664926    1.0\n",
       "664927    1.0\n",
       "664928    1.0\n",
       "664929    1.0\n",
       "664930    1.0\n",
       "Name: Length of Stay, Length: 14069, dtype: float64"
      ]
     },
     "execution_count": 28,
     "metadata": {},
     "output_type": "execute_result"
    }
   ],
   "source": [
    "y"
   ]
  },
  {
   "cell_type": "code",
   "execution_count": 29,
   "id": "c0140d1a",
   "metadata": {
    "execution": {
     "iopub.execute_input": "2023-02-21T11:42:15.414691Z",
     "iopub.status.busy": "2023-02-21T11:42:15.414073Z",
     "iopub.status.idle": "2023-02-21T11:42:15.484360Z",
     "shell.execute_reply": "2023-02-21T11:42:15.483131Z"
    },
    "papermill": {
     "duration": 0.126553,
     "end_time": "2023-02-21T11:42:15.487163",
     "exception": false,
     "start_time": "2023-02-21T11:42:15.360610",
     "status": "completed"
    },
    "tags": []
   },
   "outputs": [],
   "source": [
    "from sklearn.model_selection import train_test_split\n",
    "x_train, x_test, y_train, y_test = train_test_split(x, y, test_size=0.3, random_state=42)"
   ]
  },
  {
   "cell_type": "code",
   "execution_count": 30,
   "id": "96b69187",
   "metadata": {
    "execution": {
     "iopub.execute_input": "2023-02-21T11:42:15.594710Z",
     "iopub.status.busy": "2023-02-21T11:42:15.594322Z",
     "iopub.status.idle": "2023-02-21T11:42:15.799025Z",
     "shell.execute_reply": "2023-02-21T11:42:15.797800Z"
    },
    "papermill": {
     "duration": 0.261082,
     "end_time": "2023-02-21T11:42:15.801314",
     "exception": false,
     "start_time": "2023-02-21T11:42:15.540232",
     "status": "completed"
    },
    "tags": []
   },
   "outputs": [],
   "source": [
    "from sklearn.metrics import r2_score\n",
    "from sklearn.metrics import mean_absolute_error\n",
    "from sklearn.metrics import mean_squared_error\n",
    "from sklearn.linear_model import LinearRegression\n",
    "from sklearn import linear_model\n",
    "from sklearn.linear_model import Ridge\n",
    "from sklearn.tree import DecisionTreeRegressor\n",
    "from sklearn.ensemble import RandomForestRegressor\n",
    "from sklearn.pipeline import make_pipeline\n",
    "from sklearn.preprocessing import StandardScaler\n",
    "import numpy as np\n",
    "from sklearn.svm import SVR"
   ]
  },
  {
   "cell_type": "code",
   "execution_count": 31,
   "id": "7b0ffc2f",
   "metadata": {
    "execution": {
     "iopub.execute_input": "2023-02-21T11:42:15.908387Z",
     "iopub.status.busy": "2023-02-21T11:42:15.907286Z",
     "iopub.status.idle": "2023-02-21T11:42:15.912482Z",
     "shell.execute_reply": "2023-02-21T11:42:15.911587Z"
    },
    "papermill": {
     "duration": 0.061322,
     "end_time": "2023-02-21T11:42:15.914625",
     "exception": false,
     "start_time": "2023-02-21T11:42:15.853303",
     "status": "completed"
    },
    "tags": []
   },
   "outputs": [],
   "source": [
    "# Linear Regression\n",
    "#LR = LinearRegression()\n",
    "#LR.fit(x_train, y_train)"
   ]
  },
  {
   "cell_type": "code",
   "execution_count": 32,
   "id": "f5c96cd0",
   "metadata": {
    "execution": {
     "iopub.execute_input": "2023-02-21T11:42:16.021058Z",
     "iopub.status.busy": "2023-02-21T11:42:16.020514Z",
     "iopub.status.idle": "2023-02-21T11:42:16.051997Z",
     "shell.execute_reply": "2023-02-21T11:42:16.051142Z"
    },
    "papermill": {
     "duration": 0.087926,
     "end_time": "2023-02-21T11:42:16.054546",
     "exception": false,
     "start_time": "2023-02-21T11:42:15.966620",
     "status": "completed"
    },
    "tags": []
   },
   "outputs": [],
   "source": [
    "# Linear Regression\n",
    "\n",
    "LR = LinearRegression()\n",
    "LR.fit(x_train, y_train)\n",
    "LR.score(x_train, y_train)\n",
    "y_pred =LR.predict(x_test)"
   ]
  },
  {
   "cell_type": "code",
   "execution_count": 33,
   "id": "bbcbe026",
   "metadata": {
    "execution": {
     "iopub.execute_input": "2023-02-21T11:42:16.188830Z",
     "iopub.status.busy": "2023-02-21T11:42:16.188468Z",
     "iopub.status.idle": "2023-02-21T11:42:16.197702Z",
     "shell.execute_reply": "2023-02-21T11:42:16.196760Z"
    },
    "papermill": {
     "duration": 0.07724,
     "end_time": "2023-02-21T11:42:16.199954",
     "exception": false,
     "start_time": "2023-02-21T11:42:16.122714",
     "status": "completed"
    },
    "tags": []
   },
   "outputs": [
    {
     "data": {
      "text/plain": [
       "0.7753107229320534"
      ]
     },
     "execution_count": 33,
     "metadata": {},
     "output_type": "execute_result"
    }
   ],
   "source": [
    "r2 = r2_score(y_test, y_pred)\n",
    "r2 \n"
   ]
  },
  {
   "cell_type": "code",
   "execution_count": 34,
   "id": "be89acfc",
   "metadata": {
    "execution": {
     "iopub.execute_input": "2023-02-21T11:42:16.307458Z",
     "iopub.status.busy": "2023-02-21T11:42:16.307076Z",
     "iopub.status.idle": "2023-02-21T11:42:16.311508Z",
     "shell.execute_reply": "2023-02-21T11:42:16.310712Z"
    },
    "papermill": {
     "duration": 0.059003,
     "end_time": "2023-02-21T11:42:16.313198",
     "exception": false,
     "start_time": "2023-02-21T11:42:16.254195",
     "status": "completed"
    },
    "tags": []
   },
   "outputs": [],
   "source": [
    "# calculate the MAE of the model\n",
    "mae = mean_absolute_error(y_test, y_pred)"
   ]
  },
  {
   "cell_type": "code",
   "execution_count": 35,
   "id": "9a5736c5",
   "metadata": {
    "execution": {
     "iopub.execute_input": "2023-02-21T11:42:16.422268Z",
     "iopub.status.busy": "2023-02-21T11:42:16.421916Z",
     "iopub.status.idle": "2023-02-21T11:42:16.427188Z",
     "shell.execute_reply": "2023-02-21T11:42:16.426613Z"
    },
    "papermill": {
     "duration": 0.062345,
     "end_time": "2023-02-21T11:42:16.429095",
     "exception": false,
     "start_time": "2023-02-21T11:42:16.366750",
     "status": "completed"
    },
    "tags": []
   },
   "outputs": [
    {
     "data": {
      "text/plain": [
       "1.519038644423741"
      ]
     },
     "execution_count": 35,
     "metadata": {},
     "output_type": "execute_result"
    }
   ],
   "source": [
    "mae"
   ]
  },
  {
   "cell_type": "code",
   "execution_count": 36,
   "id": "63d5e095",
   "metadata": {
    "execution": {
     "iopub.execute_input": "2023-02-21T11:42:16.537900Z",
     "iopub.status.busy": "2023-02-21T11:42:16.536944Z",
     "iopub.status.idle": "2023-02-21T11:42:16.543564Z",
     "shell.execute_reply": "2023-02-21T11:42:16.542722Z"
    },
    "papermill": {
     "duration": 0.062933,
     "end_time": "2023-02-21T11:42:16.545168",
     "exception": false,
     "start_time": "2023-02-21T11:42:16.482235",
     "status": "completed"
    },
    "tags": []
   },
   "outputs": [
    {
     "data": {
      "text/plain": [
       "8.394303923962779"
      ]
     },
     "execution_count": 36,
     "metadata": {},
     "output_type": "execute_result"
    }
   ],
   "source": [
    "# calculate the MSE of the model\n",
    "mse = mean_squared_error(y_test, y_pred)\n",
    "mse"
   ]
  },
  {
   "cell_type": "code",
   "execution_count": 37,
   "id": "64e7a448",
   "metadata": {
    "execution": {
     "iopub.execute_input": "2023-02-21T11:42:16.652826Z",
     "iopub.status.busy": "2023-02-21T11:42:16.652460Z",
     "iopub.status.idle": "2023-02-21T11:42:16.658796Z",
     "shell.execute_reply": "2023-02-21T11:42:16.657476Z"
    },
    "papermill": {
     "duration": 0.063433,
     "end_time": "2023-02-21T11:42:16.661470",
     "exception": false,
     "start_time": "2023-02-21T11:42:16.598037",
     "status": "completed"
    },
    "tags": []
   },
   "outputs": [
    {
     "data": {
      "text/plain": [
       "2.8972925161196237"
      ]
     },
     "execution_count": 37,
     "metadata": {},
     "output_type": "execute_result"
    }
   ],
   "source": [
    "# calculate the RMSE of the model\n",
    "rmse = np.sqrt(mse)\n",
    "rmse"
   ]
  },
  {
   "cell_type": "code",
   "execution_count": 38,
   "id": "04e61c4c",
   "metadata": {
    "execution": {
     "iopub.execute_input": "2023-02-21T11:42:16.769970Z",
     "iopub.status.busy": "2023-02-21T11:42:16.769585Z",
     "iopub.status.idle": "2023-02-21T11:42:16.842064Z",
     "shell.execute_reply": "2023-02-21T11:42:16.841112Z"
    },
    "papermill": {
     "duration": 0.129115,
     "end_time": "2023-02-21T11:42:16.844305",
     "exception": false,
     "start_time": "2023-02-21T11:42:16.715190",
     "status": "completed"
    },
    "tags": []
   },
   "outputs": [],
   "source": [
    "# LASSO\n",
    "L1 = linear_model.Lasso()\n",
    "L1.fit(x_train,y_train)\n",
    "y_pred1 = L1.predict(x_test)"
   ]
  },
  {
   "cell_type": "code",
   "execution_count": 39,
   "id": "7dea97b3",
   "metadata": {
    "execution": {
     "iopub.execute_input": "2023-02-21T11:42:16.997007Z",
     "iopub.status.busy": "2023-02-21T11:42:16.996617Z",
     "iopub.status.idle": "2023-02-21T11:42:17.003219Z",
     "shell.execute_reply": "2023-02-21T11:42:17.002389Z"
    },
    "papermill": {
     "duration": 0.070629,
     "end_time": "2023-02-21T11:42:17.004952",
     "exception": false,
     "start_time": "2023-02-21T11:42:16.934323",
     "status": "completed"
    },
    "tags": []
   },
   "outputs": [
    {
     "data": {
      "text/plain": [
       "0.7507020198871027"
      ]
     },
     "execution_count": 39,
     "metadata": {},
     "output_type": "execute_result"
    }
   ],
   "source": [
    "r2 = r2_score(y_test, y_pred1)\n",
    "r2 \n"
   ]
  },
  {
   "cell_type": "code",
   "execution_count": 40,
   "id": "42711316",
   "metadata": {
    "execution": {
     "iopub.execute_input": "2023-02-21T11:42:17.113825Z",
     "iopub.status.busy": "2023-02-21T11:42:17.112652Z",
     "iopub.status.idle": "2023-02-21T11:42:17.119513Z",
     "shell.execute_reply": "2023-02-21T11:42:17.118794Z"
    },
    "papermill": {
     "duration": 0.062918,
     "end_time": "2023-02-21T11:42:17.121288",
     "exception": false,
     "start_time": "2023-02-21T11:42:17.058370",
     "status": "completed"
    },
    "tags": []
   },
   "outputs": [
    {
     "data": {
      "text/plain": [
       "1.5980824331021113"
      ]
     },
     "execution_count": 40,
     "metadata": {},
     "output_type": "execute_result"
    }
   ],
   "source": [
    "# calculate the MAE of the model\n",
    "mae = mean_absolute_error(y_test, y_pred1)\n",
    "mae"
   ]
  },
  {
   "cell_type": "code",
   "execution_count": 41,
   "id": "9879bce9",
   "metadata": {
    "execution": {
     "iopub.execute_input": "2023-02-21T11:42:17.230135Z",
     "iopub.status.busy": "2023-02-21T11:42:17.229137Z",
     "iopub.status.idle": "2023-02-21T11:42:17.236262Z",
     "shell.execute_reply": "2023-02-21T11:42:17.235451Z"
    },
    "papermill": {
     "duration": 0.063351,
     "end_time": "2023-02-21T11:42:17.237979",
     "exception": false,
     "start_time": "2023-02-21T11:42:17.174628",
     "status": "completed"
    },
    "tags": []
   },
   "outputs": [
    {
     "data": {
      "text/plain": [
       "9.313675490018403"
      ]
     },
     "execution_count": 41,
     "metadata": {},
     "output_type": "execute_result"
    }
   ],
   "source": [
    "# calculate the MSE of the model\n",
    "mse = mean_squared_error(y_test, y_pred1)\n",
    "mse"
   ]
  },
  {
   "cell_type": "code",
   "execution_count": 42,
   "id": "e192f40f",
   "metadata": {
    "execution": {
     "iopub.execute_input": "2023-02-21T11:42:17.345439Z",
     "iopub.status.busy": "2023-02-21T11:42:17.345074Z",
     "iopub.status.idle": "2023-02-21T11:42:17.352095Z",
     "shell.execute_reply": "2023-02-21T11:42:17.350739Z"
    },
    "papermill": {
     "duration": 0.063004,
     "end_time": "2023-02-21T11:42:17.354077",
     "exception": false,
     "start_time": "2023-02-21T11:42:17.291073",
     "status": "completed"
    },
    "tags": []
   },
   "outputs": [
    {
     "data": {
      "text/plain": [
       "3.0518314976450456"
      ]
     },
     "execution_count": 42,
     "metadata": {},
     "output_type": "execute_result"
    }
   ],
   "source": [
    "# calculate the RMSE of the model\n",
    "rmse = np.sqrt(mse)\n",
    "rmse"
   ]
  },
  {
   "cell_type": "code",
   "execution_count": 43,
   "id": "6d1b94ca",
   "metadata": {
    "execution": {
     "iopub.execute_input": "2023-02-21T11:42:17.463518Z",
     "iopub.status.busy": "2023-02-21T11:42:17.462958Z",
     "iopub.status.idle": "2023-02-21T11:42:17.476480Z",
     "shell.execute_reply": "2023-02-21T11:42:17.475777Z"
    },
    "papermill": {
     "duration": 0.070762,
     "end_time": "2023-02-21T11:42:17.478818",
     "exception": false,
     "start_time": "2023-02-21T11:42:17.408056",
     "status": "completed"
    },
    "tags": []
   },
   "outputs": [],
   "source": [
    "# Ridge\n",
    "L2 = Ridge(alpha=1.0)\n",
    "L2.fit(x_train, y_train) \n",
    "y_pred3 = L2.predict(x_test)"
   ]
  },
  {
   "cell_type": "code",
   "execution_count": 44,
   "id": "83a68419",
   "metadata": {
    "execution": {
     "iopub.execute_input": "2023-02-21T11:42:17.613271Z",
     "iopub.status.busy": "2023-02-21T11:42:17.612917Z",
     "iopub.status.idle": "2023-02-21T11:42:17.620519Z",
     "shell.execute_reply": "2023-02-21T11:42:17.619404Z"
    },
    "papermill": {
     "duration": 0.074932,
     "end_time": "2023-02-21T11:42:17.623051",
     "exception": false,
     "start_time": "2023-02-21T11:42:17.548119",
     "status": "completed"
    },
    "tags": []
   },
   "outputs": [
    {
     "data": {
      "text/plain": [
       "0.7753072003472253"
      ]
     },
     "execution_count": 44,
     "metadata": {},
     "output_type": "execute_result"
    }
   ],
   "source": [
    "r2 = r2_score(y_test, y_pred3)\n",
    "r2 "
   ]
  },
  {
   "cell_type": "code",
   "execution_count": 45,
   "id": "b675c9d2",
   "metadata": {
    "execution": {
     "iopub.execute_input": "2023-02-21T11:42:17.732445Z",
     "iopub.status.busy": "2023-02-21T11:42:17.731913Z",
     "iopub.status.idle": "2023-02-21T11:42:17.738646Z",
     "shell.execute_reply": "2023-02-21T11:42:17.737852Z"
    },
    "papermill": {
     "duration": 0.063486,
     "end_time": "2023-02-21T11:42:17.740407",
     "exception": false,
     "start_time": "2023-02-21T11:42:17.676921",
     "status": "completed"
    },
    "tags": []
   },
   "outputs": [
    {
     "data": {
      "text/plain": [
       "1.5188909684172016"
      ]
     },
     "execution_count": 45,
     "metadata": {},
     "output_type": "execute_result"
    }
   ],
   "source": [
    "# calculate the MAE of the model\n",
    "mae = mean_absolute_error(y_test, y_pred3)\n",
    "mae"
   ]
  },
  {
   "cell_type": "code",
   "execution_count": 46,
   "id": "0450ab8e",
   "metadata": {
    "execution": {
     "iopub.execute_input": "2023-02-21T11:42:17.851110Z",
     "iopub.status.busy": "2023-02-21T11:42:17.850566Z",
     "iopub.status.idle": "2023-02-21T11:42:17.856600Z",
     "shell.execute_reply": "2023-02-21T11:42:17.855826Z"
    },
    "papermill": {
     "duration": 0.064599,
     "end_time": "2023-02-21T11:42:17.858637",
     "exception": false,
     "start_time": "2023-02-21T11:42:17.794038",
     "status": "completed"
    },
    "tags": []
   },
   "outputs": [
    {
     "data": {
      "text/plain": [
       "8.394435526360677"
      ]
     },
     "execution_count": 46,
     "metadata": {},
     "output_type": "execute_result"
    }
   ],
   "source": [
    "# calculate the MSE of the model\n",
    "mse = mean_squared_error(y_test, y_pred3)\n",
    "mse"
   ]
  },
  {
   "cell_type": "code",
   "execution_count": 47,
   "id": "866aea0c",
   "metadata": {
    "execution": {
     "iopub.execute_input": "2023-02-21T11:42:17.969281Z",
     "iopub.status.busy": "2023-02-21T11:42:17.968890Z",
     "iopub.status.idle": "2023-02-21T11:42:17.975358Z",
     "shell.execute_reply": "2023-02-21T11:42:17.974487Z"
    },
    "papermill": {
     "duration": 0.063648,
     "end_time": "2023-02-21T11:42:17.977290",
     "exception": false,
     "start_time": "2023-02-21T11:42:17.913642",
     "status": "completed"
    },
    "tags": []
   },
   "outputs": [
    {
     "data": {
      "text/plain": [
       "2.8973152273028004"
      ]
     },
     "execution_count": 47,
     "metadata": {},
     "output_type": "execute_result"
    }
   ],
   "source": [
    "# calculate the RMSE of the model\n",
    "rmse = np.sqrt(mse)\n",
    "rmse"
   ]
  },
  {
   "cell_type": "markdown",
   "id": "63734881",
   "metadata": {
    "papermill": {
     "duration": 0.053725,
     "end_time": "2023-02-21T11:42:18.085579",
     "exception": false,
     "start_time": "2023-02-21T11:42:18.031854",
     "status": "completed"
    },
    "tags": []
   },
   "source": [
    "Client 7 : The Burdett Care Center"
   ]
  },
  {
   "cell_type": "code",
   "execution_count": 48,
   "id": "f949fb7e",
   "metadata": {
    "execution": {
     "iopub.execute_input": "2023-02-21T11:42:18.196185Z",
     "iopub.status.busy": "2023-02-21T11:42:18.195634Z",
     "iopub.status.idle": "2023-02-21T11:42:18.333096Z",
     "shell.execute_reply": "2023-02-21T11:42:18.332146Z"
    },
    "papermill": {
     "duration": 0.195255,
     "end_time": "2023-02-21T11:42:18.335312",
     "exception": false,
     "start_time": "2023-02-21T11:42:18.140057",
     "status": "completed"
    },
    "tags": []
   },
   "outputs": [],
   "source": [
    "Burdett_df=df[df[\"Facility Name\"]== 'The Burdett Care Center']"
   ]
  },
  {
   "cell_type": "code",
   "execution_count": 49,
   "id": "09265009",
   "metadata": {
    "execution": {
     "iopub.execute_input": "2023-02-21T11:42:18.444513Z",
     "iopub.status.busy": "2023-02-21T11:42:18.444171Z",
     "iopub.status.idle": "2023-02-21T11:42:18.462629Z",
     "shell.execute_reply": "2023-02-21T11:42:18.461279Z"
    },
    "papermill": {
     "duration": 0.075111,
     "end_time": "2023-02-21T11:42:18.464409",
     "exception": false,
     "start_time": "2023-02-21T11:42:18.389298",
     "status": "completed"
    },
    "tags": []
   },
   "outputs": [
    {
     "name": "stdout",
     "output_type": "stream",
     "text": [
      "<class 'pandas.core.frame.DataFrame'>\n",
      "Int64Index: 2007 entries, 664931 to 666956\n",
      "Data columns (total 28 columns):\n",
      " #   Column                            Non-Null Count  Dtype   \n",
      "---  ------                            --------------  -----   \n",
      " 0   Hospital County                   2007 non-null   category\n",
      " 1   Operating Certificate Number      2007 non-null   float64 \n",
      " 2   Facility Id                       2007 non-null   float64 \n",
      " 3   Facility Name                     2007 non-null   object  \n",
      " 4   Age Group                         2007 non-null   category\n",
      " 5   Zip Code - 3 digits               1990 non-null   category\n",
      " 6   Gender                            2007 non-null   category\n",
      " 7   Race                              2007 non-null   category\n",
      " 8   Ethnicity                         2007 non-null   category\n",
      " 9   Length of Stay                    2007 non-null   category\n",
      " 10  Type of Admission                 2007 non-null   category\n",
      " 11  Patient Disposition               2007 non-null   category\n",
      " 12  Discharge Year                    2007 non-null   int64   \n",
      " 13  CCS Diagnosis Code                2007 non-null   int64   \n",
      " 14  CCS Procedure Code                2007 non-null   int64   \n",
      " 15  APR DRG Code                      2007 non-null   int64   \n",
      " 16  APR MDC Code                      2007 non-null   int64   \n",
      " 17  APR Severity of Illness Code      2007 non-null   int64   \n",
      " 18  APR Risk of Mortality             2007 non-null   category\n",
      " 19  APR Medical Surgical Description  2007 non-null   category\n",
      " 20  Payment Typology 1                2007 non-null   category\n",
      " 21  Payment Typology 2                2007 non-null   category\n",
      " 22  Payment Typology 3                2007 non-null   category\n",
      " 23  Birth Weight                      2007 non-null   int64   \n",
      " 24  Abortion Edit Indicator           2007 non-null   category\n",
      " 25  Emergency Department Indicator    2007 non-null   category\n",
      " 26  Total Charges                     2007 non-null   float64 \n",
      " 27  Total Costs                       2007 non-null   float64 \n",
      "dtypes: category(16), float64(4), int64(7), object(1)\n",
      "memory usage: 255.3+ KB\n"
     ]
    }
   ],
   "source": [
    "Burdett_df.info()"
   ]
  },
  {
   "cell_type": "code",
   "execution_count": 50,
   "id": "4179fa9b",
   "metadata": {
    "execution": {
     "iopub.execute_input": "2023-02-21T11:42:18.572822Z",
     "iopub.status.busy": "2023-02-21T11:42:18.572176Z",
     "iopub.status.idle": "2023-02-21T11:42:18.609439Z",
     "shell.execute_reply": "2023-02-21T11:42:18.607937Z"
    },
    "papermill": {
     "duration": 0.09543,
     "end_time": "2023-02-21T11:42:18.612692",
     "exception": false,
     "start_time": "2023-02-21T11:42:18.517262",
     "status": "completed"
    },
    "tags": []
   },
   "outputs": [
    {
     "name": "stdout",
     "output_type": "stream",
     "text": [
      "Hospital County : 1\n",
      "Rensselaer    2007\n",
      "Albany           0\n",
      "Niagara          0\n",
      "Onondaga         0\n",
      "Ontario          0\n",
      "Name: Hospital County, dtype: int64\n",
      "\n",
      "********************\n",
      "\n",
      "Operating Certificate Number : 1\n",
      "4102004.0    2007\n",
      "Name: Operating Certificate Number, dtype: int64\n",
      "\n",
      "********************\n",
      "\n",
      "Facility Id : 1\n",
      "9250.0    2007\n",
      "Name: Facility Id, dtype: int64\n",
      "\n",
      "********************\n",
      "\n",
      "Facility Name : 1\n",
      "The Burdett Care Center    2007\n",
      "Name: Facility Name, dtype: int64\n",
      "\n",
      "********************\n",
      "\n",
      "Age Group : 3\n",
      "0 to 17        997\n",
      "18 to 29       623\n",
      "30 to 49       387\n",
      "50 to 69         0\n",
      "70 or Older      0\n",
      "Name: Age Group, dtype: int64\n",
      "\n",
      "********************\n",
      "\n",
      "Zip Code - 3 digits : 7\n",
      "121    1309\n",
      "120     466\n",
      "122     110\n",
      "123      50\n",
      "128      45\n",
      "Name: Zip Code - 3 digits, dtype: int64\n",
      "\n",
      "********************\n",
      "\n",
      "Gender : 2\n",
      "F    1498\n",
      "M     509\n",
      "U       0\n",
      "Name: Gender, dtype: int64\n",
      "\n",
      "********************\n",
      "\n",
      "Race : 3\n",
      "White                     1376\n",
      "Other Race                 396\n",
      "Black/African American     235\n",
      "Multi-racial                 0\n",
      "Name: Race, dtype: int64\n",
      "\n",
      "********************\n",
      "\n",
      "Ethnicity : 2\n",
      "Not Span/Hispanic    1922\n",
      "Spanish/Hispanic       85\n",
      "Multi-ethnic            0\n",
      "Unknown                 0\n",
      "Name: Ethnicity, dtype: int64\n",
      "\n",
      "********************\n",
      "\n",
      "Length of Stay : 7\n",
      "2    994\n",
      "3    456\n",
      "1    386\n",
      "4    119\n",
      "5     38\n",
      "Name: Length of Stay, dtype: int64\n",
      "\n",
      "********************\n",
      "\n",
      "Type of Admission : 4\n",
      "Newborn          985\n",
      "Elective         710\n",
      "Urgent           286\n",
      "Emergency         26\n",
      "Not Available      0\n",
      "Name: Type of Admission, dtype: int64\n",
      "\n",
      "********************\n",
      "\n",
      "Patient Disposition : 4\n",
      "Home or Self Care              1963\n",
      "Short-term Hospital              42\n",
      "Expired                           1\n",
      "Left Against Medical Advice       1\n",
      "Another Type Not Listed           0\n",
      "Name: Patient Disposition, dtype: int64\n",
      "\n",
      "********************\n",
      "\n",
      "Discharge Year : 1\n",
      "2015    2007\n",
      "Name: Discharge Year, dtype: int64\n",
      "\n",
      "********************\n",
      "\n",
      "CCS Diagnosis Code : 18\n",
      "218    985\n",
      "195    184\n",
      "191    111\n",
      "185    108\n",
      "192    104\n",
      "Name: CCS Diagnosis Code, dtype: int64\n",
      "\n",
      "********************\n",
      "\n",
      "CCS Procedure Code : 29\n",
      "228    455\n",
      "115    365\n",
      "134    243\n",
      "231    198\n",
      "0      191\n",
      "Name: CCS Procedure Code, dtype: int64\n",
      "\n",
      "********************\n",
      "\n",
      "APR DRG Code : 19\n",
      "640    892\n",
      "560    723\n",
      "540    244\n",
      "581     36\n",
      "626     22\n",
      "Name: APR DRG Code, dtype: int64\n",
      "\n",
      "********************\n",
      "\n",
      "APR MDC Code : 2\n",
      "14    1019\n",
      "15     988\n",
      "Name: APR MDC Code, dtype: int64\n",
      "\n",
      "********************\n",
      "\n",
      "APR Severity of Illness Code : 4\n",
      "1    1372\n",
      "2     559\n",
      "3      74\n",
      "4       2\n",
      "Name: APR Severity of Illness Code, dtype: int64\n",
      "\n",
      "********************\n",
      "\n",
      "APR Risk of Mortality : 4\n",
      "Minor       1995\n",
      "Moderate      10\n",
      "Extreme        1\n",
      "Major          1\n",
      "Name: APR Risk of Mortality, dtype: int64\n",
      "\n",
      "********************\n",
      "\n",
      "APR Medical Surgical Description : 2\n",
      "Medical           1737\n",
      "Surgical           270\n",
      "Not Applicable       0\n",
      "Name: APR Medical Surgical Description, dtype: int64\n",
      "\n",
      "********************\n",
      "\n",
      "Payment Typology 1 : 6\n",
      "Medicaid                    1059\n",
      "Private Health Insurance     549\n",
      "Blue Cross/Blue Shield       289\n",
      "Self-Pay                      52\n",
      "Federal/State/Local/VA        46\n",
      "Name: Payment Typology 1, dtype: int64\n",
      "\n",
      "********************\n",
      "\n",
      "Payment Typology 2 : 6\n",
      "Self-Pay                    1932\n",
      "Medicaid                      61\n",
      "Private Health Insurance       9\n",
      "Blue Cross/Blue Shield         3\n",
      "Medicare                       1\n",
      "Name: Payment Typology 2, dtype: int64\n",
      "\n",
      "********************\n",
      "\n",
      "Payment Typology 3 : 2\n",
      "Self-Pay                     2006\n",
      "Medicaid                        1\n",
      "Blue Cross/Blue Shield          0\n",
      "Department of Corrections       0\n",
      "Federal/State/Local/VA          0\n",
      "Name: Payment Typology 3, dtype: int64\n",
      "\n",
      "********************\n",
      "\n",
      "Birth Weight : 41\n",
      "0       1019\n",
      "3100      85\n",
      "3200      78\n",
      "3300      75\n",
      "3000      74\n",
      "Name: Birth Weight, dtype: int64\n",
      "\n",
      "********************\n",
      "\n",
      "Abortion Edit Indicator : 1\n",
      "N    2007\n",
      "Y       0\n",
      "Name: Abortion Edit Indicator, dtype: int64\n",
      "\n",
      "********************\n",
      "\n",
      "Emergency Department Indicator : 1\n",
      "N    2007\n",
      "Y       0\n",
      "Name: Emergency Department Indicator, dtype: int64\n",
      "\n",
      "********************\n",
      "\n",
      "Total Charges : 1619\n",
      "3356.7    25\n",
      "3035.7    24\n",
      "1757.7    23\n",
      "3060.7    22\n",
      "3185.7    21\n",
      "Name: Total Charges, dtype: int64\n",
      "\n",
      "********************\n",
      "\n",
      "Total Costs : 1637\n",
      "1801.48    24\n",
      "1012.78    23\n",
      "1816.91    22\n",
      "1975.28    21\n",
      "1869.75    20\n",
      "Name: Total Costs, dtype: int64\n",
      "\n",
      "********************\n",
      "\n"
     ]
    }
   ],
   "source": [
    "for col in Burdett_df.columns:\n",
    "    print( col,':', Burdett_df[col].nunique() )#Num of unique values\n",
    "    print(Burdett_df[col].value_counts().nlargest(5)) #Most 5 frequent values\n",
    "    print('\\n' + '*' * 20 + '\\n')"
   ]
  },
  {
   "cell_type": "code",
   "execution_count": 51,
   "id": "fc3056fa",
   "metadata": {
    "execution": {
     "iopub.execute_input": "2023-02-21T11:42:18.723095Z",
     "iopub.status.busy": "2023-02-21T11:42:18.722745Z",
     "iopub.status.idle": "2023-02-21T11:42:18.730384Z",
     "shell.execute_reply": "2023-02-21T11:42:18.729159Z"
    },
    "papermill": {
     "duration": 0.065576,
     "end_time": "2023-02-21T11:42:18.732439",
     "exception": false,
     "start_time": "2023-02-21T11:42:18.666863",
     "status": "completed"
    },
    "tags": []
   },
   "outputs": [
    {
     "name": "stderr",
     "output_type": "stream",
     "text": [
      "/opt/conda/lib/python3.7/site-packages/ipykernel_launcher.py:3: SettingWithCopyWarning: \n",
      "A value is trying to be set on a copy of a slice from a DataFrame.\n",
      "Try using .loc[row_indexer,col_indexer] = value instead\n",
      "\n",
      "See the caveats in the documentation: https://pandas.pydata.org/pandas-docs/stable/user_guide/indexing.html#returning-a-view-versus-a-copy\n",
      "  This is separate from the ipykernel package so we can avoid doing imports until\n",
      "/opt/conda/lib/python3.7/site-packages/ipykernel_launcher.py:5: SettingWithCopyWarning: \n",
      "A value is trying to be set on a copy of a slice from a DataFrame.\n",
      "Try using .loc[row_indexer,col_indexer] = value instead\n",
      "\n",
      "See the caveats in the documentation: https://pandas.pydata.org/pandas-docs/stable/user_guide/indexing.html#returning-a-view-versus-a-copy\n",
      "  \"\"\"\n"
     ]
    }
   ],
   "source": [
    " #   simple mapping on binary features.\n",
    "Burdett_df['Abortion Edit Indicator'] = Burdett_df['Abortion Edit Indicator'].apply(\n",
    "     lambda x: 1 if x == 'Y' else (0 if x == 'N' else None))\n",
    "Burdett_df['Emergency Department Indicator'] = Burdett_df['Emergency Department Indicator'].apply(\n",
    "    lambda x: 1 if x == 'Y' else (0 if x == 'N' else None))"
   ]
  },
  {
   "cell_type": "code",
   "execution_count": 52,
   "id": "aca74650",
   "metadata": {
    "execution": {
     "iopub.execute_input": "2023-02-21T11:42:18.843443Z",
     "iopub.status.busy": "2023-02-21T11:42:18.842192Z",
     "iopub.status.idle": "2023-02-21T11:42:18.867485Z",
     "shell.execute_reply": "2023-02-21T11:42:18.866457Z"
    },
    "papermill": {
     "duration": 0.083246,
     "end_time": "2023-02-21T11:42:18.870056",
     "exception": false,
     "start_time": "2023-02-21T11:42:18.786810",
     "status": "completed"
    },
    "tags": []
   },
   "outputs": [
    {
     "data": {
      "text/html": [
       "<div>\n",
       "<style scoped>\n",
       "    .dataframe tbody tr th:only-of-type {\n",
       "        vertical-align: middle;\n",
       "    }\n",
       "\n",
       "    .dataframe tbody tr th {\n",
       "        vertical-align: top;\n",
       "    }\n",
       "\n",
       "    .dataframe thead th {\n",
       "        text-align: right;\n",
       "    }\n",
       "</style>\n",
       "<table border=\"1\" class=\"dataframe\">\n",
       "  <thead>\n",
       "    <tr style=\"text-align: right;\">\n",
       "      <th></th>\n",
       "      <th>Hospital County</th>\n",
       "      <th>Operating Certificate Number</th>\n",
       "      <th>Facility Id</th>\n",
       "      <th>Facility Name</th>\n",
       "      <th>Age Group</th>\n",
       "      <th>Zip Code - 3 digits</th>\n",
       "      <th>Gender</th>\n",
       "      <th>Race</th>\n",
       "      <th>Ethnicity</th>\n",
       "      <th>Length of Stay</th>\n",
       "      <th>...</th>\n",
       "      <th>APR Risk of Mortality</th>\n",
       "      <th>APR Medical Surgical Description</th>\n",
       "      <th>Payment Typology 1</th>\n",
       "      <th>Payment Typology 2</th>\n",
       "      <th>Payment Typology 3</th>\n",
       "      <th>Birth Weight</th>\n",
       "      <th>Abortion Edit Indicator</th>\n",
       "      <th>Emergency Department Indicator</th>\n",
       "      <th>Total Charges</th>\n",
       "      <th>Total Costs</th>\n",
       "    </tr>\n",
       "  </thead>\n",
       "  <tbody>\n",
       "    <tr>\n",
       "      <th>664931</th>\n",
       "      <td>Rensselaer</td>\n",
       "      <td>4102004.0</td>\n",
       "      <td>9250.0</td>\n",
       "      <td>The Burdett Care Center</td>\n",
       "      <td>30 to 49</td>\n",
       "      <td>121</td>\n",
       "      <td>F</td>\n",
       "      <td>White</td>\n",
       "      <td>Not Span/Hispanic</td>\n",
       "      <td>3</td>\n",
       "      <td>...</td>\n",
       "      <td>Minor</td>\n",
       "      <td>Surgical</td>\n",
       "      <td>Private Health Insurance</td>\n",
       "      <td>Self-Pay</td>\n",
       "      <td>Self-Pay</td>\n",
       "      <td>0</td>\n",
       "      <td>0</td>\n",
       "      <td>0</td>\n",
       "      <td>12560.54</td>\n",
       "      <td>7260.24</td>\n",
       "    </tr>\n",
       "    <tr>\n",
       "      <th>664932</th>\n",
       "      <td>Rensselaer</td>\n",
       "      <td>4102004.0</td>\n",
       "      <td>9250.0</td>\n",
       "      <td>The Burdett Care Center</td>\n",
       "      <td>18 to 29</td>\n",
       "      <td>120</td>\n",
       "      <td>F</td>\n",
       "      <td>White</td>\n",
       "      <td>Not Span/Hispanic</td>\n",
       "      <td>2</td>\n",
       "      <td>...</td>\n",
       "      <td>Minor</td>\n",
       "      <td>Medical</td>\n",
       "      <td>Medicaid</td>\n",
       "      <td>Self-Pay</td>\n",
       "      <td>Self-Pay</td>\n",
       "      <td>0</td>\n",
       "      <td>0</td>\n",
       "      <td>0</td>\n",
       "      <td>6672.11</td>\n",
       "      <td>3832.18</td>\n",
       "    </tr>\n",
       "    <tr>\n",
       "      <th>664933</th>\n",
       "      <td>Rensselaer</td>\n",
       "      <td>4102004.0</td>\n",
       "      <td>9250.0</td>\n",
       "      <td>The Burdett Care Center</td>\n",
       "      <td>18 to 29</td>\n",
       "      <td>120</td>\n",
       "      <td>F</td>\n",
       "      <td>White</td>\n",
       "      <td>Not Span/Hispanic</td>\n",
       "      <td>2</td>\n",
       "      <td>...</td>\n",
       "      <td>Minor</td>\n",
       "      <td>Surgical</td>\n",
       "      <td>Medicaid</td>\n",
       "      <td>Self-Pay</td>\n",
       "      <td>Self-Pay</td>\n",
       "      <td>0</td>\n",
       "      <td>0</td>\n",
       "      <td>0</td>\n",
       "      <td>10598.85</td>\n",
       "      <td>5926.81</td>\n",
       "    </tr>\n",
       "    <tr>\n",
       "      <th>664934</th>\n",
       "      <td>Rensselaer</td>\n",
       "      <td>4102004.0</td>\n",
       "      <td>9250.0</td>\n",
       "      <td>The Burdett Care Center</td>\n",
       "      <td>18 to 29</td>\n",
       "      <td>121</td>\n",
       "      <td>F</td>\n",
       "      <td>Black/African American</td>\n",
       "      <td>Not Span/Hispanic</td>\n",
       "      <td>3</td>\n",
       "      <td>...</td>\n",
       "      <td>Minor</td>\n",
       "      <td>Surgical</td>\n",
       "      <td>Blue Cross/Blue Shield</td>\n",
       "      <td>Self-Pay</td>\n",
       "      <td>Self-Pay</td>\n",
       "      <td>0</td>\n",
       "      <td>0</td>\n",
       "      <td>0</td>\n",
       "      <td>17085.67</td>\n",
       "      <td>8402.28</td>\n",
       "    </tr>\n",
       "    <tr>\n",
       "      <th>664935</th>\n",
       "      <td>Rensselaer</td>\n",
       "      <td>4102004.0</td>\n",
       "      <td>9250.0</td>\n",
       "      <td>The Burdett Care Center</td>\n",
       "      <td>18 to 29</td>\n",
       "      <td>120</td>\n",
       "      <td>F</td>\n",
       "      <td>White</td>\n",
       "      <td>Not Span/Hispanic</td>\n",
       "      <td>2</td>\n",
       "      <td>...</td>\n",
       "      <td>Minor</td>\n",
       "      <td>Surgical</td>\n",
       "      <td>Medicaid</td>\n",
       "      <td>Self-Pay</td>\n",
       "      <td>Self-Pay</td>\n",
       "      <td>0</td>\n",
       "      <td>0</td>\n",
       "      <td>0</td>\n",
       "      <td>9914.79</td>\n",
       "      <td>5671.25</td>\n",
       "    </tr>\n",
       "  </tbody>\n",
       "</table>\n",
       "<p>5 rows × 28 columns</p>\n",
       "</div>"
      ],
      "text/plain": [
       "       Hospital County  Operating Certificate Number  Facility Id  \\\n",
       "664931      Rensselaer                     4102004.0       9250.0   \n",
       "664932      Rensselaer                     4102004.0       9250.0   \n",
       "664933      Rensselaer                     4102004.0       9250.0   \n",
       "664934      Rensselaer                     4102004.0       9250.0   \n",
       "664935      Rensselaer                     4102004.0       9250.0   \n",
       "\n",
       "                  Facility Name Age Group Zip Code - 3 digits Gender  \\\n",
       "664931  The Burdett Care Center  30 to 49                 121      F   \n",
       "664932  The Burdett Care Center  18 to 29                 120      F   \n",
       "664933  The Burdett Care Center  18 to 29                 120      F   \n",
       "664934  The Burdett Care Center  18 to 29                 121      F   \n",
       "664935  The Burdett Care Center  18 to 29                 120      F   \n",
       "\n",
       "                          Race          Ethnicity Length of Stay  ...  \\\n",
       "664931                   White  Not Span/Hispanic              3  ...   \n",
       "664932                   White  Not Span/Hispanic              2  ...   \n",
       "664933                   White  Not Span/Hispanic              2  ...   \n",
       "664934  Black/African American  Not Span/Hispanic              3  ...   \n",
       "664935                   White  Not Span/Hispanic              2  ...   \n",
       "\n",
       "       APR Risk of Mortality APR Medical Surgical Description  \\\n",
       "664931                 Minor                         Surgical   \n",
       "664932                 Minor                          Medical   \n",
       "664933                 Minor                         Surgical   \n",
       "664934                 Minor                         Surgical   \n",
       "664935                 Minor                         Surgical   \n",
       "\n",
       "              Payment Typology 1  Payment Typology 2  Payment Typology 3  \\\n",
       "664931  Private Health Insurance            Self-Pay            Self-Pay   \n",
       "664932                  Medicaid            Self-Pay            Self-Pay   \n",
       "664933                  Medicaid            Self-Pay            Self-Pay   \n",
       "664934    Blue Cross/Blue Shield            Self-Pay            Self-Pay   \n",
       "664935                  Medicaid            Self-Pay            Self-Pay   \n",
       "\n",
       "        Birth Weight  Abortion Edit Indicator  Emergency Department Indicator  \\\n",
       "664931             0                        0                               0   \n",
       "664932             0                        0                               0   \n",
       "664933             0                        0                               0   \n",
       "664934             0                        0                               0   \n",
       "664935             0                        0                               0   \n",
       "\n",
       "       Total Charges Total Costs  \n",
       "664931      12560.54     7260.24  \n",
       "664932       6672.11     3832.18  \n",
       "664933      10598.85     5926.81  \n",
       "664934      17085.67     8402.28  \n",
       "664935       9914.79     5671.25  \n",
       "\n",
       "[5 rows x 28 columns]"
      ]
     },
     "execution_count": 52,
     "metadata": {},
     "output_type": "execute_result"
    }
   ],
   "source": [
    "Burdett_df.head()"
   ]
  },
  {
   "cell_type": "code",
   "execution_count": 53,
   "id": "f980a235",
   "metadata": {
    "execution": {
     "iopub.execute_input": "2023-02-21T11:42:18.981522Z",
     "iopub.status.busy": "2023-02-21T11:42:18.980954Z",
     "iopub.status.idle": "2023-02-21T11:42:18.987676Z",
     "shell.execute_reply": "2023-02-21T11:42:18.986766Z"
    },
    "papermill": {
     "duration": 0.063944,
     "end_time": "2023-02-21T11:42:18.989690",
     "exception": false,
     "start_time": "2023-02-21T11:42:18.925746",
     "status": "completed"
    },
    "tags": []
   },
   "outputs": [
    {
     "name": "stderr",
     "output_type": "stream",
     "text": [
      "/opt/conda/lib/python3.7/site-packages/ipykernel_launcher.py:1: SettingWithCopyWarning: \n",
      "A value is trying to be set on a copy of a slice from a DataFrame.\n",
      "Try using .loc[row_indexer,col_indexer] = value instead\n",
      "\n",
      "See the caveats in the documentation: https://pandas.pydata.org/pandas-docs/stable/user_guide/indexing.html#returning-a-view-versus-a-copy\n",
      "  \"\"\"Entry point for launching an IPython kernel.\n"
     ]
    }
   ],
   "source": [
    "Burdett_df[\"Length of Stay\"]=pd.to_numeric(Burdett_df[\"Length of Stay\"],errors='coerce')"
   ]
  },
  {
   "cell_type": "code",
   "execution_count": 54,
   "id": "1477c450",
   "metadata": {
    "execution": {
     "iopub.execute_input": "2023-02-21T11:42:19.102664Z",
     "iopub.status.busy": "2023-02-21T11:42:19.102244Z",
     "iopub.status.idle": "2023-02-21T11:42:19.122559Z",
     "shell.execute_reply": "2023-02-21T11:42:19.121240Z"
    },
    "papermill": {
     "duration": 0.078661,
     "end_time": "2023-02-21T11:42:19.124931",
     "exception": false,
     "start_time": "2023-02-21T11:42:19.046270",
     "status": "completed"
    },
    "tags": []
   },
   "outputs": [
    {
     "name": "stdout",
     "output_type": "stream",
     "text": [
      "<class 'pandas.core.frame.DataFrame'>\n",
      "Int64Index: 2007 entries, 664931 to 666956\n",
      "Data columns (total 28 columns):\n",
      " #   Column                            Non-Null Count  Dtype   \n",
      "---  ------                            --------------  -----   \n",
      " 0   Hospital County                   2007 non-null   category\n",
      " 1   Operating Certificate Number      2007 non-null   float64 \n",
      " 2   Facility Id                       2007 non-null   float64 \n",
      " 3   Facility Name                     2007 non-null   object  \n",
      " 4   Age Group                         2007 non-null   category\n",
      " 5   Zip Code - 3 digits               1990 non-null   category\n",
      " 6   Gender                            2007 non-null   category\n",
      " 7   Race                              2007 non-null   category\n",
      " 8   Ethnicity                         2007 non-null   category\n",
      " 9   Length of Stay                    2007 non-null   int64   \n",
      " 10  Type of Admission                 2007 non-null   category\n",
      " 11  Patient Disposition               2007 non-null   category\n",
      " 12  Discharge Year                    2007 non-null   int64   \n",
      " 13  CCS Diagnosis Code                2007 non-null   int64   \n",
      " 14  CCS Procedure Code                2007 non-null   int64   \n",
      " 15  APR DRG Code                      2007 non-null   int64   \n",
      " 16  APR MDC Code                      2007 non-null   int64   \n",
      " 17  APR Severity of Illness Code      2007 non-null   int64   \n",
      " 18  APR Risk of Mortality             2007 non-null   category\n",
      " 19  APR Medical Surgical Description  2007 non-null   category\n",
      " 20  Payment Typology 1                2007 non-null   category\n",
      " 21  Payment Typology 2                2007 non-null   category\n",
      " 22  Payment Typology 3                2007 non-null   category\n",
      " 23  Birth Weight                      2007 non-null   int64   \n",
      " 24  Abortion Edit Indicator           2007 non-null   category\n",
      " 25  Emergency Department Indicator    2007 non-null   category\n",
      " 26  Total Charges                     2007 non-null   float64 \n",
      " 27  Total Costs                       2007 non-null   float64 \n",
      "dtypes: category(15), float64(4), int64(8), object(1)\n",
      "memory usage: 257.2+ KB\n"
     ]
    }
   ],
   "source": [
    "Burdett_df.info()"
   ]
  },
  {
   "cell_type": "code",
   "execution_count": 55,
   "id": "e5de6f46",
   "metadata": {
    "execution": {
     "iopub.execute_input": "2023-02-21T11:42:19.236462Z",
     "iopub.status.busy": "2023-02-21T11:42:19.236103Z",
     "iopub.status.idle": "2023-02-21T11:42:19.259154Z",
     "shell.execute_reply": "2023-02-21T11:42:19.257294Z"
    },
    "papermill": {
     "duration": 0.081114,
     "end_time": "2023-02-21T11:42:19.261487",
     "exception": false,
     "start_time": "2023-02-21T11:42:19.180373",
     "status": "completed"
    },
    "tags": []
   },
   "outputs": [
    {
     "name": "stderr",
     "output_type": "stream",
     "text": [
      "/opt/conda/lib/python3.7/site-packages/ipykernel_launcher.py:29: SettingWithCopyWarning: \n",
      "A value is trying to be set on a copy of a slice from a DataFrame.\n",
      "Try using .loc[row_indexer,col_indexer] = value instead\n",
      "\n",
      "See the caveats in the documentation: https://pandas.pydata.org/pandas-docs/stable/user_guide/indexing.html#returning-a-view-versus-a-copy\n"
     ]
    }
   ],
   "source": [
    "list=  [ \"Hospital County\",\"Age Group\"\n",
    "    ,\"Gender\",   \n",
    " \"Race\" , \n",
    "\"Ethnicity\", \n",
    "\"Gender\" , \n",
    "\"Race\" ,    \n",
    " \"Ethnicity\" ,        \n",
    " \"Type of Admission\"  ,  \n",
    "  \"Patient Disposition\",      \n",
    " \"Type of Admission\" ,  \n",
    " \"Patient Disposition\"  ,\n",
    "  \"APR Risk of Mortality\" ,   \n",
    " \"APR Medical Surgical Description\" ,\n",
    " \"Payment Typology 1\"   ,   \n",
    " \"Abortion Edit Indicator\"     ,  \n",
    " \"Emergency Department Indicator\",\n",
    "       \"Zip Code - 3 digits\",\"Payment Typology 2\"        \n",
    "   ,\"Payment Typology 3\"]  \n",
    "\n",
    "# Import label encoder\n",
    "from sklearn import preprocessing\n",
    "  \n",
    "# label_encoder object knows how to understand word labels.        \n",
    "   \n",
    "label_encoder = preprocessing.LabelEncoder()\n",
    "  \n",
    "# Encode labels in column 'species'. \n",
    "for col in list :\n",
    "  Burdett_df[col]= label_encoder.fit_transform(Burdett_df[col])"
   ]
  },
  {
   "cell_type": "code",
   "execution_count": 56,
   "id": "987f17f4",
   "metadata": {
    "execution": {
     "iopub.execute_input": "2023-02-21T11:42:19.374321Z",
     "iopub.status.busy": "2023-02-21T11:42:19.373257Z",
     "iopub.status.idle": "2023-02-21T11:42:19.387650Z",
     "shell.execute_reply": "2023-02-21T11:42:19.386746Z"
    },
    "papermill": {
     "duration": 0.073194,
     "end_time": "2023-02-21T11:42:19.390484",
     "exception": false,
     "start_time": "2023-02-21T11:42:19.317290",
     "status": "completed"
    },
    "tags": []
   },
   "outputs": [
    {
     "name": "stdout",
     "output_type": "stream",
     "text": [
      "<class 'pandas.core.frame.DataFrame'>\n",
      "Int64Index: 2007 entries, 664931 to 666956\n",
      "Data columns (total 28 columns):\n",
      " #   Column                            Non-Null Count  Dtype  \n",
      "---  ------                            --------------  -----  \n",
      " 0   Hospital County                   2007 non-null   int64  \n",
      " 1   Operating Certificate Number      2007 non-null   float64\n",
      " 2   Facility Id                       2007 non-null   float64\n",
      " 3   Facility Name                     2007 non-null   object \n",
      " 4   Age Group                         2007 non-null   int64  \n",
      " 5   Zip Code - 3 digits               2007 non-null   int64  \n",
      " 6   Gender                            2007 non-null   int64  \n",
      " 7   Race                              2007 non-null   int64  \n",
      " 8   Ethnicity                         2007 non-null   int64  \n",
      " 9   Length of Stay                    2007 non-null   int64  \n",
      " 10  Type of Admission                 2007 non-null   int64  \n",
      " 11  Patient Disposition               2007 non-null   int64  \n",
      " 12  Discharge Year                    2007 non-null   int64  \n",
      " 13  CCS Diagnosis Code                2007 non-null   int64  \n",
      " 14  CCS Procedure Code                2007 non-null   int64  \n",
      " 15  APR DRG Code                      2007 non-null   int64  \n",
      " 16  APR MDC Code                      2007 non-null   int64  \n",
      " 17  APR Severity of Illness Code      2007 non-null   int64  \n",
      " 18  APR Risk of Mortality             2007 non-null   int64  \n",
      " 19  APR Medical Surgical Description  2007 non-null   int64  \n",
      " 20  Payment Typology 1                2007 non-null   int64  \n",
      " 21  Payment Typology 2                2007 non-null   int64  \n",
      " 22  Payment Typology 3                2007 non-null   int64  \n",
      " 23  Birth Weight                      2007 non-null   int64  \n",
      " 24  Abortion Edit Indicator           2007 non-null   int64  \n",
      " 25  Emergency Department Indicator    2007 non-null   int64  \n",
      " 26  Total Charges                     2007 non-null   float64\n",
      " 27  Total Costs                       2007 non-null   float64\n",
      "dtypes: float64(4), int64(23), object(1)\n",
      "memory usage: 454.7+ KB\n"
     ]
    }
   ],
   "source": [
    "Burdett_df.info()"
   ]
  },
  {
   "cell_type": "code",
   "execution_count": 57,
   "id": "1c61e88e",
   "metadata": {
    "execution": {
     "iopub.execute_input": "2023-02-21T11:42:19.503352Z",
     "iopub.status.busy": "2023-02-21T11:42:19.502770Z",
     "iopub.status.idle": "2023-02-21T11:42:19.508442Z",
     "shell.execute_reply": "2023-02-21T11:42:19.507364Z"
    },
    "papermill": {
     "duration": 0.064328,
     "end_time": "2023-02-21T11:42:19.510183",
     "exception": false,
     "start_time": "2023-02-21T11:42:19.445855",
     "status": "completed"
    },
    "tags": []
   },
   "outputs": [],
   "source": [
    "Burdett_df=Burdett_df.drop(\"Facility Name\", axis=1)"
   ]
  },
  {
   "cell_type": "code",
   "execution_count": 58,
   "id": "53a96013",
   "metadata": {
    "execution": {
     "iopub.execute_input": "2023-02-21T11:42:19.622184Z",
     "iopub.status.busy": "2023-02-21T11:42:19.621250Z",
     "iopub.status.idle": "2023-02-21T11:42:19.627270Z",
     "shell.execute_reply": "2023-02-21T11:42:19.626251Z"
    },
    "papermill": {
     "duration": 0.064381,
     "end_time": "2023-02-21T11:42:19.629120",
     "exception": false,
     "start_time": "2023-02-21T11:42:19.564739",
     "status": "completed"
    },
    "tags": []
   },
   "outputs": [],
   "source": [
    "x = Burdett_df.drop([\"Length of Stay\"], axis =1)\n",
    "y = Burdett_df[\"Length of Stay\"]"
   ]
  },
  {
   "cell_type": "code",
   "execution_count": 59,
   "id": "fe80a7ec",
   "metadata": {
    "execution": {
     "iopub.execute_input": "2023-02-21T11:42:19.741989Z",
     "iopub.status.busy": "2023-02-21T11:42:19.741365Z",
     "iopub.status.idle": "2023-02-21T11:42:19.747977Z",
     "shell.execute_reply": "2023-02-21T11:42:19.746698Z"
    },
    "papermill": {
     "duration": 0.065734,
     "end_time": "2023-02-21T11:42:19.750215",
     "exception": false,
     "start_time": "2023-02-21T11:42:19.684481",
     "status": "completed"
    },
    "tags": []
   },
   "outputs": [],
   "source": [
    "from sklearn.model_selection import train_test_split\n",
    "x_train, x_test, y_train, y_test = train_test_split(x, y, test_size=0.3, random_state=42)"
   ]
  },
  {
   "cell_type": "code",
   "execution_count": 60,
   "id": "e7e2683b",
   "metadata": {
    "execution": {
     "iopub.execute_input": "2023-02-21T11:42:19.862839Z",
     "iopub.status.busy": "2023-02-21T11:42:19.862198Z",
     "iopub.status.idle": "2023-02-21T11:42:19.877173Z",
     "shell.execute_reply": "2023-02-21T11:42:19.876135Z"
    },
    "papermill": {
     "duration": 0.073733,
     "end_time": "2023-02-21T11:42:19.879712",
     "exception": false,
     "start_time": "2023-02-21T11:42:19.805979",
     "status": "completed"
    },
    "tags": []
   },
   "outputs": [],
   "source": [
    "# Linear Regression\n",
    "\n",
    "LR = LinearRegression()\n",
    "LR.fit(x_train, y_train)\n",
    "LR.score(x_train, y_train)\n",
    "y_pred =LR.predict(x_test)"
   ]
  },
  {
   "cell_type": "code",
   "execution_count": 61,
   "id": "e37cd6c5",
   "metadata": {
    "execution": {
     "iopub.execute_input": "2023-02-21T11:42:20.018628Z",
     "iopub.status.busy": "2023-02-21T11:42:20.018266Z",
     "iopub.status.idle": "2023-02-21T11:42:20.026855Z",
     "shell.execute_reply": "2023-02-21T11:42:20.025767Z"
    },
    "papermill": {
     "duration": 0.078141,
     "end_time": "2023-02-21T11:42:20.029174",
     "exception": false,
     "start_time": "2023-02-21T11:42:19.951033",
     "status": "completed"
    },
    "tags": []
   },
   "outputs": [
    {
     "data": {
      "text/plain": [
       "0.8723056813594046"
      ]
     },
     "execution_count": 61,
     "metadata": {},
     "output_type": "execute_result"
    }
   ],
   "source": [
    "r2 = r2_score(y_test, y_pred)\n",
    "r2 \n"
   ]
  },
  {
   "cell_type": "code",
   "execution_count": 62,
   "id": "fcc132ee",
   "metadata": {
    "execution": {
     "iopub.execute_input": "2023-02-21T11:42:20.141233Z",
     "iopub.status.busy": "2023-02-21T11:42:20.140079Z",
     "iopub.status.idle": "2023-02-21T11:42:20.146012Z",
     "shell.execute_reply": "2023-02-21T11:42:20.145395Z"
    },
    "papermill": {
     "duration": 0.064025,
     "end_time": "2023-02-21T11:42:20.148288",
     "exception": false,
     "start_time": "2023-02-21T11:42:20.084263",
     "status": "completed"
    },
    "tags": []
   },
   "outputs": [
    {
     "data": {
      "text/plain": [
       "0.23125353938413457"
      ]
     },
     "execution_count": 62,
     "metadata": {},
     "output_type": "execute_result"
    }
   ],
   "source": [
    "# calculate the MAE of the model\n",
    "mae = mean_absolute_error(y_test, y_pred)\n",
    "mae"
   ]
  },
  {
   "cell_type": "code",
   "execution_count": 63,
   "id": "713b1daa",
   "metadata": {
    "execution": {
     "iopub.execute_input": "2023-02-21T11:42:20.261184Z",
     "iopub.status.busy": "2023-02-21T11:42:20.259854Z",
     "iopub.status.idle": "2023-02-21T11:42:20.266906Z",
     "shell.execute_reply": "2023-02-21T11:42:20.266192Z"
    },
    "papermill": {
     "duration": 0.066079,
     "end_time": "2023-02-21T11:42:20.268666",
     "exception": false,
     "start_time": "2023-02-21T11:42:20.202587",
     "status": "completed"
    },
    "tags": []
   },
   "outputs": [
    {
     "data": {
      "text/plain": [
       "0.1265392685345504"
      ]
     },
     "execution_count": 63,
     "metadata": {},
     "output_type": "execute_result"
    }
   ],
   "source": [
    "# calculate the MSE of the model\n",
    "mse = mean_squared_error(y_test, y_pred)\n",
    "mse"
   ]
  },
  {
   "cell_type": "code",
   "execution_count": 64,
   "id": "aa80fee2",
   "metadata": {
    "execution": {
     "iopub.execute_input": "2023-02-21T11:42:20.382953Z",
     "iopub.status.busy": "2023-02-21T11:42:20.382352Z",
     "iopub.status.idle": "2023-02-21T11:42:20.388282Z",
     "shell.execute_reply": "2023-02-21T11:42:20.387516Z"
    },
    "papermill": {
     "duration": 0.066408,
     "end_time": "2023-02-21T11:42:20.390088",
     "exception": false,
     "start_time": "2023-02-21T11:42:20.323680",
     "status": "completed"
    },
    "tags": []
   },
   "outputs": [
    {
     "data": {
      "text/plain": [
       "0.3557235844508351"
      ]
     },
     "execution_count": 64,
     "metadata": {},
     "output_type": "execute_result"
    }
   ],
   "source": [
    "# calculate the RMSE of the model\n",
    "rmse = np.sqrt(mse)\n",
    "rmse"
   ]
  },
  {
   "cell_type": "code",
   "execution_count": 65,
   "id": "a22c641e",
   "metadata": {
    "execution": {
     "iopub.execute_input": "2023-02-21T11:42:20.504118Z",
     "iopub.status.busy": "2023-02-21T11:42:20.503508Z",
     "iopub.status.idle": "2023-02-21T11:42:20.523853Z",
     "shell.execute_reply": "2023-02-21T11:42:20.523027Z"
    },
    "papermill": {
     "duration": 0.08028,
     "end_time": "2023-02-21T11:42:20.526439",
     "exception": false,
     "start_time": "2023-02-21T11:42:20.446159",
     "status": "completed"
    },
    "tags": []
   },
   "outputs": [],
   "source": [
    "# LASSO\n",
    "L1 = linear_model.Lasso()\n",
    "L1.fit(x_train,y_train)\n",
    "y_pred1 = L1.predict(x_test)"
   ]
  },
  {
   "cell_type": "code",
   "execution_count": 66,
   "id": "faea8d3a",
   "metadata": {
    "execution": {
     "iopub.execute_input": "2023-02-21T11:42:20.666383Z",
     "iopub.status.busy": "2023-02-21T11:42:20.666063Z",
     "iopub.status.idle": "2023-02-21T11:42:20.673174Z",
     "shell.execute_reply": "2023-02-21T11:42:20.671836Z"
    },
    "papermill": {
     "duration": 0.075455,
     "end_time": "2023-02-21T11:42:20.675087",
     "exception": false,
     "start_time": "2023-02-21T11:42:20.599632",
     "status": "completed"
    },
    "tags": []
   },
   "outputs": [
    {
     "data": {
      "text/plain": [
       "0.3459801547925998"
      ]
     },
     "execution_count": 66,
     "metadata": {},
     "output_type": "execute_result"
    }
   ],
   "source": [
    "# calculate the MAE of the model\n",
    "mae = mean_absolute_error(y_test, y_pred1)\n",
    "mae"
   ]
  },
  {
   "cell_type": "code",
   "execution_count": 67,
   "id": "ae398182",
   "metadata": {
    "execution": {
     "iopub.execute_input": "2023-02-21T11:42:20.788010Z",
     "iopub.status.busy": "2023-02-21T11:42:20.787635Z",
     "iopub.status.idle": "2023-02-21T11:42:20.794456Z",
     "shell.execute_reply": "2023-02-21T11:42:20.793463Z"
    },
    "papermill": {
     "duration": 0.065373,
     "end_time": "2023-02-21T11:42:20.796335",
     "exception": false,
     "start_time": "2023-02-21T11:42:20.730962",
     "status": "completed"
    },
    "tags": []
   },
   "outputs": [
    {
     "data": {
      "text/plain": [
       "0.3101903514122998"
      ]
     },
     "execution_count": 67,
     "metadata": {},
     "output_type": "execute_result"
    }
   ],
   "source": [
    "# calculate the MSE of the model\n",
    "mse = mean_squared_error(y_test, y_pred1)\n",
    "mse"
   ]
  },
  {
   "cell_type": "code",
   "execution_count": 68,
   "id": "a13648e1",
   "metadata": {
    "execution": {
     "iopub.execute_input": "2023-02-21T11:42:20.909638Z",
     "iopub.status.busy": "2023-02-21T11:42:20.909193Z",
     "iopub.status.idle": "2023-02-21T11:42:20.916391Z",
     "shell.execute_reply": "2023-02-21T11:42:20.915346Z"
    },
    "papermill": {
     "duration": 0.066679,
     "end_time": "2023-02-21T11:42:20.918314",
     "exception": false,
     "start_time": "2023-02-21T11:42:20.851635",
     "status": "completed"
    },
    "tags": []
   },
   "outputs": [
    {
     "data": {
      "text/plain": [
       "0.5569473506645846"
      ]
     },
     "execution_count": 68,
     "metadata": {},
     "output_type": "execute_result"
    }
   ],
   "source": [
    "# calculate the RMSE of the model\n",
    "rmse = np.sqrt(mse)\n",
    "rmse"
   ]
  },
  {
   "cell_type": "code",
   "execution_count": 69,
   "id": "0120b8fa",
   "metadata": {
    "execution": {
     "iopub.execute_input": "2023-02-21T11:42:21.034006Z",
     "iopub.status.busy": "2023-02-21T11:42:21.033652Z",
     "iopub.status.idle": "2023-02-21T11:42:21.041884Z",
     "shell.execute_reply": "2023-02-21T11:42:21.040906Z"
    },
    "papermill": {
     "duration": 0.068407,
     "end_time": "2023-02-21T11:42:21.043597",
     "exception": false,
     "start_time": "2023-02-21T11:42:20.975190",
     "status": "completed"
    },
    "tags": []
   },
   "outputs": [
    {
     "data": {
      "text/plain": [
       "0.6869782318864484"
      ]
     },
     "execution_count": 69,
     "metadata": {},
     "output_type": "execute_result"
    }
   ],
   "source": [
    "r2 = r2_score(y_test, y_pred1)\n",
    "r2 \n"
   ]
  },
  {
   "cell_type": "code",
   "execution_count": 70,
   "id": "0e588aba",
   "metadata": {
    "execution": {
     "iopub.execute_input": "2023-02-21T11:42:21.158582Z",
     "iopub.status.busy": "2023-02-21T11:42:21.158205Z",
     "iopub.status.idle": "2023-02-21T11:42:21.171247Z",
     "shell.execute_reply": "2023-02-21T11:42:21.170396Z"
    },
    "papermill": {
     "duration": 0.073393,
     "end_time": "2023-02-21T11:42:21.173390",
     "exception": false,
     "start_time": "2023-02-21T11:42:21.099997",
     "status": "completed"
    },
    "tags": []
   },
   "outputs": [],
   "source": [
    "# Ridge\n",
    "L2 = Ridge(alpha=1.0)\n",
    "L2.fit(x_train, y_train) \n",
    "y_pred3 = L2.predict(x_test)"
   ]
  },
  {
   "cell_type": "code",
   "execution_count": 71,
   "id": "543018b9",
   "metadata": {
    "execution": {
     "iopub.execute_input": "2023-02-21T11:42:21.312506Z",
     "iopub.status.busy": "2023-02-21T11:42:21.312105Z",
     "iopub.status.idle": "2023-02-21T11:42:21.320606Z",
     "shell.execute_reply": "2023-02-21T11:42:21.319492Z"
    },
    "papermill": {
     "duration": 0.07701,
     "end_time": "2023-02-21T11:42:21.322685",
     "exception": false,
     "start_time": "2023-02-21T11:42:21.245675",
     "status": "completed"
    },
    "tags": []
   },
   "outputs": [
    {
     "data": {
      "text/plain": [
       "0.8810130092697138"
      ]
     },
     "execution_count": 71,
     "metadata": {},
     "output_type": "execute_result"
    }
   ],
   "source": [
    "r2 = r2_score(y_test, y_pred3)\n",
    "r2 "
   ]
  },
  {
   "cell_type": "code",
   "execution_count": 72,
   "id": "a5832f94",
   "metadata": {
    "execution": {
     "iopub.execute_input": "2023-02-21T11:42:21.437282Z",
     "iopub.status.busy": "2023-02-21T11:42:21.436927Z",
     "iopub.status.idle": "2023-02-21T11:42:21.444385Z",
     "shell.execute_reply": "2023-02-21T11:42:21.443383Z"
    },
    "papermill": {
     "duration": 0.066293,
     "end_time": "2023-02-21T11:42:21.446166",
     "exception": false,
     "start_time": "2023-02-21T11:42:21.379873",
     "status": "completed"
    },
    "tags": []
   },
   "outputs": [
    {
     "data": {
      "text/plain": [
       "0.2269137110295729"
      ]
     },
     "execution_count": 72,
     "metadata": {},
     "output_type": "execute_result"
    }
   ],
   "source": [
    "# calculate the MAE of the model\n",
    "mae = mean_absolute_error(y_test, y_pred3)\n",
    "mae"
   ]
  },
  {
   "cell_type": "code",
   "execution_count": 73,
   "id": "c6d7efaa",
   "metadata": {
    "execution": {
     "iopub.execute_input": "2023-02-21T11:42:21.562166Z",
     "iopub.status.busy": "2023-02-21T11:42:21.560984Z",
     "iopub.status.idle": "2023-02-21T11:42:21.567766Z",
     "shell.execute_reply": "2023-02-21T11:42:21.567014Z"
    },
    "papermill": {
     "duration": 0.06636,
     "end_time": "2023-02-21T11:42:21.569560",
     "exception": false,
     "start_time": "2023-02-21T11:42:21.503200",
     "status": "completed"
    },
    "tags": []
   },
   "outputs": [
    {
     "data": {
      "text/plain": [
       "0.11791070215516318"
      ]
     },
     "execution_count": 73,
     "metadata": {},
     "output_type": "execute_result"
    }
   ],
   "source": [
    "# calculate the MSE of the model\n",
    "mse = mean_squared_error(y_test, y_pred3)\n",
    "mse"
   ]
  },
  {
   "cell_type": "code",
   "execution_count": 74,
   "id": "ed126536",
   "metadata": {
    "execution": {
     "iopub.execute_input": "2023-02-21T11:42:21.684610Z",
     "iopub.status.busy": "2023-02-21T11:42:21.684075Z",
     "iopub.status.idle": "2023-02-21T11:42:21.689942Z",
     "shell.execute_reply": "2023-02-21T11:42:21.689214Z"
    },
    "papermill": {
     "duration": 0.064774,
     "end_time": "2023-02-21T11:42:21.691641",
     "exception": false,
     "start_time": "2023-02-21T11:42:21.626867",
     "status": "completed"
    },
    "tags": []
   },
   "outputs": [
    {
     "data": {
      "text/plain": [
       "0.3433812781081158"
      ]
     },
     "execution_count": 74,
     "metadata": {},
     "output_type": "execute_result"
    }
   ],
   "source": [
    "# calculate the RMSE of the model\n",
    "rmse = np.sqrt(mse)\n",
    "rmse"
   ]
  },
  {
   "cell_type": "markdown",
   "id": "37d3ddaf",
   "metadata": {
    "papermill": {
     "duration": 0.05644,
     "end_time": "2023-02-21T11:42:21.803920",
     "exception": false,
     "start_time": "2023-02-21T11:42:21.747480",
     "status": "completed"
    },
    "tags": []
   },
   "source": [
    "Client 8: Putnam Hospital Center"
   ]
  },
  {
   "cell_type": "code",
   "execution_count": 75,
   "id": "3a0d41fe",
   "metadata": {
    "execution": {
     "iopub.execute_input": "2023-02-21T11:42:21.921473Z",
     "iopub.status.busy": "2023-02-21T11:42:21.920309Z",
     "iopub.status.idle": "2023-02-21T11:42:22.072008Z",
     "shell.execute_reply": "2023-02-21T11:42:22.069391Z"
    },
    "papermill": {
     "duration": 0.213596,
     "end_time": "2023-02-21T11:42:22.074654",
     "exception": false,
     "start_time": "2023-02-21T11:42:21.861058",
     "status": "completed"
    },
    "tags": []
   },
   "outputs": [],
   "source": [
    "Putnam_df=df[df[\"Facility Name\"]== \"Putnam Hospital Center\"]"
   ]
  },
  {
   "cell_type": "code",
   "execution_count": 76,
   "id": "4ee72f35",
   "metadata": {
    "execution": {
     "iopub.execute_input": "2023-02-21T11:42:22.201962Z",
     "iopub.status.busy": "2023-02-21T11:42:22.201237Z",
     "iopub.status.idle": "2023-02-21T11:42:22.239957Z",
     "shell.execute_reply": "2023-02-21T11:42:22.239039Z"
    },
    "papermill": {
     "duration": 0.102114,
     "end_time": "2023-02-21T11:42:22.242441",
     "exception": false,
     "start_time": "2023-02-21T11:42:22.140327",
     "status": "completed"
    },
    "tags": []
   },
   "outputs": [
    {
     "data": {
      "text/html": [
       "<div>\n",
       "<style scoped>\n",
       "    .dataframe tbody tr th:only-of-type {\n",
       "        vertical-align: middle;\n",
       "    }\n",
       "\n",
       "    .dataframe tbody tr th {\n",
       "        vertical-align: top;\n",
       "    }\n",
       "\n",
       "    .dataframe thead th {\n",
       "        text-align: right;\n",
       "    }\n",
       "</style>\n",
       "<table border=\"1\" class=\"dataframe\">\n",
       "  <thead>\n",
       "    <tr style=\"text-align: right;\">\n",
       "      <th></th>\n",
       "      <th>Hospital County</th>\n",
       "      <th>Operating Certificate Number</th>\n",
       "      <th>Facility Id</th>\n",
       "      <th>Facility Name</th>\n",
       "      <th>Age Group</th>\n",
       "      <th>Zip Code - 3 digits</th>\n",
       "      <th>Gender</th>\n",
       "      <th>Race</th>\n",
       "      <th>Ethnicity</th>\n",
       "      <th>Length of Stay</th>\n",
       "      <th>...</th>\n",
       "      <th>APR Risk of Mortality</th>\n",
       "      <th>APR Medical Surgical Description</th>\n",
       "      <th>Payment Typology 1</th>\n",
       "      <th>Payment Typology 2</th>\n",
       "      <th>Payment Typology 3</th>\n",
       "      <th>Birth Weight</th>\n",
       "      <th>Abortion Edit Indicator</th>\n",
       "      <th>Emergency Department Indicator</th>\n",
       "      <th>Total Charges</th>\n",
       "      <th>Total Costs</th>\n",
       "    </tr>\n",
       "  </thead>\n",
       "  <tbody>\n",
       "    <tr>\n",
       "      <th>700137</th>\n",
       "      <td>Putnam</td>\n",
       "      <td>3950000.0</td>\n",
       "      <td>752.0</td>\n",
       "      <td>Putnam Hospital Center</td>\n",
       "      <td>18 to 29</td>\n",
       "      <td>105</td>\n",
       "      <td>F</td>\n",
       "      <td>Other Race</td>\n",
       "      <td>Unknown</td>\n",
       "      <td>2</td>\n",
       "      <td>...</td>\n",
       "      <td>Minor</td>\n",
       "      <td>Medical</td>\n",
       "      <td>Medicaid</td>\n",
       "      <td>NaN</td>\n",
       "      <td>NaN</td>\n",
       "      <td>0</td>\n",
       "      <td>N</td>\n",
       "      <td>N</td>\n",
       "      <td>7555.49</td>\n",
       "      <td>2300.42</td>\n",
       "    </tr>\n",
       "    <tr>\n",
       "      <th>705867</th>\n",
       "      <td>Putnam</td>\n",
       "      <td>3950000.0</td>\n",
       "      <td>752.0</td>\n",
       "      <td>Putnam Hospital Center</td>\n",
       "      <td>18 to 29</td>\n",
       "      <td>NaN</td>\n",
       "      <td>M</td>\n",
       "      <td>Other Race</td>\n",
       "      <td>Unknown</td>\n",
       "      <td>4</td>\n",
       "      <td>...</td>\n",
       "      <td>Minor</td>\n",
       "      <td>Medical</td>\n",
       "      <td>Medicaid</td>\n",
       "      <td>NaN</td>\n",
       "      <td>NaN</td>\n",
       "      <td>0</td>\n",
       "      <td>N</td>\n",
       "      <td>N</td>\n",
       "      <td>13976.15</td>\n",
       "      <td>4054.04</td>\n",
       "    </tr>\n",
       "    <tr>\n",
       "      <th>706214</th>\n",
       "      <td>Putnam</td>\n",
       "      <td>3950000.0</td>\n",
       "      <td>752.0</td>\n",
       "      <td>Putnam Hospital Center</td>\n",
       "      <td>30 to 49</td>\n",
       "      <td>124</td>\n",
       "      <td>M</td>\n",
       "      <td>White</td>\n",
       "      <td>Not Span/Hispanic</td>\n",
       "      <td>3</td>\n",
       "      <td>...</td>\n",
       "      <td>Minor</td>\n",
       "      <td>Medical</td>\n",
       "      <td>Medicare</td>\n",
       "      <td>Medicaid</td>\n",
       "      <td>NaN</td>\n",
       "      <td>0</td>\n",
       "      <td>N</td>\n",
       "      <td>N</td>\n",
       "      <td>11769.89</td>\n",
       "      <td>3366.13</td>\n",
       "    </tr>\n",
       "    <tr>\n",
       "      <th>706501</th>\n",
       "      <td>Putnam</td>\n",
       "      <td>3950000.0</td>\n",
       "      <td>752.0</td>\n",
       "      <td>Putnam Hospital Center</td>\n",
       "      <td>18 to 29</td>\n",
       "      <td>105</td>\n",
       "      <td>M</td>\n",
       "      <td>Other Race</td>\n",
       "      <td>Unknown</td>\n",
       "      <td>5</td>\n",
       "      <td>...</td>\n",
       "      <td>Minor</td>\n",
       "      <td>Medical</td>\n",
       "      <td>Medicaid</td>\n",
       "      <td>NaN</td>\n",
       "      <td>NaN</td>\n",
       "      <td>0</td>\n",
       "      <td>N</td>\n",
       "      <td>Y</td>\n",
       "      <td>19054.70</td>\n",
       "      <td>5566.92</td>\n",
       "    </tr>\n",
       "    <tr>\n",
       "      <th>706962</th>\n",
       "      <td>Putnam</td>\n",
       "      <td>3950000.0</td>\n",
       "      <td>752.0</td>\n",
       "      <td>Putnam Hospital Center</td>\n",
       "      <td>18 to 29</td>\n",
       "      <td>125</td>\n",
       "      <td>M</td>\n",
       "      <td>White</td>\n",
       "      <td>Not Span/Hispanic</td>\n",
       "      <td>10</td>\n",
       "      <td>...</td>\n",
       "      <td>Minor</td>\n",
       "      <td>Medical</td>\n",
       "      <td>Medicaid</td>\n",
       "      <td>NaN</td>\n",
       "      <td>NaN</td>\n",
       "      <td>0</td>\n",
       "      <td>N</td>\n",
       "      <td>Y</td>\n",
       "      <td>35729.45</td>\n",
       "      <td>10557.89</td>\n",
       "    </tr>\n",
       "    <tr>\n",
       "      <th>...</th>\n",
       "      <td>...</td>\n",
       "      <td>...</td>\n",
       "      <td>...</td>\n",
       "      <td>...</td>\n",
       "      <td>...</td>\n",
       "      <td>...</td>\n",
       "      <td>...</td>\n",
       "      <td>...</td>\n",
       "      <td>...</td>\n",
       "      <td>...</td>\n",
       "      <td>...</td>\n",
       "      <td>...</td>\n",
       "      <td>...</td>\n",
       "      <td>...</td>\n",
       "      <td>...</td>\n",
       "      <td>...</td>\n",
       "      <td>...</td>\n",
       "      <td>...</td>\n",
       "      <td>...</td>\n",
       "      <td>...</td>\n",
       "      <td>...</td>\n",
       "    </tr>\n",
       "    <tr>\n",
       "      <th>745889</th>\n",
       "      <td>Putnam</td>\n",
       "      <td>3950000.0</td>\n",
       "      <td>752.0</td>\n",
       "      <td>Putnam Hospital Center</td>\n",
       "      <td>70 or Older</td>\n",
       "      <td>105</td>\n",
       "      <td>M</td>\n",
       "      <td>White</td>\n",
       "      <td>Not Span/Hispanic</td>\n",
       "      <td>3</td>\n",
       "      <td>...</td>\n",
       "      <td>Major</td>\n",
       "      <td>Medical</td>\n",
       "      <td>Medicare</td>\n",
       "      <td>Blue Cross/Blue Shield</td>\n",
       "      <td>NaN</td>\n",
       "      <td>0</td>\n",
       "      <td>N</td>\n",
       "      <td>Y</td>\n",
       "      <td>26577.54</td>\n",
       "      <td>7658.91</td>\n",
       "    </tr>\n",
       "    <tr>\n",
       "      <th>745890</th>\n",
       "      <td>Putnam</td>\n",
       "      <td>3950000.0</td>\n",
       "      <td>752.0</td>\n",
       "      <td>Putnam Hospital Center</td>\n",
       "      <td>18 to 29</td>\n",
       "      <td>105</td>\n",
       "      <td>F</td>\n",
       "      <td>White</td>\n",
       "      <td>Not Span/Hispanic</td>\n",
       "      <td>1</td>\n",
       "      <td>...</td>\n",
       "      <td>Minor</td>\n",
       "      <td>Medical</td>\n",
       "      <td>Managed Care, Unspecified</td>\n",
       "      <td>NaN</td>\n",
       "      <td>NaN</td>\n",
       "      <td>0</td>\n",
       "      <td>N</td>\n",
       "      <td>Y</td>\n",
       "      <td>11475.15</td>\n",
       "      <td>3425.98</td>\n",
       "    </tr>\n",
       "    <tr>\n",
       "      <th>745891</th>\n",
       "      <td>Putnam</td>\n",
       "      <td>3950000.0</td>\n",
       "      <td>752.0</td>\n",
       "      <td>Putnam Hospital Center</td>\n",
       "      <td>30 to 49</td>\n",
       "      <td>105</td>\n",
       "      <td>M</td>\n",
       "      <td>White</td>\n",
       "      <td>Not Span/Hispanic</td>\n",
       "      <td>2</td>\n",
       "      <td>...</td>\n",
       "      <td>Moderate</td>\n",
       "      <td>Medical</td>\n",
       "      <td>Medicaid</td>\n",
       "      <td>NaN</td>\n",
       "      <td>NaN</td>\n",
       "      <td>0</td>\n",
       "      <td>N</td>\n",
       "      <td>Y</td>\n",
       "      <td>12504.90</td>\n",
       "      <td>3724.22</td>\n",
       "    </tr>\n",
       "    <tr>\n",
       "      <th>745892</th>\n",
       "      <td>Putnam</td>\n",
       "      <td>3950000.0</td>\n",
       "      <td>752.0</td>\n",
       "      <td>Putnam Hospital Center</td>\n",
       "      <td>70 or Older</td>\n",
       "      <td>125</td>\n",
       "      <td>F</td>\n",
       "      <td>White</td>\n",
       "      <td>Not Span/Hispanic</td>\n",
       "      <td>2</td>\n",
       "      <td>...</td>\n",
       "      <td>Minor</td>\n",
       "      <td>Medical</td>\n",
       "      <td>Blue Cross/Blue Shield</td>\n",
       "      <td>NaN</td>\n",
       "      <td>NaN</td>\n",
       "      <td>0</td>\n",
       "      <td>N</td>\n",
       "      <td>Y</td>\n",
       "      <td>15137.95</td>\n",
       "      <td>4513.10</td>\n",
       "    </tr>\n",
       "    <tr>\n",
       "      <th>745893</th>\n",
       "      <td>Putnam</td>\n",
       "      <td>3950000.0</td>\n",
       "      <td>752.0</td>\n",
       "      <td>Putnam Hospital Center</td>\n",
       "      <td>50 to 69</td>\n",
       "      <td>125</td>\n",
       "      <td>M</td>\n",
       "      <td>Black/African American</td>\n",
       "      <td>Not Span/Hispanic</td>\n",
       "      <td>3</td>\n",
       "      <td>...</td>\n",
       "      <td>Moderate</td>\n",
       "      <td>Medical</td>\n",
       "      <td>Medicare</td>\n",
       "      <td>Medicaid</td>\n",
       "      <td>NaN</td>\n",
       "      <td>0</td>\n",
       "      <td>N</td>\n",
       "      <td>Y</td>\n",
       "      <td>23584.89</td>\n",
       "      <td>7014.46</td>\n",
       "    </tr>\n",
       "  </tbody>\n",
       "</table>\n",
       "<p>6785 rows × 28 columns</p>\n",
       "</div>"
      ],
      "text/plain": [
       "       Hospital County  Operating Certificate Number  Facility Id  \\\n",
       "700137          Putnam                     3950000.0        752.0   \n",
       "705867          Putnam                     3950000.0        752.0   \n",
       "706214          Putnam                     3950000.0        752.0   \n",
       "706501          Putnam                     3950000.0        752.0   \n",
       "706962          Putnam                     3950000.0        752.0   \n",
       "...                ...                           ...          ...   \n",
       "745889          Putnam                     3950000.0        752.0   \n",
       "745890          Putnam                     3950000.0        752.0   \n",
       "745891          Putnam                     3950000.0        752.0   \n",
       "745892          Putnam                     3950000.0        752.0   \n",
       "745893          Putnam                     3950000.0        752.0   \n",
       "\n",
       "                 Facility Name    Age Group Zip Code - 3 digits Gender  \\\n",
       "700137  Putnam Hospital Center     18 to 29                 105      F   \n",
       "705867  Putnam Hospital Center     18 to 29                 NaN      M   \n",
       "706214  Putnam Hospital Center     30 to 49                 124      M   \n",
       "706501  Putnam Hospital Center     18 to 29                 105      M   \n",
       "706962  Putnam Hospital Center     18 to 29                 125      M   \n",
       "...                        ...          ...                 ...    ...   \n",
       "745889  Putnam Hospital Center  70 or Older                 105      M   \n",
       "745890  Putnam Hospital Center     18 to 29                 105      F   \n",
       "745891  Putnam Hospital Center     30 to 49                 105      M   \n",
       "745892  Putnam Hospital Center  70 or Older                 125      F   \n",
       "745893  Putnam Hospital Center     50 to 69                 125      M   \n",
       "\n",
       "                          Race          Ethnicity Length of Stay  ...  \\\n",
       "700137              Other Race            Unknown              2  ...   \n",
       "705867              Other Race            Unknown              4  ...   \n",
       "706214                   White  Not Span/Hispanic              3  ...   \n",
       "706501              Other Race            Unknown              5  ...   \n",
       "706962                   White  Not Span/Hispanic             10  ...   \n",
       "...                        ...                ...            ...  ...   \n",
       "745889                   White  Not Span/Hispanic              3  ...   \n",
       "745890                   White  Not Span/Hispanic              1  ...   \n",
       "745891                   White  Not Span/Hispanic              2  ...   \n",
       "745892                   White  Not Span/Hispanic              2  ...   \n",
       "745893  Black/African American  Not Span/Hispanic              3  ...   \n",
       "\n",
       "       APR Risk of Mortality APR Medical Surgical Description  \\\n",
       "700137                 Minor                          Medical   \n",
       "705867                 Minor                          Medical   \n",
       "706214                 Minor                          Medical   \n",
       "706501                 Minor                          Medical   \n",
       "706962                 Minor                          Medical   \n",
       "...                      ...                              ...   \n",
       "745889                 Major                          Medical   \n",
       "745890                 Minor                          Medical   \n",
       "745891              Moderate                          Medical   \n",
       "745892                 Minor                          Medical   \n",
       "745893              Moderate                          Medical   \n",
       "\n",
       "               Payment Typology 1      Payment Typology 2  Payment Typology 3  \\\n",
       "700137                   Medicaid                     NaN                 NaN   \n",
       "705867                   Medicaid                     NaN                 NaN   \n",
       "706214                   Medicare                Medicaid                 NaN   \n",
       "706501                   Medicaid                     NaN                 NaN   \n",
       "706962                   Medicaid                     NaN                 NaN   \n",
       "...                           ...                     ...                 ...   \n",
       "745889                   Medicare  Blue Cross/Blue Shield                 NaN   \n",
       "745890  Managed Care, Unspecified                     NaN                 NaN   \n",
       "745891                   Medicaid                     NaN                 NaN   \n",
       "745892     Blue Cross/Blue Shield                     NaN                 NaN   \n",
       "745893                   Medicare                Medicaid                 NaN   \n",
       "\n",
       "        Birth Weight  Abortion Edit Indicator  Emergency Department Indicator  \\\n",
       "700137             0                        N                               N   \n",
       "705867             0                        N                               N   \n",
       "706214             0                        N                               N   \n",
       "706501             0                        N                               Y   \n",
       "706962             0                        N                               Y   \n",
       "...              ...                      ...                             ...   \n",
       "745889             0                        N                               Y   \n",
       "745890             0                        N                               Y   \n",
       "745891             0                        N                               Y   \n",
       "745892             0                        N                               Y   \n",
       "745893             0                        N                               Y   \n",
       "\n",
       "       Total Charges Total Costs  \n",
       "700137       7555.49     2300.42  \n",
       "705867      13976.15     4054.04  \n",
       "706214      11769.89     3366.13  \n",
       "706501      19054.70     5566.92  \n",
       "706962      35729.45    10557.89  \n",
       "...              ...         ...  \n",
       "745889      26577.54     7658.91  \n",
       "745890      11475.15     3425.98  \n",
       "745891      12504.90     3724.22  \n",
       "745892      15137.95     4513.10  \n",
       "745893      23584.89     7014.46  \n",
       "\n",
       "[6785 rows x 28 columns]"
      ]
     },
     "execution_count": 76,
     "metadata": {},
     "output_type": "execute_result"
    }
   ],
   "source": [
    "Putnam_df\n"
   ]
  },
  {
   "cell_type": "code",
   "execution_count": 77,
   "id": "3b5ffb68",
   "metadata": {
    "execution": {
     "iopub.execute_input": "2023-02-21T11:42:22.364022Z",
     "iopub.status.busy": "2023-02-21T11:42:22.363405Z",
     "iopub.status.idle": "2023-02-21T11:42:22.379406Z",
     "shell.execute_reply": "2023-02-21T11:42:22.378476Z"
    },
    "papermill": {
     "duration": 0.078452,
     "end_time": "2023-02-21T11:42:22.381707",
     "exception": false,
     "start_time": "2023-02-21T11:42:22.303255",
     "status": "completed"
    },
    "tags": []
   },
   "outputs": [
    {
     "name": "stdout",
     "output_type": "stream",
     "text": [
      "<class 'pandas.core.frame.DataFrame'>\n",
      "Int64Index: 6785 entries, 700137 to 745893\n",
      "Data columns (total 28 columns):\n",
      " #   Column                            Non-Null Count  Dtype   \n",
      "---  ------                            --------------  -----   \n",
      " 0   Hospital County                   6785 non-null   category\n",
      " 1   Operating Certificate Number      6785 non-null   float64 \n",
      " 2   Facility Id                       6785 non-null   float64 \n",
      " 3   Facility Name                     6785 non-null   object  \n",
      " 4   Age Group                         6785 non-null   category\n",
      " 5   Zip Code - 3 digits               6684 non-null   category\n",
      " 6   Gender                            6785 non-null   category\n",
      " 7   Race                              6785 non-null   category\n",
      " 8   Ethnicity                         6785 non-null   category\n",
      " 9   Length of Stay                    6785 non-null   category\n",
      " 10  Type of Admission                 6785 non-null   category\n",
      " 11  Patient Disposition               6785 non-null   category\n",
      " 12  Discharge Year                    6785 non-null   int64   \n",
      " 13  CCS Diagnosis Code                6785 non-null   int64   \n",
      " 14  CCS Procedure Code                6785 non-null   int64   \n",
      " 15  APR DRG Code                      6785 non-null   int64   \n",
      " 16  APR MDC Code                      6785 non-null   int64   \n",
      " 17  APR Severity of Illness Code      6785 non-null   int64   \n",
      " 18  APR Risk of Mortality             6785 non-null   category\n",
      " 19  APR Medical Surgical Description  6785 non-null   category\n",
      " 20  Payment Typology 1                6785 non-null   category\n",
      " 21  Payment Typology 2                3195 non-null   category\n",
      " 22  Payment Typology 3                236 non-null    category\n",
      " 23  Birth Weight                      6785 non-null   int64   \n",
      " 24  Abortion Edit Indicator           6785 non-null   category\n",
      " 25  Emergency Department Indicator    6785 non-null   category\n",
      " 26  Total Charges                     6785 non-null   float64 \n",
      " 27  Total Costs                       6785 non-null   float64 \n",
      "dtypes: category(16), float64(4), int64(7), object(1)\n",
      "memory usage: 819.8+ KB\n"
     ]
    }
   ],
   "source": [
    "Putnam_df.info()"
   ]
  },
  {
   "cell_type": "code",
   "execution_count": 78,
   "id": "46547b10",
   "metadata": {
    "execution": {
     "iopub.execute_input": "2023-02-21T11:42:22.498260Z",
     "iopub.status.busy": "2023-02-21T11:42:22.497925Z",
     "iopub.status.idle": "2023-02-21T11:42:22.506110Z",
     "shell.execute_reply": "2023-02-21T11:42:22.505208Z"
    },
    "papermill": {
     "duration": 0.068618,
     "end_time": "2023-02-21T11:42:22.508332",
     "exception": false,
     "start_time": "2023-02-21T11:42:22.439714",
     "status": "completed"
    },
    "tags": []
   },
   "outputs": [
    {
     "name": "stderr",
     "output_type": "stream",
     "text": [
      "/opt/conda/lib/python3.7/site-packages/ipykernel_launcher.py:3: SettingWithCopyWarning: \n",
      "A value is trying to be set on a copy of a slice from a DataFrame.\n",
      "Try using .loc[row_indexer,col_indexer] = value instead\n",
      "\n",
      "See the caveats in the documentation: https://pandas.pydata.org/pandas-docs/stable/user_guide/indexing.html#returning-a-view-versus-a-copy\n",
      "  This is separate from the ipykernel package so we can avoid doing imports until\n",
      "/opt/conda/lib/python3.7/site-packages/ipykernel_launcher.py:5: SettingWithCopyWarning: \n",
      "A value is trying to be set on a copy of a slice from a DataFrame.\n",
      "Try using .loc[row_indexer,col_indexer] = value instead\n",
      "\n",
      "See the caveats in the documentation: https://pandas.pydata.org/pandas-docs/stable/user_guide/indexing.html#returning-a-view-versus-a-copy\n",
      "  \"\"\"\n"
     ]
    }
   ],
   "source": [
    " #   simple mapping on binary features.\n",
    "Putnam_df['Abortion Edit Indicator'] = Putnam_df['Abortion Edit Indicator'].apply(\n",
    "     lambda x: 1 if x == 'Y' else (0 if x == 'N' else None))\n",
    "Putnam_df['Emergency Department Indicator'] = Putnam_df['Emergency Department Indicator'].apply(\n",
    "    lambda x: 1 if x == 'Y' else (0 if x == 'N' else None))"
   ]
  },
  {
   "cell_type": "code",
   "execution_count": 79,
   "id": "5b47370e",
   "metadata": {
    "execution": {
     "iopub.execute_input": "2023-02-21T11:42:22.623965Z",
     "iopub.status.busy": "2023-02-21T11:42:22.623617Z",
     "iopub.status.idle": "2023-02-21T11:42:22.633918Z",
     "shell.execute_reply": "2023-02-21T11:42:22.632596Z"
    },
    "papermill": {
     "duration": 0.070881,
     "end_time": "2023-02-21T11:42:22.635888",
     "exception": false,
     "start_time": "2023-02-21T11:42:22.565007",
     "status": "completed"
    },
    "tags": []
   },
   "outputs": [
    {
     "name": "stderr",
     "output_type": "stream",
     "text": [
      "/opt/conda/lib/python3.7/site-packages/ipykernel_launcher.py:1: SettingWithCopyWarning: \n",
      "A value is trying to be set on a copy of a slice from a DataFrame.\n",
      "Try using .loc[row_indexer,col_indexer] = value instead\n",
      "\n",
      "See the caveats in the documentation: https://pandas.pydata.org/pandas-docs/stable/user_guide/indexing.html#returning-a-view-versus-a-copy\n",
      "  \"\"\"Entry point for launching an IPython kernel.\n"
     ]
    }
   ],
   "source": [
    "Putnam_df[\"Length of Stay\"]=pd.to_numeric(Putnam_df[\"Length of Stay\"],errors='coerce')"
   ]
  },
  {
   "cell_type": "code",
   "execution_count": 80,
   "id": "f416885f",
   "metadata": {
    "execution": {
     "iopub.execute_input": "2023-02-21T11:42:22.754256Z",
     "iopub.status.busy": "2023-02-21T11:42:22.753917Z",
     "iopub.status.idle": "2023-02-21T11:42:22.784681Z",
     "shell.execute_reply": "2023-02-21T11:42:22.783801Z"
    },
    "papermill": {
     "duration": 0.09183,
     "end_time": "2023-02-21T11:42:22.787064",
     "exception": false,
     "start_time": "2023-02-21T11:42:22.695234",
     "status": "completed"
    },
    "tags": []
   },
   "outputs": [
    {
     "name": "stderr",
     "output_type": "stream",
     "text": [
      "/opt/conda/lib/python3.7/site-packages/ipykernel_launcher.py:27: SettingWithCopyWarning: \n",
      "A value is trying to be set on a copy of a slice from a DataFrame.\n",
      "Try using .loc[row_indexer,col_indexer] = value instead\n",
      "\n",
      "See the caveats in the documentation: https://pandas.pydata.org/pandas-docs/stable/user_guide/indexing.html#returning-a-view-versus-a-copy\n"
     ]
    }
   ],
   "source": [
    "list=  [ \"Hospital County\",\"Age Group\"\n",
    "    ,\"Gender\",   \n",
    " \"Race\" , \n",
    "\"Ethnicity\", \n",
    "\"Gender\" , \n",
    "\"Race\" ,    \n",
    " \"Ethnicity\" ,        \n",
    " \"Type of Admission\"  ,  \n",
    "  \"Patient Disposition\",      \n",
    " \"Type of Admission\" ,  \n",
    " \"Patient Disposition\"  ,\n",
    "  \"APR Risk of Mortality\" ,   \n",
    " \"APR Medical Surgical Description\" ,\n",
    " \"Payment Typology 1\"   ,   \n",
    " \"Abortion Edit Indicator\"     ,  \n",
    " \"Emergency Department Indicator\",\n",
    "       \"Zip Code - 3 digits\"]  \n",
    "\n",
    "# Import label encoder\n",
    "from sklearn import preprocessing\n",
    "  \n",
    "# label_encoder object knows how to understand word labels.\n",
    "label_encoder = preprocessing.LabelEncoder()\n",
    "  \n",
    "# Encode labels in column 'species'.\n",
    "for col in list :\n",
    "   Putnam_df[col]= label_encoder.fit_transform(Putnam_df[col])"
   ]
  },
  {
   "cell_type": "code",
   "execution_count": 81,
   "id": "3317c9ba",
   "metadata": {
    "execution": {
     "iopub.execute_input": "2023-02-21T11:42:22.904638Z",
     "iopub.status.busy": "2023-02-21T11:42:22.903381Z",
     "iopub.status.idle": "2023-02-21T11:42:22.910026Z",
     "shell.execute_reply": "2023-02-21T11:42:22.909335Z"
    },
    "papermill": {
     "duration": 0.068072,
     "end_time": "2023-02-21T11:42:22.911890",
     "exception": false,
     "start_time": "2023-02-21T11:42:22.843818",
     "status": "completed"
    },
    "tags": []
   },
   "outputs": [],
   "source": [
    "Putnam_df = Putnam_df.drop(\"Facility Name\", axis=1)"
   ]
  },
  {
   "cell_type": "code",
   "execution_count": 82,
   "id": "1accf713",
   "metadata": {
    "execution": {
     "iopub.execute_input": "2023-02-21T11:42:23.026826Z",
     "iopub.status.busy": "2023-02-21T11:42:23.026499Z",
     "iopub.status.idle": "2023-02-21T11:42:23.031625Z",
     "shell.execute_reply": "2023-02-21T11:42:23.030872Z"
    },
    "papermill": {
     "duration": 0.064452,
     "end_time": "2023-02-21T11:42:23.033285",
     "exception": false,
     "start_time": "2023-02-21T11:42:22.968833",
     "status": "completed"
    },
    "tags": []
   },
   "outputs": [],
   "source": [
    "Putnam_df = Putnam_df.drop([\"Payment Typology 2\",    \"Payment Typology 3\"], axis=1)\n"
   ]
  },
  {
   "cell_type": "code",
   "execution_count": 83,
   "id": "9a83708d",
   "metadata": {
    "execution": {
     "iopub.execute_input": "2023-02-21T11:42:23.146633Z",
     "iopub.status.busy": "2023-02-21T11:42:23.146282Z",
     "iopub.status.idle": "2023-02-21T11:42:23.159304Z",
     "shell.execute_reply": "2023-02-21T11:42:23.158313Z"
    },
    "papermill": {
     "duration": 0.073793,
     "end_time": "2023-02-21T11:42:23.162884",
     "exception": false,
     "start_time": "2023-02-21T11:42:23.089091",
     "status": "completed"
    },
    "tags": []
   },
   "outputs": [
    {
     "name": "stdout",
     "output_type": "stream",
     "text": [
      "<class 'pandas.core.frame.DataFrame'>\n",
      "Int64Index: 6785 entries, 700137 to 745893\n",
      "Data columns (total 25 columns):\n",
      " #   Column                            Non-Null Count  Dtype  \n",
      "---  ------                            --------------  -----  \n",
      " 0   Hospital County                   6785 non-null   int64  \n",
      " 1   Operating Certificate Number      6785 non-null   float64\n",
      " 2   Facility Id                       6785 non-null   float64\n",
      " 3   Age Group                         6785 non-null   int64  \n",
      " 4   Zip Code - 3 digits               6785 non-null   int64  \n",
      " 5   Gender                            6785 non-null   int64  \n",
      " 6   Race                              6785 non-null   int64  \n",
      " 7   Ethnicity                         6785 non-null   int64  \n",
      " 8   Length of Stay                    6785 non-null   int64  \n",
      " 9   Type of Admission                 6785 non-null   int64  \n",
      " 10  Patient Disposition               6785 non-null   int64  \n",
      " 11  Discharge Year                    6785 non-null   int64  \n",
      " 12  CCS Diagnosis Code                6785 non-null   int64  \n",
      " 13  CCS Procedure Code                6785 non-null   int64  \n",
      " 14  APR DRG Code                      6785 non-null   int64  \n",
      " 15  APR MDC Code                      6785 non-null   int64  \n",
      " 16  APR Severity of Illness Code      6785 non-null   int64  \n",
      " 17  APR Risk of Mortality             6785 non-null   int64  \n",
      " 18  APR Medical Surgical Description  6785 non-null   int64  \n",
      " 19  Payment Typology 1                6785 non-null   int64  \n",
      " 20  Birth Weight                      6785 non-null   int64  \n",
      " 21  Abortion Edit Indicator           6785 non-null   int64  \n",
      " 22  Emergency Department Indicator    6785 non-null   int64  \n",
      " 23  Total Charges                     6785 non-null   float64\n",
      " 24  Total Costs                       6785 non-null   float64\n",
      "dtypes: float64(4), int64(21)\n",
      "memory usage: 1.3 MB\n"
     ]
    }
   ],
   "source": [
    "Putnam_df.info()"
   ]
  },
  {
   "cell_type": "code",
   "execution_count": 84,
   "id": "44dc8321",
   "metadata": {
    "execution": {
     "iopub.execute_input": "2023-02-21T11:42:23.281691Z",
     "iopub.status.busy": "2023-02-21T11:42:23.281343Z",
     "iopub.status.idle": "2023-02-21T11:42:23.286609Z",
     "shell.execute_reply": "2023-02-21T11:42:23.285742Z"
    },
    "papermill": {
     "duration": 0.066638,
     "end_time": "2023-02-21T11:42:23.288319",
     "exception": false,
     "start_time": "2023-02-21T11:42:23.221681",
     "status": "completed"
    },
    "tags": []
   },
   "outputs": [],
   "source": [
    "x = Putnam_df.drop([\"Length of Stay\"], axis =1)\n",
    "y = Putnam_df[\"Length of Stay\"]"
   ]
  },
  {
   "cell_type": "code",
   "execution_count": 85,
   "id": "ee9e8fc6",
   "metadata": {
    "execution": {
     "iopub.execute_input": "2023-02-21T11:42:23.405501Z",
     "iopub.status.busy": "2023-02-21T11:42:23.405116Z",
     "iopub.status.idle": "2023-02-21T11:42:23.412946Z",
     "shell.execute_reply": "2023-02-21T11:42:23.411884Z"
    },
    "papermill": {
     "duration": 0.069332,
     "end_time": "2023-02-21T11:42:23.415313",
     "exception": false,
     "start_time": "2023-02-21T11:42:23.345981",
     "status": "completed"
    },
    "tags": []
   },
   "outputs": [],
   "source": [
    "from sklearn.model_selection import train_test_split\n",
    "x_train, x_test, y_train, y_test = train_test_split(x, y, test_size=0.3, random_state=42)"
   ]
  },
  {
   "cell_type": "code",
   "execution_count": 86,
   "id": "c2d2a30b",
   "metadata": {
    "execution": {
     "iopub.execute_input": "2023-02-21T11:42:23.532316Z",
     "iopub.status.busy": "2023-02-21T11:42:23.531153Z",
     "iopub.status.idle": "2023-02-21T11:42:23.546455Z",
     "shell.execute_reply": "2023-02-21T11:42:23.545703Z"
    },
    "papermill": {
     "duration": 0.076094,
     "end_time": "2023-02-21T11:42:23.548732",
     "exception": false,
     "start_time": "2023-02-21T11:42:23.472638",
     "status": "completed"
    },
    "tags": []
   },
   "outputs": [],
   "source": [
    "# Linear Regression\n",
    "\n",
    "LR = LinearRegression()\n",
    "LR.fit(x_train, y_train)\n",
    "LR.score(x_train, y_train)\n",
    "y_pred =LR.predict(x_test)"
   ]
  },
  {
   "cell_type": "code",
   "execution_count": 87,
   "id": "d4cc0464",
   "metadata": {
    "execution": {
     "iopub.execute_input": "2023-02-21T11:42:23.691476Z",
     "iopub.status.busy": "2023-02-21T11:42:23.691098Z",
     "iopub.status.idle": "2023-02-21T11:42:23.698778Z",
     "shell.execute_reply": "2023-02-21T11:42:23.697799Z"
    },
    "papermill": {
     "duration": 0.076636,
     "end_time": "2023-02-21T11:42:23.700568",
     "exception": false,
     "start_time": "2023-02-21T11:42:23.623932",
     "status": "completed"
    },
    "tags": []
   },
   "outputs": [
    {
     "data": {
      "text/plain": [
       "0.6833681470945818"
      ]
     },
     "execution_count": 87,
     "metadata": {},
     "output_type": "execute_result"
    }
   ],
   "source": [
    "r2 = r2_score(y_test, y_pred)\n",
    "r2 \n"
   ]
  },
  {
   "cell_type": "code",
   "execution_count": 88,
   "id": "32d6e8a0",
   "metadata": {
    "execution": {
     "iopub.execute_input": "2023-02-21T11:42:23.819028Z",
     "iopub.status.busy": "2023-02-21T11:42:23.818265Z",
     "iopub.status.idle": "2023-02-21T11:42:23.825543Z",
     "shell.execute_reply": "2023-02-21T11:42:23.824546Z"
    },
    "papermill": {
     "duration": 0.069554,
     "end_time": "2023-02-21T11:42:23.827457",
     "exception": false,
     "start_time": "2023-02-21T11:42:23.757903",
     "status": "completed"
    },
    "tags": []
   },
   "outputs": [
    {
     "data": {
      "text/plain": [
       "1.4289408471215483"
      ]
     },
     "execution_count": 88,
     "metadata": {},
     "output_type": "execute_result"
    }
   ],
   "source": [
    "# calculate the MAE of the model\n",
    "mae = mean_absolute_error(y_test, y_pred)\n",
    "mae"
   ]
  },
  {
   "cell_type": "code",
   "execution_count": 89,
   "id": "62c9469c",
   "metadata": {
    "execution": {
     "iopub.execute_input": "2023-02-21T11:42:23.946159Z",
     "iopub.status.busy": "2023-02-21T11:42:23.945755Z",
     "iopub.status.idle": "2023-02-21T11:42:23.953359Z",
     "shell.execute_reply": "2023-02-21T11:42:23.952617Z"
    },
    "papermill": {
     "duration": 0.068971,
     "end_time": "2023-02-21T11:42:23.955296",
     "exception": false,
     "start_time": "2023-02-21T11:42:23.886325",
     "status": "completed"
    },
    "tags": []
   },
   "outputs": [
    {
     "data": {
      "text/plain": [
       "6.810081276526211"
      ]
     },
     "execution_count": 89,
     "metadata": {},
     "output_type": "execute_result"
    }
   ],
   "source": [
    "# calculate the MSE of the model\n",
    "mse = mean_squared_error(y_test, y_pred)\n",
    "mse"
   ]
  },
  {
   "cell_type": "code",
   "execution_count": 90,
   "id": "59d4c541",
   "metadata": {
    "execution": {
     "iopub.execute_input": "2023-02-21T11:42:24.074271Z",
     "iopub.status.busy": "2023-02-21T11:42:24.073275Z",
     "iopub.status.idle": "2023-02-21T11:42:24.079297Z",
     "shell.execute_reply": "2023-02-21T11:42:24.078665Z"
    },
    "papermill": {
     "duration": 0.06614,
     "end_time": "2023-02-21T11:42:24.080962",
     "exception": false,
     "start_time": "2023-02-21T11:42:24.014822",
     "status": "completed"
    },
    "tags": []
   },
   "outputs": [
    {
     "data": {
      "text/plain": [
       "2.609613242709772"
      ]
     },
     "execution_count": 90,
     "metadata": {},
     "output_type": "execute_result"
    }
   ],
   "source": [
    "# calculate the RMSE of the model\n",
    "rmse = np.sqrt(mse)\n",
    "rmse"
   ]
  },
  {
   "cell_type": "code",
   "execution_count": 91,
   "id": "032fcc59",
   "metadata": {
    "execution": {
     "iopub.execute_input": "2023-02-21T11:42:24.194774Z",
     "iopub.status.busy": "2023-02-21T11:42:24.194388Z",
     "iopub.status.idle": "2023-02-21T11:42:24.251079Z",
     "shell.execute_reply": "2023-02-21T11:42:24.250355Z"
    },
    "papermill": {
     "duration": 0.116047,
     "end_time": "2023-02-21T11:42:24.253279",
     "exception": false,
     "start_time": "2023-02-21T11:42:24.137232",
     "status": "completed"
    },
    "tags": []
   },
   "outputs": [],
   "source": [
    "# LASSO\n",
    "L1 = linear_model.Lasso()\n",
    "L1.fit(x_train,y_train)\n",
    "y_pred1 = L1.predict(x_test)"
   ]
  },
  {
   "cell_type": "code",
   "execution_count": 92,
   "id": "8ef25531",
   "metadata": {
    "execution": {
     "iopub.execute_input": "2023-02-21T11:42:24.397304Z",
     "iopub.status.busy": "2023-02-21T11:42:24.396976Z",
     "iopub.status.idle": "2023-02-21T11:42:24.403440Z",
     "shell.execute_reply": "2023-02-21T11:42:24.402607Z"
    },
    "papermill": {
     "duration": 0.076622,
     "end_time": "2023-02-21T11:42:24.405212",
     "exception": false,
     "start_time": "2023-02-21T11:42:24.328590",
     "status": "completed"
    },
    "tags": []
   },
   "outputs": [
    {
     "data": {
      "text/plain": [
       "0.6496057028620932"
      ]
     },
     "execution_count": 92,
     "metadata": {},
     "output_type": "execute_result"
    }
   ],
   "source": [
    "r2 = r2_score(y_test, y_pred1)\n",
    "r2 "
   ]
  },
  {
   "cell_type": "code",
   "execution_count": 93,
   "id": "7e34947c",
   "metadata": {
    "execution": {
     "iopub.execute_input": "2023-02-21T11:42:24.521297Z",
     "iopub.status.busy": "2023-02-21T11:42:24.520478Z",
     "iopub.status.idle": "2023-02-21T11:42:24.526675Z",
     "shell.execute_reply": "2023-02-21T11:42:24.526008Z"
    },
    "papermill": {
     "duration": 0.066266,
     "end_time": "2023-02-21T11:42:24.528358",
     "exception": false,
     "start_time": "2023-02-21T11:42:24.462092",
     "status": "completed"
    },
    "tags": []
   },
   "outputs": [
    {
     "data": {
      "text/plain": [
       "1.5599579330447522"
      ]
     },
     "execution_count": 93,
     "metadata": {},
     "output_type": "execute_result"
    }
   ],
   "source": [
    "# calculate the MAE of the model\n",
    "mae = mean_absolute_error(y_test, y_pred1)\n",
    "mae"
   ]
  },
  {
   "cell_type": "code",
   "execution_count": 94,
   "id": "fa991a23",
   "metadata": {
    "execution": {
     "iopub.execute_input": "2023-02-21T11:42:24.644242Z",
     "iopub.status.busy": "2023-02-21T11:42:24.643922Z",
     "iopub.status.idle": "2023-02-21T11:42:24.650605Z",
     "shell.execute_reply": "2023-02-21T11:42:24.649303Z"
    },
    "papermill": {
     "duration": 0.067618,
     "end_time": "2023-02-21T11:42:24.652495",
     "exception": false,
     "start_time": "2023-02-21T11:42:24.584877",
     "status": "completed"
    },
    "tags": []
   },
   "outputs": [
    {
     "data": {
      "text/plain": [
       "7.536240022740899"
      ]
     },
     "execution_count": 94,
     "metadata": {},
     "output_type": "execute_result"
    }
   ],
   "source": [
    "# calculate the MSE of the model\n",
    "mse = mean_squared_error(y_test, y_pred1)\n",
    "mse"
   ]
  },
  {
   "cell_type": "code",
   "execution_count": 95,
   "id": "f2a160f8",
   "metadata": {
    "execution": {
     "iopub.execute_input": "2023-02-21T11:42:24.766561Z",
     "iopub.status.busy": "2023-02-21T11:42:24.766177Z",
     "iopub.status.idle": "2023-02-21T11:42:24.772952Z",
     "shell.execute_reply": "2023-02-21T11:42:24.772035Z"
    },
    "papermill": {
     "duration": 0.066371,
     "end_time": "2023-02-21T11:42:24.775129",
     "exception": false,
     "start_time": "2023-02-21T11:42:24.708758",
     "status": "completed"
    },
    "tags": []
   },
   "outputs": [
    {
     "data": {
      "text/plain": [
       "2.745221306696584"
      ]
     },
     "execution_count": 95,
     "metadata": {},
     "output_type": "execute_result"
    }
   ],
   "source": [
    "# calculate the RMSE of the model\n",
    "rmse = np.sqrt(mse)\n",
    "rmse"
   ]
  },
  {
   "cell_type": "code",
   "execution_count": 96,
   "id": "0dd15e94",
   "metadata": {
    "execution": {
     "iopub.execute_input": "2023-02-21T11:42:24.894343Z",
     "iopub.status.busy": "2023-02-21T11:42:24.893865Z",
     "iopub.status.idle": "2023-02-21T11:42:24.907369Z",
     "shell.execute_reply": "2023-02-21T11:42:24.906522Z"
    },
    "papermill": {
     "duration": 0.076355,
     "end_time": "2023-02-21T11:42:24.910077",
     "exception": false,
     "start_time": "2023-02-21T11:42:24.833722",
     "status": "completed"
    },
    "tags": []
   },
   "outputs": [],
   "source": [
    "# Ridge\n",
    "L2 = Ridge(alpha=1.0)\n",
    "L2.fit(x_train, y_train) \n",
    "y_pred3 = L2.predict(x_test)"
   ]
  },
  {
   "cell_type": "code",
   "execution_count": 97,
   "id": "6129a917",
   "metadata": {
    "execution": {
     "iopub.execute_input": "2023-02-21T11:42:25.054085Z",
     "iopub.status.busy": "2023-02-21T11:42:25.053639Z",
     "iopub.status.idle": "2023-02-21T11:42:25.060215Z",
     "shell.execute_reply": "2023-02-21T11:42:25.059366Z"
    },
    "papermill": {
     "duration": 0.076915,
     "end_time": "2023-02-21T11:42:25.062007",
     "exception": false,
     "start_time": "2023-02-21T11:42:24.985092",
     "status": "completed"
    },
    "tags": []
   },
   "outputs": [
    {
     "data": {
      "text/plain": [
       "0.6833499677327529"
      ]
     },
     "execution_count": 97,
     "metadata": {},
     "output_type": "execute_result"
    }
   ],
   "source": [
    "r2 = r2_score(y_test, y_pred3)\n",
    "r2 "
   ]
  },
  {
   "cell_type": "code",
   "execution_count": 98,
   "id": "c0dd75c9",
   "metadata": {
    "execution": {
     "iopub.execute_input": "2023-02-21T11:42:25.181937Z",
     "iopub.status.busy": "2023-02-21T11:42:25.181189Z",
     "iopub.status.idle": "2023-02-21T11:42:25.187707Z",
     "shell.execute_reply": "2023-02-21T11:42:25.186839Z"
    },
    "papermill": {
     "duration": 0.068608,
     "end_time": "2023-02-21T11:42:25.189570",
     "exception": false,
     "start_time": "2023-02-21T11:42:25.120962",
     "status": "completed"
    },
    "tags": []
   },
   "outputs": [
    {
     "data": {
      "text/plain": [
       "1.4289867059435022"
      ]
     },
     "execution_count": 98,
     "metadata": {},
     "output_type": "execute_result"
    }
   ],
   "source": [
    "# calculate the MAE of the model\n",
    "mae = mean_absolute_error(y_test, y_pred3)\n",
    "mae"
   ]
  },
  {
   "cell_type": "code",
   "execution_count": 99,
   "id": "6684585a",
   "metadata": {
    "execution": {
     "iopub.execute_input": "2023-02-21T11:42:25.309707Z",
     "iopub.status.busy": "2023-02-21T11:42:25.308801Z",
     "iopub.status.idle": "2023-02-21T11:42:25.316525Z",
     "shell.execute_reply": "2023-02-21T11:42:25.315522Z"
    },
    "papermill": {
     "duration": 0.070731,
     "end_time": "2023-02-21T11:42:25.319124",
     "exception": false,
     "start_time": "2023-02-21T11:42:25.248393",
     "status": "completed"
    },
    "tags": []
   },
   "outputs": [
    {
     "data": {
      "text/plain": [
       "6.810472276138141"
      ]
     },
     "execution_count": 99,
     "metadata": {},
     "output_type": "execute_result"
    }
   ],
   "source": [
    "# calculate the MSE of the model\n",
    "mse = mean_squared_error(y_test, y_pred3)\n",
    "mse"
   ]
  },
  {
   "cell_type": "code",
   "execution_count": 100,
   "id": "d9e686e1",
   "metadata": {
    "execution": {
     "iopub.execute_input": "2023-02-21T11:42:25.440554Z",
     "iopub.status.busy": "2023-02-21T11:42:25.440160Z",
     "iopub.status.idle": "2023-02-21T11:42:25.447210Z",
     "shell.execute_reply": "2023-02-21T11:42:25.446197Z"
    },
    "papermill": {
     "duration": 0.069722,
     "end_time": "2023-02-21T11:42:25.449546",
     "exception": false,
     "start_time": "2023-02-21T11:42:25.379824",
     "status": "completed"
    },
    "tags": []
   },
   "outputs": [
    {
     "data": {
      "text/plain": [
       "2.609688156875863"
      ]
     },
     "execution_count": 100,
     "metadata": {},
     "output_type": "execute_result"
    }
   ],
   "source": [
    "# calculate the RMSE of the model\n",
    "rmse = np.sqrt(mse)\n",
    "rmse"
   ]
  },
  {
   "cell_type": "code",
   "execution_count": 101,
   "id": "c918687f",
   "metadata": {
    "execution": {
     "iopub.execute_input": "2023-02-21T11:42:25.569799Z",
     "iopub.status.busy": "2023-02-21T11:42:25.568578Z",
     "iopub.status.idle": "2023-02-21T11:42:25.630897Z",
     "shell.execute_reply": "2023-02-21T11:42:25.629779Z"
    },
    "papermill": {
     "duration": 0.124997,
     "end_time": "2023-02-21T11:42:25.633478",
     "exception": false,
     "start_time": "2023-02-21T11:42:25.508481",
     "status": "completed"
    },
    "tags": []
   },
   "outputs": [],
   "source": [
    "# LASSO\n",
    "L1 = linear_model.Lasso()\n",
    "L1.fit(x_train,y_train)\n",
    "y_pred1 = L1.predict(x_test)"
   ]
  },
  {
   "cell_type": "code",
   "execution_count": 102,
   "id": "8ee3f721",
   "metadata": {
    "execution": {
     "iopub.execute_input": "2023-02-21T11:42:25.778396Z",
     "iopub.status.busy": "2023-02-21T11:42:25.778028Z",
     "iopub.status.idle": "2023-02-21T11:42:25.785737Z",
     "shell.execute_reply": "2023-02-21T11:42:25.784818Z"
    },
    "papermill": {
     "duration": 0.07889,
     "end_time": "2023-02-21T11:42:25.787360",
     "exception": false,
     "start_time": "2023-02-21T11:42:25.708470",
     "status": "completed"
    },
    "tags": []
   },
   "outputs": [
    {
     "data": {
      "text/plain": [
       "0.6496057028620932"
      ]
     },
     "execution_count": 102,
     "metadata": {},
     "output_type": "execute_result"
    }
   ],
   "source": [
    "r2 = r2_score(y_test, y_pred1)\n",
    "r2 \n"
   ]
  },
  {
   "cell_type": "code",
   "execution_count": 103,
   "id": "b6ddf3b1",
   "metadata": {
    "execution": {
     "iopub.execute_input": "2023-02-21T11:42:25.905461Z",
     "iopub.status.busy": "2023-02-21T11:42:25.904574Z",
     "iopub.status.idle": "2023-02-21T11:42:25.910824Z",
     "shell.execute_reply": "2023-02-21T11:42:25.909965Z"
    },
    "papermill": {
     "duration": 0.066731,
     "end_time": "2023-02-21T11:42:25.912459",
     "exception": false,
     "start_time": "2023-02-21T11:42:25.845728",
     "status": "completed"
    },
    "tags": []
   },
   "outputs": [
    {
     "data": {
      "text/plain": [
       "1.5599579330447522"
      ]
     },
     "execution_count": 103,
     "metadata": {},
     "output_type": "execute_result"
    }
   ],
   "source": [
    "# calculate the MAE of the model\n",
    "mae = mean_absolute_error(y_test, y_pred1)\n",
    "mae"
   ]
  },
  {
   "cell_type": "code",
   "execution_count": 104,
   "id": "09c8dae5",
   "metadata": {
    "execution": {
     "iopub.execute_input": "2023-02-21T11:42:26.031931Z",
     "iopub.status.busy": "2023-02-21T11:42:26.031562Z",
     "iopub.status.idle": "2023-02-21T11:42:26.039664Z",
     "shell.execute_reply": "2023-02-21T11:42:26.038488Z"
    },
    "papermill": {
     "duration": 0.071784,
     "end_time": "2023-02-21T11:42:26.041794",
     "exception": false,
     "start_time": "2023-02-21T11:42:25.970010",
     "status": "completed"
    },
    "tags": []
   },
   "outputs": [
    {
     "data": {
      "text/plain": [
       "7.536240022740899"
      ]
     },
     "execution_count": 104,
     "metadata": {},
     "output_type": "execute_result"
    }
   ],
   "source": [
    "# calculate the MSE of the model\n",
    "mse = mean_squared_error(y_test, y_pred1)\n",
    "mse"
   ]
  },
  {
   "cell_type": "code",
   "execution_count": 105,
   "id": "9ecb6b9a",
   "metadata": {
    "execution": {
     "iopub.execute_input": "2023-02-21T11:42:26.162626Z",
     "iopub.status.busy": "2023-02-21T11:42:26.161937Z",
     "iopub.status.idle": "2023-02-21T11:42:26.169198Z",
     "shell.execute_reply": "2023-02-21T11:42:26.167725Z"
    },
    "papermill": {
     "duration": 0.069865,
     "end_time": "2023-02-21T11:42:26.171089",
     "exception": false,
     "start_time": "2023-02-21T11:42:26.101224",
     "status": "completed"
    },
    "tags": []
   },
   "outputs": [
    {
     "data": {
      "text/plain": [
       "2.745221306696584"
      ]
     },
     "execution_count": 105,
     "metadata": {},
     "output_type": "execute_result"
    }
   ],
   "source": [
    "# calculate the RMSE of the model\n",
    "rmse = np.sqrt(mse)\n",
    "rmse"
   ]
  },
  {
   "cell_type": "markdown",
   "id": "7fd07562",
   "metadata": {
    "papermill": {
     "duration": 0.057498,
     "end_time": "2023-02-21T11:42:26.287029",
     "exception": false,
     "start_time": "2023-02-21T11:42:26.229531",
     "status": "completed"
    },
    "tags": []
   },
   "source": [
    "Client 9: Nyack Hospital"
   ]
  },
  {
   "cell_type": "code",
   "execution_count": 106,
   "id": "794d902c",
   "metadata": {
    "execution": {
     "iopub.execute_input": "2023-02-21T11:42:26.413279Z",
     "iopub.status.busy": "2023-02-21T11:42:26.412896Z",
     "iopub.status.idle": "2023-02-21T11:42:26.553568Z",
     "shell.execute_reply": "2023-02-21T11:42:26.552246Z"
    },
    "papermill": {
     "duration": 0.205793,
     "end_time": "2023-02-21T11:42:26.556174",
     "exception": false,
     "start_time": "2023-02-21T11:42:26.350381",
     "status": "completed"
    },
    "tags": []
   },
   "outputs": [],
   "source": [
    "Nyack_df=df[df[\"Facility Name\"]== 'Nyack Hospital']"
   ]
  },
  {
   "cell_type": "code",
   "execution_count": 107,
   "id": "c6ef68f2",
   "metadata": {
    "execution": {
     "iopub.execute_input": "2023-02-21T11:42:26.679066Z",
     "iopub.status.busy": "2023-02-21T11:42:26.678672Z",
     "iopub.status.idle": "2023-02-21T11:42:26.700934Z",
     "shell.execute_reply": "2023-02-21T11:42:26.699085Z"
    },
    "papermill": {
     "duration": 0.087117,
     "end_time": "2023-02-21T11:42:26.703131",
     "exception": false,
     "start_time": "2023-02-21T11:42:26.616014",
     "status": "completed"
    },
    "tags": []
   },
   "outputs": [
    {
     "name": "stdout",
     "output_type": "stream",
     "text": [
      "<class 'pandas.core.frame.DataFrame'>\n",
      "Int64Index: 13459 entries, 700257 to 761325\n",
      "Data columns (total 28 columns):\n",
      " #   Column                            Non-Null Count  Dtype   \n",
      "---  ------                            --------------  -----   \n",
      " 0   Hospital County                   13459 non-null  category\n",
      " 1   Operating Certificate Number      13459 non-null  float64 \n",
      " 2   Facility Id                       13459 non-null  float64 \n",
      " 3   Facility Name                     13459 non-null  object  \n",
      " 4   Age Group                         13459 non-null  category\n",
      " 5   Zip Code - 3 digits               13327 non-null  category\n",
      " 6   Gender                            13459 non-null  category\n",
      " 7   Race                              13459 non-null  category\n",
      " 8   Ethnicity                         13459 non-null  category\n",
      " 9   Length of Stay                    13459 non-null  category\n",
      " 10  Type of Admission                 13459 non-null  category\n",
      " 11  Patient Disposition               13459 non-null  category\n",
      " 12  Discharge Year                    13459 non-null  int64   \n",
      " 13  CCS Diagnosis Code                13459 non-null  int64   \n",
      " 14  CCS Procedure Code                13459 non-null  int64   \n",
      " 15  APR DRG Code                      13459 non-null  int64   \n",
      " 16  APR MDC Code                      13459 non-null  int64   \n",
      " 17  APR Severity of Illness Code      13459 non-null  int64   \n",
      " 18  APR Risk of Mortality             13459 non-null  category\n",
      " 19  APR Medical Surgical Description  13459 non-null  category\n",
      " 20  Payment Typology 1                13459 non-null  category\n",
      " 21  Payment Typology 2                5193 non-null   category\n",
      " 22  Payment Typology 3                369 non-null    category\n",
      " 23  Birth Weight                      13459 non-null  int64   \n",
      " 24  Abortion Edit Indicator           13459 non-null  category\n",
      " 25  Emergency Department Indicator    13459 non-null  category\n",
      " 26  Total Charges                     13459 non-null  float64 \n",
      " 27  Total Costs                       13459 non-null  float64 \n",
      "dtypes: category(16), float64(4), int64(7), object(1)\n",
      "memory usage: 1.6+ MB\n"
     ]
    }
   ],
   "source": [
    "Nyack_df.info()"
   ]
  },
  {
   "cell_type": "code",
   "execution_count": 108,
   "id": "0fd21bc0",
   "metadata": {
    "execution": {
     "iopub.execute_input": "2023-02-21T11:42:26.823443Z",
     "iopub.status.busy": "2023-02-21T11:42:26.823060Z",
     "iopub.status.idle": "2023-02-21T11:42:26.829703Z",
     "shell.execute_reply": "2023-02-21T11:42:26.828657Z"
    },
    "papermill": {
     "duration": 0.06942,
     "end_time": "2023-02-21T11:42:26.831747",
     "exception": false,
     "start_time": "2023-02-21T11:42:26.762327",
     "status": "completed"
    },
    "tags": []
   },
   "outputs": [],
   "source": [
    "Nyack_df=Nyack_df.drop(\"Facility Name\", axis=1)"
   ]
  },
  {
   "cell_type": "code",
   "execution_count": 109,
   "id": "7f678aa8",
   "metadata": {
    "execution": {
     "iopub.execute_input": "2023-02-21T11:42:26.951269Z",
     "iopub.status.busy": "2023-02-21T11:42:26.950871Z",
     "iopub.status.idle": "2023-02-21T11:42:26.957546Z",
     "shell.execute_reply": "2023-02-21T11:42:26.956096Z"
    },
    "papermill": {
     "duration": 0.068955,
     "end_time": "2023-02-21T11:42:26.960097",
     "exception": false,
     "start_time": "2023-02-21T11:42:26.891142",
     "status": "completed"
    },
    "tags": []
   },
   "outputs": [],
   "source": [
    "Nyack_df = Nyack_df.drop([\"Payment Typology 2\",    \"Payment Typology 3\"], axis=1)"
   ]
  },
  {
   "cell_type": "code",
   "execution_count": 110,
   "id": "30c0ab84",
   "metadata": {
    "execution": {
     "iopub.execute_input": "2023-02-21T11:42:27.076837Z",
     "iopub.status.busy": "2023-02-21T11:42:27.076410Z",
     "iopub.status.idle": "2023-02-21T11:42:27.085070Z",
     "shell.execute_reply": "2023-02-21T11:42:27.084059Z"
    },
    "papermill": {
     "duration": 0.069109,
     "end_time": "2023-02-21T11:42:27.086819",
     "exception": false,
     "start_time": "2023-02-21T11:42:27.017710",
     "status": "completed"
    },
    "tags": []
   },
   "outputs": [],
   "source": [
    " #   simple mapping on binary features.\n",
    "Nyack_df['Abortion Edit Indicator'] = Nyack_df['Abortion Edit Indicator'].apply(\n",
    "     lambda x: 1 if x == 'Y' else (0 if x == 'N' else None))\n",
    "Nyack_df['Emergency Department Indicator'] = Nyack_df['Emergency Department Indicator'].apply(\n",
    "    lambda x: 1 if x == 'Y' else (0 if x == 'N' else None))"
   ]
  },
  {
   "cell_type": "code",
   "execution_count": 111,
   "id": "e87e7228",
   "metadata": {
    "execution": {
     "iopub.execute_input": "2023-02-21T11:42:27.203746Z",
     "iopub.status.busy": "2023-02-21T11:42:27.203348Z",
     "iopub.status.idle": "2023-02-21T11:42:27.213494Z",
     "shell.execute_reply": "2023-02-21T11:42:27.212489Z"
    },
    "papermill": {
     "duration": 0.071512,
     "end_time": "2023-02-21T11:42:27.215783",
     "exception": false,
     "start_time": "2023-02-21T11:42:27.144271",
     "status": "completed"
    },
    "tags": []
   },
   "outputs": [],
   "source": [
    "Nyack_df[\"Length of Stay\"]=pd.to_numeric(Nyack_df[\"Length of Stay\"],errors='coerce')"
   ]
  },
  {
   "cell_type": "code",
   "execution_count": 112,
   "id": "4ab112b4",
   "metadata": {
    "execution": {
     "iopub.execute_input": "2023-02-21T11:42:27.335312Z",
     "iopub.status.busy": "2023-02-21T11:42:27.334920Z",
     "iopub.status.idle": "2023-02-21T11:42:27.384769Z",
     "shell.execute_reply": "2023-02-21T11:42:27.383405Z"
    },
    "papermill": {
     "duration": 0.112386,
     "end_time": "2023-02-21T11:42:27.387191",
     "exception": false,
     "start_time": "2023-02-21T11:42:27.274805",
     "status": "completed"
    },
    "tags": []
   },
   "outputs": [],
   "source": [
    "list=  [ \"Hospital County\",\"Age Group\"\n",
    "    ,\"Gender\",   \n",
    " \"Race\" , \n",
    "\"Ethnicity\", \n",
    "\"Gender\" , \n",
    "\"Race\" ,    \n",
    " \"Ethnicity\" ,        \n",
    " \"Type of Admission\"  ,  \n",
    "  \"Patient Disposition\",      \n",
    " \"Type of Admission\" ,  \n",
    " \"Patient Disposition\"  ,\n",
    "  \"APR Risk of Mortality\" ,   \n",
    " \"APR Medical Surgical Description\" ,\n",
    " \"Payment Typology 1\"   ,   \n",
    " \"Abortion Edit Indicator\"     ,  \n",
    " \"Emergency Department Indicator\",\n",
    "       \"Zip Code - 3 digits\"]  \n",
    "\n",
    "# Import label encoder\n",
    "from sklearn import preprocessing\n",
    "  \n",
    "# label_encoder object knows how to understand word labels.\n",
    "label_encoder = preprocessing.LabelEncoder()\n",
    "  \n",
    "# Encode labels in column 'species'.\n",
    "for col in list :\n",
    "   Nyack_df[col]= label_encoder.fit_transform(Nyack_df[col])"
   ]
  },
  {
   "cell_type": "code",
   "execution_count": 113,
   "id": "f81fdcb7",
   "metadata": {
    "execution": {
     "iopub.execute_input": "2023-02-21T11:42:27.506889Z",
     "iopub.status.busy": "2023-02-21T11:42:27.506574Z",
     "iopub.status.idle": "2023-02-21T11:42:27.522007Z",
     "shell.execute_reply": "2023-02-21T11:42:27.520610Z"
    },
    "papermill": {
     "duration": 0.078135,
     "end_time": "2023-02-21T11:42:27.524526",
     "exception": false,
     "start_time": "2023-02-21T11:42:27.446391",
     "status": "completed"
    },
    "tags": []
   },
   "outputs": [
    {
     "name": "stdout",
     "output_type": "stream",
     "text": [
      "<class 'pandas.core.frame.DataFrame'>\n",
      "Int64Index: 13459 entries, 700257 to 761325\n",
      "Data columns (total 25 columns):\n",
      " #   Column                            Non-Null Count  Dtype  \n",
      "---  ------                            --------------  -----  \n",
      " 0   Hospital County                   13459 non-null  int64  \n",
      " 1   Operating Certificate Number      13459 non-null  float64\n",
      " 2   Facility Id                       13459 non-null  float64\n",
      " 3   Age Group                         13459 non-null  int64  \n",
      " 4   Zip Code - 3 digits               13459 non-null  int64  \n",
      " 5   Gender                            13459 non-null  int64  \n",
      " 6   Race                              13459 non-null  int64  \n",
      " 7   Ethnicity                         13459 non-null  int64  \n",
      " 8   Length of Stay                    13458 non-null  float64\n",
      " 9   Type of Admission                 13459 non-null  int64  \n",
      " 10  Patient Disposition               13459 non-null  int64  \n",
      " 11  Discharge Year                    13459 non-null  int64  \n",
      " 12  CCS Diagnosis Code                13459 non-null  int64  \n",
      " 13  CCS Procedure Code                13459 non-null  int64  \n",
      " 14  APR DRG Code                      13459 non-null  int64  \n",
      " 15  APR MDC Code                      13459 non-null  int64  \n",
      " 16  APR Severity of Illness Code      13459 non-null  int64  \n",
      " 17  APR Risk of Mortality             13459 non-null  int64  \n",
      " 18  APR Medical Surgical Description  13459 non-null  int64  \n",
      " 19  Payment Typology 1                13459 non-null  int64  \n",
      " 20  Birth Weight                      13459 non-null  int64  \n",
      " 21  Abortion Edit Indicator           13459 non-null  int64  \n",
      " 22  Emergency Department Indicator    13459 non-null  int64  \n",
      " 23  Total Charges                     13459 non-null  float64\n",
      " 24  Total Costs                       13459 non-null  float64\n",
      "dtypes: float64(5), int64(20)\n",
      "memory usage: 2.7 MB\n"
     ]
    }
   ],
   "source": [
    "Nyack_df.info()"
   ]
  },
  {
   "cell_type": "code",
   "execution_count": 114,
   "id": "cfe2ce2c",
   "metadata": {
    "execution": {
     "iopub.execute_input": "2023-02-21T11:42:27.644878Z",
     "iopub.status.busy": "2023-02-21T11:42:27.644484Z",
     "iopub.status.idle": "2023-02-21T11:42:27.655017Z",
     "shell.execute_reply": "2023-02-21T11:42:27.653705Z"
    },
    "papermill": {
     "duration": 0.072947,
     "end_time": "2023-02-21T11:42:27.656900",
     "exception": false,
     "start_time": "2023-02-21T11:42:27.583953",
     "status": "completed"
    },
    "tags": []
   },
   "outputs": [],
   "source": [
    "Nyack_df.dropna(inplace=True)"
   ]
  },
  {
   "cell_type": "code",
   "execution_count": 115,
   "id": "bf8e010a",
   "metadata": {
    "execution": {
     "iopub.execute_input": "2023-02-21T11:42:27.777855Z",
     "iopub.status.busy": "2023-02-21T11:42:27.777475Z",
     "iopub.status.idle": "2023-02-21T11:42:27.783951Z",
     "shell.execute_reply": "2023-02-21T11:42:27.782864Z"
    },
    "papermill": {
     "duration": 0.070189,
     "end_time": "2023-02-21T11:42:27.785905",
     "exception": false,
     "start_time": "2023-02-21T11:42:27.715716",
     "status": "completed"
    },
    "tags": []
   },
   "outputs": [],
   "source": [
    "x = Nyack_df.drop([\"Length of Stay\"], axis =1)\n",
    "y = Nyack_df[\"Length of Stay\"]"
   ]
  },
  {
   "cell_type": "code",
   "execution_count": 116,
   "id": "660d2136",
   "metadata": {
    "execution": {
     "iopub.execute_input": "2023-02-21T11:42:27.910375Z",
     "iopub.status.busy": "2023-02-21T11:42:27.909936Z",
     "iopub.status.idle": "2023-02-21T11:42:27.920467Z",
     "shell.execute_reply": "2023-02-21T11:42:27.919490Z"
    },
    "papermill": {
     "duration": 0.078406,
     "end_time": "2023-02-21T11:42:27.922904",
     "exception": false,
     "start_time": "2023-02-21T11:42:27.844498",
     "status": "completed"
    },
    "tags": []
   },
   "outputs": [],
   "source": [
    "x_train, x_test, y_train, y_test = train_test_split(x, y, test_size=0.3, random_state=42)"
   ]
  },
  {
   "cell_type": "code",
   "execution_count": 117,
   "id": "b8a64218",
   "metadata": {
    "execution": {
     "iopub.execute_input": "2023-02-21T11:42:28.045844Z",
     "iopub.status.busy": "2023-02-21T11:42:28.044673Z",
     "iopub.status.idle": "2023-02-21T11:42:28.060930Z",
     "shell.execute_reply": "2023-02-21T11:42:28.059942Z"
    },
    "papermill": {
     "duration": 0.078303,
     "end_time": "2023-02-21T11:42:28.063060",
     "exception": false,
     "start_time": "2023-02-21T11:42:27.984757",
     "status": "completed"
    },
    "tags": []
   },
   "outputs": [],
   "source": [
    "# Linear Regression\n",
    "\n",
    "LR = LinearRegression()\n",
    "LR.fit(x_train, y_train)\n",
    "LR.score(x_train, y_train)\n",
    "y_pred =LR.predict(x_test)"
   ]
  },
  {
   "cell_type": "code",
   "execution_count": 118,
   "id": "349df137",
   "metadata": {
    "execution": {
     "iopub.execute_input": "2023-02-21T11:42:28.205862Z",
     "iopub.status.busy": "2023-02-21T11:42:28.205540Z",
     "iopub.status.idle": "2023-02-21T11:42:28.213048Z",
     "shell.execute_reply": "2023-02-21T11:42:28.211810Z"
    },
    "papermill": {
     "duration": 0.077127,
     "end_time": "2023-02-21T11:42:28.215621",
     "exception": false,
     "start_time": "2023-02-21T11:42:28.138494",
     "status": "completed"
    },
    "tags": []
   },
   "outputs": [
    {
     "data": {
      "text/plain": [
       "0.8349891359205954"
      ]
     },
     "execution_count": 118,
     "metadata": {},
     "output_type": "execute_result"
    }
   ],
   "source": [
    "r2 = r2_score(y_test, y_pred)\n",
    "r2 \n"
   ]
  },
  {
   "cell_type": "code",
   "execution_count": 119,
   "id": "393f287c",
   "metadata": {
    "execution": {
     "iopub.execute_input": "2023-02-21T11:42:28.336453Z",
     "iopub.status.busy": "2023-02-21T11:42:28.335868Z",
     "iopub.status.idle": "2023-02-21T11:42:28.341912Z",
     "shell.execute_reply": "2023-02-21T11:42:28.341273Z"
    },
    "papermill": {
     "duration": 0.068346,
     "end_time": "2023-02-21T11:42:28.343569",
     "exception": false,
     "start_time": "2023-02-21T11:42:28.275223",
     "status": "completed"
    },
    "tags": []
   },
   "outputs": [
    {
     "data": {
      "text/plain": [
       "1.3344919646969073"
      ]
     },
     "execution_count": 119,
     "metadata": {},
     "output_type": "execute_result"
    }
   ],
   "source": [
    "# calculate the MAE of the model\n",
    "mae = mean_absolute_error(y_test, y_pred)\n",
    "mae"
   ]
  },
  {
   "cell_type": "code",
   "execution_count": 120,
   "id": "2c3ad55a",
   "metadata": {
    "execution": {
     "iopub.execute_input": "2023-02-21T11:42:28.464303Z",
     "iopub.status.busy": "2023-02-21T11:42:28.463739Z",
     "iopub.status.idle": "2023-02-21T11:42:28.469992Z",
     "shell.execute_reply": "2023-02-21T11:42:28.469352Z"
    },
    "papermill": {
     "duration": 0.068716,
     "end_time": "2023-02-21T11:42:28.471698",
     "exception": false,
     "start_time": "2023-02-21T11:42:28.402982",
     "status": "completed"
    },
    "tags": []
   },
   "outputs": [
    {
     "data": {
      "text/plain": [
       "5.8475935175546985"
      ]
     },
     "execution_count": 120,
     "metadata": {},
     "output_type": "execute_result"
    }
   ],
   "source": [
    "# calculate the MSE of the model\n",
    "mse = mean_squared_error(y_test, y_pred)\n",
    "mse"
   ]
  },
  {
   "cell_type": "code",
   "execution_count": 121,
   "id": "c5d26911",
   "metadata": {
    "execution": {
     "iopub.execute_input": "2023-02-21T11:42:28.590914Z",
     "iopub.status.busy": "2023-02-21T11:42:28.590327Z",
     "iopub.status.idle": "2023-02-21T11:42:28.596395Z",
     "shell.execute_reply": "2023-02-21T11:42:28.595482Z"
    },
    "papermill": {
     "duration": 0.067377,
     "end_time": "2023-02-21T11:42:28.598329",
     "exception": false,
     "start_time": "2023-02-21T11:42:28.530952",
     "status": "completed"
    },
    "tags": []
   },
   "outputs": [
    {
     "data": {
      "text/plain": [
       "2.4181797942987404"
      ]
     },
     "execution_count": 121,
     "metadata": {},
     "output_type": "execute_result"
    }
   ],
   "source": [
    "# calculate the RMSE of the model\n",
    "rmse = np.sqrt(mse)\n",
    "rmse"
   ]
  },
  {
   "cell_type": "code",
   "execution_count": 122,
   "id": "0ba0b724",
   "metadata": {
    "execution": {
     "iopub.execute_input": "2023-02-21T11:42:28.718626Z",
     "iopub.status.busy": "2023-02-21T11:42:28.718291Z",
     "iopub.status.idle": "2023-02-21T11:42:28.773056Z",
     "shell.execute_reply": "2023-02-21T11:42:28.772281Z"
    },
    "papermill": {
     "duration": 0.117817,
     "end_time": "2023-02-21T11:42:28.775457",
     "exception": false,
     "start_time": "2023-02-21T11:42:28.657640",
     "status": "completed"
    },
    "tags": []
   },
   "outputs": [],
   "source": [
    "# LASSO\n",
    "L1 = linear_model.Lasso()\n",
    "L1.fit(x_train,y_train)\n",
    "y_pred1 = L1.predict(x_test)"
   ]
  },
  {
   "cell_type": "code",
   "execution_count": 123,
   "id": "3547e8cd",
   "metadata": {
    "execution": {
     "iopub.execute_input": "2023-02-21T11:42:28.922856Z",
     "iopub.status.busy": "2023-02-21T11:42:28.922515Z",
     "iopub.status.idle": "2023-02-21T11:42:28.930050Z",
     "shell.execute_reply": "2023-02-21T11:42:28.929122Z"
    },
    "papermill": {
     "duration": 0.079485,
     "end_time": "2023-02-21T11:42:28.931779",
     "exception": false,
     "start_time": "2023-02-21T11:42:28.852294",
     "status": "completed"
    },
    "tags": []
   },
   "outputs": [
    {
     "data": {
      "text/plain": [
       "0.8130004942930402"
      ]
     },
     "execution_count": 123,
     "metadata": {},
     "output_type": "execute_result"
    }
   ],
   "source": [
    "r2 = r2_score(y_test, y_pred1)\n",
    "r2 "
   ]
  },
  {
   "cell_type": "code",
   "execution_count": 124,
   "id": "045cfc03",
   "metadata": {
    "execution": {
     "iopub.execute_input": "2023-02-21T11:42:29.051472Z",
     "iopub.status.busy": "2023-02-21T11:42:29.050310Z",
     "iopub.status.idle": "2023-02-21T11:42:29.058751Z",
     "shell.execute_reply": "2023-02-21T11:42:29.057501Z"
    },
    "papermill": {
     "duration": 0.07062,
     "end_time": "2023-02-21T11:42:29.061258",
     "exception": false,
     "start_time": "2023-02-21T11:42:28.990638",
     "status": "completed"
    },
    "tags": []
   },
   "outputs": [
    {
     "data": {
      "text/plain": [
       "1.371002670909177"
      ]
     },
     "execution_count": 124,
     "metadata": {},
     "output_type": "execute_result"
    }
   ],
   "source": [
    "# calculate the MAE of the model\n",
    "mae = mean_absolute_error(y_test, y_pred1)\n",
    "mae"
   ]
  },
  {
   "cell_type": "code",
   "execution_count": 125,
   "id": "6196468b",
   "metadata": {
    "execution": {
     "iopub.execute_input": "2023-02-21T11:42:29.182556Z",
     "iopub.status.busy": "2023-02-21T11:42:29.181954Z",
     "iopub.status.idle": "2023-02-21T11:42:29.189673Z",
     "shell.execute_reply": "2023-02-21T11:42:29.188249Z"
    },
    "papermill": {
     "duration": 0.070528,
     "end_time": "2023-02-21T11:42:29.191810",
     "exception": false,
     "start_time": "2023-02-21T11:42:29.121282",
     "status": "completed"
    },
    "tags": []
   },
   "outputs": [
    {
     "data": {
      "text/plain": [
       "6.626818806498411"
      ]
     },
     "execution_count": 125,
     "metadata": {},
     "output_type": "execute_result"
    }
   ],
   "source": [
    "# calculate the MSE of the model\n",
    "mse = mean_squared_error(y_test, y_pred1)\n",
    "mse"
   ]
  },
  {
   "cell_type": "code",
   "execution_count": 126,
   "id": "451a0dfd",
   "metadata": {
    "execution": {
     "iopub.execute_input": "2023-02-21T11:42:29.314145Z",
     "iopub.status.busy": "2023-02-21T11:42:29.313713Z",
     "iopub.status.idle": "2023-02-21T11:42:29.319856Z",
     "shell.execute_reply": "2023-02-21T11:42:29.318736Z"
    },
    "papermill": {
     "duration": 0.069503,
     "end_time": "2023-02-21T11:42:29.321603",
     "exception": false,
     "start_time": "2023-02-21T11:42:29.252100",
     "status": "completed"
    },
    "tags": []
   },
   "outputs": [
    {
     "data": {
      "text/plain": [
       "2.574260827208154"
      ]
     },
     "execution_count": 126,
     "metadata": {},
     "output_type": "execute_result"
    }
   ],
   "source": [
    "# calculate the RMSE of the model\n",
    "rmse = np.sqrt(mse)\n",
    "rmse"
   ]
  },
  {
   "cell_type": "code",
   "execution_count": 127,
   "id": "4b90ad4c",
   "metadata": {
    "execution": {
     "iopub.execute_input": "2023-02-21T11:42:29.442904Z",
     "iopub.status.busy": "2023-02-21T11:42:29.442574Z",
     "iopub.status.idle": "2023-02-21T11:42:29.454493Z",
     "shell.execute_reply": "2023-02-21T11:42:29.453472Z"
    },
    "papermill": {
     "duration": 0.075183,
     "end_time": "2023-02-21T11:42:29.456949",
     "exception": false,
     "start_time": "2023-02-21T11:42:29.381766",
     "status": "completed"
    },
    "tags": []
   },
   "outputs": [],
   "source": [
    "# Ridge\n",
    "L2 = Ridge(alpha=1.0)\n",
    "L2.fit(x_train, y_train) \n",
    "y_pred3 = L2.predict(x_test)"
   ]
  },
  {
   "cell_type": "code",
   "execution_count": 128,
   "id": "ed0e1e57",
   "metadata": {
    "execution": {
     "iopub.execute_input": "2023-02-21T11:42:29.601654Z",
     "iopub.status.busy": "2023-02-21T11:42:29.601299Z",
     "iopub.status.idle": "2023-02-21T11:42:29.608618Z",
     "shell.execute_reply": "2023-02-21T11:42:29.607824Z"
    },
    "papermill": {
     "duration": 0.077299,
     "end_time": "2023-02-21T11:42:29.610256",
     "exception": false,
     "start_time": "2023-02-21T11:42:29.532957",
     "status": "completed"
    },
    "tags": []
   },
   "outputs": [
    {
     "data": {
      "text/plain": [
       "0.8349875922803607"
      ]
     },
     "execution_count": 128,
     "metadata": {},
     "output_type": "execute_result"
    }
   ],
   "source": [
    "r2 = r2_score(y_test, y_pred3)\n",
    "r2 "
   ]
  },
  {
   "cell_type": "code",
   "execution_count": 129,
   "id": "76022525",
   "metadata": {
    "execution": {
     "iopub.execute_input": "2023-02-21T11:42:29.732693Z",
     "iopub.status.busy": "2023-02-21T11:42:29.730930Z",
     "iopub.status.idle": "2023-02-21T11:42:29.739363Z",
     "shell.execute_reply": "2023-02-21T11:42:29.737872Z"
    },
    "papermill": {
     "duration": 0.071259,
     "end_time": "2023-02-21T11:42:29.741235",
     "exception": false,
     "start_time": "2023-02-21T11:42:29.669976",
     "status": "completed"
    },
    "tags": []
   },
   "outputs": [
    {
     "data": {
      "text/plain": [
       "1.3343143263471502"
      ]
     },
     "execution_count": 129,
     "metadata": {},
     "output_type": "execute_result"
    }
   ],
   "source": [
    "# calculate the MAE of the model\n",
    "mae = mean_absolute_error(y_test, y_pred3)\n",
    "mae"
   ]
  },
  {
   "cell_type": "code",
   "execution_count": 130,
   "id": "f3559ffc",
   "metadata": {
    "execution": {
     "iopub.execute_input": "2023-02-21T11:42:29.861569Z",
     "iopub.status.busy": "2023-02-21T11:42:29.861137Z",
     "iopub.status.idle": "2023-02-21T11:42:29.868524Z",
     "shell.execute_reply": "2023-02-21T11:42:29.867770Z"
    },
    "papermill": {
     "duration": 0.069892,
     "end_time": "2023-02-21T11:42:29.870225",
     "exception": false,
     "start_time": "2023-02-21T11:42:29.800333",
     "status": "completed"
    },
    "tags": []
   },
   "outputs": [
    {
     "data": {
      "text/plain": [
       "5.847648220502174"
      ]
     },
     "execution_count": 130,
     "metadata": {},
     "output_type": "execute_result"
    }
   ],
   "source": [
    "# calculate the MSE of the model\n",
    "mse = mean_squared_error(y_test, y_pred3)\n",
    "mse"
   ]
  },
  {
   "cell_type": "code",
   "execution_count": 131,
   "id": "2416380d",
   "metadata": {
    "execution": {
     "iopub.execute_input": "2023-02-21T11:42:29.993586Z",
     "iopub.status.busy": "2023-02-21T11:42:29.992156Z",
     "iopub.status.idle": "2023-02-21T11:42:29.999104Z",
     "shell.execute_reply": "2023-02-21T11:42:29.998408Z"
    },
    "papermill": {
     "duration": 0.070562,
     "end_time": "2023-02-21T11:42:30.000858",
     "exception": false,
     "start_time": "2023-02-21T11:42:29.930296",
     "status": "completed"
    },
    "tags": []
   },
   "outputs": [
    {
     "data": {
      "text/plain": [
       "2.418191105041571"
      ]
     },
     "execution_count": 131,
     "metadata": {},
     "output_type": "execute_result"
    }
   ],
   "source": [
    "# calculate the RMSE of the model\n",
    "rmse = np.sqrt(mse)\n",
    "rmse"
   ]
  },
  {
   "cell_type": "markdown",
   "id": "bdb2c9ed",
   "metadata": {
    "papermill": {
     "duration": 0.059024,
     "end_time": "2023-02-21T11:42:30.118872",
     "exception": false,
     "start_time": "2023-02-21T11:42:30.059848",
     "status": "completed"
    },
    "tags": []
   },
   "source": [
    "Client 10: Mount St Marys Hospital"
   ]
  },
  {
   "cell_type": "code",
   "execution_count": 132,
   "id": "2b754f32",
   "metadata": {
    "execution": {
     "iopub.execute_input": "2023-02-21T11:42:30.239317Z",
     "iopub.status.busy": "2023-02-21T11:42:30.238991Z",
     "iopub.status.idle": "2023-02-21T11:42:30.377118Z",
     "shell.execute_reply": "2023-02-21T11:42:30.375653Z"
    },
    "papermill": {
     "duration": 0.201577,
     "end_time": "2023-02-21T11:42:30.379611",
     "exception": false,
     "start_time": "2023-02-21T11:42:30.178034",
     "status": "completed"
    },
    "tags": []
   },
   "outputs": [],
   "source": [
    "#Mount St Marys Hospital and Health Center\n",
    "Mount_df=df[df[\"Facility Name\"]== 'Mount St Marys Hospital and Health Center']"
   ]
  },
  {
   "cell_type": "code",
   "execution_count": 133,
   "id": "f6166652",
   "metadata": {
    "execution": {
     "iopub.execute_input": "2023-02-21T11:42:30.502644Z",
     "iopub.status.busy": "2023-02-21T11:42:30.502265Z",
     "iopub.status.idle": "2023-02-21T11:42:30.520012Z",
     "shell.execute_reply": "2023-02-21T11:42:30.519187Z"
    },
    "papermill": {
     "duration": 0.082837,
     "end_time": "2023-02-21T11:42:30.522225",
     "exception": false,
     "start_time": "2023-02-21T11:42:30.439388",
     "status": "completed"
    },
    "tags": []
   },
   "outputs": [
    {
     "name": "stdout",
     "output_type": "stream",
     "text": [
      "<class 'pandas.core.frame.DataFrame'>\n",
      "Int64Index: 5314 entries, 138563 to 143964\n",
      "Data columns (total 28 columns):\n",
      " #   Column                            Non-Null Count  Dtype   \n",
      "---  ------                            --------------  -----   \n",
      " 0   Hospital County                   5314 non-null   category\n",
      " 1   Operating Certificate Number      5314 non-null   float64 \n",
      " 2   Facility Id                       5314 non-null   float64 \n",
      " 3   Facility Name                     5314 non-null   object  \n",
      " 4   Age Group                         5314 non-null   category\n",
      " 5   Zip Code - 3 digits               5267 non-null   category\n",
      " 6   Gender                            5314 non-null   category\n",
      " 7   Race                              5314 non-null   category\n",
      " 8   Ethnicity                         5314 non-null   category\n",
      " 9   Length of Stay                    5314 non-null   category\n",
      " 10  Type of Admission                 5314 non-null   category\n",
      " 11  Patient Disposition               5314 non-null   category\n",
      " 12  Discharge Year                    5314 non-null   int64   \n",
      " 13  CCS Diagnosis Code                5314 non-null   int64   \n",
      " 14  CCS Procedure Code                5314 non-null   int64   \n",
      " 15  APR DRG Code                      5314 non-null   int64   \n",
      " 16  APR MDC Code                      5314 non-null   int64   \n",
      " 17  APR Severity of Illness Code      5314 non-null   int64   \n",
      " 18  APR Risk of Mortality             5314 non-null   category\n",
      " 19  APR Medical Surgical Description  5314 non-null   category\n",
      " 20  Payment Typology 1                5314 non-null   category\n",
      " 21  Payment Typology 2                2876 non-null   category\n",
      " 22  Payment Typology 3                327 non-null    category\n",
      " 23  Birth Weight                      5314 non-null   int64   \n",
      " 24  Abortion Edit Indicator           5314 non-null   category\n",
      " 25  Emergency Department Indicator    5314 non-null   category\n",
      " 26  Total Charges                     5314 non-null   float64 \n",
      " 27  Total Costs                       5314 non-null   float64 \n",
      "dtypes: category(16), float64(4), int64(7), object(1)\n",
      "memory usage: 646.0+ KB\n"
     ]
    }
   ],
   "source": [
    "Mount_df.info()\n"
   ]
  },
  {
   "cell_type": "code",
   "execution_count": 134,
   "id": "6d0bd602",
   "metadata": {
    "execution": {
     "iopub.execute_input": "2023-02-21T11:42:30.646471Z",
     "iopub.status.busy": "2023-02-21T11:42:30.645552Z",
     "iopub.status.idle": "2023-02-21T11:42:30.650634Z",
     "shell.execute_reply": "2023-02-21T11:42:30.649985Z"
    },
    "papermill": {
     "duration": 0.070208,
     "end_time": "2023-02-21T11:42:30.652865",
     "exception": false,
     "start_time": "2023-02-21T11:42:30.582657",
     "status": "completed"
    },
    "tags": []
   },
   "outputs": [],
   "source": [
    "Mount_df = Mount_df.drop(\"Facility Name\", axis=1)\n"
   ]
  },
  {
   "cell_type": "code",
   "execution_count": 135,
   "id": "d364a23e",
   "metadata": {
    "execution": {
     "iopub.execute_input": "2023-02-21T11:42:30.778247Z",
     "iopub.status.busy": "2023-02-21T11:42:30.777698Z",
     "iopub.status.idle": "2023-02-21T11:42:30.784322Z",
     "shell.execute_reply": "2023-02-21T11:42:30.783378Z"
    },
    "papermill": {
     "duration": 0.071902,
     "end_time": "2023-02-21T11:42:30.786647",
     "exception": false,
     "start_time": "2023-02-21T11:42:30.714745",
     "status": "completed"
    },
    "tags": []
   },
   "outputs": [],
   "source": [
    " #   simple mapping on binary features.\n",
    "Mount_df['Abortion Edit Indicator'] = Mount_df['Abortion Edit Indicator'].apply(\n",
    "     lambda x: 1 if x == 'Y' else (0 if x == 'N' else None))\n",
    "Mount_df['Emergency Department Indicator'] = Mount_df['Emergency Department Indicator'].apply(\n",
    "    lambda x: 1 if x == 'Y' else (0 if x == 'N' else None))"
   ]
  },
  {
   "cell_type": "code",
   "execution_count": 136,
   "id": "1dc87d6e",
   "metadata": {
    "execution": {
     "iopub.execute_input": "2023-02-21T11:42:30.910447Z",
     "iopub.status.busy": "2023-02-21T11:42:30.910038Z",
     "iopub.status.idle": "2023-02-21T11:42:30.918562Z",
     "shell.execute_reply": "2023-02-21T11:42:30.917250Z"
    },
    "papermill": {
     "duration": 0.073976,
     "end_time": "2023-02-21T11:42:30.920680",
     "exception": false,
     "start_time": "2023-02-21T11:42:30.846704",
     "status": "completed"
    },
    "tags": []
   },
   "outputs": [],
   "source": [
    "Mount_df[\"Length of Stay\"]=pd.to_numeric(Mount_df[\"Length of Stay\"],errors='coerce')"
   ]
  },
  {
   "cell_type": "code",
   "execution_count": 137,
   "id": "45fa0e42",
   "metadata": {
    "execution": {
     "iopub.execute_input": "2023-02-21T11:42:31.042792Z",
     "iopub.status.busy": "2023-02-21T11:42:31.042386Z",
     "iopub.status.idle": "2023-02-21T11:42:31.069214Z",
     "shell.execute_reply": "2023-02-21T11:42:31.068310Z"
    },
    "papermill": {
     "duration": 0.090527,
     "end_time": "2023-02-21T11:42:31.071296",
     "exception": false,
     "start_time": "2023-02-21T11:42:30.980769",
     "status": "completed"
    },
    "tags": []
   },
   "outputs": [],
   "source": [
    "list=  [ \"Hospital County\",\"Age Group\"\n",
    "    ,\"Gender\",   \n",
    " \"Race\" , \n",
    "\"Ethnicity\", \n",
    "\"Gender\" , \n",
    "\"Race\" ,    \n",
    " \"Ethnicity\" ,        \n",
    " \"Type of Admission\"  ,  \n",
    "  \"Patient Disposition\",      \n",
    " \"Type of Admission\" ,  \n",
    " \"Patient Disposition\"  ,\n",
    "  \"APR Risk of Mortality\" ,   \n",
    " \"APR Medical Surgical Description\" ,\n",
    " \"Payment Typology 1\"   ,   \n",
    " \"Abortion Edit Indicator\"     ,  \n",
    " \"Emergency Department Indicator\",\n",
    "       \"Zip Code - 3 digits\"]  \n",
    "\n",
    "# Import label encoder\n",
    "from sklearn import preprocessing\n",
    "  \n",
    "# label_encoder object knows how to understand word labels.\n",
    "label_encoder = preprocessing.LabelEncoder()\n",
    "  \n",
    "# Encode labels in column 'species'.\n",
    "for col in list :\n",
    "  Mount_df[col]= label_encoder.fit_transform(Mount_df[col])"
   ]
  },
  {
   "cell_type": "code",
   "execution_count": 138,
   "id": "3b81e000",
   "metadata": {
    "execution": {
     "iopub.execute_input": "2023-02-21T11:42:31.192248Z",
     "iopub.status.busy": "2023-02-21T11:42:31.191903Z",
     "iopub.status.idle": "2023-02-21T11:42:31.206086Z",
     "shell.execute_reply": "2023-02-21T11:42:31.205148Z"
    },
    "papermill": {
     "duration": 0.077326,
     "end_time": "2023-02-21T11:42:31.207875",
     "exception": false,
     "start_time": "2023-02-21T11:42:31.130549",
     "status": "completed"
    },
    "tags": []
   },
   "outputs": [
    {
     "name": "stdout",
     "output_type": "stream",
     "text": [
      "<class 'pandas.core.frame.DataFrame'>\n",
      "Int64Index: 5314 entries, 138563 to 143964\n",
      "Data columns (total 27 columns):\n",
      " #   Column                            Non-Null Count  Dtype   \n",
      "---  ------                            --------------  -----   \n",
      " 0   Hospital County                   5314 non-null   int64   \n",
      " 1   Operating Certificate Number      5314 non-null   float64 \n",
      " 2   Facility Id                       5314 non-null   float64 \n",
      " 3   Age Group                         5314 non-null   int64   \n",
      " 4   Zip Code - 3 digits               5314 non-null   int64   \n",
      " 5   Gender                            5314 non-null   int64   \n",
      " 6   Race                              5314 non-null   int64   \n",
      " 7   Ethnicity                         5314 non-null   int64   \n",
      " 8   Length of Stay                    5314 non-null   int64   \n",
      " 9   Type of Admission                 5314 non-null   int64   \n",
      " 10  Patient Disposition               5314 non-null   int64   \n",
      " 11  Discharge Year                    5314 non-null   int64   \n",
      " 12  CCS Diagnosis Code                5314 non-null   int64   \n",
      " 13  CCS Procedure Code                5314 non-null   int64   \n",
      " 14  APR DRG Code                      5314 non-null   int64   \n",
      " 15  APR MDC Code                      5314 non-null   int64   \n",
      " 16  APR Severity of Illness Code      5314 non-null   int64   \n",
      " 17  APR Risk of Mortality             5314 non-null   int64   \n",
      " 18  APR Medical Surgical Description  5314 non-null   int64   \n",
      " 19  Payment Typology 1                5314 non-null   int64   \n",
      " 20  Payment Typology 2                2876 non-null   category\n",
      " 21  Payment Typology 3                327 non-null    category\n",
      " 22  Birth Weight                      5314 non-null   int64   \n",
      " 23  Abortion Edit Indicator           5314 non-null   int64   \n",
      " 24  Emergency Department Indicator    5314 non-null   int64   \n",
      " 25  Total Charges                     5314 non-null   float64 \n",
      " 26  Total Costs                       5314 non-null   float64 \n",
      "dtypes: category(2), float64(4), int64(21)\n",
      "memory usage: 1.1 MB\n"
     ]
    }
   ],
   "source": [
    "Mount_df.info()"
   ]
  },
  {
   "cell_type": "code",
   "execution_count": 139,
   "id": "30e3a541",
   "metadata": {
    "execution": {
     "iopub.execute_input": "2023-02-21T11:42:31.330672Z",
     "iopub.status.busy": "2023-02-21T11:42:31.330277Z",
     "iopub.status.idle": "2023-02-21T11:42:31.337207Z",
     "shell.execute_reply": "2023-02-21T11:42:31.336002Z"
    },
    "papermill": {
     "duration": 0.069469,
     "end_time": "2023-02-21T11:42:31.339223",
     "exception": false,
     "start_time": "2023-02-21T11:42:31.269754",
     "status": "completed"
    },
    "tags": []
   },
   "outputs": [],
   "source": [
    "Mount_df = Mount_df.drop([\"Payment Typology 2\",    \"Payment Typology 3\"], axis=1)\n"
   ]
  },
  {
   "cell_type": "code",
   "execution_count": 140,
   "id": "1d6d3662",
   "metadata": {
    "execution": {
     "iopub.execute_input": "2023-02-21T11:42:31.461183Z",
     "iopub.status.busy": "2023-02-21T11:42:31.460826Z",
     "iopub.status.idle": "2023-02-21T11:42:31.466910Z",
     "shell.execute_reply": "2023-02-21T11:42:31.465871Z"
    },
    "papermill": {
     "duration": 0.070062,
     "end_time": "2023-02-21T11:42:31.469334",
     "exception": false,
     "start_time": "2023-02-21T11:42:31.399272",
     "status": "completed"
    },
    "tags": []
   },
   "outputs": [],
   "source": [
    "x = Mount_df.drop([\"Length of Stay\"], axis =1)\n",
    "y = Mount_df[\"Length of Stay\"]"
   ]
  },
  {
   "cell_type": "code",
   "execution_count": 141,
   "id": "bfceccb2",
   "metadata": {
    "execution": {
     "iopub.execute_input": "2023-02-21T11:42:31.591756Z",
     "iopub.status.busy": "2023-02-21T11:42:31.590801Z",
     "iopub.status.idle": "2023-02-21T11:42:31.597233Z",
     "shell.execute_reply": "2023-02-21T11:42:31.596603Z"
    },
    "papermill": {
     "duration": 0.069438,
     "end_time": "2023-02-21T11:42:31.599292",
     "exception": false,
     "start_time": "2023-02-21T11:42:31.529854",
     "status": "completed"
    },
    "tags": []
   },
   "outputs": [],
   "source": [
    "x_train, x_test, y_train, y_test = train_test_split(x, y, test_size=0.3, random_state=42)"
   ]
  },
  {
   "cell_type": "code",
   "execution_count": 142,
   "id": "621400f1",
   "metadata": {
    "execution": {
     "iopub.execute_input": "2023-02-21T11:42:31.722875Z",
     "iopub.status.busy": "2023-02-21T11:42:31.722501Z",
     "iopub.status.idle": "2023-02-21T11:42:31.734840Z",
     "shell.execute_reply": "2023-02-21T11:42:31.734067Z"
    },
    "papermill": {
     "duration": 0.076948,
     "end_time": "2023-02-21T11:42:31.737126",
     "exception": false,
     "start_time": "2023-02-21T11:42:31.660178",
     "status": "completed"
    },
    "tags": []
   },
   "outputs": [],
   "source": [
    "# Linear Regression\n",
    "\n",
    "LR = LinearRegression()\n",
    "LR.fit(x_train, y_train)\n",
    "LR.score(x_train, y_train)\n",
    "y_pred =LR.predict(x_test)"
   ]
  },
  {
   "cell_type": "code",
   "execution_count": 143,
   "id": "f7d85339",
   "metadata": {
    "execution": {
     "iopub.execute_input": "2023-02-21T11:42:31.888014Z",
     "iopub.status.busy": "2023-02-21T11:42:31.887644Z",
     "iopub.status.idle": "2023-02-21T11:42:31.894280Z",
     "shell.execute_reply": "2023-02-21T11:42:31.893659Z"
    },
    "papermill": {
     "duration": 0.080981,
     "end_time": "2023-02-21T11:42:31.895977",
     "exception": false,
     "start_time": "2023-02-21T11:42:31.814996",
     "status": "completed"
    },
    "tags": []
   },
   "outputs": [
    {
     "data": {
      "text/plain": [
       "0.8493645328400692"
      ]
     },
     "execution_count": 143,
     "metadata": {},
     "output_type": "execute_result"
    }
   ],
   "source": [
    "r2 = r2_score(y_test, y_pred)\n",
    "r2 \n"
   ]
  },
  {
   "cell_type": "code",
   "execution_count": 144,
   "id": "a6a05723",
   "metadata": {
    "execution": {
     "iopub.execute_input": "2023-02-21T11:42:32.019032Z",
     "iopub.status.busy": "2023-02-21T11:42:32.018200Z",
     "iopub.status.idle": "2023-02-21T11:42:32.025609Z",
     "shell.execute_reply": "2023-02-21T11:42:32.024431Z"
    },
    "papermill": {
     "duration": 0.071819,
     "end_time": "2023-02-21T11:42:32.027868",
     "exception": false,
     "start_time": "2023-02-21T11:42:31.956049",
     "status": "completed"
    },
    "tags": []
   },
   "outputs": [
    {
     "data": {
      "text/plain": [
       "1.5751957484784673"
      ]
     },
     "execution_count": 144,
     "metadata": {},
     "output_type": "execute_result"
    }
   ],
   "source": [
    "# calculate the MAE of the model\n",
    "mae = mean_absolute_error(y_test, y_pred)\n",
    "mae"
   ]
  },
  {
   "cell_type": "code",
   "execution_count": 145,
   "id": "5837839e",
   "metadata": {
    "execution": {
     "iopub.execute_input": "2023-02-21T11:42:32.150225Z",
     "iopub.status.busy": "2023-02-21T11:42:32.149851Z",
     "iopub.status.idle": "2023-02-21T11:42:32.157329Z",
     "shell.execute_reply": "2023-02-21T11:42:32.155826Z"
    },
    "papermill": {
     "duration": 0.071296,
     "end_time": "2023-02-21T11:42:32.159474",
     "exception": false,
     "start_time": "2023-02-21T11:42:32.088178",
     "status": "completed"
    },
    "tags": []
   },
   "outputs": [
    {
     "data": {
      "text/plain": [
       "5.420550398990118"
      ]
     },
     "execution_count": 145,
     "metadata": {},
     "output_type": "execute_result"
    }
   ],
   "source": [
    "# calculate the MSE of the model\n",
    "mse = mean_squared_error(y_test, y_pred)\n",
    "mse"
   ]
  },
  {
   "cell_type": "code",
   "execution_count": 146,
   "id": "57c8a2f0",
   "metadata": {
    "execution": {
     "iopub.execute_input": "2023-02-21T11:42:32.329796Z",
     "iopub.status.busy": "2023-02-21T11:42:32.329412Z",
     "iopub.status.idle": "2023-02-21T11:42:32.334969Z",
     "shell.execute_reply": "2023-02-21T11:42:32.334355Z"
    },
    "papermill": {
     "duration": 0.116962,
     "end_time": "2023-02-21T11:42:32.336609",
     "exception": false,
     "start_time": "2023-02-21T11:42:32.219647",
     "status": "completed"
    },
    "tags": []
   },
   "outputs": [
    {
     "data": {
      "text/plain": [
       "2.328207550668565"
      ]
     },
     "execution_count": 146,
     "metadata": {},
     "output_type": "execute_result"
    }
   ],
   "source": [
    "# calculate the RMSE of the model\n",
    "rmse = np.sqrt(mse)\n",
    "rmse"
   ]
  },
  {
   "cell_type": "code",
   "execution_count": 147,
   "id": "e72ffdad",
   "metadata": {
    "execution": {
     "iopub.execute_input": "2023-02-21T11:42:32.456684Z",
     "iopub.status.busy": "2023-02-21T11:42:32.456290Z",
     "iopub.status.idle": "2023-02-21T11:42:32.474798Z",
     "shell.execute_reply": "2023-02-21T11:42:32.473916Z"
    },
    "papermill": {
     "duration": 0.081239,
     "end_time": "2023-02-21T11:42:32.477483",
     "exception": false,
     "start_time": "2023-02-21T11:42:32.396244",
     "status": "completed"
    },
    "tags": []
   },
   "outputs": [],
   "source": [
    "# LASSO\n",
    "L1 = linear_model.Lasso()\n",
    "L1.fit(x_train,y_train)\n",
    "y_pred1 = L1.predict(x_test)"
   ]
  },
  {
   "cell_type": "code",
   "execution_count": 148,
   "id": "a5b45323",
   "metadata": {
    "execution": {
     "iopub.execute_input": "2023-02-21T11:42:32.626604Z",
     "iopub.status.busy": "2023-02-21T11:42:32.626157Z",
     "iopub.status.idle": "2023-02-21T11:42:32.633434Z",
     "shell.execute_reply": "2023-02-21T11:42:32.632470Z"
    },
    "papermill": {
     "duration": 0.079187,
     "end_time": "2023-02-21T11:42:32.635127",
     "exception": false,
     "start_time": "2023-02-21T11:42:32.555940",
     "status": "completed"
    },
    "tags": []
   },
   "outputs": [
    {
     "data": {
      "text/plain": [
       "0.8032059655994213"
      ]
     },
     "execution_count": 148,
     "metadata": {},
     "output_type": "execute_result"
    }
   ],
   "source": [
    "r2 = r2_score(y_test, y_pred1)\n",
    "r2 \n"
   ]
  },
  {
   "cell_type": "code",
   "execution_count": 149,
   "id": "6e6425bf",
   "metadata": {
    "execution": {
     "iopub.execute_input": "2023-02-21T11:42:32.756869Z",
     "iopub.status.busy": "2023-02-21T11:42:32.756326Z",
     "iopub.status.idle": "2023-02-21T11:42:32.763045Z",
     "shell.execute_reply": "2023-02-21T11:42:32.762137Z"
    },
    "papermill": {
     "duration": 0.069759,
     "end_time": "2023-02-21T11:42:32.765087",
     "exception": false,
     "start_time": "2023-02-21T11:42:32.695328",
     "status": "completed"
    },
    "tags": []
   },
   "outputs": [
    {
     "data": {
      "text/plain": [
       "7.081545945327565"
      ]
     },
     "execution_count": 149,
     "metadata": {},
     "output_type": "execute_result"
    }
   ],
   "source": [
    "# calculate the MSE of the model\n",
    "mse = mean_squared_error(y_test, y_pred1)\n",
    "mse"
   ]
  },
  {
   "cell_type": "code",
   "execution_count": 150,
   "id": "47d5040a",
   "metadata": {
    "execution": {
     "iopub.execute_input": "2023-02-21T11:42:32.890525Z",
     "iopub.status.busy": "2023-02-21T11:42:32.889931Z",
     "iopub.status.idle": "2023-02-21T11:42:32.895033Z",
     "shell.execute_reply": "2023-02-21T11:42:32.894462Z"
    },
    "papermill": {
     "duration": 0.070201,
     "end_time": "2023-02-21T11:42:32.896875",
     "exception": false,
     "start_time": "2023-02-21T11:42:32.826674",
     "status": "completed"
    },
    "tags": []
   },
   "outputs": [
    {
     "data": {
      "text/plain": [
       "2.6611174241899898"
      ]
     },
     "execution_count": 150,
     "metadata": {},
     "output_type": "execute_result"
    }
   ],
   "source": [
    "# calculate the RMSE of the model\n",
    "rmse = np.sqrt(mse)\n",
    "rmse"
   ]
  },
  {
   "cell_type": "code",
   "execution_count": 151,
   "id": "50cb3176",
   "metadata": {
    "execution": {
     "iopub.execute_input": "2023-02-21T11:42:33.020707Z",
     "iopub.status.busy": "2023-02-21T11:42:33.019856Z",
     "iopub.status.idle": "2023-02-21T11:42:33.029802Z",
     "shell.execute_reply": "2023-02-21T11:42:33.029081Z"
    },
    "papermill": {
     "duration": 0.07452,
     "end_time": "2023-02-21T11:42:33.032067",
     "exception": false,
     "start_time": "2023-02-21T11:42:32.957547",
     "status": "completed"
    },
    "tags": []
   },
   "outputs": [],
   "source": [
    "# Ridge\n",
    "L2 = Ridge(alpha=1.0)\n",
    "L2.fit(x_train, y_train) \n",
    "y_pred3 = L2.predict(x_test)"
   ]
  },
  {
   "cell_type": "code",
   "execution_count": 152,
   "id": "d264ea4a",
   "metadata": {
    "execution": {
     "iopub.execute_input": "2023-02-21T11:42:33.180189Z",
     "iopub.status.busy": "2023-02-21T11:42:33.179846Z",
     "iopub.status.idle": "2023-02-21T11:42:33.186168Z",
     "shell.execute_reply": "2023-02-21T11:42:33.185564Z"
    },
    "papermill": {
     "duration": 0.077817,
     "end_time": "2023-02-21T11:42:33.187945",
     "exception": false,
     "start_time": "2023-02-21T11:42:33.110128",
     "status": "completed"
    },
    "tags": []
   },
   "outputs": [
    {
     "data": {
      "text/plain": [
       "0.8493873434940765"
      ]
     },
     "execution_count": 152,
     "metadata": {},
     "output_type": "execute_result"
    }
   ],
   "source": [
    "r2 = r2_score(y_test, y_pred3)\n",
    "r2 "
   ]
  },
  {
   "cell_type": "code",
   "execution_count": 153,
   "id": "b241dd88",
   "metadata": {
    "execution": {
     "iopub.execute_input": "2023-02-21T11:42:33.311916Z",
     "iopub.status.busy": "2023-02-21T11:42:33.311559Z",
     "iopub.status.idle": "2023-02-21T11:42:33.319315Z",
     "shell.execute_reply": "2023-02-21T11:42:33.318297Z"
    },
    "papermill": {
     "duration": 0.071685,
     "end_time": "2023-02-21T11:42:33.321063",
     "exception": false,
     "start_time": "2023-02-21T11:42:33.249378",
     "status": "completed"
    },
    "tags": []
   },
   "outputs": [
    {
     "data": {
      "text/plain": [
       "1.5750406339612182"
      ]
     },
     "execution_count": 153,
     "metadata": {},
     "output_type": "execute_result"
    }
   ],
   "source": [
    "# calculate the MAE of the model\n",
    "mae = mean_absolute_error(y_test, y_pred3)\n",
    "mae"
   ]
  },
  {
   "cell_type": "code",
   "execution_count": 154,
   "id": "741942ff",
   "metadata": {
    "execution": {
     "iopub.execute_input": "2023-02-21T11:42:33.445972Z",
     "iopub.status.busy": "2023-02-21T11:42:33.445128Z",
     "iopub.status.idle": "2023-02-21T11:42:33.453403Z",
     "shell.execute_reply": "2023-02-21T11:42:33.452121Z"
    },
    "papermill": {
     "duration": 0.072694,
     "end_time": "2023-02-21T11:42:33.455331",
     "exception": false,
     "start_time": "2023-02-21T11:42:33.382637",
     "status": "completed"
    },
    "tags": []
   },
   "outputs": [
    {
     "data": {
      "text/plain": [
       "5.419729567734293"
      ]
     },
     "execution_count": 154,
     "metadata": {},
     "output_type": "execute_result"
    }
   ],
   "source": [
    "# calculate the MSE of the model\n",
    "mse = mean_squared_error(y_test, y_pred3)\n",
    "mse"
   ]
  },
  {
   "cell_type": "code",
   "execution_count": 155,
   "id": "c09890c6",
   "metadata": {
    "execution": {
     "iopub.execute_input": "2023-02-21T11:42:33.577122Z",
     "iopub.status.busy": "2023-02-21T11:42:33.576523Z",
     "iopub.status.idle": "2023-02-21T11:42:33.582821Z",
     "shell.execute_reply": "2023-02-21T11:42:33.581895Z"
    },
    "papermill": {
     "duration": 0.069379,
     "end_time": "2023-02-21T11:42:33.584950",
     "exception": false,
     "start_time": "2023-02-21T11:42:33.515571",
     "status": "completed"
    },
    "tags": []
   },
   "outputs": [
    {
     "data": {
      "text/plain": [
       "2.328031264337808"
      ]
     },
     "execution_count": 155,
     "metadata": {},
     "output_type": "execute_result"
    }
   ],
   "source": [
    "# calculate the RMSE of the model\n",
    "rmse = np.sqrt(mse)\n",
    "rmse"
   ]
  },
  {
   "cell_type": "markdown",
   "id": "b7995400",
   "metadata": {
    "papermill": {
     "duration": 0.063073,
     "end_time": "2023-02-21T11:42:33.709850",
     "exception": false,
     "start_time": "2023-02-21T11:42:33.646777",
     "status": "completed"
    },
    "tags": []
   },
   "source": [
    "Client 5: Buffalo Women & Children’s Hospital 11051\n"
   ]
  },
  {
   "cell_type": "code",
   "execution_count": 156,
   "id": "523d8798",
   "metadata": {
    "execution": {
     "iopub.execute_input": "2023-02-21T11:42:33.834657Z",
     "iopub.status.busy": "2023-02-21T11:42:33.834297Z",
     "iopub.status.idle": "2023-02-21T11:42:33.974261Z",
     "shell.execute_reply": "2023-02-21T11:42:33.973017Z"
    },
    "papermill": {
     "duration": 0.204935,
     "end_time": "2023-02-21T11:42:33.976760",
     "exception": false,
     "start_time": "2023-02-21T11:42:33.771825",
     "status": "completed"
    },
    "tags": []
   },
   "outputs": [],
   "source": [
    "\n",
    "Buffalo_df=df[df[\"Facility Name\"]== \"Women And Children's Hospital Of Buffalo\"]"
   ]
  },
  {
   "cell_type": "code",
   "execution_count": 157,
   "id": "5b88e5f6",
   "metadata": {
    "execution": {
     "iopub.execute_input": "2023-02-21T11:42:34.102520Z",
     "iopub.status.busy": "2023-02-21T11:42:34.102146Z",
     "iopub.status.idle": "2023-02-21T11:42:34.121102Z",
     "shell.execute_reply": "2023-02-21T11:42:34.120136Z"
    },
    "papermill": {
     "duration": 0.084092,
     "end_time": "2023-02-21T11:42:34.123151",
     "exception": false,
     "start_time": "2023-02-21T11:42:34.039059",
     "status": "completed"
    },
    "tags": []
   },
   "outputs": [
    {
     "name": "stdout",
     "output_type": "stream",
     "text": [
      "<class 'pandas.core.frame.DataFrame'>\n",
      "Int64Index: 13020 entries, 3309 to 54603\n",
      "Data columns (total 28 columns):\n",
      " #   Column                            Non-Null Count  Dtype   \n",
      "---  ------                            --------------  -----   \n",
      " 0   Hospital County                   13020 non-null  category\n",
      " 1   Operating Certificate Number      13020 non-null  float64 \n",
      " 2   Facility Id                       13020 non-null  float64 \n",
      " 3   Facility Name                     13020 non-null  object  \n",
      " 4   Age Group                         13020 non-null  category\n",
      " 5   Zip Code - 3 digits               12941 non-null  category\n",
      " 6   Gender                            13020 non-null  category\n",
      " 7   Race                              13020 non-null  category\n",
      " 8   Ethnicity                         13020 non-null  category\n",
      " 9   Length of Stay                    13020 non-null  category\n",
      " 10  Type of Admission                 13020 non-null  category\n",
      " 11  Patient Disposition               13020 non-null  category\n",
      " 12  Discharge Year                    13020 non-null  int64   \n",
      " 13  CCS Diagnosis Code                13020 non-null  int64   \n",
      " 14  CCS Procedure Code                13020 non-null  int64   \n",
      " 15  APR DRG Code                      13020 non-null  int64   \n",
      " 16  APR MDC Code                      13020 non-null  int64   \n",
      " 17  APR Severity of Illness Code      13020 non-null  int64   \n",
      " 18  APR Risk of Mortality             13020 non-null  category\n",
      " 19  APR Medical Surgical Description  13020 non-null  category\n",
      " 20  Payment Typology 1                13020 non-null  category\n",
      " 21  Payment Typology 2                12947 non-null  category\n",
      " 22  Payment Typology 3                787 non-null    category\n",
      " 23  Birth Weight                      13020 non-null  int64   \n",
      " 24  Abortion Edit Indicator           13020 non-null  category\n",
      " 25  Emergency Department Indicator    13020 non-null  category\n",
      " 26  Total Charges                     13020 non-null  float64 \n",
      " 27  Total Costs                       13020 non-null  float64 \n",
      "dtypes: category(16), float64(4), int64(7), object(1)\n",
      "memory usage: 1.5+ MB\n"
     ]
    }
   ],
   "source": [
    "Buffalo_df.info()"
   ]
  },
  {
   "cell_type": "code",
   "execution_count": 158,
   "id": "a027cfe4",
   "metadata": {
    "execution": {
     "iopub.execute_input": "2023-02-21T11:42:34.246334Z",
     "iopub.status.busy": "2023-02-21T11:42:34.245912Z",
     "iopub.status.idle": "2023-02-21T11:42:34.252020Z",
     "shell.execute_reply": "2023-02-21T11:42:34.251200Z"
    },
    "papermill": {
     "duration": 0.069528,
     "end_time": "2023-02-21T11:42:34.253695",
     "exception": false,
     "start_time": "2023-02-21T11:42:34.184167",
     "status": "completed"
    },
    "tags": []
   },
   "outputs": [],
   "source": [
    "Buffalo_df= Buffalo_df.drop(\"Facility Name\", axis=1)"
   ]
  },
  {
   "cell_type": "code",
   "execution_count": 159,
   "id": "3ac8859d",
   "metadata": {
    "execution": {
     "iopub.execute_input": "2023-02-21T11:42:34.378733Z",
     "iopub.status.busy": "2023-02-21T11:42:34.378379Z",
     "iopub.status.idle": "2023-02-21T11:42:34.383634Z",
     "shell.execute_reply": "2023-02-21T11:42:34.382744Z"
    },
    "papermill": {
     "duration": 0.069856,
     "end_time": "2023-02-21T11:42:34.385355",
     "exception": false,
     "start_time": "2023-02-21T11:42:34.315499",
     "status": "completed"
    },
    "tags": []
   },
   "outputs": [],
   "source": [
    "Buffalo_df = Buffalo_df.drop([\"Payment Typology 2\",    \"Payment Typology 3\"], axis=1)\n"
   ]
  },
  {
   "cell_type": "code",
   "execution_count": 160,
   "id": "3236739b",
   "metadata": {
    "execution": {
     "iopub.execute_input": "2023-02-21T11:42:34.508203Z",
     "iopub.status.busy": "2023-02-21T11:42:34.507827Z",
     "iopub.status.idle": "2023-02-21T11:42:34.516482Z",
     "shell.execute_reply": "2023-02-21T11:42:34.515375Z"
    },
    "papermill": {
     "duration": 0.072195,
     "end_time": "2023-02-21T11:42:34.518645",
     "exception": false,
     "start_time": "2023-02-21T11:42:34.446450",
     "status": "completed"
    },
    "tags": []
   },
   "outputs": [],
   "source": [
    " #   simple mapping on binary features.\n",
    "Buffalo_df['Abortion Edit Indicator'] = Buffalo_df['Abortion Edit Indicator'].apply(\n",
    "     lambda x: 1 if x == 'Y' else (0 if x == 'N' else None))\n",
    "Buffalo_df['Emergency Department Indicator'] = Buffalo_df['Emergency Department Indicator'].apply(\n",
    "    lambda x: 1 if x == 'Y' else (0 if x == 'N' else None))"
   ]
  },
  {
   "cell_type": "code",
   "execution_count": 161,
   "id": "6df9a478",
   "metadata": {
    "execution": {
     "iopub.execute_input": "2023-02-21T11:42:34.641740Z",
     "iopub.status.busy": "2023-02-21T11:42:34.641337Z",
     "iopub.status.idle": "2023-02-21T11:42:34.652918Z",
     "shell.execute_reply": "2023-02-21T11:42:34.651857Z"
    },
    "papermill": {
     "duration": 0.075851,
     "end_time": "2023-02-21T11:42:34.654500",
     "exception": false,
     "start_time": "2023-02-21T11:42:34.578649",
     "status": "completed"
    },
    "tags": []
   },
   "outputs": [],
   "source": [
    "Buffalo_df[\"Length of Stay\"]=pd.to_numeric(Buffalo_df[\"Length of Stay\"],errors='coerce')"
   ]
  },
  {
   "cell_type": "code",
   "execution_count": 162,
   "id": "43759004",
   "metadata": {
    "execution": {
     "iopub.execute_input": "2023-02-21T11:42:34.780205Z",
     "iopub.status.busy": "2023-02-21T11:42:34.779835Z",
     "iopub.status.idle": "2023-02-21T11:42:34.827569Z",
     "shell.execute_reply": "2023-02-21T11:42:34.826627Z"
    },
    "papermill": {
     "duration": 0.111891,
     "end_time": "2023-02-21T11:42:34.829831",
     "exception": false,
     "start_time": "2023-02-21T11:42:34.717940",
     "status": "completed"
    },
    "tags": []
   },
   "outputs": [],
   "source": [
    "list=  [ \"Hospital County\",\"Age Group\"\n",
    "    ,\"Gender\",   \n",
    " \"Race\" , \n",
    "\"Ethnicity\", \n",
    "\"Gender\" , \n",
    "\"Race\" ,    \n",
    " \"Ethnicity\" ,        \n",
    " \"Type of Admission\"  ,  \n",
    "  \"Patient Disposition\",      \n",
    " \"Type of Admission\" ,  \n",
    " \"Patient Disposition\"  ,\n",
    "  \"APR Risk of Mortality\" ,   \n",
    " \"APR Medical Surgical Description\" ,\n",
    " \"Payment Typology 1\"   ,   \n",
    " \"Abortion Edit Indicator\"     ,  \n",
    " \"Emergency Department Indicator\",\n",
    "       \"Zip Code - 3 digits\"]  \n",
    "\n",
    "# Import label encoder\n",
    "from sklearn import preprocessing\n",
    "  \n",
    "# label_encoder object knows how to understand word labels.\n",
    "label_encoder = preprocessing.LabelEncoder()\n",
    "  \n",
    "# Encode labels in column 'species'.\n",
    "for col in list :\n",
    "  Buffalo_df[col]= label_encoder.fit_transform(Buffalo_df[col])"
   ]
  },
  {
   "cell_type": "code",
   "execution_count": 163,
   "id": "70bea0b3",
   "metadata": {
    "execution": {
     "iopub.execute_input": "2023-02-21T11:42:34.951997Z",
     "iopub.status.busy": "2023-02-21T11:42:34.951638Z",
     "iopub.status.idle": "2023-02-21T11:42:34.957110Z",
     "shell.execute_reply": "2023-02-21T11:42:34.956034Z"
    },
    "papermill": {
     "duration": 0.068872,
     "end_time": "2023-02-21T11:42:34.958783",
     "exception": false,
     "start_time": "2023-02-21T11:42:34.889911",
     "status": "completed"
    },
    "tags": []
   },
   "outputs": [],
   "source": [
    "x = Glens_df.drop([\"Length of Stay\"], axis =1)\n",
    "y = Glens_df[\"Length of Stay\"]"
   ]
  },
  {
   "cell_type": "code",
   "execution_count": 164,
   "id": "d41f5993",
   "metadata": {
    "execution": {
     "iopub.execute_input": "2023-02-21T11:42:35.080322Z",
     "iopub.status.busy": "2023-02-21T11:42:35.079463Z",
     "iopub.status.idle": "2023-02-21T11:42:35.088988Z",
     "shell.execute_reply": "2023-02-21T11:42:35.087927Z"
    },
    "papermill": {
     "duration": 0.072306,
     "end_time": "2023-02-21T11:42:35.090933",
     "exception": false,
     "start_time": "2023-02-21T11:42:35.018627",
     "status": "completed"
    },
    "tags": []
   },
   "outputs": [],
   "source": [
    "x_train, x_test, y_train, y_test = train_test_split(x, y, test_size=0.3, random_state=42)"
   ]
  },
  {
   "cell_type": "code",
   "execution_count": 165,
   "id": "3f121440",
   "metadata": {
    "execution": {
     "iopub.execute_input": "2023-02-21T11:42:35.211676Z",
     "iopub.status.busy": "2023-02-21T11:42:35.211319Z",
     "iopub.status.idle": "2023-02-21T11:42:35.233875Z",
     "shell.execute_reply": "2023-02-21T11:42:35.232719Z"
    },
    "papermill": {
     "duration": 0.08595,
     "end_time": "2023-02-21T11:42:35.236472",
     "exception": false,
     "start_time": "2023-02-21T11:42:35.150522",
     "status": "completed"
    },
    "tags": []
   },
   "outputs": [],
   "source": [
    "# Linear Regression\n",
    "\n",
    "LR = LinearRegression()\n",
    "LR.fit(x_train, y_train)\n",
    "LR.score(x_train, y_train)\n",
    "y_pred =LR.predict(x_test)"
   ]
  },
  {
   "cell_type": "code",
   "execution_count": 166,
   "id": "64c98588",
   "metadata": {
    "execution": {
     "iopub.execute_input": "2023-02-21T11:42:35.388099Z",
     "iopub.status.busy": "2023-02-21T11:42:35.386897Z",
     "iopub.status.idle": "2023-02-21T11:42:35.394822Z",
     "shell.execute_reply": "2023-02-21T11:42:35.393741Z"
    },
    "papermill": {
     "duration": 0.080231,
     "end_time": "2023-02-21T11:42:35.396645",
     "exception": false,
     "start_time": "2023-02-21T11:42:35.316414",
     "status": "completed"
    },
    "tags": []
   },
   "outputs": [
    {
     "data": {
      "text/plain": [
       "0.7753107229320534"
      ]
     },
     "execution_count": 166,
     "metadata": {},
     "output_type": "execute_result"
    }
   ],
   "source": [
    "r2 = r2_score(y_test, y_pred)\n",
    "r2 \n"
   ]
  },
  {
   "cell_type": "code",
   "execution_count": 167,
   "id": "464845d6",
   "metadata": {
    "execution": {
     "iopub.execute_input": "2023-02-21T11:42:35.521961Z",
     "iopub.status.busy": "2023-02-21T11:42:35.521296Z",
     "iopub.status.idle": "2023-02-21T11:42:35.528849Z",
     "shell.execute_reply": "2023-02-21T11:42:35.527611Z"
    },
    "papermill": {
     "duration": 0.072418,
     "end_time": "2023-02-21T11:42:35.530906",
     "exception": false,
     "start_time": "2023-02-21T11:42:35.458488",
     "status": "completed"
    },
    "tags": []
   },
   "outputs": [
    {
     "data": {
      "text/plain": [
       "1.519038644423741"
      ]
     },
     "execution_count": 167,
     "metadata": {},
     "output_type": "execute_result"
    }
   ],
   "source": [
    "# calculate the MAE of the model\n",
    "mae = mean_absolute_error(y_test, y_pred)\n",
    "mae"
   ]
  },
  {
   "cell_type": "code",
   "execution_count": 168,
   "id": "1039c3c6",
   "metadata": {
    "execution": {
     "iopub.execute_input": "2023-02-21T11:42:35.656987Z",
     "iopub.status.busy": "2023-02-21T11:42:35.656641Z",
     "iopub.status.idle": "2023-02-21T11:42:35.663166Z",
     "shell.execute_reply": "2023-02-21T11:42:35.662307Z"
    },
    "papermill": {
     "duration": 0.072976,
     "end_time": "2023-02-21T11:42:35.665027",
     "exception": false,
     "start_time": "2023-02-21T11:42:35.592051",
     "status": "completed"
    },
    "tags": []
   },
   "outputs": [
    {
     "data": {
      "text/plain": [
       "8.394303923962779"
      ]
     },
     "execution_count": 168,
     "metadata": {},
     "output_type": "execute_result"
    }
   ],
   "source": [
    "# calculate the MSE of the model\n",
    "mse = mean_squared_error(y_test, y_pred)\n",
    "mse"
   ]
  },
  {
   "cell_type": "code",
   "execution_count": 169,
   "id": "777eb827",
   "metadata": {
    "execution": {
     "iopub.execute_input": "2023-02-21T11:42:35.791187Z",
     "iopub.status.busy": "2023-02-21T11:42:35.789967Z",
     "iopub.status.idle": "2023-02-21T11:42:35.796565Z",
     "shell.execute_reply": "2023-02-21T11:42:35.795835Z"
    },
    "papermill": {
     "duration": 0.071523,
     "end_time": "2023-02-21T11:42:35.798412",
     "exception": false,
     "start_time": "2023-02-21T11:42:35.726889",
     "status": "completed"
    },
    "tags": []
   },
   "outputs": [
    {
     "data": {
      "text/plain": [
       "2.8972925161196237"
      ]
     },
     "execution_count": 169,
     "metadata": {},
     "output_type": "execute_result"
    }
   ],
   "source": [
    "# calculate the RMSE of the model\n",
    "rmse = np.sqrt(mse)\n",
    "rmse"
   ]
  },
  {
   "cell_type": "code",
   "execution_count": 170,
   "id": "a1318f97",
   "metadata": {
    "execution": {
     "iopub.execute_input": "2023-02-21T11:42:35.924592Z",
     "iopub.status.busy": "2023-02-21T11:42:35.923508Z",
     "iopub.status.idle": "2023-02-21T11:42:35.993800Z",
     "shell.execute_reply": "2023-02-21T11:42:35.993045Z"
    },
    "papermill": {
     "duration": 0.135515,
     "end_time": "2023-02-21T11:42:35.995913",
     "exception": false,
     "start_time": "2023-02-21T11:42:35.860398",
     "status": "completed"
    },
    "tags": []
   },
   "outputs": [],
   "source": [
    "# LASSO\n",
    "L1 = linear_model.Lasso()\n",
    "L1.fit(x_train,y_train)\n",
    "y_pred1 = L1.predict(x_test)"
   ]
  },
  {
   "cell_type": "code",
   "execution_count": 171,
   "id": "262d4cc5",
   "metadata": {
    "execution": {
     "iopub.execute_input": "2023-02-21T11:42:36.146137Z",
     "iopub.status.busy": "2023-02-21T11:42:36.145822Z",
     "iopub.status.idle": "2023-02-21T11:42:36.154009Z",
     "shell.execute_reply": "2023-02-21T11:42:36.152755Z"
    },
    "papermill": {
     "duration": 0.081503,
     "end_time": "2023-02-21T11:42:36.156513",
     "exception": false,
     "start_time": "2023-02-21T11:42:36.075010",
     "status": "completed"
    },
    "tags": []
   },
   "outputs": [
    {
     "data": {
      "text/plain": [
       "0.7507020198871027"
      ]
     },
     "execution_count": 171,
     "metadata": {},
     "output_type": "execute_result"
    }
   ],
   "source": [
    "r2 = r2_score(y_test, y_pred1)\n",
    "r2 \n"
   ]
  },
  {
   "cell_type": "code",
   "execution_count": 172,
   "id": "4c50cd3f",
   "metadata": {
    "execution": {
     "iopub.execute_input": "2023-02-21T11:42:36.330111Z",
     "iopub.status.busy": "2023-02-21T11:42:36.329569Z",
     "iopub.status.idle": "2023-02-21T11:42:36.335022Z",
     "shell.execute_reply": "2023-02-21T11:42:36.334378Z"
    },
    "papermill": {
     "duration": 0.071853,
     "end_time": "2023-02-21T11:42:36.337331",
     "exception": false,
     "start_time": "2023-02-21T11:42:36.265478",
     "status": "completed"
    },
    "tags": []
   },
   "outputs": [
    {
     "data": {
      "text/plain": [
       "1.5980824331021113"
      ]
     },
     "execution_count": 172,
     "metadata": {},
     "output_type": "execute_result"
    }
   ],
   "source": [
    "# calculate the MAE of the model\n",
    "mae = mean_absolute_error(y_test, y_pred1)\n",
    "mae"
   ]
  },
  {
   "cell_type": "code",
   "execution_count": 173,
   "id": "d3848f58",
   "metadata": {
    "execution": {
     "iopub.execute_input": "2023-02-21T11:42:36.467679Z",
     "iopub.status.busy": "2023-02-21T11:42:36.467026Z",
     "iopub.status.idle": "2023-02-21T11:42:36.473998Z",
     "shell.execute_reply": "2023-02-21T11:42:36.473093Z"
    },
    "papermill": {
     "duration": 0.073395,
     "end_time": "2023-02-21T11:42:36.476452",
     "exception": false,
     "start_time": "2023-02-21T11:42:36.403057",
     "status": "completed"
    },
    "tags": []
   },
   "outputs": [
    {
     "data": {
      "text/plain": [
       "9.313675490018403"
      ]
     },
     "execution_count": 173,
     "metadata": {},
     "output_type": "execute_result"
    }
   ],
   "source": [
    "# calculate the MSE of the model\n",
    "mse = mean_squared_error(y_test, y_pred1)\n",
    "mse"
   ]
  },
  {
   "cell_type": "code",
   "execution_count": 174,
   "id": "ea72ac77",
   "metadata": {
    "execution": {
     "iopub.execute_input": "2023-02-21T11:42:36.600730Z",
     "iopub.status.busy": "2023-02-21T11:42:36.600195Z",
     "iopub.status.idle": "2023-02-21T11:42:36.605920Z",
     "shell.execute_reply": "2023-02-21T11:42:36.605127Z"
    },
    "papermill": {
     "duration": 0.069469,
     "end_time": "2023-02-21T11:42:36.607596",
     "exception": false,
     "start_time": "2023-02-21T11:42:36.538127",
     "status": "completed"
    },
    "tags": []
   },
   "outputs": [
    {
     "data": {
      "text/plain": [
       "3.0518314976450456"
      ]
     },
     "execution_count": 174,
     "metadata": {},
     "output_type": "execute_result"
    }
   ],
   "source": [
    "# calculate the RMSE of the model\n",
    "rmse = np.sqrt(mse)\n",
    "rmse"
   ]
  },
  {
   "cell_type": "code",
   "execution_count": 175,
   "id": "50056ad9",
   "metadata": {
    "execution": {
     "iopub.execute_input": "2023-02-21T11:42:36.732617Z",
     "iopub.status.busy": "2023-02-21T11:42:36.732067Z",
     "iopub.status.idle": "2023-02-21T11:42:36.742178Z",
     "shell.execute_reply": "2023-02-21T11:42:36.741406Z"
    },
    "papermill": {
     "duration": 0.076189,
     "end_time": "2023-02-21T11:42:36.744926",
     "exception": false,
     "start_time": "2023-02-21T11:42:36.668737",
     "status": "completed"
    },
    "tags": []
   },
   "outputs": [],
   "source": [
    "# Ridge\n",
    "L2 = Ridge(alpha=1.0)\n",
    "L2.fit(x_train, y_train) \n",
    "y_pred3 = L2.predict(x_test)"
   ]
  },
  {
   "cell_type": "code",
   "execution_count": 176,
   "id": "590069bb",
   "metadata": {
    "execution": {
     "iopub.execute_input": "2023-02-21T11:42:36.893848Z",
     "iopub.status.busy": "2023-02-21T11:42:36.893465Z",
     "iopub.status.idle": "2023-02-21T11:42:36.899369Z",
     "shell.execute_reply": "2023-02-21T11:42:36.898589Z"
    },
    "papermill": {
     "duration": 0.077142,
     "end_time": "2023-02-21T11:42:36.901162",
     "exception": false,
     "start_time": "2023-02-21T11:42:36.824020",
     "status": "completed"
    },
    "tags": []
   },
   "outputs": [
    {
     "data": {
      "text/plain": [
       "0.7753072003472253"
      ]
     },
     "execution_count": 176,
     "metadata": {},
     "output_type": "execute_result"
    }
   ],
   "source": [
    "r2 = r2_score(y_test, y_pred3)\n",
    "r2 "
   ]
  },
  {
   "cell_type": "code",
   "execution_count": 177,
   "id": "8d33e92b",
   "metadata": {
    "execution": {
     "iopub.execute_input": "2023-02-21T11:42:37.024356Z",
     "iopub.status.busy": "2023-02-21T11:42:37.023841Z",
     "iopub.status.idle": "2023-02-21T11:42:37.030245Z",
     "shell.execute_reply": "2023-02-21T11:42:37.029497Z"
    },
    "papermill": {
     "duration": 0.069887,
     "end_time": "2023-02-21T11:42:37.031968",
     "exception": false,
     "start_time": "2023-02-21T11:42:36.962081",
     "status": "completed"
    },
    "tags": []
   },
   "outputs": [
    {
     "data": {
      "text/plain": [
       "1.5188909684172016"
      ]
     },
     "execution_count": 177,
     "metadata": {},
     "output_type": "execute_result"
    }
   ],
   "source": [
    "# calculate the MAE of the model\n",
    "mae = mean_absolute_error(y_test, y_pred3)\n",
    "mae"
   ]
  },
  {
   "cell_type": "code",
   "execution_count": 178,
   "id": "c80563a3",
   "metadata": {
    "execution": {
     "iopub.execute_input": "2023-02-21T11:42:37.154275Z",
     "iopub.status.busy": "2023-02-21T11:42:37.153721Z",
     "iopub.status.idle": "2023-02-21T11:42:37.159903Z",
     "shell.execute_reply": "2023-02-21T11:42:37.158670Z"
    },
    "papermill": {
     "duration": 0.070127,
     "end_time": "2023-02-21T11:42:37.162311",
     "exception": false,
     "start_time": "2023-02-21T11:42:37.092184",
     "status": "completed"
    },
    "tags": []
   },
   "outputs": [
    {
     "data": {
      "text/plain": [
       "8.394435526360677"
      ]
     },
     "execution_count": 178,
     "metadata": {},
     "output_type": "execute_result"
    }
   ],
   "source": [
    "# calculate the MSE of the model\n",
    "mse = mean_squared_error(y_test, y_pred3)\n",
    "mse"
   ]
  },
  {
   "cell_type": "code",
   "execution_count": 179,
   "id": "8be70576",
   "metadata": {
    "execution": {
     "iopub.execute_input": "2023-02-21T11:42:37.289276Z",
     "iopub.status.busy": "2023-02-21T11:42:37.288746Z",
     "iopub.status.idle": "2023-02-21T11:42:37.294349Z",
     "shell.execute_reply": "2023-02-21T11:42:37.293721Z"
    },
    "papermill": {
     "duration": 0.070911,
     "end_time": "2023-02-21T11:42:37.296063",
     "exception": false,
     "start_time": "2023-02-21T11:42:37.225152",
     "status": "completed"
    },
    "tags": []
   },
   "outputs": [
    {
     "data": {
      "text/plain": [
       "2.8973152273028004"
      ]
     },
     "execution_count": 179,
     "metadata": {},
     "output_type": "execute_result"
    }
   ],
   "source": [
    "# calculate the RMSE of the model\n",
    "rmse = np.sqrt(mse)\n",
    "rmse"
   ]
  },
  {
   "cell_type": "markdown",
   "id": "25893ffd",
   "metadata": {
    "papermill": {
     "duration": 0.062409,
     "end_time": "2023-02-21T11:42:37.421904",
     "exception": false,
     "start_time": "2023-02-21T11:42:37.359495",
     "status": "completed"
    },
    "tags": []
   },
   "source": [
    "clint 1: Albany"
   ]
  },
  {
   "cell_type": "code",
   "execution_count": 180,
   "id": "439ebc60",
   "metadata": {
    "execution": {
     "iopub.execute_input": "2023-02-21T11:42:37.546918Z",
     "iopub.status.busy": "2023-02-21T11:42:37.546378Z",
     "iopub.status.idle": "2023-02-21T11:42:37.688559Z",
     "shell.execute_reply": "2023-02-21T11:42:37.687548Z"
    },
    "papermill": {
     "duration": 0.206976,
     "end_time": "2023-02-21T11:42:37.690875",
     "exception": false,
     "start_time": "2023-02-21T11:42:37.483899",
     "status": "completed"
    },
    "tags": []
   },
   "outputs": [],
   "source": [
    "Albany_df=df[df[\"Facility Name\"]== 'Albany Medical Center Hospital']\n"
   ]
  },
  {
   "cell_type": "code",
   "execution_count": 181,
   "id": "797c4c0c",
   "metadata": {
    "execution": {
     "iopub.execute_input": "2023-02-21T11:42:37.817831Z",
     "iopub.status.busy": "2023-02-21T11:42:37.817489Z",
     "iopub.status.idle": "2023-02-21T11:42:37.855633Z",
     "shell.execute_reply": "2023-02-21T11:42:37.854472Z"
    },
    "papermill": {
     "duration": 0.10353,
     "end_time": "2023-02-21T11:42:37.857630",
     "exception": false,
     "start_time": "2023-02-21T11:42:37.754100",
     "status": "completed"
    },
    "tags": []
   },
   "outputs": [
    {
     "data": {
      "text/html": [
       "<div>\n",
       "<style scoped>\n",
       "    .dataframe tbody tr th:only-of-type {\n",
       "        vertical-align: middle;\n",
       "    }\n",
       "\n",
       "    .dataframe tbody tr th {\n",
       "        vertical-align: top;\n",
       "    }\n",
       "\n",
       "    .dataframe thead th {\n",
       "        text-align: right;\n",
       "    }\n",
       "</style>\n",
       "<table border=\"1\" class=\"dataframe\">\n",
       "  <thead>\n",
       "    <tr style=\"text-align: right;\">\n",
       "      <th></th>\n",
       "      <th>Hospital County</th>\n",
       "      <th>Operating Certificate Number</th>\n",
       "      <th>Facility Id</th>\n",
       "      <th>Facility Name</th>\n",
       "      <th>Age Group</th>\n",
       "      <th>Zip Code - 3 digits</th>\n",
       "      <th>Gender</th>\n",
       "      <th>Race</th>\n",
       "      <th>Ethnicity</th>\n",
       "      <th>Length of Stay</th>\n",
       "      <th>...</th>\n",
       "      <th>APR Risk of Mortality</th>\n",
       "      <th>APR Medical Surgical Description</th>\n",
       "      <th>Payment Typology 1</th>\n",
       "      <th>Payment Typology 2</th>\n",
       "      <th>Payment Typology 3</th>\n",
       "      <th>Birth Weight</th>\n",
       "      <th>Abortion Edit Indicator</th>\n",
       "      <th>Emergency Department Indicator</th>\n",
       "      <th>Total Charges</th>\n",
       "      <th>Total Costs</th>\n",
       "    </tr>\n",
       "  </thead>\n",
       "  <tbody>\n",
       "    <tr>\n",
       "      <th>490252</th>\n",
       "      <td>Albany</td>\n",
       "      <td>101000.0</td>\n",
       "      <td>1.0</td>\n",
       "      <td>Albany Medical Center Hospital</td>\n",
       "      <td>0 to 17</td>\n",
       "      <td>120</td>\n",
       "      <td>F</td>\n",
       "      <td>White</td>\n",
       "      <td>Not Span/Hispanic</td>\n",
       "      <td>1</td>\n",
       "      <td>...</td>\n",
       "      <td>Minor</td>\n",
       "      <td>Medical</td>\n",
       "      <td>Medicaid</td>\n",
       "      <td>NaN</td>\n",
       "      <td>NaN</td>\n",
       "      <td>0</td>\n",
       "      <td>N</td>\n",
       "      <td>Y</td>\n",
       "      <td>10397.13</td>\n",
       "      <td>3610.96</td>\n",
       "    </tr>\n",
       "    <tr>\n",
       "      <th>491806</th>\n",
       "      <td>Albany</td>\n",
       "      <td>101000.0</td>\n",
       "      <td>1.0</td>\n",
       "      <td>Albany Medical Center Hospital</td>\n",
       "      <td>0 to 17</td>\n",
       "      <td>120</td>\n",
       "      <td>F</td>\n",
       "      <td>White</td>\n",
       "      <td>Not Span/Hispanic</td>\n",
       "      <td>1</td>\n",
       "      <td>...</td>\n",
       "      <td>Minor</td>\n",
       "      <td>Medical</td>\n",
       "      <td>Medicaid</td>\n",
       "      <td>NaN</td>\n",
       "      <td>NaN</td>\n",
       "      <td>0</td>\n",
       "      <td>N</td>\n",
       "      <td>Y</td>\n",
       "      <td>9976.77</td>\n",
       "      <td>2263.12</td>\n",
       "    </tr>\n",
       "    <tr>\n",
       "      <th>492215</th>\n",
       "      <td>Albany</td>\n",
       "      <td>101000.0</td>\n",
       "      <td>1.0</td>\n",
       "      <td>Albany Medical Center Hospital</td>\n",
       "      <td>0 to 17</td>\n",
       "      <td>122</td>\n",
       "      <td>F</td>\n",
       "      <td>Black/African American</td>\n",
       "      <td>Not Span/Hispanic</td>\n",
       "      <td>1</td>\n",
       "      <td>...</td>\n",
       "      <td>Minor</td>\n",
       "      <td>Medical</td>\n",
       "      <td>Medicaid</td>\n",
       "      <td>NaN</td>\n",
       "      <td>NaN</td>\n",
       "      <td>0</td>\n",
       "      <td>N</td>\n",
       "      <td>Y</td>\n",
       "      <td>6042.14</td>\n",
       "      <td>1968.23</td>\n",
       "    </tr>\n",
       "    <tr>\n",
       "      <th>492519</th>\n",
       "      <td>Albany</td>\n",
       "      <td>101000.0</td>\n",
       "      <td>1.0</td>\n",
       "      <td>Albany Medical Center Hospital</td>\n",
       "      <td>50 to 69</td>\n",
       "      <td>120</td>\n",
       "      <td>F</td>\n",
       "      <td>White</td>\n",
       "      <td>Not Span/Hispanic</td>\n",
       "      <td>1</td>\n",
       "      <td>...</td>\n",
       "      <td>Minor</td>\n",
       "      <td>Medical</td>\n",
       "      <td>Medicaid</td>\n",
       "      <td>NaN</td>\n",
       "      <td>NaN</td>\n",
       "      <td>0</td>\n",
       "      <td>N</td>\n",
       "      <td>Y</td>\n",
       "      <td>17876.70</td>\n",
       "      <td>4662.19</td>\n",
       "    </tr>\n",
       "    <tr>\n",
       "      <th>493215</th>\n",
       "      <td>Albany</td>\n",
       "      <td>101000.0</td>\n",
       "      <td>1.0</td>\n",
       "      <td>Albany Medical Center Hospital</td>\n",
       "      <td>0 to 17</td>\n",
       "      <td>124</td>\n",
       "      <td>M</td>\n",
       "      <td>Other Race</td>\n",
       "      <td>Unknown</td>\n",
       "      <td>1</td>\n",
       "      <td>...</td>\n",
       "      <td>Minor</td>\n",
       "      <td>Medical</td>\n",
       "      <td>Private Health Insurance</td>\n",
       "      <td>NaN</td>\n",
       "      <td>NaN</td>\n",
       "      <td>0</td>\n",
       "      <td>N</td>\n",
       "      <td>N</td>\n",
       "      <td>9919.29</td>\n",
       "      <td>3418.02</td>\n",
       "    </tr>\n",
       "    <tr>\n",
       "      <th>...</th>\n",
       "      <td>...</td>\n",
       "      <td>...</td>\n",
       "      <td>...</td>\n",
       "      <td>...</td>\n",
       "      <td>...</td>\n",
       "      <td>...</td>\n",
       "      <td>...</td>\n",
       "      <td>...</td>\n",
       "      <td>...</td>\n",
       "      <td>...</td>\n",
       "      <td>...</td>\n",
       "      <td>...</td>\n",
       "      <td>...</td>\n",
       "      <td>...</td>\n",
       "      <td>...</td>\n",
       "      <td>...</td>\n",
       "      <td>...</td>\n",
       "      <td>...</td>\n",
       "      <td>...</td>\n",
       "      <td>...</td>\n",
       "      <td>...</td>\n",
       "    </tr>\n",
       "    <tr>\n",
       "      <th>536364</th>\n",
       "      <td>Albany</td>\n",
       "      <td>101000.0</td>\n",
       "      <td>1.0</td>\n",
       "      <td>Albany Medical Center Hospital</td>\n",
       "      <td>18 to 29</td>\n",
       "      <td>121</td>\n",
       "      <td>M</td>\n",
       "      <td>White</td>\n",
       "      <td>Not Span/Hispanic</td>\n",
       "      <td>1</td>\n",
       "      <td>...</td>\n",
       "      <td>Minor</td>\n",
       "      <td>Surgical</td>\n",
       "      <td>Blue Cross/Blue Shield</td>\n",
       "      <td>NaN</td>\n",
       "      <td>NaN</td>\n",
       "      <td>0</td>\n",
       "      <td>N</td>\n",
       "      <td>Y</td>\n",
       "      <td>16726.52</td>\n",
       "      <td>5145.79</td>\n",
       "    </tr>\n",
       "    <tr>\n",
       "      <th>536365</th>\n",
       "      <td>Albany</td>\n",
       "      <td>101000.0</td>\n",
       "      <td>1.0</td>\n",
       "      <td>Albany Medical Center Hospital</td>\n",
       "      <td>0 to 17</td>\n",
       "      <td>121</td>\n",
       "      <td>F</td>\n",
       "      <td>Other Race</td>\n",
       "      <td>Unknown</td>\n",
       "      <td>2</td>\n",
       "      <td>...</td>\n",
       "      <td>Minor</td>\n",
       "      <td>Medical</td>\n",
       "      <td>Medicaid</td>\n",
       "      <td>NaN</td>\n",
       "      <td>NaN</td>\n",
       "      <td>4700</td>\n",
       "      <td>N</td>\n",
       "      <td>N</td>\n",
       "      <td>3829.74</td>\n",
       "      <td>947.76</td>\n",
       "    </tr>\n",
       "    <tr>\n",
       "      <th>536366</th>\n",
       "      <td>Albany</td>\n",
       "      <td>101000.0</td>\n",
       "      <td>1.0</td>\n",
       "      <td>Albany Medical Center Hospital</td>\n",
       "      <td>0 to 17</td>\n",
       "      <td>124</td>\n",
       "      <td>M</td>\n",
       "      <td>Other Race</td>\n",
       "      <td>Unknown</td>\n",
       "      <td>3</td>\n",
       "      <td>...</td>\n",
       "      <td>Minor</td>\n",
       "      <td>Medical</td>\n",
       "      <td>Medicaid</td>\n",
       "      <td>NaN</td>\n",
       "      <td>NaN</td>\n",
       "      <td>3200</td>\n",
       "      <td>N</td>\n",
       "      <td>N</td>\n",
       "      <td>7209.25</td>\n",
       "      <td>1661.29</td>\n",
       "    </tr>\n",
       "    <tr>\n",
       "      <th>536367</th>\n",
       "      <td>Albany</td>\n",
       "      <td>101000.0</td>\n",
       "      <td>1.0</td>\n",
       "      <td>Albany Medical Center Hospital</td>\n",
       "      <td>0 to 17</td>\n",
       "      <td>120</td>\n",
       "      <td>F</td>\n",
       "      <td>Other Race</td>\n",
       "      <td>Unknown</td>\n",
       "      <td>83</td>\n",
       "      <td>...</td>\n",
       "      <td>Moderate</td>\n",
       "      <td>Medical</td>\n",
       "      <td>Medicaid</td>\n",
       "      <td>NaN</td>\n",
       "      <td>NaN</td>\n",
       "      <td>900</td>\n",
       "      <td>N</td>\n",
       "      <td>N</td>\n",
       "      <td>665166.90</td>\n",
       "      <td>165272.09</td>\n",
       "    </tr>\n",
       "    <tr>\n",
       "      <th>536368</th>\n",
       "      <td>Albany</td>\n",
       "      <td>101000.0</td>\n",
       "      <td>1.0</td>\n",
       "      <td>Albany Medical Center Hospital</td>\n",
       "      <td>0 to 17</td>\n",
       "      <td>120</td>\n",
       "      <td>M</td>\n",
       "      <td>Other Race</td>\n",
       "      <td>Unknown</td>\n",
       "      <td>2</td>\n",
       "      <td>...</td>\n",
       "      <td>Minor</td>\n",
       "      <td>Medical</td>\n",
       "      <td>Managed Care, Unspecified</td>\n",
       "      <td>NaN</td>\n",
       "      <td>NaN</td>\n",
       "      <td>3500</td>\n",
       "      <td>N</td>\n",
       "      <td>N</td>\n",
       "      <td>4728.77</td>\n",
       "      <td>1135.90</td>\n",
       "    </tr>\n",
       "  </tbody>\n",
       "</table>\n",
       "<p>36281 rows × 28 columns</p>\n",
       "</div>"
      ],
      "text/plain": [
       "       Hospital County  Operating Certificate Number  Facility Id  \\\n",
       "490252          Albany                      101000.0          1.0   \n",
       "491806          Albany                      101000.0          1.0   \n",
       "492215          Albany                      101000.0          1.0   \n",
       "492519          Albany                      101000.0          1.0   \n",
       "493215          Albany                      101000.0          1.0   \n",
       "...                ...                           ...          ...   \n",
       "536364          Albany                      101000.0          1.0   \n",
       "536365          Albany                      101000.0          1.0   \n",
       "536366          Albany                      101000.0          1.0   \n",
       "536367          Albany                      101000.0          1.0   \n",
       "536368          Albany                      101000.0          1.0   \n",
       "\n",
       "                         Facility Name Age Group Zip Code - 3 digits Gender  \\\n",
       "490252  Albany Medical Center Hospital   0 to 17                 120      F   \n",
       "491806  Albany Medical Center Hospital   0 to 17                 120      F   \n",
       "492215  Albany Medical Center Hospital   0 to 17                 122      F   \n",
       "492519  Albany Medical Center Hospital  50 to 69                 120      F   \n",
       "493215  Albany Medical Center Hospital   0 to 17                 124      M   \n",
       "...                                ...       ...                 ...    ...   \n",
       "536364  Albany Medical Center Hospital  18 to 29                 121      M   \n",
       "536365  Albany Medical Center Hospital   0 to 17                 121      F   \n",
       "536366  Albany Medical Center Hospital   0 to 17                 124      M   \n",
       "536367  Albany Medical Center Hospital   0 to 17                 120      F   \n",
       "536368  Albany Medical Center Hospital   0 to 17                 120      M   \n",
       "\n",
       "                          Race          Ethnicity Length of Stay  ...  \\\n",
       "490252                   White  Not Span/Hispanic              1  ...   \n",
       "491806                   White  Not Span/Hispanic              1  ...   \n",
       "492215  Black/African American  Not Span/Hispanic              1  ...   \n",
       "492519                   White  Not Span/Hispanic              1  ...   \n",
       "493215              Other Race            Unknown              1  ...   \n",
       "...                        ...                ...            ...  ...   \n",
       "536364                   White  Not Span/Hispanic              1  ...   \n",
       "536365              Other Race            Unknown              2  ...   \n",
       "536366              Other Race            Unknown              3  ...   \n",
       "536367              Other Race            Unknown             83  ...   \n",
       "536368              Other Race            Unknown              2  ...   \n",
       "\n",
       "       APR Risk of Mortality APR Medical Surgical Description  \\\n",
       "490252                 Minor                          Medical   \n",
       "491806                 Minor                          Medical   \n",
       "492215                 Minor                          Medical   \n",
       "492519                 Minor                          Medical   \n",
       "493215                 Minor                          Medical   \n",
       "...                      ...                              ...   \n",
       "536364                 Minor                         Surgical   \n",
       "536365                 Minor                          Medical   \n",
       "536366                 Minor                          Medical   \n",
       "536367              Moderate                          Medical   \n",
       "536368                 Minor                          Medical   \n",
       "\n",
       "               Payment Typology 1  Payment Typology 2  Payment Typology 3  \\\n",
       "490252                   Medicaid                 NaN                 NaN   \n",
       "491806                   Medicaid                 NaN                 NaN   \n",
       "492215                   Medicaid                 NaN                 NaN   \n",
       "492519                   Medicaid                 NaN                 NaN   \n",
       "493215   Private Health Insurance                 NaN                 NaN   \n",
       "...                           ...                 ...                 ...   \n",
       "536364     Blue Cross/Blue Shield                 NaN                 NaN   \n",
       "536365                   Medicaid                 NaN                 NaN   \n",
       "536366                   Medicaid                 NaN                 NaN   \n",
       "536367                   Medicaid                 NaN                 NaN   \n",
       "536368  Managed Care, Unspecified                 NaN                 NaN   \n",
       "\n",
       "        Birth Weight  Abortion Edit Indicator  Emergency Department Indicator  \\\n",
       "490252             0                        N                               Y   \n",
       "491806             0                        N                               Y   \n",
       "492215             0                        N                               Y   \n",
       "492519             0                        N                               Y   \n",
       "493215             0                        N                               N   \n",
       "...              ...                      ...                             ...   \n",
       "536364             0                        N                               Y   \n",
       "536365          4700                        N                               N   \n",
       "536366          3200                        N                               N   \n",
       "536367           900                        N                               N   \n",
       "536368          3500                        N                               N   \n",
       "\n",
       "       Total Charges Total Costs  \n",
       "490252      10397.13     3610.96  \n",
       "491806       9976.77     2263.12  \n",
       "492215       6042.14     1968.23  \n",
       "492519      17876.70     4662.19  \n",
       "493215       9919.29     3418.02  \n",
       "...              ...         ...  \n",
       "536364      16726.52     5145.79  \n",
       "536365       3829.74      947.76  \n",
       "536366       7209.25     1661.29  \n",
       "536367     665166.90   165272.09  \n",
       "536368       4728.77     1135.90  \n",
       "\n",
       "[36281 rows x 28 columns]"
      ]
     },
     "execution_count": 181,
     "metadata": {},
     "output_type": "execute_result"
    }
   ],
   "source": [
    "Albany_df"
   ]
  },
  {
   "cell_type": "code",
   "execution_count": 182,
   "id": "9cf79155",
   "metadata": {
    "execution": {
     "iopub.execute_input": "2023-02-21T11:42:37.986130Z",
     "iopub.status.busy": "2023-02-21T11:42:37.985776Z",
     "iopub.status.idle": "2023-02-21T11:42:38.003756Z",
     "shell.execute_reply": "2023-02-21T11:42:38.002979Z"
    },
    "papermill": {
     "duration": 0.085088,
     "end_time": "2023-02-21T11:42:38.005766",
     "exception": false,
     "start_time": "2023-02-21T11:42:37.920678",
     "status": "completed"
    },
    "tags": []
   },
   "outputs": [
    {
     "name": "stdout",
     "output_type": "stream",
     "text": [
      "<class 'pandas.core.frame.DataFrame'>\n",
      "Int64Index: 36281 entries, 490252 to 536368\n",
      "Data columns (total 28 columns):\n",
      " #   Column                            Non-Null Count  Dtype   \n",
      "---  ------                            --------------  -----   \n",
      " 0   Hospital County                   36281 non-null  category\n",
      " 1   Operating Certificate Number      36281 non-null  float64 \n",
      " 2   Facility Id                       36281 non-null  float64 \n",
      " 3   Facility Name                     36281 non-null  object  \n",
      " 4   Age Group                         36281 non-null  category\n",
      " 5   Zip Code - 3 digits               35772 non-null  category\n",
      " 6   Gender                            36281 non-null  category\n",
      " 7   Race                              36281 non-null  category\n",
      " 8   Ethnicity                         36281 non-null  category\n",
      " 9   Length of Stay                    36281 non-null  category\n",
      " 10  Type of Admission                 36281 non-null  category\n",
      " 11  Patient Disposition               36281 non-null  category\n",
      " 12  Discharge Year                    36281 non-null  int64   \n",
      " 13  CCS Diagnosis Code                36281 non-null  int64   \n",
      " 14  CCS Procedure Code                36281 non-null  int64   \n",
      " 15  APR DRG Code                      36281 non-null  int64   \n",
      " 16  APR MDC Code                      36281 non-null  int64   \n",
      " 17  APR Severity of Illness Code      36281 non-null  int64   \n",
      " 18  APR Risk of Mortality             36280 non-null  category\n",
      " 19  APR Medical Surgical Description  36281 non-null  category\n",
      " 20  Payment Typology 1                36281 non-null  category\n",
      " 21  Payment Typology 2                11617 non-null  category\n",
      " 22  Payment Typology 3                8960 non-null   category\n",
      " 23  Birth Weight                      36281 non-null  int64   \n",
      " 24  Abortion Edit Indicator           36281 non-null  category\n",
      " 25  Emergency Department Indicator    36281 non-null  category\n",
      " 26  Total Charges                     36281 non-null  float64 \n",
      " 27  Total Costs                       36281 non-null  float64 \n",
      "dtypes: category(16), float64(4), int64(7), object(1)\n",
      "memory usage: 4.2+ MB\n"
     ]
    }
   ],
   "source": [
    "Albany_df.info()"
   ]
  },
  {
   "cell_type": "code",
   "execution_count": 183,
   "id": "6af5a24a",
   "metadata": {
    "execution": {
     "iopub.execute_input": "2023-02-21T11:42:38.130934Z",
     "iopub.status.busy": "2023-02-21T11:42:38.130300Z",
     "iopub.status.idle": "2023-02-21T11:42:38.137944Z",
     "shell.execute_reply": "2023-02-21T11:42:38.136860Z"
    },
    "papermill": {
     "duration": 0.072043,
     "end_time": "2023-02-21T11:42:38.139666",
     "exception": false,
     "start_time": "2023-02-21T11:42:38.067623",
     "status": "completed"
    },
    "tags": []
   },
   "outputs": [
    {
     "name": "stderr",
     "output_type": "stream",
     "text": [
      "/opt/conda/lib/python3.7/site-packages/ipykernel_launcher.py:3: SettingWithCopyWarning: \n",
      "A value is trying to be set on a copy of a slice from a DataFrame.\n",
      "Try using .loc[row_indexer,col_indexer] = value instead\n",
      "\n",
      "See the caveats in the documentation: https://pandas.pydata.org/pandas-docs/stable/user_guide/indexing.html#returning-a-view-versus-a-copy\n",
      "  This is separate from the ipykernel package so we can avoid doing imports until\n",
      "/opt/conda/lib/python3.7/site-packages/ipykernel_launcher.py:5: SettingWithCopyWarning: \n",
      "A value is trying to be set on a copy of a slice from a DataFrame.\n",
      "Try using .loc[row_indexer,col_indexer] = value instead\n",
      "\n",
      "See the caveats in the documentation: https://pandas.pydata.org/pandas-docs/stable/user_guide/indexing.html#returning-a-view-versus-a-copy\n",
      "  \"\"\"\n"
     ]
    }
   ],
   "source": [
    " #   simple mapping on binary features.\n",
    "Albany_df['Abortion Edit Indicator'] = Albany_df['Abortion Edit Indicator'].apply(\n",
    "     lambda x: 1 if x == 'Y' else (0 if x == 'N' else None))\n",
    "Albany_df['Emergency Department Indicator'] = Albany_df['Emergency Department Indicator'].apply(\n",
    "    lambda x: 1 if x == 'Y' else (0 if x == 'N' else None))"
   ]
  },
  {
   "cell_type": "code",
   "execution_count": 184,
   "id": "d435d2a0",
   "metadata": {
    "execution": {
     "iopub.execute_input": "2023-02-21T11:42:38.265925Z",
     "iopub.status.busy": "2023-02-21T11:42:38.264946Z",
     "iopub.status.idle": "2023-02-21T11:42:38.388645Z",
     "shell.execute_reply": "2023-02-21T11:42:38.387668Z"
    },
    "papermill": {
     "duration": 0.189331,
     "end_time": "2023-02-21T11:42:38.390875",
     "exception": false,
     "start_time": "2023-02-21T11:42:38.201544",
     "status": "completed"
    },
    "tags": []
   },
   "outputs": [
    {
     "name": "stderr",
     "output_type": "stream",
     "text": [
      "/opt/conda/lib/python3.7/site-packages/ipykernel_launcher.py:29: SettingWithCopyWarning: \n",
      "A value is trying to be set on a copy of a slice from a DataFrame.\n",
      "Try using .loc[row_indexer,col_indexer] = value instead\n",
      "\n",
      "See the caveats in the documentation: https://pandas.pydata.org/pandas-docs/stable/user_guide/indexing.html#returning-a-view-versus-a-copy\n"
     ]
    }
   ],
   "source": [
    "list=  [ \"Hospital County\",\"Age Group\"\n",
    "    ,\"Gender\",   \n",
    " \"Race\" , \n",
    "\"Ethnicity\", \n",
    "\"Gender\" , \n",
    "\"Race\" ,    \n",
    " \"Ethnicity\" ,        \n",
    " \"Type of Admission\"  ,  \n",
    "  \"Patient Disposition\",      \n",
    " \"Type of Admission\" ,  \n",
    " \"Patient Disposition\"  ,\n",
    "  \"APR Risk of Mortality\" ,   \n",
    " \"APR Medical Surgical Description\" ,\n",
    " \"Payment Typology 1\"   ,   \n",
    " \"Abortion Edit Indicator\"     ,  \n",
    " \"Emergency Department Indicator\",\n",
    "       \"Zip Code - 3 digits\",\"Payment Typology 2\"        \n",
    "   ,\"Payment Typology 3\"]  \n",
    "\n",
    "# Import label encoder\n",
    "from sklearn import preprocessing\n",
    "  \n",
    "# label_encoder object knows how to understand word labels.        \n",
    "   \n",
    "label_encoder = preprocessing.LabelEncoder()\n",
    "  \n",
    "# Encode labels in column 'species'. \n",
    "for col in list :\n",
    " Albany_df[col]= label_encoder.fit_transform(Albany_df[col])\n"
   ]
  },
  {
   "cell_type": "code",
   "execution_count": 185,
   "id": "8a1ad305",
   "metadata": {
    "execution": {
     "iopub.execute_input": "2023-02-21T11:42:38.516739Z",
     "iopub.status.busy": "2023-02-21T11:42:38.516162Z",
     "iopub.status.idle": "2023-02-21T11:42:38.523050Z",
     "shell.execute_reply": "2023-02-21T11:42:38.522466Z"
    },
    "papermill": {
     "duration": 0.071648,
     "end_time": "2023-02-21T11:42:38.524667",
     "exception": false,
     "start_time": "2023-02-21T11:42:38.453019",
     "status": "completed"
    },
    "tags": []
   },
   "outputs": [],
   "source": [
    "Albany_df=Albany_df.drop(\"Facility Name\", axis=1)"
   ]
  },
  {
   "cell_type": "code",
   "execution_count": 186,
   "id": "661e35a0",
   "metadata": {
    "execution": {
     "iopub.execute_input": "2023-02-21T11:42:38.652165Z",
     "iopub.status.busy": "2023-02-21T11:42:38.651236Z",
     "iopub.status.idle": "2023-02-21T11:42:38.663074Z",
     "shell.execute_reply": "2023-02-21T11:42:38.662488Z"
    },
    "papermill": {
     "duration": 0.078385,
     "end_time": "2023-02-21T11:42:38.665248",
     "exception": false,
     "start_time": "2023-02-21T11:42:38.586863",
     "status": "completed"
    },
    "tags": []
   },
   "outputs": [
    {
     "name": "stdout",
     "output_type": "stream",
     "text": [
      "<class 'pandas.core.frame.DataFrame'>\n",
      "Int64Index: 36281 entries, 490252 to 536368\n",
      "Data columns (total 27 columns):\n",
      " #   Column                            Non-Null Count  Dtype   \n",
      "---  ------                            --------------  -----   \n",
      " 0   Hospital County                   36281 non-null  int64   \n",
      " 1   Operating Certificate Number      36281 non-null  float64 \n",
      " 2   Facility Id                       36281 non-null  float64 \n",
      " 3   Age Group                         36281 non-null  int64   \n",
      " 4   Zip Code - 3 digits               36281 non-null  int64   \n",
      " 5   Gender                            36281 non-null  int64   \n",
      " 6   Race                              36281 non-null  int64   \n",
      " 7   Ethnicity                         36281 non-null  int64   \n",
      " 8   Length of Stay                    36281 non-null  category\n",
      " 9   Type of Admission                 36281 non-null  int64   \n",
      " 10  Patient Disposition               36281 non-null  int64   \n",
      " 11  Discharge Year                    36281 non-null  int64   \n",
      " 12  CCS Diagnosis Code                36281 non-null  int64   \n",
      " 13  CCS Procedure Code                36281 non-null  int64   \n",
      " 14  APR DRG Code                      36281 non-null  int64   \n",
      " 15  APR MDC Code                      36281 non-null  int64   \n",
      " 16  APR Severity of Illness Code      36281 non-null  int64   \n",
      " 17  APR Risk of Mortality             36281 non-null  int64   \n",
      " 18  APR Medical Surgical Description  36281 non-null  int64   \n",
      " 19  Payment Typology 1                36281 non-null  int64   \n",
      " 20  Payment Typology 2                36281 non-null  int64   \n",
      " 21  Payment Typology 3                36281 non-null  int64   \n",
      " 22  Birth Weight                      36281 non-null  int64   \n",
      " 23  Abortion Edit Indicator           36281 non-null  int64   \n",
      " 24  Emergency Department Indicator    36281 non-null  int64   \n",
      " 25  Total Charges                     36281 non-null  float64 \n",
      " 26  Total Costs                       36281 non-null  float64 \n",
      "dtypes: category(1), float64(4), int64(22)\n",
      "memory usage: 7.6 MB\n"
     ]
    }
   ],
   "source": [
    "Albany_df.info()"
   ]
  },
  {
   "cell_type": "code",
   "execution_count": 187,
   "id": "c327cd34",
   "metadata": {
    "execution": {
     "iopub.execute_input": "2023-02-21T11:42:38.796083Z",
     "iopub.status.busy": "2023-02-21T11:42:38.795654Z",
     "iopub.status.idle": "2023-02-21T11:42:38.816814Z",
     "shell.execute_reply": "2023-02-21T11:42:38.815661Z"
    },
    "papermill": {
     "duration": 0.089009,
     "end_time": "2023-02-21T11:42:38.818609",
     "exception": false,
     "start_time": "2023-02-21T11:42:38.729600",
     "status": "completed"
    },
    "tags": []
   },
   "outputs": [],
   "source": [
    "Albany_df[\"Length of Stay\"]=pd.to_numeric(Albany_df[\"Length of Stay\"],errors='coerce')\n"
   ]
  },
  {
   "cell_type": "code",
   "execution_count": 188,
   "id": "afd92352",
   "metadata": {
    "execution": {
     "iopub.execute_input": "2023-02-21T11:42:38.961366Z",
     "iopub.status.busy": "2023-02-21T11:42:38.960990Z",
     "iopub.status.idle": "2023-02-21T11:42:38.974078Z",
     "shell.execute_reply": "2023-02-21T11:42:38.972572Z"
    },
    "papermill": {
     "duration": 0.091134,
     "end_time": "2023-02-21T11:42:38.976782",
     "exception": false,
     "start_time": "2023-02-21T11:42:38.885648",
     "status": "completed"
    },
    "tags": []
   },
   "outputs": [],
   "source": [
    "Albany_df.dropna(inplace=True)"
   ]
  },
  {
   "cell_type": "code",
   "execution_count": 189,
   "id": "2057e2ec",
   "metadata": {
    "execution": {
     "iopub.execute_input": "2023-02-21T11:42:39.103515Z",
     "iopub.status.busy": "2023-02-21T11:42:39.103111Z",
     "iopub.status.idle": "2023-02-21T11:42:39.109940Z",
     "shell.execute_reply": "2023-02-21T11:42:39.108864Z"
    },
    "papermill": {
     "duration": 0.072127,
     "end_time": "2023-02-21T11:42:39.111726",
     "exception": false,
     "start_time": "2023-02-21T11:42:39.039599",
     "status": "completed"
    },
    "tags": []
   },
   "outputs": [],
   "source": [
    "x = Albany_df.drop([\"Length of Stay\"], axis =1)\n",
    "y = Albany_df[\"Length of Stay\"]"
   ]
  },
  {
   "cell_type": "code",
   "execution_count": 190,
   "id": "69547a73",
   "metadata": {
    "execution": {
     "iopub.execute_input": "2023-02-21T11:42:39.237208Z",
     "iopub.status.busy": "2023-02-21T11:42:39.236871Z",
     "iopub.status.idle": "2023-02-21T11:42:39.249501Z",
     "shell.execute_reply": "2023-02-21T11:42:39.248601Z"
    },
    "papermill": {
     "duration": 0.077699,
     "end_time": "2023-02-21T11:42:39.251378",
     "exception": false,
     "start_time": "2023-02-21T11:42:39.173679",
     "status": "completed"
    },
    "tags": []
   },
   "outputs": [],
   "source": [
    "from sklearn.model_selection import train_test_split\n",
    "x_train, x_test, y_train, y_test = train_test_split(x, y, test_size=0.3, random_state=42)"
   ]
  },
  {
   "cell_type": "code",
   "execution_count": 191,
   "id": "7555be21",
   "metadata": {
    "execution": {
     "iopub.execute_input": "2023-02-21T11:42:39.379812Z",
     "iopub.status.busy": "2023-02-21T11:42:39.379399Z",
     "iopub.status.idle": "2023-02-21T11:42:39.400298Z",
     "shell.execute_reply": "2023-02-21T11:42:39.399575Z"
    },
    "papermill": {
     "duration": 0.087915,
     "end_time": "2023-02-21T11:42:39.402558",
     "exception": false,
     "start_time": "2023-02-21T11:42:39.314643",
     "status": "completed"
    },
    "tags": []
   },
   "outputs": [],
   "source": [
    "# Linear Regression\n",
    "\n",
    "LR = LinearRegression()\n",
    "LR.fit(x_train, y_train)\n",
    "LR.score(x_train, y_train)\n",
    "y_pred =LR.predict(x_test)\n"
   ]
  },
  {
   "cell_type": "code",
   "execution_count": 192,
   "id": "2ea2bed7",
   "metadata": {
    "execution": {
     "iopub.execute_input": "2023-02-21T11:42:39.558185Z",
     "iopub.status.busy": "2023-02-21T11:42:39.557840Z",
     "iopub.status.idle": "2023-02-21T11:42:39.564463Z",
     "shell.execute_reply": "2023-02-21T11:42:39.563713Z"
    },
    "papermill": {
     "duration": 0.08031,
     "end_time": "2023-02-21T11:42:39.566050",
     "exception": false,
     "start_time": "2023-02-21T11:42:39.485740",
     "status": "completed"
    },
    "tags": []
   },
   "outputs": [
    {
     "data": {
      "text/plain": [
       "0.7478105920657923"
      ]
     },
     "execution_count": 192,
     "metadata": {},
     "output_type": "execute_result"
    }
   ],
   "source": [
    "r2 = r2_score(y_test, y_pred)\n",
    "r2 "
   ]
  },
  {
   "cell_type": "code",
   "execution_count": 193,
   "id": "d324587d",
   "metadata": {
    "execution": {
     "iopub.execute_input": "2023-02-21T11:42:39.693322Z",
     "iopub.status.busy": "2023-02-21T11:42:39.692964Z",
     "iopub.status.idle": "2023-02-21T11:42:39.699281Z",
     "shell.execute_reply": "2023-02-21T11:42:39.698339Z"
    },
    "papermill": {
     "duration": 0.072605,
     "end_time": "2023-02-21T11:42:39.700985",
     "exception": false,
     "start_time": "2023-02-21T11:42:39.628380",
     "status": "completed"
    },
    "tags": []
   },
   "outputs": [
    {
     "data": {
      "text/plain": [
       "2.3205026865513774"
      ]
     },
     "execution_count": 193,
     "metadata": {},
     "output_type": "execute_result"
    }
   ],
   "source": [
    "# calculate the MAE of the model\n",
    "mae = mean_absolute_error(y_test, y_pred)\n",
    "mae"
   ]
  },
  {
   "cell_type": "code",
   "execution_count": 194,
   "id": "6174ebdb",
   "metadata": {
    "execution": {
     "iopub.execute_input": "2023-02-21T11:42:39.831810Z",
     "iopub.status.busy": "2023-02-21T11:42:39.830832Z",
     "iopub.status.idle": "2023-02-21T11:42:39.837549Z",
     "shell.execute_reply": "2023-02-21T11:42:39.836552Z"
    },
    "papermill": {
     "duration": 0.07364,
     "end_time": "2023-02-21T11:42:39.839632",
     "exception": false,
     "start_time": "2023-02-21T11:42:39.765992",
     "status": "completed"
    },
    "tags": []
   },
   "outputs": [
    {
     "data": {
      "text/plain": [
       "16.946608108006014"
      ]
     },
     "execution_count": 194,
     "metadata": {},
     "output_type": "execute_result"
    }
   ],
   "source": [
    "# calculate the MSE of the model\n",
    "mse = mean_squared_error(y_test, y_pred)\n",
    "mse"
   ]
  },
  {
   "cell_type": "code",
   "execution_count": 195,
   "id": "2de75157",
   "metadata": {
    "execution": {
     "iopub.execute_input": "2023-02-21T11:42:39.970672Z",
     "iopub.status.busy": "2023-02-21T11:42:39.970272Z",
     "iopub.status.idle": "2023-02-21T11:42:39.976618Z",
     "shell.execute_reply": "2023-02-21T11:42:39.975564Z"
    },
    "papermill": {
     "duration": 0.074963,
     "end_time": "2023-02-21T11:42:39.978882",
     "exception": false,
     "start_time": "2023-02-21T11:42:39.903919",
     "status": "completed"
    },
    "tags": []
   },
   "outputs": [
    {
     "data": {
      "text/plain": [
       "4.116625815884413"
      ]
     },
     "execution_count": 195,
     "metadata": {},
     "output_type": "execute_result"
    }
   ],
   "source": [
    "# calculate the RMSE of the model\n",
    "rmse = np.sqrt(mse)\n",
    "rmse"
   ]
  },
  {
   "cell_type": "code",
   "execution_count": 196,
   "id": "138cf73f",
   "metadata": {
    "execution": {
     "iopub.execute_input": "2023-02-21T11:42:40.108486Z",
     "iopub.status.busy": "2023-02-21T11:42:40.107206Z",
     "iopub.status.idle": "2023-02-21T11:42:40.170649Z",
     "shell.execute_reply": "2023-02-21T11:42:40.169702Z"
    },
    "papermill": {
     "duration": 0.130017,
     "end_time": "2023-02-21T11:42:40.172710",
     "exception": false,
     "start_time": "2023-02-21T11:42:40.042693",
     "status": "completed"
    },
    "tags": []
   },
   "outputs": [],
   "source": [
    "# LASSO\n",
    "L1 = linear_model.Lasso()\n",
    "L1.fit(x_train,y_train)\n",
    "y_pred1 = L1.predict(x_test)"
   ]
  },
  {
   "cell_type": "code",
   "execution_count": 197,
   "id": "56f6f29d",
   "metadata": {
    "execution": {
     "iopub.execute_input": "2023-02-21T11:42:40.326262Z",
     "iopub.status.busy": "2023-02-21T11:42:40.325944Z",
     "iopub.status.idle": "2023-02-21T11:42:40.333207Z",
     "shell.execute_reply": "2023-02-21T11:42:40.332335Z"
    },
    "papermill": {
     "duration": 0.080632,
     "end_time": "2023-02-21T11:42:40.335155",
     "exception": false,
     "start_time": "2023-02-21T11:42:40.254523",
     "status": "completed"
    },
    "tags": []
   },
   "outputs": [
    {
     "data": {
      "text/plain": [
       "0.730292669976124"
      ]
     },
     "execution_count": 197,
     "metadata": {},
     "output_type": "execute_result"
    }
   ],
   "source": [
    "r2 = r2_score(y_test, y_pred1)\n",
    "r2 \n"
   ]
  },
  {
   "cell_type": "code",
   "execution_count": 198,
   "id": "e6ae3f2d",
   "metadata": {
    "execution": {
     "iopub.execute_input": "2023-02-21T11:42:40.509088Z",
     "iopub.status.busy": "2023-02-21T11:42:40.508722Z",
     "iopub.status.idle": "2023-02-21T11:42:40.515031Z",
     "shell.execute_reply": "2023-02-21T11:42:40.514469Z"
    },
    "papermill": {
     "duration": 0.073023,
     "end_time": "2023-02-21T11:42:40.516769",
     "exception": false,
     "start_time": "2023-02-21T11:42:40.443746",
     "status": "completed"
    },
    "tags": []
   },
   "outputs": [
    {
     "data": {
      "text/plain": [
       "2.380819108363997"
      ]
     },
     "execution_count": 198,
     "metadata": {},
     "output_type": "execute_result"
    }
   ],
   "source": [
    "# calculate the MAE of the model\n",
    "mae = mean_absolute_error(y_test, y_pred1)\n",
    "mae"
   ]
  },
  {
   "cell_type": "code",
   "execution_count": 199,
   "id": "35f7dca1",
   "metadata": {
    "execution": {
     "iopub.execute_input": "2023-02-21T11:42:40.646142Z",
     "iopub.status.busy": "2023-02-21T11:42:40.645354Z",
     "iopub.status.idle": "2023-02-21T11:42:40.650994Z",
     "shell.execute_reply": "2023-02-21T11:42:40.650382Z"
    },
    "papermill": {
     "duration": 0.072477,
     "end_time": "2023-02-21T11:42:40.653149",
     "exception": false,
     "start_time": "2023-02-21T11:42:40.580672",
     "status": "completed"
    },
    "tags": []
   },
   "outputs": [
    {
     "data": {
      "text/plain": [
       "18.123776344182055"
      ]
     },
     "execution_count": 199,
     "metadata": {},
     "output_type": "execute_result"
    }
   ],
   "source": [
    "# calculate the MSE of the model\n",
    "mse = mean_squared_error(y_test, y_pred1)\n",
    "mse"
   ]
  },
  {
   "cell_type": "code",
   "execution_count": 200,
   "id": "5b24843f",
   "metadata": {
    "execution": {
     "iopub.execute_input": "2023-02-21T11:42:40.782354Z",
     "iopub.status.busy": "2023-02-21T11:42:40.781789Z",
     "iopub.status.idle": "2023-02-21T11:42:40.787673Z",
     "shell.execute_reply": "2023-02-21T11:42:40.786351Z"
    },
    "papermill": {
     "duration": 0.073442,
     "end_time": "2023-02-21T11:42:40.789568",
     "exception": false,
     "start_time": "2023-02-21T11:42:40.716126",
     "status": "completed"
    },
    "tags": []
   },
   "outputs": [
    {
     "data": {
      "text/plain": [
       "4.257202877968356"
      ]
     },
     "execution_count": 200,
     "metadata": {},
     "output_type": "execute_result"
    }
   ],
   "source": [
    "# calculate the RMSE of the model\n",
    "rmse = np.sqrt(mse)\n",
    "rmse"
   ]
  },
  {
   "cell_type": "code",
   "execution_count": 201,
   "id": "c9f39567",
   "metadata": {
    "execution": {
     "iopub.execute_input": "2023-02-21T11:42:40.917151Z",
     "iopub.status.busy": "2023-02-21T11:42:40.916769Z",
     "iopub.status.idle": "2023-02-21T11:42:40.937332Z",
     "shell.execute_reply": "2023-02-21T11:42:40.936260Z"
    },
    "papermill": {
     "duration": 0.086775,
     "end_time": "2023-02-21T11:42:40.939582",
     "exception": false,
     "start_time": "2023-02-21T11:42:40.852807",
     "status": "completed"
    },
    "tags": []
   },
   "outputs": [],
   "source": [
    "# Ridge\n",
    "L2 = Ridge(alpha=1.0)\n",
    "L2.fit(x_train, y_train) \n",
    "y_pred3 = L2.predict(x_test)"
   ]
  },
  {
   "cell_type": "code",
   "execution_count": 202,
   "id": "21875659",
   "metadata": {
    "execution": {
     "iopub.execute_input": "2023-02-21T11:42:41.093159Z",
     "iopub.status.busy": "2023-02-21T11:42:41.092830Z",
     "iopub.status.idle": "2023-02-21T11:42:41.099619Z",
     "shell.execute_reply": "2023-02-21T11:42:41.098937Z"
    },
    "papermill": {
     "duration": 0.079763,
     "end_time": "2023-02-21T11:42:41.101156",
     "exception": false,
     "start_time": "2023-02-21T11:42:41.021393",
     "status": "completed"
    },
    "tags": []
   },
   "outputs": [
    {
     "data": {
      "text/plain": [
       "0.7478105537618742"
      ]
     },
     "execution_count": 202,
     "metadata": {},
     "output_type": "execute_result"
    }
   ],
   "source": [
    "r2 = r2_score(y_test, y_pred3)\n",
    "r2 "
   ]
  },
  {
   "cell_type": "code",
   "execution_count": 203,
   "id": "ae48f346",
   "metadata": {
    "execution": {
     "iopub.execute_input": "2023-02-21T11:42:41.228458Z",
     "iopub.status.busy": "2023-02-21T11:42:41.227860Z",
     "iopub.status.idle": "2023-02-21T11:42:41.234183Z",
     "shell.execute_reply": "2023-02-21T11:42:41.233322Z"
    },
    "papermill": {
     "duration": 0.072501,
     "end_time": "2023-02-21T11:42:41.236118",
     "exception": false,
     "start_time": "2023-02-21T11:42:41.163617",
     "status": "completed"
    },
    "tags": []
   },
   "outputs": [
    {
     "data": {
      "text/plain": [
       "2.3204943412883794"
      ]
     },
     "execution_count": 203,
     "metadata": {},
     "output_type": "execute_result"
    }
   ],
   "source": [
    "# calculate the MAE of the model\n",
    "mae = mean_absolute_error(y_test, y_pred3)\n",
    "mae"
   ]
  },
  {
   "cell_type": "code",
   "execution_count": 204,
   "id": "a001ca22",
   "metadata": {
    "execution": {
     "iopub.execute_input": "2023-02-21T11:42:41.365384Z",
     "iopub.status.busy": "2023-02-21T11:42:41.365000Z",
     "iopub.status.idle": "2023-02-21T11:42:41.373023Z",
     "shell.execute_reply": "2023-02-21T11:42:41.372360Z"
    },
    "papermill": {
     "duration": 0.074614,
     "end_time": "2023-02-21T11:42:41.374727",
     "exception": false,
     "start_time": "2023-02-21T11:42:41.300113",
     "status": "completed"
    },
    "tags": []
   },
   "outputs": [
    {
     "data": {
      "text/plain": [
       "16.946610681950318"
      ]
     },
     "execution_count": 204,
     "metadata": {},
     "output_type": "execute_result"
    }
   ],
   "source": [
    "# calculate the MSE of the model\n",
    "mse = mean_squared_error(y_test, y_pred3)\n",
    "mse"
   ]
  },
  {
   "cell_type": "code",
   "execution_count": 205,
   "id": "73bc4696",
   "metadata": {
    "execution": {
     "iopub.execute_input": "2023-02-21T11:42:41.503533Z",
     "iopub.status.busy": "2023-02-21T11:42:41.502823Z",
     "iopub.status.idle": "2023-02-21T11:42:41.507990Z",
     "shell.execute_reply": "2023-02-21T11:42:41.507430Z"
    },
    "papermill": {
     "duration": 0.070844,
     "end_time": "2023-02-21T11:42:41.509487",
     "exception": false,
     "start_time": "2023-02-21T11:42:41.438643",
     "status": "completed"
    },
    "tags": []
   },
   "outputs": [
    {
     "data": {
      "text/plain": [
       "4.116626128512318"
      ]
     },
     "execution_count": 205,
     "metadata": {},
     "output_type": "execute_result"
    }
   ],
   "source": [
    "# calculate the RMSE of the model\n",
    "rmse = np.sqrt(mse)\n",
    "rmse"
   ]
  },
  {
   "cell_type": "markdown",
   "id": "5b0bbf00",
   "metadata": {
    "papermill": {
     "duration": 0.062966,
     "end_time": "2023-02-21T11:42:41.635287",
     "exception": false,
     "start_time": "2023-02-21T11:42:41.572321",
     "status": "completed"
    },
    "tags": []
   },
   "source": [
    "Clent 2 : St Josephs Hospital Health Center"
   ]
  },
  {
   "cell_type": "code",
   "execution_count": 206,
   "id": "f78b7a19",
   "metadata": {
    "execution": {
     "iopub.execute_input": "2023-02-21T11:42:41.765877Z",
     "iopub.status.busy": "2023-02-21T11:42:41.765285Z",
     "iopub.status.idle": "2023-02-21T11:42:41.906020Z",
     "shell.execute_reply": "2023-02-21T11:42:41.905017Z"
    },
    "papermill": {
     "duration": 0.209268,
     "end_time": "2023-02-21T11:42:41.908368",
     "exception": false,
     "start_time": "2023-02-21T11:42:41.699100",
     "status": "completed"
    },
    "tags": []
   },
   "outputs": [],
   "source": [
    "Josephs_df=df[df[\"Facility Name\"]== 'St Josephs Hospital Health Center']"
   ]
  },
  {
   "cell_type": "code",
   "execution_count": 207,
   "id": "16257e93",
   "metadata": {
    "execution": {
     "iopub.execute_input": "2023-02-21T11:42:42.039966Z",
     "iopub.status.busy": "2023-02-21T11:42:42.039383Z",
     "iopub.status.idle": "2023-02-21T11:42:42.047348Z",
     "shell.execute_reply": "2023-02-21T11:42:42.046478Z"
    },
    "papermill": {
     "duration": 0.075448,
     "end_time": "2023-02-21T11:42:42.049167",
     "exception": false,
     "start_time": "2023-02-21T11:42:41.973719",
     "status": "completed"
    },
    "tags": []
   },
   "outputs": [
    {
     "name": "stderr",
     "output_type": "stream",
     "text": [
      "/opt/conda/lib/python3.7/site-packages/ipykernel_launcher.py:3: SettingWithCopyWarning: \n",
      "A value is trying to be set on a copy of a slice from a DataFrame.\n",
      "Try using .loc[row_indexer,col_indexer] = value instead\n",
      "\n",
      "See the caveats in the documentation: https://pandas.pydata.org/pandas-docs/stable/user_guide/indexing.html#returning-a-view-versus-a-copy\n",
      "  This is separate from the ipykernel package so we can avoid doing imports until\n",
      "/opt/conda/lib/python3.7/site-packages/ipykernel_launcher.py:5: SettingWithCopyWarning: \n",
      "A value is trying to be set on a copy of a slice from a DataFrame.\n",
      "Try using .loc[row_indexer,col_indexer] = value instead\n",
      "\n",
      "See the caveats in the documentation: https://pandas.pydata.org/pandas-docs/stable/user_guide/indexing.html#returning-a-view-versus-a-copy\n",
      "  \"\"\"\n"
     ]
    }
   ],
   "source": [
    "#   simple mapping on binary features.\n",
    "Josephs_df['Abortion Edit Indicator'] = Josephs_df['Abortion Edit Indicator'].apply(\n",
    "     lambda x: 1 if x == 'Y' else (0 if x == 'N' else None))\n",
    "Josephs_df['Emergency Department Indicator'] = Josephs_df['Emergency Department Indicator'].apply(\n",
    "    lambda x: 1 if x == 'Y' else (0 if x == 'N' else None))"
   ]
  },
  {
   "cell_type": "code",
   "execution_count": 208,
   "id": "61db803c",
   "metadata": {
    "execution": {
     "iopub.execute_input": "2023-02-21T11:42:42.180696Z",
     "iopub.status.busy": "2023-02-21T11:42:42.180314Z",
     "iopub.status.idle": "2023-02-21T11:42:42.271006Z",
     "shell.execute_reply": "2023-02-21T11:42:42.270137Z"
    },
    "papermill": {
     "duration": 0.159407,
     "end_time": "2023-02-21T11:42:42.273366",
     "exception": false,
     "start_time": "2023-02-21T11:42:42.113959",
     "status": "completed"
    },
    "tags": []
   },
   "outputs": [
    {
     "name": "stderr",
     "output_type": "stream",
     "text": [
      "/opt/conda/lib/python3.7/site-packages/ipykernel_launcher.py:29: SettingWithCopyWarning: \n",
      "A value is trying to be set on a copy of a slice from a DataFrame.\n",
      "Try using .loc[row_indexer,col_indexer] = value instead\n",
      "\n",
      "See the caveats in the documentation: https://pandas.pydata.org/pandas-docs/stable/user_guide/indexing.html#returning-a-view-versus-a-copy\n"
     ]
    }
   ],
   "source": [
    "list=  [ \"Hospital County\",\"Age Group\"\n",
    "    ,\"Gender\",   \n",
    " \"Race\" , \n",
    "\"Ethnicity\", \n",
    "\"Gender\" , \n",
    "\"Race\" ,    \n",
    " \"Ethnicity\" ,        \n",
    " \"Type of Admission\"  ,  \n",
    "  \"Patient Disposition\",      \n",
    " \"Type of Admission\" ,  \n",
    " \"Patient Disposition\"  ,\n",
    "  \"APR Risk of Mortality\" ,   \n",
    " \"APR Medical Surgical Description\" ,\n",
    " \"Payment Typology 1\"   ,   \n",
    " \"Abortion Edit Indicator\"     ,  \n",
    " \"Emergency Department Indicator\",\n",
    "       \"Zip Code - 3 digits\",\"Payment Typology 2\"        \n",
    "   ,\"Payment Typology 3\"]  \n",
    "\n",
    "# Import label encoder\n",
    "from sklearn import preprocessing\n",
    "  \n",
    "# label_encoder object knows how to understand word labels.        \n",
    "   \n",
    "label_encoder = preprocessing.LabelEncoder()\n",
    "  \n",
    "# Encode labels in column 'species'. \n",
    "for col in list :\n",
    "    Josephs_df[col]= label_encoder.fit_transform(Josephs_df[col])"
   ]
  },
  {
   "cell_type": "code",
   "execution_count": 209,
   "id": "2d3dba0d",
   "metadata": {
    "execution": {
     "iopub.execute_input": "2023-02-21T11:42:42.402164Z",
     "iopub.status.busy": "2023-02-21T11:42:42.401086Z",
     "iopub.status.idle": "2023-02-21T11:42:42.408032Z",
     "shell.execute_reply": "2023-02-21T11:42:42.407466Z"
    },
    "papermill": {
     "duration": 0.073185,
     "end_time": "2023-02-21T11:42:42.409763",
     "exception": false,
     "start_time": "2023-02-21T11:42:42.336578",
     "status": "completed"
    },
    "tags": []
   },
   "outputs": [],
   "source": [
    "Josephs_df=Josephs_df.drop(\"Facility Name\", axis=1)\n"
   ]
  },
  {
   "cell_type": "code",
   "execution_count": 210,
   "id": "c30dbfa5",
   "metadata": {
    "execution": {
     "iopub.execute_input": "2023-02-21T11:42:42.540353Z",
     "iopub.status.busy": "2023-02-21T11:42:42.538872Z",
     "iopub.status.idle": "2023-02-21T11:42:42.555221Z",
     "shell.execute_reply": "2023-02-21T11:42:42.554486Z"
    },
    "papermill": {
     "duration": 0.083581,
     "end_time": "2023-02-21T11:42:42.557235",
     "exception": false,
     "start_time": "2023-02-21T11:42:42.473654",
     "status": "completed"
    },
    "tags": []
   },
   "outputs": [],
   "source": [
    "Josephs_df[\"Length of Stay\"]=pd.to_numeric(Josephs_df[\"Length of Stay\"],errors='coerce')\n"
   ]
  },
  {
   "cell_type": "code",
   "execution_count": 211,
   "id": "6776848a",
   "metadata": {
    "execution": {
     "iopub.execute_input": "2023-02-21T11:42:42.685902Z",
     "iopub.status.busy": "2023-02-21T11:42:42.685322Z",
     "iopub.status.idle": "2023-02-21T11:42:42.694352Z",
     "shell.execute_reply": "2023-02-21T11:42:42.693771Z"
    },
    "papermill": {
     "duration": 0.075587,
     "end_time": "2023-02-21T11:42:42.696521",
     "exception": false,
     "start_time": "2023-02-21T11:42:42.620934",
     "status": "completed"
    },
    "tags": []
   },
   "outputs": [],
   "source": [
    "Josephs_df.dropna(inplace=True)"
   ]
  },
  {
   "cell_type": "code",
   "execution_count": 212,
   "id": "6c8a3651",
   "metadata": {
    "execution": {
     "iopub.execute_input": "2023-02-21T11:42:42.826995Z",
     "iopub.status.busy": "2023-02-21T11:42:42.826446Z",
     "iopub.status.idle": "2023-02-21T11:42:42.838701Z",
     "shell.execute_reply": "2023-02-21T11:42:42.837402Z"
    },
    "papermill": {
     "duration": 0.080201,
     "end_time": "2023-02-21T11:42:42.840721",
     "exception": false,
     "start_time": "2023-02-21T11:42:42.760520",
     "status": "completed"
    },
    "tags": []
   },
   "outputs": [
    {
     "name": "stdout",
     "output_type": "stream",
     "text": [
      "<class 'pandas.core.frame.DataFrame'>\n",
      "Int64Index: 25626 entries, 355968 to 433177\n",
      "Data columns (total 27 columns):\n",
      " #   Column                            Non-Null Count  Dtype  \n",
      "---  ------                            --------------  -----  \n",
      " 0   Hospital County                   25626 non-null  int64  \n",
      " 1   Operating Certificate Number      25626 non-null  float64\n",
      " 2   Facility Id                       25626 non-null  float64\n",
      " 3   Age Group                         25626 non-null  int64  \n",
      " 4   Zip Code - 3 digits               25626 non-null  int64  \n",
      " 5   Gender                            25626 non-null  int64  \n",
      " 6   Race                              25626 non-null  int64  \n",
      " 7   Ethnicity                         25626 non-null  int64  \n",
      " 8   Length of Stay                    25626 non-null  float64\n",
      " 9   Type of Admission                 25626 non-null  int64  \n",
      " 10  Patient Disposition               25626 non-null  int64  \n",
      " 11  Discharge Year                    25626 non-null  int64  \n",
      " 12  CCS Diagnosis Code                25626 non-null  int64  \n",
      " 13  CCS Procedure Code                25626 non-null  int64  \n",
      " 14  APR DRG Code                      25626 non-null  int64  \n",
      " 15  APR MDC Code                      25626 non-null  int64  \n",
      " 16  APR Severity of Illness Code      25626 non-null  int64  \n",
      " 17  APR Risk of Mortality             25626 non-null  int64  \n",
      " 18  APR Medical Surgical Description  25626 non-null  int64  \n",
      " 19  Payment Typology 1                25626 non-null  int64  \n",
      " 20  Payment Typology 2                25626 non-null  int64  \n",
      " 21  Payment Typology 3                25626 non-null  int64  \n",
      " 22  Birth Weight                      25626 non-null  int64  \n",
      " 23  Abortion Edit Indicator           25626 non-null  int64  \n",
      " 24  Emergency Department Indicator    25626 non-null  int64  \n",
      " 25  Total Charges                     25626 non-null  float64\n",
      " 26  Total Costs                       25626 non-null  float64\n",
      "dtypes: float64(5), int64(22)\n",
      "memory usage: 5.5 MB\n"
     ]
    }
   ],
   "source": [
    "Josephs_df.info()"
   ]
  },
  {
   "cell_type": "code",
   "execution_count": 213,
   "id": "c39bfe5c",
   "metadata": {
    "execution": {
     "iopub.execute_input": "2023-02-21T11:42:42.974239Z",
     "iopub.status.busy": "2023-02-21T11:42:42.973875Z",
     "iopub.status.idle": "2023-02-21T11:42:42.980357Z",
     "shell.execute_reply": "2023-02-21T11:42:42.979262Z"
    },
    "papermill": {
     "duration": 0.074988,
     "end_time": "2023-02-21T11:42:42.982180",
     "exception": false,
     "start_time": "2023-02-21T11:42:42.907192",
     "status": "completed"
    },
    "tags": []
   },
   "outputs": [],
   "source": [
    "x = Josephs_df.drop([\"Length of Stay\"], axis =1)\n",
    "y = Josephs_df[\"Length of Stay\"]"
   ]
  },
  {
   "cell_type": "code",
   "execution_count": 214,
   "id": "85dfdb90",
   "metadata": {
    "execution": {
     "iopub.execute_input": "2023-02-21T11:42:43.112833Z",
     "iopub.status.busy": "2023-02-21T11:42:43.112404Z",
     "iopub.status.idle": "2023-02-21T11:42:43.124268Z",
     "shell.execute_reply": "2023-02-21T11:42:43.123311Z"
    },
    "papermill": {
     "duration": 0.079638,
     "end_time": "2023-02-21T11:42:43.126580",
     "exception": false,
     "start_time": "2023-02-21T11:42:43.046942",
     "status": "completed"
    },
    "tags": []
   },
   "outputs": [],
   "source": [
    "from sklearn.model_selection import train_test_split\n",
    "x_train, x_test, y_train, y_test = train_test_split(x, y, test_size=0.3, random_state=42)"
   ]
  },
  {
   "cell_type": "code",
   "execution_count": 215,
   "id": "feca7022",
   "metadata": {
    "execution": {
     "iopub.execute_input": "2023-02-21T11:42:43.256821Z",
     "iopub.status.busy": "2023-02-21T11:42:43.256251Z",
     "iopub.status.idle": "2023-02-21T11:42:43.281007Z",
     "shell.execute_reply": "2023-02-21T11:42:43.279945Z"
    },
    "papermill": {
     "duration": 0.092609,
     "end_time": "2023-02-21T11:42:43.283586",
     "exception": false,
     "start_time": "2023-02-21T11:42:43.190977",
     "status": "completed"
    },
    "tags": []
   },
   "outputs": [],
   "source": [
    "# Linear Regression\n",
    "\n",
    "LR = LinearRegression()\n",
    "LR.fit(x_train, y_train)\n",
    "LR.score(x_train, y_train)\n",
    "y_pred =LR.predict(x_test)"
   ]
  },
  {
   "cell_type": "code",
   "execution_count": 216,
   "id": "416a5f06",
   "metadata": {
    "execution": {
     "iopub.execute_input": "2023-02-21T11:42:43.440274Z",
     "iopub.status.busy": "2023-02-21T11:42:43.439924Z",
     "iopub.status.idle": "2023-02-21T11:42:43.447886Z",
     "shell.execute_reply": "2023-02-21T11:42:43.446689Z"
    },
    "papermill": {
     "duration": 0.082343,
     "end_time": "2023-02-21T11:42:43.449748",
     "exception": false,
     "start_time": "2023-02-21T11:42:43.367405",
     "status": "completed"
    },
    "tags": []
   },
   "outputs": [
    {
     "data": {
      "text/plain": [
       "0.6574754436024834"
      ]
     },
     "execution_count": 216,
     "metadata": {},
     "output_type": "execute_result"
    }
   ],
   "source": [
    "r2 = r2_score(y_test, y_pred)\n",
    "r2"
   ]
  },
  {
   "cell_type": "code",
   "execution_count": 217,
   "id": "fe2df4ab",
   "metadata": {
    "execution": {
     "iopub.execute_input": "2023-02-21T11:42:43.580173Z",
     "iopub.status.busy": "2023-02-21T11:42:43.579238Z",
     "iopub.status.idle": "2023-02-21T11:42:43.585816Z",
     "shell.execute_reply": "2023-02-21T11:42:43.585149Z"
    },
    "papermill": {
     "duration": 0.073834,
     "end_time": "2023-02-21T11:42:43.587460",
     "exception": false,
     "start_time": "2023-02-21T11:42:43.513626",
     "status": "completed"
    },
    "tags": []
   },
   "outputs": [
    {
     "data": {
      "text/plain": [
       "2.0719697846829397"
      ]
     },
     "execution_count": 217,
     "metadata": {},
     "output_type": "execute_result"
    }
   ],
   "source": [
    "# calculate the MAE of the model\n",
    "mae = mean_absolute_error(y_test, y_pred)\n",
    "mae"
   ]
  },
  {
   "cell_type": "code",
   "execution_count": 218,
   "id": "dde2d5fc",
   "metadata": {
    "execution": {
     "iopub.execute_input": "2023-02-21T11:42:43.717601Z",
     "iopub.status.busy": "2023-02-21T11:42:43.716912Z",
     "iopub.status.idle": "2023-02-21T11:42:43.723220Z",
     "shell.execute_reply": "2023-02-21T11:42:43.722451Z"
    },
    "papermill": {
     "duration": 0.073354,
     "end_time": "2023-02-21T11:42:43.724930",
     "exception": false,
     "start_time": "2023-02-21T11:42:43.651576",
     "status": "completed"
    },
    "tags": []
   },
   "outputs": [
    {
     "data": {
      "text/plain": [
       "13.044654985643254"
      ]
     },
     "execution_count": 218,
     "metadata": {},
     "output_type": "execute_result"
    }
   ],
   "source": [
    "# calculate the MSE of the model\n",
    "mse = mean_squared_error(y_test, y_pred)\n",
    "mse"
   ]
  },
  {
   "cell_type": "code",
   "execution_count": 219,
   "id": "a6fb753f",
   "metadata": {
    "execution": {
     "iopub.execute_input": "2023-02-21T11:42:43.856986Z",
     "iopub.status.busy": "2023-02-21T11:42:43.856470Z",
     "iopub.status.idle": "2023-02-21T11:42:43.861405Z",
     "shell.execute_reply": "2023-02-21T11:42:43.860709Z"
    },
    "papermill": {
     "duration": 0.072368,
     "end_time": "2023-02-21T11:42:43.862961",
     "exception": false,
     "start_time": "2023-02-21T11:42:43.790593",
     "status": "completed"
    },
    "tags": []
   },
   "outputs": [
    {
     "data": {
      "text/plain": [
       "3.6117384990670702"
      ]
     },
     "execution_count": 219,
     "metadata": {},
     "output_type": "execute_result"
    }
   ],
   "source": [
    "# calculate the RMSE of the model\n",
    "rmse = np.sqrt(mse)\n",
    "rmse"
   ]
  },
  {
   "cell_type": "code",
   "execution_count": 220,
   "id": "805595a7",
   "metadata": {
    "execution": {
     "iopub.execute_input": "2023-02-21T11:42:43.995647Z",
     "iopub.status.busy": "2023-02-21T11:42:43.995040Z",
     "iopub.status.idle": "2023-02-21T11:42:44.020077Z",
     "shell.execute_reply": "2023-02-21T11:42:44.019279Z"
    },
    "papermill": {
     "duration": 0.094583,
     "end_time": "2023-02-21T11:42:44.022386",
     "exception": false,
     "start_time": "2023-02-21T11:42:43.927803",
     "status": "completed"
    },
    "tags": []
   },
   "outputs": [],
   "source": [
    "# LASSO\n",
    "L1 = linear_model.Lasso()\n",
    "L1.fit(x_train,y_train)\n",
    "y_pred1 = L1.predict(x_test)"
   ]
  },
  {
   "cell_type": "code",
   "execution_count": 221,
   "id": "a5994f25",
   "metadata": {
    "execution": {
     "iopub.execute_input": "2023-02-21T11:42:44.181237Z",
     "iopub.status.busy": "2023-02-21T11:42:44.180855Z",
     "iopub.status.idle": "2023-02-21T11:42:44.187441Z",
     "shell.execute_reply": "2023-02-21T11:42:44.186597Z"
    },
    "papermill": {
     "duration": 0.08187,
     "end_time": "2023-02-21T11:42:44.189785",
     "exception": false,
     "start_time": "2023-02-21T11:42:44.107915",
     "status": "completed"
    },
    "tags": []
   },
   "outputs": [
    {
     "data": {
      "text/plain": [
       "0.5810415145070502"
      ]
     },
     "execution_count": 221,
     "metadata": {},
     "output_type": "execute_result"
    }
   ],
   "source": [
    "r2 = r2_score(y_test, y_pred1)\n",
    "r2 "
   ]
  },
  {
   "cell_type": "code",
   "execution_count": 222,
   "id": "8046572b",
   "metadata": {
    "execution": {
     "iopub.execute_input": "2023-02-21T11:42:44.323499Z",
     "iopub.status.busy": "2023-02-21T11:42:44.322478Z",
     "iopub.status.idle": "2023-02-21T11:42:44.329734Z",
     "shell.execute_reply": "2023-02-21T11:42:44.328929Z"
    },
    "papermill": {
     "duration": 0.076465,
     "end_time": "2023-02-21T11:42:44.331592",
     "exception": false,
     "start_time": "2023-02-21T11:42:44.255127",
     "status": "completed"
    },
    "tags": []
   },
   "outputs": [
    {
     "data": {
      "text/plain": [
       "2.455629978876319"
      ]
     },
     "execution_count": 222,
     "metadata": {},
     "output_type": "execute_result"
    }
   ],
   "source": [
    "# calculate the MAE of the model\n",
    "mae = mean_absolute_error(y_test, y_pred1)\n",
    "mae"
   ]
  },
  {
   "cell_type": "code",
   "execution_count": 223,
   "id": "2d444129",
   "metadata": {
    "execution": {
     "iopub.execute_input": "2023-02-21T11:42:44.508595Z",
     "iopub.status.busy": "2023-02-21T11:42:44.507373Z",
     "iopub.status.idle": "2023-02-21T11:42:44.514897Z",
     "shell.execute_reply": "2023-02-21T11:42:44.514133Z"
    },
    "papermill": {
     "duration": 0.12103,
     "end_time": "2023-02-21T11:42:44.516606",
     "exception": false,
     "start_time": "2023-02-21T11:42:44.395576",
     "status": "completed"
    },
    "tags": []
   },
   "outputs": [
    {
     "data": {
      "text/plain": [
       "15.95555353473856"
      ]
     },
     "execution_count": 223,
     "metadata": {},
     "output_type": "execute_result"
    }
   ],
   "source": [
    "# calculate the MSE of the model\n",
    "mse = mean_squared_error(y_test, y_pred1)\n",
    "mse"
   ]
  },
  {
   "cell_type": "code",
   "execution_count": 224,
   "id": "e8c624e1",
   "metadata": {
    "execution": {
     "iopub.execute_input": "2023-02-21T11:42:44.649978Z",
     "iopub.status.busy": "2023-02-21T11:42:44.649260Z",
     "iopub.status.idle": "2023-02-21T11:42:44.655776Z",
     "shell.execute_reply": "2023-02-21T11:42:44.654903Z"
    },
    "papermill": {
     "duration": 0.076246,
     "end_time": "2023-02-21T11:42:44.657825",
     "exception": false,
     "start_time": "2023-02-21T11:42:44.581579",
     "status": "completed"
    },
    "tags": []
   },
   "outputs": [
    {
     "data": {
      "text/plain": [
       "3.994440328098363"
      ]
     },
     "execution_count": 224,
     "metadata": {},
     "output_type": "execute_result"
    }
   ],
   "source": [
    "# calculate the RMSE of the model\n",
    "rmse = np.sqrt(mse)\n",
    "rmse"
   ]
  },
  {
   "cell_type": "code",
   "execution_count": 225,
   "id": "8e65afa1",
   "metadata": {
    "execution": {
     "iopub.execute_input": "2023-02-21T11:42:44.790920Z",
     "iopub.status.busy": "2023-02-21T11:42:44.789844Z",
     "iopub.status.idle": "2023-02-21T11:42:44.804152Z",
     "shell.execute_reply": "2023-02-21T11:42:44.803007Z"
    },
    "papermill": {
     "duration": 0.084003,
     "end_time": "2023-02-21T11:42:44.806367",
     "exception": false,
     "start_time": "2023-02-21T11:42:44.722364",
     "status": "completed"
    },
    "tags": []
   },
   "outputs": [],
   "source": [
    "# Ridge\n",
    "L2 = Ridge(alpha=1.0)\n",
    "L2.fit(x_train, y_train) \n",
    "y_pred3 = L2.predict(x_test)"
   ]
  },
  {
   "cell_type": "code",
   "execution_count": 226,
   "id": "3a2e91ce",
   "metadata": {
    "execution": {
     "iopub.execute_input": "2023-02-21T11:42:44.963361Z",
     "iopub.status.busy": "2023-02-21T11:42:44.963028Z",
     "iopub.status.idle": "2023-02-21T11:42:44.971675Z",
     "shell.execute_reply": "2023-02-21T11:42:44.970316Z"
    },
    "papermill": {
     "duration": 0.083709,
     "end_time": "2023-02-21T11:42:44.974048",
     "exception": false,
     "start_time": "2023-02-21T11:42:44.890339",
     "status": "completed"
    },
    "tags": []
   },
   "outputs": [
    {
     "data": {
      "text/plain": [
       "0.6574730902842871"
      ]
     },
     "execution_count": 226,
     "metadata": {},
     "output_type": "execute_result"
    }
   ],
   "source": [
    "r2 = r2_score(y_test, y_pred3)\n",
    "r2 "
   ]
  },
  {
   "cell_type": "code",
   "execution_count": 227,
   "id": "3633e1e5",
   "metadata": {
    "execution": {
     "iopub.execute_input": "2023-02-21T11:42:45.104901Z",
     "iopub.status.busy": "2023-02-21T11:42:45.104180Z",
     "iopub.status.idle": "2023-02-21T11:42:45.110559Z",
     "shell.execute_reply": "2023-02-21T11:42:45.109579Z"
    },
    "papermill": {
     "duration": 0.07329,
     "end_time": "2023-02-21T11:42:45.112598",
     "exception": false,
     "start_time": "2023-02-21T11:42:45.039308",
     "status": "completed"
    },
    "tags": []
   },
   "outputs": [
    {
     "data": {
      "text/plain": [
       "2.071950047482412"
      ]
     },
     "execution_count": 227,
     "metadata": {},
     "output_type": "execute_result"
    }
   ],
   "source": [
    "# calculate the MAE of the model\n",
    "mae = mean_absolute_error(y_test, y_pred3)\n",
    "mae"
   ]
  },
  {
   "cell_type": "code",
   "execution_count": 228,
   "id": "7d750743",
   "metadata": {
    "execution": {
     "iopub.execute_input": "2023-02-21T11:42:45.242282Z",
     "iopub.status.busy": "2023-02-21T11:42:45.241977Z",
     "iopub.status.idle": "2023-02-21T11:42:45.248498Z",
     "shell.execute_reply": "2023-02-21T11:42:45.247753Z"
    },
    "papermill": {
     "duration": 0.073198,
     "end_time": "2023-02-21T11:42:45.250001",
     "exception": false,
     "start_time": "2023-02-21T11:42:45.176803",
     "status": "completed"
    },
    "tags": []
   },
   "outputs": [
    {
     "data": {
      "text/plain": [
       "13.0447446090684"
      ]
     },
     "execution_count": 228,
     "metadata": {},
     "output_type": "execute_result"
    }
   ],
   "source": [
    "# calculate the MSE of the model\n",
    "mse = mean_squared_error(y_test, y_pred3)\n",
    "mse"
   ]
  },
  {
   "cell_type": "code",
   "execution_count": 229,
   "id": "8fd797a4",
   "metadata": {
    "execution": {
     "iopub.execute_input": "2023-02-21T11:42:45.384009Z",
     "iopub.status.busy": "2023-02-21T11:42:45.383382Z",
     "iopub.status.idle": "2023-02-21T11:42:45.388358Z",
     "shell.execute_reply": "2023-02-21T11:42:45.387789Z"
    },
    "papermill": {
     "duration": 0.075428,
     "end_time": "2023-02-21T11:42:45.389907",
     "exception": false,
     "start_time": "2023-02-21T11:42:45.314479",
     "status": "completed"
    },
    "tags": []
   },
   "outputs": [
    {
     "data": {
      "text/plain": [
       "3.6117509062874755"
      ]
     },
     "execution_count": 229,
     "metadata": {},
     "output_type": "execute_result"
    }
   ],
   "source": [
    "# calculate the RMSE of the model\n",
    "rmse = np.sqrt(mse)\n",
    "rmse"
   ]
  },
  {
   "cell_type": "markdown",
   "id": "bb813a1e",
   "metadata": {
    "papermill": {
     "duration": 0.063861,
     "end_time": "2023-02-21T11:42:45.518525",
     "exception": false,
     "start_time": "2023-02-21T11:42:45.454664",
     "status": "completed"
    },
    "tags": []
   },
   "source": [
    "client 3 : Bronx-Lebanon "
   ]
  },
  {
   "cell_type": "code",
   "execution_count": 230,
   "id": "4e97e070",
   "metadata": {
    "execution": {
     "iopub.execute_input": "2023-02-21T11:42:45.649509Z",
     "iopub.status.busy": "2023-02-21T11:42:45.648866Z",
     "iopub.status.idle": "2023-02-21T11:42:45.787119Z",
     "shell.execute_reply": "2023-02-21T11:42:45.786109Z"
    },
    "papermill": {
     "duration": 0.206359,
     "end_time": "2023-02-21T11:42:45.789214",
     "exception": false,
     "start_time": "2023-02-21T11:42:45.582855",
     "status": "completed"
    },
    "tags": []
   },
   "outputs": [],
   "source": [
    "bronx=['Bronx-Lebanon Hospital Center - Fulton Division', 'Bronx-Lebanon Hospital Center - Concourse Division']\n",
    "Bronx_df1=df[df[\"Facility Name\"]== 'Bronx-Lebanon Hospital Center - Fulton Division']"
   ]
  },
  {
   "cell_type": "code",
   "execution_count": 231,
   "id": "f320294e",
   "metadata": {
    "execution": {
     "iopub.execute_input": "2023-02-21T11:42:45.924545Z",
     "iopub.status.busy": "2023-02-21T11:42:45.924177Z",
     "iopub.status.idle": "2023-02-21T11:42:46.065573Z",
     "shell.execute_reply": "2023-02-21T11:42:46.064260Z"
    },
    "papermill": {
     "duration": 0.211963,
     "end_time": "2023-02-21T11:42:46.067985",
     "exception": false,
     "start_time": "2023-02-21T11:42:45.856022",
     "status": "completed"
    },
    "tags": []
   },
   "outputs": [],
   "source": [
    "Bronx_df2=df[df[\"Facility Name\"]== 'Bronx-Lebanon Hospital Center - Concourse Division']"
   ]
  },
  {
   "cell_type": "code",
   "execution_count": 232,
   "id": "6cba05e1",
   "metadata": {
    "execution": {
     "iopub.execute_input": "2023-02-21T11:42:46.202345Z",
     "iopub.status.busy": "2023-02-21T11:42:46.201998Z",
     "iopub.status.idle": "2023-02-21T11:42:46.205765Z",
     "shell.execute_reply": "2023-02-21T11:42:46.205094Z"
    },
    "papermill": {
     "duration": 0.072814,
     "end_time": "2023-02-21T11:42:46.207396",
     "exception": false,
     "start_time": "2023-02-21T11:42:46.134582",
     "status": "completed"
    },
    "tags": []
   },
   "outputs": [],
   "source": [
    "l = [Bronx_df1,Bronx_df2]"
   ]
  },
  {
   "cell_type": "code",
   "execution_count": 233,
   "id": "e70cb089",
   "metadata": {
    "execution": {
     "iopub.execute_input": "2023-02-21T11:42:46.341113Z",
     "iopub.status.busy": "2023-02-21T11:42:46.340636Z",
     "iopub.status.idle": "2023-02-21T11:42:46.382268Z",
     "shell.execute_reply": "2023-02-21T11:42:46.381361Z"
    },
    "papermill": {
     "duration": 0.112145,
     "end_time": "2023-02-21T11:42:46.384161",
     "exception": false,
     "start_time": "2023-02-21T11:42:46.272016",
     "status": "completed"
    },
    "tags": []
   },
   "outputs": [
    {
     "data": {
      "text/html": [
       "<div>\n",
       "<style scoped>\n",
       "    .dataframe tbody tr th:only-of-type {\n",
       "        vertical-align: middle;\n",
       "    }\n",
       "\n",
       "    .dataframe tbody tr th {\n",
       "        vertical-align: top;\n",
       "    }\n",
       "\n",
       "    .dataframe thead th {\n",
       "        text-align: right;\n",
       "    }\n",
       "</style>\n",
       "<table border=\"1\" class=\"dataframe\">\n",
       "  <thead>\n",
       "    <tr style=\"text-align: right;\">\n",
       "      <th></th>\n",
       "      <th>Hospital County</th>\n",
       "      <th>Operating Certificate Number</th>\n",
       "      <th>Facility Id</th>\n",
       "      <th>Facility Name</th>\n",
       "      <th>Age Group</th>\n",
       "      <th>Zip Code - 3 digits</th>\n",
       "      <th>Gender</th>\n",
       "      <th>Race</th>\n",
       "      <th>Ethnicity</th>\n",
       "      <th>Length of Stay</th>\n",
       "      <th>...</th>\n",
       "      <th>APR Risk of Mortality</th>\n",
       "      <th>APR Medical Surgical Description</th>\n",
       "      <th>Payment Typology 1</th>\n",
       "      <th>Payment Typology 2</th>\n",
       "      <th>Payment Typology 3</th>\n",
       "      <th>Birth Weight</th>\n",
       "      <th>Abortion Edit Indicator</th>\n",
       "      <th>Emergency Department Indicator</th>\n",
       "      <th>Total Charges</th>\n",
       "      <th>Total Costs</th>\n",
       "    </tr>\n",
       "  </thead>\n",
       "  <tbody>\n",
       "    <tr>\n",
       "      <th>905707</th>\n",
       "      <td>Bronx</td>\n",
       "      <td>7000001.0</td>\n",
       "      <td>1164.0</td>\n",
       "      <td>Bronx-Lebanon Hospital Center - Fulton Division</td>\n",
       "      <td>50 to 69</td>\n",
       "      <td>104</td>\n",
       "      <td>M</td>\n",
       "      <td>White</td>\n",
       "      <td>Not Span/Hispanic</td>\n",
       "      <td>3</td>\n",
       "      <td>...</td>\n",
       "      <td>Minor</td>\n",
       "      <td>Medical</td>\n",
       "      <td>Medicaid</td>\n",
       "      <td>NaN</td>\n",
       "      <td>NaN</td>\n",
       "      <td>0</td>\n",
       "      <td>N</td>\n",
       "      <td>Y</td>\n",
       "      <td>9004.46</td>\n",
       "      <td>7831.22</td>\n",
       "    </tr>\n",
       "    <tr>\n",
       "      <th>905777</th>\n",
       "      <td>Bronx</td>\n",
       "      <td>7000001.0</td>\n",
       "      <td>1164.0</td>\n",
       "      <td>Bronx-Lebanon Hospital Center - Fulton Division</td>\n",
       "      <td>18 to 29</td>\n",
       "      <td>104</td>\n",
       "      <td>M</td>\n",
       "      <td>Other Race</td>\n",
       "      <td>Unknown</td>\n",
       "      <td>11</td>\n",
       "      <td>...</td>\n",
       "      <td>Minor</td>\n",
       "      <td>Medical</td>\n",
       "      <td>Medicaid</td>\n",
       "      <td>NaN</td>\n",
       "      <td>NaN</td>\n",
       "      <td>0</td>\n",
       "      <td>N</td>\n",
       "      <td>N</td>\n",
       "      <td>18290.67</td>\n",
       "      <td>16470.61</td>\n",
       "    </tr>\n",
       "    <tr>\n",
       "      <th>911991</th>\n",
       "      <td>Bronx</td>\n",
       "      <td>7000001.0</td>\n",
       "      <td>1164.0</td>\n",
       "      <td>Bronx-Lebanon Hospital Center - Fulton Division</td>\n",
       "      <td>50 to 69</td>\n",
       "      <td>104</td>\n",
       "      <td>F</td>\n",
       "      <td>Other Race</td>\n",
       "      <td>Unknown</td>\n",
       "      <td>6</td>\n",
       "      <td>...</td>\n",
       "      <td>Minor</td>\n",
       "      <td>Medical</td>\n",
       "      <td>Medicaid</td>\n",
       "      <td>NaN</td>\n",
       "      <td>NaN</td>\n",
       "      <td>0</td>\n",
       "      <td>N</td>\n",
       "      <td>N</td>\n",
       "      <td>10959.98</td>\n",
       "      <td>10114.66</td>\n",
       "    </tr>\n",
       "    <tr>\n",
       "      <th>912090</th>\n",
       "      <td>Bronx</td>\n",
       "      <td>7000001.0</td>\n",
       "      <td>1164.0</td>\n",
       "      <td>Bronx-Lebanon Hospital Center - Fulton Division</td>\n",
       "      <td>18 to 29</td>\n",
       "      <td>104</td>\n",
       "      <td>M</td>\n",
       "      <td>Other Race</td>\n",
       "      <td>Unknown</td>\n",
       "      <td>22</td>\n",
       "      <td>...</td>\n",
       "      <td>Minor</td>\n",
       "      <td>Medical</td>\n",
       "      <td>Medicaid</td>\n",
       "      <td>NaN</td>\n",
       "      <td>NaN</td>\n",
       "      <td>0</td>\n",
       "      <td>N</td>\n",
       "      <td>Y</td>\n",
       "      <td>32614.70</td>\n",
       "      <td>29786.31</td>\n",
       "    </tr>\n",
       "    <tr>\n",
       "      <th>912212</th>\n",
       "      <td>Bronx</td>\n",
       "      <td>7000001.0</td>\n",
       "      <td>1164.0</td>\n",
       "      <td>Bronx-Lebanon Hospital Center - Fulton Division</td>\n",
       "      <td>50 to 69</td>\n",
       "      <td>104</td>\n",
       "      <td>M</td>\n",
       "      <td>Other Race</td>\n",
       "      <td>Spanish/Hispanic</td>\n",
       "      <td>3</td>\n",
       "      <td>...</td>\n",
       "      <td>Minor</td>\n",
       "      <td>Medical</td>\n",
       "      <td>Medicaid</td>\n",
       "      <td>NaN</td>\n",
       "      <td>NaN</td>\n",
       "      <td>0</td>\n",
       "      <td>N</td>\n",
       "      <td>Y</td>\n",
       "      <td>7838.81</td>\n",
       "      <td>7002.57</td>\n",
       "    </tr>\n",
       "    <tr>\n",
       "      <th>...</th>\n",
       "      <td>...</td>\n",
       "      <td>...</td>\n",
       "      <td>...</td>\n",
       "      <td>...</td>\n",
       "      <td>...</td>\n",
       "      <td>...</td>\n",
       "      <td>...</td>\n",
       "      <td>...</td>\n",
       "      <td>...</td>\n",
       "      <td>...</td>\n",
       "      <td>...</td>\n",
       "      <td>...</td>\n",
       "      <td>...</td>\n",
       "      <td>...</td>\n",
       "      <td>...</td>\n",
       "      <td>...</td>\n",
       "      <td>...</td>\n",
       "      <td>...</td>\n",
       "      <td>...</td>\n",
       "      <td>...</td>\n",
       "      <td>...</td>\n",
       "    </tr>\n",
       "    <tr>\n",
       "      <th>1065404</th>\n",
       "      <td>Bronx</td>\n",
       "      <td>7000001.0</td>\n",
       "      <td>1178.0</td>\n",
       "      <td>Bronx-Lebanon Hospital Center - Concourse Divi...</td>\n",
       "      <td>18 to 29</td>\n",
       "      <td>104</td>\n",
       "      <td>F</td>\n",
       "      <td>Other Race</td>\n",
       "      <td>Unknown</td>\n",
       "      <td>2</td>\n",
       "      <td>...</td>\n",
       "      <td>Minor</td>\n",
       "      <td>Medical</td>\n",
       "      <td>Medicaid</td>\n",
       "      <td>Medicaid</td>\n",
       "      <td>NaN</td>\n",
       "      <td>0</td>\n",
       "      <td>N</td>\n",
       "      <td>N</td>\n",
       "      <td>7194.54</td>\n",
       "      <td>8400.69</td>\n",
       "    </tr>\n",
       "    <tr>\n",
       "      <th>1065405</th>\n",
       "      <td>Bronx</td>\n",
       "      <td>7000001.0</td>\n",
       "      <td>1178.0</td>\n",
       "      <td>Bronx-Lebanon Hospital Center - Concourse Divi...</td>\n",
       "      <td>30 to 49</td>\n",
       "      <td>104</td>\n",
       "      <td>F</td>\n",
       "      <td>Other Race</td>\n",
       "      <td>Unknown</td>\n",
       "      <td>2</td>\n",
       "      <td>...</td>\n",
       "      <td>Minor</td>\n",
       "      <td>Medical</td>\n",
       "      <td>Medicaid</td>\n",
       "      <td>NaN</td>\n",
       "      <td>NaN</td>\n",
       "      <td>0</td>\n",
       "      <td>N</td>\n",
       "      <td>N</td>\n",
       "      <td>9129.09</td>\n",
       "      <td>9080.43</td>\n",
       "    </tr>\n",
       "    <tr>\n",
       "      <th>1065406</th>\n",
       "      <td>Bronx</td>\n",
       "      <td>7000001.0</td>\n",
       "      <td>1178.0</td>\n",
       "      <td>Bronx-Lebanon Hospital Center - Concourse Divi...</td>\n",
       "      <td>0 to 17</td>\n",
       "      <td>104</td>\n",
       "      <td>F</td>\n",
       "      <td>Other Race</td>\n",
       "      <td>Spanish/Hispanic</td>\n",
       "      <td>3</td>\n",
       "      <td>...</td>\n",
       "      <td>Minor</td>\n",
       "      <td>Medical</td>\n",
       "      <td>Private Health Insurance</td>\n",
       "      <td>Private Health Insurance</td>\n",
       "      <td>Medicaid</td>\n",
       "      <td>0</td>\n",
       "      <td>N</td>\n",
       "      <td>Y</td>\n",
       "      <td>14112.64</td>\n",
       "      <td>10711.62</td>\n",
       "    </tr>\n",
       "    <tr>\n",
       "      <th>1065407</th>\n",
       "      <td>Bronx</td>\n",
       "      <td>7000001.0</td>\n",
       "      <td>1178.0</td>\n",
       "      <td>Bronx-Lebanon Hospital Center - Concourse Divi...</td>\n",
       "      <td>70 or Older</td>\n",
       "      <td>104</td>\n",
       "      <td>F</td>\n",
       "      <td>Black/African American</td>\n",
       "      <td>Not Span/Hispanic</td>\n",
       "      <td>5</td>\n",
       "      <td>...</td>\n",
       "      <td>Major</td>\n",
       "      <td>Medical</td>\n",
       "      <td>Medicare</td>\n",
       "      <td>Medicare</td>\n",
       "      <td>Medicaid</td>\n",
       "      <td>0</td>\n",
       "      <td>N</td>\n",
       "      <td>Y</td>\n",
       "      <td>14171.30</td>\n",
       "      <td>16734.73</td>\n",
       "    </tr>\n",
       "    <tr>\n",
       "      <th>1065408</th>\n",
       "      <td>Bronx</td>\n",
       "      <td>7000001.0</td>\n",
       "      <td>1178.0</td>\n",
       "      <td>Bronx-Lebanon Hospital Center - Concourse Divi...</td>\n",
       "      <td>50 to 69</td>\n",
       "      <td>104</td>\n",
       "      <td>F</td>\n",
       "      <td>Black/African American</td>\n",
       "      <td>Not Span/Hispanic</td>\n",
       "      <td>9</td>\n",
       "      <td>...</td>\n",
       "      <td>Extreme</td>\n",
       "      <td>Medical</td>\n",
       "      <td>Medicare</td>\n",
       "      <td>Medicare</td>\n",
       "      <td>Medicaid</td>\n",
       "      <td>0</td>\n",
       "      <td>N</td>\n",
       "      <td>Y</td>\n",
       "      <td>27666.71</td>\n",
       "      <td>29439.26</td>\n",
       "    </tr>\n",
       "  </tbody>\n",
       "</table>\n",
       "<p>31978 rows × 28 columns</p>\n",
       "</div>"
      ],
      "text/plain": [
       "        Hospital County  Operating Certificate Number  Facility Id  \\\n",
       "905707            Bronx                     7000001.0       1164.0   \n",
       "905777            Bronx                     7000001.0       1164.0   \n",
       "911991            Bronx                     7000001.0       1164.0   \n",
       "912090            Bronx                     7000001.0       1164.0   \n",
       "912212            Bronx                     7000001.0       1164.0   \n",
       "...                 ...                           ...          ...   \n",
       "1065404           Bronx                     7000001.0       1178.0   \n",
       "1065405           Bronx                     7000001.0       1178.0   \n",
       "1065406           Bronx                     7000001.0       1178.0   \n",
       "1065407           Bronx                     7000001.0       1178.0   \n",
       "1065408           Bronx                     7000001.0       1178.0   \n",
       "\n",
       "                                             Facility Name    Age Group  \\\n",
       "905707     Bronx-Lebanon Hospital Center - Fulton Division     50 to 69   \n",
       "905777     Bronx-Lebanon Hospital Center - Fulton Division     18 to 29   \n",
       "911991     Bronx-Lebanon Hospital Center - Fulton Division     50 to 69   \n",
       "912090     Bronx-Lebanon Hospital Center - Fulton Division     18 to 29   \n",
       "912212     Bronx-Lebanon Hospital Center - Fulton Division     50 to 69   \n",
       "...                                                    ...          ...   \n",
       "1065404  Bronx-Lebanon Hospital Center - Concourse Divi...     18 to 29   \n",
       "1065405  Bronx-Lebanon Hospital Center - Concourse Divi...     30 to 49   \n",
       "1065406  Bronx-Lebanon Hospital Center - Concourse Divi...      0 to 17   \n",
       "1065407  Bronx-Lebanon Hospital Center - Concourse Divi...  70 or Older   \n",
       "1065408  Bronx-Lebanon Hospital Center - Concourse Divi...     50 to 69   \n",
       "\n",
       "        Zip Code - 3 digits Gender                    Race          Ethnicity  \\\n",
       "905707                  104      M                   White  Not Span/Hispanic   \n",
       "905777                  104      M              Other Race            Unknown   \n",
       "911991                  104      F              Other Race            Unknown   \n",
       "912090                  104      M              Other Race            Unknown   \n",
       "912212                  104      M              Other Race   Spanish/Hispanic   \n",
       "...                     ...    ...                     ...                ...   \n",
       "1065404                 104      F              Other Race            Unknown   \n",
       "1065405                 104      F              Other Race            Unknown   \n",
       "1065406                 104      F              Other Race   Spanish/Hispanic   \n",
       "1065407                 104      F  Black/African American  Not Span/Hispanic   \n",
       "1065408                 104      F  Black/African American  Not Span/Hispanic   \n",
       "\n",
       "        Length of Stay  ... APR Risk of Mortality  \\\n",
       "905707               3  ...                 Minor   \n",
       "905777              11  ...                 Minor   \n",
       "911991               6  ...                 Minor   \n",
       "912090              22  ...                 Minor   \n",
       "912212               3  ...                 Minor   \n",
       "...                ...  ...                   ...   \n",
       "1065404              2  ...                 Minor   \n",
       "1065405              2  ...                 Minor   \n",
       "1065406              3  ...                 Minor   \n",
       "1065407              5  ...                 Major   \n",
       "1065408              9  ...               Extreme   \n",
       "\n",
       "        APR Medical Surgical Description        Payment Typology 1  \\\n",
       "905707                           Medical                  Medicaid   \n",
       "905777                           Medical                  Medicaid   \n",
       "911991                           Medical                  Medicaid   \n",
       "912090                           Medical                  Medicaid   \n",
       "912212                           Medical                  Medicaid   \n",
       "...                                  ...                       ...   \n",
       "1065404                          Medical                  Medicaid   \n",
       "1065405                          Medical                  Medicaid   \n",
       "1065406                          Medical  Private Health Insurance   \n",
       "1065407                          Medical                  Medicare   \n",
       "1065408                          Medical                  Medicare   \n",
       "\n",
       "               Payment Typology 2  Payment Typology 3  Birth Weight  \\\n",
       "905707                        NaN                 NaN             0   \n",
       "905777                        NaN                 NaN             0   \n",
       "911991                        NaN                 NaN             0   \n",
       "912090                        NaN                 NaN             0   \n",
       "912212                        NaN                 NaN             0   \n",
       "...                           ...                 ...           ...   \n",
       "1065404                  Medicaid                 NaN             0   \n",
       "1065405                       NaN                 NaN             0   \n",
       "1065406  Private Health Insurance            Medicaid             0   \n",
       "1065407                  Medicare            Medicaid             0   \n",
       "1065408                  Medicare            Medicaid             0   \n",
       "\n",
       "         Abortion Edit Indicator  Emergency Department Indicator  \\\n",
       "905707                         N                               Y   \n",
       "905777                         N                               N   \n",
       "911991                         N                               N   \n",
       "912090                         N                               Y   \n",
       "912212                         N                               Y   \n",
       "...                          ...                             ...   \n",
       "1065404                        N                               N   \n",
       "1065405                        N                               N   \n",
       "1065406                        N                               Y   \n",
       "1065407                        N                               Y   \n",
       "1065408                        N                               Y   \n",
       "\n",
       "        Total Charges Total Costs  \n",
       "905707        9004.46     7831.22  \n",
       "905777       18290.67    16470.61  \n",
       "911991       10959.98    10114.66  \n",
       "912090       32614.70    29786.31  \n",
       "912212        7838.81     7002.57  \n",
       "...               ...         ...  \n",
       "1065404       7194.54     8400.69  \n",
       "1065405       9129.09     9080.43  \n",
       "1065406      14112.64    10711.62  \n",
       "1065407      14171.30    16734.73  \n",
       "1065408      27666.71    29439.26  \n",
       "\n",
       "[31978 rows x 28 columns]"
      ]
     },
     "metadata": {},
     "output_type": "display_data"
    }
   ],
   "source": [
    "Bronx_df= pd.concat(l)\n",
    "display(Bronx_df)"
   ]
  },
  {
   "cell_type": "code",
   "execution_count": 234,
   "id": "1b9e8a71",
   "metadata": {
    "execution": {
     "iopub.execute_input": "2023-02-21T11:42:46.522279Z",
     "iopub.status.busy": "2023-02-21T11:42:46.521946Z",
     "iopub.status.idle": "2023-02-21T11:42:46.542052Z",
     "shell.execute_reply": "2023-02-21T11:42:46.540919Z"
    },
    "papermill": {
     "duration": 0.093852,
     "end_time": "2023-02-21T11:42:46.544992",
     "exception": false,
     "start_time": "2023-02-21T11:42:46.451140",
     "status": "completed"
    },
    "tags": []
   },
   "outputs": [
    {
     "name": "stdout",
     "output_type": "stream",
     "text": [
      "<class 'pandas.core.frame.DataFrame'>\n",
      "Int64Index: 31978 entries, 905707 to 1065408\n",
      "Data columns (total 28 columns):\n",
      " #   Column                            Non-Null Count  Dtype   \n",
      "---  ------                            --------------  -----   \n",
      " 0   Hospital County                   31978 non-null  category\n",
      " 1   Operating Certificate Number      31978 non-null  float64 \n",
      " 2   Facility Id                       31978 non-null  float64 \n",
      " 3   Facility Name                     31978 non-null  object  \n",
      " 4   Age Group                         31978 non-null  category\n",
      " 5   Zip Code - 3 digits               31061 non-null  category\n",
      " 6   Gender                            31978 non-null  category\n",
      " 7   Race                              31978 non-null  category\n",
      " 8   Ethnicity                         31978 non-null  category\n",
      " 9   Length of Stay                    31978 non-null  category\n",
      " 10  Type of Admission                 31978 non-null  category\n",
      " 11  Patient Disposition               31978 non-null  category\n",
      " 12  Discharge Year                    31978 non-null  int64   \n",
      " 13  CCS Diagnosis Code                31978 non-null  int64   \n",
      " 14  CCS Procedure Code                31978 non-null  int64   \n",
      " 15  APR DRG Code                      31978 non-null  int64   \n",
      " 16  APR MDC Code                      31978 non-null  int64   \n",
      " 17  APR Severity of Illness Code      31978 non-null  int64   \n",
      " 18  APR Risk of Mortality             31966 non-null  category\n",
      " 19  APR Medical Surgical Description  31978 non-null  category\n",
      " 20  Payment Typology 1                31978 non-null  category\n",
      " 21  Payment Typology 2                22458 non-null  category\n",
      " 22  Payment Typology 3                3818 non-null   category\n",
      " 23  Birth Weight                      31978 non-null  int64   \n",
      " 24  Abortion Edit Indicator           31978 non-null  category\n",
      " 25  Emergency Department Indicator    31978 non-null  category\n",
      " 26  Total Charges                     31978 non-null  float64 \n",
      " 27  Total Costs                       31978 non-null  float64 \n",
      "dtypes: category(16), float64(4), int64(7), object(1)\n",
      "memory usage: 3.7+ MB\n"
     ]
    }
   ],
   "source": [
    "Bronx_df.info()"
   ]
  },
  {
   "cell_type": "code",
   "execution_count": 235,
   "id": "c472f51e",
   "metadata": {
    "execution": {
     "iopub.execute_input": "2023-02-21T11:42:46.682359Z",
     "iopub.status.busy": "2023-02-21T11:42:46.681345Z",
     "iopub.status.idle": "2023-02-21T11:42:46.690945Z",
     "shell.execute_reply": "2023-02-21T11:42:46.689775Z"
    },
    "papermill": {
     "duration": 0.079917,
     "end_time": "2023-02-21T11:42:46.693205",
     "exception": false,
     "start_time": "2023-02-21T11:42:46.613288",
     "status": "completed"
    },
    "tags": []
   },
   "outputs": [],
   "source": [
    "Bronx_df = Bronx_df.drop([\"Payment Typology 2\",    \"Payment Typology 3\"], axis=1)"
   ]
  },
  {
   "cell_type": "code",
   "execution_count": 236,
   "id": "08aa63ab",
   "metadata": {
    "execution": {
     "iopub.execute_input": "2023-02-21T11:42:46.827809Z",
     "iopub.status.busy": "2023-02-21T11:42:46.827499Z",
     "iopub.status.idle": "2023-02-21T11:42:46.886575Z",
     "shell.execute_reply": "2023-02-21T11:42:46.885404Z"
    },
    "papermill": {
     "duration": 0.130043,
     "end_time": "2023-02-21T11:42:46.890057",
     "exception": false,
     "start_time": "2023-02-21T11:42:46.760014",
     "status": "completed"
    },
    "tags": []
   },
   "outputs": [
    {
     "name": "stdout",
     "output_type": "stream",
     "text": [
      "Hospital County : 1\n",
      "Bronx          31978\n",
      "Albany             0\n",
      "Schenectady        0\n",
      "Onondaga           0\n",
      "Ontario            0\n",
      "Name: Hospital County, dtype: int64\n",
      "\n",
      "********************\n",
      "\n",
      "Operating Certificate Number : 1\n",
      "7000001.0    31978\n",
      "Name: Operating Certificate Number, dtype: int64\n",
      "\n",
      "********************\n",
      "\n",
      "Facility Id : 2\n",
      "1178.0    27369\n",
      "1164.0     4609\n",
      "Name: Facility Id, dtype: int64\n",
      "\n",
      "********************\n",
      "\n",
      "Facility Name : 2\n",
      "Bronx-Lebanon Hospital Center - Concourse Division    27369\n",
      "Bronx-Lebanon Hospital Center - Fulton Division        4609\n",
      "Name: Facility Name, dtype: int64\n",
      "\n",
      "********************\n",
      "\n",
      "Age Group : 5\n",
      "50 to 69       10654\n",
      "30 to 49        8444\n",
      "0 to 17         4601\n",
      "70 or Older     4206\n",
      "18 to 29        4073\n",
      "Name: Age Group, dtype: int64\n",
      "\n",
      "********************\n",
      "\n",
      "Zip Code - 3 digits : 20\n",
      "104    28864\n",
      "100     1010\n",
      "OOS      480\n",
      "112      358\n",
      "114      101\n",
      "Name: Zip Code - 3 digits, dtype: int64\n",
      "\n",
      "********************\n",
      "\n",
      "Gender : 2\n",
      "F    17142\n",
      "M    14836\n",
      "U        0\n",
      "Name: Gender, dtype: int64\n",
      "\n",
      "********************\n",
      "\n",
      "Race : 3\n",
      "Other Race                19618\n",
      "Black/African American    11211\n",
      "White                      1149\n",
      "Multi-racial                  0\n",
      "Name: Race, dtype: int64\n",
      "\n",
      "********************\n",
      "\n",
      "Ethnicity : 3\n",
      "Not Span/Hispanic    12052\n",
      "Unknown              11700\n",
      "Spanish/Hispanic      8226\n",
      "Multi-ethnic             0\n",
      "Name: Ethnicity, dtype: int64\n",
      "\n",
      "********************\n",
      "\n",
      "Length of Stay : 177\n",
      "2    4312\n",
      "2    3463\n",
      "3    3307\n",
      "3    2985\n",
      "1    2786\n",
      "Name: Length of Stay, dtype: int64\n",
      "\n",
      "********************\n",
      "\n",
      "Type of Admission : 4\n",
      "Emergency        23007\n",
      "Elective          4378\n",
      "Urgent            2356\n",
      "Newborn           2237\n",
      "Not Available        0\n",
      "Name: Type of Admission, dtype: int64\n",
      "\n",
      "********************\n",
      "\n",
      "Patient Disposition : 13\n",
      "Home or Self Care                    24402\n",
      "Home w/ Home Health Services          1905\n",
      "Left Against Medical Advice           1676\n",
      "Skilled Nursing Home                  1653\n",
      "Inpatient Rehabilitation Facility      473\n",
      "Name: Patient Disposition, dtype: int64\n",
      "\n",
      "********************\n",
      "\n",
      "Discharge Year : 1\n",
      "2015    31978\n",
      "Name: Discharge Year, dtype: int64\n",
      "\n",
      "********************\n",
      "\n",
      "CCS Diagnosis Code : 244\n",
      "218    2230\n",
      "660    1382\n",
      "102    1231\n",
      "661    1193\n",
      "659    1171\n",
      "Name: CCS Diagnosis Code, dtype: int64\n",
      "\n",
      "********************\n",
      "\n",
      "CCS Procedure Code : 201\n",
      "0      9904\n",
      "218    2038\n",
      "219    1924\n",
      "228    1570\n",
      "216    1274\n",
      "Name: CCS Procedure Code, dtype: int64\n",
      "\n",
      "********************\n",
      "\n",
      "APR DRG Code : 281\n",
      "640    1831\n",
      "560    1333\n",
      "750    1041\n",
      "203     980\n",
      "540     821\n",
      "Name: APR DRG Code, dtype: int64\n",
      "\n",
      "********************\n",
      "\n",
      "APR MDC Code : 25\n",
      "5     4109\n",
      "4     3395\n",
      "14    2730\n",
      "6     2668\n",
      "19    2529\n",
      "Name: APR MDC Code, dtype: int64\n",
      "\n",
      "********************\n",
      "\n",
      "APR Severity of Illness Code : 5\n",
      "2    15090\n",
      "1     9369\n",
      "3     6214\n",
      "4     1293\n",
      "0       12\n",
      "Name: APR Severity of Illness Code, dtype: int64\n",
      "\n",
      "********************\n",
      "\n",
      "APR Risk of Mortality : 4\n",
      "Minor       21295\n",
      "Moderate     6759\n",
      "Major        2886\n",
      "Extreme      1026\n",
      "Name: APR Risk of Mortality, dtype: int64\n",
      "\n",
      "********************\n",
      "\n",
      "APR Medical Surgical Description : 3\n",
      "Medical           27761\n",
      "Surgical           4205\n",
      "Not Applicable       12\n",
      "Name: APR Medical Surgical Description, dtype: int64\n",
      "\n",
      "********************\n",
      "\n",
      "Payment Typology 1 : 7\n",
      "Medicaid                    21613\n",
      "Medicare                     7283\n",
      "Private Health Insurance     1672\n",
      "Blue Cross/Blue Shield        660\n",
      "Miscellaneous/Other           553\n",
      "Name: Payment Typology 1, dtype: int64\n",
      "\n",
      "********************\n",
      "\n",
      "Birth Weight : 48\n",
      "0       29668\n",
      "3100      217\n",
      "3200      205\n",
      "3300      176\n",
      "3500      175\n",
      "Name: Birth Weight, dtype: int64\n",
      "\n",
      "********************\n",
      "\n",
      "Abortion Edit Indicator : 1\n",
      "N    31978\n",
      "Y        0\n",
      "Name: Abortion Edit Indicator, dtype: int64\n",
      "\n",
      "********************\n",
      "\n",
      "Emergency Department Indicator : 2\n",
      "Y    22195\n",
      "N     9783\n",
      "Name: Emergency Department Indicator, dtype: int64\n",
      "\n",
      "********************\n",
      "\n",
      "Total Charges : 30682\n",
      "4052.71    131\n",
      "4524.17    122\n",
      "4924.17    107\n",
      "4452.71     81\n",
      "4522.88     46\n",
      "Name: Total Charges, dtype: int64\n",
      "\n",
      "********************\n",
      "\n",
      "Total Costs : 30657\n",
      "3598.09    131\n",
      "3771.34    122\n",
      "4072.34    107\n",
      "3899.09     81\n",
      "3770.04     46\n",
      "Name: Total Costs, dtype: int64\n",
      "\n",
      "********************\n",
      "\n"
     ]
    }
   ],
   "source": [
    "for col in Bronx_df.columns:\n",
    "    print( col,':', Bronx_df[col].nunique() )#Num of unique values\n",
    "    print(Bronx_df[col].value_counts().nlargest(5)) #Most 5 frequent values\n",
    "    print('\\n' + '*' * 20 + '\\n')"
   ]
  },
  {
   "cell_type": "code",
   "execution_count": 237,
   "id": "4a6baa28",
   "metadata": {
    "execution": {
     "iopub.execute_input": "2023-02-21T11:42:47.024006Z",
     "iopub.status.busy": "2023-02-21T11:42:47.022929Z",
     "iopub.status.idle": "2023-02-21T11:42:47.030696Z",
     "shell.execute_reply": "2023-02-21T11:42:47.029353Z"
    },
    "papermill": {
     "duration": 0.076403,
     "end_time": "2023-02-21T11:42:47.032533",
     "exception": false,
     "start_time": "2023-02-21T11:42:46.956130",
     "status": "completed"
    },
    "tags": []
   },
   "outputs": [],
   "source": [
    " #   simple mapping on binary features.\n",
    "Bronx_df['Abortion Edit Indicator'] = Bronx_df['Abortion Edit Indicator'].apply(\n",
    "     lambda x: 1 if x == 'Y' else (0 if x == 'N' else None))\n",
    "Bronx_df['Emergency Department Indicator'] = Bronx_df['Emergency Department Indicator'].apply(\n",
    "    lambda x: 1 if x == 'Y' else (0 if x == 'N' else None))"
   ]
  },
  {
   "cell_type": "code",
   "execution_count": 238,
   "id": "f81d6408",
   "metadata": {
    "execution": {
     "iopub.execute_input": "2023-02-21T11:42:47.166256Z",
     "iopub.status.busy": "2023-02-21T11:42:47.165894Z",
     "iopub.status.idle": "2023-02-21T11:42:47.182374Z",
     "shell.execute_reply": "2023-02-21T11:42:47.181687Z"
    },
    "papermill": {
     "duration": 0.085648,
     "end_time": "2023-02-21T11:42:47.184128",
     "exception": false,
     "start_time": "2023-02-21T11:42:47.098480",
     "status": "completed"
    },
    "tags": []
   },
   "outputs": [],
   "source": [
    "Bronx_df[\"Length of Stay\"]=pd.to_numeric(Bronx_df[\"Length of Stay\"],errors='coerce')\n"
   ]
  },
  {
   "cell_type": "code",
   "execution_count": 239,
   "id": "f757d4d5",
   "metadata": {
    "execution": {
     "iopub.execute_input": "2023-02-21T11:42:47.317440Z",
     "iopub.status.busy": "2023-02-21T11:42:47.317060Z",
     "iopub.status.idle": "2023-02-21T11:42:47.421205Z",
     "shell.execute_reply": "2023-02-21T11:42:47.419961Z"
    },
    "papermill": {
     "duration": 0.173428,
     "end_time": "2023-02-21T11:42:47.423384",
     "exception": false,
     "start_time": "2023-02-21T11:42:47.249956",
     "status": "completed"
    },
    "tags": []
   },
   "outputs": [],
   "source": [
    "list=  [ \"Hospital County\",\"Age Group\"\n",
    "    ,\"Gender\",   \n",
    " \"Race\" , \n",
    "\"Ethnicity\", \n",
    "\"Gender\" , \n",
    "\"Race\" ,    \n",
    " \"Ethnicity\" ,        \n",
    " \"Type of Admission\"  ,  \n",
    "  \"Patient Disposition\",      \n",
    " \"Type of Admission\" ,  \n",
    " \"Patient Disposition\"  ,\n",
    "  \"APR Risk of Mortality\" ,   \n",
    " \"APR Medical Surgical Description\" ,\n",
    " \"Payment Typology 1\"   ,   \n",
    " \"Abortion Edit Indicator\"     ,  \n",
    " \"Emergency Department Indicator\",\n",
    "       \"Zip Code - 3 digits\",'Facility Name']  \n",
    "\n",
    "# Import label encoder\n",
    "from sklearn import preprocessing\n",
    "  \n",
    "# label_encoder object knows how to understand word labels.\n",
    "label_encoder = preprocessing.LabelEncoder()\n",
    "  \n",
    "# Encode labels in column 'species'.\n",
    "for col in list :\n",
    "  Bronx_df[col]= label_encoder.fit_transform(Bronx_df[col])"
   ]
  },
  {
   "cell_type": "code",
   "execution_count": 240,
   "id": "44602fc8",
   "metadata": {
    "execution": {
     "iopub.execute_input": "2023-02-21T11:42:47.553515Z",
     "iopub.status.busy": "2023-02-21T11:42:47.553159Z",
     "iopub.status.idle": "2023-02-21T11:42:47.568245Z",
     "shell.execute_reply": "2023-02-21T11:42:47.566731Z"
    },
    "papermill": {
     "duration": 0.082216,
     "end_time": "2023-02-21T11:42:47.570201",
     "exception": false,
     "start_time": "2023-02-21T11:42:47.487985",
     "status": "completed"
    },
    "tags": []
   },
   "outputs": [
    {
     "name": "stdout",
     "output_type": "stream",
     "text": [
      "<class 'pandas.core.frame.DataFrame'>\n",
      "Int64Index: 31978 entries, 905707 to 1065408\n",
      "Data columns (total 26 columns):\n",
      " #   Column                            Non-Null Count  Dtype  \n",
      "---  ------                            --------------  -----  \n",
      " 0   Hospital County                   31978 non-null  int64  \n",
      " 1   Operating Certificate Number      31978 non-null  float64\n",
      " 2   Facility Id                       31978 non-null  float64\n",
      " 3   Facility Name                     31978 non-null  int64  \n",
      " 4   Age Group                         31978 non-null  int64  \n",
      " 5   Zip Code - 3 digits               31978 non-null  int64  \n",
      " 6   Gender                            31978 non-null  int64  \n",
      " 7   Race                              31978 non-null  int64  \n",
      " 8   Ethnicity                         31978 non-null  int64  \n",
      " 9   Length of Stay                    31951 non-null  float64\n",
      " 10  Type of Admission                 31978 non-null  int64  \n",
      " 11  Patient Disposition               31978 non-null  int64  \n",
      " 12  Discharge Year                    31978 non-null  int64  \n",
      " 13  CCS Diagnosis Code                31978 non-null  int64  \n",
      " 14  CCS Procedure Code                31978 non-null  int64  \n",
      " 15  APR DRG Code                      31978 non-null  int64  \n",
      " 16  APR MDC Code                      31978 non-null  int64  \n",
      " 17  APR Severity of Illness Code      31978 non-null  int64  \n",
      " 18  APR Risk of Mortality             31978 non-null  int64  \n",
      " 19  APR Medical Surgical Description  31978 non-null  int64  \n",
      " 20  Payment Typology 1                31978 non-null  int64  \n",
      " 21  Birth Weight                      31978 non-null  int64  \n",
      " 22  Abortion Edit Indicator           31978 non-null  int64  \n",
      " 23  Emergency Department Indicator    31978 non-null  int64  \n",
      " 24  Total Charges                     31978 non-null  float64\n",
      " 25  Total Costs                       31978 non-null  float64\n",
      "dtypes: float64(5), int64(21)\n",
      "memory usage: 6.6 MB\n"
     ]
    }
   ],
   "source": [
    "Bronx_df.info()\n"
   ]
  },
  {
   "cell_type": "code",
   "execution_count": 241,
   "id": "bc90f982",
   "metadata": {
    "execution": {
     "iopub.execute_input": "2023-02-21T11:42:47.703147Z",
     "iopub.status.busy": "2023-02-21T11:42:47.702503Z",
     "iopub.status.idle": "2023-02-21T11:42:47.714768Z",
     "shell.execute_reply": "2023-02-21T11:42:47.714073Z"
    },
    "papermill": {
     "duration": 0.080301,
     "end_time": "2023-02-21T11:42:47.716552",
     "exception": false,
     "start_time": "2023-02-21T11:42:47.636251",
     "status": "completed"
    },
    "tags": []
   },
   "outputs": [],
   "source": [
    " Bronx_df.dropna(inplace=True)\n"
   ]
  },
  {
   "cell_type": "code",
   "execution_count": 242,
   "id": "a5e2f8d8",
   "metadata": {
    "execution": {
     "iopub.execute_input": "2023-02-21T11:42:47.848346Z",
     "iopub.status.busy": "2023-02-21T11:42:47.847769Z",
     "iopub.status.idle": "2023-02-21T11:42:47.853818Z",
     "shell.execute_reply": "2023-02-21T11:42:47.852792Z"
    },
    "papermill": {
     "duration": 0.074497,
     "end_time": "2023-02-21T11:42:47.855514",
     "exception": false,
     "start_time": "2023-02-21T11:42:47.781017",
     "status": "completed"
    },
    "tags": []
   },
   "outputs": [],
   "source": [
    "x = Bronx_df.drop([\"Length of Stay\"], axis =1)\n",
    "y = Bronx_df[\"Length of Stay\"]"
   ]
  },
  {
   "cell_type": "code",
   "execution_count": 243,
   "id": "82682861",
   "metadata": {
    "execution": {
     "iopub.execute_input": "2023-02-21T11:42:47.988318Z",
     "iopub.status.busy": "2023-02-21T11:42:47.987728Z",
     "iopub.status.idle": "2023-02-21T11:42:47.998995Z",
     "shell.execute_reply": "2023-02-21T11:42:47.998273Z"
    },
    "papermill": {
     "duration": 0.08066,
     "end_time": "2023-02-21T11:42:48.000905",
     "exception": false,
     "start_time": "2023-02-21T11:42:47.920245",
     "status": "completed"
    },
    "tags": []
   },
   "outputs": [],
   "source": [
    "from sklearn.model_selection import train_test_split\n",
    "x_train, x_test, y_train, y_test = train_test_split(x, y, test_size=0.3, random_state=42)"
   ]
  },
  {
   "cell_type": "code",
   "execution_count": 244,
   "id": "0ce04d72",
   "metadata": {
    "execution": {
     "iopub.execute_input": "2023-02-21T11:42:48.135548Z",
     "iopub.status.busy": "2023-02-21T11:42:48.135000Z",
     "iopub.status.idle": "2023-02-21T11:42:48.160135Z",
     "shell.execute_reply": "2023-02-21T11:42:48.159131Z"
    },
    "papermill": {
     "duration": 0.094633,
     "end_time": "2023-02-21T11:42:48.162434",
     "exception": false,
     "start_time": "2023-02-21T11:42:48.067801",
     "status": "completed"
    },
    "tags": []
   },
   "outputs": [],
   "source": [
    "# Linear Regression\n",
    "\n",
    "LR = LinearRegression()\n",
    "LR.fit(x_train, y_train)\n",
    "LR.score(x_train, y_train)\n",
    "y_pred =LR.predict(x_test)"
   ]
  },
  {
   "cell_type": "code",
   "execution_count": 245,
   "id": "c5d2a28d",
   "metadata": {
    "execution": {
     "iopub.execute_input": "2023-02-21T11:42:48.322595Z",
     "iopub.status.busy": "2023-02-21T11:42:48.322278Z",
     "iopub.status.idle": "2023-02-21T11:42:48.329182Z",
     "shell.execute_reply": "2023-02-21T11:42:48.328087Z"
    },
    "papermill": {
     "duration": 0.08369,
     "end_time": "2023-02-21T11:42:48.330925",
     "exception": false,
     "start_time": "2023-02-21T11:42:48.247235",
     "status": "completed"
    },
    "tags": []
   },
   "outputs": [
    {
     "data": {
      "text/plain": [
       "0.8376128349444951"
      ]
     },
     "execution_count": 245,
     "metadata": {},
     "output_type": "execute_result"
    }
   ],
   "source": [
    "r2 = r2_score(y_test, y_pred)\n",
    "r2 "
   ]
  },
  {
   "cell_type": "code",
   "execution_count": 246,
   "id": "8e78aa49",
   "metadata": {
    "execution": {
     "iopub.execute_input": "2023-02-21T11:42:48.467160Z",
     "iopub.status.busy": "2023-02-21T11:42:48.466666Z",
     "iopub.status.idle": "2023-02-21T11:42:48.472174Z",
     "shell.execute_reply": "2023-02-21T11:42:48.471297Z"
    },
    "papermill": {
     "duration": 0.07585,
     "end_time": "2023-02-21T11:42:48.474410",
     "exception": false,
     "start_time": "2023-02-21T11:42:48.398560",
     "status": "completed"
    },
    "tags": []
   },
   "outputs": [
    {
     "data": {
      "text/plain": [
       "1.5959481188252358"
      ]
     },
     "execution_count": 246,
     "metadata": {},
     "output_type": "execute_result"
    }
   ],
   "source": [
    "# calculate the MAE of the model\n",
    "mae = mean_absolute_error(y_test, y_pred)\n",
    "mae"
   ]
  },
  {
   "cell_type": "code",
   "execution_count": 247,
   "id": "9f5d23d3",
   "metadata": {
    "execution": {
     "iopub.execute_input": "2023-02-21T11:42:48.608063Z",
     "iopub.status.busy": "2023-02-21T11:42:48.607546Z",
     "iopub.status.idle": "2023-02-21T11:42:48.613463Z",
     "shell.execute_reply": "2023-02-21T11:42:48.612680Z"
    },
    "papermill": {
     "duration": 0.074919,
     "end_time": "2023-02-21T11:42:48.615145",
     "exception": false,
     "start_time": "2023-02-21T11:42:48.540226",
     "status": "completed"
    },
    "tags": []
   },
   "outputs": [
    {
     "data": {
      "text/plain": [
       "9.830664824520944"
      ]
     },
     "execution_count": 247,
     "metadata": {},
     "output_type": "execute_result"
    }
   ],
   "source": [
    "# calculate the MSE of the model\n",
    "mse = mean_squared_error(y_test, y_pred)\n",
    "mse"
   ]
  },
  {
   "cell_type": "code",
   "execution_count": 248,
   "id": "836d30d4",
   "metadata": {
    "execution": {
     "iopub.execute_input": "2023-02-21T11:42:48.751304Z",
     "iopub.status.busy": "2023-02-21T11:42:48.750754Z",
     "iopub.status.idle": "2023-02-21T11:42:48.756798Z",
     "shell.execute_reply": "2023-02-21T11:42:48.755906Z"
    },
    "papermill": {
     "duration": 0.07646,
     "end_time": "2023-02-21T11:42:48.758723",
     "exception": false,
     "start_time": "2023-02-21T11:42:48.682263",
     "status": "completed"
    },
    "tags": []
   },
   "outputs": [
    {
     "data": {
      "text/plain": [
       "3.1353891025709943"
      ]
     },
     "execution_count": 248,
     "metadata": {},
     "output_type": "execute_result"
    }
   ],
   "source": [
    "# calculate the RMSE of the model\n",
    "rmse = np.sqrt(mse)\n",
    "rmse"
   ]
  },
  {
   "cell_type": "code",
   "execution_count": 249,
   "id": "6f0e2f11",
   "metadata": {
    "execution": {
     "iopub.execute_input": "2023-02-21T11:42:48.897190Z",
     "iopub.status.busy": "2023-02-21T11:42:48.896854Z",
     "iopub.status.idle": "2023-02-21T11:42:48.947341Z",
     "shell.execute_reply": "2023-02-21T11:42:48.946310Z"
    },
    "papermill": {
     "duration": 0.122438,
     "end_time": "2023-02-21T11:42:48.949771",
     "exception": false,
     "start_time": "2023-02-21T11:42:48.827333",
     "status": "completed"
    },
    "tags": []
   },
   "outputs": [],
   "source": [
    "# LASSO\n",
    "L1 = linear_model.Lasso()\n",
    "L1.fit(x_train,y_train)\n",
    "y_pred1 = L1.predict(x_test)"
   ]
  },
  {
   "cell_type": "code",
   "execution_count": 250,
   "id": "09f0a123",
   "metadata": {
    "execution": {
     "iopub.execute_input": "2023-02-21T11:42:49.154592Z",
     "iopub.status.busy": "2023-02-21T11:42:49.154251Z",
     "iopub.status.idle": "2023-02-21T11:42:49.160660Z",
     "shell.execute_reply": "2023-02-21T11:42:49.160086Z"
    },
    "papermill": {
     "duration": 0.075115,
     "end_time": "2023-02-21T11:42:49.162264",
     "exception": false,
     "start_time": "2023-02-21T11:42:49.087149",
     "status": "completed"
    },
    "tags": []
   },
   "outputs": [
    {
     "data": {
      "text/plain": [
       "0.8157805173305335"
      ]
     },
     "execution_count": 250,
     "metadata": {},
     "output_type": "execute_result"
    }
   ],
   "source": [
    "r2 = r2_score(y_test, y_pred1)\n",
    "r2 "
   ]
  },
  {
   "cell_type": "code",
   "execution_count": 251,
   "id": "3b861719",
   "metadata": {
    "execution": {
     "iopub.execute_input": "2023-02-21T11:42:49.299322Z",
     "iopub.status.busy": "2023-02-21T11:42:49.297957Z",
     "iopub.status.idle": "2023-02-21T11:42:49.305550Z",
     "shell.execute_reply": "2023-02-21T11:42:49.304806Z"
    },
    "papermill": {
     "duration": 0.078302,
     "end_time": "2023-02-21T11:42:49.307409",
     "exception": false,
     "start_time": "2023-02-21T11:42:49.229107",
     "status": "completed"
    },
    "tags": []
   },
   "outputs": [
    {
     "data": {
      "text/plain": [
       "1.739528477025208"
      ]
     },
     "execution_count": 251,
     "metadata": {},
     "output_type": "execute_result"
    }
   ],
   "source": [
    "# calculate the MAE of the model\n",
    "mae = mean_absolute_error(y_test, y_pred1)\n",
    "mae"
   ]
  },
  {
   "cell_type": "code",
   "execution_count": 252,
   "id": "47b745b2",
   "metadata": {
    "execution": {
     "iopub.execute_input": "2023-02-21T11:42:49.441456Z",
     "iopub.status.busy": "2023-02-21T11:42:49.440934Z",
     "iopub.status.idle": "2023-02-21T11:42:49.446936Z",
     "shell.execute_reply": "2023-02-21T11:42:49.446262Z"
    },
    "papermill": {
     "duration": 0.075354,
     "end_time": "2023-02-21T11:42:49.449194",
     "exception": false,
     "start_time": "2023-02-21T11:42:49.373840",
     "status": "completed"
    },
    "tags": []
   },
   "outputs": [
    {
     "data": {
      "text/plain": [
       "11.152359163676266"
      ]
     },
     "execution_count": 252,
     "metadata": {},
     "output_type": "execute_result"
    }
   ],
   "source": [
    "# calculate the MSE of the model\n",
    "mse = mean_squared_error(y_test, y_pred1)\n",
    "mse"
   ]
  },
  {
   "cell_type": "code",
   "execution_count": 253,
   "id": "6dff63f0",
   "metadata": {
    "execution": {
     "iopub.execute_input": "2023-02-21T11:42:49.587043Z",
     "iopub.status.busy": "2023-02-21T11:42:49.586509Z",
     "iopub.status.idle": "2023-02-21T11:42:49.592126Z",
     "shell.execute_reply": "2023-02-21T11:42:49.590990Z"
    },
    "papermill": {
     "duration": 0.077431,
     "end_time": "2023-02-21T11:42:49.594956",
     "exception": false,
     "start_time": "2023-02-21T11:42:49.517525",
     "status": "completed"
    },
    "tags": []
   },
   "outputs": [
    {
     "data": {
      "text/plain": [
       "3.3395148096207428"
      ]
     },
     "execution_count": 253,
     "metadata": {},
     "output_type": "execute_result"
    }
   ],
   "source": [
    "# calculate the RMSE of the model\n",
    "rmse = np.sqrt(mse)\n",
    "rmse"
   ]
  },
  {
   "cell_type": "code",
   "execution_count": 254,
   "id": "6445e016",
   "metadata": {
    "execution": {
     "iopub.execute_input": "2023-02-21T11:42:49.732652Z",
     "iopub.status.busy": "2023-02-21T11:42:49.732269Z",
     "iopub.status.idle": "2023-02-21T11:42:49.745861Z",
     "shell.execute_reply": "2023-02-21T11:42:49.745152Z"
    },
    "papermill": {
     "duration": 0.086245,
     "end_time": "2023-02-21T11:42:49.748493",
     "exception": false,
     "start_time": "2023-02-21T11:42:49.662248",
     "status": "completed"
    },
    "tags": []
   },
   "outputs": [],
   "source": [
    "# Ridge\n",
    "L2 = Ridge(alpha=1.0)\n",
    "L2.fit(x_train, y_train) \n",
    "y_pred3 = L2.predict(x_test)"
   ]
  },
  {
   "cell_type": "code",
   "execution_count": 255,
   "id": "f3a2b3d2",
   "metadata": {
    "execution": {
     "iopub.execute_input": "2023-02-21T11:42:49.924219Z",
     "iopub.status.busy": "2023-02-21T11:42:49.923537Z",
     "iopub.status.idle": "2023-02-21T11:42:49.935266Z",
     "shell.execute_reply": "2023-02-21T11:42:49.933269Z"
    },
    "papermill": {
     "duration": 0.100274,
     "end_time": "2023-02-21T11:42:49.937987",
     "exception": false,
     "start_time": "2023-02-21T11:42:49.837713",
     "status": "completed"
    },
    "tags": []
   },
   "outputs": [
    {
     "data": {
      "text/plain": [
       "0.8376129585591974"
      ]
     },
     "execution_count": 255,
     "metadata": {},
     "output_type": "execute_result"
    }
   ],
   "source": [
    "r2 = r2_score(y_test, y_pred3)\n",
    "r2 "
   ]
  },
  {
   "cell_type": "code",
   "execution_count": 256,
   "id": "61ae6872",
   "metadata": {
    "execution": {
     "iopub.execute_input": "2023-02-21T11:42:50.076916Z",
     "iopub.status.busy": "2023-02-21T11:42:50.075759Z",
     "iopub.status.idle": "2023-02-21T11:42:50.082211Z",
     "shell.execute_reply": "2023-02-21T11:42:50.081476Z"
    },
    "papermill": {
     "duration": 0.076429,
     "end_time": "2023-02-21T11:42:50.083940",
     "exception": false,
     "start_time": "2023-02-21T11:42:50.007511",
     "status": "completed"
    },
    "tags": []
   },
   "outputs": [
    {
     "data": {
      "text/plain": [
       "1.5959277579640252"
      ]
     },
     "execution_count": 256,
     "metadata": {},
     "output_type": "execute_result"
    }
   ],
   "source": [
    "# calculate the MAE of the model\n",
    "mae = mean_absolute_error(y_test, y_pred3)\n",
    "mae"
   ]
  },
  {
   "cell_type": "code",
   "execution_count": 257,
   "id": "192fbf54",
   "metadata": {
    "execution": {
     "iopub.execute_input": "2023-02-21T11:42:50.221227Z",
     "iopub.status.busy": "2023-02-21T11:42:50.219878Z",
     "iopub.status.idle": "2023-02-21T11:42:50.227243Z",
     "shell.execute_reply": "2023-02-21T11:42:50.226476Z"
    },
    "papermill": {
     "duration": 0.077362,
     "end_time": "2023-02-21T11:42:50.228995",
     "exception": false,
     "start_time": "2023-02-21T11:42:50.151633",
     "status": "completed"
    },
    "tags": []
   },
   "outputs": [
    {
     "data": {
      "text/plain": [
       "9.830657341080334"
      ]
     },
     "execution_count": 257,
     "metadata": {},
     "output_type": "execute_result"
    }
   ],
   "source": [
    "# calculate the MSE of the model\n",
    "mse = mean_squared_error(y_test, y_pred3)\n",
    "mse"
   ]
  },
  {
   "cell_type": "code",
   "execution_count": 258,
   "id": "08ca58bb",
   "metadata": {
    "execution": {
     "iopub.execute_input": "2023-02-21T11:42:50.367741Z",
     "iopub.status.busy": "2023-02-21T11:42:50.367141Z",
     "iopub.status.idle": "2023-02-21T11:42:50.373112Z",
     "shell.execute_reply": "2023-02-21T11:42:50.372427Z"
    },
    "papermill": {
     "duration": 0.077255,
     "end_time": "2023-02-21T11:42:50.375318",
     "exception": false,
     "start_time": "2023-02-21T11:42:50.298063",
     "status": "completed"
    },
    "tags": []
   },
   "outputs": [
    {
     "data": {
      "text/plain": [
       "3.1353879091876866"
      ]
     },
     "execution_count": 258,
     "metadata": {},
     "output_type": "execute_result"
    }
   ],
   "source": [
    "# calculate the RMSE of the model\n",
    "rmse = np.sqrt(mse)\n",
    "rmse"
   ]
  },
  {
   "cell_type": "code",
   "execution_count": null,
   "id": "7ec5d77d",
   "metadata": {
    "papermill": {
     "duration": 0.066071,
     "end_time": "2023-02-21T11:42:50.508884",
     "exception": false,
     "start_time": "2023-02-21T11:42:50.442813",
     "status": "completed"
    },
    "tags": []
   },
   "outputs": [],
   "source": []
  }
 ],
 "metadata": {
  "kernelspec": {
   "display_name": "Python 3",
   "language": "python",
   "name": "python3"
  },
  "language_info": {
   "codemirror_mode": {
    "name": "ipython",
    "version": 3
   },
   "file_extension": ".py",
   "mimetype": "text/x-python",
   "name": "python",
   "nbconvert_exporter": "python",
   "pygments_lexer": "ipython3",
   "version": "3.7.12"
  },
  "papermill": {
   "default_parameters": {},
   "duration": 78.086058,
   "end_time": "2023-02-21T11:42:51.497468",
   "environment_variables": {},
   "exception": null,
   "input_path": "__notebook__.ipynb",
   "output_path": "__notebook__.ipynb",
   "parameters": {},
   "start_time": "2023-02-21T11:41:33.411410",
   "version": "2.3.4"
  }
 },
 "nbformat": 4,
 "nbformat_minor": 5
}
