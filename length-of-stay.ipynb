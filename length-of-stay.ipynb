{
 "cells": [
  {
   "cell_type": "code",
   "execution_count": 1,
   "id": "a429a530",
   "metadata": {
    "_cell_guid": "b1076dfc-b9ad-4769-8c92-a6c4dae69d19",
    "_uuid": "8f2839f25d086af736a60e9eeb907d3b93b6e0e5",
    "execution": {
     "iopub.execute_input": "2023-02-18T17:47:19.145309Z",
     "iopub.status.busy": "2023-02-18T17:47:19.144771Z",
     "iopub.status.idle": "2023-02-18T17:47:19.172946Z",
     "shell.execute_reply": "2023-02-18T17:47:19.171675Z"
    },
    "papermill": {
     "duration": 0.076966,
     "end_time": "2023-02-18T17:47:19.176106",
     "exception": false,
     "start_time": "2023-02-18T17:47:19.099140",
     "status": "completed"
    },
    "tags": []
   },
   "outputs": [
    {
     "name": "stdout",
     "output_type": "stream",
     "text": [
      "/kaggle/input/length-of-stay-prediction/Hospital_Inpatient_Discharges__SPARCS_De-Identified___2015.csv\n"
     ]
    }
   ],
   "source": [
    "# This Python 3 environment comes with many helpful analytics libraries installed\n",
    "# It is defined by the kaggle/python Docker image: https://github.com/kaggle/docker-python\n",
    "# For example, here's several helpful packages to load\n",
    "\n",
    "import numpy as np # linear algebra\n",
    "import pandas as pd # data processing, CSV file I/O (e.g. pd.read_csv)\n",
    "\n",
    "# Input data files are available in the read-only \"../input/\" directory\n",
    "# For example, running this (by clicking run or pressing Shift+Enter) will list all files under the input directory\n",
    "\n",
    "import os\n",
    "for dirname, _, filenames in os.walk('/kaggle/input'):\n",
    "    for filename in filenames:\n",
    "        print(os.path.join(dirname, filename))\n",
    "\n",
    "# You can write up to 20GB to the current directory (/kaggle/working/) that gets preserved as output when you create a version using \"Save & Run All\" \n",
    "# You can also write temporary files to /kaggle/temp/, but they won't be saved outside of the current session"
   ]
  },
  {
   "cell_type": "code",
   "execution_count": 2,
   "id": "45749828",
   "metadata": {
    "execution": {
     "iopub.execute_input": "2023-02-18T17:47:19.259308Z",
     "iopub.status.busy": "2023-02-18T17:47:19.258892Z",
     "iopub.status.idle": "2023-02-18T17:47:48.959535Z",
     "shell.execute_reply": "2023-02-18T17:47:48.958393Z"
    },
    "papermill": {
     "duration": 29.744258,
     "end_time": "2023-02-18T17:47:48.962382",
     "exception": false,
     "start_time": "2023-02-18T17:47:19.218124",
     "status": "completed"
    },
    "tags": []
   },
   "outputs": [
    {
     "name": "stderr",
     "output_type": "stream",
     "text": [
      "/opt/conda/lib/python3.7/site-packages/IPython/core/interactiveshell.py:3552: DtypeWarning: Columns (10) have mixed types.Specify dtype option on import or set low_memory=False.\n",
      "  exec(code_obj, self.user_global_ns, self.user_ns)\n"
     ]
    }
   ],
   "source": [
    "df=pd.read_csv(\"/kaggle/input/length-of-stay-prediction/Hospital_Inpatient_Discharges__SPARCS_De-Identified___2015.csv\")"
   ]
  },
  {
   "cell_type": "code",
   "execution_count": 3,
   "id": "b99e5468",
   "metadata": {
    "execution": {
     "iopub.execute_input": "2023-02-18T17:47:49.044086Z",
     "iopub.status.busy": "2023-02-18T17:47:49.043633Z",
     "iopub.status.idle": "2023-02-18T17:47:49.203165Z",
     "shell.execute_reply": "2023-02-18T17:47:49.201952Z"
    },
    "papermill": {
     "duration": 0.203016,
     "end_time": "2023-02-18T17:47:49.205564",
     "exception": false,
     "start_time": "2023-02-18T17:47:49.002548",
     "status": "completed"
    },
    "tags": []
   },
   "outputs": [
    {
     "data": {
      "text/plain": [
       "Mount Sinai Hospital                                              55874\n",
       "North Shore University Hospital                                   47664\n",
       "New York Presbyterian Hospital - Columbia Presbyterian Center     47495\n",
       "New York Presbyterian Hospital - New York Weill Cornell Center    43148\n",
       "Montefiore Medical Center - Henry & Lucy Moses Div                42694\n",
       "                                                                  ...  \n",
       "Cuba Memorial Hospital Inc                                           61\n",
       "Catskill Regional Medical Center - G. Hermann Site                   50\n",
       "Monroe Community Hospital                                            24\n",
       "Westfield Memorial Hospital Inc                                      11\n",
       "Albany Medical Center - South Clinical Campus                         7\n",
       "Name: Facility Name, Length: 224, dtype: int64"
      ]
     },
     "execution_count": 3,
     "metadata": {},
     "output_type": "execute_result"
    }
   ],
   "source": [
    "df[\"Facility Name\"].value_counts()"
   ]
  },
  {
   "cell_type": "code",
   "execution_count": 4,
   "id": "aae7cdcc",
   "metadata": {
    "execution": {
     "iopub.execute_input": "2023-02-18T17:47:49.287560Z",
     "iopub.status.busy": "2023-02-18T17:47:49.286689Z",
     "iopub.status.idle": "2023-02-18T17:47:49.323230Z",
     "shell.execute_reply": "2023-02-18T17:47:49.321916Z"
    },
    "papermill": {
     "duration": 0.080118,
     "end_time": "2023-02-18T17:47:49.325957",
     "exception": false,
     "start_time": "2023-02-18T17:47:49.245839",
     "status": "completed"
    },
    "tags": []
   },
   "outputs": [
    {
     "data": {
      "text/html": [
       "<div>\n",
       "<style scoped>\n",
       "    .dataframe tbody tr th:only-of-type {\n",
       "        vertical-align: middle;\n",
       "    }\n",
       "\n",
       "    .dataframe tbody tr th {\n",
       "        vertical-align: top;\n",
       "    }\n",
       "\n",
       "    .dataframe thead th {\n",
       "        text-align: right;\n",
       "    }\n",
       "</style>\n",
       "<table border=\"1\" class=\"dataframe\">\n",
       "  <thead>\n",
       "    <tr style=\"text-align: right;\">\n",
       "      <th></th>\n",
       "      <th>Health Service Area</th>\n",
       "      <th>Hospital County</th>\n",
       "      <th>Operating Certificate Number</th>\n",
       "      <th>Facility Id</th>\n",
       "      <th>Facility Name</th>\n",
       "      <th>Age Group</th>\n",
       "      <th>Zip Code - 3 digits</th>\n",
       "      <th>Gender</th>\n",
       "      <th>Race</th>\n",
       "      <th>Ethnicity</th>\n",
       "      <th>...</th>\n",
       "      <th>APR Risk of Mortality</th>\n",
       "      <th>APR Medical Surgical Description</th>\n",
       "      <th>Payment Typology 1</th>\n",
       "      <th>Payment Typology 2</th>\n",
       "      <th>Payment Typology 3</th>\n",
       "      <th>Birth Weight</th>\n",
       "      <th>Abortion Edit Indicator</th>\n",
       "      <th>Emergency Department Indicator</th>\n",
       "      <th>Total Charges</th>\n",
       "      <th>Total Costs</th>\n",
       "    </tr>\n",
       "  </thead>\n",
       "  <tbody>\n",
       "    <tr>\n",
       "      <th>0</th>\n",
       "      <td>Western NY</td>\n",
       "      <td>Allegany</td>\n",
       "      <td>226700.0</td>\n",
       "      <td>37.0</td>\n",
       "      <td>Cuba Memorial Hospital Inc</td>\n",
       "      <td>70 or Older</td>\n",
       "      <td>147</td>\n",
       "      <td>F</td>\n",
       "      <td>White</td>\n",
       "      <td>Not Span/Hispanic</td>\n",
       "      <td>...</td>\n",
       "      <td>Minor</td>\n",
       "      <td>Medical</td>\n",
       "      <td>Medicare</td>\n",
       "      <td>Private Health Insurance</td>\n",
       "      <td>NaN</td>\n",
       "      <td>0</td>\n",
       "      <td>N</td>\n",
       "      <td>Y</td>\n",
       "      <td>5333.90</td>\n",
       "      <td>4818.42</td>\n",
       "    </tr>\n",
       "    <tr>\n",
       "      <th>1</th>\n",
       "      <td>Western NY</td>\n",
       "      <td>Allegany</td>\n",
       "      <td>226700.0</td>\n",
       "      <td>37.0</td>\n",
       "      <td>Cuba Memorial Hospital Inc</td>\n",
       "      <td>70 or Older</td>\n",
       "      <td>147</td>\n",
       "      <td>F</td>\n",
       "      <td>White</td>\n",
       "      <td>Not Span/Hispanic</td>\n",
       "      <td>...</td>\n",
       "      <td>Moderate</td>\n",
       "      <td>Medical</td>\n",
       "      <td>Medicare</td>\n",
       "      <td>NaN</td>\n",
       "      <td>NaN</td>\n",
       "      <td>0</td>\n",
       "      <td>N</td>\n",
       "      <td>Y</td>\n",
       "      <td>4865.99</td>\n",
       "      <td>4588.78</td>\n",
       "    </tr>\n",
       "    <tr>\n",
       "      <th>2</th>\n",
       "      <td>Western NY</td>\n",
       "      <td>Allegany</td>\n",
       "      <td>226700.0</td>\n",
       "      <td>37.0</td>\n",
       "      <td>Cuba Memorial Hospital Inc</td>\n",
       "      <td>70 or Older</td>\n",
       "      <td>147</td>\n",
       "      <td>F</td>\n",
       "      <td>White</td>\n",
       "      <td>Not Span/Hispanic</td>\n",
       "      <td>...</td>\n",
       "      <td>Minor</td>\n",
       "      <td>Medical</td>\n",
       "      <td>Medicare</td>\n",
       "      <td>Private Health Insurance</td>\n",
       "      <td>NaN</td>\n",
       "      <td>0</td>\n",
       "      <td>N</td>\n",
       "      <td>Y</td>\n",
       "      <td>5901.54</td>\n",
       "      <td>5559.56</td>\n",
       "    </tr>\n",
       "    <tr>\n",
       "      <th>3</th>\n",
       "      <td>Western NY</td>\n",
       "      <td>Allegany</td>\n",
       "      <td>226700.0</td>\n",
       "      <td>37.0</td>\n",
       "      <td>Cuba Memorial Hospital Inc</td>\n",
       "      <td>50 to 69</td>\n",
       "      <td>147</td>\n",
       "      <td>F</td>\n",
       "      <td>White</td>\n",
       "      <td>Not Span/Hispanic</td>\n",
       "      <td>...</td>\n",
       "      <td>Minor</td>\n",
       "      <td>Medical</td>\n",
       "      <td>Medicare</td>\n",
       "      <td>NaN</td>\n",
       "      <td>NaN</td>\n",
       "      <td>0</td>\n",
       "      <td>N</td>\n",
       "      <td>Y</td>\n",
       "      <td>3619.08</td>\n",
       "      <td>3567.25</td>\n",
       "    </tr>\n",
       "    <tr>\n",
       "      <th>4</th>\n",
       "      <td>Western NY</td>\n",
       "      <td>Allegany</td>\n",
       "      <td>226700.0</td>\n",
       "      <td>37.0</td>\n",
       "      <td>Cuba Memorial Hospital Inc</td>\n",
       "      <td>70 or Older</td>\n",
       "      <td>147</td>\n",
       "      <td>M</td>\n",
       "      <td>White</td>\n",
       "      <td>Not Span/Hispanic</td>\n",
       "      <td>...</td>\n",
       "      <td>Moderate</td>\n",
       "      <td>Medical</td>\n",
       "      <td>Medicare</td>\n",
       "      <td>Blue Cross/Blue Shield</td>\n",
       "      <td>Private Health Insurance</td>\n",
       "      <td>0</td>\n",
       "      <td>N</td>\n",
       "      <td>Y</td>\n",
       "      <td>3185.87</td>\n",
       "      <td>3167.89</td>\n",
       "    </tr>\n",
       "  </tbody>\n",
       "</table>\n",
       "<p>5 rows × 34 columns</p>\n",
       "</div>"
      ],
      "text/plain": [
       "  Health Service Area Hospital County  Operating Certificate Number  \\\n",
       "0          Western NY        Allegany                      226700.0   \n",
       "1          Western NY        Allegany                      226700.0   \n",
       "2          Western NY        Allegany                      226700.0   \n",
       "3          Western NY        Allegany                      226700.0   \n",
       "4          Western NY        Allegany                      226700.0   \n",
       "\n",
       "   Facility Id               Facility Name    Age Group Zip Code - 3 digits  \\\n",
       "0         37.0  Cuba Memorial Hospital Inc  70 or Older                 147   \n",
       "1         37.0  Cuba Memorial Hospital Inc  70 or Older                 147   \n",
       "2         37.0  Cuba Memorial Hospital Inc  70 or Older                 147   \n",
       "3         37.0  Cuba Memorial Hospital Inc     50 to 69                 147   \n",
       "4         37.0  Cuba Memorial Hospital Inc  70 or Older                 147   \n",
       "\n",
       "  Gender   Race          Ethnicity  ... APR Risk of Mortality  \\\n",
       "0      F  White  Not Span/Hispanic  ...                 Minor   \n",
       "1      F  White  Not Span/Hispanic  ...              Moderate   \n",
       "2      F  White  Not Span/Hispanic  ...                 Minor   \n",
       "3      F  White  Not Span/Hispanic  ...                 Minor   \n",
       "4      M  White  Not Span/Hispanic  ...              Moderate   \n",
       "\n",
       "  APR Medical Surgical Description Payment Typology 1  \\\n",
       "0                          Medical           Medicare   \n",
       "1                          Medical           Medicare   \n",
       "2                          Medical           Medicare   \n",
       "3                          Medical           Medicare   \n",
       "4                          Medical           Medicare   \n",
       "\n",
       "         Payment Typology 2        Payment Typology 3 Birth Weight  \\\n",
       "0  Private Health Insurance                       NaN            0   \n",
       "1                       NaN                       NaN            0   \n",
       "2  Private Health Insurance                       NaN            0   \n",
       "3                       NaN                       NaN            0   \n",
       "4    Blue Cross/Blue Shield  Private Health Insurance            0   \n",
       "\n",
       "   Abortion Edit Indicator Emergency Department Indicator  Total Charges  \\\n",
       "0                        N                              Y        5333.90   \n",
       "1                        N                              Y        4865.99   \n",
       "2                        N                              Y        5901.54   \n",
       "3                        N                              Y        3619.08   \n",
       "4                        N                              Y        3185.87   \n",
       "\n",
       "  Total Costs  \n",
       "0     4818.42  \n",
       "1     4588.78  \n",
       "2     5559.56  \n",
       "3     3567.25  \n",
       "4     3167.89  \n",
       "\n",
       "[5 rows x 34 columns]"
      ]
     },
     "execution_count": 4,
     "metadata": {},
     "output_type": "execute_result"
    }
   ],
   "source": [
    "df.head()"
   ]
  },
  {
   "cell_type": "code",
   "execution_count": 5,
   "id": "4de81f2e",
   "metadata": {
    "execution": {
     "iopub.execute_input": "2023-02-18T17:47:49.409124Z",
     "iopub.status.busy": "2023-02-18T17:47:49.408661Z",
     "iopub.status.idle": "2023-02-18T17:47:49.427231Z",
     "shell.execute_reply": "2023-02-18T17:47:49.425763Z"
    },
    "papermill": {
     "duration": 0.06312,
     "end_time": "2023-02-18T17:47:49.430018",
     "exception": false,
     "start_time": "2023-02-18T17:47:49.366898",
     "status": "completed"
    },
    "tags": []
   },
   "outputs": [
    {
     "name": "stdout",
     "output_type": "stream",
     "text": [
      "<class 'pandas.core.frame.DataFrame'>\n",
      "RangeIndex: 2346931 entries, 0 to 2346930\n",
      "Data columns (total 34 columns):\n",
      " #   Column                               Dtype  \n",
      "---  ------                               -----  \n",
      " 0   Health Service Area                  object \n",
      " 1   Hospital County                      object \n",
      " 2   Operating Certificate Number         float64\n",
      " 3   Facility Id                          float64\n",
      " 4   Facility Name                        object \n",
      " 5   Age Group                            object \n",
      " 6   Zip Code - 3 digits                  object \n",
      " 7   Gender                               object \n",
      " 8   Race                                 object \n",
      " 9   Ethnicity                            object \n",
      " 10  Length of Stay                       object \n",
      " 11  Type of Admission                    object \n",
      " 12  Patient Disposition                  object \n",
      " 13  Discharge Year                       int64  \n",
      " 14  CCS Diagnosis Code                   int64  \n",
      " 15  CCS Diagnosis Description            object \n",
      " 16  CCS Procedure Code                   int64  \n",
      " 17  CCS Procedure Description            object \n",
      " 18  APR DRG Code                         int64  \n",
      " 19  APR DRG Description                  object \n",
      " 20  APR MDC Code                         int64  \n",
      " 21  APR MDC Description                  object \n",
      " 22  APR Severity of Illness Code         int64  \n",
      " 23  APR Severity of Illness Description  object \n",
      " 24  APR Risk of Mortality                object \n",
      " 25  APR Medical Surgical Description     object \n",
      " 26  Payment Typology 1                   object \n",
      " 27  Payment Typology 2                   object \n",
      " 28  Payment Typology 3                   object \n",
      " 29  Birth Weight                         int64  \n",
      " 30  Abortion Edit Indicator              object \n",
      " 31  Emergency Department Indicator       object \n",
      " 32  Total Charges                        float64\n",
      " 33  Total Costs                          float64\n",
      "dtypes: float64(4), int64(7), object(23)\n",
      "memory usage: 608.8+ MB\n"
     ]
    }
   ],
   "source": [
    "df.info()"
   ]
  },
  {
   "cell_type": "code",
   "execution_count": 6,
   "id": "b6c3fd03",
   "metadata": {
    "execution": {
     "iopub.execute_input": "2023-02-18T17:47:49.514600Z",
     "iopub.status.busy": "2023-02-18T17:47:49.514203Z",
     "iopub.status.idle": "2023-02-18T17:48:04.198505Z",
     "shell.execute_reply": "2023-02-18T17:48:04.197090Z"
    },
    "papermill": {
     "duration": 14.729252,
     "end_time": "2023-02-18T17:48:04.201733",
     "exception": false,
     "start_time": "2023-02-18T17:47:49.472481",
     "status": "completed"
    },
    "tags": []
   },
   "outputs": [],
   "source": [
    "List =[\"Health Service Area\",\"Hospital County\",\"Age Group\",\"Zip Code - 3 digits\",\"Gender\",\"Race\",\"Ethnicity\",\"Length of Stay\",\"Type of Admission\",                    \n",
    "\"Patient Disposition\",\"CCS Diagnosis Description\",\"CCS Procedure Description\",\"APR DRG Description\",\"APR MDC Description\",\"APR Severity of Illness Description\",\"APR Risk of Mortality\",\"APR Medical Surgical Description\",\"Payment Typology 1\"                   \n",
    ",\"Payment Typology 2\",\"Payment Typology 3\",\"Abortion Edit Indicator\",\"Emergency Department Indicator\"]\n",
    "for col in List :\n",
    "    df[col] = df[col].astype('category')\n",
    "\n",
    "#\"Health Service Area\""
   ]
  },
  {
   "cell_type": "code",
   "execution_count": 7,
   "id": "80f4feb8",
   "metadata": {
    "execution": {
     "iopub.execute_input": "2023-02-18T17:48:04.288055Z",
     "iopub.status.busy": "2023-02-18T17:48:04.287641Z",
     "iopub.status.idle": "2023-02-18T17:48:04.307363Z",
     "shell.execute_reply": "2023-02-18T17:48:04.306234Z"
    },
    "papermill": {
     "duration": 0.065149,
     "end_time": "2023-02-18T17:48:04.309677",
     "exception": false,
     "start_time": "2023-02-18T17:48:04.244528",
     "status": "completed"
    },
    "tags": []
   },
   "outputs": [
    {
     "name": "stdout",
     "output_type": "stream",
     "text": [
      "<class 'pandas.core.frame.DataFrame'>\n",
      "RangeIndex: 2346931 entries, 0 to 2346930\n",
      "Data columns (total 34 columns):\n",
      " #   Column                               Dtype   \n",
      "---  ------                               -----   \n",
      " 0   Health Service Area                  category\n",
      " 1   Hospital County                      category\n",
      " 2   Operating Certificate Number         float64 \n",
      " 3   Facility Id                          float64 \n",
      " 4   Facility Name                        object  \n",
      " 5   Age Group                            category\n",
      " 6   Zip Code - 3 digits                  category\n",
      " 7   Gender                               category\n",
      " 8   Race                                 category\n",
      " 9   Ethnicity                            category\n",
      " 10  Length of Stay                       category\n",
      " 11  Type of Admission                    category\n",
      " 12  Patient Disposition                  category\n",
      " 13  Discharge Year                       int64   \n",
      " 14  CCS Diagnosis Code                   int64   \n",
      " 15  CCS Diagnosis Description            category\n",
      " 16  CCS Procedure Code                   int64   \n",
      " 17  CCS Procedure Description            category\n",
      " 18  APR DRG Code                         int64   \n",
      " 19  APR DRG Description                  category\n",
      " 20  APR MDC Code                         int64   \n",
      " 21  APR MDC Description                  category\n",
      " 22  APR Severity of Illness Code         int64   \n",
      " 23  APR Severity of Illness Description  category\n",
      " 24  APR Risk of Mortality                category\n",
      " 25  APR Medical Surgical Description     category\n",
      " 26  Payment Typology 1                   category\n",
      " 27  Payment Typology 2                   category\n",
      " 28  Payment Typology 3                   category\n",
      " 29  Birth Weight                         int64   \n",
      " 30  Abortion Edit Indicator              category\n",
      " 31  Emergency Department Indicator       category\n",
      " 32  Total Charges                        float64 \n",
      " 33  Total Costs                          float64 \n",
      "dtypes: category(22), float64(4), int64(7), object(1)\n",
      "memory usage: 273.1+ MB\n"
     ]
    }
   ],
   "source": [
    "df.info()"
   ]
  },
  {
   "cell_type": "code",
   "execution_count": 8,
   "id": "2146df28",
   "metadata": {
    "execution": {
     "iopub.execute_input": "2023-02-18T17:48:04.392666Z",
     "iopub.status.busy": "2023-02-18T17:48:04.392223Z",
     "iopub.status.idle": "2023-02-18T17:48:04.493191Z",
     "shell.execute_reply": "2023-02-18T17:48:04.491832Z"
    },
    "papermill": {
     "duration": 0.14602,
     "end_time": "2023-02-18T17:48:04.496090",
     "exception": false,
     "start_time": "2023-02-18T17:48:04.350070",
     "status": "completed"
    },
    "tags": []
   },
   "outputs": [],
   "source": [
    "col=[\"Health Service Area\"\n",
    " ,\n",
    " \"CCS Diagnosis Description\",\n",
    " \"CCS Procedure Description\",\n",
    "\"APR DRG Description\",\n",
    "\"APR MDC Description\",\n",
    "\"APR Severity of Illness Description\"]\n",
    "df = df.drop(col, axis=1)"
   ]
  },
  {
   "cell_type": "code",
   "execution_count": 9,
   "id": "1b010560",
   "metadata": {
    "execution": {
     "iopub.execute_input": "2023-02-18T17:48:04.579529Z",
     "iopub.status.busy": "2023-02-18T17:48:04.579135Z",
     "iopub.status.idle": "2023-02-18T17:48:04.593453Z",
     "shell.execute_reply": "2023-02-18T17:48:04.592281Z"
    },
    "papermill": {
     "duration": 0.059881,
     "end_time": "2023-02-18T17:48:04.596556",
     "exception": false,
     "start_time": "2023-02-18T17:48:04.536675",
     "status": "completed"
    },
    "tags": []
   },
   "outputs": [
    {
     "name": "stdout",
     "output_type": "stream",
     "text": [
      "<class 'pandas.core.frame.DataFrame'>\n",
      "RangeIndex: 2346931 entries, 0 to 2346930\n",
      "Data columns (total 28 columns):\n",
      " #   Column                            Dtype   \n",
      "---  ------                            -----   \n",
      " 0   Hospital County                   category\n",
      " 1   Operating Certificate Number      float64 \n",
      " 2   Facility Id                       float64 \n",
      " 3   Facility Name                     object  \n",
      " 4   Age Group                         category\n",
      " 5   Zip Code - 3 digits               category\n",
      " 6   Gender                            category\n",
      " 7   Race                              category\n",
      " 8   Ethnicity                         category\n",
      " 9   Length of Stay                    category\n",
      " 10  Type of Admission                 category\n",
      " 11  Patient Disposition               category\n",
      " 12  Discharge Year                    int64   \n",
      " 13  CCS Diagnosis Code                int64   \n",
      " 14  CCS Procedure Code                int64   \n",
      " 15  APR DRG Code                      int64   \n",
      " 16  APR MDC Code                      int64   \n",
      " 17  APR Severity of Illness Code      int64   \n",
      " 18  APR Risk of Mortality             category\n",
      " 19  APR Medical Surgical Description  category\n",
      " 20  Payment Typology 1                category\n",
      " 21  Payment Typology 2                category\n",
      " 22  Payment Typology 3                category\n",
      " 23  Birth Weight                      int64   \n",
      " 24  Abortion Edit Indicator           category\n",
      " 25  Emergency Department Indicator    category\n",
      " 26  Total Charges                     float64 \n",
      " 27  Total Costs                       float64 \n",
      "dtypes: category(16), float64(4), int64(7), object(1)\n",
      "memory usage: 252.9+ MB\n"
     ]
    }
   ],
   "source": [
    "df.info()"
   ]
  },
  {
   "cell_type": "markdown",
   "id": "44a6e5a1",
   "metadata": {
    "papermill": {
     "duration": 0.040189,
     "end_time": "2023-02-18T17:48:04.678166",
     "exception": false,
     "start_time": "2023-02-18T17:48:04.637977",
     "status": "completed"
    },
    "tags": []
   },
   "source": [
    "Client 6 : Glens Falls Hospital"
   ]
  },
  {
   "cell_type": "code",
   "execution_count": 10,
   "id": "31484d96",
   "metadata": {
    "execution": {
     "iopub.execute_input": "2023-02-18T17:48:04.762530Z",
     "iopub.status.busy": "2023-02-18T17:48:04.762121Z",
     "iopub.status.idle": "2023-02-18T17:48:04.933218Z",
     "shell.execute_reply": "2023-02-18T17:48:04.932095Z"
    },
    "papermill": {
     "duration": 0.216398,
     "end_time": "2023-02-18T17:48:04.936248",
     "exception": false,
     "start_time": "2023-02-18T17:48:04.719850",
     "status": "completed"
    },
    "tags": []
   },
   "outputs": [],
   "source": [
    "Glens_df=df[df[\"Facility Name\"]== 'Glens Falls Hospital']"
   ]
  },
  {
   "cell_type": "code",
   "execution_count": 11,
   "id": "144b2b8e",
   "metadata": {
    "execution": {
     "iopub.execute_input": "2023-02-18T17:48:05.045312Z",
     "iopub.status.busy": "2023-02-18T17:48:05.044522Z",
     "iopub.status.idle": "2023-02-18T17:48:05.093643Z",
     "shell.execute_reply": "2023-02-18T17:48:05.092520Z"
    },
    "papermill": {
     "duration": 0.105835,
     "end_time": "2023-02-18T17:48:05.095917",
     "exception": false,
     "start_time": "2023-02-18T17:48:04.990082",
     "status": "completed"
    },
    "tags": []
   },
   "outputs": [
    {
     "data": {
      "text/html": [
       "<div>\n",
       "<style scoped>\n",
       "    .dataframe tbody tr th:only-of-type {\n",
       "        vertical-align: middle;\n",
       "    }\n",
       "\n",
       "    .dataframe tbody tr th {\n",
       "        vertical-align: top;\n",
       "    }\n",
       "\n",
       "    .dataframe thead th {\n",
       "        text-align: right;\n",
       "    }\n",
       "</style>\n",
       "<table border=\"1\" class=\"dataframe\">\n",
       "  <thead>\n",
       "    <tr style=\"text-align: right;\">\n",
       "      <th></th>\n",
       "      <th>Hospital County</th>\n",
       "      <th>Operating Certificate Number</th>\n",
       "      <th>Facility Id</th>\n",
       "      <th>Facility Name</th>\n",
       "      <th>Age Group</th>\n",
       "      <th>Zip Code - 3 digits</th>\n",
       "      <th>Gender</th>\n",
       "      <th>Race</th>\n",
       "      <th>Ethnicity</th>\n",
       "      <th>Length of Stay</th>\n",
       "      <th>...</th>\n",
       "      <th>APR Risk of Mortality</th>\n",
       "      <th>APR Medical Surgical Description</th>\n",
       "      <th>Payment Typology 1</th>\n",
       "      <th>Payment Typology 2</th>\n",
       "      <th>Payment Typology 3</th>\n",
       "      <th>Birth Weight</th>\n",
       "      <th>Abortion Edit Indicator</th>\n",
       "      <th>Emergency Department Indicator</th>\n",
       "      <th>Total Charges</th>\n",
       "      <th>Total Costs</th>\n",
       "    </tr>\n",
       "  </thead>\n",
       "  <tbody>\n",
       "    <tr>\n",
       "      <th>628756</th>\n",
       "      <td>Warren</td>\n",
       "      <td>5601000.0</td>\n",
       "      <td>1005.0</td>\n",
       "      <td>Glens Falls Hospital</td>\n",
       "      <td>30 to 49</td>\n",
       "      <td>128</td>\n",
       "      <td>F</td>\n",
       "      <td>White</td>\n",
       "      <td>Not Span/Hispanic</td>\n",
       "      <td>5</td>\n",
       "      <td>...</td>\n",
       "      <td>Minor</td>\n",
       "      <td>Medical</td>\n",
       "      <td>Medicaid</td>\n",
       "      <td>NaN</td>\n",
       "      <td>NaN</td>\n",
       "      <td>0</td>\n",
       "      <td>N</td>\n",
       "      <td>Y</td>\n",
       "      <td>16901.84</td>\n",
       "      <td>5444.54</td>\n",
       "    </tr>\n",
       "    <tr>\n",
       "      <th>628825</th>\n",
       "      <td>Warren</td>\n",
       "      <td>5601000.0</td>\n",
       "      <td>1005.0</td>\n",
       "      <td>Glens Falls Hospital</td>\n",
       "      <td>50 to 69</td>\n",
       "      <td>120</td>\n",
       "      <td>F</td>\n",
       "      <td>White</td>\n",
       "      <td>Not Span/Hispanic</td>\n",
       "      <td>4</td>\n",
       "      <td>...</td>\n",
       "      <td>Moderate</td>\n",
       "      <td>Medical</td>\n",
       "      <td>Medicare</td>\n",
       "      <td>NaN</td>\n",
       "      <td>NaN</td>\n",
       "      <td>0</td>\n",
       "      <td>N</td>\n",
       "      <td>N</td>\n",
       "      <td>15354.59</td>\n",
       "      <td>5499.39</td>\n",
       "    </tr>\n",
       "    <tr>\n",
       "      <th>629035</th>\n",
       "      <td>Warren</td>\n",
       "      <td>5601000.0</td>\n",
       "      <td>1005.0</td>\n",
       "      <td>Glens Falls Hospital</td>\n",
       "      <td>18 to 29</td>\n",
       "      <td>128</td>\n",
       "      <td>M</td>\n",
       "      <td>White</td>\n",
       "      <td>Not Span/Hispanic</td>\n",
       "      <td>2</td>\n",
       "      <td>...</td>\n",
       "      <td>Minor</td>\n",
       "      <td>Medical</td>\n",
       "      <td>Blue Cross/Blue Shield</td>\n",
       "      <td>NaN</td>\n",
       "      <td>NaN</td>\n",
       "      <td>0</td>\n",
       "      <td>N</td>\n",
       "      <td>Y</td>\n",
       "      <td>8413.10</td>\n",
       "      <td>2565.18</td>\n",
       "    </tr>\n",
       "    <tr>\n",
       "      <th>629070</th>\n",
       "      <td>Warren</td>\n",
       "      <td>5601000.0</td>\n",
       "      <td>1005.0</td>\n",
       "      <td>Glens Falls Hospital</td>\n",
       "      <td>50 to 69</td>\n",
       "      <td>128</td>\n",
       "      <td>F</td>\n",
       "      <td>White</td>\n",
       "      <td>Not Span/Hispanic</td>\n",
       "      <td>1</td>\n",
       "      <td>...</td>\n",
       "      <td>Minor</td>\n",
       "      <td>Medical</td>\n",
       "      <td>Blue Cross/Blue Shield</td>\n",
       "      <td>NaN</td>\n",
       "      <td>NaN</td>\n",
       "      <td>0</td>\n",
       "      <td>N</td>\n",
       "      <td>Y</td>\n",
       "      <td>8102.00</td>\n",
       "      <td>2008.34</td>\n",
       "    </tr>\n",
       "    <tr>\n",
       "      <th>629175</th>\n",
       "      <td>Warren</td>\n",
       "      <td>5601000.0</td>\n",
       "      <td>1005.0</td>\n",
       "      <td>Glens Falls Hospital</td>\n",
       "      <td>70 or Older</td>\n",
       "      <td>128</td>\n",
       "      <td>F</td>\n",
       "      <td>White</td>\n",
       "      <td>Not Span/Hispanic</td>\n",
       "      <td>6</td>\n",
       "      <td>...</td>\n",
       "      <td>Major</td>\n",
       "      <td>Medical</td>\n",
       "      <td>Medicare</td>\n",
       "      <td>NaN</td>\n",
       "      <td>NaN</td>\n",
       "      <td>0</td>\n",
       "      <td>N</td>\n",
       "      <td>N</td>\n",
       "      <td>21480.74</td>\n",
       "      <td>7279.17</td>\n",
       "    </tr>\n",
       "    <tr>\n",
       "      <th>...</th>\n",
       "      <td>...</td>\n",
       "      <td>...</td>\n",
       "      <td>...</td>\n",
       "      <td>...</td>\n",
       "      <td>...</td>\n",
       "      <td>...</td>\n",
       "      <td>...</td>\n",
       "      <td>...</td>\n",
       "      <td>...</td>\n",
       "      <td>...</td>\n",
       "      <td>...</td>\n",
       "      <td>...</td>\n",
       "      <td>...</td>\n",
       "      <td>...</td>\n",
       "      <td>...</td>\n",
       "      <td>...</td>\n",
       "      <td>...</td>\n",
       "      <td>...</td>\n",
       "      <td>...</td>\n",
       "      <td>...</td>\n",
       "      <td>...</td>\n",
       "    </tr>\n",
       "    <tr>\n",
       "      <th>664926</th>\n",
       "      <td>Warren</td>\n",
       "      <td>5601000.0</td>\n",
       "      <td>1005.0</td>\n",
       "      <td>Glens Falls Hospital</td>\n",
       "      <td>30 to 49</td>\n",
       "      <td>128</td>\n",
       "      <td>F</td>\n",
       "      <td>White</td>\n",
       "      <td>Not Span/Hispanic</td>\n",
       "      <td>1</td>\n",
       "      <td>...</td>\n",
       "      <td>Minor</td>\n",
       "      <td>Medical</td>\n",
       "      <td>Medicare</td>\n",
       "      <td>NaN</td>\n",
       "      <td>NaN</td>\n",
       "      <td>0</td>\n",
       "      <td>N</td>\n",
       "      <td>Y</td>\n",
       "      <td>14033.73</td>\n",
       "      <td>4471.53</td>\n",
       "    </tr>\n",
       "    <tr>\n",
       "      <th>664927</th>\n",
       "      <td>Warren</td>\n",
       "      <td>5601000.0</td>\n",
       "      <td>1005.0</td>\n",
       "      <td>Glens Falls Hospital</td>\n",
       "      <td>70 or Older</td>\n",
       "      <td>128</td>\n",
       "      <td>F</td>\n",
       "      <td>White</td>\n",
       "      <td>Not Span/Hispanic</td>\n",
       "      <td>1</td>\n",
       "      <td>...</td>\n",
       "      <td>Minor</td>\n",
       "      <td>Surgical</td>\n",
       "      <td>Medicare</td>\n",
       "      <td>NaN</td>\n",
       "      <td>NaN</td>\n",
       "      <td>0</td>\n",
       "      <td>N</td>\n",
       "      <td>Y</td>\n",
       "      <td>44134.98</td>\n",
       "      <td>12744.49</td>\n",
       "    </tr>\n",
       "    <tr>\n",
       "      <th>664928</th>\n",
       "      <td>Warren</td>\n",
       "      <td>5601000.0</td>\n",
       "      <td>1005.0</td>\n",
       "      <td>Glens Falls Hospital</td>\n",
       "      <td>30 to 49</td>\n",
       "      <td>128</td>\n",
       "      <td>M</td>\n",
       "      <td>White</td>\n",
       "      <td>Not Span/Hispanic</td>\n",
       "      <td>1</td>\n",
       "      <td>...</td>\n",
       "      <td>Minor</td>\n",
       "      <td>Medical</td>\n",
       "      <td>Private Health Insurance</td>\n",
       "      <td>NaN</td>\n",
       "      <td>NaN</td>\n",
       "      <td>0</td>\n",
       "      <td>N</td>\n",
       "      <td>N</td>\n",
       "      <td>13780.26</td>\n",
       "      <td>3192.12</td>\n",
       "    </tr>\n",
       "    <tr>\n",
       "      <th>664929</th>\n",
       "      <td>Warren</td>\n",
       "      <td>5601000.0</td>\n",
       "      <td>1005.0</td>\n",
       "      <td>Glens Falls Hospital</td>\n",
       "      <td>50 to 69</td>\n",
       "      <td>128</td>\n",
       "      <td>M</td>\n",
       "      <td>White</td>\n",
       "      <td>Not Span/Hispanic</td>\n",
       "      <td>1</td>\n",
       "      <td>...</td>\n",
       "      <td>Moderate</td>\n",
       "      <td>Medical</td>\n",
       "      <td>Private Health Insurance</td>\n",
       "      <td>NaN</td>\n",
       "      <td>NaN</td>\n",
       "      <td>0</td>\n",
       "      <td>N</td>\n",
       "      <td>N</td>\n",
       "      <td>7560.97</td>\n",
       "      <td>2705.89</td>\n",
       "    </tr>\n",
       "    <tr>\n",
       "      <th>664930</th>\n",
       "      <td>Warren</td>\n",
       "      <td>5601000.0</td>\n",
       "      <td>1005.0</td>\n",
       "      <td>Glens Falls Hospital</td>\n",
       "      <td>0 to 17</td>\n",
       "      <td>128</td>\n",
       "      <td>F</td>\n",
       "      <td>White</td>\n",
       "      <td>Not Span/Hispanic</td>\n",
       "      <td>1</td>\n",
       "      <td>...</td>\n",
       "      <td>Minor</td>\n",
       "      <td>Medical</td>\n",
       "      <td>Medicaid</td>\n",
       "      <td>NaN</td>\n",
       "      <td>NaN</td>\n",
       "      <td>0</td>\n",
       "      <td>N</td>\n",
       "      <td>N</td>\n",
       "      <td>3670.62</td>\n",
       "      <td>2613.38</td>\n",
       "    </tr>\n",
       "  </tbody>\n",
       "</table>\n",
       "<p>14072 rows × 28 columns</p>\n",
       "</div>"
      ],
      "text/plain": [
       "       Hospital County  Operating Certificate Number  Facility Id  \\\n",
       "628756          Warren                     5601000.0       1005.0   \n",
       "628825          Warren                     5601000.0       1005.0   \n",
       "629035          Warren                     5601000.0       1005.0   \n",
       "629070          Warren                     5601000.0       1005.0   \n",
       "629175          Warren                     5601000.0       1005.0   \n",
       "...                ...                           ...          ...   \n",
       "664926          Warren                     5601000.0       1005.0   \n",
       "664927          Warren                     5601000.0       1005.0   \n",
       "664928          Warren                     5601000.0       1005.0   \n",
       "664929          Warren                     5601000.0       1005.0   \n",
       "664930          Warren                     5601000.0       1005.0   \n",
       "\n",
       "               Facility Name    Age Group Zip Code - 3 digits Gender   Race  \\\n",
       "628756  Glens Falls Hospital     30 to 49                 128      F  White   \n",
       "628825  Glens Falls Hospital     50 to 69                 120      F  White   \n",
       "629035  Glens Falls Hospital     18 to 29                 128      M  White   \n",
       "629070  Glens Falls Hospital     50 to 69                 128      F  White   \n",
       "629175  Glens Falls Hospital  70 or Older                 128      F  White   \n",
       "...                      ...          ...                 ...    ...    ...   \n",
       "664926  Glens Falls Hospital     30 to 49                 128      F  White   \n",
       "664927  Glens Falls Hospital  70 or Older                 128      F  White   \n",
       "664928  Glens Falls Hospital     30 to 49                 128      M  White   \n",
       "664929  Glens Falls Hospital     50 to 69                 128      M  White   \n",
       "664930  Glens Falls Hospital      0 to 17                 128      F  White   \n",
       "\n",
       "                Ethnicity Length of Stay  ... APR Risk of Mortality  \\\n",
       "628756  Not Span/Hispanic              5  ...                 Minor   \n",
       "628825  Not Span/Hispanic              4  ...              Moderate   \n",
       "629035  Not Span/Hispanic              2  ...                 Minor   \n",
       "629070  Not Span/Hispanic              1  ...                 Minor   \n",
       "629175  Not Span/Hispanic              6  ...                 Major   \n",
       "...                   ...            ...  ...                   ...   \n",
       "664926  Not Span/Hispanic              1  ...                 Minor   \n",
       "664927  Not Span/Hispanic              1  ...                 Minor   \n",
       "664928  Not Span/Hispanic              1  ...                 Minor   \n",
       "664929  Not Span/Hispanic              1  ...              Moderate   \n",
       "664930  Not Span/Hispanic              1  ...                 Minor   \n",
       "\n",
       "       APR Medical Surgical Description        Payment Typology 1  \\\n",
       "628756                          Medical                  Medicaid   \n",
       "628825                          Medical                  Medicare   \n",
       "629035                          Medical    Blue Cross/Blue Shield   \n",
       "629070                          Medical    Blue Cross/Blue Shield   \n",
       "629175                          Medical                  Medicare   \n",
       "...                                 ...                       ...   \n",
       "664926                          Medical                  Medicare   \n",
       "664927                         Surgical                  Medicare   \n",
       "664928                          Medical  Private Health Insurance   \n",
       "664929                          Medical  Private Health Insurance   \n",
       "664930                          Medical                  Medicaid   \n",
       "\n",
       "        Payment Typology 2  Payment Typology 3  Birth Weight  \\\n",
       "628756                 NaN                 NaN             0   \n",
       "628825                 NaN                 NaN             0   \n",
       "629035                 NaN                 NaN             0   \n",
       "629070                 NaN                 NaN             0   \n",
       "629175                 NaN                 NaN             0   \n",
       "...                    ...                 ...           ...   \n",
       "664926                 NaN                 NaN             0   \n",
       "664927                 NaN                 NaN             0   \n",
       "664928                 NaN                 NaN             0   \n",
       "664929                 NaN                 NaN             0   \n",
       "664930                 NaN                 NaN             0   \n",
       "\n",
       "        Abortion Edit Indicator  Emergency Department Indicator Total Charges  \\\n",
       "628756                        N                               Y      16901.84   \n",
       "628825                        N                               N      15354.59   \n",
       "629035                        N                               Y       8413.10   \n",
       "629070                        N                               Y       8102.00   \n",
       "629175                        N                               N      21480.74   \n",
       "...                         ...                             ...           ...   \n",
       "664926                        N                               Y      14033.73   \n",
       "664927                        N                               Y      44134.98   \n",
       "664928                        N                               N      13780.26   \n",
       "664929                        N                               N       7560.97   \n",
       "664930                        N                               N       3670.62   \n",
       "\n",
       "       Total Costs  \n",
       "628756     5444.54  \n",
       "628825     5499.39  \n",
       "629035     2565.18  \n",
       "629070     2008.34  \n",
       "629175     7279.17  \n",
       "...            ...  \n",
       "664926     4471.53  \n",
       "664927    12744.49  \n",
       "664928     3192.12  \n",
       "664929     2705.89  \n",
       "664930     2613.38  \n",
       "\n",
       "[14072 rows x 28 columns]"
      ]
     },
     "execution_count": 11,
     "metadata": {},
     "output_type": "execute_result"
    }
   ],
   "source": [
    "Glens_df"
   ]
  },
  {
   "cell_type": "code",
   "execution_count": 12,
   "id": "3750f17d",
   "metadata": {
    "execution": {
     "iopub.execute_input": "2023-02-18T17:48:05.180547Z",
     "iopub.status.busy": "2023-02-18T17:48:05.180115Z",
     "iopub.status.idle": "2023-02-18T17:48:05.199323Z",
     "shell.execute_reply": "2023-02-18T17:48:05.198501Z"
    },
    "papermill": {
     "duration": 0.064192,
     "end_time": "2023-02-18T17:48:05.201704",
     "exception": false,
     "start_time": "2023-02-18T17:48:05.137512",
     "status": "completed"
    },
    "tags": []
   },
   "outputs": [
    {
     "name": "stdout",
     "output_type": "stream",
     "text": [
      "<class 'pandas.core.frame.DataFrame'>\n",
      "Int64Index: 14072 entries, 628756 to 664930\n",
      "Data columns (total 28 columns):\n",
      " #   Column                            Non-Null Count  Dtype   \n",
      "---  ------                            --------------  -----   \n",
      " 0   Hospital County                   14072 non-null  category\n",
      " 1   Operating Certificate Number      14072 non-null  float64 \n",
      " 2   Facility Id                       14072 non-null  float64 \n",
      " 3   Facility Name                     14072 non-null  object  \n",
      " 4   Age Group                         14072 non-null  category\n",
      " 5   Zip Code - 3 digits               13957 non-null  category\n",
      " 6   Gender                            14072 non-null  category\n",
      " 7   Race                              14072 non-null  category\n",
      " 8   Ethnicity                         14072 non-null  category\n",
      " 9   Length of Stay                    14072 non-null  category\n",
      " 10  Type of Admission                 14072 non-null  category\n",
      " 11  Patient Disposition               14072 non-null  category\n",
      " 12  Discharge Year                    14072 non-null  int64   \n",
      " 13  CCS Diagnosis Code                14072 non-null  int64   \n",
      " 14  CCS Procedure Code                14072 non-null  int64   \n",
      " 15  APR DRG Code                      14072 non-null  int64   \n",
      " 16  APR MDC Code                      14072 non-null  int64   \n",
      " 17  APR Severity of Illness Code      14072 non-null  int64   \n",
      " 18  APR Risk of Mortality             14072 non-null  category\n",
      " 19  APR Medical Surgical Description  14072 non-null  category\n",
      " 20  Payment Typology 1                14072 non-null  category\n",
      " 21  Payment Typology 2                4755 non-null   category\n",
      " 22  Payment Typology 3                281 non-null    category\n",
      " 23  Birth Weight                      14072 non-null  int64   \n",
      " 24  Abortion Edit Indicator           14072 non-null  category\n",
      " 25  Emergency Department Indicator    14072 non-null  category\n",
      " 26  Total Charges                     14072 non-null  float64 \n",
      " 27  Total Costs                       14072 non-null  float64 \n",
      "dtypes: category(16), float64(4), int64(7), object(1)\n",
      "memory usage: 1.6+ MB\n"
     ]
    }
   ],
   "source": [
    "Glens_df.info()"
   ]
  },
  {
   "cell_type": "code",
   "execution_count": null,
   "id": "a8aecc68",
   "metadata": {
    "papermill": {
     "duration": 0.043217,
     "end_time": "2023-02-18T17:48:05.286133",
     "exception": false,
     "start_time": "2023-02-18T17:48:05.242916",
     "status": "completed"
    },
    "tags": []
   },
   "outputs": [],
   "source": []
  },
  {
   "cell_type": "code",
   "execution_count": null,
   "id": "e47299f1",
   "metadata": {
    "papermill": {
     "duration": 0.042912,
     "end_time": "2023-02-18T17:48:05.370255",
     "exception": false,
     "start_time": "2023-02-18T17:48:05.327343",
     "status": "completed"
    },
    "tags": []
   },
   "outputs": [],
   "source": [
    "\n"
   ]
  },
  {
   "cell_type": "code",
   "execution_count": 13,
   "id": "407ffd56",
   "metadata": {
    "execution": {
     "iopub.execute_input": "2023-02-18T17:48:05.454817Z",
     "iopub.status.busy": "2023-02-18T17:48:05.454413Z",
     "iopub.status.idle": "2023-02-18T17:48:05.486530Z",
     "shell.execute_reply": "2023-02-18T17:48:05.485350Z"
    },
    "papermill": {
     "duration": 0.076962,
     "end_time": "2023-02-18T17:48:05.488989",
     "exception": false,
     "start_time": "2023-02-18T17:48:05.412027",
     "status": "completed"
    },
    "tags": []
   },
   "outputs": [
    {
     "data": {
      "text/html": [
       "<div>\n",
       "<style scoped>\n",
       "    .dataframe tbody tr th:only-of-type {\n",
       "        vertical-align: middle;\n",
       "    }\n",
       "\n",
       "    .dataframe tbody tr th {\n",
       "        vertical-align: top;\n",
       "    }\n",
       "\n",
       "    .dataframe thead th {\n",
       "        text-align: right;\n",
       "    }\n",
       "</style>\n",
       "<table border=\"1\" class=\"dataframe\">\n",
       "  <thead>\n",
       "    <tr style=\"text-align: right;\">\n",
       "      <th></th>\n",
       "      <th>Hospital County</th>\n",
       "      <th>Operating Certificate Number</th>\n",
       "      <th>Facility Id</th>\n",
       "      <th>Facility Name</th>\n",
       "      <th>Age Group</th>\n",
       "      <th>Zip Code - 3 digits</th>\n",
       "      <th>Gender</th>\n",
       "      <th>Race</th>\n",
       "      <th>Ethnicity</th>\n",
       "      <th>Length of Stay</th>\n",
       "      <th>...</th>\n",
       "      <th>APR Risk of Mortality</th>\n",
       "      <th>APR Medical Surgical Description</th>\n",
       "      <th>Payment Typology 1</th>\n",
       "      <th>Payment Typology 2</th>\n",
       "      <th>Payment Typology 3</th>\n",
       "      <th>Birth Weight</th>\n",
       "      <th>Abortion Edit Indicator</th>\n",
       "      <th>Emergency Department Indicator</th>\n",
       "      <th>Total Charges</th>\n",
       "      <th>Total Costs</th>\n",
       "    </tr>\n",
       "  </thead>\n",
       "  <tbody>\n",
       "    <tr>\n",
       "      <th>628756</th>\n",
       "      <td>Warren</td>\n",
       "      <td>5601000.0</td>\n",
       "      <td>1005.0</td>\n",
       "      <td>Glens Falls Hospital</td>\n",
       "      <td>30 to 49</td>\n",
       "      <td>128</td>\n",
       "      <td>F</td>\n",
       "      <td>White</td>\n",
       "      <td>Not Span/Hispanic</td>\n",
       "      <td>5</td>\n",
       "      <td>...</td>\n",
       "      <td>Minor</td>\n",
       "      <td>Medical</td>\n",
       "      <td>Medicaid</td>\n",
       "      <td>NaN</td>\n",
       "      <td>NaN</td>\n",
       "      <td>0</td>\n",
       "      <td>N</td>\n",
       "      <td>Y</td>\n",
       "      <td>16901.84</td>\n",
       "      <td>5444.54</td>\n",
       "    </tr>\n",
       "    <tr>\n",
       "      <th>628825</th>\n",
       "      <td>Warren</td>\n",
       "      <td>5601000.0</td>\n",
       "      <td>1005.0</td>\n",
       "      <td>Glens Falls Hospital</td>\n",
       "      <td>50 to 69</td>\n",
       "      <td>120</td>\n",
       "      <td>F</td>\n",
       "      <td>White</td>\n",
       "      <td>Not Span/Hispanic</td>\n",
       "      <td>4</td>\n",
       "      <td>...</td>\n",
       "      <td>Moderate</td>\n",
       "      <td>Medical</td>\n",
       "      <td>Medicare</td>\n",
       "      <td>NaN</td>\n",
       "      <td>NaN</td>\n",
       "      <td>0</td>\n",
       "      <td>N</td>\n",
       "      <td>N</td>\n",
       "      <td>15354.59</td>\n",
       "      <td>5499.39</td>\n",
       "    </tr>\n",
       "    <tr>\n",
       "      <th>629035</th>\n",
       "      <td>Warren</td>\n",
       "      <td>5601000.0</td>\n",
       "      <td>1005.0</td>\n",
       "      <td>Glens Falls Hospital</td>\n",
       "      <td>18 to 29</td>\n",
       "      <td>128</td>\n",
       "      <td>M</td>\n",
       "      <td>White</td>\n",
       "      <td>Not Span/Hispanic</td>\n",
       "      <td>2</td>\n",
       "      <td>...</td>\n",
       "      <td>Minor</td>\n",
       "      <td>Medical</td>\n",
       "      <td>Blue Cross/Blue Shield</td>\n",
       "      <td>NaN</td>\n",
       "      <td>NaN</td>\n",
       "      <td>0</td>\n",
       "      <td>N</td>\n",
       "      <td>Y</td>\n",
       "      <td>8413.10</td>\n",
       "      <td>2565.18</td>\n",
       "    </tr>\n",
       "    <tr>\n",
       "      <th>629070</th>\n",
       "      <td>Warren</td>\n",
       "      <td>5601000.0</td>\n",
       "      <td>1005.0</td>\n",
       "      <td>Glens Falls Hospital</td>\n",
       "      <td>50 to 69</td>\n",
       "      <td>128</td>\n",
       "      <td>F</td>\n",
       "      <td>White</td>\n",
       "      <td>Not Span/Hispanic</td>\n",
       "      <td>1</td>\n",
       "      <td>...</td>\n",
       "      <td>Minor</td>\n",
       "      <td>Medical</td>\n",
       "      <td>Blue Cross/Blue Shield</td>\n",
       "      <td>NaN</td>\n",
       "      <td>NaN</td>\n",
       "      <td>0</td>\n",
       "      <td>N</td>\n",
       "      <td>Y</td>\n",
       "      <td>8102.00</td>\n",
       "      <td>2008.34</td>\n",
       "    </tr>\n",
       "    <tr>\n",
       "      <th>629175</th>\n",
       "      <td>Warren</td>\n",
       "      <td>5601000.0</td>\n",
       "      <td>1005.0</td>\n",
       "      <td>Glens Falls Hospital</td>\n",
       "      <td>70 or Older</td>\n",
       "      <td>128</td>\n",
       "      <td>F</td>\n",
       "      <td>White</td>\n",
       "      <td>Not Span/Hispanic</td>\n",
       "      <td>6</td>\n",
       "      <td>...</td>\n",
       "      <td>Major</td>\n",
       "      <td>Medical</td>\n",
       "      <td>Medicare</td>\n",
       "      <td>NaN</td>\n",
       "      <td>NaN</td>\n",
       "      <td>0</td>\n",
       "      <td>N</td>\n",
       "      <td>N</td>\n",
       "      <td>21480.74</td>\n",
       "      <td>7279.17</td>\n",
       "    </tr>\n",
       "  </tbody>\n",
       "</table>\n",
       "<p>5 rows × 28 columns</p>\n",
       "</div>"
      ],
      "text/plain": [
       "       Hospital County  Operating Certificate Number  Facility Id  \\\n",
       "628756          Warren                     5601000.0       1005.0   \n",
       "628825          Warren                     5601000.0       1005.0   \n",
       "629035          Warren                     5601000.0       1005.0   \n",
       "629070          Warren                     5601000.0       1005.0   \n",
       "629175          Warren                     5601000.0       1005.0   \n",
       "\n",
       "               Facility Name    Age Group Zip Code - 3 digits Gender   Race  \\\n",
       "628756  Glens Falls Hospital     30 to 49                 128      F  White   \n",
       "628825  Glens Falls Hospital     50 to 69                 120      F  White   \n",
       "629035  Glens Falls Hospital     18 to 29                 128      M  White   \n",
       "629070  Glens Falls Hospital     50 to 69                 128      F  White   \n",
       "629175  Glens Falls Hospital  70 or Older                 128      F  White   \n",
       "\n",
       "                Ethnicity Length of Stay  ... APR Risk of Mortality  \\\n",
       "628756  Not Span/Hispanic              5  ...                 Minor   \n",
       "628825  Not Span/Hispanic              4  ...              Moderate   \n",
       "629035  Not Span/Hispanic              2  ...                 Minor   \n",
       "629070  Not Span/Hispanic              1  ...                 Minor   \n",
       "629175  Not Span/Hispanic              6  ...                 Major   \n",
       "\n",
       "       APR Medical Surgical Description      Payment Typology 1  \\\n",
       "628756                          Medical                Medicaid   \n",
       "628825                          Medical                Medicare   \n",
       "629035                          Medical  Blue Cross/Blue Shield   \n",
       "629070                          Medical  Blue Cross/Blue Shield   \n",
       "629175                          Medical                Medicare   \n",
       "\n",
       "        Payment Typology 2  Payment Typology 3  Birth Weight  \\\n",
       "628756                 NaN                 NaN             0   \n",
       "628825                 NaN                 NaN             0   \n",
       "629035                 NaN                 NaN             0   \n",
       "629070                 NaN                 NaN             0   \n",
       "629175                 NaN                 NaN             0   \n",
       "\n",
       "        Abortion Edit Indicator  Emergency Department Indicator Total Charges  \\\n",
       "628756                        N                               Y      16901.84   \n",
       "628825                        N                               N      15354.59   \n",
       "629035                        N                               Y       8413.10   \n",
       "629070                        N                               Y       8102.00   \n",
       "629175                        N                               N      21480.74   \n",
       "\n",
       "       Total Costs  \n",
       "628756     5444.54  \n",
       "628825     5499.39  \n",
       "629035     2565.18  \n",
       "629070     2008.34  \n",
       "629175     7279.17  \n",
       "\n",
       "[5 rows x 28 columns]"
      ]
     },
     "execution_count": 13,
     "metadata": {},
     "output_type": "execute_result"
    }
   ],
   "source": [
    "Glens_df.head()"
   ]
  },
  {
   "cell_type": "code",
   "execution_count": 14,
   "id": "5a2f1578",
   "metadata": {
    "execution": {
     "iopub.execute_input": "2023-02-18T17:48:05.574833Z",
     "iopub.status.busy": "2023-02-18T17:48:05.574399Z",
     "iopub.status.idle": "2023-02-18T17:48:05.593102Z",
     "shell.execute_reply": "2023-02-18T17:48:05.592225Z"
    },
    "papermill": {
     "duration": 0.06473,
     "end_time": "2023-02-18T17:48:05.595416",
     "exception": false,
     "start_time": "2023-02-18T17:48:05.530686",
     "status": "completed"
    },
    "tags": []
   },
   "outputs": [
    {
     "name": "stdout",
     "output_type": "stream",
     "text": [
      "<class 'pandas.core.frame.DataFrame'>\n",
      "Int64Index: 14072 entries, 628756 to 664930\n",
      "Data columns (total 28 columns):\n",
      " #   Column                            Non-Null Count  Dtype   \n",
      "---  ------                            --------------  -----   \n",
      " 0   Hospital County                   14072 non-null  category\n",
      " 1   Operating Certificate Number      14072 non-null  float64 \n",
      " 2   Facility Id                       14072 non-null  float64 \n",
      " 3   Facility Name                     14072 non-null  object  \n",
      " 4   Age Group                         14072 non-null  category\n",
      " 5   Zip Code - 3 digits               13957 non-null  category\n",
      " 6   Gender                            14072 non-null  category\n",
      " 7   Race                              14072 non-null  category\n",
      " 8   Ethnicity                         14072 non-null  category\n",
      " 9   Length of Stay                    14072 non-null  category\n",
      " 10  Type of Admission                 14072 non-null  category\n",
      " 11  Patient Disposition               14072 non-null  category\n",
      " 12  Discharge Year                    14072 non-null  int64   \n",
      " 13  CCS Diagnosis Code                14072 non-null  int64   \n",
      " 14  CCS Procedure Code                14072 non-null  int64   \n",
      " 15  APR DRG Code                      14072 non-null  int64   \n",
      " 16  APR MDC Code                      14072 non-null  int64   \n",
      " 17  APR Severity of Illness Code      14072 non-null  int64   \n",
      " 18  APR Risk of Mortality             14072 non-null  category\n",
      " 19  APR Medical Surgical Description  14072 non-null  category\n",
      " 20  Payment Typology 1                14072 non-null  category\n",
      " 21  Payment Typology 2                4755 non-null   category\n",
      " 22  Payment Typology 3                281 non-null    category\n",
      " 23  Birth Weight                      14072 non-null  int64   \n",
      " 24  Abortion Edit Indicator           14072 non-null  category\n",
      " 25  Emergency Department Indicator    14072 non-null  category\n",
      " 26  Total Charges                     14072 non-null  float64 \n",
      " 27  Total Costs                       14072 non-null  float64 \n",
      "dtypes: category(16), float64(4), int64(7), object(1)\n",
      "memory usage: 1.6+ MB\n"
     ]
    }
   ],
   "source": [
    "Glens_df.info()"
   ]
  },
  {
   "cell_type": "code",
   "execution_count": 15,
   "id": "4decde08",
   "metadata": {
    "_kg_hide-input": true,
    "execution": {
     "iopub.execute_input": "2023-02-18T17:48:05.683459Z",
     "iopub.status.busy": "2023-02-18T17:48:05.683001Z",
     "iopub.status.idle": "2023-02-18T17:48:05.690036Z",
     "shell.execute_reply": "2023-02-18T17:48:05.688797Z"
    },
    "papermill": {
     "duration": 0.0555,
     "end_time": "2023-02-18T17:48:05.692525",
     "exception": false,
     "start_time": "2023-02-18T17:48:05.637025",
     "status": "completed"
    },
    "tags": []
   },
   "outputs": [],
   "source": [
    "Glens_df = Glens_df.drop(\"Facility Name\", axis=1)"
   ]
  },
  {
   "cell_type": "code",
   "execution_count": 16,
   "id": "3fc385f0",
   "metadata": {
    "execution": {
     "iopub.execute_input": "2023-02-18T17:48:05.779862Z",
     "iopub.status.busy": "2023-02-18T17:48:05.779442Z",
     "iopub.status.idle": "2023-02-18T17:48:05.794144Z",
     "shell.execute_reply": "2023-02-18T17:48:05.793054Z"
    },
    "papermill": {
     "duration": 0.061198,
     "end_time": "2023-02-18T17:48:05.796451",
     "exception": false,
     "start_time": "2023-02-18T17:48:05.735253",
     "status": "completed"
    },
    "tags": []
   },
   "outputs": [
    {
     "data": {
      "text/html": [
       "<div>\n",
       "<style scoped>\n",
       "    .dataframe tbody tr th:only-of-type {\n",
       "        vertical-align: middle;\n",
       "    }\n",
       "\n",
       "    .dataframe tbody tr th {\n",
       "        vertical-align: top;\n",
       "    }\n",
       "\n",
       "    .dataframe thead th {\n",
       "        text-align: right;\n",
       "    }\n",
       "</style>\n",
       "<table border=\"1\" class=\"dataframe\">\n",
       "  <thead>\n",
       "    <tr style=\"text-align: right;\">\n",
       "      <th></th>\n",
       "      <th>Length of Stay</th>\n",
       "    </tr>\n",
       "  </thead>\n",
       "  <tbody>\n",
       "    <tr>\n",
       "      <th>628756</th>\n",
       "      <td>5</td>\n",
       "    </tr>\n",
       "    <tr>\n",
       "      <th>628825</th>\n",
       "      <td>4</td>\n",
       "    </tr>\n",
       "    <tr>\n",
       "      <th>629035</th>\n",
       "      <td>2</td>\n",
       "    </tr>\n",
       "    <tr>\n",
       "      <th>629070</th>\n",
       "      <td>1</td>\n",
       "    </tr>\n",
       "    <tr>\n",
       "      <th>629175</th>\n",
       "      <td>6</td>\n",
       "    </tr>\n",
       "    <tr>\n",
       "      <th>...</th>\n",
       "      <td>...</td>\n",
       "    </tr>\n",
       "    <tr>\n",
       "      <th>664926</th>\n",
       "      <td>1</td>\n",
       "    </tr>\n",
       "    <tr>\n",
       "      <th>664927</th>\n",
       "      <td>1</td>\n",
       "    </tr>\n",
       "    <tr>\n",
       "      <th>664928</th>\n",
       "      <td>1</td>\n",
       "    </tr>\n",
       "    <tr>\n",
       "      <th>664929</th>\n",
       "      <td>1</td>\n",
       "    </tr>\n",
       "    <tr>\n",
       "      <th>664930</th>\n",
       "      <td>1</td>\n",
       "    </tr>\n",
       "  </tbody>\n",
       "</table>\n",
       "<p>14072 rows × 1 columns</p>\n",
       "</div>"
      ],
      "text/plain": [
       "       Length of Stay\n",
       "628756              5\n",
       "628825              4\n",
       "629035              2\n",
       "629070              1\n",
       "629175              6\n",
       "...               ...\n",
       "664926              1\n",
       "664927              1\n",
       "664928              1\n",
       "664929              1\n",
       "664930              1\n",
       "\n",
       "[14072 rows x 1 columns]"
      ]
     },
     "execution_count": 16,
     "metadata": {},
     "output_type": "execute_result"
    }
   ],
   "source": [
    "Glens_df[[\"Length of Stay\"]]"
   ]
  },
  {
   "cell_type": "code",
   "execution_count": 17,
   "id": "d481121b",
   "metadata": {
    "execution": {
     "iopub.execute_input": "2023-02-18T17:48:05.884468Z",
     "iopub.status.busy": "2023-02-18T17:48:05.883754Z",
     "iopub.status.idle": "2023-02-18T17:48:05.890470Z",
     "shell.execute_reply": "2023-02-18T17:48:05.889413Z"
    },
    "papermill": {
     "duration": 0.054247,
     "end_time": "2023-02-18T17:48:05.893123",
     "exception": false,
     "start_time": "2023-02-18T17:48:05.838876",
     "status": "completed"
    },
    "tags": []
   },
   "outputs": [],
   "source": [
    "Glens_df = Glens_df.drop([\"Payment Typology 2\",    \"Payment Typology 3\"], axis=1)\n"
   ]
  },
  {
   "cell_type": "code",
   "execution_count": 18,
   "id": "16e21c67",
   "metadata": {
    "execution": {
     "iopub.execute_input": "2023-02-18T17:48:05.979961Z",
     "iopub.status.busy": "2023-02-18T17:48:05.979099Z",
     "iopub.status.idle": "2023-02-18T17:48:06.040440Z",
     "shell.execute_reply": "2023-02-18T17:48:06.038983Z"
    },
    "papermill": {
     "duration": 0.107622,
     "end_time": "2023-02-18T17:48:06.042955",
     "exception": false,
     "start_time": "2023-02-18T17:48:05.935333",
     "status": "completed"
    },
    "tags": []
   },
   "outputs": [
    {
     "name": "stdout",
     "output_type": "stream",
     "text": [
      "Hospital County : 1\n",
      "Warren      14072\n",
      "Albany          0\n",
      "Saratoga        0\n",
      "Onondaga        0\n",
      "Ontario         0\n",
      "Name: Hospital County, dtype: int64\n",
      "\n",
      "********************\n",
      "\n",
      "Operating Certificate Number : 1\n",
      "5601000.0    14072\n",
      "Name: Operating Certificate Number, dtype: int64\n",
      "\n",
      "********************\n",
      "\n",
      "Facility Id : 1\n",
      "1005.0    14072\n",
      "Name: Facility Id, dtype: int64\n",
      "\n",
      "********************\n",
      "\n",
      "Age Group : 5\n",
      "70 or Older    4708\n",
      "50 to 69       3997\n",
      "30 to 49       2186\n",
      "0 to 17        1671\n",
      "18 to 29       1510\n",
      "Name: Age Group, dtype: int64\n",
      "\n",
      "********************\n",
      "\n",
      "Zip Code - 3 digits : 20\n",
      "128    13284\n",
      "OOS      197\n",
      "120      196\n",
      "129      110\n",
      "121       80\n",
      "Name: Zip Code - 3 digits, dtype: int64\n",
      "\n",
      "********************\n",
      "\n",
      "Gender : 2\n",
      "F    7797\n",
      "M    6275\n",
      "U       0\n",
      "Name: Gender, dtype: int64\n",
      "\n",
      "********************\n",
      "\n",
      "Race : 3\n",
      "White                     13610\n",
      "Other Race                  343\n",
      "Black/African American      119\n",
      "Multi-racial                  0\n",
      "Name: Race, dtype: int64\n",
      "\n",
      "********************\n",
      "\n",
      "Ethnicity : 3\n",
      "Not Span/Hispanic    13938\n",
      "Spanish/Hispanic       125\n",
      "Unknown                  9\n",
      "Multi-ethnic             0\n",
      "Name: Ethnicity, dtype: int64\n",
      "\n",
      "********************\n",
      "\n",
      "Length of Stay : 74\n",
      "2    3059\n",
      "3    2648\n",
      "1    2116\n",
      "4    1620\n",
      "5    1078\n",
      "Name: Length of Stay, dtype: int64\n",
      "\n",
      "********************\n",
      "\n",
      "Type of Admission : 5\n",
      "Emergency        9490\n",
      "Elective         2700\n",
      "Newborn          1220\n",
      "Urgent            657\n",
      "Not Available       5\n",
      "Name: Type of Admission, dtype: int64\n",
      "\n",
      "********************\n",
      "\n",
      "Patient Disposition : 17\n",
      "Home or Self Care               6717\n",
      "Home w/ Home Health Services    4378\n",
      "Skilled Nursing Home            1584\n",
      "Expired                          427\n",
      "Short-term Hospital              290\n",
      "Name: Patient Disposition, dtype: int64\n",
      "\n",
      "********************\n",
      "\n",
      "Discharge Year : 1\n",
      "2015    14072\n",
      "Name: Discharge Year, dtype: int64\n",
      "\n",
      "********************\n",
      "\n",
      "CCS Diagnosis Code : 226\n",
      "218    1219\n",
      "657     864\n",
      "2       833\n",
      "127     459\n",
      "108     408\n",
      "Name: CCS Diagnosis Code, dtype: int64\n",
      "\n",
      "********************\n",
      "\n",
      "CCS Procedure Code : 165\n",
      "0      6956\n",
      "137     790\n",
      "216     567\n",
      "115     491\n",
      "134     379\n",
      "Name: CCS Procedure Code, dtype: int64\n",
      "\n",
      "********************\n",
      "\n",
      "APR DRG Code : 263\n",
      "640    1126\n",
      "560     818\n",
      "720     745\n",
      "140     494\n",
      "194     382\n",
      "Name: APR DRG Code, dtype: int64\n",
      "\n",
      "********************\n",
      "\n",
      "APR MDC Code : 25\n",
      "4     1702\n",
      "5     1553\n",
      "6     1299\n",
      "14    1291\n",
      "15    1233\n",
      "Name: APR MDC Code, dtype: int64\n",
      "\n",
      "********************\n",
      "\n",
      "APR Severity of Illness Code : 4\n",
      "2    5298\n",
      "1    4129\n",
      "3    3987\n",
      "4     658\n",
      "Name: APR Severity of Illness Code, dtype: int64\n",
      "\n",
      "********************\n",
      "\n",
      "APR Risk of Mortality : 4\n",
      "Minor       7296\n",
      "Moderate    3442\n",
      "Major       2734\n",
      "Extreme      600\n",
      "Name: APR Risk of Mortality, dtype: int64\n",
      "\n",
      "********************\n",
      "\n",
      "APR Medical Surgical Description : 2\n",
      "Medical           11256\n",
      "Surgical           2816\n",
      "Not Applicable        0\n",
      "Name: APR Medical Surgical Description, dtype: int64\n",
      "\n",
      "********************\n",
      "\n",
      "Payment Typology 1 : 8\n",
      "Medicare                    7149\n",
      "Medicaid                    3174\n",
      "Blue Cross/Blue Shield      1919\n",
      "Private Health Insurance    1424\n",
      "Self-Pay                     169\n",
      "Name: Payment Typology 1, dtype: int64\n",
      "\n",
      "********************\n",
      "\n",
      "Birth Weight : 38\n",
      "0       12822\n",
      "3500      129\n",
      "3400      101\n",
      "3300       96\n",
      "3600       92\n",
      "Name: Birth Weight, dtype: int64\n",
      "\n",
      "********************\n",
      "\n",
      "Abortion Edit Indicator : 1\n",
      "N    14072\n",
      "Y        0\n",
      "Name: Abortion Edit Indicator, dtype: int64\n",
      "\n",
      "********************\n",
      "\n",
      "Emergency Department Indicator : 2\n",
      "Y    9493\n",
      "N    4579\n",
      "Name: Emergency Department Indicator, dtype: int64\n",
      "\n",
      "********************\n",
      "\n",
      "Total Charges : 13528\n",
      "5357.70    67\n",
      "5276.70    63\n",
      "2849.70    35\n",
      "5885.05    32\n",
      "5899.15    25\n",
      "Name: Total Charges, dtype: int64\n",
      "\n",
      "********************\n",
      "\n",
      "Total Costs : 13510\n",
      "1896.61    67\n",
      "1881.32    63\n",
      "1041.81    35\n",
      "2076.81    32\n",
      "2082.50    25\n",
      "Name: Total Costs, dtype: int64\n",
      "\n",
      "********************\n",
      "\n"
     ]
    }
   ],
   "source": [
    "for col in Glens_df.columns:\n",
    "    print( col,':', Glens_df[col].nunique() )#Num of unique values\n",
    "    print(Glens_df[col].value_counts().nlargest(5)) #Most 5 frequent values\n",
    "    print('\\n' + '*' * 20 + '\\n')"
   ]
  },
  {
   "cell_type": "markdown",
   "id": "dd4db936",
   "metadata": {
    "papermill": {
     "duration": 0.043336,
     "end_time": "2023-02-18T17:48:06.128920",
     "exception": false,
     "start_time": "2023-02-18T17:48:06.085584",
     "status": "completed"
    },
    "tags": []
   },
   "source": [
    "preprocsesing "
   ]
  },
  {
   "cell_type": "code",
   "execution_count": 19,
   "id": "97f4cdaa",
   "metadata": {
    "execution": {
     "iopub.execute_input": "2023-02-18T17:48:06.217636Z",
     "iopub.status.busy": "2023-02-18T17:48:06.216562Z",
     "iopub.status.idle": "2023-02-18T17:48:06.225280Z",
     "shell.execute_reply": "2023-02-18T17:48:06.224280Z"
    },
    "papermill": {
     "duration": 0.056362,
     "end_time": "2023-02-18T17:48:06.228078",
     "exception": false,
     "start_time": "2023-02-18T17:48:06.171716",
     "status": "completed"
    },
    "tags": []
   },
   "outputs": [],
   "source": [
    " #Glens_df[\"Length of Stay\"] = Glens_df[\"Length of Stay\"].astype('int64')\n",
    " #   simple mapping on binary features.\n",
    "Glens_df['Abortion Edit Indicator'] = Glens_df['Abortion Edit Indicator'].apply(\n",
    "     lambda x: 1 if x == 'Y' else (0 if x == 'N' else None))\n",
    "Glens_df['Emergency Department Indicator'] = Glens_df['Emergency Department Indicator'].apply(\n",
    "    lambda x: 1 if x == 'Y' else (0 if x == 'N' else None))"
   ]
  },
  {
   "cell_type": "code",
   "execution_count": 20,
   "id": "e2bddec4",
   "metadata": {
    "execution": {
     "iopub.execute_input": "2023-02-18T17:48:06.315992Z",
     "iopub.status.busy": "2023-02-18T17:48:06.315576Z",
     "iopub.status.idle": "2023-02-18T17:48:06.329255Z",
     "shell.execute_reply": "2023-02-18T17:48:06.328089Z"
    },
    "papermill": {
     "duration": 0.059545,
     "end_time": "2023-02-18T17:48:06.331450",
     "exception": false,
     "start_time": "2023-02-18T17:48:06.271905",
     "status": "completed"
    },
    "tags": []
   },
   "outputs": [],
   "source": [
    "Glens_df[\"Length of Stay\"]=pd.to_numeric(Glens_df[\"Length of Stay\"],errors='coerce')"
   ]
  },
  {
   "cell_type": "code",
   "execution_count": 21,
   "id": "2bfb5765",
   "metadata": {
    "execution": {
     "iopub.execute_input": "2023-02-18T17:48:06.418035Z",
     "iopub.status.busy": "2023-02-18T17:48:06.417614Z",
     "iopub.status.idle": "2023-02-18T17:48:06.435540Z",
     "shell.execute_reply": "2023-02-18T17:48:06.434604Z"
    },
    "papermill": {
     "duration": 0.064408,
     "end_time": "2023-02-18T17:48:06.437725",
     "exception": false,
     "start_time": "2023-02-18T17:48:06.373317",
     "status": "completed"
    },
    "tags": []
   },
   "outputs": [
    {
     "name": "stdout",
     "output_type": "stream",
     "text": [
      "<class 'pandas.core.frame.DataFrame'>\n",
      "Int64Index: 14072 entries, 628756 to 664930\n",
      "Data columns (total 25 columns):\n",
      " #   Column                            Non-Null Count  Dtype   \n",
      "---  ------                            --------------  -----   \n",
      " 0   Hospital County                   14072 non-null  category\n",
      " 1   Operating Certificate Number      14072 non-null  float64 \n",
      " 2   Facility Id                       14072 non-null  float64 \n",
      " 3   Age Group                         14072 non-null  category\n",
      " 4   Zip Code - 3 digits               13957 non-null  category\n",
      " 5   Gender                            14072 non-null  category\n",
      " 6   Race                              14072 non-null  category\n",
      " 7   Ethnicity                         14072 non-null  category\n",
      " 8   Length of Stay                    14069 non-null  float64 \n",
      " 9   Type of Admission                 14072 non-null  category\n",
      " 10  Patient Disposition               14072 non-null  category\n",
      " 11  Discharge Year                    14072 non-null  int64   \n",
      " 12  CCS Diagnosis Code                14072 non-null  int64   \n",
      " 13  CCS Procedure Code                14072 non-null  int64   \n",
      " 14  APR DRG Code                      14072 non-null  int64   \n",
      " 15  APR MDC Code                      14072 non-null  int64   \n",
      " 16  APR Severity of Illness Code      14072 non-null  int64   \n",
      " 17  APR Risk of Mortality             14072 non-null  category\n",
      " 18  APR Medical Surgical Description  14072 non-null  category\n",
      " 19  Payment Typology 1                14072 non-null  category\n",
      " 20  Birth Weight                      14072 non-null  int64   \n",
      " 21  Abortion Edit Indicator           14072 non-null  category\n",
      " 22  Emergency Department Indicator    14072 non-null  category\n",
      " 23  Total Charges                     14072 non-null  float64 \n",
      " 24  Total Costs                       14072 non-null  float64 \n",
      "dtypes: category(13), float64(5), int64(7)\n",
      "memory usage: 1.6 MB\n"
     ]
    }
   ],
   "source": [
    "Glens_df.info()"
   ]
  },
  {
   "cell_type": "code",
   "execution_count": 22,
   "id": "6707c605",
   "metadata": {
    "execution": {
     "iopub.execute_input": "2023-02-18T17:48:06.527857Z",
     "iopub.status.busy": "2023-02-18T17:48:06.527221Z",
     "iopub.status.idle": "2023-02-18T17:48:07.584845Z",
     "shell.execute_reply": "2023-02-18T17:48:07.583402Z"
    },
    "papermill": {
     "duration": 1.105484,
     "end_time": "2023-02-18T17:48:07.587710",
     "exception": false,
     "start_time": "2023-02-18T17:48:06.482226",
     "status": "completed"
    },
    "tags": []
   },
   "outputs": [],
   "source": [
    "list=  [ \"Hospital County\",\"Age Group\"\n",
    "    ,\"Gender\",   \n",
    " \"Race\" , \n",
    "\"Ethnicity\", \n",
    "\"Gender\" , \n",
    "\"Race\" ,    \n",
    " \"Ethnicity\" ,        \n",
    " \"Type of Admission\"  ,  \n",
    "  \"Patient Disposition\",      \n",
    " \"Type of Admission\" ,  \n",
    " \"Patient Disposition\"  ,\n",
    "  \"APR Risk of Mortality\" ,   \n",
    " \"APR Medical Surgical Description\" ,\n",
    " \"Payment Typology 1\"   ,   \n",
    " \"Abortion Edit Indicator\"     ,  \n",
    " \"Emergency Department Indicator\",\n",
    "       \"Zip Code - 3 digits\"]  \n",
    "\n",
    "# Import label encoder\n",
    "from sklearn import preprocessing\n",
    "  \n",
    "# label_encoder object knows how to understand word labels.\n",
    "label_encoder = preprocessing.LabelEncoder()\n",
    "  \n",
    "# Encode labels in column 'species'.\n",
    "for col in list :\n",
    "  Glens_df[col]= label_encoder.fit_transform(Glens_df[col])"
   ]
  },
  {
   "cell_type": "code",
   "execution_count": 23,
   "id": "41820af1",
   "metadata": {
    "execution": {
     "iopub.execute_input": "2023-02-18T17:48:07.676134Z",
     "iopub.status.busy": "2023-02-18T17:48:07.675654Z",
     "iopub.status.idle": "2023-02-18T17:48:07.694423Z",
     "shell.execute_reply": "2023-02-18T17:48:07.693105Z"
    },
    "papermill": {
     "duration": 0.065446,
     "end_time": "2023-02-18T17:48:07.696881",
     "exception": false,
     "start_time": "2023-02-18T17:48:07.631435",
     "status": "completed"
    },
    "tags": []
   },
   "outputs": [
    {
     "name": "stdout",
     "output_type": "stream",
     "text": [
      "<class 'pandas.core.frame.DataFrame'>\n",
      "Int64Index: 14072 entries, 628756 to 664930\n",
      "Data columns (total 25 columns):\n",
      " #   Column                            Non-Null Count  Dtype  \n",
      "---  ------                            --------------  -----  \n",
      " 0   Hospital County                   14072 non-null  int64  \n",
      " 1   Operating Certificate Number      14072 non-null  float64\n",
      " 2   Facility Id                       14072 non-null  float64\n",
      " 3   Age Group                         14072 non-null  int64  \n",
      " 4   Zip Code - 3 digits               14072 non-null  int64  \n",
      " 5   Gender                            14072 non-null  int64  \n",
      " 6   Race                              14072 non-null  int64  \n",
      " 7   Ethnicity                         14072 non-null  int64  \n",
      " 8   Length of Stay                    14069 non-null  float64\n",
      " 9   Type of Admission                 14072 non-null  int64  \n",
      " 10  Patient Disposition               14072 non-null  int64  \n",
      " 11  Discharge Year                    14072 non-null  int64  \n",
      " 12  CCS Diagnosis Code                14072 non-null  int64  \n",
      " 13  CCS Procedure Code                14072 non-null  int64  \n",
      " 14  APR DRG Code                      14072 non-null  int64  \n",
      " 15  APR MDC Code                      14072 non-null  int64  \n",
      " 16  APR Severity of Illness Code      14072 non-null  int64  \n",
      " 17  APR Risk of Mortality             14072 non-null  int64  \n",
      " 18  APR Medical Surgical Description  14072 non-null  int64  \n",
      " 19  Payment Typology 1                14072 non-null  int64  \n",
      " 20  Birth Weight                      14072 non-null  int64  \n",
      " 21  Abortion Edit Indicator           14072 non-null  int64  \n",
      " 22  Emergency Department Indicator    14072 non-null  int64  \n",
      " 23  Total Charges                     14072 non-null  float64\n",
      " 24  Total Costs                       14072 non-null  float64\n",
      "dtypes: float64(5), int64(20)\n",
      "memory usage: 2.8 MB\n"
     ]
    }
   ],
   "source": [
    "Glens_df.info()"
   ]
  },
  {
   "cell_type": "code",
   "execution_count": 24,
   "id": "50071e1f",
   "metadata": {
    "execution": {
     "iopub.execute_input": "2023-02-18T17:48:07.785100Z",
     "iopub.status.busy": "2023-02-18T17:48:07.784258Z",
     "iopub.status.idle": "2023-02-18T17:48:07.796809Z",
     "shell.execute_reply": "2023-02-18T17:48:07.795693Z"
    },
    "papermill": {
     "duration": 0.059099,
     "end_time": "2023-02-18T17:48:07.799315",
     "exception": false,
     "start_time": "2023-02-18T17:48:07.740216",
     "status": "completed"
    },
    "tags": []
   },
   "outputs": [
    {
     "data": {
      "text/plain": [
       "Hospital County                     0\n",
       "Operating Certificate Number        0\n",
       "Facility Id                         0\n",
       "Age Group                           0\n",
       "Zip Code - 3 digits                 0\n",
       "Gender                              0\n",
       "Race                                0\n",
       "Ethnicity                           0\n",
       "Length of Stay                      3\n",
       "Type of Admission                   0\n",
       "Patient Disposition                 0\n",
       "Discharge Year                      0\n",
       "CCS Diagnosis Code                  0\n",
       "CCS Procedure Code                  0\n",
       "APR DRG Code                        0\n",
       "APR MDC Code                        0\n",
       "APR Severity of Illness Code        0\n",
       "APR Risk of Mortality               0\n",
       "APR Medical Surgical Description    0\n",
       "Payment Typology 1                  0\n",
       "Birth Weight                        0\n",
       "Abortion Edit Indicator             0\n",
       "Emergency Department Indicator      0\n",
       "Total Charges                       0\n",
       "Total Costs                         0\n",
       "dtype: int64"
      ]
     },
     "execution_count": 24,
     "metadata": {},
     "output_type": "execute_result"
    }
   ],
   "source": [
    "Glens_df.isnull().sum()"
   ]
  },
  {
   "cell_type": "code",
   "execution_count": 25,
   "id": "66525fbc",
   "metadata": {
    "execution": {
     "iopub.execute_input": "2023-02-18T17:48:07.886697Z",
     "iopub.status.busy": "2023-02-18T17:48:07.885511Z",
     "iopub.status.idle": "2023-02-18T17:48:07.899176Z",
     "shell.execute_reply": "2023-02-18T17:48:07.898113Z"
    },
    "papermill": {
     "duration": 0.059878,
     "end_time": "2023-02-18T17:48:07.901913",
     "exception": false,
     "start_time": "2023-02-18T17:48:07.842035",
     "status": "completed"
    },
    "tags": []
   },
   "outputs": [],
   "source": [
    "Glens_df.dropna(inplace=True)"
   ]
  },
  {
   "cell_type": "code",
   "execution_count": 26,
   "id": "30b85e9c",
   "metadata": {
    "execution": {
     "iopub.execute_input": "2023-02-18T17:48:07.990446Z",
     "iopub.status.busy": "2023-02-18T17:48:07.990030Z",
     "iopub.status.idle": "2023-02-18T17:48:07.997092Z",
     "shell.execute_reply": "2023-02-18T17:48:07.995813Z"
    },
    "papermill": {
     "duration": 0.05402,
     "end_time": "2023-02-18T17:48:07.999540",
     "exception": false,
     "start_time": "2023-02-18T17:48:07.945520",
     "status": "completed"
    },
    "tags": []
   },
   "outputs": [],
   "source": [
    "x = Glens_df.drop([\"Length of Stay\"], axis =1)\n",
    "y = Glens_df[\"Length of Stay\"]"
   ]
  },
  {
   "cell_type": "code",
   "execution_count": 27,
   "id": "ba45aaa4",
   "metadata": {
    "execution": {
     "iopub.execute_input": "2023-02-18T17:48:08.087348Z",
     "iopub.status.busy": "2023-02-18T17:48:08.086733Z",
     "iopub.status.idle": "2023-02-18T17:48:08.101933Z",
     "shell.execute_reply": "2023-02-18T17:48:08.100501Z"
    },
    "papermill": {
     "duration": 0.062202,
     "end_time": "2023-02-18T17:48:08.104592",
     "exception": false,
     "start_time": "2023-02-18T17:48:08.042390",
     "status": "completed"
    },
    "tags": []
   },
   "outputs": [
    {
     "name": "stdout",
     "output_type": "stream",
     "text": [
      "<class 'pandas.core.frame.DataFrame'>\n",
      "Int64Index: 14069 entries, 628756 to 664930\n",
      "Data columns (total 24 columns):\n",
      " #   Column                            Non-Null Count  Dtype  \n",
      "---  ------                            --------------  -----  \n",
      " 0   Hospital County                   14069 non-null  int64  \n",
      " 1   Operating Certificate Number      14069 non-null  float64\n",
      " 2   Facility Id                       14069 non-null  float64\n",
      " 3   Age Group                         14069 non-null  int64  \n",
      " 4   Zip Code - 3 digits               14069 non-null  int64  \n",
      " 5   Gender                            14069 non-null  int64  \n",
      " 6   Race                              14069 non-null  int64  \n",
      " 7   Ethnicity                         14069 non-null  int64  \n",
      " 8   Type of Admission                 14069 non-null  int64  \n",
      " 9   Patient Disposition               14069 non-null  int64  \n",
      " 10  Discharge Year                    14069 non-null  int64  \n",
      " 11  CCS Diagnosis Code                14069 non-null  int64  \n",
      " 12  CCS Procedure Code                14069 non-null  int64  \n",
      " 13  APR DRG Code                      14069 non-null  int64  \n",
      " 14  APR MDC Code                      14069 non-null  int64  \n",
      " 15  APR Severity of Illness Code      14069 non-null  int64  \n",
      " 16  APR Risk of Mortality             14069 non-null  int64  \n",
      " 17  APR Medical Surgical Description  14069 non-null  int64  \n",
      " 18  Payment Typology 1                14069 non-null  int64  \n",
      " 19  Birth Weight                      14069 non-null  int64  \n",
      " 20  Abortion Edit Indicator           14069 non-null  int64  \n",
      " 21  Emergency Department Indicator    14069 non-null  int64  \n",
      " 22  Total Charges                     14069 non-null  float64\n",
      " 23  Total Costs                       14069 non-null  float64\n",
      "dtypes: float64(4), int64(20)\n",
      "memory usage: 2.7 MB\n"
     ]
    }
   ],
   "source": [
    "x.info()"
   ]
  },
  {
   "cell_type": "code",
   "execution_count": 28,
   "id": "ce039a1b",
   "metadata": {
    "execution": {
     "iopub.execute_input": "2023-02-18T17:48:08.193722Z",
     "iopub.status.busy": "2023-02-18T17:48:08.192780Z",
     "iopub.status.idle": "2023-02-18T17:48:08.202652Z",
     "shell.execute_reply": "2023-02-18T17:48:08.201412Z"
    },
    "papermill": {
     "duration": 0.05651,
     "end_time": "2023-02-18T17:48:08.205025",
     "exception": false,
     "start_time": "2023-02-18T17:48:08.148515",
     "status": "completed"
    },
    "tags": []
   },
   "outputs": [
    {
     "data": {
      "text/plain": [
       "628756    5.0\n",
       "628825    4.0\n",
       "629035    2.0\n",
       "629070    1.0\n",
       "629175    6.0\n",
       "         ... \n",
       "664926    1.0\n",
       "664927    1.0\n",
       "664928    1.0\n",
       "664929    1.0\n",
       "664930    1.0\n",
       "Name: Length of Stay, Length: 14069, dtype: float64"
      ]
     },
     "execution_count": 28,
     "metadata": {},
     "output_type": "execute_result"
    }
   ],
   "source": [
    "y"
   ]
  },
  {
   "cell_type": "code",
   "execution_count": 29,
   "id": "dab56eec",
   "metadata": {
    "execution": {
     "iopub.execute_input": "2023-02-18T17:48:08.293109Z",
     "iopub.status.busy": "2023-02-18T17:48:08.292671Z",
     "iopub.status.idle": "2023-02-18T17:48:08.359465Z",
     "shell.execute_reply": "2023-02-18T17:48:08.358340Z"
    },
    "papermill": {
     "duration": 0.114193,
     "end_time": "2023-02-18T17:48:08.362133",
     "exception": false,
     "start_time": "2023-02-18T17:48:08.247940",
     "status": "completed"
    },
    "tags": []
   },
   "outputs": [],
   "source": [
    "from sklearn.model_selection import train_test_split\n",
    "x_train, x_test, y_train, y_test = train_test_split(x, y, test_size=0.3, random_state=42)"
   ]
  },
  {
   "cell_type": "code",
   "execution_count": 30,
   "id": "1554e094",
   "metadata": {
    "execution": {
     "iopub.execute_input": "2023-02-18T17:48:08.449974Z",
     "iopub.status.busy": "2023-02-18T17:48:08.449298Z",
     "iopub.status.idle": "2023-02-18T17:48:08.669424Z",
     "shell.execute_reply": "2023-02-18T17:48:08.668067Z"
    },
    "papermill": {
     "duration": 0.267323,
     "end_time": "2023-02-18T17:48:08.672318",
     "exception": false,
     "start_time": "2023-02-18T17:48:08.404995",
     "status": "completed"
    },
    "tags": []
   },
   "outputs": [],
   "source": [
    "from sklearn.metrics import r2_score\n",
    "from sklearn.metrics import mean_absolute_error\n",
    "from sklearn.metrics import mean_squared_error\n",
    "from sklearn.linear_model import LinearRegression\n",
    "from sklearn import linear_model\n",
    "from sklearn.linear_model import Ridge\n",
    "from sklearn.tree import DecisionTreeRegressor\n",
    "from sklearn.ensemble import RandomForestRegressor\n",
    "from sklearn.pipeline import make_pipeline\n",
    "from sklearn.preprocessing import StandardScaler\n",
    "import numpy as np\n",
    "from sklearn.svm import SVR"
   ]
  },
  {
   "cell_type": "code",
   "execution_count": 31,
   "id": "e3dd4d8a",
   "metadata": {
    "execution": {
     "iopub.execute_input": "2023-02-18T17:48:08.761358Z",
     "iopub.status.busy": "2023-02-18T17:48:08.760813Z",
     "iopub.status.idle": "2023-02-18T17:48:08.765636Z",
     "shell.execute_reply": "2023-02-18T17:48:08.764345Z"
    },
    "papermill": {
     "duration": 0.052584,
     "end_time": "2023-02-18T17:48:08.767962",
     "exception": false,
     "start_time": "2023-02-18T17:48:08.715378",
     "status": "completed"
    },
    "tags": []
   },
   "outputs": [],
   "source": [
    "# Linear Regression\n",
    "#LR = LinearRegression()\n",
    "#LR.fit(x_train, y_train)"
   ]
  },
  {
   "cell_type": "code",
   "execution_count": 32,
   "id": "7d3e0944",
   "metadata": {
    "execution": {
     "iopub.execute_input": "2023-02-18T17:48:08.856034Z",
     "iopub.status.busy": "2023-02-18T17:48:08.855574Z",
     "iopub.status.idle": "2023-02-18T17:48:08.898059Z",
     "shell.execute_reply": "2023-02-18T17:48:08.896391Z"
    },
    "papermill": {
     "duration": 0.091549,
     "end_time": "2023-02-18T17:48:08.902477",
     "exception": false,
     "start_time": "2023-02-18T17:48:08.810928",
     "status": "completed"
    },
    "tags": []
   },
   "outputs": [],
   "source": [
    "# Linear Regression\n",
    "\n",
    "LR = LinearRegression()\n",
    "LR.fit(x_train, y_train)\n",
    "LR.score(x_train, y_train)\n",
    "y_pred =LR.predict(x_test)"
   ]
  },
  {
   "cell_type": "code",
   "execution_count": 33,
   "id": "06b2ec84",
   "metadata": {
    "execution": {
     "iopub.execute_input": "2023-02-18T17:48:09.065578Z",
     "iopub.status.busy": "2023-02-18T17:48:09.065158Z",
     "iopub.status.idle": "2023-02-18T17:48:09.074236Z",
     "shell.execute_reply": "2023-02-18T17:48:09.072885Z"
    },
    "papermill": {
     "duration": 0.056411,
     "end_time": "2023-02-18T17:48:09.076803",
     "exception": false,
     "start_time": "2023-02-18T17:48:09.020392",
     "status": "completed"
    },
    "tags": []
   },
   "outputs": [
    {
     "data": {
      "text/plain": [
       "0.7753107229320534"
      ]
     },
     "execution_count": 33,
     "metadata": {},
     "output_type": "execute_result"
    }
   ],
   "source": [
    "r2 = r2_score(y_test, y_pred)\n",
    "r2 \n"
   ]
  },
  {
   "cell_type": "code",
   "execution_count": 34,
   "id": "aac0bacc",
   "metadata": {
    "execution": {
     "iopub.execute_input": "2023-02-18T17:48:09.166378Z",
     "iopub.status.busy": "2023-02-18T17:48:09.165934Z",
     "iopub.status.idle": "2023-02-18T17:48:09.172489Z",
     "shell.execute_reply": "2023-02-18T17:48:09.171189Z"
    },
    "papermill": {
     "duration": 0.053861,
     "end_time": "2023-02-18T17:48:09.174894",
     "exception": false,
     "start_time": "2023-02-18T17:48:09.121033",
     "status": "completed"
    },
    "tags": []
   },
   "outputs": [],
   "source": [
    "# calculate the MAE of the model\n",
    "mae = mean_absolute_error(y_test, y_pred)"
   ]
  },
  {
   "cell_type": "code",
   "execution_count": 35,
   "id": "6530d8e5",
   "metadata": {
    "execution": {
     "iopub.execute_input": "2023-02-18T17:48:09.266764Z",
     "iopub.status.busy": "2023-02-18T17:48:09.264732Z",
     "iopub.status.idle": "2023-02-18T17:48:09.272821Z",
     "shell.execute_reply": "2023-02-18T17:48:09.271397Z"
    },
    "papermill": {
     "duration": 0.057029,
     "end_time": "2023-02-18T17:48:09.275955",
     "exception": false,
     "start_time": "2023-02-18T17:48:09.218926",
     "status": "completed"
    },
    "tags": []
   },
   "outputs": [
    {
     "data": {
      "text/plain": [
       "1.519038644423741"
      ]
     },
     "execution_count": 35,
     "metadata": {},
     "output_type": "execute_result"
    }
   ],
   "source": [
    "mae"
   ]
  },
  {
   "cell_type": "code",
   "execution_count": 36,
   "id": "116081cc",
   "metadata": {
    "execution": {
     "iopub.execute_input": "2023-02-18T17:48:09.367627Z",
     "iopub.status.busy": "2023-02-18T17:48:09.366552Z",
     "iopub.status.idle": "2023-02-18T17:48:09.374027Z",
     "shell.execute_reply": "2023-02-18T17:48:09.373148Z"
    },
    "papermill": {
     "duration": 0.054449,
     "end_time": "2023-02-18T17:48:09.376158",
     "exception": false,
     "start_time": "2023-02-18T17:48:09.321709",
     "status": "completed"
    },
    "tags": []
   },
   "outputs": [
    {
     "data": {
      "text/plain": [
       "8.394303923962779"
      ]
     },
     "execution_count": 36,
     "metadata": {},
     "output_type": "execute_result"
    }
   ],
   "source": [
    "# calculate the MSE of the model\n",
    "mse = mean_squared_error(y_test, y_pred)\n",
    "mse"
   ]
  },
  {
   "cell_type": "code",
   "execution_count": 37,
   "id": "f3d9a108",
   "metadata": {
    "execution": {
     "iopub.execute_input": "2023-02-18T17:48:09.465372Z",
     "iopub.status.busy": "2023-02-18T17:48:09.464645Z",
     "iopub.status.idle": "2023-02-18T17:48:09.470995Z",
     "shell.execute_reply": "2023-02-18T17:48:09.470148Z"
    },
    "papermill": {
     "duration": 0.053232,
     "end_time": "2023-02-18T17:48:09.473047",
     "exception": false,
     "start_time": "2023-02-18T17:48:09.419815",
     "status": "completed"
    },
    "tags": []
   },
   "outputs": [
    {
     "data": {
      "text/plain": [
       "2.8972925161196237"
      ]
     },
     "execution_count": 37,
     "metadata": {},
     "output_type": "execute_result"
    }
   ],
   "source": [
    "# calculate the RMSE of the model\n",
    "rmse = np.sqrt(mse)\n",
    "rmse"
   ]
  },
  {
   "cell_type": "code",
   "execution_count": 38,
   "id": "d5b6dddb",
   "metadata": {
    "execution": {
     "iopub.execute_input": "2023-02-18T17:48:09.562768Z",
     "iopub.status.busy": "2023-02-18T17:48:09.562041Z",
     "iopub.status.idle": "2023-02-18T17:48:09.687928Z",
     "shell.execute_reply": "2023-02-18T17:48:09.686219Z"
    },
    "papermill": {
     "duration": 0.175603,
     "end_time": "2023-02-18T17:48:09.692453",
     "exception": false,
     "start_time": "2023-02-18T17:48:09.516850",
     "status": "completed"
    },
    "tags": []
   },
   "outputs": [],
   "source": [
    "# LASSO\n",
    "L1 = linear_model.Lasso()\n",
    "L1.fit(x_train,y_train)\n",
    "y_pred1 = L1.predict(x_test)"
   ]
  },
  {
   "cell_type": "code",
   "execution_count": 39,
   "id": "3545cff7",
   "metadata": {
    "execution": {
     "iopub.execute_input": "2023-02-18T17:48:09.853048Z",
     "iopub.status.busy": "2023-02-18T17:48:09.852628Z",
     "iopub.status.idle": "2023-02-18T17:48:09.859677Z",
     "shell.execute_reply": "2023-02-18T17:48:09.858748Z"
    },
    "papermill": {
     "duration": 0.054422,
     "end_time": "2023-02-18T17:48:09.861789",
     "exception": false,
     "start_time": "2023-02-18T17:48:09.807367",
     "status": "completed"
    },
    "tags": []
   },
   "outputs": [
    {
     "data": {
      "text/plain": [
       "0.7507020198871027"
      ]
     },
     "execution_count": 39,
     "metadata": {},
     "output_type": "execute_result"
    }
   ],
   "source": [
    "r2 = r2_score(y_test, y_pred1)\n",
    "r2 \n"
   ]
  },
  {
   "cell_type": "code",
   "execution_count": 40,
   "id": "c84ce27f",
   "metadata": {
    "execution": {
     "iopub.execute_input": "2023-02-18T17:48:09.951211Z",
     "iopub.status.busy": "2023-02-18T17:48:09.949779Z",
     "iopub.status.idle": "2023-02-18T17:48:09.957928Z",
     "shell.execute_reply": "2023-02-18T17:48:09.956556Z"
    },
    "papermill": {
     "duration": 0.055298,
     "end_time": "2023-02-18T17:48:09.960694",
     "exception": false,
     "start_time": "2023-02-18T17:48:09.905396",
     "status": "completed"
    },
    "tags": []
   },
   "outputs": [
    {
     "data": {
      "text/plain": [
       "1.5980824331021113"
      ]
     },
     "execution_count": 40,
     "metadata": {},
     "output_type": "execute_result"
    }
   ],
   "source": [
    "# calculate the MAE of the model\n",
    "mae = mean_absolute_error(y_test, y_pred1)\n",
    "mae"
   ]
  },
  {
   "cell_type": "code",
   "execution_count": 41,
   "id": "80de8bd2",
   "metadata": {
    "execution": {
     "iopub.execute_input": "2023-02-18T17:48:10.052119Z",
     "iopub.status.busy": "2023-02-18T17:48:10.050858Z",
     "iopub.status.idle": "2023-02-18T17:48:10.058819Z",
     "shell.execute_reply": "2023-02-18T17:48:10.057738Z"
    },
    "papermill": {
     "duration": 0.054871,
     "end_time": "2023-02-18T17:48:10.061258",
     "exception": false,
     "start_time": "2023-02-18T17:48:10.006387",
     "status": "completed"
    },
    "tags": []
   },
   "outputs": [
    {
     "data": {
      "text/plain": [
       "9.313675490018403"
      ]
     },
     "execution_count": 41,
     "metadata": {},
     "output_type": "execute_result"
    }
   ],
   "source": [
    "# calculate the MSE of the model\n",
    "mse = mean_squared_error(y_test, y_pred1)\n",
    "mse"
   ]
  },
  {
   "cell_type": "code",
   "execution_count": 42,
   "id": "c29405d1",
   "metadata": {
    "execution": {
     "iopub.execute_input": "2023-02-18T17:48:10.151282Z",
     "iopub.status.busy": "2023-02-18T17:48:10.150497Z",
     "iopub.status.idle": "2023-02-18T17:48:10.157658Z",
     "shell.execute_reply": "2023-02-18T17:48:10.156571Z"
    },
    "papermill": {
     "duration": 0.054947,
     "end_time": "2023-02-18T17:48:10.160188",
     "exception": false,
     "start_time": "2023-02-18T17:48:10.105241",
     "status": "completed"
    },
    "tags": []
   },
   "outputs": [
    {
     "data": {
      "text/plain": [
       "3.0518314976450456"
      ]
     },
     "execution_count": 42,
     "metadata": {},
     "output_type": "execute_result"
    }
   ],
   "source": [
    "# calculate the RMSE of the model\n",
    "rmse = np.sqrt(mse)\n",
    "rmse"
   ]
  },
  {
   "cell_type": "code",
   "execution_count": 43,
   "id": "d98882ba",
   "metadata": {
    "execution": {
     "iopub.execute_input": "2023-02-18T17:48:10.251365Z",
     "iopub.status.busy": "2023-02-18T17:48:10.250929Z",
     "iopub.status.idle": "2023-02-18T17:48:10.274113Z",
     "shell.execute_reply": "2023-02-18T17:48:10.272370Z"
    },
    "papermill": {
     "duration": 0.072602,
     "end_time": "2023-02-18T17:48:10.278752",
     "exception": false,
     "start_time": "2023-02-18T17:48:10.206150",
     "status": "completed"
    },
    "tags": []
   },
   "outputs": [],
   "source": [
    "# Ridge\n",
    "L2 = Ridge(alpha=1.0)\n",
    "L2.fit(x_train, y_train) \n",
    "y_pred3 = L2.predict(x_test)"
   ]
  },
  {
   "cell_type": "code",
   "execution_count": 44,
   "id": "d1d06005",
   "metadata": {
    "execution": {
     "iopub.execute_input": "2023-02-18T17:48:10.438460Z",
     "iopub.status.busy": "2023-02-18T17:48:10.438030Z",
     "iopub.status.idle": "2023-02-18T17:48:10.446039Z",
     "shell.execute_reply": "2023-02-18T17:48:10.445080Z"
    },
    "papermill": {
     "duration": 0.054823,
     "end_time": "2023-02-18T17:48:10.448088",
     "exception": false,
     "start_time": "2023-02-18T17:48:10.393265",
     "status": "completed"
    },
    "tags": []
   },
   "outputs": [
    {
     "data": {
      "text/plain": [
       "0.7753072003472253"
      ]
     },
     "execution_count": 44,
     "metadata": {},
     "output_type": "execute_result"
    }
   ],
   "source": [
    "r2 = r2_score(y_test, y_pred3)\n",
    "r2 "
   ]
  },
  {
   "cell_type": "code",
   "execution_count": 45,
   "id": "c6e58474",
   "metadata": {
    "execution": {
     "iopub.execute_input": "2023-02-18T17:48:10.538144Z",
     "iopub.status.busy": "2023-02-18T17:48:10.537234Z",
     "iopub.status.idle": "2023-02-18T17:48:10.546745Z",
     "shell.execute_reply": "2023-02-18T17:48:10.545275Z"
    },
    "papermill": {
     "duration": 0.057589,
     "end_time": "2023-02-18T17:48:10.549255",
     "exception": false,
     "start_time": "2023-02-18T17:48:10.491666",
     "status": "completed"
    },
    "tags": []
   },
   "outputs": [
    {
     "data": {
      "text/plain": [
       "1.5188909684172016"
      ]
     },
     "execution_count": 45,
     "metadata": {},
     "output_type": "execute_result"
    }
   ],
   "source": [
    "# calculate the MAE of the model\n",
    "mae = mean_absolute_error(y_test, y_pred3)\n",
    "mae"
   ]
  },
  {
   "cell_type": "code",
   "execution_count": 46,
   "id": "f772edfc",
   "metadata": {
    "execution": {
     "iopub.execute_input": "2023-02-18T17:48:10.640785Z",
     "iopub.status.busy": "2023-02-18T17:48:10.640031Z",
     "iopub.status.idle": "2023-02-18T17:48:10.647044Z",
     "shell.execute_reply": "2023-02-18T17:48:10.646186Z"
    },
    "papermill": {
     "duration": 0.055137,
     "end_time": "2023-02-18T17:48:10.649324",
     "exception": false,
     "start_time": "2023-02-18T17:48:10.594187",
     "status": "completed"
    },
    "tags": []
   },
   "outputs": [
    {
     "data": {
      "text/plain": [
       "8.394435526360677"
      ]
     },
     "execution_count": 46,
     "metadata": {},
     "output_type": "execute_result"
    }
   ],
   "source": [
    "# calculate the MSE of the model\n",
    "mse = mean_squared_error(y_test, y_pred3)\n",
    "mse"
   ]
  },
  {
   "cell_type": "code",
   "execution_count": 47,
   "id": "d1ac12cf",
   "metadata": {
    "execution": {
     "iopub.execute_input": "2023-02-18T17:48:10.740711Z",
     "iopub.status.busy": "2023-02-18T17:48:10.739652Z",
     "iopub.status.idle": "2023-02-18T17:48:10.746606Z",
     "shell.execute_reply": "2023-02-18T17:48:10.745711Z"
    },
    "papermill": {
     "duration": 0.055382,
     "end_time": "2023-02-18T17:48:10.748641",
     "exception": false,
     "start_time": "2023-02-18T17:48:10.693259",
     "status": "completed"
    },
    "tags": []
   },
   "outputs": [
    {
     "data": {
      "text/plain": [
       "2.8973152273028004"
      ]
     },
     "execution_count": 47,
     "metadata": {},
     "output_type": "execute_result"
    }
   ],
   "source": [
    "# calculate the RMSE of the model\n",
    "rmse = np.sqrt(mse)\n",
    "rmse"
   ]
  },
  {
   "cell_type": "markdown",
   "id": "22018d98",
   "metadata": {
    "papermill": {
     "duration": 0.044091,
     "end_time": "2023-02-18T17:48:10.838357",
     "exception": false,
     "start_time": "2023-02-18T17:48:10.794266",
     "status": "completed"
    },
    "tags": []
   },
   "source": [
    "Client 7 : The Burdett Care Center"
   ]
  },
  {
   "cell_type": "code",
   "execution_count": 48,
   "id": "f43d0368",
   "metadata": {
    "execution": {
     "iopub.execute_input": "2023-02-18T17:48:10.929914Z",
     "iopub.status.busy": "2023-02-18T17:48:10.929420Z",
     "iopub.status.idle": "2023-02-18T17:48:11.099367Z",
     "shell.execute_reply": "2023-02-18T17:48:11.097935Z"
    },
    "papermill": {
     "duration": 0.219362,
     "end_time": "2023-02-18T17:48:11.102152",
     "exception": false,
     "start_time": "2023-02-18T17:48:10.882790",
     "status": "completed"
    },
    "tags": []
   },
   "outputs": [],
   "source": [
    "Burdett_df=df[df[\"Facility Name\"]== 'The Burdett Care Center']"
   ]
  },
  {
   "cell_type": "code",
   "execution_count": 49,
   "id": "2e3090b1",
   "metadata": {
    "execution": {
     "iopub.execute_input": "2023-02-18T17:48:11.193696Z",
     "iopub.status.busy": "2023-02-18T17:48:11.193258Z",
     "iopub.status.idle": "2023-02-18T17:48:11.215127Z",
     "shell.execute_reply": "2023-02-18T17:48:11.213942Z"
    },
    "papermill": {
     "duration": 0.070474,
     "end_time": "2023-02-18T17:48:11.217679",
     "exception": false,
     "start_time": "2023-02-18T17:48:11.147205",
     "status": "completed"
    },
    "tags": []
   },
   "outputs": [
    {
     "name": "stdout",
     "output_type": "stream",
     "text": [
      "<class 'pandas.core.frame.DataFrame'>\n",
      "Int64Index: 2007 entries, 664931 to 666956\n",
      "Data columns (total 28 columns):\n",
      " #   Column                            Non-Null Count  Dtype   \n",
      "---  ------                            --------------  -----   \n",
      " 0   Hospital County                   2007 non-null   category\n",
      " 1   Operating Certificate Number      2007 non-null   float64 \n",
      " 2   Facility Id                       2007 non-null   float64 \n",
      " 3   Facility Name                     2007 non-null   object  \n",
      " 4   Age Group                         2007 non-null   category\n",
      " 5   Zip Code - 3 digits               1990 non-null   category\n",
      " 6   Gender                            2007 non-null   category\n",
      " 7   Race                              2007 non-null   category\n",
      " 8   Ethnicity                         2007 non-null   category\n",
      " 9   Length of Stay                    2007 non-null   category\n",
      " 10  Type of Admission                 2007 non-null   category\n",
      " 11  Patient Disposition               2007 non-null   category\n",
      " 12  Discharge Year                    2007 non-null   int64   \n",
      " 13  CCS Diagnosis Code                2007 non-null   int64   \n",
      " 14  CCS Procedure Code                2007 non-null   int64   \n",
      " 15  APR DRG Code                      2007 non-null   int64   \n",
      " 16  APR MDC Code                      2007 non-null   int64   \n",
      " 17  APR Severity of Illness Code      2007 non-null   int64   \n",
      " 18  APR Risk of Mortality             2007 non-null   category\n",
      " 19  APR Medical Surgical Description  2007 non-null   category\n",
      " 20  Payment Typology 1                2007 non-null   category\n",
      " 21  Payment Typology 2                2007 non-null   category\n",
      " 22  Payment Typology 3                2007 non-null   category\n",
      " 23  Birth Weight                      2007 non-null   int64   \n",
      " 24  Abortion Edit Indicator           2007 non-null   category\n",
      " 25  Emergency Department Indicator    2007 non-null   category\n",
      " 26  Total Charges                     2007 non-null   float64 \n",
      " 27  Total Costs                       2007 non-null   float64 \n",
      "dtypes: category(16), float64(4), int64(7), object(1)\n",
      "memory usage: 255.3+ KB\n"
     ]
    }
   ],
   "source": [
    "Burdett_df.info()"
   ]
  },
  {
   "cell_type": "code",
   "execution_count": 50,
   "id": "b5b88c83",
   "metadata": {
    "execution": {
     "iopub.execute_input": "2023-02-18T17:48:11.312144Z",
     "iopub.status.busy": "2023-02-18T17:48:11.311737Z",
     "iopub.status.idle": "2023-02-18T17:48:11.357197Z",
     "shell.execute_reply": "2023-02-18T17:48:11.356280Z"
    },
    "papermill": {
     "duration": 0.096828,
     "end_time": "2023-02-18T17:48:11.360271",
     "exception": false,
     "start_time": "2023-02-18T17:48:11.263443",
     "status": "completed"
    },
    "tags": []
   },
   "outputs": [
    {
     "name": "stdout",
     "output_type": "stream",
     "text": [
      "Hospital County : 1\n",
      "Rensselaer    2007\n",
      "Albany           0\n",
      "Niagara          0\n",
      "Onondaga         0\n",
      "Ontario          0\n",
      "Name: Hospital County, dtype: int64\n",
      "\n",
      "********************\n",
      "\n",
      "Operating Certificate Number : 1\n",
      "4102004.0    2007\n",
      "Name: Operating Certificate Number, dtype: int64\n",
      "\n",
      "********************\n",
      "\n",
      "Facility Id : 1\n",
      "9250.0    2007\n",
      "Name: Facility Id, dtype: int64\n",
      "\n",
      "********************\n",
      "\n",
      "Facility Name : 1\n",
      "The Burdett Care Center    2007\n",
      "Name: Facility Name, dtype: int64\n",
      "\n",
      "********************\n",
      "\n",
      "Age Group : 3\n",
      "0 to 17        997\n",
      "18 to 29       623\n",
      "30 to 49       387\n",
      "50 to 69         0\n",
      "70 or Older      0\n",
      "Name: Age Group, dtype: int64\n",
      "\n",
      "********************\n",
      "\n",
      "Zip Code - 3 digits : 7\n",
      "121    1309\n",
      "120     466\n",
      "122     110\n",
      "123      50\n",
      "128      45\n",
      "Name: Zip Code - 3 digits, dtype: int64\n",
      "\n",
      "********************\n",
      "\n",
      "Gender : 2\n",
      "F    1498\n",
      "M     509\n",
      "U       0\n",
      "Name: Gender, dtype: int64\n",
      "\n",
      "********************\n",
      "\n",
      "Race : 3\n",
      "White                     1376\n",
      "Other Race                 396\n",
      "Black/African American     235\n",
      "Multi-racial                 0\n",
      "Name: Race, dtype: int64\n",
      "\n",
      "********************\n",
      "\n",
      "Ethnicity : 2\n",
      "Not Span/Hispanic    1922\n",
      "Spanish/Hispanic       85\n",
      "Multi-ethnic            0\n",
      "Unknown                 0\n",
      "Name: Ethnicity, dtype: int64\n",
      "\n",
      "********************\n",
      "\n",
      "Length of Stay : 7\n",
      "2    994\n",
      "3    456\n",
      "1    386\n",
      "4    119\n",
      "5     38\n",
      "Name: Length of Stay, dtype: int64\n",
      "\n",
      "********************\n",
      "\n",
      "Type of Admission : 4\n",
      "Newborn          985\n",
      "Elective         710\n",
      "Urgent           286\n",
      "Emergency         26\n",
      "Not Available      0\n",
      "Name: Type of Admission, dtype: int64\n",
      "\n",
      "********************\n",
      "\n",
      "Patient Disposition : 4\n",
      "Home or Self Care              1963\n",
      "Short-term Hospital              42\n",
      "Expired                           1\n",
      "Left Against Medical Advice       1\n",
      "Another Type Not Listed           0\n",
      "Name: Patient Disposition, dtype: int64\n",
      "\n",
      "********************\n",
      "\n",
      "Discharge Year : 1\n",
      "2015    2007\n",
      "Name: Discharge Year, dtype: int64\n",
      "\n",
      "********************\n",
      "\n",
      "CCS Diagnosis Code : 18\n",
      "218    985\n",
      "195    184\n",
      "191    111\n",
      "185    108\n",
      "192    104\n",
      "Name: CCS Diagnosis Code, dtype: int64\n",
      "\n",
      "********************\n",
      "\n",
      "CCS Procedure Code : 29\n",
      "228    455\n",
      "115    365\n",
      "134    243\n",
      "231    198\n",
      "0      191\n",
      "Name: CCS Procedure Code, dtype: int64\n",
      "\n",
      "********************\n",
      "\n",
      "APR DRG Code : 19\n",
      "640    892\n",
      "560    723\n",
      "540    244\n",
      "581     36\n",
      "626     22\n",
      "Name: APR DRG Code, dtype: int64\n",
      "\n",
      "********************\n",
      "\n",
      "APR MDC Code : 2\n",
      "14    1019\n",
      "15     988\n",
      "Name: APR MDC Code, dtype: int64\n",
      "\n",
      "********************\n",
      "\n",
      "APR Severity of Illness Code : 4\n",
      "1    1372\n",
      "2     559\n",
      "3      74\n",
      "4       2\n",
      "Name: APR Severity of Illness Code, dtype: int64\n",
      "\n",
      "********************\n",
      "\n",
      "APR Risk of Mortality : 4\n",
      "Minor       1995\n",
      "Moderate      10\n",
      "Extreme        1\n",
      "Major          1\n",
      "Name: APR Risk of Mortality, dtype: int64\n",
      "\n",
      "********************\n",
      "\n",
      "APR Medical Surgical Description : 2\n",
      "Medical           1737\n",
      "Surgical           270\n",
      "Not Applicable       0\n",
      "Name: APR Medical Surgical Description, dtype: int64\n",
      "\n",
      "********************\n",
      "\n",
      "Payment Typology 1 : 6\n",
      "Medicaid                    1059\n",
      "Private Health Insurance     549\n",
      "Blue Cross/Blue Shield       289\n",
      "Self-Pay                      52\n",
      "Federal/State/Local/VA        46\n",
      "Name: Payment Typology 1, dtype: int64\n",
      "\n",
      "********************\n",
      "\n",
      "Payment Typology 2 : 6\n",
      "Self-Pay                    1932\n",
      "Medicaid                      61\n",
      "Private Health Insurance       9\n",
      "Blue Cross/Blue Shield         3\n",
      "Medicare                       1\n",
      "Name: Payment Typology 2, dtype: int64\n",
      "\n",
      "********************\n",
      "\n",
      "Payment Typology 3 : 2\n",
      "Self-Pay                     2006\n",
      "Medicaid                        1\n",
      "Blue Cross/Blue Shield          0\n",
      "Department of Corrections       0\n",
      "Federal/State/Local/VA          0\n",
      "Name: Payment Typology 3, dtype: int64\n",
      "\n",
      "********************\n",
      "\n",
      "Birth Weight : 41\n",
      "0       1019\n",
      "3100      85\n",
      "3200      78\n",
      "3300      75\n",
      "3000      74\n",
      "Name: Birth Weight, dtype: int64\n",
      "\n",
      "********************\n",
      "\n",
      "Abortion Edit Indicator : 1\n",
      "N    2007\n",
      "Y       0\n",
      "Name: Abortion Edit Indicator, dtype: int64\n",
      "\n",
      "********************\n",
      "\n",
      "Emergency Department Indicator : 1\n",
      "N    2007\n",
      "Y       0\n",
      "Name: Emergency Department Indicator, dtype: int64\n",
      "\n",
      "********************\n",
      "\n",
      "Total Charges : 1619\n",
      "3356.7    25\n",
      "3035.7    24\n",
      "1757.7    23\n",
      "3060.7    22\n",
      "3185.7    21\n",
      "Name: Total Charges, dtype: int64\n",
      "\n",
      "********************\n",
      "\n",
      "Total Costs : 1637\n",
      "1801.48    24\n",
      "1012.78    23\n",
      "1816.91    22\n",
      "1975.28    21\n",
      "1869.75    20\n",
      "Name: Total Costs, dtype: int64\n",
      "\n",
      "********************\n",
      "\n"
     ]
    }
   ],
   "source": [
    "for col in Burdett_df.columns:\n",
    "    print( col,':', Burdett_df[col].nunique() )#Num of unique values\n",
    "    print(Burdett_df[col].value_counts().nlargest(5)) #Most 5 frequent values\n",
    "    print('\\n' + '*' * 20 + '\\n')"
   ]
  },
  {
   "cell_type": "code",
   "execution_count": 51,
   "id": "056a43e2",
   "metadata": {
    "execution": {
     "iopub.execute_input": "2023-02-18T17:48:11.452104Z",
     "iopub.status.busy": "2023-02-18T17:48:11.451603Z",
     "iopub.status.idle": "2023-02-18T17:48:11.461217Z",
     "shell.execute_reply": "2023-02-18T17:48:11.460318Z"
    },
    "papermill": {
     "duration": 0.058264,
     "end_time": "2023-02-18T17:48:11.463303",
     "exception": false,
     "start_time": "2023-02-18T17:48:11.405039",
     "status": "completed"
    },
    "tags": []
   },
   "outputs": [
    {
     "name": "stderr",
     "output_type": "stream",
     "text": [
      "/opt/conda/lib/python3.7/site-packages/ipykernel_launcher.py:3: SettingWithCopyWarning: \n",
      "A value is trying to be set on a copy of a slice from a DataFrame.\n",
      "Try using .loc[row_indexer,col_indexer] = value instead\n",
      "\n",
      "See the caveats in the documentation: https://pandas.pydata.org/pandas-docs/stable/user_guide/indexing.html#returning-a-view-versus-a-copy\n",
      "  This is separate from the ipykernel package so we can avoid doing imports until\n",
      "/opt/conda/lib/python3.7/site-packages/ipykernel_launcher.py:5: SettingWithCopyWarning: \n",
      "A value is trying to be set on a copy of a slice from a DataFrame.\n",
      "Try using .loc[row_indexer,col_indexer] = value instead\n",
      "\n",
      "See the caveats in the documentation: https://pandas.pydata.org/pandas-docs/stable/user_guide/indexing.html#returning-a-view-versus-a-copy\n",
      "  \"\"\"\n"
     ]
    }
   ],
   "source": [
    " #   simple mapping on binary features.\n",
    "Burdett_df['Abortion Edit Indicator'] = Burdett_df['Abortion Edit Indicator'].apply(\n",
    "     lambda x: 1 if x == 'Y' else (0 if x == 'N' else None))\n",
    "Burdett_df['Emergency Department Indicator'] = Burdett_df['Emergency Department Indicator'].apply(\n",
    "    lambda x: 1 if x == 'Y' else (0 if x == 'N' else None))"
   ]
  },
  {
   "cell_type": "code",
   "execution_count": 52,
   "id": "cb1a5b73",
   "metadata": {
    "execution": {
     "iopub.execute_input": "2023-02-18T17:48:11.555717Z",
     "iopub.status.busy": "2023-02-18T17:48:11.555311Z",
     "iopub.status.idle": "2023-02-18T17:48:11.589307Z",
     "shell.execute_reply": "2023-02-18T17:48:11.588360Z"
    },
    "papermill": {
     "duration": 0.083385,
     "end_time": "2023-02-18T17:48:11.591664",
     "exception": false,
     "start_time": "2023-02-18T17:48:11.508279",
     "status": "completed"
    },
    "tags": []
   },
   "outputs": [
    {
     "data": {
      "text/html": [
       "<div>\n",
       "<style scoped>\n",
       "    .dataframe tbody tr th:only-of-type {\n",
       "        vertical-align: middle;\n",
       "    }\n",
       "\n",
       "    .dataframe tbody tr th {\n",
       "        vertical-align: top;\n",
       "    }\n",
       "\n",
       "    .dataframe thead th {\n",
       "        text-align: right;\n",
       "    }\n",
       "</style>\n",
       "<table border=\"1\" class=\"dataframe\">\n",
       "  <thead>\n",
       "    <tr style=\"text-align: right;\">\n",
       "      <th></th>\n",
       "      <th>Hospital County</th>\n",
       "      <th>Operating Certificate Number</th>\n",
       "      <th>Facility Id</th>\n",
       "      <th>Facility Name</th>\n",
       "      <th>Age Group</th>\n",
       "      <th>Zip Code - 3 digits</th>\n",
       "      <th>Gender</th>\n",
       "      <th>Race</th>\n",
       "      <th>Ethnicity</th>\n",
       "      <th>Length of Stay</th>\n",
       "      <th>...</th>\n",
       "      <th>APR Risk of Mortality</th>\n",
       "      <th>APR Medical Surgical Description</th>\n",
       "      <th>Payment Typology 1</th>\n",
       "      <th>Payment Typology 2</th>\n",
       "      <th>Payment Typology 3</th>\n",
       "      <th>Birth Weight</th>\n",
       "      <th>Abortion Edit Indicator</th>\n",
       "      <th>Emergency Department Indicator</th>\n",
       "      <th>Total Charges</th>\n",
       "      <th>Total Costs</th>\n",
       "    </tr>\n",
       "  </thead>\n",
       "  <tbody>\n",
       "    <tr>\n",
       "      <th>664931</th>\n",
       "      <td>Rensselaer</td>\n",
       "      <td>4102004.0</td>\n",
       "      <td>9250.0</td>\n",
       "      <td>The Burdett Care Center</td>\n",
       "      <td>30 to 49</td>\n",
       "      <td>121</td>\n",
       "      <td>F</td>\n",
       "      <td>White</td>\n",
       "      <td>Not Span/Hispanic</td>\n",
       "      <td>3</td>\n",
       "      <td>...</td>\n",
       "      <td>Minor</td>\n",
       "      <td>Surgical</td>\n",
       "      <td>Private Health Insurance</td>\n",
       "      <td>Self-Pay</td>\n",
       "      <td>Self-Pay</td>\n",
       "      <td>0</td>\n",
       "      <td>0</td>\n",
       "      <td>0</td>\n",
       "      <td>12560.54</td>\n",
       "      <td>7260.24</td>\n",
       "    </tr>\n",
       "    <tr>\n",
       "      <th>664932</th>\n",
       "      <td>Rensselaer</td>\n",
       "      <td>4102004.0</td>\n",
       "      <td>9250.0</td>\n",
       "      <td>The Burdett Care Center</td>\n",
       "      <td>18 to 29</td>\n",
       "      <td>120</td>\n",
       "      <td>F</td>\n",
       "      <td>White</td>\n",
       "      <td>Not Span/Hispanic</td>\n",
       "      <td>2</td>\n",
       "      <td>...</td>\n",
       "      <td>Minor</td>\n",
       "      <td>Medical</td>\n",
       "      <td>Medicaid</td>\n",
       "      <td>Self-Pay</td>\n",
       "      <td>Self-Pay</td>\n",
       "      <td>0</td>\n",
       "      <td>0</td>\n",
       "      <td>0</td>\n",
       "      <td>6672.11</td>\n",
       "      <td>3832.18</td>\n",
       "    </tr>\n",
       "    <tr>\n",
       "      <th>664933</th>\n",
       "      <td>Rensselaer</td>\n",
       "      <td>4102004.0</td>\n",
       "      <td>9250.0</td>\n",
       "      <td>The Burdett Care Center</td>\n",
       "      <td>18 to 29</td>\n",
       "      <td>120</td>\n",
       "      <td>F</td>\n",
       "      <td>White</td>\n",
       "      <td>Not Span/Hispanic</td>\n",
       "      <td>2</td>\n",
       "      <td>...</td>\n",
       "      <td>Minor</td>\n",
       "      <td>Surgical</td>\n",
       "      <td>Medicaid</td>\n",
       "      <td>Self-Pay</td>\n",
       "      <td>Self-Pay</td>\n",
       "      <td>0</td>\n",
       "      <td>0</td>\n",
       "      <td>0</td>\n",
       "      <td>10598.85</td>\n",
       "      <td>5926.81</td>\n",
       "    </tr>\n",
       "    <tr>\n",
       "      <th>664934</th>\n",
       "      <td>Rensselaer</td>\n",
       "      <td>4102004.0</td>\n",
       "      <td>9250.0</td>\n",
       "      <td>The Burdett Care Center</td>\n",
       "      <td>18 to 29</td>\n",
       "      <td>121</td>\n",
       "      <td>F</td>\n",
       "      <td>Black/African American</td>\n",
       "      <td>Not Span/Hispanic</td>\n",
       "      <td>3</td>\n",
       "      <td>...</td>\n",
       "      <td>Minor</td>\n",
       "      <td>Surgical</td>\n",
       "      <td>Blue Cross/Blue Shield</td>\n",
       "      <td>Self-Pay</td>\n",
       "      <td>Self-Pay</td>\n",
       "      <td>0</td>\n",
       "      <td>0</td>\n",
       "      <td>0</td>\n",
       "      <td>17085.67</td>\n",
       "      <td>8402.28</td>\n",
       "    </tr>\n",
       "    <tr>\n",
       "      <th>664935</th>\n",
       "      <td>Rensselaer</td>\n",
       "      <td>4102004.0</td>\n",
       "      <td>9250.0</td>\n",
       "      <td>The Burdett Care Center</td>\n",
       "      <td>18 to 29</td>\n",
       "      <td>120</td>\n",
       "      <td>F</td>\n",
       "      <td>White</td>\n",
       "      <td>Not Span/Hispanic</td>\n",
       "      <td>2</td>\n",
       "      <td>...</td>\n",
       "      <td>Minor</td>\n",
       "      <td>Surgical</td>\n",
       "      <td>Medicaid</td>\n",
       "      <td>Self-Pay</td>\n",
       "      <td>Self-Pay</td>\n",
       "      <td>0</td>\n",
       "      <td>0</td>\n",
       "      <td>0</td>\n",
       "      <td>9914.79</td>\n",
       "      <td>5671.25</td>\n",
       "    </tr>\n",
       "  </tbody>\n",
       "</table>\n",
       "<p>5 rows × 28 columns</p>\n",
       "</div>"
      ],
      "text/plain": [
       "       Hospital County  Operating Certificate Number  Facility Id  \\\n",
       "664931      Rensselaer                     4102004.0       9250.0   \n",
       "664932      Rensselaer                     4102004.0       9250.0   \n",
       "664933      Rensselaer                     4102004.0       9250.0   \n",
       "664934      Rensselaer                     4102004.0       9250.0   \n",
       "664935      Rensselaer                     4102004.0       9250.0   \n",
       "\n",
       "                  Facility Name Age Group Zip Code - 3 digits Gender  \\\n",
       "664931  The Burdett Care Center  30 to 49                 121      F   \n",
       "664932  The Burdett Care Center  18 to 29                 120      F   \n",
       "664933  The Burdett Care Center  18 to 29                 120      F   \n",
       "664934  The Burdett Care Center  18 to 29                 121      F   \n",
       "664935  The Burdett Care Center  18 to 29                 120      F   \n",
       "\n",
       "                          Race          Ethnicity Length of Stay  ...  \\\n",
       "664931                   White  Not Span/Hispanic              3  ...   \n",
       "664932                   White  Not Span/Hispanic              2  ...   \n",
       "664933                   White  Not Span/Hispanic              2  ...   \n",
       "664934  Black/African American  Not Span/Hispanic              3  ...   \n",
       "664935                   White  Not Span/Hispanic              2  ...   \n",
       "\n",
       "       APR Risk of Mortality APR Medical Surgical Description  \\\n",
       "664931                 Minor                         Surgical   \n",
       "664932                 Minor                          Medical   \n",
       "664933                 Minor                         Surgical   \n",
       "664934                 Minor                         Surgical   \n",
       "664935                 Minor                         Surgical   \n",
       "\n",
       "              Payment Typology 1  Payment Typology 2  Payment Typology 3  \\\n",
       "664931  Private Health Insurance            Self-Pay            Self-Pay   \n",
       "664932                  Medicaid            Self-Pay            Self-Pay   \n",
       "664933                  Medicaid            Self-Pay            Self-Pay   \n",
       "664934    Blue Cross/Blue Shield            Self-Pay            Self-Pay   \n",
       "664935                  Medicaid            Self-Pay            Self-Pay   \n",
       "\n",
       "        Birth Weight  Abortion Edit Indicator  Emergency Department Indicator  \\\n",
       "664931             0                        0                               0   \n",
       "664932             0                        0                               0   \n",
       "664933             0                        0                               0   \n",
       "664934             0                        0                               0   \n",
       "664935             0                        0                               0   \n",
       "\n",
       "       Total Charges Total Costs  \n",
       "664931      12560.54     7260.24  \n",
       "664932       6672.11     3832.18  \n",
       "664933      10598.85     5926.81  \n",
       "664934      17085.67     8402.28  \n",
       "664935       9914.79     5671.25  \n",
       "\n",
       "[5 rows x 28 columns]"
      ]
     },
     "execution_count": 52,
     "metadata": {},
     "output_type": "execute_result"
    }
   ],
   "source": [
    "Burdett_df.head()"
   ]
  },
  {
   "cell_type": "code",
   "execution_count": 53,
   "id": "3f6783b8",
   "metadata": {
    "execution": {
     "iopub.execute_input": "2023-02-18T17:48:11.686319Z",
     "iopub.status.busy": "2023-02-18T17:48:11.685923Z",
     "iopub.status.idle": "2023-02-18T17:48:11.694161Z",
     "shell.execute_reply": "2023-02-18T17:48:11.692807Z"
    },
    "papermill": {
     "duration": 0.058995,
     "end_time": "2023-02-18T17:48:11.696622",
     "exception": false,
     "start_time": "2023-02-18T17:48:11.637627",
     "status": "completed"
    },
    "tags": []
   },
   "outputs": [
    {
     "name": "stderr",
     "output_type": "stream",
     "text": [
      "/opt/conda/lib/python3.7/site-packages/ipykernel_launcher.py:1: SettingWithCopyWarning: \n",
      "A value is trying to be set on a copy of a slice from a DataFrame.\n",
      "Try using .loc[row_indexer,col_indexer] = value instead\n",
      "\n",
      "See the caveats in the documentation: https://pandas.pydata.org/pandas-docs/stable/user_guide/indexing.html#returning-a-view-versus-a-copy\n",
      "  \"\"\"Entry point for launching an IPython kernel.\n"
     ]
    }
   ],
   "source": [
    "Burdett_df[\"Length of Stay\"]=pd.to_numeric(Burdett_df[\"Length of Stay\"],errors='coerce')"
   ]
  },
  {
   "cell_type": "code",
   "execution_count": 54,
   "id": "68787d6a",
   "metadata": {
    "execution": {
     "iopub.execute_input": "2023-02-18T17:48:11.788596Z",
     "iopub.status.busy": "2023-02-18T17:48:11.787754Z",
     "iopub.status.idle": "2023-02-18T17:48:11.810980Z",
     "shell.execute_reply": "2023-02-18T17:48:11.809677Z"
    },
    "papermill": {
     "duration": 0.071619,
     "end_time": "2023-02-18T17:48:11.813148",
     "exception": false,
     "start_time": "2023-02-18T17:48:11.741529",
     "status": "completed"
    },
    "tags": []
   },
   "outputs": [
    {
     "name": "stdout",
     "output_type": "stream",
     "text": [
      "<class 'pandas.core.frame.DataFrame'>\n",
      "Int64Index: 2007 entries, 664931 to 666956\n",
      "Data columns (total 28 columns):\n",
      " #   Column                            Non-Null Count  Dtype   \n",
      "---  ------                            --------------  -----   \n",
      " 0   Hospital County                   2007 non-null   category\n",
      " 1   Operating Certificate Number      2007 non-null   float64 \n",
      " 2   Facility Id                       2007 non-null   float64 \n",
      " 3   Facility Name                     2007 non-null   object  \n",
      " 4   Age Group                         2007 non-null   category\n",
      " 5   Zip Code - 3 digits               1990 non-null   category\n",
      " 6   Gender                            2007 non-null   category\n",
      " 7   Race                              2007 non-null   category\n",
      " 8   Ethnicity                         2007 non-null   category\n",
      " 9   Length of Stay                    2007 non-null   int64   \n",
      " 10  Type of Admission                 2007 non-null   category\n",
      " 11  Patient Disposition               2007 non-null   category\n",
      " 12  Discharge Year                    2007 non-null   int64   \n",
      " 13  CCS Diagnosis Code                2007 non-null   int64   \n",
      " 14  CCS Procedure Code                2007 non-null   int64   \n",
      " 15  APR DRG Code                      2007 non-null   int64   \n",
      " 16  APR MDC Code                      2007 non-null   int64   \n",
      " 17  APR Severity of Illness Code      2007 non-null   int64   \n",
      " 18  APR Risk of Mortality             2007 non-null   category\n",
      " 19  APR Medical Surgical Description  2007 non-null   category\n",
      " 20  Payment Typology 1                2007 non-null   category\n",
      " 21  Payment Typology 2                2007 non-null   category\n",
      " 22  Payment Typology 3                2007 non-null   category\n",
      " 23  Birth Weight                      2007 non-null   int64   \n",
      " 24  Abortion Edit Indicator           2007 non-null   category\n",
      " 25  Emergency Department Indicator    2007 non-null   category\n",
      " 26  Total Charges                     2007 non-null   float64 \n",
      " 27  Total Costs                       2007 non-null   float64 \n",
      "dtypes: category(15), float64(4), int64(8), object(1)\n",
      "memory usage: 257.2+ KB\n"
     ]
    }
   ],
   "source": [
    "Burdett_df.info()"
   ]
  },
  {
   "cell_type": "code",
   "execution_count": 55,
   "id": "3ad7313f",
   "metadata": {
    "execution": {
     "iopub.execute_input": "2023-02-18T17:48:11.905066Z",
     "iopub.status.busy": "2023-02-18T17:48:11.904321Z",
     "iopub.status.idle": "2023-02-18T17:48:11.929458Z",
     "shell.execute_reply": "2023-02-18T17:48:11.927944Z"
    },
    "papermill": {
     "duration": 0.073893,
     "end_time": "2023-02-18T17:48:11.932132",
     "exception": false,
     "start_time": "2023-02-18T17:48:11.858239",
     "status": "completed"
    },
    "tags": []
   },
   "outputs": [
    {
     "name": "stderr",
     "output_type": "stream",
     "text": [
      "/opt/conda/lib/python3.7/site-packages/ipykernel_launcher.py:29: SettingWithCopyWarning: \n",
      "A value is trying to be set on a copy of a slice from a DataFrame.\n",
      "Try using .loc[row_indexer,col_indexer] = value instead\n",
      "\n",
      "See the caveats in the documentation: https://pandas.pydata.org/pandas-docs/stable/user_guide/indexing.html#returning-a-view-versus-a-copy\n"
     ]
    }
   ],
   "source": [
    "list=  [ \"Hospital County\",\"Age Group\"\n",
    "    ,\"Gender\",   \n",
    " \"Race\" , \n",
    "\"Ethnicity\", \n",
    "\"Gender\" , \n",
    "\"Race\" ,    \n",
    " \"Ethnicity\" ,        \n",
    " \"Type of Admission\"  ,  \n",
    "  \"Patient Disposition\",      \n",
    " \"Type of Admission\" ,  \n",
    " \"Patient Disposition\"  ,\n",
    "  \"APR Risk of Mortality\" ,   \n",
    " \"APR Medical Surgical Description\" ,\n",
    " \"Payment Typology 1\"   ,   \n",
    " \"Abortion Edit Indicator\"     ,  \n",
    " \"Emergency Department Indicator\",\n",
    "       \"Zip Code - 3 digits\",\"Payment Typology 2\"        \n",
    "   ,\"Payment Typology 3\"]  \n",
    "\n",
    "# Import label encoder\n",
    "from sklearn import preprocessing\n",
    "  \n",
    "# label_encoder object knows how to understand word labels.        \n",
    "   \n",
    "label_encoder = preprocessing.LabelEncoder()\n",
    "  \n",
    "# Encode labels in column 'species'. \n",
    "for col in list :\n",
    "  Burdett_df[col]= label_encoder.fit_transform(Burdett_df[col])"
   ]
  },
  {
   "cell_type": "code",
   "execution_count": 56,
   "id": "7b981d2b",
   "metadata": {
    "execution": {
     "iopub.execute_input": "2023-02-18T17:48:12.027076Z",
     "iopub.status.busy": "2023-02-18T17:48:12.026285Z",
     "iopub.status.idle": "2023-02-18T17:48:12.044469Z",
     "shell.execute_reply": "2023-02-18T17:48:12.043174Z"
    },
    "papermill": {
     "duration": 0.068596,
     "end_time": "2023-02-18T17:48:12.046947",
     "exception": false,
     "start_time": "2023-02-18T17:48:11.978351",
     "status": "completed"
    },
    "tags": []
   },
   "outputs": [
    {
     "name": "stdout",
     "output_type": "stream",
     "text": [
      "<class 'pandas.core.frame.DataFrame'>\n",
      "Int64Index: 2007 entries, 664931 to 666956\n",
      "Data columns (total 28 columns):\n",
      " #   Column                            Non-Null Count  Dtype  \n",
      "---  ------                            --------------  -----  \n",
      " 0   Hospital County                   2007 non-null   int64  \n",
      " 1   Operating Certificate Number      2007 non-null   float64\n",
      " 2   Facility Id                       2007 non-null   float64\n",
      " 3   Facility Name                     2007 non-null   object \n",
      " 4   Age Group                         2007 non-null   int64  \n",
      " 5   Zip Code - 3 digits               2007 non-null   int64  \n",
      " 6   Gender                            2007 non-null   int64  \n",
      " 7   Race                              2007 non-null   int64  \n",
      " 8   Ethnicity                         2007 non-null   int64  \n",
      " 9   Length of Stay                    2007 non-null   int64  \n",
      " 10  Type of Admission                 2007 non-null   int64  \n",
      " 11  Patient Disposition               2007 non-null   int64  \n",
      " 12  Discharge Year                    2007 non-null   int64  \n",
      " 13  CCS Diagnosis Code                2007 non-null   int64  \n",
      " 14  CCS Procedure Code                2007 non-null   int64  \n",
      " 15  APR DRG Code                      2007 non-null   int64  \n",
      " 16  APR MDC Code                      2007 non-null   int64  \n",
      " 17  APR Severity of Illness Code      2007 non-null   int64  \n",
      " 18  APR Risk of Mortality             2007 non-null   int64  \n",
      " 19  APR Medical Surgical Description  2007 non-null   int64  \n",
      " 20  Payment Typology 1                2007 non-null   int64  \n",
      " 21  Payment Typology 2                2007 non-null   int64  \n",
      " 22  Payment Typology 3                2007 non-null   int64  \n",
      " 23  Birth Weight                      2007 non-null   int64  \n",
      " 24  Abortion Edit Indicator           2007 non-null   int64  \n",
      " 25  Emergency Department Indicator    2007 non-null   int64  \n",
      " 26  Total Charges                     2007 non-null   float64\n",
      " 27  Total Costs                       2007 non-null   float64\n",
      "dtypes: float64(4), int64(23), object(1)\n",
      "memory usage: 454.7+ KB\n"
     ]
    }
   ],
   "source": [
    "Burdett_df.info()"
   ]
  },
  {
   "cell_type": "code",
   "execution_count": 57,
   "id": "8a17e1f3",
   "metadata": {
    "execution": {
     "iopub.execute_input": "2023-02-18T17:48:12.141906Z",
     "iopub.status.busy": "2023-02-18T17:48:12.140452Z",
     "iopub.status.idle": "2023-02-18T17:48:12.149026Z",
     "shell.execute_reply": "2023-02-18T17:48:12.147936Z"
    },
    "papermill": {
     "duration": 0.059291,
     "end_time": "2023-02-18T17:48:12.151716",
     "exception": false,
     "start_time": "2023-02-18T17:48:12.092425",
     "status": "completed"
    },
    "tags": []
   },
   "outputs": [],
   "source": [
    "Burdett_df=Burdett_df.drop(\"Facility Name\", axis=1)"
   ]
  },
  {
   "cell_type": "code",
   "execution_count": 58,
   "id": "e9f7c5a9",
   "metadata": {
    "execution": {
     "iopub.execute_input": "2023-02-18T17:48:12.247614Z",
     "iopub.status.busy": "2023-02-18T17:48:12.246022Z",
     "iopub.status.idle": "2023-02-18T17:48:12.254343Z",
     "shell.execute_reply": "2023-02-18T17:48:12.253165Z"
    },
    "papermill": {
     "duration": 0.058426,
     "end_time": "2023-02-18T17:48:12.257124",
     "exception": false,
     "start_time": "2023-02-18T17:48:12.198698",
     "status": "completed"
    },
    "tags": []
   },
   "outputs": [],
   "source": [
    "x = Burdett_df.drop([\"Length of Stay\"], axis =1)\n",
    "y = Burdett_df[\"Length of Stay\"]"
   ]
  },
  {
   "cell_type": "code",
   "execution_count": 59,
   "id": "775894c8",
   "metadata": {
    "execution": {
     "iopub.execute_input": "2023-02-18T17:48:12.354519Z",
     "iopub.status.busy": "2023-02-18T17:48:12.354119Z",
     "iopub.status.idle": "2023-02-18T17:48:12.361960Z",
     "shell.execute_reply": "2023-02-18T17:48:12.360915Z"
    },
    "papermill": {
     "duration": 0.060915,
     "end_time": "2023-02-18T17:48:12.364428",
     "exception": false,
     "start_time": "2023-02-18T17:48:12.303513",
     "status": "completed"
    },
    "tags": []
   },
   "outputs": [],
   "source": [
    "from sklearn.model_selection import train_test_split\n",
    "x_train, x_test, y_train, y_test = train_test_split(x, y, test_size=0.3, random_state=42)"
   ]
  },
  {
   "cell_type": "code",
   "execution_count": 60,
   "id": "2f5f2728",
   "metadata": {
    "execution": {
     "iopub.execute_input": "2023-02-18T17:48:12.458249Z",
     "iopub.status.busy": "2023-02-18T17:48:12.457810Z",
     "iopub.status.idle": "2023-02-18T17:48:12.477063Z",
     "shell.execute_reply": "2023-02-18T17:48:12.475410Z"
    },
    "papermill": {
     "duration": 0.070448,
     "end_time": "2023-02-18T17:48:12.481383",
     "exception": false,
     "start_time": "2023-02-18T17:48:12.410935",
     "status": "completed"
    },
    "tags": []
   },
   "outputs": [],
   "source": [
    "# Linear Regression\n",
    "\n",
    "LR = LinearRegression()\n",
    "LR.fit(x_train, y_train)\n",
    "LR.score(x_train, y_train)\n",
    "y_pred =LR.predict(x_test)"
   ]
  },
  {
   "cell_type": "code",
   "execution_count": 61,
   "id": "e98d3a18",
   "metadata": {
    "execution": {
     "iopub.execute_input": "2023-02-18T17:48:12.645625Z",
     "iopub.status.busy": "2023-02-18T17:48:12.645243Z",
     "iopub.status.idle": "2023-02-18T17:48:12.654117Z",
     "shell.execute_reply": "2023-02-18T17:48:12.652706Z"
    },
    "papermill": {
     "duration": 0.057945,
     "end_time": "2023-02-18T17:48:12.656536",
     "exception": false,
     "start_time": "2023-02-18T17:48:12.598591",
     "status": "completed"
    },
    "tags": []
   },
   "outputs": [
    {
     "data": {
      "text/plain": [
       "0.8723056813594046"
      ]
     },
     "execution_count": 61,
     "metadata": {},
     "output_type": "execute_result"
    }
   ],
   "source": [
    "r2 = r2_score(y_test, y_pred)\n",
    "r2 \n"
   ]
  },
  {
   "cell_type": "code",
   "execution_count": 62,
   "id": "f75e98f9",
   "metadata": {
    "execution": {
     "iopub.execute_input": "2023-02-18T17:48:12.752081Z",
     "iopub.status.busy": "2023-02-18T17:48:12.751598Z",
     "iopub.status.idle": "2023-02-18T17:48:12.760709Z",
     "shell.execute_reply": "2023-02-18T17:48:12.759782Z"
    },
    "papermill": {
     "duration": 0.060057,
     "end_time": "2023-02-18T17:48:12.763253",
     "exception": false,
     "start_time": "2023-02-18T17:48:12.703196",
     "status": "completed"
    },
    "tags": []
   },
   "outputs": [
    {
     "data": {
      "text/plain": [
       "0.23125353938413457"
      ]
     },
     "execution_count": 62,
     "metadata": {},
     "output_type": "execute_result"
    }
   ],
   "source": [
    "# calculate the MAE of the model\n",
    "mae = mean_absolute_error(y_test, y_pred)\n",
    "mae"
   ]
  },
  {
   "cell_type": "code",
   "execution_count": 63,
   "id": "cb0dc4e0",
   "metadata": {
    "execution": {
     "iopub.execute_input": "2023-02-18T17:48:12.858799Z",
     "iopub.status.busy": "2023-02-18T17:48:12.858346Z",
     "iopub.status.idle": "2023-02-18T17:48:12.865424Z",
     "shell.execute_reply": "2023-02-18T17:48:12.864588Z"
    },
    "papermill": {
     "duration": 0.059297,
     "end_time": "2023-02-18T17:48:12.868231",
     "exception": false,
     "start_time": "2023-02-18T17:48:12.808934",
     "status": "completed"
    },
    "tags": []
   },
   "outputs": [
    {
     "data": {
      "text/plain": [
       "0.1265392685345504"
      ]
     },
     "execution_count": 63,
     "metadata": {},
     "output_type": "execute_result"
    }
   ],
   "source": [
    "# calculate the MSE of the model\n",
    "mse = mean_squared_error(y_test, y_pred)\n",
    "mse"
   ]
  },
  {
   "cell_type": "code",
   "execution_count": 64,
   "id": "301aa443",
   "metadata": {
    "execution": {
     "iopub.execute_input": "2023-02-18T17:48:12.963488Z",
     "iopub.status.busy": "2023-02-18T17:48:12.963054Z",
     "iopub.status.idle": "2023-02-18T17:48:12.969315Z",
     "shell.execute_reply": "2023-02-18T17:48:12.968515Z"
    },
    "papermill": {
     "duration": 0.056378,
     "end_time": "2023-02-18T17:48:12.971642",
     "exception": false,
     "start_time": "2023-02-18T17:48:12.915264",
     "status": "completed"
    },
    "tags": []
   },
   "outputs": [
    {
     "data": {
      "text/plain": [
       "0.3557235844508351"
      ]
     },
     "execution_count": 64,
     "metadata": {},
     "output_type": "execute_result"
    }
   ],
   "source": [
    "# calculate the RMSE of the model\n",
    "rmse = np.sqrt(mse)\n",
    "rmse"
   ]
  },
  {
   "cell_type": "code",
   "execution_count": 65,
   "id": "7f773c1a",
   "metadata": {
    "execution": {
     "iopub.execute_input": "2023-02-18T17:48:13.066877Z",
     "iopub.status.busy": "2023-02-18T17:48:13.066208Z",
     "iopub.status.idle": "2023-02-18T17:48:13.093163Z",
     "shell.execute_reply": "2023-02-18T17:48:13.091462Z"
    },
    "papermill": {
     "duration": 0.079319,
     "end_time": "2023-02-18T17:48:13.098225",
     "exception": false,
     "start_time": "2023-02-18T17:48:13.018906",
     "status": "completed"
    },
    "tags": []
   },
   "outputs": [],
   "source": [
    "# LASSO\n",
    "L1 = linear_model.Lasso()\n",
    "L1.fit(x_train,y_train)\n",
    "y_pred1 = L1.predict(x_test)"
   ]
  },
  {
   "cell_type": "code",
   "execution_count": 66,
   "id": "652f5f6f",
   "metadata": {
    "execution": {
     "iopub.execute_input": "2023-02-18T17:48:13.263213Z",
     "iopub.status.busy": "2023-02-18T17:48:13.262749Z",
     "iopub.status.idle": "2023-02-18T17:48:13.270889Z",
     "shell.execute_reply": "2023-02-18T17:48:13.270085Z"
    },
    "papermill": {
     "duration": 0.057796,
     "end_time": "2023-02-18T17:48:13.273285",
     "exception": false,
     "start_time": "2023-02-18T17:48:13.215489",
     "status": "completed"
    },
    "tags": []
   },
   "outputs": [
    {
     "data": {
      "text/plain": [
       "0.3459801547925998"
      ]
     },
     "execution_count": 66,
     "metadata": {},
     "output_type": "execute_result"
    }
   ],
   "source": [
    "# calculate the MAE of the model\n",
    "mae = mean_absolute_error(y_test, y_pred1)\n",
    "mae"
   ]
  },
  {
   "cell_type": "code",
   "execution_count": 67,
   "id": "51258bc3",
   "metadata": {
    "execution": {
     "iopub.execute_input": "2023-02-18T17:48:13.371330Z",
     "iopub.status.busy": "2023-02-18T17:48:13.369950Z",
     "iopub.status.idle": "2023-02-18T17:48:13.377715Z",
     "shell.execute_reply": "2023-02-18T17:48:13.376817Z"
    },
    "papermill": {
     "duration": 0.05722,
     "end_time": "2023-02-18T17:48:13.379831",
     "exception": false,
     "start_time": "2023-02-18T17:48:13.322611",
     "status": "completed"
    },
    "tags": []
   },
   "outputs": [
    {
     "data": {
      "text/plain": [
       "0.3101903514122998"
      ]
     },
     "execution_count": 67,
     "metadata": {},
     "output_type": "execute_result"
    }
   ],
   "source": [
    "# calculate the MSE of the model\n",
    "mse = mean_squared_error(y_test, y_pred1)\n",
    "mse"
   ]
  },
  {
   "cell_type": "code",
   "execution_count": 68,
   "id": "ef063268",
   "metadata": {
    "execution": {
     "iopub.execute_input": "2023-02-18T17:48:13.473286Z",
     "iopub.status.busy": "2023-02-18T17:48:13.472822Z",
     "iopub.status.idle": "2023-02-18T17:48:13.480828Z",
     "shell.execute_reply": "2023-02-18T17:48:13.479543Z"
    },
    "papermill": {
     "duration": 0.057095,
     "end_time": "2023-02-18T17:48:13.483173",
     "exception": false,
     "start_time": "2023-02-18T17:48:13.426078",
     "status": "completed"
    },
    "tags": []
   },
   "outputs": [
    {
     "data": {
      "text/plain": [
       "0.5569473506645846"
      ]
     },
     "execution_count": 68,
     "metadata": {},
     "output_type": "execute_result"
    }
   ],
   "source": [
    "# calculate the RMSE of the model\n",
    "rmse = np.sqrt(mse)\n",
    "rmse"
   ]
  },
  {
   "cell_type": "code",
   "execution_count": 69,
   "id": "40e0c088",
   "metadata": {
    "execution": {
     "iopub.execute_input": "2023-02-18T17:48:13.580293Z",
     "iopub.status.busy": "2023-02-18T17:48:13.579067Z",
     "iopub.status.idle": "2023-02-18T17:48:13.586261Z",
     "shell.execute_reply": "2023-02-18T17:48:13.585472Z"
    },
    "papermill": {
     "duration": 0.056969,
     "end_time": "2023-02-18T17:48:13.588333",
     "exception": false,
     "start_time": "2023-02-18T17:48:13.531364",
     "status": "completed"
    },
    "tags": []
   },
   "outputs": [
    {
     "data": {
      "text/plain": [
       "0.6869782318864484"
      ]
     },
     "execution_count": 69,
     "metadata": {},
     "output_type": "execute_result"
    }
   ],
   "source": [
    "r2 = r2_score(y_test, y_pred1)\n",
    "r2 \n"
   ]
  },
  {
   "cell_type": "code",
   "execution_count": 70,
   "id": "0ba6d32d",
   "metadata": {
    "execution": {
     "iopub.execute_input": "2023-02-18T17:48:13.682223Z",
     "iopub.status.busy": "2023-02-18T17:48:13.681551Z",
     "iopub.status.idle": "2023-02-18T17:48:13.698675Z",
     "shell.execute_reply": "2023-02-18T17:48:13.696988Z"
    },
    "papermill": {
     "duration": 0.06979,
     "end_time": "2023-02-18T17:48:13.703987",
     "exception": false,
     "start_time": "2023-02-18T17:48:13.634197",
     "status": "completed"
    },
    "tags": []
   },
   "outputs": [],
   "source": [
    "# Ridge\n",
    "L2 = Ridge(alpha=1.0)\n",
    "L2.fit(x_train, y_train) \n",
    "y_pred3 = L2.predict(x_test)"
   ]
  },
  {
   "cell_type": "code",
   "execution_count": 71,
   "id": "2b09f22e",
   "metadata": {
    "execution": {
     "iopub.execute_input": "2023-02-18T17:48:13.874752Z",
     "iopub.status.busy": "2023-02-18T17:48:13.874359Z",
     "iopub.status.idle": "2023-02-18T17:48:13.882989Z",
     "shell.execute_reply": "2023-02-18T17:48:13.881871Z"
    },
    "papermill": {
     "duration": 0.059619,
     "end_time": "2023-02-18T17:48:13.885171",
     "exception": false,
     "start_time": "2023-02-18T17:48:13.825552",
     "status": "completed"
    },
    "tags": []
   },
   "outputs": [
    {
     "data": {
      "text/plain": [
       "0.8810130092697138"
      ]
     },
     "execution_count": 71,
     "metadata": {},
     "output_type": "execute_result"
    }
   ],
   "source": [
    "r2 = r2_score(y_test, y_pred3)\n",
    "r2 "
   ]
  },
  {
   "cell_type": "code",
   "execution_count": 72,
   "id": "566c2f84",
   "metadata": {
    "execution": {
     "iopub.execute_input": "2023-02-18T17:48:13.981519Z",
     "iopub.status.busy": "2023-02-18T17:48:13.981122Z",
     "iopub.status.idle": "2023-02-18T17:48:13.989080Z",
     "shell.execute_reply": "2023-02-18T17:48:13.987900Z"
    },
    "papermill": {
     "duration": 0.058222,
     "end_time": "2023-02-18T17:48:13.991363",
     "exception": false,
     "start_time": "2023-02-18T17:48:13.933141",
     "status": "completed"
    },
    "tags": []
   },
   "outputs": [
    {
     "data": {
      "text/plain": [
       "0.2269137110295729"
      ]
     },
     "execution_count": 72,
     "metadata": {},
     "output_type": "execute_result"
    }
   ],
   "source": [
    "# calculate the MAE of the model\n",
    "mae = mean_absolute_error(y_test, y_pred3)\n",
    "mae"
   ]
  },
  {
   "cell_type": "code",
   "execution_count": 73,
   "id": "26668db6",
   "metadata": {
    "execution": {
     "iopub.execute_input": "2023-02-18T17:48:14.087658Z",
     "iopub.status.busy": "2023-02-18T17:48:14.086926Z",
     "iopub.status.idle": "2023-02-18T17:48:14.094527Z",
     "shell.execute_reply": "2023-02-18T17:48:14.093477Z"
    },
    "papermill": {
     "duration": 0.057887,
     "end_time": "2023-02-18T17:48:14.096939",
     "exception": false,
     "start_time": "2023-02-18T17:48:14.039052",
     "status": "completed"
    },
    "tags": []
   },
   "outputs": [
    {
     "data": {
      "text/plain": [
       "0.11791070215516318"
      ]
     },
     "execution_count": 73,
     "metadata": {},
     "output_type": "execute_result"
    }
   ],
   "source": [
    "# calculate the MSE of the model\n",
    "mse = mean_squared_error(y_test, y_pred3)\n",
    "mse"
   ]
  },
  {
   "cell_type": "code",
   "execution_count": 74,
   "id": "d5e8dce8",
   "metadata": {
    "execution": {
     "iopub.execute_input": "2023-02-18T17:48:14.195849Z",
     "iopub.status.busy": "2023-02-18T17:48:14.195418Z",
     "iopub.status.idle": "2023-02-18T17:48:14.202980Z",
     "shell.execute_reply": "2023-02-18T17:48:14.201623Z"
    },
    "papermill": {
     "duration": 0.05837,
     "end_time": "2023-02-18T17:48:14.205328",
     "exception": false,
     "start_time": "2023-02-18T17:48:14.146958",
     "status": "completed"
    },
    "tags": []
   },
   "outputs": [
    {
     "data": {
      "text/plain": [
       "0.3433812781081158"
      ]
     },
     "execution_count": 74,
     "metadata": {},
     "output_type": "execute_result"
    }
   ],
   "source": [
    "# calculate the RMSE of the model\n",
    "rmse = np.sqrt(mse)\n",
    "rmse"
   ]
  },
  {
   "cell_type": "markdown",
   "id": "5a7255ba",
   "metadata": {
    "papermill": {
     "duration": 0.046682,
     "end_time": "2023-02-18T17:48:14.300591",
     "exception": false,
     "start_time": "2023-02-18T17:48:14.253909",
     "status": "completed"
    },
    "tags": []
   },
   "source": [
    "Client 8: Putnam Hospital Center"
   ]
  },
  {
   "cell_type": "code",
   "execution_count": 75,
   "id": "1411a5be",
   "metadata": {
    "execution": {
     "iopub.execute_input": "2023-02-18T17:48:14.398412Z",
     "iopub.status.busy": "2023-02-18T17:48:14.397141Z",
     "iopub.status.idle": "2023-02-18T17:48:14.563962Z",
     "shell.execute_reply": "2023-02-18T17:48:14.563024Z"
    },
    "papermill": {
     "duration": 0.217513,
     "end_time": "2023-02-18T17:48:14.566584",
     "exception": false,
     "start_time": "2023-02-18T17:48:14.349071",
     "status": "completed"
    },
    "tags": []
   },
   "outputs": [],
   "source": [
    "Putnam_df=df[df[\"Facility Name\"]== \"Putnam Hospital Center\"]"
   ]
  },
  {
   "cell_type": "code",
   "execution_count": 76,
   "id": "26c30e4c",
   "metadata": {
    "execution": {
     "iopub.execute_input": "2023-02-18T17:48:14.664698Z",
     "iopub.status.busy": "2023-02-18T17:48:14.663543Z",
     "iopub.status.idle": "2023-02-18T17:48:14.705993Z",
     "shell.execute_reply": "2023-02-18T17:48:14.704506Z"
    },
    "papermill": {
     "duration": 0.0939,
     "end_time": "2023-02-18T17:48:14.708827",
     "exception": false,
     "start_time": "2023-02-18T17:48:14.614927",
     "status": "completed"
    },
    "tags": []
   },
   "outputs": [
    {
     "data": {
      "text/html": [
       "<div>\n",
       "<style scoped>\n",
       "    .dataframe tbody tr th:only-of-type {\n",
       "        vertical-align: middle;\n",
       "    }\n",
       "\n",
       "    .dataframe tbody tr th {\n",
       "        vertical-align: top;\n",
       "    }\n",
       "\n",
       "    .dataframe thead th {\n",
       "        text-align: right;\n",
       "    }\n",
       "</style>\n",
       "<table border=\"1\" class=\"dataframe\">\n",
       "  <thead>\n",
       "    <tr style=\"text-align: right;\">\n",
       "      <th></th>\n",
       "      <th>Hospital County</th>\n",
       "      <th>Operating Certificate Number</th>\n",
       "      <th>Facility Id</th>\n",
       "      <th>Facility Name</th>\n",
       "      <th>Age Group</th>\n",
       "      <th>Zip Code - 3 digits</th>\n",
       "      <th>Gender</th>\n",
       "      <th>Race</th>\n",
       "      <th>Ethnicity</th>\n",
       "      <th>Length of Stay</th>\n",
       "      <th>...</th>\n",
       "      <th>APR Risk of Mortality</th>\n",
       "      <th>APR Medical Surgical Description</th>\n",
       "      <th>Payment Typology 1</th>\n",
       "      <th>Payment Typology 2</th>\n",
       "      <th>Payment Typology 3</th>\n",
       "      <th>Birth Weight</th>\n",
       "      <th>Abortion Edit Indicator</th>\n",
       "      <th>Emergency Department Indicator</th>\n",
       "      <th>Total Charges</th>\n",
       "      <th>Total Costs</th>\n",
       "    </tr>\n",
       "  </thead>\n",
       "  <tbody>\n",
       "    <tr>\n",
       "      <th>700137</th>\n",
       "      <td>Putnam</td>\n",
       "      <td>3950000.0</td>\n",
       "      <td>752.0</td>\n",
       "      <td>Putnam Hospital Center</td>\n",
       "      <td>18 to 29</td>\n",
       "      <td>105</td>\n",
       "      <td>F</td>\n",
       "      <td>Other Race</td>\n",
       "      <td>Unknown</td>\n",
       "      <td>2</td>\n",
       "      <td>...</td>\n",
       "      <td>Minor</td>\n",
       "      <td>Medical</td>\n",
       "      <td>Medicaid</td>\n",
       "      <td>NaN</td>\n",
       "      <td>NaN</td>\n",
       "      <td>0</td>\n",
       "      <td>N</td>\n",
       "      <td>N</td>\n",
       "      <td>7555.49</td>\n",
       "      <td>2300.42</td>\n",
       "    </tr>\n",
       "    <tr>\n",
       "      <th>705867</th>\n",
       "      <td>Putnam</td>\n",
       "      <td>3950000.0</td>\n",
       "      <td>752.0</td>\n",
       "      <td>Putnam Hospital Center</td>\n",
       "      <td>18 to 29</td>\n",
       "      <td>NaN</td>\n",
       "      <td>M</td>\n",
       "      <td>Other Race</td>\n",
       "      <td>Unknown</td>\n",
       "      <td>4</td>\n",
       "      <td>...</td>\n",
       "      <td>Minor</td>\n",
       "      <td>Medical</td>\n",
       "      <td>Medicaid</td>\n",
       "      <td>NaN</td>\n",
       "      <td>NaN</td>\n",
       "      <td>0</td>\n",
       "      <td>N</td>\n",
       "      <td>N</td>\n",
       "      <td>13976.15</td>\n",
       "      <td>4054.04</td>\n",
       "    </tr>\n",
       "    <tr>\n",
       "      <th>706214</th>\n",
       "      <td>Putnam</td>\n",
       "      <td>3950000.0</td>\n",
       "      <td>752.0</td>\n",
       "      <td>Putnam Hospital Center</td>\n",
       "      <td>30 to 49</td>\n",
       "      <td>124</td>\n",
       "      <td>M</td>\n",
       "      <td>White</td>\n",
       "      <td>Not Span/Hispanic</td>\n",
       "      <td>3</td>\n",
       "      <td>...</td>\n",
       "      <td>Minor</td>\n",
       "      <td>Medical</td>\n",
       "      <td>Medicare</td>\n",
       "      <td>Medicaid</td>\n",
       "      <td>NaN</td>\n",
       "      <td>0</td>\n",
       "      <td>N</td>\n",
       "      <td>N</td>\n",
       "      <td>11769.89</td>\n",
       "      <td>3366.13</td>\n",
       "    </tr>\n",
       "    <tr>\n",
       "      <th>706501</th>\n",
       "      <td>Putnam</td>\n",
       "      <td>3950000.0</td>\n",
       "      <td>752.0</td>\n",
       "      <td>Putnam Hospital Center</td>\n",
       "      <td>18 to 29</td>\n",
       "      <td>105</td>\n",
       "      <td>M</td>\n",
       "      <td>Other Race</td>\n",
       "      <td>Unknown</td>\n",
       "      <td>5</td>\n",
       "      <td>...</td>\n",
       "      <td>Minor</td>\n",
       "      <td>Medical</td>\n",
       "      <td>Medicaid</td>\n",
       "      <td>NaN</td>\n",
       "      <td>NaN</td>\n",
       "      <td>0</td>\n",
       "      <td>N</td>\n",
       "      <td>Y</td>\n",
       "      <td>19054.70</td>\n",
       "      <td>5566.92</td>\n",
       "    </tr>\n",
       "    <tr>\n",
       "      <th>706962</th>\n",
       "      <td>Putnam</td>\n",
       "      <td>3950000.0</td>\n",
       "      <td>752.0</td>\n",
       "      <td>Putnam Hospital Center</td>\n",
       "      <td>18 to 29</td>\n",
       "      <td>125</td>\n",
       "      <td>M</td>\n",
       "      <td>White</td>\n",
       "      <td>Not Span/Hispanic</td>\n",
       "      <td>10</td>\n",
       "      <td>...</td>\n",
       "      <td>Minor</td>\n",
       "      <td>Medical</td>\n",
       "      <td>Medicaid</td>\n",
       "      <td>NaN</td>\n",
       "      <td>NaN</td>\n",
       "      <td>0</td>\n",
       "      <td>N</td>\n",
       "      <td>Y</td>\n",
       "      <td>35729.45</td>\n",
       "      <td>10557.89</td>\n",
       "    </tr>\n",
       "    <tr>\n",
       "      <th>...</th>\n",
       "      <td>...</td>\n",
       "      <td>...</td>\n",
       "      <td>...</td>\n",
       "      <td>...</td>\n",
       "      <td>...</td>\n",
       "      <td>...</td>\n",
       "      <td>...</td>\n",
       "      <td>...</td>\n",
       "      <td>...</td>\n",
       "      <td>...</td>\n",
       "      <td>...</td>\n",
       "      <td>...</td>\n",
       "      <td>...</td>\n",
       "      <td>...</td>\n",
       "      <td>...</td>\n",
       "      <td>...</td>\n",
       "      <td>...</td>\n",
       "      <td>...</td>\n",
       "      <td>...</td>\n",
       "      <td>...</td>\n",
       "      <td>...</td>\n",
       "    </tr>\n",
       "    <tr>\n",
       "      <th>745889</th>\n",
       "      <td>Putnam</td>\n",
       "      <td>3950000.0</td>\n",
       "      <td>752.0</td>\n",
       "      <td>Putnam Hospital Center</td>\n",
       "      <td>70 or Older</td>\n",
       "      <td>105</td>\n",
       "      <td>M</td>\n",
       "      <td>White</td>\n",
       "      <td>Not Span/Hispanic</td>\n",
       "      <td>3</td>\n",
       "      <td>...</td>\n",
       "      <td>Major</td>\n",
       "      <td>Medical</td>\n",
       "      <td>Medicare</td>\n",
       "      <td>Blue Cross/Blue Shield</td>\n",
       "      <td>NaN</td>\n",
       "      <td>0</td>\n",
       "      <td>N</td>\n",
       "      <td>Y</td>\n",
       "      <td>26577.54</td>\n",
       "      <td>7658.91</td>\n",
       "    </tr>\n",
       "    <tr>\n",
       "      <th>745890</th>\n",
       "      <td>Putnam</td>\n",
       "      <td>3950000.0</td>\n",
       "      <td>752.0</td>\n",
       "      <td>Putnam Hospital Center</td>\n",
       "      <td>18 to 29</td>\n",
       "      <td>105</td>\n",
       "      <td>F</td>\n",
       "      <td>White</td>\n",
       "      <td>Not Span/Hispanic</td>\n",
       "      <td>1</td>\n",
       "      <td>...</td>\n",
       "      <td>Minor</td>\n",
       "      <td>Medical</td>\n",
       "      <td>Managed Care, Unspecified</td>\n",
       "      <td>NaN</td>\n",
       "      <td>NaN</td>\n",
       "      <td>0</td>\n",
       "      <td>N</td>\n",
       "      <td>Y</td>\n",
       "      <td>11475.15</td>\n",
       "      <td>3425.98</td>\n",
       "    </tr>\n",
       "    <tr>\n",
       "      <th>745891</th>\n",
       "      <td>Putnam</td>\n",
       "      <td>3950000.0</td>\n",
       "      <td>752.0</td>\n",
       "      <td>Putnam Hospital Center</td>\n",
       "      <td>30 to 49</td>\n",
       "      <td>105</td>\n",
       "      <td>M</td>\n",
       "      <td>White</td>\n",
       "      <td>Not Span/Hispanic</td>\n",
       "      <td>2</td>\n",
       "      <td>...</td>\n",
       "      <td>Moderate</td>\n",
       "      <td>Medical</td>\n",
       "      <td>Medicaid</td>\n",
       "      <td>NaN</td>\n",
       "      <td>NaN</td>\n",
       "      <td>0</td>\n",
       "      <td>N</td>\n",
       "      <td>Y</td>\n",
       "      <td>12504.90</td>\n",
       "      <td>3724.22</td>\n",
       "    </tr>\n",
       "    <tr>\n",
       "      <th>745892</th>\n",
       "      <td>Putnam</td>\n",
       "      <td>3950000.0</td>\n",
       "      <td>752.0</td>\n",
       "      <td>Putnam Hospital Center</td>\n",
       "      <td>70 or Older</td>\n",
       "      <td>125</td>\n",
       "      <td>F</td>\n",
       "      <td>White</td>\n",
       "      <td>Not Span/Hispanic</td>\n",
       "      <td>2</td>\n",
       "      <td>...</td>\n",
       "      <td>Minor</td>\n",
       "      <td>Medical</td>\n",
       "      <td>Blue Cross/Blue Shield</td>\n",
       "      <td>NaN</td>\n",
       "      <td>NaN</td>\n",
       "      <td>0</td>\n",
       "      <td>N</td>\n",
       "      <td>Y</td>\n",
       "      <td>15137.95</td>\n",
       "      <td>4513.10</td>\n",
       "    </tr>\n",
       "    <tr>\n",
       "      <th>745893</th>\n",
       "      <td>Putnam</td>\n",
       "      <td>3950000.0</td>\n",
       "      <td>752.0</td>\n",
       "      <td>Putnam Hospital Center</td>\n",
       "      <td>50 to 69</td>\n",
       "      <td>125</td>\n",
       "      <td>M</td>\n",
       "      <td>Black/African American</td>\n",
       "      <td>Not Span/Hispanic</td>\n",
       "      <td>3</td>\n",
       "      <td>...</td>\n",
       "      <td>Moderate</td>\n",
       "      <td>Medical</td>\n",
       "      <td>Medicare</td>\n",
       "      <td>Medicaid</td>\n",
       "      <td>NaN</td>\n",
       "      <td>0</td>\n",
       "      <td>N</td>\n",
       "      <td>Y</td>\n",
       "      <td>23584.89</td>\n",
       "      <td>7014.46</td>\n",
       "    </tr>\n",
       "  </tbody>\n",
       "</table>\n",
       "<p>6785 rows × 28 columns</p>\n",
       "</div>"
      ],
      "text/plain": [
       "       Hospital County  Operating Certificate Number  Facility Id  \\\n",
       "700137          Putnam                     3950000.0        752.0   \n",
       "705867          Putnam                     3950000.0        752.0   \n",
       "706214          Putnam                     3950000.0        752.0   \n",
       "706501          Putnam                     3950000.0        752.0   \n",
       "706962          Putnam                     3950000.0        752.0   \n",
       "...                ...                           ...          ...   \n",
       "745889          Putnam                     3950000.0        752.0   \n",
       "745890          Putnam                     3950000.0        752.0   \n",
       "745891          Putnam                     3950000.0        752.0   \n",
       "745892          Putnam                     3950000.0        752.0   \n",
       "745893          Putnam                     3950000.0        752.0   \n",
       "\n",
       "                 Facility Name    Age Group Zip Code - 3 digits Gender  \\\n",
       "700137  Putnam Hospital Center     18 to 29                 105      F   \n",
       "705867  Putnam Hospital Center     18 to 29                 NaN      M   \n",
       "706214  Putnam Hospital Center     30 to 49                 124      M   \n",
       "706501  Putnam Hospital Center     18 to 29                 105      M   \n",
       "706962  Putnam Hospital Center     18 to 29                 125      M   \n",
       "...                        ...          ...                 ...    ...   \n",
       "745889  Putnam Hospital Center  70 or Older                 105      M   \n",
       "745890  Putnam Hospital Center     18 to 29                 105      F   \n",
       "745891  Putnam Hospital Center     30 to 49                 105      M   \n",
       "745892  Putnam Hospital Center  70 or Older                 125      F   \n",
       "745893  Putnam Hospital Center     50 to 69                 125      M   \n",
       "\n",
       "                          Race          Ethnicity Length of Stay  ...  \\\n",
       "700137              Other Race            Unknown              2  ...   \n",
       "705867              Other Race            Unknown              4  ...   \n",
       "706214                   White  Not Span/Hispanic              3  ...   \n",
       "706501              Other Race            Unknown              5  ...   \n",
       "706962                   White  Not Span/Hispanic             10  ...   \n",
       "...                        ...                ...            ...  ...   \n",
       "745889                   White  Not Span/Hispanic              3  ...   \n",
       "745890                   White  Not Span/Hispanic              1  ...   \n",
       "745891                   White  Not Span/Hispanic              2  ...   \n",
       "745892                   White  Not Span/Hispanic              2  ...   \n",
       "745893  Black/African American  Not Span/Hispanic              3  ...   \n",
       "\n",
       "       APR Risk of Mortality APR Medical Surgical Description  \\\n",
       "700137                 Minor                          Medical   \n",
       "705867                 Minor                          Medical   \n",
       "706214                 Minor                          Medical   \n",
       "706501                 Minor                          Medical   \n",
       "706962                 Minor                          Medical   \n",
       "...                      ...                              ...   \n",
       "745889                 Major                          Medical   \n",
       "745890                 Minor                          Medical   \n",
       "745891              Moderate                          Medical   \n",
       "745892                 Minor                          Medical   \n",
       "745893              Moderate                          Medical   \n",
       "\n",
       "               Payment Typology 1      Payment Typology 2  Payment Typology 3  \\\n",
       "700137                   Medicaid                     NaN                 NaN   \n",
       "705867                   Medicaid                     NaN                 NaN   \n",
       "706214                   Medicare                Medicaid                 NaN   \n",
       "706501                   Medicaid                     NaN                 NaN   \n",
       "706962                   Medicaid                     NaN                 NaN   \n",
       "...                           ...                     ...                 ...   \n",
       "745889                   Medicare  Blue Cross/Blue Shield                 NaN   \n",
       "745890  Managed Care, Unspecified                     NaN                 NaN   \n",
       "745891                   Medicaid                     NaN                 NaN   \n",
       "745892     Blue Cross/Blue Shield                     NaN                 NaN   \n",
       "745893                   Medicare                Medicaid                 NaN   \n",
       "\n",
       "        Birth Weight  Abortion Edit Indicator  Emergency Department Indicator  \\\n",
       "700137             0                        N                               N   \n",
       "705867             0                        N                               N   \n",
       "706214             0                        N                               N   \n",
       "706501             0                        N                               Y   \n",
       "706962             0                        N                               Y   \n",
       "...              ...                      ...                             ...   \n",
       "745889             0                        N                               Y   \n",
       "745890             0                        N                               Y   \n",
       "745891             0                        N                               Y   \n",
       "745892             0                        N                               Y   \n",
       "745893             0                        N                               Y   \n",
       "\n",
       "       Total Charges Total Costs  \n",
       "700137       7555.49     2300.42  \n",
       "705867      13976.15     4054.04  \n",
       "706214      11769.89     3366.13  \n",
       "706501      19054.70     5566.92  \n",
       "706962      35729.45    10557.89  \n",
       "...              ...         ...  \n",
       "745889      26577.54     7658.91  \n",
       "745890      11475.15     3425.98  \n",
       "745891      12504.90     3724.22  \n",
       "745892      15137.95     4513.10  \n",
       "745893      23584.89     7014.46  \n",
       "\n",
       "[6785 rows x 28 columns]"
      ]
     },
     "execution_count": 76,
     "metadata": {},
     "output_type": "execute_result"
    }
   ],
   "source": [
    "Putnam_df\n"
   ]
  },
  {
   "cell_type": "code",
   "execution_count": 77,
   "id": "08db0836",
   "metadata": {
    "execution": {
     "iopub.execute_input": "2023-02-18T17:48:14.807422Z",
     "iopub.status.busy": "2023-02-18T17:48:14.806201Z",
     "iopub.status.idle": "2023-02-18T17:48:14.826851Z",
     "shell.execute_reply": "2023-02-18T17:48:14.825563Z"
    },
    "papermill": {
     "duration": 0.07202,
     "end_time": "2023-02-18T17:48:14.829232",
     "exception": false,
     "start_time": "2023-02-18T17:48:14.757212",
     "status": "completed"
    },
    "tags": []
   },
   "outputs": [
    {
     "name": "stdout",
     "output_type": "stream",
     "text": [
      "<class 'pandas.core.frame.DataFrame'>\n",
      "Int64Index: 6785 entries, 700137 to 745893\n",
      "Data columns (total 28 columns):\n",
      " #   Column                            Non-Null Count  Dtype   \n",
      "---  ------                            --------------  -----   \n",
      " 0   Hospital County                   6785 non-null   category\n",
      " 1   Operating Certificate Number      6785 non-null   float64 \n",
      " 2   Facility Id                       6785 non-null   float64 \n",
      " 3   Facility Name                     6785 non-null   object  \n",
      " 4   Age Group                         6785 non-null   category\n",
      " 5   Zip Code - 3 digits               6684 non-null   category\n",
      " 6   Gender                            6785 non-null   category\n",
      " 7   Race                              6785 non-null   category\n",
      " 8   Ethnicity                         6785 non-null   category\n",
      " 9   Length of Stay                    6785 non-null   category\n",
      " 10  Type of Admission                 6785 non-null   category\n",
      " 11  Patient Disposition               6785 non-null   category\n",
      " 12  Discharge Year                    6785 non-null   int64   \n",
      " 13  CCS Diagnosis Code                6785 non-null   int64   \n",
      " 14  CCS Procedure Code                6785 non-null   int64   \n",
      " 15  APR DRG Code                      6785 non-null   int64   \n",
      " 16  APR MDC Code                      6785 non-null   int64   \n",
      " 17  APR Severity of Illness Code      6785 non-null   int64   \n",
      " 18  APR Risk of Mortality             6785 non-null   category\n",
      " 19  APR Medical Surgical Description  6785 non-null   category\n",
      " 20  Payment Typology 1                6785 non-null   category\n",
      " 21  Payment Typology 2                3195 non-null   category\n",
      " 22  Payment Typology 3                236 non-null    category\n",
      " 23  Birth Weight                      6785 non-null   int64   \n",
      " 24  Abortion Edit Indicator           6785 non-null   category\n",
      " 25  Emergency Department Indicator    6785 non-null   category\n",
      " 26  Total Charges                     6785 non-null   float64 \n",
      " 27  Total Costs                       6785 non-null   float64 \n",
      "dtypes: category(16), float64(4), int64(7), object(1)\n",
      "memory usage: 819.8+ KB\n"
     ]
    }
   ],
   "source": [
    "Putnam_df.info()"
   ]
  },
  {
   "cell_type": "code",
   "execution_count": 78,
   "id": "dbb1c5b7",
   "metadata": {
    "execution": {
     "iopub.execute_input": "2023-02-18T17:48:14.929843Z",
     "iopub.status.busy": "2023-02-18T17:48:14.928603Z",
     "iopub.status.idle": "2023-02-18T17:48:14.939565Z",
     "shell.execute_reply": "2023-02-18T17:48:14.938338Z"
    },
    "papermill": {
     "duration": 0.063486,
     "end_time": "2023-02-18T17:48:14.942197",
     "exception": false,
     "start_time": "2023-02-18T17:48:14.878711",
     "status": "completed"
    },
    "tags": []
   },
   "outputs": [
    {
     "name": "stderr",
     "output_type": "stream",
     "text": [
      "/opt/conda/lib/python3.7/site-packages/ipykernel_launcher.py:3: SettingWithCopyWarning: \n",
      "A value is trying to be set on a copy of a slice from a DataFrame.\n",
      "Try using .loc[row_indexer,col_indexer] = value instead\n",
      "\n",
      "See the caveats in the documentation: https://pandas.pydata.org/pandas-docs/stable/user_guide/indexing.html#returning-a-view-versus-a-copy\n",
      "  This is separate from the ipykernel package so we can avoid doing imports until\n",
      "/opt/conda/lib/python3.7/site-packages/ipykernel_launcher.py:5: SettingWithCopyWarning: \n",
      "A value is trying to be set on a copy of a slice from a DataFrame.\n",
      "Try using .loc[row_indexer,col_indexer] = value instead\n",
      "\n",
      "See the caveats in the documentation: https://pandas.pydata.org/pandas-docs/stable/user_guide/indexing.html#returning-a-view-versus-a-copy\n",
      "  \"\"\"\n"
     ]
    }
   ],
   "source": [
    " #   simple mapping on binary features.\n",
    "Putnam_df['Abortion Edit Indicator'] = Putnam_df['Abortion Edit Indicator'].apply(\n",
    "     lambda x: 1 if x == 'Y' else (0 if x == 'N' else None))\n",
    "Putnam_df['Emergency Department Indicator'] = Putnam_df['Emergency Department Indicator'].apply(\n",
    "    lambda x: 1 if x == 'Y' else (0 if x == 'N' else None))"
   ]
  },
  {
   "cell_type": "code",
   "execution_count": 79,
   "id": "656d47a7",
   "metadata": {
    "execution": {
     "iopub.execute_input": "2023-02-18T17:48:15.040906Z",
     "iopub.status.busy": "2023-02-18T17:48:15.040450Z",
     "iopub.status.idle": "2023-02-18T17:48:15.052038Z",
     "shell.execute_reply": "2023-02-18T17:48:15.050723Z"
    },
    "papermill": {
     "duration": 0.063468,
     "end_time": "2023-02-18T17:48:15.054337",
     "exception": false,
     "start_time": "2023-02-18T17:48:14.990869",
     "status": "completed"
    },
    "tags": []
   },
   "outputs": [
    {
     "name": "stderr",
     "output_type": "stream",
     "text": [
      "/opt/conda/lib/python3.7/site-packages/ipykernel_launcher.py:1: SettingWithCopyWarning: \n",
      "A value is trying to be set on a copy of a slice from a DataFrame.\n",
      "Try using .loc[row_indexer,col_indexer] = value instead\n",
      "\n",
      "See the caveats in the documentation: https://pandas.pydata.org/pandas-docs/stable/user_guide/indexing.html#returning-a-view-versus-a-copy\n",
      "  \"\"\"Entry point for launching an IPython kernel.\n"
     ]
    }
   ],
   "source": [
    "Putnam_df[\"Length of Stay\"]=pd.to_numeric(Putnam_df[\"Length of Stay\"],errors='coerce')"
   ]
  },
  {
   "cell_type": "code",
   "execution_count": 80,
   "id": "e9bce433",
   "metadata": {
    "execution": {
     "iopub.execute_input": "2023-02-18T17:48:15.151276Z",
     "iopub.status.busy": "2023-02-18T17:48:15.150791Z",
     "iopub.status.idle": "2023-02-18T17:48:15.190424Z",
     "shell.execute_reply": "2023-02-18T17:48:15.188948Z"
    },
    "papermill": {
     "duration": 0.091004,
     "end_time": "2023-02-18T17:48:15.192934",
     "exception": false,
     "start_time": "2023-02-18T17:48:15.101930",
     "status": "completed"
    },
    "tags": []
   },
   "outputs": [
    {
     "name": "stderr",
     "output_type": "stream",
     "text": [
      "/opt/conda/lib/python3.7/site-packages/ipykernel_launcher.py:27: SettingWithCopyWarning: \n",
      "A value is trying to be set on a copy of a slice from a DataFrame.\n",
      "Try using .loc[row_indexer,col_indexer] = value instead\n",
      "\n",
      "See the caveats in the documentation: https://pandas.pydata.org/pandas-docs/stable/user_guide/indexing.html#returning-a-view-versus-a-copy\n"
     ]
    }
   ],
   "source": [
    "list=  [ \"Hospital County\",\"Age Group\"\n",
    "    ,\"Gender\",   \n",
    " \"Race\" , \n",
    "\"Ethnicity\", \n",
    "\"Gender\" , \n",
    "\"Race\" ,    \n",
    " \"Ethnicity\" ,        \n",
    " \"Type of Admission\"  ,  \n",
    "  \"Patient Disposition\",      \n",
    " \"Type of Admission\" ,  \n",
    " \"Patient Disposition\"  ,\n",
    "  \"APR Risk of Mortality\" ,   \n",
    " \"APR Medical Surgical Description\" ,\n",
    " \"Payment Typology 1\"   ,   \n",
    " \"Abortion Edit Indicator\"     ,  \n",
    " \"Emergency Department Indicator\",\n",
    "       \"Zip Code - 3 digits\"]  \n",
    "\n",
    "# Import label encoder\n",
    "from sklearn import preprocessing\n",
    "  \n",
    "# label_encoder object knows how to understand word labels.\n",
    "label_encoder = preprocessing.LabelEncoder()\n",
    "  \n",
    "# Encode labels in column 'species'.\n",
    "for col in list :\n",
    "   Putnam_df[col]= label_encoder.fit_transform(Putnam_df[col])"
   ]
  },
  {
   "cell_type": "code",
   "execution_count": 81,
   "id": "30a5dcff",
   "metadata": {
    "execution": {
     "iopub.execute_input": "2023-02-18T17:48:15.294579Z",
     "iopub.status.busy": "2023-02-18T17:48:15.293725Z",
     "iopub.status.idle": "2023-02-18T17:48:15.301799Z",
     "shell.execute_reply": "2023-02-18T17:48:15.300602Z"
    },
    "papermill": {
     "duration": 0.06248,
     "end_time": "2023-02-18T17:48:15.304702",
     "exception": false,
     "start_time": "2023-02-18T17:48:15.242222",
     "status": "completed"
    },
    "tags": []
   },
   "outputs": [],
   "source": [
    "Putnam_df = Putnam_df.drop(\"Facility Name\", axis=1)"
   ]
  },
  {
   "cell_type": "code",
   "execution_count": 82,
   "id": "14b96dea",
   "metadata": {
    "execution": {
     "iopub.execute_input": "2023-02-18T17:48:15.405532Z",
     "iopub.status.busy": "2023-02-18T17:48:15.405098Z",
     "iopub.status.idle": "2023-02-18T17:48:15.411358Z",
     "shell.execute_reply": "2023-02-18T17:48:15.410222Z"
    },
    "papermill": {
     "duration": 0.059088,
     "end_time": "2023-02-18T17:48:15.413597",
     "exception": false,
     "start_time": "2023-02-18T17:48:15.354509",
     "status": "completed"
    },
    "tags": []
   },
   "outputs": [],
   "source": [
    "Putnam_df = Putnam_df.drop([\"Payment Typology 2\",    \"Payment Typology 3\"], axis=1)\n"
   ]
  },
  {
   "cell_type": "code",
   "execution_count": 83,
   "id": "812bac3a",
   "metadata": {
    "execution": {
     "iopub.execute_input": "2023-02-18T17:48:15.510861Z",
     "iopub.status.busy": "2023-02-18T17:48:15.510110Z",
     "iopub.status.idle": "2023-02-18T17:48:15.524529Z",
     "shell.execute_reply": "2023-02-18T17:48:15.523195Z"
    },
    "papermill": {
     "duration": 0.066298,
     "end_time": "2023-02-18T17:48:15.527286",
     "exception": false,
     "start_time": "2023-02-18T17:48:15.460988",
     "status": "completed"
    },
    "tags": []
   },
   "outputs": [
    {
     "name": "stdout",
     "output_type": "stream",
     "text": [
      "<class 'pandas.core.frame.DataFrame'>\n",
      "Int64Index: 6785 entries, 700137 to 745893\n",
      "Data columns (total 25 columns):\n",
      " #   Column                            Non-Null Count  Dtype  \n",
      "---  ------                            --------------  -----  \n",
      " 0   Hospital County                   6785 non-null   int64  \n",
      " 1   Operating Certificate Number      6785 non-null   float64\n",
      " 2   Facility Id                       6785 non-null   float64\n",
      " 3   Age Group                         6785 non-null   int64  \n",
      " 4   Zip Code - 3 digits               6785 non-null   int64  \n",
      " 5   Gender                            6785 non-null   int64  \n",
      " 6   Race                              6785 non-null   int64  \n",
      " 7   Ethnicity                         6785 non-null   int64  \n",
      " 8   Length of Stay                    6785 non-null   int64  \n",
      " 9   Type of Admission                 6785 non-null   int64  \n",
      " 10  Patient Disposition               6785 non-null   int64  \n",
      " 11  Discharge Year                    6785 non-null   int64  \n",
      " 12  CCS Diagnosis Code                6785 non-null   int64  \n",
      " 13  CCS Procedure Code                6785 non-null   int64  \n",
      " 14  APR DRG Code                      6785 non-null   int64  \n",
      " 15  APR MDC Code                      6785 non-null   int64  \n",
      " 16  APR Severity of Illness Code      6785 non-null   int64  \n",
      " 17  APR Risk of Mortality             6785 non-null   int64  \n",
      " 18  APR Medical Surgical Description  6785 non-null   int64  \n",
      " 19  Payment Typology 1                6785 non-null   int64  \n",
      " 20  Birth Weight                      6785 non-null   int64  \n",
      " 21  Abortion Edit Indicator           6785 non-null   int64  \n",
      " 22  Emergency Department Indicator    6785 non-null   int64  \n",
      " 23  Total Charges                     6785 non-null   float64\n",
      " 24  Total Costs                       6785 non-null   float64\n",
      "dtypes: float64(4), int64(21)\n",
      "memory usage: 1.3 MB\n"
     ]
    }
   ],
   "source": [
    "Putnam_df.info()"
   ]
  },
  {
   "cell_type": "code",
   "execution_count": 84,
   "id": "b8718249",
   "metadata": {
    "execution": {
     "iopub.execute_input": "2023-02-18T17:48:15.626625Z",
     "iopub.status.busy": "2023-02-18T17:48:15.626215Z",
     "iopub.status.idle": "2023-02-18T17:48:15.633934Z",
     "shell.execute_reply": "2023-02-18T17:48:15.633082Z"
    },
    "papermill": {
     "duration": 0.061249,
     "end_time": "2023-02-18T17:48:15.636364",
     "exception": false,
     "start_time": "2023-02-18T17:48:15.575115",
     "status": "completed"
    },
    "tags": []
   },
   "outputs": [],
   "source": [
    "x = Putnam_df.drop([\"Length of Stay\"], axis =1)\n",
    "y = Putnam_df[\"Length of Stay\"]"
   ]
  },
  {
   "cell_type": "code",
   "execution_count": 85,
   "id": "58d00d4e",
   "metadata": {
    "execution": {
     "iopub.execute_input": "2023-02-18T17:48:15.741939Z",
     "iopub.status.busy": "2023-02-18T17:48:15.741141Z",
     "iopub.status.idle": "2023-02-18T17:48:15.749584Z",
     "shell.execute_reply": "2023-02-18T17:48:15.748542Z"
    },
    "papermill": {
     "duration": 0.062705,
     "end_time": "2023-02-18T17:48:15.752462",
     "exception": false,
     "start_time": "2023-02-18T17:48:15.689757",
     "status": "completed"
    },
    "tags": []
   },
   "outputs": [],
   "source": [
    "from sklearn.model_selection import train_test_split\n",
    "x_train, x_test, y_train, y_test = train_test_split(x, y, test_size=0.3, random_state=42)"
   ]
  },
  {
   "cell_type": "code",
   "execution_count": 86,
   "id": "69f9e0b9",
   "metadata": {
    "execution": {
     "iopub.execute_input": "2023-02-18T17:48:15.852816Z",
     "iopub.status.busy": "2023-02-18T17:48:15.851998Z",
     "iopub.status.idle": "2023-02-18T17:48:15.874672Z",
     "shell.execute_reply": "2023-02-18T17:48:15.872819Z"
    },
    "papermill": {
     "duration": 0.077052,
     "end_time": "2023-02-18T17:48:15.878985",
     "exception": false,
     "start_time": "2023-02-18T17:48:15.801933",
     "status": "completed"
    },
    "tags": []
   },
   "outputs": [],
   "source": [
    "# Linear Regression\n",
    "\n",
    "LR = LinearRegression()\n",
    "LR.fit(x_train, y_train)\n",
    "LR.score(x_train, y_train)\n",
    "y_pred =LR.predict(x_test)"
   ]
  },
  {
   "cell_type": "code",
   "execution_count": 87,
   "id": "54ac5191",
   "metadata": {
    "execution": {
     "iopub.execute_input": "2023-02-18T17:48:16.076769Z",
     "iopub.status.busy": "2023-02-18T17:48:16.075901Z",
     "iopub.status.idle": "2023-02-18T17:48:16.084466Z",
     "shell.execute_reply": "2023-02-18T17:48:16.083320Z"
    },
    "papermill": {
     "duration": 0.073482,
     "end_time": "2023-02-18T17:48:16.086983",
     "exception": false,
     "start_time": "2023-02-18T17:48:16.013501",
     "status": "completed"
    },
    "tags": []
   },
   "outputs": [
    {
     "data": {
      "text/plain": [
       "0.6833681470945818"
      ]
     },
     "execution_count": 87,
     "metadata": {},
     "output_type": "execute_result"
    }
   ],
   "source": [
    "r2 = r2_score(y_test, y_pred)\n",
    "r2 \n"
   ]
  },
  {
   "cell_type": "code",
   "execution_count": 88,
   "id": "f0ea4fe9",
   "metadata": {
    "execution": {
     "iopub.execute_input": "2023-02-18T17:48:16.185550Z",
     "iopub.status.busy": "2023-02-18T17:48:16.185110Z",
     "iopub.status.idle": "2023-02-18T17:48:16.192518Z",
     "shell.execute_reply": "2023-02-18T17:48:16.191664Z"
    },
    "papermill": {
     "duration": 0.05917,
     "end_time": "2023-02-18T17:48:16.194877",
     "exception": false,
     "start_time": "2023-02-18T17:48:16.135707",
     "status": "completed"
    },
    "tags": []
   },
   "outputs": [
    {
     "data": {
      "text/plain": [
       "1.4289408471215483"
      ]
     },
     "execution_count": 88,
     "metadata": {},
     "output_type": "execute_result"
    }
   ],
   "source": [
    "# calculate the MAE of the model\n",
    "mae = mean_absolute_error(y_test, y_pred)\n",
    "mae"
   ]
  },
  {
   "cell_type": "code",
   "execution_count": 89,
   "id": "3f831dbe",
   "metadata": {
    "execution": {
     "iopub.execute_input": "2023-02-18T17:48:16.294335Z",
     "iopub.status.busy": "2023-02-18T17:48:16.293645Z",
     "iopub.status.idle": "2023-02-18T17:48:16.300500Z",
     "shell.execute_reply": "2023-02-18T17:48:16.299388Z"
    },
    "papermill": {
     "duration": 0.058757,
     "end_time": "2023-02-18T17:48:16.302722",
     "exception": false,
     "start_time": "2023-02-18T17:48:16.243965",
     "status": "completed"
    },
    "tags": []
   },
   "outputs": [
    {
     "data": {
      "text/plain": [
       "6.810081276526211"
      ]
     },
     "execution_count": 89,
     "metadata": {},
     "output_type": "execute_result"
    }
   ],
   "source": [
    "# calculate the MSE of the model\n",
    "mse = mean_squared_error(y_test, y_pred)\n",
    "mse"
   ]
  },
  {
   "cell_type": "code",
   "execution_count": 90,
   "id": "ca53f411",
   "metadata": {
    "execution": {
     "iopub.execute_input": "2023-02-18T17:48:16.402559Z",
     "iopub.status.busy": "2023-02-18T17:48:16.402113Z",
     "iopub.status.idle": "2023-02-18T17:48:16.408807Z",
     "shell.execute_reply": "2023-02-18T17:48:16.407976Z"
    },
    "papermill": {
     "duration": 0.060058,
     "end_time": "2023-02-18T17:48:16.410992",
     "exception": false,
     "start_time": "2023-02-18T17:48:16.350934",
     "status": "completed"
    },
    "tags": []
   },
   "outputs": [
    {
     "data": {
      "text/plain": [
       "2.609613242709772"
      ]
     },
     "execution_count": 90,
     "metadata": {},
     "output_type": "execute_result"
    }
   ],
   "source": [
    "# calculate the RMSE of the model\n",
    "rmse = np.sqrt(mse)\n",
    "rmse"
   ]
  },
  {
   "cell_type": "code",
   "execution_count": 91,
   "id": "485c5865",
   "metadata": {
    "execution": {
     "iopub.execute_input": "2023-02-18T17:48:16.510777Z",
     "iopub.status.busy": "2023-02-18T17:48:16.510099Z",
     "iopub.status.idle": "2023-02-18T17:48:16.610218Z",
     "shell.execute_reply": "2023-02-18T17:48:16.608553Z"
    },
    "papermill": {
     "duration": 0.156037,
     "end_time": "2023-02-18T17:48:16.614927",
     "exception": false,
     "start_time": "2023-02-18T17:48:16.458890",
     "status": "completed"
    },
    "tags": []
   },
   "outputs": [],
   "source": [
    "# LASSO\n",
    "L1 = linear_model.Lasso()\n",
    "L1.fit(x_train,y_train)\n",
    "y_pred1 = L1.predict(x_test)"
   ]
  },
  {
   "cell_type": "code",
   "execution_count": 92,
   "id": "03de32cc",
   "metadata": {
    "execution": {
     "iopub.execute_input": "2023-02-18T17:48:16.797619Z",
     "iopub.status.busy": "2023-02-18T17:48:16.797232Z",
     "iopub.status.idle": "2023-02-18T17:48:16.804350Z",
     "shell.execute_reply": "2023-02-18T17:48:16.803472Z"
    },
    "papermill": {
     "duration": 0.072323,
     "end_time": "2023-02-18T17:48:16.806906",
     "exception": false,
     "start_time": "2023-02-18T17:48:16.734583",
     "status": "completed"
    },
    "tags": []
   },
   "outputs": [
    {
     "data": {
      "text/plain": [
       "0.6496057028620932"
      ]
     },
     "execution_count": 92,
     "metadata": {},
     "output_type": "execute_result"
    }
   ],
   "source": [
    "r2 = r2_score(y_test, y_pred1)\n",
    "r2 "
   ]
  },
  {
   "cell_type": "code",
   "execution_count": 93,
   "id": "a56a8432",
   "metadata": {
    "execution": {
     "iopub.execute_input": "2023-02-18T17:48:16.917186Z",
     "iopub.status.busy": "2023-02-18T17:48:16.916210Z",
     "iopub.status.idle": "2023-02-18T17:48:16.925384Z",
     "shell.execute_reply": "2023-02-18T17:48:16.924101Z"
    },
    "papermill": {
     "duration": 0.063511,
     "end_time": "2023-02-18T17:48:16.927850",
     "exception": false,
     "start_time": "2023-02-18T17:48:16.864339",
     "status": "completed"
    },
    "tags": []
   },
   "outputs": [
    {
     "data": {
      "text/plain": [
       "1.5599579330447522"
      ]
     },
     "execution_count": 93,
     "metadata": {},
     "output_type": "execute_result"
    }
   ],
   "source": [
    "# calculate the MAE of the model\n",
    "mae = mean_absolute_error(y_test, y_pred1)\n",
    "mae"
   ]
  },
  {
   "cell_type": "code",
   "execution_count": 94,
   "id": "45043577",
   "metadata": {
    "execution": {
     "iopub.execute_input": "2023-02-18T17:48:17.035200Z",
     "iopub.status.busy": "2023-02-18T17:48:17.034247Z",
     "iopub.status.idle": "2023-02-18T17:48:17.043386Z",
     "shell.execute_reply": "2023-02-18T17:48:17.042329Z"
    },
    "papermill": {
     "duration": 0.062945,
     "end_time": "2023-02-18T17:48:17.045850",
     "exception": false,
     "start_time": "2023-02-18T17:48:16.982905",
     "status": "completed"
    },
    "tags": []
   },
   "outputs": [
    {
     "data": {
      "text/plain": [
       "7.536240022740899"
      ]
     },
     "execution_count": 94,
     "metadata": {},
     "output_type": "execute_result"
    }
   ],
   "source": [
    "# calculate the MSE of the model\n",
    "mse = mean_squared_error(y_test, y_pred1)\n",
    "mse"
   ]
  },
  {
   "cell_type": "code",
   "execution_count": 95,
   "id": "aba37e7b",
   "metadata": {
    "execution": {
     "iopub.execute_input": "2023-02-18T17:48:17.157441Z",
     "iopub.status.busy": "2023-02-18T17:48:17.156427Z",
     "iopub.status.idle": "2023-02-18T17:48:17.164782Z",
     "shell.execute_reply": "2023-02-18T17:48:17.163228Z"
    },
    "papermill": {
     "duration": 0.07252,
     "end_time": "2023-02-18T17:48:17.167582",
     "exception": false,
     "start_time": "2023-02-18T17:48:17.095062",
     "status": "completed"
    },
    "tags": []
   },
   "outputs": [
    {
     "data": {
      "text/plain": [
       "2.745221306696584"
      ]
     },
     "execution_count": 95,
     "metadata": {},
     "output_type": "execute_result"
    }
   ],
   "source": [
    "# calculate the RMSE of the model\n",
    "rmse = np.sqrt(mse)\n",
    "rmse"
   ]
  },
  {
   "cell_type": "code",
   "execution_count": 96,
   "id": "90199159",
   "metadata": {
    "execution": {
     "iopub.execute_input": "2023-02-18T17:48:17.269953Z",
     "iopub.status.busy": "2023-02-18T17:48:17.269028Z",
     "iopub.status.idle": "2023-02-18T17:48:17.293181Z",
     "shell.execute_reply": "2023-02-18T17:48:17.291899Z"
    },
    "papermill": {
     "duration": 0.08078,
     "end_time": "2023-02-18T17:48:17.297652",
     "exception": false,
     "start_time": "2023-02-18T17:48:17.216872",
     "status": "completed"
    },
    "tags": []
   },
   "outputs": [],
   "source": [
    "# Ridge\n",
    "L2 = Ridge(alpha=1.0)\n",
    "L2.fit(x_train, y_train) \n",
    "y_pred3 = L2.predict(x_test)"
   ]
  },
  {
   "cell_type": "code",
   "execution_count": 97,
   "id": "94ec5e19",
   "metadata": {
    "execution": {
     "iopub.execute_input": "2023-02-18T17:48:17.487325Z",
     "iopub.status.busy": "2023-02-18T17:48:17.486809Z",
     "iopub.status.idle": "2023-02-18T17:48:17.495262Z",
     "shell.execute_reply": "2023-02-18T17:48:17.494399Z"
    },
    "papermill": {
     "duration": 0.06139,
     "end_time": "2023-02-18T17:48:17.497939",
     "exception": false,
     "start_time": "2023-02-18T17:48:17.436549",
     "status": "completed"
    },
    "tags": []
   },
   "outputs": [
    {
     "data": {
      "text/plain": [
       "0.6833499677327529"
      ]
     },
     "execution_count": 97,
     "metadata": {},
     "output_type": "execute_result"
    }
   ],
   "source": [
    "r2 = r2_score(y_test, y_pred3)\n",
    "r2 "
   ]
  },
  {
   "cell_type": "code",
   "execution_count": 98,
   "id": "3c24814f",
   "metadata": {
    "execution": {
     "iopub.execute_input": "2023-02-18T17:48:17.601069Z",
     "iopub.status.busy": "2023-02-18T17:48:17.600135Z",
     "iopub.status.idle": "2023-02-18T17:48:17.608560Z",
     "shell.execute_reply": "2023-02-18T17:48:17.607513Z"
    },
    "papermill": {
     "duration": 0.062048,
     "end_time": "2023-02-18T17:48:17.610930",
     "exception": false,
     "start_time": "2023-02-18T17:48:17.548882",
     "status": "completed"
    },
    "tags": []
   },
   "outputs": [
    {
     "data": {
      "text/plain": [
       "1.4289867059435022"
      ]
     },
     "execution_count": 98,
     "metadata": {},
     "output_type": "execute_result"
    }
   ],
   "source": [
    "# calculate the MAE of the model\n",
    "mae = mean_absolute_error(y_test, y_pred3)\n",
    "mae"
   ]
  },
  {
   "cell_type": "code",
   "execution_count": 99,
   "id": "9fbad331",
   "metadata": {
    "execution": {
     "iopub.execute_input": "2023-02-18T17:48:17.716326Z",
     "iopub.status.busy": "2023-02-18T17:48:17.715494Z",
     "iopub.status.idle": "2023-02-18T17:48:17.723515Z",
     "shell.execute_reply": "2023-02-18T17:48:17.722490Z"
    },
    "papermill": {
     "duration": 0.064085,
     "end_time": "2023-02-18T17:48:17.725814",
     "exception": false,
     "start_time": "2023-02-18T17:48:17.661729",
     "status": "completed"
    },
    "tags": []
   },
   "outputs": [
    {
     "data": {
      "text/plain": [
       "6.810472276138141"
      ]
     },
     "execution_count": 99,
     "metadata": {},
     "output_type": "execute_result"
    }
   ],
   "source": [
    "# calculate the MSE of the model\n",
    "mse = mean_squared_error(y_test, y_pred3)\n",
    "mse"
   ]
  },
  {
   "cell_type": "code",
   "execution_count": 100,
   "id": "07210504",
   "metadata": {
    "execution": {
     "iopub.execute_input": "2023-02-18T17:48:17.831033Z",
     "iopub.status.busy": "2023-02-18T17:48:17.829997Z",
     "iopub.status.idle": "2023-02-18T17:48:17.836860Z",
     "shell.execute_reply": "2023-02-18T17:48:17.835614Z"
    },
    "papermill": {
     "duration": 0.060847,
     "end_time": "2023-02-18T17:48:17.839644",
     "exception": false,
     "start_time": "2023-02-18T17:48:17.778797",
     "status": "completed"
    },
    "tags": []
   },
   "outputs": [
    {
     "data": {
      "text/plain": [
       "2.609688156875863"
      ]
     },
     "execution_count": 100,
     "metadata": {},
     "output_type": "execute_result"
    }
   ],
   "source": [
    "# calculate the RMSE of the model\n",
    "rmse = np.sqrt(mse)\n",
    "rmse"
   ]
  },
  {
   "cell_type": "code",
   "execution_count": 101,
   "id": "835ec2fc",
   "metadata": {
    "execution": {
     "iopub.execute_input": "2023-02-18T17:48:17.942368Z",
     "iopub.status.busy": "2023-02-18T17:48:17.941882Z",
     "iopub.status.idle": "2023-02-18T17:48:18.048993Z",
     "shell.execute_reply": "2023-02-18T17:48:18.047239Z"
    },
    "papermill": {
     "duration": 0.163564,
     "end_time": "2023-02-18T17:48:18.053860",
     "exception": false,
     "start_time": "2023-02-18T17:48:17.890296",
     "status": "completed"
    },
    "tags": []
   },
   "outputs": [],
   "source": [
    "# LASSO\n",
    "L1 = linear_model.Lasso()\n",
    "L1.fit(x_train,y_train)\n",
    "y_pred1 = L1.predict(x_test)"
   ]
  },
  {
   "cell_type": "code",
   "execution_count": 102,
   "id": "c4aa14ba",
   "metadata": {
    "execution": {
     "iopub.execute_input": "2023-02-18T17:48:18.226293Z",
     "iopub.status.busy": "2023-02-18T17:48:18.225867Z",
     "iopub.status.idle": "2023-02-18T17:48:18.235813Z",
     "shell.execute_reply": "2023-02-18T17:48:18.234682Z"
    },
    "papermill": {
     "duration": 0.063872,
     "end_time": "2023-02-18T17:48:18.238317",
     "exception": false,
     "start_time": "2023-02-18T17:48:18.174445",
     "status": "completed"
    },
    "tags": []
   },
   "outputs": [
    {
     "data": {
      "text/plain": [
       "0.6496057028620932"
      ]
     },
     "execution_count": 102,
     "metadata": {},
     "output_type": "execute_result"
    }
   ],
   "source": [
    "r2 = r2_score(y_test, y_pred1)\n",
    "r2 \n"
   ]
  },
  {
   "cell_type": "code",
   "execution_count": 103,
   "id": "2fdef09b",
   "metadata": {
    "execution": {
     "iopub.execute_input": "2023-02-18T17:48:18.338881Z",
     "iopub.status.busy": "2023-02-18T17:48:18.338440Z",
     "iopub.status.idle": "2023-02-18T17:48:18.345894Z",
     "shell.execute_reply": "2023-02-18T17:48:18.345026Z"
    },
    "papermill": {
     "duration": 0.060209,
     "end_time": "2023-02-18T17:48:18.347930",
     "exception": false,
     "start_time": "2023-02-18T17:48:18.287721",
     "status": "completed"
    },
    "tags": []
   },
   "outputs": [
    {
     "data": {
      "text/plain": [
       "1.5599579330447522"
      ]
     },
     "execution_count": 103,
     "metadata": {},
     "output_type": "execute_result"
    }
   ],
   "source": [
    "# calculate the MAE of the model\n",
    "mae = mean_absolute_error(y_test, y_pred1)\n",
    "mae"
   ]
  },
  {
   "cell_type": "code",
   "execution_count": 104,
   "id": "332fd52d",
   "metadata": {
    "execution": {
     "iopub.execute_input": "2023-02-18T17:48:18.449024Z",
     "iopub.status.busy": "2023-02-18T17:48:18.448273Z",
     "iopub.status.idle": "2023-02-18T17:48:18.455368Z",
     "shell.execute_reply": "2023-02-18T17:48:18.454363Z"
    },
    "papermill": {
     "duration": 0.059532,
     "end_time": "2023-02-18T17:48:18.457567",
     "exception": false,
     "start_time": "2023-02-18T17:48:18.398035",
     "status": "completed"
    },
    "tags": []
   },
   "outputs": [
    {
     "data": {
      "text/plain": [
       "7.536240022740899"
      ]
     },
     "execution_count": 104,
     "metadata": {},
     "output_type": "execute_result"
    }
   ],
   "source": [
    "# calculate the MSE of the model\n",
    "mse = mean_squared_error(y_test, y_pred1)\n",
    "mse"
   ]
  },
  {
   "cell_type": "code",
   "execution_count": 105,
   "id": "266528ad",
   "metadata": {
    "execution": {
     "iopub.execute_input": "2023-02-18T17:48:18.557961Z",
     "iopub.status.busy": "2023-02-18T17:48:18.557213Z",
     "iopub.status.idle": "2023-02-18T17:48:18.563617Z",
     "shell.execute_reply": "2023-02-18T17:48:18.562720Z"
    },
    "papermill": {
     "duration": 0.059119,
     "end_time": "2023-02-18T17:48:18.565644",
     "exception": false,
     "start_time": "2023-02-18T17:48:18.506525",
     "status": "completed"
    },
    "tags": []
   },
   "outputs": [
    {
     "data": {
      "text/plain": [
       "2.745221306696584"
      ]
     },
     "execution_count": 105,
     "metadata": {},
     "output_type": "execute_result"
    }
   ],
   "source": [
    "# calculate the RMSE of the model\n",
    "rmse = np.sqrt(mse)\n",
    "rmse"
   ]
  },
  {
   "cell_type": "markdown",
   "id": "4b95c0d4",
   "metadata": {
    "papermill": {
     "duration": 0.048843,
     "end_time": "2023-02-18T17:48:18.663769",
     "exception": false,
     "start_time": "2023-02-18T17:48:18.614926",
     "status": "completed"
    },
    "tags": []
   },
   "source": [
    "Client 9: Nyack Hospital"
   ]
  },
  {
   "cell_type": "code",
   "execution_count": 106,
   "id": "7bf7b355",
   "metadata": {
    "execution": {
     "iopub.execute_input": "2023-02-18T17:48:18.765739Z",
     "iopub.status.busy": "2023-02-18T17:48:18.764989Z",
     "iopub.status.idle": "2023-02-18T17:48:18.934762Z",
     "shell.execute_reply": "2023-02-18T17:48:18.932280Z"
    },
    "papermill": {
     "duration": 0.224622,
     "end_time": "2023-02-18T17:48:18.937589",
     "exception": false,
     "start_time": "2023-02-18T17:48:18.712967",
     "status": "completed"
    },
    "tags": []
   },
   "outputs": [],
   "source": [
    "Nyack_df=df[df[\"Facility Name\"]== 'Nyack Hospital']"
   ]
  },
  {
   "cell_type": "code",
   "execution_count": 107,
   "id": "2adb3856",
   "metadata": {
    "execution": {
     "iopub.execute_input": "2023-02-18T17:48:19.042326Z",
     "iopub.status.busy": "2023-02-18T17:48:19.041278Z",
     "iopub.status.idle": "2023-02-18T17:48:19.061868Z",
     "shell.execute_reply": "2023-02-18T17:48:19.060262Z"
    },
    "papermill": {
     "duration": 0.074136,
     "end_time": "2023-02-18T17:48:19.064434",
     "exception": false,
     "start_time": "2023-02-18T17:48:18.990298",
     "status": "completed"
    },
    "tags": []
   },
   "outputs": [
    {
     "name": "stdout",
     "output_type": "stream",
     "text": [
      "<class 'pandas.core.frame.DataFrame'>\n",
      "Int64Index: 13459 entries, 700257 to 761325\n",
      "Data columns (total 28 columns):\n",
      " #   Column                            Non-Null Count  Dtype   \n",
      "---  ------                            --------------  -----   \n",
      " 0   Hospital County                   13459 non-null  category\n",
      " 1   Operating Certificate Number      13459 non-null  float64 \n",
      " 2   Facility Id                       13459 non-null  float64 \n",
      " 3   Facility Name                     13459 non-null  object  \n",
      " 4   Age Group                         13459 non-null  category\n",
      " 5   Zip Code - 3 digits               13327 non-null  category\n",
      " 6   Gender                            13459 non-null  category\n",
      " 7   Race                              13459 non-null  category\n",
      " 8   Ethnicity                         13459 non-null  category\n",
      " 9   Length of Stay                    13459 non-null  category\n",
      " 10  Type of Admission                 13459 non-null  category\n",
      " 11  Patient Disposition               13459 non-null  category\n",
      " 12  Discharge Year                    13459 non-null  int64   \n",
      " 13  CCS Diagnosis Code                13459 non-null  int64   \n",
      " 14  CCS Procedure Code                13459 non-null  int64   \n",
      " 15  APR DRG Code                      13459 non-null  int64   \n",
      " 16  APR MDC Code                      13459 non-null  int64   \n",
      " 17  APR Severity of Illness Code      13459 non-null  int64   \n",
      " 18  APR Risk of Mortality             13459 non-null  category\n",
      " 19  APR Medical Surgical Description  13459 non-null  category\n",
      " 20  Payment Typology 1                13459 non-null  category\n",
      " 21  Payment Typology 2                5193 non-null   category\n",
      " 22  Payment Typology 3                369 non-null    category\n",
      " 23  Birth Weight                      13459 non-null  int64   \n",
      " 24  Abortion Edit Indicator           13459 non-null  category\n",
      " 25  Emergency Department Indicator    13459 non-null  category\n",
      " 26  Total Charges                     13459 non-null  float64 \n",
      " 27  Total Costs                       13459 non-null  float64 \n",
      "dtypes: category(16), float64(4), int64(7), object(1)\n",
      "memory usage: 1.6+ MB\n"
     ]
    }
   ],
   "source": [
    "Nyack_df.info()"
   ]
  },
  {
   "cell_type": "code",
   "execution_count": 108,
   "id": "a300fda7",
   "metadata": {
    "execution": {
     "iopub.execute_input": "2023-02-18T17:48:19.170496Z",
     "iopub.status.busy": "2023-02-18T17:48:19.170106Z",
     "iopub.status.idle": "2023-02-18T17:48:19.177090Z",
     "shell.execute_reply": "2023-02-18T17:48:19.175782Z"
    },
    "papermill": {
     "duration": 0.060674,
     "end_time": "2023-02-18T17:48:19.179574",
     "exception": false,
     "start_time": "2023-02-18T17:48:19.118900",
     "status": "completed"
    },
    "tags": []
   },
   "outputs": [],
   "source": [
    "Nyack_df=Nyack_df.drop(\"Facility Name\", axis=1)"
   ]
  },
  {
   "cell_type": "code",
   "execution_count": 109,
   "id": "9b20be24",
   "metadata": {
    "execution": {
     "iopub.execute_input": "2023-02-18T17:48:19.358850Z",
     "iopub.status.busy": "2023-02-18T17:48:19.357945Z",
     "iopub.status.idle": "2023-02-18T17:48:19.364871Z",
     "shell.execute_reply": "2023-02-18T17:48:19.363997Z"
    },
    "papermill": {
     "duration": 0.064334,
     "end_time": "2023-02-18T17:48:19.367292",
     "exception": false,
     "start_time": "2023-02-18T17:48:19.302958",
     "status": "completed"
    },
    "tags": []
   },
   "outputs": [],
   "source": [
    "Nyack_df = Nyack_df.drop([\"Payment Typology 2\",    \"Payment Typology 3\"], axis=1)"
   ]
  },
  {
   "cell_type": "code",
   "execution_count": 110,
   "id": "f80a2825",
   "metadata": {
    "execution": {
     "iopub.execute_input": "2023-02-18T17:48:19.471234Z",
     "iopub.status.busy": "2023-02-18T17:48:19.470426Z",
     "iopub.status.idle": "2023-02-18T17:48:19.478883Z",
     "shell.execute_reply": "2023-02-18T17:48:19.478023Z"
    },
    "papermill": {
     "duration": 0.063115,
     "end_time": "2023-02-18T17:48:19.481364",
     "exception": false,
     "start_time": "2023-02-18T17:48:19.418249",
     "status": "completed"
    },
    "tags": []
   },
   "outputs": [],
   "source": [
    " #   simple mapping on binary features.\n",
    "Nyack_df['Abortion Edit Indicator'] = Nyack_df['Abortion Edit Indicator'].apply(\n",
    "     lambda x: 1 if x == 'Y' else (0 if x == 'N' else None))\n",
    "Nyack_df['Emergency Department Indicator'] = Nyack_df['Emergency Department Indicator'].apply(\n",
    "    lambda x: 1 if x == 'Y' else (0 if x == 'N' else None))"
   ]
  },
  {
   "cell_type": "code",
   "execution_count": 111,
   "id": "2077c3d7",
   "metadata": {
    "execution": {
     "iopub.execute_input": "2023-02-18T17:48:19.582393Z",
     "iopub.status.busy": "2023-02-18T17:48:19.581924Z",
     "iopub.status.idle": "2023-02-18T17:48:19.593863Z",
     "shell.execute_reply": "2023-02-18T17:48:19.592948Z"
    },
    "papermill": {
     "duration": 0.065401,
     "end_time": "2023-02-18T17:48:19.596400",
     "exception": false,
     "start_time": "2023-02-18T17:48:19.530999",
     "status": "completed"
    },
    "tags": []
   },
   "outputs": [],
   "source": [
    "Nyack_df[\"Length of Stay\"]=pd.to_numeric(Nyack_df[\"Length of Stay\"],errors='coerce')"
   ]
  },
  {
   "cell_type": "code",
   "execution_count": 112,
   "id": "c907be7d",
   "metadata": {
    "execution": {
     "iopub.execute_input": "2023-02-18T17:48:19.698094Z",
     "iopub.status.busy": "2023-02-18T17:48:19.697663Z",
     "iopub.status.idle": "2023-02-18T17:48:19.755410Z",
     "shell.execute_reply": "2023-02-18T17:48:19.754111Z"
    },
    "papermill": {
     "duration": 0.112616,
     "end_time": "2023-02-18T17:48:19.758415",
     "exception": false,
     "start_time": "2023-02-18T17:48:19.645799",
     "status": "completed"
    },
    "tags": []
   },
   "outputs": [],
   "source": [
    "list=  [ \"Hospital County\",\"Age Group\"\n",
    "    ,\"Gender\",   \n",
    " \"Race\" , \n",
    "\"Ethnicity\", \n",
    "\"Gender\" , \n",
    "\"Race\" ,    \n",
    " \"Ethnicity\" ,        \n",
    " \"Type of Admission\"  ,  \n",
    "  \"Patient Disposition\",      \n",
    " \"Type of Admission\" ,  \n",
    " \"Patient Disposition\"  ,\n",
    "  \"APR Risk of Mortality\" ,   \n",
    " \"APR Medical Surgical Description\" ,\n",
    " \"Payment Typology 1\"   ,   \n",
    " \"Abortion Edit Indicator\"     ,  \n",
    " \"Emergency Department Indicator\",\n",
    "       \"Zip Code - 3 digits\"]  \n",
    "\n",
    "# Import label encoder\n",
    "from sklearn import preprocessing\n",
    "  \n",
    "# label_encoder object knows how to understand word labels.\n",
    "label_encoder = preprocessing.LabelEncoder()\n",
    "  \n",
    "# Encode labels in column 'species'.\n",
    "for col in list :\n",
    "   Nyack_df[col]= label_encoder.fit_transform(Nyack_df[col])"
   ]
  },
  {
   "cell_type": "code",
   "execution_count": 113,
   "id": "0413f7ab",
   "metadata": {
    "execution": {
     "iopub.execute_input": "2023-02-18T17:48:19.861419Z",
     "iopub.status.busy": "2023-02-18T17:48:19.860979Z",
     "iopub.status.idle": "2023-02-18T17:48:19.878316Z",
     "shell.execute_reply": "2023-02-18T17:48:19.877095Z"
    },
    "papermill": {
     "duration": 0.071454,
     "end_time": "2023-02-18T17:48:19.880853",
     "exception": false,
     "start_time": "2023-02-18T17:48:19.809399",
     "status": "completed"
    },
    "tags": []
   },
   "outputs": [
    {
     "name": "stdout",
     "output_type": "stream",
     "text": [
      "<class 'pandas.core.frame.DataFrame'>\n",
      "Int64Index: 13459 entries, 700257 to 761325\n",
      "Data columns (total 25 columns):\n",
      " #   Column                            Non-Null Count  Dtype  \n",
      "---  ------                            --------------  -----  \n",
      " 0   Hospital County                   13459 non-null  int64  \n",
      " 1   Operating Certificate Number      13459 non-null  float64\n",
      " 2   Facility Id                       13459 non-null  float64\n",
      " 3   Age Group                         13459 non-null  int64  \n",
      " 4   Zip Code - 3 digits               13459 non-null  int64  \n",
      " 5   Gender                            13459 non-null  int64  \n",
      " 6   Race                              13459 non-null  int64  \n",
      " 7   Ethnicity                         13459 non-null  int64  \n",
      " 8   Length of Stay                    13458 non-null  float64\n",
      " 9   Type of Admission                 13459 non-null  int64  \n",
      " 10  Patient Disposition               13459 non-null  int64  \n",
      " 11  Discharge Year                    13459 non-null  int64  \n",
      " 12  CCS Diagnosis Code                13459 non-null  int64  \n",
      " 13  CCS Procedure Code                13459 non-null  int64  \n",
      " 14  APR DRG Code                      13459 non-null  int64  \n",
      " 15  APR MDC Code                      13459 non-null  int64  \n",
      " 16  APR Severity of Illness Code      13459 non-null  int64  \n",
      " 17  APR Risk of Mortality             13459 non-null  int64  \n",
      " 18  APR Medical Surgical Description  13459 non-null  int64  \n",
      " 19  Payment Typology 1                13459 non-null  int64  \n",
      " 20  Birth Weight                      13459 non-null  int64  \n",
      " 21  Abortion Edit Indicator           13459 non-null  int64  \n",
      " 22  Emergency Department Indicator    13459 non-null  int64  \n",
      " 23  Total Charges                     13459 non-null  float64\n",
      " 24  Total Costs                       13459 non-null  float64\n",
      "dtypes: float64(5), int64(20)\n",
      "memory usage: 2.7 MB\n"
     ]
    }
   ],
   "source": [
    "Nyack_df.info()"
   ]
  },
  {
   "cell_type": "code",
   "execution_count": 114,
   "id": "4a158b79",
   "metadata": {
    "execution": {
     "iopub.execute_input": "2023-02-18T17:48:19.983323Z",
     "iopub.status.busy": "2023-02-18T17:48:19.982876Z",
     "iopub.status.idle": "2023-02-18T17:48:19.995846Z",
     "shell.execute_reply": "2023-02-18T17:48:19.994545Z"
    },
    "papermill": {
     "duration": 0.067651,
     "end_time": "2023-02-18T17:48:19.998561",
     "exception": false,
     "start_time": "2023-02-18T17:48:19.930910",
     "status": "completed"
    },
    "tags": []
   },
   "outputs": [],
   "source": [
    "Nyack_df.dropna(inplace=True)"
   ]
  },
  {
   "cell_type": "code",
   "execution_count": 115,
   "id": "fe2835aa",
   "metadata": {
    "execution": {
     "iopub.execute_input": "2023-02-18T17:48:20.100104Z",
     "iopub.status.busy": "2023-02-18T17:48:20.099665Z",
     "iopub.status.idle": "2023-02-18T17:48:20.106731Z",
     "shell.execute_reply": "2023-02-18T17:48:20.105607Z"
    },
    "papermill": {
     "duration": 0.060686,
     "end_time": "2023-02-18T17:48:20.109166",
     "exception": false,
     "start_time": "2023-02-18T17:48:20.048480",
     "status": "completed"
    },
    "tags": []
   },
   "outputs": [],
   "source": [
    "x = Nyack_df.drop([\"Length of Stay\"], axis =1)\n",
    "y = Nyack_df[\"Length of Stay\"]"
   ]
  },
  {
   "cell_type": "code",
   "execution_count": 116,
   "id": "1d253b2c",
   "metadata": {
    "execution": {
     "iopub.execute_input": "2023-02-18T17:48:20.211148Z",
     "iopub.status.busy": "2023-02-18T17:48:20.210710Z",
     "iopub.status.idle": "2023-02-18T17:48:20.220898Z",
     "shell.execute_reply": "2023-02-18T17:48:20.219564Z"
    },
    "papermill": {
     "duration": 0.063807,
     "end_time": "2023-02-18T17:48:20.223254",
     "exception": false,
     "start_time": "2023-02-18T17:48:20.159447",
     "status": "completed"
    },
    "tags": []
   },
   "outputs": [],
   "source": [
    "x_train, x_test, y_train, y_test = train_test_split(x, y, test_size=0.3, random_state=42)"
   ]
  },
  {
   "cell_type": "code",
   "execution_count": 117,
   "id": "3d3350c9",
   "metadata": {
    "execution": {
     "iopub.execute_input": "2023-02-18T17:48:20.325099Z",
     "iopub.status.busy": "2023-02-18T17:48:20.324687Z",
     "iopub.status.idle": "2023-02-18T17:48:20.354597Z",
     "shell.execute_reply": "2023-02-18T17:48:20.352899Z"
    },
    "papermill": {
     "duration": 0.085943,
     "end_time": "2023-02-18T17:48:20.359176",
     "exception": false,
     "start_time": "2023-02-18T17:48:20.273233",
     "status": "completed"
    },
    "tags": []
   },
   "outputs": [],
   "source": [
    "# Linear Regression\n",
    "\n",
    "LR = LinearRegression()\n",
    "LR.fit(x_train, y_train)\n",
    "LR.score(x_train, y_train)\n",
    "y_pred =LR.predict(x_test)"
   ]
  },
  {
   "cell_type": "code",
   "execution_count": 118,
   "id": "61e8ac77",
   "metadata": {
    "execution": {
     "iopub.execute_input": "2023-02-18T17:48:20.532738Z",
     "iopub.status.busy": "2023-02-18T17:48:20.531456Z",
     "iopub.status.idle": "2023-02-18T17:48:20.540242Z",
     "shell.execute_reply": "2023-02-18T17:48:20.538750Z"
    },
    "papermill": {
     "duration": 0.06183,
     "end_time": "2023-02-18T17:48:20.542446",
     "exception": false,
     "start_time": "2023-02-18T17:48:20.480616",
     "status": "completed"
    },
    "tags": []
   },
   "outputs": [
    {
     "data": {
      "text/plain": [
       "0.8349891359205954"
      ]
     },
     "execution_count": 118,
     "metadata": {},
     "output_type": "execute_result"
    }
   ],
   "source": [
    "r2 = r2_score(y_test, y_pred)\n",
    "r2 \n"
   ]
  },
  {
   "cell_type": "code",
   "execution_count": 119,
   "id": "43e11638",
   "metadata": {
    "execution": {
     "iopub.execute_input": "2023-02-18T17:48:20.643974Z",
     "iopub.status.busy": "2023-02-18T17:48:20.643535Z",
     "iopub.status.idle": "2023-02-18T17:48:20.651857Z",
     "shell.execute_reply": "2023-02-18T17:48:20.650699Z"
    },
    "papermill": {
     "duration": 0.06169,
     "end_time": "2023-02-18T17:48:20.654107",
     "exception": false,
     "start_time": "2023-02-18T17:48:20.592417",
     "status": "completed"
    },
    "tags": []
   },
   "outputs": [
    {
     "data": {
      "text/plain": [
       "1.3344919646969073"
      ]
     },
     "execution_count": 119,
     "metadata": {},
     "output_type": "execute_result"
    }
   ],
   "source": [
    "# calculate the MAE of the model\n",
    "mae = mean_absolute_error(y_test, y_pred)\n",
    "mae"
   ]
  },
  {
   "cell_type": "code",
   "execution_count": 120,
   "id": "801327dc",
   "metadata": {
    "execution": {
     "iopub.execute_input": "2023-02-18T17:48:20.757303Z",
     "iopub.status.busy": "2023-02-18T17:48:20.756589Z",
     "iopub.status.idle": "2023-02-18T17:48:20.763432Z",
     "shell.execute_reply": "2023-02-18T17:48:20.762393Z"
    },
    "papermill": {
     "duration": 0.060412,
     "end_time": "2023-02-18T17:48:20.765642",
     "exception": false,
     "start_time": "2023-02-18T17:48:20.705230",
     "status": "completed"
    },
    "tags": []
   },
   "outputs": [
    {
     "data": {
      "text/plain": [
       "5.8475935175546985"
      ]
     },
     "execution_count": 120,
     "metadata": {},
     "output_type": "execute_result"
    }
   ],
   "source": [
    "# calculate the MSE of the model\n",
    "mse = mean_squared_error(y_test, y_pred)\n",
    "mse"
   ]
  },
  {
   "cell_type": "code",
   "execution_count": 121,
   "id": "495549b8",
   "metadata": {
    "execution": {
     "iopub.execute_input": "2023-02-18T17:48:20.869071Z",
     "iopub.status.busy": "2023-02-18T17:48:20.868339Z",
     "iopub.status.idle": "2023-02-18T17:48:20.875454Z",
     "shell.execute_reply": "2023-02-18T17:48:20.874344Z"
    },
    "papermill": {
     "duration": 0.061558,
     "end_time": "2023-02-18T17:48:20.877619",
     "exception": false,
     "start_time": "2023-02-18T17:48:20.816061",
     "status": "completed"
    },
    "tags": []
   },
   "outputs": [
    {
     "data": {
      "text/plain": [
       "2.4181797942987404"
      ]
     },
     "execution_count": 121,
     "metadata": {},
     "output_type": "execute_result"
    }
   ],
   "source": [
    "# calculate the RMSE of the model\n",
    "rmse = np.sqrt(mse)\n",
    "rmse"
   ]
  },
  {
   "cell_type": "code",
   "execution_count": 122,
   "id": "9754fc40",
   "metadata": {
    "execution": {
     "iopub.execute_input": "2023-02-18T17:48:20.980866Z",
     "iopub.status.busy": "2023-02-18T17:48:20.980176Z",
     "iopub.status.idle": "2023-02-18T17:48:21.083933Z",
     "shell.execute_reply": "2023-02-18T17:48:21.082270Z"
    },
    "papermill": {
     "duration": 0.160374,
     "end_time": "2023-02-18T17:48:21.088573",
     "exception": false,
     "start_time": "2023-02-18T17:48:20.928199",
     "status": "completed"
    },
    "tags": []
   },
   "outputs": [],
   "source": [
    "# LASSO\n",
    "L1 = linear_model.Lasso()\n",
    "L1.fit(x_train,y_train)\n",
    "y_pred1 = L1.predict(x_test)"
   ]
  },
  {
   "cell_type": "code",
   "execution_count": 123,
   "id": "2e93db50",
   "metadata": {
    "execution": {
     "iopub.execute_input": "2023-02-18T17:48:21.263091Z",
     "iopub.status.busy": "2023-02-18T17:48:21.262644Z",
     "iopub.status.idle": "2023-02-18T17:48:21.271915Z",
     "shell.execute_reply": "2023-02-18T17:48:21.270678Z"
    },
    "papermill": {
     "duration": 0.063797,
     "end_time": "2023-02-18T17:48:21.274525",
     "exception": false,
     "start_time": "2023-02-18T17:48:21.210728",
     "status": "completed"
    },
    "tags": []
   },
   "outputs": [
    {
     "data": {
      "text/plain": [
       "0.8130004942930402"
      ]
     },
     "execution_count": 123,
     "metadata": {},
     "output_type": "execute_result"
    }
   ],
   "source": [
    "r2 = r2_score(y_test, y_pred1)\n",
    "r2 "
   ]
  },
  {
   "cell_type": "code",
   "execution_count": 124,
   "id": "b341630d",
   "metadata": {
    "execution": {
     "iopub.execute_input": "2023-02-18T17:48:21.380597Z",
     "iopub.status.busy": "2023-02-18T17:48:21.380173Z",
     "iopub.status.idle": "2023-02-18T17:48:21.389564Z",
     "shell.execute_reply": "2023-02-18T17:48:21.388457Z"
    },
    "papermill": {
     "duration": 0.065164,
     "end_time": "2023-02-18T17:48:21.391999",
     "exception": false,
     "start_time": "2023-02-18T17:48:21.326835",
     "status": "completed"
    },
    "tags": []
   },
   "outputs": [
    {
     "data": {
      "text/plain": [
       "1.371002670909177"
      ]
     },
     "execution_count": 124,
     "metadata": {},
     "output_type": "execute_result"
    }
   ],
   "source": [
    "# calculate the MAE of the model\n",
    "mae = mean_absolute_error(y_test, y_pred1)\n",
    "mae"
   ]
  },
  {
   "cell_type": "code",
   "execution_count": 125,
   "id": "75e768fa",
   "metadata": {
    "execution": {
     "iopub.execute_input": "2023-02-18T17:48:21.498854Z",
     "iopub.status.busy": "2023-02-18T17:48:21.498430Z",
     "iopub.status.idle": "2023-02-18T17:48:21.506612Z",
     "shell.execute_reply": "2023-02-18T17:48:21.505542Z"
    },
    "papermill": {
     "duration": 0.064112,
     "end_time": "2023-02-18T17:48:21.508877",
     "exception": false,
     "start_time": "2023-02-18T17:48:21.444765",
     "status": "completed"
    },
    "tags": []
   },
   "outputs": [
    {
     "data": {
      "text/plain": [
       "6.626818806498411"
      ]
     },
     "execution_count": 125,
     "metadata": {},
     "output_type": "execute_result"
    }
   ],
   "source": [
    "# calculate the MSE of the model\n",
    "mse = mean_squared_error(y_test, y_pred1)\n",
    "mse"
   ]
  },
  {
   "cell_type": "code",
   "execution_count": 126,
   "id": "749802fb",
   "metadata": {
    "execution": {
     "iopub.execute_input": "2023-02-18T17:48:21.614597Z",
     "iopub.status.busy": "2023-02-18T17:48:21.614163Z",
     "iopub.status.idle": "2023-02-18T17:48:21.621743Z",
     "shell.execute_reply": "2023-02-18T17:48:21.620535Z"
    },
    "papermill": {
     "duration": 0.062565,
     "end_time": "2023-02-18T17:48:21.623953",
     "exception": false,
     "start_time": "2023-02-18T17:48:21.561388",
     "status": "completed"
    },
    "tags": []
   },
   "outputs": [
    {
     "data": {
      "text/plain": [
       "2.574260827208154"
      ]
     },
     "execution_count": 126,
     "metadata": {},
     "output_type": "execute_result"
    }
   ],
   "source": [
    "# calculate the RMSE of the model\n",
    "rmse = np.sqrt(mse)\n",
    "rmse"
   ]
  },
  {
   "cell_type": "code",
   "execution_count": 127,
   "id": "f589e7a3",
   "metadata": {
    "execution": {
     "iopub.execute_input": "2023-02-18T17:48:21.729894Z",
     "iopub.status.busy": "2023-02-18T17:48:21.728657Z",
     "iopub.status.idle": "2023-02-18T17:48:21.746372Z",
     "shell.execute_reply": "2023-02-18T17:48:21.744890Z"
    },
    "papermill": {
     "duration": 0.075103,
     "end_time": "2023-02-18T17:48:21.751229",
     "exception": false,
     "start_time": "2023-02-18T17:48:21.676126",
     "status": "completed"
    },
    "tags": []
   },
   "outputs": [],
   "source": [
    "# Ridge\n",
    "L2 = Ridge(alpha=1.0)\n",
    "L2.fit(x_train, y_train) \n",
    "y_pred3 = L2.predict(x_test)"
   ]
  },
  {
   "cell_type": "code",
   "execution_count": 128,
   "id": "d7f5dba5",
   "metadata": {
    "execution": {
     "iopub.execute_input": "2023-02-18T17:48:21.929432Z",
     "iopub.status.busy": "2023-02-18T17:48:21.928978Z",
     "iopub.status.idle": "2023-02-18T17:48:21.937881Z",
     "shell.execute_reply": "2023-02-18T17:48:21.936774Z"
    },
    "papermill": {
     "duration": 0.065039,
     "end_time": "2023-02-18T17:48:21.940103",
     "exception": false,
     "start_time": "2023-02-18T17:48:21.875064",
     "status": "completed"
    },
    "tags": []
   },
   "outputs": [
    {
     "data": {
      "text/plain": [
       "0.8349875922803607"
      ]
     },
     "execution_count": 128,
     "metadata": {},
     "output_type": "execute_result"
    }
   ],
   "source": [
    "r2 = r2_score(y_test, y_pred3)\n",
    "r2 "
   ]
  },
  {
   "cell_type": "code",
   "execution_count": 129,
   "id": "e7221cc3",
   "metadata": {
    "execution": {
     "iopub.execute_input": "2023-02-18T17:48:22.045732Z",
     "iopub.status.busy": "2023-02-18T17:48:22.045089Z",
     "iopub.status.idle": "2023-02-18T17:48:22.051592Z",
     "shell.execute_reply": "2023-02-18T17:48:22.050534Z"
    },
    "papermill": {
     "duration": 0.06179,
     "end_time": "2023-02-18T17:48:22.053872",
     "exception": false,
     "start_time": "2023-02-18T17:48:21.992082",
     "status": "completed"
    },
    "tags": []
   },
   "outputs": [
    {
     "data": {
      "text/plain": [
       "1.3343143263471502"
      ]
     },
     "execution_count": 129,
     "metadata": {},
     "output_type": "execute_result"
    }
   ],
   "source": [
    "# calculate the MAE of the model\n",
    "mae = mean_absolute_error(y_test, y_pred3)\n",
    "mae"
   ]
  },
  {
   "cell_type": "code",
   "execution_count": 130,
   "id": "9bf44b9a",
   "metadata": {
    "execution": {
     "iopub.execute_input": "2023-02-18T17:48:22.160561Z",
     "iopub.status.busy": "2023-02-18T17:48:22.160131Z",
     "iopub.status.idle": "2023-02-18T17:48:22.168809Z",
     "shell.execute_reply": "2023-02-18T17:48:22.167418Z"
    },
    "papermill": {
     "duration": 0.066089,
     "end_time": "2023-02-18T17:48:22.171083",
     "exception": false,
     "start_time": "2023-02-18T17:48:22.104994",
     "status": "completed"
    },
    "tags": []
   },
   "outputs": [
    {
     "data": {
      "text/plain": [
       "5.847648220502174"
      ]
     },
     "execution_count": 130,
     "metadata": {},
     "output_type": "execute_result"
    }
   ],
   "source": [
    "# calculate the MSE of the model\n",
    "mse = mean_squared_error(y_test, y_pred3)\n",
    "mse"
   ]
  },
  {
   "cell_type": "code",
   "execution_count": 131,
   "id": "167d4c1e",
   "metadata": {
    "execution": {
     "iopub.execute_input": "2023-02-18T17:48:22.280527Z",
     "iopub.status.busy": "2023-02-18T17:48:22.279298Z",
     "iopub.status.idle": "2023-02-18T17:48:22.286093Z",
     "shell.execute_reply": "2023-02-18T17:48:22.285076Z"
    },
    "papermill": {
     "duration": 0.063739,
     "end_time": "2023-02-18T17:48:22.288138",
     "exception": false,
     "start_time": "2023-02-18T17:48:22.224399",
     "status": "completed"
    },
    "tags": []
   },
   "outputs": [
    {
     "data": {
      "text/plain": [
       "2.418191105041571"
      ]
     },
     "execution_count": 131,
     "metadata": {},
     "output_type": "execute_result"
    }
   ],
   "source": [
    "# calculate the RMSE of the model\n",
    "rmse = np.sqrt(mse)\n",
    "rmse"
   ]
  },
  {
   "cell_type": "markdown",
   "id": "614741a6",
   "metadata": {
    "papermill": {
     "duration": 0.051499,
     "end_time": "2023-02-18T17:48:22.391776",
     "exception": false,
     "start_time": "2023-02-18T17:48:22.340277",
     "status": "completed"
    },
    "tags": []
   },
   "source": [
    "Client 10: Mount St Marys Hospital"
   ]
  },
  {
   "cell_type": "code",
   "execution_count": 132,
   "id": "8945f53a",
   "metadata": {
    "execution": {
     "iopub.execute_input": "2023-02-18T17:48:22.497647Z",
     "iopub.status.busy": "2023-02-18T17:48:22.496754Z",
     "iopub.status.idle": "2023-02-18T17:48:22.663049Z",
     "shell.execute_reply": "2023-02-18T17:48:22.662167Z"
    },
    "papermill": {
     "duration": 0.221814,
     "end_time": "2023-02-18T17:48:22.665640",
     "exception": false,
     "start_time": "2023-02-18T17:48:22.443826",
     "status": "completed"
    },
    "tags": []
   },
   "outputs": [],
   "source": [
    "#Mount St Marys Hospital and Health Center\n",
    "Mount_df=df[df[\"Facility Name\"]== 'Mount St Marys Hospital and Health Center']"
   ]
  },
  {
   "cell_type": "code",
   "execution_count": 133,
   "id": "b48d2b22",
   "metadata": {
    "execution": {
     "iopub.execute_input": "2023-02-18T17:48:22.772207Z",
     "iopub.status.busy": "2023-02-18T17:48:22.771347Z",
     "iopub.status.idle": "2023-02-18T17:48:22.790762Z",
     "shell.execute_reply": "2023-02-18T17:48:22.789280Z"
    },
    "papermill": {
     "duration": 0.075915,
     "end_time": "2023-02-18T17:48:22.793374",
     "exception": false,
     "start_time": "2023-02-18T17:48:22.717459",
     "status": "completed"
    },
    "tags": []
   },
   "outputs": [
    {
     "name": "stdout",
     "output_type": "stream",
     "text": [
      "<class 'pandas.core.frame.DataFrame'>\n",
      "Int64Index: 5314 entries, 138563 to 143964\n",
      "Data columns (total 28 columns):\n",
      " #   Column                            Non-Null Count  Dtype   \n",
      "---  ------                            --------------  -----   \n",
      " 0   Hospital County                   5314 non-null   category\n",
      " 1   Operating Certificate Number      5314 non-null   float64 \n",
      " 2   Facility Id                       5314 non-null   float64 \n",
      " 3   Facility Name                     5314 non-null   object  \n",
      " 4   Age Group                         5314 non-null   category\n",
      " 5   Zip Code - 3 digits               5267 non-null   category\n",
      " 6   Gender                            5314 non-null   category\n",
      " 7   Race                              5314 non-null   category\n",
      " 8   Ethnicity                         5314 non-null   category\n",
      " 9   Length of Stay                    5314 non-null   category\n",
      " 10  Type of Admission                 5314 non-null   category\n",
      " 11  Patient Disposition               5314 non-null   category\n",
      " 12  Discharge Year                    5314 non-null   int64   \n",
      " 13  CCS Diagnosis Code                5314 non-null   int64   \n",
      " 14  CCS Procedure Code                5314 non-null   int64   \n",
      " 15  APR DRG Code                      5314 non-null   int64   \n",
      " 16  APR MDC Code                      5314 non-null   int64   \n",
      " 17  APR Severity of Illness Code      5314 non-null   int64   \n",
      " 18  APR Risk of Mortality             5314 non-null   category\n",
      " 19  APR Medical Surgical Description  5314 non-null   category\n",
      " 20  Payment Typology 1                5314 non-null   category\n",
      " 21  Payment Typology 2                2876 non-null   category\n",
      " 22  Payment Typology 3                327 non-null    category\n",
      " 23  Birth Weight                      5314 non-null   int64   \n",
      " 24  Abortion Edit Indicator           5314 non-null   category\n",
      " 25  Emergency Department Indicator    5314 non-null   category\n",
      " 26  Total Charges                     5314 non-null   float64 \n",
      " 27  Total Costs                       5314 non-null   float64 \n",
      "dtypes: category(16), float64(4), int64(7), object(1)\n",
      "memory usage: 646.0+ KB\n"
     ]
    }
   ],
   "source": [
    "Mount_df.info()\n"
   ]
  },
  {
   "cell_type": "code",
   "execution_count": 134,
   "id": "f296f64d",
   "metadata": {
    "execution": {
     "iopub.execute_input": "2023-02-18T17:48:22.901299Z",
     "iopub.status.busy": "2023-02-18T17:48:22.900818Z",
     "iopub.status.idle": "2023-02-18T17:48:22.907721Z",
     "shell.execute_reply": "2023-02-18T17:48:22.906791Z"
    },
    "papermill": {
     "duration": 0.063449,
     "end_time": "2023-02-18T17:48:22.909914",
     "exception": false,
     "start_time": "2023-02-18T17:48:22.846465",
     "status": "completed"
    },
    "tags": []
   },
   "outputs": [],
   "source": [
    "Mount_df = Mount_df.drop(\"Facility Name\", axis=1)\n"
   ]
  },
  {
   "cell_type": "code",
   "execution_count": 135,
   "id": "627fa9f1",
   "metadata": {
    "execution": {
     "iopub.execute_input": "2023-02-18T17:48:23.015756Z",
     "iopub.status.busy": "2023-02-18T17:48:23.014538Z",
     "iopub.status.idle": "2023-02-18T17:48:23.023703Z",
     "shell.execute_reply": "2023-02-18T17:48:23.022568Z"
    },
    "papermill": {
     "duration": 0.064926,
     "end_time": "2023-02-18T17:48:23.026432",
     "exception": false,
     "start_time": "2023-02-18T17:48:22.961506",
     "status": "completed"
    },
    "tags": []
   },
   "outputs": [],
   "source": [
    " #   simple mapping on binary features.\n",
    "Mount_df['Abortion Edit Indicator'] = Mount_df['Abortion Edit Indicator'].apply(\n",
    "     lambda x: 1 if x == 'Y' else (0 if x == 'N' else None))\n",
    "Mount_df['Emergency Department Indicator'] = Mount_df['Emergency Department Indicator'].apply(\n",
    "    lambda x: 1 if x == 'Y' else (0 if x == 'N' else None))"
   ]
  },
  {
   "cell_type": "code",
   "execution_count": 136,
   "id": "938fc306",
   "metadata": {
    "execution": {
     "iopub.execute_input": "2023-02-18T17:48:23.133393Z",
     "iopub.status.busy": "2023-02-18T17:48:23.132191Z",
     "iopub.status.idle": "2023-02-18T17:48:23.142531Z",
     "shell.execute_reply": "2023-02-18T17:48:23.141545Z"
    },
    "papermill": {
     "duration": 0.066063,
     "end_time": "2023-02-18T17:48:23.145151",
     "exception": false,
     "start_time": "2023-02-18T17:48:23.079088",
     "status": "completed"
    },
    "tags": []
   },
   "outputs": [],
   "source": [
    "Mount_df[\"Length of Stay\"]=pd.to_numeric(Mount_df[\"Length of Stay\"],errors='coerce')"
   ]
  },
  {
   "cell_type": "code",
   "execution_count": 137,
   "id": "7ecfffd9",
   "metadata": {
    "execution": {
     "iopub.execute_input": "2023-02-18T17:48:23.250701Z",
     "iopub.status.busy": "2023-02-18T17:48:23.249960Z",
     "iopub.status.idle": "2023-02-18T17:48:23.281351Z",
     "shell.execute_reply": "2023-02-18T17:48:23.280397Z"
    },
    "papermill": {
     "duration": 0.08661,
     "end_time": "2023-02-18T17:48:23.283898",
     "exception": false,
     "start_time": "2023-02-18T17:48:23.197288",
     "status": "completed"
    },
    "tags": []
   },
   "outputs": [],
   "source": [
    "list=  [ \"Hospital County\",\"Age Group\"\n",
    "    ,\"Gender\",   \n",
    " \"Race\" , \n",
    "\"Ethnicity\", \n",
    "\"Gender\" , \n",
    "\"Race\" ,    \n",
    " \"Ethnicity\" ,        \n",
    " \"Type of Admission\"  ,  \n",
    "  \"Patient Disposition\",      \n",
    " \"Type of Admission\" ,  \n",
    " \"Patient Disposition\"  ,\n",
    "  \"APR Risk of Mortality\" ,   \n",
    " \"APR Medical Surgical Description\" ,\n",
    " \"Payment Typology 1\"   ,   \n",
    " \"Abortion Edit Indicator\"     ,  \n",
    " \"Emergency Department Indicator\",\n",
    "       \"Zip Code - 3 digits\"]  \n",
    "\n",
    "# Import label encoder\n",
    "from sklearn import preprocessing\n",
    "  \n",
    "# label_encoder object knows how to understand word labels.\n",
    "label_encoder = preprocessing.LabelEncoder()\n",
    "  \n",
    "# Encode labels in column 'species'.\n",
    "for col in list :\n",
    "  Mount_df[col]= label_encoder.fit_transform(Mount_df[col])"
   ]
  },
  {
   "cell_type": "code",
   "execution_count": 138,
   "id": "ba256435",
   "metadata": {
    "execution": {
     "iopub.execute_input": "2023-02-18T17:48:23.388580Z",
     "iopub.status.busy": "2023-02-18T17:48:23.387573Z",
     "iopub.status.idle": "2023-02-18T17:48:23.407514Z",
     "shell.execute_reply": "2023-02-18T17:48:23.406102Z"
    },
    "papermill": {
     "duration": 0.075372,
     "end_time": "2023-02-18T17:48:23.410443",
     "exception": false,
     "start_time": "2023-02-18T17:48:23.335071",
     "status": "completed"
    },
    "tags": []
   },
   "outputs": [
    {
     "name": "stdout",
     "output_type": "stream",
     "text": [
      "<class 'pandas.core.frame.DataFrame'>\n",
      "Int64Index: 5314 entries, 138563 to 143964\n",
      "Data columns (total 27 columns):\n",
      " #   Column                            Non-Null Count  Dtype   \n",
      "---  ------                            --------------  -----   \n",
      " 0   Hospital County                   5314 non-null   int64   \n",
      " 1   Operating Certificate Number      5314 non-null   float64 \n",
      " 2   Facility Id                       5314 non-null   float64 \n",
      " 3   Age Group                         5314 non-null   int64   \n",
      " 4   Zip Code - 3 digits               5314 non-null   int64   \n",
      " 5   Gender                            5314 non-null   int64   \n",
      " 6   Race                              5314 non-null   int64   \n",
      " 7   Ethnicity                         5314 non-null   int64   \n",
      " 8   Length of Stay                    5314 non-null   int64   \n",
      " 9   Type of Admission                 5314 non-null   int64   \n",
      " 10  Patient Disposition               5314 non-null   int64   \n",
      " 11  Discharge Year                    5314 non-null   int64   \n",
      " 12  CCS Diagnosis Code                5314 non-null   int64   \n",
      " 13  CCS Procedure Code                5314 non-null   int64   \n",
      " 14  APR DRG Code                      5314 non-null   int64   \n",
      " 15  APR MDC Code                      5314 non-null   int64   \n",
      " 16  APR Severity of Illness Code      5314 non-null   int64   \n",
      " 17  APR Risk of Mortality             5314 non-null   int64   \n",
      " 18  APR Medical Surgical Description  5314 non-null   int64   \n",
      " 19  Payment Typology 1                5314 non-null   int64   \n",
      " 20  Payment Typology 2                2876 non-null   category\n",
      " 21  Payment Typology 3                327 non-null    category\n",
      " 22  Birth Weight                      5314 non-null   int64   \n",
      " 23  Abortion Edit Indicator           5314 non-null   int64   \n",
      " 24  Emergency Department Indicator    5314 non-null   int64   \n",
      " 25  Total Charges                     5314 non-null   float64 \n",
      " 26  Total Costs                       5314 non-null   float64 \n",
      "dtypes: category(2), float64(4), int64(21)\n",
      "memory usage: 1.1 MB\n"
     ]
    }
   ],
   "source": [
    "Mount_df.info()"
   ]
  },
  {
   "cell_type": "code",
   "execution_count": 139,
   "id": "b88adb4f",
   "metadata": {
    "execution": {
     "iopub.execute_input": "2023-02-18T17:48:23.519024Z",
     "iopub.status.busy": "2023-02-18T17:48:23.517854Z",
     "iopub.status.idle": "2023-02-18T17:48:23.524923Z",
     "shell.execute_reply": "2023-02-18T17:48:23.524099Z"
    },
    "papermill": {
     "duration": 0.063525,
     "end_time": "2023-02-18T17:48:23.527217",
     "exception": false,
     "start_time": "2023-02-18T17:48:23.463692",
     "status": "completed"
    },
    "tags": []
   },
   "outputs": [],
   "source": [
    "Mount_df = Mount_df.drop([\"Payment Typology 2\",    \"Payment Typology 3\"], axis=1)\n"
   ]
  },
  {
   "cell_type": "code",
   "execution_count": 140,
   "id": "fd8f0c2c",
   "metadata": {
    "execution": {
     "iopub.execute_input": "2023-02-18T17:48:23.632665Z",
     "iopub.status.busy": "2023-02-18T17:48:23.632258Z",
     "iopub.status.idle": "2023-02-18T17:48:23.638948Z",
     "shell.execute_reply": "2023-02-18T17:48:23.638023Z"
    },
    "papermill": {
     "duration": 0.062694,
     "end_time": "2023-02-18T17:48:23.641600",
     "exception": false,
     "start_time": "2023-02-18T17:48:23.578906",
     "status": "completed"
    },
    "tags": []
   },
   "outputs": [],
   "source": [
    "x = Mount_df.drop([\"Length of Stay\"], axis =1)\n",
    "y = Mount_df[\"Length of Stay\"]"
   ]
  },
  {
   "cell_type": "code",
   "execution_count": 141,
   "id": "2c26e3c7",
   "metadata": {
    "execution": {
     "iopub.execute_input": "2023-02-18T17:48:23.748429Z",
     "iopub.status.busy": "2023-02-18T17:48:23.747992Z",
     "iopub.status.idle": "2023-02-18T17:48:23.755870Z",
     "shell.execute_reply": "2023-02-18T17:48:23.754894Z"
    },
    "papermill": {
     "duration": 0.064849,
     "end_time": "2023-02-18T17:48:23.758202",
     "exception": false,
     "start_time": "2023-02-18T17:48:23.693353",
     "status": "completed"
    },
    "tags": []
   },
   "outputs": [],
   "source": [
    "x_train, x_test, y_train, y_test = train_test_split(x, y, test_size=0.3, random_state=42)"
   ]
  },
  {
   "cell_type": "code",
   "execution_count": 142,
   "id": "67b3c2b7",
   "metadata": {
    "execution": {
     "iopub.execute_input": "2023-02-18T17:48:23.864115Z",
     "iopub.status.busy": "2023-02-18T17:48:23.862929Z",
     "iopub.status.idle": "2023-02-18T17:48:23.888344Z",
     "shell.execute_reply": "2023-02-18T17:48:23.886706Z"
    },
    "papermill": {
     "duration": 0.083138,
     "end_time": "2023-02-18T17:48:23.893164",
     "exception": false,
     "start_time": "2023-02-18T17:48:23.810026",
     "status": "completed"
    },
    "tags": []
   },
   "outputs": [],
   "source": [
    "# Linear Regression\n",
    "\n",
    "LR = LinearRegression()\n",
    "LR.fit(x_train, y_train)\n",
    "LR.score(x_train, y_train)\n",
    "y_pred =LR.predict(x_test)"
   ]
  },
  {
   "cell_type": "code",
   "execution_count": 143,
   "id": "7cab95c9",
   "metadata": {
    "execution": {
     "iopub.execute_input": "2023-02-18T17:48:24.070063Z",
     "iopub.status.busy": "2023-02-18T17:48:24.069572Z",
     "iopub.status.idle": "2023-02-18T17:48:24.077727Z",
     "shell.execute_reply": "2023-02-18T17:48:24.076892Z"
    },
    "papermill": {
     "duration": 0.063415,
     "end_time": "2023-02-18T17:48:24.079938",
     "exception": false,
     "start_time": "2023-02-18T17:48:24.016523",
     "status": "completed"
    },
    "tags": []
   },
   "outputs": [
    {
     "data": {
      "text/plain": [
       "0.8493645328400692"
      ]
     },
     "execution_count": 143,
     "metadata": {},
     "output_type": "execute_result"
    }
   ],
   "source": [
    "r2 = r2_score(y_test, y_pred)\n",
    "r2 \n"
   ]
  },
  {
   "cell_type": "code",
   "execution_count": 144,
   "id": "ae89b412",
   "metadata": {
    "execution": {
     "iopub.execute_input": "2023-02-18T17:48:24.187285Z",
     "iopub.status.busy": "2023-02-18T17:48:24.186547Z",
     "iopub.status.idle": "2023-02-18T17:48:24.193756Z",
     "shell.execute_reply": "2023-02-18T17:48:24.192519Z"
    },
    "papermill": {
     "duration": 0.063138,
     "end_time": "2023-02-18T17:48:24.196072",
     "exception": false,
     "start_time": "2023-02-18T17:48:24.132934",
     "status": "completed"
    },
    "tags": []
   },
   "outputs": [
    {
     "data": {
      "text/plain": [
       "1.5751957484784673"
      ]
     },
     "execution_count": 144,
     "metadata": {},
     "output_type": "execute_result"
    }
   ],
   "source": [
    "# calculate the MAE of the model\n",
    "mae = mean_absolute_error(y_test, y_pred)\n",
    "mae"
   ]
  },
  {
   "cell_type": "code",
   "execution_count": 145,
   "id": "ca69926a",
   "metadata": {
    "execution": {
     "iopub.execute_input": "2023-02-18T17:48:24.302956Z",
     "iopub.status.busy": "2023-02-18T17:48:24.302132Z",
     "iopub.status.idle": "2023-02-18T17:48:24.309773Z",
     "shell.execute_reply": "2023-02-18T17:48:24.308588Z"
    },
    "papermill": {
     "duration": 0.062827,
     "end_time": "2023-02-18T17:48:24.311925",
     "exception": false,
     "start_time": "2023-02-18T17:48:24.249098",
     "status": "completed"
    },
    "tags": []
   },
   "outputs": [
    {
     "data": {
      "text/plain": [
       "5.420550398990118"
      ]
     },
     "execution_count": 145,
     "metadata": {},
     "output_type": "execute_result"
    }
   ],
   "source": [
    "# calculate the MSE of the model\n",
    "mse = mean_squared_error(y_test, y_pred)\n",
    "mse"
   ]
  },
  {
   "cell_type": "code",
   "execution_count": 146,
   "id": "35ce2f5a",
   "metadata": {
    "execution": {
     "iopub.execute_input": "2023-02-18T17:48:24.419819Z",
     "iopub.status.busy": "2023-02-18T17:48:24.419096Z",
     "iopub.status.idle": "2023-02-18T17:48:24.425540Z",
     "shell.execute_reply": "2023-02-18T17:48:24.424565Z"
    },
    "papermill": {
     "duration": 0.063702,
     "end_time": "2023-02-18T17:48:24.428159",
     "exception": false,
     "start_time": "2023-02-18T17:48:24.364457",
     "status": "completed"
    },
    "tags": []
   },
   "outputs": [
    {
     "data": {
      "text/plain": [
       "2.328207550668565"
      ]
     },
     "execution_count": 146,
     "metadata": {},
     "output_type": "execute_result"
    }
   ],
   "source": [
    "# calculate the RMSE of the model\n",
    "rmse = np.sqrt(mse)\n",
    "rmse"
   ]
  },
  {
   "cell_type": "code",
   "execution_count": 147,
   "id": "a067f493",
   "metadata": {
    "execution": {
     "iopub.execute_input": "2023-02-18T17:48:24.536286Z",
     "iopub.status.busy": "2023-02-18T17:48:24.535477Z",
     "iopub.status.idle": "2023-02-18T17:48:24.569799Z",
     "shell.execute_reply": "2023-02-18T17:48:24.568116Z"
    },
    "papermill": {
     "duration": 0.093411,
     "end_time": "2023-02-18T17:48:24.574218",
     "exception": false,
     "start_time": "2023-02-18T17:48:24.480807",
     "status": "completed"
    },
    "tags": []
   },
   "outputs": [],
   "source": [
    "# LASSO\n",
    "L1 = linear_model.Lasso()\n",
    "L1.fit(x_train,y_train)\n",
    "y_pred1 = L1.predict(x_test)"
   ]
  },
  {
   "cell_type": "code",
   "execution_count": 148,
   "id": "b4046914",
   "metadata": {
    "execution": {
     "iopub.execute_input": "2023-02-18T17:48:24.752477Z",
     "iopub.status.busy": "2023-02-18T17:48:24.752061Z",
     "iopub.status.idle": "2023-02-18T17:48:24.760615Z",
     "shell.execute_reply": "2023-02-18T17:48:24.759455Z"
    },
    "papermill": {
     "duration": 0.065245,
     "end_time": "2023-02-18T17:48:24.762897",
     "exception": false,
     "start_time": "2023-02-18T17:48:24.697652",
     "status": "completed"
    },
    "tags": []
   },
   "outputs": [
    {
     "data": {
      "text/plain": [
       "0.8032059655994213"
      ]
     },
     "execution_count": 148,
     "metadata": {},
     "output_type": "execute_result"
    }
   ],
   "source": [
    "r2 = r2_score(y_test, y_pred1)\n",
    "r2 \n"
   ]
  },
  {
   "cell_type": "code",
   "execution_count": 149,
   "id": "12a1f7c4",
   "metadata": {
    "execution": {
     "iopub.execute_input": "2023-02-18T17:48:24.870549Z",
     "iopub.status.busy": "2023-02-18T17:48:24.869456Z",
     "iopub.status.idle": "2023-02-18T17:48:24.877516Z",
     "shell.execute_reply": "2023-02-18T17:48:24.876423Z"
    },
    "papermill": {
     "duration": 0.06378,
     "end_time": "2023-02-18T17:48:24.879703",
     "exception": false,
     "start_time": "2023-02-18T17:48:24.815923",
     "status": "completed"
    },
    "tags": []
   },
   "outputs": [
    {
     "data": {
      "text/plain": [
       "7.081545945327565"
      ]
     },
     "execution_count": 149,
     "metadata": {},
     "output_type": "execute_result"
    }
   ],
   "source": [
    "# calculate the MSE of the model\n",
    "mse = mean_squared_error(y_test, y_pred1)\n",
    "mse"
   ]
  },
  {
   "cell_type": "code",
   "execution_count": 150,
   "id": "69bc35b8",
   "metadata": {
    "execution": {
     "iopub.execute_input": "2023-02-18T17:48:24.988417Z",
     "iopub.status.busy": "2023-02-18T17:48:24.987455Z",
     "iopub.status.idle": "2023-02-18T17:48:24.994907Z",
     "shell.execute_reply": "2023-02-18T17:48:24.994077Z"
    },
    "papermill": {
     "duration": 0.064569,
     "end_time": "2023-02-18T17:48:24.997243",
     "exception": false,
     "start_time": "2023-02-18T17:48:24.932674",
     "status": "completed"
    },
    "tags": []
   },
   "outputs": [
    {
     "data": {
      "text/plain": [
       "2.6611174241899898"
      ]
     },
     "execution_count": 150,
     "metadata": {},
     "output_type": "execute_result"
    }
   ],
   "source": [
    "# calculate the RMSE of the model\n",
    "rmse = np.sqrt(mse)\n",
    "rmse"
   ]
  },
  {
   "cell_type": "code",
   "execution_count": 151,
   "id": "7b58392e",
   "metadata": {
    "execution": {
     "iopub.execute_input": "2023-02-18T17:48:25.105925Z",
     "iopub.status.busy": "2023-02-18T17:48:25.105084Z",
     "iopub.status.idle": "2023-02-18T17:48:25.119766Z",
     "shell.execute_reply": "2023-02-18T17:48:25.118191Z"
    },
    "papermill": {
     "duration": 0.073572,
     "end_time": "2023-02-18T17:48:25.124614",
     "exception": false,
     "start_time": "2023-02-18T17:48:25.051042",
     "status": "completed"
    },
    "tags": []
   },
   "outputs": [],
   "source": [
    "# Ridge\n",
    "L2 = Ridge(alpha=1.0)\n",
    "L2.fit(x_train, y_train) \n",
    "y_pred3 = L2.predict(x_test)"
   ]
  },
  {
   "cell_type": "code",
   "execution_count": 152,
   "id": "de22fd5a",
   "metadata": {
    "execution": {
     "iopub.execute_input": "2023-02-18T17:48:25.302955Z",
     "iopub.status.busy": "2023-02-18T17:48:25.302509Z",
     "iopub.status.idle": "2023-02-18T17:48:25.311530Z",
     "shell.execute_reply": "2023-02-18T17:48:25.310412Z"
    },
    "papermill": {
     "duration": 0.065071,
     "end_time": "2023-02-18T17:48:25.313833",
     "exception": false,
     "start_time": "2023-02-18T17:48:25.248762",
     "status": "completed"
    },
    "tags": []
   },
   "outputs": [
    {
     "data": {
      "text/plain": [
       "0.8493873434940765"
      ]
     },
     "execution_count": 152,
     "metadata": {},
     "output_type": "execute_result"
    }
   ],
   "source": [
    "r2 = r2_score(y_test, y_pred3)\n",
    "r2 "
   ]
  },
  {
   "cell_type": "code",
   "execution_count": 153,
   "id": "d9004915",
   "metadata": {
    "execution": {
     "iopub.execute_input": "2023-02-18T17:48:25.422944Z",
     "iopub.status.busy": "2023-02-18T17:48:25.422148Z",
     "iopub.status.idle": "2023-02-18T17:48:25.429107Z",
     "shell.execute_reply": "2023-02-18T17:48:25.428322Z"
    },
    "papermill": {
     "duration": 0.06417,
     "end_time": "2023-02-18T17:48:25.431557",
     "exception": false,
     "start_time": "2023-02-18T17:48:25.367387",
     "status": "completed"
    },
    "tags": []
   },
   "outputs": [
    {
     "data": {
      "text/plain": [
       "1.5750406339612182"
      ]
     },
     "execution_count": 153,
     "metadata": {},
     "output_type": "execute_result"
    }
   ],
   "source": [
    "# calculate the MAE of the model\n",
    "mae = mean_absolute_error(y_test, y_pred3)\n",
    "mae"
   ]
  },
  {
   "cell_type": "code",
   "execution_count": 154,
   "id": "504bef51",
   "metadata": {
    "execution": {
     "iopub.execute_input": "2023-02-18T17:48:25.539985Z",
     "iopub.status.busy": "2023-02-18T17:48:25.539553Z",
     "iopub.status.idle": "2023-02-18T17:48:25.546719Z",
     "shell.execute_reply": "2023-02-18T17:48:25.545941Z"
    },
    "papermill": {
     "duration": 0.063144,
     "end_time": "2023-02-18T17:48:25.548891",
     "exception": false,
     "start_time": "2023-02-18T17:48:25.485747",
     "status": "completed"
    },
    "tags": []
   },
   "outputs": [
    {
     "data": {
      "text/plain": [
       "5.419729567734293"
      ]
     },
     "execution_count": 154,
     "metadata": {},
     "output_type": "execute_result"
    }
   ],
   "source": [
    "# calculate the MSE of the model\n",
    "mse = mean_squared_error(y_test, y_pred3)\n",
    "mse"
   ]
  },
  {
   "cell_type": "code",
   "execution_count": 155,
   "id": "2ed8761d",
   "metadata": {
    "execution": {
     "iopub.execute_input": "2023-02-18T17:48:25.656165Z",
     "iopub.status.busy": "2023-02-18T17:48:25.655730Z",
     "iopub.status.idle": "2023-02-18T17:48:25.663265Z",
     "shell.execute_reply": "2023-02-18T17:48:25.661987Z"
    },
    "papermill": {
     "duration": 0.063835,
     "end_time": "2023-02-18T17:48:25.665509",
     "exception": false,
     "start_time": "2023-02-18T17:48:25.601674",
     "status": "completed"
    },
    "tags": []
   },
   "outputs": [
    {
     "data": {
      "text/plain": [
       "2.328031264337808"
      ]
     },
     "execution_count": 155,
     "metadata": {},
     "output_type": "execute_result"
    }
   ],
   "source": [
    "# calculate the RMSE of the model\n",
    "rmse = np.sqrt(mse)\n",
    "rmse"
   ]
  },
  {
   "cell_type": "markdown",
   "id": "b0074d7b",
   "metadata": {
    "papermill": {
     "duration": 0.052035,
     "end_time": "2023-02-18T17:48:25.770547",
     "exception": false,
     "start_time": "2023-02-18T17:48:25.718512",
     "status": "completed"
    },
    "tags": []
   },
   "source": [
    "Client 5: Buffalo Women & Children’s Hospital 11051\n"
   ]
  },
  {
   "cell_type": "code",
   "execution_count": 156,
   "id": "74010d67",
   "metadata": {
    "execution": {
     "iopub.execute_input": "2023-02-18T17:48:25.932590Z",
     "iopub.status.busy": "2023-02-18T17:48:25.931665Z",
     "iopub.status.idle": "2023-02-18T17:48:26.103111Z",
     "shell.execute_reply": "2023-02-18T17:48:26.102017Z"
    },
    "papermill": {
     "duration": 0.282747,
     "end_time": "2023-02-18T17:48:26.105628",
     "exception": false,
     "start_time": "2023-02-18T17:48:25.822881",
     "status": "completed"
    },
    "tags": []
   },
   "outputs": [],
   "source": [
    "\n",
    "Buffalo_df=df[df[\"Facility Name\"]== \"Women And Children's Hospital Of Buffalo\"]"
   ]
  },
  {
   "cell_type": "code",
   "execution_count": 157,
   "id": "a426ad32",
   "metadata": {
    "execution": {
     "iopub.execute_input": "2023-02-18T17:48:26.213225Z",
     "iopub.status.busy": "2023-02-18T17:48:26.212781Z",
     "iopub.status.idle": "2023-02-18T17:48:26.233880Z",
     "shell.execute_reply": "2023-02-18T17:48:26.232902Z"
    },
    "papermill": {
     "duration": 0.078414,
     "end_time": "2023-02-18T17:48:26.236435",
     "exception": false,
     "start_time": "2023-02-18T17:48:26.158021",
     "status": "completed"
    },
    "tags": []
   },
   "outputs": [
    {
     "name": "stdout",
     "output_type": "stream",
     "text": [
      "<class 'pandas.core.frame.DataFrame'>\n",
      "Int64Index: 13020 entries, 3309 to 54603\n",
      "Data columns (total 28 columns):\n",
      " #   Column                            Non-Null Count  Dtype   \n",
      "---  ------                            --------------  -----   \n",
      " 0   Hospital County                   13020 non-null  category\n",
      " 1   Operating Certificate Number      13020 non-null  float64 \n",
      " 2   Facility Id                       13020 non-null  float64 \n",
      " 3   Facility Name                     13020 non-null  object  \n",
      " 4   Age Group                         13020 non-null  category\n",
      " 5   Zip Code - 3 digits               12941 non-null  category\n",
      " 6   Gender                            13020 non-null  category\n",
      " 7   Race                              13020 non-null  category\n",
      " 8   Ethnicity                         13020 non-null  category\n",
      " 9   Length of Stay                    13020 non-null  category\n",
      " 10  Type of Admission                 13020 non-null  category\n",
      " 11  Patient Disposition               13020 non-null  category\n",
      " 12  Discharge Year                    13020 non-null  int64   \n",
      " 13  CCS Diagnosis Code                13020 non-null  int64   \n",
      " 14  CCS Procedure Code                13020 non-null  int64   \n",
      " 15  APR DRG Code                      13020 non-null  int64   \n",
      " 16  APR MDC Code                      13020 non-null  int64   \n",
      " 17  APR Severity of Illness Code      13020 non-null  int64   \n",
      " 18  APR Risk of Mortality             13020 non-null  category\n",
      " 19  APR Medical Surgical Description  13020 non-null  category\n",
      " 20  Payment Typology 1                13020 non-null  category\n",
      " 21  Payment Typology 2                12947 non-null  category\n",
      " 22  Payment Typology 3                787 non-null    category\n",
      " 23  Birth Weight                      13020 non-null  int64   \n",
      " 24  Abortion Edit Indicator           13020 non-null  category\n",
      " 25  Emergency Department Indicator    13020 non-null  category\n",
      " 26  Total Charges                     13020 non-null  float64 \n",
      " 27  Total Costs                       13020 non-null  float64 \n",
      "dtypes: category(16), float64(4), int64(7), object(1)\n",
      "memory usage: 1.5+ MB\n"
     ]
    }
   ],
   "source": [
    "Buffalo_df.info()"
   ]
  },
  {
   "cell_type": "code",
   "execution_count": 158,
   "id": "4131337d",
   "metadata": {
    "execution": {
     "iopub.execute_input": "2023-02-18T17:48:26.343789Z",
     "iopub.status.busy": "2023-02-18T17:48:26.342947Z",
     "iopub.status.idle": "2023-02-18T17:48:26.349663Z",
     "shell.execute_reply": "2023-02-18T17:48:26.348709Z"
    },
    "papermill": {
     "duration": 0.063057,
     "end_time": "2023-02-18T17:48:26.352000",
     "exception": false,
     "start_time": "2023-02-18T17:48:26.288943",
     "status": "completed"
    },
    "tags": []
   },
   "outputs": [],
   "source": [
    "Buffalo_df= Buffalo_df.drop(\"Facility Name\", axis=1)"
   ]
  },
  {
   "cell_type": "code",
   "execution_count": 159,
   "id": "68139006",
   "metadata": {
    "execution": {
     "iopub.execute_input": "2023-02-18T17:48:26.460095Z",
     "iopub.status.busy": "2023-02-18T17:48:26.459439Z",
     "iopub.status.idle": "2023-02-18T17:48:26.466096Z",
     "shell.execute_reply": "2023-02-18T17:48:26.465156Z"
    },
    "papermill": {
     "duration": 0.064065,
     "end_time": "2023-02-18T17:48:26.468433",
     "exception": false,
     "start_time": "2023-02-18T17:48:26.404368",
     "status": "completed"
    },
    "tags": []
   },
   "outputs": [],
   "source": [
    "Buffalo_df = Buffalo_df.drop([\"Payment Typology 2\",    \"Payment Typology 3\"], axis=1)\n"
   ]
  },
  {
   "cell_type": "code",
   "execution_count": 160,
   "id": "c5c7a9d7",
   "metadata": {
    "execution": {
     "iopub.execute_input": "2023-02-18T17:48:26.574712Z",
     "iopub.status.busy": "2023-02-18T17:48:26.574304Z",
     "iopub.status.idle": "2023-02-18T17:48:26.583532Z",
     "shell.execute_reply": "2023-02-18T17:48:26.582073Z"
    },
    "papermill": {
     "duration": 0.065641,
     "end_time": "2023-02-18T17:48:26.586042",
     "exception": false,
     "start_time": "2023-02-18T17:48:26.520401",
     "status": "completed"
    },
    "tags": []
   },
   "outputs": [],
   "source": [
    " #   simple mapping on binary features.\n",
    "Buffalo_df['Abortion Edit Indicator'] = Buffalo_df['Abortion Edit Indicator'].apply(\n",
    "     lambda x: 1 if x == 'Y' else (0 if x == 'N' else None))\n",
    "Buffalo_df['Emergency Department Indicator'] = Buffalo_df['Emergency Department Indicator'].apply(\n",
    "    lambda x: 1 if x == 'Y' else (0 if x == 'N' else None))"
   ]
  },
  {
   "cell_type": "code",
   "execution_count": 161,
   "id": "9384917a",
   "metadata": {
    "execution": {
     "iopub.execute_input": "2023-02-18T17:48:26.696286Z",
     "iopub.status.busy": "2023-02-18T17:48:26.695847Z",
     "iopub.status.idle": "2023-02-18T17:48:26.708273Z",
     "shell.execute_reply": "2023-02-18T17:48:26.707327Z"
    },
    "papermill": {
     "duration": 0.070335,
     "end_time": "2023-02-18T17:48:26.710810",
     "exception": false,
     "start_time": "2023-02-18T17:48:26.640475",
     "status": "completed"
    },
    "tags": []
   },
   "outputs": [],
   "source": [
    "Buffalo_df[\"Length of Stay\"]=pd.to_numeric(Buffalo_df[\"Length of Stay\"],errors='coerce')"
   ]
  },
  {
   "cell_type": "code",
   "execution_count": 162,
   "id": "4b101585",
   "metadata": {
    "execution": {
     "iopub.execute_input": "2023-02-18T17:48:26.819876Z",
     "iopub.status.busy": "2023-02-18T17:48:26.818702Z",
     "iopub.status.idle": "2023-02-18T17:48:26.874838Z",
     "shell.execute_reply": "2023-02-18T17:48:26.873489Z"
    },
    "papermill": {
     "duration": 0.113642,
     "end_time": "2023-02-18T17:48:26.877563",
     "exception": false,
     "start_time": "2023-02-18T17:48:26.763921",
     "status": "completed"
    },
    "tags": []
   },
   "outputs": [],
   "source": [
    "list=  [ \"Hospital County\",\"Age Group\"\n",
    "    ,\"Gender\",   \n",
    " \"Race\" , \n",
    "\"Ethnicity\", \n",
    "\"Gender\" , \n",
    "\"Race\" ,    \n",
    " \"Ethnicity\" ,        \n",
    " \"Type of Admission\"  ,  \n",
    "  \"Patient Disposition\",      \n",
    " \"Type of Admission\" ,  \n",
    " \"Patient Disposition\"  ,\n",
    "  \"APR Risk of Mortality\" ,   \n",
    " \"APR Medical Surgical Description\" ,\n",
    " \"Payment Typology 1\"   ,   \n",
    " \"Abortion Edit Indicator\"     ,  \n",
    " \"Emergency Department Indicator\",\n",
    "       \"Zip Code - 3 digits\"]  \n",
    "\n",
    "# Import label encoder\n",
    "from sklearn import preprocessing\n",
    "  \n",
    "# label_encoder object knows how to understand word labels.\n",
    "label_encoder = preprocessing.LabelEncoder()\n",
    "  \n",
    "# Encode labels in column 'species'.\n",
    "for col in list :\n",
    "  Buffalo_df[col]= label_encoder.fit_transform(Buffalo_df[col])"
   ]
  },
  {
   "cell_type": "code",
   "execution_count": 163,
   "id": "08f5b112",
   "metadata": {
    "execution": {
     "iopub.execute_input": "2023-02-18T17:48:27.004555Z",
     "iopub.status.busy": "2023-02-18T17:48:27.003266Z",
     "iopub.status.idle": "2023-02-18T17:48:27.011331Z",
     "shell.execute_reply": "2023-02-18T17:48:27.010290Z"
    },
    "papermill": {
     "duration": 0.084493,
     "end_time": "2023-02-18T17:48:27.014234",
     "exception": false,
     "start_time": "2023-02-18T17:48:26.929741",
     "status": "completed"
    },
    "tags": []
   },
   "outputs": [],
   "source": [
    "x = Glens_df.drop([\"Length of Stay\"], axis =1)\n",
    "y = Glens_df[\"Length of Stay\"]"
   ]
  },
  {
   "cell_type": "code",
   "execution_count": 164,
   "id": "331af3ee",
   "metadata": {
    "execution": {
     "iopub.execute_input": "2023-02-18T17:48:27.128112Z",
     "iopub.status.busy": "2023-02-18T17:48:27.127347Z",
     "iopub.status.idle": "2023-02-18T17:48:27.136858Z",
     "shell.execute_reply": "2023-02-18T17:48:27.135327Z"
    },
    "papermill": {
     "duration": 0.066403,
     "end_time": "2023-02-18T17:48:27.139468",
     "exception": false,
     "start_time": "2023-02-18T17:48:27.073065",
     "status": "completed"
    },
    "tags": []
   },
   "outputs": [],
   "source": [
    "x_train, x_test, y_train, y_test = train_test_split(x, y, test_size=0.3, random_state=42)"
   ]
  },
  {
   "cell_type": "code",
   "execution_count": 165,
   "id": "51a5ea3e",
   "metadata": {
    "execution": {
     "iopub.execute_input": "2023-02-18T17:48:27.248324Z",
     "iopub.status.busy": "2023-02-18T17:48:27.247847Z",
     "iopub.status.idle": "2023-02-18T17:48:27.273826Z",
     "shell.execute_reply": "2023-02-18T17:48:27.272080Z"
    },
    "papermill": {
     "duration": 0.085293,
     "end_time": "2023-02-18T17:48:27.278982",
     "exception": false,
     "start_time": "2023-02-18T17:48:27.193689",
     "status": "completed"
    },
    "tags": []
   },
   "outputs": [],
   "source": [
    "# Linear Regression\n",
    "\n",
    "LR = LinearRegression()\n",
    "LR.fit(x_train, y_train)\n",
    "LR.score(x_train, y_train)\n",
    "y_pred =LR.predict(x_test)"
   ]
  },
  {
   "cell_type": "code",
   "execution_count": 166,
   "id": "a4fbf970",
   "metadata": {
    "execution": {
     "iopub.execute_input": "2023-02-18T17:48:27.460246Z",
     "iopub.status.busy": "2023-02-18T17:48:27.459784Z",
     "iopub.status.idle": "2023-02-18T17:48:27.468051Z",
     "shell.execute_reply": "2023-02-18T17:48:27.467075Z"
    },
    "papermill": {
     "duration": 0.064994,
     "end_time": "2023-02-18T17:48:27.470190",
     "exception": false,
     "start_time": "2023-02-18T17:48:27.405196",
     "status": "completed"
    },
    "tags": []
   },
   "outputs": [
    {
     "data": {
      "text/plain": [
       "0.7753107229320534"
      ]
     },
     "execution_count": 166,
     "metadata": {},
     "output_type": "execute_result"
    }
   ],
   "source": [
    "r2 = r2_score(y_test, y_pred)\n",
    "r2 \n"
   ]
  },
  {
   "cell_type": "code",
   "execution_count": 167,
   "id": "194c1b3f",
   "metadata": {
    "execution": {
     "iopub.execute_input": "2023-02-18T17:48:27.579055Z",
     "iopub.status.busy": "2023-02-18T17:48:27.577824Z",
     "iopub.status.idle": "2023-02-18T17:48:27.584906Z",
     "shell.execute_reply": "2023-02-18T17:48:27.584137Z"
    },
    "papermill": {
     "duration": 0.063254,
     "end_time": "2023-02-18T17:48:27.586945",
     "exception": false,
     "start_time": "2023-02-18T17:48:27.523691",
     "status": "completed"
    },
    "tags": []
   },
   "outputs": [
    {
     "data": {
      "text/plain": [
       "1.519038644423741"
      ]
     },
     "execution_count": 167,
     "metadata": {},
     "output_type": "execute_result"
    }
   ],
   "source": [
    "# calculate the MAE of the model\n",
    "mae = mean_absolute_error(y_test, y_pred)\n",
    "mae"
   ]
  },
  {
   "cell_type": "code",
   "execution_count": 168,
   "id": "fd284236",
   "metadata": {
    "execution": {
     "iopub.execute_input": "2023-02-18T17:48:27.696105Z",
     "iopub.status.busy": "2023-02-18T17:48:27.695415Z",
     "iopub.status.idle": "2023-02-18T17:48:27.701899Z",
     "shell.execute_reply": "2023-02-18T17:48:27.701157Z"
    },
    "papermill": {
     "duration": 0.064757,
     "end_time": "2023-02-18T17:48:27.704387",
     "exception": false,
     "start_time": "2023-02-18T17:48:27.639630",
     "status": "completed"
    },
    "tags": []
   },
   "outputs": [
    {
     "data": {
      "text/plain": [
       "8.394303923962779"
      ]
     },
     "execution_count": 168,
     "metadata": {},
     "output_type": "execute_result"
    }
   ],
   "source": [
    "# calculate the MSE of the model\n",
    "mse = mean_squared_error(y_test, y_pred)\n",
    "mse"
   ]
  },
  {
   "cell_type": "code",
   "execution_count": 169,
   "id": "0062c9f5",
   "metadata": {
    "execution": {
     "iopub.execute_input": "2023-02-18T17:48:27.814493Z",
     "iopub.status.busy": "2023-02-18T17:48:27.813704Z",
     "iopub.status.idle": "2023-02-18T17:48:27.819733Z",
     "shell.execute_reply": "2023-02-18T17:48:27.818984Z"
    },
    "papermill": {
     "duration": 0.062774,
     "end_time": "2023-02-18T17:48:27.821840",
     "exception": false,
     "start_time": "2023-02-18T17:48:27.759066",
     "status": "completed"
    },
    "tags": []
   },
   "outputs": [
    {
     "data": {
      "text/plain": [
       "2.8972925161196237"
      ]
     },
     "execution_count": 169,
     "metadata": {},
     "output_type": "execute_result"
    }
   ],
   "source": [
    "# calculate the RMSE of the model\n",
    "rmse = np.sqrt(mse)\n",
    "rmse"
   ]
  },
  {
   "cell_type": "code",
   "execution_count": 170,
   "id": "341bb3d4",
   "metadata": {
    "execution": {
     "iopub.execute_input": "2023-02-18T17:48:27.932219Z",
     "iopub.status.busy": "2023-02-18T17:48:27.931529Z",
     "iopub.status.idle": "2023-02-18T17:48:28.066679Z",
     "shell.execute_reply": "2023-02-18T17:48:28.064848Z"
    },
    "papermill": {
     "duration": 0.195596,
     "end_time": "2023-02-18T17:48:28.071496",
     "exception": false,
     "start_time": "2023-02-18T17:48:27.875900",
     "status": "completed"
    },
    "tags": []
   },
   "outputs": [],
   "source": [
    "# LASSO\n",
    "L1 = linear_model.Lasso()\n",
    "L1.fit(x_train,y_train)\n",
    "y_pred1 = L1.predict(x_test)"
   ]
  },
  {
   "cell_type": "code",
   "execution_count": 171,
   "id": "3a4100a6",
   "metadata": {
    "execution": {
     "iopub.execute_input": "2023-02-18T17:48:28.252526Z",
     "iopub.status.busy": "2023-02-18T17:48:28.252082Z",
     "iopub.status.idle": "2023-02-18T17:48:28.261262Z",
     "shell.execute_reply": "2023-02-18T17:48:28.259951Z"
    },
    "papermill": {
     "duration": 0.068291,
     "end_time": "2023-02-18T17:48:28.263669",
     "exception": false,
     "start_time": "2023-02-18T17:48:28.195378",
     "status": "completed"
    },
    "tags": []
   },
   "outputs": [
    {
     "data": {
      "text/plain": [
       "0.7507020198871027"
      ]
     },
     "execution_count": 171,
     "metadata": {},
     "output_type": "execute_result"
    }
   ],
   "source": [
    "r2 = r2_score(y_test, y_pred1)\n",
    "r2 \n"
   ]
  },
  {
   "cell_type": "code",
   "execution_count": 172,
   "id": "327dff74",
   "metadata": {
    "execution": {
     "iopub.execute_input": "2023-02-18T17:48:28.373867Z",
     "iopub.status.busy": "2023-02-18T17:48:28.373052Z",
     "iopub.status.idle": "2023-02-18T17:48:28.381066Z",
     "shell.execute_reply": "2023-02-18T17:48:28.380093Z"
    },
    "papermill": {
     "duration": 0.066217,
     "end_time": "2023-02-18T17:48:28.383448",
     "exception": false,
     "start_time": "2023-02-18T17:48:28.317231",
     "status": "completed"
    },
    "tags": []
   },
   "outputs": [
    {
     "data": {
      "text/plain": [
       "1.5980824331021113"
      ]
     },
     "execution_count": 172,
     "metadata": {},
     "output_type": "execute_result"
    }
   ],
   "source": [
    "# calculate the MAE of the model\n",
    "mae = mean_absolute_error(y_test, y_pred1)\n",
    "mae"
   ]
  },
  {
   "cell_type": "code",
   "execution_count": 173,
   "id": "a3109470",
   "metadata": {
    "execution": {
     "iopub.execute_input": "2023-02-18T17:48:28.494209Z",
     "iopub.status.busy": "2023-02-18T17:48:28.493454Z",
     "iopub.status.idle": "2023-02-18T17:48:28.501416Z",
     "shell.execute_reply": "2023-02-18T17:48:28.500364Z"
    },
    "papermill": {
     "duration": 0.066494,
     "end_time": "2023-02-18T17:48:28.503700",
     "exception": false,
     "start_time": "2023-02-18T17:48:28.437206",
     "status": "completed"
    },
    "tags": []
   },
   "outputs": [
    {
     "data": {
      "text/plain": [
       "9.313675490018403"
      ]
     },
     "execution_count": 173,
     "metadata": {},
     "output_type": "execute_result"
    }
   ],
   "source": [
    "# calculate the MSE of the model\n",
    "mse = mean_squared_error(y_test, y_pred1)\n",
    "mse"
   ]
  },
  {
   "cell_type": "code",
   "execution_count": 174,
   "id": "f79537bd",
   "metadata": {
    "execution": {
     "iopub.execute_input": "2023-02-18T17:48:28.613441Z",
     "iopub.status.busy": "2023-02-18T17:48:28.612727Z",
     "iopub.status.idle": "2023-02-18T17:48:28.620044Z",
     "shell.execute_reply": "2023-02-18T17:48:28.618870Z"
    },
    "papermill": {
     "duration": 0.064406,
     "end_time": "2023-02-18T17:48:28.622197",
     "exception": false,
     "start_time": "2023-02-18T17:48:28.557791",
     "status": "completed"
    },
    "tags": []
   },
   "outputs": [
    {
     "data": {
      "text/plain": [
       "3.0518314976450456"
      ]
     },
     "execution_count": 174,
     "metadata": {},
     "output_type": "execute_result"
    }
   ],
   "source": [
    "# calculate the RMSE of the model\n",
    "rmse = np.sqrt(mse)\n",
    "rmse"
   ]
  },
  {
   "cell_type": "code",
   "execution_count": 175,
   "id": "952f5cd9",
   "metadata": {
    "execution": {
     "iopub.execute_input": "2023-02-18T17:48:28.736903Z",
     "iopub.status.busy": "2023-02-18T17:48:28.735897Z",
     "iopub.status.idle": "2023-02-18T17:48:28.756403Z",
     "shell.execute_reply": "2023-02-18T17:48:28.754604Z"
    },
    "papermill": {
     "duration": 0.083167,
     "end_time": "2023-02-18T17:48:28.761148",
     "exception": false,
     "start_time": "2023-02-18T17:48:28.677981",
     "status": "completed"
    },
    "tags": []
   },
   "outputs": [],
   "source": [
    "# Ridge\n",
    "L2 = Ridge(alpha=1.0)\n",
    "L2.fit(x_train, y_train) \n",
    "y_pred3 = L2.predict(x_test)"
   ]
  },
  {
   "cell_type": "code",
   "execution_count": 176,
   "id": "99ea6704",
   "metadata": {
    "execution": {
     "iopub.execute_input": "2023-02-18T17:48:28.945027Z",
     "iopub.status.busy": "2023-02-18T17:48:28.944630Z",
     "iopub.status.idle": "2023-02-18T17:48:28.952792Z",
     "shell.execute_reply": "2023-02-18T17:48:28.951485Z"
    },
    "papermill": {
     "duration": 0.066657,
     "end_time": "2023-02-18T17:48:28.955213",
     "exception": false,
     "start_time": "2023-02-18T17:48:28.888556",
     "status": "completed"
    },
    "tags": []
   },
   "outputs": [
    {
     "data": {
      "text/plain": [
       "0.7753072003472253"
      ]
     },
     "execution_count": 176,
     "metadata": {},
     "output_type": "execute_result"
    }
   ],
   "source": [
    "r2 = r2_score(y_test, y_pred3)\n",
    "r2 "
   ]
  },
  {
   "cell_type": "code",
   "execution_count": 177,
   "id": "70f715ff",
   "metadata": {
    "execution": {
     "iopub.execute_input": "2023-02-18T17:48:29.066671Z",
     "iopub.status.busy": "2023-02-18T17:48:29.066241Z",
     "iopub.status.idle": "2023-02-18T17:48:29.074976Z",
     "shell.execute_reply": "2023-02-18T17:48:29.073855Z"
    },
    "papermill": {
     "duration": 0.068033,
     "end_time": "2023-02-18T17:48:29.077376",
     "exception": false,
     "start_time": "2023-02-18T17:48:29.009343",
     "status": "completed"
    },
    "tags": []
   },
   "outputs": [
    {
     "data": {
      "text/plain": [
       "1.5188909684172016"
      ]
     },
     "execution_count": 177,
     "metadata": {},
     "output_type": "execute_result"
    }
   ],
   "source": [
    "# calculate the MAE of the model\n",
    "mae = mean_absolute_error(y_test, y_pred3)\n",
    "mae"
   ]
  },
  {
   "cell_type": "code",
   "execution_count": 178,
   "id": "95906c10",
   "metadata": {
    "execution": {
     "iopub.execute_input": "2023-02-18T17:48:29.188541Z",
     "iopub.status.busy": "2023-02-18T17:48:29.187862Z",
     "iopub.status.idle": "2023-02-18T17:48:29.195643Z",
     "shell.execute_reply": "2023-02-18T17:48:29.194595Z"
    },
    "papermill": {
     "duration": 0.065803,
     "end_time": "2023-02-18T17:48:29.197909",
     "exception": false,
     "start_time": "2023-02-18T17:48:29.132106",
     "status": "completed"
    },
    "tags": []
   },
   "outputs": [
    {
     "data": {
      "text/plain": [
       "8.394435526360677"
      ]
     },
     "execution_count": 178,
     "metadata": {},
     "output_type": "execute_result"
    }
   ],
   "source": [
    "# calculate the MSE of the model\n",
    "mse = mean_squared_error(y_test, y_pred3)\n",
    "mse"
   ]
  },
  {
   "cell_type": "code",
   "execution_count": 179,
   "id": "bef378e1",
   "metadata": {
    "execution": {
     "iopub.execute_input": "2023-02-18T17:48:29.308667Z",
     "iopub.status.busy": "2023-02-18T17:48:29.307994Z",
     "iopub.status.idle": "2023-02-18T17:48:29.315000Z",
     "shell.execute_reply": "2023-02-18T17:48:29.314046Z"
    },
    "papermill": {
     "duration": 0.064684,
     "end_time": "2023-02-18T17:48:29.317105",
     "exception": false,
     "start_time": "2023-02-18T17:48:29.252421",
     "status": "completed"
    },
    "tags": []
   },
   "outputs": [
    {
     "data": {
      "text/plain": [
       "2.8973152273028004"
      ]
     },
     "execution_count": 179,
     "metadata": {},
     "output_type": "execute_result"
    }
   ],
   "source": [
    "# calculate the RMSE of the model\n",
    "rmse = np.sqrt(mse)\n",
    "rmse"
   ]
  },
  {
   "cell_type": "code",
   "execution_count": null,
   "id": "47d2e12a",
   "metadata": {
    "papermill": {
     "duration": 0.060067,
     "end_time": "2023-02-18T17:48:29.431951",
     "exception": false,
     "start_time": "2023-02-18T17:48:29.371884",
     "status": "completed"
    },
    "tags": []
   },
   "outputs": [],
   "source": []
  },
  {
   "cell_type": "code",
   "execution_count": null,
   "id": "56c744bf",
   "metadata": {
    "papermill": {
     "duration": 0.053557,
     "end_time": "2023-02-18T17:48:29.542838",
     "exception": false,
     "start_time": "2023-02-18T17:48:29.489281",
     "status": "completed"
    },
    "tags": []
   },
   "outputs": [],
   "source": []
  },
  {
   "cell_type": "code",
   "execution_count": null,
   "id": "43c9cc6b",
   "metadata": {
    "papermill": {
     "duration": 0.053928,
     "end_time": "2023-02-18T17:48:29.650970",
     "exception": false,
     "start_time": "2023-02-18T17:48:29.597042",
     "status": "completed"
    },
    "tags": []
   },
   "outputs": [],
   "source": []
  }
 ],
 "metadata": {
  "kernelspec": {
   "display_name": "Python 3",
   "language": "python",
   "name": "python3"
  },
  "language_info": {
   "codemirror_mode": {
    "name": "ipython",
    "version": 3
   },
   "file_extension": ".py",
   "mimetype": "text/x-python",
   "name": "python",
   "nbconvert_exporter": "python",
   "pygments_lexer": "ipython3",
   "version": "3.7.12"
  },
  "papermill": {
   "default_parameters": {},
   "duration": 80.836348,
   "end_time": "2023-02-18T17:48:30.729739",
   "environment_variables": {},
   "exception": null,
   "input_path": "__notebook__.ipynb",
   "output_path": "__notebook__.ipynb",
   "parameters": {},
   "start_time": "2023-02-18T17:47:09.893391",
   "version": "2.3.4"
  }
 },
 "nbformat": 4,
 "nbformat_minor": 5
}
