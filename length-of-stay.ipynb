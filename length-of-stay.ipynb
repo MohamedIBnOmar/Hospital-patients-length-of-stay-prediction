{
 "cells": [
  {
   "cell_type": "code",
   "execution_count": 1,
   "id": "299f1975",
   "metadata": {
    "_cell_guid": "b1076dfc-b9ad-4769-8c92-a6c4dae69d19",
    "_uuid": "8f2839f25d086af736a60e9eeb907d3b93b6e0e5",
    "execution": {
     "iopub.execute_input": "2023-02-20T18:19:39.054288Z",
     "iopub.status.busy": "2023-02-20T18:19:39.053530Z",
     "iopub.status.idle": "2023-02-20T18:19:39.089634Z",
     "shell.execute_reply": "2023-02-20T18:19:39.088490Z"
    },
    "papermill": {
     "duration": 0.08906,
     "end_time": "2023-02-20T18:19:39.092101",
     "exception": false,
     "start_time": "2023-02-20T18:19:39.003041",
     "status": "completed"
    },
    "tags": []
   },
   "outputs": [
    {
     "name": "stdout",
     "output_type": "stream",
     "text": [
      "/kaggle/input/length-of-stay-prediction/Hospital_Inpatient_Discharges__SPARCS_De-Identified___2015.csv\n"
     ]
    }
   ],
   "source": [
    "# This Python 3 environment comes with many helpful analytics libraries installed\n",
    "# It is defined by the kaggle/python Docker image: https://github.com/kaggle/docker-python\n",
    "# For example, here's several helpful packages to load\n",
    "\n",
    "import numpy as np # linear algebra\n",
    "import pandas as pd # data processing, CSV file I/O (e.g. pd.read_csv)\n",
    "\n",
    "# Input data files are available in the read-only \"../input/\" directory\n",
    "# For example, running this (by clicking run or pressing Shift+Enter) will list all files under the input directory\n",
    "\n",
    "import os\n",
    "for dirname, _, filenames in os.walk('/kaggle/input'):\n",
    "    for filename in filenames:\n",
    "        print(os.path.join(dirname, filename))\n",
    "\n",
    "# You can write up to 20GB to the current directory (/kaggle/working/) that gets preserved as output when you create a version using \"Save & Run All\" \n",
    "# You can also write temporary files to /kaggle/temp/, but they won't be saved outside of the current session"
   ]
  },
  {
   "cell_type": "code",
   "execution_count": 2,
   "id": "814c78af",
   "metadata": {
    "execution": {
     "iopub.execute_input": "2023-02-20T18:19:39.193078Z",
     "iopub.status.busy": "2023-02-20T18:19:39.192087Z",
     "iopub.status.idle": "2023-02-20T18:20:13.867995Z",
     "shell.execute_reply": "2023-02-20T18:20:13.866659Z"
    },
    "papermill": {
     "duration": 34.73121,
     "end_time": "2023-02-20T18:20:13.870929",
     "exception": false,
     "start_time": "2023-02-20T18:19:39.139719",
     "status": "completed"
    },
    "tags": []
   },
   "outputs": [
    {
     "name": "stderr",
     "output_type": "stream",
     "text": [
      "/opt/conda/lib/python3.7/site-packages/IPython/core/interactiveshell.py:3552: DtypeWarning: Columns (10) have mixed types.Specify dtype option on import or set low_memory=False.\n",
      "  exec(code_obj, self.user_global_ns, self.user_ns)\n"
     ]
    }
   ],
   "source": [
    "df=pd.read_csv(\"/kaggle/input/length-of-stay-prediction/Hospital_Inpatient_Discharges__SPARCS_De-Identified___2015.csv\")"
   ]
  },
  {
   "cell_type": "code",
   "execution_count": 3,
   "id": "6c4855f8",
   "metadata": {
    "execution": {
     "iopub.execute_input": "2023-02-20T18:20:13.966106Z",
     "iopub.status.busy": "2023-02-20T18:20:13.965704Z",
     "iopub.status.idle": "2023-02-20T18:20:14.121356Z",
     "shell.execute_reply": "2023-02-20T18:20:14.120237Z"
    },
    "papermill": {
     "duration": 0.205362,
     "end_time": "2023-02-20T18:20:14.123536",
     "exception": false,
     "start_time": "2023-02-20T18:20:13.918174",
     "status": "completed"
    },
    "tags": []
   },
   "outputs": [
    {
     "data": {
      "text/plain": [
       "Mount Sinai Hospital                                              55874\n",
       "North Shore University Hospital                                   47664\n",
       "New York Presbyterian Hospital - Columbia Presbyterian Center     47495\n",
       "New York Presbyterian Hospital - New York Weill Cornell Center    43148\n",
       "Montefiore Medical Center - Henry & Lucy Moses Div                42694\n",
       "                                                                  ...  \n",
       "Cuba Memorial Hospital Inc                                           61\n",
       "Catskill Regional Medical Center - G. Hermann Site                   50\n",
       "Monroe Community Hospital                                            24\n",
       "Westfield Memorial Hospital Inc                                      11\n",
       "Albany Medical Center - South Clinical Campus                         7\n",
       "Name: Facility Name, Length: 224, dtype: int64"
      ]
     },
     "execution_count": 3,
     "metadata": {},
     "output_type": "execute_result"
    }
   ],
   "source": [
    "df[\"Facility Name\"].value_counts()"
   ]
  },
  {
   "cell_type": "code",
   "execution_count": 4,
   "id": "547bba1a",
   "metadata": {
    "execution": {
     "iopub.execute_input": "2023-02-20T18:20:14.230469Z",
     "iopub.status.busy": "2023-02-20T18:20:14.230050Z",
     "iopub.status.idle": "2023-02-20T18:20:14.266865Z",
     "shell.execute_reply": "2023-02-20T18:20:14.265683Z"
    },
    "papermill": {
     "duration": 0.099347,
     "end_time": "2023-02-20T18:20:14.269579",
     "exception": false,
     "start_time": "2023-02-20T18:20:14.170232",
     "status": "completed"
    },
    "tags": []
   },
   "outputs": [
    {
     "data": {
      "text/html": [
       "<div>\n",
       "<style scoped>\n",
       "    .dataframe tbody tr th:only-of-type {\n",
       "        vertical-align: middle;\n",
       "    }\n",
       "\n",
       "    .dataframe tbody tr th {\n",
       "        vertical-align: top;\n",
       "    }\n",
       "\n",
       "    .dataframe thead th {\n",
       "        text-align: right;\n",
       "    }\n",
       "</style>\n",
       "<table border=\"1\" class=\"dataframe\">\n",
       "  <thead>\n",
       "    <tr style=\"text-align: right;\">\n",
       "      <th></th>\n",
       "      <th>Health Service Area</th>\n",
       "      <th>Hospital County</th>\n",
       "      <th>Operating Certificate Number</th>\n",
       "      <th>Facility Id</th>\n",
       "      <th>Facility Name</th>\n",
       "      <th>Age Group</th>\n",
       "      <th>Zip Code - 3 digits</th>\n",
       "      <th>Gender</th>\n",
       "      <th>Race</th>\n",
       "      <th>Ethnicity</th>\n",
       "      <th>...</th>\n",
       "      <th>APR Risk of Mortality</th>\n",
       "      <th>APR Medical Surgical Description</th>\n",
       "      <th>Payment Typology 1</th>\n",
       "      <th>Payment Typology 2</th>\n",
       "      <th>Payment Typology 3</th>\n",
       "      <th>Birth Weight</th>\n",
       "      <th>Abortion Edit Indicator</th>\n",
       "      <th>Emergency Department Indicator</th>\n",
       "      <th>Total Charges</th>\n",
       "      <th>Total Costs</th>\n",
       "    </tr>\n",
       "  </thead>\n",
       "  <tbody>\n",
       "    <tr>\n",
       "      <th>0</th>\n",
       "      <td>Western NY</td>\n",
       "      <td>Allegany</td>\n",
       "      <td>226700.0</td>\n",
       "      <td>37.0</td>\n",
       "      <td>Cuba Memorial Hospital Inc</td>\n",
       "      <td>70 or Older</td>\n",
       "      <td>147</td>\n",
       "      <td>F</td>\n",
       "      <td>White</td>\n",
       "      <td>Not Span/Hispanic</td>\n",
       "      <td>...</td>\n",
       "      <td>Minor</td>\n",
       "      <td>Medical</td>\n",
       "      <td>Medicare</td>\n",
       "      <td>Private Health Insurance</td>\n",
       "      <td>NaN</td>\n",
       "      <td>0</td>\n",
       "      <td>N</td>\n",
       "      <td>Y</td>\n",
       "      <td>5333.90</td>\n",
       "      <td>4818.42</td>\n",
       "    </tr>\n",
       "    <tr>\n",
       "      <th>1</th>\n",
       "      <td>Western NY</td>\n",
       "      <td>Allegany</td>\n",
       "      <td>226700.0</td>\n",
       "      <td>37.0</td>\n",
       "      <td>Cuba Memorial Hospital Inc</td>\n",
       "      <td>70 or Older</td>\n",
       "      <td>147</td>\n",
       "      <td>F</td>\n",
       "      <td>White</td>\n",
       "      <td>Not Span/Hispanic</td>\n",
       "      <td>...</td>\n",
       "      <td>Moderate</td>\n",
       "      <td>Medical</td>\n",
       "      <td>Medicare</td>\n",
       "      <td>NaN</td>\n",
       "      <td>NaN</td>\n",
       "      <td>0</td>\n",
       "      <td>N</td>\n",
       "      <td>Y</td>\n",
       "      <td>4865.99</td>\n",
       "      <td>4588.78</td>\n",
       "    </tr>\n",
       "    <tr>\n",
       "      <th>2</th>\n",
       "      <td>Western NY</td>\n",
       "      <td>Allegany</td>\n",
       "      <td>226700.0</td>\n",
       "      <td>37.0</td>\n",
       "      <td>Cuba Memorial Hospital Inc</td>\n",
       "      <td>70 or Older</td>\n",
       "      <td>147</td>\n",
       "      <td>F</td>\n",
       "      <td>White</td>\n",
       "      <td>Not Span/Hispanic</td>\n",
       "      <td>...</td>\n",
       "      <td>Minor</td>\n",
       "      <td>Medical</td>\n",
       "      <td>Medicare</td>\n",
       "      <td>Private Health Insurance</td>\n",
       "      <td>NaN</td>\n",
       "      <td>0</td>\n",
       "      <td>N</td>\n",
       "      <td>Y</td>\n",
       "      <td>5901.54</td>\n",
       "      <td>5559.56</td>\n",
       "    </tr>\n",
       "    <tr>\n",
       "      <th>3</th>\n",
       "      <td>Western NY</td>\n",
       "      <td>Allegany</td>\n",
       "      <td>226700.0</td>\n",
       "      <td>37.0</td>\n",
       "      <td>Cuba Memorial Hospital Inc</td>\n",
       "      <td>50 to 69</td>\n",
       "      <td>147</td>\n",
       "      <td>F</td>\n",
       "      <td>White</td>\n",
       "      <td>Not Span/Hispanic</td>\n",
       "      <td>...</td>\n",
       "      <td>Minor</td>\n",
       "      <td>Medical</td>\n",
       "      <td>Medicare</td>\n",
       "      <td>NaN</td>\n",
       "      <td>NaN</td>\n",
       "      <td>0</td>\n",
       "      <td>N</td>\n",
       "      <td>Y</td>\n",
       "      <td>3619.08</td>\n",
       "      <td>3567.25</td>\n",
       "    </tr>\n",
       "    <tr>\n",
       "      <th>4</th>\n",
       "      <td>Western NY</td>\n",
       "      <td>Allegany</td>\n",
       "      <td>226700.0</td>\n",
       "      <td>37.0</td>\n",
       "      <td>Cuba Memorial Hospital Inc</td>\n",
       "      <td>70 or Older</td>\n",
       "      <td>147</td>\n",
       "      <td>M</td>\n",
       "      <td>White</td>\n",
       "      <td>Not Span/Hispanic</td>\n",
       "      <td>...</td>\n",
       "      <td>Moderate</td>\n",
       "      <td>Medical</td>\n",
       "      <td>Medicare</td>\n",
       "      <td>Blue Cross/Blue Shield</td>\n",
       "      <td>Private Health Insurance</td>\n",
       "      <td>0</td>\n",
       "      <td>N</td>\n",
       "      <td>Y</td>\n",
       "      <td>3185.87</td>\n",
       "      <td>3167.89</td>\n",
       "    </tr>\n",
       "  </tbody>\n",
       "</table>\n",
       "<p>5 rows × 34 columns</p>\n",
       "</div>"
      ],
      "text/plain": [
       "  Health Service Area Hospital County  Operating Certificate Number  \\\n",
       "0          Western NY        Allegany                      226700.0   \n",
       "1          Western NY        Allegany                      226700.0   \n",
       "2          Western NY        Allegany                      226700.0   \n",
       "3          Western NY        Allegany                      226700.0   \n",
       "4          Western NY        Allegany                      226700.0   \n",
       "\n",
       "   Facility Id               Facility Name    Age Group Zip Code - 3 digits  \\\n",
       "0         37.0  Cuba Memorial Hospital Inc  70 or Older                 147   \n",
       "1         37.0  Cuba Memorial Hospital Inc  70 or Older                 147   \n",
       "2         37.0  Cuba Memorial Hospital Inc  70 or Older                 147   \n",
       "3         37.0  Cuba Memorial Hospital Inc     50 to 69                 147   \n",
       "4         37.0  Cuba Memorial Hospital Inc  70 or Older                 147   \n",
       "\n",
       "  Gender   Race          Ethnicity  ... APR Risk of Mortality  \\\n",
       "0      F  White  Not Span/Hispanic  ...                 Minor   \n",
       "1      F  White  Not Span/Hispanic  ...              Moderate   \n",
       "2      F  White  Not Span/Hispanic  ...                 Minor   \n",
       "3      F  White  Not Span/Hispanic  ...                 Minor   \n",
       "4      M  White  Not Span/Hispanic  ...              Moderate   \n",
       "\n",
       "  APR Medical Surgical Description Payment Typology 1  \\\n",
       "0                          Medical           Medicare   \n",
       "1                          Medical           Medicare   \n",
       "2                          Medical           Medicare   \n",
       "3                          Medical           Medicare   \n",
       "4                          Medical           Medicare   \n",
       "\n",
       "         Payment Typology 2        Payment Typology 3 Birth Weight  \\\n",
       "0  Private Health Insurance                       NaN            0   \n",
       "1                       NaN                       NaN            0   \n",
       "2  Private Health Insurance                       NaN            0   \n",
       "3                       NaN                       NaN            0   \n",
       "4    Blue Cross/Blue Shield  Private Health Insurance            0   \n",
       "\n",
       "   Abortion Edit Indicator Emergency Department Indicator  Total Charges  \\\n",
       "0                        N                              Y        5333.90   \n",
       "1                        N                              Y        4865.99   \n",
       "2                        N                              Y        5901.54   \n",
       "3                        N                              Y        3619.08   \n",
       "4                        N                              Y        3185.87   \n",
       "\n",
       "  Total Costs  \n",
       "0     4818.42  \n",
       "1     4588.78  \n",
       "2     5559.56  \n",
       "3     3567.25  \n",
       "4     3167.89  \n",
       "\n",
       "[5 rows x 34 columns]"
      ]
     },
     "execution_count": 4,
     "metadata": {},
     "output_type": "execute_result"
    }
   ],
   "source": [
    "df.head()"
   ]
  },
  {
   "cell_type": "code",
   "execution_count": 5,
   "id": "3de12f5b",
   "metadata": {
    "execution": {
     "iopub.execute_input": "2023-02-20T18:20:14.363249Z",
     "iopub.status.busy": "2023-02-20T18:20:14.362060Z",
     "iopub.status.idle": "2023-02-20T18:20:14.380219Z",
     "shell.execute_reply": "2023-02-20T18:20:14.378994Z"
    },
    "papermill": {
     "duration": 0.067493,
     "end_time": "2023-02-20T18:20:14.382647",
     "exception": false,
     "start_time": "2023-02-20T18:20:14.315154",
     "status": "completed"
    },
    "tags": []
   },
   "outputs": [
    {
     "name": "stdout",
     "output_type": "stream",
     "text": [
      "<class 'pandas.core.frame.DataFrame'>\n",
      "RangeIndex: 2346931 entries, 0 to 2346930\n",
      "Data columns (total 34 columns):\n",
      " #   Column                               Dtype  \n",
      "---  ------                               -----  \n",
      " 0   Health Service Area                  object \n",
      " 1   Hospital County                      object \n",
      " 2   Operating Certificate Number         float64\n",
      " 3   Facility Id                          float64\n",
      " 4   Facility Name                        object \n",
      " 5   Age Group                            object \n",
      " 6   Zip Code - 3 digits                  object \n",
      " 7   Gender                               object \n",
      " 8   Race                                 object \n",
      " 9   Ethnicity                            object \n",
      " 10  Length of Stay                       object \n",
      " 11  Type of Admission                    object \n",
      " 12  Patient Disposition                  object \n",
      " 13  Discharge Year                       int64  \n",
      " 14  CCS Diagnosis Code                   int64  \n",
      " 15  CCS Diagnosis Description            object \n",
      " 16  CCS Procedure Code                   int64  \n",
      " 17  CCS Procedure Description            object \n",
      " 18  APR DRG Code                         int64  \n",
      " 19  APR DRG Description                  object \n",
      " 20  APR MDC Code                         int64  \n",
      " 21  APR MDC Description                  object \n",
      " 22  APR Severity of Illness Code         int64  \n",
      " 23  APR Severity of Illness Description  object \n",
      " 24  APR Risk of Mortality                object \n",
      " 25  APR Medical Surgical Description     object \n",
      " 26  Payment Typology 1                   object \n",
      " 27  Payment Typology 2                   object \n",
      " 28  Payment Typology 3                   object \n",
      " 29  Birth Weight                         int64  \n",
      " 30  Abortion Edit Indicator              object \n",
      " 31  Emergency Department Indicator       object \n",
      " 32  Total Charges                        float64\n",
      " 33  Total Costs                          float64\n",
      "dtypes: float64(4), int64(7), object(23)\n",
      "memory usage: 608.8+ MB\n"
     ]
    }
   ],
   "source": [
    "df.info()"
   ]
  },
  {
   "cell_type": "code",
   "execution_count": 6,
   "id": "ee555287",
   "metadata": {
    "execution": {
     "iopub.execute_input": "2023-02-20T18:20:14.477321Z",
     "iopub.status.busy": "2023-02-20T18:20:14.476146Z",
     "iopub.status.idle": "2023-02-20T18:20:28.992354Z",
     "shell.execute_reply": "2023-02-20T18:20:28.991079Z"
    },
    "papermill": {
     "duration": 14.56656,
     "end_time": "2023-02-20T18:20:28.995357",
     "exception": false,
     "start_time": "2023-02-20T18:20:14.428797",
     "status": "completed"
    },
    "tags": []
   },
   "outputs": [],
   "source": [
    "List =[\"Health Service Area\",\"Hospital County\",\"Age Group\",\"Zip Code - 3 digits\",\"Gender\",\"Race\",\"Ethnicity\",\"Length of Stay\",\"Type of Admission\",                    \n",
    "\"Patient Disposition\",\"CCS Diagnosis Description\",\"CCS Procedure Description\",\"APR DRG Description\",\"APR MDC Description\",\"APR Severity of Illness Description\",\"APR Risk of Mortality\",\"APR Medical Surgical Description\",\"Payment Typology 1\"                   \n",
    ",\"Payment Typology 2\",\"Payment Typology 3\",\"Abortion Edit Indicator\",\"Emergency Department Indicator\"]\n",
    "for col in List :\n",
    "    df[col] = df[col].astype('category')\n",
    "\n",
    "#\"Health Service Area\""
   ]
  },
  {
   "cell_type": "code",
   "execution_count": 7,
   "id": "0e651989",
   "metadata": {
    "execution": {
     "iopub.execute_input": "2023-02-20T18:20:29.090354Z",
     "iopub.status.busy": "2023-02-20T18:20:29.089015Z",
     "iopub.status.idle": "2023-02-20T18:20:29.112660Z",
     "shell.execute_reply": "2023-02-20T18:20:29.110984Z"
    },
    "papermill": {
     "duration": 0.073783,
     "end_time": "2023-02-20T18:20:29.115460",
     "exception": false,
     "start_time": "2023-02-20T18:20:29.041677",
     "status": "completed"
    },
    "tags": []
   },
   "outputs": [
    {
     "name": "stdout",
     "output_type": "stream",
     "text": [
      "<class 'pandas.core.frame.DataFrame'>\n",
      "RangeIndex: 2346931 entries, 0 to 2346930\n",
      "Data columns (total 34 columns):\n",
      " #   Column                               Dtype   \n",
      "---  ------                               -----   \n",
      " 0   Health Service Area                  category\n",
      " 1   Hospital County                      category\n",
      " 2   Operating Certificate Number         float64 \n",
      " 3   Facility Id                          float64 \n",
      " 4   Facility Name                        object  \n",
      " 5   Age Group                            category\n",
      " 6   Zip Code - 3 digits                  category\n",
      " 7   Gender                               category\n",
      " 8   Race                                 category\n",
      " 9   Ethnicity                            category\n",
      " 10  Length of Stay                       category\n",
      " 11  Type of Admission                    category\n",
      " 12  Patient Disposition                  category\n",
      " 13  Discharge Year                       int64   \n",
      " 14  CCS Diagnosis Code                   int64   \n",
      " 15  CCS Diagnosis Description            category\n",
      " 16  CCS Procedure Code                   int64   \n",
      " 17  CCS Procedure Description            category\n",
      " 18  APR DRG Code                         int64   \n",
      " 19  APR DRG Description                  category\n",
      " 20  APR MDC Code                         int64   \n",
      " 21  APR MDC Description                  category\n",
      " 22  APR Severity of Illness Code         int64   \n",
      " 23  APR Severity of Illness Description  category\n",
      " 24  APR Risk of Mortality                category\n",
      " 25  APR Medical Surgical Description     category\n",
      " 26  Payment Typology 1                   category\n",
      " 27  Payment Typology 2                   category\n",
      " 28  Payment Typology 3                   category\n",
      " 29  Birth Weight                         int64   \n",
      " 30  Abortion Edit Indicator              category\n",
      " 31  Emergency Department Indicator       category\n",
      " 32  Total Charges                        float64 \n",
      " 33  Total Costs                          float64 \n",
      "dtypes: category(22), float64(4), int64(7), object(1)\n",
      "memory usage: 273.1+ MB\n"
     ]
    }
   ],
   "source": [
    "df.info()"
   ]
  },
  {
   "cell_type": "code",
   "execution_count": 8,
   "id": "e4e701df",
   "metadata": {
    "execution": {
     "iopub.execute_input": "2023-02-20T18:20:29.211344Z",
     "iopub.status.busy": "2023-02-20T18:20:29.210923Z",
     "iopub.status.idle": "2023-02-20T18:20:29.310767Z",
     "shell.execute_reply": "2023-02-20T18:20:29.309595Z"
    },
    "papermill": {
     "duration": 0.150823,
     "end_time": "2023-02-20T18:20:29.313495",
     "exception": false,
     "start_time": "2023-02-20T18:20:29.162672",
     "status": "completed"
    },
    "tags": []
   },
   "outputs": [],
   "source": [
    "col=[\"Health Service Area\"\n",
    " ,\n",
    " \"CCS Diagnosis Description\",\n",
    " \"CCS Procedure Description\",\n",
    "\"APR DRG Description\",\n",
    "\"APR MDC Description\",\n",
    "\"APR Severity of Illness Description\"]\n",
    "df = df.drop(col, axis=1)"
   ]
  },
  {
   "cell_type": "code",
   "execution_count": 9,
   "id": "7b6b486f",
   "metadata": {
    "execution": {
     "iopub.execute_input": "2023-02-20T18:20:29.407136Z",
     "iopub.status.busy": "2023-02-20T18:20:29.406729Z",
     "iopub.status.idle": "2023-02-20T18:20:29.424768Z",
     "shell.execute_reply": "2023-02-20T18:20:29.423412Z"
    },
    "papermill": {
     "duration": 0.06786,
     "end_time": "2023-02-20T18:20:29.427349",
     "exception": false,
     "start_time": "2023-02-20T18:20:29.359489",
     "status": "completed"
    },
    "tags": []
   },
   "outputs": [
    {
     "name": "stdout",
     "output_type": "stream",
     "text": [
      "<class 'pandas.core.frame.DataFrame'>\n",
      "RangeIndex: 2346931 entries, 0 to 2346930\n",
      "Data columns (total 28 columns):\n",
      " #   Column                            Dtype   \n",
      "---  ------                            -----   \n",
      " 0   Hospital County                   category\n",
      " 1   Operating Certificate Number      float64 \n",
      " 2   Facility Id                       float64 \n",
      " 3   Facility Name                     object  \n",
      " 4   Age Group                         category\n",
      " 5   Zip Code - 3 digits               category\n",
      " 6   Gender                            category\n",
      " 7   Race                              category\n",
      " 8   Ethnicity                         category\n",
      " 9   Length of Stay                    category\n",
      " 10  Type of Admission                 category\n",
      " 11  Patient Disposition               category\n",
      " 12  Discharge Year                    int64   \n",
      " 13  CCS Diagnosis Code                int64   \n",
      " 14  CCS Procedure Code                int64   \n",
      " 15  APR DRG Code                      int64   \n",
      " 16  APR MDC Code                      int64   \n",
      " 17  APR Severity of Illness Code      int64   \n",
      " 18  APR Risk of Mortality             category\n",
      " 19  APR Medical Surgical Description  category\n",
      " 20  Payment Typology 1                category\n",
      " 21  Payment Typology 2                category\n",
      " 22  Payment Typology 3                category\n",
      " 23  Birth Weight                      int64   \n",
      " 24  Abortion Edit Indicator           category\n",
      " 25  Emergency Department Indicator    category\n",
      " 26  Total Charges                     float64 \n",
      " 27  Total Costs                       float64 \n",
      "dtypes: category(16), float64(4), int64(7), object(1)\n",
      "memory usage: 252.9+ MB\n"
     ]
    }
   ],
   "source": [
    "df.info()"
   ]
  },
  {
   "cell_type": "markdown",
   "id": "beda46b3",
   "metadata": {
    "papermill": {
     "duration": 0.046027,
     "end_time": "2023-02-20T18:20:29.519395",
     "exception": false,
     "start_time": "2023-02-20T18:20:29.473368",
     "status": "completed"
    },
    "tags": []
   },
   "source": [
    "Client 6 : Glens Falls Hospital"
   ]
  },
  {
   "cell_type": "code",
   "execution_count": 10,
   "id": "b8506082",
   "metadata": {
    "execution": {
     "iopub.execute_input": "2023-02-20T18:20:29.615120Z",
     "iopub.status.busy": "2023-02-20T18:20:29.614100Z",
     "iopub.status.idle": "2023-02-20T18:20:29.774472Z",
     "shell.execute_reply": "2023-02-20T18:20:29.773075Z"
    },
    "papermill": {
     "duration": 0.211915,
     "end_time": "2023-02-20T18:20:29.777416",
     "exception": false,
     "start_time": "2023-02-20T18:20:29.565501",
     "status": "completed"
    },
    "tags": []
   },
   "outputs": [],
   "source": [
    "Glens_df=df[df[\"Facility Name\"]== 'Glens Falls Hospital']"
   ]
  },
  {
   "cell_type": "code",
   "execution_count": 11,
   "id": "6e46095d",
   "metadata": {
    "execution": {
     "iopub.execute_input": "2023-02-20T18:20:29.873147Z",
     "iopub.status.busy": "2023-02-20T18:20:29.872734Z",
     "iopub.status.idle": "2023-02-20T18:20:29.920358Z",
     "shell.execute_reply": "2023-02-20T18:20:29.919119Z"
    },
    "papermill": {
     "duration": 0.098848,
     "end_time": "2023-02-20T18:20:29.922975",
     "exception": false,
     "start_time": "2023-02-20T18:20:29.824127",
     "status": "completed"
    },
    "tags": []
   },
   "outputs": [
    {
     "data": {
      "text/html": [
       "<div>\n",
       "<style scoped>\n",
       "    .dataframe tbody tr th:only-of-type {\n",
       "        vertical-align: middle;\n",
       "    }\n",
       "\n",
       "    .dataframe tbody tr th {\n",
       "        vertical-align: top;\n",
       "    }\n",
       "\n",
       "    .dataframe thead th {\n",
       "        text-align: right;\n",
       "    }\n",
       "</style>\n",
       "<table border=\"1\" class=\"dataframe\">\n",
       "  <thead>\n",
       "    <tr style=\"text-align: right;\">\n",
       "      <th></th>\n",
       "      <th>Hospital County</th>\n",
       "      <th>Operating Certificate Number</th>\n",
       "      <th>Facility Id</th>\n",
       "      <th>Facility Name</th>\n",
       "      <th>Age Group</th>\n",
       "      <th>Zip Code - 3 digits</th>\n",
       "      <th>Gender</th>\n",
       "      <th>Race</th>\n",
       "      <th>Ethnicity</th>\n",
       "      <th>Length of Stay</th>\n",
       "      <th>...</th>\n",
       "      <th>APR Risk of Mortality</th>\n",
       "      <th>APR Medical Surgical Description</th>\n",
       "      <th>Payment Typology 1</th>\n",
       "      <th>Payment Typology 2</th>\n",
       "      <th>Payment Typology 3</th>\n",
       "      <th>Birth Weight</th>\n",
       "      <th>Abortion Edit Indicator</th>\n",
       "      <th>Emergency Department Indicator</th>\n",
       "      <th>Total Charges</th>\n",
       "      <th>Total Costs</th>\n",
       "    </tr>\n",
       "  </thead>\n",
       "  <tbody>\n",
       "    <tr>\n",
       "      <th>628756</th>\n",
       "      <td>Warren</td>\n",
       "      <td>5601000.0</td>\n",
       "      <td>1005.0</td>\n",
       "      <td>Glens Falls Hospital</td>\n",
       "      <td>30 to 49</td>\n",
       "      <td>128</td>\n",
       "      <td>F</td>\n",
       "      <td>White</td>\n",
       "      <td>Not Span/Hispanic</td>\n",
       "      <td>5</td>\n",
       "      <td>...</td>\n",
       "      <td>Minor</td>\n",
       "      <td>Medical</td>\n",
       "      <td>Medicaid</td>\n",
       "      <td>NaN</td>\n",
       "      <td>NaN</td>\n",
       "      <td>0</td>\n",
       "      <td>N</td>\n",
       "      <td>Y</td>\n",
       "      <td>16901.84</td>\n",
       "      <td>5444.54</td>\n",
       "    </tr>\n",
       "    <tr>\n",
       "      <th>628825</th>\n",
       "      <td>Warren</td>\n",
       "      <td>5601000.0</td>\n",
       "      <td>1005.0</td>\n",
       "      <td>Glens Falls Hospital</td>\n",
       "      <td>50 to 69</td>\n",
       "      <td>120</td>\n",
       "      <td>F</td>\n",
       "      <td>White</td>\n",
       "      <td>Not Span/Hispanic</td>\n",
       "      <td>4</td>\n",
       "      <td>...</td>\n",
       "      <td>Moderate</td>\n",
       "      <td>Medical</td>\n",
       "      <td>Medicare</td>\n",
       "      <td>NaN</td>\n",
       "      <td>NaN</td>\n",
       "      <td>0</td>\n",
       "      <td>N</td>\n",
       "      <td>N</td>\n",
       "      <td>15354.59</td>\n",
       "      <td>5499.39</td>\n",
       "    </tr>\n",
       "    <tr>\n",
       "      <th>629035</th>\n",
       "      <td>Warren</td>\n",
       "      <td>5601000.0</td>\n",
       "      <td>1005.0</td>\n",
       "      <td>Glens Falls Hospital</td>\n",
       "      <td>18 to 29</td>\n",
       "      <td>128</td>\n",
       "      <td>M</td>\n",
       "      <td>White</td>\n",
       "      <td>Not Span/Hispanic</td>\n",
       "      <td>2</td>\n",
       "      <td>...</td>\n",
       "      <td>Minor</td>\n",
       "      <td>Medical</td>\n",
       "      <td>Blue Cross/Blue Shield</td>\n",
       "      <td>NaN</td>\n",
       "      <td>NaN</td>\n",
       "      <td>0</td>\n",
       "      <td>N</td>\n",
       "      <td>Y</td>\n",
       "      <td>8413.10</td>\n",
       "      <td>2565.18</td>\n",
       "    </tr>\n",
       "    <tr>\n",
       "      <th>629070</th>\n",
       "      <td>Warren</td>\n",
       "      <td>5601000.0</td>\n",
       "      <td>1005.0</td>\n",
       "      <td>Glens Falls Hospital</td>\n",
       "      <td>50 to 69</td>\n",
       "      <td>128</td>\n",
       "      <td>F</td>\n",
       "      <td>White</td>\n",
       "      <td>Not Span/Hispanic</td>\n",
       "      <td>1</td>\n",
       "      <td>...</td>\n",
       "      <td>Minor</td>\n",
       "      <td>Medical</td>\n",
       "      <td>Blue Cross/Blue Shield</td>\n",
       "      <td>NaN</td>\n",
       "      <td>NaN</td>\n",
       "      <td>0</td>\n",
       "      <td>N</td>\n",
       "      <td>Y</td>\n",
       "      <td>8102.00</td>\n",
       "      <td>2008.34</td>\n",
       "    </tr>\n",
       "    <tr>\n",
       "      <th>629175</th>\n",
       "      <td>Warren</td>\n",
       "      <td>5601000.0</td>\n",
       "      <td>1005.0</td>\n",
       "      <td>Glens Falls Hospital</td>\n",
       "      <td>70 or Older</td>\n",
       "      <td>128</td>\n",
       "      <td>F</td>\n",
       "      <td>White</td>\n",
       "      <td>Not Span/Hispanic</td>\n",
       "      <td>6</td>\n",
       "      <td>...</td>\n",
       "      <td>Major</td>\n",
       "      <td>Medical</td>\n",
       "      <td>Medicare</td>\n",
       "      <td>NaN</td>\n",
       "      <td>NaN</td>\n",
       "      <td>0</td>\n",
       "      <td>N</td>\n",
       "      <td>N</td>\n",
       "      <td>21480.74</td>\n",
       "      <td>7279.17</td>\n",
       "    </tr>\n",
       "    <tr>\n",
       "      <th>...</th>\n",
       "      <td>...</td>\n",
       "      <td>...</td>\n",
       "      <td>...</td>\n",
       "      <td>...</td>\n",
       "      <td>...</td>\n",
       "      <td>...</td>\n",
       "      <td>...</td>\n",
       "      <td>...</td>\n",
       "      <td>...</td>\n",
       "      <td>...</td>\n",
       "      <td>...</td>\n",
       "      <td>...</td>\n",
       "      <td>...</td>\n",
       "      <td>...</td>\n",
       "      <td>...</td>\n",
       "      <td>...</td>\n",
       "      <td>...</td>\n",
       "      <td>...</td>\n",
       "      <td>...</td>\n",
       "      <td>...</td>\n",
       "      <td>...</td>\n",
       "    </tr>\n",
       "    <tr>\n",
       "      <th>664926</th>\n",
       "      <td>Warren</td>\n",
       "      <td>5601000.0</td>\n",
       "      <td>1005.0</td>\n",
       "      <td>Glens Falls Hospital</td>\n",
       "      <td>30 to 49</td>\n",
       "      <td>128</td>\n",
       "      <td>F</td>\n",
       "      <td>White</td>\n",
       "      <td>Not Span/Hispanic</td>\n",
       "      <td>1</td>\n",
       "      <td>...</td>\n",
       "      <td>Minor</td>\n",
       "      <td>Medical</td>\n",
       "      <td>Medicare</td>\n",
       "      <td>NaN</td>\n",
       "      <td>NaN</td>\n",
       "      <td>0</td>\n",
       "      <td>N</td>\n",
       "      <td>Y</td>\n",
       "      <td>14033.73</td>\n",
       "      <td>4471.53</td>\n",
       "    </tr>\n",
       "    <tr>\n",
       "      <th>664927</th>\n",
       "      <td>Warren</td>\n",
       "      <td>5601000.0</td>\n",
       "      <td>1005.0</td>\n",
       "      <td>Glens Falls Hospital</td>\n",
       "      <td>70 or Older</td>\n",
       "      <td>128</td>\n",
       "      <td>F</td>\n",
       "      <td>White</td>\n",
       "      <td>Not Span/Hispanic</td>\n",
       "      <td>1</td>\n",
       "      <td>...</td>\n",
       "      <td>Minor</td>\n",
       "      <td>Surgical</td>\n",
       "      <td>Medicare</td>\n",
       "      <td>NaN</td>\n",
       "      <td>NaN</td>\n",
       "      <td>0</td>\n",
       "      <td>N</td>\n",
       "      <td>Y</td>\n",
       "      <td>44134.98</td>\n",
       "      <td>12744.49</td>\n",
       "    </tr>\n",
       "    <tr>\n",
       "      <th>664928</th>\n",
       "      <td>Warren</td>\n",
       "      <td>5601000.0</td>\n",
       "      <td>1005.0</td>\n",
       "      <td>Glens Falls Hospital</td>\n",
       "      <td>30 to 49</td>\n",
       "      <td>128</td>\n",
       "      <td>M</td>\n",
       "      <td>White</td>\n",
       "      <td>Not Span/Hispanic</td>\n",
       "      <td>1</td>\n",
       "      <td>...</td>\n",
       "      <td>Minor</td>\n",
       "      <td>Medical</td>\n",
       "      <td>Private Health Insurance</td>\n",
       "      <td>NaN</td>\n",
       "      <td>NaN</td>\n",
       "      <td>0</td>\n",
       "      <td>N</td>\n",
       "      <td>N</td>\n",
       "      <td>13780.26</td>\n",
       "      <td>3192.12</td>\n",
       "    </tr>\n",
       "    <tr>\n",
       "      <th>664929</th>\n",
       "      <td>Warren</td>\n",
       "      <td>5601000.0</td>\n",
       "      <td>1005.0</td>\n",
       "      <td>Glens Falls Hospital</td>\n",
       "      <td>50 to 69</td>\n",
       "      <td>128</td>\n",
       "      <td>M</td>\n",
       "      <td>White</td>\n",
       "      <td>Not Span/Hispanic</td>\n",
       "      <td>1</td>\n",
       "      <td>...</td>\n",
       "      <td>Moderate</td>\n",
       "      <td>Medical</td>\n",
       "      <td>Private Health Insurance</td>\n",
       "      <td>NaN</td>\n",
       "      <td>NaN</td>\n",
       "      <td>0</td>\n",
       "      <td>N</td>\n",
       "      <td>N</td>\n",
       "      <td>7560.97</td>\n",
       "      <td>2705.89</td>\n",
       "    </tr>\n",
       "    <tr>\n",
       "      <th>664930</th>\n",
       "      <td>Warren</td>\n",
       "      <td>5601000.0</td>\n",
       "      <td>1005.0</td>\n",
       "      <td>Glens Falls Hospital</td>\n",
       "      <td>0 to 17</td>\n",
       "      <td>128</td>\n",
       "      <td>F</td>\n",
       "      <td>White</td>\n",
       "      <td>Not Span/Hispanic</td>\n",
       "      <td>1</td>\n",
       "      <td>...</td>\n",
       "      <td>Minor</td>\n",
       "      <td>Medical</td>\n",
       "      <td>Medicaid</td>\n",
       "      <td>NaN</td>\n",
       "      <td>NaN</td>\n",
       "      <td>0</td>\n",
       "      <td>N</td>\n",
       "      <td>N</td>\n",
       "      <td>3670.62</td>\n",
       "      <td>2613.38</td>\n",
       "    </tr>\n",
       "  </tbody>\n",
       "</table>\n",
       "<p>14072 rows × 28 columns</p>\n",
       "</div>"
      ],
      "text/plain": [
       "       Hospital County  Operating Certificate Number  Facility Id  \\\n",
       "628756          Warren                     5601000.0       1005.0   \n",
       "628825          Warren                     5601000.0       1005.0   \n",
       "629035          Warren                     5601000.0       1005.0   \n",
       "629070          Warren                     5601000.0       1005.0   \n",
       "629175          Warren                     5601000.0       1005.0   \n",
       "...                ...                           ...          ...   \n",
       "664926          Warren                     5601000.0       1005.0   \n",
       "664927          Warren                     5601000.0       1005.0   \n",
       "664928          Warren                     5601000.0       1005.0   \n",
       "664929          Warren                     5601000.0       1005.0   \n",
       "664930          Warren                     5601000.0       1005.0   \n",
       "\n",
       "               Facility Name    Age Group Zip Code - 3 digits Gender   Race  \\\n",
       "628756  Glens Falls Hospital     30 to 49                 128      F  White   \n",
       "628825  Glens Falls Hospital     50 to 69                 120      F  White   \n",
       "629035  Glens Falls Hospital     18 to 29                 128      M  White   \n",
       "629070  Glens Falls Hospital     50 to 69                 128      F  White   \n",
       "629175  Glens Falls Hospital  70 or Older                 128      F  White   \n",
       "...                      ...          ...                 ...    ...    ...   \n",
       "664926  Glens Falls Hospital     30 to 49                 128      F  White   \n",
       "664927  Glens Falls Hospital  70 or Older                 128      F  White   \n",
       "664928  Glens Falls Hospital     30 to 49                 128      M  White   \n",
       "664929  Glens Falls Hospital     50 to 69                 128      M  White   \n",
       "664930  Glens Falls Hospital      0 to 17                 128      F  White   \n",
       "\n",
       "                Ethnicity Length of Stay  ... APR Risk of Mortality  \\\n",
       "628756  Not Span/Hispanic              5  ...                 Minor   \n",
       "628825  Not Span/Hispanic              4  ...              Moderate   \n",
       "629035  Not Span/Hispanic              2  ...                 Minor   \n",
       "629070  Not Span/Hispanic              1  ...                 Minor   \n",
       "629175  Not Span/Hispanic              6  ...                 Major   \n",
       "...                   ...            ...  ...                   ...   \n",
       "664926  Not Span/Hispanic              1  ...                 Minor   \n",
       "664927  Not Span/Hispanic              1  ...                 Minor   \n",
       "664928  Not Span/Hispanic              1  ...                 Minor   \n",
       "664929  Not Span/Hispanic              1  ...              Moderate   \n",
       "664930  Not Span/Hispanic              1  ...                 Minor   \n",
       "\n",
       "       APR Medical Surgical Description        Payment Typology 1  \\\n",
       "628756                          Medical                  Medicaid   \n",
       "628825                          Medical                  Medicare   \n",
       "629035                          Medical    Blue Cross/Blue Shield   \n",
       "629070                          Medical    Blue Cross/Blue Shield   \n",
       "629175                          Medical                  Medicare   \n",
       "...                                 ...                       ...   \n",
       "664926                          Medical                  Medicare   \n",
       "664927                         Surgical                  Medicare   \n",
       "664928                          Medical  Private Health Insurance   \n",
       "664929                          Medical  Private Health Insurance   \n",
       "664930                          Medical                  Medicaid   \n",
       "\n",
       "        Payment Typology 2  Payment Typology 3  Birth Weight  \\\n",
       "628756                 NaN                 NaN             0   \n",
       "628825                 NaN                 NaN             0   \n",
       "629035                 NaN                 NaN             0   \n",
       "629070                 NaN                 NaN             0   \n",
       "629175                 NaN                 NaN             0   \n",
       "...                    ...                 ...           ...   \n",
       "664926                 NaN                 NaN             0   \n",
       "664927                 NaN                 NaN             0   \n",
       "664928                 NaN                 NaN             0   \n",
       "664929                 NaN                 NaN             0   \n",
       "664930                 NaN                 NaN             0   \n",
       "\n",
       "        Abortion Edit Indicator  Emergency Department Indicator Total Charges  \\\n",
       "628756                        N                               Y      16901.84   \n",
       "628825                        N                               N      15354.59   \n",
       "629035                        N                               Y       8413.10   \n",
       "629070                        N                               Y       8102.00   \n",
       "629175                        N                               N      21480.74   \n",
       "...                         ...                             ...           ...   \n",
       "664926                        N                               Y      14033.73   \n",
       "664927                        N                               Y      44134.98   \n",
       "664928                        N                               N      13780.26   \n",
       "664929                        N                               N       7560.97   \n",
       "664930                        N                               N       3670.62   \n",
       "\n",
       "       Total Costs  \n",
       "628756     5444.54  \n",
       "628825     5499.39  \n",
       "629035     2565.18  \n",
       "629070     2008.34  \n",
       "629175     7279.17  \n",
       "...            ...  \n",
       "664926     4471.53  \n",
       "664927    12744.49  \n",
       "664928     3192.12  \n",
       "664929     2705.89  \n",
       "664930     2613.38  \n",
       "\n",
       "[14072 rows x 28 columns]"
      ]
     },
     "execution_count": 11,
     "metadata": {},
     "output_type": "execute_result"
    }
   ],
   "source": [
    "Glens_df"
   ]
  },
  {
   "cell_type": "code",
   "execution_count": 12,
   "id": "83634b69",
   "metadata": {
    "execution": {
     "iopub.execute_input": "2023-02-20T18:20:30.019334Z",
     "iopub.status.busy": "2023-02-20T18:20:30.018912Z",
     "iopub.status.idle": "2023-02-20T18:20:30.042041Z",
     "shell.execute_reply": "2023-02-20T18:20:30.040847Z"
    },
    "papermill": {
     "duration": 0.075107,
     "end_time": "2023-02-20T18:20:30.045041",
     "exception": false,
     "start_time": "2023-02-20T18:20:29.969934",
     "status": "completed"
    },
    "tags": []
   },
   "outputs": [
    {
     "name": "stdout",
     "output_type": "stream",
     "text": [
      "<class 'pandas.core.frame.DataFrame'>\n",
      "Int64Index: 14072 entries, 628756 to 664930\n",
      "Data columns (total 28 columns):\n",
      " #   Column                            Non-Null Count  Dtype   \n",
      "---  ------                            --------------  -----   \n",
      " 0   Hospital County                   14072 non-null  category\n",
      " 1   Operating Certificate Number      14072 non-null  float64 \n",
      " 2   Facility Id                       14072 non-null  float64 \n",
      " 3   Facility Name                     14072 non-null  object  \n",
      " 4   Age Group                         14072 non-null  category\n",
      " 5   Zip Code - 3 digits               13957 non-null  category\n",
      " 6   Gender                            14072 non-null  category\n",
      " 7   Race                              14072 non-null  category\n",
      " 8   Ethnicity                         14072 non-null  category\n",
      " 9   Length of Stay                    14072 non-null  category\n",
      " 10  Type of Admission                 14072 non-null  category\n",
      " 11  Patient Disposition               14072 non-null  category\n",
      " 12  Discharge Year                    14072 non-null  int64   \n",
      " 13  CCS Diagnosis Code                14072 non-null  int64   \n",
      " 14  CCS Procedure Code                14072 non-null  int64   \n",
      " 15  APR DRG Code                      14072 non-null  int64   \n",
      " 16  APR MDC Code                      14072 non-null  int64   \n",
      " 17  APR Severity of Illness Code      14072 non-null  int64   \n",
      " 18  APR Risk of Mortality             14072 non-null  category\n",
      " 19  APR Medical Surgical Description  14072 non-null  category\n",
      " 20  Payment Typology 1                14072 non-null  category\n",
      " 21  Payment Typology 2                4755 non-null   category\n",
      " 22  Payment Typology 3                281 non-null    category\n",
      " 23  Birth Weight                      14072 non-null  int64   \n",
      " 24  Abortion Edit Indicator           14072 non-null  category\n",
      " 25  Emergency Department Indicator    14072 non-null  category\n",
      " 26  Total Charges                     14072 non-null  float64 \n",
      " 27  Total Costs                       14072 non-null  float64 \n",
      "dtypes: category(16), float64(4), int64(7), object(1)\n",
      "memory usage: 1.6+ MB\n"
     ]
    }
   ],
   "source": [
    "Glens_df.info()"
   ]
  },
  {
   "cell_type": "code",
   "execution_count": null,
   "id": "e8dce6a9",
   "metadata": {
    "papermill": {
     "duration": 0.046975,
     "end_time": "2023-02-20T18:20:30.140329",
     "exception": false,
     "start_time": "2023-02-20T18:20:30.093354",
     "status": "completed"
    },
    "tags": []
   },
   "outputs": [],
   "source": []
  },
  {
   "cell_type": "code",
   "execution_count": null,
   "id": "789ec11a",
   "metadata": {
    "papermill": {
     "duration": 0.047465,
     "end_time": "2023-02-20T18:20:30.235024",
     "exception": false,
     "start_time": "2023-02-20T18:20:30.187559",
     "status": "completed"
    },
    "tags": []
   },
   "outputs": [],
   "source": [
    "\n"
   ]
  },
  {
   "cell_type": "code",
   "execution_count": 13,
   "id": "0d81033b",
   "metadata": {
    "execution": {
     "iopub.execute_input": "2023-02-20T18:20:30.332424Z",
     "iopub.status.busy": "2023-02-20T18:20:30.331751Z",
     "iopub.status.idle": "2023-02-20T18:20:30.366721Z",
     "shell.execute_reply": "2023-02-20T18:20:30.365505Z"
    },
    "papermill": {
     "duration": 0.086539,
     "end_time": "2023-02-20T18:20:30.369117",
     "exception": false,
     "start_time": "2023-02-20T18:20:30.282578",
     "status": "completed"
    },
    "tags": []
   },
   "outputs": [
    {
     "data": {
      "text/html": [
       "<div>\n",
       "<style scoped>\n",
       "    .dataframe tbody tr th:only-of-type {\n",
       "        vertical-align: middle;\n",
       "    }\n",
       "\n",
       "    .dataframe tbody tr th {\n",
       "        vertical-align: top;\n",
       "    }\n",
       "\n",
       "    .dataframe thead th {\n",
       "        text-align: right;\n",
       "    }\n",
       "</style>\n",
       "<table border=\"1\" class=\"dataframe\">\n",
       "  <thead>\n",
       "    <tr style=\"text-align: right;\">\n",
       "      <th></th>\n",
       "      <th>Hospital County</th>\n",
       "      <th>Operating Certificate Number</th>\n",
       "      <th>Facility Id</th>\n",
       "      <th>Facility Name</th>\n",
       "      <th>Age Group</th>\n",
       "      <th>Zip Code - 3 digits</th>\n",
       "      <th>Gender</th>\n",
       "      <th>Race</th>\n",
       "      <th>Ethnicity</th>\n",
       "      <th>Length of Stay</th>\n",
       "      <th>...</th>\n",
       "      <th>APR Risk of Mortality</th>\n",
       "      <th>APR Medical Surgical Description</th>\n",
       "      <th>Payment Typology 1</th>\n",
       "      <th>Payment Typology 2</th>\n",
       "      <th>Payment Typology 3</th>\n",
       "      <th>Birth Weight</th>\n",
       "      <th>Abortion Edit Indicator</th>\n",
       "      <th>Emergency Department Indicator</th>\n",
       "      <th>Total Charges</th>\n",
       "      <th>Total Costs</th>\n",
       "    </tr>\n",
       "  </thead>\n",
       "  <tbody>\n",
       "    <tr>\n",
       "      <th>628756</th>\n",
       "      <td>Warren</td>\n",
       "      <td>5601000.0</td>\n",
       "      <td>1005.0</td>\n",
       "      <td>Glens Falls Hospital</td>\n",
       "      <td>30 to 49</td>\n",
       "      <td>128</td>\n",
       "      <td>F</td>\n",
       "      <td>White</td>\n",
       "      <td>Not Span/Hispanic</td>\n",
       "      <td>5</td>\n",
       "      <td>...</td>\n",
       "      <td>Minor</td>\n",
       "      <td>Medical</td>\n",
       "      <td>Medicaid</td>\n",
       "      <td>NaN</td>\n",
       "      <td>NaN</td>\n",
       "      <td>0</td>\n",
       "      <td>N</td>\n",
       "      <td>Y</td>\n",
       "      <td>16901.84</td>\n",
       "      <td>5444.54</td>\n",
       "    </tr>\n",
       "    <tr>\n",
       "      <th>628825</th>\n",
       "      <td>Warren</td>\n",
       "      <td>5601000.0</td>\n",
       "      <td>1005.0</td>\n",
       "      <td>Glens Falls Hospital</td>\n",
       "      <td>50 to 69</td>\n",
       "      <td>120</td>\n",
       "      <td>F</td>\n",
       "      <td>White</td>\n",
       "      <td>Not Span/Hispanic</td>\n",
       "      <td>4</td>\n",
       "      <td>...</td>\n",
       "      <td>Moderate</td>\n",
       "      <td>Medical</td>\n",
       "      <td>Medicare</td>\n",
       "      <td>NaN</td>\n",
       "      <td>NaN</td>\n",
       "      <td>0</td>\n",
       "      <td>N</td>\n",
       "      <td>N</td>\n",
       "      <td>15354.59</td>\n",
       "      <td>5499.39</td>\n",
       "    </tr>\n",
       "    <tr>\n",
       "      <th>629035</th>\n",
       "      <td>Warren</td>\n",
       "      <td>5601000.0</td>\n",
       "      <td>1005.0</td>\n",
       "      <td>Glens Falls Hospital</td>\n",
       "      <td>18 to 29</td>\n",
       "      <td>128</td>\n",
       "      <td>M</td>\n",
       "      <td>White</td>\n",
       "      <td>Not Span/Hispanic</td>\n",
       "      <td>2</td>\n",
       "      <td>...</td>\n",
       "      <td>Minor</td>\n",
       "      <td>Medical</td>\n",
       "      <td>Blue Cross/Blue Shield</td>\n",
       "      <td>NaN</td>\n",
       "      <td>NaN</td>\n",
       "      <td>0</td>\n",
       "      <td>N</td>\n",
       "      <td>Y</td>\n",
       "      <td>8413.10</td>\n",
       "      <td>2565.18</td>\n",
       "    </tr>\n",
       "    <tr>\n",
       "      <th>629070</th>\n",
       "      <td>Warren</td>\n",
       "      <td>5601000.0</td>\n",
       "      <td>1005.0</td>\n",
       "      <td>Glens Falls Hospital</td>\n",
       "      <td>50 to 69</td>\n",
       "      <td>128</td>\n",
       "      <td>F</td>\n",
       "      <td>White</td>\n",
       "      <td>Not Span/Hispanic</td>\n",
       "      <td>1</td>\n",
       "      <td>...</td>\n",
       "      <td>Minor</td>\n",
       "      <td>Medical</td>\n",
       "      <td>Blue Cross/Blue Shield</td>\n",
       "      <td>NaN</td>\n",
       "      <td>NaN</td>\n",
       "      <td>0</td>\n",
       "      <td>N</td>\n",
       "      <td>Y</td>\n",
       "      <td>8102.00</td>\n",
       "      <td>2008.34</td>\n",
       "    </tr>\n",
       "    <tr>\n",
       "      <th>629175</th>\n",
       "      <td>Warren</td>\n",
       "      <td>5601000.0</td>\n",
       "      <td>1005.0</td>\n",
       "      <td>Glens Falls Hospital</td>\n",
       "      <td>70 or Older</td>\n",
       "      <td>128</td>\n",
       "      <td>F</td>\n",
       "      <td>White</td>\n",
       "      <td>Not Span/Hispanic</td>\n",
       "      <td>6</td>\n",
       "      <td>...</td>\n",
       "      <td>Major</td>\n",
       "      <td>Medical</td>\n",
       "      <td>Medicare</td>\n",
       "      <td>NaN</td>\n",
       "      <td>NaN</td>\n",
       "      <td>0</td>\n",
       "      <td>N</td>\n",
       "      <td>N</td>\n",
       "      <td>21480.74</td>\n",
       "      <td>7279.17</td>\n",
       "    </tr>\n",
       "  </tbody>\n",
       "</table>\n",
       "<p>5 rows × 28 columns</p>\n",
       "</div>"
      ],
      "text/plain": [
       "       Hospital County  Operating Certificate Number  Facility Id  \\\n",
       "628756          Warren                     5601000.0       1005.0   \n",
       "628825          Warren                     5601000.0       1005.0   \n",
       "629035          Warren                     5601000.0       1005.0   \n",
       "629070          Warren                     5601000.0       1005.0   \n",
       "629175          Warren                     5601000.0       1005.0   \n",
       "\n",
       "               Facility Name    Age Group Zip Code - 3 digits Gender   Race  \\\n",
       "628756  Glens Falls Hospital     30 to 49                 128      F  White   \n",
       "628825  Glens Falls Hospital     50 to 69                 120      F  White   \n",
       "629035  Glens Falls Hospital     18 to 29                 128      M  White   \n",
       "629070  Glens Falls Hospital     50 to 69                 128      F  White   \n",
       "629175  Glens Falls Hospital  70 or Older                 128      F  White   \n",
       "\n",
       "                Ethnicity Length of Stay  ... APR Risk of Mortality  \\\n",
       "628756  Not Span/Hispanic              5  ...                 Minor   \n",
       "628825  Not Span/Hispanic              4  ...              Moderate   \n",
       "629035  Not Span/Hispanic              2  ...                 Minor   \n",
       "629070  Not Span/Hispanic              1  ...                 Minor   \n",
       "629175  Not Span/Hispanic              6  ...                 Major   \n",
       "\n",
       "       APR Medical Surgical Description      Payment Typology 1  \\\n",
       "628756                          Medical                Medicaid   \n",
       "628825                          Medical                Medicare   \n",
       "629035                          Medical  Blue Cross/Blue Shield   \n",
       "629070                          Medical  Blue Cross/Blue Shield   \n",
       "629175                          Medical                Medicare   \n",
       "\n",
       "        Payment Typology 2  Payment Typology 3  Birth Weight  \\\n",
       "628756                 NaN                 NaN             0   \n",
       "628825                 NaN                 NaN             0   \n",
       "629035                 NaN                 NaN             0   \n",
       "629070                 NaN                 NaN             0   \n",
       "629175                 NaN                 NaN             0   \n",
       "\n",
       "        Abortion Edit Indicator  Emergency Department Indicator Total Charges  \\\n",
       "628756                        N                               Y      16901.84   \n",
       "628825                        N                               N      15354.59   \n",
       "629035                        N                               Y       8413.10   \n",
       "629070                        N                               Y       8102.00   \n",
       "629175                        N                               N      21480.74   \n",
       "\n",
       "       Total Costs  \n",
       "628756     5444.54  \n",
       "628825     5499.39  \n",
       "629035     2565.18  \n",
       "629070     2008.34  \n",
       "629175     7279.17  \n",
       "\n",
       "[5 rows x 28 columns]"
      ]
     },
     "execution_count": 13,
     "metadata": {},
     "output_type": "execute_result"
    }
   ],
   "source": [
    "Glens_df.head()"
   ]
  },
  {
   "cell_type": "code",
   "execution_count": 14,
   "id": "3b4253e5",
   "metadata": {
    "execution": {
     "iopub.execute_input": "2023-02-20T18:20:30.466396Z",
     "iopub.status.busy": "2023-02-20T18:20:30.465749Z",
     "iopub.status.idle": "2023-02-20T18:20:30.487831Z",
     "shell.execute_reply": "2023-02-20T18:20:30.486152Z"
    },
    "papermill": {
     "duration": 0.073803,
     "end_time": "2023-02-20T18:20:30.490279",
     "exception": false,
     "start_time": "2023-02-20T18:20:30.416476",
     "status": "completed"
    },
    "tags": []
   },
   "outputs": [
    {
     "name": "stdout",
     "output_type": "stream",
     "text": [
      "<class 'pandas.core.frame.DataFrame'>\n",
      "Int64Index: 14072 entries, 628756 to 664930\n",
      "Data columns (total 28 columns):\n",
      " #   Column                            Non-Null Count  Dtype   \n",
      "---  ------                            --------------  -----   \n",
      " 0   Hospital County                   14072 non-null  category\n",
      " 1   Operating Certificate Number      14072 non-null  float64 \n",
      " 2   Facility Id                       14072 non-null  float64 \n",
      " 3   Facility Name                     14072 non-null  object  \n",
      " 4   Age Group                         14072 non-null  category\n",
      " 5   Zip Code - 3 digits               13957 non-null  category\n",
      " 6   Gender                            14072 non-null  category\n",
      " 7   Race                              14072 non-null  category\n",
      " 8   Ethnicity                         14072 non-null  category\n",
      " 9   Length of Stay                    14072 non-null  category\n",
      " 10  Type of Admission                 14072 non-null  category\n",
      " 11  Patient Disposition               14072 non-null  category\n",
      " 12  Discharge Year                    14072 non-null  int64   \n",
      " 13  CCS Diagnosis Code                14072 non-null  int64   \n",
      " 14  CCS Procedure Code                14072 non-null  int64   \n",
      " 15  APR DRG Code                      14072 non-null  int64   \n",
      " 16  APR MDC Code                      14072 non-null  int64   \n",
      " 17  APR Severity of Illness Code      14072 non-null  int64   \n",
      " 18  APR Risk of Mortality             14072 non-null  category\n",
      " 19  APR Medical Surgical Description  14072 non-null  category\n",
      " 20  Payment Typology 1                14072 non-null  category\n",
      " 21  Payment Typology 2                4755 non-null   category\n",
      " 22  Payment Typology 3                281 non-null    category\n",
      " 23  Birth Weight                      14072 non-null  int64   \n",
      " 24  Abortion Edit Indicator           14072 non-null  category\n",
      " 25  Emergency Department Indicator    14072 non-null  category\n",
      " 26  Total Charges                     14072 non-null  float64 \n",
      " 27  Total Costs                       14072 non-null  float64 \n",
      "dtypes: category(16), float64(4), int64(7), object(1)\n",
      "memory usage: 1.6+ MB\n"
     ]
    }
   ],
   "source": [
    "Glens_df.info()"
   ]
  },
  {
   "cell_type": "code",
   "execution_count": 15,
   "id": "01e2cc5b",
   "metadata": {
    "_kg_hide-input": true,
    "execution": {
     "iopub.execute_input": "2023-02-20T18:20:30.587805Z",
     "iopub.status.busy": "2023-02-20T18:20:30.587109Z",
     "iopub.status.idle": "2023-02-20T18:20:30.594084Z",
     "shell.execute_reply": "2023-02-20T18:20:30.593162Z"
    },
    "papermill": {
     "duration": 0.058664,
     "end_time": "2023-02-20T18:20:30.596509",
     "exception": false,
     "start_time": "2023-02-20T18:20:30.537845",
     "status": "completed"
    },
    "tags": []
   },
   "outputs": [],
   "source": [
    "Glens_df = Glens_df.drop(\"Facility Name\", axis=1)"
   ]
  },
  {
   "cell_type": "code",
   "execution_count": 16,
   "id": "016679a2",
   "metadata": {
    "execution": {
     "iopub.execute_input": "2023-02-20T18:20:30.695077Z",
     "iopub.status.busy": "2023-02-20T18:20:30.694323Z",
     "iopub.status.idle": "2023-02-20T18:20:30.708069Z",
     "shell.execute_reply": "2023-02-20T18:20:30.706788Z"
    },
    "papermill": {
     "duration": 0.065422,
     "end_time": "2023-02-20T18:20:30.710432",
     "exception": false,
     "start_time": "2023-02-20T18:20:30.645010",
     "status": "completed"
    },
    "tags": []
   },
   "outputs": [
    {
     "data": {
      "text/html": [
       "<div>\n",
       "<style scoped>\n",
       "    .dataframe tbody tr th:only-of-type {\n",
       "        vertical-align: middle;\n",
       "    }\n",
       "\n",
       "    .dataframe tbody tr th {\n",
       "        vertical-align: top;\n",
       "    }\n",
       "\n",
       "    .dataframe thead th {\n",
       "        text-align: right;\n",
       "    }\n",
       "</style>\n",
       "<table border=\"1\" class=\"dataframe\">\n",
       "  <thead>\n",
       "    <tr style=\"text-align: right;\">\n",
       "      <th></th>\n",
       "      <th>Length of Stay</th>\n",
       "    </tr>\n",
       "  </thead>\n",
       "  <tbody>\n",
       "    <tr>\n",
       "      <th>628756</th>\n",
       "      <td>5</td>\n",
       "    </tr>\n",
       "    <tr>\n",
       "      <th>628825</th>\n",
       "      <td>4</td>\n",
       "    </tr>\n",
       "    <tr>\n",
       "      <th>629035</th>\n",
       "      <td>2</td>\n",
       "    </tr>\n",
       "    <tr>\n",
       "      <th>629070</th>\n",
       "      <td>1</td>\n",
       "    </tr>\n",
       "    <tr>\n",
       "      <th>629175</th>\n",
       "      <td>6</td>\n",
       "    </tr>\n",
       "    <tr>\n",
       "      <th>...</th>\n",
       "      <td>...</td>\n",
       "    </tr>\n",
       "    <tr>\n",
       "      <th>664926</th>\n",
       "      <td>1</td>\n",
       "    </tr>\n",
       "    <tr>\n",
       "      <th>664927</th>\n",
       "      <td>1</td>\n",
       "    </tr>\n",
       "    <tr>\n",
       "      <th>664928</th>\n",
       "      <td>1</td>\n",
       "    </tr>\n",
       "    <tr>\n",
       "      <th>664929</th>\n",
       "      <td>1</td>\n",
       "    </tr>\n",
       "    <tr>\n",
       "      <th>664930</th>\n",
       "      <td>1</td>\n",
       "    </tr>\n",
       "  </tbody>\n",
       "</table>\n",
       "<p>14072 rows × 1 columns</p>\n",
       "</div>"
      ],
      "text/plain": [
       "       Length of Stay\n",
       "628756              5\n",
       "628825              4\n",
       "629035              2\n",
       "629070              1\n",
       "629175              6\n",
       "...               ...\n",
       "664926              1\n",
       "664927              1\n",
       "664928              1\n",
       "664929              1\n",
       "664930              1\n",
       "\n",
       "[14072 rows x 1 columns]"
      ]
     },
     "execution_count": 16,
     "metadata": {},
     "output_type": "execute_result"
    }
   ],
   "source": [
    "Glens_df[[\"Length of Stay\"]]"
   ]
  },
  {
   "cell_type": "code",
   "execution_count": 17,
   "id": "b80eb5f2",
   "metadata": {
    "execution": {
     "iopub.execute_input": "2023-02-20T18:20:30.808262Z",
     "iopub.status.busy": "2023-02-20T18:20:30.807568Z",
     "iopub.status.idle": "2023-02-20T18:20:30.814634Z",
     "shell.execute_reply": "2023-02-20T18:20:30.813708Z"
    },
    "papermill": {
     "duration": 0.05876,
     "end_time": "2023-02-20T18:20:30.817117",
     "exception": false,
     "start_time": "2023-02-20T18:20:30.758357",
     "status": "completed"
    },
    "tags": []
   },
   "outputs": [],
   "source": [
    "Glens_df = Glens_df.drop([\"Payment Typology 2\",    \"Payment Typology 3\"], axis=1)\n"
   ]
  },
  {
   "cell_type": "code",
   "execution_count": 18,
   "id": "4cb56033",
   "metadata": {
    "execution": {
     "iopub.execute_input": "2023-02-20T18:20:30.915145Z",
     "iopub.status.busy": "2023-02-20T18:20:30.914473Z",
     "iopub.status.idle": "2023-02-20T18:20:30.975979Z",
     "shell.execute_reply": "2023-02-20T18:20:30.974493Z"
    },
    "papermill": {
     "duration": 0.114393,
     "end_time": "2023-02-20T18:20:30.979693",
     "exception": false,
     "start_time": "2023-02-20T18:20:30.865300",
     "status": "completed"
    },
    "tags": []
   },
   "outputs": [
    {
     "name": "stdout",
     "output_type": "stream",
     "text": [
      "Hospital County : 1\n",
      "Warren      14072\n",
      "Albany          0\n",
      "Saratoga        0\n",
      "Onondaga        0\n",
      "Ontario         0\n",
      "Name: Hospital County, dtype: int64\n",
      "\n",
      "********************\n",
      "\n",
      "Operating Certificate Number : 1\n",
      "5601000.0    14072\n",
      "Name: Operating Certificate Number, dtype: int64\n",
      "\n",
      "********************\n",
      "\n",
      "Facility Id : 1\n",
      "1005.0    14072\n",
      "Name: Facility Id, dtype: int64\n",
      "\n",
      "********************\n",
      "\n",
      "Age Group : 5\n",
      "70 or Older    4708\n",
      "50 to 69       3997\n",
      "30 to 49       2186\n",
      "0 to 17        1671\n",
      "18 to 29       1510\n",
      "Name: Age Group, dtype: int64\n",
      "\n",
      "********************\n",
      "\n",
      "Zip Code - 3 digits : 20\n",
      "128    13284\n",
      "OOS      197\n",
      "120      196\n",
      "129      110\n",
      "121       80\n",
      "Name: Zip Code - 3 digits, dtype: int64\n",
      "\n",
      "********************\n",
      "\n",
      "Gender : 2\n",
      "F    7797\n",
      "M    6275\n",
      "U       0\n",
      "Name: Gender, dtype: int64\n",
      "\n",
      "********************\n",
      "\n",
      "Race : 3\n",
      "White                     13610\n",
      "Other Race                  343\n",
      "Black/African American      119\n",
      "Multi-racial                  0\n",
      "Name: Race, dtype: int64\n",
      "\n",
      "********************\n",
      "\n",
      "Ethnicity : 3\n",
      "Not Span/Hispanic    13938\n",
      "Spanish/Hispanic       125\n",
      "Unknown                  9\n",
      "Multi-ethnic             0\n",
      "Name: Ethnicity, dtype: int64\n",
      "\n",
      "********************\n",
      "\n",
      "Length of Stay : 74\n",
      "2    3059\n",
      "3    2648\n",
      "1    2116\n",
      "4    1620\n",
      "5    1078\n",
      "Name: Length of Stay, dtype: int64\n",
      "\n",
      "********************\n",
      "\n",
      "Type of Admission : 5\n",
      "Emergency        9490\n",
      "Elective         2700\n",
      "Newborn          1220\n",
      "Urgent            657\n",
      "Not Available       5\n",
      "Name: Type of Admission, dtype: int64\n",
      "\n",
      "********************\n",
      "\n",
      "Patient Disposition : 17\n",
      "Home or Self Care               6717\n",
      "Home w/ Home Health Services    4378\n",
      "Skilled Nursing Home            1584\n",
      "Expired                          427\n",
      "Short-term Hospital              290\n",
      "Name: Patient Disposition, dtype: int64\n",
      "\n",
      "********************\n",
      "\n",
      "Discharge Year : 1\n",
      "2015    14072\n",
      "Name: Discharge Year, dtype: int64\n",
      "\n",
      "********************\n",
      "\n",
      "CCS Diagnosis Code : 226\n",
      "218    1219\n",
      "657     864\n",
      "2       833\n",
      "127     459\n",
      "108     408\n",
      "Name: CCS Diagnosis Code, dtype: int64\n",
      "\n",
      "********************\n",
      "\n",
      "CCS Procedure Code : 165\n",
      "0      6956\n",
      "137     790\n",
      "216     567\n",
      "115     491\n",
      "134     379\n",
      "Name: CCS Procedure Code, dtype: int64\n",
      "\n",
      "********************\n",
      "\n",
      "APR DRG Code : 263\n",
      "640    1126\n",
      "560     818\n",
      "720     745\n",
      "140     494\n",
      "194     382\n",
      "Name: APR DRG Code, dtype: int64\n",
      "\n",
      "********************\n",
      "\n",
      "APR MDC Code : 25\n",
      "4     1702\n",
      "5     1553\n",
      "6     1299\n",
      "14    1291\n",
      "15    1233\n",
      "Name: APR MDC Code, dtype: int64\n",
      "\n",
      "********************\n",
      "\n",
      "APR Severity of Illness Code : 4\n",
      "2    5298\n",
      "1    4129\n",
      "3    3987\n",
      "4     658\n",
      "Name: APR Severity of Illness Code, dtype: int64\n",
      "\n",
      "********************\n",
      "\n",
      "APR Risk of Mortality : 4\n",
      "Minor       7296\n",
      "Moderate    3442\n",
      "Major       2734\n",
      "Extreme      600\n",
      "Name: APR Risk of Mortality, dtype: int64\n",
      "\n",
      "********************\n",
      "\n",
      "APR Medical Surgical Description : 2\n",
      "Medical           11256\n",
      "Surgical           2816\n",
      "Not Applicable        0\n",
      "Name: APR Medical Surgical Description, dtype: int64\n",
      "\n",
      "********************\n",
      "\n",
      "Payment Typology 1 : 8\n",
      "Medicare                    7149\n",
      "Medicaid                    3174\n",
      "Blue Cross/Blue Shield      1919\n",
      "Private Health Insurance    1424\n",
      "Self-Pay                     169\n",
      "Name: Payment Typology 1, dtype: int64\n",
      "\n",
      "********************\n",
      "\n",
      "Birth Weight : 38\n",
      "0       12822\n",
      "3500      129\n",
      "3400      101\n",
      "3300       96\n",
      "3600       92\n",
      "Name: Birth Weight, dtype: int64\n",
      "\n",
      "********************\n",
      "\n",
      "Abortion Edit Indicator : 1\n",
      "N    14072\n",
      "Y        0\n",
      "Name: Abortion Edit Indicator, dtype: int64\n",
      "\n",
      "********************\n",
      "\n",
      "Emergency Department Indicator : 2\n",
      "Y    9493\n",
      "N    4579\n",
      "Name: Emergency Department Indicator, dtype: int64\n",
      "\n",
      "********************\n",
      "\n",
      "Total Charges : 13528\n",
      "5357.70    67\n",
      "5276.70    63\n",
      "2849.70    35\n",
      "5885.05    32\n",
      "5899.15    25\n",
      "Name: Total Charges, dtype: int64\n",
      "\n",
      "********************\n",
      "\n",
      "Total Costs : 13510\n",
      "1896.61    67\n",
      "1881.32    63\n",
      "1041.81    35\n",
      "2076.81    32\n",
      "2082.50    25\n",
      "Name: Total Costs, dtype: int64\n",
      "\n",
      "********************\n",
      "\n"
     ]
    }
   ],
   "source": [
    "for col in Glens_df.columns:\n",
    "    print( col,':', Glens_df[col].nunique() )#Num of unique values\n",
    "    print(Glens_df[col].value_counts().nlargest(5)) #Most 5 frequent values\n",
    "    print('\\n' + '*' * 20 + '\\n')"
   ]
  },
  {
   "cell_type": "markdown",
   "id": "0202b75c",
   "metadata": {
    "papermill": {
     "duration": 0.049213,
     "end_time": "2023-02-20T18:20:31.079994",
     "exception": false,
     "start_time": "2023-02-20T18:20:31.030781",
     "status": "completed"
    },
    "tags": []
   },
   "source": [
    "preprocsesing "
   ]
  },
  {
   "cell_type": "code",
   "execution_count": 19,
   "id": "841bfe67",
   "metadata": {
    "execution": {
     "iopub.execute_input": "2023-02-20T18:20:31.179576Z",
     "iopub.status.busy": "2023-02-20T18:20:31.178794Z",
     "iopub.status.idle": "2023-02-20T18:20:31.187486Z",
     "shell.execute_reply": "2023-02-20T18:20:31.186471Z"
    },
    "papermill": {
     "duration": 0.061155,
     "end_time": "2023-02-20T18:20:31.190052",
     "exception": false,
     "start_time": "2023-02-20T18:20:31.128897",
     "status": "completed"
    },
    "tags": []
   },
   "outputs": [],
   "source": [
    " #Glens_df[\"Length of Stay\"] = Glens_df[\"Length of Stay\"].astype('int64')\n",
    " #   simple mapping on binary features.\n",
    "Glens_df['Abortion Edit Indicator'] = Glens_df['Abortion Edit Indicator'].apply(\n",
    "     lambda x: 1 if x == 'Y' else (0 if x == 'N' else None))\n",
    "Glens_df['Emergency Department Indicator'] = Glens_df['Emergency Department Indicator'].apply(\n",
    "    lambda x: 1 if x == 'Y' else (0 if x == 'N' else None))"
   ]
  },
  {
   "cell_type": "code",
   "execution_count": 20,
   "id": "f20f4766",
   "metadata": {
    "execution": {
     "iopub.execute_input": "2023-02-20T18:20:31.290306Z",
     "iopub.status.busy": "2023-02-20T18:20:31.289516Z",
     "iopub.status.idle": "2023-02-20T18:20:31.303343Z",
     "shell.execute_reply": "2023-02-20T18:20:31.302109Z"
    },
    "papermill": {
     "duration": 0.066386,
     "end_time": "2023-02-20T18:20:31.306511",
     "exception": false,
     "start_time": "2023-02-20T18:20:31.240125",
     "status": "completed"
    },
    "tags": []
   },
   "outputs": [],
   "source": [
    "Glens_df[\"Length of Stay\"]=pd.to_numeric(Glens_df[\"Length of Stay\"],errors='coerce')"
   ]
  },
  {
   "cell_type": "code",
   "execution_count": 21,
   "id": "0f1d2d1a",
   "metadata": {
    "execution": {
     "iopub.execute_input": "2023-02-20T18:20:31.407167Z",
     "iopub.status.busy": "2023-02-20T18:20:31.406727Z",
     "iopub.status.idle": "2023-02-20T18:20:31.428299Z",
     "shell.execute_reply": "2023-02-20T18:20:31.426686Z"
    },
    "papermill": {
     "duration": 0.07456,
     "end_time": "2023-02-20T18:20:31.431074",
     "exception": false,
     "start_time": "2023-02-20T18:20:31.356514",
     "status": "completed"
    },
    "tags": []
   },
   "outputs": [
    {
     "name": "stdout",
     "output_type": "stream",
     "text": [
      "<class 'pandas.core.frame.DataFrame'>\n",
      "Int64Index: 14072 entries, 628756 to 664930\n",
      "Data columns (total 25 columns):\n",
      " #   Column                            Non-Null Count  Dtype   \n",
      "---  ------                            --------------  -----   \n",
      " 0   Hospital County                   14072 non-null  category\n",
      " 1   Operating Certificate Number      14072 non-null  float64 \n",
      " 2   Facility Id                       14072 non-null  float64 \n",
      " 3   Age Group                         14072 non-null  category\n",
      " 4   Zip Code - 3 digits               13957 non-null  category\n",
      " 5   Gender                            14072 non-null  category\n",
      " 6   Race                              14072 non-null  category\n",
      " 7   Ethnicity                         14072 non-null  category\n",
      " 8   Length of Stay                    14069 non-null  float64 \n",
      " 9   Type of Admission                 14072 non-null  category\n",
      " 10  Patient Disposition               14072 non-null  category\n",
      " 11  Discharge Year                    14072 non-null  int64   \n",
      " 12  CCS Diagnosis Code                14072 non-null  int64   \n",
      " 13  CCS Procedure Code                14072 non-null  int64   \n",
      " 14  APR DRG Code                      14072 non-null  int64   \n",
      " 15  APR MDC Code                      14072 non-null  int64   \n",
      " 16  APR Severity of Illness Code      14072 non-null  int64   \n",
      " 17  APR Risk of Mortality             14072 non-null  category\n",
      " 18  APR Medical Surgical Description  14072 non-null  category\n",
      " 19  Payment Typology 1                14072 non-null  category\n",
      " 20  Birth Weight                      14072 non-null  int64   \n",
      " 21  Abortion Edit Indicator           14072 non-null  category\n",
      " 22  Emergency Department Indicator    14072 non-null  category\n",
      " 23  Total Charges                     14072 non-null  float64 \n",
      " 24  Total Costs                       14072 non-null  float64 \n",
      "dtypes: category(13), float64(5), int64(7)\n",
      "memory usage: 1.6 MB\n"
     ]
    }
   ],
   "source": [
    "Glens_df.info()"
   ]
  },
  {
   "cell_type": "code",
   "execution_count": 22,
   "id": "24b71df2",
   "metadata": {
    "execution": {
     "iopub.execute_input": "2023-02-20T18:20:31.531588Z",
     "iopub.status.busy": "2023-02-20T18:20:31.530392Z",
     "iopub.status.idle": "2023-02-20T18:20:32.520049Z",
     "shell.execute_reply": "2023-02-20T18:20:32.518645Z"
    },
    "papermill": {
     "duration": 1.042797,
     "end_time": "2023-02-20T18:20:32.522989",
     "exception": false,
     "start_time": "2023-02-20T18:20:31.480192",
     "status": "completed"
    },
    "tags": []
   },
   "outputs": [],
   "source": [
    "list=  [ \"Hospital County\",\"Age Group\"\n",
    "    ,\"Gender\",   \n",
    " \"Race\" , \n",
    "\"Ethnicity\", \n",
    "\"Gender\" , \n",
    "\"Race\" ,    \n",
    " \"Ethnicity\" ,        \n",
    " \"Type of Admission\"  ,  \n",
    "  \"Patient Disposition\",      \n",
    " \"Type of Admission\" ,  \n",
    " \"Patient Disposition\"  ,\n",
    "  \"APR Risk of Mortality\" ,   \n",
    " \"APR Medical Surgical Description\" ,\n",
    " \"Payment Typology 1\"   ,   \n",
    " \"Abortion Edit Indicator\"     ,  \n",
    " \"Emergency Department Indicator\",\n",
    "       \"Zip Code - 3 digits\"]  \n",
    "\n",
    "# Import label encoder\n",
    "from sklearn import preprocessing\n",
    "  \n",
    "# label_encoder object knows how to understand word labels.\n",
    "label_encoder = preprocessing.LabelEncoder()\n",
    "  \n",
    "# Encode labels in column 'species'.\n",
    "for col in list :\n",
    "  Glens_df[col]= label_encoder.fit_transform(Glens_df[col])"
   ]
  },
  {
   "cell_type": "code",
   "execution_count": 23,
   "id": "8b157114",
   "metadata": {
    "execution": {
     "iopub.execute_input": "2023-02-20T18:20:32.623465Z",
     "iopub.status.busy": "2023-02-20T18:20:32.622267Z",
     "iopub.status.idle": "2023-02-20T18:20:32.640582Z",
     "shell.execute_reply": "2023-02-20T18:20:32.638085Z"
    },
    "papermill": {
     "duration": 0.072906,
     "end_time": "2023-02-20T18:20:32.644476",
     "exception": false,
     "start_time": "2023-02-20T18:20:32.571570",
     "status": "completed"
    },
    "tags": []
   },
   "outputs": [
    {
     "name": "stdout",
     "output_type": "stream",
     "text": [
      "<class 'pandas.core.frame.DataFrame'>\n",
      "Int64Index: 14072 entries, 628756 to 664930\n",
      "Data columns (total 25 columns):\n",
      " #   Column                            Non-Null Count  Dtype  \n",
      "---  ------                            --------------  -----  \n",
      " 0   Hospital County                   14072 non-null  int64  \n",
      " 1   Operating Certificate Number      14072 non-null  float64\n",
      " 2   Facility Id                       14072 non-null  float64\n",
      " 3   Age Group                         14072 non-null  int64  \n",
      " 4   Zip Code - 3 digits               14072 non-null  int64  \n",
      " 5   Gender                            14072 non-null  int64  \n",
      " 6   Race                              14072 non-null  int64  \n",
      " 7   Ethnicity                         14072 non-null  int64  \n",
      " 8   Length of Stay                    14069 non-null  float64\n",
      " 9   Type of Admission                 14072 non-null  int64  \n",
      " 10  Patient Disposition               14072 non-null  int64  \n",
      " 11  Discharge Year                    14072 non-null  int64  \n",
      " 12  CCS Diagnosis Code                14072 non-null  int64  \n",
      " 13  CCS Procedure Code                14072 non-null  int64  \n",
      " 14  APR DRG Code                      14072 non-null  int64  \n",
      " 15  APR MDC Code                      14072 non-null  int64  \n",
      " 16  APR Severity of Illness Code      14072 non-null  int64  \n",
      " 17  APR Risk of Mortality             14072 non-null  int64  \n",
      " 18  APR Medical Surgical Description  14072 non-null  int64  \n",
      " 19  Payment Typology 1                14072 non-null  int64  \n",
      " 20  Birth Weight                      14072 non-null  int64  \n",
      " 21  Abortion Edit Indicator           14072 non-null  int64  \n",
      " 22  Emergency Department Indicator    14072 non-null  int64  \n",
      " 23  Total Charges                     14072 non-null  float64\n",
      " 24  Total Costs                       14072 non-null  float64\n",
      "dtypes: float64(5), int64(20)\n",
      "memory usage: 2.8 MB\n"
     ]
    }
   ],
   "source": [
    "Glens_df.info()"
   ]
  },
  {
   "cell_type": "code",
   "execution_count": 24,
   "id": "39d2a76c",
   "metadata": {
    "execution": {
     "iopub.execute_input": "2023-02-20T18:20:32.744589Z",
     "iopub.status.busy": "2023-02-20T18:20:32.743424Z",
     "iopub.status.idle": "2023-02-20T18:20:32.755257Z",
     "shell.execute_reply": "2023-02-20T18:20:32.754293Z"
    },
    "papermill": {
     "duration": 0.063781,
     "end_time": "2023-02-20T18:20:32.757496",
     "exception": false,
     "start_time": "2023-02-20T18:20:32.693715",
     "status": "completed"
    },
    "tags": []
   },
   "outputs": [
    {
     "data": {
      "text/plain": [
       "Hospital County                     0\n",
       "Operating Certificate Number        0\n",
       "Facility Id                         0\n",
       "Age Group                           0\n",
       "Zip Code - 3 digits                 0\n",
       "Gender                              0\n",
       "Race                                0\n",
       "Ethnicity                           0\n",
       "Length of Stay                      3\n",
       "Type of Admission                   0\n",
       "Patient Disposition                 0\n",
       "Discharge Year                      0\n",
       "CCS Diagnosis Code                  0\n",
       "CCS Procedure Code                  0\n",
       "APR DRG Code                        0\n",
       "APR MDC Code                        0\n",
       "APR Severity of Illness Code        0\n",
       "APR Risk of Mortality               0\n",
       "APR Medical Surgical Description    0\n",
       "Payment Typology 1                  0\n",
       "Birth Weight                        0\n",
       "Abortion Edit Indicator             0\n",
       "Emergency Department Indicator      0\n",
       "Total Charges                       0\n",
       "Total Costs                         0\n",
       "dtype: int64"
      ]
     },
     "execution_count": 24,
     "metadata": {},
     "output_type": "execute_result"
    }
   ],
   "source": [
    "Glens_df.isnull().sum()"
   ]
  },
  {
   "cell_type": "code",
   "execution_count": 25,
   "id": "1c00c88e",
   "metadata": {
    "execution": {
     "iopub.execute_input": "2023-02-20T18:20:32.856561Z",
     "iopub.status.busy": "2023-02-20T18:20:32.855811Z",
     "iopub.status.idle": "2023-02-20T18:20:32.867432Z",
     "shell.execute_reply": "2023-02-20T18:20:32.866548Z"
    },
    "papermill": {
     "duration": 0.063985,
     "end_time": "2023-02-20T18:20:32.869950",
     "exception": false,
     "start_time": "2023-02-20T18:20:32.805965",
     "status": "completed"
    },
    "tags": []
   },
   "outputs": [],
   "source": [
    "Glens_df.dropna(inplace=True)"
   ]
  },
  {
   "cell_type": "code",
   "execution_count": 26,
   "id": "253539a2",
   "metadata": {
    "execution": {
     "iopub.execute_input": "2023-02-20T18:20:32.969276Z",
     "iopub.status.busy": "2023-02-20T18:20:32.968474Z",
     "iopub.status.idle": "2023-02-20T18:20:32.975335Z",
     "shell.execute_reply": "2023-02-20T18:20:32.974387Z"
    },
    "papermill": {
     "duration": 0.059235,
     "end_time": "2023-02-20T18:20:32.977757",
     "exception": false,
     "start_time": "2023-02-20T18:20:32.918522",
     "status": "completed"
    },
    "tags": []
   },
   "outputs": [],
   "source": [
    "x = Glens_df.drop([\"Length of Stay\"], axis =1)\n",
    "y = Glens_df[\"Length of Stay\"]"
   ]
  },
  {
   "cell_type": "code",
   "execution_count": 27,
   "id": "f9bc2068",
   "metadata": {
    "execution": {
     "iopub.execute_input": "2023-02-20T18:20:33.077203Z",
     "iopub.status.busy": "2023-02-20T18:20:33.076766Z",
     "iopub.status.idle": "2023-02-20T18:20:33.092172Z",
     "shell.execute_reply": "2023-02-20T18:20:33.090787Z"
    },
    "papermill": {
     "duration": 0.068399,
     "end_time": "2023-02-20T18:20:33.095153",
     "exception": false,
     "start_time": "2023-02-20T18:20:33.026754",
     "status": "completed"
    },
    "tags": []
   },
   "outputs": [
    {
     "name": "stdout",
     "output_type": "stream",
     "text": [
      "<class 'pandas.core.frame.DataFrame'>\n",
      "Int64Index: 14069 entries, 628756 to 664930\n",
      "Data columns (total 24 columns):\n",
      " #   Column                            Non-Null Count  Dtype  \n",
      "---  ------                            --------------  -----  \n",
      " 0   Hospital County                   14069 non-null  int64  \n",
      " 1   Operating Certificate Number      14069 non-null  float64\n",
      " 2   Facility Id                       14069 non-null  float64\n",
      " 3   Age Group                         14069 non-null  int64  \n",
      " 4   Zip Code - 3 digits               14069 non-null  int64  \n",
      " 5   Gender                            14069 non-null  int64  \n",
      " 6   Race                              14069 non-null  int64  \n",
      " 7   Ethnicity                         14069 non-null  int64  \n",
      " 8   Type of Admission                 14069 non-null  int64  \n",
      " 9   Patient Disposition               14069 non-null  int64  \n",
      " 10  Discharge Year                    14069 non-null  int64  \n",
      " 11  CCS Diagnosis Code                14069 non-null  int64  \n",
      " 12  CCS Procedure Code                14069 non-null  int64  \n",
      " 13  APR DRG Code                      14069 non-null  int64  \n",
      " 14  APR MDC Code                      14069 non-null  int64  \n",
      " 15  APR Severity of Illness Code      14069 non-null  int64  \n",
      " 16  APR Risk of Mortality             14069 non-null  int64  \n",
      " 17  APR Medical Surgical Description  14069 non-null  int64  \n",
      " 18  Payment Typology 1                14069 non-null  int64  \n",
      " 19  Birth Weight                      14069 non-null  int64  \n",
      " 20  Abortion Edit Indicator           14069 non-null  int64  \n",
      " 21  Emergency Department Indicator    14069 non-null  int64  \n",
      " 22  Total Charges                     14069 non-null  float64\n",
      " 23  Total Costs                       14069 non-null  float64\n",
      "dtypes: float64(4), int64(20)\n",
      "memory usage: 2.7 MB\n"
     ]
    }
   ],
   "source": [
    "x.info()"
   ]
  },
  {
   "cell_type": "code",
   "execution_count": 28,
   "id": "ea917c5f",
   "metadata": {
    "execution": {
     "iopub.execute_input": "2023-02-20T18:20:33.196548Z",
     "iopub.status.busy": "2023-02-20T18:20:33.196130Z",
     "iopub.status.idle": "2023-02-20T18:20:33.204447Z",
     "shell.execute_reply": "2023-02-20T18:20:33.203515Z"
    },
    "papermill": {
     "duration": 0.060881,
     "end_time": "2023-02-20T18:20:33.206462",
     "exception": false,
     "start_time": "2023-02-20T18:20:33.145581",
     "status": "completed"
    },
    "tags": []
   },
   "outputs": [
    {
     "data": {
      "text/plain": [
       "628756    5.0\n",
       "628825    4.0\n",
       "629035    2.0\n",
       "629070    1.0\n",
       "629175    6.0\n",
       "         ... \n",
       "664926    1.0\n",
       "664927    1.0\n",
       "664928    1.0\n",
       "664929    1.0\n",
       "664930    1.0\n",
       "Name: Length of Stay, Length: 14069, dtype: float64"
      ]
     },
     "execution_count": 28,
     "metadata": {},
     "output_type": "execute_result"
    }
   ],
   "source": [
    "y"
   ]
  },
  {
   "cell_type": "code",
   "execution_count": 29,
   "id": "ff3a5e08",
   "metadata": {
    "execution": {
     "iopub.execute_input": "2023-02-20T18:20:33.306101Z",
     "iopub.status.busy": "2023-02-20T18:20:33.305693Z",
     "iopub.status.idle": "2023-02-20T18:20:33.373499Z",
     "shell.execute_reply": "2023-02-20T18:20:33.372233Z"
    },
    "papermill": {
     "duration": 0.120886,
     "end_time": "2023-02-20T18:20:33.376260",
     "exception": false,
     "start_time": "2023-02-20T18:20:33.255374",
     "status": "completed"
    },
    "tags": []
   },
   "outputs": [],
   "source": [
    "from sklearn.model_selection import train_test_split\n",
    "x_train, x_test, y_train, y_test = train_test_split(x, y, test_size=0.3, random_state=42)"
   ]
  },
  {
   "cell_type": "code",
   "execution_count": 30,
   "id": "1c3b731b",
   "metadata": {
    "execution": {
     "iopub.execute_input": "2023-02-20T18:20:33.476474Z",
     "iopub.status.busy": "2023-02-20T18:20:33.476076Z",
     "iopub.status.idle": "2023-02-20T18:20:33.668922Z",
     "shell.execute_reply": "2023-02-20T18:20:33.667678Z"
    },
    "papermill": {
     "duration": 0.245934,
     "end_time": "2023-02-20T18:20:33.671787",
     "exception": false,
     "start_time": "2023-02-20T18:20:33.425853",
     "status": "completed"
    },
    "tags": []
   },
   "outputs": [],
   "source": [
    "from sklearn.metrics import r2_score\n",
    "from sklearn.metrics import mean_absolute_error\n",
    "from sklearn.metrics import mean_squared_error\n",
    "from sklearn.linear_model import LinearRegression\n",
    "from sklearn import linear_model\n",
    "from sklearn.linear_model import Ridge\n",
    "from sklearn.tree import DecisionTreeRegressor\n",
    "from sklearn.ensemble import RandomForestRegressor\n",
    "from sklearn.pipeline import make_pipeline\n",
    "from sklearn.preprocessing import StandardScaler\n",
    "import numpy as np\n",
    "from sklearn.svm import SVR"
   ]
  },
  {
   "cell_type": "code",
   "execution_count": 31,
   "id": "d5d3025c",
   "metadata": {
    "execution": {
     "iopub.execute_input": "2023-02-20T18:20:33.772110Z",
     "iopub.status.busy": "2023-02-20T18:20:33.771695Z",
     "iopub.status.idle": "2023-02-20T18:20:33.775586Z",
     "shell.execute_reply": "2023-02-20T18:20:33.774684Z"
    },
    "papermill": {
     "duration": 0.057026,
     "end_time": "2023-02-20T18:20:33.777893",
     "exception": false,
     "start_time": "2023-02-20T18:20:33.720867",
     "status": "completed"
    },
    "tags": []
   },
   "outputs": [],
   "source": [
    "# Linear Regression\n",
    "#LR = LinearRegression()\n",
    "#LR.fit(x_train, y_train)"
   ]
  },
  {
   "cell_type": "code",
   "execution_count": 32,
   "id": "3b00ef36",
   "metadata": {
    "execution": {
     "iopub.execute_input": "2023-02-20T18:20:33.878434Z",
     "iopub.status.busy": "2023-02-20T18:20:33.878022Z",
     "iopub.status.idle": "2023-02-20T18:20:33.915396Z",
     "shell.execute_reply": "2023-02-20T18:20:33.914027Z"
    },
    "papermill": {
     "duration": 0.091672,
     "end_time": "2023-02-20T18:20:33.919106",
     "exception": false,
     "start_time": "2023-02-20T18:20:33.827434",
     "status": "completed"
    },
    "tags": []
   },
   "outputs": [],
   "source": [
    "# Linear Regression\n",
    "\n",
    "LR = LinearRegression()\n",
    "LR.fit(x_train, y_train)\n",
    "LR.score(x_train, y_train)\n",
    "y_pred =LR.predict(x_test)"
   ]
  },
  {
   "cell_type": "code",
   "execution_count": 33,
   "id": "c17932ba",
   "metadata": {
    "execution": {
     "iopub.execute_input": "2023-02-20T18:20:34.064578Z",
     "iopub.status.busy": "2023-02-20T18:20:34.064160Z",
     "iopub.status.idle": "2023-02-20T18:20:34.073138Z",
     "shell.execute_reply": "2023-02-20T18:20:34.071778Z"
    },
    "papermill": {
     "duration": 0.077042,
     "end_time": "2023-02-20T18:20:34.076319",
     "exception": false,
     "start_time": "2023-02-20T18:20:33.999277",
     "status": "completed"
    },
    "tags": []
   },
   "outputs": [
    {
     "data": {
      "text/plain": [
       "0.7753107229320534"
      ]
     },
     "execution_count": 33,
     "metadata": {},
     "output_type": "execute_result"
    }
   ],
   "source": [
    "r2 = r2_score(y_test, y_pred)\n",
    "r2 \n"
   ]
  },
  {
   "cell_type": "code",
   "execution_count": 34,
   "id": "dd1a60bf",
   "metadata": {
    "execution": {
     "iopub.execute_input": "2023-02-20T18:20:34.179095Z",
     "iopub.status.busy": "2023-02-20T18:20:34.178313Z",
     "iopub.status.idle": "2023-02-20T18:20:34.184171Z",
     "shell.execute_reply": "2023-02-20T18:20:34.182929Z"
    },
    "papermill": {
     "duration": 0.058728,
     "end_time": "2023-02-20T18:20:34.186515",
     "exception": false,
     "start_time": "2023-02-20T18:20:34.127787",
     "status": "completed"
    },
    "tags": []
   },
   "outputs": [],
   "source": [
    "# calculate the MAE of the model\n",
    "mae = mean_absolute_error(y_test, y_pred)"
   ]
  },
  {
   "cell_type": "code",
   "execution_count": 35,
   "id": "6bc421bb",
   "metadata": {
    "execution": {
     "iopub.execute_input": "2023-02-20T18:20:34.288909Z",
     "iopub.status.busy": "2023-02-20T18:20:34.287143Z",
     "iopub.status.idle": "2023-02-20T18:20:34.294233Z",
     "shell.execute_reply": "2023-02-20T18:20:34.293412Z"
    },
    "papermill": {
     "duration": 0.059412,
     "end_time": "2023-02-20T18:20:34.296386",
     "exception": false,
     "start_time": "2023-02-20T18:20:34.236974",
     "status": "completed"
    },
    "tags": []
   },
   "outputs": [
    {
     "data": {
      "text/plain": [
       "1.519038644423741"
      ]
     },
     "execution_count": 35,
     "metadata": {},
     "output_type": "execute_result"
    }
   ],
   "source": [
    "mae"
   ]
  },
  {
   "cell_type": "code",
   "execution_count": 36,
   "id": "cf8879ac",
   "metadata": {
    "execution": {
     "iopub.execute_input": "2023-02-20T18:20:34.398030Z",
     "iopub.status.busy": "2023-02-20T18:20:34.397048Z",
     "iopub.status.idle": "2023-02-20T18:20:34.404243Z",
     "shell.execute_reply": "2023-02-20T18:20:34.403150Z"
    },
    "papermill": {
     "duration": 0.059743,
     "end_time": "2023-02-20T18:20:34.406513",
     "exception": false,
     "start_time": "2023-02-20T18:20:34.346770",
     "status": "completed"
    },
    "tags": []
   },
   "outputs": [
    {
     "data": {
      "text/plain": [
       "8.394303923962779"
      ]
     },
     "execution_count": 36,
     "metadata": {},
     "output_type": "execute_result"
    }
   ],
   "source": [
    "# calculate the MSE of the model\n",
    "mse = mean_squared_error(y_test, y_pred)\n",
    "mse"
   ]
  },
  {
   "cell_type": "code",
   "execution_count": 37,
   "id": "41023cf8",
   "metadata": {
    "execution": {
     "iopub.execute_input": "2023-02-20T18:20:34.508640Z",
     "iopub.status.busy": "2023-02-20T18:20:34.507961Z",
     "iopub.status.idle": "2023-02-20T18:20:34.513881Z",
     "shell.execute_reply": "2023-02-20T18:20:34.513049Z"
    },
    "papermill": {
     "duration": 0.059194,
     "end_time": "2023-02-20T18:20:34.515928",
     "exception": false,
     "start_time": "2023-02-20T18:20:34.456734",
     "status": "completed"
    },
    "tags": []
   },
   "outputs": [
    {
     "data": {
      "text/plain": [
       "2.8972925161196237"
      ]
     },
     "execution_count": 37,
     "metadata": {},
     "output_type": "execute_result"
    }
   ],
   "source": [
    "# calculate the RMSE of the model\n",
    "rmse = np.sqrt(mse)\n",
    "rmse"
   ]
  },
  {
   "cell_type": "code",
   "execution_count": 38,
   "id": "aaad31bf",
   "metadata": {
    "execution": {
     "iopub.execute_input": "2023-02-20T18:20:34.617315Z",
     "iopub.status.busy": "2023-02-20T18:20:34.616679Z",
     "iopub.status.idle": "2023-02-20T18:20:34.716808Z",
     "shell.execute_reply": "2023-02-20T18:20:34.715418Z"
    },
    "papermill": {
     "duration": 0.155173,
     "end_time": "2023-02-20T18:20:34.720455",
     "exception": false,
     "start_time": "2023-02-20T18:20:34.565282",
     "status": "completed"
    },
    "tags": []
   },
   "outputs": [],
   "source": [
    "# LASSO\n",
    "L1 = linear_model.Lasso()\n",
    "L1.fit(x_train,y_train)\n",
    "y_pred1 = L1.predict(x_test)"
   ]
  },
  {
   "cell_type": "code",
   "execution_count": 39,
   "id": "89007d2a",
   "metadata": {
    "execution": {
     "iopub.execute_input": "2023-02-20T18:20:34.867296Z",
     "iopub.status.busy": "2023-02-20T18:20:34.866879Z",
     "iopub.status.idle": "2023-02-20T18:20:34.874075Z",
     "shell.execute_reply": "2023-02-20T18:20:34.873195Z"
    },
    "papermill": {
     "duration": 0.074379,
     "end_time": "2023-02-20T18:20:34.876196",
     "exception": false,
     "start_time": "2023-02-20T18:20:34.801817",
     "status": "completed"
    },
    "tags": []
   },
   "outputs": [
    {
     "data": {
      "text/plain": [
       "0.7507020198871027"
      ]
     },
     "execution_count": 39,
     "metadata": {},
     "output_type": "execute_result"
    }
   ],
   "source": [
    "r2 = r2_score(y_test, y_pred1)\n",
    "r2 \n"
   ]
  },
  {
   "cell_type": "code",
   "execution_count": 40,
   "id": "5fa24af3",
   "metadata": {
    "execution": {
     "iopub.execute_input": "2023-02-20T18:20:34.977652Z",
     "iopub.status.busy": "2023-02-20T18:20:34.976283Z",
     "iopub.status.idle": "2023-02-20T18:20:34.985040Z",
     "shell.execute_reply": "2023-02-20T18:20:34.983963Z"
    },
    "papermill": {
     "duration": 0.061906,
     "end_time": "2023-02-20T18:20:34.987380",
     "exception": false,
     "start_time": "2023-02-20T18:20:34.925474",
     "status": "completed"
    },
    "tags": []
   },
   "outputs": [
    {
     "data": {
      "text/plain": [
       "1.5980824331021113"
      ]
     },
     "execution_count": 40,
     "metadata": {},
     "output_type": "execute_result"
    }
   ],
   "source": [
    "# calculate the MAE of the model\n",
    "mae = mean_absolute_error(y_test, y_pred1)\n",
    "mae"
   ]
  },
  {
   "cell_type": "code",
   "execution_count": 41,
   "id": "ce566478",
   "metadata": {
    "execution": {
     "iopub.execute_input": "2023-02-20T18:20:35.091217Z",
     "iopub.status.busy": "2023-02-20T18:20:35.090376Z",
     "iopub.status.idle": "2023-02-20T18:20:35.097935Z",
     "shell.execute_reply": "2023-02-20T18:20:35.096651Z"
    },
    "papermill": {
     "duration": 0.060854,
     "end_time": "2023-02-20T18:20:35.100125",
     "exception": false,
     "start_time": "2023-02-20T18:20:35.039271",
     "status": "completed"
    },
    "tags": []
   },
   "outputs": [
    {
     "data": {
      "text/plain": [
       "9.313675490018403"
      ]
     },
     "execution_count": 41,
     "metadata": {},
     "output_type": "execute_result"
    }
   ],
   "source": [
    "# calculate the MSE of the model\n",
    "mse = mean_squared_error(y_test, y_pred1)\n",
    "mse"
   ]
  },
  {
   "cell_type": "code",
   "execution_count": 42,
   "id": "1560fcf8",
   "metadata": {
    "execution": {
     "iopub.execute_input": "2023-02-20T18:20:35.203820Z",
     "iopub.status.busy": "2023-02-20T18:20:35.203337Z",
     "iopub.status.idle": "2023-02-20T18:20:35.211219Z",
     "shell.execute_reply": "2023-02-20T18:20:35.209893Z"
    },
    "papermill": {
     "duration": 0.062973,
     "end_time": "2023-02-20T18:20:35.213479",
     "exception": false,
     "start_time": "2023-02-20T18:20:35.150506",
     "status": "completed"
    },
    "tags": []
   },
   "outputs": [
    {
     "data": {
      "text/plain": [
       "3.0518314976450456"
      ]
     },
     "execution_count": 42,
     "metadata": {},
     "output_type": "execute_result"
    }
   ],
   "source": [
    "# calculate the RMSE of the model\n",
    "rmse = np.sqrt(mse)\n",
    "rmse"
   ]
  },
  {
   "cell_type": "code",
   "execution_count": 43,
   "id": "ac9d8102",
   "metadata": {
    "execution": {
     "iopub.execute_input": "2023-02-20T18:20:35.410453Z",
     "iopub.status.busy": "2023-02-20T18:20:35.409959Z",
     "iopub.status.idle": "2023-02-20T18:20:35.435340Z",
     "shell.execute_reply": "2023-02-20T18:20:35.433908Z"
    },
    "papermill": {
     "duration": 0.174916,
     "end_time": "2023-02-20T18:20:35.439122",
     "exception": false,
     "start_time": "2023-02-20T18:20:35.264206",
     "status": "completed"
    },
    "tags": []
   },
   "outputs": [],
   "source": [
    "# Ridge\n",
    "L2 = Ridge(alpha=1.0)\n",
    "L2.fit(x_train, y_train) \n",
    "y_pred3 = L2.predict(x_test)"
   ]
  },
  {
   "cell_type": "code",
   "execution_count": 44,
   "id": "d3c08349",
   "metadata": {
    "execution": {
     "iopub.execute_input": "2023-02-20T18:20:35.586831Z",
     "iopub.status.busy": "2023-02-20T18:20:35.585442Z",
     "iopub.status.idle": "2023-02-20T18:20:35.593879Z",
     "shell.execute_reply": "2023-02-20T18:20:35.592785Z"
    },
    "papermill": {
     "duration": 0.074699,
     "end_time": "2023-02-20T18:20:35.596099",
     "exception": false,
     "start_time": "2023-02-20T18:20:35.521400",
     "status": "completed"
    },
    "tags": []
   },
   "outputs": [
    {
     "data": {
      "text/plain": [
       "0.7753072003472253"
      ]
     },
     "execution_count": 44,
     "metadata": {},
     "output_type": "execute_result"
    }
   ],
   "source": [
    "r2 = r2_score(y_test, y_pred3)\n",
    "r2 "
   ]
  },
  {
   "cell_type": "code",
   "execution_count": 45,
   "id": "b6619cfe",
   "metadata": {
    "execution": {
     "iopub.execute_input": "2023-02-20T18:20:35.698304Z",
     "iopub.status.busy": "2023-02-20T18:20:35.697592Z",
     "iopub.status.idle": "2023-02-20T18:20:35.705493Z",
     "shell.execute_reply": "2023-02-20T18:20:35.704400Z"
    },
    "papermill": {
     "duration": 0.061821,
     "end_time": "2023-02-20T18:20:35.707753",
     "exception": false,
     "start_time": "2023-02-20T18:20:35.645932",
     "status": "completed"
    },
    "tags": []
   },
   "outputs": [
    {
     "data": {
      "text/plain": [
       "1.5188909684172016"
      ]
     },
     "execution_count": 45,
     "metadata": {},
     "output_type": "execute_result"
    }
   ],
   "source": [
    "# calculate the MAE of the model\n",
    "mae = mean_absolute_error(y_test, y_pred3)\n",
    "mae"
   ]
  },
  {
   "cell_type": "code",
   "execution_count": 46,
   "id": "99bf647e",
   "metadata": {
    "execution": {
     "iopub.execute_input": "2023-02-20T18:20:35.811176Z",
     "iopub.status.busy": "2023-02-20T18:20:35.810775Z",
     "iopub.status.idle": "2023-02-20T18:20:35.818109Z",
     "shell.execute_reply": "2023-02-20T18:20:35.817274Z"
    },
    "papermill": {
     "duration": 0.061676,
     "end_time": "2023-02-20T18:20:35.820117",
     "exception": false,
     "start_time": "2023-02-20T18:20:35.758441",
     "status": "completed"
    },
    "tags": []
   },
   "outputs": [
    {
     "data": {
      "text/plain": [
       "8.394435526360677"
      ]
     },
     "execution_count": 46,
     "metadata": {},
     "output_type": "execute_result"
    }
   ],
   "source": [
    "# calculate the MSE of the model\n",
    "mse = mean_squared_error(y_test, y_pred3)\n",
    "mse"
   ]
  },
  {
   "cell_type": "code",
   "execution_count": 47,
   "id": "01e49a7a",
   "metadata": {
    "execution": {
     "iopub.execute_input": "2023-02-20T18:20:35.922875Z",
     "iopub.status.busy": "2023-02-20T18:20:35.921631Z",
     "iopub.status.idle": "2023-02-20T18:20:35.929656Z",
     "shell.execute_reply": "2023-02-20T18:20:35.928326Z"
    },
    "papermill": {
     "duration": 0.061791,
     "end_time": "2023-02-20T18:20:35.932065",
     "exception": false,
     "start_time": "2023-02-20T18:20:35.870274",
     "status": "completed"
    },
    "tags": []
   },
   "outputs": [
    {
     "data": {
      "text/plain": [
       "2.8973152273028004"
      ]
     },
     "execution_count": 47,
     "metadata": {},
     "output_type": "execute_result"
    }
   ],
   "source": [
    "# calculate the RMSE of the model\n",
    "rmse = np.sqrt(mse)\n",
    "rmse"
   ]
  },
  {
   "cell_type": "markdown",
   "id": "73141e67",
   "metadata": {
    "papermill": {
     "duration": 0.050164,
     "end_time": "2023-02-20T18:20:36.034072",
     "exception": false,
     "start_time": "2023-02-20T18:20:35.983908",
     "status": "completed"
    },
    "tags": []
   },
   "source": [
    "Client 7 : The Burdett Care Center"
   ]
  },
  {
   "cell_type": "code",
   "execution_count": 48,
   "id": "2fd3497f",
   "metadata": {
    "execution": {
     "iopub.execute_input": "2023-02-20T18:20:36.136662Z",
     "iopub.status.busy": "2023-02-20T18:20:36.135977Z",
     "iopub.status.idle": "2023-02-20T18:20:36.311533Z",
     "shell.execute_reply": "2023-02-20T18:20:36.310407Z"
    },
    "papermill": {
     "duration": 0.230034,
     "end_time": "2023-02-20T18:20:36.314278",
     "exception": false,
     "start_time": "2023-02-20T18:20:36.084244",
     "status": "completed"
    },
    "tags": []
   },
   "outputs": [],
   "source": [
    "Burdett_df=df[df[\"Facility Name\"]== 'The Burdett Care Center']"
   ]
  },
  {
   "cell_type": "code",
   "execution_count": 49,
   "id": "2fab7838",
   "metadata": {
    "execution": {
     "iopub.execute_input": "2023-02-20T18:20:36.418202Z",
     "iopub.status.busy": "2023-02-20T18:20:36.417484Z",
     "iopub.status.idle": "2023-02-20T18:20:36.439545Z",
     "shell.execute_reply": "2023-02-20T18:20:36.438058Z"
    },
    "papermill": {
     "duration": 0.076853,
     "end_time": "2023-02-20T18:20:36.442493",
     "exception": false,
     "start_time": "2023-02-20T18:20:36.365640",
     "status": "completed"
    },
    "tags": []
   },
   "outputs": [
    {
     "name": "stdout",
     "output_type": "stream",
     "text": [
      "<class 'pandas.core.frame.DataFrame'>\n",
      "Int64Index: 2007 entries, 664931 to 666956\n",
      "Data columns (total 28 columns):\n",
      " #   Column                            Non-Null Count  Dtype   \n",
      "---  ------                            --------------  -----   \n",
      " 0   Hospital County                   2007 non-null   category\n",
      " 1   Operating Certificate Number      2007 non-null   float64 \n",
      " 2   Facility Id                       2007 non-null   float64 \n",
      " 3   Facility Name                     2007 non-null   object  \n",
      " 4   Age Group                         2007 non-null   category\n",
      " 5   Zip Code - 3 digits               1990 non-null   category\n",
      " 6   Gender                            2007 non-null   category\n",
      " 7   Race                              2007 non-null   category\n",
      " 8   Ethnicity                         2007 non-null   category\n",
      " 9   Length of Stay                    2007 non-null   category\n",
      " 10  Type of Admission                 2007 non-null   category\n",
      " 11  Patient Disposition               2007 non-null   category\n",
      " 12  Discharge Year                    2007 non-null   int64   \n",
      " 13  CCS Diagnosis Code                2007 non-null   int64   \n",
      " 14  CCS Procedure Code                2007 non-null   int64   \n",
      " 15  APR DRG Code                      2007 non-null   int64   \n",
      " 16  APR MDC Code                      2007 non-null   int64   \n",
      " 17  APR Severity of Illness Code      2007 non-null   int64   \n",
      " 18  APR Risk of Mortality             2007 non-null   category\n",
      " 19  APR Medical Surgical Description  2007 non-null   category\n",
      " 20  Payment Typology 1                2007 non-null   category\n",
      " 21  Payment Typology 2                2007 non-null   category\n",
      " 22  Payment Typology 3                2007 non-null   category\n",
      " 23  Birth Weight                      2007 non-null   int64   \n",
      " 24  Abortion Edit Indicator           2007 non-null   category\n",
      " 25  Emergency Department Indicator    2007 non-null   category\n",
      " 26  Total Charges                     2007 non-null   float64 \n",
      " 27  Total Costs                       2007 non-null   float64 \n",
      "dtypes: category(16), float64(4), int64(7), object(1)\n",
      "memory usage: 255.3+ KB\n"
     ]
    }
   ],
   "source": [
    "Burdett_df.info()"
   ]
  },
  {
   "cell_type": "code",
   "execution_count": 50,
   "id": "e25a4bd2",
   "metadata": {
    "execution": {
     "iopub.execute_input": "2023-02-20T18:20:36.545635Z",
     "iopub.status.busy": "2023-02-20T18:20:36.544340Z",
     "iopub.status.idle": "2023-02-20T18:20:36.594124Z",
     "shell.execute_reply": "2023-02-20T18:20:36.591329Z"
    },
    "papermill": {
     "duration": 0.105547,
     "end_time": "2023-02-20T18:20:36.598090",
     "exception": false,
     "start_time": "2023-02-20T18:20:36.492543",
     "status": "completed"
    },
    "tags": []
   },
   "outputs": [
    {
     "name": "stdout",
     "output_type": "stream",
     "text": [
      "Hospital County : 1\n",
      "Rensselaer    2007\n",
      "Albany           0\n",
      "Niagara          0\n",
      "Onondaga         0\n",
      "Ontario          0\n",
      "Name: Hospital County, dtype: int64\n",
      "\n",
      "********************\n",
      "\n",
      "Operating Certificate Number : 1\n",
      "4102004.0    2007\n",
      "Name: Operating Certificate Number, dtype: int64\n",
      "\n",
      "********************\n",
      "\n",
      "Facility Id : 1\n",
      "9250.0    2007\n",
      "Name: Facility Id, dtype: int64\n",
      "\n",
      "********************\n",
      "\n",
      "Facility Name : 1\n",
      "The Burdett Care Center    2007\n",
      "Name: Facility Name, dtype: int64\n",
      "\n",
      "********************\n",
      "\n",
      "Age Group : 3\n",
      "0 to 17        997\n",
      "18 to 29       623\n",
      "30 to 49       387\n",
      "50 to 69         0\n",
      "70 or Older      0\n",
      "Name: Age Group, dtype: int64\n",
      "\n",
      "********************\n",
      "\n",
      "Zip Code - 3 digits : 7\n",
      "121    1309\n",
      "120     466\n",
      "122     110\n",
      "123      50\n",
      "128      45\n",
      "Name: Zip Code - 3 digits, dtype: int64\n",
      "\n",
      "********************\n",
      "\n",
      "Gender : 2\n",
      "F    1498\n",
      "M     509\n",
      "U       0\n",
      "Name: Gender, dtype: int64\n",
      "\n",
      "********************\n",
      "\n",
      "Race : 3\n",
      "White                     1376\n",
      "Other Race                 396\n",
      "Black/African American     235\n",
      "Multi-racial                 0\n",
      "Name: Race, dtype: int64\n",
      "\n",
      "********************\n",
      "\n",
      "Ethnicity : 2\n",
      "Not Span/Hispanic    1922\n",
      "Spanish/Hispanic       85\n",
      "Multi-ethnic            0\n",
      "Unknown                 0\n",
      "Name: Ethnicity, dtype: int64\n",
      "\n",
      "********************\n",
      "\n",
      "Length of Stay : 7\n",
      "2    994\n",
      "3    456\n",
      "1    386\n",
      "4    119\n",
      "5     38\n",
      "Name: Length of Stay, dtype: int64\n",
      "\n",
      "********************\n",
      "\n",
      "Type of Admission : 4\n",
      "Newborn          985\n",
      "Elective         710\n",
      "Urgent           286\n",
      "Emergency         26\n",
      "Not Available      0\n",
      "Name: Type of Admission, dtype: int64\n",
      "\n",
      "********************\n",
      "\n",
      "Patient Disposition : 4\n",
      "Home or Self Care              1963\n",
      "Short-term Hospital              42\n",
      "Expired                           1\n",
      "Left Against Medical Advice       1\n",
      "Another Type Not Listed           0\n",
      "Name: Patient Disposition, dtype: int64\n",
      "\n",
      "********************\n",
      "\n",
      "Discharge Year : 1\n",
      "2015    2007\n",
      "Name: Discharge Year, dtype: int64\n",
      "\n",
      "********************\n",
      "\n",
      "CCS Diagnosis Code : 18\n",
      "218    985\n",
      "195    184\n",
      "191    111\n",
      "185    108\n",
      "192    104\n",
      "Name: CCS Diagnosis Code, dtype: int64\n",
      "\n",
      "********************\n",
      "\n",
      "CCS Procedure Code : 29\n",
      "228    455\n",
      "115    365\n",
      "134    243\n",
      "231    198\n",
      "0      191\n",
      "Name: CCS Procedure Code, dtype: int64\n",
      "\n",
      "********************\n",
      "\n",
      "APR DRG Code : 19\n",
      "640    892\n",
      "560    723\n",
      "540    244\n",
      "581     36\n",
      "626     22\n",
      "Name: APR DRG Code, dtype: int64\n",
      "\n",
      "********************\n",
      "\n",
      "APR MDC Code : 2\n",
      "14    1019\n",
      "15     988\n",
      "Name: APR MDC Code, dtype: int64\n",
      "\n",
      "********************\n",
      "\n",
      "APR Severity of Illness Code : 4\n",
      "1    1372\n",
      "2     559\n",
      "3      74\n",
      "4       2\n",
      "Name: APR Severity of Illness Code, dtype: int64\n",
      "\n",
      "********************\n",
      "\n",
      "APR Risk of Mortality : 4\n",
      "Minor       1995\n",
      "Moderate      10\n",
      "Extreme        1\n",
      "Major          1\n",
      "Name: APR Risk of Mortality, dtype: int64\n",
      "\n",
      "********************\n",
      "\n",
      "APR Medical Surgical Description : 2\n",
      "Medical           1737\n",
      "Surgical           270\n",
      "Not Applicable       0\n",
      "Name: APR Medical Surgical Description, dtype: int64\n",
      "\n",
      "********************\n",
      "\n",
      "Payment Typology 1 : 6\n",
      "Medicaid                    1059\n",
      "Private Health Insurance     549\n",
      "Blue Cross/Blue Shield       289\n",
      "Self-Pay                      52\n",
      "Federal/State/Local/VA        46\n",
      "Name: Payment Typology 1, dtype: int64\n",
      "\n",
      "********************\n",
      "\n",
      "Payment Typology 2 : 6\n",
      "Self-Pay                    1932\n",
      "Medicaid                      61\n",
      "Private Health Insurance       9\n",
      "Blue Cross/Blue Shield         3\n",
      "Medicare                       1\n",
      "Name: Payment Typology 2, dtype: int64\n",
      "\n",
      "********************\n",
      "\n",
      "Payment Typology 3 : 2\n",
      "Self-Pay                     2006\n",
      "Medicaid                        1\n",
      "Blue Cross/Blue Shield          0\n",
      "Department of Corrections       0\n",
      "Federal/State/Local/VA          0\n",
      "Name: Payment Typology 3, dtype: int64\n",
      "\n",
      "********************\n",
      "\n",
      "Birth Weight : 41\n",
      "0       1019\n",
      "3100      85\n",
      "3200      78\n",
      "3300      75\n",
      "3000      74\n",
      "Name: Birth Weight, dtype: int64\n",
      "\n",
      "********************\n",
      "\n",
      "Abortion Edit Indicator : 1\n",
      "N    2007\n",
      "Y       0\n",
      "Name: Abortion Edit Indicator, dtype: int64\n",
      "\n",
      "********************\n",
      "\n",
      "Emergency Department Indicator : 1\n",
      "N    2007\n",
      "Y       0\n",
      "Name: Emergency Department Indicator, dtype: int64\n",
      "\n",
      "********************\n",
      "\n",
      "Total Charges : 1619\n",
      "3356.7    25\n",
      "3035.7    24\n",
      "1757.7    23\n",
      "3060.7    22\n",
      "3185.7    21\n",
      "Name: Total Charges, dtype: int64\n",
      "\n",
      "********************\n",
      "\n",
      "Total Costs : 1637\n",
      "1801.48    24\n",
      "1012.78    23\n",
      "1816.91    22\n",
      "1975.28    21\n",
      "1869.75    20\n",
      "Name: Total Costs, dtype: int64\n",
      "\n",
      "********************\n",
      "\n"
     ]
    }
   ],
   "source": [
    "for col in Burdett_df.columns:\n",
    "    print( col,':', Burdett_df[col].nunique() )#Num of unique values\n",
    "    print(Burdett_df[col].value_counts().nlargest(5)) #Most 5 frequent values\n",
    "    print('\\n' + '*' * 20 + '\\n')"
   ]
  },
  {
   "cell_type": "code",
   "execution_count": 51,
   "id": "587f2e26",
   "metadata": {
    "execution": {
     "iopub.execute_input": "2023-02-20T18:20:36.702564Z",
     "iopub.status.busy": "2023-02-20T18:20:36.702147Z",
     "iopub.status.idle": "2023-02-20T18:20:36.712144Z",
     "shell.execute_reply": "2023-02-20T18:20:36.710727Z"
    },
    "papermill": {
     "duration": 0.066218,
     "end_time": "2023-02-20T18:20:36.715304",
     "exception": false,
     "start_time": "2023-02-20T18:20:36.649086",
     "status": "completed"
    },
    "tags": []
   },
   "outputs": [
    {
     "name": "stderr",
     "output_type": "stream",
     "text": [
      "/opt/conda/lib/python3.7/site-packages/ipykernel_launcher.py:3: SettingWithCopyWarning: \n",
      "A value is trying to be set on a copy of a slice from a DataFrame.\n",
      "Try using .loc[row_indexer,col_indexer] = value instead\n",
      "\n",
      "See the caveats in the documentation: https://pandas.pydata.org/pandas-docs/stable/user_guide/indexing.html#returning-a-view-versus-a-copy\n",
      "  This is separate from the ipykernel package so we can avoid doing imports until\n",
      "/opt/conda/lib/python3.7/site-packages/ipykernel_launcher.py:5: SettingWithCopyWarning: \n",
      "A value is trying to be set on a copy of a slice from a DataFrame.\n",
      "Try using .loc[row_indexer,col_indexer] = value instead\n",
      "\n",
      "See the caveats in the documentation: https://pandas.pydata.org/pandas-docs/stable/user_guide/indexing.html#returning-a-view-versus-a-copy\n",
      "  \"\"\"\n"
     ]
    }
   ],
   "source": [
    " #   simple mapping on binary features.\n",
    "Burdett_df['Abortion Edit Indicator'] = Burdett_df['Abortion Edit Indicator'].apply(\n",
    "     lambda x: 1 if x == 'Y' else (0 if x == 'N' else None))\n",
    "Burdett_df['Emergency Department Indicator'] = Burdett_df['Emergency Department Indicator'].apply(\n",
    "    lambda x: 1 if x == 'Y' else (0 if x == 'N' else None))"
   ]
  },
  {
   "cell_type": "code",
   "execution_count": 52,
   "id": "f43cde1a",
   "metadata": {
    "execution": {
     "iopub.execute_input": "2023-02-20T18:20:36.820748Z",
     "iopub.status.busy": "2023-02-20T18:20:36.820238Z",
     "iopub.status.idle": "2023-02-20T18:20:36.850691Z",
     "shell.execute_reply": "2023-02-20T18:20:36.849371Z"
    },
    "papermill": {
     "duration": 0.085254,
     "end_time": "2023-02-20T18:20:36.853210",
     "exception": false,
     "start_time": "2023-02-20T18:20:36.767956",
     "status": "completed"
    },
    "tags": []
   },
   "outputs": [
    {
     "data": {
      "text/html": [
       "<div>\n",
       "<style scoped>\n",
       "    .dataframe tbody tr th:only-of-type {\n",
       "        vertical-align: middle;\n",
       "    }\n",
       "\n",
       "    .dataframe tbody tr th {\n",
       "        vertical-align: top;\n",
       "    }\n",
       "\n",
       "    .dataframe thead th {\n",
       "        text-align: right;\n",
       "    }\n",
       "</style>\n",
       "<table border=\"1\" class=\"dataframe\">\n",
       "  <thead>\n",
       "    <tr style=\"text-align: right;\">\n",
       "      <th></th>\n",
       "      <th>Hospital County</th>\n",
       "      <th>Operating Certificate Number</th>\n",
       "      <th>Facility Id</th>\n",
       "      <th>Facility Name</th>\n",
       "      <th>Age Group</th>\n",
       "      <th>Zip Code - 3 digits</th>\n",
       "      <th>Gender</th>\n",
       "      <th>Race</th>\n",
       "      <th>Ethnicity</th>\n",
       "      <th>Length of Stay</th>\n",
       "      <th>...</th>\n",
       "      <th>APR Risk of Mortality</th>\n",
       "      <th>APR Medical Surgical Description</th>\n",
       "      <th>Payment Typology 1</th>\n",
       "      <th>Payment Typology 2</th>\n",
       "      <th>Payment Typology 3</th>\n",
       "      <th>Birth Weight</th>\n",
       "      <th>Abortion Edit Indicator</th>\n",
       "      <th>Emergency Department Indicator</th>\n",
       "      <th>Total Charges</th>\n",
       "      <th>Total Costs</th>\n",
       "    </tr>\n",
       "  </thead>\n",
       "  <tbody>\n",
       "    <tr>\n",
       "      <th>664931</th>\n",
       "      <td>Rensselaer</td>\n",
       "      <td>4102004.0</td>\n",
       "      <td>9250.0</td>\n",
       "      <td>The Burdett Care Center</td>\n",
       "      <td>30 to 49</td>\n",
       "      <td>121</td>\n",
       "      <td>F</td>\n",
       "      <td>White</td>\n",
       "      <td>Not Span/Hispanic</td>\n",
       "      <td>3</td>\n",
       "      <td>...</td>\n",
       "      <td>Minor</td>\n",
       "      <td>Surgical</td>\n",
       "      <td>Private Health Insurance</td>\n",
       "      <td>Self-Pay</td>\n",
       "      <td>Self-Pay</td>\n",
       "      <td>0</td>\n",
       "      <td>0</td>\n",
       "      <td>0</td>\n",
       "      <td>12560.54</td>\n",
       "      <td>7260.24</td>\n",
       "    </tr>\n",
       "    <tr>\n",
       "      <th>664932</th>\n",
       "      <td>Rensselaer</td>\n",
       "      <td>4102004.0</td>\n",
       "      <td>9250.0</td>\n",
       "      <td>The Burdett Care Center</td>\n",
       "      <td>18 to 29</td>\n",
       "      <td>120</td>\n",
       "      <td>F</td>\n",
       "      <td>White</td>\n",
       "      <td>Not Span/Hispanic</td>\n",
       "      <td>2</td>\n",
       "      <td>...</td>\n",
       "      <td>Minor</td>\n",
       "      <td>Medical</td>\n",
       "      <td>Medicaid</td>\n",
       "      <td>Self-Pay</td>\n",
       "      <td>Self-Pay</td>\n",
       "      <td>0</td>\n",
       "      <td>0</td>\n",
       "      <td>0</td>\n",
       "      <td>6672.11</td>\n",
       "      <td>3832.18</td>\n",
       "    </tr>\n",
       "    <tr>\n",
       "      <th>664933</th>\n",
       "      <td>Rensselaer</td>\n",
       "      <td>4102004.0</td>\n",
       "      <td>9250.0</td>\n",
       "      <td>The Burdett Care Center</td>\n",
       "      <td>18 to 29</td>\n",
       "      <td>120</td>\n",
       "      <td>F</td>\n",
       "      <td>White</td>\n",
       "      <td>Not Span/Hispanic</td>\n",
       "      <td>2</td>\n",
       "      <td>...</td>\n",
       "      <td>Minor</td>\n",
       "      <td>Surgical</td>\n",
       "      <td>Medicaid</td>\n",
       "      <td>Self-Pay</td>\n",
       "      <td>Self-Pay</td>\n",
       "      <td>0</td>\n",
       "      <td>0</td>\n",
       "      <td>0</td>\n",
       "      <td>10598.85</td>\n",
       "      <td>5926.81</td>\n",
       "    </tr>\n",
       "    <tr>\n",
       "      <th>664934</th>\n",
       "      <td>Rensselaer</td>\n",
       "      <td>4102004.0</td>\n",
       "      <td>9250.0</td>\n",
       "      <td>The Burdett Care Center</td>\n",
       "      <td>18 to 29</td>\n",
       "      <td>121</td>\n",
       "      <td>F</td>\n",
       "      <td>Black/African American</td>\n",
       "      <td>Not Span/Hispanic</td>\n",
       "      <td>3</td>\n",
       "      <td>...</td>\n",
       "      <td>Minor</td>\n",
       "      <td>Surgical</td>\n",
       "      <td>Blue Cross/Blue Shield</td>\n",
       "      <td>Self-Pay</td>\n",
       "      <td>Self-Pay</td>\n",
       "      <td>0</td>\n",
       "      <td>0</td>\n",
       "      <td>0</td>\n",
       "      <td>17085.67</td>\n",
       "      <td>8402.28</td>\n",
       "    </tr>\n",
       "    <tr>\n",
       "      <th>664935</th>\n",
       "      <td>Rensselaer</td>\n",
       "      <td>4102004.0</td>\n",
       "      <td>9250.0</td>\n",
       "      <td>The Burdett Care Center</td>\n",
       "      <td>18 to 29</td>\n",
       "      <td>120</td>\n",
       "      <td>F</td>\n",
       "      <td>White</td>\n",
       "      <td>Not Span/Hispanic</td>\n",
       "      <td>2</td>\n",
       "      <td>...</td>\n",
       "      <td>Minor</td>\n",
       "      <td>Surgical</td>\n",
       "      <td>Medicaid</td>\n",
       "      <td>Self-Pay</td>\n",
       "      <td>Self-Pay</td>\n",
       "      <td>0</td>\n",
       "      <td>0</td>\n",
       "      <td>0</td>\n",
       "      <td>9914.79</td>\n",
       "      <td>5671.25</td>\n",
       "    </tr>\n",
       "  </tbody>\n",
       "</table>\n",
       "<p>5 rows × 28 columns</p>\n",
       "</div>"
      ],
      "text/plain": [
       "       Hospital County  Operating Certificate Number  Facility Id  \\\n",
       "664931      Rensselaer                     4102004.0       9250.0   \n",
       "664932      Rensselaer                     4102004.0       9250.0   \n",
       "664933      Rensselaer                     4102004.0       9250.0   \n",
       "664934      Rensselaer                     4102004.0       9250.0   \n",
       "664935      Rensselaer                     4102004.0       9250.0   \n",
       "\n",
       "                  Facility Name Age Group Zip Code - 3 digits Gender  \\\n",
       "664931  The Burdett Care Center  30 to 49                 121      F   \n",
       "664932  The Burdett Care Center  18 to 29                 120      F   \n",
       "664933  The Burdett Care Center  18 to 29                 120      F   \n",
       "664934  The Burdett Care Center  18 to 29                 121      F   \n",
       "664935  The Burdett Care Center  18 to 29                 120      F   \n",
       "\n",
       "                          Race          Ethnicity Length of Stay  ...  \\\n",
       "664931                   White  Not Span/Hispanic              3  ...   \n",
       "664932                   White  Not Span/Hispanic              2  ...   \n",
       "664933                   White  Not Span/Hispanic              2  ...   \n",
       "664934  Black/African American  Not Span/Hispanic              3  ...   \n",
       "664935                   White  Not Span/Hispanic              2  ...   \n",
       "\n",
       "       APR Risk of Mortality APR Medical Surgical Description  \\\n",
       "664931                 Minor                         Surgical   \n",
       "664932                 Minor                          Medical   \n",
       "664933                 Minor                         Surgical   \n",
       "664934                 Minor                         Surgical   \n",
       "664935                 Minor                         Surgical   \n",
       "\n",
       "              Payment Typology 1  Payment Typology 2  Payment Typology 3  \\\n",
       "664931  Private Health Insurance            Self-Pay            Self-Pay   \n",
       "664932                  Medicaid            Self-Pay            Self-Pay   \n",
       "664933                  Medicaid            Self-Pay            Self-Pay   \n",
       "664934    Blue Cross/Blue Shield            Self-Pay            Self-Pay   \n",
       "664935                  Medicaid            Self-Pay            Self-Pay   \n",
       "\n",
       "        Birth Weight  Abortion Edit Indicator  Emergency Department Indicator  \\\n",
       "664931             0                        0                               0   \n",
       "664932             0                        0                               0   \n",
       "664933             0                        0                               0   \n",
       "664934             0                        0                               0   \n",
       "664935             0                        0                               0   \n",
       "\n",
       "       Total Charges Total Costs  \n",
       "664931      12560.54     7260.24  \n",
       "664932       6672.11     3832.18  \n",
       "664933      10598.85     5926.81  \n",
       "664934      17085.67     8402.28  \n",
       "664935       9914.79     5671.25  \n",
       "\n",
       "[5 rows x 28 columns]"
      ]
     },
     "execution_count": 52,
     "metadata": {},
     "output_type": "execute_result"
    }
   ],
   "source": [
    "Burdett_df.head()"
   ]
  },
  {
   "cell_type": "code",
   "execution_count": 53,
   "id": "99929f20",
   "metadata": {
    "execution": {
     "iopub.execute_input": "2023-02-20T18:20:36.958286Z",
     "iopub.status.busy": "2023-02-20T18:20:36.957571Z",
     "iopub.status.idle": "2023-02-20T18:20:36.965665Z",
     "shell.execute_reply": "2023-02-20T18:20:36.964403Z"
    },
    "papermill": {
     "duration": 0.06381,
     "end_time": "2023-02-20T18:20:36.968669",
     "exception": false,
     "start_time": "2023-02-20T18:20:36.904859",
     "status": "completed"
    },
    "tags": []
   },
   "outputs": [
    {
     "name": "stderr",
     "output_type": "stream",
     "text": [
      "/opt/conda/lib/python3.7/site-packages/ipykernel_launcher.py:1: SettingWithCopyWarning: \n",
      "A value is trying to be set on a copy of a slice from a DataFrame.\n",
      "Try using .loc[row_indexer,col_indexer] = value instead\n",
      "\n",
      "See the caveats in the documentation: https://pandas.pydata.org/pandas-docs/stable/user_guide/indexing.html#returning-a-view-versus-a-copy\n",
      "  \"\"\"Entry point for launching an IPython kernel.\n"
     ]
    }
   ],
   "source": [
    "Burdett_df[\"Length of Stay\"]=pd.to_numeric(Burdett_df[\"Length of Stay\"],errors='coerce')"
   ]
  },
  {
   "cell_type": "code",
   "execution_count": 54,
   "id": "e491e847",
   "metadata": {
    "execution": {
     "iopub.execute_input": "2023-02-20T18:20:37.075688Z",
     "iopub.status.busy": "2023-02-20T18:20:37.074841Z",
     "iopub.status.idle": "2023-02-20T18:20:37.095355Z",
     "shell.execute_reply": "2023-02-20T18:20:37.093964Z"
    },
    "papermill": {
     "duration": 0.077852,
     "end_time": "2023-02-20T18:20:37.098035",
     "exception": false,
     "start_time": "2023-02-20T18:20:37.020183",
     "status": "completed"
    },
    "tags": []
   },
   "outputs": [
    {
     "name": "stdout",
     "output_type": "stream",
     "text": [
      "<class 'pandas.core.frame.DataFrame'>\n",
      "Int64Index: 2007 entries, 664931 to 666956\n",
      "Data columns (total 28 columns):\n",
      " #   Column                            Non-Null Count  Dtype   \n",
      "---  ------                            --------------  -----   \n",
      " 0   Hospital County                   2007 non-null   category\n",
      " 1   Operating Certificate Number      2007 non-null   float64 \n",
      " 2   Facility Id                       2007 non-null   float64 \n",
      " 3   Facility Name                     2007 non-null   object  \n",
      " 4   Age Group                         2007 non-null   category\n",
      " 5   Zip Code - 3 digits               1990 non-null   category\n",
      " 6   Gender                            2007 non-null   category\n",
      " 7   Race                              2007 non-null   category\n",
      " 8   Ethnicity                         2007 non-null   category\n",
      " 9   Length of Stay                    2007 non-null   int64   \n",
      " 10  Type of Admission                 2007 non-null   category\n",
      " 11  Patient Disposition               2007 non-null   category\n",
      " 12  Discharge Year                    2007 non-null   int64   \n",
      " 13  CCS Diagnosis Code                2007 non-null   int64   \n",
      " 14  CCS Procedure Code                2007 non-null   int64   \n",
      " 15  APR DRG Code                      2007 non-null   int64   \n",
      " 16  APR MDC Code                      2007 non-null   int64   \n",
      " 17  APR Severity of Illness Code      2007 non-null   int64   \n",
      " 18  APR Risk of Mortality             2007 non-null   category\n",
      " 19  APR Medical Surgical Description  2007 non-null   category\n",
      " 20  Payment Typology 1                2007 non-null   category\n",
      " 21  Payment Typology 2                2007 non-null   category\n",
      " 22  Payment Typology 3                2007 non-null   category\n",
      " 23  Birth Weight                      2007 non-null   int64   \n",
      " 24  Abortion Edit Indicator           2007 non-null   category\n",
      " 25  Emergency Department Indicator    2007 non-null   category\n",
      " 26  Total Charges                     2007 non-null   float64 \n",
      " 27  Total Costs                       2007 non-null   float64 \n",
      "dtypes: category(15), float64(4), int64(8), object(1)\n",
      "memory usage: 257.2+ KB\n"
     ]
    }
   ],
   "source": [
    "Burdett_df.info()"
   ]
  },
  {
   "cell_type": "code",
   "execution_count": 55,
   "id": "101f3f10",
   "metadata": {
    "execution": {
     "iopub.execute_input": "2023-02-20T18:20:37.204914Z",
     "iopub.status.busy": "2023-02-20T18:20:37.204452Z",
     "iopub.status.idle": "2023-02-20T18:20:37.230207Z",
     "shell.execute_reply": "2023-02-20T18:20:37.228662Z"
    },
    "papermill": {
     "duration": 0.082562,
     "end_time": "2023-02-20T18:20:37.232725",
     "exception": false,
     "start_time": "2023-02-20T18:20:37.150163",
     "status": "completed"
    },
    "tags": []
   },
   "outputs": [
    {
     "name": "stderr",
     "output_type": "stream",
     "text": [
      "/opt/conda/lib/python3.7/site-packages/ipykernel_launcher.py:29: SettingWithCopyWarning: \n",
      "A value is trying to be set on a copy of a slice from a DataFrame.\n",
      "Try using .loc[row_indexer,col_indexer] = value instead\n",
      "\n",
      "See the caveats in the documentation: https://pandas.pydata.org/pandas-docs/stable/user_guide/indexing.html#returning-a-view-versus-a-copy\n"
     ]
    }
   ],
   "source": [
    "list=  [ \"Hospital County\",\"Age Group\"\n",
    "    ,\"Gender\",   \n",
    " \"Race\" , \n",
    "\"Ethnicity\", \n",
    "\"Gender\" , \n",
    "\"Race\" ,    \n",
    " \"Ethnicity\" ,        \n",
    " \"Type of Admission\"  ,  \n",
    "  \"Patient Disposition\",      \n",
    " \"Type of Admission\" ,  \n",
    " \"Patient Disposition\"  ,\n",
    "  \"APR Risk of Mortality\" ,   \n",
    " \"APR Medical Surgical Description\" ,\n",
    " \"Payment Typology 1\"   ,   \n",
    " \"Abortion Edit Indicator\"     ,  \n",
    " \"Emergency Department Indicator\",\n",
    "       \"Zip Code - 3 digits\",\"Payment Typology 2\"        \n",
    "   ,\"Payment Typology 3\"]  \n",
    "\n",
    "# Import label encoder\n",
    "from sklearn import preprocessing\n",
    "  \n",
    "# label_encoder object knows how to understand word labels.        \n",
    "   \n",
    "label_encoder = preprocessing.LabelEncoder()\n",
    "  \n",
    "# Encode labels in column 'species'. \n",
    "for col in list :\n",
    "  Burdett_df[col]= label_encoder.fit_transform(Burdett_df[col])"
   ]
  },
  {
   "cell_type": "code",
   "execution_count": 56,
   "id": "32030ef7",
   "metadata": {
    "execution": {
     "iopub.execute_input": "2023-02-20T18:20:37.339054Z",
     "iopub.status.busy": "2023-02-20T18:20:37.337877Z",
     "iopub.status.idle": "2023-02-20T18:20:37.356225Z",
     "shell.execute_reply": "2023-02-20T18:20:37.354230Z"
    },
    "papermill": {
     "duration": 0.074454,
     "end_time": "2023-02-20T18:20:37.358924",
     "exception": false,
     "start_time": "2023-02-20T18:20:37.284470",
     "status": "completed"
    },
    "tags": []
   },
   "outputs": [
    {
     "name": "stdout",
     "output_type": "stream",
     "text": [
      "<class 'pandas.core.frame.DataFrame'>\n",
      "Int64Index: 2007 entries, 664931 to 666956\n",
      "Data columns (total 28 columns):\n",
      " #   Column                            Non-Null Count  Dtype  \n",
      "---  ------                            --------------  -----  \n",
      " 0   Hospital County                   2007 non-null   int64  \n",
      " 1   Operating Certificate Number      2007 non-null   float64\n",
      " 2   Facility Id                       2007 non-null   float64\n",
      " 3   Facility Name                     2007 non-null   object \n",
      " 4   Age Group                         2007 non-null   int64  \n",
      " 5   Zip Code - 3 digits               2007 non-null   int64  \n",
      " 6   Gender                            2007 non-null   int64  \n",
      " 7   Race                              2007 non-null   int64  \n",
      " 8   Ethnicity                         2007 non-null   int64  \n",
      " 9   Length of Stay                    2007 non-null   int64  \n",
      " 10  Type of Admission                 2007 non-null   int64  \n",
      " 11  Patient Disposition               2007 non-null   int64  \n",
      " 12  Discharge Year                    2007 non-null   int64  \n",
      " 13  CCS Diagnosis Code                2007 non-null   int64  \n",
      " 14  CCS Procedure Code                2007 non-null   int64  \n",
      " 15  APR DRG Code                      2007 non-null   int64  \n",
      " 16  APR MDC Code                      2007 non-null   int64  \n",
      " 17  APR Severity of Illness Code      2007 non-null   int64  \n",
      " 18  APR Risk of Mortality             2007 non-null   int64  \n",
      " 19  APR Medical Surgical Description  2007 non-null   int64  \n",
      " 20  Payment Typology 1                2007 non-null   int64  \n",
      " 21  Payment Typology 2                2007 non-null   int64  \n",
      " 22  Payment Typology 3                2007 non-null   int64  \n",
      " 23  Birth Weight                      2007 non-null   int64  \n",
      " 24  Abortion Edit Indicator           2007 non-null   int64  \n",
      " 25  Emergency Department Indicator    2007 non-null   int64  \n",
      " 26  Total Charges                     2007 non-null   float64\n",
      " 27  Total Costs                       2007 non-null   float64\n",
      "dtypes: float64(4), int64(23), object(1)\n",
      "memory usage: 454.7+ KB\n"
     ]
    }
   ],
   "source": [
    "Burdett_df.info()"
   ]
  },
  {
   "cell_type": "code",
   "execution_count": 57,
   "id": "ed5c03a6",
   "metadata": {
    "execution": {
     "iopub.execute_input": "2023-02-20T18:20:37.463698Z",
     "iopub.status.busy": "2023-02-20T18:20:37.463231Z",
     "iopub.status.idle": "2023-02-20T18:20:37.471149Z",
     "shell.execute_reply": "2023-02-20T18:20:37.469843Z"
    },
    "papermill": {
     "duration": 0.063438,
     "end_time": "2023-02-20T18:20:37.473910",
     "exception": false,
     "start_time": "2023-02-20T18:20:37.410472",
     "status": "completed"
    },
    "tags": []
   },
   "outputs": [],
   "source": [
    "Burdett_df=Burdett_df.drop(\"Facility Name\", axis=1)"
   ]
  },
  {
   "cell_type": "code",
   "execution_count": 58,
   "id": "9bfd42c2",
   "metadata": {
    "execution": {
     "iopub.execute_input": "2023-02-20T18:20:37.579432Z",
     "iopub.status.busy": "2023-02-20T18:20:37.578635Z",
     "iopub.status.idle": "2023-02-20T18:20:37.585099Z",
     "shell.execute_reply": "2023-02-20T18:20:37.584076Z"
    },
    "papermill": {
     "duration": 0.061416,
     "end_time": "2023-02-20T18:20:37.587367",
     "exception": false,
     "start_time": "2023-02-20T18:20:37.525951",
     "status": "completed"
    },
    "tags": []
   },
   "outputs": [],
   "source": [
    "x = Burdett_df.drop([\"Length of Stay\"], axis =1)\n",
    "y = Burdett_df[\"Length of Stay\"]"
   ]
  },
  {
   "cell_type": "code",
   "execution_count": 59,
   "id": "42c9680e",
   "metadata": {
    "execution": {
     "iopub.execute_input": "2023-02-20T18:20:37.692810Z",
     "iopub.status.busy": "2023-02-20T18:20:37.691917Z",
     "iopub.status.idle": "2023-02-20T18:20:37.700400Z",
     "shell.execute_reply": "2023-02-20T18:20:37.699469Z"
    },
    "papermill": {
     "duration": 0.063394,
     "end_time": "2023-02-20T18:20:37.702655",
     "exception": false,
     "start_time": "2023-02-20T18:20:37.639261",
     "status": "completed"
    },
    "tags": []
   },
   "outputs": [],
   "source": [
    "from sklearn.model_selection import train_test_split\n",
    "x_train, x_test, y_train, y_test = train_test_split(x, y, test_size=0.3, random_state=42)"
   ]
  },
  {
   "cell_type": "code",
   "execution_count": 60,
   "id": "d88a5f39",
   "metadata": {
    "execution": {
     "iopub.execute_input": "2023-02-20T18:20:37.808705Z",
     "iopub.status.busy": "2023-02-20T18:20:37.807438Z",
     "iopub.status.idle": "2023-02-20T18:20:37.833474Z",
     "shell.execute_reply": "2023-02-20T18:20:37.832078Z"
    },
    "papermill": {
     "duration": 0.082426,
     "end_time": "2023-02-20T18:20:37.837082",
     "exception": false,
     "start_time": "2023-02-20T18:20:37.754656",
     "status": "completed"
    },
    "tags": []
   },
   "outputs": [],
   "source": [
    "# Linear Regression\n",
    "\n",
    "LR = LinearRegression()\n",
    "LR.fit(x_train, y_train)\n",
    "LR.score(x_train, y_train)\n",
    "y_pred =LR.predict(x_test)"
   ]
  },
  {
   "cell_type": "code",
   "execution_count": 61,
   "id": "f0421c2b",
   "metadata": {
    "execution": {
     "iopub.execute_input": "2023-02-20T18:20:37.987366Z",
     "iopub.status.busy": "2023-02-20T18:20:37.986950Z",
     "iopub.status.idle": "2023-02-20T18:20:37.995125Z",
     "shell.execute_reply": "2023-02-20T18:20:37.993926Z"
    },
    "papermill": {
     "duration": 0.074627,
     "end_time": "2023-02-20T18:20:37.997306",
     "exception": false,
     "start_time": "2023-02-20T18:20:37.922679",
     "status": "completed"
    },
    "tags": []
   },
   "outputs": [
    {
     "data": {
      "text/plain": [
       "0.8723056813594046"
      ]
     },
     "execution_count": 61,
     "metadata": {},
     "output_type": "execute_result"
    }
   ],
   "source": [
    "r2 = r2_score(y_test, y_pred)\n",
    "r2 \n"
   ]
  },
  {
   "cell_type": "code",
   "execution_count": 62,
   "id": "81dc3a82",
   "metadata": {
    "execution": {
     "iopub.execute_input": "2023-02-20T18:20:38.104022Z",
     "iopub.status.busy": "2023-02-20T18:20:38.103059Z",
     "iopub.status.idle": "2023-02-20T18:20:38.111918Z",
     "shell.execute_reply": "2023-02-20T18:20:38.110764Z"
    },
    "papermill": {
     "duration": 0.065075,
     "end_time": "2023-02-20T18:20:38.114454",
     "exception": false,
     "start_time": "2023-02-20T18:20:38.049379",
     "status": "completed"
    },
    "tags": []
   },
   "outputs": [
    {
     "data": {
      "text/plain": [
       "0.23125353938413457"
      ]
     },
     "execution_count": 62,
     "metadata": {},
     "output_type": "execute_result"
    }
   ],
   "source": [
    "# calculate the MAE of the model\n",
    "mae = mean_absolute_error(y_test, y_pred)\n",
    "mae"
   ]
  },
  {
   "cell_type": "code",
   "execution_count": 63,
   "id": "969f2bbd",
   "metadata": {
    "execution": {
     "iopub.execute_input": "2023-02-20T18:20:38.220086Z",
     "iopub.status.busy": "2023-02-20T18:20:38.219303Z",
     "iopub.status.idle": "2023-02-20T18:20:38.228788Z",
     "shell.execute_reply": "2023-02-20T18:20:38.227587Z"
    },
    "papermill": {
     "duration": 0.064804,
     "end_time": "2023-02-20T18:20:38.231149",
     "exception": false,
     "start_time": "2023-02-20T18:20:38.166345",
     "status": "completed"
    },
    "tags": []
   },
   "outputs": [
    {
     "data": {
      "text/plain": [
       "0.1265392685345504"
      ]
     },
     "execution_count": 63,
     "metadata": {},
     "output_type": "execute_result"
    }
   ],
   "source": [
    "# calculate the MSE of the model\n",
    "mse = mean_squared_error(y_test, y_pred)\n",
    "mse"
   ]
  },
  {
   "cell_type": "code",
   "execution_count": 64,
   "id": "1c521beb",
   "metadata": {
    "execution": {
     "iopub.execute_input": "2023-02-20T18:20:38.336206Z",
     "iopub.status.busy": "2023-02-20T18:20:38.335755Z",
     "iopub.status.idle": "2023-02-20T18:20:38.343148Z",
     "shell.execute_reply": "2023-02-20T18:20:38.342021Z"
    },
    "papermill": {
     "duration": 0.062709,
     "end_time": "2023-02-20T18:20:38.345573",
     "exception": false,
     "start_time": "2023-02-20T18:20:38.282864",
     "status": "completed"
    },
    "tags": []
   },
   "outputs": [
    {
     "data": {
      "text/plain": [
       "0.3557235844508351"
      ]
     },
     "execution_count": 64,
     "metadata": {},
     "output_type": "execute_result"
    }
   ],
   "source": [
    "# calculate the RMSE of the model\n",
    "rmse = np.sqrt(mse)\n",
    "rmse"
   ]
  },
  {
   "cell_type": "code",
   "execution_count": 65,
   "id": "a812bb79",
   "metadata": {
    "execution": {
     "iopub.execute_input": "2023-02-20T18:20:38.452737Z",
     "iopub.status.busy": "2023-02-20T18:20:38.452295Z",
     "iopub.status.idle": "2023-02-20T18:20:38.480786Z",
     "shell.execute_reply": "2023-02-20T18:20:38.479368Z"
    },
    "papermill": {
     "duration": 0.085607,
     "end_time": "2023-02-20T18:20:38.484348",
     "exception": false,
     "start_time": "2023-02-20T18:20:38.398741",
     "status": "completed"
    },
    "tags": []
   },
   "outputs": [],
   "source": [
    "# LASSO\n",
    "L1 = linear_model.Lasso()\n",
    "L1.fit(x_train,y_train)\n",
    "y_pred1 = L1.predict(x_test)"
   ]
  },
  {
   "cell_type": "code",
   "execution_count": 66,
   "id": "aa7e5a21",
   "metadata": {
    "execution": {
     "iopub.execute_input": "2023-02-20T18:20:38.635986Z",
     "iopub.status.busy": "2023-02-20T18:20:38.635545Z",
     "iopub.status.idle": "2023-02-20T18:20:38.643128Z",
     "shell.execute_reply": "2023-02-20T18:20:38.642056Z"
    },
    "papermill": {
     "duration": 0.07392,
     "end_time": "2023-02-20T18:20:38.645625",
     "exception": false,
     "start_time": "2023-02-20T18:20:38.571705",
     "status": "completed"
    },
    "tags": []
   },
   "outputs": [
    {
     "data": {
      "text/plain": [
       "0.3459801547925998"
      ]
     },
     "execution_count": 66,
     "metadata": {},
     "output_type": "execute_result"
    }
   ],
   "source": [
    "# calculate the MAE of the model\n",
    "mae = mean_absolute_error(y_test, y_pred1)\n",
    "mae"
   ]
  },
  {
   "cell_type": "code",
   "execution_count": 67,
   "id": "f6758fa3",
   "metadata": {
    "execution": {
     "iopub.execute_input": "2023-02-20T18:20:38.752665Z",
     "iopub.status.busy": "2023-02-20T18:20:38.751914Z",
     "iopub.status.idle": "2023-02-20T18:20:38.758682Z",
     "shell.execute_reply": "2023-02-20T18:20:38.757821Z"
    },
    "papermill": {
     "duration": 0.063437,
     "end_time": "2023-02-20T18:20:38.761151",
     "exception": false,
     "start_time": "2023-02-20T18:20:38.697714",
     "status": "completed"
    },
    "tags": []
   },
   "outputs": [
    {
     "data": {
      "text/plain": [
       "0.3101903514122998"
      ]
     },
     "execution_count": 67,
     "metadata": {},
     "output_type": "execute_result"
    }
   ],
   "source": [
    "# calculate the MSE of the model\n",
    "mse = mean_squared_error(y_test, y_pred1)\n",
    "mse"
   ]
  },
  {
   "cell_type": "code",
   "execution_count": 68,
   "id": "39f56926",
   "metadata": {
    "execution": {
     "iopub.execute_input": "2023-02-20T18:20:38.868468Z",
     "iopub.status.busy": "2023-02-20T18:20:38.867796Z",
     "iopub.status.idle": "2023-02-20T18:20:38.874924Z",
     "shell.execute_reply": "2023-02-20T18:20:38.873691Z"
    },
    "papermill": {
     "duration": 0.063838,
     "end_time": "2023-02-20T18:20:38.877421",
     "exception": false,
     "start_time": "2023-02-20T18:20:38.813583",
     "status": "completed"
    },
    "tags": []
   },
   "outputs": [
    {
     "data": {
      "text/plain": [
       "0.5569473506645846"
      ]
     },
     "execution_count": 68,
     "metadata": {},
     "output_type": "execute_result"
    }
   ],
   "source": [
    "# calculate the RMSE of the model\n",
    "rmse = np.sqrt(mse)\n",
    "rmse"
   ]
  },
  {
   "cell_type": "code",
   "execution_count": 69,
   "id": "7808967a",
   "metadata": {
    "execution": {
     "iopub.execute_input": "2023-02-20T18:20:38.983754Z",
     "iopub.status.busy": "2023-02-20T18:20:38.983319Z",
     "iopub.status.idle": "2023-02-20T18:20:38.991166Z",
     "shell.execute_reply": "2023-02-20T18:20:38.990057Z"
    },
    "papermill": {
     "duration": 0.063846,
     "end_time": "2023-02-20T18:20:38.993408",
     "exception": false,
     "start_time": "2023-02-20T18:20:38.929562",
     "status": "completed"
    },
    "tags": []
   },
   "outputs": [
    {
     "data": {
      "text/plain": [
       "0.6869782318864484"
      ]
     },
     "execution_count": 69,
     "metadata": {},
     "output_type": "execute_result"
    }
   ],
   "source": [
    "r2 = r2_score(y_test, y_pred1)\n",
    "r2 \n"
   ]
  },
  {
   "cell_type": "code",
   "execution_count": 70,
   "id": "31320929",
   "metadata": {
    "execution": {
     "iopub.execute_input": "2023-02-20T18:20:39.101511Z",
     "iopub.status.busy": "2023-02-20T18:20:39.100801Z",
     "iopub.status.idle": "2023-02-20T18:20:39.113307Z",
     "shell.execute_reply": "2023-02-20T18:20:39.111703Z"
    },
    "papermill": {
     "duration": 0.073165,
     "end_time": "2023-02-20T18:20:39.119136",
     "exception": false,
     "start_time": "2023-02-20T18:20:39.045971",
     "status": "completed"
    },
    "tags": []
   },
   "outputs": [],
   "source": [
    "# Ridge\n",
    "L2 = Ridge(alpha=1.0)\n",
    "L2.fit(x_train, y_train) \n",
    "y_pred3 = L2.predict(x_test)"
   ]
  },
  {
   "cell_type": "code",
   "execution_count": 71,
   "id": "29a724b2",
   "metadata": {
    "execution": {
     "iopub.execute_input": "2023-02-20T18:20:39.273929Z",
     "iopub.status.busy": "2023-02-20T18:20:39.273448Z",
     "iopub.status.idle": "2023-02-20T18:20:39.281149Z",
     "shell.execute_reply": "2023-02-20T18:20:39.280006Z"
    },
    "papermill": {
     "duration": 0.072149,
     "end_time": "2023-02-20T18:20:39.283339",
     "exception": false,
     "start_time": "2023-02-20T18:20:39.211190",
     "status": "completed"
    },
    "tags": []
   },
   "outputs": [
    {
     "data": {
      "text/plain": [
       "0.8810130092697138"
      ]
     },
     "execution_count": 71,
     "metadata": {},
     "output_type": "execute_result"
    }
   ],
   "source": [
    "r2 = r2_score(y_test, y_pred3)\n",
    "r2 "
   ]
  },
  {
   "cell_type": "code",
   "execution_count": 72,
   "id": "a3426b34",
   "metadata": {
    "execution": {
     "iopub.execute_input": "2023-02-20T18:20:39.390463Z",
     "iopub.status.busy": "2023-02-20T18:20:39.389690Z",
     "iopub.status.idle": "2023-02-20T18:20:39.396714Z",
     "shell.execute_reply": "2023-02-20T18:20:39.395878Z"
    },
    "papermill": {
     "duration": 0.062938,
     "end_time": "2023-02-20T18:20:39.398897",
     "exception": false,
     "start_time": "2023-02-20T18:20:39.335959",
     "status": "completed"
    },
    "tags": []
   },
   "outputs": [
    {
     "data": {
      "text/plain": [
       "0.2269137110295729"
      ]
     },
     "execution_count": 72,
     "metadata": {},
     "output_type": "execute_result"
    }
   ],
   "source": [
    "# calculate the MAE of the model\n",
    "mae = mean_absolute_error(y_test, y_pred3)\n",
    "mae"
   ]
  },
  {
   "cell_type": "code",
   "execution_count": 73,
   "id": "c9d8c30f",
   "metadata": {
    "execution": {
     "iopub.execute_input": "2023-02-20T18:20:39.505859Z",
     "iopub.status.busy": "2023-02-20T18:20:39.505389Z",
     "iopub.status.idle": "2023-02-20T18:20:39.514130Z",
     "shell.execute_reply": "2023-02-20T18:20:39.512986Z"
    },
    "papermill": {
     "duration": 0.065051,
     "end_time": "2023-02-20T18:20:39.516410",
     "exception": false,
     "start_time": "2023-02-20T18:20:39.451359",
     "status": "completed"
    },
    "tags": []
   },
   "outputs": [
    {
     "data": {
      "text/plain": [
       "0.11791070215516318"
      ]
     },
     "execution_count": 73,
     "metadata": {},
     "output_type": "execute_result"
    }
   ],
   "source": [
    "# calculate the MSE of the model\n",
    "mse = mean_squared_error(y_test, y_pred3)\n",
    "mse"
   ]
  },
  {
   "cell_type": "code",
   "execution_count": 74,
   "id": "c506ad4e",
   "metadata": {
    "execution": {
     "iopub.execute_input": "2023-02-20T18:20:39.626182Z",
     "iopub.status.busy": "2023-02-20T18:20:39.625008Z",
     "iopub.status.idle": "2023-02-20T18:20:39.632452Z",
     "shell.execute_reply": "2023-02-20T18:20:39.631322Z"
    },
    "papermill": {
     "duration": 0.064314,
     "end_time": "2023-02-20T18:20:39.635156",
     "exception": false,
     "start_time": "2023-02-20T18:20:39.570842",
     "status": "completed"
    },
    "tags": []
   },
   "outputs": [
    {
     "data": {
      "text/plain": [
       "0.3433812781081158"
      ]
     },
     "execution_count": 74,
     "metadata": {},
     "output_type": "execute_result"
    }
   ],
   "source": [
    "# calculate the RMSE of the model\n",
    "rmse = np.sqrt(mse)\n",
    "rmse"
   ]
  },
  {
   "cell_type": "markdown",
   "id": "b3533610",
   "metadata": {
    "papermill": {
     "duration": 0.052252,
     "end_time": "2023-02-20T18:20:39.740416",
     "exception": false,
     "start_time": "2023-02-20T18:20:39.688164",
     "status": "completed"
    },
    "tags": []
   },
   "source": [
    "Client 8: Putnam Hospital Center"
   ]
  },
  {
   "cell_type": "code",
   "execution_count": 75,
   "id": "8520155b",
   "metadata": {
    "execution": {
     "iopub.execute_input": "2023-02-20T18:20:39.850037Z",
     "iopub.status.busy": "2023-02-20T18:20:39.849572Z",
     "iopub.status.idle": "2023-02-20T18:20:40.004882Z",
     "shell.execute_reply": "2023-02-20T18:20:40.003604Z"
    },
    "papermill": {
     "duration": 0.213195,
     "end_time": "2023-02-20T18:20:40.007840",
     "exception": false,
     "start_time": "2023-02-20T18:20:39.794645",
     "status": "completed"
    },
    "tags": []
   },
   "outputs": [],
   "source": [
    "Putnam_df=df[df[\"Facility Name\"]== \"Putnam Hospital Center\"]"
   ]
  },
  {
   "cell_type": "code",
   "execution_count": 76,
   "id": "a3324d96",
   "metadata": {
    "execution": {
     "iopub.execute_input": "2023-02-20T18:20:40.116891Z",
     "iopub.status.busy": "2023-02-20T18:20:40.116453Z",
     "iopub.status.idle": "2023-02-20T18:20:40.159673Z",
     "shell.execute_reply": "2023-02-20T18:20:40.158415Z"
    },
    "papermill": {
     "duration": 0.101158,
     "end_time": "2023-02-20T18:20:40.162134",
     "exception": false,
     "start_time": "2023-02-20T18:20:40.060976",
     "status": "completed"
    },
    "tags": []
   },
   "outputs": [
    {
     "data": {
      "text/html": [
       "<div>\n",
       "<style scoped>\n",
       "    .dataframe tbody tr th:only-of-type {\n",
       "        vertical-align: middle;\n",
       "    }\n",
       "\n",
       "    .dataframe tbody tr th {\n",
       "        vertical-align: top;\n",
       "    }\n",
       "\n",
       "    .dataframe thead th {\n",
       "        text-align: right;\n",
       "    }\n",
       "</style>\n",
       "<table border=\"1\" class=\"dataframe\">\n",
       "  <thead>\n",
       "    <tr style=\"text-align: right;\">\n",
       "      <th></th>\n",
       "      <th>Hospital County</th>\n",
       "      <th>Operating Certificate Number</th>\n",
       "      <th>Facility Id</th>\n",
       "      <th>Facility Name</th>\n",
       "      <th>Age Group</th>\n",
       "      <th>Zip Code - 3 digits</th>\n",
       "      <th>Gender</th>\n",
       "      <th>Race</th>\n",
       "      <th>Ethnicity</th>\n",
       "      <th>Length of Stay</th>\n",
       "      <th>...</th>\n",
       "      <th>APR Risk of Mortality</th>\n",
       "      <th>APR Medical Surgical Description</th>\n",
       "      <th>Payment Typology 1</th>\n",
       "      <th>Payment Typology 2</th>\n",
       "      <th>Payment Typology 3</th>\n",
       "      <th>Birth Weight</th>\n",
       "      <th>Abortion Edit Indicator</th>\n",
       "      <th>Emergency Department Indicator</th>\n",
       "      <th>Total Charges</th>\n",
       "      <th>Total Costs</th>\n",
       "    </tr>\n",
       "  </thead>\n",
       "  <tbody>\n",
       "    <tr>\n",
       "      <th>700137</th>\n",
       "      <td>Putnam</td>\n",
       "      <td>3950000.0</td>\n",
       "      <td>752.0</td>\n",
       "      <td>Putnam Hospital Center</td>\n",
       "      <td>18 to 29</td>\n",
       "      <td>105</td>\n",
       "      <td>F</td>\n",
       "      <td>Other Race</td>\n",
       "      <td>Unknown</td>\n",
       "      <td>2</td>\n",
       "      <td>...</td>\n",
       "      <td>Minor</td>\n",
       "      <td>Medical</td>\n",
       "      <td>Medicaid</td>\n",
       "      <td>NaN</td>\n",
       "      <td>NaN</td>\n",
       "      <td>0</td>\n",
       "      <td>N</td>\n",
       "      <td>N</td>\n",
       "      <td>7555.49</td>\n",
       "      <td>2300.42</td>\n",
       "    </tr>\n",
       "    <tr>\n",
       "      <th>705867</th>\n",
       "      <td>Putnam</td>\n",
       "      <td>3950000.0</td>\n",
       "      <td>752.0</td>\n",
       "      <td>Putnam Hospital Center</td>\n",
       "      <td>18 to 29</td>\n",
       "      <td>NaN</td>\n",
       "      <td>M</td>\n",
       "      <td>Other Race</td>\n",
       "      <td>Unknown</td>\n",
       "      <td>4</td>\n",
       "      <td>...</td>\n",
       "      <td>Minor</td>\n",
       "      <td>Medical</td>\n",
       "      <td>Medicaid</td>\n",
       "      <td>NaN</td>\n",
       "      <td>NaN</td>\n",
       "      <td>0</td>\n",
       "      <td>N</td>\n",
       "      <td>N</td>\n",
       "      <td>13976.15</td>\n",
       "      <td>4054.04</td>\n",
       "    </tr>\n",
       "    <tr>\n",
       "      <th>706214</th>\n",
       "      <td>Putnam</td>\n",
       "      <td>3950000.0</td>\n",
       "      <td>752.0</td>\n",
       "      <td>Putnam Hospital Center</td>\n",
       "      <td>30 to 49</td>\n",
       "      <td>124</td>\n",
       "      <td>M</td>\n",
       "      <td>White</td>\n",
       "      <td>Not Span/Hispanic</td>\n",
       "      <td>3</td>\n",
       "      <td>...</td>\n",
       "      <td>Minor</td>\n",
       "      <td>Medical</td>\n",
       "      <td>Medicare</td>\n",
       "      <td>Medicaid</td>\n",
       "      <td>NaN</td>\n",
       "      <td>0</td>\n",
       "      <td>N</td>\n",
       "      <td>N</td>\n",
       "      <td>11769.89</td>\n",
       "      <td>3366.13</td>\n",
       "    </tr>\n",
       "    <tr>\n",
       "      <th>706501</th>\n",
       "      <td>Putnam</td>\n",
       "      <td>3950000.0</td>\n",
       "      <td>752.0</td>\n",
       "      <td>Putnam Hospital Center</td>\n",
       "      <td>18 to 29</td>\n",
       "      <td>105</td>\n",
       "      <td>M</td>\n",
       "      <td>Other Race</td>\n",
       "      <td>Unknown</td>\n",
       "      <td>5</td>\n",
       "      <td>...</td>\n",
       "      <td>Minor</td>\n",
       "      <td>Medical</td>\n",
       "      <td>Medicaid</td>\n",
       "      <td>NaN</td>\n",
       "      <td>NaN</td>\n",
       "      <td>0</td>\n",
       "      <td>N</td>\n",
       "      <td>Y</td>\n",
       "      <td>19054.70</td>\n",
       "      <td>5566.92</td>\n",
       "    </tr>\n",
       "    <tr>\n",
       "      <th>706962</th>\n",
       "      <td>Putnam</td>\n",
       "      <td>3950000.0</td>\n",
       "      <td>752.0</td>\n",
       "      <td>Putnam Hospital Center</td>\n",
       "      <td>18 to 29</td>\n",
       "      <td>125</td>\n",
       "      <td>M</td>\n",
       "      <td>White</td>\n",
       "      <td>Not Span/Hispanic</td>\n",
       "      <td>10</td>\n",
       "      <td>...</td>\n",
       "      <td>Minor</td>\n",
       "      <td>Medical</td>\n",
       "      <td>Medicaid</td>\n",
       "      <td>NaN</td>\n",
       "      <td>NaN</td>\n",
       "      <td>0</td>\n",
       "      <td>N</td>\n",
       "      <td>Y</td>\n",
       "      <td>35729.45</td>\n",
       "      <td>10557.89</td>\n",
       "    </tr>\n",
       "    <tr>\n",
       "      <th>...</th>\n",
       "      <td>...</td>\n",
       "      <td>...</td>\n",
       "      <td>...</td>\n",
       "      <td>...</td>\n",
       "      <td>...</td>\n",
       "      <td>...</td>\n",
       "      <td>...</td>\n",
       "      <td>...</td>\n",
       "      <td>...</td>\n",
       "      <td>...</td>\n",
       "      <td>...</td>\n",
       "      <td>...</td>\n",
       "      <td>...</td>\n",
       "      <td>...</td>\n",
       "      <td>...</td>\n",
       "      <td>...</td>\n",
       "      <td>...</td>\n",
       "      <td>...</td>\n",
       "      <td>...</td>\n",
       "      <td>...</td>\n",
       "      <td>...</td>\n",
       "    </tr>\n",
       "    <tr>\n",
       "      <th>745889</th>\n",
       "      <td>Putnam</td>\n",
       "      <td>3950000.0</td>\n",
       "      <td>752.0</td>\n",
       "      <td>Putnam Hospital Center</td>\n",
       "      <td>70 or Older</td>\n",
       "      <td>105</td>\n",
       "      <td>M</td>\n",
       "      <td>White</td>\n",
       "      <td>Not Span/Hispanic</td>\n",
       "      <td>3</td>\n",
       "      <td>...</td>\n",
       "      <td>Major</td>\n",
       "      <td>Medical</td>\n",
       "      <td>Medicare</td>\n",
       "      <td>Blue Cross/Blue Shield</td>\n",
       "      <td>NaN</td>\n",
       "      <td>0</td>\n",
       "      <td>N</td>\n",
       "      <td>Y</td>\n",
       "      <td>26577.54</td>\n",
       "      <td>7658.91</td>\n",
       "    </tr>\n",
       "    <tr>\n",
       "      <th>745890</th>\n",
       "      <td>Putnam</td>\n",
       "      <td>3950000.0</td>\n",
       "      <td>752.0</td>\n",
       "      <td>Putnam Hospital Center</td>\n",
       "      <td>18 to 29</td>\n",
       "      <td>105</td>\n",
       "      <td>F</td>\n",
       "      <td>White</td>\n",
       "      <td>Not Span/Hispanic</td>\n",
       "      <td>1</td>\n",
       "      <td>...</td>\n",
       "      <td>Minor</td>\n",
       "      <td>Medical</td>\n",
       "      <td>Managed Care, Unspecified</td>\n",
       "      <td>NaN</td>\n",
       "      <td>NaN</td>\n",
       "      <td>0</td>\n",
       "      <td>N</td>\n",
       "      <td>Y</td>\n",
       "      <td>11475.15</td>\n",
       "      <td>3425.98</td>\n",
       "    </tr>\n",
       "    <tr>\n",
       "      <th>745891</th>\n",
       "      <td>Putnam</td>\n",
       "      <td>3950000.0</td>\n",
       "      <td>752.0</td>\n",
       "      <td>Putnam Hospital Center</td>\n",
       "      <td>30 to 49</td>\n",
       "      <td>105</td>\n",
       "      <td>M</td>\n",
       "      <td>White</td>\n",
       "      <td>Not Span/Hispanic</td>\n",
       "      <td>2</td>\n",
       "      <td>...</td>\n",
       "      <td>Moderate</td>\n",
       "      <td>Medical</td>\n",
       "      <td>Medicaid</td>\n",
       "      <td>NaN</td>\n",
       "      <td>NaN</td>\n",
       "      <td>0</td>\n",
       "      <td>N</td>\n",
       "      <td>Y</td>\n",
       "      <td>12504.90</td>\n",
       "      <td>3724.22</td>\n",
       "    </tr>\n",
       "    <tr>\n",
       "      <th>745892</th>\n",
       "      <td>Putnam</td>\n",
       "      <td>3950000.0</td>\n",
       "      <td>752.0</td>\n",
       "      <td>Putnam Hospital Center</td>\n",
       "      <td>70 or Older</td>\n",
       "      <td>125</td>\n",
       "      <td>F</td>\n",
       "      <td>White</td>\n",
       "      <td>Not Span/Hispanic</td>\n",
       "      <td>2</td>\n",
       "      <td>...</td>\n",
       "      <td>Minor</td>\n",
       "      <td>Medical</td>\n",
       "      <td>Blue Cross/Blue Shield</td>\n",
       "      <td>NaN</td>\n",
       "      <td>NaN</td>\n",
       "      <td>0</td>\n",
       "      <td>N</td>\n",
       "      <td>Y</td>\n",
       "      <td>15137.95</td>\n",
       "      <td>4513.10</td>\n",
       "    </tr>\n",
       "    <tr>\n",
       "      <th>745893</th>\n",
       "      <td>Putnam</td>\n",
       "      <td>3950000.0</td>\n",
       "      <td>752.0</td>\n",
       "      <td>Putnam Hospital Center</td>\n",
       "      <td>50 to 69</td>\n",
       "      <td>125</td>\n",
       "      <td>M</td>\n",
       "      <td>Black/African American</td>\n",
       "      <td>Not Span/Hispanic</td>\n",
       "      <td>3</td>\n",
       "      <td>...</td>\n",
       "      <td>Moderate</td>\n",
       "      <td>Medical</td>\n",
       "      <td>Medicare</td>\n",
       "      <td>Medicaid</td>\n",
       "      <td>NaN</td>\n",
       "      <td>0</td>\n",
       "      <td>N</td>\n",
       "      <td>Y</td>\n",
       "      <td>23584.89</td>\n",
       "      <td>7014.46</td>\n",
       "    </tr>\n",
       "  </tbody>\n",
       "</table>\n",
       "<p>6785 rows × 28 columns</p>\n",
       "</div>"
      ],
      "text/plain": [
       "       Hospital County  Operating Certificate Number  Facility Id  \\\n",
       "700137          Putnam                     3950000.0        752.0   \n",
       "705867          Putnam                     3950000.0        752.0   \n",
       "706214          Putnam                     3950000.0        752.0   \n",
       "706501          Putnam                     3950000.0        752.0   \n",
       "706962          Putnam                     3950000.0        752.0   \n",
       "...                ...                           ...          ...   \n",
       "745889          Putnam                     3950000.0        752.0   \n",
       "745890          Putnam                     3950000.0        752.0   \n",
       "745891          Putnam                     3950000.0        752.0   \n",
       "745892          Putnam                     3950000.0        752.0   \n",
       "745893          Putnam                     3950000.0        752.0   \n",
       "\n",
       "                 Facility Name    Age Group Zip Code - 3 digits Gender  \\\n",
       "700137  Putnam Hospital Center     18 to 29                 105      F   \n",
       "705867  Putnam Hospital Center     18 to 29                 NaN      M   \n",
       "706214  Putnam Hospital Center     30 to 49                 124      M   \n",
       "706501  Putnam Hospital Center     18 to 29                 105      M   \n",
       "706962  Putnam Hospital Center     18 to 29                 125      M   \n",
       "...                        ...          ...                 ...    ...   \n",
       "745889  Putnam Hospital Center  70 or Older                 105      M   \n",
       "745890  Putnam Hospital Center     18 to 29                 105      F   \n",
       "745891  Putnam Hospital Center     30 to 49                 105      M   \n",
       "745892  Putnam Hospital Center  70 or Older                 125      F   \n",
       "745893  Putnam Hospital Center     50 to 69                 125      M   \n",
       "\n",
       "                          Race          Ethnicity Length of Stay  ...  \\\n",
       "700137              Other Race            Unknown              2  ...   \n",
       "705867              Other Race            Unknown              4  ...   \n",
       "706214                   White  Not Span/Hispanic              3  ...   \n",
       "706501              Other Race            Unknown              5  ...   \n",
       "706962                   White  Not Span/Hispanic             10  ...   \n",
       "...                        ...                ...            ...  ...   \n",
       "745889                   White  Not Span/Hispanic              3  ...   \n",
       "745890                   White  Not Span/Hispanic              1  ...   \n",
       "745891                   White  Not Span/Hispanic              2  ...   \n",
       "745892                   White  Not Span/Hispanic              2  ...   \n",
       "745893  Black/African American  Not Span/Hispanic              3  ...   \n",
       "\n",
       "       APR Risk of Mortality APR Medical Surgical Description  \\\n",
       "700137                 Minor                          Medical   \n",
       "705867                 Minor                          Medical   \n",
       "706214                 Minor                          Medical   \n",
       "706501                 Minor                          Medical   \n",
       "706962                 Minor                          Medical   \n",
       "...                      ...                              ...   \n",
       "745889                 Major                          Medical   \n",
       "745890                 Minor                          Medical   \n",
       "745891              Moderate                          Medical   \n",
       "745892                 Minor                          Medical   \n",
       "745893              Moderate                          Medical   \n",
       "\n",
       "               Payment Typology 1      Payment Typology 2  Payment Typology 3  \\\n",
       "700137                   Medicaid                     NaN                 NaN   \n",
       "705867                   Medicaid                     NaN                 NaN   \n",
       "706214                   Medicare                Medicaid                 NaN   \n",
       "706501                   Medicaid                     NaN                 NaN   \n",
       "706962                   Medicaid                     NaN                 NaN   \n",
       "...                           ...                     ...                 ...   \n",
       "745889                   Medicare  Blue Cross/Blue Shield                 NaN   \n",
       "745890  Managed Care, Unspecified                     NaN                 NaN   \n",
       "745891                   Medicaid                     NaN                 NaN   \n",
       "745892     Blue Cross/Blue Shield                     NaN                 NaN   \n",
       "745893                   Medicare                Medicaid                 NaN   \n",
       "\n",
       "        Birth Weight  Abortion Edit Indicator  Emergency Department Indicator  \\\n",
       "700137             0                        N                               N   \n",
       "705867             0                        N                               N   \n",
       "706214             0                        N                               N   \n",
       "706501             0                        N                               Y   \n",
       "706962             0                        N                               Y   \n",
       "...              ...                      ...                             ...   \n",
       "745889             0                        N                               Y   \n",
       "745890             0                        N                               Y   \n",
       "745891             0                        N                               Y   \n",
       "745892             0                        N                               Y   \n",
       "745893             0                        N                               Y   \n",
       "\n",
       "       Total Charges Total Costs  \n",
       "700137       7555.49     2300.42  \n",
       "705867      13976.15     4054.04  \n",
       "706214      11769.89     3366.13  \n",
       "706501      19054.70     5566.92  \n",
       "706962      35729.45    10557.89  \n",
       "...              ...         ...  \n",
       "745889      26577.54     7658.91  \n",
       "745890      11475.15     3425.98  \n",
       "745891      12504.90     3724.22  \n",
       "745892      15137.95     4513.10  \n",
       "745893      23584.89     7014.46  \n",
       "\n",
       "[6785 rows x 28 columns]"
      ]
     },
     "execution_count": 76,
     "metadata": {},
     "output_type": "execute_result"
    }
   ],
   "source": [
    "Putnam_df\n"
   ]
  },
  {
   "cell_type": "code",
   "execution_count": 77,
   "id": "1a71305f",
   "metadata": {
    "execution": {
     "iopub.execute_input": "2023-02-20T18:20:40.270956Z",
     "iopub.status.busy": "2023-02-20T18:20:40.270479Z",
     "iopub.status.idle": "2023-02-20T18:20:40.294315Z",
     "shell.execute_reply": "2023-02-20T18:20:40.293097Z"
    },
    "papermill": {
     "duration": 0.081526,
     "end_time": "2023-02-20T18:20:40.297009",
     "exception": false,
     "start_time": "2023-02-20T18:20:40.215483",
     "status": "completed"
    },
    "tags": []
   },
   "outputs": [
    {
     "name": "stdout",
     "output_type": "stream",
     "text": [
      "<class 'pandas.core.frame.DataFrame'>\n",
      "Int64Index: 6785 entries, 700137 to 745893\n",
      "Data columns (total 28 columns):\n",
      " #   Column                            Non-Null Count  Dtype   \n",
      "---  ------                            --------------  -----   \n",
      " 0   Hospital County                   6785 non-null   category\n",
      " 1   Operating Certificate Number      6785 non-null   float64 \n",
      " 2   Facility Id                       6785 non-null   float64 \n",
      " 3   Facility Name                     6785 non-null   object  \n",
      " 4   Age Group                         6785 non-null   category\n",
      " 5   Zip Code - 3 digits               6684 non-null   category\n",
      " 6   Gender                            6785 non-null   category\n",
      " 7   Race                              6785 non-null   category\n",
      " 8   Ethnicity                         6785 non-null   category\n",
      " 9   Length of Stay                    6785 non-null   category\n",
      " 10  Type of Admission                 6785 non-null   category\n",
      " 11  Patient Disposition               6785 non-null   category\n",
      " 12  Discharge Year                    6785 non-null   int64   \n",
      " 13  CCS Diagnosis Code                6785 non-null   int64   \n",
      " 14  CCS Procedure Code                6785 non-null   int64   \n",
      " 15  APR DRG Code                      6785 non-null   int64   \n",
      " 16  APR MDC Code                      6785 non-null   int64   \n",
      " 17  APR Severity of Illness Code      6785 non-null   int64   \n",
      " 18  APR Risk of Mortality             6785 non-null   category\n",
      " 19  APR Medical Surgical Description  6785 non-null   category\n",
      " 20  Payment Typology 1                6785 non-null   category\n",
      " 21  Payment Typology 2                3195 non-null   category\n",
      " 22  Payment Typology 3                236 non-null    category\n",
      " 23  Birth Weight                      6785 non-null   int64   \n",
      " 24  Abortion Edit Indicator           6785 non-null   category\n",
      " 25  Emergency Department Indicator    6785 non-null   category\n",
      " 26  Total Charges                     6785 non-null   float64 \n",
      " 27  Total Costs                       6785 non-null   float64 \n",
      "dtypes: category(16), float64(4), int64(7), object(1)\n",
      "memory usage: 819.8+ KB\n"
     ]
    }
   ],
   "source": [
    "Putnam_df.info()"
   ]
  },
  {
   "cell_type": "code",
   "execution_count": 78,
   "id": "81313b94",
   "metadata": {
    "execution": {
     "iopub.execute_input": "2023-02-20T18:20:40.407489Z",
     "iopub.status.busy": "2023-02-20T18:20:40.406333Z",
     "iopub.status.idle": "2023-02-20T18:20:40.415729Z",
     "shell.execute_reply": "2023-02-20T18:20:40.414233Z"
    },
    "papermill": {
     "duration": 0.067383,
     "end_time": "2023-02-20T18:20:40.418407",
     "exception": false,
     "start_time": "2023-02-20T18:20:40.351024",
     "status": "completed"
    },
    "tags": []
   },
   "outputs": [
    {
     "name": "stderr",
     "output_type": "stream",
     "text": [
      "/opt/conda/lib/python3.7/site-packages/ipykernel_launcher.py:3: SettingWithCopyWarning: \n",
      "A value is trying to be set on a copy of a slice from a DataFrame.\n",
      "Try using .loc[row_indexer,col_indexer] = value instead\n",
      "\n",
      "See the caveats in the documentation: https://pandas.pydata.org/pandas-docs/stable/user_guide/indexing.html#returning-a-view-versus-a-copy\n",
      "  This is separate from the ipykernel package so we can avoid doing imports until\n",
      "/opt/conda/lib/python3.7/site-packages/ipykernel_launcher.py:5: SettingWithCopyWarning: \n",
      "A value is trying to be set on a copy of a slice from a DataFrame.\n",
      "Try using .loc[row_indexer,col_indexer] = value instead\n",
      "\n",
      "See the caveats in the documentation: https://pandas.pydata.org/pandas-docs/stable/user_guide/indexing.html#returning-a-view-versus-a-copy\n",
      "  \"\"\"\n"
     ]
    }
   ],
   "source": [
    " #   simple mapping on binary features.\n",
    "Putnam_df['Abortion Edit Indicator'] = Putnam_df['Abortion Edit Indicator'].apply(\n",
    "     lambda x: 1 if x == 'Y' else (0 if x == 'N' else None))\n",
    "Putnam_df['Emergency Department Indicator'] = Putnam_df['Emergency Department Indicator'].apply(\n",
    "    lambda x: 1 if x == 'Y' else (0 if x == 'N' else None))"
   ]
  },
  {
   "cell_type": "code",
   "execution_count": 79,
   "id": "8d896f0a",
   "metadata": {
    "execution": {
     "iopub.execute_input": "2023-02-20T18:20:40.528463Z",
     "iopub.status.busy": "2023-02-20T18:20:40.527578Z",
     "iopub.status.idle": "2023-02-20T18:20:40.538395Z",
     "shell.execute_reply": "2023-02-20T18:20:40.537277Z"
    },
    "papermill": {
     "duration": 0.068996,
     "end_time": "2023-02-20T18:20:40.541276",
     "exception": false,
     "start_time": "2023-02-20T18:20:40.472280",
     "status": "completed"
    },
    "tags": []
   },
   "outputs": [
    {
     "name": "stderr",
     "output_type": "stream",
     "text": [
      "/opt/conda/lib/python3.7/site-packages/ipykernel_launcher.py:1: SettingWithCopyWarning: \n",
      "A value is trying to be set on a copy of a slice from a DataFrame.\n",
      "Try using .loc[row_indexer,col_indexer] = value instead\n",
      "\n",
      "See the caveats in the documentation: https://pandas.pydata.org/pandas-docs/stable/user_guide/indexing.html#returning-a-view-versus-a-copy\n",
      "  \"\"\"Entry point for launching an IPython kernel.\n"
     ]
    }
   ],
   "source": [
    "Putnam_df[\"Length of Stay\"]=pd.to_numeric(Putnam_df[\"Length of Stay\"],errors='coerce')"
   ]
  },
  {
   "cell_type": "code",
   "execution_count": 80,
   "id": "0a490afa",
   "metadata": {
    "execution": {
     "iopub.execute_input": "2023-02-20T18:20:40.651800Z",
     "iopub.status.busy": "2023-02-20T18:20:40.651334Z",
     "iopub.status.idle": "2023-02-20T18:20:40.691934Z",
     "shell.execute_reply": "2023-02-20T18:20:40.690693Z"
    },
    "papermill": {
     "duration": 0.099229,
     "end_time": "2023-02-20T18:20:40.694515",
     "exception": false,
     "start_time": "2023-02-20T18:20:40.595286",
     "status": "completed"
    },
    "tags": []
   },
   "outputs": [
    {
     "name": "stderr",
     "output_type": "stream",
     "text": [
      "/opt/conda/lib/python3.7/site-packages/ipykernel_launcher.py:27: SettingWithCopyWarning: \n",
      "A value is trying to be set on a copy of a slice from a DataFrame.\n",
      "Try using .loc[row_indexer,col_indexer] = value instead\n",
      "\n",
      "See the caveats in the documentation: https://pandas.pydata.org/pandas-docs/stable/user_guide/indexing.html#returning-a-view-versus-a-copy\n"
     ]
    }
   ],
   "source": [
    "list=  [ \"Hospital County\",\"Age Group\"\n",
    "    ,\"Gender\",   \n",
    " \"Race\" , \n",
    "\"Ethnicity\", \n",
    "\"Gender\" , \n",
    "\"Race\" ,    \n",
    " \"Ethnicity\" ,        \n",
    " \"Type of Admission\"  ,  \n",
    "  \"Patient Disposition\",      \n",
    " \"Type of Admission\" ,  \n",
    " \"Patient Disposition\"  ,\n",
    "  \"APR Risk of Mortality\" ,   \n",
    " \"APR Medical Surgical Description\" ,\n",
    " \"Payment Typology 1\"   ,   \n",
    " \"Abortion Edit Indicator\"     ,  \n",
    " \"Emergency Department Indicator\",\n",
    "       \"Zip Code - 3 digits\"]  \n",
    "\n",
    "# Import label encoder\n",
    "from sklearn import preprocessing\n",
    "  \n",
    "# label_encoder object knows how to understand word labels.\n",
    "label_encoder = preprocessing.LabelEncoder()\n",
    "  \n",
    "# Encode labels in column 'species'.\n",
    "for col in list :\n",
    "   Putnam_df[col]= label_encoder.fit_transform(Putnam_df[col])"
   ]
  },
  {
   "cell_type": "code",
   "execution_count": 81,
   "id": "986f4769",
   "metadata": {
    "execution": {
     "iopub.execute_input": "2023-02-20T18:20:40.804699Z",
     "iopub.status.busy": "2023-02-20T18:20:40.804234Z",
     "iopub.status.idle": "2023-02-20T18:20:40.813135Z",
     "shell.execute_reply": "2023-02-20T18:20:40.812132Z"
    },
    "papermill": {
     "duration": 0.066836,
     "end_time": "2023-02-20T18:20:40.815564",
     "exception": false,
     "start_time": "2023-02-20T18:20:40.748728",
     "status": "completed"
    },
    "tags": []
   },
   "outputs": [],
   "source": [
    "Putnam_df = Putnam_df.drop(\"Facility Name\", axis=1)"
   ]
  },
  {
   "cell_type": "code",
   "execution_count": 82,
   "id": "a57cbf40",
   "metadata": {
    "execution": {
     "iopub.execute_input": "2023-02-20T18:20:40.928726Z",
     "iopub.status.busy": "2023-02-20T18:20:40.928280Z",
     "iopub.status.idle": "2023-02-20T18:20:40.935988Z",
     "shell.execute_reply": "2023-02-20T18:20:40.934501Z"
    },
    "papermill": {
     "duration": 0.067625,
     "end_time": "2023-02-20T18:20:40.938498",
     "exception": false,
     "start_time": "2023-02-20T18:20:40.870873",
     "status": "completed"
    },
    "tags": []
   },
   "outputs": [],
   "source": [
    "Putnam_df = Putnam_df.drop([\"Payment Typology 2\",    \"Payment Typology 3\"], axis=1)\n"
   ]
  },
  {
   "cell_type": "code",
   "execution_count": 83,
   "id": "7a8a9c2c",
   "metadata": {
    "execution": {
     "iopub.execute_input": "2023-02-20T18:20:41.050596Z",
     "iopub.status.busy": "2023-02-20T18:20:41.050114Z",
     "iopub.status.idle": "2023-02-20T18:20:41.066349Z",
     "shell.execute_reply": "2023-02-20T18:20:41.064707Z"
    },
    "papermill": {
     "duration": 0.075055,
     "end_time": "2023-02-20T18:20:41.069080",
     "exception": false,
     "start_time": "2023-02-20T18:20:40.994025",
     "status": "completed"
    },
    "tags": []
   },
   "outputs": [
    {
     "name": "stdout",
     "output_type": "stream",
     "text": [
      "<class 'pandas.core.frame.DataFrame'>\n",
      "Int64Index: 6785 entries, 700137 to 745893\n",
      "Data columns (total 25 columns):\n",
      " #   Column                            Non-Null Count  Dtype  \n",
      "---  ------                            --------------  -----  \n",
      " 0   Hospital County                   6785 non-null   int64  \n",
      " 1   Operating Certificate Number      6785 non-null   float64\n",
      " 2   Facility Id                       6785 non-null   float64\n",
      " 3   Age Group                         6785 non-null   int64  \n",
      " 4   Zip Code - 3 digits               6785 non-null   int64  \n",
      " 5   Gender                            6785 non-null   int64  \n",
      " 6   Race                              6785 non-null   int64  \n",
      " 7   Ethnicity                         6785 non-null   int64  \n",
      " 8   Length of Stay                    6785 non-null   int64  \n",
      " 9   Type of Admission                 6785 non-null   int64  \n",
      " 10  Patient Disposition               6785 non-null   int64  \n",
      " 11  Discharge Year                    6785 non-null   int64  \n",
      " 12  CCS Diagnosis Code                6785 non-null   int64  \n",
      " 13  CCS Procedure Code                6785 non-null   int64  \n",
      " 14  APR DRG Code                      6785 non-null   int64  \n",
      " 15  APR MDC Code                      6785 non-null   int64  \n",
      " 16  APR Severity of Illness Code      6785 non-null   int64  \n",
      " 17  APR Risk of Mortality             6785 non-null   int64  \n",
      " 18  APR Medical Surgical Description  6785 non-null   int64  \n",
      " 19  Payment Typology 1                6785 non-null   int64  \n",
      " 20  Birth Weight                      6785 non-null   int64  \n",
      " 21  Abortion Edit Indicator           6785 non-null   int64  \n",
      " 22  Emergency Department Indicator    6785 non-null   int64  \n",
      " 23  Total Charges                     6785 non-null   float64\n",
      " 24  Total Costs                       6785 non-null   float64\n",
      "dtypes: float64(4), int64(21)\n",
      "memory usage: 1.3 MB\n"
     ]
    }
   ],
   "source": [
    "Putnam_df.info()"
   ]
  },
  {
   "cell_type": "code",
   "execution_count": 84,
   "id": "842bad2f",
   "metadata": {
    "execution": {
     "iopub.execute_input": "2023-02-20T18:20:41.182032Z",
     "iopub.status.busy": "2023-02-20T18:20:41.181535Z",
     "iopub.status.idle": "2023-02-20T18:20:41.188932Z",
     "shell.execute_reply": "2023-02-20T18:20:41.187712Z"
    },
    "papermill": {
     "duration": 0.067429,
     "end_time": "2023-02-20T18:20:41.191363",
     "exception": false,
     "start_time": "2023-02-20T18:20:41.123934",
     "status": "completed"
    },
    "tags": []
   },
   "outputs": [],
   "source": [
    "x = Putnam_df.drop([\"Length of Stay\"], axis =1)\n",
    "y = Putnam_df[\"Length of Stay\"]"
   ]
  },
  {
   "cell_type": "code",
   "execution_count": 85,
   "id": "ddc125ae",
   "metadata": {
    "execution": {
     "iopub.execute_input": "2023-02-20T18:20:41.302029Z",
     "iopub.status.busy": "2023-02-20T18:20:41.301545Z",
     "iopub.status.idle": "2023-02-20T18:20:41.310867Z",
     "shell.execute_reply": "2023-02-20T18:20:41.309676Z"
    },
    "papermill": {
     "duration": 0.067285,
     "end_time": "2023-02-20T18:20:41.313573",
     "exception": false,
     "start_time": "2023-02-20T18:20:41.246288",
     "status": "completed"
    },
    "tags": []
   },
   "outputs": [],
   "source": [
    "from sklearn.model_selection import train_test_split\n",
    "x_train, x_test, y_train, y_test = train_test_split(x, y, test_size=0.3, random_state=42)"
   ]
  },
  {
   "cell_type": "code",
   "execution_count": 86,
   "id": "a9a4fb0f",
   "metadata": {
    "execution": {
     "iopub.execute_input": "2023-02-20T18:20:41.424741Z",
     "iopub.status.busy": "2023-02-20T18:20:41.424275Z",
     "iopub.status.idle": "2023-02-20T18:20:41.444343Z",
     "shell.execute_reply": "2023-02-20T18:20:41.442983Z"
    },
    "papermill": {
     "duration": 0.080175,
     "end_time": "2023-02-20T18:20:41.447974",
     "exception": false,
     "start_time": "2023-02-20T18:20:41.367799",
     "status": "completed"
    },
    "tags": []
   },
   "outputs": [],
   "source": [
    "# Linear Regression\n",
    "\n",
    "LR = LinearRegression()\n",
    "LR.fit(x_train, y_train)\n",
    "LR.score(x_train, y_train)\n",
    "y_pred =LR.predict(x_test)"
   ]
  },
  {
   "cell_type": "code",
   "execution_count": 87,
   "id": "32227ede",
   "metadata": {
    "execution": {
     "iopub.execute_input": "2023-02-20T18:20:41.603083Z",
     "iopub.status.busy": "2023-02-20T18:20:41.602656Z",
     "iopub.status.idle": "2023-02-20T18:20:41.611738Z",
     "shell.execute_reply": "2023-02-20T18:20:41.610505Z"
    },
    "papermill": {
     "duration": 0.077475,
     "end_time": "2023-02-20T18:20:41.614283",
     "exception": false,
     "start_time": "2023-02-20T18:20:41.536808",
     "status": "completed"
    },
    "tags": []
   },
   "outputs": [
    {
     "data": {
      "text/plain": [
       "0.6833681470945818"
      ]
     },
     "execution_count": 87,
     "metadata": {},
     "output_type": "execute_result"
    }
   ],
   "source": [
    "r2 = r2_score(y_test, y_pred)\n",
    "r2 \n"
   ]
  },
  {
   "cell_type": "code",
   "execution_count": 88,
   "id": "0612c8d6",
   "metadata": {
    "execution": {
     "iopub.execute_input": "2023-02-20T18:20:41.725084Z",
     "iopub.status.busy": "2023-02-20T18:20:41.724572Z",
     "iopub.status.idle": "2023-02-20T18:20:41.732914Z",
     "shell.execute_reply": "2023-02-20T18:20:41.731699Z"
    },
    "papermill": {
     "duration": 0.066513,
     "end_time": "2023-02-20T18:20:41.735209",
     "exception": false,
     "start_time": "2023-02-20T18:20:41.668696",
     "status": "completed"
    },
    "tags": []
   },
   "outputs": [
    {
     "data": {
      "text/plain": [
       "1.4289408471215483"
      ]
     },
     "execution_count": 88,
     "metadata": {},
     "output_type": "execute_result"
    }
   ],
   "source": [
    "# calculate the MAE of the model\n",
    "mae = mean_absolute_error(y_test, y_pred)\n",
    "mae"
   ]
  },
  {
   "cell_type": "code",
   "execution_count": 89,
   "id": "13df2de2",
   "metadata": {
    "execution": {
     "iopub.execute_input": "2023-02-20T18:20:41.849253Z",
     "iopub.status.busy": "2023-02-20T18:20:41.848844Z",
     "iopub.status.idle": "2023-02-20T18:20:41.857034Z",
     "shell.execute_reply": "2023-02-20T18:20:41.855887Z"
    },
    "papermill": {
     "duration": 0.068468,
     "end_time": "2023-02-20T18:20:41.859470",
     "exception": false,
     "start_time": "2023-02-20T18:20:41.791002",
     "status": "completed"
    },
    "tags": []
   },
   "outputs": [
    {
     "data": {
      "text/plain": [
       "6.810081276526211"
      ]
     },
     "execution_count": 89,
     "metadata": {},
     "output_type": "execute_result"
    }
   ],
   "source": [
    "# calculate the MSE of the model\n",
    "mse = mean_squared_error(y_test, y_pred)\n",
    "mse"
   ]
  },
  {
   "cell_type": "code",
   "execution_count": 90,
   "id": "e5825f91",
   "metadata": {
    "execution": {
     "iopub.execute_input": "2023-02-20T18:20:42.029252Z",
     "iopub.status.busy": "2023-02-20T18:20:42.028778Z",
     "iopub.status.idle": "2023-02-20T18:20:42.036720Z",
     "shell.execute_reply": "2023-02-20T18:20:42.035567Z"
    },
    "papermill": {
     "duration": 0.124984,
     "end_time": "2023-02-20T18:20:42.039088",
     "exception": false,
     "start_time": "2023-02-20T18:20:41.914104",
     "status": "completed"
    },
    "tags": []
   },
   "outputs": [
    {
     "data": {
      "text/plain": [
       "2.609613242709772"
      ]
     },
     "execution_count": 90,
     "metadata": {},
     "output_type": "execute_result"
    }
   ],
   "source": [
    "# calculate the RMSE of the model\n",
    "rmse = np.sqrt(mse)\n",
    "rmse"
   ]
  },
  {
   "cell_type": "code",
   "execution_count": 91,
   "id": "7534e6ff",
   "metadata": {
    "execution": {
     "iopub.execute_input": "2023-02-20T18:20:42.153260Z",
     "iopub.status.busy": "2023-02-20T18:20:42.152786Z",
     "iopub.status.idle": "2023-02-20T18:20:42.233660Z",
     "shell.execute_reply": "2023-02-20T18:20:42.232307Z"
    },
    "papermill": {
     "duration": 0.141915,
     "end_time": "2023-02-20T18:20:42.237378",
     "exception": false,
     "start_time": "2023-02-20T18:20:42.095463",
     "status": "completed"
    },
    "tags": []
   },
   "outputs": [],
   "source": [
    "# LASSO\n",
    "L1 = linear_model.Lasso()\n",
    "L1.fit(x_train,y_train)\n",
    "y_pred1 = L1.predict(x_test)"
   ]
  },
  {
   "cell_type": "code",
   "execution_count": 92,
   "id": "8d2f1ed2",
   "metadata": {
    "execution": {
     "iopub.execute_input": "2023-02-20T18:20:42.395417Z",
     "iopub.status.busy": "2023-02-20T18:20:42.395004Z",
     "iopub.status.idle": "2023-02-20T18:20:42.404070Z",
     "shell.execute_reply": "2023-02-20T18:20:42.402839Z"
    },
    "papermill": {
     "duration": 0.078864,
     "end_time": "2023-02-20T18:20:42.406568",
     "exception": false,
     "start_time": "2023-02-20T18:20:42.327704",
     "status": "completed"
    },
    "tags": []
   },
   "outputs": [
    {
     "data": {
      "text/plain": [
       "0.6496057028620932"
      ]
     },
     "execution_count": 92,
     "metadata": {},
     "output_type": "execute_result"
    }
   ],
   "source": [
    "r2 = r2_score(y_test, y_pred1)\n",
    "r2 "
   ]
  },
  {
   "cell_type": "code",
   "execution_count": 93,
   "id": "6e3d54fd",
   "metadata": {
    "execution": {
     "iopub.execute_input": "2023-02-20T18:20:42.518660Z",
     "iopub.status.busy": "2023-02-20T18:20:42.518139Z",
     "iopub.status.idle": "2023-02-20T18:20:42.525287Z",
     "shell.execute_reply": "2023-02-20T18:20:42.524342Z"
    },
    "papermill": {
     "duration": 0.065189,
     "end_time": "2023-02-20T18:20:42.527388",
     "exception": false,
     "start_time": "2023-02-20T18:20:42.462199",
     "status": "completed"
    },
    "tags": []
   },
   "outputs": [
    {
     "data": {
      "text/plain": [
       "1.5599579330447522"
      ]
     },
     "execution_count": 93,
     "metadata": {},
     "output_type": "execute_result"
    }
   ],
   "source": [
    "# calculate the MAE of the model\n",
    "mae = mean_absolute_error(y_test, y_pred1)\n",
    "mae"
   ]
  },
  {
   "cell_type": "code",
   "execution_count": 94,
   "id": "68ee9210",
   "metadata": {
    "execution": {
     "iopub.execute_input": "2023-02-20T18:20:42.640925Z",
     "iopub.status.busy": "2023-02-20T18:20:42.640013Z",
     "iopub.status.idle": "2023-02-20T18:20:42.647950Z",
     "shell.execute_reply": "2023-02-20T18:20:42.646865Z"
    },
    "papermill": {
     "duration": 0.067977,
     "end_time": "2023-02-20T18:20:42.650427",
     "exception": false,
     "start_time": "2023-02-20T18:20:42.582450",
     "status": "completed"
    },
    "tags": []
   },
   "outputs": [
    {
     "data": {
      "text/plain": [
       "7.536240022740899"
      ]
     },
     "execution_count": 94,
     "metadata": {},
     "output_type": "execute_result"
    }
   ],
   "source": [
    "# calculate the MSE of the model\n",
    "mse = mean_squared_error(y_test, y_pred1)\n",
    "mse"
   ]
  },
  {
   "cell_type": "code",
   "execution_count": 95,
   "id": "680708c9",
   "metadata": {
    "execution": {
     "iopub.execute_input": "2023-02-20T18:20:42.764037Z",
     "iopub.status.busy": "2023-02-20T18:20:42.762989Z",
     "iopub.status.idle": "2023-02-20T18:20:42.770722Z",
     "shell.execute_reply": "2023-02-20T18:20:42.769661Z"
    },
    "papermill": {
     "duration": 0.066733,
     "end_time": "2023-02-20T18:20:42.773208",
     "exception": false,
     "start_time": "2023-02-20T18:20:42.706475",
     "status": "completed"
    },
    "tags": []
   },
   "outputs": [
    {
     "data": {
      "text/plain": [
       "2.745221306696584"
      ]
     },
     "execution_count": 95,
     "metadata": {},
     "output_type": "execute_result"
    }
   ],
   "source": [
    "# calculate the RMSE of the model\n",
    "rmse = np.sqrt(mse)\n",
    "rmse"
   ]
  },
  {
   "cell_type": "code",
   "execution_count": 96,
   "id": "cbdd4ecb",
   "metadata": {
    "execution": {
     "iopub.execute_input": "2023-02-20T18:20:42.888496Z",
     "iopub.status.busy": "2023-02-20T18:20:42.887706Z",
     "iopub.status.idle": "2023-02-20T18:20:42.902993Z",
     "shell.execute_reply": "2023-02-20T18:20:42.901773Z"
    },
    "papermill": {
     "duration": 0.077,
     "end_time": "2023-02-20T18:20:42.907022",
     "exception": false,
     "start_time": "2023-02-20T18:20:42.830022",
     "status": "completed"
    },
    "tags": []
   },
   "outputs": [],
   "source": [
    "# Ridge\n",
    "L2 = Ridge(alpha=1.0)\n",
    "L2.fit(x_train, y_train) \n",
    "y_pred3 = L2.predict(x_test)"
   ]
  },
  {
   "cell_type": "code",
   "execution_count": 97,
   "id": "c357d97b",
   "metadata": {
    "execution": {
     "iopub.execute_input": "2023-02-20T18:20:43.064425Z",
     "iopub.status.busy": "2023-02-20T18:20:43.063956Z",
     "iopub.status.idle": "2023-02-20T18:20:43.072674Z",
     "shell.execute_reply": "2023-02-20T18:20:43.071432Z"
    },
    "papermill": {
     "duration": 0.077504,
     "end_time": "2023-02-20T18:20:43.075095",
     "exception": false,
     "start_time": "2023-02-20T18:20:42.997591",
     "status": "completed"
    },
    "tags": []
   },
   "outputs": [
    {
     "data": {
      "text/plain": [
       "0.6833499677327529"
      ]
     },
     "execution_count": 97,
     "metadata": {},
     "output_type": "execute_result"
    }
   ],
   "source": [
    "r2 = r2_score(y_test, y_pred3)\n",
    "r2 "
   ]
  },
  {
   "cell_type": "code",
   "execution_count": 98,
   "id": "bd91b813",
   "metadata": {
    "execution": {
     "iopub.execute_input": "2023-02-20T18:20:43.188431Z",
     "iopub.status.busy": "2023-02-20T18:20:43.187937Z",
     "iopub.status.idle": "2023-02-20T18:20:43.196534Z",
     "shell.execute_reply": "2023-02-20T18:20:43.195273Z"
    },
    "papermill": {
     "duration": 0.067926,
     "end_time": "2023-02-20T18:20:43.198845",
     "exception": false,
     "start_time": "2023-02-20T18:20:43.130919",
     "status": "completed"
    },
    "tags": []
   },
   "outputs": [
    {
     "data": {
      "text/plain": [
       "1.4289867059435022"
      ]
     },
     "execution_count": 98,
     "metadata": {},
     "output_type": "execute_result"
    }
   ],
   "source": [
    "# calculate the MAE of the model\n",
    "mae = mean_absolute_error(y_test, y_pred3)\n",
    "mae"
   ]
  },
  {
   "cell_type": "code",
   "execution_count": 99,
   "id": "9b3ea446",
   "metadata": {
    "execution": {
     "iopub.execute_input": "2023-02-20T18:20:43.312405Z",
     "iopub.status.busy": "2023-02-20T18:20:43.311673Z",
     "iopub.status.idle": "2023-02-20T18:20:43.320123Z",
     "shell.execute_reply": "2023-02-20T18:20:43.318894Z"
    },
    "papermill": {
     "duration": 0.068317,
     "end_time": "2023-02-20T18:20:43.322487",
     "exception": false,
     "start_time": "2023-02-20T18:20:43.254170",
     "status": "completed"
    },
    "tags": []
   },
   "outputs": [
    {
     "data": {
      "text/plain": [
       "6.810472276138141"
      ]
     },
     "execution_count": 99,
     "metadata": {},
     "output_type": "execute_result"
    }
   ],
   "source": [
    "# calculate the MSE of the model\n",
    "mse = mean_squared_error(y_test, y_pred3)\n",
    "mse"
   ]
  },
  {
   "cell_type": "code",
   "execution_count": 100,
   "id": "617b7035",
   "metadata": {
    "execution": {
     "iopub.execute_input": "2023-02-20T18:20:43.437344Z",
     "iopub.status.busy": "2023-02-20T18:20:43.436512Z",
     "iopub.status.idle": "2023-02-20T18:20:43.443273Z",
     "shell.execute_reply": "2023-02-20T18:20:43.442410Z"
    },
    "papermill": {
     "duration": 0.066426,
     "end_time": "2023-02-20T18:20:43.445592",
     "exception": false,
     "start_time": "2023-02-20T18:20:43.379166",
     "status": "completed"
    },
    "tags": []
   },
   "outputs": [
    {
     "data": {
      "text/plain": [
       "2.609688156875863"
      ]
     },
     "execution_count": 100,
     "metadata": {},
     "output_type": "execute_result"
    }
   ],
   "source": [
    "# calculate the RMSE of the model\n",
    "rmse = np.sqrt(mse)\n",
    "rmse"
   ]
  },
  {
   "cell_type": "code",
   "execution_count": 101,
   "id": "1b9302d5",
   "metadata": {
    "execution": {
     "iopub.execute_input": "2023-02-20T18:20:43.563986Z",
     "iopub.status.busy": "2023-02-20T18:20:43.563559Z",
     "iopub.status.idle": "2023-02-20T18:20:43.647318Z",
     "shell.execute_reply": "2023-02-20T18:20:43.645938Z"
    },
    "papermill": {
     "duration": 0.147646,
     "end_time": "2023-02-20T18:20:43.651119",
     "exception": false,
     "start_time": "2023-02-20T18:20:43.503473",
     "status": "completed"
    },
    "tags": []
   },
   "outputs": [],
   "source": [
    "# LASSO\n",
    "L1 = linear_model.Lasso()\n",
    "L1.fit(x_train,y_train)\n",
    "y_pred1 = L1.predict(x_test)"
   ]
  },
  {
   "cell_type": "code",
   "execution_count": 102,
   "id": "c365714e",
   "metadata": {
    "execution": {
     "iopub.execute_input": "2023-02-20T18:20:43.809277Z",
     "iopub.status.busy": "2023-02-20T18:20:43.808844Z",
     "iopub.status.idle": "2023-02-20T18:20:43.816880Z",
     "shell.execute_reply": "2023-02-20T18:20:43.815755Z"
    },
    "papermill": {
     "duration": 0.077054,
     "end_time": "2023-02-20T18:20:43.819474",
     "exception": false,
     "start_time": "2023-02-20T18:20:43.742420",
     "status": "completed"
    },
    "tags": []
   },
   "outputs": [
    {
     "data": {
      "text/plain": [
       "0.6496057028620932"
      ]
     },
     "execution_count": 102,
     "metadata": {},
     "output_type": "execute_result"
    }
   ],
   "source": [
    "r2 = r2_score(y_test, y_pred1)\n",
    "r2 \n"
   ]
  },
  {
   "cell_type": "code",
   "execution_count": 103,
   "id": "c00cd40c",
   "metadata": {
    "execution": {
     "iopub.execute_input": "2023-02-20T18:20:43.934831Z",
     "iopub.status.busy": "2023-02-20T18:20:43.933754Z",
     "iopub.status.idle": "2023-02-20T18:20:43.942445Z",
     "shell.execute_reply": "2023-02-20T18:20:43.941186Z"
    },
    "papermill": {
     "duration": 0.069151,
     "end_time": "2023-02-20T18:20:43.945018",
     "exception": false,
     "start_time": "2023-02-20T18:20:43.875867",
     "status": "completed"
    },
    "tags": []
   },
   "outputs": [
    {
     "data": {
      "text/plain": [
       "1.5599579330447522"
      ]
     },
     "execution_count": 103,
     "metadata": {},
     "output_type": "execute_result"
    }
   ],
   "source": [
    "# calculate the MAE of the model\n",
    "mae = mean_absolute_error(y_test, y_pred1)\n",
    "mae"
   ]
  },
  {
   "cell_type": "code",
   "execution_count": 104,
   "id": "ea198af1",
   "metadata": {
    "execution": {
     "iopub.execute_input": "2023-02-20T18:20:44.058864Z",
     "iopub.status.busy": "2023-02-20T18:20:44.058432Z",
     "iopub.status.idle": "2023-02-20T18:20:44.065449Z",
     "shell.execute_reply": "2023-02-20T18:20:44.064558Z"
    },
    "papermill": {
     "duration": 0.066528,
     "end_time": "2023-02-20T18:20:44.067572",
     "exception": false,
     "start_time": "2023-02-20T18:20:44.001044",
     "status": "completed"
    },
    "tags": []
   },
   "outputs": [
    {
     "data": {
      "text/plain": [
       "7.536240022740899"
      ]
     },
     "execution_count": 104,
     "metadata": {},
     "output_type": "execute_result"
    }
   ],
   "source": [
    "# calculate the MSE of the model\n",
    "mse = mean_squared_error(y_test, y_pred1)\n",
    "mse"
   ]
  },
  {
   "cell_type": "code",
   "execution_count": 105,
   "id": "968618b9",
   "metadata": {
    "execution": {
     "iopub.execute_input": "2023-02-20T18:20:44.188027Z",
     "iopub.status.busy": "2023-02-20T18:20:44.186988Z",
     "iopub.status.idle": "2023-02-20T18:20:44.193473Z",
     "shell.execute_reply": "2023-02-20T18:20:44.192648Z"
    },
    "papermill": {
     "duration": 0.071743,
     "end_time": "2023-02-20T18:20:44.195710",
     "exception": false,
     "start_time": "2023-02-20T18:20:44.123967",
     "status": "completed"
    },
    "tags": []
   },
   "outputs": [
    {
     "data": {
      "text/plain": [
       "2.745221306696584"
      ]
     },
     "execution_count": 105,
     "metadata": {},
     "output_type": "execute_result"
    }
   ],
   "source": [
    "# calculate the RMSE of the model\n",
    "rmse = np.sqrt(mse)\n",
    "rmse"
   ]
  },
  {
   "cell_type": "markdown",
   "id": "16a30364",
   "metadata": {
    "papermill": {
     "duration": 0.055868,
     "end_time": "2023-02-20T18:20:44.308066",
     "exception": false,
     "start_time": "2023-02-20T18:20:44.252198",
     "status": "completed"
    },
    "tags": []
   },
   "source": [
    "Client 9: Nyack Hospital"
   ]
  },
  {
   "cell_type": "code",
   "execution_count": 106,
   "id": "cbabc825",
   "metadata": {
    "execution": {
     "iopub.execute_input": "2023-02-20T18:20:44.422114Z",
     "iopub.status.busy": "2023-02-20T18:20:44.421254Z",
     "iopub.status.idle": "2023-02-20T18:20:44.574466Z",
     "shell.execute_reply": "2023-02-20T18:20:44.573166Z"
    },
    "papermill": {
     "duration": 0.213406,
     "end_time": "2023-02-20T18:20:44.577398",
     "exception": false,
     "start_time": "2023-02-20T18:20:44.363992",
     "status": "completed"
    },
    "tags": []
   },
   "outputs": [],
   "source": [
    "Nyack_df=df[df[\"Facility Name\"]== 'Nyack Hospital']"
   ]
  },
  {
   "cell_type": "code",
   "execution_count": 107,
   "id": "42aef815",
   "metadata": {
    "execution": {
     "iopub.execute_input": "2023-02-20T18:20:44.691359Z",
     "iopub.status.busy": "2023-02-20T18:20:44.690531Z",
     "iopub.status.idle": "2023-02-20T18:20:44.714406Z",
     "shell.execute_reply": "2023-02-20T18:20:44.712717Z"
    },
    "papermill": {
     "duration": 0.084072,
     "end_time": "2023-02-20T18:20:44.717218",
     "exception": false,
     "start_time": "2023-02-20T18:20:44.633146",
     "status": "completed"
    },
    "tags": []
   },
   "outputs": [
    {
     "name": "stdout",
     "output_type": "stream",
     "text": [
      "<class 'pandas.core.frame.DataFrame'>\n",
      "Int64Index: 13459 entries, 700257 to 761325\n",
      "Data columns (total 28 columns):\n",
      " #   Column                            Non-Null Count  Dtype   \n",
      "---  ------                            --------------  -----   \n",
      " 0   Hospital County                   13459 non-null  category\n",
      " 1   Operating Certificate Number      13459 non-null  float64 \n",
      " 2   Facility Id                       13459 non-null  float64 \n",
      " 3   Facility Name                     13459 non-null  object  \n",
      " 4   Age Group                         13459 non-null  category\n",
      " 5   Zip Code - 3 digits               13327 non-null  category\n",
      " 6   Gender                            13459 non-null  category\n",
      " 7   Race                              13459 non-null  category\n",
      " 8   Ethnicity                         13459 non-null  category\n",
      " 9   Length of Stay                    13459 non-null  category\n",
      " 10  Type of Admission                 13459 non-null  category\n",
      " 11  Patient Disposition               13459 non-null  category\n",
      " 12  Discharge Year                    13459 non-null  int64   \n",
      " 13  CCS Diagnosis Code                13459 non-null  int64   \n",
      " 14  CCS Procedure Code                13459 non-null  int64   \n",
      " 15  APR DRG Code                      13459 non-null  int64   \n",
      " 16  APR MDC Code                      13459 non-null  int64   \n",
      " 17  APR Severity of Illness Code      13459 non-null  int64   \n",
      " 18  APR Risk of Mortality             13459 non-null  category\n",
      " 19  APR Medical Surgical Description  13459 non-null  category\n",
      " 20  Payment Typology 1                13459 non-null  category\n",
      " 21  Payment Typology 2                5193 non-null   category\n",
      " 22  Payment Typology 3                369 non-null    category\n",
      " 23  Birth Weight                      13459 non-null  int64   \n",
      " 24  Abortion Edit Indicator           13459 non-null  category\n",
      " 25  Emergency Department Indicator    13459 non-null  category\n",
      " 26  Total Charges                     13459 non-null  float64 \n",
      " 27  Total Costs                       13459 non-null  float64 \n",
      "dtypes: category(16), float64(4), int64(7), object(1)\n",
      "memory usage: 1.6+ MB\n"
     ]
    }
   ],
   "source": [
    "Nyack_df.info()"
   ]
  },
  {
   "cell_type": "code",
   "execution_count": 108,
   "id": "ff80c564",
   "metadata": {
    "execution": {
     "iopub.execute_input": "2023-02-20T18:20:44.833703Z",
     "iopub.status.busy": "2023-02-20T18:20:44.832443Z",
     "iopub.status.idle": "2023-02-20T18:20:44.839217Z",
     "shell.execute_reply": "2023-02-20T18:20:44.838275Z"
    },
    "papermill": {
     "duration": 0.06714,
     "end_time": "2023-02-20T18:20:44.841682",
     "exception": false,
     "start_time": "2023-02-20T18:20:44.774542",
     "status": "completed"
    },
    "tags": []
   },
   "outputs": [],
   "source": [
    "Nyack_df=Nyack_df.drop(\"Facility Name\", axis=1)"
   ]
  },
  {
   "cell_type": "code",
   "execution_count": 109,
   "id": "bb7ccfc9",
   "metadata": {
    "execution": {
     "iopub.execute_input": "2023-02-20T18:20:44.956413Z",
     "iopub.status.busy": "2023-02-20T18:20:44.955580Z",
     "iopub.status.idle": "2023-02-20T18:20:44.962215Z",
     "shell.execute_reply": "2023-02-20T18:20:44.960981Z"
    },
    "papermill": {
     "duration": 0.067048,
     "end_time": "2023-02-20T18:20:44.965043",
     "exception": false,
     "start_time": "2023-02-20T18:20:44.897995",
     "status": "completed"
    },
    "tags": []
   },
   "outputs": [],
   "source": [
    "Nyack_df = Nyack_df.drop([\"Payment Typology 2\",    \"Payment Typology 3\"], axis=1)"
   ]
  },
  {
   "cell_type": "code",
   "execution_count": 110,
   "id": "8a0e2a0d",
   "metadata": {
    "execution": {
     "iopub.execute_input": "2023-02-20T18:20:45.078498Z",
     "iopub.status.busy": "2023-02-20T18:20:45.078036Z",
     "iopub.status.idle": "2023-02-20T18:20:45.087457Z",
     "shell.execute_reply": "2023-02-20T18:20:45.086254Z"
    },
    "papermill": {
     "duration": 0.069229,
     "end_time": "2023-02-20T18:20:45.090229",
     "exception": false,
     "start_time": "2023-02-20T18:20:45.021000",
     "status": "completed"
    },
    "tags": []
   },
   "outputs": [],
   "source": [
    " #   simple mapping on binary features.\n",
    "Nyack_df['Abortion Edit Indicator'] = Nyack_df['Abortion Edit Indicator'].apply(\n",
    "     lambda x: 1 if x == 'Y' else (0 if x == 'N' else None))\n",
    "Nyack_df['Emergency Department Indicator'] = Nyack_df['Emergency Department Indicator'].apply(\n",
    "    lambda x: 1 if x == 'Y' else (0 if x == 'N' else None))"
   ]
  },
  {
   "cell_type": "code",
   "execution_count": 111,
   "id": "108f1b39",
   "metadata": {
    "execution": {
     "iopub.execute_input": "2023-02-20T18:20:45.205876Z",
     "iopub.status.busy": "2023-02-20T18:20:45.205393Z",
     "iopub.status.idle": "2023-02-20T18:20:45.217176Z",
     "shell.execute_reply": "2023-02-20T18:20:45.216113Z"
    },
    "papermill": {
     "duration": 0.072988,
     "end_time": "2023-02-20T18:20:45.219783",
     "exception": false,
     "start_time": "2023-02-20T18:20:45.146795",
     "status": "completed"
    },
    "tags": []
   },
   "outputs": [],
   "source": [
    "Nyack_df[\"Length of Stay\"]=pd.to_numeric(Nyack_df[\"Length of Stay\"],errors='coerce')"
   ]
  },
  {
   "cell_type": "code",
   "execution_count": 112,
   "id": "7af44d33",
   "metadata": {
    "execution": {
     "iopub.execute_input": "2023-02-20T18:20:45.336883Z",
     "iopub.status.busy": "2023-02-20T18:20:45.336085Z",
     "iopub.status.idle": "2023-02-20T18:20:45.391778Z",
     "shell.execute_reply": "2023-02-20T18:20:45.390789Z"
    },
    "papermill": {
     "duration": 0.116549,
     "end_time": "2023-02-20T18:20:45.394496",
     "exception": false,
     "start_time": "2023-02-20T18:20:45.277947",
     "status": "completed"
    },
    "tags": []
   },
   "outputs": [],
   "source": [
    "list=  [ \"Hospital County\",\"Age Group\"\n",
    "    ,\"Gender\",   \n",
    " \"Race\" , \n",
    "\"Ethnicity\", \n",
    "\"Gender\" , \n",
    "\"Race\" ,    \n",
    " \"Ethnicity\" ,        \n",
    " \"Type of Admission\"  ,  \n",
    "  \"Patient Disposition\",      \n",
    " \"Type of Admission\" ,  \n",
    " \"Patient Disposition\"  ,\n",
    "  \"APR Risk of Mortality\" ,   \n",
    " \"APR Medical Surgical Description\" ,\n",
    " \"Payment Typology 1\"   ,   \n",
    " \"Abortion Edit Indicator\"     ,  \n",
    " \"Emergency Department Indicator\",\n",
    "       \"Zip Code - 3 digits\"]  \n",
    "\n",
    "# Import label encoder\n",
    "from sklearn import preprocessing\n",
    "  \n",
    "# label_encoder object knows how to understand word labels.\n",
    "label_encoder = preprocessing.LabelEncoder()\n",
    "  \n",
    "# Encode labels in column 'species'.\n",
    "for col in list :\n",
    "   Nyack_df[col]= label_encoder.fit_transform(Nyack_df[col])"
   ]
  },
  {
   "cell_type": "code",
   "execution_count": 113,
   "id": "58cf6e99",
   "metadata": {
    "execution": {
     "iopub.execute_input": "2023-02-20T18:20:45.508690Z",
     "iopub.status.busy": "2023-02-20T18:20:45.508252Z",
     "iopub.status.idle": "2023-02-20T18:20:45.526253Z",
     "shell.execute_reply": "2023-02-20T18:20:45.524427Z"
    },
    "papermill": {
     "duration": 0.078094,
     "end_time": "2023-02-20T18:20:45.528730",
     "exception": false,
     "start_time": "2023-02-20T18:20:45.450636",
     "status": "completed"
    },
    "tags": []
   },
   "outputs": [
    {
     "name": "stdout",
     "output_type": "stream",
     "text": [
      "<class 'pandas.core.frame.DataFrame'>\n",
      "Int64Index: 13459 entries, 700257 to 761325\n",
      "Data columns (total 25 columns):\n",
      " #   Column                            Non-Null Count  Dtype  \n",
      "---  ------                            --------------  -----  \n",
      " 0   Hospital County                   13459 non-null  int64  \n",
      " 1   Operating Certificate Number      13459 non-null  float64\n",
      " 2   Facility Id                       13459 non-null  float64\n",
      " 3   Age Group                         13459 non-null  int64  \n",
      " 4   Zip Code - 3 digits               13459 non-null  int64  \n",
      " 5   Gender                            13459 non-null  int64  \n",
      " 6   Race                              13459 non-null  int64  \n",
      " 7   Ethnicity                         13459 non-null  int64  \n",
      " 8   Length of Stay                    13458 non-null  float64\n",
      " 9   Type of Admission                 13459 non-null  int64  \n",
      " 10  Patient Disposition               13459 non-null  int64  \n",
      " 11  Discharge Year                    13459 non-null  int64  \n",
      " 12  CCS Diagnosis Code                13459 non-null  int64  \n",
      " 13  CCS Procedure Code                13459 non-null  int64  \n",
      " 14  APR DRG Code                      13459 non-null  int64  \n",
      " 15  APR MDC Code                      13459 non-null  int64  \n",
      " 16  APR Severity of Illness Code      13459 non-null  int64  \n",
      " 17  APR Risk of Mortality             13459 non-null  int64  \n",
      " 18  APR Medical Surgical Description  13459 non-null  int64  \n",
      " 19  Payment Typology 1                13459 non-null  int64  \n",
      " 20  Birth Weight                      13459 non-null  int64  \n",
      " 21  Abortion Edit Indicator           13459 non-null  int64  \n",
      " 22  Emergency Department Indicator    13459 non-null  int64  \n",
      " 23  Total Charges                     13459 non-null  float64\n",
      " 24  Total Costs                       13459 non-null  float64\n",
      "dtypes: float64(5), int64(20)\n",
      "memory usage: 2.7 MB\n"
     ]
    }
   ],
   "source": [
    "Nyack_df.info()"
   ]
  },
  {
   "cell_type": "code",
   "execution_count": 114,
   "id": "ace7ffbb",
   "metadata": {
    "execution": {
     "iopub.execute_input": "2023-02-20T18:20:45.644062Z",
     "iopub.status.busy": "2023-02-20T18:20:45.643186Z",
     "iopub.status.idle": "2023-02-20T18:20:45.655491Z",
     "shell.execute_reply": "2023-02-20T18:20:45.654310Z"
    },
    "papermill": {
     "duration": 0.072864,
     "end_time": "2023-02-20T18:20:45.658302",
     "exception": false,
     "start_time": "2023-02-20T18:20:45.585438",
     "status": "completed"
    },
    "tags": []
   },
   "outputs": [],
   "source": [
    "Nyack_df.dropna(inplace=True)"
   ]
  },
  {
   "cell_type": "code",
   "execution_count": 115,
   "id": "83d150ef",
   "metadata": {
    "execution": {
     "iopub.execute_input": "2023-02-20T18:20:45.774965Z",
     "iopub.status.busy": "2023-02-20T18:20:45.774499Z",
     "iopub.status.idle": "2023-02-20T18:20:45.781663Z",
     "shell.execute_reply": "2023-02-20T18:20:45.780698Z"
    },
    "papermill": {
     "duration": 0.067566,
     "end_time": "2023-02-20T18:20:45.784019",
     "exception": false,
     "start_time": "2023-02-20T18:20:45.716453",
     "status": "completed"
    },
    "tags": []
   },
   "outputs": [],
   "source": [
    "x = Nyack_df.drop([\"Length of Stay\"], axis =1)\n",
    "y = Nyack_df[\"Length of Stay\"]"
   ]
  },
  {
   "cell_type": "code",
   "execution_count": 116,
   "id": "996ab079",
   "metadata": {
    "execution": {
     "iopub.execute_input": "2023-02-20T18:20:45.900996Z",
     "iopub.status.busy": "2023-02-20T18:20:45.900505Z",
     "iopub.status.idle": "2023-02-20T18:20:45.911108Z",
     "shell.execute_reply": "2023-02-20T18:20:45.909674Z"
    },
    "papermill": {
     "duration": 0.071978,
     "end_time": "2023-02-20T18:20:45.913529",
     "exception": false,
     "start_time": "2023-02-20T18:20:45.841551",
     "status": "completed"
    },
    "tags": []
   },
   "outputs": [],
   "source": [
    "x_train, x_test, y_train, y_test = train_test_split(x, y, test_size=0.3, random_state=42)"
   ]
  },
  {
   "cell_type": "code",
   "execution_count": 117,
   "id": "fc6a5a4f",
   "metadata": {
    "execution": {
     "iopub.execute_input": "2023-02-20T18:20:46.028318Z",
     "iopub.status.busy": "2023-02-20T18:20:46.027841Z",
     "iopub.status.idle": "2023-02-20T18:20:46.049042Z",
     "shell.execute_reply": "2023-02-20T18:20:46.047491Z"
    },
    "papermill": {
     "duration": 0.08253,
     "end_time": "2023-02-20T18:20:46.052655",
     "exception": false,
     "start_time": "2023-02-20T18:20:45.970125",
     "status": "completed"
    },
    "tags": []
   },
   "outputs": [],
   "source": [
    "# Linear Regression\n",
    "\n",
    "LR = LinearRegression()\n",
    "LR.fit(x_train, y_train)\n",
    "LR.score(x_train, y_train)\n",
    "y_pred =LR.predict(x_test)"
   ]
  },
  {
   "cell_type": "code",
   "execution_count": 118,
   "id": "eef7a478",
   "metadata": {
    "execution": {
     "iopub.execute_input": "2023-02-20T18:20:46.215926Z",
     "iopub.status.busy": "2023-02-20T18:20:46.215488Z",
     "iopub.status.idle": "2023-02-20T18:20:46.222760Z",
     "shell.execute_reply": "2023-02-20T18:20:46.221870Z"
    },
    "papermill": {
     "duration": 0.077959,
     "end_time": "2023-02-20T18:20:46.225101",
     "exception": false,
     "start_time": "2023-02-20T18:20:46.147142",
     "status": "completed"
    },
    "tags": []
   },
   "outputs": [
    {
     "data": {
      "text/plain": [
       "0.8349891359205954"
      ]
     },
     "execution_count": 118,
     "metadata": {},
     "output_type": "execute_result"
    }
   ],
   "source": [
    "r2 = r2_score(y_test, y_pred)\n",
    "r2 \n"
   ]
  },
  {
   "cell_type": "code",
   "execution_count": 119,
   "id": "7b3398f6",
   "metadata": {
    "execution": {
     "iopub.execute_input": "2023-02-20T18:20:46.341892Z",
     "iopub.status.busy": "2023-02-20T18:20:46.341127Z",
     "iopub.status.idle": "2023-02-20T18:20:46.348250Z",
     "shell.execute_reply": "2023-02-20T18:20:46.347305Z"
    },
    "papermill": {
     "duration": 0.068613,
     "end_time": "2023-02-20T18:20:46.350569",
     "exception": false,
     "start_time": "2023-02-20T18:20:46.281956",
     "status": "completed"
    },
    "tags": []
   },
   "outputs": [
    {
     "data": {
      "text/plain": [
       "1.3344919646969073"
      ]
     },
     "execution_count": 119,
     "metadata": {},
     "output_type": "execute_result"
    }
   ],
   "source": [
    "# calculate the MAE of the model\n",
    "mae = mean_absolute_error(y_test, y_pred)\n",
    "mae"
   ]
  },
  {
   "cell_type": "code",
   "execution_count": 120,
   "id": "2da4dd21",
   "metadata": {
    "execution": {
     "iopub.execute_input": "2023-02-20T18:20:46.466225Z",
     "iopub.status.busy": "2023-02-20T18:20:46.465753Z",
     "iopub.status.idle": "2023-02-20T18:20:46.473780Z",
     "shell.execute_reply": "2023-02-20T18:20:46.472846Z"
    },
    "papermill": {
     "duration": 0.068615,
     "end_time": "2023-02-20T18:20:46.475936",
     "exception": false,
     "start_time": "2023-02-20T18:20:46.407321",
     "status": "completed"
    },
    "tags": []
   },
   "outputs": [
    {
     "data": {
      "text/plain": [
       "5.8475935175546985"
      ]
     },
     "execution_count": 120,
     "metadata": {},
     "output_type": "execute_result"
    }
   ],
   "source": [
    "# calculate the MSE of the model\n",
    "mse = mean_squared_error(y_test, y_pred)\n",
    "mse"
   ]
  },
  {
   "cell_type": "code",
   "execution_count": 121,
   "id": "76fdbaf7",
   "metadata": {
    "execution": {
     "iopub.execute_input": "2023-02-20T18:20:46.592873Z",
     "iopub.status.busy": "2023-02-20T18:20:46.592067Z",
     "iopub.status.idle": "2023-02-20T18:20:46.598844Z",
     "shell.execute_reply": "2023-02-20T18:20:46.597636Z"
    },
    "papermill": {
     "duration": 0.068184,
     "end_time": "2023-02-20T18:20:46.601168",
     "exception": false,
     "start_time": "2023-02-20T18:20:46.532984",
     "status": "completed"
    },
    "tags": []
   },
   "outputs": [
    {
     "data": {
      "text/plain": [
       "2.4181797942987404"
      ]
     },
     "execution_count": 121,
     "metadata": {},
     "output_type": "execute_result"
    }
   ],
   "source": [
    "# calculate the RMSE of the model\n",
    "rmse = np.sqrt(mse)\n",
    "rmse"
   ]
  },
  {
   "cell_type": "code",
   "execution_count": 122,
   "id": "25010fd5",
   "metadata": {
    "execution": {
     "iopub.execute_input": "2023-02-20T18:20:46.716367Z",
     "iopub.status.busy": "2023-02-20T18:20:46.715894Z",
     "iopub.status.idle": "2023-02-20T18:20:46.801569Z",
     "shell.execute_reply": "2023-02-20T18:20:46.800064Z"
    },
    "papermill": {
     "duration": 0.147221,
     "end_time": "2023-02-20T18:20:46.805287",
     "exception": false,
     "start_time": "2023-02-20T18:20:46.658066",
     "status": "completed"
    },
    "tags": []
   },
   "outputs": [],
   "source": [
    "# LASSO\n",
    "L1 = linear_model.Lasso()\n",
    "L1.fit(x_train,y_train)\n",
    "y_pred1 = L1.predict(x_test)"
   ]
  },
  {
   "cell_type": "code",
   "execution_count": 123,
   "id": "a991efc9",
   "metadata": {
    "execution": {
     "iopub.execute_input": "2023-02-20T18:20:46.966412Z",
     "iopub.status.busy": "2023-02-20T18:20:46.965950Z",
     "iopub.status.idle": "2023-02-20T18:20:46.974523Z",
     "shell.execute_reply": "2023-02-20T18:20:46.973362Z"
    },
    "papermill": {
     "duration": 0.076624,
     "end_time": "2023-02-20T18:20:46.976985",
     "exception": false,
     "start_time": "2023-02-20T18:20:46.900361",
     "status": "completed"
    },
    "tags": []
   },
   "outputs": [
    {
     "data": {
      "text/plain": [
       "0.8130004942930402"
      ]
     },
     "execution_count": 123,
     "metadata": {},
     "output_type": "execute_result"
    }
   ],
   "source": [
    "r2 = r2_score(y_test, y_pred1)\n",
    "r2 "
   ]
  },
  {
   "cell_type": "code",
   "execution_count": 124,
   "id": "c390d8d2",
   "metadata": {
    "execution": {
     "iopub.execute_input": "2023-02-20T18:20:47.093114Z",
     "iopub.status.busy": "2023-02-20T18:20:47.092663Z",
     "iopub.status.idle": "2023-02-20T18:20:47.101647Z",
     "shell.execute_reply": "2023-02-20T18:20:47.100453Z"
    },
    "papermill": {
     "duration": 0.069551,
     "end_time": "2023-02-20T18:20:47.104157",
     "exception": false,
     "start_time": "2023-02-20T18:20:47.034606",
     "status": "completed"
    },
    "tags": []
   },
   "outputs": [
    {
     "data": {
      "text/plain": [
       "1.371002670909177"
      ]
     },
     "execution_count": 124,
     "metadata": {},
     "output_type": "execute_result"
    }
   ],
   "source": [
    "# calculate the MAE of the model\n",
    "mae = mean_absolute_error(y_test, y_pred1)\n",
    "mae"
   ]
  },
  {
   "cell_type": "code",
   "execution_count": 125,
   "id": "e93ecf70",
   "metadata": {
    "execution": {
     "iopub.execute_input": "2023-02-20T18:20:47.234425Z",
     "iopub.status.busy": "2023-02-20T18:20:47.233395Z",
     "iopub.status.idle": "2023-02-20T18:20:47.242459Z",
     "shell.execute_reply": "2023-02-20T18:20:47.241175Z"
    },
    "papermill": {
     "duration": 0.083937,
     "end_time": "2023-02-20T18:20:47.244888",
     "exception": false,
     "start_time": "2023-02-20T18:20:47.160951",
     "status": "completed"
    },
    "tags": []
   },
   "outputs": [
    {
     "data": {
      "text/plain": [
       "6.626818806498411"
      ]
     },
     "execution_count": 125,
     "metadata": {},
     "output_type": "execute_result"
    }
   ],
   "source": [
    "# calculate the MSE of the model\n",
    "mse = mean_squared_error(y_test, y_pred1)\n",
    "mse"
   ]
  },
  {
   "cell_type": "code",
   "execution_count": 126,
   "id": "9a0fff66",
   "metadata": {
    "execution": {
     "iopub.execute_input": "2023-02-20T18:20:47.368586Z",
     "iopub.status.busy": "2023-02-20T18:20:47.367865Z",
     "iopub.status.idle": "2023-02-20T18:20:47.374184Z",
     "shell.execute_reply": "2023-02-20T18:20:47.373289Z"
    },
    "papermill": {
     "duration": 0.068205,
     "end_time": "2023-02-20T18:20:47.376492",
     "exception": false,
     "start_time": "2023-02-20T18:20:47.308287",
     "status": "completed"
    },
    "tags": []
   },
   "outputs": [
    {
     "data": {
      "text/plain": [
       "2.574260827208154"
      ]
     },
     "execution_count": 126,
     "metadata": {},
     "output_type": "execute_result"
    }
   ],
   "source": [
    "# calculate the RMSE of the model\n",
    "rmse = np.sqrt(mse)\n",
    "rmse"
   ]
  },
  {
   "cell_type": "code",
   "execution_count": 127,
   "id": "13ab76e4",
   "metadata": {
    "execution": {
     "iopub.execute_input": "2023-02-20T18:20:47.492869Z",
     "iopub.status.busy": "2023-02-20T18:20:47.492376Z",
     "iopub.status.idle": "2023-02-20T18:20:47.512454Z",
     "shell.execute_reply": "2023-02-20T18:20:47.511024Z"
    },
    "papermill": {
     "duration": 0.082524,
     "end_time": "2023-02-20T18:20:47.516172",
     "exception": false,
     "start_time": "2023-02-20T18:20:47.433648",
     "status": "completed"
    },
    "tags": []
   },
   "outputs": [],
   "source": [
    "# Ridge\n",
    "L2 = Ridge(alpha=1.0)\n",
    "L2.fit(x_train, y_train) \n",
    "y_pred3 = L2.predict(x_test)"
   ]
  },
  {
   "cell_type": "code",
   "execution_count": 128,
   "id": "c1c745bf",
   "metadata": {
    "execution": {
     "iopub.execute_input": "2023-02-20T18:20:47.677028Z",
     "iopub.status.busy": "2023-02-20T18:20:47.676538Z",
     "iopub.status.idle": "2023-02-20T18:20:47.684331Z",
     "shell.execute_reply": "2023-02-20T18:20:47.683417Z"
    },
    "papermill": {
     "duration": 0.076493,
     "end_time": "2023-02-20T18:20:47.686441",
     "exception": false,
     "start_time": "2023-02-20T18:20:47.609948",
     "status": "completed"
    },
    "tags": []
   },
   "outputs": [
    {
     "data": {
      "text/plain": [
       "0.8349875922803607"
      ]
     },
     "execution_count": 128,
     "metadata": {},
     "output_type": "execute_result"
    }
   ],
   "source": [
    "r2 = r2_score(y_test, y_pred3)\n",
    "r2 "
   ]
  },
  {
   "cell_type": "code",
   "execution_count": 129,
   "id": "2ad6c214",
   "metadata": {
    "execution": {
     "iopub.execute_input": "2023-02-20T18:20:47.803217Z",
     "iopub.status.busy": "2023-02-20T18:20:47.802759Z",
     "iopub.status.idle": "2023-02-20T18:20:47.810857Z",
     "shell.execute_reply": "2023-02-20T18:20:47.809942Z"
    },
    "papermill": {
     "duration": 0.06944,
     "end_time": "2023-02-20T18:20:47.813121",
     "exception": false,
     "start_time": "2023-02-20T18:20:47.743681",
     "status": "completed"
    },
    "tags": []
   },
   "outputs": [
    {
     "data": {
      "text/plain": [
       "1.3343143263471502"
      ]
     },
     "execution_count": 129,
     "metadata": {},
     "output_type": "execute_result"
    }
   ],
   "source": [
    "# calculate the MAE of the model\n",
    "mae = mean_absolute_error(y_test, y_pred3)\n",
    "mae"
   ]
  },
  {
   "cell_type": "code",
   "execution_count": 130,
   "id": "d41a5453",
   "metadata": {
    "execution": {
     "iopub.execute_input": "2023-02-20T18:20:47.931482Z",
     "iopub.status.busy": "2023-02-20T18:20:47.930273Z",
     "iopub.status.idle": "2023-02-20T18:20:47.937637Z",
     "shell.execute_reply": "2023-02-20T18:20:47.936779Z"
    },
    "papermill": {
     "duration": 0.067997,
     "end_time": "2023-02-20T18:20:47.939850",
     "exception": false,
     "start_time": "2023-02-20T18:20:47.871853",
     "status": "completed"
    },
    "tags": []
   },
   "outputs": [
    {
     "data": {
      "text/plain": [
       "5.847648220502174"
      ]
     },
     "execution_count": 130,
     "metadata": {},
     "output_type": "execute_result"
    }
   ],
   "source": [
    "# calculate the MSE of the model\n",
    "mse = mean_squared_error(y_test, y_pred3)\n",
    "mse"
   ]
  },
  {
   "cell_type": "code",
   "execution_count": 131,
   "id": "67d45c5e",
   "metadata": {
    "execution": {
     "iopub.execute_input": "2023-02-20T18:20:48.056761Z",
     "iopub.status.busy": "2023-02-20T18:20:48.056003Z",
     "iopub.status.idle": "2023-02-20T18:20:48.062457Z",
     "shell.execute_reply": "2023-02-20T18:20:48.061536Z"
    },
    "papermill": {
     "duration": 0.067566,
     "end_time": "2023-02-20T18:20:48.064751",
     "exception": false,
     "start_time": "2023-02-20T18:20:47.997185",
     "status": "completed"
    },
    "tags": []
   },
   "outputs": [
    {
     "data": {
      "text/plain": [
       "2.418191105041571"
      ]
     },
     "execution_count": 131,
     "metadata": {},
     "output_type": "execute_result"
    }
   ],
   "source": [
    "# calculate the RMSE of the model\n",
    "rmse = np.sqrt(mse)\n",
    "rmse"
   ]
  },
  {
   "cell_type": "markdown",
   "id": "0bd196e4",
   "metadata": {
    "papermill": {
     "duration": 0.057708,
     "end_time": "2023-02-20T18:20:48.180022",
     "exception": false,
     "start_time": "2023-02-20T18:20:48.122314",
     "status": "completed"
    },
    "tags": []
   },
   "source": [
    "Client 10: Mount St Marys Hospital"
   ]
  },
  {
   "cell_type": "code",
   "execution_count": 132,
   "id": "b161b7cf",
   "metadata": {
    "execution": {
     "iopub.execute_input": "2023-02-20T18:20:48.296744Z",
     "iopub.status.busy": "2023-02-20T18:20:48.296020Z",
     "iopub.status.idle": "2023-02-20T18:20:48.448457Z",
     "shell.execute_reply": "2023-02-20T18:20:48.447460Z"
    },
    "papermill": {
     "duration": 0.213691,
     "end_time": "2023-02-20T18:20:48.451048",
     "exception": false,
     "start_time": "2023-02-20T18:20:48.237357",
     "status": "completed"
    },
    "tags": []
   },
   "outputs": [],
   "source": [
    "#Mount St Marys Hospital and Health Center\n",
    "Mount_df=df[df[\"Facility Name\"]== 'Mount St Marys Hospital and Health Center']"
   ]
  },
  {
   "cell_type": "code",
   "execution_count": 133,
   "id": "eefa9391",
   "metadata": {
    "execution": {
     "iopub.execute_input": "2023-02-20T18:20:48.568453Z",
     "iopub.status.busy": "2023-02-20T18:20:48.567680Z",
     "iopub.status.idle": "2023-02-20T18:20:48.590364Z",
     "shell.execute_reply": "2023-02-20T18:20:48.588558Z"
    },
    "papermill": {
     "duration": 0.084444,
     "end_time": "2023-02-20T18:20:48.593117",
     "exception": false,
     "start_time": "2023-02-20T18:20:48.508673",
     "status": "completed"
    },
    "tags": []
   },
   "outputs": [
    {
     "name": "stdout",
     "output_type": "stream",
     "text": [
      "<class 'pandas.core.frame.DataFrame'>\n",
      "Int64Index: 5314 entries, 138563 to 143964\n",
      "Data columns (total 28 columns):\n",
      " #   Column                            Non-Null Count  Dtype   \n",
      "---  ------                            --------------  -----   \n",
      " 0   Hospital County                   5314 non-null   category\n",
      " 1   Operating Certificate Number      5314 non-null   float64 \n",
      " 2   Facility Id                       5314 non-null   float64 \n",
      " 3   Facility Name                     5314 non-null   object  \n",
      " 4   Age Group                         5314 non-null   category\n",
      " 5   Zip Code - 3 digits               5267 non-null   category\n",
      " 6   Gender                            5314 non-null   category\n",
      " 7   Race                              5314 non-null   category\n",
      " 8   Ethnicity                         5314 non-null   category\n",
      " 9   Length of Stay                    5314 non-null   category\n",
      " 10  Type of Admission                 5314 non-null   category\n",
      " 11  Patient Disposition               5314 non-null   category\n",
      " 12  Discharge Year                    5314 non-null   int64   \n",
      " 13  CCS Diagnosis Code                5314 non-null   int64   \n",
      " 14  CCS Procedure Code                5314 non-null   int64   \n",
      " 15  APR DRG Code                      5314 non-null   int64   \n",
      " 16  APR MDC Code                      5314 non-null   int64   \n",
      " 17  APR Severity of Illness Code      5314 non-null   int64   \n",
      " 18  APR Risk of Mortality             5314 non-null   category\n",
      " 19  APR Medical Surgical Description  5314 non-null   category\n",
      " 20  Payment Typology 1                5314 non-null   category\n",
      " 21  Payment Typology 2                2876 non-null   category\n",
      " 22  Payment Typology 3                327 non-null    category\n",
      " 23  Birth Weight                      5314 non-null   int64   \n",
      " 24  Abortion Edit Indicator           5314 non-null   category\n",
      " 25  Emergency Department Indicator    5314 non-null   category\n",
      " 26  Total Charges                     5314 non-null   float64 \n",
      " 27  Total Costs                       5314 non-null   float64 \n",
      "dtypes: category(16), float64(4), int64(7), object(1)\n",
      "memory usage: 646.0+ KB\n"
     ]
    }
   ],
   "source": [
    "Mount_df.info()\n"
   ]
  },
  {
   "cell_type": "code",
   "execution_count": 134,
   "id": "be2f8256",
   "metadata": {
    "execution": {
     "iopub.execute_input": "2023-02-20T18:20:48.719886Z",
     "iopub.status.busy": "2023-02-20T18:20:48.718949Z",
     "iopub.status.idle": "2023-02-20T18:20:48.726313Z",
     "shell.execute_reply": "2023-02-20T18:20:48.725173Z"
    },
    "papermill": {
     "duration": 0.077528,
     "end_time": "2023-02-20T18:20:48.729094",
     "exception": false,
     "start_time": "2023-02-20T18:20:48.651566",
     "status": "completed"
    },
    "tags": []
   },
   "outputs": [],
   "source": [
    "Mount_df = Mount_df.drop(\"Facility Name\", axis=1)\n"
   ]
  },
  {
   "cell_type": "code",
   "execution_count": 135,
   "id": "9cab0aca",
   "metadata": {
    "execution": {
     "iopub.execute_input": "2023-02-20T18:20:48.853929Z",
     "iopub.status.busy": "2023-02-20T18:20:48.853376Z",
     "iopub.status.idle": "2023-02-20T18:20:48.869350Z",
     "shell.execute_reply": "2023-02-20T18:20:48.867770Z"
    },
    "papermill": {
     "duration": 0.081502,
     "end_time": "2023-02-20T18:20:48.872688",
     "exception": false,
     "start_time": "2023-02-20T18:20:48.791186",
     "status": "completed"
    },
    "tags": []
   },
   "outputs": [],
   "source": [
    " #   simple mapping on binary features.\n",
    "Mount_df['Abortion Edit Indicator'] = Mount_df['Abortion Edit Indicator'].apply(\n",
    "     lambda x: 1 if x == 'Y' else (0 if x == 'N' else None))\n",
    "Mount_df['Emergency Department Indicator'] = Mount_df['Emergency Department Indicator'].apply(\n",
    "    lambda x: 1 if x == 'Y' else (0 if x == 'N' else None))"
   ]
  },
  {
   "cell_type": "code",
   "execution_count": 136,
   "id": "b5b574cb",
   "metadata": {
    "execution": {
     "iopub.execute_input": "2023-02-20T18:20:48.995260Z",
     "iopub.status.busy": "2023-02-20T18:20:48.994337Z",
     "iopub.status.idle": "2023-02-20T18:20:49.005962Z",
     "shell.execute_reply": "2023-02-20T18:20:49.004536Z"
    },
    "papermill": {
     "duration": 0.077272,
     "end_time": "2023-02-20T18:20:49.009375",
     "exception": false,
     "start_time": "2023-02-20T18:20:48.932103",
     "status": "completed"
    },
    "tags": []
   },
   "outputs": [],
   "source": [
    "Mount_df[\"Length of Stay\"]=pd.to_numeric(Mount_df[\"Length of Stay\"],errors='coerce')"
   ]
  },
  {
   "cell_type": "code",
   "execution_count": 137,
   "id": "13a30a5c",
   "metadata": {
    "execution": {
     "iopub.execute_input": "2023-02-20T18:20:49.136805Z",
     "iopub.status.busy": "2023-02-20T18:20:49.135412Z",
     "iopub.status.idle": "2023-02-20T18:20:49.186259Z",
     "shell.execute_reply": "2023-02-20T18:20:49.183736Z"
    },
    "papermill": {
     "duration": 0.116823,
     "end_time": "2023-02-20T18:20:49.189658",
     "exception": false,
     "start_time": "2023-02-20T18:20:49.072835",
     "status": "completed"
    },
    "tags": []
   },
   "outputs": [],
   "source": [
    "list=  [ \"Hospital County\",\"Age Group\"\n",
    "    ,\"Gender\",   \n",
    " \"Race\" , \n",
    "\"Ethnicity\", \n",
    "\"Gender\" , \n",
    "\"Race\" ,    \n",
    " \"Ethnicity\" ,        \n",
    " \"Type of Admission\"  ,  \n",
    "  \"Patient Disposition\",      \n",
    " \"Type of Admission\" ,  \n",
    " \"Patient Disposition\"  ,\n",
    "  \"APR Risk of Mortality\" ,   \n",
    " \"APR Medical Surgical Description\" ,\n",
    " \"Payment Typology 1\"   ,   \n",
    " \"Abortion Edit Indicator\"     ,  \n",
    " \"Emergency Department Indicator\",\n",
    "       \"Zip Code - 3 digits\"]  \n",
    "\n",
    "# Import label encoder\n",
    "from sklearn import preprocessing\n",
    "  \n",
    "# label_encoder object knows how to understand word labels.\n",
    "label_encoder = preprocessing.LabelEncoder()\n",
    "  \n",
    "# Encode labels in column 'species'.\n",
    "for col in list :\n",
    "  Mount_df[col]= label_encoder.fit_transform(Mount_df[col])"
   ]
  },
  {
   "cell_type": "code",
   "execution_count": 138,
   "id": "5da504d8",
   "metadata": {
    "execution": {
     "iopub.execute_input": "2023-02-20T18:20:49.370992Z",
     "iopub.status.busy": "2023-02-20T18:20:49.370220Z",
     "iopub.status.idle": "2023-02-20T18:20:49.389226Z",
     "shell.execute_reply": "2023-02-20T18:20:49.387948Z"
    },
    "papermill": {
     "duration": 0.083717,
     "end_time": "2023-02-20T18:20:49.392196",
     "exception": false,
     "start_time": "2023-02-20T18:20:49.308479",
     "status": "completed"
    },
    "tags": []
   },
   "outputs": [
    {
     "name": "stdout",
     "output_type": "stream",
     "text": [
      "<class 'pandas.core.frame.DataFrame'>\n",
      "Int64Index: 5314 entries, 138563 to 143964\n",
      "Data columns (total 27 columns):\n",
      " #   Column                            Non-Null Count  Dtype   \n",
      "---  ------                            --------------  -----   \n",
      " 0   Hospital County                   5314 non-null   int64   \n",
      " 1   Operating Certificate Number      5314 non-null   float64 \n",
      " 2   Facility Id                       5314 non-null   float64 \n",
      " 3   Age Group                         5314 non-null   int64   \n",
      " 4   Zip Code - 3 digits               5314 non-null   int64   \n",
      " 5   Gender                            5314 non-null   int64   \n",
      " 6   Race                              5314 non-null   int64   \n",
      " 7   Ethnicity                         5314 non-null   int64   \n",
      " 8   Length of Stay                    5314 non-null   int64   \n",
      " 9   Type of Admission                 5314 non-null   int64   \n",
      " 10  Patient Disposition               5314 non-null   int64   \n",
      " 11  Discharge Year                    5314 non-null   int64   \n",
      " 12  CCS Diagnosis Code                5314 non-null   int64   \n",
      " 13  CCS Procedure Code                5314 non-null   int64   \n",
      " 14  APR DRG Code                      5314 non-null   int64   \n",
      " 15  APR MDC Code                      5314 non-null   int64   \n",
      " 16  APR Severity of Illness Code      5314 non-null   int64   \n",
      " 17  APR Risk of Mortality             5314 non-null   int64   \n",
      " 18  APR Medical Surgical Description  5314 non-null   int64   \n",
      " 19  Payment Typology 1                5314 non-null   int64   \n",
      " 20  Payment Typology 2                2876 non-null   category\n",
      " 21  Payment Typology 3                327 non-null    category\n",
      " 22  Birth Weight                      5314 non-null   int64   \n",
      " 23  Abortion Edit Indicator           5314 non-null   int64   \n",
      " 24  Emergency Department Indicator    5314 non-null   int64   \n",
      " 25  Total Charges                     5314 non-null   float64 \n",
      " 26  Total Costs                       5314 non-null   float64 \n",
      "dtypes: category(2), float64(4), int64(21)\n",
      "memory usage: 1.1 MB\n"
     ]
    }
   ],
   "source": [
    "Mount_df.info()"
   ]
  },
  {
   "cell_type": "code",
   "execution_count": 139,
   "id": "df7d6e1d",
   "metadata": {
    "execution": {
     "iopub.execute_input": "2023-02-20T18:20:49.512494Z",
     "iopub.status.busy": "2023-02-20T18:20:49.511813Z",
     "iopub.status.idle": "2023-02-20T18:20:49.519377Z",
     "shell.execute_reply": "2023-02-20T18:20:49.518439Z"
    },
    "papermill": {
     "duration": 0.070921,
     "end_time": "2023-02-20T18:20:49.521972",
     "exception": false,
     "start_time": "2023-02-20T18:20:49.451051",
     "status": "completed"
    },
    "tags": []
   },
   "outputs": [],
   "source": [
    "Mount_df = Mount_df.drop([\"Payment Typology 2\",    \"Payment Typology 3\"], axis=1)\n"
   ]
  },
  {
   "cell_type": "code",
   "execution_count": 140,
   "id": "82959c37",
   "metadata": {
    "execution": {
     "iopub.execute_input": "2023-02-20T18:20:49.645742Z",
     "iopub.status.busy": "2023-02-20T18:20:49.645318Z",
     "iopub.status.idle": "2023-02-20T18:20:49.652063Z",
     "shell.execute_reply": "2023-02-20T18:20:49.650699Z"
    },
    "papermill": {
     "duration": 0.069676,
     "end_time": "2023-02-20T18:20:49.654628",
     "exception": false,
     "start_time": "2023-02-20T18:20:49.584952",
     "status": "completed"
    },
    "tags": []
   },
   "outputs": [],
   "source": [
    "x = Mount_df.drop([\"Length of Stay\"], axis =1)\n",
    "y = Mount_df[\"Length of Stay\"]"
   ]
  },
  {
   "cell_type": "code",
   "execution_count": 141,
   "id": "ae5ca3f2",
   "metadata": {
    "execution": {
     "iopub.execute_input": "2023-02-20T18:20:49.773386Z",
     "iopub.status.busy": "2023-02-20T18:20:49.772287Z",
     "iopub.status.idle": "2023-02-20T18:20:49.780145Z",
     "shell.execute_reply": "2023-02-20T18:20:49.779122Z"
    },
    "papermill": {
     "duration": 0.069326,
     "end_time": "2023-02-20T18:20:49.782596",
     "exception": false,
     "start_time": "2023-02-20T18:20:49.713270",
     "status": "completed"
    },
    "tags": []
   },
   "outputs": [],
   "source": [
    "x_train, x_test, y_train, y_test = train_test_split(x, y, test_size=0.3, random_state=42)"
   ]
  },
  {
   "cell_type": "code",
   "execution_count": 142,
   "id": "4dc7570a",
   "metadata": {
    "execution": {
     "iopub.execute_input": "2023-02-20T18:20:49.903986Z",
     "iopub.status.busy": "2023-02-20T18:20:49.903519Z",
     "iopub.status.idle": "2023-02-20T18:20:49.924706Z",
     "shell.execute_reply": "2023-02-20T18:20:49.923414Z"
    },
    "papermill": {
     "duration": 0.084106,
     "end_time": "2023-02-20T18:20:49.928220",
     "exception": false,
     "start_time": "2023-02-20T18:20:49.844114",
     "status": "completed"
    },
    "tags": []
   },
   "outputs": [],
   "source": [
    "# Linear Regression\n",
    "\n",
    "LR = LinearRegression()\n",
    "LR.fit(x_train, y_train)\n",
    "LR.score(x_train, y_train)\n",
    "y_pred =LR.predict(x_test)"
   ]
  },
  {
   "cell_type": "code",
   "execution_count": 143,
   "id": "5bcb24b8",
   "metadata": {
    "execution": {
     "iopub.execute_input": "2023-02-20T18:20:50.089749Z",
     "iopub.status.busy": "2023-02-20T18:20:50.088564Z",
     "iopub.status.idle": "2023-02-20T18:20:50.095953Z",
     "shell.execute_reply": "2023-02-20T18:20:50.095083Z"
    },
    "papermill": {
     "duration": 0.076538,
     "end_time": "2023-02-20T18:20:50.098021",
     "exception": false,
     "start_time": "2023-02-20T18:20:50.021483",
     "status": "completed"
    },
    "tags": []
   },
   "outputs": [
    {
     "data": {
      "text/plain": [
       "0.8493645328400692"
      ]
     },
     "execution_count": 143,
     "metadata": {},
     "output_type": "execute_result"
    }
   ],
   "source": [
    "r2 = r2_score(y_test, y_pred)\n",
    "r2 \n"
   ]
  },
  {
   "cell_type": "code",
   "execution_count": 144,
   "id": "41dd2ed1",
   "metadata": {
    "execution": {
     "iopub.execute_input": "2023-02-20T18:20:50.217655Z",
     "iopub.status.busy": "2023-02-20T18:20:50.216516Z",
     "iopub.status.idle": "2023-02-20T18:20:50.224385Z",
     "shell.execute_reply": "2023-02-20T18:20:50.223210Z"
    },
    "papermill": {
     "duration": 0.070377,
     "end_time": "2023-02-20T18:20:50.226825",
     "exception": false,
     "start_time": "2023-02-20T18:20:50.156448",
     "status": "completed"
    },
    "tags": []
   },
   "outputs": [
    {
     "data": {
      "text/plain": [
       "1.5751957484784673"
      ]
     },
     "execution_count": 144,
     "metadata": {},
     "output_type": "execute_result"
    }
   ],
   "source": [
    "# calculate the MAE of the model\n",
    "mae = mean_absolute_error(y_test, y_pred)\n",
    "mae"
   ]
  },
  {
   "cell_type": "code",
   "execution_count": 145,
   "id": "a912e794",
   "metadata": {
    "execution": {
     "iopub.execute_input": "2023-02-20T18:20:50.344595Z",
     "iopub.status.busy": "2023-02-20T18:20:50.343805Z",
     "iopub.status.idle": "2023-02-20T18:20:50.352330Z",
     "shell.execute_reply": "2023-02-20T18:20:50.351105Z"
    },
    "papermill": {
     "duration": 0.069823,
     "end_time": "2023-02-20T18:20:50.354464",
     "exception": false,
     "start_time": "2023-02-20T18:20:50.284641",
     "status": "completed"
    },
    "tags": []
   },
   "outputs": [
    {
     "data": {
      "text/plain": [
       "5.420550398990118"
      ]
     },
     "execution_count": 145,
     "metadata": {},
     "output_type": "execute_result"
    }
   ],
   "source": [
    "# calculate the MSE of the model\n",
    "mse = mean_squared_error(y_test, y_pred)\n",
    "mse"
   ]
  },
  {
   "cell_type": "code",
   "execution_count": 146,
   "id": "89cc2125",
   "metadata": {
    "execution": {
     "iopub.execute_input": "2023-02-20T18:20:50.472531Z",
     "iopub.status.busy": "2023-02-20T18:20:50.471809Z",
     "iopub.status.idle": "2023-02-20T18:20:50.478268Z",
     "shell.execute_reply": "2023-02-20T18:20:50.477227Z"
    },
    "papermill": {
     "duration": 0.068026,
     "end_time": "2023-02-20T18:20:50.480539",
     "exception": false,
     "start_time": "2023-02-20T18:20:50.412513",
     "status": "completed"
    },
    "tags": []
   },
   "outputs": [
    {
     "data": {
      "text/plain": [
       "2.328207550668565"
      ]
     },
     "execution_count": 146,
     "metadata": {},
     "output_type": "execute_result"
    }
   ],
   "source": [
    "# calculate the RMSE of the model\n",
    "rmse = np.sqrt(mse)\n",
    "rmse"
   ]
  },
  {
   "cell_type": "code",
   "execution_count": 147,
   "id": "4e83dd98",
   "metadata": {
    "execution": {
     "iopub.execute_input": "2023-02-20T18:20:50.598311Z",
     "iopub.status.busy": "2023-02-20T18:20:50.597902Z",
     "iopub.status.idle": "2023-02-20T18:20:50.625995Z",
     "shell.execute_reply": "2023-02-20T18:20:50.624699Z"
    },
    "papermill": {
     "duration": 0.090883,
     "end_time": "2023-02-20T18:20:50.629326",
     "exception": false,
     "start_time": "2023-02-20T18:20:50.538443",
     "status": "completed"
    },
    "tags": []
   },
   "outputs": [],
   "source": [
    "# LASSO\n",
    "L1 = linear_model.Lasso()\n",
    "L1.fit(x_train,y_train)\n",
    "y_pred1 = L1.predict(x_test)"
   ]
  },
  {
   "cell_type": "code",
   "execution_count": 148,
   "id": "3f1207f1",
   "metadata": {
    "execution": {
     "iopub.execute_input": "2023-02-20T18:20:50.794827Z",
     "iopub.status.busy": "2023-02-20T18:20:50.794286Z",
     "iopub.status.idle": "2023-02-20T18:20:50.802386Z",
     "shell.execute_reply": "2023-02-20T18:20:50.801277Z"
    },
    "papermill": {
     "duration": 0.077779,
     "end_time": "2023-02-20T18:20:50.804806",
     "exception": false,
     "start_time": "2023-02-20T18:20:50.727027",
     "status": "completed"
    },
    "tags": []
   },
   "outputs": [
    {
     "data": {
      "text/plain": [
       "0.8032059655994213"
      ]
     },
     "execution_count": 148,
     "metadata": {},
     "output_type": "execute_result"
    }
   ],
   "source": [
    "r2 = r2_score(y_test, y_pred1)\n",
    "r2 \n"
   ]
  },
  {
   "cell_type": "code",
   "execution_count": 149,
   "id": "5f6ceed7",
   "metadata": {
    "execution": {
     "iopub.execute_input": "2023-02-20T18:20:50.923286Z",
     "iopub.status.busy": "2023-02-20T18:20:50.922883Z",
     "iopub.status.idle": "2023-02-20T18:20:50.930327Z",
     "shell.execute_reply": "2023-02-20T18:20:50.929163Z"
    },
    "papermill": {
     "duration": 0.06919,
     "end_time": "2023-02-20T18:20:50.932511",
     "exception": false,
     "start_time": "2023-02-20T18:20:50.863321",
     "status": "completed"
    },
    "tags": []
   },
   "outputs": [
    {
     "data": {
      "text/plain": [
       "7.081545945327565"
      ]
     },
     "execution_count": 149,
     "metadata": {},
     "output_type": "execute_result"
    }
   ],
   "source": [
    "# calculate the MSE of the model\n",
    "mse = mean_squared_error(y_test, y_pred1)\n",
    "mse"
   ]
  },
  {
   "cell_type": "code",
   "execution_count": 150,
   "id": "14fca4b7",
   "metadata": {
    "execution": {
     "iopub.execute_input": "2023-02-20T18:20:51.052571Z",
     "iopub.status.busy": "2023-02-20T18:20:51.051474Z",
     "iopub.status.idle": "2023-02-20T18:20:51.059108Z",
     "shell.execute_reply": "2023-02-20T18:20:51.057983Z"
    },
    "papermill": {
     "duration": 0.070008,
     "end_time": "2023-02-20T18:20:51.061381",
     "exception": false,
     "start_time": "2023-02-20T18:20:50.991373",
     "status": "completed"
    },
    "tags": []
   },
   "outputs": [
    {
     "data": {
      "text/plain": [
       "2.6611174241899898"
      ]
     },
     "execution_count": 150,
     "metadata": {},
     "output_type": "execute_result"
    }
   ],
   "source": [
    "# calculate the RMSE of the model\n",
    "rmse = np.sqrt(mse)\n",
    "rmse"
   ]
  },
  {
   "cell_type": "code",
   "execution_count": 151,
   "id": "30dce349",
   "metadata": {
    "execution": {
     "iopub.execute_input": "2023-02-20T18:20:51.180807Z",
     "iopub.status.busy": "2023-02-20T18:20:51.179750Z",
     "iopub.status.idle": "2023-02-20T18:20:51.194307Z",
     "shell.execute_reply": "2023-02-20T18:20:51.192934Z"
    },
    "papermill": {
     "duration": 0.077765,
     "end_time": "2023-02-20T18:20:51.197838",
     "exception": false,
     "start_time": "2023-02-20T18:20:51.120073",
     "status": "completed"
    },
    "tags": []
   },
   "outputs": [],
   "source": [
    "# Ridge\n",
    "L2 = Ridge(alpha=1.0)\n",
    "L2.fit(x_train, y_train) \n",
    "y_pred3 = L2.predict(x_test)"
   ]
  },
  {
   "cell_type": "code",
   "execution_count": 152,
   "id": "9a5c576c",
   "metadata": {
    "execution": {
     "iopub.execute_input": "2023-02-20T18:20:51.360542Z",
     "iopub.status.busy": "2023-02-20T18:20:51.360087Z",
     "iopub.status.idle": "2023-02-20T18:20:51.368918Z",
     "shell.execute_reply": "2023-02-20T18:20:51.367759Z"
    },
    "papermill": {
     "duration": 0.078806,
     "end_time": "2023-02-20T18:20:51.371241",
     "exception": false,
     "start_time": "2023-02-20T18:20:51.292435",
     "status": "completed"
    },
    "tags": []
   },
   "outputs": [
    {
     "data": {
      "text/plain": [
       "0.8493873434940765"
      ]
     },
     "execution_count": 152,
     "metadata": {},
     "output_type": "execute_result"
    }
   ],
   "source": [
    "r2 = r2_score(y_test, y_pred3)\n",
    "r2 "
   ]
  },
  {
   "cell_type": "code",
   "execution_count": 153,
   "id": "7107b02d",
   "metadata": {
    "execution": {
     "iopub.execute_input": "2023-02-20T18:20:51.491548Z",
     "iopub.status.busy": "2023-02-20T18:20:51.490825Z",
     "iopub.status.idle": "2023-02-20T18:20:51.498606Z",
     "shell.execute_reply": "2023-02-20T18:20:51.497494Z"
    },
    "papermill": {
     "duration": 0.070504,
     "end_time": "2023-02-20T18:20:51.500897",
     "exception": false,
     "start_time": "2023-02-20T18:20:51.430393",
     "status": "completed"
    },
    "tags": []
   },
   "outputs": [
    {
     "data": {
      "text/plain": [
       "1.5750406339612182"
      ]
     },
     "execution_count": 153,
     "metadata": {},
     "output_type": "execute_result"
    }
   ],
   "source": [
    "# calculate the MAE of the model\n",
    "mae = mean_absolute_error(y_test, y_pred3)\n",
    "mae"
   ]
  },
  {
   "cell_type": "code",
   "execution_count": 154,
   "id": "ba4cf9ec",
   "metadata": {
    "execution": {
     "iopub.execute_input": "2023-02-20T18:20:51.621001Z",
     "iopub.status.busy": "2023-02-20T18:20:51.620258Z",
     "iopub.status.idle": "2023-02-20T18:20:51.628155Z",
     "shell.execute_reply": "2023-02-20T18:20:51.627134Z"
    },
    "papermill": {
     "duration": 0.070419,
     "end_time": "2023-02-20T18:20:51.630331",
     "exception": false,
     "start_time": "2023-02-20T18:20:51.559912",
     "status": "completed"
    },
    "tags": []
   },
   "outputs": [
    {
     "data": {
      "text/plain": [
       "5.419729567734293"
      ]
     },
     "execution_count": 154,
     "metadata": {},
     "output_type": "execute_result"
    }
   ],
   "source": [
    "# calculate the MSE of the model\n",
    "mse = mean_squared_error(y_test, y_pred3)\n",
    "mse"
   ]
  },
  {
   "cell_type": "code",
   "execution_count": 155,
   "id": "9e6f80aa",
   "metadata": {
    "execution": {
     "iopub.execute_input": "2023-02-20T18:20:51.751293Z",
     "iopub.status.busy": "2023-02-20T18:20:51.750453Z",
     "iopub.status.idle": "2023-02-20T18:20:51.758291Z",
     "shell.execute_reply": "2023-02-20T18:20:51.757063Z"
    },
    "papermill": {
     "duration": 0.070609,
     "end_time": "2023-02-20T18:20:51.760562",
     "exception": false,
     "start_time": "2023-02-20T18:20:51.689953",
     "status": "completed"
    },
    "tags": []
   },
   "outputs": [
    {
     "data": {
      "text/plain": [
       "2.328031264337808"
      ]
     },
     "execution_count": 155,
     "metadata": {},
     "output_type": "execute_result"
    }
   ],
   "source": [
    "# calculate the RMSE of the model\n",
    "rmse = np.sqrt(mse)\n",
    "rmse"
   ]
  },
  {
   "cell_type": "markdown",
   "id": "09d6af72",
   "metadata": {
    "papermill": {
     "duration": 0.059613,
     "end_time": "2023-02-20T18:20:51.879375",
     "exception": false,
     "start_time": "2023-02-20T18:20:51.819762",
     "status": "completed"
    },
    "tags": []
   },
   "source": [
    "Client 5: Buffalo Women & Children’s Hospital 11051\n"
   ]
  },
  {
   "cell_type": "code",
   "execution_count": 156,
   "id": "725f5bc3",
   "metadata": {
    "execution": {
     "iopub.execute_input": "2023-02-20T18:20:51.999265Z",
     "iopub.status.busy": "2023-02-20T18:20:51.998835Z",
     "iopub.status.idle": "2023-02-20T18:20:52.152223Z",
     "shell.execute_reply": "2023-02-20T18:20:52.151269Z"
    },
    "papermill": {
     "duration": 0.21623,
     "end_time": "2023-02-20T18:20:52.154725",
     "exception": false,
     "start_time": "2023-02-20T18:20:51.938495",
     "status": "completed"
    },
    "tags": []
   },
   "outputs": [],
   "source": [
    "\n",
    "Buffalo_df=df[df[\"Facility Name\"]== \"Women And Children's Hospital Of Buffalo\"]"
   ]
  },
  {
   "cell_type": "code",
   "execution_count": 157,
   "id": "61da3767",
   "metadata": {
    "execution": {
     "iopub.execute_input": "2023-02-20T18:20:52.277352Z",
     "iopub.status.busy": "2023-02-20T18:20:52.276968Z",
     "iopub.status.idle": "2023-02-20T18:20:52.299513Z",
     "shell.execute_reply": "2023-02-20T18:20:52.298589Z"
    },
    "papermill": {
     "duration": 0.086177,
     "end_time": "2023-02-20T18:20:52.302290",
     "exception": false,
     "start_time": "2023-02-20T18:20:52.216113",
     "status": "completed"
    },
    "tags": []
   },
   "outputs": [
    {
     "name": "stdout",
     "output_type": "stream",
     "text": [
      "<class 'pandas.core.frame.DataFrame'>\n",
      "Int64Index: 13020 entries, 3309 to 54603\n",
      "Data columns (total 28 columns):\n",
      " #   Column                            Non-Null Count  Dtype   \n",
      "---  ------                            --------------  -----   \n",
      " 0   Hospital County                   13020 non-null  category\n",
      " 1   Operating Certificate Number      13020 non-null  float64 \n",
      " 2   Facility Id                       13020 non-null  float64 \n",
      " 3   Facility Name                     13020 non-null  object  \n",
      " 4   Age Group                         13020 non-null  category\n",
      " 5   Zip Code - 3 digits               12941 non-null  category\n",
      " 6   Gender                            13020 non-null  category\n",
      " 7   Race                              13020 non-null  category\n",
      " 8   Ethnicity                         13020 non-null  category\n",
      " 9   Length of Stay                    13020 non-null  category\n",
      " 10  Type of Admission                 13020 non-null  category\n",
      " 11  Patient Disposition               13020 non-null  category\n",
      " 12  Discharge Year                    13020 non-null  int64   \n",
      " 13  CCS Diagnosis Code                13020 non-null  int64   \n",
      " 14  CCS Procedure Code                13020 non-null  int64   \n",
      " 15  APR DRG Code                      13020 non-null  int64   \n",
      " 16  APR MDC Code                      13020 non-null  int64   \n",
      " 17  APR Severity of Illness Code      13020 non-null  int64   \n",
      " 18  APR Risk of Mortality             13020 non-null  category\n",
      " 19  APR Medical Surgical Description  13020 non-null  category\n",
      " 20  Payment Typology 1                13020 non-null  category\n",
      " 21  Payment Typology 2                12947 non-null  category\n",
      " 22  Payment Typology 3                787 non-null    category\n",
      " 23  Birth Weight                      13020 non-null  int64   \n",
      " 24  Abortion Edit Indicator           13020 non-null  category\n",
      " 25  Emergency Department Indicator    13020 non-null  category\n",
      " 26  Total Charges                     13020 non-null  float64 \n",
      " 27  Total Costs                       13020 non-null  float64 \n",
      "dtypes: category(16), float64(4), int64(7), object(1)\n",
      "memory usage: 1.5+ MB\n"
     ]
    }
   ],
   "source": [
    "Buffalo_df.info()"
   ]
  },
  {
   "cell_type": "code",
   "execution_count": 158,
   "id": "d75570ea",
   "metadata": {
    "execution": {
     "iopub.execute_input": "2023-02-20T18:20:52.424779Z",
     "iopub.status.busy": "2023-02-20T18:20:52.424307Z",
     "iopub.status.idle": "2023-02-20T18:20:52.431116Z",
     "shell.execute_reply": "2023-02-20T18:20:52.429900Z"
    },
    "papermill": {
     "duration": 0.070136,
     "end_time": "2023-02-20T18:20:52.433407",
     "exception": false,
     "start_time": "2023-02-20T18:20:52.363271",
     "status": "completed"
    },
    "tags": []
   },
   "outputs": [],
   "source": [
    "Buffalo_df= Buffalo_df.drop(\"Facility Name\", axis=1)"
   ]
  },
  {
   "cell_type": "code",
   "execution_count": 159,
   "id": "68d37af5",
   "metadata": {
    "execution": {
     "iopub.execute_input": "2023-02-20T18:20:52.557764Z",
     "iopub.status.busy": "2023-02-20T18:20:52.557337Z",
     "iopub.status.idle": "2023-02-20T18:20:52.563451Z",
     "shell.execute_reply": "2023-02-20T18:20:52.562511Z"
    },
    "papermill": {
     "duration": 0.072515,
     "end_time": "2023-02-20T18:20:52.565452",
     "exception": false,
     "start_time": "2023-02-20T18:20:52.492937",
     "status": "completed"
    },
    "tags": []
   },
   "outputs": [],
   "source": [
    "Buffalo_df = Buffalo_df.drop([\"Payment Typology 2\",    \"Payment Typology 3\"], axis=1)\n"
   ]
  },
  {
   "cell_type": "code",
   "execution_count": 160,
   "id": "9baf94d5",
   "metadata": {
    "execution": {
     "iopub.execute_input": "2023-02-20T18:20:52.688124Z",
     "iopub.status.busy": "2023-02-20T18:20:52.686957Z",
     "iopub.status.idle": "2023-02-20T18:20:52.695629Z",
     "shell.execute_reply": "2023-02-20T18:20:52.694556Z"
    },
    "papermill": {
     "duration": 0.072979,
     "end_time": "2023-02-20T18:20:52.698264",
     "exception": false,
     "start_time": "2023-02-20T18:20:52.625285",
     "status": "completed"
    },
    "tags": []
   },
   "outputs": [],
   "source": [
    " #   simple mapping on binary features.\n",
    "Buffalo_df['Abortion Edit Indicator'] = Buffalo_df['Abortion Edit Indicator'].apply(\n",
    "     lambda x: 1 if x == 'Y' else (0 if x == 'N' else None))\n",
    "Buffalo_df['Emergency Department Indicator'] = Buffalo_df['Emergency Department Indicator'].apply(\n",
    "    lambda x: 1 if x == 'Y' else (0 if x == 'N' else None))"
   ]
  },
  {
   "cell_type": "code",
   "execution_count": 161,
   "id": "07485b45",
   "metadata": {
    "execution": {
     "iopub.execute_input": "2023-02-20T18:20:52.821570Z",
     "iopub.status.busy": "2023-02-20T18:20:52.820835Z",
     "iopub.status.idle": "2023-02-20T18:20:52.833359Z",
     "shell.execute_reply": "2023-02-20T18:20:52.832443Z"
    },
    "papermill": {
     "duration": 0.076631,
     "end_time": "2023-02-20T18:20:52.836052",
     "exception": false,
     "start_time": "2023-02-20T18:20:52.759421",
     "status": "completed"
    },
    "tags": []
   },
   "outputs": [],
   "source": [
    "Buffalo_df[\"Length of Stay\"]=pd.to_numeric(Buffalo_df[\"Length of Stay\"],errors='coerce')"
   ]
  },
  {
   "cell_type": "code",
   "execution_count": 162,
   "id": "05b15b7e",
   "metadata": {
    "execution": {
     "iopub.execute_input": "2023-02-20T18:20:52.958246Z",
     "iopub.status.busy": "2023-02-20T18:20:52.957508Z",
     "iopub.status.idle": "2023-02-20T18:20:53.013163Z",
     "shell.execute_reply": "2023-02-20T18:20:53.011959Z"
    },
    "papermill": {
     "duration": 0.119238,
     "end_time": "2023-02-20T18:20:53.015924",
     "exception": false,
     "start_time": "2023-02-20T18:20:52.896686",
     "status": "completed"
    },
    "tags": []
   },
   "outputs": [],
   "source": [
    "list=  [ \"Hospital County\",\"Age Group\"\n",
    "    ,\"Gender\",   \n",
    " \"Race\" , \n",
    "\"Ethnicity\", \n",
    "\"Gender\" , \n",
    "\"Race\" ,    \n",
    " \"Ethnicity\" ,        \n",
    " \"Type of Admission\"  ,  \n",
    "  \"Patient Disposition\",      \n",
    " \"Type of Admission\" ,  \n",
    " \"Patient Disposition\"  ,\n",
    "  \"APR Risk of Mortality\" ,   \n",
    " \"APR Medical Surgical Description\" ,\n",
    " \"Payment Typology 1\"   ,   \n",
    " \"Abortion Edit Indicator\"     ,  \n",
    " \"Emergency Department Indicator\",\n",
    "       \"Zip Code - 3 digits\"]  \n",
    "\n",
    "# Import label encoder\n",
    "from sklearn import preprocessing\n",
    "  \n",
    "# label_encoder object knows how to understand word labels.\n",
    "label_encoder = preprocessing.LabelEncoder()\n",
    "  \n",
    "# Encode labels in column 'species'.\n",
    "for col in list :\n",
    "  Buffalo_df[col]= label_encoder.fit_transform(Buffalo_df[col])"
   ]
  },
  {
   "cell_type": "code",
   "execution_count": 163,
   "id": "89a68678",
   "metadata": {
    "execution": {
     "iopub.execute_input": "2023-02-20T18:20:53.136870Z",
     "iopub.status.busy": "2023-02-20T18:20:53.136375Z",
     "iopub.status.idle": "2023-02-20T18:20:53.143718Z",
     "shell.execute_reply": "2023-02-20T18:20:53.142416Z"
    },
    "papermill": {
     "duration": 0.070696,
     "end_time": "2023-02-20T18:20:53.146227",
     "exception": false,
     "start_time": "2023-02-20T18:20:53.075531",
     "status": "completed"
    },
    "tags": []
   },
   "outputs": [],
   "source": [
    "x = Glens_df.drop([\"Length of Stay\"], axis =1)\n",
    "y = Glens_df[\"Length of Stay\"]"
   ]
  },
  {
   "cell_type": "code",
   "execution_count": 164,
   "id": "ad26f290",
   "metadata": {
    "execution": {
     "iopub.execute_input": "2023-02-20T18:20:53.268036Z",
     "iopub.status.busy": "2023-02-20T18:20:53.267586Z",
     "iopub.status.idle": "2023-02-20T18:20:53.278182Z",
     "shell.execute_reply": "2023-02-20T18:20:53.277119Z"
    },
    "papermill": {
     "duration": 0.074326,
     "end_time": "2023-02-20T18:20:53.280928",
     "exception": false,
     "start_time": "2023-02-20T18:20:53.206602",
     "status": "completed"
    },
    "tags": []
   },
   "outputs": [],
   "source": [
    "x_train, x_test, y_train, y_test = train_test_split(x, y, test_size=0.3, random_state=42)"
   ]
  },
  {
   "cell_type": "code",
   "execution_count": 165,
   "id": "62fe2213",
   "metadata": {
    "execution": {
     "iopub.execute_input": "2023-02-20T18:20:53.402593Z",
     "iopub.status.busy": "2023-02-20T18:20:53.402170Z",
     "iopub.status.idle": "2023-02-20T18:20:53.431855Z",
     "shell.execute_reply": "2023-02-20T18:20:53.430379Z"
    },
    "papermill": {
     "duration": 0.094461,
     "end_time": "2023-02-20T18:20:53.435862",
     "exception": false,
     "start_time": "2023-02-20T18:20:53.341401",
     "status": "completed"
    },
    "tags": []
   },
   "outputs": [],
   "source": [
    "# Linear Regression\n",
    "\n",
    "LR = LinearRegression()\n",
    "LR.fit(x_train, y_train)\n",
    "LR.score(x_train, y_train)\n",
    "y_pred =LR.predict(x_test)"
   ]
  },
  {
   "cell_type": "code",
   "execution_count": 166,
   "id": "a669bfd3",
   "metadata": {
    "execution": {
     "iopub.execute_input": "2023-02-20T18:20:53.601114Z",
     "iopub.status.busy": "2023-02-20T18:20:53.600647Z",
     "iopub.status.idle": "2023-02-20T18:20:53.608846Z",
     "shell.execute_reply": "2023-02-20T18:20:53.607941Z"
    },
    "papermill": {
     "duration": 0.077513,
     "end_time": "2023-02-20T18:20:53.611067",
     "exception": false,
     "start_time": "2023-02-20T18:20:53.533554",
     "status": "completed"
    },
    "tags": []
   },
   "outputs": [
    {
     "data": {
      "text/plain": [
       "0.7753107229320534"
      ]
     },
     "execution_count": 166,
     "metadata": {},
     "output_type": "execute_result"
    }
   ],
   "source": [
    "r2 = r2_score(y_test, y_pred)\n",
    "r2 \n"
   ]
  },
  {
   "cell_type": "code",
   "execution_count": 167,
   "id": "cc221481",
   "metadata": {
    "execution": {
     "iopub.execute_input": "2023-02-20T18:20:53.732667Z",
     "iopub.status.busy": "2023-02-20T18:20:53.731817Z",
     "iopub.status.idle": "2023-02-20T18:20:53.739710Z",
     "shell.execute_reply": "2023-02-20T18:20:53.738573Z"
    },
    "papermill": {
     "duration": 0.071352,
     "end_time": "2023-02-20T18:20:53.742049",
     "exception": false,
     "start_time": "2023-02-20T18:20:53.670697",
     "status": "completed"
    },
    "tags": []
   },
   "outputs": [
    {
     "data": {
      "text/plain": [
       "1.519038644423741"
      ]
     },
     "execution_count": 167,
     "metadata": {},
     "output_type": "execute_result"
    }
   ],
   "source": [
    "# calculate the MAE of the model\n",
    "mae = mean_absolute_error(y_test, y_pred)\n",
    "mae"
   ]
  },
  {
   "cell_type": "code",
   "execution_count": 168,
   "id": "80b22e7f",
   "metadata": {
    "execution": {
     "iopub.execute_input": "2023-02-20T18:20:53.864407Z",
     "iopub.status.busy": "2023-02-20T18:20:53.863957Z",
     "iopub.status.idle": "2023-02-20T18:20:53.872406Z",
     "shell.execute_reply": "2023-02-20T18:20:53.871250Z"
    },
    "papermill": {
     "duration": 0.071838,
     "end_time": "2023-02-20T18:20:53.874588",
     "exception": false,
     "start_time": "2023-02-20T18:20:53.802750",
     "status": "completed"
    },
    "tags": []
   },
   "outputs": [
    {
     "data": {
      "text/plain": [
       "8.394303923962779"
      ]
     },
     "execution_count": 168,
     "metadata": {},
     "output_type": "execute_result"
    }
   ],
   "source": [
    "# calculate the MSE of the model\n",
    "mse = mean_squared_error(y_test, y_pred)\n",
    "mse"
   ]
  },
  {
   "cell_type": "code",
   "execution_count": 169,
   "id": "7da34150",
   "metadata": {
    "execution": {
     "iopub.execute_input": "2023-02-20T18:20:53.995889Z",
     "iopub.status.busy": "2023-02-20T18:20:53.995385Z",
     "iopub.status.idle": "2023-02-20T18:20:54.001863Z",
     "shell.execute_reply": "2023-02-20T18:20:54.000969Z"
    },
    "papermill": {
     "duration": 0.069727,
     "end_time": "2023-02-20T18:20:54.004138",
     "exception": false,
     "start_time": "2023-02-20T18:20:53.934411",
     "status": "completed"
    },
    "tags": []
   },
   "outputs": [
    {
     "data": {
      "text/plain": [
       "2.8972925161196237"
      ]
     },
     "execution_count": 169,
     "metadata": {},
     "output_type": "execute_result"
    }
   ],
   "source": [
    "# calculate the RMSE of the model\n",
    "rmse = np.sqrt(mse)\n",
    "rmse"
   ]
  },
  {
   "cell_type": "code",
   "execution_count": 170,
   "id": "b5e76c38",
   "metadata": {
    "execution": {
     "iopub.execute_input": "2023-02-20T18:20:54.126158Z",
     "iopub.status.busy": "2023-02-20T18:20:54.125058Z",
     "iopub.status.idle": "2023-02-20T18:20:54.229000Z",
     "shell.execute_reply": "2023-02-20T18:20:54.227645Z"
    },
    "papermill": {
     "duration": 0.168316,
     "end_time": "2023-02-20T18:20:54.232549",
     "exception": false,
     "start_time": "2023-02-20T18:20:54.064233",
     "status": "completed"
    },
    "tags": []
   },
   "outputs": [],
   "source": [
    "# LASSO\n",
    "L1 = linear_model.Lasso()\n",
    "L1.fit(x_train,y_train)\n",
    "y_pred1 = L1.predict(x_test)"
   ]
  },
  {
   "cell_type": "code",
   "execution_count": 171,
   "id": "efd2729e",
   "metadata": {
    "execution": {
     "iopub.execute_input": "2023-02-20T18:20:54.405878Z",
     "iopub.status.busy": "2023-02-20T18:20:54.405451Z",
     "iopub.status.idle": "2023-02-20T18:20:54.412364Z",
     "shell.execute_reply": "2023-02-20T18:20:54.411540Z"
    },
    "papermill": {
     "duration": 0.081825,
     "end_time": "2023-02-20T18:20:54.414455",
     "exception": false,
     "start_time": "2023-02-20T18:20:54.332630",
     "status": "completed"
    },
    "tags": []
   },
   "outputs": [
    {
     "data": {
      "text/plain": [
       "0.7507020198871027"
      ]
     },
     "execution_count": 171,
     "metadata": {},
     "output_type": "execute_result"
    }
   ],
   "source": [
    "r2 = r2_score(y_test, y_pred1)\n",
    "r2 \n"
   ]
  },
  {
   "cell_type": "code",
   "execution_count": 172,
   "id": "129b3f9f",
   "metadata": {
    "execution": {
     "iopub.execute_input": "2023-02-20T18:20:54.539254Z",
     "iopub.status.busy": "2023-02-20T18:20:54.538416Z",
     "iopub.status.idle": "2023-02-20T18:20:54.546114Z",
     "shell.execute_reply": "2023-02-20T18:20:54.544941Z"
    },
    "papermill": {
     "duration": 0.071688,
     "end_time": "2023-02-20T18:20:54.548430",
     "exception": false,
     "start_time": "2023-02-20T18:20:54.476742",
     "status": "completed"
    },
    "tags": []
   },
   "outputs": [
    {
     "data": {
      "text/plain": [
       "1.5980824331021113"
      ]
     },
     "execution_count": 172,
     "metadata": {},
     "output_type": "execute_result"
    }
   ],
   "source": [
    "# calculate the MAE of the model\n",
    "mae = mean_absolute_error(y_test, y_pred1)\n",
    "mae"
   ]
  },
  {
   "cell_type": "code",
   "execution_count": 173,
   "id": "2eac433b",
   "metadata": {
    "execution": {
     "iopub.execute_input": "2023-02-20T18:20:54.674636Z",
     "iopub.status.busy": "2023-02-20T18:20:54.673850Z",
     "iopub.status.idle": "2023-02-20T18:20:54.681861Z",
     "shell.execute_reply": "2023-02-20T18:20:54.680584Z"
    },
    "papermill": {
     "duration": 0.073286,
     "end_time": "2023-02-20T18:20:54.684266",
     "exception": false,
     "start_time": "2023-02-20T18:20:54.610980",
     "status": "completed"
    },
    "tags": []
   },
   "outputs": [
    {
     "data": {
      "text/plain": [
       "9.313675490018403"
      ]
     },
     "execution_count": 173,
     "metadata": {},
     "output_type": "execute_result"
    }
   ],
   "source": [
    "# calculate the MSE of the model\n",
    "mse = mean_squared_error(y_test, y_pred1)\n",
    "mse"
   ]
  },
  {
   "cell_type": "code",
   "execution_count": 174,
   "id": "84580985",
   "metadata": {
    "execution": {
     "iopub.execute_input": "2023-02-20T18:20:54.807190Z",
     "iopub.status.busy": "2023-02-20T18:20:54.806363Z",
     "iopub.status.idle": "2023-02-20T18:20:54.814097Z",
     "shell.execute_reply": "2023-02-20T18:20:54.813016Z"
    },
    "papermill": {
     "duration": 0.071935,
     "end_time": "2023-02-20T18:20:54.816429",
     "exception": false,
     "start_time": "2023-02-20T18:20:54.744494",
     "status": "completed"
    },
    "tags": []
   },
   "outputs": [
    {
     "data": {
      "text/plain": [
       "3.0518314976450456"
      ]
     },
     "execution_count": 174,
     "metadata": {},
     "output_type": "execute_result"
    }
   ],
   "source": [
    "# calculate the RMSE of the model\n",
    "rmse = np.sqrt(mse)\n",
    "rmse"
   ]
  },
  {
   "cell_type": "code",
   "execution_count": 175,
   "id": "f3ca5c99",
   "metadata": {
    "execution": {
     "iopub.execute_input": "2023-02-20T18:20:54.939728Z",
     "iopub.status.busy": "2023-02-20T18:20:54.939266Z",
     "iopub.status.idle": "2023-02-20T18:20:54.953430Z",
     "shell.execute_reply": "2023-02-20T18:20:54.952184Z"
    },
    "papermill": {
     "duration": 0.080046,
     "end_time": "2023-02-20T18:20:54.957042",
     "exception": false,
     "start_time": "2023-02-20T18:20:54.876996",
     "status": "completed"
    },
    "tags": []
   },
   "outputs": [],
   "source": [
    "# Ridge\n",
    "L2 = Ridge(alpha=1.0)\n",
    "L2.fit(x_train, y_train) \n",
    "y_pred3 = L2.predict(x_test)"
   ]
  },
  {
   "cell_type": "code",
   "execution_count": 176,
   "id": "51d9457b",
   "metadata": {
    "execution": {
     "iopub.execute_input": "2023-02-20T18:20:55.123903Z",
     "iopub.status.busy": "2023-02-20T18:20:55.123445Z",
     "iopub.status.idle": "2023-02-20T18:20:55.130640Z",
     "shell.execute_reply": "2023-02-20T18:20:55.129840Z"
    },
    "papermill": {
     "duration": 0.077546,
     "end_time": "2023-02-20T18:20:55.132765",
     "exception": false,
     "start_time": "2023-02-20T18:20:55.055219",
     "status": "completed"
    },
    "tags": []
   },
   "outputs": [
    {
     "data": {
      "text/plain": [
       "0.7753072003472253"
      ]
     },
     "execution_count": 176,
     "metadata": {},
     "output_type": "execute_result"
    }
   ],
   "source": [
    "r2 = r2_score(y_test, y_pred3)\n",
    "r2 "
   ]
  },
  {
   "cell_type": "code",
   "execution_count": 177,
   "id": "7785e17b",
   "metadata": {
    "execution": {
     "iopub.execute_input": "2023-02-20T18:20:55.256476Z",
     "iopub.status.busy": "2023-02-20T18:20:55.256038Z",
     "iopub.status.idle": "2023-02-20T18:20:55.263946Z",
     "shell.execute_reply": "2023-02-20T18:20:55.262604Z"
    },
    "papermill": {
     "duration": 0.073269,
     "end_time": "2023-02-20T18:20:55.266423",
     "exception": false,
     "start_time": "2023-02-20T18:20:55.193154",
     "status": "completed"
    },
    "tags": []
   },
   "outputs": [
    {
     "data": {
      "text/plain": [
       "1.5188909684172016"
      ]
     },
     "execution_count": 177,
     "metadata": {},
     "output_type": "execute_result"
    }
   ],
   "source": [
    "# calculate the MAE of the model\n",
    "mae = mean_absolute_error(y_test, y_pred3)\n",
    "mae"
   ]
  },
  {
   "cell_type": "code",
   "execution_count": 178,
   "id": "bec46ef1",
   "metadata": {
    "execution": {
     "iopub.execute_input": "2023-02-20T18:20:55.392057Z",
     "iopub.status.busy": "2023-02-20T18:20:55.391622Z",
     "iopub.status.idle": "2023-02-20T18:20:55.399285Z",
     "shell.execute_reply": "2023-02-20T18:20:55.398360Z"
    },
    "papermill": {
     "duration": 0.072712,
     "end_time": "2023-02-20T18:20:55.401479",
     "exception": false,
     "start_time": "2023-02-20T18:20:55.328767",
     "status": "completed"
    },
    "tags": []
   },
   "outputs": [
    {
     "data": {
      "text/plain": [
       "8.394435526360677"
      ]
     },
     "execution_count": 178,
     "metadata": {},
     "output_type": "execute_result"
    }
   ],
   "source": [
    "# calculate the MSE of the model\n",
    "mse = mean_squared_error(y_test, y_pred3)\n",
    "mse"
   ]
  },
  {
   "cell_type": "code",
   "execution_count": 179,
   "id": "4fd9880a",
   "metadata": {
    "execution": {
     "iopub.execute_input": "2023-02-20T18:20:55.526259Z",
     "iopub.status.busy": "2023-02-20T18:20:55.525049Z",
     "iopub.status.idle": "2023-02-20T18:20:55.532870Z",
     "shell.execute_reply": "2023-02-20T18:20:55.531793Z"
    },
    "papermill": {
     "duration": 0.07254,
     "end_time": "2023-02-20T18:20:55.535045",
     "exception": false,
     "start_time": "2023-02-20T18:20:55.462505",
     "status": "completed"
    },
    "tags": []
   },
   "outputs": [
    {
     "data": {
      "text/plain": [
       "2.8973152273028004"
      ]
     },
     "execution_count": 179,
     "metadata": {},
     "output_type": "execute_result"
    }
   ],
   "source": [
    "# calculate the RMSE of the model\n",
    "rmse = np.sqrt(mse)\n",
    "rmse"
   ]
  },
  {
   "cell_type": "markdown",
   "id": "82f61b64",
   "metadata": {
    "papermill": {
     "duration": 0.063177,
     "end_time": "2023-02-20T18:20:55.661979",
     "exception": false,
     "start_time": "2023-02-20T18:20:55.598802",
     "status": "completed"
    },
    "tags": []
   },
   "source": [
    "clint 1: Albany"
   ]
  },
  {
   "cell_type": "code",
   "execution_count": 180,
   "id": "272c42a2",
   "metadata": {
    "execution": {
     "iopub.execute_input": "2023-02-20T18:20:55.787048Z",
     "iopub.status.busy": "2023-02-20T18:20:55.786591Z",
     "iopub.status.idle": "2023-02-20T18:20:55.946702Z",
     "shell.execute_reply": "2023-02-20T18:20:55.945298Z"
    },
    "papermill": {
     "duration": 0.226295,
     "end_time": "2023-02-20T18:20:55.949747",
     "exception": false,
     "start_time": "2023-02-20T18:20:55.723452",
     "status": "completed"
    },
    "tags": []
   },
   "outputs": [],
   "source": [
    "Albany_df=df[df[\"Facility Name\"]== 'Albany Medical Center Hospital']\n"
   ]
  },
  {
   "cell_type": "code",
   "execution_count": 181,
   "id": "eff614a9",
   "metadata": {
    "execution": {
     "iopub.execute_input": "2023-02-20T18:20:56.075998Z",
     "iopub.status.busy": "2023-02-20T18:20:56.075575Z",
     "iopub.status.idle": "2023-02-20T18:20:56.126314Z",
     "shell.execute_reply": "2023-02-20T18:20:56.125232Z"
    },
    "papermill": {
     "duration": 0.117838,
     "end_time": "2023-02-20T18:20:56.128921",
     "exception": false,
     "start_time": "2023-02-20T18:20:56.011083",
     "status": "completed"
    },
    "tags": []
   },
   "outputs": [
    {
     "data": {
      "text/html": [
       "<div>\n",
       "<style scoped>\n",
       "    .dataframe tbody tr th:only-of-type {\n",
       "        vertical-align: middle;\n",
       "    }\n",
       "\n",
       "    .dataframe tbody tr th {\n",
       "        vertical-align: top;\n",
       "    }\n",
       "\n",
       "    .dataframe thead th {\n",
       "        text-align: right;\n",
       "    }\n",
       "</style>\n",
       "<table border=\"1\" class=\"dataframe\">\n",
       "  <thead>\n",
       "    <tr style=\"text-align: right;\">\n",
       "      <th></th>\n",
       "      <th>Hospital County</th>\n",
       "      <th>Operating Certificate Number</th>\n",
       "      <th>Facility Id</th>\n",
       "      <th>Facility Name</th>\n",
       "      <th>Age Group</th>\n",
       "      <th>Zip Code - 3 digits</th>\n",
       "      <th>Gender</th>\n",
       "      <th>Race</th>\n",
       "      <th>Ethnicity</th>\n",
       "      <th>Length of Stay</th>\n",
       "      <th>...</th>\n",
       "      <th>APR Risk of Mortality</th>\n",
       "      <th>APR Medical Surgical Description</th>\n",
       "      <th>Payment Typology 1</th>\n",
       "      <th>Payment Typology 2</th>\n",
       "      <th>Payment Typology 3</th>\n",
       "      <th>Birth Weight</th>\n",
       "      <th>Abortion Edit Indicator</th>\n",
       "      <th>Emergency Department Indicator</th>\n",
       "      <th>Total Charges</th>\n",
       "      <th>Total Costs</th>\n",
       "    </tr>\n",
       "  </thead>\n",
       "  <tbody>\n",
       "    <tr>\n",
       "      <th>490252</th>\n",
       "      <td>Albany</td>\n",
       "      <td>101000.0</td>\n",
       "      <td>1.0</td>\n",
       "      <td>Albany Medical Center Hospital</td>\n",
       "      <td>0 to 17</td>\n",
       "      <td>120</td>\n",
       "      <td>F</td>\n",
       "      <td>White</td>\n",
       "      <td>Not Span/Hispanic</td>\n",
       "      <td>1</td>\n",
       "      <td>...</td>\n",
       "      <td>Minor</td>\n",
       "      <td>Medical</td>\n",
       "      <td>Medicaid</td>\n",
       "      <td>NaN</td>\n",
       "      <td>NaN</td>\n",
       "      <td>0</td>\n",
       "      <td>N</td>\n",
       "      <td>Y</td>\n",
       "      <td>10397.13</td>\n",
       "      <td>3610.96</td>\n",
       "    </tr>\n",
       "    <tr>\n",
       "      <th>491806</th>\n",
       "      <td>Albany</td>\n",
       "      <td>101000.0</td>\n",
       "      <td>1.0</td>\n",
       "      <td>Albany Medical Center Hospital</td>\n",
       "      <td>0 to 17</td>\n",
       "      <td>120</td>\n",
       "      <td>F</td>\n",
       "      <td>White</td>\n",
       "      <td>Not Span/Hispanic</td>\n",
       "      <td>1</td>\n",
       "      <td>...</td>\n",
       "      <td>Minor</td>\n",
       "      <td>Medical</td>\n",
       "      <td>Medicaid</td>\n",
       "      <td>NaN</td>\n",
       "      <td>NaN</td>\n",
       "      <td>0</td>\n",
       "      <td>N</td>\n",
       "      <td>Y</td>\n",
       "      <td>9976.77</td>\n",
       "      <td>2263.12</td>\n",
       "    </tr>\n",
       "    <tr>\n",
       "      <th>492215</th>\n",
       "      <td>Albany</td>\n",
       "      <td>101000.0</td>\n",
       "      <td>1.0</td>\n",
       "      <td>Albany Medical Center Hospital</td>\n",
       "      <td>0 to 17</td>\n",
       "      <td>122</td>\n",
       "      <td>F</td>\n",
       "      <td>Black/African American</td>\n",
       "      <td>Not Span/Hispanic</td>\n",
       "      <td>1</td>\n",
       "      <td>...</td>\n",
       "      <td>Minor</td>\n",
       "      <td>Medical</td>\n",
       "      <td>Medicaid</td>\n",
       "      <td>NaN</td>\n",
       "      <td>NaN</td>\n",
       "      <td>0</td>\n",
       "      <td>N</td>\n",
       "      <td>Y</td>\n",
       "      <td>6042.14</td>\n",
       "      <td>1968.23</td>\n",
       "    </tr>\n",
       "    <tr>\n",
       "      <th>492519</th>\n",
       "      <td>Albany</td>\n",
       "      <td>101000.0</td>\n",
       "      <td>1.0</td>\n",
       "      <td>Albany Medical Center Hospital</td>\n",
       "      <td>50 to 69</td>\n",
       "      <td>120</td>\n",
       "      <td>F</td>\n",
       "      <td>White</td>\n",
       "      <td>Not Span/Hispanic</td>\n",
       "      <td>1</td>\n",
       "      <td>...</td>\n",
       "      <td>Minor</td>\n",
       "      <td>Medical</td>\n",
       "      <td>Medicaid</td>\n",
       "      <td>NaN</td>\n",
       "      <td>NaN</td>\n",
       "      <td>0</td>\n",
       "      <td>N</td>\n",
       "      <td>Y</td>\n",
       "      <td>17876.70</td>\n",
       "      <td>4662.19</td>\n",
       "    </tr>\n",
       "    <tr>\n",
       "      <th>493215</th>\n",
       "      <td>Albany</td>\n",
       "      <td>101000.0</td>\n",
       "      <td>1.0</td>\n",
       "      <td>Albany Medical Center Hospital</td>\n",
       "      <td>0 to 17</td>\n",
       "      <td>124</td>\n",
       "      <td>M</td>\n",
       "      <td>Other Race</td>\n",
       "      <td>Unknown</td>\n",
       "      <td>1</td>\n",
       "      <td>...</td>\n",
       "      <td>Minor</td>\n",
       "      <td>Medical</td>\n",
       "      <td>Private Health Insurance</td>\n",
       "      <td>NaN</td>\n",
       "      <td>NaN</td>\n",
       "      <td>0</td>\n",
       "      <td>N</td>\n",
       "      <td>N</td>\n",
       "      <td>9919.29</td>\n",
       "      <td>3418.02</td>\n",
       "    </tr>\n",
       "    <tr>\n",
       "      <th>...</th>\n",
       "      <td>...</td>\n",
       "      <td>...</td>\n",
       "      <td>...</td>\n",
       "      <td>...</td>\n",
       "      <td>...</td>\n",
       "      <td>...</td>\n",
       "      <td>...</td>\n",
       "      <td>...</td>\n",
       "      <td>...</td>\n",
       "      <td>...</td>\n",
       "      <td>...</td>\n",
       "      <td>...</td>\n",
       "      <td>...</td>\n",
       "      <td>...</td>\n",
       "      <td>...</td>\n",
       "      <td>...</td>\n",
       "      <td>...</td>\n",
       "      <td>...</td>\n",
       "      <td>...</td>\n",
       "      <td>...</td>\n",
       "      <td>...</td>\n",
       "    </tr>\n",
       "    <tr>\n",
       "      <th>536364</th>\n",
       "      <td>Albany</td>\n",
       "      <td>101000.0</td>\n",
       "      <td>1.0</td>\n",
       "      <td>Albany Medical Center Hospital</td>\n",
       "      <td>18 to 29</td>\n",
       "      <td>121</td>\n",
       "      <td>M</td>\n",
       "      <td>White</td>\n",
       "      <td>Not Span/Hispanic</td>\n",
       "      <td>1</td>\n",
       "      <td>...</td>\n",
       "      <td>Minor</td>\n",
       "      <td>Surgical</td>\n",
       "      <td>Blue Cross/Blue Shield</td>\n",
       "      <td>NaN</td>\n",
       "      <td>NaN</td>\n",
       "      <td>0</td>\n",
       "      <td>N</td>\n",
       "      <td>Y</td>\n",
       "      <td>16726.52</td>\n",
       "      <td>5145.79</td>\n",
       "    </tr>\n",
       "    <tr>\n",
       "      <th>536365</th>\n",
       "      <td>Albany</td>\n",
       "      <td>101000.0</td>\n",
       "      <td>1.0</td>\n",
       "      <td>Albany Medical Center Hospital</td>\n",
       "      <td>0 to 17</td>\n",
       "      <td>121</td>\n",
       "      <td>F</td>\n",
       "      <td>Other Race</td>\n",
       "      <td>Unknown</td>\n",
       "      <td>2</td>\n",
       "      <td>...</td>\n",
       "      <td>Minor</td>\n",
       "      <td>Medical</td>\n",
       "      <td>Medicaid</td>\n",
       "      <td>NaN</td>\n",
       "      <td>NaN</td>\n",
       "      <td>4700</td>\n",
       "      <td>N</td>\n",
       "      <td>N</td>\n",
       "      <td>3829.74</td>\n",
       "      <td>947.76</td>\n",
       "    </tr>\n",
       "    <tr>\n",
       "      <th>536366</th>\n",
       "      <td>Albany</td>\n",
       "      <td>101000.0</td>\n",
       "      <td>1.0</td>\n",
       "      <td>Albany Medical Center Hospital</td>\n",
       "      <td>0 to 17</td>\n",
       "      <td>124</td>\n",
       "      <td>M</td>\n",
       "      <td>Other Race</td>\n",
       "      <td>Unknown</td>\n",
       "      <td>3</td>\n",
       "      <td>...</td>\n",
       "      <td>Minor</td>\n",
       "      <td>Medical</td>\n",
       "      <td>Medicaid</td>\n",
       "      <td>NaN</td>\n",
       "      <td>NaN</td>\n",
       "      <td>3200</td>\n",
       "      <td>N</td>\n",
       "      <td>N</td>\n",
       "      <td>7209.25</td>\n",
       "      <td>1661.29</td>\n",
       "    </tr>\n",
       "    <tr>\n",
       "      <th>536367</th>\n",
       "      <td>Albany</td>\n",
       "      <td>101000.0</td>\n",
       "      <td>1.0</td>\n",
       "      <td>Albany Medical Center Hospital</td>\n",
       "      <td>0 to 17</td>\n",
       "      <td>120</td>\n",
       "      <td>F</td>\n",
       "      <td>Other Race</td>\n",
       "      <td>Unknown</td>\n",
       "      <td>83</td>\n",
       "      <td>...</td>\n",
       "      <td>Moderate</td>\n",
       "      <td>Medical</td>\n",
       "      <td>Medicaid</td>\n",
       "      <td>NaN</td>\n",
       "      <td>NaN</td>\n",
       "      <td>900</td>\n",
       "      <td>N</td>\n",
       "      <td>N</td>\n",
       "      <td>665166.90</td>\n",
       "      <td>165272.09</td>\n",
       "    </tr>\n",
       "    <tr>\n",
       "      <th>536368</th>\n",
       "      <td>Albany</td>\n",
       "      <td>101000.0</td>\n",
       "      <td>1.0</td>\n",
       "      <td>Albany Medical Center Hospital</td>\n",
       "      <td>0 to 17</td>\n",
       "      <td>120</td>\n",
       "      <td>M</td>\n",
       "      <td>Other Race</td>\n",
       "      <td>Unknown</td>\n",
       "      <td>2</td>\n",
       "      <td>...</td>\n",
       "      <td>Minor</td>\n",
       "      <td>Medical</td>\n",
       "      <td>Managed Care, Unspecified</td>\n",
       "      <td>NaN</td>\n",
       "      <td>NaN</td>\n",
       "      <td>3500</td>\n",
       "      <td>N</td>\n",
       "      <td>N</td>\n",
       "      <td>4728.77</td>\n",
       "      <td>1135.90</td>\n",
       "    </tr>\n",
       "  </tbody>\n",
       "</table>\n",
       "<p>36281 rows × 28 columns</p>\n",
       "</div>"
      ],
      "text/plain": [
       "       Hospital County  Operating Certificate Number  Facility Id  \\\n",
       "490252          Albany                      101000.0          1.0   \n",
       "491806          Albany                      101000.0          1.0   \n",
       "492215          Albany                      101000.0          1.0   \n",
       "492519          Albany                      101000.0          1.0   \n",
       "493215          Albany                      101000.0          1.0   \n",
       "...                ...                           ...          ...   \n",
       "536364          Albany                      101000.0          1.0   \n",
       "536365          Albany                      101000.0          1.0   \n",
       "536366          Albany                      101000.0          1.0   \n",
       "536367          Albany                      101000.0          1.0   \n",
       "536368          Albany                      101000.0          1.0   \n",
       "\n",
       "                         Facility Name Age Group Zip Code - 3 digits Gender  \\\n",
       "490252  Albany Medical Center Hospital   0 to 17                 120      F   \n",
       "491806  Albany Medical Center Hospital   0 to 17                 120      F   \n",
       "492215  Albany Medical Center Hospital   0 to 17                 122      F   \n",
       "492519  Albany Medical Center Hospital  50 to 69                 120      F   \n",
       "493215  Albany Medical Center Hospital   0 to 17                 124      M   \n",
       "...                                ...       ...                 ...    ...   \n",
       "536364  Albany Medical Center Hospital  18 to 29                 121      M   \n",
       "536365  Albany Medical Center Hospital   0 to 17                 121      F   \n",
       "536366  Albany Medical Center Hospital   0 to 17                 124      M   \n",
       "536367  Albany Medical Center Hospital   0 to 17                 120      F   \n",
       "536368  Albany Medical Center Hospital   0 to 17                 120      M   \n",
       "\n",
       "                          Race          Ethnicity Length of Stay  ...  \\\n",
       "490252                   White  Not Span/Hispanic              1  ...   \n",
       "491806                   White  Not Span/Hispanic              1  ...   \n",
       "492215  Black/African American  Not Span/Hispanic              1  ...   \n",
       "492519                   White  Not Span/Hispanic              1  ...   \n",
       "493215              Other Race            Unknown              1  ...   \n",
       "...                        ...                ...            ...  ...   \n",
       "536364                   White  Not Span/Hispanic              1  ...   \n",
       "536365              Other Race            Unknown              2  ...   \n",
       "536366              Other Race            Unknown              3  ...   \n",
       "536367              Other Race            Unknown             83  ...   \n",
       "536368              Other Race            Unknown              2  ...   \n",
       "\n",
       "       APR Risk of Mortality APR Medical Surgical Description  \\\n",
       "490252                 Minor                          Medical   \n",
       "491806                 Minor                          Medical   \n",
       "492215                 Minor                          Medical   \n",
       "492519                 Minor                          Medical   \n",
       "493215                 Minor                          Medical   \n",
       "...                      ...                              ...   \n",
       "536364                 Minor                         Surgical   \n",
       "536365                 Minor                          Medical   \n",
       "536366                 Minor                          Medical   \n",
       "536367              Moderate                          Medical   \n",
       "536368                 Minor                          Medical   \n",
       "\n",
       "               Payment Typology 1  Payment Typology 2  Payment Typology 3  \\\n",
       "490252                   Medicaid                 NaN                 NaN   \n",
       "491806                   Medicaid                 NaN                 NaN   \n",
       "492215                   Medicaid                 NaN                 NaN   \n",
       "492519                   Medicaid                 NaN                 NaN   \n",
       "493215   Private Health Insurance                 NaN                 NaN   \n",
       "...                           ...                 ...                 ...   \n",
       "536364     Blue Cross/Blue Shield                 NaN                 NaN   \n",
       "536365                   Medicaid                 NaN                 NaN   \n",
       "536366                   Medicaid                 NaN                 NaN   \n",
       "536367                   Medicaid                 NaN                 NaN   \n",
       "536368  Managed Care, Unspecified                 NaN                 NaN   \n",
       "\n",
       "        Birth Weight  Abortion Edit Indicator  Emergency Department Indicator  \\\n",
       "490252             0                        N                               Y   \n",
       "491806             0                        N                               Y   \n",
       "492215             0                        N                               Y   \n",
       "492519             0                        N                               Y   \n",
       "493215             0                        N                               N   \n",
       "...              ...                      ...                             ...   \n",
       "536364             0                        N                               Y   \n",
       "536365          4700                        N                               N   \n",
       "536366          3200                        N                               N   \n",
       "536367           900                        N                               N   \n",
       "536368          3500                        N                               N   \n",
       "\n",
       "       Total Charges Total Costs  \n",
       "490252      10397.13     3610.96  \n",
       "491806       9976.77     2263.12  \n",
       "492215       6042.14     1968.23  \n",
       "492519      17876.70     4662.19  \n",
       "493215       9919.29     3418.02  \n",
       "...              ...         ...  \n",
       "536364      16726.52     5145.79  \n",
       "536365       3829.74      947.76  \n",
       "536366       7209.25     1661.29  \n",
       "536367     665166.90   165272.09  \n",
       "536368       4728.77     1135.90  \n",
       "\n",
       "[36281 rows x 28 columns]"
      ]
     },
     "execution_count": 181,
     "metadata": {},
     "output_type": "execute_result"
    }
   ],
   "source": [
    "Albany_df"
   ]
  },
  {
   "cell_type": "code",
   "execution_count": 182,
   "id": "3ae6f4e6",
   "metadata": {
    "execution": {
     "iopub.execute_input": "2023-02-20T18:20:56.313556Z",
     "iopub.status.busy": "2023-02-20T18:20:56.313142Z",
     "iopub.status.idle": "2023-02-20T18:20:56.338866Z",
     "shell.execute_reply": "2023-02-20T18:20:56.337428Z"
    },
    "papermill": {
     "duration": 0.151141,
     "end_time": "2023-02-20T18:20:56.341715",
     "exception": false,
     "start_time": "2023-02-20T18:20:56.190574",
     "status": "completed"
    },
    "tags": []
   },
   "outputs": [
    {
     "name": "stdout",
     "output_type": "stream",
     "text": [
      "<class 'pandas.core.frame.DataFrame'>\n",
      "Int64Index: 36281 entries, 490252 to 536368\n",
      "Data columns (total 28 columns):\n",
      " #   Column                            Non-Null Count  Dtype   \n",
      "---  ------                            --------------  -----   \n",
      " 0   Hospital County                   36281 non-null  category\n",
      " 1   Operating Certificate Number      36281 non-null  float64 \n",
      " 2   Facility Id                       36281 non-null  float64 \n",
      " 3   Facility Name                     36281 non-null  object  \n",
      " 4   Age Group                         36281 non-null  category\n",
      " 5   Zip Code - 3 digits               35772 non-null  category\n",
      " 6   Gender                            36281 non-null  category\n",
      " 7   Race                              36281 non-null  category\n",
      " 8   Ethnicity                         36281 non-null  category\n",
      " 9   Length of Stay                    36281 non-null  category\n",
      " 10  Type of Admission                 36281 non-null  category\n",
      " 11  Patient Disposition               36281 non-null  category\n",
      " 12  Discharge Year                    36281 non-null  int64   \n",
      " 13  CCS Diagnosis Code                36281 non-null  int64   \n",
      " 14  CCS Procedure Code                36281 non-null  int64   \n",
      " 15  APR DRG Code                      36281 non-null  int64   \n",
      " 16  APR MDC Code                      36281 non-null  int64   \n",
      " 17  APR Severity of Illness Code      36281 non-null  int64   \n",
      " 18  APR Risk of Mortality             36280 non-null  category\n",
      " 19  APR Medical Surgical Description  36281 non-null  category\n",
      " 20  Payment Typology 1                36281 non-null  category\n",
      " 21  Payment Typology 2                11617 non-null  category\n",
      " 22  Payment Typology 3                8960 non-null   category\n",
      " 23  Birth Weight                      36281 non-null  int64   \n",
      " 24  Abortion Edit Indicator           36281 non-null  category\n",
      " 25  Emergency Department Indicator    36281 non-null  category\n",
      " 26  Total Charges                     36281 non-null  float64 \n",
      " 27  Total Costs                       36281 non-null  float64 \n",
      "dtypes: category(16), float64(4), int64(7), object(1)\n",
      "memory usage: 4.2+ MB\n"
     ]
    }
   ],
   "source": [
    "Albany_df.info()"
   ]
  },
  {
   "cell_type": "code",
   "execution_count": 183,
   "id": "635920fc",
   "metadata": {
    "execution": {
     "iopub.execute_input": "2023-02-20T18:20:56.467543Z",
     "iopub.status.busy": "2023-02-20T18:20:56.467095Z",
     "iopub.status.idle": "2023-02-20T18:20:56.476797Z",
     "shell.execute_reply": "2023-02-20T18:20:56.475459Z"
    },
    "papermill": {
     "duration": 0.076544,
     "end_time": "2023-02-20T18:20:56.479823",
     "exception": false,
     "start_time": "2023-02-20T18:20:56.403279",
     "status": "completed"
    },
    "tags": []
   },
   "outputs": [
    {
     "name": "stderr",
     "output_type": "stream",
     "text": [
      "/opt/conda/lib/python3.7/site-packages/ipykernel_launcher.py:3: SettingWithCopyWarning: \n",
      "A value is trying to be set on a copy of a slice from a DataFrame.\n",
      "Try using .loc[row_indexer,col_indexer] = value instead\n",
      "\n",
      "See the caveats in the documentation: https://pandas.pydata.org/pandas-docs/stable/user_guide/indexing.html#returning-a-view-versus-a-copy\n",
      "  This is separate from the ipykernel package so we can avoid doing imports until\n",
      "/opt/conda/lib/python3.7/site-packages/ipykernel_launcher.py:5: SettingWithCopyWarning: \n",
      "A value is trying to be set on a copy of a slice from a DataFrame.\n",
      "Try using .loc[row_indexer,col_indexer] = value instead\n",
      "\n",
      "See the caveats in the documentation: https://pandas.pydata.org/pandas-docs/stable/user_guide/indexing.html#returning-a-view-versus-a-copy\n",
      "  \"\"\"\n"
     ]
    }
   ],
   "source": [
    " #   simple mapping on binary features.\n",
    "Albany_df['Abortion Edit Indicator'] = Albany_df['Abortion Edit Indicator'].apply(\n",
    "     lambda x: 1 if x == 'Y' else (0 if x == 'N' else None))\n",
    "Albany_df['Emergency Department Indicator'] = Albany_df['Emergency Department Indicator'].apply(\n",
    "    lambda x: 1 if x == 'Y' else (0 if x == 'N' else None))"
   ]
  },
  {
   "cell_type": "code",
   "execution_count": 184,
   "id": "4a06debd",
   "metadata": {
    "execution": {
     "iopub.execute_input": "2023-02-20T18:20:56.611140Z",
     "iopub.status.busy": "2023-02-20T18:20:56.610697Z",
     "iopub.status.idle": "2023-02-20T18:20:56.766863Z",
     "shell.execute_reply": "2023-02-20T18:20:56.765733Z"
    },
    "papermill": {
     "duration": 0.225542,
     "end_time": "2023-02-20T18:20:56.769726",
     "exception": false,
     "start_time": "2023-02-20T18:20:56.544184",
     "status": "completed"
    },
    "tags": []
   },
   "outputs": [
    {
     "name": "stderr",
     "output_type": "stream",
     "text": [
      "/opt/conda/lib/python3.7/site-packages/ipykernel_launcher.py:29: SettingWithCopyWarning: \n",
      "A value is trying to be set on a copy of a slice from a DataFrame.\n",
      "Try using .loc[row_indexer,col_indexer] = value instead\n",
      "\n",
      "See the caveats in the documentation: https://pandas.pydata.org/pandas-docs/stable/user_guide/indexing.html#returning-a-view-versus-a-copy\n"
     ]
    }
   ],
   "source": [
    "list=  [ \"Hospital County\",\"Age Group\"\n",
    "    ,\"Gender\",   \n",
    " \"Race\" , \n",
    "\"Ethnicity\", \n",
    "\"Gender\" , \n",
    "\"Race\" ,    \n",
    " \"Ethnicity\" ,        \n",
    " \"Type of Admission\"  ,  \n",
    "  \"Patient Disposition\",      \n",
    " \"Type of Admission\" ,  \n",
    " \"Patient Disposition\"  ,\n",
    "  \"APR Risk of Mortality\" ,   \n",
    " \"APR Medical Surgical Description\" ,\n",
    " \"Payment Typology 1\"   ,   \n",
    " \"Abortion Edit Indicator\"     ,  \n",
    " \"Emergency Department Indicator\",\n",
    "       \"Zip Code - 3 digits\",\"Payment Typology 2\"        \n",
    "   ,\"Payment Typology 3\"]  \n",
    "\n",
    "# Import label encoder\n",
    "from sklearn import preprocessing\n",
    "  \n",
    "# label_encoder object knows how to understand word labels.        \n",
    "   \n",
    "label_encoder = preprocessing.LabelEncoder()\n",
    "  \n",
    "# Encode labels in column 'species'. \n",
    "for col in list :\n",
    " Albany_df[col]= label_encoder.fit_transform(Albany_df[col])\n"
   ]
  },
  {
   "cell_type": "code",
   "execution_count": 185,
   "id": "46c54c0b",
   "metadata": {
    "execution": {
     "iopub.execute_input": "2023-02-20T18:20:56.897563Z",
     "iopub.status.busy": "2023-02-20T18:20:56.897161Z",
     "iopub.status.idle": "2023-02-20T18:20:56.907672Z",
     "shell.execute_reply": "2023-02-20T18:20:56.906660Z"
    },
    "papermill": {
     "duration": 0.079097,
     "end_time": "2023-02-20T18:20:56.910395",
     "exception": false,
     "start_time": "2023-02-20T18:20:56.831298",
     "status": "completed"
    },
    "tags": []
   },
   "outputs": [],
   "source": [
    "Albany_df=Albany_df.drop(\"Facility Name\", axis=1)"
   ]
  },
  {
   "cell_type": "code",
   "execution_count": 186,
   "id": "210eeb38",
   "metadata": {
    "execution": {
     "iopub.execute_input": "2023-02-20T18:20:57.037888Z",
     "iopub.status.busy": "2023-02-20T18:20:57.036702Z",
     "iopub.status.idle": "2023-02-20T18:20:57.053749Z",
     "shell.execute_reply": "2023-02-20T18:20:57.052669Z"
    },
    "papermill": {
     "duration": 0.083657,
     "end_time": "2023-02-20T18:20:57.056320",
     "exception": false,
     "start_time": "2023-02-20T18:20:56.972663",
     "status": "completed"
    },
    "tags": []
   },
   "outputs": [
    {
     "name": "stdout",
     "output_type": "stream",
     "text": [
      "<class 'pandas.core.frame.DataFrame'>\n",
      "Int64Index: 36281 entries, 490252 to 536368\n",
      "Data columns (total 27 columns):\n",
      " #   Column                            Non-Null Count  Dtype   \n",
      "---  ------                            --------------  -----   \n",
      " 0   Hospital County                   36281 non-null  int64   \n",
      " 1   Operating Certificate Number      36281 non-null  float64 \n",
      " 2   Facility Id                       36281 non-null  float64 \n",
      " 3   Age Group                         36281 non-null  int64   \n",
      " 4   Zip Code - 3 digits               36281 non-null  int64   \n",
      " 5   Gender                            36281 non-null  int64   \n",
      " 6   Race                              36281 non-null  int64   \n",
      " 7   Ethnicity                         36281 non-null  int64   \n",
      " 8   Length of Stay                    36281 non-null  category\n",
      " 9   Type of Admission                 36281 non-null  int64   \n",
      " 10  Patient Disposition               36281 non-null  int64   \n",
      " 11  Discharge Year                    36281 non-null  int64   \n",
      " 12  CCS Diagnosis Code                36281 non-null  int64   \n",
      " 13  CCS Procedure Code                36281 non-null  int64   \n",
      " 14  APR DRG Code                      36281 non-null  int64   \n",
      " 15  APR MDC Code                      36281 non-null  int64   \n",
      " 16  APR Severity of Illness Code      36281 non-null  int64   \n",
      " 17  APR Risk of Mortality             36281 non-null  int64   \n",
      " 18  APR Medical Surgical Description  36281 non-null  int64   \n",
      " 19  Payment Typology 1                36281 non-null  int64   \n",
      " 20  Payment Typology 2                36281 non-null  int64   \n",
      " 21  Payment Typology 3                36281 non-null  int64   \n",
      " 22  Birth Weight                      36281 non-null  int64   \n",
      " 23  Abortion Edit Indicator           36281 non-null  int64   \n",
      " 24  Emergency Department Indicator    36281 non-null  int64   \n",
      " 25  Total Charges                     36281 non-null  float64 \n",
      " 26  Total Costs                       36281 non-null  float64 \n",
      "dtypes: category(1), float64(4), int64(22)\n",
      "memory usage: 7.6 MB\n"
     ]
    }
   ],
   "source": [
    "Albany_df.info()"
   ]
  },
  {
   "cell_type": "code",
   "execution_count": 187,
   "id": "40b1805c",
   "metadata": {
    "execution": {
     "iopub.execute_input": "2023-02-20T18:20:57.185940Z",
     "iopub.status.busy": "2023-02-20T18:20:57.185449Z",
     "iopub.status.idle": "2023-02-20T18:20:57.210099Z",
     "shell.execute_reply": "2023-02-20T18:20:57.209131Z"
    },
    "papermill": {
     "duration": 0.093366,
     "end_time": "2023-02-20T18:20:57.212724",
     "exception": false,
     "start_time": "2023-02-20T18:20:57.119358",
     "status": "completed"
    },
    "tags": []
   },
   "outputs": [],
   "source": [
    "Albany_df[\"Length of Stay\"]=pd.to_numeric(Albany_df[\"Length of Stay\"],errors='coerce')\n"
   ]
  },
  {
   "cell_type": "code",
   "execution_count": 188,
   "id": "cdbefe4e",
   "metadata": {
    "execution": {
     "iopub.execute_input": "2023-02-20T18:20:57.342404Z",
     "iopub.status.busy": "2023-02-20T18:20:57.341998Z",
     "iopub.status.idle": "2023-02-20T18:20:57.356289Z",
     "shell.execute_reply": "2023-02-20T18:20:57.354863Z"
    },
    "papermill": {
     "duration": 0.083092,
     "end_time": "2023-02-20T18:20:57.359182",
     "exception": false,
     "start_time": "2023-02-20T18:20:57.276090",
     "status": "completed"
    },
    "tags": []
   },
   "outputs": [],
   "source": [
    "Albany_df.dropna(inplace=True)"
   ]
  },
  {
   "cell_type": "code",
   "execution_count": 189,
   "id": "6b03b521",
   "metadata": {
    "execution": {
     "iopub.execute_input": "2023-02-20T18:20:57.487678Z",
     "iopub.status.busy": "2023-02-20T18:20:57.487216Z",
     "iopub.status.idle": "2023-02-20T18:20:57.495003Z",
     "shell.execute_reply": "2023-02-20T18:20:57.493981Z"
    },
    "papermill": {
     "duration": 0.075126,
     "end_time": "2023-02-20T18:20:57.497176",
     "exception": false,
     "start_time": "2023-02-20T18:20:57.422050",
     "status": "completed"
    },
    "tags": []
   },
   "outputs": [],
   "source": [
    "x = Albany_df.drop([\"Length of Stay\"], axis =1)\n",
    "y = Albany_df[\"Length of Stay\"]"
   ]
  },
  {
   "cell_type": "code",
   "execution_count": 190,
   "id": "f4fafcdc",
   "metadata": {
    "execution": {
     "iopub.execute_input": "2023-02-20T18:20:57.622958Z",
     "iopub.status.busy": "2023-02-20T18:20:57.622537Z",
     "iopub.status.idle": "2023-02-20T18:20:57.638575Z",
     "shell.execute_reply": "2023-02-20T18:20:57.637317Z"
    },
    "papermill": {
     "duration": 0.082017,
     "end_time": "2023-02-20T18:20:57.641058",
     "exception": false,
     "start_time": "2023-02-20T18:20:57.559041",
     "status": "completed"
    },
    "tags": []
   },
   "outputs": [],
   "source": [
    "from sklearn.model_selection import train_test_split\n",
    "x_train, x_test, y_train, y_test = train_test_split(x, y, test_size=0.3, random_state=42)"
   ]
  },
  {
   "cell_type": "code",
   "execution_count": 191,
   "id": "3d79a579",
   "metadata": {
    "execution": {
     "iopub.execute_input": "2023-02-20T18:20:57.768836Z",
     "iopub.status.busy": "2023-02-20T18:20:57.768249Z",
     "iopub.status.idle": "2023-02-20T18:20:57.801056Z",
     "shell.execute_reply": "2023-02-20T18:20:57.799827Z"
    },
    "papermill": {
     "duration": 0.100976,
     "end_time": "2023-02-20T18:20:57.804810",
     "exception": false,
     "start_time": "2023-02-20T18:20:57.703834",
     "status": "completed"
    },
    "tags": []
   },
   "outputs": [],
   "source": [
    "# Linear Regression\n",
    "\n",
    "LR = LinearRegression()\n",
    "LR.fit(x_train, y_train)\n",
    "LR.score(x_train, y_train)\n",
    "y_pred =LR.predict(x_test)\n"
   ]
  },
  {
   "cell_type": "code",
   "execution_count": 192,
   "id": "b230c564",
   "metadata": {
    "execution": {
     "iopub.execute_input": "2023-02-20T18:20:57.975921Z",
     "iopub.status.busy": "2023-02-20T18:20:57.975429Z",
     "iopub.status.idle": "2023-02-20T18:20:57.983642Z",
     "shell.execute_reply": "2023-02-20T18:20:57.982342Z"
    },
    "papermill": {
     "duration": 0.079531,
     "end_time": "2023-02-20T18:20:57.986055",
     "exception": false,
     "start_time": "2023-02-20T18:20:57.906524",
     "status": "completed"
    },
    "tags": []
   },
   "outputs": [
    {
     "data": {
      "text/plain": [
       "0.7478105920657923"
      ]
     },
     "execution_count": 192,
     "metadata": {},
     "output_type": "execute_result"
    }
   ],
   "source": [
    "r2 = r2_score(y_test, y_pred)\n",
    "r2 "
   ]
  },
  {
   "cell_type": "code",
   "execution_count": 193,
   "id": "e5d6e8cb",
   "metadata": {
    "execution": {
     "iopub.execute_input": "2023-02-20T18:20:58.112031Z",
     "iopub.status.busy": "2023-02-20T18:20:58.111574Z",
     "iopub.status.idle": "2023-02-20T18:20:58.120178Z",
     "shell.execute_reply": "2023-02-20T18:20:58.119084Z"
    },
    "papermill": {
     "duration": 0.074076,
     "end_time": "2023-02-20T18:20:58.122502",
     "exception": false,
     "start_time": "2023-02-20T18:20:58.048426",
     "status": "completed"
    },
    "tags": []
   },
   "outputs": [
    {
     "data": {
      "text/plain": [
       "2.3205026865513774"
      ]
     },
     "execution_count": 193,
     "metadata": {},
     "output_type": "execute_result"
    }
   ],
   "source": [
    "# calculate the MAE of the model\n",
    "mae = mean_absolute_error(y_test, y_pred)\n",
    "mae"
   ]
  },
  {
   "cell_type": "code",
   "execution_count": 194,
   "id": "6317622d",
   "metadata": {
    "execution": {
     "iopub.execute_input": "2023-02-20T18:20:58.267888Z",
     "iopub.status.busy": "2023-02-20T18:20:58.266832Z",
     "iopub.status.idle": "2023-02-20T18:20:58.274525Z",
     "shell.execute_reply": "2023-02-20T18:20:58.273304Z"
    },
    "papermill": {
     "duration": 0.08523,
     "end_time": "2023-02-20T18:20:58.276985",
     "exception": false,
     "start_time": "2023-02-20T18:20:58.191755",
     "status": "completed"
    },
    "tags": []
   },
   "outputs": [
    {
     "data": {
      "text/plain": [
       "16.946608108006014"
      ]
     },
     "execution_count": 194,
     "metadata": {},
     "output_type": "execute_result"
    }
   ],
   "source": [
    "# calculate the MSE of the model\n",
    "mse = mean_squared_error(y_test, y_pred)\n",
    "mse"
   ]
  },
  {
   "cell_type": "code",
   "execution_count": 195,
   "id": "dbc62200",
   "metadata": {
    "execution": {
     "iopub.execute_input": "2023-02-20T18:20:58.405439Z",
     "iopub.status.busy": "2023-02-20T18:20:58.405048Z",
     "iopub.status.idle": "2023-02-20T18:20:58.412354Z",
     "shell.execute_reply": "2023-02-20T18:20:58.411052Z"
    },
    "papermill": {
     "duration": 0.073711,
     "end_time": "2023-02-20T18:20:58.414841",
     "exception": false,
     "start_time": "2023-02-20T18:20:58.341130",
     "status": "completed"
    },
    "tags": []
   },
   "outputs": [
    {
     "data": {
      "text/plain": [
       "4.116625815884413"
      ]
     },
     "execution_count": 195,
     "metadata": {},
     "output_type": "execute_result"
    }
   ],
   "source": [
    "# calculate the RMSE of the model\n",
    "rmse = np.sqrt(mse)\n",
    "rmse"
   ]
  },
  {
   "cell_type": "code",
   "execution_count": 196,
   "id": "0a591e7b",
   "metadata": {
    "execution": {
     "iopub.execute_input": "2023-02-20T18:20:58.542750Z",
     "iopub.status.busy": "2023-02-20T18:20:58.542298Z",
     "iopub.status.idle": "2023-02-20T18:20:58.629998Z",
     "shell.execute_reply": "2023-02-20T18:20:58.628709Z"
    },
    "papermill": {
     "duration": 0.156424,
     "end_time": "2023-02-20T18:20:58.633524",
     "exception": false,
     "start_time": "2023-02-20T18:20:58.477100",
     "status": "completed"
    },
    "tags": []
   },
   "outputs": [],
   "source": [
    "# LASSO\n",
    "L1 = linear_model.Lasso()\n",
    "L1.fit(x_train,y_train)\n",
    "y_pred1 = L1.predict(x_test)"
   ]
  },
  {
   "cell_type": "code",
   "execution_count": 197,
   "id": "afee163e",
   "metadata": {
    "execution": {
     "iopub.execute_input": "2023-02-20T18:20:58.805348Z",
     "iopub.status.busy": "2023-02-20T18:20:58.804943Z",
     "iopub.status.idle": "2023-02-20T18:20:58.812313Z",
     "shell.execute_reply": "2023-02-20T18:20:58.811436Z"
    },
    "papermill": {
     "duration": 0.078411,
     "end_time": "2023-02-20T18:20:58.814415",
     "exception": false,
     "start_time": "2023-02-20T18:20:58.736004",
     "status": "completed"
    },
    "tags": []
   },
   "outputs": [
    {
     "data": {
      "text/plain": [
       "0.730292669976124"
      ]
     },
     "execution_count": 197,
     "metadata": {},
     "output_type": "execute_result"
    }
   ],
   "source": [
    "r2 = r2_score(y_test, y_pred1)\n",
    "r2 \n"
   ]
  },
  {
   "cell_type": "code",
   "execution_count": 198,
   "id": "3df7cb47",
   "metadata": {
    "execution": {
     "iopub.execute_input": "2023-02-20T18:20:58.942087Z",
     "iopub.status.busy": "2023-02-20T18:20:58.941653Z",
     "iopub.status.idle": "2023-02-20T18:20:58.949577Z",
     "shell.execute_reply": "2023-02-20T18:20:58.948441Z"
    },
    "papermill": {
     "duration": 0.0744,
     "end_time": "2023-02-20T18:20:58.951884",
     "exception": false,
     "start_time": "2023-02-20T18:20:58.877484",
     "status": "completed"
    },
    "tags": []
   },
   "outputs": [
    {
     "data": {
      "text/plain": [
       "2.380819108363997"
      ]
     },
     "execution_count": 198,
     "metadata": {},
     "output_type": "execute_result"
    }
   ],
   "source": [
    "# calculate the MAE of the model\n",
    "mae = mean_absolute_error(y_test, y_pred1)\n",
    "mae"
   ]
  },
  {
   "cell_type": "code",
   "execution_count": 199,
   "id": "80a4c759",
   "metadata": {
    "execution": {
     "iopub.execute_input": "2023-02-20T18:20:59.079768Z",
     "iopub.status.busy": "2023-02-20T18:20:59.079082Z",
     "iopub.status.idle": "2023-02-20T18:20:59.086938Z",
     "shell.execute_reply": "2023-02-20T18:20:59.085853Z"
    },
    "papermill": {
     "duration": 0.07507,
     "end_time": "2023-02-20T18:20:59.089386",
     "exception": false,
     "start_time": "2023-02-20T18:20:59.014316",
     "status": "completed"
    },
    "tags": []
   },
   "outputs": [
    {
     "data": {
      "text/plain": [
       "18.123776344182055"
      ]
     },
     "execution_count": 199,
     "metadata": {},
     "output_type": "execute_result"
    }
   ],
   "source": [
    "# calculate the MSE of the model\n",
    "mse = mean_squared_error(y_test, y_pred1)\n",
    "mse"
   ]
  },
  {
   "cell_type": "code",
   "execution_count": 200,
   "id": "f993067c",
   "metadata": {
    "execution": {
     "iopub.execute_input": "2023-02-20T18:20:59.220602Z",
     "iopub.status.busy": "2023-02-20T18:20:59.220197Z",
     "iopub.status.idle": "2023-02-20T18:20:59.226852Z",
     "shell.execute_reply": "2023-02-20T18:20:59.225994Z"
    },
    "papermill": {
     "duration": 0.077021,
     "end_time": "2023-02-20T18:20:59.228964",
     "exception": false,
     "start_time": "2023-02-20T18:20:59.151943",
     "status": "completed"
    },
    "tags": []
   },
   "outputs": [
    {
     "data": {
      "text/plain": [
       "4.257202877968356"
      ]
     },
     "execution_count": 200,
     "metadata": {},
     "output_type": "execute_result"
    }
   ],
   "source": [
    "# calculate the RMSE of the model\n",
    "rmse = np.sqrt(mse)\n",
    "rmse"
   ]
  },
  {
   "cell_type": "code",
   "execution_count": 201,
   "id": "ac5c4fa5",
   "metadata": {
    "execution": {
     "iopub.execute_input": "2023-02-20T18:20:59.361949Z",
     "iopub.status.busy": "2023-02-20T18:20:59.361253Z",
     "iopub.status.idle": "2023-02-20T18:20:59.381240Z",
     "shell.execute_reply": "2023-02-20T18:20:59.379701Z"
    },
    "papermill": {
     "duration": 0.090599,
     "end_time": "2023-02-20T18:20:59.385019",
     "exception": false,
     "start_time": "2023-02-20T18:20:59.294420",
     "status": "completed"
    },
    "tags": []
   },
   "outputs": [],
   "source": [
    "# Ridge\n",
    "L2 = Ridge(alpha=1.0)\n",
    "L2.fit(x_train, y_train) \n",
    "y_pred3 = L2.predict(x_test)"
   ]
  },
  {
   "cell_type": "code",
   "execution_count": 202,
   "id": "4625659d",
   "metadata": {
    "execution": {
     "iopub.execute_input": "2023-02-20T18:20:59.556518Z",
     "iopub.status.busy": "2023-02-20T18:20:59.556081Z",
     "iopub.status.idle": "2023-02-20T18:20:59.565005Z",
     "shell.execute_reply": "2023-02-20T18:20:59.563810Z"
    },
    "papermill": {
     "duration": 0.0813,
     "end_time": "2023-02-20T18:20:59.567178",
     "exception": false,
     "start_time": "2023-02-20T18:20:59.485878",
     "status": "completed"
    },
    "tags": []
   },
   "outputs": [
    {
     "data": {
      "text/plain": [
       "0.7478105537618742"
      ]
     },
     "execution_count": 202,
     "metadata": {},
     "output_type": "execute_result"
    }
   ],
   "source": [
    "r2 = r2_score(y_test, y_pred3)\n",
    "r2 "
   ]
  },
  {
   "cell_type": "code",
   "execution_count": 203,
   "id": "c286944b",
   "metadata": {
    "execution": {
     "iopub.execute_input": "2023-02-20T18:20:59.696046Z",
     "iopub.status.busy": "2023-02-20T18:20:59.695100Z",
     "iopub.status.idle": "2023-02-20T18:20:59.702586Z",
     "shell.execute_reply": "2023-02-20T18:20:59.701451Z"
    },
    "papermill": {
     "duration": 0.074271,
     "end_time": "2023-02-20T18:20:59.704989",
     "exception": false,
     "start_time": "2023-02-20T18:20:59.630718",
     "status": "completed"
    },
    "tags": []
   },
   "outputs": [
    {
     "data": {
      "text/plain": [
       "2.3204943412883794"
      ]
     },
     "execution_count": 203,
     "metadata": {},
     "output_type": "execute_result"
    }
   ],
   "source": [
    "# calculate the MAE of the model\n",
    "mae = mean_absolute_error(y_test, y_pred3)\n",
    "mae"
   ]
  },
  {
   "cell_type": "code",
   "execution_count": 204,
   "id": "96d50368",
   "metadata": {
    "execution": {
     "iopub.execute_input": "2023-02-20T18:20:59.835730Z",
     "iopub.status.busy": "2023-02-20T18:20:59.834971Z",
     "iopub.status.idle": "2023-02-20T18:20:59.841978Z",
     "shell.execute_reply": "2023-02-20T18:20:59.841133Z"
    },
    "papermill": {
     "duration": 0.074884,
     "end_time": "2023-02-20T18:20:59.844045",
     "exception": false,
     "start_time": "2023-02-20T18:20:59.769161",
     "status": "completed"
    },
    "tags": []
   },
   "outputs": [
    {
     "data": {
      "text/plain": [
       "16.946610681950318"
      ]
     },
     "execution_count": 204,
     "metadata": {},
     "output_type": "execute_result"
    }
   ],
   "source": [
    "# calculate the MSE of the model\n",
    "mse = mean_squared_error(y_test, y_pred3)\n",
    "mse"
   ]
  },
  {
   "cell_type": "code",
   "execution_count": 205,
   "id": "1dd5748f",
   "metadata": {
    "execution": {
     "iopub.execute_input": "2023-02-20T18:20:59.973982Z",
     "iopub.status.busy": "2023-02-20T18:20:59.973261Z",
     "iopub.status.idle": "2023-02-20T18:20:59.979501Z",
     "shell.execute_reply": "2023-02-20T18:20:59.978690Z"
    },
    "papermill": {
     "duration": 0.073511,
     "end_time": "2023-02-20T18:20:59.981720",
     "exception": false,
     "start_time": "2023-02-20T18:20:59.908209",
     "status": "completed"
    },
    "tags": []
   },
   "outputs": [
    {
     "data": {
      "text/plain": [
       "4.116626128512318"
      ]
     },
     "execution_count": 205,
     "metadata": {},
     "output_type": "execute_result"
    }
   ],
   "source": [
    "# calculate the RMSE of the model\n",
    "rmse = np.sqrt(mse)\n",
    "rmse"
   ]
  }
 ],
 "metadata": {
  "kernelspec": {
   "display_name": "Python 3",
   "language": "python",
   "name": "python3"
  },
  "language_info": {
   "codemirror_mode": {
    "name": "ipython",
    "version": 3
   },
   "file_extension": ".py",
   "mimetype": "text/x-python",
   "name": "python",
   "nbconvert_exporter": "python",
   "pygments_lexer": "ipython3",
   "version": "3.7.12"
  },
  "papermill": {
   "default_parameters": {},
   "duration": 90.329895,
   "end_time": "2023-02-20T18:21:01.068903",
   "environment_variables": {},
   "exception": null,
   "input_path": "__notebook__.ipynb",
   "output_path": "__notebook__.ipynb",
   "parameters": {},
   "start_time": "2023-02-20T18:19:30.739008",
   "version": "2.3.4"
  }
 },
 "nbformat": 4,
 "nbformat_minor": 5
}
