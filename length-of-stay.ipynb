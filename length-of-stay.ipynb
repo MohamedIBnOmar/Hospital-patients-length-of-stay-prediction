{
 "cells": [
  {
   "cell_type": "code",
   "execution_count": 1,
   "id": "e3da2ec3",
   "metadata": {
    "_cell_guid": "b1076dfc-b9ad-4769-8c92-a6c4dae69d19",
    "_uuid": "8f2839f25d086af736a60e9eeb907d3b93b6e0e5",
    "execution": {
     "iopub.execute_input": "2023-02-20T18:46:29.886476Z",
     "iopub.status.busy": "2023-02-20T18:46:29.885708Z",
     "iopub.status.idle": "2023-02-20T18:46:29.903337Z",
     "shell.execute_reply": "2023-02-20T18:46:29.902457Z"
    },
    "papermill": {
     "duration": 0.069284,
     "end_time": "2023-02-20T18:46:29.906193",
     "exception": false,
     "start_time": "2023-02-20T18:46:29.836909",
     "status": "completed"
    },
    "tags": []
   },
   "outputs": [
    {
     "name": "stdout",
     "output_type": "stream",
     "text": [
      "/kaggle/input/length-of-stay-prediction/Hospital_Inpatient_Discharges__SPARCS_De-Identified___2015.csv\n"
     ]
    }
   ],
   "source": [
    "# This Python 3 environment comes with many helpful analytics libraries installed\n",
    "# It is defined by the kaggle/python Docker image: https://github.com/kaggle/docker-python\n",
    "# For example, here's several helpful packages to load\n",
    "\n",
    "import numpy as np # linear algebra\n",
    "import pandas as pd # data processing, CSV file I/O (e.g. pd.read_csv)\n",
    "\n",
    "# Input data files are available in the read-only \"../input/\" directory\n",
    "# For example, running this (by clicking run or pressing Shift+Enter) will list all files under the input directory\n",
    "\n",
    "import os\n",
    "for dirname, _, filenames in os.walk('/kaggle/input'):\n",
    "    for filename in filenames:\n",
    "        print(os.path.join(dirname, filename))\n",
    "\n",
    "# You can write up to 20GB to the current directory (/kaggle/working/) that gets preserved as output when you create a version using \"Save & Run All\" \n",
    "# You can also write temporary files to /kaggle/temp/, but they won't be saved outside of the current session"
   ]
  },
  {
   "cell_type": "code",
   "execution_count": 2,
   "id": "54dbf132",
   "metadata": {
    "execution": {
     "iopub.execute_input": "2023-02-20T18:46:29.996953Z",
     "iopub.status.busy": "2023-02-20T18:46:29.996500Z",
     "iopub.status.idle": "2023-02-20T18:46:52.728285Z",
     "shell.execute_reply": "2023-02-20T18:46:52.727040Z"
    },
    "papermill": {
     "duration": 22.779248,
     "end_time": "2023-02-20T18:46:52.730663",
     "exception": false,
     "start_time": "2023-02-20T18:46:29.951415",
     "status": "completed"
    },
    "tags": []
   },
   "outputs": [
    {
     "name": "stderr",
     "output_type": "stream",
     "text": [
      "/opt/conda/lib/python3.7/site-packages/IPython/core/interactiveshell.py:3552: DtypeWarning: Columns (10) have mixed types.Specify dtype option on import or set low_memory=False.\n",
      "  exec(code_obj, self.user_global_ns, self.user_ns)\n"
     ]
    }
   ],
   "source": [
    "df=pd.read_csv(\"/kaggle/input/length-of-stay-prediction/Hospital_Inpatient_Discharges__SPARCS_De-Identified___2015.csv\")"
   ]
  },
  {
   "cell_type": "code",
   "execution_count": 3,
   "id": "2cd2ce31",
   "metadata": {
    "execution": {
     "iopub.execute_input": "2023-02-20T18:46:52.822575Z",
     "iopub.status.busy": "2023-02-20T18:46:52.822245Z",
     "iopub.status.idle": "2023-02-20T18:46:52.954541Z",
     "shell.execute_reply": "2023-02-20T18:46:52.953593Z"
    },
    "papermill": {
     "duration": 0.181412,
     "end_time": "2023-02-20T18:46:52.957061",
     "exception": false,
     "start_time": "2023-02-20T18:46:52.775649",
     "status": "completed"
    },
    "tags": []
   },
   "outputs": [
    {
     "data": {
      "text/plain": [
       "Mount Sinai Hospital                                              55874\n",
       "North Shore University Hospital                                   47664\n",
       "New York Presbyterian Hospital - Columbia Presbyterian Center     47495\n",
       "New York Presbyterian Hospital - New York Weill Cornell Center    43148\n",
       "Montefiore Medical Center - Henry & Lucy Moses Div                42694\n",
       "                                                                  ...  \n",
       "Cuba Memorial Hospital Inc                                           61\n",
       "Catskill Regional Medical Center - G. Hermann Site                   50\n",
       "Monroe Community Hospital                                            24\n",
       "Westfield Memorial Hospital Inc                                      11\n",
       "Albany Medical Center - South Clinical Campus                         7\n",
       "Name: Facility Name, Length: 224, dtype: int64"
      ]
     },
     "execution_count": 3,
     "metadata": {},
     "output_type": "execute_result"
    }
   ],
   "source": [
    "df[\"Facility Name\"].value_counts()"
   ]
  },
  {
   "cell_type": "code",
   "execution_count": 4,
   "id": "4aa8464b",
   "metadata": {
    "execution": {
     "iopub.execute_input": "2023-02-20T18:46:53.049884Z",
     "iopub.status.busy": "2023-02-20T18:46:53.049269Z",
     "iopub.status.idle": "2023-02-20T18:46:53.082794Z",
     "shell.execute_reply": "2023-02-20T18:46:53.081720Z"
    },
    "papermill": {
     "duration": 0.082325,
     "end_time": "2023-02-20T18:46:53.084725",
     "exception": false,
     "start_time": "2023-02-20T18:46:53.002400",
     "status": "completed"
    },
    "tags": []
   },
   "outputs": [
    {
     "data": {
      "text/html": [
       "<div>\n",
       "<style scoped>\n",
       "    .dataframe tbody tr th:only-of-type {\n",
       "        vertical-align: middle;\n",
       "    }\n",
       "\n",
       "    .dataframe tbody tr th {\n",
       "        vertical-align: top;\n",
       "    }\n",
       "\n",
       "    .dataframe thead th {\n",
       "        text-align: right;\n",
       "    }\n",
       "</style>\n",
       "<table border=\"1\" class=\"dataframe\">\n",
       "  <thead>\n",
       "    <tr style=\"text-align: right;\">\n",
       "      <th></th>\n",
       "      <th>Health Service Area</th>\n",
       "      <th>Hospital County</th>\n",
       "      <th>Operating Certificate Number</th>\n",
       "      <th>Facility Id</th>\n",
       "      <th>Facility Name</th>\n",
       "      <th>Age Group</th>\n",
       "      <th>Zip Code - 3 digits</th>\n",
       "      <th>Gender</th>\n",
       "      <th>Race</th>\n",
       "      <th>Ethnicity</th>\n",
       "      <th>...</th>\n",
       "      <th>APR Risk of Mortality</th>\n",
       "      <th>APR Medical Surgical Description</th>\n",
       "      <th>Payment Typology 1</th>\n",
       "      <th>Payment Typology 2</th>\n",
       "      <th>Payment Typology 3</th>\n",
       "      <th>Birth Weight</th>\n",
       "      <th>Abortion Edit Indicator</th>\n",
       "      <th>Emergency Department Indicator</th>\n",
       "      <th>Total Charges</th>\n",
       "      <th>Total Costs</th>\n",
       "    </tr>\n",
       "  </thead>\n",
       "  <tbody>\n",
       "    <tr>\n",
       "      <th>0</th>\n",
       "      <td>Western NY</td>\n",
       "      <td>Allegany</td>\n",
       "      <td>226700.0</td>\n",
       "      <td>37.0</td>\n",
       "      <td>Cuba Memorial Hospital Inc</td>\n",
       "      <td>70 or Older</td>\n",
       "      <td>147</td>\n",
       "      <td>F</td>\n",
       "      <td>White</td>\n",
       "      <td>Not Span/Hispanic</td>\n",
       "      <td>...</td>\n",
       "      <td>Minor</td>\n",
       "      <td>Medical</td>\n",
       "      <td>Medicare</td>\n",
       "      <td>Private Health Insurance</td>\n",
       "      <td>NaN</td>\n",
       "      <td>0</td>\n",
       "      <td>N</td>\n",
       "      <td>Y</td>\n",
       "      <td>5333.90</td>\n",
       "      <td>4818.42</td>\n",
       "    </tr>\n",
       "    <tr>\n",
       "      <th>1</th>\n",
       "      <td>Western NY</td>\n",
       "      <td>Allegany</td>\n",
       "      <td>226700.0</td>\n",
       "      <td>37.0</td>\n",
       "      <td>Cuba Memorial Hospital Inc</td>\n",
       "      <td>70 or Older</td>\n",
       "      <td>147</td>\n",
       "      <td>F</td>\n",
       "      <td>White</td>\n",
       "      <td>Not Span/Hispanic</td>\n",
       "      <td>...</td>\n",
       "      <td>Moderate</td>\n",
       "      <td>Medical</td>\n",
       "      <td>Medicare</td>\n",
       "      <td>NaN</td>\n",
       "      <td>NaN</td>\n",
       "      <td>0</td>\n",
       "      <td>N</td>\n",
       "      <td>Y</td>\n",
       "      <td>4865.99</td>\n",
       "      <td>4588.78</td>\n",
       "    </tr>\n",
       "    <tr>\n",
       "      <th>2</th>\n",
       "      <td>Western NY</td>\n",
       "      <td>Allegany</td>\n",
       "      <td>226700.0</td>\n",
       "      <td>37.0</td>\n",
       "      <td>Cuba Memorial Hospital Inc</td>\n",
       "      <td>70 or Older</td>\n",
       "      <td>147</td>\n",
       "      <td>F</td>\n",
       "      <td>White</td>\n",
       "      <td>Not Span/Hispanic</td>\n",
       "      <td>...</td>\n",
       "      <td>Minor</td>\n",
       "      <td>Medical</td>\n",
       "      <td>Medicare</td>\n",
       "      <td>Private Health Insurance</td>\n",
       "      <td>NaN</td>\n",
       "      <td>0</td>\n",
       "      <td>N</td>\n",
       "      <td>Y</td>\n",
       "      <td>5901.54</td>\n",
       "      <td>5559.56</td>\n",
       "    </tr>\n",
       "    <tr>\n",
       "      <th>3</th>\n",
       "      <td>Western NY</td>\n",
       "      <td>Allegany</td>\n",
       "      <td>226700.0</td>\n",
       "      <td>37.0</td>\n",
       "      <td>Cuba Memorial Hospital Inc</td>\n",
       "      <td>50 to 69</td>\n",
       "      <td>147</td>\n",
       "      <td>F</td>\n",
       "      <td>White</td>\n",
       "      <td>Not Span/Hispanic</td>\n",
       "      <td>...</td>\n",
       "      <td>Minor</td>\n",
       "      <td>Medical</td>\n",
       "      <td>Medicare</td>\n",
       "      <td>NaN</td>\n",
       "      <td>NaN</td>\n",
       "      <td>0</td>\n",
       "      <td>N</td>\n",
       "      <td>Y</td>\n",
       "      <td>3619.08</td>\n",
       "      <td>3567.25</td>\n",
       "    </tr>\n",
       "    <tr>\n",
       "      <th>4</th>\n",
       "      <td>Western NY</td>\n",
       "      <td>Allegany</td>\n",
       "      <td>226700.0</td>\n",
       "      <td>37.0</td>\n",
       "      <td>Cuba Memorial Hospital Inc</td>\n",
       "      <td>70 or Older</td>\n",
       "      <td>147</td>\n",
       "      <td>M</td>\n",
       "      <td>White</td>\n",
       "      <td>Not Span/Hispanic</td>\n",
       "      <td>...</td>\n",
       "      <td>Moderate</td>\n",
       "      <td>Medical</td>\n",
       "      <td>Medicare</td>\n",
       "      <td>Blue Cross/Blue Shield</td>\n",
       "      <td>Private Health Insurance</td>\n",
       "      <td>0</td>\n",
       "      <td>N</td>\n",
       "      <td>Y</td>\n",
       "      <td>3185.87</td>\n",
       "      <td>3167.89</td>\n",
       "    </tr>\n",
       "  </tbody>\n",
       "</table>\n",
       "<p>5 rows × 34 columns</p>\n",
       "</div>"
      ],
      "text/plain": [
       "  Health Service Area Hospital County  Operating Certificate Number  \\\n",
       "0          Western NY        Allegany                      226700.0   \n",
       "1          Western NY        Allegany                      226700.0   \n",
       "2          Western NY        Allegany                      226700.0   \n",
       "3          Western NY        Allegany                      226700.0   \n",
       "4          Western NY        Allegany                      226700.0   \n",
       "\n",
       "   Facility Id               Facility Name    Age Group Zip Code - 3 digits  \\\n",
       "0         37.0  Cuba Memorial Hospital Inc  70 or Older                 147   \n",
       "1         37.0  Cuba Memorial Hospital Inc  70 or Older                 147   \n",
       "2         37.0  Cuba Memorial Hospital Inc  70 or Older                 147   \n",
       "3         37.0  Cuba Memorial Hospital Inc     50 to 69                 147   \n",
       "4         37.0  Cuba Memorial Hospital Inc  70 or Older                 147   \n",
       "\n",
       "  Gender   Race          Ethnicity  ... APR Risk of Mortality  \\\n",
       "0      F  White  Not Span/Hispanic  ...                 Minor   \n",
       "1      F  White  Not Span/Hispanic  ...              Moderate   \n",
       "2      F  White  Not Span/Hispanic  ...                 Minor   \n",
       "3      F  White  Not Span/Hispanic  ...                 Minor   \n",
       "4      M  White  Not Span/Hispanic  ...              Moderate   \n",
       "\n",
       "  APR Medical Surgical Description Payment Typology 1  \\\n",
       "0                          Medical           Medicare   \n",
       "1                          Medical           Medicare   \n",
       "2                          Medical           Medicare   \n",
       "3                          Medical           Medicare   \n",
       "4                          Medical           Medicare   \n",
       "\n",
       "         Payment Typology 2        Payment Typology 3 Birth Weight  \\\n",
       "0  Private Health Insurance                       NaN            0   \n",
       "1                       NaN                       NaN            0   \n",
       "2  Private Health Insurance                       NaN            0   \n",
       "3                       NaN                       NaN            0   \n",
       "4    Blue Cross/Blue Shield  Private Health Insurance            0   \n",
       "\n",
       "   Abortion Edit Indicator Emergency Department Indicator  Total Charges  \\\n",
       "0                        N                              Y        5333.90   \n",
       "1                        N                              Y        4865.99   \n",
       "2                        N                              Y        5901.54   \n",
       "3                        N                              Y        3619.08   \n",
       "4                        N                              Y        3185.87   \n",
       "\n",
       "  Total Costs  \n",
       "0     4818.42  \n",
       "1     4588.78  \n",
       "2     5559.56  \n",
       "3     3567.25  \n",
       "4     3167.89  \n",
       "\n",
       "[5 rows x 34 columns]"
      ]
     },
     "execution_count": 4,
     "metadata": {},
     "output_type": "execute_result"
    }
   ],
   "source": [
    "df.head()"
   ]
  },
  {
   "cell_type": "code",
   "execution_count": 5,
   "id": "6e6abe95",
   "metadata": {
    "execution": {
     "iopub.execute_input": "2023-02-20T18:46:53.176246Z",
     "iopub.status.busy": "2023-02-20T18:46:53.175882Z",
     "iopub.status.idle": "2023-02-20T18:46:53.193351Z",
     "shell.execute_reply": "2023-02-20T18:46:53.191582Z"
    },
    "papermill": {
     "duration": 0.065658,
     "end_time": "2023-02-20T18:46:53.195343",
     "exception": false,
     "start_time": "2023-02-20T18:46:53.129685",
     "status": "completed"
    },
    "tags": []
   },
   "outputs": [
    {
     "name": "stdout",
     "output_type": "stream",
     "text": [
      "<class 'pandas.core.frame.DataFrame'>\n",
      "RangeIndex: 2346931 entries, 0 to 2346930\n",
      "Data columns (total 34 columns):\n",
      " #   Column                               Dtype  \n",
      "---  ------                               -----  \n",
      " 0   Health Service Area                  object \n",
      " 1   Hospital County                      object \n",
      " 2   Operating Certificate Number         float64\n",
      " 3   Facility Id                          float64\n",
      " 4   Facility Name                        object \n",
      " 5   Age Group                            object \n",
      " 6   Zip Code - 3 digits                  object \n",
      " 7   Gender                               object \n",
      " 8   Race                                 object \n",
      " 9   Ethnicity                            object \n",
      " 10  Length of Stay                       object \n",
      " 11  Type of Admission                    object \n",
      " 12  Patient Disposition                  object \n",
      " 13  Discharge Year                       int64  \n",
      " 14  CCS Diagnosis Code                   int64  \n",
      " 15  CCS Diagnosis Description            object \n",
      " 16  CCS Procedure Code                   int64  \n",
      " 17  CCS Procedure Description            object \n",
      " 18  APR DRG Code                         int64  \n",
      " 19  APR DRG Description                  object \n",
      " 20  APR MDC Code                         int64  \n",
      " 21  APR MDC Description                  object \n",
      " 22  APR Severity of Illness Code         int64  \n",
      " 23  APR Severity of Illness Description  object \n",
      " 24  APR Risk of Mortality                object \n",
      " 25  APR Medical Surgical Description     object \n",
      " 26  Payment Typology 1                   object \n",
      " 27  Payment Typology 2                   object \n",
      " 28  Payment Typology 3                   object \n",
      " 29  Birth Weight                         int64  \n",
      " 30  Abortion Edit Indicator              object \n",
      " 31  Emergency Department Indicator       object \n",
      " 32  Total Charges                        float64\n",
      " 33  Total Costs                          float64\n",
      "dtypes: float64(4), int64(7), object(23)\n",
      "memory usage: 608.8+ MB\n"
     ]
    }
   ],
   "source": [
    "df.info()"
   ]
  },
  {
   "cell_type": "code",
   "execution_count": 6,
   "id": "4b193ab3",
   "metadata": {
    "execution": {
     "iopub.execute_input": "2023-02-20T18:46:53.288923Z",
     "iopub.status.busy": "2023-02-20T18:46:53.288543Z",
     "iopub.status.idle": "2023-02-20T18:47:02.020923Z",
     "shell.execute_reply": "2023-02-20T18:47:02.019779Z"
    },
    "papermill": {
     "duration": 8.782117,
     "end_time": "2023-02-20T18:47:02.023479",
     "exception": false,
     "start_time": "2023-02-20T18:46:53.241362",
     "status": "completed"
    },
    "tags": []
   },
   "outputs": [],
   "source": [
    "List =[\"Health Service Area\",\"Hospital County\",\"Age Group\",\"Zip Code - 3 digits\",\"Gender\",\"Race\",\"Ethnicity\",\"Length of Stay\",\"Type of Admission\",                    \n",
    "\"Patient Disposition\",\"CCS Diagnosis Description\",\"CCS Procedure Description\",\"APR DRG Description\",\"APR MDC Description\",\"APR Severity of Illness Description\",\"APR Risk of Mortality\",\"APR Medical Surgical Description\",\"Payment Typology 1\"                   \n",
    ",\"Payment Typology 2\",\"Payment Typology 3\",\"Abortion Edit Indicator\",\"Emergency Department Indicator\"]\n",
    "for col in List :\n",
    "    df[col] = df[col].astype('category')\n",
    "\n",
    "#\"Health Service Area\""
   ]
  },
  {
   "cell_type": "code",
   "execution_count": 7,
   "id": "94a9a56c",
   "metadata": {
    "execution": {
     "iopub.execute_input": "2023-02-20T18:47:02.117302Z",
     "iopub.status.busy": "2023-02-20T18:47:02.116453Z",
     "iopub.status.idle": "2023-02-20T18:47:02.138471Z",
     "shell.execute_reply": "2023-02-20T18:47:02.136551Z"
    },
    "papermill": {
     "duration": 0.072963,
     "end_time": "2023-02-20T18:47:02.141659",
     "exception": false,
     "start_time": "2023-02-20T18:47:02.068696",
     "status": "completed"
    },
    "tags": []
   },
   "outputs": [
    {
     "name": "stdout",
     "output_type": "stream",
     "text": [
      "<class 'pandas.core.frame.DataFrame'>\n",
      "RangeIndex: 2346931 entries, 0 to 2346930\n",
      "Data columns (total 34 columns):\n",
      " #   Column                               Dtype   \n",
      "---  ------                               -----   \n",
      " 0   Health Service Area                  category\n",
      " 1   Hospital County                      category\n",
      " 2   Operating Certificate Number         float64 \n",
      " 3   Facility Id                          float64 \n",
      " 4   Facility Name                        object  \n",
      " 5   Age Group                            category\n",
      " 6   Zip Code - 3 digits                  category\n",
      " 7   Gender                               category\n",
      " 8   Race                                 category\n",
      " 9   Ethnicity                            category\n",
      " 10  Length of Stay                       category\n",
      " 11  Type of Admission                    category\n",
      " 12  Patient Disposition                  category\n",
      " 13  Discharge Year                       int64   \n",
      " 14  CCS Diagnosis Code                   int64   \n",
      " 15  CCS Diagnosis Description            category\n",
      " 16  CCS Procedure Code                   int64   \n",
      " 17  CCS Procedure Description            category\n",
      " 18  APR DRG Code                         int64   \n",
      " 19  APR DRG Description                  category\n",
      " 20  APR MDC Code                         int64   \n",
      " 21  APR MDC Description                  category\n",
      " 22  APR Severity of Illness Code         int64   \n",
      " 23  APR Severity of Illness Description  category\n",
      " 24  APR Risk of Mortality                category\n",
      " 25  APR Medical Surgical Description     category\n",
      " 26  Payment Typology 1                   category\n",
      " 27  Payment Typology 2                   category\n",
      " 28  Payment Typology 3                   category\n",
      " 29  Birth Weight                         int64   \n",
      " 30  Abortion Edit Indicator              category\n",
      " 31  Emergency Department Indicator       category\n",
      " 32  Total Charges                        float64 \n",
      " 33  Total Costs                          float64 \n",
      "dtypes: category(22), float64(4), int64(7), object(1)\n",
      "memory usage: 273.1+ MB\n"
     ]
    }
   ],
   "source": [
    "df.info()"
   ]
  },
  {
   "cell_type": "code",
   "execution_count": 8,
   "id": "72569f20",
   "metadata": {
    "execution": {
     "iopub.execute_input": "2023-02-20T18:47:02.237096Z",
     "iopub.status.busy": "2023-02-20T18:47:02.235875Z",
     "iopub.status.idle": "2023-02-20T18:47:02.306427Z",
     "shell.execute_reply": "2023-02-20T18:47:02.305376Z"
    },
    "papermill": {
     "duration": 0.120808,
     "end_time": "2023-02-20T18:47:02.308737",
     "exception": false,
     "start_time": "2023-02-20T18:47:02.187929",
     "status": "completed"
    },
    "tags": []
   },
   "outputs": [],
   "source": [
    "col=[\"Health Service Area\"\n",
    " ,\n",
    " \"CCS Diagnosis Description\",\n",
    " \"CCS Procedure Description\",\n",
    "\"APR DRG Description\",\n",
    "\"APR MDC Description\",\n",
    "\"APR Severity of Illness Description\"]\n",
    "df = df.drop(col, axis=1)"
   ]
  },
  {
   "cell_type": "code",
   "execution_count": 9,
   "id": "6f99dd95",
   "metadata": {
    "execution": {
     "iopub.execute_input": "2023-02-20T18:47:02.401569Z",
     "iopub.status.busy": "2023-02-20T18:47:02.401020Z",
     "iopub.status.idle": "2023-02-20T18:47:02.413902Z",
     "shell.execute_reply": "2023-02-20T18:47:02.412502Z"
    },
    "papermill": {
     "duration": 0.062057,
     "end_time": "2023-02-20T18:47:02.415940",
     "exception": false,
     "start_time": "2023-02-20T18:47:02.353883",
     "status": "completed"
    },
    "tags": []
   },
   "outputs": [
    {
     "name": "stdout",
     "output_type": "stream",
     "text": [
      "<class 'pandas.core.frame.DataFrame'>\n",
      "RangeIndex: 2346931 entries, 0 to 2346930\n",
      "Data columns (total 28 columns):\n",
      " #   Column                            Dtype   \n",
      "---  ------                            -----   \n",
      " 0   Hospital County                   category\n",
      " 1   Operating Certificate Number      float64 \n",
      " 2   Facility Id                       float64 \n",
      " 3   Facility Name                     object  \n",
      " 4   Age Group                         category\n",
      " 5   Zip Code - 3 digits               category\n",
      " 6   Gender                            category\n",
      " 7   Race                              category\n",
      " 8   Ethnicity                         category\n",
      " 9   Length of Stay                    category\n",
      " 10  Type of Admission                 category\n",
      " 11  Patient Disposition               category\n",
      " 12  Discharge Year                    int64   \n",
      " 13  CCS Diagnosis Code                int64   \n",
      " 14  CCS Procedure Code                int64   \n",
      " 15  APR DRG Code                      int64   \n",
      " 16  APR MDC Code                      int64   \n",
      " 17  APR Severity of Illness Code      int64   \n",
      " 18  APR Risk of Mortality             category\n",
      " 19  APR Medical Surgical Description  category\n",
      " 20  Payment Typology 1                category\n",
      " 21  Payment Typology 2                category\n",
      " 22  Payment Typology 3                category\n",
      " 23  Birth Weight                      int64   \n",
      " 24  Abortion Edit Indicator           category\n",
      " 25  Emergency Department Indicator    category\n",
      " 26  Total Charges                     float64 \n",
      " 27  Total Costs                       float64 \n",
      "dtypes: category(16), float64(4), int64(7), object(1)\n",
      "memory usage: 252.9+ MB\n"
     ]
    }
   ],
   "source": [
    "df.info()"
   ]
  },
  {
   "cell_type": "markdown",
   "id": "6c9dcef5",
   "metadata": {
    "papermill": {
     "duration": 0.046065,
     "end_time": "2023-02-20T18:47:02.507953",
     "exception": false,
     "start_time": "2023-02-20T18:47:02.461888",
     "status": "completed"
    },
    "tags": []
   },
   "source": [
    "Client 6 : Glens Falls Hospital"
   ]
  },
  {
   "cell_type": "code",
   "execution_count": 10,
   "id": "6c33db1a",
   "metadata": {
    "execution": {
     "iopub.execute_input": "2023-02-20T18:47:02.603255Z",
     "iopub.status.busy": "2023-02-20T18:47:02.601528Z",
     "iopub.status.idle": "2023-02-20T18:47:02.744757Z",
     "shell.execute_reply": "2023-02-20T18:47:02.743702Z"
    },
    "papermill": {
     "duration": 0.19274,
     "end_time": "2023-02-20T18:47:02.747202",
     "exception": false,
     "start_time": "2023-02-20T18:47:02.554462",
     "status": "completed"
    },
    "tags": []
   },
   "outputs": [],
   "source": [
    "Glens_df=df[df[\"Facility Name\"]== 'Glens Falls Hospital']"
   ]
  },
  {
   "cell_type": "code",
   "execution_count": 11,
   "id": "e60282b3",
   "metadata": {
    "execution": {
     "iopub.execute_input": "2023-02-20T18:47:02.841819Z",
     "iopub.status.busy": "2023-02-20T18:47:02.840977Z",
     "iopub.status.idle": "2023-02-20T18:47:02.880235Z",
     "shell.execute_reply": "2023-02-20T18:47:02.879450Z"
    },
    "papermill": {
     "duration": 0.088557,
     "end_time": "2023-02-20T18:47:02.881988",
     "exception": false,
     "start_time": "2023-02-20T18:47:02.793431",
     "status": "completed"
    },
    "tags": []
   },
   "outputs": [
    {
     "data": {
      "text/html": [
       "<div>\n",
       "<style scoped>\n",
       "    .dataframe tbody tr th:only-of-type {\n",
       "        vertical-align: middle;\n",
       "    }\n",
       "\n",
       "    .dataframe tbody tr th {\n",
       "        vertical-align: top;\n",
       "    }\n",
       "\n",
       "    .dataframe thead th {\n",
       "        text-align: right;\n",
       "    }\n",
       "</style>\n",
       "<table border=\"1\" class=\"dataframe\">\n",
       "  <thead>\n",
       "    <tr style=\"text-align: right;\">\n",
       "      <th></th>\n",
       "      <th>Hospital County</th>\n",
       "      <th>Operating Certificate Number</th>\n",
       "      <th>Facility Id</th>\n",
       "      <th>Facility Name</th>\n",
       "      <th>Age Group</th>\n",
       "      <th>Zip Code - 3 digits</th>\n",
       "      <th>Gender</th>\n",
       "      <th>Race</th>\n",
       "      <th>Ethnicity</th>\n",
       "      <th>Length of Stay</th>\n",
       "      <th>...</th>\n",
       "      <th>APR Risk of Mortality</th>\n",
       "      <th>APR Medical Surgical Description</th>\n",
       "      <th>Payment Typology 1</th>\n",
       "      <th>Payment Typology 2</th>\n",
       "      <th>Payment Typology 3</th>\n",
       "      <th>Birth Weight</th>\n",
       "      <th>Abortion Edit Indicator</th>\n",
       "      <th>Emergency Department Indicator</th>\n",
       "      <th>Total Charges</th>\n",
       "      <th>Total Costs</th>\n",
       "    </tr>\n",
       "  </thead>\n",
       "  <tbody>\n",
       "    <tr>\n",
       "      <th>628756</th>\n",
       "      <td>Warren</td>\n",
       "      <td>5601000.0</td>\n",
       "      <td>1005.0</td>\n",
       "      <td>Glens Falls Hospital</td>\n",
       "      <td>30 to 49</td>\n",
       "      <td>128</td>\n",
       "      <td>F</td>\n",
       "      <td>White</td>\n",
       "      <td>Not Span/Hispanic</td>\n",
       "      <td>5</td>\n",
       "      <td>...</td>\n",
       "      <td>Minor</td>\n",
       "      <td>Medical</td>\n",
       "      <td>Medicaid</td>\n",
       "      <td>NaN</td>\n",
       "      <td>NaN</td>\n",
       "      <td>0</td>\n",
       "      <td>N</td>\n",
       "      <td>Y</td>\n",
       "      <td>16901.84</td>\n",
       "      <td>5444.54</td>\n",
       "    </tr>\n",
       "    <tr>\n",
       "      <th>628825</th>\n",
       "      <td>Warren</td>\n",
       "      <td>5601000.0</td>\n",
       "      <td>1005.0</td>\n",
       "      <td>Glens Falls Hospital</td>\n",
       "      <td>50 to 69</td>\n",
       "      <td>120</td>\n",
       "      <td>F</td>\n",
       "      <td>White</td>\n",
       "      <td>Not Span/Hispanic</td>\n",
       "      <td>4</td>\n",
       "      <td>...</td>\n",
       "      <td>Moderate</td>\n",
       "      <td>Medical</td>\n",
       "      <td>Medicare</td>\n",
       "      <td>NaN</td>\n",
       "      <td>NaN</td>\n",
       "      <td>0</td>\n",
       "      <td>N</td>\n",
       "      <td>N</td>\n",
       "      <td>15354.59</td>\n",
       "      <td>5499.39</td>\n",
       "    </tr>\n",
       "    <tr>\n",
       "      <th>629035</th>\n",
       "      <td>Warren</td>\n",
       "      <td>5601000.0</td>\n",
       "      <td>1005.0</td>\n",
       "      <td>Glens Falls Hospital</td>\n",
       "      <td>18 to 29</td>\n",
       "      <td>128</td>\n",
       "      <td>M</td>\n",
       "      <td>White</td>\n",
       "      <td>Not Span/Hispanic</td>\n",
       "      <td>2</td>\n",
       "      <td>...</td>\n",
       "      <td>Minor</td>\n",
       "      <td>Medical</td>\n",
       "      <td>Blue Cross/Blue Shield</td>\n",
       "      <td>NaN</td>\n",
       "      <td>NaN</td>\n",
       "      <td>0</td>\n",
       "      <td>N</td>\n",
       "      <td>Y</td>\n",
       "      <td>8413.10</td>\n",
       "      <td>2565.18</td>\n",
       "    </tr>\n",
       "    <tr>\n",
       "      <th>629070</th>\n",
       "      <td>Warren</td>\n",
       "      <td>5601000.0</td>\n",
       "      <td>1005.0</td>\n",
       "      <td>Glens Falls Hospital</td>\n",
       "      <td>50 to 69</td>\n",
       "      <td>128</td>\n",
       "      <td>F</td>\n",
       "      <td>White</td>\n",
       "      <td>Not Span/Hispanic</td>\n",
       "      <td>1</td>\n",
       "      <td>...</td>\n",
       "      <td>Minor</td>\n",
       "      <td>Medical</td>\n",
       "      <td>Blue Cross/Blue Shield</td>\n",
       "      <td>NaN</td>\n",
       "      <td>NaN</td>\n",
       "      <td>0</td>\n",
       "      <td>N</td>\n",
       "      <td>Y</td>\n",
       "      <td>8102.00</td>\n",
       "      <td>2008.34</td>\n",
       "    </tr>\n",
       "    <tr>\n",
       "      <th>629175</th>\n",
       "      <td>Warren</td>\n",
       "      <td>5601000.0</td>\n",
       "      <td>1005.0</td>\n",
       "      <td>Glens Falls Hospital</td>\n",
       "      <td>70 or Older</td>\n",
       "      <td>128</td>\n",
       "      <td>F</td>\n",
       "      <td>White</td>\n",
       "      <td>Not Span/Hispanic</td>\n",
       "      <td>6</td>\n",
       "      <td>...</td>\n",
       "      <td>Major</td>\n",
       "      <td>Medical</td>\n",
       "      <td>Medicare</td>\n",
       "      <td>NaN</td>\n",
       "      <td>NaN</td>\n",
       "      <td>0</td>\n",
       "      <td>N</td>\n",
       "      <td>N</td>\n",
       "      <td>21480.74</td>\n",
       "      <td>7279.17</td>\n",
       "    </tr>\n",
       "    <tr>\n",
       "      <th>...</th>\n",
       "      <td>...</td>\n",
       "      <td>...</td>\n",
       "      <td>...</td>\n",
       "      <td>...</td>\n",
       "      <td>...</td>\n",
       "      <td>...</td>\n",
       "      <td>...</td>\n",
       "      <td>...</td>\n",
       "      <td>...</td>\n",
       "      <td>...</td>\n",
       "      <td>...</td>\n",
       "      <td>...</td>\n",
       "      <td>...</td>\n",
       "      <td>...</td>\n",
       "      <td>...</td>\n",
       "      <td>...</td>\n",
       "      <td>...</td>\n",
       "      <td>...</td>\n",
       "      <td>...</td>\n",
       "      <td>...</td>\n",
       "      <td>...</td>\n",
       "    </tr>\n",
       "    <tr>\n",
       "      <th>664926</th>\n",
       "      <td>Warren</td>\n",
       "      <td>5601000.0</td>\n",
       "      <td>1005.0</td>\n",
       "      <td>Glens Falls Hospital</td>\n",
       "      <td>30 to 49</td>\n",
       "      <td>128</td>\n",
       "      <td>F</td>\n",
       "      <td>White</td>\n",
       "      <td>Not Span/Hispanic</td>\n",
       "      <td>1</td>\n",
       "      <td>...</td>\n",
       "      <td>Minor</td>\n",
       "      <td>Medical</td>\n",
       "      <td>Medicare</td>\n",
       "      <td>NaN</td>\n",
       "      <td>NaN</td>\n",
       "      <td>0</td>\n",
       "      <td>N</td>\n",
       "      <td>Y</td>\n",
       "      <td>14033.73</td>\n",
       "      <td>4471.53</td>\n",
       "    </tr>\n",
       "    <tr>\n",
       "      <th>664927</th>\n",
       "      <td>Warren</td>\n",
       "      <td>5601000.0</td>\n",
       "      <td>1005.0</td>\n",
       "      <td>Glens Falls Hospital</td>\n",
       "      <td>70 or Older</td>\n",
       "      <td>128</td>\n",
       "      <td>F</td>\n",
       "      <td>White</td>\n",
       "      <td>Not Span/Hispanic</td>\n",
       "      <td>1</td>\n",
       "      <td>...</td>\n",
       "      <td>Minor</td>\n",
       "      <td>Surgical</td>\n",
       "      <td>Medicare</td>\n",
       "      <td>NaN</td>\n",
       "      <td>NaN</td>\n",
       "      <td>0</td>\n",
       "      <td>N</td>\n",
       "      <td>Y</td>\n",
       "      <td>44134.98</td>\n",
       "      <td>12744.49</td>\n",
       "    </tr>\n",
       "    <tr>\n",
       "      <th>664928</th>\n",
       "      <td>Warren</td>\n",
       "      <td>5601000.0</td>\n",
       "      <td>1005.0</td>\n",
       "      <td>Glens Falls Hospital</td>\n",
       "      <td>30 to 49</td>\n",
       "      <td>128</td>\n",
       "      <td>M</td>\n",
       "      <td>White</td>\n",
       "      <td>Not Span/Hispanic</td>\n",
       "      <td>1</td>\n",
       "      <td>...</td>\n",
       "      <td>Minor</td>\n",
       "      <td>Medical</td>\n",
       "      <td>Private Health Insurance</td>\n",
       "      <td>NaN</td>\n",
       "      <td>NaN</td>\n",
       "      <td>0</td>\n",
       "      <td>N</td>\n",
       "      <td>N</td>\n",
       "      <td>13780.26</td>\n",
       "      <td>3192.12</td>\n",
       "    </tr>\n",
       "    <tr>\n",
       "      <th>664929</th>\n",
       "      <td>Warren</td>\n",
       "      <td>5601000.0</td>\n",
       "      <td>1005.0</td>\n",
       "      <td>Glens Falls Hospital</td>\n",
       "      <td>50 to 69</td>\n",
       "      <td>128</td>\n",
       "      <td>M</td>\n",
       "      <td>White</td>\n",
       "      <td>Not Span/Hispanic</td>\n",
       "      <td>1</td>\n",
       "      <td>...</td>\n",
       "      <td>Moderate</td>\n",
       "      <td>Medical</td>\n",
       "      <td>Private Health Insurance</td>\n",
       "      <td>NaN</td>\n",
       "      <td>NaN</td>\n",
       "      <td>0</td>\n",
       "      <td>N</td>\n",
       "      <td>N</td>\n",
       "      <td>7560.97</td>\n",
       "      <td>2705.89</td>\n",
       "    </tr>\n",
       "    <tr>\n",
       "      <th>664930</th>\n",
       "      <td>Warren</td>\n",
       "      <td>5601000.0</td>\n",
       "      <td>1005.0</td>\n",
       "      <td>Glens Falls Hospital</td>\n",
       "      <td>0 to 17</td>\n",
       "      <td>128</td>\n",
       "      <td>F</td>\n",
       "      <td>White</td>\n",
       "      <td>Not Span/Hispanic</td>\n",
       "      <td>1</td>\n",
       "      <td>...</td>\n",
       "      <td>Minor</td>\n",
       "      <td>Medical</td>\n",
       "      <td>Medicaid</td>\n",
       "      <td>NaN</td>\n",
       "      <td>NaN</td>\n",
       "      <td>0</td>\n",
       "      <td>N</td>\n",
       "      <td>N</td>\n",
       "      <td>3670.62</td>\n",
       "      <td>2613.38</td>\n",
       "    </tr>\n",
       "  </tbody>\n",
       "</table>\n",
       "<p>14072 rows × 28 columns</p>\n",
       "</div>"
      ],
      "text/plain": [
       "       Hospital County  Operating Certificate Number  Facility Id  \\\n",
       "628756          Warren                     5601000.0       1005.0   \n",
       "628825          Warren                     5601000.0       1005.0   \n",
       "629035          Warren                     5601000.0       1005.0   \n",
       "629070          Warren                     5601000.0       1005.0   \n",
       "629175          Warren                     5601000.0       1005.0   \n",
       "...                ...                           ...          ...   \n",
       "664926          Warren                     5601000.0       1005.0   \n",
       "664927          Warren                     5601000.0       1005.0   \n",
       "664928          Warren                     5601000.0       1005.0   \n",
       "664929          Warren                     5601000.0       1005.0   \n",
       "664930          Warren                     5601000.0       1005.0   \n",
       "\n",
       "               Facility Name    Age Group Zip Code - 3 digits Gender   Race  \\\n",
       "628756  Glens Falls Hospital     30 to 49                 128      F  White   \n",
       "628825  Glens Falls Hospital     50 to 69                 120      F  White   \n",
       "629035  Glens Falls Hospital     18 to 29                 128      M  White   \n",
       "629070  Glens Falls Hospital     50 to 69                 128      F  White   \n",
       "629175  Glens Falls Hospital  70 or Older                 128      F  White   \n",
       "...                      ...          ...                 ...    ...    ...   \n",
       "664926  Glens Falls Hospital     30 to 49                 128      F  White   \n",
       "664927  Glens Falls Hospital  70 or Older                 128      F  White   \n",
       "664928  Glens Falls Hospital     30 to 49                 128      M  White   \n",
       "664929  Glens Falls Hospital     50 to 69                 128      M  White   \n",
       "664930  Glens Falls Hospital      0 to 17                 128      F  White   \n",
       "\n",
       "                Ethnicity Length of Stay  ... APR Risk of Mortality  \\\n",
       "628756  Not Span/Hispanic              5  ...                 Minor   \n",
       "628825  Not Span/Hispanic              4  ...              Moderate   \n",
       "629035  Not Span/Hispanic              2  ...                 Minor   \n",
       "629070  Not Span/Hispanic              1  ...                 Minor   \n",
       "629175  Not Span/Hispanic              6  ...                 Major   \n",
       "...                   ...            ...  ...                   ...   \n",
       "664926  Not Span/Hispanic              1  ...                 Minor   \n",
       "664927  Not Span/Hispanic              1  ...                 Minor   \n",
       "664928  Not Span/Hispanic              1  ...                 Minor   \n",
       "664929  Not Span/Hispanic              1  ...              Moderate   \n",
       "664930  Not Span/Hispanic              1  ...                 Minor   \n",
       "\n",
       "       APR Medical Surgical Description        Payment Typology 1  \\\n",
       "628756                          Medical                  Medicaid   \n",
       "628825                          Medical                  Medicare   \n",
       "629035                          Medical    Blue Cross/Blue Shield   \n",
       "629070                          Medical    Blue Cross/Blue Shield   \n",
       "629175                          Medical                  Medicare   \n",
       "...                                 ...                       ...   \n",
       "664926                          Medical                  Medicare   \n",
       "664927                         Surgical                  Medicare   \n",
       "664928                          Medical  Private Health Insurance   \n",
       "664929                          Medical  Private Health Insurance   \n",
       "664930                          Medical                  Medicaid   \n",
       "\n",
       "        Payment Typology 2  Payment Typology 3  Birth Weight  \\\n",
       "628756                 NaN                 NaN             0   \n",
       "628825                 NaN                 NaN             0   \n",
       "629035                 NaN                 NaN             0   \n",
       "629070                 NaN                 NaN             0   \n",
       "629175                 NaN                 NaN             0   \n",
       "...                    ...                 ...           ...   \n",
       "664926                 NaN                 NaN             0   \n",
       "664927                 NaN                 NaN             0   \n",
       "664928                 NaN                 NaN             0   \n",
       "664929                 NaN                 NaN             0   \n",
       "664930                 NaN                 NaN             0   \n",
       "\n",
       "        Abortion Edit Indicator  Emergency Department Indicator Total Charges  \\\n",
       "628756                        N                               Y      16901.84   \n",
       "628825                        N                               N      15354.59   \n",
       "629035                        N                               Y       8413.10   \n",
       "629070                        N                               Y       8102.00   \n",
       "629175                        N                               N      21480.74   \n",
       "...                         ...                             ...           ...   \n",
       "664926                        N                               Y      14033.73   \n",
       "664927                        N                               Y      44134.98   \n",
       "664928                        N                               N      13780.26   \n",
       "664929                        N                               N       7560.97   \n",
       "664930                        N                               N       3670.62   \n",
       "\n",
       "       Total Costs  \n",
       "628756     5444.54  \n",
       "628825     5499.39  \n",
       "629035     2565.18  \n",
       "629070     2008.34  \n",
       "629175     7279.17  \n",
       "...            ...  \n",
       "664926     4471.53  \n",
       "664927    12744.49  \n",
       "664928     3192.12  \n",
       "664929     2705.89  \n",
       "664930     2613.38  \n",
       "\n",
       "[14072 rows x 28 columns]"
      ]
     },
     "execution_count": 11,
     "metadata": {},
     "output_type": "execute_result"
    }
   ],
   "source": [
    "Glens_df"
   ]
  },
  {
   "cell_type": "code",
   "execution_count": 12,
   "id": "eed3de6a",
   "metadata": {
    "execution": {
     "iopub.execute_input": "2023-02-20T18:47:02.976744Z",
     "iopub.status.busy": "2023-02-20T18:47:02.976141Z",
     "iopub.status.idle": "2023-02-20T18:47:02.993249Z",
     "shell.execute_reply": "2023-02-20T18:47:02.992351Z"
    },
    "papermill": {
     "duration": 0.067334,
     "end_time": "2023-02-20T18:47:02.995518",
     "exception": false,
     "start_time": "2023-02-20T18:47:02.928184",
     "status": "completed"
    },
    "tags": []
   },
   "outputs": [
    {
     "name": "stdout",
     "output_type": "stream",
     "text": [
      "<class 'pandas.core.frame.DataFrame'>\n",
      "Int64Index: 14072 entries, 628756 to 664930\n",
      "Data columns (total 28 columns):\n",
      " #   Column                            Non-Null Count  Dtype   \n",
      "---  ------                            --------------  -----   \n",
      " 0   Hospital County                   14072 non-null  category\n",
      " 1   Operating Certificate Number      14072 non-null  float64 \n",
      " 2   Facility Id                       14072 non-null  float64 \n",
      " 3   Facility Name                     14072 non-null  object  \n",
      " 4   Age Group                         14072 non-null  category\n",
      " 5   Zip Code - 3 digits               13957 non-null  category\n",
      " 6   Gender                            14072 non-null  category\n",
      " 7   Race                              14072 non-null  category\n",
      " 8   Ethnicity                         14072 non-null  category\n",
      " 9   Length of Stay                    14072 non-null  category\n",
      " 10  Type of Admission                 14072 non-null  category\n",
      " 11  Patient Disposition               14072 non-null  category\n",
      " 12  Discharge Year                    14072 non-null  int64   \n",
      " 13  CCS Diagnosis Code                14072 non-null  int64   \n",
      " 14  CCS Procedure Code                14072 non-null  int64   \n",
      " 15  APR DRG Code                      14072 non-null  int64   \n",
      " 16  APR MDC Code                      14072 non-null  int64   \n",
      " 17  APR Severity of Illness Code      14072 non-null  int64   \n",
      " 18  APR Risk of Mortality             14072 non-null  category\n",
      " 19  APR Medical Surgical Description  14072 non-null  category\n",
      " 20  Payment Typology 1                14072 non-null  category\n",
      " 21  Payment Typology 2                4755 non-null   category\n",
      " 22  Payment Typology 3                281 non-null    category\n",
      " 23  Birth Weight                      14072 non-null  int64   \n",
      " 24  Abortion Edit Indicator           14072 non-null  category\n",
      " 25  Emergency Department Indicator    14072 non-null  category\n",
      " 26  Total Charges                     14072 non-null  float64 \n",
      " 27  Total Costs                       14072 non-null  float64 \n",
      "dtypes: category(16), float64(4), int64(7), object(1)\n",
      "memory usage: 1.6+ MB\n"
     ]
    }
   ],
   "source": [
    "Glens_df.info()"
   ]
  },
  {
   "cell_type": "code",
   "execution_count": null,
   "id": "4e82fd83",
   "metadata": {
    "papermill": {
     "duration": 0.045077,
     "end_time": "2023-02-20T18:47:03.087184",
     "exception": false,
     "start_time": "2023-02-20T18:47:03.042107",
     "status": "completed"
    },
    "tags": []
   },
   "outputs": [],
   "source": []
  },
  {
   "cell_type": "code",
   "execution_count": null,
   "id": "4f560b5f",
   "metadata": {
    "papermill": {
     "duration": 0.047415,
     "end_time": "2023-02-20T18:47:03.181733",
     "exception": false,
     "start_time": "2023-02-20T18:47:03.134318",
     "status": "completed"
    },
    "tags": []
   },
   "outputs": [],
   "source": [
    "\n"
   ]
  },
  {
   "cell_type": "code",
   "execution_count": 13,
   "id": "fbeeb754",
   "metadata": {
    "execution": {
     "iopub.execute_input": "2023-02-20T18:47:03.277001Z",
     "iopub.status.busy": "2023-02-20T18:47:03.276324Z",
     "iopub.status.idle": "2023-02-20T18:47:03.302364Z",
     "shell.execute_reply": "2023-02-20T18:47:03.301481Z"
    },
    "papermill": {
     "duration": 0.076295,
     "end_time": "2023-02-20T18:47:03.304332",
     "exception": false,
     "start_time": "2023-02-20T18:47:03.228037",
     "status": "completed"
    },
    "tags": []
   },
   "outputs": [
    {
     "data": {
      "text/html": [
       "<div>\n",
       "<style scoped>\n",
       "    .dataframe tbody tr th:only-of-type {\n",
       "        vertical-align: middle;\n",
       "    }\n",
       "\n",
       "    .dataframe tbody tr th {\n",
       "        vertical-align: top;\n",
       "    }\n",
       "\n",
       "    .dataframe thead th {\n",
       "        text-align: right;\n",
       "    }\n",
       "</style>\n",
       "<table border=\"1\" class=\"dataframe\">\n",
       "  <thead>\n",
       "    <tr style=\"text-align: right;\">\n",
       "      <th></th>\n",
       "      <th>Hospital County</th>\n",
       "      <th>Operating Certificate Number</th>\n",
       "      <th>Facility Id</th>\n",
       "      <th>Facility Name</th>\n",
       "      <th>Age Group</th>\n",
       "      <th>Zip Code - 3 digits</th>\n",
       "      <th>Gender</th>\n",
       "      <th>Race</th>\n",
       "      <th>Ethnicity</th>\n",
       "      <th>Length of Stay</th>\n",
       "      <th>...</th>\n",
       "      <th>APR Risk of Mortality</th>\n",
       "      <th>APR Medical Surgical Description</th>\n",
       "      <th>Payment Typology 1</th>\n",
       "      <th>Payment Typology 2</th>\n",
       "      <th>Payment Typology 3</th>\n",
       "      <th>Birth Weight</th>\n",
       "      <th>Abortion Edit Indicator</th>\n",
       "      <th>Emergency Department Indicator</th>\n",
       "      <th>Total Charges</th>\n",
       "      <th>Total Costs</th>\n",
       "    </tr>\n",
       "  </thead>\n",
       "  <tbody>\n",
       "    <tr>\n",
       "      <th>628756</th>\n",
       "      <td>Warren</td>\n",
       "      <td>5601000.0</td>\n",
       "      <td>1005.0</td>\n",
       "      <td>Glens Falls Hospital</td>\n",
       "      <td>30 to 49</td>\n",
       "      <td>128</td>\n",
       "      <td>F</td>\n",
       "      <td>White</td>\n",
       "      <td>Not Span/Hispanic</td>\n",
       "      <td>5</td>\n",
       "      <td>...</td>\n",
       "      <td>Minor</td>\n",
       "      <td>Medical</td>\n",
       "      <td>Medicaid</td>\n",
       "      <td>NaN</td>\n",
       "      <td>NaN</td>\n",
       "      <td>0</td>\n",
       "      <td>N</td>\n",
       "      <td>Y</td>\n",
       "      <td>16901.84</td>\n",
       "      <td>5444.54</td>\n",
       "    </tr>\n",
       "    <tr>\n",
       "      <th>628825</th>\n",
       "      <td>Warren</td>\n",
       "      <td>5601000.0</td>\n",
       "      <td>1005.0</td>\n",
       "      <td>Glens Falls Hospital</td>\n",
       "      <td>50 to 69</td>\n",
       "      <td>120</td>\n",
       "      <td>F</td>\n",
       "      <td>White</td>\n",
       "      <td>Not Span/Hispanic</td>\n",
       "      <td>4</td>\n",
       "      <td>...</td>\n",
       "      <td>Moderate</td>\n",
       "      <td>Medical</td>\n",
       "      <td>Medicare</td>\n",
       "      <td>NaN</td>\n",
       "      <td>NaN</td>\n",
       "      <td>0</td>\n",
       "      <td>N</td>\n",
       "      <td>N</td>\n",
       "      <td>15354.59</td>\n",
       "      <td>5499.39</td>\n",
       "    </tr>\n",
       "    <tr>\n",
       "      <th>629035</th>\n",
       "      <td>Warren</td>\n",
       "      <td>5601000.0</td>\n",
       "      <td>1005.0</td>\n",
       "      <td>Glens Falls Hospital</td>\n",
       "      <td>18 to 29</td>\n",
       "      <td>128</td>\n",
       "      <td>M</td>\n",
       "      <td>White</td>\n",
       "      <td>Not Span/Hispanic</td>\n",
       "      <td>2</td>\n",
       "      <td>...</td>\n",
       "      <td>Minor</td>\n",
       "      <td>Medical</td>\n",
       "      <td>Blue Cross/Blue Shield</td>\n",
       "      <td>NaN</td>\n",
       "      <td>NaN</td>\n",
       "      <td>0</td>\n",
       "      <td>N</td>\n",
       "      <td>Y</td>\n",
       "      <td>8413.10</td>\n",
       "      <td>2565.18</td>\n",
       "    </tr>\n",
       "    <tr>\n",
       "      <th>629070</th>\n",
       "      <td>Warren</td>\n",
       "      <td>5601000.0</td>\n",
       "      <td>1005.0</td>\n",
       "      <td>Glens Falls Hospital</td>\n",
       "      <td>50 to 69</td>\n",
       "      <td>128</td>\n",
       "      <td>F</td>\n",
       "      <td>White</td>\n",
       "      <td>Not Span/Hispanic</td>\n",
       "      <td>1</td>\n",
       "      <td>...</td>\n",
       "      <td>Minor</td>\n",
       "      <td>Medical</td>\n",
       "      <td>Blue Cross/Blue Shield</td>\n",
       "      <td>NaN</td>\n",
       "      <td>NaN</td>\n",
       "      <td>0</td>\n",
       "      <td>N</td>\n",
       "      <td>Y</td>\n",
       "      <td>8102.00</td>\n",
       "      <td>2008.34</td>\n",
       "    </tr>\n",
       "    <tr>\n",
       "      <th>629175</th>\n",
       "      <td>Warren</td>\n",
       "      <td>5601000.0</td>\n",
       "      <td>1005.0</td>\n",
       "      <td>Glens Falls Hospital</td>\n",
       "      <td>70 or Older</td>\n",
       "      <td>128</td>\n",
       "      <td>F</td>\n",
       "      <td>White</td>\n",
       "      <td>Not Span/Hispanic</td>\n",
       "      <td>6</td>\n",
       "      <td>...</td>\n",
       "      <td>Major</td>\n",
       "      <td>Medical</td>\n",
       "      <td>Medicare</td>\n",
       "      <td>NaN</td>\n",
       "      <td>NaN</td>\n",
       "      <td>0</td>\n",
       "      <td>N</td>\n",
       "      <td>N</td>\n",
       "      <td>21480.74</td>\n",
       "      <td>7279.17</td>\n",
       "    </tr>\n",
       "  </tbody>\n",
       "</table>\n",
       "<p>5 rows × 28 columns</p>\n",
       "</div>"
      ],
      "text/plain": [
       "       Hospital County  Operating Certificate Number  Facility Id  \\\n",
       "628756          Warren                     5601000.0       1005.0   \n",
       "628825          Warren                     5601000.0       1005.0   \n",
       "629035          Warren                     5601000.0       1005.0   \n",
       "629070          Warren                     5601000.0       1005.0   \n",
       "629175          Warren                     5601000.0       1005.0   \n",
       "\n",
       "               Facility Name    Age Group Zip Code - 3 digits Gender   Race  \\\n",
       "628756  Glens Falls Hospital     30 to 49                 128      F  White   \n",
       "628825  Glens Falls Hospital     50 to 69                 120      F  White   \n",
       "629035  Glens Falls Hospital     18 to 29                 128      M  White   \n",
       "629070  Glens Falls Hospital     50 to 69                 128      F  White   \n",
       "629175  Glens Falls Hospital  70 or Older                 128      F  White   \n",
       "\n",
       "                Ethnicity Length of Stay  ... APR Risk of Mortality  \\\n",
       "628756  Not Span/Hispanic              5  ...                 Minor   \n",
       "628825  Not Span/Hispanic              4  ...              Moderate   \n",
       "629035  Not Span/Hispanic              2  ...                 Minor   \n",
       "629070  Not Span/Hispanic              1  ...                 Minor   \n",
       "629175  Not Span/Hispanic              6  ...                 Major   \n",
       "\n",
       "       APR Medical Surgical Description      Payment Typology 1  \\\n",
       "628756                          Medical                Medicaid   \n",
       "628825                          Medical                Medicare   \n",
       "629035                          Medical  Blue Cross/Blue Shield   \n",
       "629070                          Medical  Blue Cross/Blue Shield   \n",
       "629175                          Medical                Medicare   \n",
       "\n",
       "        Payment Typology 2  Payment Typology 3  Birth Weight  \\\n",
       "628756                 NaN                 NaN             0   \n",
       "628825                 NaN                 NaN             0   \n",
       "629035                 NaN                 NaN             0   \n",
       "629070                 NaN                 NaN             0   \n",
       "629175                 NaN                 NaN             0   \n",
       "\n",
       "        Abortion Edit Indicator  Emergency Department Indicator Total Charges  \\\n",
       "628756                        N                               Y      16901.84   \n",
       "628825                        N                               N      15354.59   \n",
       "629035                        N                               Y       8413.10   \n",
       "629070                        N                               Y       8102.00   \n",
       "629175                        N                               N      21480.74   \n",
       "\n",
       "       Total Costs  \n",
       "628756     5444.54  \n",
       "628825     5499.39  \n",
       "629035     2565.18  \n",
       "629070     2008.34  \n",
       "629175     7279.17  \n",
       "\n",
       "[5 rows x 28 columns]"
      ]
     },
     "execution_count": 13,
     "metadata": {},
     "output_type": "execute_result"
    }
   ],
   "source": [
    "Glens_df.head()"
   ]
  },
  {
   "cell_type": "code",
   "execution_count": 14,
   "id": "08c87260",
   "metadata": {
    "execution": {
     "iopub.execute_input": "2023-02-20T18:47:03.400756Z",
     "iopub.status.busy": "2023-02-20T18:47:03.400166Z",
     "iopub.status.idle": "2023-02-20T18:47:03.417663Z",
     "shell.execute_reply": "2023-02-20T18:47:03.416206Z"
    },
    "papermill": {
     "duration": 0.069288,
     "end_time": "2023-02-20T18:47:03.420716",
     "exception": false,
     "start_time": "2023-02-20T18:47:03.351428",
     "status": "completed"
    },
    "tags": []
   },
   "outputs": [
    {
     "name": "stdout",
     "output_type": "stream",
     "text": [
      "<class 'pandas.core.frame.DataFrame'>\n",
      "Int64Index: 14072 entries, 628756 to 664930\n",
      "Data columns (total 28 columns):\n",
      " #   Column                            Non-Null Count  Dtype   \n",
      "---  ------                            --------------  -----   \n",
      " 0   Hospital County                   14072 non-null  category\n",
      " 1   Operating Certificate Number      14072 non-null  float64 \n",
      " 2   Facility Id                       14072 non-null  float64 \n",
      " 3   Facility Name                     14072 non-null  object  \n",
      " 4   Age Group                         14072 non-null  category\n",
      " 5   Zip Code - 3 digits               13957 non-null  category\n",
      " 6   Gender                            14072 non-null  category\n",
      " 7   Race                              14072 non-null  category\n",
      " 8   Ethnicity                         14072 non-null  category\n",
      " 9   Length of Stay                    14072 non-null  category\n",
      " 10  Type of Admission                 14072 non-null  category\n",
      " 11  Patient Disposition               14072 non-null  category\n",
      " 12  Discharge Year                    14072 non-null  int64   \n",
      " 13  CCS Diagnosis Code                14072 non-null  int64   \n",
      " 14  CCS Procedure Code                14072 non-null  int64   \n",
      " 15  APR DRG Code                      14072 non-null  int64   \n",
      " 16  APR MDC Code                      14072 non-null  int64   \n",
      " 17  APR Severity of Illness Code      14072 non-null  int64   \n",
      " 18  APR Risk of Mortality             14072 non-null  category\n",
      " 19  APR Medical Surgical Description  14072 non-null  category\n",
      " 20  Payment Typology 1                14072 non-null  category\n",
      " 21  Payment Typology 2                4755 non-null   category\n",
      " 22  Payment Typology 3                281 non-null    category\n",
      " 23  Birth Weight                      14072 non-null  int64   \n",
      " 24  Abortion Edit Indicator           14072 non-null  category\n",
      " 25  Emergency Department Indicator    14072 non-null  category\n",
      " 26  Total Charges                     14072 non-null  float64 \n",
      " 27  Total Costs                       14072 non-null  float64 \n",
      "dtypes: category(16), float64(4), int64(7), object(1)\n",
      "memory usage: 1.6+ MB\n"
     ]
    }
   ],
   "source": [
    "Glens_df.info()"
   ]
  },
  {
   "cell_type": "code",
   "execution_count": 15,
   "id": "38e20b13",
   "metadata": {
    "_kg_hide-input": true,
    "execution": {
     "iopub.execute_input": "2023-02-20T18:47:03.516834Z",
     "iopub.status.busy": "2023-02-20T18:47:03.516024Z",
     "iopub.status.idle": "2023-02-20T18:47:03.522283Z",
     "shell.execute_reply": "2023-02-20T18:47:03.520877Z"
    },
    "papermill": {
     "duration": 0.05763,
     "end_time": "2023-02-20T18:47:03.524629",
     "exception": false,
     "start_time": "2023-02-20T18:47:03.466999",
     "status": "completed"
    },
    "tags": []
   },
   "outputs": [],
   "source": [
    "Glens_df = Glens_df.drop(\"Facility Name\", axis=1)"
   ]
  },
  {
   "cell_type": "code",
   "execution_count": 16,
   "id": "3ef58d97",
   "metadata": {
    "execution": {
     "iopub.execute_input": "2023-02-20T18:47:03.620598Z",
     "iopub.status.busy": "2023-02-20T18:47:03.620214Z",
     "iopub.status.idle": "2023-02-20T18:47:03.633246Z",
     "shell.execute_reply": "2023-02-20T18:47:03.632030Z"
    },
    "papermill": {
     "duration": 0.0635,
     "end_time": "2023-02-20T18:47:03.635415",
     "exception": false,
     "start_time": "2023-02-20T18:47:03.571915",
     "status": "completed"
    },
    "tags": []
   },
   "outputs": [
    {
     "data": {
      "text/html": [
       "<div>\n",
       "<style scoped>\n",
       "    .dataframe tbody tr th:only-of-type {\n",
       "        vertical-align: middle;\n",
       "    }\n",
       "\n",
       "    .dataframe tbody tr th {\n",
       "        vertical-align: top;\n",
       "    }\n",
       "\n",
       "    .dataframe thead th {\n",
       "        text-align: right;\n",
       "    }\n",
       "</style>\n",
       "<table border=\"1\" class=\"dataframe\">\n",
       "  <thead>\n",
       "    <tr style=\"text-align: right;\">\n",
       "      <th></th>\n",
       "      <th>Length of Stay</th>\n",
       "    </tr>\n",
       "  </thead>\n",
       "  <tbody>\n",
       "    <tr>\n",
       "      <th>628756</th>\n",
       "      <td>5</td>\n",
       "    </tr>\n",
       "    <tr>\n",
       "      <th>628825</th>\n",
       "      <td>4</td>\n",
       "    </tr>\n",
       "    <tr>\n",
       "      <th>629035</th>\n",
       "      <td>2</td>\n",
       "    </tr>\n",
       "    <tr>\n",
       "      <th>629070</th>\n",
       "      <td>1</td>\n",
       "    </tr>\n",
       "    <tr>\n",
       "      <th>629175</th>\n",
       "      <td>6</td>\n",
       "    </tr>\n",
       "    <tr>\n",
       "      <th>...</th>\n",
       "      <td>...</td>\n",
       "    </tr>\n",
       "    <tr>\n",
       "      <th>664926</th>\n",
       "      <td>1</td>\n",
       "    </tr>\n",
       "    <tr>\n",
       "      <th>664927</th>\n",
       "      <td>1</td>\n",
       "    </tr>\n",
       "    <tr>\n",
       "      <th>664928</th>\n",
       "      <td>1</td>\n",
       "    </tr>\n",
       "    <tr>\n",
       "      <th>664929</th>\n",
       "      <td>1</td>\n",
       "    </tr>\n",
       "    <tr>\n",
       "      <th>664930</th>\n",
       "      <td>1</td>\n",
       "    </tr>\n",
       "  </tbody>\n",
       "</table>\n",
       "<p>14072 rows × 1 columns</p>\n",
       "</div>"
      ],
      "text/plain": [
       "       Length of Stay\n",
       "628756              5\n",
       "628825              4\n",
       "629035              2\n",
       "629070              1\n",
       "629175              6\n",
       "...               ...\n",
       "664926              1\n",
       "664927              1\n",
       "664928              1\n",
       "664929              1\n",
       "664930              1\n",
       "\n",
       "[14072 rows x 1 columns]"
      ]
     },
     "execution_count": 16,
     "metadata": {},
     "output_type": "execute_result"
    }
   ],
   "source": [
    "Glens_df[[\"Length of Stay\"]]"
   ]
  },
  {
   "cell_type": "code",
   "execution_count": 17,
   "id": "fc09f318",
   "metadata": {
    "execution": {
     "iopub.execute_input": "2023-02-20T18:47:03.729108Z",
     "iopub.status.busy": "2023-02-20T18:47:03.728727Z",
     "iopub.status.idle": "2023-02-20T18:47:03.734406Z",
     "shell.execute_reply": "2023-02-20T18:47:03.733539Z"
    },
    "papermill": {
     "duration": 0.055187,
     "end_time": "2023-02-20T18:47:03.736196",
     "exception": false,
     "start_time": "2023-02-20T18:47:03.681009",
     "status": "completed"
    },
    "tags": []
   },
   "outputs": [],
   "source": [
    "Glens_df = Glens_df.drop([\"Payment Typology 2\",    \"Payment Typology 3\"], axis=1)\n"
   ]
  },
  {
   "cell_type": "code",
   "execution_count": 18,
   "id": "3ecfa2b8",
   "metadata": {
    "execution": {
     "iopub.execute_input": "2023-02-20T18:47:03.831786Z",
     "iopub.status.busy": "2023-02-20T18:47:03.831145Z",
     "iopub.status.idle": "2023-02-20T18:47:03.880965Z",
     "shell.execute_reply": "2023-02-20T18:47:03.879237Z"
    },
    "papermill": {
     "duration": 0.101032,
     "end_time": "2023-02-20T18:47:03.884204",
     "exception": false,
     "start_time": "2023-02-20T18:47:03.783172",
     "status": "completed"
    },
    "tags": []
   },
   "outputs": [
    {
     "name": "stdout",
     "output_type": "stream",
     "text": [
      "Hospital County : 1\n",
      "Warren      14072\n",
      "Albany          0\n",
      "Saratoga        0\n",
      "Onondaga        0\n",
      "Ontario         0\n",
      "Name: Hospital County, dtype: int64\n",
      "\n",
      "********************\n",
      "\n",
      "Operating Certificate Number : 1\n",
      "5601000.0    14072\n",
      "Name: Operating Certificate Number, dtype: int64\n",
      "\n",
      "********************\n",
      "\n",
      "Facility Id : 1\n",
      "1005.0    14072\n",
      "Name: Facility Id, dtype: int64\n",
      "\n",
      "********************\n",
      "\n",
      "Age Group : 5\n",
      "70 or Older    4708\n",
      "50 to 69       3997\n",
      "30 to 49       2186\n",
      "0 to 17        1671\n",
      "18 to 29       1510\n",
      "Name: Age Group, dtype: int64\n",
      "\n",
      "********************\n",
      "\n",
      "Zip Code - 3 digits : 20\n",
      "128    13284\n",
      "OOS      197\n",
      "120      196\n",
      "129      110\n",
      "121       80\n",
      "Name: Zip Code - 3 digits, dtype: int64\n",
      "\n",
      "********************\n",
      "\n",
      "Gender : 2\n",
      "F    7797\n",
      "M    6275\n",
      "U       0\n",
      "Name: Gender, dtype: int64\n",
      "\n",
      "********************\n",
      "\n",
      "Race : 3\n",
      "White                     13610\n",
      "Other Race                  343\n",
      "Black/African American      119\n",
      "Multi-racial                  0\n",
      "Name: Race, dtype: int64\n",
      "\n",
      "********************\n",
      "\n",
      "Ethnicity : 3\n",
      "Not Span/Hispanic    13938\n",
      "Spanish/Hispanic       125\n",
      "Unknown                  9\n",
      "Multi-ethnic             0\n",
      "Name: Ethnicity, dtype: int64\n",
      "\n",
      "********************\n",
      "\n",
      "Length of Stay : 74\n",
      "2    3059\n",
      "3    2648\n",
      "1    2116\n",
      "4    1620\n",
      "5    1078\n",
      "Name: Length of Stay, dtype: int64\n",
      "\n",
      "********************\n",
      "\n",
      "Type of Admission : 5\n",
      "Emergency        9490\n",
      "Elective         2700\n",
      "Newborn          1220\n",
      "Urgent            657\n",
      "Not Available       5\n",
      "Name: Type of Admission, dtype: int64\n",
      "\n",
      "********************\n",
      "\n",
      "Patient Disposition : 17\n",
      "Home or Self Care               6717\n",
      "Home w/ Home Health Services    4378\n",
      "Skilled Nursing Home            1584\n",
      "Expired                          427\n",
      "Short-term Hospital              290\n",
      "Name: Patient Disposition, dtype: int64\n",
      "\n",
      "********************\n",
      "\n",
      "Discharge Year : 1\n",
      "2015    14072\n",
      "Name: Discharge Year, dtype: int64\n",
      "\n",
      "********************\n",
      "\n",
      "CCS Diagnosis Code : 226\n",
      "218    1219\n",
      "657     864\n",
      "2       833\n",
      "127     459\n",
      "108     408\n",
      "Name: CCS Diagnosis Code, dtype: int64\n",
      "\n",
      "********************\n",
      "\n",
      "CCS Procedure Code : 165\n",
      "0      6956\n",
      "137     790\n",
      "216     567\n",
      "115     491\n",
      "134     379\n",
      "Name: CCS Procedure Code, dtype: int64\n",
      "\n",
      "********************\n",
      "\n",
      "APR DRG Code : 263\n",
      "640    1126\n",
      "560     818\n",
      "720     745\n",
      "140     494\n",
      "194     382\n",
      "Name: APR DRG Code, dtype: int64\n",
      "\n",
      "********************\n",
      "\n",
      "APR MDC Code : 25\n",
      "4     1702\n",
      "5     1553\n",
      "6     1299\n",
      "14    1291\n",
      "15    1233\n",
      "Name: APR MDC Code, dtype: int64\n",
      "\n",
      "********************\n",
      "\n",
      "APR Severity of Illness Code : 4\n",
      "2    5298\n",
      "1    4129\n",
      "3    3987\n",
      "4     658\n",
      "Name: APR Severity of Illness Code, dtype: int64\n",
      "\n",
      "********************\n",
      "\n",
      "APR Risk of Mortality : 4\n",
      "Minor       7296\n",
      "Moderate    3442\n",
      "Major       2734\n",
      "Extreme      600\n",
      "Name: APR Risk of Mortality, dtype: int64\n",
      "\n",
      "********************\n",
      "\n",
      "APR Medical Surgical Description : 2\n",
      "Medical           11256\n",
      "Surgical           2816\n",
      "Not Applicable        0\n",
      "Name: APR Medical Surgical Description, dtype: int64\n",
      "\n",
      "********************\n",
      "\n",
      "Payment Typology 1 : 8\n",
      "Medicare                    7149\n",
      "Medicaid                    3174\n",
      "Blue Cross/Blue Shield      1919\n",
      "Private Health Insurance    1424\n",
      "Self-Pay                     169\n",
      "Name: Payment Typology 1, dtype: int64\n",
      "\n",
      "********************\n",
      "\n",
      "Birth Weight : 38\n",
      "0       12822\n",
      "3500      129\n",
      "3400      101\n",
      "3300       96\n",
      "3600       92\n",
      "Name: Birth Weight, dtype: int64\n",
      "\n",
      "********************\n",
      "\n",
      "Abortion Edit Indicator : 1\n",
      "N    14072\n",
      "Y        0\n",
      "Name: Abortion Edit Indicator, dtype: int64\n",
      "\n",
      "********************\n",
      "\n",
      "Emergency Department Indicator : 2\n",
      "Y    9493\n",
      "N    4579\n",
      "Name: Emergency Department Indicator, dtype: int64\n",
      "\n",
      "********************\n",
      "\n",
      "Total Charges : 13528\n",
      "5357.70    67\n",
      "5276.70    63\n",
      "2849.70    35\n",
      "5885.05    32\n",
      "5899.15    25\n",
      "Name: Total Charges, dtype: int64\n",
      "\n",
      "********************\n",
      "\n",
      "Total Costs : 13510\n",
      "1896.61    67\n",
      "1881.32    63\n",
      "1041.81    35\n",
      "2076.81    32\n",
      "2082.50    25\n",
      "Name: Total Costs, dtype: int64\n",
      "\n",
      "********************\n",
      "\n"
     ]
    }
   ],
   "source": [
    "for col in Glens_df.columns:\n",
    "    print( col,':', Glens_df[col].nunique() )#Num of unique values\n",
    "    print(Glens_df[col].value_counts().nlargest(5)) #Most 5 frequent values\n",
    "    print('\\n' + '*' * 20 + '\\n')"
   ]
  },
  {
   "cell_type": "markdown",
   "id": "6341efa7",
   "metadata": {
    "papermill": {
     "duration": 0.047889,
     "end_time": "2023-02-20T18:47:03.980212",
     "exception": false,
     "start_time": "2023-02-20T18:47:03.932323",
     "status": "completed"
    },
    "tags": []
   },
   "source": [
    "preprocsesing "
   ]
  },
  {
   "cell_type": "code",
   "execution_count": 19,
   "id": "c25a4960",
   "metadata": {
    "execution": {
     "iopub.execute_input": "2023-02-20T18:47:04.076802Z",
     "iopub.status.busy": "2023-02-20T18:47:04.075644Z",
     "iopub.status.idle": "2023-02-20T18:47:04.083676Z",
     "shell.execute_reply": "2023-02-20T18:47:04.082692Z"
    },
    "papermill": {
     "duration": 0.058708,
     "end_time": "2023-02-20T18:47:04.086195",
     "exception": false,
     "start_time": "2023-02-20T18:47:04.027487",
     "status": "completed"
    },
    "tags": []
   },
   "outputs": [],
   "source": [
    " #Glens_df[\"Length of Stay\"] = Glens_df[\"Length of Stay\"].astype('int64')\n",
    " #   simple mapping on binary features.\n",
    "Glens_df['Abortion Edit Indicator'] = Glens_df['Abortion Edit Indicator'].apply(\n",
    "     lambda x: 1 if x == 'Y' else (0 if x == 'N' else None))\n",
    "Glens_df['Emergency Department Indicator'] = Glens_df['Emergency Department Indicator'].apply(\n",
    "    lambda x: 1 if x == 'Y' else (0 if x == 'N' else None))"
   ]
  },
  {
   "cell_type": "code",
   "execution_count": 20,
   "id": "5d3ec2ae",
   "metadata": {
    "execution": {
     "iopub.execute_input": "2023-02-20T18:47:04.183473Z",
     "iopub.status.busy": "2023-02-20T18:47:04.183037Z",
     "iopub.status.idle": "2023-02-20T18:47:04.194386Z",
     "shell.execute_reply": "2023-02-20T18:47:04.193583Z"
    },
    "papermill": {
     "duration": 0.061833,
     "end_time": "2023-02-20T18:47:04.196130",
     "exception": false,
     "start_time": "2023-02-20T18:47:04.134297",
     "status": "completed"
    },
    "tags": []
   },
   "outputs": [],
   "source": [
    "Glens_df[\"Length of Stay\"]=pd.to_numeric(Glens_df[\"Length of Stay\"],errors='coerce')"
   ]
  },
  {
   "cell_type": "code",
   "execution_count": 21,
   "id": "92ab7663",
   "metadata": {
    "execution": {
     "iopub.execute_input": "2023-02-20T18:47:04.294501Z",
     "iopub.status.busy": "2023-02-20T18:47:04.293494Z",
     "iopub.status.idle": "2023-02-20T18:47:04.309793Z",
     "shell.execute_reply": "2023-02-20T18:47:04.309122Z"
    },
    "papermill": {
     "duration": 0.066925,
     "end_time": "2023-02-20T18:47:04.311749",
     "exception": false,
     "start_time": "2023-02-20T18:47:04.244824",
     "status": "completed"
    },
    "tags": []
   },
   "outputs": [
    {
     "name": "stdout",
     "output_type": "stream",
     "text": [
      "<class 'pandas.core.frame.DataFrame'>\n",
      "Int64Index: 14072 entries, 628756 to 664930\n",
      "Data columns (total 25 columns):\n",
      " #   Column                            Non-Null Count  Dtype   \n",
      "---  ------                            --------------  -----   \n",
      " 0   Hospital County                   14072 non-null  category\n",
      " 1   Operating Certificate Number      14072 non-null  float64 \n",
      " 2   Facility Id                       14072 non-null  float64 \n",
      " 3   Age Group                         14072 non-null  category\n",
      " 4   Zip Code - 3 digits               13957 non-null  category\n",
      " 5   Gender                            14072 non-null  category\n",
      " 6   Race                              14072 non-null  category\n",
      " 7   Ethnicity                         14072 non-null  category\n",
      " 8   Length of Stay                    14069 non-null  float64 \n",
      " 9   Type of Admission                 14072 non-null  category\n",
      " 10  Patient Disposition               14072 non-null  category\n",
      " 11  Discharge Year                    14072 non-null  int64   \n",
      " 12  CCS Diagnosis Code                14072 non-null  int64   \n",
      " 13  CCS Procedure Code                14072 non-null  int64   \n",
      " 14  APR DRG Code                      14072 non-null  int64   \n",
      " 15  APR MDC Code                      14072 non-null  int64   \n",
      " 16  APR Severity of Illness Code      14072 non-null  int64   \n",
      " 17  APR Risk of Mortality             14072 non-null  category\n",
      " 18  APR Medical Surgical Description  14072 non-null  category\n",
      " 19  Payment Typology 1                14072 non-null  category\n",
      " 20  Birth Weight                      14072 non-null  int64   \n",
      " 21  Abortion Edit Indicator           14072 non-null  category\n",
      " 22  Emergency Department Indicator    14072 non-null  category\n",
      " 23  Total Charges                     14072 non-null  float64 \n",
      " 24  Total Costs                       14072 non-null  float64 \n",
      "dtypes: category(13), float64(5), int64(7)\n",
      "memory usage: 1.6 MB\n"
     ]
    }
   ],
   "source": [
    "Glens_df.info()"
   ]
  },
  {
   "cell_type": "code",
   "execution_count": 22,
   "id": "4c379061",
   "metadata": {
    "execution": {
     "iopub.execute_input": "2023-02-20T18:47:04.408076Z",
     "iopub.status.busy": "2023-02-20T18:47:04.407338Z",
     "iopub.status.idle": "2023-02-20T18:47:05.342825Z",
     "shell.execute_reply": "2023-02-20T18:47:05.341911Z"
    },
    "papermill": {
     "duration": 0.986518,
     "end_time": "2023-02-20T18:47:05.345032",
     "exception": false,
     "start_time": "2023-02-20T18:47:04.358514",
     "status": "completed"
    },
    "tags": []
   },
   "outputs": [],
   "source": [
    "list=  [ \"Hospital County\",\"Age Group\"\n",
    "    ,\"Gender\",   \n",
    " \"Race\" , \n",
    "\"Ethnicity\", \n",
    "\"Gender\" , \n",
    "\"Race\" ,    \n",
    " \"Ethnicity\" ,        \n",
    " \"Type of Admission\"  ,  \n",
    "  \"Patient Disposition\",      \n",
    " \"Type of Admission\" ,  \n",
    " \"Patient Disposition\"  ,\n",
    "  \"APR Risk of Mortality\" ,   \n",
    " \"APR Medical Surgical Description\" ,\n",
    " \"Payment Typology 1\"   ,   \n",
    " \"Abortion Edit Indicator\"     ,  \n",
    " \"Emergency Department Indicator\",\n",
    "       \"Zip Code - 3 digits\"]  \n",
    "\n",
    "# Import label encoder\n",
    "from sklearn import preprocessing\n",
    "  \n",
    "# label_encoder object knows how to understand word labels.\n",
    "label_encoder = preprocessing.LabelEncoder()\n",
    "  \n",
    "# Encode labels in column 'species'.\n",
    "for col in list :\n",
    "  Glens_df[col]= label_encoder.fit_transform(Glens_df[col])"
   ]
  },
  {
   "cell_type": "code",
   "execution_count": 23,
   "id": "4ca66e6c",
   "metadata": {
    "execution": {
     "iopub.execute_input": "2023-02-20T18:47:05.439288Z",
     "iopub.status.busy": "2023-02-20T18:47:05.438923Z",
     "iopub.status.idle": "2023-02-20T18:47:05.454337Z",
     "shell.execute_reply": "2023-02-20T18:47:05.453120Z"
    },
    "papermill": {
     "duration": 0.065958,
     "end_time": "2023-02-20T18:47:05.457143",
     "exception": false,
     "start_time": "2023-02-20T18:47:05.391185",
     "status": "completed"
    },
    "tags": []
   },
   "outputs": [
    {
     "name": "stdout",
     "output_type": "stream",
     "text": [
      "<class 'pandas.core.frame.DataFrame'>\n",
      "Int64Index: 14072 entries, 628756 to 664930\n",
      "Data columns (total 25 columns):\n",
      " #   Column                            Non-Null Count  Dtype  \n",
      "---  ------                            --------------  -----  \n",
      " 0   Hospital County                   14072 non-null  int64  \n",
      " 1   Operating Certificate Number      14072 non-null  float64\n",
      " 2   Facility Id                       14072 non-null  float64\n",
      " 3   Age Group                         14072 non-null  int64  \n",
      " 4   Zip Code - 3 digits               14072 non-null  int64  \n",
      " 5   Gender                            14072 non-null  int64  \n",
      " 6   Race                              14072 non-null  int64  \n",
      " 7   Ethnicity                         14072 non-null  int64  \n",
      " 8   Length of Stay                    14069 non-null  float64\n",
      " 9   Type of Admission                 14072 non-null  int64  \n",
      " 10  Patient Disposition               14072 non-null  int64  \n",
      " 11  Discharge Year                    14072 non-null  int64  \n",
      " 12  CCS Diagnosis Code                14072 non-null  int64  \n",
      " 13  CCS Procedure Code                14072 non-null  int64  \n",
      " 14  APR DRG Code                      14072 non-null  int64  \n",
      " 15  APR MDC Code                      14072 non-null  int64  \n",
      " 16  APR Severity of Illness Code      14072 non-null  int64  \n",
      " 17  APR Risk of Mortality             14072 non-null  int64  \n",
      " 18  APR Medical Surgical Description  14072 non-null  int64  \n",
      " 19  Payment Typology 1                14072 non-null  int64  \n",
      " 20  Birth Weight                      14072 non-null  int64  \n",
      " 21  Abortion Edit Indicator           14072 non-null  int64  \n",
      " 22  Emergency Department Indicator    14072 non-null  int64  \n",
      " 23  Total Charges                     14072 non-null  float64\n",
      " 24  Total Costs                       14072 non-null  float64\n",
      "dtypes: float64(5), int64(20)\n",
      "memory usage: 2.8 MB\n"
     ]
    }
   ],
   "source": [
    "Glens_df.info()"
   ]
  },
  {
   "cell_type": "code",
   "execution_count": 24,
   "id": "a87c9635",
   "metadata": {
    "execution": {
     "iopub.execute_input": "2023-02-20T18:47:05.554612Z",
     "iopub.status.busy": "2023-02-20T18:47:05.553991Z",
     "iopub.status.idle": "2023-02-20T18:47:05.562768Z",
     "shell.execute_reply": "2023-02-20T18:47:05.562137Z"
    },
    "papermill": {
     "duration": 0.059523,
     "end_time": "2023-02-20T18:47:05.564520",
     "exception": false,
     "start_time": "2023-02-20T18:47:05.504997",
     "status": "completed"
    },
    "tags": []
   },
   "outputs": [
    {
     "data": {
      "text/plain": [
       "Hospital County                     0\n",
       "Operating Certificate Number        0\n",
       "Facility Id                         0\n",
       "Age Group                           0\n",
       "Zip Code - 3 digits                 0\n",
       "Gender                              0\n",
       "Race                                0\n",
       "Ethnicity                           0\n",
       "Length of Stay                      3\n",
       "Type of Admission                   0\n",
       "Patient Disposition                 0\n",
       "Discharge Year                      0\n",
       "CCS Diagnosis Code                  0\n",
       "CCS Procedure Code                  0\n",
       "APR DRG Code                        0\n",
       "APR MDC Code                        0\n",
       "APR Severity of Illness Code        0\n",
       "APR Risk of Mortality               0\n",
       "APR Medical Surgical Description    0\n",
       "Payment Typology 1                  0\n",
       "Birth Weight                        0\n",
       "Abortion Edit Indicator             0\n",
       "Emergency Department Indicator      0\n",
       "Total Charges                       0\n",
       "Total Costs                         0\n",
       "dtype: int64"
      ]
     },
     "execution_count": 24,
     "metadata": {},
     "output_type": "execute_result"
    }
   ],
   "source": [
    "Glens_df.isnull().sum()"
   ]
  },
  {
   "cell_type": "code",
   "execution_count": 25,
   "id": "f194ccf5",
   "metadata": {
    "execution": {
     "iopub.execute_input": "2023-02-20T18:47:05.659159Z",
     "iopub.status.busy": "2023-02-20T18:47:05.658539Z",
     "iopub.status.idle": "2023-02-20T18:47:05.667919Z",
     "shell.execute_reply": "2023-02-20T18:47:05.667194Z"
    },
    "papermill": {
     "duration": 0.058777,
     "end_time": "2023-02-20T18:47:05.669660",
     "exception": false,
     "start_time": "2023-02-20T18:47:05.610883",
     "status": "completed"
    },
    "tags": []
   },
   "outputs": [],
   "source": [
    "Glens_df.dropna(inplace=True)"
   ]
  },
  {
   "cell_type": "code",
   "execution_count": 26,
   "id": "a2ea4ecf",
   "metadata": {
    "execution": {
     "iopub.execute_input": "2023-02-20T18:47:05.762892Z",
     "iopub.status.busy": "2023-02-20T18:47:05.762512Z",
     "iopub.status.idle": "2023-02-20T18:47:05.769278Z",
     "shell.execute_reply": "2023-02-20T18:47:05.767834Z"
    },
    "papermill": {
     "duration": 0.055985,
     "end_time": "2023-02-20T18:47:05.771550",
     "exception": false,
     "start_time": "2023-02-20T18:47:05.715565",
     "status": "completed"
    },
    "tags": []
   },
   "outputs": [],
   "source": [
    "x = Glens_df.drop([\"Length of Stay\"], axis =1)\n",
    "y = Glens_df[\"Length of Stay\"]"
   ]
  },
  {
   "cell_type": "code",
   "execution_count": 27,
   "id": "7eb18895",
   "metadata": {
    "execution": {
     "iopub.execute_input": "2023-02-20T18:47:05.882615Z",
     "iopub.status.busy": "2023-02-20T18:47:05.882264Z",
     "iopub.status.idle": "2023-02-20T18:47:05.895845Z",
     "shell.execute_reply": "2023-02-20T18:47:05.894549Z"
    },
    "papermill": {
     "duration": 0.073143,
     "end_time": "2023-02-20T18:47:05.897624",
     "exception": false,
     "start_time": "2023-02-20T18:47:05.824481",
     "status": "completed"
    },
    "tags": []
   },
   "outputs": [
    {
     "name": "stdout",
     "output_type": "stream",
     "text": [
      "<class 'pandas.core.frame.DataFrame'>\n",
      "Int64Index: 14069 entries, 628756 to 664930\n",
      "Data columns (total 24 columns):\n",
      " #   Column                            Non-Null Count  Dtype  \n",
      "---  ------                            --------------  -----  \n",
      " 0   Hospital County                   14069 non-null  int64  \n",
      " 1   Operating Certificate Number      14069 non-null  float64\n",
      " 2   Facility Id                       14069 non-null  float64\n",
      " 3   Age Group                         14069 non-null  int64  \n",
      " 4   Zip Code - 3 digits               14069 non-null  int64  \n",
      " 5   Gender                            14069 non-null  int64  \n",
      " 6   Race                              14069 non-null  int64  \n",
      " 7   Ethnicity                         14069 non-null  int64  \n",
      " 8   Type of Admission                 14069 non-null  int64  \n",
      " 9   Patient Disposition               14069 non-null  int64  \n",
      " 10  Discharge Year                    14069 non-null  int64  \n",
      " 11  CCS Diagnosis Code                14069 non-null  int64  \n",
      " 12  CCS Procedure Code                14069 non-null  int64  \n",
      " 13  APR DRG Code                      14069 non-null  int64  \n",
      " 14  APR MDC Code                      14069 non-null  int64  \n",
      " 15  APR Severity of Illness Code      14069 non-null  int64  \n",
      " 16  APR Risk of Mortality             14069 non-null  int64  \n",
      " 17  APR Medical Surgical Description  14069 non-null  int64  \n",
      " 18  Payment Typology 1                14069 non-null  int64  \n",
      " 19  Birth Weight                      14069 non-null  int64  \n",
      " 20  Abortion Edit Indicator           14069 non-null  int64  \n",
      " 21  Emergency Department Indicator    14069 non-null  int64  \n",
      " 22  Total Charges                     14069 non-null  float64\n",
      " 23  Total Costs                       14069 non-null  float64\n",
      "dtypes: float64(4), int64(20)\n",
      "memory usage: 2.7 MB\n"
     ]
    }
   ],
   "source": [
    "x.info()"
   ]
  },
  {
   "cell_type": "code",
   "execution_count": 28,
   "id": "84a4ef17",
   "metadata": {
    "execution": {
     "iopub.execute_input": "2023-02-20T18:47:05.991653Z",
     "iopub.status.busy": "2023-02-20T18:47:05.990960Z",
     "iopub.status.idle": "2023-02-20T18:47:06.000022Z",
     "shell.execute_reply": "2023-02-20T18:47:05.999035Z"
    },
    "papermill": {
     "duration": 0.058399,
     "end_time": "2023-02-20T18:47:06.001934",
     "exception": false,
     "start_time": "2023-02-20T18:47:05.943535",
     "status": "completed"
    },
    "tags": []
   },
   "outputs": [
    {
     "data": {
      "text/plain": [
       "628756    5.0\n",
       "628825    4.0\n",
       "629035    2.0\n",
       "629070    1.0\n",
       "629175    6.0\n",
       "         ... \n",
       "664926    1.0\n",
       "664927    1.0\n",
       "664928    1.0\n",
       "664929    1.0\n",
       "664930    1.0\n",
       "Name: Length of Stay, Length: 14069, dtype: float64"
      ]
     },
     "execution_count": 28,
     "metadata": {},
     "output_type": "execute_result"
    }
   ],
   "source": [
    "y"
   ]
  },
  {
   "cell_type": "code",
   "execution_count": 29,
   "id": "99622fa3",
   "metadata": {
    "execution": {
     "iopub.execute_input": "2023-02-20T18:47:06.143981Z",
     "iopub.status.busy": "2023-02-20T18:47:06.142931Z",
     "iopub.status.idle": "2023-02-20T18:47:06.210199Z",
     "shell.execute_reply": "2023-02-20T18:47:06.209091Z"
    },
    "papermill": {
     "duration": 0.164401,
     "end_time": "2023-02-20T18:47:06.212409",
     "exception": false,
     "start_time": "2023-02-20T18:47:06.048008",
     "status": "completed"
    },
    "tags": []
   },
   "outputs": [],
   "source": [
    "from sklearn.model_selection import train_test_split\n",
    "x_train, x_test, y_train, y_test = train_test_split(x, y, test_size=0.3, random_state=42)"
   ]
  },
  {
   "cell_type": "code",
   "execution_count": 30,
   "id": "dd17df54",
   "metadata": {
    "execution": {
     "iopub.execute_input": "2023-02-20T18:47:06.307539Z",
     "iopub.status.busy": "2023-02-20T18:47:06.307140Z",
     "iopub.status.idle": "2023-02-20T18:47:06.495956Z",
     "shell.execute_reply": "2023-02-20T18:47:06.494479Z"
    },
    "papermill": {
     "duration": 0.239191,
     "end_time": "2023-02-20T18:47:06.498249",
     "exception": false,
     "start_time": "2023-02-20T18:47:06.259058",
     "status": "completed"
    },
    "tags": []
   },
   "outputs": [],
   "source": [
    "from sklearn.metrics import r2_score\n",
    "from sklearn.metrics import mean_absolute_error\n",
    "from sklearn.metrics import mean_squared_error\n",
    "from sklearn.linear_model import LinearRegression\n",
    "from sklearn import linear_model\n",
    "from sklearn.linear_model import Ridge\n",
    "from sklearn.tree import DecisionTreeRegressor\n",
    "from sklearn.ensemble import RandomForestRegressor\n",
    "from sklearn.pipeline import make_pipeline\n",
    "from sklearn.preprocessing import StandardScaler\n",
    "import numpy as np\n",
    "from sklearn.svm import SVR"
   ]
  },
  {
   "cell_type": "code",
   "execution_count": 31,
   "id": "dae576ea",
   "metadata": {
    "execution": {
     "iopub.execute_input": "2023-02-20T18:47:06.595850Z",
     "iopub.status.busy": "2023-02-20T18:47:06.595186Z",
     "iopub.status.idle": "2023-02-20T18:47:06.599216Z",
     "shell.execute_reply": "2023-02-20T18:47:06.598344Z"
    },
    "papermill": {
     "duration": 0.054488,
     "end_time": "2023-02-20T18:47:06.600958",
     "exception": false,
     "start_time": "2023-02-20T18:47:06.546470",
     "status": "completed"
    },
    "tags": []
   },
   "outputs": [],
   "source": [
    "# Linear Regression\n",
    "#LR = LinearRegression()\n",
    "#LR.fit(x_train, y_train)"
   ]
  },
  {
   "cell_type": "code",
   "execution_count": 32,
   "id": "eaefc581",
   "metadata": {
    "execution": {
     "iopub.execute_input": "2023-02-20T18:47:06.695312Z",
     "iopub.status.busy": "2023-02-20T18:47:06.694931Z",
     "iopub.status.idle": "2023-02-20T18:47:06.726577Z",
     "shell.execute_reply": "2023-02-20T18:47:06.725790Z"
    },
    "papermill": {
     "duration": 0.081627,
     "end_time": "2023-02-20T18:47:06.728984",
     "exception": false,
     "start_time": "2023-02-20T18:47:06.647357",
     "status": "completed"
    },
    "tags": []
   },
   "outputs": [],
   "source": [
    "# Linear Regression\n",
    "\n",
    "LR = LinearRegression()\n",
    "LR.fit(x_train, y_train)\n",
    "LR.score(x_train, y_train)\n",
    "y_pred =LR.predict(x_test)"
   ]
  },
  {
   "cell_type": "code",
   "execution_count": 33,
   "id": "add9ff40",
   "metadata": {
    "execution": {
     "iopub.execute_input": "2023-02-20T18:47:06.852268Z",
     "iopub.status.busy": "2023-02-20T18:47:06.851897Z",
     "iopub.status.idle": "2023-02-20T18:47:06.859012Z",
     "shell.execute_reply": "2023-02-20T18:47:06.857668Z"
    },
    "papermill": {
     "duration": 0.070488,
     "end_time": "2023-02-20T18:47:06.861386",
     "exception": false,
     "start_time": "2023-02-20T18:47:06.790898",
     "status": "completed"
    },
    "tags": []
   },
   "outputs": [
    {
     "data": {
      "text/plain": [
       "0.7753107229320534"
      ]
     },
     "execution_count": 33,
     "metadata": {},
     "output_type": "execute_result"
    }
   ],
   "source": [
    "r2 = r2_score(y_test, y_pred)\n",
    "r2 \n"
   ]
  },
  {
   "cell_type": "code",
   "execution_count": 34,
   "id": "9cf3c1f6",
   "metadata": {
    "execution": {
     "iopub.execute_input": "2023-02-20T18:47:06.958204Z",
     "iopub.status.busy": "2023-02-20T18:47:06.957837Z",
     "iopub.status.idle": "2023-02-20T18:47:06.964847Z",
     "shell.execute_reply": "2023-02-20T18:47:06.963985Z"
    },
    "papermill": {
     "duration": 0.057459,
     "end_time": "2023-02-20T18:47:06.966981",
     "exception": false,
     "start_time": "2023-02-20T18:47:06.909522",
     "status": "completed"
    },
    "tags": []
   },
   "outputs": [],
   "source": [
    "# calculate the MAE of the model\n",
    "mae = mean_absolute_error(y_test, y_pred)"
   ]
  },
  {
   "cell_type": "code",
   "execution_count": 35,
   "id": "003a822f",
   "metadata": {
    "execution": {
     "iopub.execute_input": "2023-02-20T18:47:07.064608Z",
     "iopub.status.busy": "2023-02-20T18:47:07.063639Z",
     "iopub.status.idle": "2023-02-20T18:47:07.070684Z",
     "shell.execute_reply": "2023-02-20T18:47:07.069338Z"
    },
    "papermill": {
     "duration": 0.058595,
     "end_time": "2023-02-20T18:47:07.073268",
     "exception": false,
     "start_time": "2023-02-20T18:47:07.014673",
     "status": "completed"
    },
    "tags": []
   },
   "outputs": [
    {
     "data": {
      "text/plain": [
       "1.519038644423741"
      ]
     },
     "execution_count": 35,
     "metadata": {},
     "output_type": "execute_result"
    }
   ],
   "source": [
    "mae"
   ]
  },
  {
   "cell_type": "code",
   "execution_count": 36,
   "id": "56a097d0",
   "metadata": {
    "execution": {
     "iopub.execute_input": "2023-02-20T18:47:07.171476Z",
     "iopub.status.busy": "2023-02-20T18:47:07.170661Z",
     "iopub.status.idle": "2023-02-20T18:47:07.177052Z",
     "shell.execute_reply": "2023-02-20T18:47:07.176378Z"
    },
    "papermill": {
     "duration": 0.057223,
     "end_time": "2023-02-20T18:47:07.178658",
     "exception": false,
     "start_time": "2023-02-20T18:47:07.121435",
     "status": "completed"
    },
    "tags": []
   },
   "outputs": [
    {
     "data": {
      "text/plain": [
       "8.394303923962779"
      ]
     },
     "execution_count": 36,
     "metadata": {},
     "output_type": "execute_result"
    }
   ],
   "source": [
    "# calculate the MSE of the model\n",
    "mse = mean_squared_error(y_test, y_pred)\n",
    "mse"
   ]
  },
  {
   "cell_type": "code",
   "execution_count": 37,
   "id": "9e556fb7",
   "metadata": {
    "execution": {
     "iopub.execute_input": "2023-02-20T18:47:07.274813Z",
     "iopub.status.busy": "2023-02-20T18:47:07.274178Z",
     "iopub.status.idle": "2023-02-20T18:47:07.279779Z",
     "shell.execute_reply": "2023-02-20T18:47:07.278951Z"
    },
    "papermill": {
     "duration": 0.05648,
     "end_time": "2023-02-20T18:47:07.281963",
     "exception": false,
     "start_time": "2023-02-20T18:47:07.225483",
     "status": "completed"
    },
    "tags": []
   },
   "outputs": [
    {
     "data": {
      "text/plain": [
       "2.8972925161196237"
      ]
     },
     "execution_count": 37,
     "metadata": {},
     "output_type": "execute_result"
    }
   ],
   "source": [
    "# calculate the RMSE of the model\n",
    "rmse = np.sqrt(mse)\n",
    "rmse"
   ]
  },
  {
   "cell_type": "code",
   "execution_count": 38,
   "id": "372f7459",
   "metadata": {
    "execution": {
     "iopub.execute_input": "2023-02-20T18:47:07.377736Z",
     "iopub.status.busy": "2023-02-20T18:47:07.377385Z",
     "iopub.status.idle": "2023-02-20T18:47:07.446143Z",
     "shell.execute_reply": "2023-02-20T18:47:07.445151Z"
    },
    "papermill": {
     "duration": 0.119048,
     "end_time": "2023-02-20T18:47:07.448560",
     "exception": false,
     "start_time": "2023-02-20T18:47:07.329512",
     "status": "completed"
    },
    "tags": []
   },
   "outputs": [],
   "source": [
    "# LASSO\n",
    "L1 = linear_model.Lasso()\n",
    "L1.fit(x_train,y_train)\n",
    "y_pred1 = L1.predict(x_test)"
   ]
  },
  {
   "cell_type": "code",
   "execution_count": 39,
   "id": "bce997c7",
   "metadata": {
    "execution": {
     "iopub.execute_input": "2023-02-20T18:47:07.572049Z",
     "iopub.status.busy": "2023-02-20T18:47:07.571675Z",
     "iopub.status.idle": "2023-02-20T18:47:07.580295Z",
     "shell.execute_reply": "2023-02-20T18:47:07.578882Z"
    },
    "papermill": {
     "duration": 0.071903,
     "end_time": "2023-02-20T18:47:07.582355",
     "exception": false,
     "start_time": "2023-02-20T18:47:07.510452",
     "status": "completed"
    },
    "tags": []
   },
   "outputs": [
    {
     "data": {
      "text/plain": [
       "0.7507020198871027"
      ]
     },
     "execution_count": 39,
     "metadata": {},
     "output_type": "execute_result"
    }
   ],
   "source": [
    "r2 = r2_score(y_test, y_pred1)\n",
    "r2 \n"
   ]
  },
  {
   "cell_type": "code",
   "execution_count": 40,
   "id": "e8963ec2",
   "metadata": {
    "execution": {
     "iopub.execute_input": "2023-02-20T18:47:07.681933Z",
     "iopub.status.busy": "2023-02-20T18:47:07.681553Z",
     "iopub.status.idle": "2023-02-20T18:47:07.689503Z",
     "shell.execute_reply": "2023-02-20T18:47:07.688577Z"
    },
    "papermill": {
     "duration": 0.059382,
     "end_time": "2023-02-20T18:47:07.691472",
     "exception": false,
     "start_time": "2023-02-20T18:47:07.632090",
     "status": "completed"
    },
    "tags": []
   },
   "outputs": [
    {
     "data": {
      "text/plain": [
       "1.5980824331021113"
      ]
     },
     "execution_count": 40,
     "metadata": {},
     "output_type": "execute_result"
    }
   ],
   "source": [
    "# calculate the MAE of the model\n",
    "mae = mean_absolute_error(y_test, y_pred1)\n",
    "mae"
   ]
  },
  {
   "cell_type": "code",
   "execution_count": 41,
   "id": "01043aaa",
   "metadata": {
    "execution": {
     "iopub.execute_input": "2023-02-20T18:47:07.791894Z",
     "iopub.status.busy": "2023-02-20T18:47:07.791549Z",
     "iopub.status.idle": "2023-02-20T18:47:07.799235Z",
     "shell.execute_reply": "2023-02-20T18:47:07.797969Z"
    },
    "papermill": {
     "duration": 0.059292,
     "end_time": "2023-02-20T18:47:07.801000",
     "exception": false,
     "start_time": "2023-02-20T18:47:07.741708",
     "status": "completed"
    },
    "tags": []
   },
   "outputs": [
    {
     "data": {
      "text/plain": [
       "9.313675490018403"
      ]
     },
     "execution_count": 41,
     "metadata": {},
     "output_type": "execute_result"
    }
   ],
   "source": [
    "# calculate the MSE of the model\n",
    "mse = mean_squared_error(y_test, y_pred1)\n",
    "mse"
   ]
  },
  {
   "cell_type": "code",
   "execution_count": 42,
   "id": "615fd708",
   "metadata": {
    "execution": {
     "iopub.execute_input": "2023-02-20T18:47:07.899025Z",
     "iopub.status.busy": "2023-02-20T18:47:07.898710Z",
     "iopub.status.idle": "2023-02-20T18:47:07.905451Z",
     "shell.execute_reply": "2023-02-20T18:47:07.904618Z"
    },
    "papermill": {
     "duration": 0.057617,
     "end_time": "2023-02-20T18:47:07.907252",
     "exception": false,
     "start_time": "2023-02-20T18:47:07.849635",
     "status": "completed"
    },
    "tags": []
   },
   "outputs": [
    {
     "data": {
      "text/plain": [
       "3.0518314976450456"
      ]
     },
     "execution_count": 42,
     "metadata": {},
     "output_type": "execute_result"
    }
   ],
   "source": [
    "# calculate the RMSE of the model\n",
    "rmse = np.sqrt(mse)\n",
    "rmse"
   ]
  },
  {
   "cell_type": "code",
   "execution_count": 43,
   "id": "48897451",
   "metadata": {
    "execution": {
     "iopub.execute_input": "2023-02-20T18:47:08.005701Z",
     "iopub.status.busy": "2023-02-20T18:47:08.005289Z",
     "iopub.status.idle": "2023-02-20T18:47:08.031344Z",
     "shell.execute_reply": "2023-02-20T18:47:08.030432Z"
    },
    "papermill": {
     "duration": 0.078232,
     "end_time": "2023-02-20T18:47:08.033830",
     "exception": false,
     "start_time": "2023-02-20T18:47:07.955598",
     "status": "completed"
    },
    "tags": []
   },
   "outputs": [],
   "source": [
    "# Ridge\n",
    "L2 = Ridge(alpha=1.0)\n",
    "L2.fit(x_train, y_train) \n",
    "y_pred3 = L2.predict(x_test)"
   ]
  },
  {
   "cell_type": "code",
   "execution_count": 44,
   "id": "40cd4c6f",
   "metadata": {
    "execution": {
     "iopub.execute_input": "2023-02-20T18:47:08.210316Z",
     "iopub.status.busy": "2023-02-20T18:47:08.209918Z",
     "iopub.status.idle": "2023-02-20T18:47:08.217054Z",
     "shell.execute_reply": "2023-02-20T18:47:08.216325Z"
    },
    "papermill": {
     "duration": 0.066489,
     "end_time": "2023-02-20T18:47:08.219026",
     "exception": false,
     "start_time": "2023-02-20T18:47:08.152537",
     "status": "completed"
    },
    "tags": []
   },
   "outputs": [
    {
     "data": {
      "text/plain": [
       "0.7753072003472253"
      ]
     },
     "execution_count": 44,
     "metadata": {},
     "output_type": "execute_result"
    }
   ],
   "source": [
    "r2 = r2_score(y_test, y_pred3)\n",
    "r2 "
   ]
  },
  {
   "cell_type": "code",
   "execution_count": 45,
   "id": "ce6aaf43",
   "metadata": {
    "execution": {
     "iopub.execute_input": "2023-02-20T18:47:08.329414Z",
     "iopub.status.busy": "2023-02-20T18:47:08.328544Z",
     "iopub.status.idle": "2023-02-20T18:47:08.334993Z",
     "shell.execute_reply": "2023-02-20T18:47:08.333773Z"
    },
    "papermill": {
     "duration": 0.063184,
     "end_time": "2023-02-20T18:47:08.337775",
     "exception": false,
     "start_time": "2023-02-20T18:47:08.274591",
     "status": "completed"
    },
    "tags": []
   },
   "outputs": [
    {
     "data": {
      "text/plain": [
       "1.5188909684172016"
      ]
     },
     "execution_count": 45,
     "metadata": {},
     "output_type": "execute_result"
    }
   ],
   "source": [
    "# calculate the MAE of the model\n",
    "mae = mean_absolute_error(y_test, y_pred3)\n",
    "mae"
   ]
  },
  {
   "cell_type": "code",
   "execution_count": 46,
   "id": "2ecd7b6d",
   "metadata": {
    "execution": {
     "iopub.execute_input": "2023-02-20T18:47:08.443503Z",
     "iopub.status.busy": "2023-02-20T18:47:08.442770Z",
     "iopub.status.idle": "2023-02-20T18:47:08.448994Z",
     "shell.execute_reply": "2023-02-20T18:47:08.448304Z"
    },
    "papermill": {
     "duration": 0.057239,
     "end_time": "2023-02-20T18:47:08.450797",
     "exception": false,
     "start_time": "2023-02-20T18:47:08.393558",
     "status": "completed"
    },
    "tags": []
   },
   "outputs": [
    {
     "data": {
      "text/plain": [
       "8.394435526360677"
      ]
     },
     "execution_count": 46,
     "metadata": {},
     "output_type": "execute_result"
    }
   ],
   "source": [
    "# calculate the MSE of the model\n",
    "mse = mean_squared_error(y_test, y_pred3)\n",
    "mse"
   ]
  },
  {
   "cell_type": "code",
   "execution_count": 47,
   "id": "40a2a1ea",
   "metadata": {
    "execution": {
     "iopub.execute_input": "2023-02-20T18:47:08.552113Z",
     "iopub.status.busy": "2023-02-20T18:47:08.551486Z",
     "iopub.status.idle": "2023-02-20T18:47:08.556771Z",
     "shell.execute_reply": "2023-02-20T18:47:08.556105Z"
    },
    "papermill": {
     "duration": 0.057918,
     "end_time": "2023-02-20T18:47:08.558456",
     "exception": false,
     "start_time": "2023-02-20T18:47:08.500538",
     "status": "completed"
    },
    "tags": []
   },
   "outputs": [
    {
     "data": {
      "text/plain": [
       "2.8973152273028004"
      ]
     },
     "execution_count": 47,
     "metadata": {},
     "output_type": "execute_result"
    }
   ],
   "source": [
    "# calculate the RMSE of the model\n",
    "rmse = np.sqrt(mse)\n",
    "rmse"
   ]
  },
  {
   "cell_type": "markdown",
   "id": "1a645500",
   "metadata": {
    "papermill": {
     "duration": 0.047611,
     "end_time": "2023-02-20T18:47:08.655414",
     "exception": false,
     "start_time": "2023-02-20T18:47:08.607803",
     "status": "completed"
    },
    "tags": []
   },
   "source": [
    "Client 7 : The Burdett Care Center"
   ]
  },
  {
   "cell_type": "code",
   "execution_count": 48,
   "id": "42c46a17",
   "metadata": {
    "execution": {
     "iopub.execute_input": "2023-02-20T18:47:08.757243Z",
     "iopub.status.busy": "2023-02-20T18:47:08.756827Z",
     "iopub.status.idle": "2023-02-20T18:47:08.894619Z",
     "shell.execute_reply": "2023-02-20T18:47:08.893712Z"
    },
    "papermill": {
     "duration": 0.192449,
     "end_time": "2023-02-20T18:47:08.896885",
     "exception": false,
     "start_time": "2023-02-20T18:47:08.704436",
     "status": "completed"
    },
    "tags": []
   },
   "outputs": [],
   "source": [
    "Burdett_df=df[df[\"Facility Name\"]== 'The Burdett Care Center']"
   ]
  },
  {
   "cell_type": "code",
   "execution_count": 49,
   "id": "acc489b5",
   "metadata": {
    "execution": {
     "iopub.execute_input": "2023-02-20T18:47:08.995820Z",
     "iopub.status.busy": "2023-02-20T18:47:08.995458Z",
     "iopub.status.idle": "2023-02-20T18:47:09.012748Z",
     "shell.execute_reply": "2023-02-20T18:47:09.011340Z"
    },
    "papermill": {
     "duration": 0.068849,
     "end_time": "2023-02-20T18:47:09.014526",
     "exception": false,
     "start_time": "2023-02-20T18:47:08.945677",
     "status": "completed"
    },
    "tags": []
   },
   "outputs": [
    {
     "name": "stdout",
     "output_type": "stream",
     "text": [
      "<class 'pandas.core.frame.DataFrame'>\n",
      "Int64Index: 2007 entries, 664931 to 666956\n",
      "Data columns (total 28 columns):\n",
      " #   Column                            Non-Null Count  Dtype   \n",
      "---  ------                            --------------  -----   \n",
      " 0   Hospital County                   2007 non-null   category\n",
      " 1   Operating Certificate Number      2007 non-null   float64 \n",
      " 2   Facility Id                       2007 non-null   float64 \n",
      " 3   Facility Name                     2007 non-null   object  \n",
      " 4   Age Group                         2007 non-null   category\n",
      " 5   Zip Code - 3 digits               1990 non-null   category\n",
      " 6   Gender                            2007 non-null   category\n",
      " 7   Race                              2007 non-null   category\n",
      " 8   Ethnicity                         2007 non-null   category\n",
      " 9   Length of Stay                    2007 non-null   category\n",
      " 10  Type of Admission                 2007 non-null   category\n",
      " 11  Patient Disposition               2007 non-null   category\n",
      " 12  Discharge Year                    2007 non-null   int64   \n",
      " 13  CCS Diagnosis Code                2007 non-null   int64   \n",
      " 14  CCS Procedure Code                2007 non-null   int64   \n",
      " 15  APR DRG Code                      2007 non-null   int64   \n",
      " 16  APR MDC Code                      2007 non-null   int64   \n",
      " 17  APR Severity of Illness Code      2007 non-null   int64   \n",
      " 18  APR Risk of Mortality             2007 non-null   category\n",
      " 19  APR Medical Surgical Description  2007 non-null   category\n",
      " 20  Payment Typology 1                2007 non-null   category\n",
      " 21  Payment Typology 2                2007 non-null   category\n",
      " 22  Payment Typology 3                2007 non-null   category\n",
      " 23  Birth Weight                      2007 non-null   int64   \n",
      " 24  Abortion Edit Indicator           2007 non-null   category\n",
      " 25  Emergency Department Indicator    2007 non-null   category\n",
      " 26  Total Charges                     2007 non-null   float64 \n",
      " 27  Total Costs                       2007 non-null   float64 \n",
      "dtypes: category(16), float64(4), int64(7), object(1)\n",
      "memory usage: 255.3+ KB\n"
     ]
    }
   ],
   "source": [
    "Burdett_df.info()"
   ]
  },
  {
   "cell_type": "code",
   "execution_count": 50,
   "id": "af84fd94",
   "metadata": {
    "execution": {
     "iopub.execute_input": "2023-02-20T18:47:09.113718Z",
     "iopub.status.busy": "2023-02-20T18:47:09.113349Z",
     "iopub.status.idle": "2023-02-20T18:47:09.157059Z",
     "shell.execute_reply": "2023-02-20T18:47:09.156203Z"
    },
    "papermill": {
     "duration": 0.097187,
     "end_time": "2023-02-20T18:47:09.160021",
     "exception": false,
     "start_time": "2023-02-20T18:47:09.062834",
     "status": "completed"
    },
    "tags": []
   },
   "outputs": [
    {
     "name": "stdout",
     "output_type": "stream",
     "text": [
      "Hospital County : 1\n",
      "Rensselaer    2007\n",
      "Albany           0\n",
      "Niagara          0\n",
      "Onondaga         0\n",
      "Ontario          0\n",
      "Name: Hospital County, dtype: int64\n",
      "\n",
      "********************\n",
      "\n",
      "Operating Certificate Number : 1\n",
      "4102004.0    2007\n",
      "Name: Operating Certificate Number, dtype: int64\n",
      "\n",
      "********************\n",
      "\n",
      "Facility Id : 1\n",
      "9250.0    2007\n",
      "Name: Facility Id, dtype: int64\n",
      "\n",
      "********************\n",
      "\n",
      "Facility Name : 1\n",
      "The Burdett Care Center    2007\n",
      "Name: Facility Name, dtype: int64\n",
      "\n",
      "********************\n",
      "\n",
      "Age Group : 3\n",
      "0 to 17        997\n",
      "18 to 29       623\n",
      "30 to 49       387\n",
      "50 to 69         0\n",
      "70 or Older      0\n",
      "Name: Age Group, dtype: int64\n",
      "\n",
      "********************\n",
      "\n",
      "Zip Code - 3 digits : 7\n",
      "121    1309\n",
      "120     466\n",
      "122     110\n",
      "123      50\n",
      "128      45\n",
      "Name: Zip Code - 3 digits, dtype: int64\n",
      "\n",
      "********************\n",
      "\n",
      "Gender : 2\n",
      "F    1498\n",
      "M     509\n",
      "U       0\n",
      "Name: Gender, dtype: int64\n",
      "\n",
      "********************\n",
      "\n",
      "Race : 3\n",
      "White                     1376\n",
      "Other Race                 396\n",
      "Black/African American     235\n",
      "Multi-racial                 0\n",
      "Name: Race, dtype: int64\n",
      "\n",
      "********************\n",
      "\n",
      "Ethnicity : 2\n",
      "Not Span/Hispanic    1922\n",
      "Spanish/Hispanic       85\n",
      "Multi-ethnic            0\n",
      "Unknown                 0\n",
      "Name: Ethnicity, dtype: int64\n",
      "\n",
      "********************\n",
      "\n",
      "Length of Stay : 7\n",
      "2    994\n",
      "3    456\n",
      "1    386\n",
      "4    119\n",
      "5     38\n",
      "Name: Length of Stay, dtype: int64\n",
      "\n",
      "********************\n",
      "\n",
      "Type of Admission : 4\n",
      "Newborn          985\n",
      "Elective         710\n",
      "Urgent           286\n",
      "Emergency         26\n",
      "Not Available      0\n",
      "Name: Type of Admission, dtype: int64\n",
      "\n",
      "********************\n",
      "\n",
      "Patient Disposition : 4\n",
      "Home or Self Care              1963\n",
      "Short-term Hospital              42\n",
      "Expired                           1\n",
      "Left Against Medical Advice       1\n",
      "Another Type Not Listed           0\n",
      "Name: Patient Disposition, dtype: int64\n",
      "\n",
      "********************\n",
      "\n",
      "Discharge Year : 1\n",
      "2015    2007\n",
      "Name: Discharge Year, dtype: int64\n",
      "\n",
      "********************\n",
      "\n",
      "CCS Diagnosis Code : 18\n",
      "218    985\n",
      "195    184\n",
      "191    111\n",
      "185    108\n",
      "192    104\n",
      "Name: CCS Diagnosis Code, dtype: int64\n",
      "\n",
      "********************\n",
      "\n",
      "CCS Procedure Code : 29\n",
      "228    455\n",
      "115    365\n",
      "134    243\n",
      "231    198\n",
      "0      191\n",
      "Name: CCS Procedure Code, dtype: int64\n",
      "\n",
      "********************\n",
      "\n",
      "APR DRG Code : 19\n",
      "640    892\n",
      "560    723\n",
      "540    244\n",
      "581     36\n",
      "626     22\n",
      "Name: APR DRG Code, dtype: int64\n",
      "\n",
      "********************\n",
      "\n",
      "APR MDC Code : 2\n",
      "14    1019\n",
      "15     988\n",
      "Name: APR MDC Code, dtype: int64\n",
      "\n",
      "********************\n",
      "\n",
      "APR Severity of Illness Code : 4\n",
      "1    1372\n",
      "2     559\n",
      "3      74\n",
      "4       2\n",
      "Name: APR Severity of Illness Code, dtype: int64\n",
      "\n",
      "********************\n",
      "\n",
      "APR Risk of Mortality : 4\n",
      "Minor       1995\n",
      "Moderate      10\n",
      "Extreme        1\n",
      "Major          1\n",
      "Name: APR Risk of Mortality, dtype: int64\n",
      "\n",
      "********************\n",
      "\n",
      "APR Medical Surgical Description : 2\n",
      "Medical           1737\n",
      "Surgical           270\n",
      "Not Applicable       0\n",
      "Name: APR Medical Surgical Description, dtype: int64\n",
      "\n",
      "********************\n",
      "\n",
      "Payment Typology 1 : 6\n",
      "Medicaid                    1059\n",
      "Private Health Insurance     549\n",
      "Blue Cross/Blue Shield       289\n",
      "Self-Pay                      52\n",
      "Federal/State/Local/VA        46\n",
      "Name: Payment Typology 1, dtype: int64\n",
      "\n",
      "********************\n",
      "\n",
      "Payment Typology 2 : 6\n",
      "Self-Pay                    1932\n",
      "Medicaid                      61\n",
      "Private Health Insurance       9\n",
      "Blue Cross/Blue Shield         3\n",
      "Medicare                       1\n",
      "Name: Payment Typology 2, dtype: int64\n",
      "\n",
      "********************\n",
      "\n",
      "Payment Typology 3 : 2\n",
      "Self-Pay                     2006\n",
      "Medicaid                        1\n",
      "Blue Cross/Blue Shield          0\n",
      "Department of Corrections       0\n",
      "Federal/State/Local/VA          0\n",
      "Name: Payment Typology 3, dtype: int64\n",
      "\n",
      "********************\n",
      "\n",
      "Birth Weight : 41\n",
      "0       1019\n",
      "3100      85\n",
      "3200      78\n",
      "3300      75\n",
      "3000      74\n",
      "Name: Birth Weight, dtype: int64\n",
      "\n",
      "********************\n",
      "\n",
      "Abortion Edit Indicator : 1\n",
      "N    2007\n",
      "Y       0\n",
      "Name: Abortion Edit Indicator, dtype: int64\n",
      "\n",
      "********************\n",
      "\n",
      "Emergency Department Indicator : 1\n",
      "N    2007\n",
      "Y       0\n",
      "Name: Emergency Department Indicator, dtype: int64\n",
      "\n",
      "********************\n",
      "\n",
      "Total Charges : 1619\n",
      "3356.7    25\n",
      "3035.7    24\n",
      "1757.7    23\n",
      "3060.7    22\n",
      "3185.7    21\n",
      "Name: Total Charges, dtype: int64\n",
      "\n",
      "********************\n",
      "\n",
      "Total Costs : 1637\n",
      "1801.48    24\n",
      "1012.78    23\n",
      "1816.91    22\n",
      "1975.28    21\n",
      "1869.75    20\n",
      "Name: Total Costs, dtype: int64\n",
      "\n",
      "********************\n",
      "\n"
     ]
    }
   ],
   "source": [
    "for col in Burdett_df.columns:\n",
    "    print( col,':', Burdett_df[col].nunique() )#Num of unique values\n",
    "    print(Burdett_df[col].value_counts().nlargest(5)) #Most 5 frequent values\n",
    "    print('\\n' + '*' * 20 + '\\n')"
   ]
  },
  {
   "cell_type": "code",
   "execution_count": 51,
   "id": "e718bacd",
   "metadata": {
    "execution": {
     "iopub.execute_input": "2023-02-20T18:47:09.261845Z",
     "iopub.status.busy": "2023-02-20T18:47:09.261474Z",
     "iopub.status.idle": "2023-02-20T18:47:09.269915Z",
     "shell.execute_reply": "2023-02-20T18:47:09.268677Z"
    },
    "papermill": {
     "duration": 0.063314,
     "end_time": "2023-02-20T18:47:09.271998",
     "exception": false,
     "start_time": "2023-02-20T18:47:09.208684",
     "status": "completed"
    },
    "tags": []
   },
   "outputs": [
    {
     "name": "stderr",
     "output_type": "stream",
     "text": [
      "/opt/conda/lib/python3.7/site-packages/ipykernel_launcher.py:3: SettingWithCopyWarning: \n",
      "A value is trying to be set on a copy of a slice from a DataFrame.\n",
      "Try using .loc[row_indexer,col_indexer] = value instead\n",
      "\n",
      "See the caveats in the documentation: https://pandas.pydata.org/pandas-docs/stable/user_guide/indexing.html#returning-a-view-versus-a-copy\n",
      "  This is separate from the ipykernel package so we can avoid doing imports until\n",
      "/opt/conda/lib/python3.7/site-packages/ipykernel_launcher.py:5: SettingWithCopyWarning: \n",
      "A value is trying to be set on a copy of a slice from a DataFrame.\n",
      "Try using .loc[row_indexer,col_indexer] = value instead\n",
      "\n",
      "See the caveats in the documentation: https://pandas.pydata.org/pandas-docs/stable/user_guide/indexing.html#returning-a-view-versus-a-copy\n",
      "  \"\"\"\n"
     ]
    }
   ],
   "source": [
    " #   simple mapping on binary features.\n",
    "Burdett_df['Abortion Edit Indicator'] = Burdett_df['Abortion Edit Indicator'].apply(\n",
    "     lambda x: 1 if x == 'Y' else (0 if x == 'N' else None))\n",
    "Burdett_df['Emergency Department Indicator'] = Burdett_df['Emergency Department Indicator'].apply(\n",
    "    lambda x: 1 if x == 'Y' else (0 if x == 'N' else None))"
   ]
  },
  {
   "cell_type": "code",
   "execution_count": 52,
   "id": "294fec93",
   "metadata": {
    "execution": {
     "iopub.execute_input": "2023-02-20T18:47:09.372808Z",
     "iopub.status.busy": "2023-02-20T18:47:09.372245Z",
     "iopub.status.idle": "2023-02-20T18:47:09.396832Z",
     "shell.execute_reply": "2023-02-20T18:47:09.395426Z"
    },
    "papermill": {
     "duration": 0.077053,
     "end_time": "2023-02-20T18:47:09.399060",
     "exception": false,
     "start_time": "2023-02-20T18:47:09.322007",
     "status": "completed"
    },
    "tags": []
   },
   "outputs": [
    {
     "data": {
      "text/html": [
       "<div>\n",
       "<style scoped>\n",
       "    .dataframe tbody tr th:only-of-type {\n",
       "        vertical-align: middle;\n",
       "    }\n",
       "\n",
       "    .dataframe tbody tr th {\n",
       "        vertical-align: top;\n",
       "    }\n",
       "\n",
       "    .dataframe thead th {\n",
       "        text-align: right;\n",
       "    }\n",
       "</style>\n",
       "<table border=\"1\" class=\"dataframe\">\n",
       "  <thead>\n",
       "    <tr style=\"text-align: right;\">\n",
       "      <th></th>\n",
       "      <th>Hospital County</th>\n",
       "      <th>Operating Certificate Number</th>\n",
       "      <th>Facility Id</th>\n",
       "      <th>Facility Name</th>\n",
       "      <th>Age Group</th>\n",
       "      <th>Zip Code - 3 digits</th>\n",
       "      <th>Gender</th>\n",
       "      <th>Race</th>\n",
       "      <th>Ethnicity</th>\n",
       "      <th>Length of Stay</th>\n",
       "      <th>...</th>\n",
       "      <th>APR Risk of Mortality</th>\n",
       "      <th>APR Medical Surgical Description</th>\n",
       "      <th>Payment Typology 1</th>\n",
       "      <th>Payment Typology 2</th>\n",
       "      <th>Payment Typology 3</th>\n",
       "      <th>Birth Weight</th>\n",
       "      <th>Abortion Edit Indicator</th>\n",
       "      <th>Emergency Department Indicator</th>\n",
       "      <th>Total Charges</th>\n",
       "      <th>Total Costs</th>\n",
       "    </tr>\n",
       "  </thead>\n",
       "  <tbody>\n",
       "    <tr>\n",
       "      <th>664931</th>\n",
       "      <td>Rensselaer</td>\n",
       "      <td>4102004.0</td>\n",
       "      <td>9250.0</td>\n",
       "      <td>The Burdett Care Center</td>\n",
       "      <td>30 to 49</td>\n",
       "      <td>121</td>\n",
       "      <td>F</td>\n",
       "      <td>White</td>\n",
       "      <td>Not Span/Hispanic</td>\n",
       "      <td>3</td>\n",
       "      <td>...</td>\n",
       "      <td>Minor</td>\n",
       "      <td>Surgical</td>\n",
       "      <td>Private Health Insurance</td>\n",
       "      <td>Self-Pay</td>\n",
       "      <td>Self-Pay</td>\n",
       "      <td>0</td>\n",
       "      <td>0</td>\n",
       "      <td>0</td>\n",
       "      <td>12560.54</td>\n",
       "      <td>7260.24</td>\n",
       "    </tr>\n",
       "    <tr>\n",
       "      <th>664932</th>\n",
       "      <td>Rensselaer</td>\n",
       "      <td>4102004.0</td>\n",
       "      <td>9250.0</td>\n",
       "      <td>The Burdett Care Center</td>\n",
       "      <td>18 to 29</td>\n",
       "      <td>120</td>\n",
       "      <td>F</td>\n",
       "      <td>White</td>\n",
       "      <td>Not Span/Hispanic</td>\n",
       "      <td>2</td>\n",
       "      <td>...</td>\n",
       "      <td>Minor</td>\n",
       "      <td>Medical</td>\n",
       "      <td>Medicaid</td>\n",
       "      <td>Self-Pay</td>\n",
       "      <td>Self-Pay</td>\n",
       "      <td>0</td>\n",
       "      <td>0</td>\n",
       "      <td>0</td>\n",
       "      <td>6672.11</td>\n",
       "      <td>3832.18</td>\n",
       "    </tr>\n",
       "    <tr>\n",
       "      <th>664933</th>\n",
       "      <td>Rensselaer</td>\n",
       "      <td>4102004.0</td>\n",
       "      <td>9250.0</td>\n",
       "      <td>The Burdett Care Center</td>\n",
       "      <td>18 to 29</td>\n",
       "      <td>120</td>\n",
       "      <td>F</td>\n",
       "      <td>White</td>\n",
       "      <td>Not Span/Hispanic</td>\n",
       "      <td>2</td>\n",
       "      <td>...</td>\n",
       "      <td>Minor</td>\n",
       "      <td>Surgical</td>\n",
       "      <td>Medicaid</td>\n",
       "      <td>Self-Pay</td>\n",
       "      <td>Self-Pay</td>\n",
       "      <td>0</td>\n",
       "      <td>0</td>\n",
       "      <td>0</td>\n",
       "      <td>10598.85</td>\n",
       "      <td>5926.81</td>\n",
       "    </tr>\n",
       "    <tr>\n",
       "      <th>664934</th>\n",
       "      <td>Rensselaer</td>\n",
       "      <td>4102004.0</td>\n",
       "      <td>9250.0</td>\n",
       "      <td>The Burdett Care Center</td>\n",
       "      <td>18 to 29</td>\n",
       "      <td>121</td>\n",
       "      <td>F</td>\n",
       "      <td>Black/African American</td>\n",
       "      <td>Not Span/Hispanic</td>\n",
       "      <td>3</td>\n",
       "      <td>...</td>\n",
       "      <td>Minor</td>\n",
       "      <td>Surgical</td>\n",
       "      <td>Blue Cross/Blue Shield</td>\n",
       "      <td>Self-Pay</td>\n",
       "      <td>Self-Pay</td>\n",
       "      <td>0</td>\n",
       "      <td>0</td>\n",
       "      <td>0</td>\n",
       "      <td>17085.67</td>\n",
       "      <td>8402.28</td>\n",
       "    </tr>\n",
       "    <tr>\n",
       "      <th>664935</th>\n",
       "      <td>Rensselaer</td>\n",
       "      <td>4102004.0</td>\n",
       "      <td>9250.0</td>\n",
       "      <td>The Burdett Care Center</td>\n",
       "      <td>18 to 29</td>\n",
       "      <td>120</td>\n",
       "      <td>F</td>\n",
       "      <td>White</td>\n",
       "      <td>Not Span/Hispanic</td>\n",
       "      <td>2</td>\n",
       "      <td>...</td>\n",
       "      <td>Minor</td>\n",
       "      <td>Surgical</td>\n",
       "      <td>Medicaid</td>\n",
       "      <td>Self-Pay</td>\n",
       "      <td>Self-Pay</td>\n",
       "      <td>0</td>\n",
       "      <td>0</td>\n",
       "      <td>0</td>\n",
       "      <td>9914.79</td>\n",
       "      <td>5671.25</td>\n",
       "    </tr>\n",
       "  </tbody>\n",
       "</table>\n",
       "<p>5 rows × 28 columns</p>\n",
       "</div>"
      ],
      "text/plain": [
       "       Hospital County  Operating Certificate Number  Facility Id  \\\n",
       "664931      Rensselaer                     4102004.0       9250.0   \n",
       "664932      Rensselaer                     4102004.0       9250.0   \n",
       "664933      Rensselaer                     4102004.0       9250.0   \n",
       "664934      Rensselaer                     4102004.0       9250.0   \n",
       "664935      Rensselaer                     4102004.0       9250.0   \n",
       "\n",
       "                  Facility Name Age Group Zip Code - 3 digits Gender  \\\n",
       "664931  The Burdett Care Center  30 to 49                 121      F   \n",
       "664932  The Burdett Care Center  18 to 29                 120      F   \n",
       "664933  The Burdett Care Center  18 to 29                 120      F   \n",
       "664934  The Burdett Care Center  18 to 29                 121      F   \n",
       "664935  The Burdett Care Center  18 to 29                 120      F   \n",
       "\n",
       "                          Race          Ethnicity Length of Stay  ...  \\\n",
       "664931                   White  Not Span/Hispanic              3  ...   \n",
       "664932                   White  Not Span/Hispanic              2  ...   \n",
       "664933                   White  Not Span/Hispanic              2  ...   \n",
       "664934  Black/African American  Not Span/Hispanic              3  ...   \n",
       "664935                   White  Not Span/Hispanic              2  ...   \n",
       "\n",
       "       APR Risk of Mortality APR Medical Surgical Description  \\\n",
       "664931                 Minor                         Surgical   \n",
       "664932                 Minor                          Medical   \n",
       "664933                 Minor                         Surgical   \n",
       "664934                 Minor                         Surgical   \n",
       "664935                 Minor                         Surgical   \n",
       "\n",
       "              Payment Typology 1  Payment Typology 2  Payment Typology 3  \\\n",
       "664931  Private Health Insurance            Self-Pay            Self-Pay   \n",
       "664932                  Medicaid            Self-Pay            Self-Pay   \n",
       "664933                  Medicaid            Self-Pay            Self-Pay   \n",
       "664934    Blue Cross/Blue Shield            Self-Pay            Self-Pay   \n",
       "664935                  Medicaid            Self-Pay            Self-Pay   \n",
       "\n",
       "        Birth Weight  Abortion Edit Indicator  Emergency Department Indicator  \\\n",
       "664931             0                        0                               0   \n",
       "664932             0                        0                               0   \n",
       "664933             0                        0                               0   \n",
       "664934             0                        0                               0   \n",
       "664935             0                        0                               0   \n",
       "\n",
       "       Total Charges Total Costs  \n",
       "664931      12560.54     7260.24  \n",
       "664932       6672.11     3832.18  \n",
       "664933      10598.85     5926.81  \n",
       "664934      17085.67     8402.28  \n",
       "664935       9914.79     5671.25  \n",
       "\n",
       "[5 rows x 28 columns]"
      ]
     },
     "execution_count": 52,
     "metadata": {},
     "output_type": "execute_result"
    }
   ],
   "source": [
    "Burdett_df.head()"
   ]
  },
  {
   "cell_type": "code",
   "execution_count": 53,
   "id": "a99f96a1",
   "metadata": {
    "execution": {
     "iopub.execute_input": "2023-02-20T18:47:09.499948Z",
     "iopub.status.busy": "2023-02-20T18:47:09.498920Z",
     "iopub.status.idle": "2023-02-20T18:47:09.507394Z",
     "shell.execute_reply": "2023-02-20T18:47:09.505628Z"
    },
    "papermill": {
     "duration": 0.062286,
     "end_time": "2023-02-20T18:47:09.510928",
     "exception": false,
     "start_time": "2023-02-20T18:47:09.448642",
     "status": "completed"
    },
    "tags": []
   },
   "outputs": [
    {
     "name": "stderr",
     "output_type": "stream",
     "text": [
      "/opt/conda/lib/python3.7/site-packages/ipykernel_launcher.py:1: SettingWithCopyWarning: \n",
      "A value is trying to be set on a copy of a slice from a DataFrame.\n",
      "Try using .loc[row_indexer,col_indexer] = value instead\n",
      "\n",
      "See the caveats in the documentation: https://pandas.pydata.org/pandas-docs/stable/user_guide/indexing.html#returning-a-view-versus-a-copy\n",
      "  \"\"\"Entry point for launching an IPython kernel.\n"
     ]
    }
   ],
   "source": [
    "Burdett_df[\"Length of Stay\"]=pd.to_numeric(Burdett_df[\"Length of Stay\"],errors='coerce')"
   ]
  },
  {
   "cell_type": "code",
   "execution_count": 54,
   "id": "acd24858",
   "metadata": {
    "execution": {
     "iopub.execute_input": "2023-02-20T18:47:09.614171Z",
     "iopub.status.busy": "2023-02-20T18:47:09.612979Z",
     "iopub.status.idle": "2023-02-20T18:47:09.631089Z",
     "shell.execute_reply": "2023-02-20T18:47:09.630260Z"
    },
    "papermill": {
     "duration": 0.073469,
     "end_time": "2023-02-20T18:47:09.634671",
     "exception": false,
     "start_time": "2023-02-20T18:47:09.561202",
     "status": "completed"
    },
    "tags": []
   },
   "outputs": [
    {
     "name": "stdout",
     "output_type": "stream",
     "text": [
      "<class 'pandas.core.frame.DataFrame'>\n",
      "Int64Index: 2007 entries, 664931 to 666956\n",
      "Data columns (total 28 columns):\n",
      " #   Column                            Non-Null Count  Dtype   \n",
      "---  ------                            --------------  -----   \n",
      " 0   Hospital County                   2007 non-null   category\n",
      " 1   Operating Certificate Number      2007 non-null   float64 \n",
      " 2   Facility Id                       2007 non-null   float64 \n",
      " 3   Facility Name                     2007 non-null   object  \n",
      " 4   Age Group                         2007 non-null   category\n",
      " 5   Zip Code - 3 digits               1990 non-null   category\n",
      " 6   Gender                            2007 non-null   category\n",
      " 7   Race                              2007 non-null   category\n",
      " 8   Ethnicity                         2007 non-null   category\n",
      " 9   Length of Stay                    2007 non-null   int64   \n",
      " 10  Type of Admission                 2007 non-null   category\n",
      " 11  Patient Disposition               2007 non-null   category\n",
      " 12  Discharge Year                    2007 non-null   int64   \n",
      " 13  CCS Diagnosis Code                2007 non-null   int64   \n",
      " 14  CCS Procedure Code                2007 non-null   int64   \n",
      " 15  APR DRG Code                      2007 non-null   int64   \n",
      " 16  APR MDC Code                      2007 non-null   int64   \n",
      " 17  APR Severity of Illness Code      2007 non-null   int64   \n",
      " 18  APR Risk of Mortality             2007 non-null   category\n",
      " 19  APR Medical Surgical Description  2007 non-null   category\n",
      " 20  Payment Typology 1                2007 non-null   category\n",
      " 21  Payment Typology 2                2007 non-null   category\n",
      " 22  Payment Typology 3                2007 non-null   category\n",
      " 23  Birth Weight                      2007 non-null   int64   \n",
      " 24  Abortion Edit Indicator           2007 non-null   category\n",
      " 25  Emergency Department Indicator    2007 non-null   category\n",
      " 26  Total Charges                     2007 non-null   float64 \n",
      " 27  Total Costs                       2007 non-null   float64 \n",
      "dtypes: category(15), float64(4), int64(8), object(1)\n",
      "memory usage: 257.2+ KB\n"
     ]
    }
   ],
   "source": [
    "Burdett_df.info()"
   ]
  },
  {
   "cell_type": "code",
   "execution_count": 55,
   "id": "52510702",
   "metadata": {
    "execution": {
     "iopub.execute_input": "2023-02-20T18:47:09.737356Z",
     "iopub.status.busy": "2023-02-20T18:47:09.736988Z",
     "iopub.status.idle": "2023-02-20T18:47:09.757242Z",
     "shell.execute_reply": "2023-02-20T18:47:09.755641Z"
    },
    "papermill": {
     "duration": 0.074074,
     "end_time": "2023-02-20T18:47:09.759866",
     "exception": false,
     "start_time": "2023-02-20T18:47:09.685792",
     "status": "completed"
    },
    "tags": []
   },
   "outputs": [
    {
     "name": "stderr",
     "output_type": "stream",
     "text": [
      "/opt/conda/lib/python3.7/site-packages/ipykernel_launcher.py:29: SettingWithCopyWarning: \n",
      "A value is trying to be set on a copy of a slice from a DataFrame.\n",
      "Try using .loc[row_indexer,col_indexer] = value instead\n",
      "\n",
      "See the caveats in the documentation: https://pandas.pydata.org/pandas-docs/stable/user_guide/indexing.html#returning-a-view-versus-a-copy\n"
     ]
    }
   ],
   "source": [
    "list=  [ \"Hospital County\",\"Age Group\"\n",
    "    ,\"Gender\",   \n",
    " \"Race\" , \n",
    "\"Ethnicity\", \n",
    "\"Gender\" , \n",
    "\"Race\" ,    \n",
    " \"Ethnicity\" ,        \n",
    " \"Type of Admission\"  ,  \n",
    "  \"Patient Disposition\",      \n",
    " \"Type of Admission\" ,  \n",
    " \"Patient Disposition\"  ,\n",
    "  \"APR Risk of Mortality\" ,   \n",
    " \"APR Medical Surgical Description\" ,\n",
    " \"Payment Typology 1\"   ,   \n",
    " \"Abortion Edit Indicator\"     ,  \n",
    " \"Emergency Department Indicator\",\n",
    "       \"Zip Code - 3 digits\",\"Payment Typology 2\"        \n",
    "   ,\"Payment Typology 3\"]  \n",
    "\n",
    "# Import label encoder\n",
    "from sklearn import preprocessing\n",
    "  \n",
    "# label_encoder object knows how to understand word labels.        \n",
    "   \n",
    "label_encoder = preprocessing.LabelEncoder()\n",
    "  \n",
    "# Encode labels in column 'species'. \n",
    "for col in list :\n",
    "  Burdett_df[col]= label_encoder.fit_transform(Burdett_df[col])"
   ]
  },
  {
   "cell_type": "code",
   "execution_count": 56,
   "id": "099336e6",
   "metadata": {
    "execution": {
     "iopub.execute_input": "2023-02-20T18:47:09.863127Z",
     "iopub.status.busy": "2023-02-20T18:47:09.862555Z",
     "iopub.status.idle": "2023-02-20T18:47:09.876829Z",
     "shell.execute_reply": "2023-02-20T18:47:09.875968Z"
    },
    "papermill": {
     "duration": 0.068799,
     "end_time": "2023-02-20T18:47:09.879488",
     "exception": false,
     "start_time": "2023-02-20T18:47:09.810689",
     "status": "completed"
    },
    "tags": []
   },
   "outputs": [
    {
     "name": "stdout",
     "output_type": "stream",
     "text": [
      "<class 'pandas.core.frame.DataFrame'>\n",
      "Int64Index: 2007 entries, 664931 to 666956\n",
      "Data columns (total 28 columns):\n",
      " #   Column                            Non-Null Count  Dtype  \n",
      "---  ------                            --------------  -----  \n",
      " 0   Hospital County                   2007 non-null   int64  \n",
      " 1   Operating Certificate Number      2007 non-null   float64\n",
      " 2   Facility Id                       2007 non-null   float64\n",
      " 3   Facility Name                     2007 non-null   object \n",
      " 4   Age Group                         2007 non-null   int64  \n",
      " 5   Zip Code - 3 digits               2007 non-null   int64  \n",
      " 6   Gender                            2007 non-null   int64  \n",
      " 7   Race                              2007 non-null   int64  \n",
      " 8   Ethnicity                         2007 non-null   int64  \n",
      " 9   Length of Stay                    2007 non-null   int64  \n",
      " 10  Type of Admission                 2007 non-null   int64  \n",
      " 11  Patient Disposition               2007 non-null   int64  \n",
      " 12  Discharge Year                    2007 non-null   int64  \n",
      " 13  CCS Diagnosis Code                2007 non-null   int64  \n",
      " 14  CCS Procedure Code                2007 non-null   int64  \n",
      " 15  APR DRG Code                      2007 non-null   int64  \n",
      " 16  APR MDC Code                      2007 non-null   int64  \n",
      " 17  APR Severity of Illness Code      2007 non-null   int64  \n",
      " 18  APR Risk of Mortality             2007 non-null   int64  \n",
      " 19  APR Medical Surgical Description  2007 non-null   int64  \n",
      " 20  Payment Typology 1                2007 non-null   int64  \n",
      " 21  Payment Typology 2                2007 non-null   int64  \n",
      " 22  Payment Typology 3                2007 non-null   int64  \n",
      " 23  Birth Weight                      2007 non-null   int64  \n",
      " 24  Abortion Edit Indicator           2007 non-null   int64  \n",
      " 25  Emergency Department Indicator    2007 non-null   int64  \n",
      " 26  Total Charges                     2007 non-null   float64\n",
      " 27  Total Costs                       2007 non-null   float64\n",
      "dtypes: float64(4), int64(23), object(1)\n",
      "memory usage: 454.7+ KB\n"
     ]
    }
   ],
   "source": [
    "Burdett_df.info()"
   ]
  },
  {
   "cell_type": "code",
   "execution_count": 57,
   "id": "2b32aa09",
   "metadata": {
    "execution": {
     "iopub.execute_input": "2023-02-20T18:47:09.980665Z",
     "iopub.status.busy": "2023-02-20T18:47:09.980149Z",
     "iopub.status.idle": "2023-02-20T18:47:09.986359Z",
     "shell.execute_reply": "2023-02-20T18:47:09.985117Z"
    },
    "papermill": {
     "duration": 0.058824,
     "end_time": "2023-02-20T18:47:09.988292",
     "exception": false,
     "start_time": "2023-02-20T18:47:09.929468",
     "status": "completed"
    },
    "tags": []
   },
   "outputs": [],
   "source": [
    "Burdett_df=Burdett_df.drop(\"Facility Name\", axis=1)"
   ]
  },
  {
   "cell_type": "code",
   "execution_count": 58,
   "id": "b953cde5",
   "metadata": {
    "execution": {
     "iopub.execute_input": "2023-02-20T18:47:10.090235Z",
     "iopub.status.busy": "2023-02-20T18:47:10.089800Z",
     "iopub.status.idle": "2023-02-20T18:47:10.097037Z",
     "shell.execute_reply": "2023-02-20T18:47:10.095761Z"
    },
    "papermill": {
     "duration": 0.060535,
     "end_time": "2023-02-20T18:47:10.098962",
     "exception": false,
     "start_time": "2023-02-20T18:47:10.038427",
     "status": "completed"
    },
    "tags": []
   },
   "outputs": [],
   "source": [
    "x = Burdett_df.drop([\"Length of Stay\"], axis =1)\n",
    "y = Burdett_df[\"Length of Stay\"]"
   ]
  },
  {
   "cell_type": "code",
   "execution_count": 59,
   "id": "951d1422",
   "metadata": {
    "execution": {
     "iopub.execute_input": "2023-02-20T18:47:10.202771Z",
     "iopub.status.busy": "2023-02-20T18:47:10.202230Z",
     "iopub.status.idle": "2023-02-20T18:47:10.208844Z",
     "shell.execute_reply": "2023-02-20T18:47:10.207481Z"
    },
    "papermill": {
     "duration": 0.0617,
     "end_time": "2023-02-20T18:47:10.211670",
     "exception": false,
     "start_time": "2023-02-20T18:47:10.149970",
     "status": "completed"
    },
    "tags": []
   },
   "outputs": [],
   "source": [
    "from sklearn.model_selection import train_test_split\n",
    "x_train, x_test, y_train, y_test = train_test_split(x, y, test_size=0.3, random_state=42)"
   ]
  },
  {
   "cell_type": "code",
   "execution_count": 60,
   "id": "400e1027",
   "metadata": {
    "execution": {
     "iopub.execute_input": "2023-02-20T18:47:10.315867Z",
     "iopub.status.busy": "2023-02-20T18:47:10.314164Z",
     "iopub.status.idle": "2023-02-20T18:47:10.329714Z",
     "shell.execute_reply": "2023-02-20T18:47:10.328567Z"
    },
    "papermill": {
     "duration": 0.069893,
     "end_time": "2023-02-20T18:47:10.332338",
     "exception": false,
     "start_time": "2023-02-20T18:47:10.262445",
     "status": "completed"
    },
    "tags": []
   },
   "outputs": [],
   "source": [
    "# Linear Regression\n",
    "\n",
    "LR = LinearRegression()\n",
    "LR.fit(x_train, y_train)\n",
    "LR.score(x_train, y_train)\n",
    "y_pred =LR.predict(x_test)"
   ]
  },
  {
   "cell_type": "code",
   "execution_count": 61,
   "id": "8df0dc7a",
   "metadata": {
    "execution": {
     "iopub.execute_input": "2023-02-20T18:47:10.458816Z",
     "iopub.status.busy": "2023-02-20T18:47:10.458449Z",
     "iopub.status.idle": "2023-02-20T18:47:10.466299Z",
     "shell.execute_reply": "2023-02-20T18:47:10.465135Z"
    },
    "papermill": {
     "duration": 0.071752,
     "end_time": "2023-02-20T18:47:10.467994",
     "exception": false,
     "start_time": "2023-02-20T18:47:10.396242",
     "status": "completed"
    },
    "tags": []
   },
   "outputs": [
    {
     "data": {
      "text/plain": [
       "0.8723056813594046"
      ]
     },
     "execution_count": 61,
     "metadata": {},
     "output_type": "execute_result"
    }
   ],
   "source": [
    "r2 = r2_score(y_test, y_pred)\n",
    "r2 \n"
   ]
  },
  {
   "cell_type": "code",
   "execution_count": 62,
   "id": "c5b12981",
   "metadata": {
    "execution": {
     "iopub.execute_input": "2023-02-20T18:47:10.567741Z",
     "iopub.status.busy": "2023-02-20T18:47:10.567153Z",
     "iopub.status.idle": "2023-02-20T18:47:10.573103Z",
     "shell.execute_reply": "2023-02-20T18:47:10.572286Z"
    },
    "papermill": {
     "duration": 0.058281,
     "end_time": "2023-02-20T18:47:10.574774",
     "exception": false,
     "start_time": "2023-02-20T18:47:10.516493",
     "status": "completed"
    },
    "tags": []
   },
   "outputs": [
    {
     "data": {
      "text/plain": [
       "0.23125353938413457"
      ]
     },
     "execution_count": 62,
     "metadata": {},
     "output_type": "execute_result"
    }
   ],
   "source": [
    "# calculate the MAE of the model\n",
    "mae = mean_absolute_error(y_test, y_pred)\n",
    "mae"
   ]
  },
  {
   "cell_type": "code",
   "execution_count": 63,
   "id": "f31e8685",
   "metadata": {
    "execution": {
     "iopub.execute_input": "2023-02-20T18:47:10.674091Z",
     "iopub.status.busy": "2023-02-20T18:47:10.673461Z",
     "iopub.status.idle": "2023-02-20T18:47:10.679102Z",
     "shell.execute_reply": "2023-02-20T18:47:10.678465Z"
    },
    "papermill": {
     "duration": 0.057287,
     "end_time": "2023-02-20T18:47:10.680653",
     "exception": false,
     "start_time": "2023-02-20T18:47:10.623366",
     "status": "completed"
    },
    "tags": []
   },
   "outputs": [
    {
     "data": {
      "text/plain": [
       "0.1265392685345504"
      ]
     },
     "execution_count": 63,
     "metadata": {},
     "output_type": "execute_result"
    }
   ],
   "source": [
    "# calculate the MSE of the model\n",
    "mse = mean_squared_error(y_test, y_pred)\n",
    "mse"
   ]
  },
  {
   "cell_type": "code",
   "execution_count": 64,
   "id": "1f12158a",
   "metadata": {
    "execution": {
     "iopub.execute_input": "2023-02-20T18:47:10.782498Z",
     "iopub.status.busy": "2023-02-20T18:47:10.781765Z",
     "iopub.status.idle": "2023-02-20T18:47:10.788468Z",
     "shell.execute_reply": "2023-02-20T18:47:10.787117Z"
    },
    "papermill": {
     "duration": 0.060298,
     "end_time": "2023-02-20T18:47:10.790622",
     "exception": false,
     "start_time": "2023-02-20T18:47:10.730324",
     "status": "completed"
    },
    "tags": []
   },
   "outputs": [
    {
     "data": {
      "text/plain": [
       "0.3557235844508351"
      ]
     },
     "execution_count": 64,
     "metadata": {},
     "output_type": "execute_result"
    }
   ],
   "source": [
    "# calculate the RMSE of the model\n",
    "rmse = np.sqrt(mse)\n",
    "rmse"
   ]
  },
  {
   "cell_type": "code",
   "execution_count": 65,
   "id": "ed02f6a8",
   "metadata": {
    "execution": {
     "iopub.execute_input": "2023-02-20T18:47:10.894188Z",
     "iopub.status.busy": "2023-02-20T18:47:10.893201Z",
     "iopub.status.idle": "2023-02-20T18:47:10.909605Z",
     "shell.execute_reply": "2023-02-20T18:47:10.908762Z"
    },
    "papermill": {
     "duration": 0.070412,
     "end_time": "2023-02-20T18:47:10.912130",
     "exception": false,
     "start_time": "2023-02-20T18:47:10.841718",
     "status": "completed"
    },
    "tags": []
   },
   "outputs": [],
   "source": [
    "# LASSO\n",
    "L1 = linear_model.Lasso()\n",
    "L1.fit(x_train,y_train)\n",
    "y_pred1 = L1.predict(x_test)"
   ]
  },
  {
   "cell_type": "code",
   "execution_count": 66,
   "id": "1bdbecf4",
   "metadata": {
    "execution": {
     "iopub.execute_input": "2023-02-20T18:47:11.039813Z",
     "iopub.status.busy": "2023-02-20T18:47:11.039487Z",
     "iopub.status.idle": "2023-02-20T18:47:11.046475Z",
     "shell.execute_reply": "2023-02-20T18:47:11.045048Z"
    },
    "papermill": {
     "duration": 0.071657,
     "end_time": "2023-02-20T18:47:11.048458",
     "exception": false,
     "start_time": "2023-02-20T18:47:10.976801",
     "status": "completed"
    },
    "tags": []
   },
   "outputs": [
    {
     "data": {
      "text/plain": [
       "0.3459801547925998"
      ]
     },
     "execution_count": 66,
     "metadata": {},
     "output_type": "execute_result"
    }
   ],
   "source": [
    "# calculate the MAE of the model\n",
    "mae = mean_absolute_error(y_test, y_pred1)\n",
    "mae"
   ]
  },
  {
   "cell_type": "code",
   "execution_count": 67,
   "id": "455df525",
   "metadata": {
    "execution": {
     "iopub.execute_input": "2023-02-20T18:47:11.151856Z",
     "iopub.status.busy": "2023-02-20T18:47:11.151466Z",
     "iopub.status.idle": "2023-02-20T18:47:11.157944Z",
     "shell.execute_reply": "2023-02-20T18:47:11.157013Z"
    },
    "papermill": {
     "duration": 0.06049,
     "end_time": "2023-02-20T18:47:11.159673",
     "exception": false,
     "start_time": "2023-02-20T18:47:11.099183",
     "status": "completed"
    },
    "tags": []
   },
   "outputs": [
    {
     "data": {
      "text/plain": [
       "0.3101903514122998"
      ]
     },
     "execution_count": 67,
     "metadata": {},
     "output_type": "execute_result"
    }
   ],
   "source": [
    "# calculate the MSE of the model\n",
    "mse = mean_squared_error(y_test, y_pred1)\n",
    "mse"
   ]
  },
  {
   "cell_type": "code",
   "execution_count": 68,
   "id": "8affaba8",
   "metadata": {
    "execution": {
     "iopub.execute_input": "2023-02-20T18:47:11.261739Z",
     "iopub.status.busy": "2023-02-20T18:47:11.261375Z",
     "iopub.status.idle": "2023-02-20T18:47:11.267118Z",
     "shell.execute_reply": "2023-02-20T18:47:11.266013Z"
    },
    "papermill": {
     "duration": 0.05816,
     "end_time": "2023-02-20T18:47:11.268696",
     "exception": false,
     "start_time": "2023-02-20T18:47:11.210536",
     "status": "completed"
    },
    "tags": []
   },
   "outputs": [
    {
     "data": {
      "text/plain": [
       "0.5569473506645846"
      ]
     },
     "execution_count": 68,
     "metadata": {},
     "output_type": "execute_result"
    }
   ],
   "source": [
    "# calculate the RMSE of the model\n",
    "rmse = np.sqrt(mse)\n",
    "rmse"
   ]
  },
  {
   "cell_type": "code",
   "execution_count": 69,
   "id": "2090dfc8",
   "metadata": {
    "execution": {
     "iopub.execute_input": "2023-02-20T18:47:11.368585Z",
     "iopub.status.busy": "2023-02-20T18:47:11.367451Z",
     "iopub.status.idle": "2023-02-20T18:47:11.374692Z",
     "shell.execute_reply": "2023-02-20T18:47:11.373837Z"
    },
    "papermill": {
     "duration": 0.058645,
     "end_time": "2023-02-20T18:47:11.376291",
     "exception": false,
     "start_time": "2023-02-20T18:47:11.317646",
     "status": "completed"
    },
    "tags": []
   },
   "outputs": [
    {
     "data": {
      "text/plain": [
       "0.6869782318864484"
      ]
     },
     "execution_count": 69,
     "metadata": {},
     "output_type": "execute_result"
    }
   ],
   "source": [
    "r2 = r2_score(y_test, y_pred1)\n",
    "r2 \n"
   ]
  },
  {
   "cell_type": "code",
   "execution_count": 70,
   "id": "1cf99a00",
   "metadata": {
    "execution": {
     "iopub.execute_input": "2023-02-20T18:47:11.480427Z",
     "iopub.status.busy": "2023-02-20T18:47:11.480059Z",
     "iopub.status.idle": "2023-02-20T18:47:11.489086Z",
     "shell.execute_reply": "2023-02-20T18:47:11.488352Z"
    },
    "papermill": {
     "duration": 0.064005,
     "end_time": "2023-02-20T18:47:11.491002",
     "exception": false,
     "start_time": "2023-02-20T18:47:11.426997",
     "status": "completed"
    },
    "tags": []
   },
   "outputs": [],
   "source": [
    "# Ridge\n",
    "L2 = Ridge(alpha=1.0)\n",
    "L2.fit(x_train, y_train) \n",
    "y_pred3 = L2.predict(x_test)"
   ]
  },
  {
   "cell_type": "code",
   "execution_count": 71,
   "id": "8631a734",
   "metadata": {
    "execution": {
     "iopub.execute_input": "2023-02-20T18:47:11.619192Z",
     "iopub.status.busy": "2023-02-20T18:47:11.618797Z",
     "iopub.status.idle": "2023-02-20T18:47:11.626347Z",
     "shell.execute_reply": "2023-02-20T18:47:11.625525Z"
    },
    "papermill": {
     "duration": 0.072521,
     "end_time": "2023-02-20T18:47:11.628337",
     "exception": false,
     "start_time": "2023-02-20T18:47:11.555816",
     "status": "completed"
    },
    "tags": []
   },
   "outputs": [
    {
     "data": {
      "text/plain": [
       "0.8810130092697138"
      ]
     },
     "execution_count": 71,
     "metadata": {},
     "output_type": "execute_result"
    }
   ],
   "source": [
    "r2 = r2_score(y_test, y_pred3)\n",
    "r2 "
   ]
  },
  {
   "cell_type": "code",
   "execution_count": 72,
   "id": "7087bb5f",
   "metadata": {
    "execution": {
     "iopub.execute_input": "2023-02-20T18:47:11.731254Z",
     "iopub.status.busy": "2023-02-20T18:47:11.730875Z",
     "iopub.status.idle": "2023-02-20T18:47:11.738400Z",
     "shell.execute_reply": "2023-02-20T18:47:11.737143Z"
    },
    "papermill": {
     "duration": 0.061309,
     "end_time": "2023-02-20T18:47:11.740349",
     "exception": false,
     "start_time": "2023-02-20T18:47:11.679040",
     "status": "completed"
    },
    "tags": []
   },
   "outputs": [
    {
     "data": {
      "text/plain": [
       "0.2269137110295729"
      ]
     },
     "execution_count": 72,
     "metadata": {},
     "output_type": "execute_result"
    }
   ],
   "source": [
    "# calculate the MAE of the model\n",
    "mae = mean_absolute_error(y_test, y_pred3)\n",
    "mae"
   ]
  },
  {
   "cell_type": "code",
   "execution_count": 73,
   "id": "04443350",
   "metadata": {
    "execution": {
     "iopub.execute_input": "2023-02-20T18:47:11.841269Z",
     "iopub.status.busy": "2023-02-20T18:47:11.840805Z",
     "iopub.status.idle": "2023-02-20T18:47:11.848107Z",
     "shell.execute_reply": "2023-02-20T18:47:11.847097Z"
    },
    "papermill": {
     "duration": 0.060653,
     "end_time": "2023-02-20T18:47:11.850497",
     "exception": false,
     "start_time": "2023-02-20T18:47:11.789844",
     "status": "completed"
    },
    "tags": []
   },
   "outputs": [
    {
     "data": {
      "text/plain": [
       "0.11791070215516318"
      ]
     },
     "execution_count": 73,
     "metadata": {},
     "output_type": "execute_result"
    }
   ],
   "source": [
    "# calculate the MSE of the model\n",
    "mse = mean_squared_error(y_test, y_pred3)\n",
    "mse"
   ]
  },
  {
   "cell_type": "code",
   "execution_count": 74,
   "id": "e0676314",
   "metadata": {
    "execution": {
     "iopub.execute_input": "2023-02-20T18:47:11.953310Z",
     "iopub.status.busy": "2023-02-20T18:47:11.952213Z",
     "iopub.status.idle": "2023-02-20T18:47:11.958283Z",
     "shell.execute_reply": "2023-02-20T18:47:11.957460Z"
    },
    "papermill": {
     "duration": 0.058674,
     "end_time": "2023-02-20T18:47:11.960014",
     "exception": false,
     "start_time": "2023-02-20T18:47:11.901340",
     "status": "completed"
    },
    "tags": []
   },
   "outputs": [
    {
     "data": {
      "text/plain": [
       "0.3433812781081158"
      ]
     },
     "execution_count": 74,
     "metadata": {},
     "output_type": "execute_result"
    }
   ],
   "source": [
    "# calculate the RMSE of the model\n",
    "rmse = np.sqrt(mse)\n",
    "rmse"
   ]
  },
  {
   "cell_type": "markdown",
   "id": "0b7b00e8",
   "metadata": {
    "papermill": {
     "duration": 0.049921,
     "end_time": "2023-02-20T18:47:12.060281",
     "exception": false,
     "start_time": "2023-02-20T18:47:12.010360",
     "status": "completed"
    },
    "tags": []
   },
   "source": [
    "Client 8: Putnam Hospital Center"
   ]
  },
  {
   "cell_type": "code",
   "execution_count": 75,
   "id": "48dd4db8",
   "metadata": {
    "execution": {
     "iopub.execute_input": "2023-02-20T18:47:12.164964Z",
     "iopub.status.busy": "2023-02-20T18:47:12.164609Z",
     "iopub.status.idle": "2023-02-20T18:47:12.304338Z",
     "shell.execute_reply": "2023-02-20T18:47:12.303305Z"
    },
    "papermill": {
     "duration": 0.196263,
     "end_time": "2023-02-20T18:47:12.306506",
     "exception": false,
     "start_time": "2023-02-20T18:47:12.110243",
     "status": "completed"
    },
    "tags": []
   },
   "outputs": [],
   "source": [
    "Putnam_df=df[df[\"Facility Name\"]== \"Putnam Hospital Center\"]"
   ]
  },
  {
   "cell_type": "code",
   "execution_count": 76,
   "id": "bcd1982e",
   "metadata": {
    "execution": {
     "iopub.execute_input": "2023-02-20T18:47:12.461466Z",
     "iopub.status.busy": "2023-02-20T18:47:12.461151Z",
     "iopub.status.idle": "2023-02-20T18:47:12.501438Z",
     "shell.execute_reply": "2023-02-20T18:47:12.500105Z"
    },
    "papermill": {
     "duration": 0.146098,
     "end_time": "2023-02-20T18:47:12.503440",
     "exception": false,
     "start_time": "2023-02-20T18:47:12.357342",
     "status": "completed"
    },
    "tags": []
   },
   "outputs": [
    {
     "data": {
      "text/html": [
       "<div>\n",
       "<style scoped>\n",
       "    .dataframe tbody tr th:only-of-type {\n",
       "        vertical-align: middle;\n",
       "    }\n",
       "\n",
       "    .dataframe tbody tr th {\n",
       "        vertical-align: top;\n",
       "    }\n",
       "\n",
       "    .dataframe thead th {\n",
       "        text-align: right;\n",
       "    }\n",
       "</style>\n",
       "<table border=\"1\" class=\"dataframe\">\n",
       "  <thead>\n",
       "    <tr style=\"text-align: right;\">\n",
       "      <th></th>\n",
       "      <th>Hospital County</th>\n",
       "      <th>Operating Certificate Number</th>\n",
       "      <th>Facility Id</th>\n",
       "      <th>Facility Name</th>\n",
       "      <th>Age Group</th>\n",
       "      <th>Zip Code - 3 digits</th>\n",
       "      <th>Gender</th>\n",
       "      <th>Race</th>\n",
       "      <th>Ethnicity</th>\n",
       "      <th>Length of Stay</th>\n",
       "      <th>...</th>\n",
       "      <th>APR Risk of Mortality</th>\n",
       "      <th>APR Medical Surgical Description</th>\n",
       "      <th>Payment Typology 1</th>\n",
       "      <th>Payment Typology 2</th>\n",
       "      <th>Payment Typology 3</th>\n",
       "      <th>Birth Weight</th>\n",
       "      <th>Abortion Edit Indicator</th>\n",
       "      <th>Emergency Department Indicator</th>\n",
       "      <th>Total Charges</th>\n",
       "      <th>Total Costs</th>\n",
       "    </tr>\n",
       "  </thead>\n",
       "  <tbody>\n",
       "    <tr>\n",
       "      <th>700137</th>\n",
       "      <td>Putnam</td>\n",
       "      <td>3950000.0</td>\n",
       "      <td>752.0</td>\n",
       "      <td>Putnam Hospital Center</td>\n",
       "      <td>18 to 29</td>\n",
       "      <td>105</td>\n",
       "      <td>F</td>\n",
       "      <td>Other Race</td>\n",
       "      <td>Unknown</td>\n",
       "      <td>2</td>\n",
       "      <td>...</td>\n",
       "      <td>Minor</td>\n",
       "      <td>Medical</td>\n",
       "      <td>Medicaid</td>\n",
       "      <td>NaN</td>\n",
       "      <td>NaN</td>\n",
       "      <td>0</td>\n",
       "      <td>N</td>\n",
       "      <td>N</td>\n",
       "      <td>7555.49</td>\n",
       "      <td>2300.42</td>\n",
       "    </tr>\n",
       "    <tr>\n",
       "      <th>705867</th>\n",
       "      <td>Putnam</td>\n",
       "      <td>3950000.0</td>\n",
       "      <td>752.0</td>\n",
       "      <td>Putnam Hospital Center</td>\n",
       "      <td>18 to 29</td>\n",
       "      <td>NaN</td>\n",
       "      <td>M</td>\n",
       "      <td>Other Race</td>\n",
       "      <td>Unknown</td>\n",
       "      <td>4</td>\n",
       "      <td>...</td>\n",
       "      <td>Minor</td>\n",
       "      <td>Medical</td>\n",
       "      <td>Medicaid</td>\n",
       "      <td>NaN</td>\n",
       "      <td>NaN</td>\n",
       "      <td>0</td>\n",
       "      <td>N</td>\n",
       "      <td>N</td>\n",
       "      <td>13976.15</td>\n",
       "      <td>4054.04</td>\n",
       "    </tr>\n",
       "    <tr>\n",
       "      <th>706214</th>\n",
       "      <td>Putnam</td>\n",
       "      <td>3950000.0</td>\n",
       "      <td>752.0</td>\n",
       "      <td>Putnam Hospital Center</td>\n",
       "      <td>30 to 49</td>\n",
       "      <td>124</td>\n",
       "      <td>M</td>\n",
       "      <td>White</td>\n",
       "      <td>Not Span/Hispanic</td>\n",
       "      <td>3</td>\n",
       "      <td>...</td>\n",
       "      <td>Minor</td>\n",
       "      <td>Medical</td>\n",
       "      <td>Medicare</td>\n",
       "      <td>Medicaid</td>\n",
       "      <td>NaN</td>\n",
       "      <td>0</td>\n",
       "      <td>N</td>\n",
       "      <td>N</td>\n",
       "      <td>11769.89</td>\n",
       "      <td>3366.13</td>\n",
       "    </tr>\n",
       "    <tr>\n",
       "      <th>706501</th>\n",
       "      <td>Putnam</td>\n",
       "      <td>3950000.0</td>\n",
       "      <td>752.0</td>\n",
       "      <td>Putnam Hospital Center</td>\n",
       "      <td>18 to 29</td>\n",
       "      <td>105</td>\n",
       "      <td>M</td>\n",
       "      <td>Other Race</td>\n",
       "      <td>Unknown</td>\n",
       "      <td>5</td>\n",
       "      <td>...</td>\n",
       "      <td>Minor</td>\n",
       "      <td>Medical</td>\n",
       "      <td>Medicaid</td>\n",
       "      <td>NaN</td>\n",
       "      <td>NaN</td>\n",
       "      <td>0</td>\n",
       "      <td>N</td>\n",
       "      <td>Y</td>\n",
       "      <td>19054.70</td>\n",
       "      <td>5566.92</td>\n",
       "    </tr>\n",
       "    <tr>\n",
       "      <th>706962</th>\n",
       "      <td>Putnam</td>\n",
       "      <td>3950000.0</td>\n",
       "      <td>752.0</td>\n",
       "      <td>Putnam Hospital Center</td>\n",
       "      <td>18 to 29</td>\n",
       "      <td>125</td>\n",
       "      <td>M</td>\n",
       "      <td>White</td>\n",
       "      <td>Not Span/Hispanic</td>\n",
       "      <td>10</td>\n",
       "      <td>...</td>\n",
       "      <td>Minor</td>\n",
       "      <td>Medical</td>\n",
       "      <td>Medicaid</td>\n",
       "      <td>NaN</td>\n",
       "      <td>NaN</td>\n",
       "      <td>0</td>\n",
       "      <td>N</td>\n",
       "      <td>Y</td>\n",
       "      <td>35729.45</td>\n",
       "      <td>10557.89</td>\n",
       "    </tr>\n",
       "    <tr>\n",
       "      <th>...</th>\n",
       "      <td>...</td>\n",
       "      <td>...</td>\n",
       "      <td>...</td>\n",
       "      <td>...</td>\n",
       "      <td>...</td>\n",
       "      <td>...</td>\n",
       "      <td>...</td>\n",
       "      <td>...</td>\n",
       "      <td>...</td>\n",
       "      <td>...</td>\n",
       "      <td>...</td>\n",
       "      <td>...</td>\n",
       "      <td>...</td>\n",
       "      <td>...</td>\n",
       "      <td>...</td>\n",
       "      <td>...</td>\n",
       "      <td>...</td>\n",
       "      <td>...</td>\n",
       "      <td>...</td>\n",
       "      <td>...</td>\n",
       "      <td>...</td>\n",
       "    </tr>\n",
       "    <tr>\n",
       "      <th>745889</th>\n",
       "      <td>Putnam</td>\n",
       "      <td>3950000.0</td>\n",
       "      <td>752.0</td>\n",
       "      <td>Putnam Hospital Center</td>\n",
       "      <td>70 or Older</td>\n",
       "      <td>105</td>\n",
       "      <td>M</td>\n",
       "      <td>White</td>\n",
       "      <td>Not Span/Hispanic</td>\n",
       "      <td>3</td>\n",
       "      <td>...</td>\n",
       "      <td>Major</td>\n",
       "      <td>Medical</td>\n",
       "      <td>Medicare</td>\n",
       "      <td>Blue Cross/Blue Shield</td>\n",
       "      <td>NaN</td>\n",
       "      <td>0</td>\n",
       "      <td>N</td>\n",
       "      <td>Y</td>\n",
       "      <td>26577.54</td>\n",
       "      <td>7658.91</td>\n",
       "    </tr>\n",
       "    <tr>\n",
       "      <th>745890</th>\n",
       "      <td>Putnam</td>\n",
       "      <td>3950000.0</td>\n",
       "      <td>752.0</td>\n",
       "      <td>Putnam Hospital Center</td>\n",
       "      <td>18 to 29</td>\n",
       "      <td>105</td>\n",
       "      <td>F</td>\n",
       "      <td>White</td>\n",
       "      <td>Not Span/Hispanic</td>\n",
       "      <td>1</td>\n",
       "      <td>...</td>\n",
       "      <td>Minor</td>\n",
       "      <td>Medical</td>\n",
       "      <td>Managed Care, Unspecified</td>\n",
       "      <td>NaN</td>\n",
       "      <td>NaN</td>\n",
       "      <td>0</td>\n",
       "      <td>N</td>\n",
       "      <td>Y</td>\n",
       "      <td>11475.15</td>\n",
       "      <td>3425.98</td>\n",
       "    </tr>\n",
       "    <tr>\n",
       "      <th>745891</th>\n",
       "      <td>Putnam</td>\n",
       "      <td>3950000.0</td>\n",
       "      <td>752.0</td>\n",
       "      <td>Putnam Hospital Center</td>\n",
       "      <td>30 to 49</td>\n",
       "      <td>105</td>\n",
       "      <td>M</td>\n",
       "      <td>White</td>\n",
       "      <td>Not Span/Hispanic</td>\n",
       "      <td>2</td>\n",
       "      <td>...</td>\n",
       "      <td>Moderate</td>\n",
       "      <td>Medical</td>\n",
       "      <td>Medicaid</td>\n",
       "      <td>NaN</td>\n",
       "      <td>NaN</td>\n",
       "      <td>0</td>\n",
       "      <td>N</td>\n",
       "      <td>Y</td>\n",
       "      <td>12504.90</td>\n",
       "      <td>3724.22</td>\n",
       "    </tr>\n",
       "    <tr>\n",
       "      <th>745892</th>\n",
       "      <td>Putnam</td>\n",
       "      <td>3950000.0</td>\n",
       "      <td>752.0</td>\n",
       "      <td>Putnam Hospital Center</td>\n",
       "      <td>70 or Older</td>\n",
       "      <td>125</td>\n",
       "      <td>F</td>\n",
       "      <td>White</td>\n",
       "      <td>Not Span/Hispanic</td>\n",
       "      <td>2</td>\n",
       "      <td>...</td>\n",
       "      <td>Minor</td>\n",
       "      <td>Medical</td>\n",
       "      <td>Blue Cross/Blue Shield</td>\n",
       "      <td>NaN</td>\n",
       "      <td>NaN</td>\n",
       "      <td>0</td>\n",
       "      <td>N</td>\n",
       "      <td>Y</td>\n",
       "      <td>15137.95</td>\n",
       "      <td>4513.10</td>\n",
       "    </tr>\n",
       "    <tr>\n",
       "      <th>745893</th>\n",
       "      <td>Putnam</td>\n",
       "      <td>3950000.0</td>\n",
       "      <td>752.0</td>\n",
       "      <td>Putnam Hospital Center</td>\n",
       "      <td>50 to 69</td>\n",
       "      <td>125</td>\n",
       "      <td>M</td>\n",
       "      <td>Black/African American</td>\n",
       "      <td>Not Span/Hispanic</td>\n",
       "      <td>3</td>\n",
       "      <td>...</td>\n",
       "      <td>Moderate</td>\n",
       "      <td>Medical</td>\n",
       "      <td>Medicare</td>\n",
       "      <td>Medicaid</td>\n",
       "      <td>NaN</td>\n",
       "      <td>0</td>\n",
       "      <td>N</td>\n",
       "      <td>Y</td>\n",
       "      <td>23584.89</td>\n",
       "      <td>7014.46</td>\n",
       "    </tr>\n",
       "  </tbody>\n",
       "</table>\n",
       "<p>6785 rows × 28 columns</p>\n",
       "</div>"
      ],
      "text/plain": [
       "       Hospital County  Operating Certificate Number  Facility Id  \\\n",
       "700137          Putnam                     3950000.0        752.0   \n",
       "705867          Putnam                     3950000.0        752.0   \n",
       "706214          Putnam                     3950000.0        752.0   \n",
       "706501          Putnam                     3950000.0        752.0   \n",
       "706962          Putnam                     3950000.0        752.0   \n",
       "...                ...                           ...          ...   \n",
       "745889          Putnam                     3950000.0        752.0   \n",
       "745890          Putnam                     3950000.0        752.0   \n",
       "745891          Putnam                     3950000.0        752.0   \n",
       "745892          Putnam                     3950000.0        752.0   \n",
       "745893          Putnam                     3950000.0        752.0   \n",
       "\n",
       "                 Facility Name    Age Group Zip Code - 3 digits Gender  \\\n",
       "700137  Putnam Hospital Center     18 to 29                 105      F   \n",
       "705867  Putnam Hospital Center     18 to 29                 NaN      M   \n",
       "706214  Putnam Hospital Center     30 to 49                 124      M   \n",
       "706501  Putnam Hospital Center     18 to 29                 105      M   \n",
       "706962  Putnam Hospital Center     18 to 29                 125      M   \n",
       "...                        ...          ...                 ...    ...   \n",
       "745889  Putnam Hospital Center  70 or Older                 105      M   \n",
       "745890  Putnam Hospital Center     18 to 29                 105      F   \n",
       "745891  Putnam Hospital Center     30 to 49                 105      M   \n",
       "745892  Putnam Hospital Center  70 or Older                 125      F   \n",
       "745893  Putnam Hospital Center     50 to 69                 125      M   \n",
       "\n",
       "                          Race          Ethnicity Length of Stay  ...  \\\n",
       "700137              Other Race            Unknown              2  ...   \n",
       "705867              Other Race            Unknown              4  ...   \n",
       "706214                   White  Not Span/Hispanic              3  ...   \n",
       "706501              Other Race            Unknown              5  ...   \n",
       "706962                   White  Not Span/Hispanic             10  ...   \n",
       "...                        ...                ...            ...  ...   \n",
       "745889                   White  Not Span/Hispanic              3  ...   \n",
       "745890                   White  Not Span/Hispanic              1  ...   \n",
       "745891                   White  Not Span/Hispanic              2  ...   \n",
       "745892                   White  Not Span/Hispanic              2  ...   \n",
       "745893  Black/African American  Not Span/Hispanic              3  ...   \n",
       "\n",
       "       APR Risk of Mortality APR Medical Surgical Description  \\\n",
       "700137                 Minor                          Medical   \n",
       "705867                 Minor                          Medical   \n",
       "706214                 Minor                          Medical   \n",
       "706501                 Minor                          Medical   \n",
       "706962                 Minor                          Medical   \n",
       "...                      ...                              ...   \n",
       "745889                 Major                          Medical   \n",
       "745890                 Minor                          Medical   \n",
       "745891              Moderate                          Medical   \n",
       "745892                 Minor                          Medical   \n",
       "745893              Moderate                          Medical   \n",
       "\n",
       "               Payment Typology 1      Payment Typology 2  Payment Typology 3  \\\n",
       "700137                   Medicaid                     NaN                 NaN   \n",
       "705867                   Medicaid                     NaN                 NaN   \n",
       "706214                   Medicare                Medicaid                 NaN   \n",
       "706501                   Medicaid                     NaN                 NaN   \n",
       "706962                   Medicaid                     NaN                 NaN   \n",
       "...                           ...                     ...                 ...   \n",
       "745889                   Medicare  Blue Cross/Blue Shield                 NaN   \n",
       "745890  Managed Care, Unspecified                     NaN                 NaN   \n",
       "745891                   Medicaid                     NaN                 NaN   \n",
       "745892     Blue Cross/Blue Shield                     NaN                 NaN   \n",
       "745893                   Medicare                Medicaid                 NaN   \n",
       "\n",
       "        Birth Weight  Abortion Edit Indicator  Emergency Department Indicator  \\\n",
       "700137             0                        N                               N   \n",
       "705867             0                        N                               N   \n",
       "706214             0                        N                               N   \n",
       "706501             0                        N                               Y   \n",
       "706962             0                        N                               Y   \n",
       "...              ...                      ...                             ...   \n",
       "745889             0                        N                               Y   \n",
       "745890             0                        N                               Y   \n",
       "745891             0                        N                               Y   \n",
       "745892             0                        N                               Y   \n",
       "745893             0                        N                               Y   \n",
       "\n",
       "       Total Charges Total Costs  \n",
       "700137       7555.49     2300.42  \n",
       "705867      13976.15     4054.04  \n",
       "706214      11769.89     3366.13  \n",
       "706501      19054.70     5566.92  \n",
       "706962      35729.45    10557.89  \n",
       "...              ...         ...  \n",
       "745889      26577.54     7658.91  \n",
       "745890      11475.15     3425.98  \n",
       "745891      12504.90     3724.22  \n",
       "745892      15137.95     4513.10  \n",
       "745893      23584.89     7014.46  \n",
       "\n",
       "[6785 rows x 28 columns]"
      ]
     },
     "execution_count": 76,
     "metadata": {},
     "output_type": "execute_result"
    }
   ],
   "source": [
    "Putnam_df\n"
   ]
  },
  {
   "cell_type": "code",
   "execution_count": 77,
   "id": "481d4562",
   "metadata": {
    "execution": {
     "iopub.execute_input": "2023-02-20T18:47:12.605793Z",
     "iopub.status.busy": "2023-02-20T18:47:12.605475Z",
     "iopub.status.idle": "2023-02-20T18:47:12.622295Z",
     "shell.execute_reply": "2023-02-20T18:47:12.621564Z"
    },
    "papermill": {
     "duration": 0.070694,
     "end_time": "2023-02-20T18:47:12.624268",
     "exception": false,
     "start_time": "2023-02-20T18:47:12.553574",
     "status": "completed"
    },
    "tags": []
   },
   "outputs": [
    {
     "name": "stdout",
     "output_type": "stream",
     "text": [
      "<class 'pandas.core.frame.DataFrame'>\n",
      "Int64Index: 6785 entries, 700137 to 745893\n",
      "Data columns (total 28 columns):\n",
      " #   Column                            Non-Null Count  Dtype   \n",
      "---  ------                            --------------  -----   \n",
      " 0   Hospital County                   6785 non-null   category\n",
      " 1   Operating Certificate Number      6785 non-null   float64 \n",
      " 2   Facility Id                       6785 non-null   float64 \n",
      " 3   Facility Name                     6785 non-null   object  \n",
      " 4   Age Group                         6785 non-null   category\n",
      " 5   Zip Code - 3 digits               6684 non-null   category\n",
      " 6   Gender                            6785 non-null   category\n",
      " 7   Race                              6785 non-null   category\n",
      " 8   Ethnicity                         6785 non-null   category\n",
      " 9   Length of Stay                    6785 non-null   category\n",
      " 10  Type of Admission                 6785 non-null   category\n",
      " 11  Patient Disposition               6785 non-null   category\n",
      " 12  Discharge Year                    6785 non-null   int64   \n",
      " 13  CCS Diagnosis Code                6785 non-null   int64   \n",
      " 14  CCS Procedure Code                6785 non-null   int64   \n",
      " 15  APR DRG Code                      6785 non-null   int64   \n",
      " 16  APR MDC Code                      6785 non-null   int64   \n",
      " 17  APR Severity of Illness Code      6785 non-null   int64   \n",
      " 18  APR Risk of Mortality             6785 non-null   category\n",
      " 19  APR Medical Surgical Description  6785 non-null   category\n",
      " 20  Payment Typology 1                6785 non-null   category\n",
      " 21  Payment Typology 2                3195 non-null   category\n",
      " 22  Payment Typology 3                236 non-null    category\n",
      " 23  Birth Weight                      6785 non-null   int64   \n",
      " 24  Abortion Edit Indicator           6785 non-null   category\n",
      " 25  Emergency Department Indicator    6785 non-null   category\n",
      " 26  Total Charges                     6785 non-null   float64 \n",
      " 27  Total Costs                       6785 non-null   float64 \n",
      "dtypes: category(16), float64(4), int64(7), object(1)\n",
      "memory usage: 819.8+ KB\n"
     ]
    }
   ],
   "source": [
    "Putnam_df.info()"
   ]
  },
  {
   "cell_type": "code",
   "execution_count": 78,
   "id": "678e598d",
   "metadata": {
    "execution": {
     "iopub.execute_input": "2023-02-20T18:47:12.730566Z",
     "iopub.status.busy": "2023-02-20T18:47:12.730243Z",
     "iopub.status.idle": "2023-02-20T18:47:12.737140Z",
     "shell.execute_reply": "2023-02-20T18:47:12.736342Z"
    },
    "papermill": {
     "duration": 0.062607,
     "end_time": "2023-02-20T18:47:12.739163",
     "exception": false,
     "start_time": "2023-02-20T18:47:12.676556",
     "status": "completed"
    },
    "tags": []
   },
   "outputs": [
    {
     "name": "stderr",
     "output_type": "stream",
     "text": [
      "/opt/conda/lib/python3.7/site-packages/ipykernel_launcher.py:3: SettingWithCopyWarning: \n",
      "A value is trying to be set on a copy of a slice from a DataFrame.\n",
      "Try using .loc[row_indexer,col_indexer] = value instead\n",
      "\n",
      "See the caveats in the documentation: https://pandas.pydata.org/pandas-docs/stable/user_guide/indexing.html#returning-a-view-versus-a-copy\n",
      "  This is separate from the ipykernel package so we can avoid doing imports until\n",
      "/opt/conda/lib/python3.7/site-packages/ipykernel_launcher.py:5: SettingWithCopyWarning: \n",
      "A value is trying to be set on a copy of a slice from a DataFrame.\n",
      "Try using .loc[row_indexer,col_indexer] = value instead\n",
      "\n",
      "See the caveats in the documentation: https://pandas.pydata.org/pandas-docs/stable/user_guide/indexing.html#returning-a-view-versus-a-copy\n",
      "  \"\"\"\n"
     ]
    }
   ],
   "source": [
    " #   simple mapping on binary features.\n",
    "Putnam_df['Abortion Edit Indicator'] = Putnam_df['Abortion Edit Indicator'].apply(\n",
    "     lambda x: 1 if x == 'Y' else (0 if x == 'N' else None))\n",
    "Putnam_df['Emergency Department Indicator'] = Putnam_df['Emergency Department Indicator'].apply(\n",
    "    lambda x: 1 if x == 'Y' else (0 if x == 'N' else None))"
   ]
  },
  {
   "cell_type": "code",
   "execution_count": 79,
   "id": "4c3d809d",
   "metadata": {
    "execution": {
     "iopub.execute_input": "2023-02-20T18:47:12.850564Z",
     "iopub.status.busy": "2023-02-20T18:47:12.850203Z",
     "iopub.status.idle": "2023-02-20T18:47:12.859357Z",
     "shell.execute_reply": "2023-02-20T18:47:12.858038Z"
    },
    "papermill": {
     "duration": 0.066872,
     "end_time": "2023-02-20T18:47:12.861823",
     "exception": false,
     "start_time": "2023-02-20T18:47:12.794951",
     "status": "completed"
    },
    "tags": []
   },
   "outputs": [
    {
     "name": "stderr",
     "output_type": "stream",
     "text": [
      "/opt/conda/lib/python3.7/site-packages/ipykernel_launcher.py:1: SettingWithCopyWarning: \n",
      "A value is trying to be set on a copy of a slice from a DataFrame.\n",
      "Try using .loc[row_indexer,col_indexer] = value instead\n",
      "\n",
      "See the caveats in the documentation: https://pandas.pydata.org/pandas-docs/stable/user_guide/indexing.html#returning-a-view-versus-a-copy\n",
      "  \"\"\"Entry point for launching an IPython kernel.\n"
     ]
    }
   ],
   "source": [
    "Putnam_df[\"Length of Stay\"]=pd.to_numeric(Putnam_df[\"Length of Stay\"],errors='coerce')"
   ]
  },
  {
   "cell_type": "code",
   "execution_count": 80,
   "id": "7ebce2d8",
   "metadata": {
    "execution": {
     "iopub.execute_input": "2023-02-20T18:47:12.969811Z",
     "iopub.status.busy": "2023-02-20T18:47:12.966919Z",
     "iopub.status.idle": "2023-02-20T18:47:13.002230Z",
     "shell.execute_reply": "2023-02-20T18:47:13.000942Z"
    },
    "papermill": {
     "duration": 0.091148,
     "end_time": "2023-02-20T18:47:13.004966",
     "exception": false,
     "start_time": "2023-02-20T18:47:12.913818",
     "status": "completed"
    },
    "tags": []
   },
   "outputs": [
    {
     "name": "stderr",
     "output_type": "stream",
     "text": [
      "/opt/conda/lib/python3.7/site-packages/ipykernel_launcher.py:27: SettingWithCopyWarning: \n",
      "A value is trying to be set on a copy of a slice from a DataFrame.\n",
      "Try using .loc[row_indexer,col_indexer] = value instead\n",
      "\n",
      "See the caveats in the documentation: https://pandas.pydata.org/pandas-docs/stable/user_guide/indexing.html#returning-a-view-versus-a-copy\n"
     ]
    }
   ],
   "source": [
    "list=  [ \"Hospital County\",\"Age Group\"\n",
    "    ,\"Gender\",   \n",
    " \"Race\" , \n",
    "\"Ethnicity\", \n",
    "\"Gender\" , \n",
    "\"Race\" ,    \n",
    " \"Ethnicity\" ,        \n",
    " \"Type of Admission\"  ,  \n",
    "  \"Patient Disposition\",      \n",
    " \"Type of Admission\" ,  \n",
    " \"Patient Disposition\"  ,\n",
    "  \"APR Risk of Mortality\" ,   \n",
    " \"APR Medical Surgical Description\" ,\n",
    " \"Payment Typology 1\"   ,   \n",
    " \"Abortion Edit Indicator\"     ,  \n",
    " \"Emergency Department Indicator\",\n",
    "       \"Zip Code - 3 digits\"]  \n",
    "\n",
    "# Import label encoder\n",
    "from sklearn import preprocessing\n",
    "  \n",
    "# label_encoder object knows how to understand word labels.\n",
    "label_encoder = preprocessing.LabelEncoder()\n",
    "  \n",
    "# Encode labels in column 'species'.\n",
    "for col in list :\n",
    "   Putnam_df[col]= label_encoder.fit_transform(Putnam_df[col])"
   ]
  },
  {
   "cell_type": "code",
   "execution_count": 81,
   "id": "eb6996a2",
   "metadata": {
    "execution": {
     "iopub.execute_input": "2023-02-20T18:47:13.110878Z",
     "iopub.status.busy": "2023-02-20T18:47:13.110504Z",
     "iopub.status.idle": "2023-02-20T18:47:13.115751Z",
     "shell.execute_reply": "2023-02-20T18:47:13.115112Z"
    },
    "papermill": {
     "duration": 0.060442,
     "end_time": "2023-02-20T18:47:13.117461",
     "exception": false,
     "start_time": "2023-02-20T18:47:13.057019",
     "status": "completed"
    },
    "tags": []
   },
   "outputs": [],
   "source": [
    "Putnam_df = Putnam_df.drop(\"Facility Name\", axis=1)"
   ]
  },
  {
   "cell_type": "code",
   "execution_count": 82,
   "id": "1a4c42b6",
   "metadata": {
    "execution": {
     "iopub.execute_input": "2023-02-20T18:47:13.225331Z",
     "iopub.status.busy": "2023-02-20T18:47:13.224863Z",
     "iopub.status.idle": "2023-02-20T18:47:13.230857Z",
     "shell.execute_reply": "2023-02-20T18:47:13.229928Z"
    },
    "papermill": {
     "duration": 0.062437,
     "end_time": "2023-02-20T18:47:13.232750",
     "exception": false,
     "start_time": "2023-02-20T18:47:13.170313",
     "status": "completed"
    },
    "tags": []
   },
   "outputs": [],
   "source": [
    "Putnam_df = Putnam_df.drop([\"Payment Typology 2\",    \"Payment Typology 3\"], axis=1)\n"
   ]
  },
  {
   "cell_type": "code",
   "execution_count": 83,
   "id": "c15f2d24",
   "metadata": {
    "execution": {
     "iopub.execute_input": "2023-02-20T18:47:13.342047Z",
     "iopub.status.busy": "2023-02-20T18:47:13.341640Z",
     "iopub.status.idle": "2023-02-20T18:47:13.355373Z",
     "shell.execute_reply": "2023-02-20T18:47:13.353973Z"
    },
    "papermill": {
     "duration": 0.071185,
     "end_time": "2023-02-20T18:47:13.357704",
     "exception": false,
     "start_time": "2023-02-20T18:47:13.286519",
     "status": "completed"
    },
    "tags": []
   },
   "outputs": [
    {
     "name": "stdout",
     "output_type": "stream",
     "text": [
      "<class 'pandas.core.frame.DataFrame'>\n",
      "Int64Index: 6785 entries, 700137 to 745893\n",
      "Data columns (total 25 columns):\n",
      " #   Column                            Non-Null Count  Dtype  \n",
      "---  ------                            --------------  -----  \n",
      " 0   Hospital County                   6785 non-null   int64  \n",
      " 1   Operating Certificate Number      6785 non-null   float64\n",
      " 2   Facility Id                       6785 non-null   float64\n",
      " 3   Age Group                         6785 non-null   int64  \n",
      " 4   Zip Code - 3 digits               6785 non-null   int64  \n",
      " 5   Gender                            6785 non-null   int64  \n",
      " 6   Race                              6785 non-null   int64  \n",
      " 7   Ethnicity                         6785 non-null   int64  \n",
      " 8   Length of Stay                    6785 non-null   int64  \n",
      " 9   Type of Admission                 6785 non-null   int64  \n",
      " 10  Patient Disposition               6785 non-null   int64  \n",
      " 11  Discharge Year                    6785 non-null   int64  \n",
      " 12  CCS Diagnosis Code                6785 non-null   int64  \n",
      " 13  CCS Procedure Code                6785 non-null   int64  \n",
      " 14  APR DRG Code                      6785 non-null   int64  \n",
      " 15  APR MDC Code                      6785 non-null   int64  \n",
      " 16  APR Severity of Illness Code      6785 non-null   int64  \n",
      " 17  APR Risk of Mortality             6785 non-null   int64  \n",
      " 18  APR Medical Surgical Description  6785 non-null   int64  \n",
      " 19  Payment Typology 1                6785 non-null   int64  \n",
      " 20  Birth Weight                      6785 non-null   int64  \n",
      " 21  Abortion Edit Indicator           6785 non-null   int64  \n",
      " 22  Emergency Department Indicator    6785 non-null   int64  \n",
      " 23  Total Charges                     6785 non-null   float64\n",
      " 24  Total Costs                       6785 non-null   float64\n",
      "dtypes: float64(4), int64(21)\n",
      "memory usage: 1.3 MB\n"
     ]
    }
   ],
   "source": [
    "Putnam_df.info()"
   ]
  },
  {
   "cell_type": "code",
   "execution_count": 84,
   "id": "8f8c9940",
   "metadata": {
    "execution": {
     "iopub.execute_input": "2023-02-20T18:47:13.463457Z",
     "iopub.status.busy": "2023-02-20T18:47:13.462987Z",
     "iopub.status.idle": "2023-02-20T18:47:13.469053Z",
     "shell.execute_reply": "2023-02-20T18:47:13.468208Z"
    },
    "papermill": {
     "duration": 0.060571,
     "end_time": "2023-02-20T18:47:13.470972",
     "exception": false,
     "start_time": "2023-02-20T18:47:13.410401",
     "status": "completed"
    },
    "tags": []
   },
   "outputs": [],
   "source": [
    "x = Putnam_df.drop([\"Length of Stay\"], axis =1)\n",
    "y = Putnam_df[\"Length of Stay\"]"
   ]
  },
  {
   "cell_type": "code",
   "execution_count": 85,
   "id": "98304ca7",
   "metadata": {
    "execution": {
     "iopub.execute_input": "2023-02-20T18:47:13.578001Z",
     "iopub.status.busy": "2023-02-20T18:47:13.577610Z",
     "iopub.status.idle": "2023-02-20T18:47:13.586594Z",
     "shell.execute_reply": "2023-02-20T18:47:13.585632Z"
    },
    "papermill": {
     "duration": 0.064957,
     "end_time": "2023-02-20T18:47:13.588540",
     "exception": false,
     "start_time": "2023-02-20T18:47:13.523583",
     "status": "completed"
    },
    "tags": []
   },
   "outputs": [],
   "source": [
    "from sklearn.model_selection import train_test_split\n",
    "x_train, x_test, y_train, y_test = train_test_split(x, y, test_size=0.3, random_state=42)"
   ]
  },
  {
   "cell_type": "code",
   "execution_count": 86,
   "id": "7a29763b",
   "metadata": {
    "execution": {
     "iopub.execute_input": "2023-02-20T18:47:13.694870Z",
     "iopub.status.busy": "2023-02-20T18:47:13.694234Z",
     "iopub.status.idle": "2023-02-20T18:47:13.710717Z",
     "shell.execute_reply": "2023-02-20T18:47:13.709637Z"
    },
    "papermill": {
     "duration": 0.072766,
     "end_time": "2023-02-20T18:47:13.713139",
     "exception": false,
     "start_time": "2023-02-20T18:47:13.640373",
     "status": "completed"
    },
    "tags": []
   },
   "outputs": [],
   "source": [
    "# Linear Regression\n",
    "\n",
    "LR = LinearRegression()\n",
    "LR.fit(x_train, y_train)\n",
    "LR.score(x_train, y_train)\n",
    "y_pred =LR.predict(x_test)"
   ]
  },
  {
   "cell_type": "code",
   "execution_count": 87,
   "id": "376252d3",
   "metadata": {
    "execution": {
     "iopub.execute_input": "2023-02-20T18:47:13.847980Z",
     "iopub.status.busy": "2023-02-20T18:47:13.847619Z",
     "iopub.status.idle": "2023-02-20T18:47:13.854617Z",
     "shell.execute_reply": "2023-02-20T18:47:13.853510Z"
    },
    "papermill": {
     "duration": 0.072956,
     "end_time": "2023-02-20T18:47:13.856527",
     "exception": false,
     "start_time": "2023-02-20T18:47:13.783571",
     "status": "completed"
    },
    "tags": []
   },
   "outputs": [
    {
     "data": {
      "text/plain": [
       "0.6833681470945818"
      ]
     },
     "execution_count": 87,
     "metadata": {},
     "output_type": "execute_result"
    }
   ],
   "source": [
    "r2 = r2_score(y_test, y_pred)\n",
    "r2 \n"
   ]
  },
  {
   "cell_type": "code",
   "execution_count": 88,
   "id": "78077257",
   "metadata": {
    "execution": {
     "iopub.execute_input": "2023-02-20T18:47:13.962142Z",
     "iopub.status.busy": "2023-02-20T18:47:13.961793Z",
     "iopub.status.idle": "2023-02-20T18:47:13.968850Z",
     "shell.execute_reply": "2023-02-20T18:47:13.967416Z"
    },
    "papermill": {
     "duration": 0.061914,
     "end_time": "2023-02-20T18:47:13.970883",
     "exception": false,
     "start_time": "2023-02-20T18:47:13.908969",
     "status": "completed"
    },
    "tags": []
   },
   "outputs": [
    {
     "data": {
      "text/plain": [
       "1.4289408471215483"
      ]
     },
     "execution_count": 88,
     "metadata": {},
     "output_type": "execute_result"
    }
   ],
   "source": [
    "# calculate the MAE of the model\n",
    "mae = mean_absolute_error(y_test, y_pred)\n",
    "mae"
   ]
  },
  {
   "cell_type": "code",
   "execution_count": 89,
   "id": "ae1fa09d",
   "metadata": {
    "execution": {
     "iopub.execute_input": "2023-02-20T18:47:14.076771Z",
     "iopub.status.busy": "2023-02-20T18:47:14.076412Z",
     "iopub.status.idle": "2023-02-20T18:47:14.083324Z",
     "shell.execute_reply": "2023-02-20T18:47:14.082248Z"
    },
    "papermill": {
     "duration": 0.061827,
     "end_time": "2023-02-20T18:47:14.084956",
     "exception": false,
     "start_time": "2023-02-20T18:47:14.023129",
     "status": "completed"
    },
    "tags": []
   },
   "outputs": [
    {
     "data": {
      "text/plain": [
       "6.810081276526211"
      ]
     },
     "execution_count": 89,
     "metadata": {},
     "output_type": "execute_result"
    }
   ],
   "source": [
    "# calculate the MSE of the model\n",
    "mse = mean_squared_error(y_test, y_pred)\n",
    "mse"
   ]
  },
  {
   "cell_type": "code",
   "execution_count": 90,
   "id": "34742563",
   "metadata": {
    "execution": {
     "iopub.execute_input": "2023-02-20T18:47:14.192599Z",
     "iopub.status.busy": "2023-02-20T18:47:14.192217Z",
     "iopub.status.idle": "2023-02-20T18:47:14.199430Z",
     "shell.execute_reply": "2023-02-20T18:47:14.198240Z"
    },
    "papermill": {
     "duration": 0.064977,
     "end_time": "2023-02-20T18:47:14.202296",
     "exception": false,
     "start_time": "2023-02-20T18:47:14.137319",
     "status": "completed"
    },
    "tags": []
   },
   "outputs": [
    {
     "data": {
      "text/plain": [
       "2.609613242709772"
      ]
     },
     "execution_count": 90,
     "metadata": {},
     "output_type": "execute_result"
    }
   ],
   "source": [
    "# calculate the RMSE of the model\n",
    "rmse = np.sqrt(mse)\n",
    "rmse"
   ]
  },
  {
   "cell_type": "code",
   "execution_count": 91,
   "id": "d32109e2",
   "metadata": {
    "execution": {
     "iopub.execute_input": "2023-02-20T18:47:14.311826Z",
     "iopub.status.busy": "2023-02-20T18:47:14.310553Z",
     "iopub.status.idle": "2023-02-20T18:47:14.372146Z",
     "shell.execute_reply": "2023-02-20T18:47:14.371034Z"
    },
    "papermill": {
     "duration": 0.119062,
     "end_time": "2023-02-20T18:47:14.374834",
     "exception": false,
     "start_time": "2023-02-20T18:47:14.255772",
     "status": "completed"
    },
    "tags": []
   },
   "outputs": [],
   "source": [
    "# LASSO\n",
    "L1 = linear_model.Lasso()\n",
    "L1.fit(x_train,y_train)\n",
    "y_pred1 = L1.predict(x_test)"
   ]
  },
  {
   "cell_type": "code",
   "execution_count": 92,
   "id": "b5d36a5e",
   "metadata": {
    "execution": {
     "iopub.execute_input": "2023-02-20T18:47:14.509824Z",
     "iopub.status.busy": "2023-02-20T18:47:14.509455Z",
     "iopub.status.idle": "2023-02-20T18:47:14.516690Z",
     "shell.execute_reply": "2023-02-20T18:47:14.515374Z"
    },
    "papermill": {
     "duration": 0.074885,
     "end_time": "2023-02-20T18:47:14.518609",
     "exception": false,
     "start_time": "2023-02-20T18:47:14.443724",
     "status": "completed"
    },
    "tags": []
   },
   "outputs": [
    {
     "data": {
      "text/plain": [
       "0.6496057028620932"
      ]
     },
     "execution_count": 92,
     "metadata": {},
     "output_type": "execute_result"
    }
   ],
   "source": [
    "r2 = r2_score(y_test, y_pred1)\n",
    "r2 "
   ]
  },
  {
   "cell_type": "code",
   "execution_count": 93,
   "id": "4cc73f0b",
   "metadata": {
    "execution": {
     "iopub.execute_input": "2023-02-20T18:47:14.629133Z",
     "iopub.status.busy": "2023-02-20T18:47:14.628412Z",
     "iopub.status.idle": "2023-02-20T18:47:14.634432Z",
     "shell.execute_reply": "2023-02-20T18:47:14.633726Z"
    },
    "papermill": {
     "duration": 0.063863,
     "end_time": "2023-02-20T18:47:14.636159",
     "exception": false,
     "start_time": "2023-02-20T18:47:14.572296",
     "status": "completed"
    },
    "tags": []
   },
   "outputs": [
    {
     "data": {
      "text/plain": [
       "1.5599579330447522"
      ]
     },
     "execution_count": 93,
     "metadata": {},
     "output_type": "execute_result"
    }
   ],
   "source": [
    "# calculate the MAE of the model\n",
    "mae = mean_absolute_error(y_test, y_pred1)\n",
    "mae"
   ]
  },
  {
   "cell_type": "code",
   "execution_count": 94,
   "id": "9d446c08",
   "metadata": {
    "execution": {
     "iopub.execute_input": "2023-02-20T18:47:14.744296Z",
     "iopub.status.busy": "2023-02-20T18:47:14.743939Z",
     "iopub.status.idle": "2023-02-20T18:47:14.750054Z",
     "shell.execute_reply": "2023-02-20T18:47:14.749391Z"
    },
    "papermill": {
     "duration": 0.063113,
     "end_time": "2023-02-20T18:47:14.751960",
     "exception": false,
     "start_time": "2023-02-20T18:47:14.688847",
     "status": "completed"
    },
    "tags": []
   },
   "outputs": [
    {
     "data": {
      "text/plain": [
       "7.536240022740899"
      ]
     },
     "execution_count": 94,
     "metadata": {},
     "output_type": "execute_result"
    }
   ],
   "source": [
    "# calculate the MSE of the model\n",
    "mse = mean_squared_error(y_test, y_pred1)\n",
    "mse"
   ]
  },
  {
   "cell_type": "code",
   "execution_count": 95,
   "id": "ba6ad742",
   "metadata": {
    "execution": {
     "iopub.execute_input": "2023-02-20T18:47:14.857086Z",
     "iopub.status.busy": "2023-02-20T18:47:14.856520Z",
     "iopub.status.idle": "2023-02-20T18:47:14.863634Z",
     "shell.execute_reply": "2023-02-20T18:47:14.862969Z"
    },
    "papermill": {
     "duration": 0.061878,
     "end_time": "2023-02-20T18:47:14.865490",
     "exception": false,
     "start_time": "2023-02-20T18:47:14.803612",
     "status": "completed"
    },
    "tags": []
   },
   "outputs": [
    {
     "data": {
      "text/plain": [
       "2.745221306696584"
      ]
     },
     "execution_count": 95,
     "metadata": {},
     "output_type": "execute_result"
    }
   ],
   "source": [
    "# calculate the RMSE of the model\n",
    "rmse = np.sqrt(mse)\n",
    "rmse"
   ]
  },
  {
   "cell_type": "code",
   "execution_count": 96,
   "id": "bc699ada",
   "metadata": {
    "execution": {
     "iopub.execute_input": "2023-02-20T18:47:14.971515Z",
     "iopub.status.busy": "2023-02-20T18:47:14.970895Z",
     "iopub.status.idle": "2023-02-20T18:47:14.980694Z",
     "shell.execute_reply": "2023-02-20T18:47:14.979846Z"
    },
    "papermill": {
     "duration": 0.065848,
     "end_time": "2023-02-20T18:47:14.983608",
     "exception": false,
     "start_time": "2023-02-20T18:47:14.917760",
     "status": "completed"
    },
    "tags": []
   },
   "outputs": [],
   "source": [
    "# Ridge\n",
    "L2 = Ridge(alpha=1.0)\n",
    "L2.fit(x_train, y_train) \n",
    "y_pred3 = L2.predict(x_test)"
   ]
  },
  {
   "cell_type": "code",
   "execution_count": 97,
   "id": "4709b6a4",
   "metadata": {
    "execution": {
     "iopub.execute_input": "2023-02-20T18:47:15.117484Z",
     "iopub.status.busy": "2023-02-20T18:47:15.117120Z",
     "iopub.status.idle": "2023-02-20T18:47:15.125237Z",
     "shell.execute_reply": "2023-02-20T18:47:15.124413Z"
    },
    "papermill": {
     "duration": 0.074518,
     "end_time": "2023-02-20T18:47:15.127153",
     "exception": false,
     "start_time": "2023-02-20T18:47:15.052635",
     "status": "completed"
    },
    "tags": []
   },
   "outputs": [
    {
     "data": {
      "text/plain": [
       "0.6833499677327529"
      ]
     },
     "execution_count": 97,
     "metadata": {},
     "output_type": "execute_result"
    }
   ],
   "source": [
    "r2 = r2_score(y_test, y_pred3)\n",
    "r2 "
   ]
  },
  {
   "cell_type": "code",
   "execution_count": 98,
   "id": "49206abf",
   "metadata": {
    "execution": {
     "iopub.execute_input": "2023-02-20T18:47:15.238501Z",
     "iopub.status.busy": "2023-02-20T18:47:15.237310Z",
     "iopub.status.idle": "2023-02-20T18:47:15.245909Z",
     "shell.execute_reply": "2023-02-20T18:47:15.244426Z"
    },
    "papermill": {
     "duration": 0.068181,
     "end_time": "2023-02-20T18:47:15.248748",
     "exception": false,
     "start_time": "2023-02-20T18:47:15.180567",
     "status": "completed"
    },
    "tags": []
   },
   "outputs": [
    {
     "data": {
      "text/plain": [
       "1.4289867059435022"
      ]
     },
     "execution_count": 98,
     "metadata": {},
     "output_type": "execute_result"
    }
   ],
   "source": [
    "# calculate the MAE of the model\n",
    "mae = mean_absolute_error(y_test, y_pred3)\n",
    "mae"
   ]
  },
  {
   "cell_type": "code",
   "execution_count": 99,
   "id": "132efe5f",
   "metadata": {
    "execution": {
     "iopub.execute_input": "2023-02-20T18:47:15.356187Z",
     "iopub.status.busy": "2023-02-20T18:47:15.355808Z",
     "iopub.status.idle": "2023-02-20T18:47:15.365182Z",
     "shell.execute_reply": "2023-02-20T18:47:15.363756Z"
    },
    "papermill": {
     "duration": 0.066228,
     "end_time": "2023-02-20T18:47:15.367859",
     "exception": false,
     "start_time": "2023-02-20T18:47:15.301631",
     "status": "completed"
    },
    "tags": []
   },
   "outputs": [
    {
     "data": {
      "text/plain": [
       "6.810472276138141"
      ]
     },
     "execution_count": 99,
     "metadata": {},
     "output_type": "execute_result"
    }
   ],
   "source": [
    "# calculate the MSE of the model\n",
    "mse = mean_squared_error(y_test, y_pred3)\n",
    "mse"
   ]
  },
  {
   "cell_type": "code",
   "execution_count": 100,
   "id": "1c913078",
   "metadata": {
    "execution": {
     "iopub.execute_input": "2023-02-20T18:47:15.476099Z",
     "iopub.status.busy": "2023-02-20T18:47:15.475752Z",
     "iopub.status.idle": "2023-02-20T18:47:15.482921Z",
     "shell.execute_reply": "2023-02-20T18:47:15.481775Z"
    },
    "papermill": {
     "duration": 0.063759,
     "end_time": "2023-02-20T18:47:15.485416",
     "exception": false,
     "start_time": "2023-02-20T18:47:15.421657",
     "status": "completed"
    },
    "tags": []
   },
   "outputs": [
    {
     "data": {
      "text/plain": [
       "2.609688156875863"
      ]
     },
     "execution_count": 100,
     "metadata": {},
     "output_type": "execute_result"
    }
   ],
   "source": [
    "# calculate the RMSE of the model\n",
    "rmse = np.sqrt(mse)\n",
    "rmse"
   ]
  },
  {
   "cell_type": "code",
   "execution_count": 101,
   "id": "69eaaa8c",
   "metadata": {
    "execution": {
     "iopub.execute_input": "2023-02-20T18:47:15.592683Z",
     "iopub.status.busy": "2023-02-20T18:47:15.592115Z",
     "iopub.status.idle": "2023-02-20T18:47:15.658525Z",
     "shell.execute_reply": "2023-02-20T18:47:15.657673Z"
    },
    "papermill": {
     "duration": 0.122693,
     "end_time": "2023-02-20T18:47:15.660933",
     "exception": false,
     "start_time": "2023-02-20T18:47:15.538240",
     "status": "completed"
    },
    "tags": []
   },
   "outputs": [],
   "source": [
    "# LASSO\n",
    "L1 = linear_model.Lasso()\n",
    "L1.fit(x_train,y_train)\n",
    "y_pred1 = L1.predict(x_test)"
   ]
  },
  {
   "cell_type": "code",
   "execution_count": 102,
   "id": "77b2b1a8",
   "metadata": {
    "execution": {
     "iopub.execute_input": "2023-02-20T18:47:15.796477Z",
     "iopub.status.busy": "2023-02-20T18:47:15.796136Z",
     "iopub.status.idle": "2023-02-20T18:47:15.802371Z",
     "shell.execute_reply": "2023-02-20T18:47:15.801319Z"
    },
    "papermill": {
     "duration": 0.07479,
     "end_time": "2023-02-20T18:47:15.804916",
     "exception": false,
     "start_time": "2023-02-20T18:47:15.730126",
     "status": "completed"
    },
    "tags": []
   },
   "outputs": [
    {
     "data": {
      "text/plain": [
       "0.6496057028620932"
      ]
     },
     "execution_count": 102,
     "metadata": {},
     "output_type": "execute_result"
    }
   ],
   "source": [
    "r2 = r2_score(y_test, y_pred1)\n",
    "r2 \n"
   ]
  },
  {
   "cell_type": "code",
   "execution_count": 103,
   "id": "370a16f6",
   "metadata": {
    "execution": {
     "iopub.execute_input": "2023-02-20T18:47:15.913905Z",
     "iopub.status.busy": "2023-02-20T18:47:15.913312Z",
     "iopub.status.idle": "2023-02-20T18:47:15.920788Z",
     "shell.execute_reply": "2023-02-20T18:47:15.919802Z"
    },
    "papermill": {
     "duration": 0.063856,
     "end_time": "2023-02-20T18:47:15.923024",
     "exception": false,
     "start_time": "2023-02-20T18:47:15.859168",
     "status": "completed"
    },
    "tags": []
   },
   "outputs": [
    {
     "data": {
      "text/plain": [
       "1.5599579330447522"
      ]
     },
     "execution_count": 103,
     "metadata": {},
     "output_type": "execute_result"
    }
   ],
   "source": [
    "# calculate the MAE of the model\n",
    "mae = mean_absolute_error(y_test, y_pred1)\n",
    "mae"
   ]
  },
  {
   "cell_type": "code",
   "execution_count": 104,
   "id": "95040aa8",
   "metadata": {
    "execution": {
     "iopub.execute_input": "2023-02-20T18:47:16.031531Z",
     "iopub.status.busy": "2023-02-20T18:47:16.031177Z",
     "iopub.status.idle": "2023-02-20T18:47:16.038807Z",
     "shell.execute_reply": "2023-02-20T18:47:16.037744Z"
    },
    "papermill": {
     "duration": 0.063923,
     "end_time": "2023-02-20T18:47:16.040607",
     "exception": false,
     "start_time": "2023-02-20T18:47:15.976684",
     "status": "completed"
    },
    "tags": []
   },
   "outputs": [
    {
     "data": {
      "text/plain": [
       "7.536240022740899"
      ]
     },
     "execution_count": 104,
     "metadata": {},
     "output_type": "execute_result"
    }
   ],
   "source": [
    "# calculate the MSE of the model\n",
    "mse = mean_squared_error(y_test, y_pred1)\n",
    "mse"
   ]
  },
  {
   "cell_type": "code",
   "execution_count": 105,
   "id": "2642ba48",
   "metadata": {
    "execution": {
     "iopub.execute_input": "2023-02-20T18:47:16.147560Z",
     "iopub.status.busy": "2023-02-20T18:47:16.147238Z",
     "iopub.status.idle": "2023-02-20T18:47:16.153839Z",
     "shell.execute_reply": "2023-02-20T18:47:16.152657Z"
    },
    "papermill": {
     "duration": 0.062684,
     "end_time": "2023-02-20T18:47:16.156255",
     "exception": false,
     "start_time": "2023-02-20T18:47:16.093571",
     "status": "completed"
    },
    "tags": []
   },
   "outputs": [
    {
     "data": {
      "text/plain": [
       "2.745221306696584"
      ]
     },
     "execution_count": 105,
     "metadata": {},
     "output_type": "execute_result"
    }
   ],
   "source": [
    "# calculate the RMSE of the model\n",
    "rmse = np.sqrt(mse)\n",
    "rmse"
   ]
  },
  {
   "cell_type": "markdown",
   "id": "f7b01e67",
   "metadata": {
    "papermill": {
     "duration": 0.055188,
     "end_time": "2023-02-20T18:47:16.265096",
     "exception": false,
     "start_time": "2023-02-20T18:47:16.209908",
     "status": "completed"
    },
    "tags": []
   },
   "source": [
    "Client 9: Nyack Hospital"
   ]
  },
  {
   "cell_type": "code",
   "execution_count": 106,
   "id": "89a45132",
   "metadata": {
    "execution": {
     "iopub.execute_input": "2023-02-20T18:47:16.376908Z",
     "iopub.status.busy": "2023-02-20T18:47:16.376556Z",
     "iopub.status.idle": "2023-02-20T18:47:16.517038Z",
     "shell.execute_reply": "2023-02-20T18:47:16.515429Z"
    },
    "papermill": {
     "duration": 0.199458,
     "end_time": "2023-02-20T18:47:16.519871",
     "exception": false,
     "start_time": "2023-02-20T18:47:16.320413",
     "status": "completed"
    },
    "tags": []
   },
   "outputs": [],
   "source": [
    "Nyack_df=df[df[\"Facility Name\"]== 'Nyack Hospital']"
   ]
  },
  {
   "cell_type": "code",
   "execution_count": 107,
   "id": "ef5f0c35",
   "metadata": {
    "execution": {
     "iopub.execute_input": "2023-02-20T18:47:16.630337Z",
     "iopub.status.busy": "2023-02-20T18:47:16.629938Z",
     "iopub.status.idle": "2023-02-20T18:47:16.647347Z",
     "shell.execute_reply": "2023-02-20T18:47:16.646584Z"
    },
    "papermill": {
     "duration": 0.075968,
     "end_time": "2023-02-20T18:47:16.649750",
     "exception": false,
     "start_time": "2023-02-20T18:47:16.573782",
     "status": "completed"
    },
    "tags": []
   },
   "outputs": [
    {
     "name": "stdout",
     "output_type": "stream",
     "text": [
      "<class 'pandas.core.frame.DataFrame'>\n",
      "Int64Index: 13459 entries, 700257 to 761325\n",
      "Data columns (total 28 columns):\n",
      " #   Column                            Non-Null Count  Dtype   \n",
      "---  ------                            --------------  -----   \n",
      " 0   Hospital County                   13459 non-null  category\n",
      " 1   Operating Certificate Number      13459 non-null  float64 \n",
      " 2   Facility Id                       13459 non-null  float64 \n",
      " 3   Facility Name                     13459 non-null  object  \n",
      " 4   Age Group                         13459 non-null  category\n",
      " 5   Zip Code - 3 digits               13327 non-null  category\n",
      " 6   Gender                            13459 non-null  category\n",
      " 7   Race                              13459 non-null  category\n",
      " 8   Ethnicity                         13459 non-null  category\n",
      " 9   Length of Stay                    13459 non-null  category\n",
      " 10  Type of Admission                 13459 non-null  category\n",
      " 11  Patient Disposition               13459 non-null  category\n",
      " 12  Discharge Year                    13459 non-null  int64   \n",
      " 13  CCS Diagnosis Code                13459 non-null  int64   \n",
      " 14  CCS Procedure Code                13459 non-null  int64   \n",
      " 15  APR DRG Code                      13459 non-null  int64   \n",
      " 16  APR MDC Code                      13459 non-null  int64   \n",
      " 17  APR Severity of Illness Code      13459 non-null  int64   \n",
      " 18  APR Risk of Mortality             13459 non-null  category\n",
      " 19  APR Medical Surgical Description  13459 non-null  category\n",
      " 20  Payment Typology 1                13459 non-null  category\n",
      " 21  Payment Typology 2                5193 non-null   category\n",
      " 22  Payment Typology 3                369 non-null    category\n",
      " 23  Birth Weight                      13459 non-null  int64   \n",
      " 24  Abortion Edit Indicator           13459 non-null  category\n",
      " 25  Emergency Department Indicator    13459 non-null  category\n",
      " 26  Total Charges                     13459 non-null  float64 \n",
      " 27  Total Costs                       13459 non-null  float64 \n",
      "dtypes: category(16), float64(4), int64(7), object(1)\n",
      "memory usage: 1.6+ MB\n"
     ]
    }
   ],
   "source": [
    "Nyack_df.info()"
   ]
  },
  {
   "cell_type": "code",
   "execution_count": 108,
   "id": "1c191138",
   "metadata": {
    "execution": {
     "iopub.execute_input": "2023-02-20T18:47:16.758988Z",
     "iopub.status.busy": "2023-02-20T18:47:16.758411Z",
     "iopub.status.idle": "2023-02-20T18:47:16.763795Z",
     "shell.execute_reply": "2023-02-20T18:47:16.763112Z"
    },
    "papermill": {
     "duration": 0.062178,
     "end_time": "2023-02-20T18:47:16.765572",
     "exception": false,
     "start_time": "2023-02-20T18:47:16.703394",
     "status": "completed"
    },
    "tags": []
   },
   "outputs": [],
   "source": [
    "Nyack_df=Nyack_df.drop(\"Facility Name\", axis=1)"
   ]
  },
  {
   "cell_type": "code",
   "execution_count": 109,
   "id": "c9d10e1a",
   "metadata": {
    "execution": {
     "iopub.execute_input": "2023-02-20T18:47:16.894056Z",
     "iopub.status.busy": "2023-02-20T18:47:16.893061Z",
     "iopub.status.idle": "2023-02-20T18:47:16.898215Z",
     "shell.execute_reply": "2023-02-20T18:47:16.897598Z"
    },
    "papermill": {
     "duration": 0.07199,
     "end_time": "2023-02-20T18:47:16.899882",
     "exception": false,
     "start_time": "2023-02-20T18:47:16.827892",
     "status": "completed"
    },
    "tags": []
   },
   "outputs": [],
   "source": [
    "Nyack_df = Nyack_df.drop([\"Payment Typology 2\",    \"Payment Typology 3\"], axis=1)"
   ]
  },
  {
   "cell_type": "code",
   "execution_count": 110,
   "id": "b7c8a430",
   "metadata": {
    "execution": {
     "iopub.execute_input": "2023-02-20T18:47:17.010333Z",
     "iopub.status.busy": "2023-02-20T18:47:17.008666Z",
     "iopub.status.idle": "2023-02-20T18:47:17.017287Z",
     "shell.execute_reply": "2023-02-20T18:47:17.016312Z"
    },
    "papermill": {
     "duration": 0.06577,
     "end_time": "2023-02-20T18:47:17.019409",
     "exception": false,
     "start_time": "2023-02-20T18:47:16.953639",
     "status": "completed"
    },
    "tags": []
   },
   "outputs": [],
   "source": [
    " #   simple mapping on binary features.\n",
    "Nyack_df['Abortion Edit Indicator'] = Nyack_df['Abortion Edit Indicator'].apply(\n",
    "     lambda x: 1 if x == 'Y' else (0 if x == 'N' else None))\n",
    "Nyack_df['Emergency Department Indicator'] = Nyack_df['Emergency Department Indicator'].apply(\n",
    "    lambda x: 1 if x == 'Y' else (0 if x == 'N' else None))"
   ]
  },
  {
   "cell_type": "code",
   "execution_count": 111,
   "id": "c4c3ef35",
   "metadata": {
    "execution": {
     "iopub.execute_input": "2023-02-20T18:47:17.128578Z",
     "iopub.status.busy": "2023-02-20T18:47:17.128211Z",
     "iopub.status.idle": "2023-02-20T18:47:17.138305Z",
     "shell.execute_reply": "2023-02-20T18:47:17.136818Z"
    },
    "papermill": {
     "duration": 0.06737,
     "end_time": "2023-02-20T18:47:17.140200",
     "exception": false,
     "start_time": "2023-02-20T18:47:17.072830",
     "status": "completed"
    },
    "tags": []
   },
   "outputs": [],
   "source": [
    "Nyack_df[\"Length of Stay\"]=pd.to_numeric(Nyack_df[\"Length of Stay\"],errors='coerce')"
   ]
  },
  {
   "cell_type": "code",
   "execution_count": 112,
   "id": "421bb0dd",
   "metadata": {
    "execution": {
     "iopub.execute_input": "2023-02-20T18:47:17.252611Z",
     "iopub.status.busy": "2023-02-20T18:47:17.251566Z",
     "iopub.status.idle": "2023-02-20T18:47:17.298738Z",
     "shell.execute_reply": "2023-02-20T18:47:17.298018Z"
    },
    "papermill": {
     "duration": 0.105159,
     "end_time": "2023-02-20T18:47:17.301061",
     "exception": false,
     "start_time": "2023-02-20T18:47:17.195902",
     "status": "completed"
    },
    "tags": []
   },
   "outputs": [],
   "source": [
    "list=  [ \"Hospital County\",\"Age Group\"\n",
    "    ,\"Gender\",   \n",
    " \"Race\" , \n",
    "\"Ethnicity\", \n",
    "\"Gender\" , \n",
    "\"Race\" ,    \n",
    " \"Ethnicity\" ,        \n",
    " \"Type of Admission\"  ,  \n",
    "  \"Patient Disposition\",      \n",
    " \"Type of Admission\" ,  \n",
    " \"Patient Disposition\"  ,\n",
    "  \"APR Risk of Mortality\" ,   \n",
    " \"APR Medical Surgical Description\" ,\n",
    " \"Payment Typology 1\"   ,   \n",
    " \"Abortion Edit Indicator\"     ,  \n",
    " \"Emergency Department Indicator\",\n",
    "       \"Zip Code - 3 digits\"]  \n",
    "\n",
    "# Import label encoder\n",
    "from sklearn import preprocessing\n",
    "  \n",
    "# label_encoder object knows how to understand word labels.\n",
    "label_encoder = preprocessing.LabelEncoder()\n",
    "  \n",
    "# Encode labels in column 'species'.\n",
    "for col in list :\n",
    "   Nyack_df[col]= label_encoder.fit_transform(Nyack_df[col])"
   ]
  },
  {
   "cell_type": "code",
   "execution_count": 113,
   "id": "edecf02c",
   "metadata": {
    "execution": {
     "iopub.execute_input": "2023-02-20T18:47:17.410701Z",
     "iopub.status.busy": "2023-02-20T18:47:17.410101Z",
     "iopub.status.idle": "2023-02-20T18:47:17.423049Z",
     "shell.execute_reply": "2023-02-20T18:47:17.422358Z"
    },
    "papermill": {
     "duration": 0.069929,
     "end_time": "2023-02-20T18:47:17.425044",
     "exception": false,
     "start_time": "2023-02-20T18:47:17.355115",
     "status": "completed"
    },
    "tags": []
   },
   "outputs": [
    {
     "name": "stdout",
     "output_type": "stream",
     "text": [
      "<class 'pandas.core.frame.DataFrame'>\n",
      "Int64Index: 13459 entries, 700257 to 761325\n",
      "Data columns (total 25 columns):\n",
      " #   Column                            Non-Null Count  Dtype  \n",
      "---  ------                            --------------  -----  \n",
      " 0   Hospital County                   13459 non-null  int64  \n",
      " 1   Operating Certificate Number      13459 non-null  float64\n",
      " 2   Facility Id                       13459 non-null  float64\n",
      " 3   Age Group                         13459 non-null  int64  \n",
      " 4   Zip Code - 3 digits               13459 non-null  int64  \n",
      " 5   Gender                            13459 non-null  int64  \n",
      " 6   Race                              13459 non-null  int64  \n",
      " 7   Ethnicity                         13459 non-null  int64  \n",
      " 8   Length of Stay                    13458 non-null  float64\n",
      " 9   Type of Admission                 13459 non-null  int64  \n",
      " 10  Patient Disposition               13459 non-null  int64  \n",
      " 11  Discharge Year                    13459 non-null  int64  \n",
      " 12  CCS Diagnosis Code                13459 non-null  int64  \n",
      " 13  CCS Procedure Code                13459 non-null  int64  \n",
      " 14  APR DRG Code                      13459 non-null  int64  \n",
      " 15  APR MDC Code                      13459 non-null  int64  \n",
      " 16  APR Severity of Illness Code      13459 non-null  int64  \n",
      " 17  APR Risk of Mortality             13459 non-null  int64  \n",
      " 18  APR Medical Surgical Description  13459 non-null  int64  \n",
      " 19  Payment Typology 1                13459 non-null  int64  \n",
      " 20  Birth Weight                      13459 non-null  int64  \n",
      " 21  Abortion Edit Indicator           13459 non-null  int64  \n",
      " 22  Emergency Department Indicator    13459 non-null  int64  \n",
      " 23  Total Charges                     13459 non-null  float64\n",
      " 24  Total Costs                       13459 non-null  float64\n",
      "dtypes: float64(5), int64(20)\n",
      "memory usage: 2.7 MB\n"
     ]
    }
   ],
   "source": [
    "Nyack_df.info()"
   ]
  },
  {
   "cell_type": "code",
   "execution_count": 114,
   "id": "0f99aa19",
   "metadata": {
    "execution": {
     "iopub.execute_input": "2023-02-20T18:47:17.532744Z",
     "iopub.status.busy": "2023-02-20T18:47:17.532190Z",
     "iopub.status.idle": "2023-02-20T18:47:17.541691Z",
     "shell.execute_reply": "2023-02-20T18:47:17.540587Z"
    },
    "papermill": {
     "duration": 0.065546,
     "end_time": "2023-02-20T18:47:17.543532",
     "exception": false,
     "start_time": "2023-02-20T18:47:17.477986",
     "status": "completed"
    },
    "tags": []
   },
   "outputs": [],
   "source": [
    "Nyack_df.dropna(inplace=True)"
   ]
  },
  {
   "cell_type": "code",
   "execution_count": 115,
   "id": "11c072ae",
   "metadata": {
    "execution": {
     "iopub.execute_input": "2023-02-20T18:47:17.653007Z",
     "iopub.status.busy": "2023-02-20T18:47:17.652425Z",
     "iopub.status.idle": "2023-02-20T18:47:17.657935Z",
     "shell.execute_reply": "2023-02-20T18:47:17.656826Z"
    },
    "papermill": {
     "duration": 0.064333,
     "end_time": "2023-02-20T18:47:17.660657",
     "exception": false,
     "start_time": "2023-02-20T18:47:17.596324",
     "status": "completed"
    },
    "tags": []
   },
   "outputs": [],
   "source": [
    "x = Nyack_df.drop([\"Length of Stay\"], axis =1)\n",
    "y = Nyack_df[\"Length of Stay\"]"
   ]
  },
  {
   "cell_type": "code",
   "execution_count": 116,
   "id": "dfb2c00a",
   "metadata": {
    "execution": {
     "iopub.execute_input": "2023-02-20T18:47:17.769962Z",
     "iopub.status.busy": "2023-02-20T18:47:17.769586Z",
     "iopub.status.idle": "2023-02-20T18:47:17.779311Z",
     "shell.execute_reply": "2023-02-20T18:47:17.778112Z"
    },
    "papermill": {
     "duration": 0.067539,
     "end_time": "2023-02-20T18:47:17.781493",
     "exception": false,
     "start_time": "2023-02-20T18:47:17.713954",
     "status": "completed"
    },
    "tags": []
   },
   "outputs": [],
   "source": [
    "x_train, x_test, y_train, y_test = train_test_split(x, y, test_size=0.3, random_state=42)"
   ]
  },
  {
   "cell_type": "code",
   "execution_count": 117,
   "id": "ffc3280b",
   "metadata": {
    "execution": {
     "iopub.execute_input": "2023-02-20T18:47:17.891540Z",
     "iopub.status.busy": "2023-02-20T18:47:17.891176Z",
     "iopub.status.idle": "2023-02-20T18:47:17.915254Z",
     "shell.execute_reply": "2023-02-20T18:47:17.914298Z"
    },
    "papermill": {
     "duration": 0.082177,
     "end_time": "2023-02-20T18:47:17.917578",
     "exception": false,
     "start_time": "2023-02-20T18:47:17.835401",
     "status": "completed"
    },
    "tags": []
   },
   "outputs": [],
   "source": [
    "# Linear Regression\n",
    "\n",
    "LR = LinearRegression()\n",
    "LR.fit(x_train, y_train)\n",
    "LR.score(x_train, y_train)\n",
    "y_pred =LR.predict(x_test)"
   ]
  },
  {
   "cell_type": "code",
   "execution_count": 118,
   "id": "401071b8",
   "metadata": {
    "execution": {
     "iopub.execute_input": "2023-02-20T18:47:18.052168Z",
     "iopub.status.busy": "2023-02-20T18:47:18.051793Z",
     "iopub.status.idle": "2023-02-20T18:47:18.059923Z",
     "shell.execute_reply": "2023-02-20T18:47:18.058997Z"
    },
    "papermill": {
     "duration": 0.07493,
     "end_time": "2023-02-20T18:47:18.061839",
     "exception": false,
     "start_time": "2023-02-20T18:47:17.986909",
     "status": "completed"
    },
    "tags": []
   },
   "outputs": [
    {
     "data": {
      "text/plain": [
       "0.8349891359205954"
      ]
     },
     "execution_count": 118,
     "metadata": {},
     "output_type": "execute_result"
    }
   ],
   "source": [
    "r2 = r2_score(y_test, y_pred)\n",
    "r2 \n"
   ]
  },
  {
   "cell_type": "code",
   "execution_count": 119,
   "id": "f0ef22e5",
   "metadata": {
    "execution": {
     "iopub.execute_input": "2023-02-20T18:47:18.172244Z",
     "iopub.status.busy": "2023-02-20T18:47:18.170762Z",
     "iopub.status.idle": "2023-02-20T18:47:18.178779Z",
     "shell.execute_reply": "2023-02-20T18:47:18.177885Z"
    },
    "papermill": {
     "duration": 0.065105,
     "end_time": "2023-02-20T18:47:18.180714",
     "exception": false,
     "start_time": "2023-02-20T18:47:18.115609",
     "status": "completed"
    },
    "tags": []
   },
   "outputs": [
    {
     "data": {
      "text/plain": [
       "1.3344919646969073"
      ]
     },
     "execution_count": 119,
     "metadata": {},
     "output_type": "execute_result"
    }
   ],
   "source": [
    "# calculate the MAE of the model\n",
    "mae = mean_absolute_error(y_test, y_pred)\n",
    "mae"
   ]
  },
  {
   "cell_type": "code",
   "execution_count": 120,
   "id": "7304093b",
   "metadata": {
    "execution": {
     "iopub.execute_input": "2023-02-20T18:47:18.291596Z",
     "iopub.status.busy": "2023-02-20T18:47:18.290496Z",
     "iopub.status.idle": "2023-02-20T18:47:18.298083Z",
     "shell.execute_reply": "2023-02-20T18:47:18.297384Z"
    },
    "papermill": {
     "duration": 0.064209,
     "end_time": "2023-02-20T18:47:18.299796",
     "exception": false,
     "start_time": "2023-02-20T18:47:18.235587",
     "status": "completed"
    },
    "tags": []
   },
   "outputs": [
    {
     "data": {
      "text/plain": [
       "5.8475935175546985"
      ]
     },
     "execution_count": 120,
     "metadata": {},
     "output_type": "execute_result"
    }
   ],
   "source": [
    "# calculate the MSE of the model\n",
    "mse = mean_squared_error(y_test, y_pred)\n",
    "mse"
   ]
  },
  {
   "cell_type": "code",
   "execution_count": 121,
   "id": "0eb0ea11",
   "metadata": {
    "execution": {
     "iopub.execute_input": "2023-02-20T18:47:18.411271Z",
     "iopub.status.busy": "2023-02-20T18:47:18.410890Z",
     "iopub.status.idle": "2023-02-20T18:47:18.417002Z",
     "shell.execute_reply": "2023-02-20T18:47:18.416105Z"
    },
    "papermill": {
     "duration": 0.064961,
     "end_time": "2023-02-20T18:47:18.419448",
     "exception": false,
     "start_time": "2023-02-20T18:47:18.354487",
     "status": "completed"
    },
    "tags": []
   },
   "outputs": [
    {
     "data": {
      "text/plain": [
       "2.4181797942987404"
      ]
     },
     "execution_count": 121,
     "metadata": {},
     "output_type": "execute_result"
    }
   ],
   "source": [
    "# calculate the RMSE of the model\n",
    "rmse = np.sqrt(mse)\n",
    "rmse"
   ]
  },
  {
   "cell_type": "code",
   "execution_count": 122,
   "id": "f0ce05f7",
   "metadata": {
    "execution": {
     "iopub.execute_input": "2023-02-20T18:47:18.531377Z",
     "iopub.status.busy": "2023-02-20T18:47:18.530952Z",
     "iopub.status.idle": "2023-02-20T18:47:18.587114Z",
     "shell.execute_reply": "2023-02-20T18:47:18.586324Z"
    },
    "papermill": {
     "duration": 0.114702,
     "end_time": "2023-02-20T18:47:18.589609",
     "exception": false,
     "start_time": "2023-02-20T18:47:18.474907",
     "status": "completed"
    },
    "tags": []
   },
   "outputs": [],
   "source": [
    "# LASSO\n",
    "L1 = linear_model.Lasso()\n",
    "L1.fit(x_train,y_train)\n",
    "y_pred1 = L1.predict(x_test)"
   ]
  },
  {
   "cell_type": "code",
   "execution_count": 123,
   "id": "1c3be796",
   "metadata": {
    "execution": {
     "iopub.execute_input": "2023-02-20T18:47:18.727682Z",
     "iopub.status.busy": "2023-02-20T18:47:18.727269Z",
     "iopub.status.idle": "2023-02-20T18:47:18.735945Z",
     "shell.execute_reply": "2023-02-20T18:47:18.734546Z"
    },
    "papermill": {
     "duration": 0.077977,
     "end_time": "2023-02-20T18:47:18.738746",
     "exception": false,
     "start_time": "2023-02-20T18:47:18.660769",
     "status": "completed"
    },
    "tags": []
   },
   "outputs": [
    {
     "data": {
      "text/plain": [
       "0.8130004942930402"
      ]
     },
     "execution_count": 123,
     "metadata": {},
     "output_type": "execute_result"
    }
   ],
   "source": [
    "r2 = r2_score(y_test, y_pred1)\n",
    "r2 "
   ]
  },
  {
   "cell_type": "code",
   "execution_count": 124,
   "id": "0cb7c12e",
   "metadata": {
    "execution": {
     "iopub.execute_input": "2023-02-20T18:47:18.850250Z",
     "iopub.status.busy": "2023-02-20T18:47:18.849868Z",
     "iopub.status.idle": "2023-02-20T18:47:18.857599Z",
     "shell.execute_reply": "2023-02-20T18:47:18.856612Z"
    },
    "papermill": {
     "duration": 0.066226,
     "end_time": "2023-02-20T18:47:18.860088",
     "exception": false,
     "start_time": "2023-02-20T18:47:18.793862",
     "status": "completed"
    },
    "tags": []
   },
   "outputs": [
    {
     "data": {
      "text/plain": [
       "1.371002670909177"
      ]
     },
     "execution_count": 124,
     "metadata": {},
     "output_type": "execute_result"
    }
   ],
   "source": [
    "# calculate the MAE of the model\n",
    "mae = mean_absolute_error(y_test, y_pred1)\n",
    "mae"
   ]
  },
  {
   "cell_type": "code",
   "execution_count": 125,
   "id": "bf4d2d7d",
   "metadata": {
    "execution": {
     "iopub.execute_input": "2023-02-20T18:47:18.969556Z",
     "iopub.status.busy": "2023-02-20T18:47:18.969148Z",
     "iopub.status.idle": "2023-02-20T18:47:18.977573Z",
     "shell.execute_reply": "2023-02-20T18:47:18.976420Z"
    },
    "papermill": {
     "duration": 0.065739,
     "end_time": "2023-02-20T18:47:18.979506",
     "exception": false,
     "start_time": "2023-02-20T18:47:18.913767",
     "status": "completed"
    },
    "tags": []
   },
   "outputs": [
    {
     "data": {
      "text/plain": [
       "6.626818806498411"
      ]
     },
     "execution_count": 125,
     "metadata": {},
     "output_type": "execute_result"
    }
   ],
   "source": [
    "# calculate the MSE of the model\n",
    "mse = mean_squared_error(y_test, y_pred1)\n",
    "mse"
   ]
  },
  {
   "cell_type": "code",
   "execution_count": 126,
   "id": "8b643726",
   "metadata": {
    "execution": {
     "iopub.execute_input": "2023-02-20T18:47:19.092547Z",
     "iopub.status.busy": "2023-02-20T18:47:19.092175Z",
     "iopub.status.idle": "2023-02-20T18:47:19.099393Z",
     "shell.execute_reply": "2023-02-20T18:47:19.098257Z"
    },
    "papermill": {
     "duration": 0.0676,
     "end_time": "2023-02-20T18:47:19.101821",
     "exception": false,
     "start_time": "2023-02-20T18:47:19.034221",
     "status": "completed"
    },
    "tags": []
   },
   "outputs": [
    {
     "data": {
      "text/plain": [
       "2.574260827208154"
      ]
     },
     "execution_count": 126,
     "metadata": {},
     "output_type": "execute_result"
    }
   ],
   "source": [
    "# calculate the RMSE of the model\n",
    "rmse = np.sqrt(mse)\n",
    "rmse"
   ]
  },
  {
   "cell_type": "code",
   "execution_count": 127,
   "id": "3e7cf2cb",
   "metadata": {
    "execution": {
     "iopub.execute_input": "2023-02-20T18:47:19.210901Z",
     "iopub.status.busy": "2023-02-20T18:47:19.210568Z",
     "iopub.status.idle": "2023-02-20T18:47:19.223916Z",
     "shell.execute_reply": "2023-02-20T18:47:19.223083Z"
    },
    "papermill": {
     "duration": 0.070757,
     "end_time": "2023-02-20T18:47:19.226409",
     "exception": false,
     "start_time": "2023-02-20T18:47:19.155652",
     "status": "completed"
    },
    "tags": []
   },
   "outputs": [],
   "source": [
    "# Ridge\n",
    "L2 = Ridge(alpha=1.0)\n",
    "L2.fit(x_train, y_train) \n",
    "y_pred3 = L2.predict(x_test)"
   ]
  },
  {
   "cell_type": "code",
   "execution_count": 128,
   "id": "24717ecc",
   "metadata": {
    "execution": {
     "iopub.execute_input": "2023-02-20T18:47:19.362126Z",
     "iopub.status.busy": "2023-02-20T18:47:19.361739Z",
     "iopub.status.idle": "2023-02-20T18:47:19.369052Z",
     "shell.execute_reply": "2023-02-20T18:47:19.368060Z"
    },
    "papermill": {
     "duration": 0.074085,
     "end_time": "2023-02-20T18:47:19.371023",
     "exception": false,
     "start_time": "2023-02-20T18:47:19.296938",
     "status": "completed"
    },
    "tags": []
   },
   "outputs": [
    {
     "data": {
      "text/plain": [
       "0.8349875922803607"
      ]
     },
     "execution_count": 128,
     "metadata": {},
     "output_type": "execute_result"
    }
   ],
   "source": [
    "r2 = r2_score(y_test, y_pred3)\n",
    "r2 "
   ]
  },
  {
   "cell_type": "code",
   "execution_count": 129,
   "id": "d5aa10a2",
   "metadata": {
    "execution": {
     "iopub.execute_input": "2023-02-20T18:47:19.479892Z",
     "iopub.status.busy": "2023-02-20T18:47:19.478907Z",
     "iopub.status.idle": "2023-02-20T18:47:19.485077Z",
     "shell.execute_reply": "2023-02-20T18:47:19.484425Z"
    },
    "papermill": {
     "duration": 0.061999,
     "end_time": "2023-02-20T18:47:19.486802",
     "exception": false,
     "start_time": "2023-02-20T18:47:19.424803",
     "status": "completed"
    },
    "tags": []
   },
   "outputs": [
    {
     "data": {
      "text/plain": [
       "1.3343143263471502"
      ]
     },
     "execution_count": 129,
     "metadata": {},
     "output_type": "execute_result"
    }
   ],
   "source": [
    "# calculate the MAE of the model\n",
    "mae = mean_absolute_error(y_test, y_pred3)\n",
    "mae"
   ]
  },
  {
   "cell_type": "code",
   "execution_count": 130,
   "id": "e9fb2f29",
   "metadata": {
    "execution": {
     "iopub.execute_input": "2023-02-20T18:47:19.597614Z",
     "iopub.status.busy": "2023-02-20T18:47:19.596473Z",
     "iopub.status.idle": "2023-02-20T18:47:19.605914Z",
     "shell.execute_reply": "2023-02-20T18:47:19.604847Z"
    },
    "papermill": {
     "duration": 0.067154,
     "end_time": "2023-02-20T18:47:19.608134",
     "exception": false,
     "start_time": "2023-02-20T18:47:19.540980",
     "status": "completed"
    },
    "tags": []
   },
   "outputs": [
    {
     "data": {
      "text/plain": [
       "5.847648220502174"
      ]
     },
     "execution_count": 130,
     "metadata": {},
     "output_type": "execute_result"
    }
   ],
   "source": [
    "# calculate the MSE of the model\n",
    "mse = mean_squared_error(y_test, y_pred3)\n",
    "mse"
   ]
  },
  {
   "cell_type": "code",
   "execution_count": 131,
   "id": "a2c6c99b",
   "metadata": {
    "execution": {
     "iopub.execute_input": "2023-02-20T18:47:19.720780Z",
     "iopub.status.busy": "2023-02-20T18:47:19.720446Z",
     "iopub.status.idle": "2023-02-20T18:47:19.726277Z",
     "shell.execute_reply": "2023-02-20T18:47:19.725107Z"
    },
    "papermill": {
     "duration": 0.065217,
     "end_time": "2023-02-20T18:47:19.727990",
     "exception": false,
     "start_time": "2023-02-20T18:47:19.662773",
     "status": "completed"
    },
    "tags": []
   },
   "outputs": [
    {
     "data": {
      "text/plain": [
       "2.418191105041571"
      ]
     },
     "execution_count": 131,
     "metadata": {},
     "output_type": "execute_result"
    }
   ],
   "source": [
    "# calculate the RMSE of the model\n",
    "rmse = np.sqrt(mse)\n",
    "rmse"
   ]
  },
  {
   "cell_type": "markdown",
   "id": "ad7d9296",
   "metadata": {
    "papermill": {
     "duration": 0.055609,
     "end_time": "2023-02-20T18:47:19.839018",
     "exception": false,
     "start_time": "2023-02-20T18:47:19.783409",
     "status": "completed"
    },
    "tags": []
   },
   "source": [
    "Client 10: Mount St Marys Hospital"
   ]
  },
  {
   "cell_type": "code",
   "execution_count": 132,
   "id": "8907986e",
   "metadata": {
    "execution": {
     "iopub.execute_input": "2023-02-20T18:47:19.950264Z",
     "iopub.status.busy": "2023-02-20T18:47:19.949821Z",
     "iopub.status.idle": "2023-02-20T18:47:20.089084Z",
     "shell.execute_reply": "2023-02-20T18:47:20.088122Z"
    },
    "papermill": {
     "duration": 0.198497,
     "end_time": "2023-02-20T18:47:20.091559",
     "exception": false,
     "start_time": "2023-02-20T18:47:19.893062",
     "status": "completed"
    },
    "tags": []
   },
   "outputs": [],
   "source": [
    "#Mount St Marys Hospital and Health Center\n",
    "Mount_df=df[df[\"Facility Name\"]== 'Mount St Marys Hospital and Health Center']"
   ]
  },
  {
   "cell_type": "code",
   "execution_count": 133,
   "id": "4125b551",
   "metadata": {
    "execution": {
     "iopub.execute_input": "2023-02-20T18:47:20.205999Z",
     "iopub.status.busy": "2023-02-20T18:47:20.205537Z",
     "iopub.status.idle": "2023-02-20T18:47:20.224312Z",
     "shell.execute_reply": "2023-02-20T18:47:20.222806Z"
    },
    "papermill": {
     "duration": 0.078371,
     "end_time": "2023-02-20T18:47:20.226549",
     "exception": false,
     "start_time": "2023-02-20T18:47:20.148178",
     "status": "completed"
    },
    "tags": []
   },
   "outputs": [
    {
     "name": "stdout",
     "output_type": "stream",
     "text": [
      "<class 'pandas.core.frame.DataFrame'>\n",
      "Int64Index: 5314 entries, 138563 to 143964\n",
      "Data columns (total 28 columns):\n",
      " #   Column                            Non-Null Count  Dtype   \n",
      "---  ------                            --------------  -----   \n",
      " 0   Hospital County                   5314 non-null   category\n",
      " 1   Operating Certificate Number      5314 non-null   float64 \n",
      " 2   Facility Id                       5314 non-null   float64 \n",
      " 3   Facility Name                     5314 non-null   object  \n",
      " 4   Age Group                         5314 non-null   category\n",
      " 5   Zip Code - 3 digits               5267 non-null   category\n",
      " 6   Gender                            5314 non-null   category\n",
      " 7   Race                              5314 non-null   category\n",
      " 8   Ethnicity                         5314 non-null   category\n",
      " 9   Length of Stay                    5314 non-null   category\n",
      " 10  Type of Admission                 5314 non-null   category\n",
      " 11  Patient Disposition               5314 non-null   category\n",
      " 12  Discharge Year                    5314 non-null   int64   \n",
      " 13  CCS Diagnosis Code                5314 non-null   int64   \n",
      " 14  CCS Procedure Code                5314 non-null   int64   \n",
      " 15  APR DRG Code                      5314 non-null   int64   \n",
      " 16  APR MDC Code                      5314 non-null   int64   \n",
      " 17  APR Severity of Illness Code      5314 non-null   int64   \n",
      " 18  APR Risk of Mortality             5314 non-null   category\n",
      " 19  APR Medical Surgical Description  5314 non-null   category\n",
      " 20  Payment Typology 1                5314 non-null   category\n",
      " 21  Payment Typology 2                2876 non-null   category\n",
      " 22  Payment Typology 3                327 non-null    category\n",
      " 23  Birth Weight                      5314 non-null   int64   \n",
      " 24  Abortion Edit Indicator           5314 non-null   category\n",
      " 25  Emergency Department Indicator    5314 non-null   category\n",
      " 26  Total Charges                     5314 non-null   float64 \n",
      " 27  Total Costs                       5314 non-null   float64 \n",
      "dtypes: category(16), float64(4), int64(7), object(1)\n",
      "memory usage: 646.0+ KB\n"
     ]
    }
   ],
   "source": [
    "Mount_df.info()\n"
   ]
  },
  {
   "cell_type": "code",
   "execution_count": 134,
   "id": "5b3c43cf",
   "metadata": {
    "execution": {
     "iopub.execute_input": "2023-02-20T18:47:20.340480Z",
     "iopub.status.busy": "2023-02-20T18:47:20.340104Z",
     "iopub.status.idle": "2023-02-20T18:47:20.346673Z",
     "shell.execute_reply": "2023-02-20T18:47:20.345290Z"
    },
    "papermill": {
     "duration": 0.065994,
     "end_time": "2023-02-20T18:47:20.349034",
     "exception": false,
     "start_time": "2023-02-20T18:47:20.283040",
     "status": "completed"
    },
    "tags": []
   },
   "outputs": [],
   "source": [
    "Mount_df = Mount_df.drop(\"Facility Name\", axis=1)\n"
   ]
  },
  {
   "cell_type": "code",
   "execution_count": 135,
   "id": "325eb76d",
   "metadata": {
    "execution": {
     "iopub.execute_input": "2023-02-20T18:47:20.461265Z",
     "iopub.status.busy": "2023-02-20T18:47:20.460816Z",
     "iopub.status.idle": "2023-02-20T18:47:20.469553Z",
     "shell.execute_reply": "2023-02-20T18:47:20.467864Z"
    },
    "papermill": {
     "duration": 0.066726,
     "end_time": "2023-02-20T18:47:20.471635",
     "exception": false,
     "start_time": "2023-02-20T18:47:20.404909",
     "status": "completed"
    },
    "tags": []
   },
   "outputs": [],
   "source": [
    " #   simple mapping on binary features.\n",
    "Mount_df['Abortion Edit Indicator'] = Mount_df['Abortion Edit Indicator'].apply(\n",
    "     lambda x: 1 if x == 'Y' else (0 if x == 'N' else None))\n",
    "Mount_df['Emergency Department Indicator'] = Mount_df['Emergency Department Indicator'].apply(\n",
    "    lambda x: 1 if x == 'Y' else (0 if x == 'N' else None))"
   ]
  },
  {
   "cell_type": "code",
   "execution_count": 136,
   "id": "726986b1",
   "metadata": {
    "execution": {
     "iopub.execute_input": "2023-02-20T18:47:20.583957Z",
     "iopub.status.busy": "2023-02-20T18:47:20.583635Z",
     "iopub.status.idle": "2023-02-20T18:47:20.591153Z",
     "shell.execute_reply": "2023-02-20T18:47:20.589816Z"
    },
    "papermill": {
     "duration": 0.065647,
     "end_time": "2023-02-20T18:47:20.593094",
     "exception": false,
     "start_time": "2023-02-20T18:47:20.527447",
     "status": "completed"
    },
    "tags": []
   },
   "outputs": [],
   "source": [
    "Mount_df[\"Length of Stay\"]=pd.to_numeric(Mount_df[\"Length of Stay\"],errors='coerce')"
   ]
  },
  {
   "cell_type": "code",
   "execution_count": 137,
   "id": "7ad9afe4",
   "metadata": {
    "execution": {
     "iopub.execute_input": "2023-02-20T18:47:20.753960Z",
     "iopub.status.busy": "2023-02-20T18:47:20.753575Z",
     "iopub.status.idle": "2023-02-20T18:47:20.781441Z",
     "shell.execute_reply": "2023-02-20T18:47:20.779915Z"
    },
    "papermill": {
     "duration": 0.13578,
     "end_time": "2023-02-20T18:47:20.783827",
     "exception": false,
     "start_time": "2023-02-20T18:47:20.648047",
     "status": "completed"
    },
    "tags": []
   },
   "outputs": [],
   "source": [
    "list=  [ \"Hospital County\",\"Age Group\"\n",
    "    ,\"Gender\",   \n",
    " \"Race\" , \n",
    "\"Ethnicity\", \n",
    "\"Gender\" , \n",
    "\"Race\" ,    \n",
    " \"Ethnicity\" ,        \n",
    " \"Type of Admission\"  ,  \n",
    "  \"Patient Disposition\",      \n",
    " \"Type of Admission\" ,  \n",
    " \"Patient Disposition\"  ,\n",
    "  \"APR Risk of Mortality\" ,   \n",
    " \"APR Medical Surgical Description\" ,\n",
    " \"Payment Typology 1\"   ,   \n",
    " \"Abortion Edit Indicator\"     ,  \n",
    " \"Emergency Department Indicator\",\n",
    "       \"Zip Code - 3 digits\"]  \n",
    "\n",
    "# Import label encoder\n",
    "from sklearn import preprocessing\n",
    "  \n",
    "# label_encoder object knows how to understand word labels.\n",
    "label_encoder = preprocessing.LabelEncoder()\n",
    "  \n",
    "# Encode labels in column 'species'.\n",
    "for col in list :\n",
    "  Mount_df[col]= label_encoder.fit_transform(Mount_df[col])"
   ]
  },
  {
   "cell_type": "code",
   "execution_count": 138,
   "id": "e4220a43",
   "metadata": {
    "execution": {
     "iopub.execute_input": "2023-02-20T18:47:20.900354Z",
     "iopub.status.busy": "2023-02-20T18:47:20.899988Z",
     "iopub.status.idle": "2023-02-20T18:47:20.917560Z",
     "shell.execute_reply": "2023-02-20T18:47:20.915867Z"
    },
    "papermill": {
     "duration": 0.077205,
     "end_time": "2023-02-20T18:47:20.920242",
     "exception": false,
     "start_time": "2023-02-20T18:47:20.843037",
     "status": "completed"
    },
    "tags": []
   },
   "outputs": [
    {
     "name": "stdout",
     "output_type": "stream",
     "text": [
      "<class 'pandas.core.frame.DataFrame'>\n",
      "Int64Index: 5314 entries, 138563 to 143964\n",
      "Data columns (total 27 columns):\n",
      " #   Column                            Non-Null Count  Dtype   \n",
      "---  ------                            --------------  -----   \n",
      " 0   Hospital County                   5314 non-null   int64   \n",
      " 1   Operating Certificate Number      5314 non-null   float64 \n",
      " 2   Facility Id                       5314 non-null   float64 \n",
      " 3   Age Group                         5314 non-null   int64   \n",
      " 4   Zip Code - 3 digits               5314 non-null   int64   \n",
      " 5   Gender                            5314 non-null   int64   \n",
      " 6   Race                              5314 non-null   int64   \n",
      " 7   Ethnicity                         5314 non-null   int64   \n",
      " 8   Length of Stay                    5314 non-null   int64   \n",
      " 9   Type of Admission                 5314 non-null   int64   \n",
      " 10  Patient Disposition               5314 non-null   int64   \n",
      " 11  Discharge Year                    5314 non-null   int64   \n",
      " 12  CCS Diagnosis Code                5314 non-null   int64   \n",
      " 13  CCS Procedure Code                5314 non-null   int64   \n",
      " 14  APR DRG Code                      5314 non-null   int64   \n",
      " 15  APR MDC Code                      5314 non-null   int64   \n",
      " 16  APR Severity of Illness Code      5314 non-null   int64   \n",
      " 17  APR Risk of Mortality             5314 non-null   int64   \n",
      " 18  APR Medical Surgical Description  5314 non-null   int64   \n",
      " 19  Payment Typology 1                5314 non-null   int64   \n",
      " 20  Payment Typology 2                2876 non-null   category\n",
      " 21  Payment Typology 3                327 non-null    category\n",
      " 22  Birth Weight                      5314 non-null   int64   \n",
      " 23  Abortion Edit Indicator           5314 non-null   int64   \n",
      " 24  Emergency Department Indicator    5314 non-null   int64   \n",
      " 25  Total Charges                     5314 non-null   float64 \n",
      " 26  Total Costs                       5314 non-null   float64 \n",
      "dtypes: category(2), float64(4), int64(21)\n",
      "memory usage: 1.1 MB\n"
     ]
    }
   ],
   "source": [
    "Mount_df.info()"
   ]
  },
  {
   "cell_type": "code",
   "execution_count": 139,
   "id": "7ee0126b",
   "metadata": {
    "execution": {
     "iopub.execute_input": "2023-02-20T18:47:21.034632Z",
     "iopub.status.busy": "2023-02-20T18:47:21.034309Z",
     "iopub.status.idle": "2023-02-20T18:47:21.040388Z",
     "shell.execute_reply": "2023-02-20T18:47:21.039437Z"
    },
    "papermill": {
     "duration": 0.064686,
     "end_time": "2023-02-20T18:47:21.042296",
     "exception": false,
     "start_time": "2023-02-20T18:47:20.977610",
     "status": "completed"
    },
    "tags": []
   },
   "outputs": [],
   "source": [
    "Mount_df = Mount_df.drop([\"Payment Typology 2\",    \"Payment Typology 3\"], axis=1)\n"
   ]
  },
  {
   "cell_type": "code",
   "execution_count": 140,
   "id": "66f4e4b0",
   "metadata": {
    "execution": {
     "iopub.execute_input": "2023-02-20T18:47:21.151663Z",
     "iopub.status.busy": "2023-02-20T18:47:21.150970Z",
     "iopub.status.idle": "2023-02-20T18:47:21.157441Z",
     "shell.execute_reply": "2023-02-20T18:47:21.156597Z"
    },
    "papermill": {
     "duration": 0.062798,
     "end_time": "2023-02-20T18:47:21.159164",
     "exception": false,
     "start_time": "2023-02-20T18:47:21.096366",
     "status": "completed"
    },
    "tags": []
   },
   "outputs": [],
   "source": [
    "x = Mount_df.drop([\"Length of Stay\"], axis =1)\n",
    "y = Mount_df[\"Length of Stay\"]"
   ]
  },
  {
   "cell_type": "code",
   "execution_count": 141,
   "id": "e2e2643d",
   "metadata": {
    "execution": {
     "iopub.execute_input": "2023-02-20T18:47:21.267661Z",
     "iopub.status.busy": "2023-02-20T18:47:21.267367Z",
     "iopub.status.idle": "2023-02-20T18:47:21.273471Z",
     "shell.execute_reply": "2023-02-20T18:47:21.272579Z"
    },
    "papermill": {
     "duration": 0.062278,
     "end_time": "2023-02-20T18:47:21.275162",
     "exception": false,
     "start_time": "2023-02-20T18:47:21.212884",
     "status": "completed"
    },
    "tags": []
   },
   "outputs": [],
   "source": [
    "x_train, x_test, y_train, y_test = train_test_split(x, y, test_size=0.3, random_state=42)"
   ]
  },
  {
   "cell_type": "code",
   "execution_count": 142,
   "id": "63851e02",
   "metadata": {
    "execution": {
     "iopub.execute_input": "2023-02-20T18:47:21.383163Z",
     "iopub.status.busy": "2023-02-20T18:47:21.382829Z",
     "iopub.status.idle": "2023-02-20T18:47:21.397739Z",
     "shell.execute_reply": "2023-02-20T18:47:21.396726Z"
    },
    "papermill": {
     "duration": 0.070995,
     "end_time": "2023-02-20T18:47:21.399554",
     "exception": false,
     "start_time": "2023-02-20T18:47:21.328559",
     "status": "completed"
    },
    "tags": []
   },
   "outputs": [],
   "source": [
    "# Linear Regression\n",
    "\n",
    "LR = LinearRegression()\n",
    "LR.fit(x_train, y_train)\n",
    "LR.score(x_train, y_train)\n",
    "y_pred =LR.predict(x_test)"
   ]
  },
  {
   "cell_type": "code",
   "execution_count": 143,
   "id": "e7fae8ed",
   "metadata": {
    "execution": {
     "iopub.execute_input": "2023-02-20T18:47:21.539015Z",
     "iopub.status.busy": "2023-02-20T18:47:21.538649Z",
     "iopub.status.idle": "2023-02-20T18:47:21.544947Z",
     "shell.execute_reply": "2023-02-20T18:47:21.544349Z"
    },
    "papermill": {
     "duration": 0.072308,
     "end_time": "2023-02-20T18:47:21.546878",
     "exception": false,
     "start_time": "2023-02-20T18:47:21.474570",
     "status": "completed"
    },
    "tags": []
   },
   "outputs": [
    {
     "data": {
      "text/plain": [
       "0.8493645328400692"
      ]
     },
     "execution_count": 143,
     "metadata": {},
     "output_type": "execute_result"
    }
   ],
   "source": [
    "r2 = r2_score(y_test, y_pred)\n",
    "r2 \n"
   ]
  },
  {
   "cell_type": "code",
   "execution_count": 144,
   "id": "00d45dba",
   "metadata": {
    "execution": {
     "iopub.execute_input": "2023-02-20T18:47:21.657106Z",
     "iopub.status.busy": "2023-02-20T18:47:21.655176Z",
     "iopub.status.idle": "2023-02-20T18:47:21.662803Z",
     "shell.execute_reply": "2023-02-20T18:47:21.662109Z"
    },
    "papermill": {
     "duration": 0.064285,
     "end_time": "2023-02-20T18:47:21.664735",
     "exception": false,
     "start_time": "2023-02-20T18:47:21.600450",
     "status": "completed"
    },
    "tags": []
   },
   "outputs": [
    {
     "data": {
      "text/plain": [
       "1.5751957484784673"
      ]
     },
     "execution_count": 144,
     "metadata": {},
     "output_type": "execute_result"
    }
   ],
   "source": [
    "# calculate the MAE of the model\n",
    "mae = mean_absolute_error(y_test, y_pred)\n",
    "mae"
   ]
  },
  {
   "cell_type": "code",
   "execution_count": 145,
   "id": "be5b55d5",
   "metadata": {
    "execution": {
     "iopub.execute_input": "2023-02-20T18:47:21.779221Z",
     "iopub.status.busy": "2023-02-20T18:47:21.777884Z",
     "iopub.status.idle": "2023-02-20T18:47:21.785159Z",
     "shell.execute_reply": "2023-02-20T18:47:21.784506Z"
    },
    "papermill": {
     "duration": 0.065632,
     "end_time": "2023-02-20T18:47:21.786746",
     "exception": false,
     "start_time": "2023-02-20T18:47:21.721114",
     "status": "completed"
    },
    "tags": []
   },
   "outputs": [
    {
     "data": {
      "text/plain": [
       "5.420550398990118"
      ]
     },
     "execution_count": 145,
     "metadata": {},
     "output_type": "execute_result"
    }
   ],
   "source": [
    "# calculate the MSE of the model\n",
    "mse = mean_squared_error(y_test, y_pred)\n",
    "mse"
   ]
  },
  {
   "cell_type": "code",
   "execution_count": 146,
   "id": "c2643f70",
   "metadata": {
    "execution": {
     "iopub.execute_input": "2023-02-20T18:47:21.898700Z",
     "iopub.status.busy": "2023-02-20T18:47:21.898167Z",
     "iopub.status.idle": "2023-02-20T18:47:21.903435Z",
     "shell.execute_reply": "2023-02-20T18:47:21.902411Z"
    },
    "papermill": {
     "duration": 0.062575,
     "end_time": "2023-02-20T18:47:21.905264",
     "exception": false,
     "start_time": "2023-02-20T18:47:21.842689",
     "status": "completed"
    },
    "tags": []
   },
   "outputs": [
    {
     "data": {
      "text/plain": [
       "2.328207550668565"
      ]
     },
     "execution_count": 146,
     "metadata": {},
     "output_type": "execute_result"
    }
   ],
   "source": [
    "# calculate the RMSE of the model\n",
    "rmse = np.sqrt(mse)\n",
    "rmse"
   ]
  },
  {
   "cell_type": "code",
   "execution_count": 147,
   "id": "ba2c4897",
   "metadata": {
    "execution": {
     "iopub.execute_input": "2023-02-20T18:47:22.019193Z",
     "iopub.status.busy": "2023-02-20T18:47:22.018588Z",
     "iopub.status.idle": "2023-02-20T18:47:22.036784Z",
     "shell.execute_reply": "2023-02-20T18:47:22.035978Z"
    },
    "papermill": {
     "duration": 0.077905,
     "end_time": "2023-02-20T18:47:22.039093",
     "exception": false,
     "start_time": "2023-02-20T18:47:21.961188",
     "status": "completed"
    },
    "tags": []
   },
   "outputs": [],
   "source": [
    "# LASSO\n",
    "L1 = linear_model.Lasso()\n",
    "L1.fit(x_train,y_train)\n",
    "y_pred1 = L1.predict(x_test)"
   ]
  },
  {
   "cell_type": "code",
   "execution_count": 148,
   "id": "89908f23",
   "metadata": {
    "execution": {
     "iopub.execute_input": "2023-02-20T18:47:22.178458Z",
     "iopub.status.busy": "2023-02-20T18:47:22.178019Z",
     "iopub.status.idle": "2023-02-20T18:47:22.184793Z",
     "shell.execute_reply": "2023-02-20T18:47:22.184099Z"
    },
    "papermill": {
     "duration": 0.076523,
     "end_time": "2023-02-20T18:47:22.187177",
     "exception": false,
     "start_time": "2023-02-20T18:47:22.110654",
     "status": "completed"
    },
    "tags": []
   },
   "outputs": [
    {
     "data": {
      "text/plain": [
       "0.8032059655994213"
      ]
     },
     "execution_count": 148,
     "metadata": {},
     "output_type": "execute_result"
    }
   ],
   "source": [
    "r2 = r2_score(y_test, y_pred1)\n",
    "r2 \n"
   ]
  },
  {
   "cell_type": "code",
   "execution_count": 149,
   "id": "3add2a8d",
   "metadata": {
    "execution": {
     "iopub.execute_input": "2023-02-20T18:47:22.302129Z",
     "iopub.status.busy": "2023-02-20T18:47:22.301184Z",
     "iopub.status.idle": "2023-02-20T18:47:22.308009Z",
     "shell.execute_reply": "2023-02-20T18:47:22.307261Z"
    },
    "papermill": {
     "duration": 0.065503,
     "end_time": "2023-02-20T18:47:22.309773",
     "exception": false,
     "start_time": "2023-02-20T18:47:22.244270",
     "status": "completed"
    },
    "tags": []
   },
   "outputs": [
    {
     "data": {
      "text/plain": [
       "7.081545945327565"
      ]
     },
     "execution_count": 149,
     "metadata": {},
     "output_type": "execute_result"
    }
   ],
   "source": [
    "# calculate the MSE of the model\n",
    "mse = mean_squared_error(y_test, y_pred1)\n",
    "mse"
   ]
  },
  {
   "cell_type": "code",
   "execution_count": 150,
   "id": "c2af5087",
   "metadata": {
    "execution": {
     "iopub.execute_input": "2023-02-20T18:47:22.424760Z",
     "iopub.status.busy": "2023-02-20T18:47:22.424128Z",
     "iopub.status.idle": "2023-02-20T18:47:22.431731Z",
     "shell.execute_reply": "2023-02-20T18:47:22.430251Z"
    },
    "papermill": {
     "duration": 0.069069,
     "end_time": "2023-02-20T18:47:22.434695",
     "exception": false,
     "start_time": "2023-02-20T18:47:22.365626",
     "status": "completed"
    },
    "tags": []
   },
   "outputs": [
    {
     "data": {
      "text/plain": [
       "2.6611174241899898"
      ]
     },
     "execution_count": 150,
     "metadata": {},
     "output_type": "execute_result"
    }
   ],
   "source": [
    "# calculate the RMSE of the model\n",
    "rmse = np.sqrt(mse)\n",
    "rmse"
   ]
  },
  {
   "cell_type": "code",
   "execution_count": 151,
   "id": "ed1981f5",
   "metadata": {
    "execution": {
     "iopub.execute_input": "2023-02-20T18:47:22.547734Z",
     "iopub.status.busy": "2023-02-20T18:47:22.547208Z",
     "iopub.status.idle": "2023-02-20T18:47:22.560746Z",
     "shell.execute_reply": "2023-02-20T18:47:22.559662Z"
    },
    "papermill": {
     "duration": 0.073259,
     "end_time": "2023-02-20T18:47:22.563628",
     "exception": false,
     "start_time": "2023-02-20T18:47:22.490369",
     "status": "completed"
    },
    "tags": []
   },
   "outputs": [],
   "source": [
    "# Ridge\n",
    "L2 = Ridge(alpha=1.0)\n",
    "L2.fit(x_train, y_train) \n",
    "y_pred3 = L2.predict(x_test)"
   ]
  },
  {
   "cell_type": "code",
   "execution_count": 152,
   "id": "aef4debd",
   "metadata": {
    "execution": {
     "iopub.execute_input": "2023-02-20T18:47:22.701915Z",
     "iopub.status.busy": "2023-02-20T18:47:22.701584Z",
     "iopub.status.idle": "2023-02-20T18:47:22.706964Z",
     "shell.execute_reply": "2023-02-20T18:47:22.706396Z"
    },
    "papermill": {
     "duration": 0.073121,
     "end_time": "2023-02-20T18:47:22.709092",
     "exception": false,
     "start_time": "2023-02-20T18:47:22.635971",
     "status": "completed"
    },
    "tags": []
   },
   "outputs": [
    {
     "data": {
      "text/plain": [
       "0.8493873434940765"
      ]
     },
     "execution_count": 152,
     "metadata": {},
     "output_type": "execute_result"
    }
   ],
   "source": [
    "r2 = r2_score(y_test, y_pred3)\n",
    "r2 "
   ]
  },
  {
   "cell_type": "code",
   "execution_count": 153,
   "id": "622c209f",
   "metadata": {
    "execution": {
     "iopub.execute_input": "2023-02-20T18:47:22.826500Z",
     "iopub.status.busy": "2023-02-20T18:47:22.825457Z",
     "iopub.status.idle": "2023-02-20T18:47:22.831709Z",
     "shell.execute_reply": "2023-02-20T18:47:22.831114Z"
    },
    "papermill": {
     "duration": 0.066266,
     "end_time": "2023-02-20T18:47:22.833412",
     "exception": false,
     "start_time": "2023-02-20T18:47:22.767146",
     "status": "completed"
    },
    "tags": []
   },
   "outputs": [
    {
     "data": {
      "text/plain": [
       "1.5750406339612182"
      ]
     },
     "execution_count": 153,
     "metadata": {},
     "output_type": "execute_result"
    }
   ],
   "source": [
    "# calculate the MAE of the model\n",
    "mae = mean_absolute_error(y_test, y_pred3)\n",
    "mae"
   ]
  },
  {
   "cell_type": "code",
   "execution_count": 154,
   "id": "b22a4e81",
   "metadata": {
    "execution": {
     "iopub.execute_input": "2023-02-20T18:47:22.947279Z",
     "iopub.status.busy": "2023-02-20T18:47:22.946579Z",
     "iopub.status.idle": "2023-02-20T18:47:22.953340Z",
     "shell.execute_reply": "2023-02-20T18:47:22.952702Z"
    },
    "papermill": {
     "duration": 0.065121,
     "end_time": "2023-02-20T18:47:22.954952",
     "exception": false,
     "start_time": "2023-02-20T18:47:22.889831",
     "status": "completed"
    },
    "tags": []
   },
   "outputs": [
    {
     "data": {
      "text/plain": [
       "5.419729567734293"
      ]
     },
     "execution_count": 154,
     "metadata": {},
     "output_type": "execute_result"
    }
   ],
   "source": [
    "# calculate the MSE of the model\n",
    "mse = mean_squared_error(y_test, y_pred3)\n",
    "mse"
   ]
  },
  {
   "cell_type": "code",
   "execution_count": 155,
   "id": "0e4dd234",
   "metadata": {
    "execution": {
     "iopub.execute_input": "2023-02-20T18:47:23.068522Z",
     "iopub.status.busy": "2023-02-20T18:47:23.067509Z",
     "iopub.status.idle": "2023-02-20T18:47:23.074050Z",
     "shell.execute_reply": "2023-02-20T18:47:23.072489Z"
    },
    "papermill": {
     "duration": 0.065787,
     "end_time": "2023-02-20T18:47:23.076277",
     "exception": false,
     "start_time": "2023-02-20T18:47:23.010490",
     "status": "completed"
    },
    "tags": []
   },
   "outputs": [
    {
     "data": {
      "text/plain": [
       "2.328031264337808"
      ]
     },
     "execution_count": 155,
     "metadata": {},
     "output_type": "execute_result"
    }
   ],
   "source": [
    "# calculate the RMSE of the model\n",
    "rmse = np.sqrt(mse)\n",
    "rmse"
   ]
  },
  {
   "cell_type": "markdown",
   "id": "fe2aa82c",
   "metadata": {
    "papermill": {
     "duration": 0.056251,
     "end_time": "2023-02-20T18:47:23.189014",
     "exception": false,
     "start_time": "2023-02-20T18:47:23.132763",
     "status": "completed"
    },
    "tags": []
   },
   "source": [
    "Client 5: Buffalo Women & Children’s Hospital 11051\n"
   ]
  },
  {
   "cell_type": "code",
   "execution_count": 156,
   "id": "118df533",
   "metadata": {
    "execution": {
     "iopub.execute_input": "2023-02-20T18:47:23.303310Z",
     "iopub.status.busy": "2023-02-20T18:47:23.302425Z",
     "iopub.status.idle": "2023-02-20T18:47:23.441965Z",
     "shell.execute_reply": "2023-02-20T18:47:23.440509Z"
    },
    "papermill": {
     "duration": 0.199342,
     "end_time": "2023-02-20T18:47:23.444512",
     "exception": false,
     "start_time": "2023-02-20T18:47:23.245170",
     "status": "completed"
    },
    "tags": []
   },
   "outputs": [],
   "source": [
    "\n",
    "Buffalo_df=df[df[\"Facility Name\"]== \"Women And Children's Hospital Of Buffalo\"]"
   ]
  },
  {
   "cell_type": "code",
   "execution_count": 157,
   "id": "b2f335ce",
   "metadata": {
    "execution": {
     "iopub.execute_input": "2023-02-20T18:47:23.558427Z",
     "iopub.status.busy": "2023-02-20T18:47:23.558002Z",
     "iopub.status.idle": "2023-02-20T18:47:23.576659Z",
     "shell.execute_reply": "2023-02-20T18:47:23.574643Z"
    },
    "papermill": {
     "duration": 0.078189,
     "end_time": "2023-02-20T18:47:23.579187",
     "exception": false,
     "start_time": "2023-02-20T18:47:23.500998",
     "status": "completed"
    },
    "tags": []
   },
   "outputs": [
    {
     "name": "stdout",
     "output_type": "stream",
     "text": [
      "<class 'pandas.core.frame.DataFrame'>\n",
      "Int64Index: 13020 entries, 3309 to 54603\n",
      "Data columns (total 28 columns):\n",
      " #   Column                            Non-Null Count  Dtype   \n",
      "---  ------                            --------------  -----   \n",
      " 0   Hospital County                   13020 non-null  category\n",
      " 1   Operating Certificate Number      13020 non-null  float64 \n",
      " 2   Facility Id                       13020 non-null  float64 \n",
      " 3   Facility Name                     13020 non-null  object  \n",
      " 4   Age Group                         13020 non-null  category\n",
      " 5   Zip Code - 3 digits               12941 non-null  category\n",
      " 6   Gender                            13020 non-null  category\n",
      " 7   Race                              13020 non-null  category\n",
      " 8   Ethnicity                         13020 non-null  category\n",
      " 9   Length of Stay                    13020 non-null  category\n",
      " 10  Type of Admission                 13020 non-null  category\n",
      " 11  Patient Disposition               13020 non-null  category\n",
      " 12  Discharge Year                    13020 non-null  int64   \n",
      " 13  CCS Diagnosis Code                13020 non-null  int64   \n",
      " 14  CCS Procedure Code                13020 non-null  int64   \n",
      " 15  APR DRG Code                      13020 non-null  int64   \n",
      " 16  APR MDC Code                      13020 non-null  int64   \n",
      " 17  APR Severity of Illness Code      13020 non-null  int64   \n",
      " 18  APR Risk of Mortality             13020 non-null  category\n",
      " 19  APR Medical Surgical Description  13020 non-null  category\n",
      " 20  Payment Typology 1                13020 non-null  category\n",
      " 21  Payment Typology 2                12947 non-null  category\n",
      " 22  Payment Typology 3                787 non-null    category\n",
      " 23  Birth Weight                      13020 non-null  int64   \n",
      " 24  Abortion Edit Indicator           13020 non-null  category\n",
      " 25  Emergency Department Indicator    13020 non-null  category\n",
      " 26  Total Charges                     13020 non-null  float64 \n",
      " 27  Total Costs                       13020 non-null  float64 \n",
      "dtypes: category(16), float64(4), int64(7), object(1)\n",
      "memory usage: 1.5+ MB\n"
     ]
    }
   ],
   "source": [
    "Buffalo_df.info()"
   ]
  },
  {
   "cell_type": "code",
   "execution_count": 158,
   "id": "e7aeff32",
   "metadata": {
    "execution": {
     "iopub.execute_input": "2023-02-20T18:47:23.699502Z",
     "iopub.status.busy": "2023-02-20T18:47:23.699158Z",
     "iopub.status.idle": "2023-02-20T18:47:23.705745Z",
     "shell.execute_reply": "2023-02-20T18:47:23.704334Z"
    },
    "papermill": {
     "duration": 0.071049,
     "end_time": "2023-02-20T18:47:23.708001",
     "exception": false,
     "start_time": "2023-02-20T18:47:23.636952",
     "status": "completed"
    },
    "tags": []
   },
   "outputs": [],
   "source": [
    "Buffalo_df= Buffalo_df.drop(\"Facility Name\", axis=1)"
   ]
  },
  {
   "cell_type": "code",
   "execution_count": 159,
   "id": "6bc9c17c",
   "metadata": {
    "execution": {
     "iopub.execute_input": "2023-02-20T18:47:23.822687Z",
     "iopub.status.busy": "2023-02-20T18:47:23.822033Z",
     "iopub.status.idle": "2023-02-20T18:47:23.827141Z",
     "shell.execute_reply": "2023-02-20T18:47:23.826433Z"
    },
    "papermill": {
     "duration": 0.065239,
     "end_time": "2023-02-20T18:47:23.829524",
     "exception": false,
     "start_time": "2023-02-20T18:47:23.764285",
     "status": "completed"
    },
    "tags": []
   },
   "outputs": [],
   "source": [
    "Buffalo_df = Buffalo_df.drop([\"Payment Typology 2\",    \"Payment Typology 3\"], axis=1)\n"
   ]
  },
  {
   "cell_type": "code",
   "execution_count": 160,
   "id": "7d73c85e",
   "metadata": {
    "execution": {
     "iopub.execute_input": "2023-02-20T18:47:23.946130Z",
     "iopub.status.busy": "2023-02-20T18:47:23.945511Z",
     "iopub.status.idle": "2023-02-20T18:47:23.952467Z",
     "shell.execute_reply": "2023-02-20T18:47:23.951667Z"
    },
    "papermill": {
     "duration": 0.068139,
     "end_time": "2023-02-20T18:47:23.955632",
     "exception": false,
     "start_time": "2023-02-20T18:47:23.887493",
     "status": "completed"
    },
    "tags": []
   },
   "outputs": [],
   "source": [
    " #   simple mapping on binary features.\n",
    "Buffalo_df['Abortion Edit Indicator'] = Buffalo_df['Abortion Edit Indicator'].apply(\n",
    "     lambda x: 1 if x == 'Y' else (0 if x == 'N' else None))\n",
    "Buffalo_df['Emergency Department Indicator'] = Buffalo_df['Emergency Department Indicator'].apply(\n",
    "    lambda x: 1 if x == 'Y' else (0 if x == 'N' else None))"
   ]
  },
  {
   "cell_type": "code",
   "execution_count": 161,
   "id": "b5c6c64c",
   "metadata": {
    "execution": {
     "iopub.execute_input": "2023-02-20T18:47:24.071995Z",
     "iopub.status.busy": "2023-02-20T18:47:24.071618Z",
     "iopub.status.idle": "2023-02-20T18:47:24.082034Z",
     "shell.execute_reply": "2023-02-20T18:47:24.081125Z"
    },
    "papermill": {
     "duration": 0.071682,
     "end_time": "2023-02-20T18:47:24.084395",
     "exception": false,
     "start_time": "2023-02-20T18:47:24.012713",
     "status": "completed"
    },
    "tags": []
   },
   "outputs": [],
   "source": [
    "Buffalo_df[\"Length of Stay\"]=pd.to_numeric(Buffalo_df[\"Length of Stay\"],errors='coerce')"
   ]
  },
  {
   "cell_type": "code",
   "execution_count": 162,
   "id": "24672312",
   "metadata": {
    "execution": {
     "iopub.execute_input": "2023-02-20T18:47:24.199948Z",
     "iopub.status.busy": "2023-02-20T18:47:24.199375Z",
     "iopub.status.idle": "2023-02-20T18:47:24.247574Z",
     "shell.execute_reply": "2023-02-20T18:47:24.246440Z"
    },
    "papermill": {
     "duration": 0.108375,
     "end_time": "2023-02-20T18:47:24.250010",
     "exception": false,
     "start_time": "2023-02-20T18:47:24.141635",
     "status": "completed"
    },
    "tags": []
   },
   "outputs": [],
   "source": [
    "list=  [ \"Hospital County\",\"Age Group\"\n",
    "    ,\"Gender\",   \n",
    " \"Race\" , \n",
    "\"Ethnicity\", \n",
    "\"Gender\" , \n",
    "\"Race\" ,    \n",
    " \"Ethnicity\" ,        \n",
    " \"Type of Admission\"  ,  \n",
    "  \"Patient Disposition\",      \n",
    " \"Type of Admission\" ,  \n",
    " \"Patient Disposition\"  ,\n",
    "  \"APR Risk of Mortality\" ,   \n",
    " \"APR Medical Surgical Description\" ,\n",
    " \"Payment Typology 1\"   ,   \n",
    " \"Abortion Edit Indicator\"     ,  \n",
    " \"Emergency Department Indicator\",\n",
    "       \"Zip Code - 3 digits\"]  \n",
    "\n",
    "# Import label encoder\n",
    "from sklearn import preprocessing\n",
    "  \n",
    "# label_encoder object knows how to understand word labels.\n",
    "label_encoder = preprocessing.LabelEncoder()\n",
    "  \n",
    "# Encode labels in column 'species'.\n",
    "for col in list :\n",
    "  Buffalo_df[col]= label_encoder.fit_transform(Buffalo_df[col])"
   ]
  },
  {
   "cell_type": "code",
   "execution_count": 163,
   "id": "c348909c",
   "metadata": {
    "execution": {
     "iopub.execute_input": "2023-02-20T18:47:24.365545Z",
     "iopub.status.busy": "2023-02-20T18:47:24.364665Z",
     "iopub.status.idle": "2023-02-20T18:47:24.370318Z",
     "shell.execute_reply": "2023-02-20T18:47:24.369604Z"
    },
    "papermill": {
     "duration": 0.064902,
     "end_time": "2023-02-20T18:47:24.372221",
     "exception": false,
     "start_time": "2023-02-20T18:47:24.307319",
     "status": "completed"
    },
    "tags": []
   },
   "outputs": [],
   "source": [
    "x = Glens_df.drop([\"Length of Stay\"], axis =1)\n",
    "y = Glens_df[\"Length of Stay\"]"
   ]
  },
  {
   "cell_type": "code",
   "execution_count": 164,
   "id": "a4d6f4aa",
   "metadata": {
    "execution": {
     "iopub.execute_input": "2023-02-20T18:47:24.488573Z",
     "iopub.status.busy": "2023-02-20T18:47:24.488205Z",
     "iopub.status.idle": "2023-02-20T18:47:24.496945Z",
     "shell.execute_reply": "2023-02-20T18:47:24.496216Z"
    },
    "papermill": {
     "duration": 0.068991,
     "end_time": "2023-02-20T18:47:24.498787",
     "exception": false,
     "start_time": "2023-02-20T18:47:24.429796",
     "status": "completed"
    },
    "tags": []
   },
   "outputs": [],
   "source": [
    "x_train, x_test, y_train, y_test = train_test_split(x, y, test_size=0.3, random_state=42)"
   ]
  },
  {
   "cell_type": "code",
   "execution_count": 165,
   "id": "c6fa25de",
   "metadata": {
    "execution": {
     "iopub.execute_input": "2023-02-20T18:47:24.614199Z",
     "iopub.status.busy": "2023-02-20T18:47:24.613538Z",
     "iopub.status.idle": "2023-02-20T18:47:24.634813Z",
     "shell.execute_reply": "2023-02-20T18:47:24.633932Z"
    },
    "papermill": {
     "duration": 0.082199,
     "end_time": "2023-02-20T18:47:24.637089",
     "exception": false,
     "start_time": "2023-02-20T18:47:24.554890",
     "status": "completed"
    },
    "tags": []
   },
   "outputs": [],
   "source": [
    "# Linear Regression\n",
    "\n",
    "LR = LinearRegression()\n",
    "LR.fit(x_train, y_train)\n",
    "LR.score(x_train, y_train)\n",
    "y_pred =LR.predict(x_test)"
   ]
  },
  {
   "cell_type": "code",
   "execution_count": 166,
   "id": "ed5e4973",
   "metadata": {
    "execution": {
     "iopub.execute_input": "2023-02-20T18:47:24.777869Z",
     "iopub.status.busy": "2023-02-20T18:47:24.777484Z",
     "iopub.status.idle": "2023-02-20T18:47:24.785433Z",
     "shell.execute_reply": "2023-02-20T18:47:24.784115Z"
    },
    "papermill": {
     "duration": 0.076815,
     "end_time": "2023-02-20T18:47:24.787287",
     "exception": false,
     "start_time": "2023-02-20T18:47:24.710472",
     "status": "completed"
    },
    "tags": []
   },
   "outputs": [
    {
     "data": {
      "text/plain": [
       "0.7753107229320534"
      ]
     },
     "execution_count": 166,
     "metadata": {},
     "output_type": "execute_result"
    }
   ],
   "source": [
    "r2 = r2_score(y_test, y_pred)\n",
    "r2 \n"
   ]
  },
  {
   "cell_type": "code",
   "execution_count": 167,
   "id": "5b43aa2b",
   "metadata": {
    "execution": {
     "iopub.execute_input": "2023-02-20T18:47:24.899646Z",
     "iopub.status.busy": "2023-02-20T18:47:24.898982Z",
     "iopub.status.idle": "2023-02-20T18:47:24.904996Z",
     "shell.execute_reply": "2023-02-20T18:47:24.904365Z"
    },
    "papermill": {
     "duration": 0.063951,
     "end_time": "2023-02-20T18:47:24.906537",
     "exception": false,
     "start_time": "2023-02-20T18:47:24.842586",
     "status": "completed"
    },
    "tags": []
   },
   "outputs": [
    {
     "data": {
      "text/plain": [
       "1.519038644423741"
      ]
     },
     "execution_count": 167,
     "metadata": {},
     "output_type": "execute_result"
    }
   ],
   "source": [
    "# calculate the MAE of the model\n",
    "mae = mean_absolute_error(y_test, y_pred)\n",
    "mae"
   ]
  },
  {
   "cell_type": "code",
   "execution_count": 168,
   "id": "e271915f",
   "metadata": {
    "execution": {
     "iopub.execute_input": "2023-02-20T18:47:25.019958Z",
     "iopub.status.busy": "2023-02-20T18:47:25.019305Z",
     "iopub.status.idle": "2023-02-20T18:47:25.026031Z",
     "shell.execute_reply": "2023-02-20T18:47:25.024693Z"
    },
    "papermill": {
     "duration": 0.06585,
     "end_time": "2023-02-20T18:47:25.028591",
     "exception": false,
     "start_time": "2023-02-20T18:47:24.962741",
     "status": "completed"
    },
    "tags": []
   },
   "outputs": [
    {
     "data": {
      "text/plain": [
       "8.394303923962779"
      ]
     },
     "execution_count": 168,
     "metadata": {},
     "output_type": "execute_result"
    }
   ],
   "source": [
    "# calculate the MSE of the model\n",
    "mse = mean_squared_error(y_test, y_pred)\n",
    "mse"
   ]
  },
  {
   "cell_type": "code",
   "execution_count": 169,
   "id": "005096dd",
   "metadata": {
    "execution": {
     "iopub.execute_input": "2023-02-20T18:47:25.145902Z",
     "iopub.status.busy": "2023-02-20T18:47:25.144973Z",
     "iopub.status.idle": "2023-02-20T18:47:25.151012Z",
     "shell.execute_reply": "2023-02-20T18:47:25.150315Z"
    },
    "papermill": {
     "duration": 0.067631,
     "end_time": "2023-02-20T18:47:25.152807",
     "exception": false,
     "start_time": "2023-02-20T18:47:25.085176",
     "status": "completed"
    },
    "tags": []
   },
   "outputs": [
    {
     "data": {
      "text/plain": [
       "2.8972925161196237"
      ]
     },
     "execution_count": 169,
     "metadata": {},
     "output_type": "execute_result"
    }
   ],
   "source": [
    "# calculate the RMSE of the model\n",
    "rmse = np.sqrt(mse)\n",
    "rmse"
   ]
  },
  {
   "cell_type": "code",
   "execution_count": 170,
   "id": "0df597d7",
   "metadata": {
    "execution": {
     "iopub.execute_input": "2023-02-20T18:47:25.269375Z",
     "iopub.status.busy": "2023-02-20T18:47:25.268436Z",
     "iopub.status.idle": "2023-02-20T18:47:25.333395Z",
     "shell.execute_reply": "2023-02-20T18:47:25.332589Z"
    },
    "papermill": {
     "duration": 0.126405,
     "end_time": "2023-02-20T18:47:25.335833",
     "exception": false,
     "start_time": "2023-02-20T18:47:25.209428",
     "status": "completed"
    },
    "tags": []
   },
   "outputs": [],
   "source": [
    "# LASSO\n",
    "L1 = linear_model.Lasso()\n",
    "L1.fit(x_train,y_train)\n",
    "y_pred1 = L1.predict(x_test)"
   ]
  },
  {
   "cell_type": "code",
   "execution_count": 171,
   "id": "2d035ea2",
   "metadata": {
    "execution": {
     "iopub.execute_input": "2023-02-20T18:47:25.480496Z",
     "iopub.status.busy": "2023-02-20T18:47:25.480183Z",
     "iopub.status.idle": "2023-02-20T18:47:25.486277Z",
     "shell.execute_reply": "2023-02-20T18:47:25.485371Z"
    },
    "papermill": {
     "duration": 0.076726,
     "end_time": "2023-02-20T18:47:25.488147",
     "exception": false,
     "start_time": "2023-02-20T18:47:25.411421",
     "status": "completed"
    },
    "tags": []
   },
   "outputs": [
    {
     "data": {
      "text/plain": [
       "0.7507020198871027"
      ]
     },
     "execution_count": 171,
     "metadata": {},
     "output_type": "execute_result"
    }
   ],
   "source": [
    "r2 = r2_score(y_test, y_pred1)\n",
    "r2 \n"
   ]
  },
  {
   "cell_type": "code",
   "execution_count": 172,
   "id": "3b79e2cf",
   "metadata": {
    "execution": {
     "iopub.execute_input": "2023-02-20T18:47:25.602909Z",
     "iopub.status.busy": "2023-02-20T18:47:25.602426Z",
     "iopub.status.idle": "2023-02-20T18:47:25.608662Z",
     "shell.execute_reply": "2023-02-20T18:47:25.607875Z"
    },
    "papermill": {
     "duration": 0.065971,
     "end_time": "2023-02-20T18:47:25.610430",
     "exception": false,
     "start_time": "2023-02-20T18:47:25.544459",
     "status": "completed"
    },
    "tags": []
   },
   "outputs": [
    {
     "data": {
      "text/plain": [
       "1.5980824331021113"
      ]
     },
     "execution_count": 172,
     "metadata": {},
     "output_type": "execute_result"
    }
   ],
   "source": [
    "# calculate the MAE of the model\n",
    "mae = mean_absolute_error(y_test, y_pred1)\n",
    "mae"
   ]
  },
  {
   "cell_type": "code",
   "execution_count": 173,
   "id": "8d1bb6f7",
   "metadata": {
    "execution": {
     "iopub.execute_input": "2023-02-20T18:47:25.724777Z",
     "iopub.status.busy": "2023-02-20T18:47:25.724428Z",
     "iopub.status.idle": "2023-02-20T18:47:25.731435Z",
     "shell.execute_reply": "2023-02-20T18:47:25.730744Z"
    },
    "papermill": {
     "duration": 0.066958,
     "end_time": "2023-02-20T18:47:25.733876",
     "exception": false,
     "start_time": "2023-02-20T18:47:25.666918",
     "status": "completed"
    },
    "tags": []
   },
   "outputs": [
    {
     "data": {
      "text/plain": [
       "9.313675490018403"
      ]
     },
     "execution_count": 173,
     "metadata": {},
     "output_type": "execute_result"
    }
   ],
   "source": [
    "# calculate the MSE of the model\n",
    "mse = mean_squared_error(y_test, y_pred1)\n",
    "mse"
   ]
  },
  {
   "cell_type": "code",
   "execution_count": 174,
   "id": "efe1ec8f",
   "metadata": {
    "execution": {
     "iopub.execute_input": "2023-02-20T18:47:25.851627Z",
     "iopub.status.busy": "2023-02-20T18:47:25.850130Z",
     "iopub.status.idle": "2023-02-20T18:47:25.857173Z",
     "shell.execute_reply": "2023-02-20T18:47:25.856086Z"
    },
    "papermill": {
     "duration": 0.06718,
     "end_time": "2023-02-20T18:47:25.859017",
     "exception": false,
     "start_time": "2023-02-20T18:47:25.791837",
     "status": "completed"
    },
    "tags": []
   },
   "outputs": [
    {
     "data": {
      "text/plain": [
       "3.0518314976450456"
      ]
     },
     "execution_count": 174,
     "metadata": {},
     "output_type": "execute_result"
    }
   ],
   "source": [
    "# calculate the RMSE of the model\n",
    "rmse = np.sqrt(mse)\n",
    "rmse"
   ]
  },
  {
   "cell_type": "code",
   "execution_count": 175,
   "id": "0a4b4291",
   "metadata": {
    "execution": {
     "iopub.execute_input": "2023-02-20T18:47:25.976314Z",
     "iopub.status.busy": "2023-02-20T18:47:25.975323Z",
     "iopub.status.idle": "2023-02-20T18:47:25.988954Z",
     "shell.execute_reply": "2023-02-20T18:47:25.987842Z"
    },
    "papermill": {
     "duration": 0.074494,
     "end_time": "2023-02-20T18:47:25.991355",
     "exception": false,
     "start_time": "2023-02-20T18:47:25.916861",
     "status": "completed"
    },
    "tags": []
   },
   "outputs": [],
   "source": [
    "# Ridge\n",
    "L2 = Ridge(alpha=1.0)\n",
    "L2.fit(x_train, y_train) \n",
    "y_pred3 = L2.predict(x_test)"
   ]
  },
  {
   "cell_type": "code",
   "execution_count": 176,
   "id": "67bfe84e",
   "metadata": {
    "execution": {
     "iopub.execute_input": "2023-02-20T18:47:26.133450Z",
     "iopub.status.busy": "2023-02-20T18:47:26.133060Z",
     "iopub.status.idle": "2023-02-20T18:47:26.140911Z",
     "shell.execute_reply": "2023-02-20T18:47:26.140049Z"
    },
    "papermill": {
     "duration": 0.076442,
     "end_time": "2023-02-20T18:47:26.142533",
     "exception": false,
     "start_time": "2023-02-20T18:47:26.066091",
     "status": "completed"
    },
    "tags": []
   },
   "outputs": [
    {
     "data": {
      "text/plain": [
       "0.7753072003472253"
      ]
     },
     "execution_count": 176,
     "metadata": {},
     "output_type": "execute_result"
    }
   ],
   "source": [
    "r2 = r2_score(y_test, y_pred3)\n",
    "r2 "
   ]
  },
  {
   "cell_type": "code",
   "execution_count": 177,
   "id": "c7ff757d",
   "metadata": {
    "execution": {
     "iopub.execute_input": "2023-02-20T18:47:26.261020Z",
     "iopub.status.busy": "2023-02-20T18:47:26.260466Z",
     "iopub.status.idle": "2023-02-20T18:47:26.265842Z",
     "shell.execute_reply": "2023-02-20T18:47:26.265184Z"
    },
    "papermill": {
     "duration": 0.066799,
     "end_time": "2023-02-20T18:47:26.267652",
     "exception": false,
     "start_time": "2023-02-20T18:47:26.200853",
     "status": "completed"
    },
    "tags": []
   },
   "outputs": [
    {
     "data": {
      "text/plain": [
       "1.5188909684172016"
      ]
     },
     "execution_count": 177,
     "metadata": {},
     "output_type": "execute_result"
    }
   ],
   "source": [
    "# calculate the MAE of the model\n",
    "mae = mean_absolute_error(y_test, y_pred3)\n",
    "mae"
   ]
  },
  {
   "cell_type": "code",
   "execution_count": 178,
   "id": "62402bf1",
   "metadata": {
    "execution": {
     "iopub.execute_input": "2023-02-20T18:47:26.384690Z",
     "iopub.status.busy": "2023-02-20T18:47:26.384156Z",
     "iopub.status.idle": "2023-02-20T18:47:26.390534Z",
     "shell.execute_reply": "2023-02-20T18:47:26.389418Z"
    },
    "papermill": {
     "duration": 0.067234,
     "end_time": "2023-02-20T18:47:26.392682",
     "exception": false,
     "start_time": "2023-02-20T18:47:26.325448",
     "status": "completed"
    },
    "tags": []
   },
   "outputs": [
    {
     "data": {
      "text/plain": [
       "8.394435526360677"
      ]
     },
     "execution_count": 178,
     "metadata": {},
     "output_type": "execute_result"
    }
   ],
   "source": [
    "# calculate the MSE of the model\n",
    "mse = mean_squared_error(y_test, y_pred3)\n",
    "mse"
   ]
  },
  {
   "cell_type": "code",
   "execution_count": 179,
   "id": "5b98641c",
   "metadata": {
    "execution": {
     "iopub.execute_input": "2023-02-20T18:47:26.509976Z",
     "iopub.status.busy": "2023-02-20T18:47:26.509622Z",
     "iopub.status.idle": "2023-02-20T18:47:26.515013Z",
     "shell.execute_reply": "2023-02-20T18:47:26.514214Z"
    },
    "papermill": {
     "duration": 0.065957,
     "end_time": "2023-02-20T18:47:26.516852",
     "exception": false,
     "start_time": "2023-02-20T18:47:26.450895",
     "status": "completed"
    },
    "tags": []
   },
   "outputs": [
    {
     "data": {
      "text/plain": [
       "2.8973152273028004"
      ]
     },
     "execution_count": 179,
     "metadata": {},
     "output_type": "execute_result"
    }
   ],
   "source": [
    "# calculate the RMSE of the model\n",
    "rmse = np.sqrt(mse)\n",
    "rmse"
   ]
  },
  {
   "cell_type": "markdown",
   "id": "2d81baa3",
   "metadata": {
    "papermill": {
     "duration": 0.057178,
     "end_time": "2023-02-20T18:47:26.631607",
     "exception": false,
     "start_time": "2023-02-20T18:47:26.574429",
     "status": "completed"
    },
    "tags": []
   },
   "source": [
    "clint 1: Albany"
   ]
  },
  {
   "cell_type": "code",
   "execution_count": 180,
   "id": "b6b47e1f",
   "metadata": {
    "execution": {
     "iopub.execute_input": "2023-02-20T18:47:26.748158Z",
     "iopub.status.busy": "2023-02-20T18:47:26.747795Z",
     "iopub.status.idle": "2023-02-20T18:47:26.891175Z",
     "shell.execute_reply": "2023-02-20T18:47:26.890267Z"
    },
    "papermill": {
     "duration": 0.203999,
     "end_time": "2023-02-20T18:47:26.893347",
     "exception": false,
     "start_time": "2023-02-20T18:47:26.689348",
     "status": "completed"
    },
    "tags": []
   },
   "outputs": [],
   "source": [
    "Albany_df=df[df[\"Facility Name\"]== 'Albany Medical Center Hospital']\n"
   ]
  },
  {
   "cell_type": "code",
   "execution_count": 181,
   "id": "81e8c32b",
   "metadata": {
    "execution": {
     "iopub.execute_input": "2023-02-20T18:47:27.010428Z",
     "iopub.status.busy": "2023-02-20T18:47:27.009810Z",
     "iopub.status.idle": "2023-02-20T18:47:27.047518Z",
     "shell.execute_reply": "2023-02-20T18:47:27.046702Z"
    },
    "papermill": {
     "duration": 0.098423,
     "end_time": "2023-02-20T18:47:27.049375",
     "exception": false,
     "start_time": "2023-02-20T18:47:26.950952",
     "status": "completed"
    },
    "tags": []
   },
   "outputs": [
    {
     "data": {
      "text/html": [
       "<div>\n",
       "<style scoped>\n",
       "    .dataframe tbody tr th:only-of-type {\n",
       "        vertical-align: middle;\n",
       "    }\n",
       "\n",
       "    .dataframe tbody tr th {\n",
       "        vertical-align: top;\n",
       "    }\n",
       "\n",
       "    .dataframe thead th {\n",
       "        text-align: right;\n",
       "    }\n",
       "</style>\n",
       "<table border=\"1\" class=\"dataframe\">\n",
       "  <thead>\n",
       "    <tr style=\"text-align: right;\">\n",
       "      <th></th>\n",
       "      <th>Hospital County</th>\n",
       "      <th>Operating Certificate Number</th>\n",
       "      <th>Facility Id</th>\n",
       "      <th>Facility Name</th>\n",
       "      <th>Age Group</th>\n",
       "      <th>Zip Code - 3 digits</th>\n",
       "      <th>Gender</th>\n",
       "      <th>Race</th>\n",
       "      <th>Ethnicity</th>\n",
       "      <th>Length of Stay</th>\n",
       "      <th>...</th>\n",
       "      <th>APR Risk of Mortality</th>\n",
       "      <th>APR Medical Surgical Description</th>\n",
       "      <th>Payment Typology 1</th>\n",
       "      <th>Payment Typology 2</th>\n",
       "      <th>Payment Typology 3</th>\n",
       "      <th>Birth Weight</th>\n",
       "      <th>Abortion Edit Indicator</th>\n",
       "      <th>Emergency Department Indicator</th>\n",
       "      <th>Total Charges</th>\n",
       "      <th>Total Costs</th>\n",
       "    </tr>\n",
       "  </thead>\n",
       "  <tbody>\n",
       "    <tr>\n",
       "      <th>490252</th>\n",
       "      <td>Albany</td>\n",
       "      <td>101000.0</td>\n",
       "      <td>1.0</td>\n",
       "      <td>Albany Medical Center Hospital</td>\n",
       "      <td>0 to 17</td>\n",
       "      <td>120</td>\n",
       "      <td>F</td>\n",
       "      <td>White</td>\n",
       "      <td>Not Span/Hispanic</td>\n",
       "      <td>1</td>\n",
       "      <td>...</td>\n",
       "      <td>Minor</td>\n",
       "      <td>Medical</td>\n",
       "      <td>Medicaid</td>\n",
       "      <td>NaN</td>\n",
       "      <td>NaN</td>\n",
       "      <td>0</td>\n",
       "      <td>N</td>\n",
       "      <td>Y</td>\n",
       "      <td>10397.13</td>\n",
       "      <td>3610.96</td>\n",
       "    </tr>\n",
       "    <tr>\n",
       "      <th>491806</th>\n",
       "      <td>Albany</td>\n",
       "      <td>101000.0</td>\n",
       "      <td>1.0</td>\n",
       "      <td>Albany Medical Center Hospital</td>\n",
       "      <td>0 to 17</td>\n",
       "      <td>120</td>\n",
       "      <td>F</td>\n",
       "      <td>White</td>\n",
       "      <td>Not Span/Hispanic</td>\n",
       "      <td>1</td>\n",
       "      <td>...</td>\n",
       "      <td>Minor</td>\n",
       "      <td>Medical</td>\n",
       "      <td>Medicaid</td>\n",
       "      <td>NaN</td>\n",
       "      <td>NaN</td>\n",
       "      <td>0</td>\n",
       "      <td>N</td>\n",
       "      <td>Y</td>\n",
       "      <td>9976.77</td>\n",
       "      <td>2263.12</td>\n",
       "    </tr>\n",
       "    <tr>\n",
       "      <th>492215</th>\n",
       "      <td>Albany</td>\n",
       "      <td>101000.0</td>\n",
       "      <td>1.0</td>\n",
       "      <td>Albany Medical Center Hospital</td>\n",
       "      <td>0 to 17</td>\n",
       "      <td>122</td>\n",
       "      <td>F</td>\n",
       "      <td>Black/African American</td>\n",
       "      <td>Not Span/Hispanic</td>\n",
       "      <td>1</td>\n",
       "      <td>...</td>\n",
       "      <td>Minor</td>\n",
       "      <td>Medical</td>\n",
       "      <td>Medicaid</td>\n",
       "      <td>NaN</td>\n",
       "      <td>NaN</td>\n",
       "      <td>0</td>\n",
       "      <td>N</td>\n",
       "      <td>Y</td>\n",
       "      <td>6042.14</td>\n",
       "      <td>1968.23</td>\n",
       "    </tr>\n",
       "    <tr>\n",
       "      <th>492519</th>\n",
       "      <td>Albany</td>\n",
       "      <td>101000.0</td>\n",
       "      <td>1.0</td>\n",
       "      <td>Albany Medical Center Hospital</td>\n",
       "      <td>50 to 69</td>\n",
       "      <td>120</td>\n",
       "      <td>F</td>\n",
       "      <td>White</td>\n",
       "      <td>Not Span/Hispanic</td>\n",
       "      <td>1</td>\n",
       "      <td>...</td>\n",
       "      <td>Minor</td>\n",
       "      <td>Medical</td>\n",
       "      <td>Medicaid</td>\n",
       "      <td>NaN</td>\n",
       "      <td>NaN</td>\n",
       "      <td>0</td>\n",
       "      <td>N</td>\n",
       "      <td>Y</td>\n",
       "      <td>17876.70</td>\n",
       "      <td>4662.19</td>\n",
       "    </tr>\n",
       "    <tr>\n",
       "      <th>493215</th>\n",
       "      <td>Albany</td>\n",
       "      <td>101000.0</td>\n",
       "      <td>1.0</td>\n",
       "      <td>Albany Medical Center Hospital</td>\n",
       "      <td>0 to 17</td>\n",
       "      <td>124</td>\n",
       "      <td>M</td>\n",
       "      <td>Other Race</td>\n",
       "      <td>Unknown</td>\n",
       "      <td>1</td>\n",
       "      <td>...</td>\n",
       "      <td>Minor</td>\n",
       "      <td>Medical</td>\n",
       "      <td>Private Health Insurance</td>\n",
       "      <td>NaN</td>\n",
       "      <td>NaN</td>\n",
       "      <td>0</td>\n",
       "      <td>N</td>\n",
       "      <td>N</td>\n",
       "      <td>9919.29</td>\n",
       "      <td>3418.02</td>\n",
       "    </tr>\n",
       "    <tr>\n",
       "      <th>...</th>\n",
       "      <td>...</td>\n",
       "      <td>...</td>\n",
       "      <td>...</td>\n",
       "      <td>...</td>\n",
       "      <td>...</td>\n",
       "      <td>...</td>\n",
       "      <td>...</td>\n",
       "      <td>...</td>\n",
       "      <td>...</td>\n",
       "      <td>...</td>\n",
       "      <td>...</td>\n",
       "      <td>...</td>\n",
       "      <td>...</td>\n",
       "      <td>...</td>\n",
       "      <td>...</td>\n",
       "      <td>...</td>\n",
       "      <td>...</td>\n",
       "      <td>...</td>\n",
       "      <td>...</td>\n",
       "      <td>...</td>\n",
       "      <td>...</td>\n",
       "    </tr>\n",
       "    <tr>\n",
       "      <th>536364</th>\n",
       "      <td>Albany</td>\n",
       "      <td>101000.0</td>\n",
       "      <td>1.0</td>\n",
       "      <td>Albany Medical Center Hospital</td>\n",
       "      <td>18 to 29</td>\n",
       "      <td>121</td>\n",
       "      <td>M</td>\n",
       "      <td>White</td>\n",
       "      <td>Not Span/Hispanic</td>\n",
       "      <td>1</td>\n",
       "      <td>...</td>\n",
       "      <td>Minor</td>\n",
       "      <td>Surgical</td>\n",
       "      <td>Blue Cross/Blue Shield</td>\n",
       "      <td>NaN</td>\n",
       "      <td>NaN</td>\n",
       "      <td>0</td>\n",
       "      <td>N</td>\n",
       "      <td>Y</td>\n",
       "      <td>16726.52</td>\n",
       "      <td>5145.79</td>\n",
       "    </tr>\n",
       "    <tr>\n",
       "      <th>536365</th>\n",
       "      <td>Albany</td>\n",
       "      <td>101000.0</td>\n",
       "      <td>1.0</td>\n",
       "      <td>Albany Medical Center Hospital</td>\n",
       "      <td>0 to 17</td>\n",
       "      <td>121</td>\n",
       "      <td>F</td>\n",
       "      <td>Other Race</td>\n",
       "      <td>Unknown</td>\n",
       "      <td>2</td>\n",
       "      <td>...</td>\n",
       "      <td>Minor</td>\n",
       "      <td>Medical</td>\n",
       "      <td>Medicaid</td>\n",
       "      <td>NaN</td>\n",
       "      <td>NaN</td>\n",
       "      <td>4700</td>\n",
       "      <td>N</td>\n",
       "      <td>N</td>\n",
       "      <td>3829.74</td>\n",
       "      <td>947.76</td>\n",
       "    </tr>\n",
       "    <tr>\n",
       "      <th>536366</th>\n",
       "      <td>Albany</td>\n",
       "      <td>101000.0</td>\n",
       "      <td>1.0</td>\n",
       "      <td>Albany Medical Center Hospital</td>\n",
       "      <td>0 to 17</td>\n",
       "      <td>124</td>\n",
       "      <td>M</td>\n",
       "      <td>Other Race</td>\n",
       "      <td>Unknown</td>\n",
       "      <td>3</td>\n",
       "      <td>...</td>\n",
       "      <td>Minor</td>\n",
       "      <td>Medical</td>\n",
       "      <td>Medicaid</td>\n",
       "      <td>NaN</td>\n",
       "      <td>NaN</td>\n",
       "      <td>3200</td>\n",
       "      <td>N</td>\n",
       "      <td>N</td>\n",
       "      <td>7209.25</td>\n",
       "      <td>1661.29</td>\n",
       "    </tr>\n",
       "    <tr>\n",
       "      <th>536367</th>\n",
       "      <td>Albany</td>\n",
       "      <td>101000.0</td>\n",
       "      <td>1.0</td>\n",
       "      <td>Albany Medical Center Hospital</td>\n",
       "      <td>0 to 17</td>\n",
       "      <td>120</td>\n",
       "      <td>F</td>\n",
       "      <td>Other Race</td>\n",
       "      <td>Unknown</td>\n",
       "      <td>83</td>\n",
       "      <td>...</td>\n",
       "      <td>Moderate</td>\n",
       "      <td>Medical</td>\n",
       "      <td>Medicaid</td>\n",
       "      <td>NaN</td>\n",
       "      <td>NaN</td>\n",
       "      <td>900</td>\n",
       "      <td>N</td>\n",
       "      <td>N</td>\n",
       "      <td>665166.90</td>\n",
       "      <td>165272.09</td>\n",
       "    </tr>\n",
       "    <tr>\n",
       "      <th>536368</th>\n",
       "      <td>Albany</td>\n",
       "      <td>101000.0</td>\n",
       "      <td>1.0</td>\n",
       "      <td>Albany Medical Center Hospital</td>\n",
       "      <td>0 to 17</td>\n",
       "      <td>120</td>\n",
       "      <td>M</td>\n",
       "      <td>Other Race</td>\n",
       "      <td>Unknown</td>\n",
       "      <td>2</td>\n",
       "      <td>...</td>\n",
       "      <td>Minor</td>\n",
       "      <td>Medical</td>\n",
       "      <td>Managed Care, Unspecified</td>\n",
       "      <td>NaN</td>\n",
       "      <td>NaN</td>\n",
       "      <td>3500</td>\n",
       "      <td>N</td>\n",
       "      <td>N</td>\n",
       "      <td>4728.77</td>\n",
       "      <td>1135.90</td>\n",
       "    </tr>\n",
       "  </tbody>\n",
       "</table>\n",
       "<p>36281 rows × 28 columns</p>\n",
       "</div>"
      ],
      "text/plain": [
       "       Hospital County  Operating Certificate Number  Facility Id  \\\n",
       "490252          Albany                      101000.0          1.0   \n",
       "491806          Albany                      101000.0          1.0   \n",
       "492215          Albany                      101000.0          1.0   \n",
       "492519          Albany                      101000.0          1.0   \n",
       "493215          Albany                      101000.0          1.0   \n",
       "...                ...                           ...          ...   \n",
       "536364          Albany                      101000.0          1.0   \n",
       "536365          Albany                      101000.0          1.0   \n",
       "536366          Albany                      101000.0          1.0   \n",
       "536367          Albany                      101000.0          1.0   \n",
       "536368          Albany                      101000.0          1.0   \n",
       "\n",
       "                         Facility Name Age Group Zip Code - 3 digits Gender  \\\n",
       "490252  Albany Medical Center Hospital   0 to 17                 120      F   \n",
       "491806  Albany Medical Center Hospital   0 to 17                 120      F   \n",
       "492215  Albany Medical Center Hospital   0 to 17                 122      F   \n",
       "492519  Albany Medical Center Hospital  50 to 69                 120      F   \n",
       "493215  Albany Medical Center Hospital   0 to 17                 124      M   \n",
       "...                                ...       ...                 ...    ...   \n",
       "536364  Albany Medical Center Hospital  18 to 29                 121      M   \n",
       "536365  Albany Medical Center Hospital   0 to 17                 121      F   \n",
       "536366  Albany Medical Center Hospital   0 to 17                 124      M   \n",
       "536367  Albany Medical Center Hospital   0 to 17                 120      F   \n",
       "536368  Albany Medical Center Hospital   0 to 17                 120      M   \n",
       "\n",
       "                          Race          Ethnicity Length of Stay  ...  \\\n",
       "490252                   White  Not Span/Hispanic              1  ...   \n",
       "491806                   White  Not Span/Hispanic              1  ...   \n",
       "492215  Black/African American  Not Span/Hispanic              1  ...   \n",
       "492519                   White  Not Span/Hispanic              1  ...   \n",
       "493215              Other Race            Unknown              1  ...   \n",
       "...                        ...                ...            ...  ...   \n",
       "536364                   White  Not Span/Hispanic              1  ...   \n",
       "536365              Other Race            Unknown              2  ...   \n",
       "536366              Other Race            Unknown              3  ...   \n",
       "536367              Other Race            Unknown             83  ...   \n",
       "536368              Other Race            Unknown              2  ...   \n",
       "\n",
       "       APR Risk of Mortality APR Medical Surgical Description  \\\n",
       "490252                 Minor                          Medical   \n",
       "491806                 Minor                          Medical   \n",
       "492215                 Minor                          Medical   \n",
       "492519                 Minor                          Medical   \n",
       "493215                 Minor                          Medical   \n",
       "...                      ...                              ...   \n",
       "536364                 Minor                         Surgical   \n",
       "536365                 Minor                          Medical   \n",
       "536366                 Minor                          Medical   \n",
       "536367              Moderate                          Medical   \n",
       "536368                 Minor                          Medical   \n",
       "\n",
       "               Payment Typology 1  Payment Typology 2  Payment Typology 3  \\\n",
       "490252                   Medicaid                 NaN                 NaN   \n",
       "491806                   Medicaid                 NaN                 NaN   \n",
       "492215                   Medicaid                 NaN                 NaN   \n",
       "492519                   Medicaid                 NaN                 NaN   \n",
       "493215   Private Health Insurance                 NaN                 NaN   \n",
       "...                           ...                 ...                 ...   \n",
       "536364     Blue Cross/Blue Shield                 NaN                 NaN   \n",
       "536365                   Medicaid                 NaN                 NaN   \n",
       "536366                   Medicaid                 NaN                 NaN   \n",
       "536367                   Medicaid                 NaN                 NaN   \n",
       "536368  Managed Care, Unspecified                 NaN                 NaN   \n",
       "\n",
       "        Birth Weight  Abortion Edit Indicator  Emergency Department Indicator  \\\n",
       "490252             0                        N                               Y   \n",
       "491806             0                        N                               Y   \n",
       "492215             0                        N                               Y   \n",
       "492519             0                        N                               Y   \n",
       "493215             0                        N                               N   \n",
       "...              ...                      ...                             ...   \n",
       "536364             0                        N                               Y   \n",
       "536365          4700                        N                               N   \n",
       "536366          3200                        N                               N   \n",
       "536367           900                        N                               N   \n",
       "536368          3500                        N                               N   \n",
       "\n",
       "       Total Charges Total Costs  \n",
       "490252      10397.13     3610.96  \n",
       "491806       9976.77     2263.12  \n",
       "492215       6042.14     1968.23  \n",
       "492519      17876.70     4662.19  \n",
       "493215       9919.29     3418.02  \n",
       "...              ...         ...  \n",
       "536364      16726.52     5145.79  \n",
       "536365       3829.74      947.76  \n",
       "536366       7209.25     1661.29  \n",
       "536367     665166.90   165272.09  \n",
       "536368       4728.77     1135.90  \n",
       "\n",
       "[36281 rows x 28 columns]"
      ]
     },
     "execution_count": 181,
     "metadata": {},
     "output_type": "execute_result"
    }
   ],
   "source": [
    "Albany_df"
   ]
  },
  {
   "cell_type": "code",
   "execution_count": 182,
   "id": "82592d89",
   "metadata": {
    "execution": {
     "iopub.execute_input": "2023-02-20T18:47:27.170760Z",
     "iopub.status.busy": "2023-02-20T18:47:27.170411Z",
     "iopub.status.idle": "2023-02-20T18:47:27.189270Z",
     "shell.execute_reply": "2023-02-20T18:47:27.188192Z"
    },
    "papermill": {
     "duration": 0.081745,
     "end_time": "2023-02-20T18:47:27.191541",
     "exception": false,
     "start_time": "2023-02-20T18:47:27.109796",
     "status": "completed"
    },
    "tags": []
   },
   "outputs": [
    {
     "name": "stdout",
     "output_type": "stream",
     "text": [
      "<class 'pandas.core.frame.DataFrame'>\n",
      "Int64Index: 36281 entries, 490252 to 536368\n",
      "Data columns (total 28 columns):\n",
      " #   Column                            Non-Null Count  Dtype   \n",
      "---  ------                            --------------  -----   \n",
      " 0   Hospital County                   36281 non-null  category\n",
      " 1   Operating Certificate Number      36281 non-null  float64 \n",
      " 2   Facility Id                       36281 non-null  float64 \n",
      " 3   Facility Name                     36281 non-null  object  \n",
      " 4   Age Group                         36281 non-null  category\n",
      " 5   Zip Code - 3 digits               35772 non-null  category\n",
      " 6   Gender                            36281 non-null  category\n",
      " 7   Race                              36281 non-null  category\n",
      " 8   Ethnicity                         36281 non-null  category\n",
      " 9   Length of Stay                    36281 non-null  category\n",
      " 10  Type of Admission                 36281 non-null  category\n",
      " 11  Patient Disposition               36281 non-null  category\n",
      " 12  Discharge Year                    36281 non-null  int64   \n",
      " 13  CCS Diagnosis Code                36281 non-null  int64   \n",
      " 14  CCS Procedure Code                36281 non-null  int64   \n",
      " 15  APR DRG Code                      36281 non-null  int64   \n",
      " 16  APR MDC Code                      36281 non-null  int64   \n",
      " 17  APR Severity of Illness Code      36281 non-null  int64   \n",
      " 18  APR Risk of Mortality             36280 non-null  category\n",
      " 19  APR Medical Surgical Description  36281 non-null  category\n",
      " 20  Payment Typology 1                36281 non-null  category\n",
      " 21  Payment Typology 2                11617 non-null  category\n",
      " 22  Payment Typology 3                8960 non-null   category\n",
      " 23  Birth Weight                      36281 non-null  int64   \n",
      " 24  Abortion Edit Indicator           36281 non-null  category\n",
      " 25  Emergency Department Indicator    36281 non-null  category\n",
      " 26  Total Charges                     36281 non-null  float64 \n",
      " 27  Total Costs                       36281 non-null  float64 \n",
      "dtypes: category(16), float64(4), int64(7), object(1)\n",
      "memory usage: 4.2+ MB\n"
     ]
    }
   ],
   "source": [
    "Albany_df.info()"
   ]
  },
  {
   "cell_type": "code",
   "execution_count": 183,
   "id": "1d4591a7",
   "metadata": {
    "execution": {
     "iopub.execute_input": "2023-02-20T18:47:27.313528Z",
     "iopub.status.busy": "2023-02-20T18:47:27.313150Z",
     "iopub.status.idle": "2023-02-20T18:47:27.320932Z",
     "shell.execute_reply": "2023-02-20T18:47:27.320247Z"
    },
    "papermill": {
     "duration": 0.073086,
     "end_time": "2023-02-20T18:47:27.322799",
     "exception": false,
     "start_time": "2023-02-20T18:47:27.249713",
     "status": "completed"
    },
    "tags": []
   },
   "outputs": [
    {
     "name": "stderr",
     "output_type": "stream",
     "text": [
      "/opt/conda/lib/python3.7/site-packages/ipykernel_launcher.py:3: SettingWithCopyWarning: \n",
      "A value is trying to be set on a copy of a slice from a DataFrame.\n",
      "Try using .loc[row_indexer,col_indexer] = value instead\n",
      "\n",
      "See the caveats in the documentation: https://pandas.pydata.org/pandas-docs/stable/user_guide/indexing.html#returning-a-view-versus-a-copy\n",
      "  This is separate from the ipykernel package so we can avoid doing imports until\n",
      "/opt/conda/lib/python3.7/site-packages/ipykernel_launcher.py:5: SettingWithCopyWarning: \n",
      "A value is trying to be set on a copy of a slice from a DataFrame.\n",
      "Try using .loc[row_indexer,col_indexer] = value instead\n",
      "\n",
      "See the caveats in the documentation: https://pandas.pydata.org/pandas-docs/stable/user_guide/indexing.html#returning-a-view-versus-a-copy\n",
      "  \"\"\"\n"
     ]
    }
   ],
   "source": [
    " #   simple mapping on binary features.\n",
    "Albany_df['Abortion Edit Indicator'] = Albany_df['Abortion Edit Indicator'].apply(\n",
    "     lambda x: 1 if x == 'Y' else (0 if x == 'N' else None))\n",
    "Albany_df['Emergency Department Indicator'] = Albany_df['Emergency Department Indicator'].apply(\n",
    "    lambda x: 1 if x == 'Y' else (0 if x == 'N' else None))"
   ]
  },
  {
   "cell_type": "code",
   "execution_count": 184,
   "id": "d8f19204",
   "metadata": {
    "execution": {
     "iopub.execute_input": "2023-02-20T18:47:27.442647Z",
     "iopub.status.busy": "2023-02-20T18:47:27.442257Z",
     "iopub.status.idle": "2023-02-20T18:47:27.576184Z",
     "shell.execute_reply": "2023-02-20T18:47:27.574956Z"
    },
    "papermill": {
     "duration": 0.19784,
     "end_time": "2023-02-20T18:47:27.578701",
     "exception": false,
     "start_time": "2023-02-20T18:47:27.380861",
     "status": "completed"
    },
    "tags": []
   },
   "outputs": [
    {
     "name": "stderr",
     "output_type": "stream",
     "text": [
      "/opt/conda/lib/python3.7/site-packages/ipykernel_launcher.py:29: SettingWithCopyWarning: \n",
      "A value is trying to be set on a copy of a slice from a DataFrame.\n",
      "Try using .loc[row_indexer,col_indexer] = value instead\n",
      "\n",
      "See the caveats in the documentation: https://pandas.pydata.org/pandas-docs/stable/user_guide/indexing.html#returning-a-view-versus-a-copy\n"
     ]
    }
   ],
   "source": [
    "list=  [ \"Hospital County\",\"Age Group\"\n",
    "    ,\"Gender\",   \n",
    " \"Race\" , \n",
    "\"Ethnicity\", \n",
    "\"Gender\" , \n",
    "\"Race\" ,    \n",
    " \"Ethnicity\" ,        \n",
    " \"Type of Admission\"  ,  \n",
    "  \"Patient Disposition\",      \n",
    " \"Type of Admission\" ,  \n",
    " \"Patient Disposition\"  ,\n",
    "  \"APR Risk of Mortality\" ,   \n",
    " \"APR Medical Surgical Description\" ,\n",
    " \"Payment Typology 1\"   ,   \n",
    " \"Abortion Edit Indicator\"     ,  \n",
    " \"Emergency Department Indicator\",\n",
    "       \"Zip Code - 3 digits\",\"Payment Typology 2\"        \n",
    "   ,\"Payment Typology 3\"]  \n",
    "\n",
    "# Import label encoder\n",
    "from sklearn import preprocessing\n",
    "  \n",
    "# label_encoder object knows how to understand word labels.        \n",
    "   \n",
    "label_encoder = preprocessing.LabelEncoder()\n",
    "  \n",
    "# Encode labels in column 'species'. \n",
    "for col in list :\n",
    " Albany_df[col]= label_encoder.fit_transform(Albany_df[col])\n"
   ]
  },
  {
   "cell_type": "code",
   "execution_count": 185,
   "id": "55bf4040",
   "metadata": {
    "execution": {
     "iopub.execute_input": "2023-02-20T18:47:27.698179Z",
     "iopub.status.busy": "2023-02-20T18:47:27.697822Z",
     "iopub.status.idle": "2023-02-20T18:47:27.706590Z",
     "shell.execute_reply": "2023-02-20T18:47:27.705162Z"
    },
    "papermill": {
     "duration": 0.071556,
     "end_time": "2023-02-20T18:47:27.708862",
     "exception": false,
     "start_time": "2023-02-20T18:47:27.637306",
     "status": "completed"
    },
    "tags": []
   },
   "outputs": [],
   "source": [
    "Albany_df=Albany_df.drop(\"Facility Name\", axis=1)"
   ]
  },
  {
   "cell_type": "code",
   "execution_count": 186,
   "id": "b15c703d",
   "metadata": {
    "execution": {
     "iopub.execute_input": "2023-02-20T18:47:27.832175Z",
     "iopub.status.busy": "2023-02-20T18:47:27.831646Z",
     "iopub.status.idle": "2023-02-20T18:47:27.847720Z",
     "shell.execute_reply": "2023-02-20T18:47:27.846992Z"
    },
    "papermill": {
     "duration": 0.083046,
     "end_time": "2023-02-20T18:47:27.849531",
     "exception": false,
     "start_time": "2023-02-20T18:47:27.766485",
     "status": "completed"
    },
    "tags": []
   },
   "outputs": [
    {
     "name": "stdout",
     "output_type": "stream",
     "text": [
      "<class 'pandas.core.frame.DataFrame'>\n",
      "Int64Index: 36281 entries, 490252 to 536368\n",
      "Data columns (total 27 columns):\n",
      " #   Column                            Non-Null Count  Dtype   \n",
      "---  ------                            --------------  -----   \n",
      " 0   Hospital County                   36281 non-null  int64   \n",
      " 1   Operating Certificate Number      36281 non-null  float64 \n",
      " 2   Facility Id                       36281 non-null  float64 \n",
      " 3   Age Group                         36281 non-null  int64   \n",
      " 4   Zip Code - 3 digits               36281 non-null  int64   \n",
      " 5   Gender                            36281 non-null  int64   \n",
      " 6   Race                              36281 non-null  int64   \n",
      " 7   Ethnicity                         36281 non-null  int64   \n",
      " 8   Length of Stay                    36281 non-null  category\n",
      " 9   Type of Admission                 36281 non-null  int64   \n",
      " 10  Patient Disposition               36281 non-null  int64   \n",
      " 11  Discharge Year                    36281 non-null  int64   \n",
      " 12  CCS Diagnosis Code                36281 non-null  int64   \n",
      " 13  CCS Procedure Code                36281 non-null  int64   \n",
      " 14  APR DRG Code                      36281 non-null  int64   \n",
      " 15  APR MDC Code                      36281 non-null  int64   \n",
      " 16  APR Severity of Illness Code      36281 non-null  int64   \n",
      " 17  APR Risk of Mortality             36281 non-null  int64   \n",
      " 18  APR Medical Surgical Description  36281 non-null  int64   \n",
      " 19  Payment Typology 1                36281 non-null  int64   \n",
      " 20  Payment Typology 2                36281 non-null  int64   \n",
      " 21  Payment Typology 3                36281 non-null  int64   \n",
      " 22  Birth Weight                      36281 non-null  int64   \n",
      " 23  Abortion Edit Indicator           36281 non-null  int64   \n",
      " 24  Emergency Department Indicator    36281 non-null  int64   \n",
      " 25  Total Charges                     36281 non-null  float64 \n",
      " 26  Total Costs                       36281 non-null  float64 \n",
      "dtypes: category(1), float64(4), int64(22)\n",
      "memory usage: 7.6 MB\n"
     ]
    }
   ],
   "source": [
    "Albany_df.info()"
   ]
  },
  {
   "cell_type": "code",
   "execution_count": 187,
   "id": "6be23d9d",
   "metadata": {
    "execution": {
     "iopub.execute_input": "2023-02-20T18:47:27.969059Z",
     "iopub.status.busy": "2023-02-20T18:47:27.968733Z",
     "iopub.status.idle": "2023-02-20T18:47:27.988980Z",
     "shell.execute_reply": "2023-02-20T18:47:27.988221Z"
    },
    "papermill": {
     "duration": 0.08028,
     "end_time": "2023-02-20T18:47:27.991105",
     "exception": false,
     "start_time": "2023-02-20T18:47:27.910825",
     "status": "completed"
    },
    "tags": []
   },
   "outputs": [],
   "source": [
    "Albany_df[\"Length of Stay\"]=pd.to_numeric(Albany_df[\"Length of Stay\"],errors='coerce')\n"
   ]
  },
  {
   "cell_type": "code",
   "execution_count": 188,
   "id": "eafbb52e",
   "metadata": {
    "execution": {
     "iopub.execute_input": "2023-02-20T18:47:28.108605Z",
     "iopub.status.busy": "2023-02-20T18:47:28.107277Z",
     "iopub.status.idle": "2023-02-20T18:47:28.119169Z",
     "shell.execute_reply": "2023-02-20T18:47:28.118441Z"
    },
    "papermill": {
     "duration": 0.072942,
     "end_time": "2023-02-20T18:47:28.121186",
     "exception": false,
     "start_time": "2023-02-20T18:47:28.048244",
     "status": "completed"
    },
    "tags": []
   },
   "outputs": [],
   "source": [
    "Albany_df.dropna(inplace=True)"
   ]
  },
  {
   "cell_type": "code",
   "execution_count": 189,
   "id": "1a5c5520",
   "metadata": {
    "execution": {
     "iopub.execute_input": "2023-02-20T18:47:28.243061Z",
     "iopub.status.busy": "2023-02-20T18:47:28.242230Z",
     "iopub.status.idle": "2023-02-20T18:47:28.248977Z",
     "shell.execute_reply": "2023-02-20T18:47:28.248278Z"
    },
    "papermill": {
     "duration": 0.070631,
     "end_time": "2023-02-20T18:47:28.251055",
     "exception": false,
     "start_time": "2023-02-20T18:47:28.180424",
     "status": "completed"
    },
    "tags": []
   },
   "outputs": [],
   "source": [
    "x = Albany_df.drop([\"Length of Stay\"], axis =1)\n",
    "y = Albany_df[\"Length of Stay\"]"
   ]
  },
  {
   "cell_type": "code",
   "execution_count": 190,
   "id": "ce09e3ed",
   "metadata": {
    "execution": {
     "iopub.execute_input": "2023-02-20T18:47:28.369106Z",
     "iopub.status.busy": "2023-02-20T18:47:28.368537Z",
     "iopub.status.idle": "2023-02-20T18:47:28.380967Z",
     "shell.execute_reply": "2023-02-20T18:47:28.380241Z"
    },
    "papermill": {
     "duration": 0.073711,
     "end_time": "2023-02-20T18:47:28.383006",
     "exception": false,
     "start_time": "2023-02-20T18:47:28.309295",
     "status": "completed"
    },
    "tags": []
   },
   "outputs": [],
   "source": [
    "from sklearn.model_selection import train_test_split\n",
    "x_train, x_test, y_train, y_test = train_test_split(x, y, test_size=0.3, random_state=42)"
   ]
  },
  {
   "cell_type": "code",
   "execution_count": 191,
   "id": "38250e3c",
   "metadata": {
    "execution": {
     "iopub.execute_input": "2023-02-20T18:47:28.501206Z",
     "iopub.status.busy": "2023-02-20T18:47:28.500354Z",
     "iopub.status.idle": "2023-02-20T18:47:28.522918Z",
     "shell.execute_reply": "2023-02-20T18:47:28.522130Z"
    },
    "papermill": {
     "duration": 0.084321,
     "end_time": "2023-02-20T18:47:28.525165",
     "exception": false,
     "start_time": "2023-02-20T18:47:28.440844",
     "status": "completed"
    },
    "tags": []
   },
   "outputs": [],
   "source": [
    "# Linear Regression\n",
    "\n",
    "LR = LinearRegression()\n",
    "LR.fit(x_train, y_train)\n",
    "LR.score(x_train, y_train)\n",
    "y_pred =LR.predict(x_test)\n"
   ]
  },
  {
   "cell_type": "code",
   "execution_count": 192,
   "id": "52ad0f4c",
   "metadata": {
    "execution": {
     "iopub.execute_input": "2023-02-20T18:47:28.668888Z",
     "iopub.status.busy": "2023-02-20T18:47:28.668564Z",
     "iopub.status.idle": "2023-02-20T18:47:28.676007Z",
     "shell.execute_reply": "2023-02-20T18:47:28.675030Z"
    },
    "papermill": {
     "duration": 0.077653,
     "end_time": "2023-02-20T18:47:28.677860",
     "exception": false,
     "start_time": "2023-02-20T18:47:28.600207",
     "status": "completed"
    },
    "tags": []
   },
   "outputs": [
    {
     "data": {
      "text/plain": [
       "0.7478105920657923"
      ]
     },
     "execution_count": 192,
     "metadata": {},
     "output_type": "execute_result"
    }
   ],
   "source": [
    "r2 = r2_score(y_test, y_pred)\n",
    "r2 "
   ]
  },
  {
   "cell_type": "code",
   "execution_count": 193,
   "id": "07ed7e06",
   "metadata": {
    "execution": {
     "iopub.execute_input": "2023-02-20T18:47:28.796559Z",
     "iopub.status.busy": "2023-02-20T18:47:28.796191Z",
     "iopub.status.idle": "2023-02-20T18:47:28.802275Z",
     "shell.execute_reply": "2023-02-20T18:47:28.801272Z"
    },
    "papermill": {
     "duration": 0.06664,
     "end_time": "2023-02-20T18:47:28.804055",
     "exception": false,
     "start_time": "2023-02-20T18:47:28.737415",
     "status": "completed"
    },
    "tags": []
   },
   "outputs": [
    {
     "data": {
      "text/plain": [
       "2.3205026865513774"
      ]
     },
     "execution_count": 193,
     "metadata": {},
     "output_type": "execute_result"
    }
   ],
   "source": [
    "# calculate the MAE of the model\n",
    "mae = mean_absolute_error(y_test, y_pred)\n",
    "mae"
   ]
  },
  {
   "cell_type": "code",
   "execution_count": 194,
   "id": "e7405df4",
   "metadata": {
    "execution": {
     "iopub.execute_input": "2023-02-20T18:47:28.924442Z",
     "iopub.status.busy": "2023-02-20T18:47:28.923861Z",
     "iopub.status.idle": "2023-02-20T18:47:28.929877Z",
     "shell.execute_reply": "2023-02-20T18:47:28.929246Z"
    },
    "papermill": {
     "duration": 0.068586,
     "end_time": "2023-02-20T18:47:28.932099",
     "exception": false,
     "start_time": "2023-02-20T18:47:28.863513",
     "status": "completed"
    },
    "tags": []
   },
   "outputs": [
    {
     "data": {
      "text/plain": [
       "16.946608108006014"
      ]
     },
     "execution_count": 194,
     "metadata": {},
     "output_type": "execute_result"
    }
   ],
   "source": [
    "# calculate the MSE of the model\n",
    "mse = mean_squared_error(y_test, y_pred)\n",
    "mse"
   ]
  },
  {
   "cell_type": "code",
   "execution_count": 195,
   "id": "23265eaf",
   "metadata": {
    "execution": {
     "iopub.execute_input": "2023-02-20T18:47:29.050095Z",
     "iopub.status.busy": "2023-02-20T18:47:29.049656Z",
     "iopub.status.idle": "2023-02-20T18:47:29.054963Z",
     "shell.execute_reply": "2023-02-20T18:47:29.054349Z"
    },
    "papermill": {
     "duration": 0.066246,
     "end_time": "2023-02-20T18:47:29.056692",
     "exception": false,
     "start_time": "2023-02-20T18:47:28.990446",
     "status": "completed"
    },
    "tags": []
   },
   "outputs": [
    {
     "data": {
      "text/plain": [
       "4.116625815884413"
      ]
     },
     "execution_count": 195,
     "metadata": {},
     "output_type": "execute_result"
    }
   ],
   "source": [
    "# calculate the RMSE of the model\n",
    "rmse = np.sqrt(mse)\n",
    "rmse"
   ]
  },
  {
   "cell_type": "code",
   "execution_count": 196,
   "id": "12f15da4",
   "metadata": {
    "execution": {
     "iopub.execute_input": "2023-02-20T18:47:29.177261Z",
     "iopub.status.busy": "2023-02-20T18:47:29.176507Z",
     "iopub.status.idle": "2023-02-20T18:47:29.247858Z",
     "shell.execute_reply": "2023-02-20T18:47:29.247054Z"
    },
    "papermill": {
     "duration": 0.134277,
     "end_time": "2023-02-20T18:47:29.250308",
     "exception": false,
     "start_time": "2023-02-20T18:47:29.116031",
     "status": "completed"
    },
    "tags": []
   },
   "outputs": [],
   "source": [
    "# LASSO\n",
    "L1 = linear_model.Lasso()\n",
    "L1.fit(x_train,y_train)\n",
    "y_pred1 = L1.predict(x_test)"
   ]
  },
  {
   "cell_type": "code",
   "execution_count": 197,
   "id": "6e7b7b9c",
   "metadata": {
    "execution": {
     "iopub.execute_input": "2023-02-20T18:47:29.394217Z",
     "iopub.status.busy": "2023-02-20T18:47:29.393869Z",
     "iopub.status.idle": "2023-02-20T18:47:29.400355Z",
     "shell.execute_reply": "2023-02-20T18:47:29.399514Z"
    },
    "papermill": {
     "duration": 0.075881,
     "end_time": "2023-02-20T18:47:29.402200",
     "exception": false,
     "start_time": "2023-02-20T18:47:29.326319",
     "status": "completed"
    },
    "tags": []
   },
   "outputs": [
    {
     "data": {
      "text/plain": [
       "0.730292669976124"
      ]
     },
     "execution_count": 197,
     "metadata": {},
     "output_type": "execute_result"
    }
   ],
   "source": [
    "r2 = r2_score(y_test, y_pred1)\n",
    "r2 \n"
   ]
  },
  {
   "cell_type": "code",
   "execution_count": 198,
   "id": "3b1a755f",
   "metadata": {
    "execution": {
     "iopub.execute_input": "2023-02-20T18:47:29.521553Z",
     "iopub.status.busy": "2023-02-20T18:47:29.520663Z",
     "iopub.status.idle": "2023-02-20T18:47:29.527095Z",
     "shell.execute_reply": "2023-02-20T18:47:29.526413Z"
    },
    "papermill": {
     "duration": 0.068622,
     "end_time": "2023-02-20T18:47:29.528800",
     "exception": false,
     "start_time": "2023-02-20T18:47:29.460178",
     "status": "completed"
    },
    "tags": []
   },
   "outputs": [
    {
     "data": {
      "text/plain": [
       "2.380819108363997"
      ]
     },
     "execution_count": 198,
     "metadata": {},
     "output_type": "execute_result"
    }
   ],
   "source": [
    "# calculate the MAE of the model\n",
    "mae = mean_absolute_error(y_test, y_pred1)\n",
    "mae"
   ]
  },
  {
   "cell_type": "code",
   "execution_count": 199,
   "id": "f2e70e33",
   "metadata": {
    "execution": {
     "iopub.execute_input": "2023-02-20T18:47:29.647754Z",
     "iopub.status.busy": "2023-02-20T18:47:29.647233Z",
     "iopub.status.idle": "2023-02-20T18:47:29.654288Z",
     "shell.execute_reply": "2023-02-20T18:47:29.653035Z"
    },
    "papermill": {
     "duration": 0.069191,
     "end_time": "2023-02-20T18:47:29.656491",
     "exception": false,
     "start_time": "2023-02-20T18:47:29.587300",
     "status": "completed"
    },
    "tags": []
   },
   "outputs": [
    {
     "data": {
      "text/plain": [
       "18.123776344182055"
      ]
     },
     "execution_count": 199,
     "metadata": {},
     "output_type": "execute_result"
    }
   ],
   "source": [
    "# calculate the MSE of the model\n",
    "mse = mean_squared_error(y_test, y_pred1)\n",
    "mse"
   ]
  },
  {
   "cell_type": "code",
   "execution_count": 200,
   "id": "d79445f0",
   "metadata": {
    "execution": {
     "iopub.execute_input": "2023-02-20T18:47:29.776823Z",
     "iopub.status.busy": "2023-02-20T18:47:29.776308Z",
     "iopub.status.idle": "2023-02-20T18:47:29.782985Z",
     "shell.execute_reply": "2023-02-20T18:47:29.782137Z"
    },
    "papermill": {
     "duration": 0.06968,
     "end_time": "2023-02-20T18:47:29.785053",
     "exception": false,
     "start_time": "2023-02-20T18:47:29.715373",
     "status": "completed"
    },
    "tags": []
   },
   "outputs": [
    {
     "data": {
      "text/plain": [
       "4.257202877968356"
      ]
     },
     "execution_count": 200,
     "metadata": {},
     "output_type": "execute_result"
    }
   ],
   "source": [
    "# calculate the RMSE of the model\n",
    "rmse = np.sqrt(mse)\n",
    "rmse"
   ]
  },
  {
   "cell_type": "code",
   "execution_count": 201,
   "id": "cc00da61",
   "metadata": {
    "execution": {
     "iopub.execute_input": "2023-02-20T18:47:29.905500Z",
     "iopub.status.busy": "2023-02-20T18:47:29.904944Z",
     "iopub.status.idle": "2023-02-20T18:47:29.924947Z",
     "shell.execute_reply": "2023-02-20T18:47:29.924210Z"
    },
    "papermill": {
     "duration": 0.082798,
     "end_time": "2023-02-20T18:47:29.927171",
     "exception": false,
     "start_time": "2023-02-20T18:47:29.844373",
     "status": "completed"
    },
    "tags": []
   },
   "outputs": [],
   "source": [
    "# Ridge\n",
    "L2 = Ridge(alpha=1.0)\n",
    "L2.fit(x_train, y_train) \n",
    "y_pred3 = L2.predict(x_test)"
   ]
  },
  {
   "cell_type": "code",
   "execution_count": 202,
   "id": "25dffbaf",
   "metadata": {
    "execution": {
     "iopub.execute_input": "2023-02-20T18:47:30.072555Z",
     "iopub.status.busy": "2023-02-20T18:47:30.072220Z",
     "iopub.status.idle": "2023-02-20T18:47:30.079959Z",
     "shell.execute_reply": "2023-02-20T18:47:30.079144Z"
    },
    "papermill": {
     "duration": 0.078913,
     "end_time": "2023-02-20T18:47:30.082597",
     "exception": false,
     "start_time": "2023-02-20T18:47:30.003684",
     "status": "completed"
    },
    "tags": []
   },
   "outputs": [
    {
     "data": {
      "text/plain": [
       "0.7478105537618742"
      ]
     },
     "execution_count": 202,
     "metadata": {},
     "output_type": "execute_result"
    }
   ],
   "source": [
    "r2 = r2_score(y_test, y_pred3)\n",
    "r2 "
   ]
  },
  {
   "cell_type": "code",
   "execution_count": 203,
   "id": "ff959f9c",
   "metadata": {
    "execution": {
     "iopub.execute_input": "2023-02-20T18:47:30.204967Z",
     "iopub.status.busy": "2023-02-20T18:47:30.204565Z",
     "iopub.status.idle": "2023-02-20T18:47:30.213933Z",
     "shell.execute_reply": "2023-02-20T18:47:30.212591Z"
    },
    "papermill": {
     "duration": 0.074419,
     "end_time": "2023-02-20T18:47:30.216569",
     "exception": false,
     "start_time": "2023-02-20T18:47:30.142150",
     "status": "completed"
    },
    "tags": []
   },
   "outputs": [
    {
     "data": {
      "text/plain": [
       "2.3204943412883794"
      ]
     },
     "execution_count": 203,
     "metadata": {},
     "output_type": "execute_result"
    }
   ],
   "source": [
    "# calculate the MAE of the model\n",
    "mae = mean_absolute_error(y_test, y_pred3)\n",
    "mae"
   ]
  },
  {
   "cell_type": "code",
   "execution_count": 204,
   "id": "012615fb",
   "metadata": {
    "execution": {
     "iopub.execute_input": "2023-02-20T18:47:30.337808Z",
     "iopub.status.busy": "2023-02-20T18:47:30.337462Z",
     "iopub.status.idle": "2023-02-20T18:47:30.345894Z",
     "shell.execute_reply": "2023-02-20T18:47:30.344800Z"
    },
    "papermill": {
     "duration": 0.071911,
     "end_time": "2023-02-20T18:47:30.348720",
     "exception": false,
     "start_time": "2023-02-20T18:47:30.276809",
     "status": "completed"
    },
    "tags": []
   },
   "outputs": [
    {
     "data": {
      "text/plain": [
       "16.946610681950318"
      ]
     },
     "execution_count": 204,
     "metadata": {},
     "output_type": "execute_result"
    }
   ],
   "source": [
    "# calculate the MSE of the model\n",
    "mse = mean_squared_error(y_test, y_pred3)\n",
    "mse"
   ]
  },
  {
   "cell_type": "code",
   "execution_count": 205,
   "id": "7737d3e3",
   "metadata": {
    "execution": {
     "iopub.execute_input": "2023-02-20T18:47:30.471464Z",
     "iopub.status.busy": "2023-02-20T18:47:30.471137Z",
     "iopub.status.idle": "2023-02-20T18:47:30.478123Z",
     "shell.execute_reply": "2023-02-20T18:47:30.476919Z"
    },
    "papermill": {
     "duration": 0.070759,
     "end_time": "2023-02-20T18:47:30.480669",
     "exception": false,
     "start_time": "2023-02-20T18:47:30.409910",
     "status": "completed"
    },
    "tags": []
   },
   "outputs": [
    {
     "data": {
      "text/plain": [
       "4.116626128512318"
      ]
     },
     "execution_count": 205,
     "metadata": {},
     "output_type": "execute_result"
    }
   ],
   "source": [
    "# calculate the RMSE of the model\n",
    "rmse = np.sqrt(mse)\n",
    "rmse"
   ]
  },
  {
   "cell_type": "markdown",
   "id": "f7d2c40d",
   "metadata": {
    "papermill": {
     "duration": 0.058123,
     "end_time": "2023-02-20T18:47:30.599422",
     "exception": false,
     "start_time": "2023-02-20T18:47:30.541299",
     "status": "completed"
    },
    "tags": []
   },
   "source": [
    "Clent 2 : St Josephs Hospital Health Center"
   ]
  },
  {
   "cell_type": "code",
   "execution_count": 206,
   "id": "7ce1ce05",
   "metadata": {
    "execution": {
     "iopub.execute_input": "2023-02-20T18:47:30.717863Z",
     "iopub.status.busy": "2023-02-20T18:47:30.717523Z",
     "iopub.status.idle": "2023-02-20T18:47:30.860307Z",
     "shell.execute_reply": "2023-02-20T18:47:30.858910Z"
    },
    "papermill": {
     "duration": 0.204634,
     "end_time": "2023-02-20T18:47:30.862518",
     "exception": false,
     "start_time": "2023-02-20T18:47:30.657884",
     "status": "completed"
    },
    "tags": []
   },
   "outputs": [],
   "source": [
    "Josephs_df=df[df[\"Facility Name\"]== 'St Josephs Hospital Health Center']"
   ]
  },
  {
   "cell_type": "code",
   "execution_count": 207,
   "id": "b106b96b",
   "metadata": {
    "execution": {
     "iopub.execute_input": "2023-02-20T18:47:30.985443Z",
     "iopub.status.busy": "2023-02-20T18:47:30.985021Z",
     "iopub.status.idle": "2023-02-20T18:47:30.993994Z",
     "shell.execute_reply": "2023-02-20T18:47:30.992593Z"
    },
    "papermill": {
     "duration": 0.073821,
     "end_time": "2023-02-20T18:47:30.996174",
     "exception": false,
     "start_time": "2023-02-20T18:47:30.922353",
     "status": "completed"
    },
    "tags": []
   },
   "outputs": [
    {
     "name": "stderr",
     "output_type": "stream",
     "text": [
      "/opt/conda/lib/python3.7/site-packages/ipykernel_launcher.py:3: SettingWithCopyWarning: \n",
      "A value is trying to be set on a copy of a slice from a DataFrame.\n",
      "Try using .loc[row_indexer,col_indexer] = value instead\n",
      "\n",
      "See the caveats in the documentation: https://pandas.pydata.org/pandas-docs/stable/user_guide/indexing.html#returning-a-view-versus-a-copy\n",
      "  This is separate from the ipykernel package so we can avoid doing imports until\n",
      "/opt/conda/lib/python3.7/site-packages/ipykernel_launcher.py:5: SettingWithCopyWarning: \n",
      "A value is trying to be set on a copy of a slice from a DataFrame.\n",
      "Try using .loc[row_indexer,col_indexer] = value instead\n",
      "\n",
      "See the caveats in the documentation: https://pandas.pydata.org/pandas-docs/stable/user_guide/indexing.html#returning-a-view-versus-a-copy\n",
      "  \"\"\"\n"
     ]
    }
   ],
   "source": [
    "#   simple mapping on binary features.\n",
    "Josephs_df['Abortion Edit Indicator'] = Josephs_df['Abortion Edit Indicator'].apply(\n",
    "     lambda x: 1 if x == 'Y' else (0 if x == 'N' else None))\n",
    "Josephs_df['Emergency Department Indicator'] = Josephs_df['Emergency Department Indicator'].apply(\n",
    "    lambda x: 1 if x == 'Y' else (0 if x == 'N' else None))"
   ]
  },
  {
   "cell_type": "code",
   "execution_count": 208,
   "id": "7994a507",
   "metadata": {
    "execution": {
     "iopub.execute_input": "2023-02-20T18:47:31.120270Z",
     "iopub.status.busy": "2023-02-20T18:47:31.119606Z",
     "iopub.status.idle": "2023-02-20T18:47:31.214653Z",
     "shell.execute_reply": "2023-02-20T18:47:31.213277Z"
    },
    "papermill": {
     "duration": 0.161892,
     "end_time": "2023-02-20T18:47:31.217675",
     "exception": false,
     "start_time": "2023-02-20T18:47:31.055783",
     "status": "completed"
    },
    "tags": []
   },
   "outputs": [
    {
     "name": "stderr",
     "output_type": "stream",
     "text": [
      "/opt/conda/lib/python3.7/site-packages/ipykernel_launcher.py:29: SettingWithCopyWarning: \n",
      "A value is trying to be set on a copy of a slice from a DataFrame.\n",
      "Try using .loc[row_indexer,col_indexer] = value instead\n",
      "\n",
      "See the caveats in the documentation: https://pandas.pydata.org/pandas-docs/stable/user_guide/indexing.html#returning-a-view-versus-a-copy\n"
     ]
    }
   ],
   "source": [
    "list=  [ \"Hospital County\",\"Age Group\"\n",
    "    ,\"Gender\",   \n",
    " \"Race\" , \n",
    "\"Ethnicity\", \n",
    "\"Gender\" , \n",
    "\"Race\" ,    \n",
    " \"Ethnicity\" ,        \n",
    " \"Type of Admission\"  ,  \n",
    "  \"Patient Disposition\",      \n",
    " \"Type of Admission\" ,  \n",
    " \"Patient Disposition\"  ,\n",
    "  \"APR Risk of Mortality\" ,   \n",
    " \"APR Medical Surgical Description\" ,\n",
    " \"Payment Typology 1\"   ,   \n",
    " \"Abortion Edit Indicator\"     ,  \n",
    " \"Emergency Department Indicator\",\n",
    "       \"Zip Code - 3 digits\",\"Payment Typology 2\"        \n",
    "   ,\"Payment Typology 3\"]  \n",
    "\n",
    "# Import label encoder\n",
    "from sklearn import preprocessing\n",
    "  \n",
    "# label_encoder object knows how to understand word labels.        \n",
    "   \n",
    "label_encoder = preprocessing.LabelEncoder()\n",
    "  \n",
    "# Encode labels in column 'species'. \n",
    "for col in list :\n",
    "    Josephs_df[col]= label_encoder.fit_transform(Josephs_df[col])"
   ]
  },
  {
   "cell_type": "code",
   "execution_count": 209,
   "id": "45ac7bc9",
   "metadata": {
    "execution": {
     "iopub.execute_input": "2023-02-20T18:47:31.343572Z",
     "iopub.status.busy": "2023-02-20T18:47:31.342407Z",
     "iopub.status.idle": "2023-02-20T18:47:31.351002Z",
     "shell.execute_reply": "2023-02-20T18:47:31.350119Z"
    },
    "papermill": {
     "duration": 0.072729,
     "end_time": "2023-02-20T18:47:31.353191",
     "exception": false,
     "start_time": "2023-02-20T18:47:31.280462",
     "status": "completed"
    },
    "tags": []
   },
   "outputs": [],
   "source": [
    "Josephs_df=Josephs_df.drop(\"Facility Name\", axis=1)\n"
   ]
  },
  {
   "cell_type": "code",
   "execution_count": 210,
   "id": "24cba1b7",
   "metadata": {
    "execution": {
     "iopub.execute_input": "2023-02-20T18:47:31.476473Z",
     "iopub.status.busy": "2023-02-20T18:47:31.476116Z",
     "iopub.status.idle": "2023-02-20T18:47:31.492225Z",
     "shell.execute_reply": "2023-02-20T18:47:31.491237Z"
    },
    "papermill": {
     "duration": 0.080141,
     "end_time": "2023-02-20T18:47:31.494885",
     "exception": false,
     "start_time": "2023-02-20T18:47:31.414744",
     "status": "completed"
    },
    "tags": []
   },
   "outputs": [],
   "source": [
    "Josephs_df[\"Length of Stay\"]=pd.to_numeric(Josephs_df[\"Length of Stay\"],errors='coerce')\n"
   ]
  },
  {
   "cell_type": "code",
   "execution_count": 211,
   "id": "df5e8d79",
   "metadata": {
    "execution": {
     "iopub.execute_input": "2023-02-20T18:47:31.620855Z",
     "iopub.status.busy": "2023-02-20T18:47:31.618870Z",
     "iopub.status.idle": "2023-02-20T18:47:31.629900Z",
     "shell.execute_reply": "2023-02-20T18:47:31.629149Z"
    },
    "papermill": {
     "duration": 0.076641,
     "end_time": "2023-02-20T18:47:31.632272",
     "exception": false,
     "start_time": "2023-02-20T18:47:31.555631",
     "status": "completed"
    },
    "tags": []
   },
   "outputs": [],
   "source": [
    "Josephs_df.dropna(inplace=True)"
   ]
  },
  {
   "cell_type": "code",
   "execution_count": 212,
   "id": "fea2dc30",
   "metadata": {
    "execution": {
     "iopub.execute_input": "2023-02-20T18:47:31.757508Z",
     "iopub.status.busy": "2023-02-20T18:47:31.756898Z",
     "iopub.status.idle": "2023-02-20T18:47:31.769681Z",
     "shell.execute_reply": "2023-02-20T18:47:31.768607Z"
    },
    "papermill": {
     "duration": 0.078468,
     "end_time": "2023-02-20T18:47:31.772020",
     "exception": false,
     "start_time": "2023-02-20T18:47:31.693552",
     "status": "completed"
    },
    "tags": []
   },
   "outputs": [
    {
     "name": "stdout",
     "output_type": "stream",
     "text": [
      "<class 'pandas.core.frame.DataFrame'>\n",
      "Int64Index: 25626 entries, 355968 to 433177\n",
      "Data columns (total 27 columns):\n",
      " #   Column                            Non-Null Count  Dtype  \n",
      "---  ------                            --------------  -----  \n",
      " 0   Hospital County                   25626 non-null  int64  \n",
      " 1   Operating Certificate Number      25626 non-null  float64\n",
      " 2   Facility Id                       25626 non-null  float64\n",
      " 3   Age Group                         25626 non-null  int64  \n",
      " 4   Zip Code - 3 digits               25626 non-null  int64  \n",
      " 5   Gender                            25626 non-null  int64  \n",
      " 6   Race                              25626 non-null  int64  \n",
      " 7   Ethnicity                         25626 non-null  int64  \n",
      " 8   Length of Stay                    25626 non-null  float64\n",
      " 9   Type of Admission                 25626 non-null  int64  \n",
      " 10  Patient Disposition               25626 non-null  int64  \n",
      " 11  Discharge Year                    25626 non-null  int64  \n",
      " 12  CCS Diagnosis Code                25626 non-null  int64  \n",
      " 13  CCS Procedure Code                25626 non-null  int64  \n",
      " 14  APR DRG Code                      25626 non-null  int64  \n",
      " 15  APR MDC Code                      25626 non-null  int64  \n",
      " 16  APR Severity of Illness Code      25626 non-null  int64  \n",
      " 17  APR Risk of Mortality             25626 non-null  int64  \n",
      " 18  APR Medical Surgical Description  25626 non-null  int64  \n",
      " 19  Payment Typology 1                25626 non-null  int64  \n",
      " 20  Payment Typology 2                25626 non-null  int64  \n",
      " 21  Payment Typology 3                25626 non-null  int64  \n",
      " 22  Birth Weight                      25626 non-null  int64  \n",
      " 23  Abortion Edit Indicator           25626 non-null  int64  \n",
      " 24  Emergency Department Indicator    25626 non-null  int64  \n",
      " 25  Total Charges                     25626 non-null  float64\n",
      " 26  Total Costs                       25626 non-null  float64\n",
      "dtypes: float64(5), int64(22)\n",
      "memory usage: 5.5 MB\n"
     ]
    }
   ],
   "source": [
    "Josephs_df.info()"
   ]
  },
  {
   "cell_type": "code",
   "execution_count": 213,
   "id": "05a20e8e",
   "metadata": {
    "execution": {
     "iopub.execute_input": "2023-02-20T18:47:31.894957Z",
     "iopub.status.busy": "2023-02-20T18:47:31.894395Z",
     "iopub.status.idle": "2023-02-20T18:47:31.900394Z",
     "shell.execute_reply": "2023-02-20T18:47:31.899205Z"
    },
    "papermill": {
     "duration": 0.069414,
     "end_time": "2023-02-20T18:47:31.902437",
     "exception": false,
     "start_time": "2023-02-20T18:47:31.833023",
     "status": "completed"
    },
    "tags": []
   },
   "outputs": [],
   "source": [
    "x = Josephs_df.drop([\"Length of Stay\"], axis =1)\n",
    "y = Josephs_df[\"Length of Stay\"]"
   ]
  },
  {
   "cell_type": "code",
   "execution_count": 214,
   "id": "98c2fbb8",
   "metadata": {
    "execution": {
     "iopub.execute_input": "2023-02-20T18:47:32.025643Z",
     "iopub.status.busy": "2023-02-20T18:47:32.025107Z",
     "iopub.status.idle": "2023-02-20T18:47:32.035340Z",
     "shell.execute_reply": "2023-02-20T18:47:32.034596Z"
    },
    "papermill": {
     "duration": 0.074199,
     "end_time": "2023-02-20T18:47:32.037417",
     "exception": false,
     "start_time": "2023-02-20T18:47:31.963218",
     "status": "completed"
    },
    "tags": []
   },
   "outputs": [],
   "source": [
    "from sklearn.model_selection import train_test_split\n",
    "x_train, x_test, y_train, y_test = train_test_split(x, y, test_size=0.3, random_state=42)"
   ]
  },
  {
   "cell_type": "code",
   "execution_count": 215,
   "id": "d352cf47",
   "metadata": {
    "execution": {
     "iopub.execute_input": "2023-02-20T18:47:32.158273Z",
     "iopub.status.busy": "2023-02-20T18:47:32.157736Z",
     "iopub.status.idle": "2023-02-20T18:47:32.176645Z",
     "shell.execute_reply": "2023-02-20T18:47:32.175863Z"
    },
    "papermill": {
     "duration": 0.082304,
     "end_time": "2023-02-20T18:47:32.179128",
     "exception": false,
     "start_time": "2023-02-20T18:47:32.096824",
     "status": "completed"
    },
    "tags": []
   },
   "outputs": [],
   "source": [
    "# Linear Regression\n",
    "\n",
    "LR = LinearRegression()\n",
    "LR.fit(x_train, y_train)\n",
    "LR.score(x_train, y_train)\n",
    "y_pred =LR.predict(x_test)"
   ]
  },
  {
   "cell_type": "code",
   "execution_count": 216,
   "id": "250f854f",
   "metadata": {
    "execution": {
     "iopub.execute_input": "2023-02-20T18:47:32.335990Z",
     "iopub.status.busy": "2023-02-20T18:47:32.335642Z",
     "iopub.status.idle": "2023-02-20T18:47:32.343109Z",
     "shell.execute_reply": "2023-02-20T18:47:32.341930Z"
    },
    "papermill": {
     "duration": 0.076973,
     "end_time": "2023-02-20T18:47:32.345533",
     "exception": false,
     "start_time": "2023-02-20T18:47:32.268560",
     "status": "completed"
    },
    "tags": []
   },
   "outputs": [
    {
     "data": {
      "text/plain": [
       "0.6574754436024834"
      ]
     },
     "execution_count": 216,
     "metadata": {},
     "output_type": "execute_result"
    }
   ],
   "source": [
    "r2 = r2_score(y_test, y_pred)\n",
    "r2"
   ]
  },
  {
   "cell_type": "code",
   "execution_count": 217,
   "id": "f8e1f0be",
   "metadata": {
    "execution": {
     "iopub.execute_input": "2023-02-20T18:47:32.467595Z",
     "iopub.status.busy": "2023-02-20T18:47:32.467253Z",
     "iopub.status.idle": "2023-02-20T18:47:32.475262Z",
     "shell.execute_reply": "2023-02-20T18:47:32.474201Z"
    },
    "papermill": {
     "duration": 0.071968,
     "end_time": "2023-02-20T18:47:32.477764",
     "exception": false,
     "start_time": "2023-02-20T18:47:32.405796",
     "status": "completed"
    },
    "tags": []
   },
   "outputs": [
    {
     "data": {
      "text/plain": [
       "2.0719697846829397"
      ]
     },
     "execution_count": 217,
     "metadata": {},
     "output_type": "execute_result"
    }
   ],
   "source": [
    "# calculate the MAE of the model\n",
    "mae = mean_absolute_error(y_test, y_pred)\n",
    "mae"
   ]
  },
  {
   "cell_type": "code",
   "execution_count": 218,
   "id": "eec054bc",
   "metadata": {
    "execution": {
     "iopub.execute_input": "2023-02-20T18:47:32.600640Z",
     "iopub.status.busy": "2023-02-20T18:47:32.598907Z",
     "iopub.status.idle": "2023-02-20T18:47:32.606505Z",
     "shell.execute_reply": "2023-02-20T18:47:32.605785Z"
    },
    "papermill": {
     "duration": 0.07016,
     "end_time": "2023-02-20T18:47:32.608279",
     "exception": false,
     "start_time": "2023-02-20T18:47:32.538119",
     "status": "completed"
    },
    "tags": []
   },
   "outputs": [
    {
     "data": {
      "text/plain": [
       "13.044654985643254"
      ]
     },
     "execution_count": 218,
     "metadata": {},
     "output_type": "execute_result"
    }
   ],
   "source": [
    "# calculate the MSE of the model\n",
    "mse = mean_squared_error(y_test, y_pred)\n",
    "mse"
   ]
  },
  {
   "cell_type": "code",
   "execution_count": 219,
   "id": "ceab9f46",
   "metadata": {
    "execution": {
     "iopub.execute_input": "2023-02-20T18:47:32.730420Z",
     "iopub.status.busy": "2023-02-20T18:47:32.729449Z",
     "iopub.status.idle": "2023-02-20T18:47:32.735882Z",
     "shell.execute_reply": "2023-02-20T18:47:32.734591Z"
    },
    "papermill": {
     "duration": 0.071017,
     "end_time": "2023-02-20T18:47:32.738468",
     "exception": false,
     "start_time": "2023-02-20T18:47:32.667451",
     "status": "completed"
    },
    "tags": []
   },
   "outputs": [
    {
     "data": {
      "text/plain": [
       "3.6117384990670702"
      ]
     },
     "execution_count": 219,
     "metadata": {},
     "output_type": "execute_result"
    }
   ],
   "source": [
    "# calculate the RMSE of the model\n",
    "rmse = np.sqrt(mse)\n",
    "rmse"
   ]
  },
  {
   "cell_type": "code",
   "execution_count": 220,
   "id": "e4213720",
   "metadata": {
    "execution": {
     "iopub.execute_input": "2023-02-20T18:47:32.860351Z",
     "iopub.status.busy": "2023-02-20T18:47:32.859994Z",
     "iopub.status.idle": "2023-02-20T18:47:32.884032Z",
     "shell.execute_reply": "2023-02-20T18:47:32.883192Z"
    },
    "papermill": {
     "duration": 0.088197,
     "end_time": "2023-02-20T18:47:32.886604",
     "exception": false,
     "start_time": "2023-02-20T18:47:32.798407",
     "status": "completed"
    },
    "tags": []
   },
   "outputs": [],
   "source": [
    "# LASSO\n",
    "L1 = linear_model.Lasso()\n",
    "L1.fit(x_train,y_train)\n",
    "y_pred1 = L1.predict(x_test)"
   ]
  },
  {
   "cell_type": "code",
   "execution_count": 221,
   "id": "ac6ff0b2",
   "metadata": {
    "execution": {
     "iopub.execute_input": "2023-02-20T18:47:33.034564Z",
     "iopub.status.busy": "2023-02-20T18:47:33.033290Z",
     "iopub.status.idle": "2023-02-20T18:47:33.041998Z",
     "shell.execute_reply": "2023-02-20T18:47:33.041113Z"
    },
    "papermill": {
     "duration": 0.080172,
     "end_time": "2023-02-20T18:47:33.043952",
     "exception": false,
     "start_time": "2023-02-20T18:47:32.963780",
     "status": "completed"
    },
    "tags": []
   },
   "outputs": [
    {
     "data": {
      "text/plain": [
       "0.5810415145070502"
      ]
     },
     "execution_count": 221,
     "metadata": {},
     "output_type": "execute_result"
    }
   ],
   "source": [
    "r2 = r2_score(y_test, y_pred1)\n",
    "r2 "
   ]
  },
  {
   "cell_type": "code",
   "execution_count": 222,
   "id": "8e8a5115",
   "metadata": {
    "execution": {
     "iopub.execute_input": "2023-02-20T18:47:33.168737Z",
     "iopub.status.busy": "2023-02-20T18:47:33.168149Z",
     "iopub.status.idle": "2023-02-20T18:47:33.174719Z",
     "shell.execute_reply": "2023-02-20T18:47:33.173590Z"
    },
    "papermill": {
     "duration": 0.071787,
     "end_time": "2023-02-20T18:47:33.177488",
     "exception": false,
     "start_time": "2023-02-20T18:47:33.105701",
     "status": "completed"
    },
    "tags": []
   },
   "outputs": [
    {
     "data": {
      "text/plain": [
       "2.455629978876319"
      ]
     },
     "execution_count": 222,
     "metadata": {},
     "output_type": "execute_result"
    }
   ],
   "source": [
    "# calculate the MAE of the model\n",
    "mae = mean_absolute_error(y_test, y_pred1)\n",
    "mae"
   ]
  },
  {
   "cell_type": "code",
   "execution_count": 223,
   "id": "a46800e8",
   "metadata": {
    "execution": {
     "iopub.execute_input": "2023-02-20T18:47:33.298912Z",
     "iopub.status.busy": "2023-02-20T18:47:33.298584Z",
     "iopub.status.idle": "2023-02-20T18:47:33.305913Z",
     "shell.execute_reply": "2023-02-20T18:47:33.305030Z"
    },
    "papermill": {
     "duration": 0.0697,
     "end_time": "2023-02-20T18:47:33.307625",
     "exception": false,
     "start_time": "2023-02-20T18:47:33.237925",
     "status": "completed"
    },
    "tags": []
   },
   "outputs": [
    {
     "data": {
      "text/plain": [
       "15.95555353473856"
      ]
     },
     "execution_count": 223,
     "metadata": {},
     "output_type": "execute_result"
    }
   ],
   "source": [
    "# calculate the MSE of the model\n",
    "mse = mean_squared_error(y_test, y_pred1)\n",
    "mse"
   ]
  },
  {
   "cell_type": "code",
   "execution_count": 224,
   "id": "cb5456b5",
   "metadata": {
    "execution": {
     "iopub.execute_input": "2023-02-20T18:47:33.428238Z",
     "iopub.status.busy": "2023-02-20T18:47:33.427893Z",
     "iopub.status.idle": "2023-02-20T18:47:33.433556Z",
     "shell.execute_reply": "2023-02-20T18:47:33.432806Z"
    },
    "papermill": {
     "duration": 0.06789,
     "end_time": "2023-02-20T18:47:33.435302",
     "exception": false,
     "start_time": "2023-02-20T18:47:33.367412",
     "status": "completed"
    },
    "tags": []
   },
   "outputs": [
    {
     "data": {
      "text/plain": [
       "3.994440328098363"
      ]
     },
     "execution_count": 224,
     "metadata": {},
     "output_type": "execute_result"
    }
   ],
   "source": [
    "# calculate the RMSE of the model\n",
    "rmse = np.sqrt(mse)\n",
    "rmse"
   ]
  },
  {
   "cell_type": "code",
   "execution_count": 225,
   "id": "a234f182",
   "metadata": {
    "execution": {
     "iopub.execute_input": "2023-02-20T18:47:33.557492Z",
     "iopub.status.busy": "2023-02-20T18:47:33.557182Z",
     "iopub.status.idle": "2023-02-20T18:47:33.576517Z",
     "shell.execute_reply": "2023-02-20T18:47:33.575709Z"
    },
    "papermill": {
     "duration": 0.083112,
     "end_time": "2023-02-20T18:47:33.578997",
     "exception": false,
     "start_time": "2023-02-20T18:47:33.495885",
     "status": "completed"
    },
    "tags": []
   },
   "outputs": [],
   "source": [
    "# Ridge\n",
    "L2 = Ridge(alpha=1.0)\n",
    "L2.fit(x_train, y_train) \n",
    "y_pred3 = L2.predict(x_test)"
   ]
  },
  {
   "cell_type": "code",
   "execution_count": 226,
   "id": "6c6487c3",
   "metadata": {
    "execution": {
     "iopub.execute_input": "2023-02-20T18:47:33.728386Z",
     "iopub.status.busy": "2023-02-20T18:47:33.728003Z",
     "iopub.status.idle": "2023-02-20T18:47:33.733724Z",
     "shell.execute_reply": "2023-02-20T18:47:33.733117Z"
    },
    "papermill": {
     "duration": 0.076983,
     "end_time": "2023-02-20T18:47:33.735403",
     "exception": false,
     "start_time": "2023-02-20T18:47:33.658420",
     "status": "completed"
    },
    "tags": []
   },
   "outputs": [
    {
     "data": {
      "text/plain": [
       "0.6574730902842871"
      ]
     },
     "execution_count": 226,
     "metadata": {},
     "output_type": "execute_result"
    }
   ],
   "source": [
    "r2 = r2_score(y_test, y_pred3)\n",
    "r2 "
   ]
  },
  {
   "cell_type": "code",
   "execution_count": 227,
   "id": "82981b10",
   "metadata": {
    "execution": {
     "iopub.execute_input": "2023-02-20T18:47:33.858915Z",
     "iopub.status.busy": "2023-02-20T18:47:33.858314Z",
     "iopub.status.idle": "2023-02-20T18:47:33.863969Z",
     "shell.execute_reply": "2023-02-20T18:47:33.863270Z"
    },
    "papermill": {
     "duration": 0.070227,
     "end_time": "2023-02-20T18:47:33.866558",
     "exception": false,
     "start_time": "2023-02-20T18:47:33.796331",
     "status": "completed"
    },
    "tags": []
   },
   "outputs": [
    {
     "data": {
      "text/plain": [
       "2.071950047482412"
      ]
     },
     "execution_count": 227,
     "metadata": {},
     "output_type": "execute_result"
    }
   ],
   "source": [
    "# calculate the MAE of the model\n",
    "mae = mean_absolute_error(y_test, y_pred3)\n",
    "mae"
   ]
  },
  {
   "cell_type": "code",
   "execution_count": 228,
   "id": "8a6c5cb4",
   "metadata": {
    "execution": {
     "iopub.execute_input": "2023-02-20T18:47:33.990110Z",
     "iopub.status.busy": "2023-02-20T18:47:33.989492Z",
     "iopub.status.idle": "2023-02-20T18:47:33.995037Z",
     "shell.execute_reply": "2023-02-20T18:47:33.994422Z"
    },
    "papermill": {
     "duration": 0.069103,
     "end_time": "2023-02-20T18:47:33.996754",
     "exception": false,
     "start_time": "2023-02-20T18:47:33.927651",
     "status": "completed"
    },
    "tags": []
   },
   "outputs": [
    {
     "data": {
      "text/plain": [
       "13.0447446090684"
      ]
     },
     "execution_count": 228,
     "metadata": {},
     "output_type": "execute_result"
    }
   ],
   "source": [
    "# calculate the MSE of the model\n",
    "mse = mean_squared_error(y_test, y_pred3)\n",
    "mse"
   ]
  },
  {
   "cell_type": "code",
   "execution_count": 229,
   "id": "e72b1bb0",
   "metadata": {
    "execution": {
     "iopub.execute_input": "2023-02-20T18:47:34.120668Z",
     "iopub.status.busy": "2023-02-20T18:47:34.120132Z",
     "iopub.status.idle": "2023-02-20T18:47:34.125527Z",
     "shell.execute_reply": "2023-02-20T18:47:34.124490Z"
    },
    "papermill": {
     "duration": 0.069008,
     "end_time": "2023-02-20T18:47:34.127737",
     "exception": false,
     "start_time": "2023-02-20T18:47:34.058729",
     "status": "completed"
    },
    "tags": []
   },
   "outputs": [
    {
     "data": {
      "text/plain": [
       "3.6117509062874755"
      ]
     },
     "execution_count": 229,
     "metadata": {},
     "output_type": "execute_result"
    }
   ],
   "source": [
    "# calculate the RMSE of the model\n",
    "rmse = np.sqrt(mse)\n",
    "rmse"
   ]
  },
  {
   "cell_type": "code",
   "execution_count": null,
   "id": "e03499a1",
   "metadata": {
    "papermill": {
     "duration": 0.061539,
     "end_time": "2023-02-20T18:47:34.250891",
     "exception": false,
     "start_time": "2023-02-20T18:47:34.189352",
     "status": "completed"
    },
    "tags": []
   },
   "outputs": [],
   "source": []
  }
 ],
 "metadata": {
  "kernelspec": {
   "display_name": "Python 3",
   "language": "python",
   "name": "python3"
  },
  "language_info": {
   "codemirror_mode": {
    "name": "ipython",
    "version": 3
   },
   "file_extension": ".py",
   "mimetype": "text/x-python",
   "name": "python",
   "nbconvert_exporter": "python",
   "pygments_lexer": "ipython3",
   "version": "3.7.12"
  },
  "papermill": {
   "default_parameters": {},
   "duration": 72.845486,
   "end_time": "2023-02-20T18:47:35.234269",
   "environment_variables": {},
   "exception": null,
   "input_path": "__notebook__.ipynb",
   "output_path": "__notebook__.ipynb",
   "parameters": {},
   "start_time": "2023-02-20T18:46:22.388783",
   "version": "2.3.4"
  }
 },
 "nbformat": 4,
 "nbformat_minor": 5
}
